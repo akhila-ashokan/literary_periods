{
 "cells": [
  {
   "cell_type": "code",
   "execution_count": 1,
   "id": "f546919e",
   "metadata": {},
   "outputs": [],
   "source": [
    "import pandas as pd \n",
    "import zipfile\n",
    "import plotly.graph_objects as go\n",
    "import plotly.express as px\n",
    "import pickle as pkl\n",
    "import spacy\n",
    "from nltk.corpus import wordnet\n",
    "from word_forms.word_forms import get_word_forms\n",
    "import collections\n",
    "nlp = spacy.load(\"en_core_web_sm\")"
   ]
  },
  {
   "cell_type": "markdown",
   "id": "f17bc92b",
   "metadata": {},
   "source": [
    "## MetaData"
   ]
  },
  {
   "cell_type": "code",
   "execution_count": 35,
   "id": "c4671ad9",
   "metadata": {},
   "outputs": [
    {
     "data": {
      "text/plain": [
       "Index(['Author', 'Author Birth', 'Author Death', 'Author Given',\n",
       "       'Author Surname', 'Copyright Status', 'Language', 'LoC Class', 'Num',\n",
       "       'Subject', 'Title', 'charset', 'gd-num-padded', 'gd-path', 'href'],\n",
       "      dtype='object')"
      ]
     },
     "execution_count": 35,
     "metadata": {},
     "output_type": "execute_result"
    }
   ],
   "source": [
    "metadata = pd.read_json(\"../data/gutenberg-dammit-files/gutenberg-metadata.json\")\n",
    "metadata.columns"
   ]
  },
  {
   "cell_type": "code",
   "execution_count": 36,
   "id": "bd8c2df2",
   "metadata": {},
   "outputs": [
    {
     "data": {
      "application/vnd.plotly.v1+json": {
       "config": {
        "plotlyServerURL": "https://plot.ly"
       },
       "data": [
        {
         "cells": {
          "values": [
           [
            "Various",
            "Anonymous",
            "None Available",
            "William Shakespeare",
            "Baron Edward Bulwer Lytton Lytton",
            "Georg Ebers",
            "Mark Twain",
            "Unknown",
            "Honoré de Balzac",
            "Gilbert Parker",
            "William Henry Giles Kingston",
            "Jules Verne",
            "George Manville Fenn",
            "Charles Dickens",
            "George Meredith",
            "W. W. (William Wymark) Jacobs",
            "William Dean Howells",
            "John Lothrop Motley",
            "Nathaniel Hawthorne",
            "Robert Louis Stevenson"
           ],
           [
            3424,
            813,
            557,
            305,
            214,
            170,
            169,
            150,
            135,
            134,
            133,
            131,
            128,
            119,
            111,
            111,
            103,
            103,
            99,
            99
           ]
          ]
         },
         "header": {
          "values": [
           "Author",
           "Count"
          ]
         },
         "type": "table"
        }
       ],
       "layout": {
        "template": {
         "data": {
          "bar": [
           {
            "error_x": {
             "color": "#2a3f5f"
            },
            "error_y": {
             "color": "#2a3f5f"
            },
            "marker": {
             "line": {
              "color": "#E5ECF6",
              "width": 0.5
             }
            },
            "type": "bar"
           }
          ],
          "barpolar": [
           {
            "marker": {
             "line": {
              "color": "#E5ECF6",
              "width": 0.5
             }
            },
            "type": "barpolar"
           }
          ],
          "carpet": [
           {
            "aaxis": {
             "endlinecolor": "#2a3f5f",
             "gridcolor": "white",
             "linecolor": "white",
             "minorgridcolor": "white",
             "startlinecolor": "#2a3f5f"
            },
            "baxis": {
             "endlinecolor": "#2a3f5f",
             "gridcolor": "white",
             "linecolor": "white",
             "minorgridcolor": "white",
             "startlinecolor": "#2a3f5f"
            },
            "type": "carpet"
           }
          ],
          "choropleth": [
           {
            "colorbar": {
             "outlinewidth": 0,
             "ticks": ""
            },
            "type": "choropleth"
           }
          ],
          "contour": [
           {
            "colorbar": {
             "outlinewidth": 0,
             "ticks": ""
            },
            "colorscale": [
             [
              0,
              "#0d0887"
             ],
             [
              0.1111111111111111,
              "#46039f"
             ],
             [
              0.2222222222222222,
              "#7201a8"
             ],
             [
              0.3333333333333333,
              "#9c179e"
             ],
             [
              0.4444444444444444,
              "#bd3786"
             ],
             [
              0.5555555555555556,
              "#d8576b"
             ],
             [
              0.6666666666666666,
              "#ed7953"
             ],
             [
              0.7777777777777778,
              "#fb9f3a"
             ],
             [
              0.8888888888888888,
              "#fdca26"
             ],
             [
              1,
              "#f0f921"
             ]
            ],
            "type": "contour"
           }
          ],
          "contourcarpet": [
           {
            "colorbar": {
             "outlinewidth": 0,
             "ticks": ""
            },
            "type": "contourcarpet"
           }
          ],
          "heatmap": [
           {
            "colorbar": {
             "outlinewidth": 0,
             "ticks": ""
            },
            "colorscale": [
             [
              0,
              "#0d0887"
             ],
             [
              0.1111111111111111,
              "#46039f"
             ],
             [
              0.2222222222222222,
              "#7201a8"
             ],
             [
              0.3333333333333333,
              "#9c179e"
             ],
             [
              0.4444444444444444,
              "#bd3786"
             ],
             [
              0.5555555555555556,
              "#d8576b"
             ],
             [
              0.6666666666666666,
              "#ed7953"
             ],
             [
              0.7777777777777778,
              "#fb9f3a"
             ],
             [
              0.8888888888888888,
              "#fdca26"
             ],
             [
              1,
              "#f0f921"
             ]
            ],
            "type": "heatmap"
           }
          ],
          "heatmapgl": [
           {
            "colorbar": {
             "outlinewidth": 0,
             "ticks": ""
            },
            "colorscale": [
             [
              0,
              "#0d0887"
             ],
             [
              0.1111111111111111,
              "#46039f"
             ],
             [
              0.2222222222222222,
              "#7201a8"
             ],
             [
              0.3333333333333333,
              "#9c179e"
             ],
             [
              0.4444444444444444,
              "#bd3786"
             ],
             [
              0.5555555555555556,
              "#d8576b"
             ],
             [
              0.6666666666666666,
              "#ed7953"
             ],
             [
              0.7777777777777778,
              "#fb9f3a"
             ],
             [
              0.8888888888888888,
              "#fdca26"
             ],
             [
              1,
              "#f0f921"
             ]
            ],
            "type": "heatmapgl"
           }
          ],
          "histogram": [
           {
            "marker": {
             "colorbar": {
              "outlinewidth": 0,
              "ticks": ""
             }
            },
            "type": "histogram"
           }
          ],
          "histogram2d": [
           {
            "colorbar": {
             "outlinewidth": 0,
             "ticks": ""
            },
            "colorscale": [
             [
              0,
              "#0d0887"
             ],
             [
              0.1111111111111111,
              "#46039f"
             ],
             [
              0.2222222222222222,
              "#7201a8"
             ],
             [
              0.3333333333333333,
              "#9c179e"
             ],
             [
              0.4444444444444444,
              "#bd3786"
             ],
             [
              0.5555555555555556,
              "#d8576b"
             ],
             [
              0.6666666666666666,
              "#ed7953"
             ],
             [
              0.7777777777777778,
              "#fb9f3a"
             ],
             [
              0.8888888888888888,
              "#fdca26"
             ],
             [
              1,
              "#f0f921"
             ]
            ],
            "type": "histogram2d"
           }
          ],
          "histogram2dcontour": [
           {
            "colorbar": {
             "outlinewidth": 0,
             "ticks": ""
            },
            "colorscale": [
             [
              0,
              "#0d0887"
             ],
             [
              0.1111111111111111,
              "#46039f"
             ],
             [
              0.2222222222222222,
              "#7201a8"
             ],
             [
              0.3333333333333333,
              "#9c179e"
             ],
             [
              0.4444444444444444,
              "#bd3786"
             ],
             [
              0.5555555555555556,
              "#d8576b"
             ],
             [
              0.6666666666666666,
              "#ed7953"
             ],
             [
              0.7777777777777778,
              "#fb9f3a"
             ],
             [
              0.8888888888888888,
              "#fdca26"
             ],
             [
              1,
              "#f0f921"
             ]
            ],
            "type": "histogram2dcontour"
           }
          ],
          "mesh3d": [
           {
            "colorbar": {
             "outlinewidth": 0,
             "ticks": ""
            },
            "type": "mesh3d"
           }
          ],
          "parcoords": [
           {
            "line": {
             "colorbar": {
              "outlinewidth": 0,
              "ticks": ""
             }
            },
            "type": "parcoords"
           }
          ],
          "pie": [
           {
            "automargin": true,
            "type": "pie"
           }
          ],
          "scatter": [
           {
            "marker": {
             "colorbar": {
              "outlinewidth": 0,
              "ticks": ""
             }
            },
            "type": "scatter"
           }
          ],
          "scatter3d": [
           {
            "line": {
             "colorbar": {
              "outlinewidth": 0,
              "ticks": ""
             }
            },
            "marker": {
             "colorbar": {
              "outlinewidth": 0,
              "ticks": ""
             }
            },
            "type": "scatter3d"
           }
          ],
          "scattercarpet": [
           {
            "marker": {
             "colorbar": {
              "outlinewidth": 0,
              "ticks": ""
             }
            },
            "type": "scattercarpet"
           }
          ],
          "scattergeo": [
           {
            "marker": {
             "colorbar": {
              "outlinewidth": 0,
              "ticks": ""
             }
            },
            "type": "scattergeo"
           }
          ],
          "scattergl": [
           {
            "marker": {
             "colorbar": {
              "outlinewidth": 0,
              "ticks": ""
             }
            },
            "type": "scattergl"
           }
          ],
          "scattermapbox": [
           {
            "marker": {
             "colorbar": {
              "outlinewidth": 0,
              "ticks": ""
             }
            },
            "type": "scattermapbox"
           }
          ],
          "scatterpolar": [
           {
            "marker": {
             "colorbar": {
              "outlinewidth": 0,
              "ticks": ""
             }
            },
            "type": "scatterpolar"
           }
          ],
          "scatterpolargl": [
           {
            "marker": {
             "colorbar": {
              "outlinewidth": 0,
              "ticks": ""
             }
            },
            "type": "scatterpolargl"
           }
          ],
          "scatterternary": [
           {
            "marker": {
             "colorbar": {
              "outlinewidth": 0,
              "ticks": ""
             }
            },
            "type": "scatterternary"
           }
          ],
          "surface": [
           {
            "colorbar": {
             "outlinewidth": 0,
             "ticks": ""
            },
            "colorscale": [
             [
              0,
              "#0d0887"
             ],
             [
              0.1111111111111111,
              "#46039f"
             ],
             [
              0.2222222222222222,
              "#7201a8"
             ],
             [
              0.3333333333333333,
              "#9c179e"
             ],
             [
              0.4444444444444444,
              "#bd3786"
             ],
             [
              0.5555555555555556,
              "#d8576b"
             ],
             [
              0.6666666666666666,
              "#ed7953"
             ],
             [
              0.7777777777777778,
              "#fb9f3a"
             ],
             [
              0.8888888888888888,
              "#fdca26"
             ],
             [
              1,
              "#f0f921"
             ]
            ],
            "type": "surface"
           }
          ],
          "table": [
           {
            "cells": {
             "fill": {
              "color": "#EBF0F8"
             },
             "line": {
              "color": "white"
             }
            },
            "header": {
             "fill": {
              "color": "#C8D4E3"
             },
             "line": {
              "color": "white"
             }
            },
            "type": "table"
           }
          ]
         },
         "layout": {
          "annotationdefaults": {
           "arrowcolor": "#2a3f5f",
           "arrowhead": 0,
           "arrowwidth": 1
          },
          "autotypenumbers": "strict",
          "coloraxis": {
           "colorbar": {
            "outlinewidth": 0,
            "ticks": ""
           }
          },
          "colorscale": {
           "diverging": [
            [
             0,
             "#8e0152"
            ],
            [
             0.1,
             "#c51b7d"
            ],
            [
             0.2,
             "#de77ae"
            ],
            [
             0.3,
             "#f1b6da"
            ],
            [
             0.4,
             "#fde0ef"
            ],
            [
             0.5,
             "#f7f7f7"
            ],
            [
             0.6,
             "#e6f5d0"
            ],
            [
             0.7,
             "#b8e186"
            ],
            [
             0.8,
             "#7fbc41"
            ],
            [
             0.9,
             "#4d9221"
            ],
            [
             1,
             "#276419"
            ]
           ],
           "sequential": [
            [
             0,
             "#0d0887"
            ],
            [
             0.1111111111111111,
             "#46039f"
            ],
            [
             0.2222222222222222,
             "#7201a8"
            ],
            [
             0.3333333333333333,
             "#9c179e"
            ],
            [
             0.4444444444444444,
             "#bd3786"
            ],
            [
             0.5555555555555556,
             "#d8576b"
            ],
            [
             0.6666666666666666,
             "#ed7953"
            ],
            [
             0.7777777777777778,
             "#fb9f3a"
            ],
            [
             0.8888888888888888,
             "#fdca26"
            ],
            [
             1,
             "#f0f921"
            ]
           ],
           "sequentialminus": [
            [
             0,
             "#0d0887"
            ],
            [
             0.1111111111111111,
             "#46039f"
            ],
            [
             0.2222222222222222,
             "#7201a8"
            ],
            [
             0.3333333333333333,
             "#9c179e"
            ],
            [
             0.4444444444444444,
             "#bd3786"
            ],
            [
             0.5555555555555556,
             "#d8576b"
            ],
            [
             0.6666666666666666,
             "#ed7953"
            ],
            [
             0.7777777777777778,
             "#fb9f3a"
            ],
            [
             0.8888888888888888,
             "#fdca26"
            ],
            [
             1,
             "#f0f921"
            ]
           ]
          },
          "colorway": [
           "#636efa",
           "#EF553B",
           "#00cc96",
           "#ab63fa",
           "#FFA15A",
           "#19d3f3",
           "#FF6692",
           "#B6E880",
           "#FF97FF",
           "#FECB52"
          ],
          "font": {
           "color": "#2a3f5f"
          },
          "geo": {
           "bgcolor": "white",
           "lakecolor": "white",
           "landcolor": "#E5ECF6",
           "showlakes": true,
           "showland": true,
           "subunitcolor": "white"
          },
          "hoverlabel": {
           "align": "left"
          },
          "hovermode": "closest",
          "mapbox": {
           "style": "light"
          },
          "paper_bgcolor": "white",
          "plot_bgcolor": "#E5ECF6",
          "polar": {
           "angularaxis": {
            "gridcolor": "white",
            "linecolor": "white",
            "ticks": ""
           },
           "bgcolor": "#E5ECF6",
           "radialaxis": {
            "gridcolor": "white",
            "linecolor": "white",
            "ticks": ""
           }
          },
          "scene": {
           "xaxis": {
            "backgroundcolor": "#E5ECF6",
            "gridcolor": "white",
            "gridwidth": 2,
            "linecolor": "white",
            "showbackground": true,
            "ticks": "",
            "zerolinecolor": "white"
           },
           "yaxis": {
            "backgroundcolor": "#E5ECF6",
            "gridcolor": "white",
            "gridwidth": 2,
            "linecolor": "white",
            "showbackground": true,
            "ticks": "",
            "zerolinecolor": "white"
           },
           "zaxis": {
            "backgroundcolor": "#E5ECF6",
            "gridcolor": "white",
            "gridwidth": 2,
            "linecolor": "white",
            "showbackground": true,
            "ticks": "",
            "zerolinecolor": "white"
           }
          },
          "shapedefaults": {
           "line": {
            "color": "#2a3f5f"
           }
          },
          "ternary": {
           "aaxis": {
            "gridcolor": "white",
            "linecolor": "white",
            "ticks": ""
           },
           "baxis": {
            "gridcolor": "white",
            "linecolor": "white",
            "ticks": ""
           },
           "bgcolor": "#E5ECF6",
           "caxis": {
            "gridcolor": "white",
            "linecolor": "white",
            "ticks": ""
           }
          },
          "title": {
           "x": 0.05
          },
          "xaxis": {
           "automargin": true,
           "gridcolor": "white",
           "linecolor": "white",
           "ticks": "",
           "title": {
            "standoff": 15
           },
           "zerolinecolor": "white",
           "zerolinewidth": 2
          },
          "yaxis": {
           "automargin": true,
           "gridcolor": "white",
           "linecolor": "white",
           "ticks": "",
           "title": {
            "standoff": 15
           },
           "zerolinecolor": "white",
           "zerolinewidth": 2
          }
         }
        }
       }
      },
      "text/html": [
       "<div>                            <div id=\"a3b34a96-5b89-4aec-b063-e185e6cc0cd5\" class=\"plotly-graph-div\" style=\"height:525px; width:100%;\"></div>            <script type=\"text/javascript\">                require([\"plotly\"], function(Plotly) {                    window.PLOTLYENV=window.PLOTLYENV || {};                                    if (document.getElementById(\"a3b34a96-5b89-4aec-b063-e185e6cc0cd5\")) {                    Plotly.newPlot(                        \"a3b34a96-5b89-4aec-b063-e185e6cc0cd5\",                        [{\"cells\": {\"values\": [[\"Various\", \"Anonymous\", \"None Available\", \"William Shakespeare\", \"Baron Edward Bulwer Lytton Lytton\", \"Georg Ebers\", \"Mark Twain\", \"Unknown\", \"Honor\\u00e9 de Balzac\", \"Gilbert Parker\", \"William Henry Giles Kingston\", \"Jules Verne\", \"George Manville Fenn\", \"Charles Dickens\", \"George Meredith\", \"W. W. (William Wymark) Jacobs\", \"William Dean Howells\", \"John Lothrop Motley\", \"Nathaniel Hawthorne\", \"Robert Louis Stevenson\"], [3424, 813, 557, 305, 214, 170, 169, 150, 135, 134, 133, 131, 128, 119, 111, 111, 103, 103, 99, 99]]}, \"header\": {\"values\": [\"Author\", \"Count\"]}, \"type\": \"table\"}],                        {\"template\": {\"data\": {\"bar\": [{\"error_x\": {\"color\": \"#2a3f5f\"}, \"error_y\": {\"color\": \"#2a3f5f\"}, \"marker\": {\"line\": {\"color\": \"#E5ECF6\", \"width\": 0.5}}, \"type\": \"bar\"}], \"barpolar\": [{\"marker\": {\"line\": {\"color\": \"#E5ECF6\", \"width\": 0.5}}, \"type\": \"barpolar\"}], \"carpet\": [{\"aaxis\": {\"endlinecolor\": \"#2a3f5f\", \"gridcolor\": \"white\", \"linecolor\": \"white\", \"minorgridcolor\": \"white\", \"startlinecolor\": \"#2a3f5f\"}, \"baxis\": {\"endlinecolor\": \"#2a3f5f\", \"gridcolor\": \"white\", \"linecolor\": \"white\", \"minorgridcolor\": \"white\", \"startlinecolor\": \"#2a3f5f\"}, \"type\": \"carpet\"}], \"choropleth\": [{\"colorbar\": {\"outlinewidth\": 0, \"ticks\": \"\"}, \"type\": \"choropleth\"}], \"contour\": [{\"colorbar\": {\"outlinewidth\": 0, \"ticks\": \"\"}, \"colorscale\": [[0.0, \"#0d0887\"], [0.1111111111111111, \"#46039f\"], [0.2222222222222222, \"#7201a8\"], [0.3333333333333333, \"#9c179e\"], [0.4444444444444444, \"#bd3786\"], [0.5555555555555556, \"#d8576b\"], [0.6666666666666666, \"#ed7953\"], [0.7777777777777778, \"#fb9f3a\"], [0.8888888888888888, \"#fdca26\"], [1.0, \"#f0f921\"]], \"type\": \"contour\"}], \"contourcarpet\": [{\"colorbar\": {\"outlinewidth\": 0, \"ticks\": \"\"}, \"type\": \"contourcarpet\"}], \"heatmap\": [{\"colorbar\": {\"outlinewidth\": 0, \"ticks\": \"\"}, \"colorscale\": [[0.0, \"#0d0887\"], [0.1111111111111111, \"#46039f\"], [0.2222222222222222, \"#7201a8\"], [0.3333333333333333, \"#9c179e\"], [0.4444444444444444, \"#bd3786\"], [0.5555555555555556, \"#d8576b\"], [0.6666666666666666, \"#ed7953\"], [0.7777777777777778, \"#fb9f3a\"], [0.8888888888888888, \"#fdca26\"], [1.0, \"#f0f921\"]], \"type\": \"heatmap\"}], \"heatmapgl\": [{\"colorbar\": {\"outlinewidth\": 0, \"ticks\": \"\"}, \"colorscale\": [[0.0, \"#0d0887\"], [0.1111111111111111, \"#46039f\"], [0.2222222222222222, \"#7201a8\"], [0.3333333333333333, \"#9c179e\"], [0.4444444444444444, \"#bd3786\"], [0.5555555555555556, \"#d8576b\"], [0.6666666666666666, \"#ed7953\"], [0.7777777777777778, \"#fb9f3a\"], [0.8888888888888888, \"#fdca26\"], [1.0, \"#f0f921\"]], \"type\": \"heatmapgl\"}], \"histogram\": [{\"marker\": {\"colorbar\": {\"outlinewidth\": 0, \"ticks\": \"\"}}, \"type\": \"histogram\"}], \"histogram2d\": [{\"colorbar\": {\"outlinewidth\": 0, \"ticks\": \"\"}, \"colorscale\": [[0.0, \"#0d0887\"], [0.1111111111111111, \"#46039f\"], [0.2222222222222222, \"#7201a8\"], [0.3333333333333333, \"#9c179e\"], [0.4444444444444444, \"#bd3786\"], [0.5555555555555556, \"#d8576b\"], [0.6666666666666666, \"#ed7953\"], [0.7777777777777778, \"#fb9f3a\"], [0.8888888888888888, \"#fdca26\"], [1.0, \"#f0f921\"]], \"type\": \"histogram2d\"}], \"histogram2dcontour\": [{\"colorbar\": {\"outlinewidth\": 0, \"ticks\": \"\"}, \"colorscale\": [[0.0, \"#0d0887\"], [0.1111111111111111, \"#46039f\"], [0.2222222222222222, \"#7201a8\"], [0.3333333333333333, \"#9c179e\"], [0.4444444444444444, \"#bd3786\"], [0.5555555555555556, \"#d8576b\"], [0.6666666666666666, \"#ed7953\"], [0.7777777777777778, \"#fb9f3a\"], [0.8888888888888888, \"#fdca26\"], [1.0, \"#f0f921\"]], \"type\": \"histogram2dcontour\"}], \"mesh3d\": [{\"colorbar\": {\"outlinewidth\": 0, \"ticks\": \"\"}, \"type\": \"mesh3d\"}], \"parcoords\": [{\"line\": {\"colorbar\": {\"outlinewidth\": 0, \"ticks\": \"\"}}, \"type\": \"parcoords\"}], \"pie\": [{\"automargin\": true, \"type\": \"pie\"}], \"scatter\": [{\"marker\": {\"colorbar\": {\"outlinewidth\": 0, \"ticks\": \"\"}}, \"type\": \"scatter\"}], \"scatter3d\": [{\"line\": {\"colorbar\": {\"outlinewidth\": 0, \"ticks\": \"\"}}, \"marker\": {\"colorbar\": {\"outlinewidth\": 0, \"ticks\": \"\"}}, \"type\": \"scatter3d\"}], \"scattercarpet\": [{\"marker\": {\"colorbar\": {\"outlinewidth\": 0, \"ticks\": \"\"}}, \"type\": \"scattercarpet\"}], \"scattergeo\": [{\"marker\": {\"colorbar\": {\"outlinewidth\": 0, \"ticks\": \"\"}}, \"type\": \"scattergeo\"}], \"scattergl\": [{\"marker\": {\"colorbar\": {\"outlinewidth\": 0, \"ticks\": \"\"}}, \"type\": \"scattergl\"}], \"scattermapbox\": [{\"marker\": {\"colorbar\": {\"outlinewidth\": 0, \"ticks\": \"\"}}, \"type\": \"scattermapbox\"}], \"scatterpolar\": [{\"marker\": {\"colorbar\": {\"outlinewidth\": 0, \"ticks\": \"\"}}, \"type\": \"scatterpolar\"}], \"scatterpolargl\": [{\"marker\": {\"colorbar\": {\"outlinewidth\": 0, \"ticks\": \"\"}}, \"type\": \"scatterpolargl\"}], \"scatterternary\": [{\"marker\": {\"colorbar\": {\"outlinewidth\": 0, \"ticks\": \"\"}}, \"type\": \"scatterternary\"}], \"surface\": [{\"colorbar\": {\"outlinewidth\": 0, \"ticks\": \"\"}, \"colorscale\": [[0.0, \"#0d0887\"], [0.1111111111111111, \"#46039f\"], [0.2222222222222222, \"#7201a8\"], [0.3333333333333333, \"#9c179e\"], [0.4444444444444444, \"#bd3786\"], [0.5555555555555556, \"#d8576b\"], [0.6666666666666666, \"#ed7953\"], [0.7777777777777778, \"#fb9f3a\"], [0.8888888888888888, \"#fdca26\"], [1.0, \"#f0f921\"]], \"type\": \"surface\"}], \"table\": [{\"cells\": {\"fill\": {\"color\": \"#EBF0F8\"}, \"line\": {\"color\": \"white\"}}, \"header\": {\"fill\": {\"color\": \"#C8D4E3\"}, \"line\": {\"color\": \"white\"}}, \"type\": \"table\"}]}, \"layout\": {\"annotationdefaults\": {\"arrowcolor\": \"#2a3f5f\", \"arrowhead\": 0, \"arrowwidth\": 1}, \"autotypenumbers\": \"strict\", \"coloraxis\": {\"colorbar\": {\"outlinewidth\": 0, \"ticks\": \"\"}}, \"colorscale\": {\"diverging\": [[0, \"#8e0152\"], [0.1, \"#c51b7d\"], [0.2, \"#de77ae\"], [0.3, \"#f1b6da\"], [0.4, \"#fde0ef\"], [0.5, \"#f7f7f7\"], [0.6, \"#e6f5d0\"], [0.7, \"#b8e186\"], [0.8, \"#7fbc41\"], [0.9, \"#4d9221\"], [1, \"#276419\"]], \"sequential\": [[0.0, \"#0d0887\"], [0.1111111111111111, \"#46039f\"], [0.2222222222222222, \"#7201a8\"], [0.3333333333333333, \"#9c179e\"], [0.4444444444444444, \"#bd3786\"], [0.5555555555555556, \"#d8576b\"], [0.6666666666666666, \"#ed7953\"], [0.7777777777777778, \"#fb9f3a\"], [0.8888888888888888, \"#fdca26\"], [1.0, \"#f0f921\"]], \"sequentialminus\": [[0.0, \"#0d0887\"], [0.1111111111111111, \"#46039f\"], [0.2222222222222222, \"#7201a8\"], [0.3333333333333333, \"#9c179e\"], [0.4444444444444444, \"#bd3786\"], [0.5555555555555556, \"#d8576b\"], [0.6666666666666666, \"#ed7953\"], [0.7777777777777778, \"#fb9f3a\"], [0.8888888888888888, \"#fdca26\"], [1.0, \"#f0f921\"]]}, \"colorway\": [\"#636efa\", \"#EF553B\", \"#00cc96\", \"#ab63fa\", \"#FFA15A\", \"#19d3f3\", \"#FF6692\", \"#B6E880\", \"#FF97FF\", \"#FECB52\"], \"font\": {\"color\": \"#2a3f5f\"}, \"geo\": {\"bgcolor\": \"white\", \"lakecolor\": \"white\", \"landcolor\": \"#E5ECF6\", \"showlakes\": true, \"showland\": true, \"subunitcolor\": \"white\"}, \"hoverlabel\": {\"align\": \"left\"}, \"hovermode\": \"closest\", \"mapbox\": {\"style\": \"light\"}, \"paper_bgcolor\": \"white\", \"plot_bgcolor\": \"#E5ECF6\", \"polar\": {\"angularaxis\": {\"gridcolor\": \"white\", \"linecolor\": \"white\", \"ticks\": \"\"}, \"bgcolor\": \"#E5ECF6\", \"radialaxis\": {\"gridcolor\": \"white\", \"linecolor\": \"white\", \"ticks\": \"\"}}, \"scene\": {\"xaxis\": {\"backgroundcolor\": \"#E5ECF6\", \"gridcolor\": \"white\", \"gridwidth\": 2, \"linecolor\": \"white\", \"showbackground\": true, \"ticks\": \"\", \"zerolinecolor\": \"white\"}, \"yaxis\": {\"backgroundcolor\": \"#E5ECF6\", \"gridcolor\": \"white\", \"gridwidth\": 2, \"linecolor\": \"white\", \"showbackground\": true, \"ticks\": \"\", \"zerolinecolor\": \"white\"}, \"zaxis\": {\"backgroundcolor\": \"#E5ECF6\", \"gridcolor\": \"white\", \"gridwidth\": 2, \"linecolor\": \"white\", \"showbackground\": true, \"ticks\": \"\", \"zerolinecolor\": \"white\"}}, \"shapedefaults\": {\"line\": {\"color\": \"#2a3f5f\"}}, \"ternary\": {\"aaxis\": {\"gridcolor\": \"white\", \"linecolor\": \"white\", \"ticks\": \"\"}, \"baxis\": {\"gridcolor\": \"white\", \"linecolor\": \"white\", \"ticks\": \"\"}, \"bgcolor\": \"#E5ECF6\", \"caxis\": {\"gridcolor\": \"white\", \"linecolor\": \"white\", \"ticks\": \"\"}}, \"title\": {\"x\": 0.05}, \"xaxis\": {\"automargin\": true, \"gridcolor\": \"white\", \"linecolor\": \"white\", \"ticks\": \"\", \"title\": {\"standoff\": 15}, \"zerolinecolor\": \"white\", \"zerolinewidth\": 2}, \"yaxis\": {\"automargin\": true, \"gridcolor\": \"white\", \"linecolor\": \"white\", \"ticks\": \"\", \"title\": {\"standoff\": 15}, \"zerolinecolor\": \"white\", \"zerolinewidth\": 2}}}},                        {\"responsive\": true}                    ).then(function(){\n",
       "                            \n",
       "var gd = document.getElementById('a3b34a96-5b89-4aec-b063-e185e6cc0cd5');\n",
       "var x = new MutationObserver(function (mutations, observer) {{\n",
       "        var display = window.getComputedStyle(gd).display;\n",
       "        if (!display || display === 'none') {{\n",
       "            console.log([gd, 'removed!']);\n",
       "            Plotly.purge(gd);\n",
       "            observer.disconnect();\n",
       "        }}\n",
       "}});\n",
       "\n",
       "// Listen for the removal of the full notebook cells\n",
       "var notebookContainer = gd.closest('#notebook-container');\n",
       "if (notebookContainer) {{\n",
       "    x.observe(notebookContainer, {childList: true});\n",
       "}}\n",
       "\n",
       "// Listen for the clearing of the current output cell\n",
       "var outputEl = gd.closest('.output');\n",
       "if (outputEl) {{\n",
       "    x.observe(outputEl, {childList: true});\n",
       "}}\n",
       "\n",
       "                        })                };                });            </script>        </div>"
      ]
     },
     "metadata": {},
     "output_type": "display_data"
    }
   ],
   "source": [
    "# top authors\n",
    "unique_authors = {}\n",
    "def count_authors(author_list):\n",
    "    if not isinstance(author_list, list):\n",
    "        author_list = ['None Available']\n",
    "    for val in author_list:\n",
    "        if val in unique_authors:\n",
    "            unique_authors[val] +=1 \n",
    "        else: \n",
    "            unique_authors[val] = 1\n",
    "    return len(author_list)\n",
    "            \n",
    "metadata['Number of Authors'] = metadata.apply(lambda row : count_authors(row['Author']), axis = 1)\n",
    "top_20_authors = sorted(unique_authors.items(), key=lambda x: x[1], reverse = True)[:20]\n",
    "top_20_authors =  [list(x) for x in top_20_authors]\n",
    "top_20_authors_names = [x[0] for x in top_20_authors]\n",
    "top_20_authors_counts = [x[1] for x in top_20_authors]\n",
    "\n",
    "fig = go.Figure(data=[go.Table(header=dict(values=['Author', 'Count']),\n",
    "                 cells=dict(values=[top_20_authors_names,top_20_authors_counts] ))\n",
    "                     ])\n",
    "fig.show()"
   ]
  },
  {
   "cell_type": "code",
   "execution_count": 37,
   "id": "38010ca1",
   "metadata": {},
   "outputs": [
    {
     "data": {
      "application/vnd.plotly.v1+json": {
       "config": {
        "plotlyServerURL": "https://plot.ly"
       },
       "data": [
        {
         "cells": {
          "values": [
           [
            "None Available",
            "Fiction",
            "Short stories",
            "Science fiction",
            "English wit and humor -- Periodicals",
            "Adventure stories",
            "Poetry",
            "Detective and mystery stories",
            "Historical fiction",
            "Love stories",
            "Conduct of life -- Juvenile fiction",
            "Western stories",
            "England -- Fiction",
            "Questions and answers -- Periodicals",
            "Fairy tales",
            "Essays",
            "Illustrated periodicals -- France",
            "Children's stories",
            "Man-woman relationships -- Fiction",
            "Humorous stories"
           ],
           [
            8535,
            1120,
            1091,
            983,
            542,
            410,
            404,
            404,
            328,
            319,
            267,
            234,
            219,
            219,
            212,
            193,
            178,
            177,
            171,
            166
           ]
          ]
         },
         "header": {
          "values": [
           "Genre",
           "Count"
          ]
         },
         "type": "table"
        }
       ],
       "layout": {
        "template": {
         "data": {
          "bar": [
           {
            "error_x": {
             "color": "#2a3f5f"
            },
            "error_y": {
             "color": "#2a3f5f"
            },
            "marker": {
             "line": {
              "color": "#E5ECF6",
              "width": 0.5
             }
            },
            "type": "bar"
           }
          ],
          "barpolar": [
           {
            "marker": {
             "line": {
              "color": "#E5ECF6",
              "width": 0.5
             }
            },
            "type": "barpolar"
           }
          ],
          "carpet": [
           {
            "aaxis": {
             "endlinecolor": "#2a3f5f",
             "gridcolor": "white",
             "linecolor": "white",
             "minorgridcolor": "white",
             "startlinecolor": "#2a3f5f"
            },
            "baxis": {
             "endlinecolor": "#2a3f5f",
             "gridcolor": "white",
             "linecolor": "white",
             "minorgridcolor": "white",
             "startlinecolor": "#2a3f5f"
            },
            "type": "carpet"
           }
          ],
          "choropleth": [
           {
            "colorbar": {
             "outlinewidth": 0,
             "ticks": ""
            },
            "type": "choropleth"
           }
          ],
          "contour": [
           {
            "colorbar": {
             "outlinewidth": 0,
             "ticks": ""
            },
            "colorscale": [
             [
              0,
              "#0d0887"
             ],
             [
              0.1111111111111111,
              "#46039f"
             ],
             [
              0.2222222222222222,
              "#7201a8"
             ],
             [
              0.3333333333333333,
              "#9c179e"
             ],
             [
              0.4444444444444444,
              "#bd3786"
             ],
             [
              0.5555555555555556,
              "#d8576b"
             ],
             [
              0.6666666666666666,
              "#ed7953"
             ],
             [
              0.7777777777777778,
              "#fb9f3a"
             ],
             [
              0.8888888888888888,
              "#fdca26"
             ],
             [
              1,
              "#f0f921"
             ]
            ],
            "type": "contour"
           }
          ],
          "contourcarpet": [
           {
            "colorbar": {
             "outlinewidth": 0,
             "ticks": ""
            },
            "type": "contourcarpet"
           }
          ],
          "heatmap": [
           {
            "colorbar": {
             "outlinewidth": 0,
             "ticks": ""
            },
            "colorscale": [
             [
              0,
              "#0d0887"
             ],
             [
              0.1111111111111111,
              "#46039f"
             ],
             [
              0.2222222222222222,
              "#7201a8"
             ],
             [
              0.3333333333333333,
              "#9c179e"
             ],
             [
              0.4444444444444444,
              "#bd3786"
             ],
             [
              0.5555555555555556,
              "#d8576b"
             ],
             [
              0.6666666666666666,
              "#ed7953"
             ],
             [
              0.7777777777777778,
              "#fb9f3a"
             ],
             [
              0.8888888888888888,
              "#fdca26"
             ],
             [
              1,
              "#f0f921"
             ]
            ],
            "type": "heatmap"
           }
          ],
          "heatmapgl": [
           {
            "colorbar": {
             "outlinewidth": 0,
             "ticks": ""
            },
            "colorscale": [
             [
              0,
              "#0d0887"
             ],
             [
              0.1111111111111111,
              "#46039f"
             ],
             [
              0.2222222222222222,
              "#7201a8"
             ],
             [
              0.3333333333333333,
              "#9c179e"
             ],
             [
              0.4444444444444444,
              "#bd3786"
             ],
             [
              0.5555555555555556,
              "#d8576b"
             ],
             [
              0.6666666666666666,
              "#ed7953"
             ],
             [
              0.7777777777777778,
              "#fb9f3a"
             ],
             [
              0.8888888888888888,
              "#fdca26"
             ],
             [
              1,
              "#f0f921"
             ]
            ],
            "type": "heatmapgl"
           }
          ],
          "histogram": [
           {
            "marker": {
             "colorbar": {
              "outlinewidth": 0,
              "ticks": ""
             }
            },
            "type": "histogram"
           }
          ],
          "histogram2d": [
           {
            "colorbar": {
             "outlinewidth": 0,
             "ticks": ""
            },
            "colorscale": [
             [
              0,
              "#0d0887"
             ],
             [
              0.1111111111111111,
              "#46039f"
             ],
             [
              0.2222222222222222,
              "#7201a8"
             ],
             [
              0.3333333333333333,
              "#9c179e"
             ],
             [
              0.4444444444444444,
              "#bd3786"
             ],
             [
              0.5555555555555556,
              "#d8576b"
             ],
             [
              0.6666666666666666,
              "#ed7953"
             ],
             [
              0.7777777777777778,
              "#fb9f3a"
             ],
             [
              0.8888888888888888,
              "#fdca26"
             ],
             [
              1,
              "#f0f921"
             ]
            ],
            "type": "histogram2d"
           }
          ],
          "histogram2dcontour": [
           {
            "colorbar": {
             "outlinewidth": 0,
             "ticks": ""
            },
            "colorscale": [
             [
              0,
              "#0d0887"
             ],
             [
              0.1111111111111111,
              "#46039f"
             ],
             [
              0.2222222222222222,
              "#7201a8"
             ],
             [
              0.3333333333333333,
              "#9c179e"
             ],
             [
              0.4444444444444444,
              "#bd3786"
             ],
             [
              0.5555555555555556,
              "#d8576b"
             ],
             [
              0.6666666666666666,
              "#ed7953"
             ],
             [
              0.7777777777777778,
              "#fb9f3a"
             ],
             [
              0.8888888888888888,
              "#fdca26"
             ],
             [
              1,
              "#f0f921"
             ]
            ],
            "type": "histogram2dcontour"
           }
          ],
          "mesh3d": [
           {
            "colorbar": {
             "outlinewidth": 0,
             "ticks": ""
            },
            "type": "mesh3d"
           }
          ],
          "parcoords": [
           {
            "line": {
             "colorbar": {
              "outlinewidth": 0,
              "ticks": ""
             }
            },
            "type": "parcoords"
           }
          ],
          "pie": [
           {
            "automargin": true,
            "type": "pie"
           }
          ],
          "scatter": [
           {
            "marker": {
             "colorbar": {
              "outlinewidth": 0,
              "ticks": ""
             }
            },
            "type": "scatter"
           }
          ],
          "scatter3d": [
           {
            "line": {
             "colorbar": {
              "outlinewidth": 0,
              "ticks": ""
             }
            },
            "marker": {
             "colorbar": {
              "outlinewidth": 0,
              "ticks": ""
             }
            },
            "type": "scatter3d"
           }
          ],
          "scattercarpet": [
           {
            "marker": {
             "colorbar": {
              "outlinewidth": 0,
              "ticks": ""
             }
            },
            "type": "scattercarpet"
           }
          ],
          "scattergeo": [
           {
            "marker": {
             "colorbar": {
              "outlinewidth": 0,
              "ticks": ""
             }
            },
            "type": "scattergeo"
           }
          ],
          "scattergl": [
           {
            "marker": {
             "colorbar": {
              "outlinewidth": 0,
              "ticks": ""
             }
            },
            "type": "scattergl"
           }
          ],
          "scattermapbox": [
           {
            "marker": {
             "colorbar": {
              "outlinewidth": 0,
              "ticks": ""
             }
            },
            "type": "scattermapbox"
           }
          ],
          "scatterpolar": [
           {
            "marker": {
             "colorbar": {
              "outlinewidth": 0,
              "ticks": ""
             }
            },
            "type": "scatterpolar"
           }
          ],
          "scatterpolargl": [
           {
            "marker": {
             "colorbar": {
              "outlinewidth": 0,
              "ticks": ""
             }
            },
            "type": "scatterpolargl"
           }
          ],
          "scatterternary": [
           {
            "marker": {
             "colorbar": {
              "outlinewidth": 0,
              "ticks": ""
             }
            },
            "type": "scatterternary"
           }
          ],
          "surface": [
           {
            "colorbar": {
             "outlinewidth": 0,
             "ticks": ""
            },
            "colorscale": [
             [
              0,
              "#0d0887"
             ],
             [
              0.1111111111111111,
              "#46039f"
             ],
             [
              0.2222222222222222,
              "#7201a8"
             ],
             [
              0.3333333333333333,
              "#9c179e"
             ],
             [
              0.4444444444444444,
              "#bd3786"
             ],
             [
              0.5555555555555556,
              "#d8576b"
             ],
             [
              0.6666666666666666,
              "#ed7953"
             ],
             [
              0.7777777777777778,
              "#fb9f3a"
             ],
             [
              0.8888888888888888,
              "#fdca26"
             ],
             [
              1,
              "#f0f921"
             ]
            ],
            "type": "surface"
           }
          ],
          "table": [
           {
            "cells": {
             "fill": {
              "color": "#EBF0F8"
             },
             "line": {
              "color": "white"
             }
            },
            "header": {
             "fill": {
              "color": "#C8D4E3"
             },
             "line": {
              "color": "white"
             }
            },
            "type": "table"
           }
          ]
         },
         "layout": {
          "annotationdefaults": {
           "arrowcolor": "#2a3f5f",
           "arrowhead": 0,
           "arrowwidth": 1
          },
          "autotypenumbers": "strict",
          "coloraxis": {
           "colorbar": {
            "outlinewidth": 0,
            "ticks": ""
           }
          },
          "colorscale": {
           "diverging": [
            [
             0,
             "#8e0152"
            ],
            [
             0.1,
             "#c51b7d"
            ],
            [
             0.2,
             "#de77ae"
            ],
            [
             0.3,
             "#f1b6da"
            ],
            [
             0.4,
             "#fde0ef"
            ],
            [
             0.5,
             "#f7f7f7"
            ],
            [
             0.6,
             "#e6f5d0"
            ],
            [
             0.7,
             "#b8e186"
            ],
            [
             0.8,
             "#7fbc41"
            ],
            [
             0.9,
             "#4d9221"
            ],
            [
             1,
             "#276419"
            ]
           ],
           "sequential": [
            [
             0,
             "#0d0887"
            ],
            [
             0.1111111111111111,
             "#46039f"
            ],
            [
             0.2222222222222222,
             "#7201a8"
            ],
            [
             0.3333333333333333,
             "#9c179e"
            ],
            [
             0.4444444444444444,
             "#bd3786"
            ],
            [
             0.5555555555555556,
             "#d8576b"
            ],
            [
             0.6666666666666666,
             "#ed7953"
            ],
            [
             0.7777777777777778,
             "#fb9f3a"
            ],
            [
             0.8888888888888888,
             "#fdca26"
            ],
            [
             1,
             "#f0f921"
            ]
           ],
           "sequentialminus": [
            [
             0,
             "#0d0887"
            ],
            [
             0.1111111111111111,
             "#46039f"
            ],
            [
             0.2222222222222222,
             "#7201a8"
            ],
            [
             0.3333333333333333,
             "#9c179e"
            ],
            [
             0.4444444444444444,
             "#bd3786"
            ],
            [
             0.5555555555555556,
             "#d8576b"
            ],
            [
             0.6666666666666666,
             "#ed7953"
            ],
            [
             0.7777777777777778,
             "#fb9f3a"
            ],
            [
             0.8888888888888888,
             "#fdca26"
            ],
            [
             1,
             "#f0f921"
            ]
           ]
          },
          "colorway": [
           "#636efa",
           "#EF553B",
           "#00cc96",
           "#ab63fa",
           "#FFA15A",
           "#19d3f3",
           "#FF6692",
           "#B6E880",
           "#FF97FF",
           "#FECB52"
          ],
          "font": {
           "color": "#2a3f5f"
          },
          "geo": {
           "bgcolor": "white",
           "lakecolor": "white",
           "landcolor": "#E5ECF6",
           "showlakes": true,
           "showland": true,
           "subunitcolor": "white"
          },
          "hoverlabel": {
           "align": "left"
          },
          "hovermode": "closest",
          "mapbox": {
           "style": "light"
          },
          "paper_bgcolor": "white",
          "plot_bgcolor": "#E5ECF6",
          "polar": {
           "angularaxis": {
            "gridcolor": "white",
            "linecolor": "white",
            "ticks": ""
           },
           "bgcolor": "#E5ECF6",
           "radialaxis": {
            "gridcolor": "white",
            "linecolor": "white",
            "ticks": ""
           }
          },
          "scene": {
           "xaxis": {
            "backgroundcolor": "#E5ECF6",
            "gridcolor": "white",
            "gridwidth": 2,
            "linecolor": "white",
            "showbackground": true,
            "ticks": "",
            "zerolinecolor": "white"
           },
           "yaxis": {
            "backgroundcolor": "#E5ECF6",
            "gridcolor": "white",
            "gridwidth": 2,
            "linecolor": "white",
            "showbackground": true,
            "ticks": "",
            "zerolinecolor": "white"
           },
           "zaxis": {
            "backgroundcolor": "#E5ECF6",
            "gridcolor": "white",
            "gridwidth": 2,
            "linecolor": "white",
            "showbackground": true,
            "ticks": "",
            "zerolinecolor": "white"
           }
          },
          "shapedefaults": {
           "line": {
            "color": "#2a3f5f"
           }
          },
          "ternary": {
           "aaxis": {
            "gridcolor": "white",
            "linecolor": "white",
            "ticks": ""
           },
           "baxis": {
            "gridcolor": "white",
            "linecolor": "white",
            "ticks": ""
           },
           "bgcolor": "#E5ECF6",
           "caxis": {
            "gridcolor": "white",
            "linecolor": "white",
            "ticks": ""
           }
          },
          "title": {
           "x": 0.05
          },
          "xaxis": {
           "automargin": true,
           "gridcolor": "white",
           "linecolor": "white",
           "ticks": "",
           "title": {
            "standoff": 15
           },
           "zerolinecolor": "white",
           "zerolinewidth": 2
          },
          "yaxis": {
           "automargin": true,
           "gridcolor": "white",
           "linecolor": "white",
           "ticks": "",
           "title": {
            "standoff": 15
           },
           "zerolinecolor": "white",
           "zerolinewidth": 2
          }
         }
        }
       }
      },
      "text/html": [
       "<div>                            <div id=\"c5ba0918-fc23-487b-8d66-e2aa4147aece\" class=\"plotly-graph-div\" style=\"height:525px; width:100%;\"></div>            <script type=\"text/javascript\">                require([\"plotly\"], function(Plotly) {                    window.PLOTLYENV=window.PLOTLYENV || {};                                    if (document.getElementById(\"c5ba0918-fc23-487b-8d66-e2aa4147aece\")) {                    Plotly.newPlot(                        \"c5ba0918-fc23-487b-8d66-e2aa4147aece\",                        [{\"cells\": {\"values\": [[\"None Available\", \"Fiction\", \"Short stories\", \"Science fiction\", \"English wit and humor -- Periodicals\", \"Adventure stories\", \"Poetry\", \"Detective and mystery stories\", \"Historical fiction\", \"Love stories\", \"Conduct of life -- Juvenile fiction\", \"Western stories\", \"England -- Fiction\", \"Questions and answers -- Periodicals\", \"Fairy tales\", \"Essays\", \"Illustrated periodicals -- France\", \"Children's stories\", \"Man-woman relationships -- Fiction\", \"Humorous stories\"], [8535, 1120, 1091, 983, 542, 410, 404, 404, 328, 319, 267, 234, 219, 219, 212, 193, 178, 177, 171, 166]]}, \"header\": {\"values\": [\"Genre\", \"Count\"]}, \"type\": \"table\"}],                        {\"template\": {\"data\": {\"bar\": [{\"error_x\": {\"color\": \"#2a3f5f\"}, \"error_y\": {\"color\": \"#2a3f5f\"}, \"marker\": {\"line\": {\"color\": \"#E5ECF6\", \"width\": 0.5}}, \"type\": \"bar\"}], \"barpolar\": [{\"marker\": {\"line\": {\"color\": \"#E5ECF6\", \"width\": 0.5}}, \"type\": \"barpolar\"}], \"carpet\": [{\"aaxis\": {\"endlinecolor\": \"#2a3f5f\", \"gridcolor\": \"white\", \"linecolor\": \"white\", \"minorgridcolor\": \"white\", \"startlinecolor\": \"#2a3f5f\"}, \"baxis\": {\"endlinecolor\": \"#2a3f5f\", \"gridcolor\": \"white\", \"linecolor\": \"white\", \"minorgridcolor\": \"white\", \"startlinecolor\": \"#2a3f5f\"}, \"type\": \"carpet\"}], \"choropleth\": [{\"colorbar\": {\"outlinewidth\": 0, \"ticks\": \"\"}, \"type\": \"choropleth\"}], \"contour\": [{\"colorbar\": {\"outlinewidth\": 0, \"ticks\": \"\"}, \"colorscale\": [[0.0, \"#0d0887\"], [0.1111111111111111, \"#46039f\"], [0.2222222222222222, \"#7201a8\"], [0.3333333333333333, \"#9c179e\"], [0.4444444444444444, \"#bd3786\"], [0.5555555555555556, \"#d8576b\"], [0.6666666666666666, \"#ed7953\"], [0.7777777777777778, \"#fb9f3a\"], [0.8888888888888888, \"#fdca26\"], [1.0, \"#f0f921\"]], \"type\": \"contour\"}], \"contourcarpet\": [{\"colorbar\": {\"outlinewidth\": 0, \"ticks\": \"\"}, \"type\": \"contourcarpet\"}], \"heatmap\": [{\"colorbar\": {\"outlinewidth\": 0, \"ticks\": \"\"}, \"colorscale\": [[0.0, \"#0d0887\"], [0.1111111111111111, \"#46039f\"], [0.2222222222222222, \"#7201a8\"], [0.3333333333333333, \"#9c179e\"], [0.4444444444444444, \"#bd3786\"], [0.5555555555555556, \"#d8576b\"], [0.6666666666666666, \"#ed7953\"], [0.7777777777777778, \"#fb9f3a\"], [0.8888888888888888, \"#fdca26\"], [1.0, \"#f0f921\"]], \"type\": \"heatmap\"}], \"heatmapgl\": [{\"colorbar\": {\"outlinewidth\": 0, \"ticks\": \"\"}, \"colorscale\": [[0.0, \"#0d0887\"], [0.1111111111111111, \"#46039f\"], [0.2222222222222222, \"#7201a8\"], [0.3333333333333333, \"#9c179e\"], [0.4444444444444444, \"#bd3786\"], [0.5555555555555556, \"#d8576b\"], [0.6666666666666666, \"#ed7953\"], [0.7777777777777778, \"#fb9f3a\"], [0.8888888888888888, \"#fdca26\"], [1.0, \"#f0f921\"]], \"type\": \"heatmapgl\"}], \"histogram\": [{\"marker\": {\"colorbar\": {\"outlinewidth\": 0, \"ticks\": \"\"}}, \"type\": \"histogram\"}], \"histogram2d\": [{\"colorbar\": {\"outlinewidth\": 0, \"ticks\": \"\"}, \"colorscale\": [[0.0, \"#0d0887\"], [0.1111111111111111, \"#46039f\"], [0.2222222222222222, \"#7201a8\"], [0.3333333333333333, \"#9c179e\"], [0.4444444444444444, \"#bd3786\"], [0.5555555555555556, \"#d8576b\"], [0.6666666666666666, \"#ed7953\"], [0.7777777777777778, \"#fb9f3a\"], [0.8888888888888888, \"#fdca26\"], [1.0, \"#f0f921\"]], \"type\": \"histogram2d\"}], \"histogram2dcontour\": [{\"colorbar\": {\"outlinewidth\": 0, \"ticks\": \"\"}, \"colorscale\": [[0.0, \"#0d0887\"], [0.1111111111111111, \"#46039f\"], [0.2222222222222222, \"#7201a8\"], [0.3333333333333333, \"#9c179e\"], [0.4444444444444444, \"#bd3786\"], [0.5555555555555556, \"#d8576b\"], [0.6666666666666666, \"#ed7953\"], [0.7777777777777778, \"#fb9f3a\"], [0.8888888888888888, \"#fdca26\"], [1.0, \"#f0f921\"]], \"type\": \"histogram2dcontour\"}], \"mesh3d\": [{\"colorbar\": {\"outlinewidth\": 0, \"ticks\": \"\"}, \"type\": \"mesh3d\"}], \"parcoords\": [{\"line\": {\"colorbar\": {\"outlinewidth\": 0, \"ticks\": \"\"}}, \"type\": \"parcoords\"}], \"pie\": [{\"automargin\": true, \"type\": \"pie\"}], \"scatter\": [{\"marker\": {\"colorbar\": {\"outlinewidth\": 0, \"ticks\": \"\"}}, \"type\": \"scatter\"}], \"scatter3d\": [{\"line\": {\"colorbar\": {\"outlinewidth\": 0, \"ticks\": \"\"}}, \"marker\": {\"colorbar\": {\"outlinewidth\": 0, \"ticks\": \"\"}}, \"type\": \"scatter3d\"}], \"scattercarpet\": [{\"marker\": {\"colorbar\": {\"outlinewidth\": 0, \"ticks\": \"\"}}, \"type\": \"scattercarpet\"}], \"scattergeo\": [{\"marker\": {\"colorbar\": {\"outlinewidth\": 0, \"ticks\": \"\"}}, \"type\": \"scattergeo\"}], \"scattergl\": [{\"marker\": {\"colorbar\": {\"outlinewidth\": 0, \"ticks\": \"\"}}, \"type\": \"scattergl\"}], \"scattermapbox\": [{\"marker\": {\"colorbar\": {\"outlinewidth\": 0, \"ticks\": \"\"}}, \"type\": \"scattermapbox\"}], \"scatterpolar\": [{\"marker\": {\"colorbar\": {\"outlinewidth\": 0, \"ticks\": \"\"}}, \"type\": \"scatterpolar\"}], \"scatterpolargl\": [{\"marker\": {\"colorbar\": {\"outlinewidth\": 0, \"ticks\": \"\"}}, \"type\": \"scatterpolargl\"}], \"scatterternary\": [{\"marker\": {\"colorbar\": {\"outlinewidth\": 0, \"ticks\": \"\"}}, \"type\": \"scatterternary\"}], \"surface\": [{\"colorbar\": {\"outlinewidth\": 0, \"ticks\": \"\"}, \"colorscale\": [[0.0, \"#0d0887\"], [0.1111111111111111, \"#46039f\"], [0.2222222222222222, \"#7201a8\"], [0.3333333333333333, \"#9c179e\"], [0.4444444444444444, \"#bd3786\"], [0.5555555555555556, \"#d8576b\"], [0.6666666666666666, \"#ed7953\"], [0.7777777777777778, \"#fb9f3a\"], [0.8888888888888888, \"#fdca26\"], [1.0, \"#f0f921\"]], \"type\": \"surface\"}], \"table\": [{\"cells\": {\"fill\": {\"color\": \"#EBF0F8\"}, \"line\": {\"color\": \"white\"}}, \"header\": {\"fill\": {\"color\": \"#C8D4E3\"}, \"line\": {\"color\": \"white\"}}, \"type\": \"table\"}]}, \"layout\": {\"annotationdefaults\": {\"arrowcolor\": \"#2a3f5f\", \"arrowhead\": 0, \"arrowwidth\": 1}, \"autotypenumbers\": \"strict\", \"coloraxis\": {\"colorbar\": {\"outlinewidth\": 0, \"ticks\": \"\"}}, \"colorscale\": {\"diverging\": [[0, \"#8e0152\"], [0.1, \"#c51b7d\"], [0.2, \"#de77ae\"], [0.3, \"#f1b6da\"], [0.4, \"#fde0ef\"], [0.5, \"#f7f7f7\"], [0.6, \"#e6f5d0\"], [0.7, \"#b8e186\"], [0.8, \"#7fbc41\"], [0.9, \"#4d9221\"], [1, \"#276419\"]], \"sequential\": [[0.0, \"#0d0887\"], [0.1111111111111111, \"#46039f\"], [0.2222222222222222, \"#7201a8\"], [0.3333333333333333, \"#9c179e\"], [0.4444444444444444, \"#bd3786\"], [0.5555555555555556, \"#d8576b\"], [0.6666666666666666, \"#ed7953\"], [0.7777777777777778, \"#fb9f3a\"], [0.8888888888888888, \"#fdca26\"], [1.0, \"#f0f921\"]], \"sequentialminus\": [[0.0, \"#0d0887\"], [0.1111111111111111, \"#46039f\"], [0.2222222222222222, \"#7201a8\"], [0.3333333333333333, \"#9c179e\"], [0.4444444444444444, \"#bd3786\"], [0.5555555555555556, \"#d8576b\"], [0.6666666666666666, \"#ed7953\"], [0.7777777777777778, \"#fb9f3a\"], [0.8888888888888888, \"#fdca26\"], [1.0, \"#f0f921\"]]}, \"colorway\": [\"#636efa\", \"#EF553B\", \"#00cc96\", \"#ab63fa\", \"#FFA15A\", \"#19d3f3\", \"#FF6692\", \"#B6E880\", \"#FF97FF\", \"#FECB52\"], \"font\": {\"color\": \"#2a3f5f\"}, \"geo\": {\"bgcolor\": \"white\", \"lakecolor\": \"white\", \"landcolor\": \"#E5ECF6\", \"showlakes\": true, \"showland\": true, \"subunitcolor\": \"white\"}, \"hoverlabel\": {\"align\": \"left\"}, \"hovermode\": \"closest\", \"mapbox\": {\"style\": \"light\"}, \"paper_bgcolor\": \"white\", \"plot_bgcolor\": \"#E5ECF6\", \"polar\": {\"angularaxis\": {\"gridcolor\": \"white\", \"linecolor\": \"white\", \"ticks\": \"\"}, \"bgcolor\": \"#E5ECF6\", \"radialaxis\": {\"gridcolor\": \"white\", \"linecolor\": \"white\", \"ticks\": \"\"}}, \"scene\": {\"xaxis\": {\"backgroundcolor\": \"#E5ECF6\", \"gridcolor\": \"white\", \"gridwidth\": 2, \"linecolor\": \"white\", \"showbackground\": true, \"ticks\": \"\", \"zerolinecolor\": \"white\"}, \"yaxis\": {\"backgroundcolor\": \"#E5ECF6\", \"gridcolor\": \"white\", \"gridwidth\": 2, \"linecolor\": \"white\", \"showbackground\": true, \"ticks\": \"\", \"zerolinecolor\": \"white\"}, \"zaxis\": {\"backgroundcolor\": \"#E5ECF6\", \"gridcolor\": \"white\", \"gridwidth\": 2, \"linecolor\": \"white\", \"showbackground\": true, \"ticks\": \"\", \"zerolinecolor\": \"white\"}}, \"shapedefaults\": {\"line\": {\"color\": \"#2a3f5f\"}}, \"ternary\": {\"aaxis\": {\"gridcolor\": \"white\", \"linecolor\": \"white\", \"ticks\": \"\"}, \"baxis\": {\"gridcolor\": \"white\", \"linecolor\": \"white\", \"ticks\": \"\"}, \"bgcolor\": \"#E5ECF6\", \"caxis\": {\"gridcolor\": \"white\", \"linecolor\": \"white\", \"ticks\": \"\"}}, \"title\": {\"x\": 0.05}, \"xaxis\": {\"automargin\": true, \"gridcolor\": \"white\", \"linecolor\": \"white\", \"ticks\": \"\", \"title\": {\"standoff\": 15}, \"zerolinecolor\": \"white\", \"zerolinewidth\": 2}, \"yaxis\": {\"automargin\": true, \"gridcolor\": \"white\", \"linecolor\": \"white\", \"ticks\": \"\", \"title\": {\"standoff\": 15}, \"zerolinecolor\": \"white\", \"zerolinewidth\": 2}}}},                        {\"responsive\": true}                    ).then(function(){\n",
       "                            \n",
       "var gd = document.getElementById('c5ba0918-fc23-487b-8d66-e2aa4147aece');\n",
       "var x = new MutationObserver(function (mutations, observer) {{\n",
       "        var display = window.getComputedStyle(gd).display;\n",
       "        if (!display || display === 'none') {{\n",
       "            console.log([gd, 'removed!']);\n",
       "            Plotly.purge(gd);\n",
       "            observer.disconnect();\n",
       "        }}\n",
       "}});\n",
       "\n",
       "// Listen for the removal of the full notebook cells\n",
       "var notebookContainer = gd.closest('#notebook-container');\n",
       "if (notebookContainer) {{\n",
       "    x.observe(notebookContainer, {childList: true});\n",
       "}}\n",
       "\n",
       "// Listen for the clearing of the current output cell\n",
       "var outputEl = gd.closest('.output');\n",
       "if (outputEl) {{\n",
       "    x.observe(outputEl, {childList: true});\n",
       "}}\n",
       "\n",
       "                        })                };                });            </script>        </div>"
      ]
     },
     "metadata": {},
     "output_type": "display_data"
    }
   ],
   "source": [
    "# top genres\n",
    "unique_genres = {}\n",
    "\n",
    "def count_genres(genre_list):\n",
    "    if not isinstance(genre_list, list):\n",
    "        genre_list = ['None Available']\n",
    "    for val in genre_list:\n",
    "        if val in unique_genres:\n",
    "            unique_genres[val] +=1 \n",
    "        else: \n",
    "            unique_genres[val] = 1\n",
    "    return len(genre_list)\n",
    "\n",
    "metadata['Number of Genres'] = metadata.apply(lambda row : count_genres(row['Subject']), axis = 1)\n",
    "top_20_genres = sorted(unique_genres.items(), key=lambda x: x[1], reverse = True)[:20]\n",
    "top_20_genres =  [list(x) for x in top_20_genres]\n",
    "top_20_genre_name = [x[0] for x in top_20_genres]\n",
    "top_20_genre_counts = [x[1] for x in top_20_genres]\n",
    "\n",
    "fig = go.Figure(data=[go.Table(header=dict(values=['Genre', 'Count']),\n",
    "                 cells=dict(values=[top_20_genre_name,top_20_genre_counts] ))\n",
    "                     ])\n",
    "fig.show()"
   ]
  },
  {
   "cell_type": "code",
   "execution_count": 38,
   "id": "21debf2b",
   "metadata": {},
   "outputs": [
    {
     "name": "stdout",
     "output_type": "stream",
     "text": [
      "Total number of books: 50729\n",
      "Books without a subject: 8535\n",
      "Books with English language: 41485\n",
      "Unique authors: 18462\n"
     ]
    }
   ],
   "source": [
    "# entire corpus stats \n",
    "print('Total number of books: ' + str(metadata.shape[0]))\n",
    "print('Books without a subject: ' + str(metadata[metadata['Subject'].isnull()].shape[0]))\n",
    "print('Books with English language: ' + str(metadata.loc[metadata['Language'].isin([['English']])].shape[0]))\n",
    "print('Unique authors: ' + str(len(unique_authors)))"
   ]
  },
  {
   "cell_type": "code",
   "execution_count": 39,
   "id": "c01a62d4",
   "metadata": {},
   "outputs": [
    {
     "name": "stderr",
     "output_type": "stream",
     "text": [
      "/tmp/ipykernel_168800/1537361346.py:4: SettingWithCopyWarning:\n",
      "\n",
      "\n",
      "A value is trying to be set on a copy of a slice from a DataFrame.\n",
      "Try using .loc[row_indexer,col_indexer] = value instead\n",
      "\n",
      "See the caveats in the documentation: https://pandas.pydata.org/pandas-docs/stable/user_guide/indexing.html#returning-a-view-versus-a-copy\n",
      "\n",
      "/tmp/ipykernel_168800/1537361346.py:5: SettingWithCopyWarning:\n",
      "\n",
      "\n",
      "A value is trying to be set on a copy of a slice from a DataFrame.\n",
      "Try using .loc[row_indexer,col_indexer] = value instead\n",
      "\n",
      "See the caveats in the documentation: https://pandas.pydata.org/pandas-docs/stable/user_guide/indexing.html#returning-a-view-versus-a-copy\n",
      "\n",
      "/tmp/ipykernel_168800/1537361346.py:6: SettingWithCopyWarning:\n",
      "\n",
      "\n",
      "A value is trying to be set on a copy of a slice from a DataFrame.\n",
      "Try using .loc[row_indexer,col_indexer] = value instead\n",
      "\n",
      "See the caveats in the documentation: https://pandas.pydata.org/pandas-docs/stable/user_guide/indexing.html#returning-a-view-versus-a-copy\n",
      "\n"
     ]
    },
    {
     "data": {
      "text/plain": [
       "(7588, 21)"
      ]
     },
     "execution_count": 39,
     "metadata": {},
     "output_type": "execute_result"
    }
   ],
   "source": [
    "# narrow down corpus metadata to English, fiction, valid author birth \n",
    "metadata['is_english_fiction'] = metadata.apply(lambda row : True if isinstance(row['Subject'], list) and (any('fiction' in subject for subject in row['Subject']) or any('Fiction' in subject for subject in row['Subject'])) and (row['Language'] == ['English']) and (isinstance(row['Author Birth'], list) and None not in row['Author Birth'] and row['Author Birth'] != ['?'] and row['Author Birth'] != ['?', '?'] and len(row['Author Birth']) != 0) else False, axis = 1)\n",
    "english_fiction_metadata = metadata.loc[metadata['is_english_fiction'] == True]\n",
    "english_fiction_metadata['original_path'] = '../data/gutenberg-dammit-files/' + english_fiction_metadata['gd-path']\n",
    "english_fiction_metadata['tokenized_path'] = '../data/gutenberg-dammit-files/' + english_fiction_metadata['gd-path'].str[:-4] + '_tagged.pickle' \n",
    "english_fiction_metadata['cw_df_path'] = '../data/gutenberg-dammit-files/' + english_fiction_metadata['gd-path'].str[:-4] + '_cw_df.pickle'\n",
    "english_fiction_metadata.shape"
   ]
  },
  {
   "cell_type": "code",
   "execution_count": 40,
   "id": "04b1ad79",
   "metadata": {},
   "outputs": [
    {
     "name": "stderr",
     "output_type": "stream",
     "text": [
      "/tmp/ipykernel_168800/2406416575.py:16: SettingWithCopyWarning:\n",
      "\n",
      "\n",
      "A value is trying to be set on a copy of a slice from a DataFrame.\n",
      "Try using .loc[row_indexer,col_indexer] = value instead\n",
      "\n",
      "See the caveats in the documentation: https://pandas.pydata.org/pandas-docs/stable/user_guide/indexing.html#returning-a-view-versus-a-copy\n",
      "\n"
     ]
    },
    {
     "data": {
      "text/plain": [
       "(7588, 22)"
      ]
     },
     "execution_count": 40,
     "metadata": {},
     "output_type": "execute_result"
    }
   ],
   "source": [
    "# extract author birth century and save\n",
    "def find_century(row):\n",
    "    birth_years = row['Author Birth']\n",
    "    century_list = []\n",
    "    for year in birth_years:\n",
    "        if year == '?':\n",
    "            continue\n",
    "        else:\n",
    "            century = (int(year)) // 100\n",
    "        if century < 15:\n",
    "            century =  str('Before 15')\n",
    "        if century not in century_list:\n",
    "            century_list.append(century)\n",
    "    return str(century_list[0]) + '00'\n",
    "        \n",
    "english_fiction_metadata['Author Birth Century'] = english_fiction_metadata.apply(lambda row: find_century(row), axis = 1)\n",
    "english_fiction_metadata = english_fiction_metadata.sort_values(by=['Author Birth Century'])\n",
    "english_fiction_metadata.shape"
   ]
  },
  {
   "cell_type": "code",
   "execution_count": 41,
   "id": "d537ed15",
   "metadata": {},
   "outputs": [
    {
     "data": {
      "application/vnd.plotly.v1+json": {
       "config": {
        "plotlyServerURL": "https://plot.ly"
       },
       "data": [
        {
         "alignmentgroup": "True",
         "bingroup": "x",
         "hovertemplate": "Author Birth Century=%{x}<br>count=%{y}<extra></extra>",
         "legendgroup": "",
         "marker": {
          "color": "#636efa"
         },
         "name": "",
         "offsetgroup": "",
         "orientation": "v",
         "showlegend": false,
         "type": "histogram",
         "x": [
          "1500",
          "1500",
          "1500",
          "1500",
          "1500",
          "1500",
          "1500",
          "1500",
          "1500",
          "1500",
          "1500",
          "1500",
          "1500",
          "1500",
          "1500",
          "1500",
          "1500",
          "1500",
          "1500",
          "1500",
          "1500",
          "1500",
          "1500",
          "1500",
          "1500",
          "1500",
          "1500",
          "1500",
          "1500",
          "1500",
          "1500",
          "1500",
          "1500",
          "1500",
          "1500",
          "1500",
          "1500",
          "1500",
          "1500",
          "1500",
          "1500",
          "1500",
          "1500",
          "1500",
          "1500",
          "1500",
          "1500",
          "1500",
          "1500",
          "1600",
          "1600",
          "1600",
          "1600",
          "1600",
          "1600",
          "1600",
          "1600",
          "1600",
          "1600",
          "1600",
          "1600",
          "1600",
          "1600",
          "1600",
          "1600",
          "1600",
          "1600",
          "1600",
          "1600",
          "1600",
          "1600",
          "1600",
          "1600",
          "1600",
          "1600",
          "1600",
          "1600",
          "1600",
          "1600",
          "1600",
          "1600",
          "1600",
          "1600",
          "1600",
          "1600",
          "1600",
          "1600",
          "1600",
          "1600",
          "1600",
          "1700",
          "1700",
          "1700",
          "1700",
          "1700",
          "1700",
          "1700",
          "1700",
          "1700",
          "1700",
          "1700",
          "1700",
          "1700",
          "1700",
          "1700",
          "1700",
          "1700",
          "1700",
          "1700",
          "1700",
          "1700",
          "1700",
          "1700",
          "1700",
          "1700",
          "1700",
          "1700",
          "1700",
          "1700",
          "1700",
          "1700",
          "1700",
          "1700",
          "1700",
          "1700",
          "1700",
          "1700",
          "1700",
          "1700",
          "1700",
          "1700",
          "1700",
          "1700",
          "1700",
          "1700",
          "1700",
          "1700",
          "1700",
          "1700",
          "1700",
          "1700",
          "1700",
          "1700",
          "1700",
          "1700",
          "1700",
          "1700",
          "1700",
          "1700",
          "1700",
          "1700",
          "1700",
          "1700",
          "1700",
          "1700",
          "1700",
          "1700",
          "1700",
          "1700",
          "1700",
          "1700",
          "1700",
          "1700",
          "1700",
          "1700",
          "1700",
          "1700",
          "1700",
          "1700",
          "1700",
          "1700",
          "1700",
          "1700",
          "1700",
          "1700",
          "1700",
          "1700",
          "1700",
          "1700",
          "1700",
          "1700",
          "1700",
          "1700",
          "1700",
          "1700",
          "1700",
          "1700",
          "1700",
          "1700",
          "1700",
          "1700",
          "1700",
          "1700",
          "1700",
          "1700",
          "1700",
          "1700",
          "1700",
          "1700",
          "1700",
          "1700",
          "1700",
          "1700",
          "1700",
          "1700",
          "1700",
          "1700",
          "1700",
          "1700",
          "1700",
          "1700",
          "1700",
          "1700",
          "1700",
          "1700",
          "1700",
          "1700",
          "1700",
          "1700",
          "1700",
          "1700",
          "1700",
          "1700",
          "1700",
          "1700",
          "1700",
          "1700",
          "1700",
          "1700",
          "1700",
          "1700",
          "1700",
          "1700",
          "1700",
          "1700",
          "1700",
          "1700",
          "1700",
          "1700",
          "1700",
          "1700",
          "1700",
          "1700",
          "1700",
          "1700",
          "1700",
          "1700",
          "1700",
          "1700",
          "1700",
          "1700",
          "1700",
          "1700",
          "1700",
          "1700",
          "1700",
          "1700",
          "1700",
          "1700",
          "1700",
          "1700",
          "1700",
          "1700",
          "1700",
          "1700",
          "1700",
          "1700",
          "1700",
          "1700",
          "1700",
          "1700",
          "1700",
          "1700",
          "1700",
          "1700",
          "1700",
          "1700",
          "1700",
          "1700",
          "1700",
          "1700",
          "1700",
          "1700",
          "1700",
          "1700",
          "1700",
          "1700",
          "1700",
          "1700",
          "1700",
          "1700",
          "1700",
          "1700",
          "1700",
          "1700",
          "1700",
          "1700",
          "1700",
          "1700",
          "1700",
          "1700",
          "1700",
          "1700",
          "1700",
          "1700",
          "1700",
          "1700",
          "1700",
          "1700",
          "1700",
          "1700",
          "1700",
          "1700",
          "1700",
          "1700",
          "1700",
          "1700",
          "1700",
          "1700",
          "1700",
          "1700",
          "1700",
          "1700",
          "1700",
          "1700",
          "1700",
          "1700",
          "1700",
          "1700",
          "1700",
          "1700",
          "1700",
          "1700",
          "1700",
          "1700",
          "1700",
          "1700",
          "1700",
          "1700",
          "1700",
          "1700",
          "1700",
          "1700",
          "1700",
          "1700",
          "1700",
          "1700",
          "1700",
          "1700",
          "1700",
          "1700",
          "1700",
          "1700",
          "1700",
          "1700",
          "1700",
          "1700",
          "1700",
          "1700",
          "1700",
          "1700",
          "1700",
          "1700",
          "1700",
          "1700",
          "1700",
          "1700",
          "1700",
          "1700",
          "1700",
          "1700",
          "1700",
          "1700",
          "1700",
          "1700",
          "1700",
          "1700",
          "1700",
          "1700",
          "1700",
          "1700",
          "1700",
          "1700",
          "1700",
          "1700",
          "1700",
          "1700",
          "1700",
          "1700",
          "1700",
          "1700",
          "1700",
          "1700",
          "1700",
          "1700",
          "1700",
          "1700",
          "1700",
          "1700",
          "1700",
          "1700",
          "1700",
          "1700",
          "1700",
          "1800",
          "1800",
          "1800",
          "1800",
          "1800",
          "1800",
          "1800",
          "1800",
          "1800",
          "1800",
          "1800",
          "1800",
          "1800",
          "1800",
          "1800",
          "1800",
          "1800",
          "1800",
          "1800",
          "1800",
          "1800",
          "1800",
          "1800",
          "1800",
          "1800",
          "1800",
          "1800",
          "1800",
          "1800",
          "1800",
          "1800",
          "1800",
          "1800",
          "1800",
          "1800",
          "1800",
          "1800",
          "1800",
          "1800",
          "1800",
          "1800",
          "1800",
          "1800",
          "1800",
          "1800",
          "1800",
          "1800",
          "1800",
          "1800",
          "1800",
          "1800",
          "1800",
          "1800",
          "1800",
          "1800",
          "1800",
          "1800",
          "1800",
          "1800",
          "1800",
          "1800",
          "1800",
          "1800",
          "1800",
          "1800",
          "1800",
          "1800",
          "1800",
          "1800",
          "1800",
          "1800",
          "1800",
          "1800",
          "1800",
          "1800",
          "1800",
          "1800",
          "1800",
          "1800",
          "1800",
          "1800",
          "1800",
          "1800",
          "1800",
          "1800",
          "1800",
          "1800",
          "1800",
          "1800",
          "1800",
          "1800",
          "1800",
          "1800",
          "1800",
          "1800",
          "1800",
          "1800",
          "1800",
          "1800",
          "1800",
          "1800",
          "1800",
          "1800",
          "1800",
          "1800",
          "1800",
          "1800",
          "1800",
          "1800",
          "1800",
          "1800",
          "1800",
          "1800",
          "1800",
          "1800",
          "1800",
          "1800",
          "1800",
          "1800",
          "1800",
          "1800",
          "1800",
          "1800",
          "1800",
          "1800",
          "1800",
          "1800",
          "1800",
          "1800",
          "1800",
          "1800",
          "1800",
          "1800",
          "1800",
          "1800",
          "1800",
          "1800",
          "1800",
          "1800",
          "1800",
          "1800",
          "1800",
          "1800",
          "1800",
          "1800",
          "1800",
          "1800",
          "1800",
          "1800",
          "1800",
          "1800",
          "1800",
          "1800",
          "1800",
          "1800",
          "1800",
          "1800",
          "1800",
          "1800",
          "1800",
          "1800",
          "1800",
          "1800",
          "1800",
          "1800",
          "1800",
          "1800",
          "1800",
          "1800",
          "1800",
          "1800",
          "1800",
          "1800",
          "1800",
          "1800",
          "1800",
          "1800",
          "1800",
          "1800",
          "1800",
          "1800",
          "1800",
          "1800",
          "1800",
          "1800",
          "1800",
          "1800",
          "1800",
          "1800",
          "1800",
          "1800",
          "1800",
          "1800",
          "1800",
          "1800",
          "1800",
          "1800",
          "1800",
          "1800",
          "1800",
          "1800",
          "1800",
          "1800",
          "1800",
          "1800",
          "1800",
          "1800",
          "1800",
          "1800",
          "1800",
          "1800",
          "1800",
          "1800",
          "1800",
          "1800",
          "1800",
          "1800",
          "1800",
          "1800",
          "1800",
          "1800",
          "1800",
          "1800",
          "1800",
          "1800",
          "1800",
          "1800",
          "1800",
          "1800",
          "1800",
          "1800",
          "1800",
          "1800",
          "1800",
          "1800",
          "1800",
          "1800",
          "1800",
          "1800",
          "1800",
          "1800",
          "1800",
          "1800",
          "1800",
          "1800",
          "1800",
          "1800",
          "1800",
          "1800",
          "1800",
          "1800",
          "1800",
          "1800",
          "1800",
          "1800",
          "1800",
          "1800",
          "1800",
          "1800",
          "1800",
          "1800",
          "1800",
          "1800",
          "1800",
          "1800",
          "1800",
          "1800",
          "1800",
          "1800",
          "1800",
          "1800",
          "1800",
          "1800",
          "1800",
          "1800",
          "1800",
          "1800",
          "1800",
          "1800",
          "1800",
          "1800",
          "1800",
          "1800",
          "1800",
          "1800",
          "1800",
          "1800",
          "1800",
          "1800",
          "1800",
          "1800",
          "1800",
          "1800",
          "1800",
          "1800",
          "1800",
          "1800",
          "1800",
          "1800",
          "1800",
          "1800",
          "1800",
          "1800",
          "1800",
          "1800",
          "1800",
          "1800",
          "1800",
          "1800",
          "1800",
          "1800",
          "1800",
          "1800",
          "1800",
          "1800",
          "1800",
          "1800",
          "1800",
          "1800",
          "1800",
          "1800",
          "1800",
          "1800",
          "1800",
          "1800",
          "1800",
          "1800",
          "1800",
          "1800",
          "1800",
          "1800",
          "1800",
          "1800",
          "1800",
          "1800",
          "1800",
          "1800",
          "1800",
          "1800",
          "1800",
          "1800",
          "1800",
          "1800",
          "1800",
          "1800",
          "1800",
          "1800",
          "1800",
          "1800",
          "1800",
          "1800",
          "1800",
          "1800",
          "1800",
          "1800",
          "1800",
          "1800",
          "1800",
          "1800",
          "1800",
          "1800",
          "1800",
          "1800",
          "1800",
          "1800",
          "1800",
          "1800",
          "1800",
          "1800",
          "1800",
          "1800",
          "1800",
          "1800",
          "1800",
          "1800",
          "1800",
          "1800",
          "1800",
          "1800",
          "1800",
          "1800",
          "1800",
          "1800",
          "1800",
          "1800",
          "1800",
          "1800",
          "1800",
          "1800",
          "1800",
          "1800",
          "1800",
          "1800",
          "1800",
          "1800",
          "1800",
          "1800",
          "1800",
          "1800",
          "1800",
          "1800",
          "1800",
          "1800",
          "1800",
          "1800",
          "1800",
          "1800",
          "1800",
          "1800",
          "1800",
          "1800",
          "1800",
          "1800",
          "1800",
          "1800",
          "1800",
          "1800",
          "1800",
          "1800",
          "1800",
          "1800",
          "1800",
          "1800",
          "1800",
          "1800",
          "1800",
          "1800",
          "1800",
          "1800",
          "1800",
          "1800",
          "1800",
          "1800",
          "1800",
          "1800",
          "1800",
          "1800",
          "1800",
          "1800",
          "1800",
          "1800",
          "1800",
          "1800",
          "1800",
          "1800",
          "1800",
          "1800",
          "1800",
          "1800",
          "1800",
          "1800",
          "1800",
          "1800",
          "1800",
          "1800",
          "1800",
          "1800",
          "1800",
          "1800",
          "1800",
          "1800",
          "1800",
          "1800",
          "1800",
          "1800",
          "1800",
          "1800",
          "1800",
          "1800",
          "1800",
          "1800",
          "1800",
          "1800",
          "1800",
          "1800",
          "1800",
          "1800",
          "1800",
          "1800",
          "1800",
          "1800",
          "1800",
          "1800",
          "1800",
          "1800",
          "1800",
          "1800",
          "1800",
          "1800",
          "1800",
          "1800",
          "1800",
          "1800",
          "1800",
          "1800",
          "1800",
          "1800",
          "1800",
          "1800",
          "1800",
          "1800",
          "1800",
          "1800",
          "1800",
          "1800",
          "1800",
          "1800",
          "1800",
          "1800",
          "1800",
          "1800",
          "1800",
          "1800",
          "1800",
          "1800",
          "1800",
          "1800",
          "1800",
          "1800",
          "1800",
          "1800",
          "1800",
          "1800",
          "1800",
          "1800",
          "1800",
          "1800",
          "1800",
          "1800",
          "1800",
          "1800",
          "1800",
          "1800",
          "1800",
          "1800",
          "1800",
          "1800",
          "1800",
          "1800",
          "1800",
          "1800",
          "1800",
          "1800",
          "1800",
          "1800",
          "1800",
          "1800",
          "1800",
          "1800",
          "1800",
          "1800",
          "1800",
          "1800",
          "1800",
          "1800",
          "1800",
          "1800",
          "1800",
          "1800",
          "1800",
          "1800",
          "1800",
          "1800",
          "1800",
          "1800",
          "1800",
          "1800",
          "1800",
          "1800",
          "1800",
          "1800",
          "1800",
          "1800",
          "1800",
          "1800",
          "1800",
          "1800",
          "1800",
          "1800",
          "1800",
          "1800",
          "1800",
          "1800",
          "1800",
          "1800",
          "1800",
          "1800",
          "1800",
          "1800",
          "1800",
          "1800",
          "1800",
          "1800",
          "1800",
          "1800",
          "1800",
          "1800",
          "1800",
          "1800",
          "1800",
          "1800",
          "1800",
          "1800",
          "1800",
          "1800",
          "1800",
          "1800",
          "1800",
          "1800",
          "1800",
          "1800",
          "1800",
          "1800",
          "1800",
          "1800",
          "1800",
          "1800",
          "1800",
          "1800",
          "1800",
          "1800",
          "1800",
          "1800",
          "1800",
          "1800",
          "1800",
          "1800",
          "1800",
          "1800",
          "1800",
          "1800",
          "1800",
          "1800",
          "1800",
          "1800",
          "1800",
          "1800",
          "1800",
          "1800",
          "1800",
          "1800",
          "1800",
          "1800",
          "1800",
          "1800",
          "1800",
          "1800",
          "1800",
          "1800",
          "1800",
          "1800",
          "1800",
          "1800",
          "1800",
          "1800",
          "1800",
          "1800",
          "1800",
          "1800",
          "1800",
          "1800",
          "1800",
          "1800",
          "1800",
          "1800",
          "1800",
          "1800",
          "1800",
          "1800",
          "1800",
          "1800",
          "1800",
          "1800",
          "1800",
          "1800",
          "1800",
          "1800",
          "1800",
          "1800",
          "1800",
          "1800",
          "1800",
          "1800",
          "1800",
          "1800",
          "1800",
          "1800",
          "1800",
          "1800",
          "1800",
          "1800",
          "1800",
          "1800",
          "1800",
          "1800",
          "1800",
          "1800",
          "1800",
          "1800",
          "1800",
          "1800",
          "1800",
          "1800",
          "1800",
          "1800",
          "1800",
          "1800",
          "1800",
          "1800",
          "1800",
          "1800",
          "1800",
          "1800",
          "1800",
          "1800",
          "1800",
          "1800",
          "1800",
          "1800",
          "1800",
          "1800",
          "1800",
          "1800",
          "1800",
          "1800",
          "1800",
          "1800",
          "1800",
          "1800",
          "1800",
          "1800",
          "1800",
          "1800",
          "1800",
          "1800",
          "1800",
          "1800",
          "1800",
          "1800",
          "1800",
          "1800",
          "1800",
          "1800",
          "1800",
          "1800",
          "1800",
          "1800",
          "1800",
          "1800",
          "1800",
          "1800",
          "1800",
          "1800",
          "1800",
          "1800",
          "1800",
          "1800",
          "1800",
          "1800",
          "1800",
          "1800",
          "1800",
          "1800",
          "1800",
          "1800",
          "1800",
          "1800",
          "1800",
          "1800",
          "1800",
          "1800",
          "1800",
          "1800",
          "1800",
          "1800",
          "1800",
          "1800",
          "1800",
          "1800",
          "1800",
          "1800",
          "1800",
          "1800",
          "1800",
          "1800",
          "1800",
          "1800",
          "1800",
          "1800",
          "1800",
          "1800",
          "1800",
          "1800",
          "1800",
          "1800",
          "1800",
          "1800",
          "1800",
          "1800",
          "1800",
          "1800",
          "1800",
          "1800",
          "1800",
          "1800",
          "1800",
          "1800",
          "1800",
          "1800",
          "1800",
          "1800",
          "1800",
          "1800",
          "1800",
          "1800",
          "1800",
          "1800",
          "1800",
          "1800",
          "1800",
          "1800",
          "1800",
          "1800",
          "1800",
          "1800",
          "1800",
          "1800",
          "1800",
          "1800",
          "1800",
          "1800",
          "1800",
          "1800",
          "1800",
          "1800",
          "1800",
          "1800",
          "1800",
          "1800",
          "1800",
          "1800",
          "1800",
          "1800",
          "1800",
          "1800",
          "1800",
          "1800",
          "1800",
          "1800",
          "1800",
          "1800",
          "1800",
          "1800",
          "1800",
          "1800",
          "1800",
          "1800",
          "1800",
          "1800",
          "1800",
          "1800",
          "1800",
          "1800",
          "1800",
          "1800",
          "1800",
          "1800",
          "1800",
          "1800",
          "1800",
          "1800",
          "1800",
          "1800",
          "1800",
          "1800",
          "1800",
          "1800",
          "1800",
          "1800",
          "1800",
          "1800",
          "1800",
          "1800",
          "1800",
          "1800",
          "1800",
          "1800",
          "1800",
          "1800",
          "1800",
          "1800",
          "1800",
          "1800",
          "1800",
          "1800",
          "1800",
          "1800",
          "1800",
          "1800",
          "1800",
          "1800",
          "1800",
          "1800",
          "1800",
          "1800",
          "1800",
          "1800",
          "1800",
          "1800",
          "1800",
          "1800",
          "1800",
          "1800",
          "1800",
          "1800",
          "1800",
          "1800",
          "1800",
          "1800",
          "1800",
          "1800",
          "1800",
          "1800",
          "1800",
          "1800",
          "1800",
          "1800",
          "1800",
          "1800",
          "1800",
          "1800",
          "1800",
          "1800",
          "1800",
          "1800",
          "1800",
          "1800",
          "1800",
          "1800",
          "1800",
          "1800",
          "1800",
          "1800",
          "1800",
          "1800",
          "1800",
          "1800",
          "1800",
          "1800",
          "1800",
          "1800",
          "1800",
          "1800",
          "1800",
          "1800",
          "1800",
          "1800",
          "1800",
          "1800",
          "1800",
          "1800",
          "1800",
          "1800",
          "1800",
          "1800",
          "1800",
          "1800",
          "1800",
          "1800",
          "1800",
          "1800",
          "1800",
          "1800",
          "1800",
          "1800",
          "1800",
          "1800",
          "1800",
          "1800",
          "1800",
          "1800",
          "1800",
          "1800",
          "1800",
          "1800",
          "1800",
          "1800",
          "1800",
          "1800",
          "1800",
          "1800",
          "1800",
          "1800",
          "1800",
          "1800",
          "1800",
          "1800",
          "1800",
          "1800",
          "1800",
          "1800",
          "1800",
          "1800",
          "1800",
          "1800",
          "1800",
          "1800",
          "1800",
          "1800",
          "1800",
          "1800",
          "1800",
          "1800",
          "1800",
          "1800",
          "1800",
          "1800",
          "1800",
          "1800",
          "1800",
          "1800",
          "1800",
          "1800",
          "1800",
          "1800",
          "1800",
          "1800",
          "1800",
          "1800",
          "1800",
          "1800",
          "1800",
          "1800",
          "1800",
          "1800",
          "1800",
          "1800",
          "1800",
          "1800",
          "1800",
          "1800",
          "1800",
          "1800",
          "1800",
          "1800",
          "1800",
          "1800",
          "1800",
          "1800",
          "1800",
          "1800",
          "1800",
          "1800",
          "1800",
          "1800",
          "1800",
          "1800",
          "1800",
          "1800",
          "1800",
          "1800",
          "1800",
          "1800",
          "1800",
          "1800",
          "1800",
          "1800",
          "1800",
          "1800",
          "1800",
          "1800",
          "1800",
          "1800",
          "1800",
          "1800",
          "1800",
          "1800",
          "1800",
          "1800",
          "1800",
          "1800",
          "1800",
          "1800",
          "1800",
          "1800",
          "1800",
          "1800",
          "1800",
          "1800",
          "1800",
          "1800",
          "1800",
          "1800",
          "1800",
          "1800",
          "1800",
          "1800",
          "1800",
          "1800",
          "1800",
          "1800",
          "1800",
          "1800",
          "1800",
          "1800",
          "1800",
          "1800",
          "1800",
          "1800",
          "1800",
          "1800",
          "1800",
          "1800",
          "1800",
          "1800",
          "1800",
          "1800",
          "1800",
          "1800",
          "1800",
          "1800",
          "1800",
          "1800",
          "1800",
          "1800",
          "1800",
          "1800",
          "1800",
          "1800",
          "1800",
          "1800",
          "1800",
          "1800",
          "1800",
          "1800",
          "1800",
          "1800",
          "1800",
          "1800",
          "1800",
          "1800",
          "1800",
          "1800",
          "1800",
          "1800",
          "1800",
          "1800",
          "1800",
          "1800",
          "1800",
          "1800",
          "1800",
          "1800",
          "1800",
          "1800",
          "1800",
          "1800",
          "1800",
          "1800",
          "1800",
          "1800",
          "1800",
          "1800",
          "1800",
          "1800",
          "1800",
          "1800",
          "1800",
          "1800",
          "1800",
          "1800",
          "1800",
          "1800",
          "1800",
          "1800",
          "1800",
          "1800",
          "1800",
          "1800",
          "1800",
          "1800",
          "1800",
          "1800",
          "1800",
          "1800",
          "1800",
          "1800",
          "1800",
          "1800",
          "1800",
          "1800",
          "1800",
          "1800",
          "1800",
          "1800",
          "1800",
          "1800",
          "1800",
          "1800",
          "1800",
          "1800",
          "1800",
          "1800",
          "1800",
          "1800",
          "1800",
          "1800",
          "1800",
          "1800",
          "1800",
          "1800",
          "1800",
          "1800",
          "1800",
          "1800",
          "1800",
          "1800",
          "1800",
          "1800",
          "1800",
          "1800",
          "1800",
          "1800",
          "1800",
          "1800",
          "1800",
          "1800",
          "1800",
          "1800",
          "1800",
          "1800",
          "1800",
          "1800",
          "1800",
          "1800",
          "1800",
          "1800",
          "1800",
          "1800",
          "1800",
          "1800",
          "1800",
          "1800",
          "1800",
          "1800",
          "1800",
          "1800",
          "1800",
          "1800",
          "1800",
          "1800",
          "1800",
          "1800",
          "1800",
          "1800",
          "1800",
          "1800",
          "1800",
          "1800",
          "1800",
          "1800",
          "1800",
          "1800",
          "1800",
          "1800",
          "1800",
          "1800",
          "1800",
          "1800",
          "1800",
          "1800",
          "1800",
          "1800",
          "1800",
          "1800",
          "1800",
          "1800",
          "1800",
          "1800",
          "1800",
          "1800",
          "1800",
          "1800",
          "1800",
          "1800",
          "1800",
          "1800",
          "1800",
          "1800",
          "1800",
          "1800",
          "1800",
          "1800",
          "1800",
          "1800",
          "1800",
          "1800",
          "1800",
          "1800",
          "1800",
          "1800",
          "1800",
          "1800",
          "1800",
          "1800",
          "1800",
          "1800",
          "1800",
          "1800",
          "1800",
          "1800",
          "1800",
          "1800",
          "1800",
          "1800",
          "1800",
          "1800",
          "1800",
          "1800",
          "1800",
          "1800",
          "1800",
          "1800",
          "1800",
          "1800",
          "1800",
          "1800",
          "1800",
          "1800",
          "1800",
          "1800",
          "1800",
          "1800",
          "1800",
          "1800",
          "1800",
          "1800",
          "1800",
          "1800",
          "1800",
          "1800",
          "1800",
          "1800",
          "1800",
          "1800",
          "1800",
          "1800",
          "1800",
          "1800",
          "1800",
          "1800",
          "1800",
          "1800",
          "1800",
          "1800",
          "1800",
          "1800",
          "1800",
          "1800",
          "1800",
          "1800",
          "1800",
          "1800",
          "1800",
          "1800",
          "1800",
          "1800",
          "1800",
          "1800",
          "1800",
          "1800",
          "1800",
          "1800",
          "1800",
          "1800",
          "1800",
          "1800",
          "1800",
          "1800",
          "1800",
          "1800",
          "1800",
          "1800",
          "1800",
          "1800",
          "1800",
          "1800",
          "1800",
          "1800",
          "1800",
          "1800",
          "1800",
          "1800",
          "1800",
          "1800",
          "1800",
          "1800",
          "1800",
          "1800",
          "1800",
          "1800",
          "1800",
          "1800",
          "1800",
          "1800",
          "1800",
          "1800",
          "1800",
          "1800",
          "1800",
          "1800",
          "1800",
          "1800",
          "1800",
          "1800",
          "1800",
          "1800",
          "1800",
          "1800",
          "1800",
          "1800",
          "1800",
          "1800",
          "1800",
          "1800",
          "1800",
          "1800",
          "1800",
          "1800",
          "1800",
          "1800",
          "1800",
          "1800",
          "1800",
          "1800",
          "1800",
          "1800",
          "1800",
          "1800",
          "1800",
          "1800",
          "1800",
          "1800",
          "1800",
          "1800",
          "1800",
          "1800",
          "1800",
          "1800",
          "1800",
          "1800",
          "1800",
          "1800",
          "1800",
          "1800",
          "1800",
          "1800",
          "1800",
          "1800",
          "1800",
          "1800",
          "1800",
          "1800",
          "1800",
          "1800",
          "1800",
          "1800",
          "1800",
          "1800",
          "1800",
          "1800",
          "1800",
          "1800",
          "1800",
          "1800",
          "1800",
          "1800",
          "1800",
          "1800",
          "1800",
          "1800",
          "1800",
          "1800",
          "1800",
          "1800",
          "1800",
          "1800",
          "1800",
          "1800",
          "1800",
          "1800",
          "1800",
          "1800",
          "1800",
          "1800",
          "1800",
          "1800",
          "1800",
          "1800",
          "1800",
          "1800",
          "1800",
          "1800",
          "1800",
          "1800",
          "1800",
          "1800",
          "1800",
          "1800",
          "1800",
          "1800",
          "1800",
          "1800",
          "1800",
          "1800",
          "1800",
          "1800",
          "1800",
          "1800",
          "1800",
          "1800",
          "1800",
          "1800",
          "1800",
          "1800",
          "1800",
          "1800",
          "1800",
          "1800",
          "1800",
          "1800",
          "1800",
          "1800",
          "1800",
          "1800",
          "1800",
          "1800",
          "1800",
          "1800",
          "1800",
          "1800",
          "1800",
          "1800",
          "1800",
          "1800",
          "1800",
          "1800",
          "1800",
          "1800",
          "1800",
          "1800",
          "1800",
          "1800",
          "1800",
          "1800",
          "1800",
          "1800",
          "1800",
          "1800",
          "1800",
          "1800",
          "1800",
          "1800",
          "1800",
          "1800",
          "1800",
          "1800",
          "1800",
          "1800",
          "1800",
          "1800",
          "1800",
          "1800",
          "1800",
          "1800",
          "1800",
          "1800",
          "1800",
          "1800",
          "1800",
          "1800",
          "1800",
          "1800",
          "1800",
          "1800",
          "1800",
          "1800",
          "1800",
          "1800",
          "1800",
          "1800",
          "1800",
          "1800",
          "1800",
          "1800",
          "1800",
          "1800",
          "1800",
          "1800",
          "1800",
          "1800",
          "1800",
          "1800",
          "1800",
          "1800",
          "1800",
          "1800",
          "1800",
          "1800",
          "1800",
          "1800",
          "1800",
          "1800",
          "1800",
          "1800",
          "1800",
          "1800",
          "1800",
          "1800",
          "1800",
          "1800",
          "1800",
          "1800",
          "1800",
          "1800",
          "1800",
          "1800",
          "1800",
          "1800",
          "1800",
          "1800",
          "1800",
          "1800",
          "1800",
          "1800",
          "1800",
          "1800",
          "1800",
          "1800",
          "1800",
          "1800",
          "1800",
          "1800",
          "1800",
          "1800",
          "1800",
          "1800",
          "1800",
          "1800",
          "1800",
          "1800",
          "1800",
          "1800",
          "1800",
          "1800",
          "1800",
          "1800",
          "1800",
          "1800",
          "1800",
          "1800",
          "1800",
          "1800",
          "1800",
          "1800",
          "1800",
          "1800",
          "1800",
          "1800",
          "1800",
          "1800",
          "1800",
          "1800",
          "1800",
          "1800",
          "1800",
          "1800",
          "1800",
          "1800",
          "1800",
          "1800",
          "1800",
          "1800",
          "1800",
          "1800",
          "1800",
          "1800",
          "1800",
          "1800",
          "1800",
          "1800",
          "1800",
          "1800",
          "1800",
          "1800",
          "1800",
          "1800",
          "1800",
          "1800",
          "1800",
          "1800",
          "1800",
          "1800",
          "1800",
          "1800",
          "1800",
          "1800",
          "1800",
          "1800",
          "1800",
          "1800",
          "1800",
          "1800",
          "1800",
          "1800",
          "1800",
          "1800",
          "1800",
          "1800",
          "1800",
          "1800",
          "1800",
          "1800",
          "1800",
          "1800",
          "1800",
          "1800",
          "1800",
          "1800",
          "1800",
          "1800",
          "1800",
          "1800",
          "1800",
          "1800",
          "1800",
          "1800",
          "1800",
          "1800",
          "1800",
          "1800",
          "1800",
          "1800",
          "1800",
          "1800",
          "1800",
          "1800",
          "1800",
          "1800",
          "1800",
          "1800",
          "1800",
          "1800",
          "1800",
          "1800",
          "1800",
          "1800",
          "1800",
          "1800",
          "1800",
          "1800",
          "1800",
          "1800",
          "1800",
          "1800",
          "1800",
          "1800",
          "1800",
          "1800",
          "1800",
          "1800",
          "1800",
          "1800",
          "1800",
          "1800",
          "1800",
          "1800",
          "1800",
          "1800",
          "1800",
          "1800",
          "1800",
          "1800",
          "1800",
          "1800",
          "1800",
          "1800",
          "1800",
          "1800",
          "1800",
          "1800",
          "1800",
          "1800",
          "1800",
          "1800",
          "1800",
          "1800",
          "1800",
          "1800",
          "1800",
          "1800",
          "1800",
          "1800",
          "1800",
          "1800",
          "1800",
          "1800",
          "1800",
          "1800",
          "1800",
          "1800",
          "1800",
          "1800",
          "1800",
          "1800",
          "1800",
          "1800",
          "1800",
          "1800",
          "1800",
          "1800",
          "1800",
          "1800",
          "1800",
          "1800",
          "1800",
          "1800",
          "1800",
          "1800",
          "1800",
          "1800",
          "1800",
          "1800",
          "1800",
          "1800",
          "1800",
          "1800",
          "1800",
          "1800",
          "1800",
          "1800",
          "1800",
          "1800",
          "1800",
          "1800",
          "1800",
          "1800",
          "1800",
          "1800",
          "1800",
          "1800",
          "1800",
          "1800",
          "1800",
          "1800",
          "1800",
          "1800",
          "1800",
          "1800",
          "1800",
          "1800",
          "1800",
          "1800",
          "1800",
          "1800",
          "1800",
          "1800",
          "1800",
          "1800",
          "1800",
          "1800",
          "1800",
          "1800",
          "1800",
          "1800",
          "1800",
          "1800",
          "1800",
          "1800",
          "1800",
          "1800",
          "1800",
          "1800",
          "1800",
          "1800",
          "1800",
          "1800",
          "1800",
          "1800",
          "1800",
          "1800",
          "1800",
          "1800",
          "1800",
          "1800",
          "1800",
          "1800",
          "1800",
          "1800",
          "1800",
          "1800",
          "1800",
          "1800",
          "1800",
          "1800",
          "1800",
          "1800",
          "1800",
          "1800",
          "1800",
          "1800",
          "1800",
          "1800",
          "1800",
          "1800",
          "1800",
          "1800",
          "1800",
          "1800",
          "1800",
          "1800",
          "1800",
          "1800",
          "1800",
          "1800",
          "1800",
          "1800",
          "1800",
          "1800",
          "1800",
          "1800",
          "1800",
          "1800",
          "1800",
          "1800",
          "1800",
          "1800",
          "1800",
          "1800",
          "1800",
          "1800",
          "1800",
          "1800",
          "1800",
          "1800",
          "1800",
          "1800",
          "1800",
          "1800",
          "1800",
          "1800",
          "1800",
          "1800",
          "1800",
          "1800",
          "1800",
          "1800",
          "1800",
          "1800",
          "1800",
          "1800",
          "1800",
          "1800",
          "1800",
          "1800",
          "1800",
          "1800",
          "1800",
          "1800",
          "1800",
          "1800",
          "1800",
          "1800",
          "1800",
          "1800",
          "1800",
          "1800",
          "1800",
          "1800",
          "1800",
          "1800",
          "1800",
          "1800",
          "1800",
          "1800",
          "1800",
          "1800",
          "1800",
          "1800",
          "1800",
          "1800",
          "1800",
          "1800",
          "1800",
          "1800",
          "1800",
          "1800",
          "1800",
          "1800",
          "1800",
          "1800",
          "1800",
          "1800",
          "1800",
          "1800",
          "1800",
          "1800",
          "1800",
          "1800",
          "1800",
          "1800",
          "1800",
          "1800",
          "1800",
          "1800",
          "1800",
          "1800",
          "1800",
          "1800",
          "1800",
          "1800",
          "1800",
          "1800",
          "1800",
          "1800",
          "1800",
          "1800",
          "1800",
          "1800",
          "1800",
          "1800",
          "1800",
          "1800",
          "1800",
          "1800",
          "1800",
          "1800",
          "1800",
          "1800",
          "1800",
          "1800",
          "1800",
          "1800",
          "1800",
          "1800",
          "1800",
          "1800",
          "1800",
          "1800",
          "1800",
          "1800",
          "1800",
          "1800",
          "1800",
          "1800",
          "1800",
          "1800",
          "1800",
          "1800",
          "1800",
          "1800",
          "1800",
          "1800",
          "1800",
          "1800",
          "1800",
          "1800",
          "1800",
          "1800",
          "1800",
          "1800",
          "1800",
          "1800",
          "1800",
          "1800",
          "1800",
          "1800",
          "1800",
          "1800",
          "1800",
          "1800",
          "1800",
          "1800",
          "1800",
          "1800",
          "1800",
          "1800",
          "1800",
          "1800",
          "1800",
          "1800",
          "1800",
          "1800",
          "1800",
          "1800",
          "1800",
          "1800",
          "1800",
          "1800",
          "1800",
          "1800",
          "1800",
          "1800",
          "1800",
          "1800",
          "1800",
          "1800",
          "1800",
          "1800",
          "1800",
          "1800",
          "1800",
          "1800",
          "1800",
          "1800",
          "1800",
          "1800",
          "1800",
          "1800",
          "1800",
          "1800",
          "1800",
          "1800",
          "1800",
          "1800",
          "1800",
          "1800",
          "1800",
          "1800",
          "1800",
          "1800",
          "1800",
          "1800",
          "1800",
          "1800",
          "1800",
          "1800",
          "1800",
          "1800",
          "1800",
          "1800",
          "1800",
          "1800",
          "1800",
          "1800",
          "1800",
          "1800",
          "1800",
          "1800",
          "1800",
          "1800",
          "1800",
          "1800",
          "1800",
          "1800",
          "1800",
          "1800",
          "1800",
          "1800",
          "1800",
          "1800",
          "1800",
          "1800",
          "1800",
          "1800",
          "1800",
          "1800",
          "1800",
          "1800",
          "1800",
          "1800",
          "1800",
          "1800",
          "1800",
          "1800",
          "1800",
          "1800",
          "1800",
          "1800",
          "1800",
          "1800",
          "1800",
          "1800",
          "1800",
          "1800",
          "1800",
          "1800",
          "1800",
          "1800",
          "1800",
          "1800",
          "1800",
          "1800",
          "1800",
          "1800",
          "1800",
          "1800",
          "1800",
          "1800",
          "1800",
          "1800",
          "1800",
          "1800",
          "1800",
          "1800",
          "1800",
          "1800",
          "1800",
          "1800",
          "1800",
          "1800",
          "1800",
          "1800",
          "1800",
          "1800",
          "1800",
          "1800",
          "1800",
          "1800",
          "1800",
          "1800",
          "1800",
          "1800",
          "1800",
          "1800",
          "1800",
          "1800",
          "1800",
          "1800",
          "1800",
          "1800",
          "1800",
          "1800",
          "1800",
          "1800",
          "1800",
          "1800",
          "1800",
          "1800",
          "1800",
          "1800",
          "1800",
          "1800",
          "1800",
          "1800",
          "1800",
          "1800",
          "1800",
          "1800",
          "1800",
          "1800",
          "1800",
          "1800",
          "1800",
          "1800",
          "1800",
          "1800",
          "1800",
          "1800",
          "1800",
          "1800",
          "1800",
          "1800",
          "1800",
          "1800",
          "1800",
          "1800",
          "1800",
          "1800",
          "1800",
          "1800",
          "1800",
          "1800",
          "1800",
          "1800",
          "1800",
          "1800",
          "1800",
          "1800",
          "1800",
          "1800",
          "1800",
          "1800",
          "1800",
          "1800",
          "1800",
          "1800",
          "1800",
          "1800",
          "1800",
          "1800",
          "1800",
          "1800",
          "1800",
          "1800",
          "1800",
          "1800",
          "1800",
          "1800",
          "1800",
          "1800",
          "1800",
          "1800",
          "1800",
          "1800",
          "1800",
          "1800",
          "1800",
          "1800",
          "1800",
          "1800",
          "1800",
          "1800",
          "1800",
          "1800",
          "1800",
          "1800",
          "1800",
          "1800",
          "1800",
          "1800",
          "1800",
          "1800",
          "1800",
          "1800",
          "1800",
          "1800",
          "1800",
          "1800",
          "1800",
          "1800",
          "1800",
          "1800",
          "1800",
          "1800",
          "1800",
          "1800",
          "1800",
          "1800",
          "1800",
          "1800",
          "1800",
          "1800",
          "1800",
          "1800",
          "1800",
          "1800",
          "1800",
          "1800",
          "1800",
          "1800",
          "1800",
          "1800",
          "1800",
          "1800",
          "1800",
          "1800",
          "1800",
          "1800",
          "1800",
          "1800",
          "1800",
          "1800",
          "1800",
          "1800",
          "1800",
          "1800",
          "1800",
          "1800",
          "1800",
          "1800",
          "1800",
          "1800",
          "1800",
          "1800",
          "1800",
          "1800",
          "1800",
          "1800",
          "1800",
          "1800",
          "1800",
          "1800",
          "1800",
          "1800",
          "1800",
          "1800",
          "1800",
          "1800",
          "1800",
          "1800",
          "1800",
          "1800",
          "1800",
          "1800",
          "1800",
          "1800",
          "1800",
          "1800",
          "1800",
          "1800",
          "1800",
          "1800",
          "1800",
          "1800",
          "1800",
          "1800",
          "1800",
          "1800",
          "1800",
          "1800",
          "1800",
          "1800",
          "1800",
          "1800",
          "1800",
          "1800",
          "1800",
          "1800",
          "1800",
          "1800",
          "1800",
          "1800",
          "1800",
          "1800",
          "1800",
          "1800",
          "1800",
          "1800",
          "1800",
          "1800",
          "1800",
          "1800",
          "1800",
          "1800",
          "1800",
          "1800",
          "1800",
          "1800",
          "1800",
          "1800",
          "1800",
          "1800",
          "1800",
          "1800",
          "1800",
          "1800",
          "1800",
          "1800",
          "1800",
          "1800",
          "1800",
          "1800",
          "1800",
          "1800",
          "1800",
          "1800",
          "1800",
          "1800",
          "1800",
          "1800",
          "1800",
          "1800",
          "1800",
          "1800",
          "1800",
          "1800",
          "1800",
          "1800",
          "1800",
          "1800",
          "1800",
          "1800",
          "1800",
          "1800",
          "1800",
          "1800",
          "1800",
          "1800",
          "1800",
          "1800",
          "1800",
          "1800",
          "1800",
          "1800",
          "1800",
          "1800",
          "1800",
          "1800",
          "1800",
          "1800",
          "1800",
          "1800",
          "1800",
          "1800",
          "1800",
          "1800",
          "1800",
          "1800",
          "1800",
          "1800",
          "1800",
          "1800",
          "1800",
          "1800",
          "1800",
          "1800",
          "1800",
          "1800",
          "1800",
          "1800",
          "1800",
          "1800",
          "1800",
          "1800",
          "1800",
          "1800",
          "1800",
          "1800",
          "1800",
          "1800",
          "1800",
          "1800",
          "1800",
          "1800",
          "1800",
          "1800",
          "1800",
          "1800",
          "1800",
          "1800",
          "1800",
          "1800",
          "1800",
          "1800",
          "1800",
          "1800",
          "1800",
          "1800",
          "1800",
          "1800",
          "1800",
          "1800",
          "1800",
          "1800",
          "1800",
          "1800",
          "1800",
          "1800",
          "1800",
          "1800",
          "1800",
          "1800",
          "1800",
          "1800",
          "1800",
          "1800",
          "1800",
          "1800",
          "1800",
          "1800",
          "1800",
          "1800",
          "1800",
          "1800",
          "1800",
          "1800",
          "1800",
          "1800",
          "1800",
          "1800",
          "1800",
          "1800",
          "1800",
          "1800",
          "1800",
          "1800",
          "1800",
          "1800",
          "1800",
          "1800",
          "1800",
          "1800",
          "1800",
          "1800",
          "1800",
          "1800",
          "1800",
          "1800",
          "1800",
          "1800",
          "1800",
          "1800",
          "1800",
          "1800",
          "1800",
          "1800",
          "1800",
          "1800",
          "1800",
          "1800",
          "1800",
          "1800",
          "1800",
          "1800",
          "1800",
          "1800",
          "1800",
          "1800",
          "1800",
          "1800",
          "1800",
          "1800",
          "1800",
          "1800",
          "1800",
          "1800",
          "1800",
          "1800",
          "1800",
          "1800",
          "1800",
          "1800",
          "1800",
          "1800",
          "1800",
          "1800",
          "1800",
          "1800",
          "1800",
          "1800",
          "1800",
          "1800",
          "1800",
          "1800",
          "1800",
          "1800",
          "1800",
          "1800",
          "1800",
          "1800",
          "1800",
          "1800",
          "1800",
          "1800",
          "1800",
          "1800",
          "1800",
          "1800",
          "1800",
          "1800",
          "1800",
          "1800",
          "1800",
          "1800",
          "1800",
          "1800",
          "1800",
          "1800",
          "1800",
          "1800",
          "1800",
          "1800",
          "1800",
          "1800",
          "1800",
          "1800",
          "1800",
          "1800",
          "1800",
          "1800",
          "1800",
          "1800",
          "1800",
          "1800",
          "1800",
          "1800",
          "1800",
          "1800",
          "1800",
          "1800",
          "1800",
          "1800",
          "1800",
          "1800",
          "1800",
          "1800",
          "1800",
          "1800",
          "1800",
          "1800",
          "1800",
          "1800",
          "1800",
          "1800",
          "1800",
          "1800",
          "1800",
          "1800",
          "1800",
          "1800",
          "1800",
          "1800",
          "1800",
          "1800",
          "1800",
          "1800",
          "1800",
          "1800",
          "1800",
          "1800",
          "1800",
          "1800",
          "1800",
          "1800",
          "1800",
          "1800",
          "1800",
          "1800",
          "1800",
          "1800",
          "1800",
          "1800",
          "1800",
          "1800",
          "1800",
          "1800",
          "1800",
          "1800",
          "1800",
          "1800",
          "1800",
          "1800",
          "1800",
          "1800",
          "1800",
          "1800",
          "1800",
          "1800",
          "1800",
          "1800",
          "1800",
          "1800",
          "1800",
          "1800",
          "1800",
          "1800",
          "1800",
          "1800",
          "1800",
          "1800",
          "1800",
          "1800",
          "1800",
          "1800",
          "1800",
          "1800",
          "1800",
          "1800",
          "1800",
          "1800",
          "1800",
          "1800",
          "1800",
          "1800",
          "1800",
          "1800",
          "1800",
          "1800",
          "1800",
          "1800",
          "1800",
          "1800",
          "1800",
          "1800",
          "1800",
          "1800",
          "1800",
          "1800",
          "1800",
          "1800",
          "1800",
          "1800",
          "1800",
          "1800",
          "1800",
          "1800",
          "1800",
          "1800",
          "1800",
          "1800",
          "1800",
          "1800",
          "1800",
          "1800",
          "1800",
          "1800",
          "1800",
          "1800",
          "1800",
          "1800",
          "1800",
          "1800",
          "1800",
          "1800",
          "1800",
          "1800",
          "1800",
          "1800",
          "1800",
          "1800",
          "1800",
          "1800",
          "1800",
          "1800",
          "1800",
          "1800",
          "1800",
          "1800",
          "1800",
          "1800",
          "1800",
          "1800",
          "1800",
          "1800",
          "1800",
          "1800",
          "1800",
          "1800",
          "1800",
          "1800",
          "1800",
          "1800",
          "1800",
          "1800",
          "1800",
          "1800",
          "1800",
          "1800",
          "1800",
          "1800",
          "1800",
          "1800",
          "1800",
          "1800",
          "1800",
          "1800",
          "1800",
          "1800",
          "1800",
          "1800",
          "1800",
          "1800",
          "1800",
          "1800",
          "1800",
          "1800",
          "1800",
          "1800",
          "1800",
          "1800",
          "1800",
          "1800",
          "1800",
          "1800",
          "1800",
          "1800",
          "1800",
          "1800",
          "1800",
          "1800",
          "1800",
          "1800",
          "1800",
          "1800",
          "1800",
          "1800",
          "1800",
          "1800",
          "1800",
          "1800",
          "1800",
          "1800",
          "1800",
          "1800",
          "1800",
          "1800",
          "1800",
          "1800",
          "1800",
          "1800",
          "1800",
          "1800",
          "1800",
          "1800",
          "1800",
          "1800",
          "1800",
          "1800",
          "1800",
          "1800",
          "1800",
          "1800",
          "1800",
          "1800",
          "1800",
          "1800",
          "1800",
          "1800",
          "1800",
          "1800",
          "1800",
          "1800",
          "1800",
          "1800",
          "1800",
          "1800",
          "1800",
          "1800",
          "1800",
          "1800",
          "1800",
          "1800",
          "1800",
          "1800",
          "1800",
          "1800",
          "1800",
          "1800",
          "1800",
          "1800",
          "1800",
          "1800",
          "1800",
          "1800",
          "1800",
          "1800",
          "1800",
          "1800",
          "1800",
          "1800",
          "1800",
          "1800",
          "1800",
          "1800",
          "1800",
          "1800",
          "1800",
          "1800",
          "1800",
          "1800",
          "1800",
          "1800",
          "1800",
          "1800",
          "1800",
          "1800",
          "1800",
          "1800",
          "1800",
          "1800",
          "1800",
          "1800",
          "1800",
          "1800",
          "1800",
          "1800",
          "1800",
          "1800",
          "1800",
          "1800",
          "1800",
          "1800",
          "1800",
          "1800",
          "1800",
          "1800",
          "1800",
          "1800",
          "1800",
          "1800",
          "1800",
          "1800",
          "1800",
          "1800",
          "1800",
          "1800",
          "1800",
          "1800",
          "1800",
          "1800",
          "1800",
          "1800",
          "1800",
          "1800",
          "1800",
          "1800",
          "1800",
          "1800",
          "1800",
          "1800",
          "1800",
          "1800",
          "1800",
          "1800",
          "1800",
          "1800",
          "1800",
          "1800",
          "1800",
          "1800",
          "1800",
          "1800",
          "1800",
          "1800",
          "1800",
          "1800",
          "1800",
          "1800",
          "1800",
          "1800",
          "1800",
          "1800",
          "1800",
          "1800",
          "1800",
          "1800",
          "1800",
          "1800",
          "1800",
          "1800",
          "1800",
          "1800",
          "1800",
          "1800",
          "1800",
          "1800",
          "1800",
          "1800",
          "1800",
          "1800",
          "1800",
          "1800",
          "1800",
          "1800",
          "1800",
          "1800",
          "1800",
          "1800",
          "1800",
          "1800",
          "1800",
          "1800",
          "1800",
          "1800",
          "1800",
          "1800",
          "1800",
          "1800",
          "1800",
          "1800",
          "1800",
          "1800",
          "1800",
          "1800",
          "1800",
          "1800",
          "1800",
          "1800",
          "1800",
          "1800",
          "1800",
          "1800",
          "1800",
          "1800",
          "1800",
          "1800",
          "1800",
          "1800",
          "1800",
          "1800",
          "1800",
          "1800",
          "1800",
          "1800",
          "1800",
          "1800",
          "1800",
          "1800",
          "1800",
          "1800",
          "1800",
          "1800",
          "1800",
          "1800",
          "1800",
          "1800",
          "1800",
          "1800",
          "1800",
          "1800",
          "1800",
          "1800",
          "1800",
          "1800",
          "1800",
          "1800",
          "1800",
          "1800",
          "1800",
          "1800",
          "1800",
          "1800",
          "1800",
          "1800",
          "1800",
          "1800",
          "1800",
          "1800",
          "1800",
          "1800",
          "1800",
          "1800",
          "1800",
          "1800",
          "1800",
          "1800",
          "1800",
          "1800",
          "1800",
          "1800",
          "1800",
          "1800",
          "1800",
          "1800",
          "1800",
          "1800",
          "1800",
          "1800",
          "1800",
          "1800",
          "1800",
          "1800",
          "1800",
          "1800",
          "1800",
          "1800",
          "1800",
          "1800",
          "1800",
          "1800",
          "1800",
          "1800",
          "1800",
          "1800",
          "1800",
          "1800",
          "1800",
          "1800",
          "1800",
          "1800",
          "1800",
          "1800",
          "1800",
          "1800",
          "1800",
          "1800",
          "1800",
          "1800",
          "1800",
          "1800",
          "1800",
          "1800",
          "1800",
          "1800",
          "1800",
          "1800",
          "1800",
          "1800",
          "1800",
          "1800",
          "1800",
          "1800",
          "1800",
          "1800",
          "1800",
          "1800",
          "1800",
          "1800",
          "1800",
          "1800",
          "1800",
          "1800",
          "1800",
          "1800",
          "1800",
          "1800",
          "1800",
          "1800",
          "1800",
          "1800",
          "1800",
          "1800",
          "1800",
          "1800",
          "1800",
          "1800",
          "1800",
          "1800",
          "1800",
          "1800",
          "1800",
          "1800",
          "1800",
          "1800",
          "1800",
          "1800",
          "1800",
          "1800",
          "1800",
          "1800",
          "1800",
          "1800",
          "1800",
          "1800",
          "1800",
          "1800",
          "1800",
          "1800",
          "1800",
          "1800",
          "1800",
          "1800",
          "1800",
          "1800",
          "1800",
          "1800",
          "1800",
          "1800",
          "1800",
          "1800",
          "1800",
          "1800",
          "1800",
          "1800",
          "1800",
          "1800",
          "1800",
          "1800",
          "1800",
          "1800",
          "1800",
          "1800",
          "1800",
          "1800",
          "1800",
          "1800",
          "1800",
          "1800",
          "1800",
          "1800",
          "1800",
          "1800",
          "1800",
          "1800",
          "1800",
          "1800",
          "1800",
          "1800",
          "1800",
          "1800",
          "1800",
          "1800",
          "1800",
          "1800",
          "1800",
          "1800",
          "1800",
          "1800",
          "1800",
          "1800",
          "1800",
          "1800",
          "1800",
          "1800",
          "1800",
          "1800",
          "1800",
          "1800",
          "1800",
          "1800",
          "1800",
          "1800",
          "1800",
          "1800",
          "1800",
          "1800",
          "1800",
          "1800",
          "1800",
          "1800",
          "1800",
          "1800",
          "1800",
          "1800",
          "1800",
          "1800",
          "1800",
          "1800",
          "1800",
          "1800",
          "1800",
          "1800",
          "1800",
          "1800",
          "1800",
          "1800",
          "1800",
          "1800",
          "1800",
          "1800",
          "1800",
          "1800",
          "1800",
          "1800",
          "1800",
          "1800",
          "1800",
          "1800",
          "1800",
          "1800",
          "1800",
          "1800",
          "1800",
          "1800",
          "1800",
          "1800",
          "1800",
          "1800",
          "1800",
          "1800",
          "1800",
          "1800",
          "1800",
          "1800",
          "1800",
          "1800",
          "1800",
          "1800",
          "1800",
          "1800",
          "1800",
          "1800",
          "1800",
          "1800",
          "1800",
          "1800",
          "1800",
          "1800",
          "1800",
          "1800",
          "1800",
          "1800",
          "1800",
          "1800",
          "1800",
          "1800",
          "1800",
          "1800",
          "1800",
          "1800",
          "1800",
          "1800",
          "1800",
          "1800",
          "1800",
          "1800",
          "1800",
          "1800",
          "1800",
          "1800",
          "1800",
          "1800",
          "1800",
          "1800",
          "1800",
          "1800",
          "1800",
          "1800",
          "1800",
          "1800",
          "1800",
          "1800",
          "1800",
          "1800",
          "1800",
          "1800",
          "1800",
          "1800",
          "1800",
          "1800",
          "1800",
          "1800",
          "1800",
          "1800",
          "1800",
          "1800",
          "1800",
          "1800",
          "1800",
          "1800",
          "1800",
          "1800",
          "1800",
          "1800",
          "1800",
          "1800",
          "1800",
          "1800",
          "1800",
          "1800",
          "1800",
          "1800",
          "1800",
          "1800",
          "1800",
          "1800",
          "1800",
          "1800",
          "1800",
          "1800",
          "1800",
          "1800",
          "1800",
          "1800",
          "1800",
          "1800",
          "1800",
          "1800",
          "1800",
          "1800",
          "1800",
          "1800",
          "1800",
          "1800",
          "1800",
          "1800",
          "1800",
          "1800",
          "1800",
          "1800",
          "1800",
          "1800",
          "1800",
          "1800",
          "1800",
          "1800",
          "1800",
          "1800",
          "1800",
          "1800",
          "1800",
          "1800",
          "1800",
          "1800",
          "1800",
          "1800",
          "1800",
          "1800",
          "1800",
          "1800",
          "1800",
          "1800",
          "1800",
          "1800",
          "1800",
          "1800",
          "1800",
          "1800",
          "1800",
          "1800",
          "1800",
          "1800",
          "1800",
          "1800",
          "1800",
          "1800",
          "1800",
          "1800",
          "1800",
          "1800",
          "1800",
          "1800",
          "1800",
          "1800",
          "1800",
          "1800",
          "1800",
          "1800",
          "1800",
          "1800",
          "1800",
          "1800",
          "1800",
          "1800",
          "1800",
          "1800",
          "1800",
          "1800",
          "1800",
          "1800",
          "1800",
          "1800",
          "1800",
          "1800",
          "1800",
          "1800",
          "1800",
          "1800",
          "1800",
          "1800",
          "1800",
          "1800",
          "1800",
          "1800",
          "1800",
          "1800",
          "1800",
          "1800",
          "1800",
          "1800",
          "1800",
          "1800",
          "1800",
          "1800",
          "1800",
          "1800",
          "1800",
          "1800",
          "1800",
          "1800",
          "1800",
          "1800",
          "1800",
          "1800",
          "1800",
          "1800",
          "1800",
          "1800",
          "1800",
          "1800",
          "1800",
          "1800",
          "1800",
          "1800",
          "1800",
          "1800",
          "1800",
          "1800",
          "1800",
          "1800",
          "1800",
          "1800",
          "1800",
          "1800",
          "1800",
          "1800",
          "1800",
          "1800",
          "1800",
          "1800",
          "1800",
          "1800",
          "1800",
          "1800",
          "1800",
          "1800",
          "1800",
          "1800",
          "1800",
          "1800",
          "1800",
          "1800",
          "1800",
          "1800",
          "1800",
          "1800",
          "1800",
          "1800",
          "1800",
          "1800",
          "1800",
          "1800",
          "1800",
          "1800",
          "1800",
          "1800",
          "1800",
          "1800",
          "1800",
          "1800",
          "1800",
          "1800",
          "1800",
          "1800",
          "1800",
          "1800",
          "1800",
          "1800",
          "1800",
          "1800",
          "1800",
          "1800",
          "1800",
          "1800",
          "1800",
          "1800",
          "1800",
          "1800",
          "1800",
          "1800",
          "1800",
          "1800",
          "1800",
          "1800",
          "1800",
          "1800",
          "1800",
          "1800",
          "1800",
          "1800",
          "1800",
          "1800",
          "1800",
          "1800",
          "1800",
          "1800",
          "1800",
          "1800",
          "1800",
          "1800",
          "1800",
          "1800",
          "1800",
          "1800",
          "1800",
          "1800",
          "1800",
          "1800",
          "1800",
          "1800",
          "1800",
          "1800",
          "1800",
          "1800",
          "1800",
          "1800",
          "1800",
          "1800",
          "1800",
          "1800",
          "1800",
          "1800",
          "1800",
          "1800",
          "1800",
          "1800",
          "1800",
          "1800",
          "1800",
          "1800",
          "1800",
          "1800",
          "1800",
          "1800",
          "1800",
          "1800",
          "1800",
          "1800",
          "1800",
          "1800",
          "1800",
          "1800",
          "1800",
          "1800",
          "1800",
          "1800",
          "1800",
          "1800",
          "1800",
          "1800",
          "1800",
          "1800",
          "1800",
          "1800",
          "1800",
          "1800",
          "1800",
          "1800",
          "1800",
          "1800",
          "1800",
          "1800",
          "1800",
          "1800",
          "1800",
          "1800",
          "1800",
          "1800",
          "1800",
          "1800",
          "1800",
          "1800",
          "1800",
          "1800",
          "1800",
          "1800",
          "1800",
          "1800",
          "1800",
          "1800",
          "1800",
          "1800",
          "1800",
          "1800",
          "1800",
          "1800",
          "1800",
          "1800",
          "1800",
          "1800",
          "1800",
          "1800",
          "1800",
          "1800",
          "1800",
          "1800",
          "1800",
          "1800",
          "1800",
          "1800",
          "1800",
          "1800",
          "1800",
          "1800",
          "1800",
          "1800",
          "1800",
          "1800",
          "1800",
          "1800",
          "1800",
          "1800",
          "1800",
          "1800",
          "1800",
          "1800",
          "1800",
          "1800",
          "1800",
          "1800",
          "1800",
          "1800",
          "1800",
          "1800",
          "1800",
          "1800",
          "1800",
          "1800",
          "1800",
          "1800",
          "1800",
          "1800",
          "1800",
          "1800",
          "1800",
          "1800",
          "1800",
          "1800",
          "1800",
          "1800",
          "1800",
          "1800",
          "1800",
          "1800",
          "1800",
          "1800",
          "1800",
          "1800",
          "1800",
          "1800",
          "1800",
          "1800",
          "1800",
          "1800",
          "1800",
          "1800",
          "1800",
          "1800",
          "1800",
          "1800",
          "1800",
          "1800",
          "1800",
          "1800",
          "1800",
          "1800",
          "1800",
          "1800",
          "1800",
          "1800",
          "1800",
          "1800",
          "1800",
          "1800",
          "1800",
          "1800",
          "1800",
          "1800",
          "1800",
          "1800",
          "1800",
          "1800",
          "1800",
          "1800",
          "1800",
          "1800",
          "1800",
          "1800",
          "1800",
          "1800",
          "1800",
          "1800",
          "1800",
          "1800",
          "1800",
          "1800",
          "1800",
          "1800",
          "1800",
          "1800",
          "1800",
          "1800",
          "1800",
          "1800",
          "1800",
          "1800",
          "1800",
          "1800",
          "1800",
          "1800",
          "1800",
          "1800",
          "1800",
          "1800",
          "1800",
          "1800",
          "1800",
          "1800",
          "1800",
          "1800",
          "1800",
          "1800",
          "1800",
          "1800",
          "1800",
          "1800",
          "1800",
          "1800",
          "1800",
          "1800",
          "1800",
          "1800",
          "1800",
          "1800",
          "1800",
          "1800",
          "1800",
          "1800",
          "1800",
          "1800",
          "1800",
          "1800",
          "1800",
          "1800",
          "1800",
          "1800",
          "1800",
          "1800",
          "1800",
          "1800",
          "1800",
          "1800",
          "1800",
          "1800",
          "1800",
          "1800",
          "1800",
          "1800",
          "1800",
          "1800",
          "1800",
          "1800",
          "1800",
          "1800",
          "1800",
          "1800",
          "1800",
          "1800",
          "1800",
          "1800",
          "1800",
          "1800",
          "1800",
          "1800",
          "1800",
          "1800",
          "1800",
          "1800",
          "1800",
          "1800",
          "1800",
          "1800",
          "1800",
          "1800",
          "1800",
          "1800",
          "1800",
          "1800",
          "1800",
          "1800",
          "1800",
          "1800",
          "1800",
          "1800",
          "1800",
          "1800",
          "1800",
          "1800",
          "1800",
          "1800",
          "1800",
          "1800",
          "1800",
          "1800",
          "1800",
          "1800",
          "1800",
          "1800",
          "1800",
          "1800",
          "1800",
          "1800",
          "1800",
          "1800",
          "1800",
          "1800",
          "1800",
          "1800",
          "1800",
          "1800",
          "1800",
          "1800",
          "1800",
          "1800",
          "1800",
          "1800",
          "1800",
          "1800",
          "1800",
          "1800",
          "1800",
          "1800",
          "1800",
          "1800",
          "1800",
          "1800",
          "1800",
          "1800",
          "1800",
          "1800",
          "1800",
          "1800",
          "1800",
          "1800",
          "1800",
          "1800",
          "1800",
          "1800",
          "1800",
          "1800",
          "1800",
          "1800",
          "1800",
          "1800",
          "1800",
          "1800",
          "1800",
          "1800",
          "1800",
          "1800",
          "1800",
          "1800",
          "1800",
          "1800",
          "1800",
          "1800",
          "1800",
          "1800",
          "1800",
          "1800",
          "1800",
          "1800",
          "1800",
          "1800",
          "1800",
          "1800",
          "1800",
          "1800",
          "1800",
          "1800",
          "1800",
          "1800",
          "1800",
          "1800",
          "1800",
          "1800",
          "1800",
          "1800",
          "1800",
          "1800",
          "1800",
          "1800",
          "1800",
          "1800",
          "1800",
          "1800",
          "1800",
          "1800",
          "1800",
          "1800",
          "1800",
          "1800",
          "1800",
          "1800",
          "1800",
          "1800",
          "1800",
          "1800",
          "1800",
          "1800",
          "1800",
          "1800",
          "1800",
          "1800",
          "1800",
          "1800",
          "1800",
          "1800",
          "1800",
          "1800",
          "1800",
          "1800",
          "1800",
          "1800",
          "1800",
          "1800",
          "1800",
          "1800",
          "1800",
          "1800",
          "1800",
          "1800",
          "1800",
          "1800",
          "1800",
          "1800",
          "1800",
          "1800",
          "1800",
          "1800",
          "1800",
          "1800",
          "1800",
          "1800",
          "1800",
          "1800",
          "1800",
          "1800",
          "1800",
          "1800",
          "1800",
          "1800",
          "1800",
          "1800",
          "1800",
          "1800",
          "1800",
          "1800",
          "1800",
          "1800",
          "1800",
          "1800",
          "1800",
          "1800",
          "1800",
          "1800",
          "1800",
          "1800",
          "1800",
          "1800",
          "1800",
          "1800",
          "1800",
          "1800",
          "1800",
          "1800",
          "1800",
          "1800",
          "1800",
          "1800",
          "1800",
          "1800",
          "1800",
          "1800",
          "1800",
          "1800",
          "1800",
          "1800",
          "1800",
          "1800",
          "1800",
          "1800",
          "1800",
          "1800",
          "1800",
          "1800",
          "1800",
          "1800",
          "1800",
          "1800",
          "1800",
          "1800",
          "1800",
          "1800",
          "1800",
          "1800",
          "1800",
          "1800",
          "1800",
          "1800",
          "1800",
          "1800",
          "1800",
          "1800",
          "1800",
          "1800",
          "1800",
          "1800",
          "1800",
          "1800",
          "1800",
          "1800",
          "1800",
          "1800",
          "1800",
          "1800",
          "1800",
          "1800",
          "1800",
          "1800",
          "1800",
          "1800",
          "1800",
          "1800",
          "1800",
          "1800",
          "1800",
          "1800",
          "1800",
          "1800",
          "1800",
          "1800",
          "1800",
          "1800",
          "1800",
          "1800",
          "1800",
          "1800",
          "1800",
          "1800",
          "1800",
          "1800",
          "1800",
          "1800",
          "1800",
          "1800",
          "1800",
          "1800",
          "1800",
          "1800",
          "1800",
          "1800",
          "1800",
          "1800",
          "1800",
          "1800",
          "1800",
          "1800",
          "1800",
          "1800",
          "1800",
          "1800",
          "1800",
          "1800",
          "1800",
          "1800",
          "1800",
          "1800",
          "1800",
          "1800",
          "1800",
          "1800",
          "1800",
          "1800",
          "1800",
          "1800",
          "1800",
          "1800",
          "1800",
          "1800",
          "1800",
          "1800",
          "1800",
          "1800",
          "1800",
          "1800",
          "1800",
          "1800",
          "1800",
          "1800",
          "1800",
          "1800",
          "1800",
          "1800",
          "1800",
          "1800",
          "1800",
          "1800",
          "1800",
          "1800",
          "1800",
          "1800",
          "1800",
          "1800",
          "1800",
          "1800",
          "1800",
          "1800",
          "1800",
          "1800",
          "1800",
          "1800",
          "1800",
          "1800",
          "1800",
          "1800",
          "1800",
          "1800",
          "1800",
          "1800",
          "1800",
          "1800",
          "1800",
          "1800",
          "1800",
          "1800",
          "1800",
          "1800",
          "1800",
          "1800",
          "1800",
          "1800",
          "1800",
          "1800",
          "1800",
          "1800",
          "1800",
          "1800",
          "1800",
          "1800",
          "1800",
          "1800",
          "1800",
          "1800",
          "1800",
          "1800",
          "1800",
          "1800",
          "1800",
          "1800",
          "1800",
          "1800",
          "1800",
          "1800",
          "1800",
          "1800",
          "1800",
          "1800",
          "1800",
          "1800",
          "1800",
          "1800",
          "1800",
          "1800",
          "1800",
          "1800",
          "1800",
          "1800",
          "1800",
          "1800",
          "1800",
          "1800",
          "1800",
          "1800",
          "1800",
          "1800",
          "1800",
          "1800",
          "1800",
          "1800",
          "1800",
          "1800",
          "1800",
          "1800",
          "1800",
          "1800",
          "1800",
          "1800",
          "1800",
          "1800",
          "1800",
          "1800",
          "1800",
          "1800",
          "1800",
          "1800",
          "1800",
          "1800",
          "1800",
          "1800",
          "1800",
          "1800",
          "1800",
          "1800",
          "1800",
          "1800",
          "1800",
          "1800",
          "1800",
          "1800",
          "1800",
          "1800",
          "1800",
          "1800",
          "1800",
          "1800",
          "1800",
          "1800",
          "1800",
          "1800",
          "1800",
          "1800",
          "1800",
          "1800",
          "1800",
          "1800",
          "1800",
          "1800",
          "1800",
          "1800",
          "1800",
          "1800",
          "1800",
          "1800",
          "1800",
          "1800",
          "1800",
          "1800",
          "1800",
          "1800",
          "1800",
          "1800",
          "1800",
          "1800",
          "1800",
          "1800",
          "1800",
          "1800",
          "1800",
          "1800",
          "1800",
          "1800",
          "1800",
          "1800",
          "1800",
          "1800",
          "1800",
          "1800",
          "1800",
          "1800",
          "1800",
          "1800",
          "1800",
          "1800",
          "1800",
          "1800",
          "1800",
          "1800",
          "1800",
          "1800",
          "1800",
          "1800",
          "1800",
          "1800",
          "1800",
          "1800",
          "1800",
          "1800",
          "1800",
          "1800",
          "1800",
          "1800",
          "1800",
          "1800",
          "1800",
          "1800",
          "1800",
          "1800",
          "1800",
          "1800",
          "1800",
          "1800",
          "1800",
          "1800",
          "1800",
          "1800",
          "1800",
          "1800",
          "1800",
          "1800",
          "1800",
          "1800",
          "1800",
          "1800",
          "1800",
          "1800",
          "1800",
          "1800",
          "1800",
          "1800",
          "1800",
          "1800",
          "1800",
          "1800",
          "1800",
          "1800",
          "1800",
          "1800",
          "1800",
          "1800",
          "1800",
          "1800",
          "1800",
          "1800",
          "1800",
          "1800",
          "1800",
          "1800",
          "1800",
          "1800",
          "1800",
          "1800",
          "1800",
          "1800",
          "1800",
          "1800",
          "1800",
          "1800",
          "1800",
          "1800",
          "1800",
          "1800",
          "1800",
          "1800",
          "1800",
          "1800",
          "1800",
          "1800",
          "1800",
          "1800",
          "1800",
          "1800",
          "1800",
          "1800",
          "1800",
          "1800",
          "1800",
          "1800",
          "1800",
          "1800",
          "1800",
          "1800",
          "1800",
          "1800",
          "1800",
          "1800",
          "1800",
          "1800",
          "1800",
          "1800",
          "1800",
          "1800",
          "1800",
          "1800",
          "1800",
          "1800",
          "1800",
          "1800",
          "1800",
          "1800",
          "1800",
          "1800",
          "1800",
          "1800",
          "1800",
          "1800",
          "1800",
          "1800",
          "1800",
          "1800",
          "1800",
          "1800",
          "1800",
          "1800",
          "1800",
          "1800",
          "1800",
          "1800",
          "1800",
          "1800",
          "1800",
          "1800",
          "1800",
          "1800",
          "1800",
          "1800",
          "1800",
          "1800",
          "1800",
          "1800",
          "1800",
          "1800",
          "1800",
          "1800",
          "1800",
          "1800",
          "1800",
          "1800",
          "1800",
          "1800",
          "1800",
          "1800",
          "1800",
          "1800",
          "1800",
          "1800",
          "1800",
          "1800",
          "1800",
          "1800",
          "1800",
          "1800",
          "1800",
          "1800",
          "1800",
          "1800",
          "1800",
          "1800",
          "1800",
          "1800",
          "1800",
          "1800",
          "1800",
          "1800",
          "1800",
          "1800",
          "1800",
          "1800",
          "1800",
          "1800",
          "1800",
          "1800",
          "1800",
          "1800",
          "1800",
          "1800",
          "1800",
          "1800",
          "1800",
          "1800",
          "1800",
          "1800",
          "1800",
          "1800",
          "1800",
          "1800",
          "1800",
          "1800",
          "1800",
          "1800",
          "1800",
          "1800",
          "1800",
          "1800",
          "1800",
          "1800",
          "1800",
          "1800",
          "1800",
          "1800",
          "1800",
          "1800",
          "1800",
          "1800",
          "1800",
          "1800",
          "1800",
          "1800",
          "1800",
          "1800",
          "1800",
          "1800",
          "1800",
          "1800",
          "1800",
          "1800",
          "1800",
          "1800",
          "1800",
          "1800",
          "1800",
          "1800",
          "1800",
          "1800",
          "1800",
          "1800",
          "1800",
          "1800",
          "1800",
          "1800",
          "1800",
          "1800",
          "1800",
          "1800",
          "1800",
          "1800",
          "1800",
          "1800",
          "1800",
          "1800",
          "1800",
          "1800",
          "1800",
          "1800",
          "1800",
          "1800",
          "1800",
          "1800",
          "1800",
          "1800",
          "1800",
          "1800",
          "1800",
          "1800",
          "1800",
          "1800",
          "1800",
          "1800",
          "1800",
          "1800",
          "1800",
          "1800",
          "1800",
          "1800",
          "1800",
          "1800",
          "1800",
          "1800",
          "1800",
          "1800",
          "1800",
          "1800",
          "1800",
          "1800",
          "1800",
          "1800",
          "1800",
          "1800",
          "1800",
          "1800",
          "1800",
          "1800",
          "1800",
          "1800",
          "1800",
          "1800",
          "1800",
          "1800",
          "1800",
          "1800",
          "1800",
          "1800",
          "1800",
          "1800",
          "1800",
          "1800",
          "1800",
          "1800",
          "1800",
          "1800",
          "1800",
          "1800",
          "1800",
          "1800",
          "1800",
          "1800",
          "1800",
          "1800",
          "1800",
          "1800",
          "1800",
          "1800",
          "1800",
          "1800",
          "1800",
          "1800",
          "1800",
          "1800",
          "1800",
          "1800",
          "1800",
          "1800",
          "1800",
          "1800",
          "1800",
          "1800",
          "1800",
          "1800",
          "1800",
          "1800",
          "1800",
          "1800",
          "1800",
          "1800",
          "1800",
          "1800",
          "1800",
          "1800",
          "1800",
          "1800",
          "1800",
          "1800",
          "1800",
          "1800",
          "1800",
          "1800",
          "1800",
          "1800",
          "1800",
          "1800",
          "1800",
          "1800",
          "1800",
          "1800",
          "1800",
          "1800",
          "1800",
          "1800",
          "1800",
          "1800",
          "1800",
          "1800",
          "1800",
          "1800",
          "1800",
          "1800",
          "1800",
          "1800",
          "1800",
          "1800",
          "1800",
          "1800",
          "1800",
          "1800",
          "1800",
          "1800",
          "1800",
          "1800",
          "1800",
          "1800",
          "1800",
          "1800",
          "1800",
          "1800",
          "1800",
          "1800",
          "1800",
          "1800",
          "1800",
          "1800",
          "1800",
          "1800",
          "1800",
          "1800",
          "1800",
          "1800",
          "1800",
          "1800",
          "1800",
          "1800",
          "1800",
          "1800",
          "1800",
          "1800",
          "1800",
          "1800",
          "1800",
          "1800",
          "1800",
          "1800",
          "1800",
          "1800",
          "1800",
          "1800",
          "1800",
          "1800",
          "1800",
          "1800",
          "1800",
          "1800",
          "1800",
          "1800",
          "1800",
          "1800",
          "1800",
          "1800",
          "1800",
          "1800",
          "1800",
          "1800",
          "1800",
          "1800",
          "1800",
          "1800",
          "1800",
          "1800",
          "1800",
          "1800",
          "1800",
          "1800",
          "1800",
          "1800",
          "1800",
          "1800",
          "1800",
          "1800",
          "1800",
          "1800",
          "1800",
          "1800",
          "1800",
          "1800",
          "1800",
          "1800",
          "1800",
          "1800",
          "1800",
          "1800",
          "1800",
          "1800",
          "1800",
          "1800",
          "1800",
          "1800",
          "1800",
          "1800",
          "1800",
          "1800",
          "1800",
          "1800",
          "1800",
          "1800",
          "1800",
          "1800",
          "1800",
          "1800",
          "1800",
          "1800",
          "1800",
          "1800",
          "1800",
          "1800",
          "1800",
          "1800",
          "1800",
          "1800",
          "1800",
          "1800",
          "1800",
          "1800",
          "1800",
          "1800",
          "1800",
          "1800",
          "1800",
          "1800",
          "1800",
          "1800",
          "1800",
          "1800",
          "1800",
          "1800",
          "1800",
          "1800",
          "1800",
          "1800",
          "1800",
          "1800",
          "1800",
          "1800",
          "1800",
          "1800",
          "1800",
          "1800",
          "1800",
          "1800",
          "1800",
          "1800",
          "1800",
          "1800",
          "1800",
          "1800",
          "1800",
          "1800",
          "1800",
          "1800",
          "1800",
          "1800",
          "1800",
          "1800",
          "1800",
          "1800",
          "1800",
          "1800",
          "1800",
          "1800",
          "1800",
          "1800",
          "1800",
          "1800",
          "1800",
          "1800",
          "1800",
          "1800",
          "1800",
          "1800",
          "1800",
          "1800",
          "1800",
          "1800",
          "1800",
          "1800",
          "1800",
          "1800",
          "1800",
          "1800",
          "1800",
          "1800",
          "1800",
          "1800",
          "1800",
          "1800",
          "1800",
          "1800",
          "1800",
          "1800",
          "1800",
          "1800",
          "1800",
          "1800",
          "1800",
          "1800",
          "1800",
          "1800",
          "1800",
          "1800",
          "1800",
          "1800",
          "1800",
          "1800",
          "1800",
          "1800",
          "1800",
          "1800",
          "1800",
          "1800",
          "1800",
          "1800",
          "1800",
          "1800",
          "1800",
          "1800",
          "1800",
          "1800",
          "1800",
          "1800",
          "1800",
          "1800",
          "1800",
          "1800",
          "1800",
          "1800",
          "1800",
          "1800",
          "1800",
          "1800",
          "1800",
          "1800",
          "1800",
          "1800",
          "1800",
          "1800",
          "1800",
          "1800",
          "1800",
          "1800",
          "1800",
          "1800",
          "1800",
          "1800",
          "1800",
          "1800",
          "1800",
          "1800",
          "1800",
          "1800",
          "1800",
          "1800",
          "1800",
          "1800",
          "1800",
          "1800",
          "1800",
          "1800",
          "1800",
          "1800",
          "1800",
          "1800",
          "1800",
          "1800",
          "1800",
          "1800",
          "1800",
          "1800",
          "1800",
          "1800",
          "1800",
          "1800",
          "1800",
          "1800",
          "1800",
          "1800",
          "1800",
          "1800",
          "1800",
          "1800",
          "1800",
          "1800",
          "1800",
          "1800",
          "1800",
          "1800",
          "1800",
          "1800",
          "1800",
          "1800",
          "1800",
          "1800",
          "1800",
          "1800",
          "1800",
          "1800",
          "1800",
          "1800",
          "1800",
          "1800",
          "1800",
          "1800",
          "1800",
          "1800",
          "1800",
          "1800",
          "1800",
          "1800",
          "1800",
          "1800",
          "1800",
          "1800",
          "1800",
          "1800",
          "1800",
          "1800",
          "1800",
          "1800",
          "1800",
          "1800",
          "1800",
          "1800",
          "1800",
          "1800",
          "1800",
          "1800",
          "1800",
          "1800",
          "1800",
          "1800",
          "1800",
          "1800",
          "1800",
          "1800",
          "1800",
          "1800",
          "1800",
          "1800",
          "1800",
          "1800",
          "1800",
          "1800",
          "1800",
          "1800",
          "1800",
          "1800",
          "1800",
          "1800",
          "1800",
          "1800",
          "1800",
          "1800",
          "1800",
          "1800",
          "1800",
          "1800",
          "1800",
          "1800",
          "1800",
          "1800",
          "1800",
          "1800",
          "1800",
          "1800",
          "1800",
          "1800",
          "1800",
          "1800",
          "1800",
          "1800",
          "1800",
          "1800",
          "1800",
          "1800",
          "1800",
          "1800",
          "1800",
          "1800",
          "1800",
          "1800",
          "1800",
          "1800",
          "1800",
          "1800",
          "1800",
          "1800",
          "1800",
          "1800",
          "1800",
          "1800",
          "1800",
          "1800",
          "1800",
          "1800",
          "1800",
          "1800",
          "1800",
          "1800",
          "1800",
          "1800",
          "1800",
          "1800",
          "1800",
          "1800",
          "1800",
          "1800",
          "1800",
          "1800",
          "1800",
          "1800",
          "1800",
          "1800",
          "1800",
          "1800",
          "1800",
          "1800",
          "1800",
          "1800",
          "1800",
          "1800",
          "1800",
          "1800",
          "1800",
          "1800",
          "1800",
          "1800",
          "1800",
          "1800",
          "1800",
          "1800",
          "1800",
          "1800",
          "1800",
          "1800",
          "1800",
          "1800",
          "1800",
          "1800",
          "1800",
          "1800",
          "1800",
          "1800",
          "1800",
          "1800",
          "1800",
          "1800",
          "1800",
          "1800",
          "1800",
          "1800",
          "1800",
          "1800",
          "1800",
          "1800",
          "1800",
          "1800",
          "1800",
          "1800",
          "1800",
          "1800",
          "1800",
          "1800",
          "1800",
          "1800",
          "1800",
          "1800",
          "1800",
          "1800",
          "1800",
          "1800",
          "1800",
          "1800",
          "1800",
          "1800",
          "1800",
          "1800",
          "1800",
          "1800",
          "1800",
          "1800",
          "1800",
          "1800",
          "1800",
          "1800",
          "1800",
          "1800",
          "1800",
          "1800",
          "1800",
          "1800",
          "1800",
          "1800",
          "1800",
          "1800",
          "1800",
          "1800",
          "1800",
          "1800",
          "1800",
          "1800",
          "1800",
          "1800",
          "1800",
          "1800",
          "1800",
          "1800",
          "1800",
          "1800",
          "1800",
          "1800",
          "1800",
          "1800",
          "1800",
          "1800",
          "1800",
          "1800",
          "1800",
          "1800",
          "1800",
          "1800",
          "1800",
          "1800",
          "1800",
          "1800",
          "1800",
          "1800",
          "1800",
          "1800",
          "1800",
          "1800",
          "1800",
          "1800",
          "1800",
          "1800",
          "1800",
          "1800",
          "1800",
          "1800",
          "1800",
          "1800",
          "1800",
          "1800",
          "1800",
          "1800",
          "1800",
          "1800",
          "1800",
          "1800",
          "1800",
          "1800",
          "1800",
          "1800",
          "1800",
          "1800",
          "1800",
          "1800",
          "1800",
          "1800",
          "1800",
          "1800",
          "1800",
          "1800",
          "1800",
          "1800",
          "1800",
          "1800",
          "1800",
          "1800",
          "1800",
          "1800",
          "1800",
          "1800",
          "1800",
          "1800",
          "1800",
          "1800",
          "1800",
          "1800",
          "1800",
          "1800",
          "1800",
          "1800",
          "1800",
          "1800",
          "1800",
          "1800",
          "1800",
          "1800",
          "1800",
          "1800",
          "1800",
          "1800",
          "1800",
          "1800",
          "1800",
          "1800",
          "1800",
          "1800",
          "1800",
          "1800",
          "1800",
          "1800",
          "1800",
          "1800",
          "1800",
          "1800",
          "1800",
          "1800",
          "1800",
          "1800",
          "1800",
          "1800",
          "1800",
          "1800",
          "1800",
          "1800",
          "1800",
          "1800",
          "1800",
          "1800",
          "1800",
          "1800",
          "1800",
          "1800",
          "1800",
          "1800",
          "1800",
          "1800",
          "1800",
          "1800",
          "1800",
          "1800",
          "1800",
          "1800",
          "1800",
          "1800",
          "1800",
          "1800",
          "1800",
          "1800",
          "1800",
          "1800",
          "1800",
          "1800",
          "1800",
          "1800",
          "1800",
          "1800",
          "1800",
          "1800",
          "1800",
          "1800",
          "1800",
          "1800",
          "1800",
          "1800",
          "1800",
          "1800",
          "1800",
          "1800",
          "1800",
          "1800",
          "1800",
          "1800",
          "1800",
          "1800",
          "1800",
          "1800",
          "1800",
          "1800",
          "1800",
          "1800",
          "1800",
          "1800",
          "1800",
          "1800",
          "1800",
          "1800",
          "1800",
          "1800",
          "1800",
          "1800",
          "1800",
          "1800",
          "1800",
          "1800",
          "1800",
          "1800",
          "1800",
          "1800",
          "1800",
          "1800",
          "1800",
          "1800",
          "1800",
          "1800",
          "1800",
          "1800",
          "1800",
          "1800",
          "1800",
          "1800",
          "1800",
          "1800",
          "1800",
          "1800",
          "1800",
          "1800",
          "1800",
          "1800",
          "1800",
          "1800",
          "1800",
          "1800",
          "1800",
          "1800",
          "1800",
          "1800",
          "1800",
          "1800",
          "1800",
          "1800",
          "1800",
          "1800",
          "1800",
          "1800",
          "1800",
          "1800",
          "1800",
          "1800",
          "1800",
          "1800",
          "1800",
          "1800",
          "1800",
          "1800",
          "1800",
          "1800",
          "1800",
          "1800",
          "1800",
          "1800",
          "1800",
          "1800",
          "1800",
          "1800",
          "1800",
          "1800",
          "1800",
          "1800",
          "1800",
          "1800",
          "1800",
          "1800",
          "1800",
          "1800",
          "1800",
          "1800",
          "1800",
          "1800",
          "1800",
          "1800",
          "1800",
          "1800",
          "1800",
          "1800",
          "1800",
          "1800",
          "1800",
          "1800",
          "1800",
          "1800",
          "1800",
          "1800",
          "1800",
          "1800",
          "1800",
          "1800",
          "1800",
          "1800",
          "1800",
          "1800",
          "1800",
          "1800",
          "1800",
          "1800",
          "1800",
          "1800",
          "1800",
          "1800",
          "1800",
          "1800",
          "1800",
          "1800",
          "1800",
          "1800",
          "1800",
          "1800",
          "1800",
          "1800",
          "1800",
          "1800",
          "1800",
          "1800",
          "1800",
          "1800",
          "1800",
          "1800",
          "1800",
          "1800",
          "1800",
          "1800",
          "1800",
          "1800",
          "1800",
          "1800",
          "1800",
          "1800",
          "1800",
          "1800",
          "1800",
          "1800",
          "1800",
          "1800",
          "1800",
          "1800",
          "1800",
          "1800",
          "1800",
          "1800",
          "1800",
          "1800",
          "1800",
          "1800",
          "1800",
          "1800",
          "1800",
          "1800",
          "1800",
          "1800",
          "1800",
          "1800",
          "1800",
          "1800",
          "1800",
          "1800",
          "1800",
          "1800",
          "1800",
          "1800",
          "1800",
          "1800",
          "1800",
          "1800",
          "1800",
          "1800",
          "1800",
          "1800",
          "1800",
          "1800",
          "1800",
          "1800",
          "1800",
          "1800",
          "1800",
          "1800",
          "1800",
          "1800",
          "1800",
          "1800",
          "1800",
          "1800",
          "1800",
          "1800",
          "1800",
          "1800",
          "1800",
          "1800",
          "1800",
          "1800",
          "1800",
          "1800",
          "1800",
          "1800",
          "1800",
          "1800",
          "1800",
          "1800",
          "1800",
          "1800",
          "1800",
          "1800",
          "1800",
          "1800",
          "1800",
          "1800",
          "1800",
          "1800",
          "1800",
          "1800",
          "1800",
          "1800",
          "1800",
          "1800",
          "1800",
          "1800",
          "1800",
          "1800",
          "1800",
          "1800",
          "1800",
          "1800",
          "1800",
          "1800",
          "1800",
          "1800",
          "1800",
          "1800",
          "1800",
          "1800",
          "1800",
          "1800",
          "1800",
          "1800",
          "1800",
          "1800",
          "1800",
          "1800",
          "1800",
          "1800",
          "1800",
          "1800",
          "1800",
          "1800",
          "1800",
          "1800",
          "1800",
          "1800",
          "1800",
          "1800",
          "1800",
          "1800",
          "1800",
          "1800",
          "1800",
          "1800",
          "1800",
          "1800",
          "1800",
          "1800",
          "1800",
          "1800",
          "1800",
          "1800",
          "1800",
          "1800",
          "1800",
          "1800",
          "1800",
          "1800",
          "1800",
          "1800",
          "1800",
          "1800",
          "1800",
          "1800",
          "1800",
          "1800",
          "1800",
          "1800",
          "1800",
          "1800",
          "1800",
          "1800",
          "1800",
          "1800",
          "1800",
          "1800",
          "1800",
          "1800",
          "1800",
          "1800",
          "1800",
          "1800",
          "1800",
          "1800",
          "1800",
          "1800",
          "1800",
          "1800",
          "1800",
          "1800",
          "1800",
          "1800",
          "1800",
          "1800",
          "1800",
          "1800",
          "1800",
          "1800",
          "1800",
          "1800",
          "1800",
          "1800",
          "1800",
          "1800",
          "1800",
          "1800",
          "1800",
          "1800",
          "1800",
          "1800",
          "1800",
          "1800",
          "1800",
          "1800",
          "1800",
          "1800",
          "1800",
          "1800",
          "1800",
          "1800",
          "1800",
          "1800",
          "1800",
          "1800",
          "1800",
          "1800",
          "1800",
          "1800",
          "1800",
          "1800",
          "1800",
          "1800",
          "1800",
          "1800",
          "1800",
          "1800",
          "1800",
          "1800",
          "1800",
          "1800",
          "1800",
          "1800",
          "1800",
          "1800",
          "1800",
          "1800",
          "1800",
          "1800",
          "1800",
          "1800",
          "1800",
          "1800",
          "1800",
          "1800",
          "1800",
          "1800",
          "1800",
          "1800",
          "1800",
          "1800",
          "1800",
          "1800",
          "1800",
          "1800",
          "1800",
          "1800",
          "1800",
          "1800",
          "1800",
          "1800",
          "1800",
          "1800",
          "1800",
          "1800",
          "1800",
          "1800",
          "1800",
          "1800",
          "1800",
          "1800",
          "1800",
          "1800",
          "1800",
          "1800",
          "1800",
          "1800",
          "1800",
          "1800",
          "1800",
          "1800",
          "1800",
          "1800",
          "1800",
          "1800",
          "1800",
          "1800",
          "1800",
          "1800",
          "1800",
          "1800",
          "1800",
          "1800",
          "1800",
          "1800",
          "1800",
          "1800",
          "1800",
          "1800",
          "1800",
          "1800",
          "1800",
          "1800",
          "1800",
          "1800",
          "1800",
          "1800",
          "1800",
          "1800",
          "1800",
          "1800",
          "1800",
          "1800",
          "1800",
          "1800",
          "1800",
          "1800",
          "1800",
          "1800",
          "1800",
          "1800",
          "1800",
          "1800",
          "1800",
          "1800",
          "1800",
          "1800",
          "1800",
          "1800",
          "1800",
          "1800",
          "1800",
          "1800",
          "1800",
          "1800",
          "1800",
          "1800",
          "1800",
          "1800",
          "1800",
          "1800",
          "1800",
          "1800",
          "1800",
          "1800",
          "1800",
          "1800",
          "1800",
          "1800",
          "1800",
          "1800",
          "1800",
          "1800",
          "1800",
          "1800",
          "1800",
          "1800",
          "1800",
          "1800",
          "1800",
          "1800",
          "1800",
          "1800",
          "1800",
          "1800",
          "1800",
          "1800",
          "1800",
          "1800",
          "1800",
          "1800",
          "1800",
          "1800",
          "1800",
          "1800",
          "1800",
          "1800",
          "1800",
          "1800",
          "1800",
          "1800",
          "1800",
          "1800",
          "1800",
          "1800",
          "1800",
          "1800",
          "1800",
          "1800",
          "1800",
          "1800",
          "1800",
          "1800",
          "1800",
          "1800",
          "1800",
          "1800",
          "1800",
          "1800",
          "1800",
          "1800",
          "1800",
          "1800",
          "1800",
          "1800",
          "1800",
          "1800",
          "1800",
          "1800",
          "1800",
          "1800",
          "1800",
          "1800",
          "1800",
          "1800",
          "1800",
          "1800",
          "1800",
          "1800",
          "1800",
          "1800",
          "1800",
          "1800",
          "1800",
          "1800",
          "1800",
          "1800",
          "1800",
          "1800",
          "1800",
          "1800",
          "1800",
          "1800",
          "1800",
          "1800",
          "1800",
          "1800",
          "1800",
          "1800",
          "1800",
          "1800",
          "1800",
          "1800",
          "1800",
          "1800",
          "1800",
          "1800",
          "1800",
          "1800",
          "1800",
          "1800",
          "1800",
          "1800",
          "1800",
          "1800",
          "1800",
          "1800",
          "1800",
          "1800",
          "1800",
          "1800",
          "1800",
          "1800",
          "1800",
          "1800",
          "1800",
          "1800",
          "1800",
          "1800",
          "1800",
          "1800",
          "1800",
          "1800",
          "1800",
          "1800",
          "1800",
          "1800",
          "1800",
          "1800",
          "1800",
          "1800",
          "1800",
          "1800",
          "1800",
          "1800",
          "1800",
          "1800",
          "1800",
          "1800",
          "1800",
          "1800",
          "1800",
          "1800",
          "1800",
          "1800",
          "1800",
          "1800",
          "1800",
          "1800",
          "1800",
          "1800",
          "1800",
          "1800",
          "1800",
          "1800",
          "1800",
          "1800",
          "1800",
          "1800",
          "1800",
          "1800",
          "1800",
          "1800",
          "1800",
          "1800",
          "1800",
          "1800",
          "1800",
          "1800",
          "1800",
          "1800",
          "1800",
          "1800",
          "1800",
          "1800",
          "1800",
          "1800",
          "1800",
          "1800",
          "1800",
          "1800",
          "1800",
          "1800",
          "1800",
          "1800",
          "1800",
          "1800",
          "1800",
          "1800",
          "1800",
          "1800",
          "1800",
          "1800",
          "1800",
          "1800",
          "1800",
          "1800",
          "1800",
          "1800",
          "1800",
          "1800",
          "1800",
          "1800",
          "1800",
          "1800",
          "1800",
          "1800",
          "1800",
          "1800",
          "1800",
          "1800",
          "1800",
          "1800",
          "1800",
          "1800",
          "1800",
          "1800",
          "1800",
          "1800",
          "1800",
          "1800",
          "1800",
          "1800",
          "1800",
          "1800",
          "1800",
          "1800",
          "1800",
          "1800",
          "1800",
          "1800",
          "1800",
          "1800",
          "1800",
          "1800",
          "1800",
          "1800",
          "1800",
          "1800",
          "1800",
          "1800",
          "1800",
          "1800",
          "1800",
          "1800",
          "1800",
          "1800",
          "1800",
          "1800",
          "1800",
          "1800",
          "1800",
          "1800",
          "1800",
          "1800",
          "1800",
          "1800",
          "1800",
          "1800",
          "1800",
          "1800",
          "1800",
          "1800",
          "1800",
          "1800",
          "1800",
          "1800",
          "1800",
          "1800",
          "1800",
          "1800",
          "1800",
          "1800",
          "1800",
          "1800",
          "1800",
          "1800",
          "1800",
          "1800",
          "1800",
          "1800",
          "1800",
          "1800",
          "1800",
          "1800",
          "1800",
          "1800",
          "1800",
          "1800",
          "1800",
          "1800",
          "1800",
          "1800",
          "1800",
          "1800",
          "1800",
          "1800",
          "1800",
          "1800",
          "1800",
          "1800",
          "1800",
          "1800",
          "1800",
          "1800",
          "1800",
          "1800",
          "1800",
          "1800",
          "1800",
          "1800",
          "1800",
          "1800",
          "1800",
          "1800",
          "1800",
          "1800",
          "1800",
          "1800",
          "1800",
          "1800",
          "1800",
          "1800",
          "1800",
          "1800",
          "1800",
          "1800",
          "1800",
          "1800",
          "1800",
          "1800",
          "1800",
          "1800",
          "1800",
          "1800",
          "1800",
          "1800",
          "1800",
          "1800",
          "1800",
          "1800",
          "1800",
          "1800",
          "1800",
          "1800",
          "1800",
          "1800",
          "1800",
          "1800",
          "1800",
          "1800",
          "1800",
          "1800",
          "1800",
          "1800",
          "1800",
          "1800",
          "1800",
          "1800",
          "1800",
          "1800",
          "1800",
          "1800",
          "1800",
          "1800",
          "1800",
          "1800",
          "1800",
          "1800",
          "1800",
          "1800",
          "1800",
          "1800",
          "1800",
          "1800",
          "1800",
          "1800",
          "1800",
          "1800",
          "1800",
          "1800",
          "1800",
          "1800",
          "1800",
          "1800",
          "1800",
          "1800",
          "1800",
          "1800",
          "1800",
          "1800",
          "1800",
          "1800",
          "1800",
          "1800",
          "1800",
          "1800",
          "1800",
          "1800",
          "1800",
          "1800",
          "1800",
          "1800",
          "1800",
          "1800",
          "1800",
          "1800",
          "1800",
          "1800",
          "1800",
          "1800",
          "1800",
          "1800",
          "1800",
          "1800",
          "1800",
          "1800",
          "1800",
          "1800",
          "1800",
          "1800",
          "1800",
          "1800",
          "1800",
          "1800",
          "1800",
          "1800",
          "1800",
          "1800",
          "1800",
          "1800",
          "1800",
          "1800",
          "1800",
          "1800",
          "1800",
          "1800",
          "1800",
          "1800",
          "1800",
          "1800",
          "1800",
          "1800",
          "1800",
          "1800",
          "1800",
          "1800",
          "1800",
          "1800",
          "1800",
          "1800",
          "1800",
          "1800",
          "1800",
          "1800",
          "1800",
          "1800",
          "1800",
          "1800",
          "1800",
          "1800",
          "1800",
          "1800",
          "1800",
          "1800",
          "1800",
          "1800",
          "1800",
          "1800",
          "1800",
          "1800",
          "1800",
          "1800",
          "1800",
          "1800",
          "1800",
          "1800",
          "1800",
          "1800",
          "1800",
          "1800",
          "1800",
          "1800",
          "1800",
          "1800",
          "1800",
          "1800",
          "1800",
          "1800",
          "1800",
          "1800",
          "1800",
          "1800",
          "1800",
          "1800",
          "1800",
          "1800",
          "1800",
          "1800",
          "1800",
          "1800",
          "1800",
          "1800",
          "1800",
          "1800",
          "1800",
          "1800",
          "1900",
          "1900",
          "1900",
          "1900",
          "1900",
          "1900",
          "1900",
          "1900",
          "1900",
          "1900",
          "1900",
          "1900",
          "1900",
          "1900",
          "1900",
          "1900",
          "1900",
          "1900",
          "1900",
          "1900",
          "1900",
          "1900",
          "1900",
          "1900",
          "1900",
          "1900",
          "1900",
          "1900",
          "1900",
          "1900",
          "1900",
          "1900",
          "1900",
          "1900",
          "1900",
          "1900",
          "1900",
          "1900",
          "1900",
          "1900",
          "1900",
          "1900",
          "1900",
          "1900",
          "1900",
          "1900",
          "1900",
          "1900",
          "1900",
          "1900",
          "1900",
          "1900",
          "1900",
          "1900",
          "1900",
          "1900",
          "1900",
          "1900",
          "1900",
          "1900",
          "1900",
          "1900",
          "1900",
          "1900",
          "1900",
          "1900",
          "1900",
          "1900",
          "1900",
          "1900",
          "1900",
          "1900",
          "1900",
          "1900",
          "1900",
          "1900",
          "1900",
          "1900",
          "1900",
          "1900",
          "1900",
          "1900",
          "1900",
          "1900",
          "1900",
          "1900",
          "1900",
          "1900",
          "1900",
          "1900",
          "1900",
          "1900",
          "1900",
          "1900",
          "1900",
          "1900",
          "1900",
          "1900",
          "1900",
          "1900",
          "1900",
          "1900",
          "1900",
          "1900",
          "1900",
          "1900",
          "1900",
          "1900",
          "1900",
          "1900",
          "1900",
          "1900",
          "1900",
          "1900",
          "1900",
          "1900",
          "1900",
          "1900",
          "1900",
          "1900",
          "1900",
          "1900",
          "1900",
          "1900",
          "1900",
          "1900",
          "1900",
          "1900",
          "1900",
          "1900",
          "1900",
          "1900",
          "1900",
          "1900",
          "1900",
          "1900",
          "1900",
          "1900",
          "1900",
          "1900",
          "1900",
          "1900",
          "1900",
          "1900",
          "1900",
          "1900",
          "1900",
          "1900",
          "1900",
          "1900",
          "1900",
          "1900",
          "1900",
          "1900",
          "1900",
          "1900",
          "1900",
          "1900",
          "1900",
          "1900",
          "1900",
          "1900",
          "1900",
          "1900",
          "1900",
          "1900",
          "1900",
          "1900",
          "1900",
          "1900",
          "1900",
          "1900",
          "1900",
          "1900",
          "1900",
          "1900",
          "1900",
          "1900",
          "1900",
          "1900",
          "1900",
          "1900",
          "1900",
          "1900",
          "1900",
          "1900",
          "1900",
          "1900",
          "1900",
          "1900",
          "1900",
          "1900",
          "1900",
          "1900",
          "1900",
          "1900",
          "1900",
          "1900",
          "1900",
          "1900",
          "1900",
          "1900",
          "1900",
          "1900",
          "1900",
          "1900",
          "1900",
          "1900",
          "1900",
          "1900",
          "1900",
          "1900",
          "1900",
          "1900",
          "1900",
          "1900",
          "1900",
          "1900",
          "1900",
          "1900",
          "1900",
          "1900",
          "1900",
          "1900",
          "1900",
          "1900",
          "1900",
          "1900",
          "1900",
          "1900",
          "1900",
          "1900",
          "1900",
          "1900",
          "1900",
          "1900",
          "1900",
          "1900",
          "1900",
          "1900",
          "1900",
          "1900",
          "1900",
          "1900",
          "1900",
          "1900",
          "1900",
          "1900",
          "1900",
          "1900",
          "1900",
          "1900",
          "1900",
          "1900",
          "1900",
          "1900",
          "1900",
          "1900",
          "1900",
          "1900",
          "1900",
          "1900",
          "1900",
          "1900",
          "1900",
          "1900",
          "1900",
          "1900",
          "1900",
          "1900",
          "1900",
          "1900",
          "1900",
          "1900",
          "1900",
          "1900",
          "1900",
          "1900",
          "1900",
          "1900",
          "1900",
          "1900",
          "1900",
          "1900",
          "1900",
          "1900",
          "1900",
          "1900",
          "1900",
          "1900",
          "1900",
          "1900",
          "1900",
          "1900",
          "1900",
          "1900",
          "1900",
          "1900",
          "1900",
          "1900",
          "1900",
          "1900",
          "1900",
          "1900",
          "1900",
          "1900",
          "1900",
          "1900",
          "1900",
          "1900",
          "1900",
          "1900",
          "1900",
          "1900",
          "1900",
          "1900",
          "1900",
          "1900",
          "1900",
          "1900",
          "1900",
          "1900",
          "1900",
          "1900",
          "1900",
          "1900",
          "1900",
          "1900",
          "1900",
          "1900",
          "1900",
          "1900",
          "1900",
          "1900",
          "1900",
          "1900",
          "1900",
          "1900",
          "1900",
          "1900",
          "1900",
          "1900",
          "1900",
          "1900",
          "1900",
          "1900",
          "1900",
          "1900",
          "1900",
          "1900",
          "1900",
          "1900",
          "1900",
          "1900",
          "1900",
          "1900",
          "1900",
          "1900",
          "1900",
          "1900",
          "1900",
          "1900",
          "1900",
          "1900",
          "1900",
          "1900",
          "1900",
          "1900",
          "1900",
          "1900",
          "1900",
          "1900",
          "1900",
          "1900",
          "1900",
          "1900",
          "1900",
          "1900",
          "1900",
          "1900",
          "1900",
          "1900",
          "1900",
          "1900",
          "1900",
          "1900",
          "1900",
          "1900",
          "1900",
          "1900",
          "1900",
          "1900",
          "1900",
          "1900",
          "1900",
          "1900",
          "1900",
          "1900",
          "1900",
          "1900",
          "1900",
          "1900",
          "1900",
          "1900",
          "1900",
          "1900",
          "1900",
          "1900",
          "1900",
          "1900",
          "1900",
          "1900",
          "1900",
          "1900",
          "1900",
          "1900",
          "1900",
          "1900",
          "1900",
          "1900",
          "1900",
          "1900",
          "1900",
          "1900",
          "1900",
          "1900",
          "1900",
          "1900",
          "1900",
          "1900",
          "1900",
          "1900",
          "1900",
          "1900",
          "1900",
          "1900",
          "1900",
          "1900",
          "1900",
          "1900",
          "1900",
          "1900",
          "1900",
          "1900",
          "1900",
          "1900",
          "1900",
          "1900",
          "1900",
          "1900",
          "1900",
          "1900",
          "1900",
          "1900",
          "1900",
          "1900",
          "1900",
          "1900",
          "1900",
          "1900",
          "1900",
          "1900",
          "1900",
          "1900",
          "1900",
          "1900",
          "1900",
          "1900",
          "1900",
          "1900",
          "1900",
          "1900",
          "1900",
          "1900",
          "1900",
          "1900",
          "1900",
          "1900",
          "1900",
          "1900",
          "1900",
          "1900",
          "1900",
          "1900",
          "1900",
          "1900",
          "1900",
          "1900",
          "1900",
          "1900",
          "1900",
          "1900",
          "1900",
          "1900",
          "1900",
          "1900",
          "1900",
          "1900",
          "1900",
          "1900",
          "1900",
          "1900",
          "1900",
          "1900",
          "1900",
          "1900",
          "1900",
          "1900",
          "1900",
          "1900",
          "1900",
          "1900",
          "1900",
          "1900",
          "1900",
          "1900",
          "1900",
          "1900",
          "1900",
          "1900",
          "1900",
          "1900",
          "1900",
          "1900",
          "1900",
          "1900",
          "1900",
          "1900",
          "1900",
          "1900",
          "1900",
          "1900",
          "1900",
          "1900",
          "1900",
          "1900",
          "1900",
          "1900",
          "1900",
          "1900",
          "1900",
          "1900",
          "1900",
          "1900",
          "1900",
          "1900",
          "1900",
          "1900",
          "1900",
          "1900",
          "1900",
          "1900",
          "1900",
          "1900",
          "1900",
          "1900",
          "1900",
          "1900",
          "1900",
          "1900",
          "1900",
          "1900",
          "1900",
          "1900",
          "1900",
          "1900",
          "1900",
          "1900",
          "1900",
          "1900",
          "1900",
          "1900",
          "1900",
          "1900",
          "1900",
          "1900",
          "1900",
          "1900",
          "1900",
          "1900",
          "1900",
          "1900",
          "1900",
          "1900",
          "1900",
          "1900",
          "1900",
          "1900",
          "1900",
          "1900",
          "1900",
          "1900",
          "1900",
          "1900",
          "1900",
          "1900",
          "1900",
          "1900",
          "1900",
          "1900",
          "1900",
          "1900",
          "1900",
          "1900",
          "1900",
          "1900",
          "1900",
          "1900",
          "1900",
          "1900",
          "1900",
          "1900",
          "1900",
          "1900",
          "1900",
          "1900",
          "1900",
          "1900",
          "1900",
          "1900",
          "1900",
          "1900",
          "1900",
          "1900",
          "1900",
          "1900",
          "1900",
          "1900",
          "1900",
          "1900",
          "1900",
          "1900",
          "1900",
          "1900",
          "1900",
          "1900",
          "1900",
          "1900",
          "1900",
          "1900",
          "1900",
          "1900",
          "1900",
          "1900",
          "1900",
          "1900",
          "1900",
          "1900",
          "1900",
          "1900",
          "1900",
          "1900",
          "1900",
          "1900",
          "1900",
          "1900",
          "1900",
          "1900",
          "1900",
          "1900",
          "1900",
          "1900",
          "1900",
          "1900",
          "1900",
          "1900",
          "1900",
          "1900",
          "1900",
          "1900",
          "1900",
          "1900",
          "1900",
          "1900",
          "1900",
          "1900",
          "1900",
          "1900",
          "1900",
          "1900",
          "1900",
          "1900",
          "1900",
          "1900",
          "1900",
          "1900",
          "1900",
          "1900",
          "1900",
          "1900",
          "1900",
          "1900",
          "1900",
          "1900",
          "1900",
          "1900",
          "1900",
          "1900",
          "Before 1500",
          "Before 1500",
          "Before 1500",
          "Before 1500",
          "Before 1500",
          "Before 1500",
          "Before 1500",
          "Before 1500",
          "Before 1500",
          "Before 1500",
          "Before 1500"
         ],
         "xaxis": "x",
         "yaxis": "y"
        }
       ],
       "layout": {
        "barmode": "relative",
        "legend": {
         "tracegroupgap": 0
        },
        "template": {
         "data": {
          "bar": [
           {
            "error_x": {
             "color": "#2a3f5f"
            },
            "error_y": {
             "color": "#2a3f5f"
            },
            "marker": {
             "line": {
              "color": "#E5ECF6",
              "width": 0.5
             }
            },
            "type": "bar"
           }
          ],
          "barpolar": [
           {
            "marker": {
             "line": {
              "color": "#E5ECF6",
              "width": 0.5
             }
            },
            "type": "barpolar"
           }
          ],
          "carpet": [
           {
            "aaxis": {
             "endlinecolor": "#2a3f5f",
             "gridcolor": "white",
             "linecolor": "white",
             "minorgridcolor": "white",
             "startlinecolor": "#2a3f5f"
            },
            "baxis": {
             "endlinecolor": "#2a3f5f",
             "gridcolor": "white",
             "linecolor": "white",
             "minorgridcolor": "white",
             "startlinecolor": "#2a3f5f"
            },
            "type": "carpet"
           }
          ],
          "choropleth": [
           {
            "colorbar": {
             "outlinewidth": 0,
             "ticks": ""
            },
            "type": "choropleth"
           }
          ],
          "contour": [
           {
            "colorbar": {
             "outlinewidth": 0,
             "ticks": ""
            },
            "colorscale": [
             [
              0,
              "#0d0887"
             ],
             [
              0.1111111111111111,
              "#46039f"
             ],
             [
              0.2222222222222222,
              "#7201a8"
             ],
             [
              0.3333333333333333,
              "#9c179e"
             ],
             [
              0.4444444444444444,
              "#bd3786"
             ],
             [
              0.5555555555555556,
              "#d8576b"
             ],
             [
              0.6666666666666666,
              "#ed7953"
             ],
             [
              0.7777777777777778,
              "#fb9f3a"
             ],
             [
              0.8888888888888888,
              "#fdca26"
             ],
             [
              1,
              "#f0f921"
             ]
            ],
            "type": "contour"
           }
          ],
          "contourcarpet": [
           {
            "colorbar": {
             "outlinewidth": 0,
             "ticks": ""
            },
            "type": "contourcarpet"
           }
          ],
          "heatmap": [
           {
            "colorbar": {
             "outlinewidth": 0,
             "ticks": ""
            },
            "colorscale": [
             [
              0,
              "#0d0887"
             ],
             [
              0.1111111111111111,
              "#46039f"
             ],
             [
              0.2222222222222222,
              "#7201a8"
             ],
             [
              0.3333333333333333,
              "#9c179e"
             ],
             [
              0.4444444444444444,
              "#bd3786"
             ],
             [
              0.5555555555555556,
              "#d8576b"
             ],
             [
              0.6666666666666666,
              "#ed7953"
             ],
             [
              0.7777777777777778,
              "#fb9f3a"
             ],
             [
              0.8888888888888888,
              "#fdca26"
             ],
             [
              1,
              "#f0f921"
             ]
            ],
            "type": "heatmap"
           }
          ],
          "heatmapgl": [
           {
            "colorbar": {
             "outlinewidth": 0,
             "ticks": ""
            },
            "colorscale": [
             [
              0,
              "#0d0887"
             ],
             [
              0.1111111111111111,
              "#46039f"
             ],
             [
              0.2222222222222222,
              "#7201a8"
             ],
             [
              0.3333333333333333,
              "#9c179e"
             ],
             [
              0.4444444444444444,
              "#bd3786"
             ],
             [
              0.5555555555555556,
              "#d8576b"
             ],
             [
              0.6666666666666666,
              "#ed7953"
             ],
             [
              0.7777777777777778,
              "#fb9f3a"
             ],
             [
              0.8888888888888888,
              "#fdca26"
             ],
             [
              1,
              "#f0f921"
             ]
            ],
            "type": "heatmapgl"
           }
          ],
          "histogram": [
           {
            "marker": {
             "colorbar": {
              "outlinewidth": 0,
              "ticks": ""
             }
            },
            "type": "histogram"
           }
          ],
          "histogram2d": [
           {
            "colorbar": {
             "outlinewidth": 0,
             "ticks": ""
            },
            "colorscale": [
             [
              0,
              "#0d0887"
             ],
             [
              0.1111111111111111,
              "#46039f"
             ],
             [
              0.2222222222222222,
              "#7201a8"
             ],
             [
              0.3333333333333333,
              "#9c179e"
             ],
             [
              0.4444444444444444,
              "#bd3786"
             ],
             [
              0.5555555555555556,
              "#d8576b"
             ],
             [
              0.6666666666666666,
              "#ed7953"
             ],
             [
              0.7777777777777778,
              "#fb9f3a"
             ],
             [
              0.8888888888888888,
              "#fdca26"
             ],
             [
              1,
              "#f0f921"
             ]
            ],
            "type": "histogram2d"
           }
          ],
          "histogram2dcontour": [
           {
            "colorbar": {
             "outlinewidth": 0,
             "ticks": ""
            },
            "colorscale": [
             [
              0,
              "#0d0887"
             ],
             [
              0.1111111111111111,
              "#46039f"
             ],
             [
              0.2222222222222222,
              "#7201a8"
             ],
             [
              0.3333333333333333,
              "#9c179e"
             ],
             [
              0.4444444444444444,
              "#bd3786"
             ],
             [
              0.5555555555555556,
              "#d8576b"
             ],
             [
              0.6666666666666666,
              "#ed7953"
             ],
             [
              0.7777777777777778,
              "#fb9f3a"
             ],
             [
              0.8888888888888888,
              "#fdca26"
             ],
             [
              1,
              "#f0f921"
             ]
            ],
            "type": "histogram2dcontour"
           }
          ],
          "mesh3d": [
           {
            "colorbar": {
             "outlinewidth": 0,
             "ticks": ""
            },
            "type": "mesh3d"
           }
          ],
          "parcoords": [
           {
            "line": {
             "colorbar": {
              "outlinewidth": 0,
              "ticks": ""
             }
            },
            "type": "parcoords"
           }
          ],
          "pie": [
           {
            "automargin": true,
            "type": "pie"
           }
          ],
          "scatter": [
           {
            "marker": {
             "colorbar": {
              "outlinewidth": 0,
              "ticks": ""
             }
            },
            "type": "scatter"
           }
          ],
          "scatter3d": [
           {
            "line": {
             "colorbar": {
              "outlinewidth": 0,
              "ticks": ""
             }
            },
            "marker": {
             "colorbar": {
              "outlinewidth": 0,
              "ticks": ""
             }
            },
            "type": "scatter3d"
           }
          ],
          "scattercarpet": [
           {
            "marker": {
             "colorbar": {
              "outlinewidth": 0,
              "ticks": ""
             }
            },
            "type": "scattercarpet"
           }
          ],
          "scattergeo": [
           {
            "marker": {
             "colorbar": {
              "outlinewidth": 0,
              "ticks": ""
             }
            },
            "type": "scattergeo"
           }
          ],
          "scattergl": [
           {
            "marker": {
             "colorbar": {
              "outlinewidth": 0,
              "ticks": ""
             }
            },
            "type": "scattergl"
           }
          ],
          "scattermapbox": [
           {
            "marker": {
             "colorbar": {
              "outlinewidth": 0,
              "ticks": ""
             }
            },
            "type": "scattermapbox"
           }
          ],
          "scatterpolar": [
           {
            "marker": {
             "colorbar": {
              "outlinewidth": 0,
              "ticks": ""
             }
            },
            "type": "scatterpolar"
           }
          ],
          "scatterpolargl": [
           {
            "marker": {
             "colorbar": {
              "outlinewidth": 0,
              "ticks": ""
             }
            },
            "type": "scatterpolargl"
           }
          ],
          "scatterternary": [
           {
            "marker": {
             "colorbar": {
              "outlinewidth": 0,
              "ticks": ""
             }
            },
            "type": "scatterternary"
           }
          ],
          "surface": [
           {
            "colorbar": {
             "outlinewidth": 0,
             "ticks": ""
            },
            "colorscale": [
             [
              0,
              "#0d0887"
             ],
             [
              0.1111111111111111,
              "#46039f"
             ],
             [
              0.2222222222222222,
              "#7201a8"
             ],
             [
              0.3333333333333333,
              "#9c179e"
             ],
             [
              0.4444444444444444,
              "#bd3786"
             ],
             [
              0.5555555555555556,
              "#d8576b"
             ],
             [
              0.6666666666666666,
              "#ed7953"
             ],
             [
              0.7777777777777778,
              "#fb9f3a"
             ],
             [
              0.8888888888888888,
              "#fdca26"
             ],
             [
              1,
              "#f0f921"
             ]
            ],
            "type": "surface"
           }
          ],
          "table": [
           {
            "cells": {
             "fill": {
              "color": "#EBF0F8"
             },
             "line": {
              "color": "white"
             }
            },
            "header": {
             "fill": {
              "color": "#C8D4E3"
             },
             "line": {
              "color": "white"
             }
            },
            "type": "table"
           }
          ]
         },
         "layout": {
          "annotationdefaults": {
           "arrowcolor": "#2a3f5f",
           "arrowhead": 0,
           "arrowwidth": 1
          },
          "autotypenumbers": "strict",
          "coloraxis": {
           "colorbar": {
            "outlinewidth": 0,
            "ticks": ""
           }
          },
          "colorscale": {
           "diverging": [
            [
             0,
             "#8e0152"
            ],
            [
             0.1,
             "#c51b7d"
            ],
            [
             0.2,
             "#de77ae"
            ],
            [
             0.3,
             "#f1b6da"
            ],
            [
             0.4,
             "#fde0ef"
            ],
            [
             0.5,
             "#f7f7f7"
            ],
            [
             0.6,
             "#e6f5d0"
            ],
            [
             0.7,
             "#b8e186"
            ],
            [
             0.8,
             "#7fbc41"
            ],
            [
             0.9,
             "#4d9221"
            ],
            [
             1,
             "#276419"
            ]
           ],
           "sequential": [
            [
             0,
             "#0d0887"
            ],
            [
             0.1111111111111111,
             "#46039f"
            ],
            [
             0.2222222222222222,
             "#7201a8"
            ],
            [
             0.3333333333333333,
             "#9c179e"
            ],
            [
             0.4444444444444444,
             "#bd3786"
            ],
            [
             0.5555555555555556,
             "#d8576b"
            ],
            [
             0.6666666666666666,
             "#ed7953"
            ],
            [
             0.7777777777777778,
             "#fb9f3a"
            ],
            [
             0.8888888888888888,
             "#fdca26"
            ],
            [
             1,
             "#f0f921"
            ]
           ],
           "sequentialminus": [
            [
             0,
             "#0d0887"
            ],
            [
             0.1111111111111111,
             "#46039f"
            ],
            [
             0.2222222222222222,
             "#7201a8"
            ],
            [
             0.3333333333333333,
             "#9c179e"
            ],
            [
             0.4444444444444444,
             "#bd3786"
            ],
            [
             0.5555555555555556,
             "#d8576b"
            ],
            [
             0.6666666666666666,
             "#ed7953"
            ],
            [
             0.7777777777777778,
             "#fb9f3a"
            ],
            [
             0.8888888888888888,
             "#fdca26"
            ],
            [
             1,
             "#f0f921"
            ]
           ]
          },
          "colorway": [
           "#636efa",
           "#EF553B",
           "#00cc96",
           "#ab63fa",
           "#FFA15A",
           "#19d3f3",
           "#FF6692",
           "#B6E880",
           "#FF97FF",
           "#FECB52"
          ],
          "font": {
           "color": "#2a3f5f"
          },
          "geo": {
           "bgcolor": "white",
           "lakecolor": "white",
           "landcolor": "#E5ECF6",
           "showlakes": true,
           "showland": true,
           "subunitcolor": "white"
          },
          "hoverlabel": {
           "align": "left"
          },
          "hovermode": "closest",
          "mapbox": {
           "style": "light"
          },
          "paper_bgcolor": "white",
          "plot_bgcolor": "#E5ECF6",
          "polar": {
           "angularaxis": {
            "gridcolor": "white",
            "linecolor": "white",
            "ticks": ""
           },
           "bgcolor": "#E5ECF6",
           "radialaxis": {
            "gridcolor": "white",
            "linecolor": "white",
            "ticks": ""
           }
          },
          "scene": {
           "xaxis": {
            "backgroundcolor": "#E5ECF6",
            "gridcolor": "white",
            "gridwidth": 2,
            "linecolor": "white",
            "showbackground": true,
            "ticks": "",
            "zerolinecolor": "white"
           },
           "yaxis": {
            "backgroundcolor": "#E5ECF6",
            "gridcolor": "white",
            "gridwidth": 2,
            "linecolor": "white",
            "showbackground": true,
            "ticks": "",
            "zerolinecolor": "white"
           },
           "zaxis": {
            "backgroundcolor": "#E5ECF6",
            "gridcolor": "white",
            "gridwidth": 2,
            "linecolor": "white",
            "showbackground": true,
            "ticks": "",
            "zerolinecolor": "white"
           }
          },
          "shapedefaults": {
           "line": {
            "color": "#2a3f5f"
           }
          },
          "ternary": {
           "aaxis": {
            "gridcolor": "white",
            "linecolor": "white",
            "ticks": ""
           },
           "baxis": {
            "gridcolor": "white",
            "linecolor": "white",
            "ticks": ""
           },
           "bgcolor": "#E5ECF6",
           "caxis": {
            "gridcolor": "white",
            "linecolor": "white",
            "ticks": ""
           }
          },
          "title": {
           "x": 0.05
          },
          "xaxis": {
           "automargin": true,
           "gridcolor": "white",
           "linecolor": "white",
           "ticks": "",
           "title": {
            "standoff": 15
           },
           "zerolinecolor": "white",
           "zerolinewidth": 2
          },
          "yaxis": {
           "automargin": true,
           "gridcolor": "white",
           "linecolor": "white",
           "ticks": "",
           "title": {
            "standoff": 15
           },
           "zerolinecolor": "white",
           "zerolinewidth": 2
          }
         }
        },
        "title": {
         "text": "Distribution of Author Birth Century"
        },
        "xaxis": {
         "anchor": "y",
         "domain": [
          0,
          1
         ],
         "title": {
          "text": "Author Birth Century"
         }
        },
        "yaxis": {
         "anchor": "x",
         "domain": [
          0,
          1
         ],
         "title": {
          "text": "Frequency in Corpus"
         }
        }
       }
      },
      "text/html": [
       "<div>                            <div id=\"cca9bead-53e6-456c-a3b6-67993514d226\" class=\"plotly-graph-div\" style=\"height:525px; width:100%;\"></div>            <script type=\"text/javascript\">                require([\"plotly\"], function(Plotly) {                    window.PLOTLYENV=window.PLOTLYENV || {};                                    if (document.getElementById(\"cca9bead-53e6-456c-a3b6-67993514d226\")) {                    Plotly.newPlot(                        \"cca9bead-53e6-456c-a3b6-67993514d226\",                        [{\"alignmentgroup\": \"True\", \"bingroup\": \"x\", \"hovertemplate\": \"Author Birth Century=%{x}<br>count=%{y}<extra></extra>\", \"legendgroup\": \"\", \"marker\": {\"color\": \"#636efa\"}, \"name\": \"\", \"offsetgroup\": \"\", \"orientation\": \"v\", \"showlegend\": false, \"type\": \"histogram\", \"x\": [\"1500\", \"1500\", \"1500\", \"1500\", \"1500\", \"1500\", \"1500\", \"1500\", \"1500\", \"1500\", \"1500\", \"1500\", \"1500\", \"1500\", \"1500\", \"1500\", \"1500\", \"1500\", \"1500\", \"1500\", \"1500\", \"1500\", \"1500\", \"1500\", \"1500\", \"1500\", \"1500\", \"1500\", \"1500\", \"1500\", \"1500\", \"1500\", \"1500\", \"1500\", \"1500\", \"1500\", \"1500\", \"1500\", \"1500\", \"1500\", \"1500\", \"1500\", \"1500\", \"1500\", \"1500\", \"1500\", \"1500\", \"1500\", \"1500\", \"1600\", \"1600\", \"1600\", \"1600\", \"1600\", \"1600\", \"1600\", \"1600\", \"1600\", \"1600\", \"1600\", \"1600\", \"1600\", \"1600\", \"1600\", \"1600\", \"1600\", \"1600\", \"1600\", \"1600\", \"1600\", \"1600\", \"1600\", \"1600\", \"1600\", \"1600\", \"1600\", \"1600\", \"1600\", \"1600\", \"1600\", \"1600\", \"1600\", \"1600\", \"1600\", \"1600\", \"1600\", \"1600\", \"1600\", \"1600\", \"1600\", \"1700\", \"1700\", \"1700\", \"1700\", \"1700\", \"1700\", \"1700\", \"1700\", \"1700\", \"1700\", \"1700\", \"1700\", \"1700\", \"1700\", \"1700\", \"1700\", \"1700\", \"1700\", \"1700\", \"1700\", \"1700\", \"1700\", \"1700\", \"1700\", \"1700\", \"1700\", \"1700\", \"1700\", \"1700\", \"1700\", \"1700\", \"1700\", \"1700\", \"1700\", \"1700\", \"1700\", \"1700\", \"1700\", \"1700\", \"1700\", \"1700\", \"1700\", \"1700\", \"1700\", \"1700\", \"1700\", \"1700\", \"1700\", \"1700\", \"1700\", \"1700\", \"1700\", \"1700\", \"1700\", \"1700\", \"1700\", \"1700\", \"1700\", \"1700\", \"1700\", \"1700\", \"1700\", \"1700\", \"1700\", \"1700\", \"1700\", \"1700\", \"1700\", \"1700\", \"1700\", \"1700\", \"1700\", \"1700\", \"1700\", \"1700\", \"1700\", \"1700\", \"1700\", \"1700\", \"1700\", \"1700\", \"1700\", \"1700\", \"1700\", \"1700\", \"1700\", \"1700\", \"1700\", \"1700\", \"1700\", \"1700\", \"1700\", \"1700\", \"1700\", \"1700\", \"1700\", \"1700\", \"1700\", \"1700\", \"1700\", \"1700\", \"1700\", \"1700\", \"1700\", \"1700\", \"1700\", \"1700\", \"1700\", \"1700\", \"1700\", \"1700\", \"1700\", \"1700\", \"1700\", \"1700\", \"1700\", \"1700\", \"1700\", \"1700\", \"1700\", \"1700\", \"1700\", \"1700\", \"1700\", \"1700\", \"1700\", \"1700\", \"1700\", \"1700\", \"1700\", \"1700\", \"1700\", \"1700\", \"1700\", \"1700\", \"1700\", \"1700\", \"1700\", \"1700\", \"1700\", \"1700\", \"1700\", \"1700\", \"1700\", \"1700\", \"1700\", \"1700\", \"1700\", \"1700\", \"1700\", \"1700\", \"1700\", \"1700\", \"1700\", \"1700\", \"1700\", \"1700\", \"1700\", \"1700\", \"1700\", \"1700\", \"1700\", \"1700\", \"1700\", \"1700\", \"1700\", \"1700\", \"1700\", \"1700\", \"1700\", \"1700\", \"1700\", \"1700\", \"1700\", \"1700\", \"1700\", \"1700\", \"1700\", \"1700\", \"1700\", \"1700\", \"1700\", \"1700\", \"1700\", \"1700\", \"1700\", \"1700\", \"1700\", \"1700\", \"1700\", \"1700\", \"1700\", \"1700\", \"1700\", \"1700\", \"1700\", \"1700\", \"1700\", \"1700\", \"1700\", \"1700\", \"1700\", \"1700\", \"1700\", \"1700\", \"1700\", \"1700\", \"1700\", \"1700\", \"1700\", \"1700\", \"1700\", \"1700\", \"1700\", \"1700\", \"1700\", \"1700\", \"1700\", \"1700\", \"1700\", \"1700\", \"1700\", \"1700\", \"1700\", \"1700\", \"1700\", \"1700\", \"1700\", \"1700\", \"1700\", \"1700\", \"1700\", \"1700\", \"1700\", \"1700\", \"1700\", \"1700\", \"1700\", \"1700\", \"1700\", \"1700\", \"1700\", \"1700\", \"1700\", \"1700\", \"1700\", \"1700\", \"1700\", \"1700\", \"1700\", \"1700\", \"1700\", \"1700\", \"1700\", \"1700\", \"1700\", \"1700\", \"1700\", \"1700\", \"1700\", \"1700\", \"1700\", \"1700\", \"1700\", \"1700\", \"1700\", \"1700\", \"1700\", \"1700\", \"1700\", \"1700\", \"1700\", \"1700\", \"1700\", \"1700\", \"1700\", \"1700\", \"1700\", \"1700\", \"1700\", \"1700\", \"1700\", \"1700\", \"1700\", \"1700\", \"1700\", \"1700\", \"1700\", \"1700\", \"1700\", \"1700\", \"1700\", \"1700\", \"1700\", \"1700\", \"1700\", \"1700\", \"1700\", \"1700\", \"1700\", \"1700\", \"1700\", \"1700\", \"1700\", \"1700\", \"1700\", \"1700\", \"1700\", \"1700\", \"1700\", \"1700\", \"1700\", \"1700\", \"1700\", \"1800\", \"1800\", \"1800\", \"1800\", \"1800\", \"1800\", \"1800\", \"1800\", \"1800\", \"1800\", \"1800\", \"1800\", \"1800\", \"1800\", \"1800\", \"1800\", \"1800\", \"1800\", \"1800\", \"1800\", \"1800\", \"1800\", \"1800\", \"1800\", \"1800\", \"1800\", \"1800\", \"1800\", \"1800\", \"1800\", \"1800\", \"1800\", \"1800\", \"1800\", \"1800\", \"1800\", \"1800\", \"1800\", \"1800\", \"1800\", \"1800\", \"1800\", \"1800\", \"1800\", \"1800\", \"1800\", \"1800\", \"1800\", \"1800\", \"1800\", \"1800\", \"1800\", \"1800\", \"1800\", \"1800\", \"1800\", \"1800\", \"1800\", \"1800\", \"1800\", \"1800\", \"1800\", \"1800\", \"1800\", \"1800\", \"1800\", \"1800\", \"1800\", \"1800\", \"1800\", \"1800\", \"1800\", \"1800\", \"1800\", \"1800\", \"1800\", \"1800\", \"1800\", \"1800\", \"1800\", \"1800\", \"1800\", \"1800\", \"1800\", \"1800\", \"1800\", \"1800\", \"1800\", \"1800\", \"1800\", \"1800\", \"1800\", \"1800\", \"1800\", \"1800\", \"1800\", \"1800\", \"1800\", \"1800\", \"1800\", \"1800\", \"1800\", \"1800\", \"1800\", \"1800\", \"1800\", \"1800\", \"1800\", \"1800\", \"1800\", \"1800\", \"1800\", \"1800\", \"1800\", \"1800\", \"1800\", \"1800\", \"1800\", \"1800\", \"1800\", \"1800\", \"1800\", \"1800\", \"1800\", \"1800\", \"1800\", \"1800\", \"1800\", \"1800\", \"1800\", \"1800\", \"1800\", \"1800\", \"1800\", \"1800\", \"1800\", \"1800\", \"1800\", \"1800\", \"1800\", \"1800\", \"1800\", \"1800\", \"1800\", \"1800\", \"1800\", \"1800\", \"1800\", \"1800\", \"1800\", \"1800\", \"1800\", \"1800\", \"1800\", \"1800\", \"1800\", \"1800\", \"1800\", \"1800\", \"1800\", \"1800\", \"1800\", \"1800\", \"1800\", \"1800\", \"1800\", \"1800\", \"1800\", \"1800\", \"1800\", \"1800\", \"1800\", \"1800\", \"1800\", \"1800\", \"1800\", \"1800\", \"1800\", \"1800\", \"1800\", \"1800\", \"1800\", \"1800\", \"1800\", \"1800\", \"1800\", \"1800\", \"1800\", \"1800\", \"1800\", \"1800\", \"1800\", \"1800\", \"1800\", \"1800\", \"1800\", \"1800\", \"1800\", \"1800\", \"1800\", \"1800\", \"1800\", \"1800\", \"1800\", \"1800\", \"1800\", \"1800\", \"1800\", \"1800\", \"1800\", \"1800\", \"1800\", \"1800\", \"1800\", \"1800\", \"1800\", \"1800\", \"1800\", \"1800\", \"1800\", \"1800\", \"1800\", \"1800\", \"1800\", \"1800\", \"1800\", \"1800\", \"1800\", \"1800\", \"1800\", \"1800\", \"1800\", \"1800\", \"1800\", \"1800\", \"1800\", \"1800\", \"1800\", \"1800\", \"1800\", \"1800\", \"1800\", \"1800\", \"1800\", \"1800\", \"1800\", \"1800\", \"1800\", \"1800\", \"1800\", \"1800\", \"1800\", \"1800\", \"1800\", \"1800\", \"1800\", \"1800\", \"1800\", \"1800\", \"1800\", \"1800\", \"1800\", \"1800\", \"1800\", \"1800\", \"1800\", \"1800\", \"1800\", \"1800\", \"1800\", \"1800\", \"1800\", \"1800\", \"1800\", \"1800\", \"1800\", \"1800\", \"1800\", \"1800\", \"1800\", \"1800\", \"1800\", \"1800\", \"1800\", \"1800\", \"1800\", \"1800\", \"1800\", \"1800\", \"1800\", \"1800\", \"1800\", \"1800\", \"1800\", \"1800\", \"1800\", \"1800\", \"1800\", \"1800\", \"1800\", \"1800\", \"1800\", \"1800\", \"1800\", \"1800\", \"1800\", \"1800\", \"1800\", \"1800\", \"1800\", \"1800\", \"1800\", \"1800\", \"1800\", \"1800\", \"1800\", \"1800\", \"1800\", \"1800\", \"1800\", \"1800\", \"1800\", \"1800\", \"1800\", \"1800\", \"1800\", \"1800\", \"1800\", \"1800\", \"1800\", \"1800\", \"1800\", \"1800\", \"1800\", \"1800\", \"1800\", \"1800\", \"1800\", \"1800\", \"1800\", \"1800\", \"1800\", \"1800\", \"1800\", \"1800\", \"1800\", \"1800\", \"1800\", \"1800\", \"1800\", \"1800\", \"1800\", \"1800\", \"1800\", \"1800\", \"1800\", \"1800\", \"1800\", \"1800\", \"1800\", \"1800\", \"1800\", \"1800\", \"1800\", \"1800\", \"1800\", \"1800\", \"1800\", \"1800\", \"1800\", \"1800\", \"1800\", \"1800\", \"1800\", \"1800\", \"1800\", \"1800\", \"1800\", \"1800\", \"1800\", \"1800\", \"1800\", \"1800\", \"1800\", \"1800\", \"1800\", \"1800\", \"1800\", \"1800\", \"1800\", \"1800\", \"1800\", \"1800\", \"1800\", \"1800\", \"1800\", \"1800\", \"1800\", \"1800\", \"1800\", \"1800\", \"1800\", \"1800\", \"1800\", \"1800\", \"1800\", \"1800\", \"1800\", \"1800\", \"1800\", \"1800\", \"1800\", \"1800\", \"1800\", \"1800\", \"1800\", \"1800\", \"1800\", \"1800\", \"1800\", \"1800\", \"1800\", \"1800\", \"1800\", \"1800\", \"1800\", \"1800\", \"1800\", \"1800\", \"1800\", \"1800\", \"1800\", \"1800\", \"1800\", \"1800\", \"1800\", \"1800\", \"1800\", \"1800\", \"1800\", \"1800\", \"1800\", \"1800\", \"1800\", \"1800\", \"1800\", \"1800\", \"1800\", \"1800\", \"1800\", \"1800\", \"1800\", \"1800\", \"1800\", \"1800\", \"1800\", \"1800\", \"1800\", \"1800\", \"1800\", \"1800\", \"1800\", \"1800\", \"1800\", \"1800\", \"1800\", \"1800\", \"1800\", \"1800\", \"1800\", \"1800\", \"1800\", \"1800\", \"1800\", \"1800\", \"1800\", \"1800\", \"1800\", \"1800\", \"1800\", \"1800\", \"1800\", \"1800\", \"1800\", \"1800\", \"1800\", \"1800\", \"1800\", \"1800\", \"1800\", \"1800\", \"1800\", \"1800\", \"1800\", \"1800\", \"1800\", \"1800\", \"1800\", \"1800\", \"1800\", \"1800\", \"1800\", \"1800\", \"1800\", \"1800\", \"1800\", \"1800\", \"1800\", \"1800\", \"1800\", \"1800\", \"1800\", \"1800\", \"1800\", \"1800\", \"1800\", \"1800\", \"1800\", \"1800\", \"1800\", \"1800\", \"1800\", \"1800\", \"1800\", \"1800\", \"1800\", \"1800\", \"1800\", \"1800\", \"1800\", \"1800\", \"1800\", \"1800\", \"1800\", \"1800\", \"1800\", \"1800\", \"1800\", \"1800\", \"1800\", \"1800\", \"1800\", \"1800\", \"1800\", \"1800\", \"1800\", \"1800\", \"1800\", \"1800\", \"1800\", \"1800\", \"1800\", \"1800\", \"1800\", \"1800\", \"1800\", \"1800\", \"1800\", \"1800\", \"1800\", \"1800\", \"1800\", \"1800\", \"1800\", \"1800\", \"1800\", \"1800\", \"1800\", \"1800\", \"1800\", \"1800\", \"1800\", \"1800\", \"1800\", \"1800\", \"1800\", \"1800\", \"1800\", \"1800\", \"1800\", \"1800\", \"1800\", \"1800\", \"1800\", \"1800\", \"1800\", \"1800\", \"1800\", \"1800\", \"1800\", \"1800\", \"1800\", \"1800\", \"1800\", \"1800\", \"1800\", \"1800\", \"1800\", \"1800\", \"1800\", \"1800\", \"1800\", \"1800\", \"1800\", \"1800\", \"1800\", \"1800\", \"1800\", \"1800\", \"1800\", \"1800\", \"1800\", \"1800\", \"1800\", \"1800\", \"1800\", \"1800\", \"1800\", \"1800\", \"1800\", \"1800\", \"1800\", \"1800\", \"1800\", \"1800\", \"1800\", \"1800\", \"1800\", \"1800\", \"1800\", \"1800\", \"1800\", \"1800\", \"1800\", \"1800\", \"1800\", \"1800\", \"1800\", \"1800\", \"1800\", \"1800\", \"1800\", \"1800\", \"1800\", \"1800\", \"1800\", \"1800\", \"1800\", \"1800\", \"1800\", \"1800\", \"1800\", \"1800\", \"1800\", \"1800\", \"1800\", \"1800\", \"1800\", \"1800\", \"1800\", \"1800\", \"1800\", \"1800\", \"1800\", \"1800\", \"1800\", \"1800\", \"1800\", \"1800\", \"1800\", \"1800\", \"1800\", \"1800\", \"1800\", \"1800\", \"1800\", \"1800\", \"1800\", \"1800\", \"1800\", \"1800\", \"1800\", \"1800\", \"1800\", \"1800\", \"1800\", \"1800\", \"1800\", \"1800\", \"1800\", \"1800\", \"1800\", \"1800\", \"1800\", \"1800\", \"1800\", \"1800\", \"1800\", \"1800\", \"1800\", \"1800\", \"1800\", \"1800\", \"1800\", \"1800\", \"1800\", \"1800\", \"1800\", \"1800\", \"1800\", \"1800\", \"1800\", \"1800\", \"1800\", \"1800\", \"1800\", \"1800\", \"1800\", \"1800\", \"1800\", \"1800\", \"1800\", \"1800\", \"1800\", \"1800\", \"1800\", \"1800\", \"1800\", \"1800\", \"1800\", \"1800\", \"1800\", \"1800\", \"1800\", \"1800\", \"1800\", \"1800\", \"1800\", \"1800\", \"1800\", \"1800\", \"1800\", \"1800\", \"1800\", \"1800\", \"1800\", \"1800\", \"1800\", \"1800\", \"1800\", \"1800\", \"1800\", \"1800\", \"1800\", \"1800\", \"1800\", \"1800\", \"1800\", \"1800\", \"1800\", \"1800\", \"1800\", \"1800\", \"1800\", \"1800\", \"1800\", \"1800\", \"1800\", \"1800\", \"1800\", \"1800\", \"1800\", \"1800\", \"1800\", \"1800\", \"1800\", \"1800\", \"1800\", \"1800\", \"1800\", \"1800\", \"1800\", \"1800\", \"1800\", \"1800\", \"1800\", \"1800\", \"1800\", \"1800\", \"1800\", \"1800\", \"1800\", \"1800\", \"1800\", \"1800\", \"1800\", \"1800\", \"1800\", \"1800\", \"1800\", \"1800\", \"1800\", \"1800\", \"1800\", \"1800\", \"1800\", \"1800\", \"1800\", \"1800\", \"1800\", \"1800\", \"1800\", \"1800\", \"1800\", \"1800\", \"1800\", \"1800\", \"1800\", \"1800\", \"1800\", \"1800\", \"1800\", \"1800\", \"1800\", \"1800\", \"1800\", \"1800\", \"1800\", \"1800\", \"1800\", \"1800\", \"1800\", \"1800\", \"1800\", \"1800\", \"1800\", \"1800\", \"1800\", \"1800\", \"1800\", \"1800\", \"1800\", \"1800\", \"1800\", \"1800\", \"1800\", \"1800\", \"1800\", \"1800\", \"1800\", \"1800\", \"1800\", \"1800\", \"1800\", \"1800\", \"1800\", \"1800\", \"1800\", \"1800\", \"1800\", \"1800\", \"1800\", \"1800\", \"1800\", \"1800\", \"1800\", \"1800\", \"1800\", \"1800\", \"1800\", \"1800\", \"1800\", \"1800\", \"1800\", \"1800\", \"1800\", \"1800\", \"1800\", \"1800\", \"1800\", \"1800\", \"1800\", \"1800\", \"1800\", \"1800\", \"1800\", \"1800\", \"1800\", \"1800\", \"1800\", \"1800\", \"1800\", \"1800\", \"1800\", \"1800\", \"1800\", \"1800\", \"1800\", \"1800\", \"1800\", \"1800\", \"1800\", \"1800\", \"1800\", \"1800\", \"1800\", \"1800\", \"1800\", \"1800\", \"1800\", \"1800\", \"1800\", \"1800\", \"1800\", \"1800\", \"1800\", \"1800\", \"1800\", \"1800\", \"1800\", \"1800\", \"1800\", \"1800\", \"1800\", \"1800\", \"1800\", \"1800\", \"1800\", \"1800\", \"1800\", \"1800\", \"1800\", \"1800\", \"1800\", \"1800\", \"1800\", \"1800\", \"1800\", \"1800\", \"1800\", \"1800\", \"1800\", \"1800\", \"1800\", \"1800\", \"1800\", \"1800\", \"1800\", \"1800\", \"1800\", \"1800\", \"1800\", \"1800\", \"1800\", \"1800\", \"1800\", \"1800\", \"1800\", \"1800\", \"1800\", \"1800\", \"1800\", \"1800\", \"1800\", \"1800\", \"1800\", \"1800\", \"1800\", \"1800\", \"1800\", \"1800\", \"1800\", \"1800\", \"1800\", \"1800\", \"1800\", \"1800\", \"1800\", \"1800\", \"1800\", \"1800\", \"1800\", \"1800\", \"1800\", \"1800\", \"1800\", \"1800\", \"1800\", \"1800\", \"1800\", \"1800\", \"1800\", \"1800\", \"1800\", \"1800\", \"1800\", \"1800\", \"1800\", \"1800\", \"1800\", \"1800\", \"1800\", \"1800\", \"1800\", \"1800\", \"1800\", \"1800\", \"1800\", \"1800\", \"1800\", \"1800\", \"1800\", \"1800\", \"1800\", \"1800\", \"1800\", \"1800\", \"1800\", \"1800\", \"1800\", \"1800\", \"1800\", \"1800\", \"1800\", \"1800\", \"1800\", \"1800\", \"1800\", \"1800\", \"1800\", \"1800\", \"1800\", \"1800\", \"1800\", \"1800\", \"1800\", \"1800\", \"1800\", \"1800\", \"1800\", \"1800\", \"1800\", \"1800\", \"1800\", \"1800\", \"1800\", \"1800\", \"1800\", \"1800\", \"1800\", \"1800\", \"1800\", \"1800\", \"1800\", \"1800\", \"1800\", \"1800\", \"1800\", \"1800\", \"1800\", \"1800\", \"1800\", \"1800\", \"1800\", \"1800\", \"1800\", \"1800\", \"1800\", \"1800\", \"1800\", \"1800\", \"1800\", \"1800\", \"1800\", \"1800\", \"1800\", \"1800\", \"1800\", \"1800\", \"1800\", \"1800\", \"1800\", \"1800\", \"1800\", \"1800\", \"1800\", \"1800\", \"1800\", \"1800\", \"1800\", \"1800\", \"1800\", \"1800\", \"1800\", \"1800\", \"1800\", \"1800\", \"1800\", \"1800\", \"1800\", \"1800\", \"1800\", \"1800\", \"1800\", \"1800\", \"1800\", \"1800\", \"1800\", \"1800\", \"1800\", \"1800\", \"1800\", \"1800\", \"1800\", \"1800\", \"1800\", \"1800\", \"1800\", \"1800\", \"1800\", \"1800\", \"1800\", \"1800\", \"1800\", \"1800\", \"1800\", \"1800\", \"1800\", \"1800\", \"1800\", \"1800\", \"1800\", \"1800\", \"1800\", \"1800\", \"1800\", \"1800\", \"1800\", \"1800\", \"1800\", \"1800\", \"1800\", \"1800\", \"1800\", \"1800\", \"1800\", \"1800\", \"1800\", \"1800\", \"1800\", \"1800\", \"1800\", \"1800\", \"1800\", \"1800\", \"1800\", \"1800\", \"1800\", \"1800\", \"1800\", \"1800\", \"1800\", \"1800\", \"1800\", \"1800\", \"1800\", \"1800\", \"1800\", \"1800\", \"1800\", \"1800\", \"1800\", \"1800\", \"1800\", \"1800\", \"1800\", \"1800\", \"1800\", \"1800\", \"1800\", \"1800\", \"1800\", \"1800\", \"1800\", \"1800\", \"1800\", \"1800\", \"1800\", \"1800\", \"1800\", \"1800\", \"1800\", \"1800\", \"1800\", \"1800\", \"1800\", \"1800\", \"1800\", \"1800\", \"1800\", \"1800\", \"1800\", \"1800\", \"1800\", \"1800\", \"1800\", \"1800\", \"1800\", \"1800\", \"1800\", \"1800\", \"1800\", \"1800\", \"1800\", \"1800\", \"1800\", \"1800\", \"1800\", \"1800\", \"1800\", \"1800\", \"1800\", \"1800\", \"1800\", \"1800\", \"1800\", \"1800\", \"1800\", \"1800\", \"1800\", \"1800\", \"1800\", \"1800\", \"1800\", \"1800\", \"1800\", \"1800\", \"1800\", \"1800\", \"1800\", \"1800\", \"1800\", \"1800\", \"1800\", \"1800\", \"1800\", \"1800\", \"1800\", \"1800\", \"1800\", \"1800\", \"1800\", \"1800\", \"1800\", \"1800\", \"1800\", \"1800\", \"1800\", \"1800\", \"1800\", \"1800\", \"1800\", \"1800\", \"1800\", \"1800\", \"1800\", \"1800\", \"1800\", \"1800\", \"1800\", \"1800\", \"1800\", \"1800\", \"1800\", \"1800\", \"1800\", \"1800\", \"1800\", \"1800\", \"1800\", \"1800\", \"1800\", \"1800\", \"1800\", \"1800\", \"1800\", \"1800\", \"1800\", \"1800\", \"1800\", \"1800\", \"1800\", \"1800\", \"1800\", \"1800\", \"1800\", \"1800\", \"1800\", \"1800\", \"1800\", \"1800\", \"1800\", \"1800\", \"1800\", \"1800\", \"1800\", \"1800\", \"1800\", \"1800\", \"1800\", \"1800\", \"1800\", \"1800\", \"1800\", \"1800\", \"1800\", \"1800\", \"1800\", \"1800\", \"1800\", \"1800\", \"1800\", \"1800\", \"1800\", \"1800\", \"1800\", \"1800\", \"1800\", \"1800\", \"1800\", \"1800\", \"1800\", \"1800\", \"1800\", \"1800\", \"1800\", \"1800\", \"1800\", \"1800\", \"1800\", \"1800\", \"1800\", \"1800\", \"1800\", \"1800\", \"1800\", \"1800\", \"1800\", \"1800\", \"1800\", \"1800\", \"1800\", \"1800\", \"1800\", \"1800\", \"1800\", \"1800\", \"1800\", \"1800\", \"1800\", \"1800\", \"1800\", \"1800\", \"1800\", \"1800\", \"1800\", \"1800\", \"1800\", \"1800\", \"1800\", \"1800\", \"1800\", \"1800\", \"1800\", \"1800\", \"1800\", \"1800\", \"1800\", \"1800\", \"1800\", \"1800\", \"1800\", \"1800\", \"1800\", \"1800\", \"1800\", \"1800\", \"1800\", \"1800\", \"1800\", \"1800\", \"1800\", \"1800\", \"1800\", \"1800\", \"1800\", \"1800\", \"1800\", \"1800\", \"1800\", \"1800\", \"1800\", \"1800\", \"1800\", \"1800\", \"1800\", \"1800\", \"1800\", \"1800\", \"1800\", \"1800\", \"1800\", \"1800\", \"1800\", \"1800\", \"1800\", \"1800\", \"1800\", \"1800\", \"1800\", \"1800\", \"1800\", \"1800\", \"1800\", \"1800\", \"1800\", \"1800\", \"1800\", \"1800\", \"1800\", \"1800\", \"1800\", \"1800\", \"1800\", \"1800\", \"1800\", \"1800\", \"1800\", \"1800\", \"1800\", \"1800\", \"1800\", \"1800\", \"1800\", \"1800\", \"1800\", \"1800\", \"1800\", \"1800\", \"1800\", \"1800\", \"1800\", \"1800\", \"1800\", \"1800\", \"1800\", \"1800\", \"1800\", \"1800\", \"1800\", \"1800\", \"1800\", \"1800\", \"1800\", \"1800\", \"1800\", \"1800\", \"1800\", \"1800\", \"1800\", \"1800\", \"1800\", \"1800\", \"1800\", \"1800\", \"1800\", \"1800\", \"1800\", \"1800\", \"1800\", \"1800\", \"1800\", \"1800\", \"1800\", \"1800\", \"1800\", \"1800\", \"1800\", \"1800\", \"1800\", \"1800\", \"1800\", \"1800\", \"1800\", \"1800\", \"1800\", \"1800\", \"1800\", \"1800\", \"1800\", \"1800\", \"1800\", \"1800\", \"1800\", \"1800\", \"1800\", \"1800\", \"1800\", \"1800\", \"1800\", \"1800\", \"1800\", \"1800\", \"1800\", \"1800\", \"1800\", \"1800\", \"1800\", \"1800\", \"1800\", \"1800\", \"1800\", \"1800\", \"1800\", \"1800\", \"1800\", \"1800\", \"1800\", \"1800\", \"1800\", \"1800\", \"1800\", \"1800\", \"1800\", \"1800\", \"1800\", \"1800\", \"1800\", \"1800\", \"1800\", \"1800\", \"1800\", \"1800\", \"1800\", \"1800\", \"1800\", \"1800\", \"1800\", \"1800\", \"1800\", \"1800\", \"1800\", \"1800\", \"1800\", \"1800\", \"1800\", \"1800\", \"1800\", \"1800\", \"1800\", \"1800\", \"1800\", \"1800\", \"1800\", \"1800\", \"1800\", \"1800\", \"1800\", \"1800\", \"1800\", \"1800\", \"1800\", \"1800\", \"1800\", \"1800\", \"1800\", \"1800\", \"1800\", \"1800\", \"1800\", \"1800\", \"1800\", \"1800\", \"1800\", \"1800\", \"1800\", \"1800\", \"1800\", \"1800\", \"1800\", \"1800\", \"1800\", \"1800\", \"1800\", \"1800\", \"1800\", \"1800\", \"1800\", \"1800\", \"1800\", \"1800\", \"1800\", \"1800\", \"1800\", \"1800\", \"1800\", \"1800\", \"1800\", \"1800\", \"1800\", \"1800\", \"1800\", \"1800\", \"1800\", \"1800\", \"1800\", \"1800\", \"1800\", \"1800\", \"1800\", \"1800\", \"1800\", \"1800\", \"1800\", \"1800\", \"1800\", \"1800\", \"1800\", \"1800\", \"1800\", \"1800\", \"1800\", \"1800\", \"1800\", \"1800\", \"1800\", \"1800\", \"1800\", \"1800\", \"1800\", \"1800\", \"1800\", \"1800\", \"1800\", \"1800\", \"1800\", \"1800\", \"1800\", \"1800\", \"1800\", \"1800\", \"1800\", \"1800\", \"1800\", \"1800\", \"1800\", \"1800\", \"1800\", \"1800\", \"1800\", \"1800\", \"1800\", \"1800\", \"1800\", \"1800\", \"1800\", \"1800\", \"1800\", \"1800\", \"1800\", \"1800\", \"1800\", \"1800\", \"1800\", \"1800\", \"1800\", \"1800\", \"1800\", \"1800\", \"1800\", \"1800\", \"1800\", \"1800\", \"1800\", \"1800\", \"1800\", \"1800\", \"1800\", \"1800\", \"1800\", \"1800\", \"1800\", \"1800\", \"1800\", \"1800\", \"1800\", \"1800\", \"1800\", \"1800\", \"1800\", \"1800\", \"1800\", \"1800\", \"1800\", \"1800\", \"1800\", \"1800\", \"1800\", \"1800\", \"1800\", \"1800\", \"1800\", \"1800\", \"1800\", \"1800\", \"1800\", \"1800\", \"1800\", \"1800\", \"1800\", \"1800\", \"1800\", \"1800\", \"1800\", \"1800\", \"1800\", \"1800\", \"1800\", \"1800\", \"1800\", \"1800\", \"1800\", \"1800\", \"1800\", \"1800\", \"1800\", \"1800\", \"1800\", \"1800\", \"1800\", \"1800\", \"1800\", \"1800\", \"1800\", \"1800\", \"1800\", \"1800\", \"1800\", \"1800\", \"1800\", \"1800\", \"1800\", \"1800\", \"1800\", \"1800\", \"1800\", \"1800\", \"1800\", \"1800\", \"1800\", \"1800\", \"1800\", \"1800\", \"1800\", \"1800\", \"1800\", \"1800\", \"1800\", \"1800\", \"1800\", \"1800\", \"1800\", \"1800\", \"1800\", \"1800\", \"1800\", \"1800\", \"1800\", \"1800\", \"1800\", \"1800\", \"1800\", \"1800\", \"1800\", \"1800\", \"1800\", \"1800\", \"1800\", \"1800\", \"1800\", \"1800\", \"1800\", \"1800\", \"1800\", \"1800\", \"1800\", \"1800\", \"1800\", \"1800\", \"1800\", \"1800\", \"1800\", \"1800\", \"1800\", \"1800\", \"1800\", \"1800\", \"1800\", \"1800\", \"1800\", \"1800\", \"1800\", \"1800\", \"1800\", \"1800\", \"1800\", \"1800\", \"1800\", \"1800\", \"1800\", \"1800\", \"1800\", \"1800\", \"1800\", \"1800\", \"1800\", \"1800\", \"1800\", \"1800\", \"1800\", \"1800\", \"1800\", \"1800\", \"1800\", \"1800\", \"1800\", \"1800\", \"1800\", \"1800\", \"1800\", \"1800\", \"1800\", \"1800\", \"1800\", \"1800\", \"1800\", \"1800\", \"1800\", \"1800\", \"1800\", \"1800\", \"1800\", \"1800\", \"1800\", \"1800\", \"1800\", \"1800\", \"1800\", \"1800\", \"1800\", \"1800\", \"1800\", \"1800\", \"1800\", \"1800\", \"1800\", \"1800\", \"1800\", \"1800\", \"1800\", \"1800\", \"1800\", \"1800\", \"1800\", \"1800\", \"1800\", \"1800\", \"1800\", \"1800\", \"1800\", \"1800\", \"1800\", \"1800\", \"1800\", \"1800\", \"1800\", \"1800\", \"1800\", \"1800\", \"1800\", \"1800\", \"1800\", \"1800\", \"1800\", \"1800\", \"1800\", \"1800\", \"1800\", \"1800\", \"1800\", \"1800\", \"1800\", \"1800\", \"1800\", \"1800\", \"1800\", \"1800\", \"1800\", \"1800\", \"1800\", \"1800\", \"1800\", \"1800\", \"1800\", \"1800\", \"1800\", \"1800\", \"1800\", \"1800\", \"1800\", \"1800\", \"1800\", \"1800\", \"1800\", \"1800\", \"1800\", \"1800\", \"1800\", \"1800\", \"1800\", \"1800\", \"1800\", \"1800\", \"1800\", \"1800\", \"1800\", \"1800\", \"1800\", \"1800\", \"1800\", \"1800\", \"1800\", \"1800\", \"1800\", \"1800\", \"1800\", \"1800\", \"1800\", \"1800\", \"1800\", \"1800\", \"1800\", \"1800\", \"1800\", \"1800\", \"1800\", \"1800\", \"1800\", \"1800\", \"1800\", \"1800\", \"1800\", \"1800\", \"1800\", \"1800\", \"1800\", \"1800\", \"1800\", \"1800\", \"1800\", \"1800\", \"1800\", \"1800\", \"1800\", \"1800\", \"1800\", \"1800\", \"1800\", \"1800\", \"1800\", \"1800\", \"1800\", \"1800\", \"1800\", \"1800\", \"1800\", \"1800\", \"1800\", \"1800\", \"1800\", \"1800\", \"1800\", \"1800\", \"1800\", \"1800\", \"1800\", \"1800\", \"1800\", \"1800\", \"1800\", \"1800\", \"1800\", \"1800\", \"1800\", \"1800\", \"1800\", \"1800\", \"1800\", \"1800\", \"1800\", \"1800\", \"1800\", \"1800\", \"1800\", \"1800\", \"1800\", \"1800\", \"1800\", \"1800\", \"1800\", \"1800\", \"1800\", \"1800\", \"1800\", \"1800\", \"1800\", \"1800\", \"1800\", \"1800\", \"1800\", \"1800\", \"1800\", \"1800\", \"1800\", \"1800\", \"1800\", \"1800\", \"1800\", \"1800\", \"1800\", \"1800\", \"1800\", \"1800\", \"1800\", \"1800\", \"1800\", \"1800\", \"1800\", \"1800\", \"1800\", \"1800\", \"1800\", \"1800\", \"1800\", \"1800\", \"1800\", \"1800\", \"1800\", \"1800\", \"1800\", \"1800\", \"1800\", \"1800\", \"1800\", \"1800\", \"1800\", \"1800\", \"1800\", \"1800\", \"1800\", \"1800\", \"1800\", \"1800\", \"1800\", \"1800\", \"1800\", \"1800\", \"1800\", \"1800\", \"1800\", \"1800\", \"1800\", \"1800\", \"1800\", \"1800\", \"1800\", \"1800\", \"1800\", \"1800\", \"1800\", \"1800\", \"1800\", \"1800\", \"1800\", \"1800\", \"1800\", \"1800\", \"1800\", \"1800\", \"1800\", \"1800\", \"1800\", \"1800\", \"1800\", \"1800\", \"1800\", \"1800\", \"1800\", \"1800\", \"1800\", \"1800\", \"1800\", \"1800\", \"1800\", \"1800\", \"1800\", \"1800\", \"1800\", \"1800\", \"1800\", \"1800\", \"1800\", \"1800\", \"1800\", \"1800\", \"1800\", \"1800\", \"1800\", \"1800\", \"1800\", \"1800\", \"1800\", \"1800\", \"1800\", \"1800\", \"1800\", \"1800\", \"1800\", \"1800\", \"1800\", \"1800\", \"1800\", \"1800\", \"1800\", \"1800\", \"1800\", \"1800\", \"1800\", \"1800\", \"1800\", \"1800\", \"1800\", \"1800\", \"1800\", \"1800\", \"1800\", \"1800\", \"1800\", \"1800\", \"1800\", \"1800\", \"1800\", \"1800\", \"1800\", \"1800\", \"1800\", \"1800\", \"1800\", \"1800\", \"1800\", \"1800\", \"1800\", \"1800\", \"1800\", \"1800\", \"1800\", \"1800\", \"1800\", \"1800\", \"1800\", \"1800\", \"1800\", \"1800\", \"1800\", \"1800\", \"1800\", \"1800\", \"1800\", \"1800\", \"1800\", \"1800\", \"1800\", \"1800\", \"1800\", \"1800\", \"1800\", \"1800\", \"1800\", \"1800\", \"1800\", \"1800\", \"1800\", \"1800\", \"1800\", \"1800\", \"1800\", \"1800\", \"1800\", \"1800\", \"1800\", \"1800\", \"1800\", \"1800\", \"1800\", \"1800\", \"1800\", \"1800\", \"1800\", \"1800\", \"1800\", \"1800\", \"1800\", \"1800\", \"1800\", \"1800\", \"1800\", \"1800\", \"1800\", \"1800\", \"1800\", \"1800\", \"1800\", \"1800\", \"1800\", \"1800\", \"1800\", \"1800\", \"1800\", \"1800\", \"1800\", \"1800\", \"1800\", \"1800\", \"1800\", \"1800\", \"1800\", \"1800\", \"1800\", \"1800\", \"1800\", \"1800\", \"1800\", \"1800\", \"1800\", \"1800\", \"1800\", \"1800\", \"1800\", \"1800\", \"1800\", \"1800\", \"1800\", \"1800\", \"1800\", \"1800\", \"1800\", \"1800\", \"1800\", \"1800\", \"1800\", \"1800\", \"1800\", \"1800\", \"1800\", \"1800\", \"1800\", \"1800\", \"1800\", \"1800\", \"1800\", \"1800\", \"1800\", \"1800\", \"1800\", \"1800\", \"1800\", \"1800\", \"1800\", \"1800\", \"1800\", \"1800\", \"1800\", \"1800\", \"1800\", \"1800\", \"1800\", \"1800\", \"1800\", \"1800\", \"1800\", \"1800\", \"1800\", \"1800\", \"1800\", \"1800\", \"1800\", \"1800\", \"1800\", \"1800\", \"1800\", \"1800\", \"1800\", \"1800\", \"1800\", \"1800\", \"1800\", \"1800\", \"1800\", \"1800\", \"1800\", \"1800\", \"1800\", \"1800\", \"1800\", \"1800\", \"1800\", \"1800\", \"1800\", \"1800\", \"1800\", \"1800\", \"1800\", \"1800\", \"1800\", \"1800\", \"1800\", \"1800\", \"1800\", \"1800\", \"1800\", \"1800\", \"1800\", \"1800\", \"1800\", \"1800\", \"1800\", \"1800\", \"1800\", \"1800\", \"1800\", \"1800\", \"1800\", \"1800\", \"1800\", \"1800\", \"1800\", \"1800\", \"1800\", \"1800\", \"1800\", \"1800\", \"1800\", \"1800\", \"1800\", \"1800\", \"1800\", \"1800\", \"1800\", \"1800\", \"1800\", \"1800\", \"1800\", \"1800\", \"1800\", \"1800\", \"1800\", \"1800\", \"1800\", \"1800\", \"1800\", \"1800\", \"1800\", \"1800\", \"1800\", \"1800\", \"1800\", \"1800\", \"1800\", \"1800\", \"1800\", \"1800\", \"1800\", \"1800\", \"1800\", \"1800\", \"1800\", \"1800\", \"1800\", \"1800\", \"1800\", \"1800\", \"1800\", \"1800\", \"1800\", \"1800\", \"1800\", \"1800\", \"1800\", \"1800\", \"1800\", \"1800\", \"1800\", \"1800\", \"1800\", \"1800\", \"1800\", \"1800\", \"1800\", \"1800\", \"1800\", \"1800\", \"1800\", \"1800\", \"1800\", \"1800\", \"1800\", \"1800\", \"1800\", \"1800\", \"1800\", \"1800\", \"1800\", \"1800\", \"1800\", \"1800\", \"1800\", \"1800\", \"1800\", \"1800\", \"1800\", \"1800\", \"1800\", \"1800\", \"1800\", \"1800\", \"1800\", \"1800\", \"1800\", \"1800\", \"1800\", \"1800\", \"1800\", \"1800\", \"1800\", \"1800\", \"1800\", \"1800\", \"1800\", \"1800\", \"1800\", \"1800\", \"1800\", \"1800\", \"1800\", \"1800\", \"1800\", \"1800\", \"1800\", \"1800\", \"1800\", \"1800\", \"1800\", \"1800\", \"1800\", \"1800\", \"1800\", \"1800\", \"1800\", \"1800\", \"1800\", \"1800\", \"1800\", \"1800\", \"1800\", \"1800\", \"1800\", \"1800\", \"1800\", \"1800\", \"1800\", \"1800\", \"1800\", \"1800\", \"1800\", \"1800\", \"1800\", \"1800\", \"1800\", \"1800\", \"1800\", \"1800\", \"1800\", \"1800\", \"1800\", \"1800\", \"1800\", \"1800\", \"1800\", \"1800\", \"1800\", \"1800\", \"1800\", \"1800\", \"1800\", \"1800\", \"1800\", \"1800\", \"1800\", \"1800\", \"1800\", \"1800\", \"1800\", \"1800\", \"1800\", \"1800\", \"1800\", \"1800\", \"1800\", \"1800\", \"1800\", \"1800\", \"1800\", \"1800\", \"1800\", \"1800\", \"1800\", \"1800\", \"1800\", \"1800\", \"1800\", \"1800\", \"1800\", \"1800\", \"1800\", \"1800\", \"1800\", \"1800\", \"1800\", \"1800\", \"1800\", \"1800\", \"1800\", \"1800\", \"1800\", \"1800\", \"1800\", \"1800\", \"1800\", \"1800\", \"1800\", \"1800\", \"1800\", \"1800\", \"1800\", \"1800\", \"1800\", \"1800\", \"1800\", \"1800\", \"1800\", \"1800\", \"1800\", \"1800\", \"1800\", \"1800\", \"1800\", \"1800\", \"1800\", \"1800\", \"1800\", \"1800\", \"1800\", \"1800\", \"1800\", \"1800\", \"1800\", \"1800\", \"1800\", \"1800\", \"1800\", \"1800\", \"1800\", \"1800\", \"1800\", \"1800\", \"1800\", \"1800\", \"1800\", \"1800\", \"1800\", \"1800\", \"1800\", \"1800\", \"1800\", \"1800\", \"1800\", \"1800\", \"1800\", \"1800\", \"1800\", \"1800\", \"1800\", \"1800\", \"1800\", \"1800\", \"1800\", \"1800\", \"1800\", \"1800\", \"1800\", \"1800\", \"1800\", \"1800\", \"1800\", \"1800\", \"1800\", \"1800\", \"1800\", \"1800\", \"1800\", \"1800\", \"1800\", \"1800\", \"1800\", \"1800\", \"1800\", \"1800\", \"1800\", \"1800\", \"1800\", \"1800\", \"1800\", \"1800\", \"1800\", \"1800\", \"1800\", \"1800\", \"1800\", \"1800\", \"1800\", \"1800\", \"1800\", \"1800\", \"1800\", \"1800\", \"1800\", \"1800\", \"1800\", \"1800\", \"1800\", \"1800\", \"1800\", \"1800\", \"1800\", \"1800\", \"1800\", \"1800\", \"1800\", \"1800\", \"1800\", \"1800\", \"1800\", \"1800\", \"1800\", \"1800\", \"1800\", \"1800\", \"1800\", \"1800\", \"1800\", \"1800\", \"1800\", \"1800\", \"1800\", \"1800\", \"1800\", \"1800\", \"1800\", \"1800\", \"1800\", \"1800\", \"1800\", \"1800\", \"1800\", \"1800\", \"1800\", \"1800\", \"1800\", \"1800\", \"1800\", \"1800\", \"1800\", \"1800\", \"1800\", \"1800\", \"1800\", \"1800\", \"1800\", \"1800\", \"1800\", \"1800\", \"1800\", \"1800\", \"1800\", \"1800\", \"1800\", \"1800\", \"1800\", \"1800\", \"1800\", \"1800\", \"1800\", \"1800\", \"1800\", \"1800\", \"1800\", \"1800\", \"1800\", \"1800\", \"1800\", \"1800\", \"1800\", \"1800\", \"1800\", \"1800\", \"1800\", \"1800\", \"1800\", \"1800\", \"1800\", \"1800\", \"1800\", \"1800\", \"1800\", \"1800\", \"1800\", \"1800\", \"1800\", \"1800\", \"1800\", \"1800\", \"1800\", \"1800\", \"1800\", \"1800\", \"1800\", \"1800\", \"1800\", \"1800\", \"1800\", \"1800\", \"1800\", \"1800\", \"1800\", \"1800\", \"1800\", \"1800\", \"1800\", \"1800\", \"1800\", \"1800\", \"1800\", \"1800\", \"1800\", \"1800\", \"1800\", \"1800\", \"1800\", \"1800\", \"1800\", \"1800\", \"1800\", \"1800\", \"1800\", \"1800\", \"1800\", \"1800\", \"1800\", \"1800\", \"1800\", \"1800\", \"1800\", \"1800\", \"1800\", \"1800\", \"1800\", \"1800\", \"1800\", \"1800\", \"1800\", \"1800\", \"1800\", \"1800\", \"1800\", \"1800\", \"1800\", \"1800\", \"1800\", \"1800\", \"1800\", \"1800\", \"1800\", \"1800\", \"1800\", \"1800\", \"1800\", \"1800\", \"1800\", \"1800\", \"1800\", \"1800\", \"1800\", \"1800\", \"1800\", \"1800\", \"1800\", \"1800\", \"1800\", \"1800\", \"1800\", \"1800\", \"1800\", \"1800\", \"1800\", \"1800\", \"1800\", \"1800\", \"1800\", \"1800\", \"1800\", \"1800\", \"1800\", \"1800\", \"1800\", \"1800\", \"1800\", \"1800\", \"1800\", \"1800\", \"1800\", \"1800\", \"1800\", \"1800\", \"1800\", \"1800\", \"1800\", \"1800\", \"1800\", \"1800\", \"1800\", \"1800\", \"1800\", \"1800\", \"1800\", \"1800\", \"1800\", \"1800\", \"1800\", \"1800\", \"1800\", \"1800\", \"1800\", \"1800\", \"1800\", \"1800\", \"1800\", \"1800\", \"1800\", \"1800\", \"1800\", \"1800\", \"1800\", \"1800\", \"1800\", \"1800\", \"1800\", \"1800\", \"1800\", \"1800\", \"1800\", \"1800\", \"1800\", \"1800\", \"1800\", \"1800\", \"1800\", \"1800\", \"1800\", \"1800\", \"1800\", \"1800\", \"1800\", \"1800\", \"1800\", \"1800\", \"1800\", \"1800\", \"1800\", \"1800\", \"1800\", \"1800\", \"1800\", \"1800\", \"1800\", \"1800\", \"1800\", \"1800\", \"1800\", \"1800\", \"1800\", \"1800\", \"1800\", \"1800\", \"1800\", \"1800\", \"1800\", \"1800\", \"1800\", \"1800\", \"1800\", \"1800\", \"1800\", \"1800\", \"1800\", \"1800\", \"1800\", \"1800\", \"1800\", \"1800\", \"1800\", \"1800\", \"1800\", \"1800\", \"1800\", \"1800\", \"1800\", \"1800\", \"1800\", \"1800\", \"1800\", \"1800\", \"1800\", \"1800\", \"1800\", \"1800\", \"1800\", \"1800\", \"1800\", \"1800\", \"1800\", \"1800\", \"1800\", \"1800\", \"1800\", \"1800\", \"1800\", \"1800\", \"1800\", \"1800\", \"1800\", \"1800\", \"1800\", \"1800\", \"1800\", \"1800\", \"1800\", \"1800\", \"1800\", \"1800\", \"1800\", \"1800\", \"1800\", \"1800\", \"1800\", \"1800\", \"1800\", \"1800\", \"1800\", \"1800\", \"1800\", \"1800\", \"1800\", \"1800\", \"1800\", \"1800\", \"1800\", \"1800\", \"1800\", \"1800\", \"1800\", \"1800\", \"1800\", \"1800\", \"1800\", \"1800\", \"1800\", \"1800\", \"1800\", \"1800\", \"1800\", \"1800\", \"1800\", \"1800\", \"1800\", \"1800\", \"1800\", \"1800\", \"1800\", \"1800\", \"1800\", \"1800\", \"1800\", \"1800\", \"1800\", \"1800\", \"1800\", \"1800\", \"1800\", \"1800\", \"1800\", \"1800\", \"1800\", \"1800\", \"1800\", \"1800\", \"1800\", \"1800\", \"1800\", \"1800\", \"1800\", \"1800\", \"1800\", \"1800\", \"1800\", \"1800\", \"1800\", \"1800\", \"1800\", \"1800\", \"1800\", \"1800\", \"1800\", \"1800\", \"1800\", \"1800\", \"1800\", \"1800\", \"1800\", \"1800\", \"1800\", \"1800\", \"1800\", \"1800\", \"1800\", \"1800\", \"1800\", \"1800\", \"1800\", \"1800\", \"1800\", \"1800\", \"1800\", \"1800\", \"1800\", \"1800\", \"1800\", \"1800\", \"1800\", \"1800\", \"1800\", \"1800\", \"1800\", \"1800\", \"1800\", \"1800\", \"1800\", \"1800\", \"1800\", \"1800\", \"1800\", \"1800\", \"1800\", \"1800\", \"1800\", \"1800\", \"1800\", \"1800\", \"1800\", \"1800\", \"1800\", \"1800\", \"1800\", \"1800\", \"1800\", \"1800\", \"1800\", \"1800\", \"1800\", \"1800\", \"1800\", \"1800\", \"1800\", \"1800\", \"1800\", \"1800\", \"1800\", \"1800\", \"1800\", \"1800\", \"1800\", \"1800\", \"1800\", \"1800\", \"1800\", \"1800\", \"1800\", \"1800\", \"1800\", \"1800\", \"1800\", \"1800\", \"1800\", \"1800\", \"1800\", \"1800\", \"1800\", \"1800\", \"1800\", \"1800\", \"1800\", \"1800\", \"1800\", \"1800\", \"1800\", \"1800\", \"1800\", \"1800\", \"1800\", \"1800\", \"1800\", \"1800\", \"1800\", \"1800\", \"1800\", \"1800\", \"1800\", \"1800\", \"1800\", \"1800\", \"1800\", \"1800\", \"1800\", \"1800\", \"1800\", \"1800\", \"1800\", \"1800\", \"1800\", \"1800\", \"1800\", \"1800\", \"1800\", \"1800\", \"1800\", \"1800\", \"1800\", \"1800\", \"1800\", \"1800\", \"1800\", \"1800\", \"1800\", \"1800\", \"1800\", \"1800\", \"1800\", \"1800\", \"1800\", \"1800\", \"1800\", \"1800\", \"1800\", \"1800\", \"1800\", \"1800\", \"1800\", \"1800\", \"1800\", \"1800\", \"1800\", \"1800\", \"1800\", \"1800\", \"1800\", \"1800\", \"1800\", \"1800\", \"1800\", \"1800\", \"1800\", \"1800\", \"1800\", \"1800\", \"1800\", \"1800\", \"1800\", \"1800\", \"1800\", \"1800\", \"1800\", \"1800\", \"1800\", \"1800\", \"1800\", \"1800\", \"1800\", \"1800\", \"1800\", \"1800\", \"1800\", \"1800\", \"1800\", \"1800\", \"1800\", \"1800\", \"1800\", \"1800\", \"1800\", \"1800\", \"1800\", \"1800\", \"1800\", \"1800\", \"1800\", \"1800\", \"1800\", \"1800\", \"1800\", \"1800\", \"1800\", \"1800\", \"1800\", \"1800\", \"1800\", \"1800\", \"1800\", \"1800\", \"1800\", \"1800\", \"1800\", \"1800\", \"1800\", \"1800\", \"1800\", \"1800\", \"1800\", \"1800\", \"1800\", \"1800\", \"1800\", \"1800\", \"1800\", \"1800\", \"1800\", \"1800\", \"1800\", \"1800\", \"1800\", \"1800\", \"1800\", \"1800\", \"1800\", \"1800\", \"1800\", \"1800\", \"1800\", \"1800\", \"1800\", \"1800\", \"1800\", \"1800\", \"1800\", \"1800\", \"1800\", \"1800\", \"1800\", \"1800\", \"1800\", \"1800\", \"1800\", \"1800\", \"1800\", \"1800\", \"1800\", \"1800\", \"1800\", \"1800\", \"1800\", \"1800\", \"1800\", \"1800\", \"1800\", \"1800\", \"1800\", \"1800\", \"1800\", \"1800\", \"1800\", \"1800\", \"1800\", \"1800\", \"1800\", \"1800\", \"1800\", \"1800\", \"1800\", \"1800\", \"1800\", \"1800\", \"1800\", \"1800\", \"1800\", \"1800\", \"1800\", \"1800\", \"1800\", \"1800\", \"1800\", \"1800\", \"1800\", \"1800\", \"1800\", \"1800\", \"1800\", \"1800\", \"1800\", \"1800\", \"1800\", \"1800\", \"1800\", \"1800\", \"1800\", \"1800\", \"1800\", \"1800\", \"1800\", \"1800\", \"1800\", \"1800\", \"1800\", \"1800\", \"1800\", \"1800\", \"1800\", \"1800\", \"1800\", \"1800\", \"1800\", \"1800\", \"1800\", \"1800\", \"1800\", \"1800\", \"1800\", \"1800\", \"1800\", \"1800\", \"1800\", \"1800\", \"1800\", \"1800\", \"1800\", \"1800\", \"1800\", \"1800\", \"1800\", \"1800\", \"1800\", \"1800\", \"1800\", \"1800\", \"1800\", \"1800\", \"1800\", \"1800\", \"1800\", \"1800\", \"1800\", \"1800\", \"1800\", \"1800\", \"1800\", \"1800\", \"1800\", \"1800\", \"1800\", \"1800\", \"1800\", \"1800\", \"1800\", \"1800\", \"1800\", \"1800\", \"1800\", \"1800\", \"1800\", \"1800\", \"1800\", \"1800\", \"1800\", \"1800\", \"1800\", \"1800\", \"1800\", \"1800\", \"1800\", \"1800\", \"1800\", \"1800\", \"1800\", \"1800\", \"1800\", \"1800\", \"1800\", \"1800\", \"1800\", \"1800\", \"1800\", \"1800\", \"1800\", \"1800\", \"1800\", \"1800\", \"1800\", \"1800\", \"1800\", \"1800\", \"1800\", \"1800\", \"1800\", \"1800\", \"1800\", \"1800\", \"1800\", \"1800\", \"1800\", \"1800\", \"1800\", \"1800\", \"1800\", \"1800\", \"1800\", \"1800\", \"1800\", \"1800\", \"1800\", \"1800\", \"1800\", \"1800\", \"1800\", \"1800\", \"1800\", \"1800\", \"1800\", \"1800\", \"1800\", \"1800\", \"1800\", \"1800\", \"1800\", \"1800\", \"1800\", \"1800\", \"1800\", \"1800\", \"1800\", \"1800\", \"1800\", \"1800\", \"1800\", \"1800\", \"1800\", \"1800\", \"1800\", \"1800\", \"1800\", \"1800\", \"1800\", \"1800\", \"1800\", \"1800\", \"1800\", \"1800\", \"1800\", \"1800\", \"1800\", \"1800\", \"1800\", \"1800\", \"1800\", \"1800\", \"1800\", \"1800\", \"1800\", \"1800\", \"1800\", \"1800\", \"1800\", \"1800\", \"1800\", \"1800\", \"1800\", \"1800\", \"1800\", \"1800\", \"1800\", \"1800\", \"1800\", \"1800\", \"1800\", \"1800\", \"1800\", \"1800\", \"1800\", \"1800\", \"1800\", \"1800\", \"1800\", \"1800\", \"1800\", \"1800\", \"1800\", \"1800\", \"1800\", \"1800\", \"1800\", \"1800\", \"1800\", \"1800\", \"1800\", \"1800\", \"1800\", \"1800\", \"1800\", \"1800\", \"1800\", \"1800\", \"1800\", \"1800\", \"1800\", \"1800\", \"1800\", \"1800\", \"1800\", \"1800\", \"1800\", \"1800\", \"1800\", \"1800\", \"1800\", \"1800\", \"1800\", \"1800\", \"1800\", \"1800\", \"1800\", \"1800\", \"1800\", \"1800\", \"1800\", \"1800\", \"1800\", \"1800\", \"1800\", \"1800\", \"1800\", \"1800\", \"1800\", \"1800\", \"1800\", \"1800\", \"1800\", \"1800\", \"1800\", \"1800\", \"1800\", \"1800\", \"1800\", \"1800\", \"1800\", \"1800\", \"1800\", \"1800\", \"1800\", \"1800\", \"1800\", \"1800\", \"1800\", \"1800\", \"1800\", \"1800\", \"1800\", \"1800\", \"1800\", \"1800\", \"1800\", \"1800\", \"1800\", \"1800\", \"1800\", \"1800\", \"1800\", \"1800\", \"1800\", \"1800\", \"1800\", \"1800\", \"1800\", \"1800\", \"1800\", \"1800\", \"1800\", \"1800\", \"1800\", \"1800\", \"1800\", \"1800\", \"1800\", \"1800\", \"1800\", \"1800\", \"1800\", \"1800\", \"1800\", \"1800\", \"1800\", \"1800\", \"1800\", \"1800\", \"1800\", \"1800\", \"1800\", \"1800\", \"1800\", \"1800\", \"1800\", \"1800\", \"1800\", \"1800\", \"1800\", \"1800\", \"1800\", \"1800\", \"1800\", \"1800\", \"1800\", \"1800\", \"1800\", \"1800\", \"1800\", \"1800\", \"1800\", \"1800\", \"1800\", \"1800\", \"1800\", \"1800\", \"1800\", \"1800\", \"1800\", \"1800\", \"1800\", \"1800\", \"1800\", \"1800\", \"1800\", \"1800\", \"1800\", \"1800\", \"1800\", \"1800\", \"1800\", \"1800\", \"1800\", \"1800\", \"1800\", \"1800\", \"1800\", \"1800\", \"1800\", \"1800\", \"1800\", \"1800\", \"1800\", \"1800\", \"1800\", \"1800\", \"1800\", \"1800\", \"1800\", \"1800\", \"1800\", \"1800\", \"1800\", \"1800\", \"1800\", \"1800\", \"1800\", \"1800\", \"1800\", \"1800\", \"1800\", \"1800\", \"1800\", \"1800\", \"1800\", \"1800\", \"1800\", \"1800\", \"1800\", \"1800\", \"1800\", \"1800\", \"1800\", \"1800\", \"1800\", \"1800\", \"1800\", \"1800\", \"1800\", \"1800\", \"1800\", \"1800\", \"1800\", \"1800\", \"1800\", \"1800\", \"1800\", \"1800\", \"1800\", \"1800\", \"1800\", \"1800\", \"1800\", \"1800\", \"1800\", \"1800\", \"1800\", \"1800\", \"1800\", \"1800\", \"1800\", \"1800\", \"1800\", \"1800\", \"1800\", \"1800\", \"1800\", \"1800\", \"1800\", \"1800\", \"1800\", \"1800\", \"1800\", \"1800\", \"1800\", \"1800\", \"1800\", \"1800\", \"1800\", \"1800\", \"1800\", \"1800\", \"1800\", \"1800\", \"1800\", \"1800\", \"1800\", \"1800\", \"1800\", \"1800\", \"1800\", \"1800\", \"1800\", \"1800\", \"1800\", \"1800\", \"1800\", \"1800\", \"1800\", \"1800\", \"1800\", \"1800\", \"1800\", \"1800\", \"1800\", \"1800\", \"1800\", \"1800\", \"1800\", \"1800\", \"1800\", \"1800\", \"1800\", \"1800\", \"1800\", \"1800\", \"1800\", \"1800\", \"1800\", \"1800\", \"1800\", \"1800\", \"1800\", \"1800\", \"1800\", \"1800\", \"1800\", \"1800\", \"1800\", \"1800\", \"1800\", \"1800\", \"1800\", \"1800\", \"1800\", \"1800\", \"1800\", \"1800\", \"1800\", \"1800\", \"1800\", \"1800\", \"1800\", \"1800\", \"1800\", \"1800\", \"1800\", \"1800\", \"1800\", \"1800\", \"1800\", \"1800\", \"1800\", \"1800\", \"1800\", \"1800\", \"1800\", \"1800\", \"1800\", \"1800\", \"1800\", \"1800\", \"1800\", \"1800\", \"1800\", \"1800\", \"1800\", \"1800\", \"1800\", \"1800\", \"1800\", \"1800\", \"1800\", \"1800\", \"1800\", \"1800\", \"1800\", \"1800\", \"1800\", \"1800\", \"1800\", \"1800\", \"1800\", \"1800\", \"1800\", \"1800\", \"1800\", \"1800\", \"1800\", \"1800\", \"1800\", \"1800\", \"1800\", \"1800\", \"1800\", \"1800\", \"1800\", \"1800\", \"1800\", \"1800\", \"1800\", \"1800\", \"1800\", \"1800\", \"1800\", \"1800\", \"1800\", \"1800\", \"1800\", \"1800\", \"1800\", \"1800\", \"1800\", \"1800\", \"1800\", \"1800\", \"1800\", \"1800\", \"1800\", \"1800\", \"1800\", \"1800\", \"1800\", \"1800\", \"1800\", \"1800\", \"1800\", \"1800\", \"1800\", \"1800\", \"1800\", \"1800\", \"1800\", \"1800\", \"1800\", \"1800\", \"1800\", \"1800\", \"1800\", \"1800\", \"1800\", \"1800\", \"1800\", \"1800\", \"1800\", \"1800\", \"1800\", \"1800\", \"1800\", \"1800\", \"1800\", \"1800\", \"1800\", \"1800\", \"1800\", \"1800\", \"1800\", \"1800\", \"1800\", \"1800\", \"1800\", \"1800\", \"1800\", \"1800\", \"1800\", \"1800\", \"1800\", \"1800\", \"1800\", \"1800\", \"1800\", \"1800\", \"1800\", \"1800\", \"1800\", \"1800\", \"1800\", \"1800\", \"1800\", \"1800\", \"1800\", \"1800\", \"1800\", \"1800\", \"1800\", \"1800\", \"1800\", \"1800\", \"1800\", \"1800\", \"1800\", \"1800\", \"1800\", \"1800\", \"1800\", \"1800\", \"1800\", \"1800\", \"1800\", \"1800\", \"1800\", \"1800\", \"1800\", \"1800\", \"1800\", \"1800\", \"1800\", \"1800\", \"1800\", \"1800\", \"1800\", \"1800\", \"1800\", \"1800\", \"1800\", \"1800\", \"1800\", \"1800\", \"1800\", \"1800\", \"1800\", \"1800\", \"1800\", \"1800\", \"1800\", \"1800\", \"1800\", \"1800\", \"1800\", \"1800\", \"1800\", \"1800\", \"1800\", \"1800\", \"1800\", \"1800\", \"1800\", \"1800\", \"1800\", \"1800\", \"1800\", \"1800\", \"1800\", \"1800\", \"1800\", \"1800\", \"1800\", \"1800\", \"1800\", \"1800\", \"1800\", \"1800\", \"1800\", \"1800\", \"1800\", \"1800\", \"1800\", \"1800\", \"1800\", \"1800\", \"1800\", \"1800\", \"1800\", \"1800\", \"1800\", \"1800\", \"1800\", \"1800\", \"1800\", \"1800\", \"1800\", \"1800\", \"1800\", \"1800\", \"1800\", \"1800\", \"1800\", \"1800\", \"1800\", \"1800\", \"1800\", \"1800\", \"1800\", \"1800\", \"1800\", \"1800\", \"1800\", \"1800\", \"1800\", \"1800\", \"1800\", \"1800\", \"1800\", \"1800\", \"1800\", \"1800\", \"1800\", \"1800\", \"1800\", \"1800\", \"1800\", \"1800\", \"1800\", \"1800\", \"1800\", \"1800\", \"1800\", \"1800\", \"1800\", \"1800\", \"1800\", \"1800\", \"1800\", \"1800\", \"1800\", \"1800\", \"1800\", \"1800\", \"1800\", \"1800\", \"1800\", \"1800\", \"1800\", \"1800\", \"1800\", \"1800\", \"1800\", \"1800\", \"1800\", \"1800\", \"1800\", \"1800\", \"1800\", \"1800\", \"1800\", \"1800\", \"1800\", \"1800\", \"1800\", \"1800\", \"1800\", \"1800\", \"1800\", \"1800\", \"1800\", \"1800\", \"1800\", \"1800\", \"1800\", \"1800\", \"1800\", \"1800\", \"1800\", \"1800\", \"1800\", \"1800\", \"1800\", \"1800\", \"1800\", \"1800\", \"1800\", \"1800\", \"1800\", \"1800\", \"1800\", \"1800\", \"1800\", \"1800\", \"1800\", \"1800\", \"1800\", \"1800\", \"1800\", \"1800\", \"1800\", \"1800\", \"1800\", \"1800\", \"1800\", \"1800\", \"1800\", \"1800\", \"1800\", \"1800\", \"1800\", \"1800\", \"1800\", \"1800\", \"1800\", \"1800\", \"1800\", \"1800\", \"1800\", \"1800\", \"1800\", \"1800\", \"1800\", \"1800\", \"1800\", \"1800\", \"1800\", \"1800\", \"1800\", \"1800\", \"1800\", \"1800\", \"1800\", \"1800\", \"1800\", \"1800\", \"1800\", \"1800\", \"1800\", \"1800\", \"1800\", \"1800\", \"1800\", \"1800\", \"1800\", \"1800\", \"1800\", \"1800\", \"1800\", \"1800\", \"1800\", \"1800\", \"1800\", \"1800\", \"1800\", \"1800\", \"1800\", \"1800\", \"1800\", \"1800\", \"1800\", \"1800\", \"1800\", \"1800\", \"1800\", \"1800\", \"1800\", \"1800\", \"1800\", \"1800\", \"1800\", \"1800\", \"1800\", \"1800\", \"1800\", \"1800\", \"1800\", \"1800\", \"1800\", \"1800\", \"1800\", \"1800\", \"1800\", \"1800\", \"1800\", \"1800\", \"1800\", \"1800\", \"1800\", \"1800\", \"1800\", \"1800\", \"1800\", \"1800\", \"1800\", \"1800\", \"1800\", \"1800\", \"1800\", \"1800\", \"1800\", \"1800\", \"1800\", \"1800\", \"1800\", \"1800\", \"1800\", \"1800\", \"1800\", \"1800\", \"1800\", \"1800\", \"1800\", \"1800\", \"1800\", \"1800\", \"1800\", \"1800\", \"1800\", \"1800\", \"1800\", \"1800\", \"1800\", \"1800\", \"1800\", \"1800\", \"1800\", \"1800\", \"1800\", \"1800\", \"1800\", \"1800\", \"1800\", \"1800\", \"1800\", \"1800\", \"1800\", \"1800\", \"1800\", \"1800\", \"1800\", \"1800\", \"1800\", \"1800\", \"1800\", \"1800\", \"1800\", \"1800\", \"1800\", \"1800\", \"1800\", \"1800\", \"1800\", \"1800\", \"1800\", \"1800\", \"1800\", \"1800\", \"1800\", \"1800\", \"1800\", \"1800\", \"1800\", \"1800\", \"1800\", \"1800\", \"1800\", \"1800\", \"1800\", \"1800\", \"1800\", \"1800\", \"1800\", \"1800\", \"1800\", \"1800\", \"1800\", \"1800\", \"1800\", \"1800\", \"1800\", \"1800\", \"1800\", \"1800\", \"1800\", \"1800\", \"1800\", \"1800\", \"1800\", \"1800\", \"1800\", \"1800\", \"1800\", \"1800\", \"1800\", \"1800\", \"1800\", \"1800\", \"1800\", \"1800\", \"1800\", \"1800\", \"1800\", \"1800\", \"1800\", \"1800\", \"1800\", \"1800\", \"1800\", \"1800\", \"1800\", \"1800\", \"1800\", \"1800\", \"1800\", \"1800\", \"1800\", \"1800\", \"1800\", \"1800\", \"1800\", \"1800\", \"1800\", \"1800\", \"1800\", \"1800\", \"1800\", \"1800\", \"1800\", \"1800\", \"1800\", \"1800\", \"1800\", \"1800\", \"1800\", \"1800\", \"1800\", \"1800\", \"1800\", \"1800\", \"1800\", \"1800\", \"1800\", \"1800\", \"1800\", \"1800\", \"1800\", \"1800\", \"1800\", \"1800\", \"1800\", \"1800\", \"1800\", \"1800\", \"1800\", \"1800\", \"1800\", \"1800\", \"1800\", \"1800\", \"1800\", \"1800\", \"1800\", \"1800\", \"1800\", \"1800\", \"1800\", \"1800\", \"1800\", \"1800\", \"1800\", \"1800\", \"1800\", \"1800\", \"1800\", \"1800\", \"1800\", \"1800\", \"1800\", \"1800\", \"1800\", \"1800\", \"1800\", \"1800\", \"1800\", \"1800\", \"1800\", \"1800\", \"1800\", \"1800\", \"1800\", \"1800\", \"1800\", \"1800\", \"1800\", \"1800\", \"1800\", \"1800\", \"1800\", \"1800\", \"1800\", \"1800\", \"1800\", \"1800\", \"1800\", \"1800\", \"1800\", \"1800\", \"1800\", \"1800\", \"1800\", \"1800\", \"1800\", \"1800\", \"1800\", \"1800\", \"1800\", \"1800\", \"1800\", \"1800\", \"1800\", \"1800\", \"1800\", \"1800\", \"1800\", \"1800\", \"1800\", \"1800\", \"1800\", \"1800\", \"1800\", \"1800\", \"1800\", \"1800\", \"1800\", \"1800\", \"1800\", \"1800\", \"1800\", \"1800\", \"1800\", \"1800\", \"1800\", \"1800\", \"1800\", \"1800\", \"1800\", \"1800\", \"1800\", \"1800\", \"1800\", \"1800\", \"1800\", \"1800\", \"1800\", \"1800\", \"1800\", \"1800\", \"1800\", \"1800\", \"1800\", \"1800\", \"1800\", \"1800\", \"1800\", \"1800\", \"1800\", \"1800\", \"1800\", \"1800\", \"1800\", \"1800\", \"1800\", \"1800\", \"1800\", \"1800\", \"1800\", \"1800\", \"1800\", \"1800\", \"1800\", \"1800\", \"1800\", \"1800\", \"1800\", \"1800\", \"1800\", \"1800\", \"1800\", \"1800\", \"1800\", \"1800\", \"1800\", \"1800\", \"1800\", \"1800\", \"1800\", \"1800\", \"1800\", \"1800\", \"1800\", \"1800\", \"1800\", \"1800\", \"1800\", \"1800\", \"1800\", \"1800\", \"1800\", \"1800\", \"1800\", \"1800\", \"1800\", \"1800\", \"1800\", \"1800\", \"1800\", \"1800\", \"1800\", \"1800\", \"1800\", \"1800\", \"1800\", \"1800\", \"1800\", \"1800\", \"1800\", \"1800\", \"1800\", \"1800\", \"1800\", \"1800\", \"1800\", \"1800\", \"1800\", \"1800\", \"1800\", \"1800\", \"1800\", \"1800\", \"1800\", \"1800\", \"1800\", \"1800\", \"1800\", \"1800\", \"1800\", \"1800\", \"1800\", \"1800\", \"1800\", \"1800\", \"1800\", \"1800\", \"1800\", \"1800\", \"1800\", \"1800\", \"1800\", \"1800\", \"1800\", \"1800\", \"1800\", \"1800\", \"1800\", \"1800\", \"1800\", \"1800\", \"1800\", \"1800\", \"1800\", \"1800\", \"1800\", \"1800\", \"1800\", \"1800\", \"1800\", \"1800\", \"1800\", \"1800\", \"1800\", \"1800\", \"1800\", \"1800\", \"1800\", \"1800\", \"1800\", \"1800\", \"1800\", \"1800\", \"1800\", \"1800\", \"1800\", \"1800\", \"1800\", \"1800\", \"1800\", \"1800\", \"1800\", \"1800\", \"1800\", \"1800\", \"1800\", \"1800\", \"1800\", \"1800\", \"1800\", \"1800\", \"1800\", \"1800\", \"1800\", \"1800\", \"1800\", \"1800\", \"1800\", \"1800\", \"1800\", \"1800\", \"1800\", \"1800\", \"1800\", \"1800\", \"1800\", \"1800\", \"1800\", \"1800\", \"1800\", \"1800\", \"1800\", \"1800\", \"1800\", \"1800\", \"1800\", \"1800\", \"1800\", \"1800\", \"1800\", \"1800\", \"1800\", \"1800\", \"1800\", \"1800\", \"1800\", \"1800\", \"1800\", \"1800\", \"1800\", \"1800\", \"1800\", \"1800\", \"1800\", \"1800\", \"1800\", \"1800\", \"1800\", \"1800\", \"1800\", \"1800\", \"1800\", \"1800\", \"1800\", \"1800\", \"1800\", \"1800\", \"1800\", \"1800\", \"1800\", \"1800\", \"1800\", \"1800\", \"1800\", \"1800\", \"1800\", \"1800\", \"1800\", \"1800\", \"1800\", \"1800\", \"1800\", \"1800\", \"1800\", \"1800\", \"1800\", \"1800\", \"1800\", \"1800\", \"1800\", \"1800\", \"1800\", \"1800\", \"1800\", \"1800\", \"1800\", \"1800\", \"1800\", \"1800\", \"1800\", \"1800\", \"1800\", \"1800\", \"1800\", \"1800\", \"1800\", \"1800\", \"1800\", \"1800\", \"1800\", \"1800\", \"1800\", \"1800\", \"1800\", \"1800\", \"1800\", \"1800\", \"1800\", \"1800\", \"1800\", \"1800\", \"1800\", \"1800\", \"1800\", \"1800\", \"1800\", \"1800\", \"1800\", \"1800\", \"1800\", \"1800\", \"1800\", \"1800\", \"1800\", \"1800\", \"1800\", \"1800\", \"1800\", \"1800\", \"1800\", \"1800\", \"1800\", \"1800\", \"1800\", \"1800\", \"1800\", \"1800\", \"1800\", \"1800\", \"1800\", \"1800\", \"1800\", \"1800\", \"1800\", \"1800\", \"1800\", \"1800\", \"1800\", \"1800\", \"1800\", \"1800\", \"1800\", \"1800\", \"1800\", \"1800\", \"1800\", \"1800\", \"1800\", \"1800\", \"1800\", \"1800\", \"1800\", \"1800\", \"1800\", \"1800\", \"1800\", \"1800\", \"1800\", \"1800\", \"1800\", \"1800\", \"1800\", \"1800\", \"1800\", \"1800\", \"1800\", \"1800\", \"1800\", \"1800\", \"1800\", \"1800\", \"1800\", \"1800\", \"1800\", \"1800\", \"1800\", \"1800\", \"1800\", \"1800\", \"1800\", \"1800\", \"1800\", \"1800\", \"1800\", \"1800\", \"1800\", \"1800\", \"1800\", \"1800\", \"1800\", \"1800\", \"1800\", \"1800\", \"1800\", \"1800\", \"1800\", \"1800\", \"1800\", \"1800\", \"1800\", \"1800\", \"1800\", \"1800\", \"1800\", \"1800\", \"1800\", \"1800\", \"1800\", \"1800\", \"1800\", \"1800\", \"1800\", \"1800\", \"1800\", \"1800\", \"1800\", \"1800\", \"1800\", \"1800\", \"1800\", \"1800\", \"1800\", \"1800\", \"1800\", \"1800\", \"1800\", \"1800\", \"1800\", \"1800\", \"1800\", \"1800\", \"1800\", \"1800\", \"1800\", \"1800\", \"1800\", \"1800\", \"1800\", \"1800\", \"1800\", \"1800\", \"1800\", \"1800\", \"1800\", \"1800\", \"1800\", \"1800\", \"1800\", \"1800\", \"1800\", \"1800\", \"1800\", \"1800\", \"1800\", \"1800\", \"1800\", \"1800\", \"1800\", \"1800\", \"1800\", \"1800\", \"1800\", \"1800\", \"1800\", \"1800\", \"1800\", \"1800\", \"1800\", \"1800\", \"1800\", \"1800\", \"1800\", \"1800\", \"1800\", \"1800\", \"1800\", \"1800\", \"1800\", \"1800\", \"1800\", \"1800\", \"1800\", \"1800\", \"1800\", \"1800\", \"1800\", \"1800\", \"1800\", \"1800\", \"1800\", \"1800\", \"1800\", \"1800\", \"1800\", \"1800\", \"1800\", \"1800\", \"1800\", \"1800\", \"1800\", \"1800\", \"1800\", \"1800\", \"1800\", \"1800\", \"1800\", \"1800\", \"1800\", \"1800\", \"1800\", \"1800\", \"1800\", \"1800\", \"1800\", \"1800\", \"1800\", \"1800\", \"1800\", \"1800\", \"1800\", \"1800\", \"1800\", \"1800\", \"1800\", \"1800\", \"1800\", \"1800\", \"1800\", \"1800\", \"1800\", \"1800\", \"1800\", \"1800\", \"1800\", \"1800\", \"1800\", \"1800\", \"1800\", \"1800\", \"1800\", \"1800\", \"1800\", \"1800\", \"1800\", \"1800\", \"1800\", \"1800\", \"1800\", \"1800\", \"1800\", \"1800\", \"1800\", \"1800\", \"1800\", \"1800\", \"1800\", \"1800\", \"1800\", \"1800\", \"1800\", \"1800\", \"1800\", \"1800\", \"1800\", \"1800\", \"1800\", \"1800\", \"1800\", \"1800\", \"1800\", \"1800\", \"1800\", \"1800\", \"1800\", \"1800\", \"1800\", \"1800\", \"1800\", \"1800\", \"1800\", \"1800\", \"1800\", \"1800\", \"1800\", \"1800\", \"1800\", \"1800\", \"1800\", \"1800\", \"1800\", \"1800\", \"1800\", \"1800\", \"1800\", \"1800\", \"1800\", \"1800\", \"1800\", \"1800\", \"1800\", \"1800\", \"1800\", \"1800\", \"1800\", \"1800\", \"1800\", \"1800\", \"1800\", \"1800\", \"1800\", \"1800\", \"1800\", \"1800\", \"1800\", \"1800\", \"1800\", \"1800\", \"1800\", \"1800\", \"1800\", \"1800\", \"1800\", \"1800\", \"1800\", \"1800\", \"1800\", \"1800\", \"1800\", \"1800\", \"1800\", \"1800\", \"1800\", \"1800\", \"1800\", \"1800\", \"1800\", \"1800\", \"1800\", \"1800\", \"1800\", \"1800\", \"1800\", \"1800\", \"1800\", \"1800\", \"1800\", \"1800\", \"1800\", \"1800\", \"1800\", \"1800\", \"1800\", \"1800\", \"1800\", \"1800\", \"1800\", \"1800\", \"1800\", \"1800\", \"1800\", \"1800\", \"1800\", \"1800\", \"1800\", \"1800\", \"1800\", \"1800\", \"1800\", \"1800\", \"1800\", \"1800\", \"1800\", \"1800\", \"1800\", \"1800\", \"1800\", \"1800\", \"1800\", \"1800\", \"1800\", \"1800\", \"1800\", \"1800\", \"1800\", \"1800\", \"1800\", \"1800\", \"1800\", \"1800\", \"1800\", \"1800\", \"1800\", \"1800\", \"1800\", \"1800\", \"1800\", \"1800\", \"1800\", \"1800\", \"1800\", \"1800\", \"1800\", \"1800\", \"1800\", \"1800\", \"1800\", \"1800\", \"1800\", \"1800\", \"1800\", \"1800\", \"1800\", \"1800\", \"1800\", \"1800\", \"1800\", \"1800\", \"1800\", \"1800\", \"1800\", \"1800\", \"1800\", \"1800\", \"1800\", \"1800\", \"1800\", \"1800\", \"1800\", \"1800\", \"1800\", \"1800\", \"1800\", \"1800\", \"1800\", \"1800\", \"1800\", \"1800\", \"1800\", \"1800\", \"1800\", \"1800\", \"1800\", \"1800\", \"1800\", \"1800\", \"1800\", \"1800\", \"1800\", \"1800\", \"1800\", \"1800\", \"1800\", \"1800\", \"1800\", \"1800\", \"1800\", \"1800\", \"1800\", \"1800\", \"1800\", \"1800\", \"1800\", \"1800\", \"1800\", \"1800\", \"1800\", \"1800\", \"1800\", \"1800\", \"1800\", \"1800\", \"1800\", \"1800\", \"1800\", \"1800\", \"1800\", \"1800\", \"1800\", \"1800\", \"1800\", \"1800\", \"1800\", \"1800\", \"1800\", \"1800\", \"1800\", \"1800\", \"1800\", \"1800\", \"1800\", \"1800\", \"1800\", \"1800\", \"1800\", \"1800\", \"1800\", \"1800\", \"1800\", \"1800\", \"1800\", \"1800\", \"1800\", \"1800\", \"1800\", \"1800\", \"1800\", \"1800\", \"1800\", \"1800\", \"1800\", \"1800\", \"1800\", \"1800\", \"1800\", \"1800\", \"1800\", \"1800\", \"1800\", \"1800\", \"1800\", \"1800\", \"1800\", \"1800\", \"1800\", \"1800\", \"1800\", \"1800\", \"1800\", \"1800\", \"1800\", \"1800\", \"1800\", \"1800\", \"1800\", \"1800\", \"1800\", \"1800\", \"1800\", \"1800\", \"1800\", \"1800\", \"1800\", \"1800\", \"1800\", \"1800\", \"1800\", \"1800\", \"1800\", \"1800\", \"1800\", \"1800\", \"1800\", \"1800\", \"1800\", \"1800\", \"1800\", \"1800\", \"1800\", \"1800\", \"1800\", \"1800\", \"1800\", \"1800\", \"1800\", \"1800\", \"1800\", \"1800\", \"1800\", \"1800\", \"1800\", \"1800\", \"1800\", \"1800\", \"1800\", \"1800\", \"1800\", \"1800\", \"1800\", \"1800\", \"1800\", \"1800\", \"1800\", \"1800\", \"1800\", \"1800\", \"1800\", \"1800\", \"1800\", \"1800\", \"1800\", \"1800\", \"1800\", \"1800\", \"1800\", \"1800\", \"1800\", \"1800\", \"1800\", \"1800\", \"1800\", \"1800\", \"1800\", \"1800\", \"1800\", \"1800\", \"1800\", \"1800\", \"1800\", \"1800\", \"1800\", \"1800\", \"1800\", \"1800\", \"1800\", \"1800\", \"1800\", \"1800\", \"1800\", \"1800\", \"1800\", \"1800\", \"1800\", \"1800\", \"1800\", \"1800\", \"1800\", \"1800\", \"1800\", \"1800\", \"1800\", \"1800\", \"1800\", \"1800\", \"1800\", \"1800\", \"1800\", \"1800\", \"1800\", \"1800\", \"1800\", \"1800\", \"1800\", \"1800\", \"1800\", \"1800\", \"1800\", \"1800\", \"1800\", \"1800\", \"1800\", \"1800\", \"1800\", \"1800\", \"1800\", \"1800\", \"1800\", \"1800\", \"1800\", \"1800\", \"1800\", \"1800\", \"1800\", \"1800\", \"1800\", \"1800\", \"1800\", \"1800\", \"1800\", \"1800\", \"1800\", \"1800\", \"1800\", \"1800\", \"1800\", \"1800\", \"1800\", \"1800\", \"1800\", \"1800\", \"1800\", \"1800\", \"1800\", \"1800\", \"1800\", \"1800\", \"1800\", \"1800\", \"1800\", \"1800\", \"1800\", \"1800\", \"1800\", \"1800\", \"1800\", \"1800\", \"1800\", \"1800\", \"1800\", \"1800\", \"1800\", \"1800\", \"1800\", \"1800\", \"1800\", \"1800\", \"1800\", \"1800\", \"1800\", \"1800\", \"1800\", \"1800\", \"1800\", \"1800\", \"1800\", \"1800\", \"1800\", \"1800\", \"1800\", \"1800\", \"1800\", \"1800\", \"1800\", \"1800\", \"1800\", \"1800\", \"1800\", \"1800\", \"1800\", \"1800\", \"1800\", \"1800\", \"1800\", \"1800\", \"1800\", \"1800\", \"1800\", \"1800\", \"1800\", \"1800\", \"1800\", \"1800\", \"1800\", \"1800\", \"1800\", \"1800\", \"1800\", \"1800\", \"1800\", \"1800\", \"1800\", \"1800\", \"1800\", \"1800\", \"1800\", \"1800\", \"1800\", \"1800\", \"1800\", \"1800\", \"1800\", \"1800\", \"1800\", \"1800\", \"1800\", \"1800\", \"1800\", \"1800\", \"1800\", \"1800\", \"1800\", \"1800\", \"1800\", \"1800\", \"1800\", \"1800\", \"1800\", \"1800\", \"1800\", \"1800\", \"1800\", \"1800\", \"1800\", \"1800\", \"1800\", \"1800\", \"1800\", \"1800\", \"1800\", \"1800\", \"1800\", \"1800\", \"1800\", \"1800\", \"1800\", \"1800\", \"1800\", \"1800\", \"1800\", \"1800\", \"1800\", \"1800\", \"1800\", \"1800\", \"1800\", \"1800\", \"1800\", \"1800\", \"1800\", \"1800\", \"1800\", \"1800\", \"1800\", \"1800\", \"1800\", \"1800\", \"1800\", \"1800\", \"1800\", \"1800\", \"1800\", \"1800\", \"1800\", \"1800\", \"1800\", \"1800\", \"1800\", \"1800\", \"1800\", \"1800\", \"1800\", \"1800\", \"1800\", \"1800\", \"1800\", \"1800\", \"1800\", \"1800\", \"1800\", \"1800\", \"1800\", \"1800\", \"1800\", \"1800\", \"1800\", \"1800\", \"1800\", \"1800\", \"1800\", \"1800\", \"1800\", \"1800\", \"1800\", \"1800\", \"1800\", \"1800\", \"1800\", \"1800\", \"1800\", \"1800\", \"1800\", \"1800\", \"1800\", \"1800\", \"1800\", \"1800\", \"1800\", \"1800\", \"1800\", \"1800\", \"1800\", \"1800\", \"1800\", \"1800\", \"1800\", \"1800\", \"1800\", \"1800\", \"1800\", \"1800\", \"1800\", \"1800\", \"1800\", \"1800\", \"1800\", \"1800\", \"1800\", \"1800\", \"1800\", \"1800\", \"1800\", \"1800\", \"1800\", \"1800\", \"1800\", \"1800\", \"1800\", \"1800\", \"1800\", \"1800\", \"1800\", \"1800\", \"1800\", \"1800\", \"1800\", \"1800\", \"1800\", \"1800\", \"1800\", \"1800\", \"1800\", \"1800\", \"1800\", \"1800\", \"1800\", \"1800\", \"1800\", \"1800\", \"1800\", \"1800\", \"1800\", \"1800\", \"1800\", \"1800\", \"1800\", \"1800\", \"1800\", \"1800\", \"1800\", \"1800\", \"1800\", \"1800\", \"1800\", \"1800\", \"1800\", \"1800\", \"1800\", \"1800\", \"1800\", \"1800\", \"1800\", \"1800\", \"1800\", \"1800\", \"1800\", \"1800\", \"1800\", \"1800\", \"1800\", \"1800\", \"1800\", \"1800\", \"1800\", \"1800\", \"1800\", \"1800\", \"1800\", \"1800\", \"1800\", \"1800\", \"1800\", \"1800\", \"1800\", \"1800\", \"1800\", \"1800\", \"1800\", \"1800\", \"1800\", \"1800\", \"1800\", \"1800\", \"1800\", \"1800\", \"1800\", \"1800\", \"1800\", \"1800\", \"1800\", \"1800\", \"1800\", \"1800\", \"1800\", \"1800\", \"1800\", \"1800\", \"1800\", \"1800\", \"1800\", \"1800\", \"1800\", \"1800\", \"1800\", \"1800\", \"1800\", \"1800\", \"1800\", \"1800\", \"1800\", \"1800\", \"1800\", \"1800\", \"1800\", \"1800\", \"1800\", \"1800\", \"1800\", \"1800\", \"1800\", \"1800\", \"1800\", \"1800\", \"1800\", \"1800\", \"1800\", \"1800\", \"1800\", \"1800\", \"1800\", \"1800\", \"1800\", \"1800\", \"1800\", \"1800\", \"1800\", \"1800\", \"1800\", \"1800\", \"1800\", \"1800\", \"1800\", \"1800\", \"1800\", \"1800\", \"1800\", \"1800\", \"1800\", \"1800\", \"1800\", \"1800\", \"1800\", \"1800\", \"1800\", \"1800\", \"1800\", \"1800\", \"1800\", \"1800\", \"1800\", \"1800\", \"1800\", \"1800\", \"1800\", \"1800\", \"1800\", \"1800\", \"1800\", \"1800\", \"1800\", \"1800\", \"1800\", \"1800\", \"1800\", \"1800\", \"1800\", \"1800\", \"1800\", \"1800\", \"1800\", \"1800\", \"1800\", \"1800\", \"1800\", \"1800\", \"1800\", \"1800\", \"1800\", \"1800\", \"1800\", \"1800\", \"1800\", \"1800\", \"1800\", \"1800\", \"1800\", \"1800\", \"1800\", \"1800\", \"1800\", \"1800\", \"1800\", \"1800\", \"1800\", \"1800\", \"1800\", \"1800\", \"1800\", \"1800\", \"1800\", \"1800\", \"1800\", \"1800\", \"1800\", \"1800\", \"1800\", \"1800\", \"1800\", \"1800\", \"1800\", \"1800\", \"1800\", \"1800\", \"1800\", \"1800\", \"1800\", \"1800\", \"1800\", \"1800\", \"1800\", \"1800\", \"1800\", \"1800\", \"1800\", \"1800\", \"1800\", \"1800\", \"1800\", \"1800\", \"1800\", \"1800\", \"1800\", \"1800\", \"1800\", \"1800\", \"1800\", \"1800\", \"1800\", \"1800\", \"1800\", \"1800\", \"1800\", \"1800\", \"1800\", \"1800\", \"1800\", \"1800\", \"1800\", \"1800\", \"1800\", \"1800\", \"1800\", \"1800\", \"1800\", \"1800\", \"1800\", \"1800\", \"1800\", \"1800\", \"1800\", \"1800\", \"1800\", \"1800\", \"1800\", \"1800\", \"1800\", \"1800\", \"1800\", \"1800\", \"1800\", \"1800\", \"1800\", \"1800\", \"1800\", \"1800\", \"1800\", \"1800\", \"1800\", \"1800\", \"1800\", \"1800\", \"1800\", \"1800\", \"1800\", \"1800\", \"1800\", \"1800\", \"1800\", \"1800\", \"1800\", \"1800\", \"1800\", \"1800\", \"1800\", \"1800\", \"1800\", \"1800\", \"1800\", \"1800\", \"1800\", \"1800\", \"1800\", \"1800\", \"1800\", \"1800\", \"1800\", \"1800\", \"1800\", \"1800\", \"1800\", \"1800\", \"1800\", \"1800\", \"1800\", \"1800\", \"1800\", \"1800\", \"1800\", \"1800\", \"1800\", \"1800\", \"1800\", \"1800\", \"1800\", \"1800\", \"1800\", \"1800\", \"1800\", \"1800\", \"1800\", \"1800\", \"1800\", \"1800\", \"1800\", \"1800\", \"1800\", \"1800\", \"1800\", \"1800\", \"1800\", \"1800\", \"1800\", \"1800\", \"1800\", \"1800\", \"1800\", \"1800\", \"1800\", \"1800\", \"1800\", \"1800\", \"1800\", \"1800\", \"1800\", \"1800\", \"1800\", \"1800\", \"1800\", \"1800\", \"1800\", \"1800\", \"1800\", \"1800\", \"1800\", \"1800\", \"1800\", \"1800\", \"1800\", \"1800\", \"1800\", \"1800\", \"1800\", \"1800\", \"1800\", \"1800\", \"1800\", \"1800\", \"1800\", \"1800\", \"1800\", \"1800\", \"1800\", \"1800\", \"1800\", \"1800\", \"1800\", \"1800\", \"1800\", \"1800\", \"1800\", \"1800\", \"1800\", \"1800\", \"1800\", \"1800\", \"1800\", \"1800\", \"1800\", \"1800\", \"1800\", \"1800\", \"1800\", \"1800\", \"1800\", \"1800\", \"1800\", \"1800\", \"1800\", \"1800\", \"1800\", \"1800\", \"1800\", \"1800\", \"1800\", \"1800\", \"1800\", \"1800\", \"1800\", \"1800\", \"1800\", \"1800\", \"1800\", \"1800\", \"1800\", \"1800\", \"1800\", \"1800\", \"1800\", \"1800\", \"1800\", \"1800\", \"1800\", \"1800\", \"1800\", \"1800\", \"1800\", \"1800\", \"1800\", \"1800\", \"1800\", \"1800\", \"1800\", \"1800\", \"1800\", \"1800\", \"1800\", \"1800\", \"1800\", \"1800\", \"1800\", \"1800\", \"1800\", \"1800\", \"1800\", \"1800\", \"1800\", \"1800\", \"1800\", \"1800\", \"1800\", \"1800\", \"1800\", \"1800\", \"1800\", \"1800\", \"1800\", \"1800\", \"1800\", \"1800\", \"1800\", \"1800\", \"1800\", \"1800\", \"1800\", \"1800\", \"1800\", \"1800\", \"1800\", \"1800\", \"1800\", \"1800\", \"1800\", \"1800\", \"1800\", \"1800\", \"1800\", \"1800\", \"1800\", \"1800\", \"1800\", \"1800\", \"1800\", \"1800\", \"1800\", \"1800\", \"1800\", \"1800\", \"1800\", \"1800\", \"1800\", \"1800\", \"1800\", \"1800\", \"1800\", \"1800\", \"1800\", \"1800\", \"1800\", \"1800\", \"1800\", \"1800\", \"1800\", \"1800\", \"1800\", \"1800\", \"1800\", \"1800\", \"1800\", \"1800\", \"1800\", \"1800\", \"1800\", \"1800\", \"1800\", \"1800\", \"1800\", \"1800\", \"1800\", \"1800\", \"1800\", \"1800\", \"1800\", \"1800\", \"1800\", \"1800\", \"1800\", \"1800\", \"1800\", \"1800\", \"1800\", \"1800\", \"1800\", \"1800\", \"1800\", \"1800\", \"1800\", \"1800\", \"1800\", \"1800\", \"1800\", \"1800\", \"1800\", \"1800\", \"1800\", \"1800\", \"1800\", \"1800\", \"1800\", \"1800\", \"1800\", \"1800\", \"1800\", \"1800\", \"1800\", \"1800\", \"1800\", \"1800\", \"1800\", \"1800\", \"1800\", \"1800\", \"1800\", \"1800\", \"1800\", \"1800\", \"1800\", \"1800\", \"1800\", \"1800\", \"1800\", \"1800\", \"1800\", \"1800\", \"1800\", \"1800\", \"1800\", \"1800\", \"1800\", \"1800\", \"1800\", \"1800\", \"1800\", \"1800\", \"1800\", \"1800\", \"1800\", \"1800\", \"1800\", \"1800\", \"1800\", \"1800\", \"1800\", \"1800\", \"1800\", \"1800\", \"1800\", \"1800\", \"1800\", \"1800\", \"1800\", \"1800\", \"1800\", \"1800\", \"1800\", \"1800\", \"1800\", \"1800\", \"1800\", \"1800\", \"1800\", \"1800\", \"1800\", \"1800\", \"1800\", \"1800\", \"1800\", \"1800\", \"1800\", \"1800\", \"1800\", \"1800\", \"1800\", \"1800\", \"1800\", \"1800\", \"1800\", \"1800\", \"1800\", \"1800\", \"1800\", \"1800\", \"1800\", \"1800\", \"1800\", \"1800\", \"1800\", \"1800\", \"1800\", \"1800\", \"1800\", \"1800\", \"1800\", \"1800\", \"1800\", \"1800\", \"1800\", \"1800\", \"1800\", \"1800\", \"1800\", \"1800\", \"1800\", \"1800\", \"1800\", \"1800\", \"1800\", \"1800\", \"1800\", \"1800\", \"1800\", \"1800\", \"1800\", \"1800\", \"1800\", \"1800\", \"1800\", \"1800\", \"1800\", \"1800\", \"1800\", \"1800\", \"1800\", \"1800\", \"1800\", \"1800\", \"1800\", \"1800\", \"1800\", \"1800\", \"1800\", \"1800\", \"1800\", \"1800\", \"1800\", \"1800\", \"1800\", \"1800\", \"1800\", \"1800\", \"1800\", \"1800\", \"1800\", \"1800\", \"1800\", \"1800\", \"1800\", \"1800\", \"1800\", \"1800\", \"1800\", \"1800\", \"1800\", \"1800\", \"1800\", \"1800\", \"1800\", \"1800\", \"1800\", \"1800\", \"1800\", \"1800\", \"1800\", \"1800\", \"1800\", \"1800\", \"1800\", \"1800\", \"1800\", \"1800\", \"1800\", \"1800\", \"1800\", \"1800\", \"1800\", \"1800\", \"1800\", \"1800\", \"1800\", \"1800\", \"1800\", \"1800\", \"1800\", \"1800\", \"1800\", \"1800\", \"1800\", \"1800\", \"1800\", \"1800\", \"1800\", \"1800\", \"1800\", \"1800\", \"1800\", \"1800\", \"1800\", \"1800\", \"1800\", \"1800\", \"1800\", \"1800\", \"1800\", \"1800\", \"1800\", \"1800\", \"1800\", \"1800\", \"1800\", \"1800\", \"1800\", \"1800\", \"1800\", \"1800\", \"1800\", \"1800\", \"1800\", \"1800\", \"1800\", \"1800\", \"1800\", \"1800\", \"1800\", \"1800\", \"1800\", \"1800\", \"1900\", \"1900\", \"1900\", \"1900\", \"1900\", \"1900\", \"1900\", \"1900\", \"1900\", \"1900\", \"1900\", \"1900\", \"1900\", \"1900\", \"1900\", \"1900\", \"1900\", \"1900\", \"1900\", \"1900\", \"1900\", \"1900\", \"1900\", \"1900\", \"1900\", \"1900\", \"1900\", \"1900\", \"1900\", \"1900\", \"1900\", \"1900\", \"1900\", \"1900\", \"1900\", \"1900\", \"1900\", \"1900\", \"1900\", \"1900\", \"1900\", \"1900\", \"1900\", \"1900\", \"1900\", \"1900\", \"1900\", \"1900\", \"1900\", \"1900\", \"1900\", \"1900\", \"1900\", \"1900\", \"1900\", \"1900\", \"1900\", \"1900\", \"1900\", \"1900\", \"1900\", \"1900\", \"1900\", \"1900\", \"1900\", \"1900\", \"1900\", \"1900\", \"1900\", \"1900\", \"1900\", \"1900\", \"1900\", \"1900\", \"1900\", \"1900\", \"1900\", \"1900\", \"1900\", \"1900\", \"1900\", \"1900\", \"1900\", \"1900\", \"1900\", \"1900\", \"1900\", \"1900\", \"1900\", \"1900\", \"1900\", \"1900\", \"1900\", \"1900\", \"1900\", \"1900\", \"1900\", \"1900\", \"1900\", \"1900\", \"1900\", \"1900\", \"1900\", \"1900\", \"1900\", \"1900\", \"1900\", \"1900\", \"1900\", \"1900\", \"1900\", \"1900\", \"1900\", \"1900\", \"1900\", \"1900\", \"1900\", \"1900\", \"1900\", \"1900\", \"1900\", \"1900\", \"1900\", \"1900\", \"1900\", \"1900\", \"1900\", \"1900\", \"1900\", \"1900\", \"1900\", \"1900\", \"1900\", \"1900\", \"1900\", \"1900\", \"1900\", \"1900\", \"1900\", \"1900\", \"1900\", \"1900\", \"1900\", \"1900\", \"1900\", \"1900\", \"1900\", \"1900\", \"1900\", \"1900\", \"1900\", \"1900\", \"1900\", \"1900\", \"1900\", \"1900\", \"1900\", \"1900\", \"1900\", \"1900\", \"1900\", \"1900\", \"1900\", \"1900\", \"1900\", \"1900\", \"1900\", \"1900\", \"1900\", \"1900\", \"1900\", \"1900\", \"1900\", \"1900\", \"1900\", \"1900\", \"1900\", \"1900\", \"1900\", \"1900\", \"1900\", \"1900\", \"1900\", \"1900\", \"1900\", \"1900\", \"1900\", \"1900\", \"1900\", \"1900\", \"1900\", \"1900\", \"1900\", \"1900\", \"1900\", \"1900\", \"1900\", \"1900\", \"1900\", \"1900\", \"1900\", \"1900\", \"1900\", \"1900\", \"1900\", \"1900\", \"1900\", \"1900\", \"1900\", \"1900\", \"1900\", \"1900\", \"1900\", \"1900\", \"1900\", \"1900\", \"1900\", \"1900\", \"1900\", \"1900\", \"1900\", \"1900\", \"1900\", \"1900\", \"1900\", \"1900\", \"1900\", \"1900\", \"1900\", \"1900\", \"1900\", \"1900\", \"1900\", \"1900\", \"1900\", \"1900\", \"1900\", \"1900\", \"1900\", \"1900\", \"1900\", \"1900\", \"1900\", \"1900\", \"1900\", \"1900\", \"1900\", \"1900\", \"1900\", \"1900\", \"1900\", \"1900\", \"1900\", \"1900\", \"1900\", \"1900\", \"1900\", \"1900\", \"1900\", \"1900\", \"1900\", \"1900\", \"1900\", \"1900\", \"1900\", \"1900\", \"1900\", \"1900\", \"1900\", \"1900\", \"1900\", \"1900\", \"1900\", \"1900\", \"1900\", \"1900\", \"1900\", \"1900\", \"1900\", \"1900\", \"1900\", \"1900\", \"1900\", \"1900\", \"1900\", \"1900\", \"1900\", \"1900\", \"1900\", \"1900\", \"1900\", \"1900\", \"1900\", \"1900\", \"1900\", \"1900\", \"1900\", \"1900\", \"1900\", \"1900\", \"1900\", \"1900\", \"1900\", \"1900\", \"1900\", \"1900\", \"1900\", \"1900\", \"1900\", \"1900\", \"1900\", \"1900\", \"1900\", \"1900\", \"1900\", \"1900\", \"1900\", \"1900\", \"1900\", \"1900\", \"1900\", \"1900\", \"1900\", \"1900\", \"1900\", \"1900\", \"1900\", \"1900\", \"1900\", \"1900\", \"1900\", \"1900\", \"1900\", \"1900\", \"1900\", \"1900\", \"1900\", \"1900\", \"1900\", \"1900\", \"1900\", \"1900\", \"1900\", \"1900\", \"1900\", \"1900\", \"1900\", \"1900\", \"1900\", \"1900\", \"1900\", \"1900\", \"1900\", \"1900\", \"1900\", \"1900\", \"1900\", \"1900\", \"1900\", \"1900\", \"1900\", \"1900\", \"1900\", \"1900\", \"1900\", \"1900\", \"1900\", \"1900\", \"1900\", \"1900\", \"1900\", \"1900\", \"1900\", \"1900\", \"1900\", \"1900\", \"1900\", \"1900\", \"1900\", \"1900\", \"1900\", \"1900\", \"1900\", \"1900\", \"1900\", \"1900\", \"1900\", \"1900\", \"1900\", \"1900\", \"1900\", \"1900\", \"1900\", \"1900\", \"1900\", \"1900\", \"1900\", \"1900\", \"1900\", \"1900\", \"1900\", \"1900\", \"1900\", \"1900\", \"1900\", \"1900\", \"1900\", \"1900\", \"1900\", \"1900\", \"1900\", \"1900\", \"1900\", \"1900\", \"1900\", \"1900\", \"1900\", \"1900\", \"1900\", \"1900\", \"1900\", \"1900\", \"1900\", \"1900\", \"1900\", \"1900\", \"1900\", \"1900\", \"1900\", \"1900\", \"1900\", \"1900\", \"1900\", \"1900\", \"1900\", \"1900\", \"1900\", \"1900\", \"1900\", \"1900\", \"1900\", \"1900\", \"1900\", \"1900\", \"1900\", \"1900\", \"1900\", \"1900\", \"1900\", \"1900\", \"1900\", \"1900\", \"1900\", \"1900\", \"1900\", \"1900\", \"1900\", \"1900\", \"1900\", \"1900\", \"1900\", \"1900\", \"1900\", \"1900\", \"1900\", \"1900\", \"1900\", \"1900\", \"1900\", \"1900\", \"1900\", \"1900\", \"1900\", \"1900\", \"1900\", \"1900\", \"1900\", \"1900\", \"1900\", \"1900\", \"1900\", \"1900\", \"1900\", \"1900\", \"1900\", \"1900\", \"1900\", \"1900\", \"1900\", \"1900\", \"1900\", \"1900\", \"1900\", \"1900\", \"1900\", \"1900\", \"1900\", \"1900\", \"1900\", \"1900\", \"1900\", \"1900\", \"1900\", \"1900\", \"1900\", \"1900\", \"1900\", \"1900\", \"1900\", \"1900\", \"1900\", \"1900\", \"1900\", \"1900\", \"1900\", \"1900\", \"1900\", \"1900\", \"1900\", \"1900\", \"1900\", \"1900\", \"1900\", \"1900\", \"1900\", \"1900\", \"1900\", \"1900\", \"1900\", \"1900\", \"1900\", \"1900\", \"1900\", \"1900\", \"1900\", \"1900\", \"1900\", \"1900\", \"1900\", \"1900\", \"1900\", \"1900\", \"1900\", \"1900\", \"1900\", \"1900\", \"1900\", \"1900\", \"1900\", \"1900\", \"1900\", \"1900\", \"1900\", \"1900\", \"1900\", \"1900\", \"1900\", \"1900\", \"1900\", \"1900\", \"1900\", \"1900\", \"1900\", \"1900\", \"1900\", \"1900\", \"1900\", \"1900\", \"1900\", \"1900\", \"1900\", \"1900\", \"1900\", \"1900\", \"1900\", \"1900\", \"1900\", \"1900\", \"1900\", \"1900\", \"1900\", \"1900\", \"1900\", \"1900\", \"1900\", \"1900\", \"1900\", \"1900\", \"1900\", \"1900\", \"1900\", \"1900\", \"1900\", \"1900\", \"1900\", \"1900\", \"1900\", \"1900\", \"1900\", \"1900\", \"1900\", \"1900\", \"1900\", \"1900\", \"1900\", \"1900\", \"1900\", \"1900\", \"1900\", \"1900\", \"1900\", \"1900\", \"1900\", \"1900\", \"1900\", \"1900\", \"1900\", \"1900\", \"1900\", \"1900\", \"1900\", \"1900\", \"1900\", \"1900\", \"1900\", \"1900\", \"1900\", \"1900\", \"1900\", \"1900\", \"1900\", \"1900\", \"1900\", \"1900\", \"1900\", \"1900\", \"1900\", \"1900\", \"1900\", \"1900\", \"1900\", \"1900\", \"1900\", \"1900\", \"1900\", \"1900\", \"1900\", \"1900\", \"1900\", \"1900\", \"1900\", \"1900\", \"1900\", \"1900\", \"1900\", \"1900\", \"1900\", \"1900\", \"1900\", \"1900\", \"1900\", \"1900\", \"1900\", \"1900\", \"1900\", \"1900\", \"1900\", \"1900\", \"1900\", \"1900\", \"1900\", \"1900\", \"1900\", \"1900\", \"1900\", \"1900\", \"1900\", \"1900\", \"1900\", \"1900\", \"1900\", \"1900\", \"1900\", \"1900\", \"1900\", \"1900\", \"1900\", \"1900\", \"1900\", \"1900\", \"1900\", \"1900\", \"1900\", \"1900\", \"1900\", \"1900\", \"1900\", \"1900\", \"Before 1500\", \"Before 1500\", \"Before 1500\", \"Before 1500\", \"Before 1500\", \"Before 1500\", \"Before 1500\", \"Before 1500\", \"Before 1500\", \"Before 1500\", \"Before 1500\"], \"xaxis\": \"x\", \"yaxis\": \"y\"}],                        {\"barmode\": \"relative\", \"legend\": {\"tracegroupgap\": 0}, \"template\": {\"data\": {\"bar\": [{\"error_x\": {\"color\": \"#2a3f5f\"}, \"error_y\": {\"color\": \"#2a3f5f\"}, \"marker\": {\"line\": {\"color\": \"#E5ECF6\", \"width\": 0.5}}, \"type\": \"bar\"}], \"barpolar\": [{\"marker\": {\"line\": {\"color\": \"#E5ECF6\", \"width\": 0.5}}, \"type\": \"barpolar\"}], \"carpet\": [{\"aaxis\": {\"endlinecolor\": \"#2a3f5f\", \"gridcolor\": \"white\", \"linecolor\": \"white\", \"minorgridcolor\": \"white\", \"startlinecolor\": \"#2a3f5f\"}, \"baxis\": {\"endlinecolor\": \"#2a3f5f\", \"gridcolor\": \"white\", \"linecolor\": \"white\", \"minorgridcolor\": \"white\", \"startlinecolor\": \"#2a3f5f\"}, \"type\": \"carpet\"}], \"choropleth\": [{\"colorbar\": {\"outlinewidth\": 0, \"ticks\": \"\"}, \"type\": \"choropleth\"}], \"contour\": [{\"colorbar\": {\"outlinewidth\": 0, \"ticks\": \"\"}, \"colorscale\": [[0.0, \"#0d0887\"], [0.1111111111111111, \"#46039f\"], [0.2222222222222222, \"#7201a8\"], [0.3333333333333333, \"#9c179e\"], [0.4444444444444444, \"#bd3786\"], [0.5555555555555556, \"#d8576b\"], [0.6666666666666666, \"#ed7953\"], [0.7777777777777778, \"#fb9f3a\"], [0.8888888888888888, \"#fdca26\"], [1.0, \"#f0f921\"]], \"type\": \"contour\"}], \"contourcarpet\": [{\"colorbar\": {\"outlinewidth\": 0, \"ticks\": \"\"}, \"type\": \"contourcarpet\"}], \"heatmap\": [{\"colorbar\": {\"outlinewidth\": 0, \"ticks\": \"\"}, \"colorscale\": [[0.0, \"#0d0887\"], [0.1111111111111111, \"#46039f\"], [0.2222222222222222, \"#7201a8\"], [0.3333333333333333, \"#9c179e\"], [0.4444444444444444, \"#bd3786\"], [0.5555555555555556, \"#d8576b\"], [0.6666666666666666, \"#ed7953\"], [0.7777777777777778, \"#fb9f3a\"], [0.8888888888888888, \"#fdca26\"], [1.0, \"#f0f921\"]], \"type\": \"heatmap\"}], \"heatmapgl\": [{\"colorbar\": {\"outlinewidth\": 0, \"ticks\": \"\"}, \"colorscale\": [[0.0, \"#0d0887\"], [0.1111111111111111, \"#46039f\"], [0.2222222222222222, \"#7201a8\"], [0.3333333333333333, \"#9c179e\"], [0.4444444444444444, \"#bd3786\"], [0.5555555555555556, \"#d8576b\"], [0.6666666666666666, \"#ed7953\"], [0.7777777777777778, \"#fb9f3a\"], [0.8888888888888888, \"#fdca26\"], [1.0, \"#f0f921\"]], \"type\": \"heatmapgl\"}], \"histogram\": [{\"marker\": {\"colorbar\": {\"outlinewidth\": 0, \"ticks\": \"\"}}, \"type\": \"histogram\"}], \"histogram2d\": [{\"colorbar\": {\"outlinewidth\": 0, \"ticks\": \"\"}, \"colorscale\": [[0.0, \"#0d0887\"], [0.1111111111111111, \"#46039f\"], [0.2222222222222222, \"#7201a8\"], [0.3333333333333333, \"#9c179e\"], [0.4444444444444444, \"#bd3786\"], [0.5555555555555556, \"#d8576b\"], [0.6666666666666666, \"#ed7953\"], [0.7777777777777778, \"#fb9f3a\"], [0.8888888888888888, \"#fdca26\"], [1.0, \"#f0f921\"]], \"type\": \"histogram2d\"}], \"histogram2dcontour\": [{\"colorbar\": {\"outlinewidth\": 0, \"ticks\": \"\"}, \"colorscale\": [[0.0, \"#0d0887\"], [0.1111111111111111, \"#46039f\"], [0.2222222222222222, \"#7201a8\"], [0.3333333333333333, \"#9c179e\"], [0.4444444444444444, \"#bd3786\"], [0.5555555555555556, \"#d8576b\"], [0.6666666666666666, \"#ed7953\"], [0.7777777777777778, \"#fb9f3a\"], [0.8888888888888888, \"#fdca26\"], [1.0, \"#f0f921\"]], \"type\": \"histogram2dcontour\"}], \"mesh3d\": [{\"colorbar\": {\"outlinewidth\": 0, \"ticks\": \"\"}, \"type\": \"mesh3d\"}], \"parcoords\": [{\"line\": {\"colorbar\": {\"outlinewidth\": 0, \"ticks\": \"\"}}, \"type\": \"parcoords\"}], \"pie\": [{\"automargin\": true, \"type\": \"pie\"}], \"scatter\": [{\"marker\": {\"colorbar\": {\"outlinewidth\": 0, \"ticks\": \"\"}}, \"type\": \"scatter\"}], \"scatter3d\": [{\"line\": {\"colorbar\": {\"outlinewidth\": 0, \"ticks\": \"\"}}, \"marker\": {\"colorbar\": {\"outlinewidth\": 0, \"ticks\": \"\"}}, \"type\": \"scatter3d\"}], \"scattercarpet\": [{\"marker\": {\"colorbar\": {\"outlinewidth\": 0, \"ticks\": \"\"}}, \"type\": \"scattercarpet\"}], \"scattergeo\": [{\"marker\": {\"colorbar\": {\"outlinewidth\": 0, \"ticks\": \"\"}}, \"type\": \"scattergeo\"}], \"scattergl\": [{\"marker\": {\"colorbar\": {\"outlinewidth\": 0, \"ticks\": \"\"}}, \"type\": \"scattergl\"}], \"scattermapbox\": [{\"marker\": {\"colorbar\": {\"outlinewidth\": 0, \"ticks\": \"\"}}, \"type\": \"scattermapbox\"}], \"scatterpolar\": [{\"marker\": {\"colorbar\": {\"outlinewidth\": 0, \"ticks\": \"\"}}, \"type\": \"scatterpolar\"}], \"scatterpolargl\": [{\"marker\": {\"colorbar\": {\"outlinewidth\": 0, \"ticks\": \"\"}}, \"type\": \"scatterpolargl\"}], \"scatterternary\": [{\"marker\": {\"colorbar\": {\"outlinewidth\": 0, \"ticks\": \"\"}}, \"type\": \"scatterternary\"}], \"surface\": [{\"colorbar\": {\"outlinewidth\": 0, \"ticks\": \"\"}, \"colorscale\": [[0.0, \"#0d0887\"], [0.1111111111111111, \"#46039f\"], [0.2222222222222222, \"#7201a8\"], [0.3333333333333333, \"#9c179e\"], [0.4444444444444444, \"#bd3786\"], [0.5555555555555556, \"#d8576b\"], [0.6666666666666666, \"#ed7953\"], [0.7777777777777778, \"#fb9f3a\"], [0.8888888888888888, \"#fdca26\"], [1.0, \"#f0f921\"]], \"type\": \"surface\"}], \"table\": [{\"cells\": {\"fill\": {\"color\": \"#EBF0F8\"}, \"line\": {\"color\": \"white\"}}, \"header\": {\"fill\": {\"color\": \"#C8D4E3\"}, \"line\": {\"color\": \"white\"}}, \"type\": \"table\"}]}, \"layout\": {\"annotationdefaults\": {\"arrowcolor\": \"#2a3f5f\", \"arrowhead\": 0, \"arrowwidth\": 1}, \"autotypenumbers\": \"strict\", \"coloraxis\": {\"colorbar\": {\"outlinewidth\": 0, \"ticks\": \"\"}}, \"colorscale\": {\"diverging\": [[0, \"#8e0152\"], [0.1, \"#c51b7d\"], [0.2, \"#de77ae\"], [0.3, \"#f1b6da\"], [0.4, \"#fde0ef\"], [0.5, \"#f7f7f7\"], [0.6, \"#e6f5d0\"], [0.7, \"#b8e186\"], [0.8, \"#7fbc41\"], [0.9, \"#4d9221\"], [1, \"#276419\"]], \"sequential\": [[0.0, \"#0d0887\"], [0.1111111111111111, \"#46039f\"], [0.2222222222222222, \"#7201a8\"], [0.3333333333333333, \"#9c179e\"], [0.4444444444444444, \"#bd3786\"], [0.5555555555555556, \"#d8576b\"], [0.6666666666666666, \"#ed7953\"], [0.7777777777777778, \"#fb9f3a\"], [0.8888888888888888, \"#fdca26\"], [1.0, \"#f0f921\"]], \"sequentialminus\": [[0.0, \"#0d0887\"], [0.1111111111111111, \"#46039f\"], [0.2222222222222222, \"#7201a8\"], [0.3333333333333333, \"#9c179e\"], [0.4444444444444444, \"#bd3786\"], [0.5555555555555556, \"#d8576b\"], [0.6666666666666666, \"#ed7953\"], [0.7777777777777778, \"#fb9f3a\"], [0.8888888888888888, \"#fdca26\"], [1.0, \"#f0f921\"]]}, \"colorway\": [\"#636efa\", \"#EF553B\", \"#00cc96\", \"#ab63fa\", \"#FFA15A\", \"#19d3f3\", \"#FF6692\", \"#B6E880\", \"#FF97FF\", \"#FECB52\"], \"font\": {\"color\": \"#2a3f5f\"}, \"geo\": {\"bgcolor\": \"white\", \"lakecolor\": \"white\", \"landcolor\": \"#E5ECF6\", \"showlakes\": true, \"showland\": true, \"subunitcolor\": \"white\"}, \"hoverlabel\": {\"align\": \"left\"}, \"hovermode\": \"closest\", \"mapbox\": {\"style\": \"light\"}, \"paper_bgcolor\": \"white\", \"plot_bgcolor\": \"#E5ECF6\", \"polar\": {\"angularaxis\": {\"gridcolor\": \"white\", \"linecolor\": \"white\", \"ticks\": \"\"}, \"bgcolor\": \"#E5ECF6\", \"radialaxis\": {\"gridcolor\": \"white\", \"linecolor\": \"white\", \"ticks\": \"\"}}, \"scene\": {\"xaxis\": {\"backgroundcolor\": \"#E5ECF6\", \"gridcolor\": \"white\", \"gridwidth\": 2, \"linecolor\": \"white\", \"showbackground\": true, \"ticks\": \"\", \"zerolinecolor\": \"white\"}, \"yaxis\": {\"backgroundcolor\": \"#E5ECF6\", \"gridcolor\": \"white\", \"gridwidth\": 2, \"linecolor\": \"white\", \"showbackground\": true, \"ticks\": \"\", \"zerolinecolor\": \"white\"}, \"zaxis\": {\"backgroundcolor\": \"#E5ECF6\", \"gridcolor\": \"white\", \"gridwidth\": 2, \"linecolor\": \"white\", \"showbackground\": true, \"ticks\": \"\", \"zerolinecolor\": \"white\"}}, \"shapedefaults\": {\"line\": {\"color\": \"#2a3f5f\"}}, \"ternary\": {\"aaxis\": {\"gridcolor\": \"white\", \"linecolor\": \"white\", \"ticks\": \"\"}, \"baxis\": {\"gridcolor\": \"white\", \"linecolor\": \"white\", \"ticks\": \"\"}, \"bgcolor\": \"#E5ECF6\", \"caxis\": {\"gridcolor\": \"white\", \"linecolor\": \"white\", \"ticks\": \"\"}}, \"title\": {\"x\": 0.05}, \"xaxis\": {\"automargin\": true, \"gridcolor\": \"white\", \"linecolor\": \"white\", \"ticks\": \"\", \"title\": {\"standoff\": 15}, \"zerolinecolor\": \"white\", \"zerolinewidth\": 2}, \"yaxis\": {\"automargin\": true, \"gridcolor\": \"white\", \"linecolor\": \"white\", \"ticks\": \"\", \"title\": {\"standoff\": 15}, \"zerolinecolor\": \"white\", \"zerolinewidth\": 2}}}, \"title\": {\"text\": \"Distribution of Author Birth Century\"}, \"xaxis\": {\"anchor\": \"y\", \"domain\": [0.0, 1.0], \"title\": {\"text\": \"Author Birth Century\"}}, \"yaxis\": {\"anchor\": \"x\", \"domain\": [0.0, 1.0], \"title\": {\"text\": \"Frequency in Corpus\"}}},                        {\"responsive\": true}                    ).then(function(){\n",
       "                            \n",
       "var gd = document.getElementById('cca9bead-53e6-456c-a3b6-67993514d226');\n",
       "var x = new MutationObserver(function (mutations, observer) {{\n",
       "        var display = window.getComputedStyle(gd).display;\n",
       "        if (!display || display === 'none') {{\n",
       "            console.log([gd, 'removed!']);\n",
       "            Plotly.purge(gd);\n",
       "            observer.disconnect();\n",
       "        }}\n",
       "}});\n",
       "\n",
       "// Listen for the removal of the full notebook cells\n",
       "var notebookContainer = gd.closest('#notebook-container');\n",
       "if (notebookContainer) {{\n",
       "    x.observe(notebookContainer, {childList: true});\n",
       "}}\n",
       "\n",
       "// Listen for the clearing of the current output cell\n",
       "var outputEl = gd.closest('.output');\n",
       "if (outputEl) {{\n",
       "    x.observe(outputEl, {childList: true});\n",
       "}}\n",
       "\n",
       "                        })                };                });            </script>        </div>"
      ]
     },
     "metadata": {},
     "output_type": "display_data"
    }
   ],
   "source": [
    "# plot out corpus by century \n",
    "fig = px.histogram(data_frame = english_fiction_metadata, x=\"Author Birth Century\", title='Distribution of Author Birth Century').update_layout(yaxis_title=\"Frequency in Corpus\")\n",
    "fig.show()"
   ]
  },
  {
   "cell_type": "code",
   "execution_count": 42,
   "id": "013cf1ea",
   "metadata": {},
   "outputs": [],
   "source": [
    "english_fiction_metadata = english_fiction_metadata.sort_values(by=['gd-path'])\n",
    "english_fiction_metadata.to_csv('../data/english_fiction_metadata.csv', index = False)"
   ]
  },
  {
   "cell_type": "code",
   "execution_count": 43,
   "id": "ce5a4317",
   "metadata": {},
   "outputs": [],
   "source": [
    "# exclude texts outside 1700-1900 range \n",
    "english_fiction_metadata = english_fiction_metadata.loc[english_fiction_metadata['Author Birth Century'].isin(['1700', '1800', '1900'])]"
   ]
  },
  {
   "cell_type": "code",
   "execution_count": 44,
   "id": "860d3298",
   "metadata": {},
   "outputs": [
    {
     "data": {
      "application/vnd.plotly.v1+json": {
       "config": {
        "plotlyServerURL": "https://plot.ly"
       },
       "data": [
        {
         "cells": {
          "values": [
           [
            "Georg Ebers",
            "George Meredith",
            "W. W. (William Wymark) Jacobs",
            "Mark Twain",
            "George Manville Fenn",
            "Anthony Trollope",
            "G. A. (George Alfred) Henty",
            "Charles Dickens",
            "Henry James",
            "Gilbert Parker",
            "William Le Queux",
            "Edward Stratemeyer",
            "Charles James Lever",
            "Bret Harte",
            "Eugène Sue",
            "Henry Rider Haggard",
            "Randall Garrett",
            "Winston Churchill",
            "Robert Louis Stevenson",
            "Roy J. (Roy Judson) Snell"
           ],
           [
            125,
            100,
            90,
            87,
            65,
            64,
            62,
            61,
            50,
            50,
            50,
            48,
            47,
            46,
            42,
            41,
            38,
            37,
            35,
            35
           ]
          ]
         },
         "header": {
          "values": [
           "Author",
           "Count"
          ]
         },
         "type": "table"
        }
       ],
       "layout": {
        "template": {
         "data": {
          "bar": [
           {
            "error_x": {
             "color": "#2a3f5f"
            },
            "error_y": {
             "color": "#2a3f5f"
            },
            "marker": {
             "line": {
              "color": "#E5ECF6",
              "width": 0.5
             }
            },
            "type": "bar"
           }
          ],
          "barpolar": [
           {
            "marker": {
             "line": {
              "color": "#E5ECF6",
              "width": 0.5
             }
            },
            "type": "barpolar"
           }
          ],
          "carpet": [
           {
            "aaxis": {
             "endlinecolor": "#2a3f5f",
             "gridcolor": "white",
             "linecolor": "white",
             "minorgridcolor": "white",
             "startlinecolor": "#2a3f5f"
            },
            "baxis": {
             "endlinecolor": "#2a3f5f",
             "gridcolor": "white",
             "linecolor": "white",
             "minorgridcolor": "white",
             "startlinecolor": "#2a3f5f"
            },
            "type": "carpet"
           }
          ],
          "choropleth": [
           {
            "colorbar": {
             "outlinewidth": 0,
             "ticks": ""
            },
            "type": "choropleth"
           }
          ],
          "contour": [
           {
            "colorbar": {
             "outlinewidth": 0,
             "ticks": ""
            },
            "colorscale": [
             [
              0,
              "#0d0887"
             ],
             [
              0.1111111111111111,
              "#46039f"
             ],
             [
              0.2222222222222222,
              "#7201a8"
             ],
             [
              0.3333333333333333,
              "#9c179e"
             ],
             [
              0.4444444444444444,
              "#bd3786"
             ],
             [
              0.5555555555555556,
              "#d8576b"
             ],
             [
              0.6666666666666666,
              "#ed7953"
             ],
             [
              0.7777777777777778,
              "#fb9f3a"
             ],
             [
              0.8888888888888888,
              "#fdca26"
             ],
             [
              1,
              "#f0f921"
             ]
            ],
            "type": "contour"
           }
          ],
          "contourcarpet": [
           {
            "colorbar": {
             "outlinewidth": 0,
             "ticks": ""
            },
            "type": "contourcarpet"
           }
          ],
          "heatmap": [
           {
            "colorbar": {
             "outlinewidth": 0,
             "ticks": ""
            },
            "colorscale": [
             [
              0,
              "#0d0887"
             ],
             [
              0.1111111111111111,
              "#46039f"
             ],
             [
              0.2222222222222222,
              "#7201a8"
             ],
             [
              0.3333333333333333,
              "#9c179e"
             ],
             [
              0.4444444444444444,
              "#bd3786"
             ],
             [
              0.5555555555555556,
              "#d8576b"
             ],
             [
              0.6666666666666666,
              "#ed7953"
             ],
             [
              0.7777777777777778,
              "#fb9f3a"
             ],
             [
              0.8888888888888888,
              "#fdca26"
             ],
             [
              1,
              "#f0f921"
             ]
            ],
            "type": "heatmap"
           }
          ],
          "heatmapgl": [
           {
            "colorbar": {
             "outlinewidth": 0,
             "ticks": ""
            },
            "colorscale": [
             [
              0,
              "#0d0887"
             ],
             [
              0.1111111111111111,
              "#46039f"
             ],
             [
              0.2222222222222222,
              "#7201a8"
             ],
             [
              0.3333333333333333,
              "#9c179e"
             ],
             [
              0.4444444444444444,
              "#bd3786"
             ],
             [
              0.5555555555555556,
              "#d8576b"
             ],
             [
              0.6666666666666666,
              "#ed7953"
             ],
             [
              0.7777777777777778,
              "#fb9f3a"
             ],
             [
              0.8888888888888888,
              "#fdca26"
             ],
             [
              1,
              "#f0f921"
             ]
            ],
            "type": "heatmapgl"
           }
          ],
          "histogram": [
           {
            "marker": {
             "colorbar": {
              "outlinewidth": 0,
              "ticks": ""
             }
            },
            "type": "histogram"
           }
          ],
          "histogram2d": [
           {
            "colorbar": {
             "outlinewidth": 0,
             "ticks": ""
            },
            "colorscale": [
             [
              0,
              "#0d0887"
             ],
             [
              0.1111111111111111,
              "#46039f"
             ],
             [
              0.2222222222222222,
              "#7201a8"
             ],
             [
              0.3333333333333333,
              "#9c179e"
             ],
             [
              0.4444444444444444,
              "#bd3786"
             ],
             [
              0.5555555555555556,
              "#d8576b"
             ],
             [
              0.6666666666666666,
              "#ed7953"
             ],
             [
              0.7777777777777778,
              "#fb9f3a"
             ],
             [
              0.8888888888888888,
              "#fdca26"
             ],
             [
              1,
              "#f0f921"
             ]
            ],
            "type": "histogram2d"
           }
          ],
          "histogram2dcontour": [
           {
            "colorbar": {
             "outlinewidth": 0,
             "ticks": ""
            },
            "colorscale": [
             [
              0,
              "#0d0887"
             ],
             [
              0.1111111111111111,
              "#46039f"
             ],
             [
              0.2222222222222222,
              "#7201a8"
             ],
             [
              0.3333333333333333,
              "#9c179e"
             ],
             [
              0.4444444444444444,
              "#bd3786"
             ],
             [
              0.5555555555555556,
              "#d8576b"
             ],
             [
              0.6666666666666666,
              "#ed7953"
             ],
             [
              0.7777777777777778,
              "#fb9f3a"
             ],
             [
              0.8888888888888888,
              "#fdca26"
             ],
             [
              1,
              "#f0f921"
             ]
            ],
            "type": "histogram2dcontour"
           }
          ],
          "mesh3d": [
           {
            "colorbar": {
             "outlinewidth": 0,
             "ticks": ""
            },
            "type": "mesh3d"
           }
          ],
          "parcoords": [
           {
            "line": {
             "colorbar": {
              "outlinewidth": 0,
              "ticks": ""
             }
            },
            "type": "parcoords"
           }
          ],
          "pie": [
           {
            "automargin": true,
            "type": "pie"
           }
          ],
          "scatter": [
           {
            "marker": {
             "colorbar": {
              "outlinewidth": 0,
              "ticks": ""
             }
            },
            "type": "scatter"
           }
          ],
          "scatter3d": [
           {
            "line": {
             "colorbar": {
              "outlinewidth": 0,
              "ticks": ""
             }
            },
            "marker": {
             "colorbar": {
              "outlinewidth": 0,
              "ticks": ""
             }
            },
            "type": "scatter3d"
           }
          ],
          "scattercarpet": [
           {
            "marker": {
             "colorbar": {
              "outlinewidth": 0,
              "ticks": ""
             }
            },
            "type": "scattercarpet"
           }
          ],
          "scattergeo": [
           {
            "marker": {
             "colorbar": {
              "outlinewidth": 0,
              "ticks": ""
             }
            },
            "type": "scattergeo"
           }
          ],
          "scattergl": [
           {
            "marker": {
             "colorbar": {
              "outlinewidth": 0,
              "ticks": ""
             }
            },
            "type": "scattergl"
           }
          ],
          "scattermapbox": [
           {
            "marker": {
             "colorbar": {
              "outlinewidth": 0,
              "ticks": ""
             }
            },
            "type": "scattermapbox"
           }
          ],
          "scatterpolar": [
           {
            "marker": {
             "colorbar": {
              "outlinewidth": 0,
              "ticks": ""
             }
            },
            "type": "scatterpolar"
           }
          ],
          "scatterpolargl": [
           {
            "marker": {
             "colorbar": {
              "outlinewidth": 0,
              "ticks": ""
             }
            },
            "type": "scatterpolargl"
           }
          ],
          "scatterternary": [
           {
            "marker": {
             "colorbar": {
              "outlinewidth": 0,
              "ticks": ""
             }
            },
            "type": "scatterternary"
           }
          ],
          "surface": [
           {
            "colorbar": {
             "outlinewidth": 0,
             "ticks": ""
            },
            "colorscale": [
             [
              0,
              "#0d0887"
             ],
             [
              0.1111111111111111,
              "#46039f"
             ],
             [
              0.2222222222222222,
              "#7201a8"
             ],
             [
              0.3333333333333333,
              "#9c179e"
             ],
             [
              0.4444444444444444,
              "#bd3786"
             ],
             [
              0.5555555555555556,
              "#d8576b"
             ],
             [
              0.6666666666666666,
              "#ed7953"
             ],
             [
              0.7777777777777778,
              "#fb9f3a"
             ],
             [
              0.8888888888888888,
              "#fdca26"
             ],
             [
              1,
              "#f0f921"
             ]
            ],
            "type": "surface"
           }
          ],
          "table": [
           {
            "cells": {
             "fill": {
              "color": "#EBF0F8"
             },
             "line": {
              "color": "white"
             }
            },
            "header": {
             "fill": {
              "color": "#C8D4E3"
             },
             "line": {
              "color": "white"
             }
            },
            "type": "table"
           }
          ]
         },
         "layout": {
          "annotationdefaults": {
           "arrowcolor": "#2a3f5f",
           "arrowhead": 0,
           "arrowwidth": 1
          },
          "autotypenumbers": "strict",
          "coloraxis": {
           "colorbar": {
            "outlinewidth": 0,
            "ticks": ""
           }
          },
          "colorscale": {
           "diverging": [
            [
             0,
             "#8e0152"
            ],
            [
             0.1,
             "#c51b7d"
            ],
            [
             0.2,
             "#de77ae"
            ],
            [
             0.3,
             "#f1b6da"
            ],
            [
             0.4,
             "#fde0ef"
            ],
            [
             0.5,
             "#f7f7f7"
            ],
            [
             0.6,
             "#e6f5d0"
            ],
            [
             0.7,
             "#b8e186"
            ],
            [
             0.8,
             "#7fbc41"
            ],
            [
             0.9,
             "#4d9221"
            ],
            [
             1,
             "#276419"
            ]
           ],
           "sequential": [
            [
             0,
             "#0d0887"
            ],
            [
             0.1111111111111111,
             "#46039f"
            ],
            [
             0.2222222222222222,
             "#7201a8"
            ],
            [
             0.3333333333333333,
             "#9c179e"
            ],
            [
             0.4444444444444444,
             "#bd3786"
            ],
            [
             0.5555555555555556,
             "#d8576b"
            ],
            [
             0.6666666666666666,
             "#ed7953"
            ],
            [
             0.7777777777777778,
             "#fb9f3a"
            ],
            [
             0.8888888888888888,
             "#fdca26"
            ],
            [
             1,
             "#f0f921"
            ]
           ],
           "sequentialminus": [
            [
             0,
             "#0d0887"
            ],
            [
             0.1111111111111111,
             "#46039f"
            ],
            [
             0.2222222222222222,
             "#7201a8"
            ],
            [
             0.3333333333333333,
             "#9c179e"
            ],
            [
             0.4444444444444444,
             "#bd3786"
            ],
            [
             0.5555555555555556,
             "#d8576b"
            ],
            [
             0.6666666666666666,
             "#ed7953"
            ],
            [
             0.7777777777777778,
             "#fb9f3a"
            ],
            [
             0.8888888888888888,
             "#fdca26"
            ],
            [
             1,
             "#f0f921"
            ]
           ]
          },
          "colorway": [
           "#636efa",
           "#EF553B",
           "#00cc96",
           "#ab63fa",
           "#FFA15A",
           "#19d3f3",
           "#FF6692",
           "#B6E880",
           "#FF97FF",
           "#FECB52"
          ],
          "font": {
           "color": "#2a3f5f"
          },
          "geo": {
           "bgcolor": "white",
           "lakecolor": "white",
           "landcolor": "#E5ECF6",
           "showlakes": true,
           "showland": true,
           "subunitcolor": "white"
          },
          "hoverlabel": {
           "align": "left"
          },
          "hovermode": "closest",
          "mapbox": {
           "style": "light"
          },
          "paper_bgcolor": "white",
          "plot_bgcolor": "#E5ECF6",
          "polar": {
           "angularaxis": {
            "gridcolor": "white",
            "linecolor": "white",
            "ticks": ""
           },
           "bgcolor": "#E5ECF6",
           "radialaxis": {
            "gridcolor": "white",
            "linecolor": "white",
            "ticks": ""
           }
          },
          "scene": {
           "xaxis": {
            "backgroundcolor": "#E5ECF6",
            "gridcolor": "white",
            "gridwidth": 2,
            "linecolor": "white",
            "showbackground": true,
            "ticks": "",
            "zerolinecolor": "white"
           },
           "yaxis": {
            "backgroundcolor": "#E5ECF6",
            "gridcolor": "white",
            "gridwidth": 2,
            "linecolor": "white",
            "showbackground": true,
            "ticks": "",
            "zerolinecolor": "white"
           },
           "zaxis": {
            "backgroundcolor": "#E5ECF6",
            "gridcolor": "white",
            "gridwidth": 2,
            "linecolor": "white",
            "showbackground": true,
            "ticks": "",
            "zerolinecolor": "white"
           }
          },
          "shapedefaults": {
           "line": {
            "color": "#2a3f5f"
           }
          },
          "ternary": {
           "aaxis": {
            "gridcolor": "white",
            "linecolor": "white",
            "ticks": ""
           },
           "baxis": {
            "gridcolor": "white",
            "linecolor": "white",
            "ticks": ""
           },
           "bgcolor": "#E5ECF6",
           "caxis": {
            "gridcolor": "white",
            "linecolor": "white",
            "ticks": ""
           }
          },
          "title": {
           "x": 0.05
          },
          "xaxis": {
           "automargin": true,
           "gridcolor": "white",
           "linecolor": "white",
           "ticks": "",
           "title": {
            "standoff": 15
           },
           "zerolinecolor": "white",
           "zerolinewidth": 2
          },
          "yaxis": {
           "automargin": true,
           "gridcolor": "white",
           "linecolor": "white",
           "ticks": "",
           "title": {
            "standoff": 15
           },
           "zerolinecolor": "white",
           "zerolinewidth": 2
          }
         }
        }
       }
      },
      "text/html": [
       "<div>                            <div id=\"8e2c0b88-0785-47a5-a1c0-5922795afa1e\" class=\"plotly-graph-div\" style=\"height:525px; width:100%;\"></div>            <script type=\"text/javascript\">                require([\"plotly\"], function(Plotly) {                    window.PLOTLYENV=window.PLOTLYENV || {};                                    if (document.getElementById(\"8e2c0b88-0785-47a5-a1c0-5922795afa1e\")) {                    Plotly.newPlot(                        \"8e2c0b88-0785-47a5-a1c0-5922795afa1e\",                        [{\"cells\": {\"values\": [[\"Georg Ebers\", \"George Meredith\", \"W. W. (William Wymark) Jacobs\", \"Mark Twain\", \"George Manville Fenn\", \"Anthony Trollope\", \"G. A. (George Alfred) Henty\", \"Charles Dickens\", \"Henry James\", \"Gilbert Parker\", \"William Le Queux\", \"Edward Stratemeyer\", \"Charles James Lever\", \"Bret Harte\", \"Eug\\u00e8ne Sue\", \"Henry Rider Haggard\", \"Randall Garrett\", \"Winston Churchill\", \"Robert Louis Stevenson\", \"Roy J. (Roy Judson) Snell\"], [125, 100, 90, 87, 65, 64, 62, 61, 50, 50, 50, 48, 47, 46, 42, 41, 38, 37, 35, 35]]}, \"header\": {\"values\": [\"Author\", \"Count\"]}, \"type\": \"table\"}],                        {\"template\": {\"data\": {\"bar\": [{\"error_x\": {\"color\": \"#2a3f5f\"}, \"error_y\": {\"color\": \"#2a3f5f\"}, \"marker\": {\"line\": {\"color\": \"#E5ECF6\", \"width\": 0.5}}, \"type\": \"bar\"}], \"barpolar\": [{\"marker\": {\"line\": {\"color\": \"#E5ECF6\", \"width\": 0.5}}, \"type\": \"barpolar\"}], \"carpet\": [{\"aaxis\": {\"endlinecolor\": \"#2a3f5f\", \"gridcolor\": \"white\", \"linecolor\": \"white\", \"minorgridcolor\": \"white\", \"startlinecolor\": \"#2a3f5f\"}, \"baxis\": {\"endlinecolor\": \"#2a3f5f\", \"gridcolor\": \"white\", \"linecolor\": \"white\", \"minorgridcolor\": \"white\", \"startlinecolor\": \"#2a3f5f\"}, \"type\": \"carpet\"}], \"choropleth\": [{\"colorbar\": {\"outlinewidth\": 0, \"ticks\": \"\"}, \"type\": \"choropleth\"}], \"contour\": [{\"colorbar\": {\"outlinewidth\": 0, \"ticks\": \"\"}, \"colorscale\": [[0.0, \"#0d0887\"], [0.1111111111111111, \"#46039f\"], [0.2222222222222222, \"#7201a8\"], [0.3333333333333333, \"#9c179e\"], [0.4444444444444444, \"#bd3786\"], [0.5555555555555556, \"#d8576b\"], [0.6666666666666666, \"#ed7953\"], [0.7777777777777778, \"#fb9f3a\"], [0.8888888888888888, \"#fdca26\"], [1.0, \"#f0f921\"]], \"type\": \"contour\"}], \"contourcarpet\": [{\"colorbar\": {\"outlinewidth\": 0, \"ticks\": \"\"}, \"type\": \"contourcarpet\"}], \"heatmap\": [{\"colorbar\": {\"outlinewidth\": 0, \"ticks\": \"\"}, \"colorscale\": [[0.0, \"#0d0887\"], [0.1111111111111111, \"#46039f\"], [0.2222222222222222, \"#7201a8\"], [0.3333333333333333, \"#9c179e\"], [0.4444444444444444, \"#bd3786\"], [0.5555555555555556, \"#d8576b\"], [0.6666666666666666, \"#ed7953\"], [0.7777777777777778, \"#fb9f3a\"], [0.8888888888888888, \"#fdca26\"], [1.0, \"#f0f921\"]], \"type\": \"heatmap\"}], \"heatmapgl\": [{\"colorbar\": {\"outlinewidth\": 0, \"ticks\": \"\"}, \"colorscale\": [[0.0, \"#0d0887\"], [0.1111111111111111, \"#46039f\"], [0.2222222222222222, \"#7201a8\"], [0.3333333333333333, \"#9c179e\"], [0.4444444444444444, \"#bd3786\"], [0.5555555555555556, \"#d8576b\"], [0.6666666666666666, \"#ed7953\"], [0.7777777777777778, \"#fb9f3a\"], [0.8888888888888888, \"#fdca26\"], [1.0, \"#f0f921\"]], \"type\": \"heatmapgl\"}], \"histogram\": [{\"marker\": {\"colorbar\": {\"outlinewidth\": 0, \"ticks\": \"\"}}, \"type\": \"histogram\"}], \"histogram2d\": [{\"colorbar\": {\"outlinewidth\": 0, \"ticks\": \"\"}, \"colorscale\": [[0.0, \"#0d0887\"], [0.1111111111111111, \"#46039f\"], [0.2222222222222222, \"#7201a8\"], [0.3333333333333333, \"#9c179e\"], [0.4444444444444444, \"#bd3786\"], [0.5555555555555556, \"#d8576b\"], [0.6666666666666666, \"#ed7953\"], [0.7777777777777778, \"#fb9f3a\"], [0.8888888888888888, \"#fdca26\"], [1.0, \"#f0f921\"]], \"type\": \"histogram2d\"}], \"histogram2dcontour\": [{\"colorbar\": {\"outlinewidth\": 0, \"ticks\": \"\"}, \"colorscale\": [[0.0, \"#0d0887\"], [0.1111111111111111, \"#46039f\"], [0.2222222222222222, \"#7201a8\"], [0.3333333333333333, \"#9c179e\"], [0.4444444444444444, \"#bd3786\"], [0.5555555555555556, \"#d8576b\"], [0.6666666666666666, \"#ed7953\"], [0.7777777777777778, \"#fb9f3a\"], [0.8888888888888888, \"#fdca26\"], [1.0, \"#f0f921\"]], \"type\": \"histogram2dcontour\"}], \"mesh3d\": [{\"colorbar\": {\"outlinewidth\": 0, \"ticks\": \"\"}, \"type\": \"mesh3d\"}], \"parcoords\": [{\"line\": {\"colorbar\": {\"outlinewidth\": 0, \"ticks\": \"\"}}, \"type\": \"parcoords\"}], \"pie\": [{\"automargin\": true, \"type\": \"pie\"}], \"scatter\": [{\"marker\": {\"colorbar\": {\"outlinewidth\": 0, \"ticks\": \"\"}}, \"type\": \"scatter\"}], \"scatter3d\": [{\"line\": {\"colorbar\": {\"outlinewidth\": 0, \"ticks\": \"\"}}, \"marker\": {\"colorbar\": {\"outlinewidth\": 0, \"ticks\": \"\"}}, \"type\": \"scatter3d\"}], \"scattercarpet\": [{\"marker\": {\"colorbar\": {\"outlinewidth\": 0, \"ticks\": \"\"}}, \"type\": \"scattercarpet\"}], \"scattergeo\": [{\"marker\": {\"colorbar\": {\"outlinewidth\": 0, \"ticks\": \"\"}}, \"type\": \"scattergeo\"}], \"scattergl\": [{\"marker\": {\"colorbar\": {\"outlinewidth\": 0, \"ticks\": \"\"}}, \"type\": \"scattergl\"}], \"scattermapbox\": [{\"marker\": {\"colorbar\": {\"outlinewidth\": 0, \"ticks\": \"\"}}, \"type\": \"scattermapbox\"}], \"scatterpolar\": [{\"marker\": {\"colorbar\": {\"outlinewidth\": 0, \"ticks\": \"\"}}, \"type\": \"scatterpolar\"}], \"scatterpolargl\": [{\"marker\": {\"colorbar\": {\"outlinewidth\": 0, \"ticks\": \"\"}}, \"type\": \"scatterpolargl\"}], \"scatterternary\": [{\"marker\": {\"colorbar\": {\"outlinewidth\": 0, \"ticks\": \"\"}}, \"type\": \"scatterternary\"}], \"surface\": [{\"colorbar\": {\"outlinewidth\": 0, \"ticks\": \"\"}, \"colorscale\": [[0.0, \"#0d0887\"], [0.1111111111111111, \"#46039f\"], [0.2222222222222222, \"#7201a8\"], [0.3333333333333333, \"#9c179e\"], [0.4444444444444444, \"#bd3786\"], [0.5555555555555556, \"#d8576b\"], [0.6666666666666666, \"#ed7953\"], [0.7777777777777778, \"#fb9f3a\"], [0.8888888888888888, \"#fdca26\"], [1.0, \"#f0f921\"]], \"type\": \"surface\"}], \"table\": [{\"cells\": {\"fill\": {\"color\": \"#EBF0F8\"}, \"line\": {\"color\": \"white\"}}, \"header\": {\"fill\": {\"color\": \"#C8D4E3\"}, \"line\": {\"color\": \"white\"}}, \"type\": \"table\"}]}, \"layout\": {\"annotationdefaults\": {\"arrowcolor\": \"#2a3f5f\", \"arrowhead\": 0, \"arrowwidth\": 1}, \"autotypenumbers\": \"strict\", \"coloraxis\": {\"colorbar\": {\"outlinewidth\": 0, \"ticks\": \"\"}}, \"colorscale\": {\"diverging\": [[0, \"#8e0152\"], [0.1, \"#c51b7d\"], [0.2, \"#de77ae\"], [0.3, \"#f1b6da\"], [0.4, \"#fde0ef\"], [0.5, \"#f7f7f7\"], [0.6, \"#e6f5d0\"], [0.7, \"#b8e186\"], [0.8, \"#7fbc41\"], [0.9, \"#4d9221\"], [1, \"#276419\"]], \"sequential\": [[0.0, \"#0d0887\"], [0.1111111111111111, \"#46039f\"], [0.2222222222222222, \"#7201a8\"], [0.3333333333333333, \"#9c179e\"], [0.4444444444444444, \"#bd3786\"], [0.5555555555555556, \"#d8576b\"], [0.6666666666666666, \"#ed7953\"], [0.7777777777777778, \"#fb9f3a\"], [0.8888888888888888, \"#fdca26\"], [1.0, \"#f0f921\"]], \"sequentialminus\": [[0.0, \"#0d0887\"], [0.1111111111111111, \"#46039f\"], [0.2222222222222222, \"#7201a8\"], [0.3333333333333333, \"#9c179e\"], [0.4444444444444444, \"#bd3786\"], [0.5555555555555556, \"#d8576b\"], [0.6666666666666666, \"#ed7953\"], [0.7777777777777778, \"#fb9f3a\"], [0.8888888888888888, \"#fdca26\"], [1.0, \"#f0f921\"]]}, \"colorway\": [\"#636efa\", \"#EF553B\", \"#00cc96\", \"#ab63fa\", \"#FFA15A\", \"#19d3f3\", \"#FF6692\", \"#B6E880\", \"#FF97FF\", \"#FECB52\"], \"font\": {\"color\": \"#2a3f5f\"}, \"geo\": {\"bgcolor\": \"white\", \"lakecolor\": \"white\", \"landcolor\": \"#E5ECF6\", \"showlakes\": true, \"showland\": true, \"subunitcolor\": \"white\"}, \"hoverlabel\": {\"align\": \"left\"}, \"hovermode\": \"closest\", \"mapbox\": {\"style\": \"light\"}, \"paper_bgcolor\": \"white\", \"plot_bgcolor\": \"#E5ECF6\", \"polar\": {\"angularaxis\": {\"gridcolor\": \"white\", \"linecolor\": \"white\", \"ticks\": \"\"}, \"bgcolor\": \"#E5ECF6\", \"radialaxis\": {\"gridcolor\": \"white\", \"linecolor\": \"white\", \"ticks\": \"\"}}, \"scene\": {\"xaxis\": {\"backgroundcolor\": \"#E5ECF6\", \"gridcolor\": \"white\", \"gridwidth\": 2, \"linecolor\": \"white\", \"showbackground\": true, \"ticks\": \"\", \"zerolinecolor\": \"white\"}, \"yaxis\": {\"backgroundcolor\": \"#E5ECF6\", \"gridcolor\": \"white\", \"gridwidth\": 2, \"linecolor\": \"white\", \"showbackground\": true, \"ticks\": \"\", \"zerolinecolor\": \"white\"}, \"zaxis\": {\"backgroundcolor\": \"#E5ECF6\", \"gridcolor\": \"white\", \"gridwidth\": 2, \"linecolor\": \"white\", \"showbackground\": true, \"ticks\": \"\", \"zerolinecolor\": \"white\"}}, \"shapedefaults\": {\"line\": {\"color\": \"#2a3f5f\"}}, \"ternary\": {\"aaxis\": {\"gridcolor\": \"white\", \"linecolor\": \"white\", \"ticks\": \"\"}, \"baxis\": {\"gridcolor\": \"white\", \"linecolor\": \"white\", \"ticks\": \"\"}, \"bgcolor\": \"#E5ECF6\", \"caxis\": {\"gridcolor\": \"white\", \"linecolor\": \"white\", \"ticks\": \"\"}}, \"title\": {\"x\": 0.05}, \"xaxis\": {\"automargin\": true, \"gridcolor\": \"white\", \"linecolor\": \"white\", \"ticks\": \"\", \"title\": {\"standoff\": 15}, \"zerolinecolor\": \"white\", \"zerolinewidth\": 2}, \"yaxis\": {\"automargin\": true, \"gridcolor\": \"white\", \"linecolor\": \"white\", \"ticks\": \"\", \"title\": {\"standoff\": 15}, \"zerolinecolor\": \"white\", \"zerolinewidth\": 2}}}},                        {\"responsive\": true}                    ).then(function(){\n",
       "                            \n",
       "var gd = document.getElementById('8e2c0b88-0785-47a5-a1c0-5922795afa1e');\n",
       "var x = new MutationObserver(function (mutations, observer) {{\n",
       "        var display = window.getComputedStyle(gd).display;\n",
       "        if (!display || display === 'none') {{\n",
       "            console.log([gd, 'removed!']);\n",
       "            Plotly.purge(gd);\n",
       "            observer.disconnect();\n",
       "        }}\n",
       "}});\n",
       "\n",
       "// Listen for the removal of the full notebook cells\n",
       "var notebookContainer = gd.closest('#notebook-container');\n",
       "if (notebookContainer) {{\n",
       "    x.observe(notebookContainer, {childList: true});\n",
       "}}\n",
       "\n",
       "// Listen for the clearing of the current output cell\n",
       "var outputEl = gd.closest('.output');\n",
       "if (outputEl) {{\n",
       "    x.observe(outputEl, {childList: true});\n",
       "}}\n",
       "\n",
       "                        })                };                });            </script>        </div>"
      ]
     },
     "metadata": {},
     "output_type": "display_data"
    }
   ],
   "source": [
    "# top authors- english_fiction_metadata\n",
    "unique_authors = {}\n",
    "def count_authors(author_list):\n",
    "    if not isinstance(author_list, list):\n",
    "        author_list = ['None Available']\n",
    "    for val in author_list:\n",
    "        if val in unique_authors:\n",
    "            unique_authors[val] +=1 \n",
    "        else: \n",
    "            unique_authors[val] = 1\n",
    "    return len(author_list)\n",
    "            \n",
    "english_fiction_metadata['Number of Authors'] = english_fiction_metadata.apply(lambda row : count_authors(row['Author']), axis = 1)\n",
    "top_20_authors = sorted(unique_authors.items(), key=lambda x: x[1], reverse = True)[:20]\n",
    "top_20_authors =  [list(x) for x in top_20_authors]\n",
    "top_20_authors_names = [x[0] for x in top_20_authors]\n",
    "top_20_authors_counts = [x[1] for x in top_20_authors]\n",
    "\n",
    "fig = go.Figure(data=[go.Table(header=dict(values=['Author', 'Count']),\n",
    "                 cells=dict(values=[top_20_authors_names,top_20_authors_counts] ))\n",
    "                     ])\n",
    "fig.show()"
   ]
  },
  {
   "cell_type": "code",
   "execution_count": 45,
   "id": "53ec4bfe",
   "metadata": {},
   "outputs": [
    {
     "data": {
      "application/vnd.plotly.v1+json": {
       "config": {
        "plotlyServerURL": "https://plot.ly"
       },
       "data": [
        {
         "cells": {
          "values": [
           [
            "Fiction",
            "Science fiction",
            "Short stories",
            "Adventure stories",
            "Love stories",
            "Historical fiction",
            "Detective and mystery stories",
            "Conduct of life -- Juvenile fiction",
            "England -- Fiction",
            "Western stories",
            "Man-woman relationships -- Fiction",
            "England -- Social life and customs -- Fiction",
            "Domestic fiction",
            "Humorous stories",
            "Young women -- Fiction",
            "English fiction -- 19th century",
            "England -- Social life and customs -- 19th century -- Fiction",
            "Children -- Conduct of life -- Juvenile fiction",
            "Psychological fiction",
            "London (England) -- Fiction"
           ],
           [
            804,
            715,
            670,
            295,
            251,
            233,
            230,
            221,
            188,
            164,
            156,
            139,
            135,
            135,
            109,
            108,
            106,
            106,
            103,
            94
           ]
          ]
         },
         "header": {
          "values": [
           "Genre",
           "Count"
          ]
         },
         "type": "table"
        }
       ],
       "layout": {
        "template": {
         "data": {
          "bar": [
           {
            "error_x": {
             "color": "#2a3f5f"
            },
            "error_y": {
             "color": "#2a3f5f"
            },
            "marker": {
             "line": {
              "color": "#E5ECF6",
              "width": 0.5
             }
            },
            "type": "bar"
           }
          ],
          "barpolar": [
           {
            "marker": {
             "line": {
              "color": "#E5ECF6",
              "width": 0.5
             }
            },
            "type": "barpolar"
           }
          ],
          "carpet": [
           {
            "aaxis": {
             "endlinecolor": "#2a3f5f",
             "gridcolor": "white",
             "linecolor": "white",
             "minorgridcolor": "white",
             "startlinecolor": "#2a3f5f"
            },
            "baxis": {
             "endlinecolor": "#2a3f5f",
             "gridcolor": "white",
             "linecolor": "white",
             "minorgridcolor": "white",
             "startlinecolor": "#2a3f5f"
            },
            "type": "carpet"
           }
          ],
          "choropleth": [
           {
            "colorbar": {
             "outlinewidth": 0,
             "ticks": ""
            },
            "type": "choropleth"
           }
          ],
          "contour": [
           {
            "colorbar": {
             "outlinewidth": 0,
             "ticks": ""
            },
            "colorscale": [
             [
              0,
              "#0d0887"
             ],
             [
              0.1111111111111111,
              "#46039f"
             ],
             [
              0.2222222222222222,
              "#7201a8"
             ],
             [
              0.3333333333333333,
              "#9c179e"
             ],
             [
              0.4444444444444444,
              "#bd3786"
             ],
             [
              0.5555555555555556,
              "#d8576b"
             ],
             [
              0.6666666666666666,
              "#ed7953"
             ],
             [
              0.7777777777777778,
              "#fb9f3a"
             ],
             [
              0.8888888888888888,
              "#fdca26"
             ],
             [
              1,
              "#f0f921"
             ]
            ],
            "type": "contour"
           }
          ],
          "contourcarpet": [
           {
            "colorbar": {
             "outlinewidth": 0,
             "ticks": ""
            },
            "type": "contourcarpet"
           }
          ],
          "heatmap": [
           {
            "colorbar": {
             "outlinewidth": 0,
             "ticks": ""
            },
            "colorscale": [
             [
              0,
              "#0d0887"
             ],
             [
              0.1111111111111111,
              "#46039f"
             ],
             [
              0.2222222222222222,
              "#7201a8"
             ],
             [
              0.3333333333333333,
              "#9c179e"
             ],
             [
              0.4444444444444444,
              "#bd3786"
             ],
             [
              0.5555555555555556,
              "#d8576b"
             ],
             [
              0.6666666666666666,
              "#ed7953"
             ],
             [
              0.7777777777777778,
              "#fb9f3a"
             ],
             [
              0.8888888888888888,
              "#fdca26"
             ],
             [
              1,
              "#f0f921"
             ]
            ],
            "type": "heatmap"
           }
          ],
          "heatmapgl": [
           {
            "colorbar": {
             "outlinewidth": 0,
             "ticks": ""
            },
            "colorscale": [
             [
              0,
              "#0d0887"
             ],
             [
              0.1111111111111111,
              "#46039f"
             ],
             [
              0.2222222222222222,
              "#7201a8"
             ],
             [
              0.3333333333333333,
              "#9c179e"
             ],
             [
              0.4444444444444444,
              "#bd3786"
             ],
             [
              0.5555555555555556,
              "#d8576b"
             ],
             [
              0.6666666666666666,
              "#ed7953"
             ],
             [
              0.7777777777777778,
              "#fb9f3a"
             ],
             [
              0.8888888888888888,
              "#fdca26"
             ],
             [
              1,
              "#f0f921"
             ]
            ],
            "type": "heatmapgl"
           }
          ],
          "histogram": [
           {
            "marker": {
             "colorbar": {
              "outlinewidth": 0,
              "ticks": ""
             }
            },
            "type": "histogram"
           }
          ],
          "histogram2d": [
           {
            "colorbar": {
             "outlinewidth": 0,
             "ticks": ""
            },
            "colorscale": [
             [
              0,
              "#0d0887"
             ],
             [
              0.1111111111111111,
              "#46039f"
             ],
             [
              0.2222222222222222,
              "#7201a8"
             ],
             [
              0.3333333333333333,
              "#9c179e"
             ],
             [
              0.4444444444444444,
              "#bd3786"
             ],
             [
              0.5555555555555556,
              "#d8576b"
             ],
             [
              0.6666666666666666,
              "#ed7953"
             ],
             [
              0.7777777777777778,
              "#fb9f3a"
             ],
             [
              0.8888888888888888,
              "#fdca26"
             ],
             [
              1,
              "#f0f921"
             ]
            ],
            "type": "histogram2d"
           }
          ],
          "histogram2dcontour": [
           {
            "colorbar": {
             "outlinewidth": 0,
             "ticks": ""
            },
            "colorscale": [
             [
              0,
              "#0d0887"
             ],
             [
              0.1111111111111111,
              "#46039f"
             ],
             [
              0.2222222222222222,
              "#7201a8"
             ],
             [
              0.3333333333333333,
              "#9c179e"
             ],
             [
              0.4444444444444444,
              "#bd3786"
             ],
             [
              0.5555555555555556,
              "#d8576b"
             ],
             [
              0.6666666666666666,
              "#ed7953"
             ],
             [
              0.7777777777777778,
              "#fb9f3a"
             ],
             [
              0.8888888888888888,
              "#fdca26"
             ],
             [
              1,
              "#f0f921"
             ]
            ],
            "type": "histogram2dcontour"
           }
          ],
          "mesh3d": [
           {
            "colorbar": {
             "outlinewidth": 0,
             "ticks": ""
            },
            "type": "mesh3d"
           }
          ],
          "parcoords": [
           {
            "line": {
             "colorbar": {
              "outlinewidth": 0,
              "ticks": ""
             }
            },
            "type": "parcoords"
           }
          ],
          "pie": [
           {
            "automargin": true,
            "type": "pie"
           }
          ],
          "scatter": [
           {
            "marker": {
             "colorbar": {
              "outlinewidth": 0,
              "ticks": ""
             }
            },
            "type": "scatter"
           }
          ],
          "scatter3d": [
           {
            "line": {
             "colorbar": {
              "outlinewidth": 0,
              "ticks": ""
             }
            },
            "marker": {
             "colorbar": {
              "outlinewidth": 0,
              "ticks": ""
             }
            },
            "type": "scatter3d"
           }
          ],
          "scattercarpet": [
           {
            "marker": {
             "colorbar": {
              "outlinewidth": 0,
              "ticks": ""
             }
            },
            "type": "scattercarpet"
           }
          ],
          "scattergeo": [
           {
            "marker": {
             "colorbar": {
              "outlinewidth": 0,
              "ticks": ""
             }
            },
            "type": "scattergeo"
           }
          ],
          "scattergl": [
           {
            "marker": {
             "colorbar": {
              "outlinewidth": 0,
              "ticks": ""
             }
            },
            "type": "scattergl"
           }
          ],
          "scattermapbox": [
           {
            "marker": {
             "colorbar": {
              "outlinewidth": 0,
              "ticks": ""
             }
            },
            "type": "scattermapbox"
           }
          ],
          "scatterpolar": [
           {
            "marker": {
             "colorbar": {
              "outlinewidth": 0,
              "ticks": ""
             }
            },
            "type": "scatterpolar"
           }
          ],
          "scatterpolargl": [
           {
            "marker": {
             "colorbar": {
              "outlinewidth": 0,
              "ticks": ""
             }
            },
            "type": "scatterpolargl"
           }
          ],
          "scatterternary": [
           {
            "marker": {
             "colorbar": {
              "outlinewidth": 0,
              "ticks": ""
             }
            },
            "type": "scatterternary"
           }
          ],
          "surface": [
           {
            "colorbar": {
             "outlinewidth": 0,
             "ticks": ""
            },
            "colorscale": [
             [
              0,
              "#0d0887"
             ],
             [
              0.1111111111111111,
              "#46039f"
             ],
             [
              0.2222222222222222,
              "#7201a8"
             ],
             [
              0.3333333333333333,
              "#9c179e"
             ],
             [
              0.4444444444444444,
              "#bd3786"
             ],
             [
              0.5555555555555556,
              "#d8576b"
             ],
             [
              0.6666666666666666,
              "#ed7953"
             ],
             [
              0.7777777777777778,
              "#fb9f3a"
             ],
             [
              0.8888888888888888,
              "#fdca26"
             ],
             [
              1,
              "#f0f921"
             ]
            ],
            "type": "surface"
           }
          ],
          "table": [
           {
            "cells": {
             "fill": {
              "color": "#EBF0F8"
             },
             "line": {
              "color": "white"
             }
            },
            "header": {
             "fill": {
              "color": "#C8D4E3"
             },
             "line": {
              "color": "white"
             }
            },
            "type": "table"
           }
          ]
         },
         "layout": {
          "annotationdefaults": {
           "arrowcolor": "#2a3f5f",
           "arrowhead": 0,
           "arrowwidth": 1
          },
          "autotypenumbers": "strict",
          "coloraxis": {
           "colorbar": {
            "outlinewidth": 0,
            "ticks": ""
           }
          },
          "colorscale": {
           "diverging": [
            [
             0,
             "#8e0152"
            ],
            [
             0.1,
             "#c51b7d"
            ],
            [
             0.2,
             "#de77ae"
            ],
            [
             0.3,
             "#f1b6da"
            ],
            [
             0.4,
             "#fde0ef"
            ],
            [
             0.5,
             "#f7f7f7"
            ],
            [
             0.6,
             "#e6f5d0"
            ],
            [
             0.7,
             "#b8e186"
            ],
            [
             0.8,
             "#7fbc41"
            ],
            [
             0.9,
             "#4d9221"
            ],
            [
             1,
             "#276419"
            ]
           ],
           "sequential": [
            [
             0,
             "#0d0887"
            ],
            [
             0.1111111111111111,
             "#46039f"
            ],
            [
             0.2222222222222222,
             "#7201a8"
            ],
            [
             0.3333333333333333,
             "#9c179e"
            ],
            [
             0.4444444444444444,
             "#bd3786"
            ],
            [
             0.5555555555555556,
             "#d8576b"
            ],
            [
             0.6666666666666666,
             "#ed7953"
            ],
            [
             0.7777777777777778,
             "#fb9f3a"
            ],
            [
             0.8888888888888888,
             "#fdca26"
            ],
            [
             1,
             "#f0f921"
            ]
           ],
           "sequentialminus": [
            [
             0,
             "#0d0887"
            ],
            [
             0.1111111111111111,
             "#46039f"
            ],
            [
             0.2222222222222222,
             "#7201a8"
            ],
            [
             0.3333333333333333,
             "#9c179e"
            ],
            [
             0.4444444444444444,
             "#bd3786"
            ],
            [
             0.5555555555555556,
             "#d8576b"
            ],
            [
             0.6666666666666666,
             "#ed7953"
            ],
            [
             0.7777777777777778,
             "#fb9f3a"
            ],
            [
             0.8888888888888888,
             "#fdca26"
            ],
            [
             1,
             "#f0f921"
            ]
           ]
          },
          "colorway": [
           "#636efa",
           "#EF553B",
           "#00cc96",
           "#ab63fa",
           "#FFA15A",
           "#19d3f3",
           "#FF6692",
           "#B6E880",
           "#FF97FF",
           "#FECB52"
          ],
          "font": {
           "color": "#2a3f5f"
          },
          "geo": {
           "bgcolor": "white",
           "lakecolor": "white",
           "landcolor": "#E5ECF6",
           "showlakes": true,
           "showland": true,
           "subunitcolor": "white"
          },
          "hoverlabel": {
           "align": "left"
          },
          "hovermode": "closest",
          "mapbox": {
           "style": "light"
          },
          "paper_bgcolor": "white",
          "plot_bgcolor": "#E5ECF6",
          "polar": {
           "angularaxis": {
            "gridcolor": "white",
            "linecolor": "white",
            "ticks": ""
           },
           "bgcolor": "#E5ECF6",
           "radialaxis": {
            "gridcolor": "white",
            "linecolor": "white",
            "ticks": ""
           }
          },
          "scene": {
           "xaxis": {
            "backgroundcolor": "#E5ECF6",
            "gridcolor": "white",
            "gridwidth": 2,
            "linecolor": "white",
            "showbackground": true,
            "ticks": "",
            "zerolinecolor": "white"
           },
           "yaxis": {
            "backgroundcolor": "#E5ECF6",
            "gridcolor": "white",
            "gridwidth": 2,
            "linecolor": "white",
            "showbackground": true,
            "ticks": "",
            "zerolinecolor": "white"
           },
           "zaxis": {
            "backgroundcolor": "#E5ECF6",
            "gridcolor": "white",
            "gridwidth": 2,
            "linecolor": "white",
            "showbackground": true,
            "ticks": "",
            "zerolinecolor": "white"
           }
          },
          "shapedefaults": {
           "line": {
            "color": "#2a3f5f"
           }
          },
          "ternary": {
           "aaxis": {
            "gridcolor": "white",
            "linecolor": "white",
            "ticks": ""
           },
           "baxis": {
            "gridcolor": "white",
            "linecolor": "white",
            "ticks": ""
           },
           "bgcolor": "#E5ECF6",
           "caxis": {
            "gridcolor": "white",
            "linecolor": "white",
            "ticks": ""
           }
          },
          "title": {
           "x": 0.05
          },
          "xaxis": {
           "automargin": true,
           "gridcolor": "white",
           "linecolor": "white",
           "ticks": "",
           "title": {
            "standoff": 15
           },
           "zerolinecolor": "white",
           "zerolinewidth": 2
          },
          "yaxis": {
           "automargin": true,
           "gridcolor": "white",
           "linecolor": "white",
           "ticks": "",
           "title": {
            "standoff": 15
           },
           "zerolinecolor": "white",
           "zerolinewidth": 2
          }
         }
        }
       }
      },
      "text/html": [
       "<div>                            <div id=\"2d6de322-0b57-4104-9c97-4b3e71fb2b98\" class=\"plotly-graph-div\" style=\"height:525px; width:100%;\"></div>            <script type=\"text/javascript\">                require([\"plotly\"], function(Plotly) {                    window.PLOTLYENV=window.PLOTLYENV || {};                                    if (document.getElementById(\"2d6de322-0b57-4104-9c97-4b3e71fb2b98\")) {                    Plotly.newPlot(                        \"2d6de322-0b57-4104-9c97-4b3e71fb2b98\",                        [{\"cells\": {\"values\": [[\"Fiction\", \"Science fiction\", \"Short stories\", \"Adventure stories\", \"Love stories\", \"Historical fiction\", \"Detective and mystery stories\", \"Conduct of life -- Juvenile fiction\", \"England -- Fiction\", \"Western stories\", \"Man-woman relationships -- Fiction\", \"England -- Social life and customs -- Fiction\", \"Domestic fiction\", \"Humorous stories\", \"Young women -- Fiction\", \"English fiction -- 19th century\", \"England -- Social life and customs -- 19th century -- Fiction\", \"Children -- Conduct of life -- Juvenile fiction\", \"Psychological fiction\", \"London (England) -- Fiction\"], [804, 715, 670, 295, 251, 233, 230, 221, 188, 164, 156, 139, 135, 135, 109, 108, 106, 106, 103, 94]]}, \"header\": {\"values\": [\"Genre\", \"Count\"]}, \"type\": \"table\"}],                        {\"template\": {\"data\": {\"bar\": [{\"error_x\": {\"color\": \"#2a3f5f\"}, \"error_y\": {\"color\": \"#2a3f5f\"}, \"marker\": {\"line\": {\"color\": \"#E5ECF6\", \"width\": 0.5}}, \"type\": \"bar\"}], \"barpolar\": [{\"marker\": {\"line\": {\"color\": \"#E5ECF6\", \"width\": 0.5}}, \"type\": \"barpolar\"}], \"carpet\": [{\"aaxis\": {\"endlinecolor\": \"#2a3f5f\", \"gridcolor\": \"white\", \"linecolor\": \"white\", \"minorgridcolor\": \"white\", \"startlinecolor\": \"#2a3f5f\"}, \"baxis\": {\"endlinecolor\": \"#2a3f5f\", \"gridcolor\": \"white\", \"linecolor\": \"white\", \"minorgridcolor\": \"white\", \"startlinecolor\": \"#2a3f5f\"}, \"type\": \"carpet\"}], \"choropleth\": [{\"colorbar\": {\"outlinewidth\": 0, \"ticks\": \"\"}, \"type\": \"choropleth\"}], \"contour\": [{\"colorbar\": {\"outlinewidth\": 0, \"ticks\": \"\"}, \"colorscale\": [[0.0, \"#0d0887\"], [0.1111111111111111, \"#46039f\"], [0.2222222222222222, \"#7201a8\"], [0.3333333333333333, \"#9c179e\"], [0.4444444444444444, \"#bd3786\"], [0.5555555555555556, \"#d8576b\"], [0.6666666666666666, \"#ed7953\"], [0.7777777777777778, \"#fb9f3a\"], [0.8888888888888888, \"#fdca26\"], [1.0, \"#f0f921\"]], \"type\": \"contour\"}], \"contourcarpet\": [{\"colorbar\": {\"outlinewidth\": 0, \"ticks\": \"\"}, \"type\": \"contourcarpet\"}], \"heatmap\": [{\"colorbar\": {\"outlinewidth\": 0, \"ticks\": \"\"}, \"colorscale\": [[0.0, \"#0d0887\"], [0.1111111111111111, \"#46039f\"], [0.2222222222222222, \"#7201a8\"], [0.3333333333333333, \"#9c179e\"], [0.4444444444444444, \"#bd3786\"], [0.5555555555555556, \"#d8576b\"], [0.6666666666666666, \"#ed7953\"], [0.7777777777777778, \"#fb9f3a\"], [0.8888888888888888, \"#fdca26\"], [1.0, \"#f0f921\"]], \"type\": \"heatmap\"}], \"heatmapgl\": [{\"colorbar\": {\"outlinewidth\": 0, \"ticks\": \"\"}, \"colorscale\": [[0.0, \"#0d0887\"], [0.1111111111111111, \"#46039f\"], [0.2222222222222222, \"#7201a8\"], [0.3333333333333333, \"#9c179e\"], [0.4444444444444444, \"#bd3786\"], [0.5555555555555556, \"#d8576b\"], [0.6666666666666666, \"#ed7953\"], [0.7777777777777778, \"#fb9f3a\"], [0.8888888888888888, \"#fdca26\"], [1.0, \"#f0f921\"]], \"type\": \"heatmapgl\"}], \"histogram\": [{\"marker\": {\"colorbar\": {\"outlinewidth\": 0, \"ticks\": \"\"}}, \"type\": \"histogram\"}], \"histogram2d\": [{\"colorbar\": {\"outlinewidth\": 0, \"ticks\": \"\"}, \"colorscale\": [[0.0, \"#0d0887\"], [0.1111111111111111, \"#46039f\"], [0.2222222222222222, \"#7201a8\"], [0.3333333333333333, \"#9c179e\"], [0.4444444444444444, \"#bd3786\"], [0.5555555555555556, \"#d8576b\"], [0.6666666666666666, \"#ed7953\"], [0.7777777777777778, \"#fb9f3a\"], [0.8888888888888888, \"#fdca26\"], [1.0, \"#f0f921\"]], \"type\": \"histogram2d\"}], \"histogram2dcontour\": [{\"colorbar\": {\"outlinewidth\": 0, \"ticks\": \"\"}, \"colorscale\": [[0.0, \"#0d0887\"], [0.1111111111111111, \"#46039f\"], [0.2222222222222222, \"#7201a8\"], [0.3333333333333333, \"#9c179e\"], [0.4444444444444444, \"#bd3786\"], [0.5555555555555556, \"#d8576b\"], [0.6666666666666666, \"#ed7953\"], [0.7777777777777778, \"#fb9f3a\"], [0.8888888888888888, \"#fdca26\"], [1.0, \"#f0f921\"]], \"type\": \"histogram2dcontour\"}], \"mesh3d\": [{\"colorbar\": {\"outlinewidth\": 0, \"ticks\": \"\"}, \"type\": \"mesh3d\"}], \"parcoords\": [{\"line\": {\"colorbar\": {\"outlinewidth\": 0, \"ticks\": \"\"}}, \"type\": \"parcoords\"}], \"pie\": [{\"automargin\": true, \"type\": \"pie\"}], \"scatter\": [{\"marker\": {\"colorbar\": {\"outlinewidth\": 0, \"ticks\": \"\"}}, \"type\": \"scatter\"}], \"scatter3d\": [{\"line\": {\"colorbar\": {\"outlinewidth\": 0, \"ticks\": \"\"}}, \"marker\": {\"colorbar\": {\"outlinewidth\": 0, \"ticks\": \"\"}}, \"type\": \"scatter3d\"}], \"scattercarpet\": [{\"marker\": {\"colorbar\": {\"outlinewidth\": 0, \"ticks\": \"\"}}, \"type\": \"scattercarpet\"}], \"scattergeo\": [{\"marker\": {\"colorbar\": {\"outlinewidth\": 0, \"ticks\": \"\"}}, \"type\": \"scattergeo\"}], \"scattergl\": [{\"marker\": {\"colorbar\": {\"outlinewidth\": 0, \"ticks\": \"\"}}, \"type\": \"scattergl\"}], \"scattermapbox\": [{\"marker\": {\"colorbar\": {\"outlinewidth\": 0, \"ticks\": \"\"}}, \"type\": \"scattermapbox\"}], \"scatterpolar\": [{\"marker\": {\"colorbar\": {\"outlinewidth\": 0, \"ticks\": \"\"}}, \"type\": \"scatterpolar\"}], \"scatterpolargl\": [{\"marker\": {\"colorbar\": {\"outlinewidth\": 0, \"ticks\": \"\"}}, \"type\": \"scatterpolargl\"}], \"scatterternary\": [{\"marker\": {\"colorbar\": {\"outlinewidth\": 0, \"ticks\": \"\"}}, \"type\": \"scatterternary\"}], \"surface\": [{\"colorbar\": {\"outlinewidth\": 0, \"ticks\": \"\"}, \"colorscale\": [[0.0, \"#0d0887\"], [0.1111111111111111, \"#46039f\"], [0.2222222222222222, \"#7201a8\"], [0.3333333333333333, \"#9c179e\"], [0.4444444444444444, \"#bd3786\"], [0.5555555555555556, \"#d8576b\"], [0.6666666666666666, \"#ed7953\"], [0.7777777777777778, \"#fb9f3a\"], [0.8888888888888888, \"#fdca26\"], [1.0, \"#f0f921\"]], \"type\": \"surface\"}], \"table\": [{\"cells\": {\"fill\": {\"color\": \"#EBF0F8\"}, \"line\": {\"color\": \"white\"}}, \"header\": {\"fill\": {\"color\": \"#C8D4E3\"}, \"line\": {\"color\": \"white\"}}, \"type\": \"table\"}]}, \"layout\": {\"annotationdefaults\": {\"arrowcolor\": \"#2a3f5f\", \"arrowhead\": 0, \"arrowwidth\": 1}, \"autotypenumbers\": \"strict\", \"coloraxis\": {\"colorbar\": {\"outlinewidth\": 0, \"ticks\": \"\"}}, \"colorscale\": {\"diverging\": [[0, \"#8e0152\"], [0.1, \"#c51b7d\"], [0.2, \"#de77ae\"], [0.3, \"#f1b6da\"], [0.4, \"#fde0ef\"], [0.5, \"#f7f7f7\"], [0.6, \"#e6f5d0\"], [0.7, \"#b8e186\"], [0.8, \"#7fbc41\"], [0.9, \"#4d9221\"], [1, \"#276419\"]], \"sequential\": [[0.0, \"#0d0887\"], [0.1111111111111111, \"#46039f\"], [0.2222222222222222, \"#7201a8\"], [0.3333333333333333, \"#9c179e\"], [0.4444444444444444, \"#bd3786\"], [0.5555555555555556, \"#d8576b\"], [0.6666666666666666, \"#ed7953\"], [0.7777777777777778, \"#fb9f3a\"], [0.8888888888888888, \"#fdca26\"], [1.0, \"#f0f921\"]], \"sequentialminus\": [[0.0, \"#0d0887\"], [0.1111111111111111, \"#46039f\"], [0.2222222222222222, \"#7201a8\"], [0.3333333333333333, \"#9c179e\"], [0.4444444444444444, \"#bd3786\"], [0.5555555555555556, \"#d8576b\"], [0.6666666666666666, \"#ed7953\"], [0.7777777777777778, \"#fb9f3a\"], [0.8888888888888888, \"#fdca26\"], [1.0, \"#f0f921\"]]}, \"colorway\": [\"#636efa\", \"#EF553B\", \"#00cc96\", \"#ab63fa\", \"#FFA15A\", \"#19d3f3\", \"#FF6692\", \"#B6E880\", \"#FF97FF\", \"#FECB52\"], \"font\": {\"color\": \"#2a3f5f\"}, \"geo\": {\"bgcolor\": \"white\", \"lakecolor\": \"white\", \"landcolor\": \"#E5ECF6\", \"showlakes\": true, \"showland\": true, \"subunitcolor\": \"white\"}, \"hoverlabel\": {\"align\": \"left\"}, \"hovermode\": \"closest\", \"mapbox\": {\"style\": \"light\"}, \"paper_bgcolor\": \"white\", \"plot_bgcolor\": \"#E5ECF6\", \"polar\": {\"angularaxis\": {\"gridcolor\": \"white\", \"linecolor\": \"white\", \"ticks\": \"\"}, \"bgcolor\": \"#E5ECF6\", \"radialaxis\": {\"gridcolor\": \"white\", \"linecolor\": \"white\", \"ticks\": \"\"}}, \"scene\": {\"xaxis\": {\"backgroundcolor\": \"#E5ECF6\", \"gridcolor\": \"white\", \"gridwidth\": 2, \"linecolor\": \"white\", \"showbackground\": true, \"ticks\": \"\", \"zerolinecolor\": \"white\"}, \"yaxis\": {\"backgroundcolor\": \"#E5ECF6\", \"gridcolor\": \"white\", \"gridwidth\": 2, \"linecolor\": \"white\", \"showbackground\": true, \"ticks\": \"\", \"zerolinecolor\": \"white\"}, \"zaxis\": {\"backgroundcolor\": \"#E5ECF6\", \"gridcolor\": \"white\", \"gridwidth\": 2, \"linecolor\": \"white\", \"showbackground\": true, \"ticks\": \"\", \"zerolinecolor\": \"white\"}}, \"shapedefaults\": {\"line\": {\"color\": \"#2a3f5f\"}}, \"ternary\": {\"aaxis\": {\"gridcolor\": \"white\", \"linecolor\": \"white\", \"ticks\": \"\"}, \"baxis\": {\"gridcolor\": \"white\", \"linecolor\": \"white\", \"ticks\": \"\"}, \"bgcolor\": \"#E5ECF6\", \"caxis\": {\"gridcolor\": \"white\", \"linecolor\": \"white\", \"ticks\": \"\"}}, \"title\": {\"x\": 0.05}, \"xaxis\": {\"automargin\": true, \"gridcolor\": \"white\", \"linecolor\": \"white\", \"ticks\": \"\", \"title\": {\"standoff\": 15}, \"zerolinecolor\": \"white\", \"zerolinewidth\": 2}, \"yaxis\": {\"automargin\": true, \"gridcolor\": \"white\", \"linecolor\": \"white\", \"ticks\": \"\", \"title\": {\"standoff\": 15}, \"zerolinecolor\": \"white\", \"zerolinewidth\": 2}}}},                        {\"responsive\": true}                    ).then(function(){\n",
       "                            \n",
       "var gd = document.getElementById('2d6de322-0b57-4104-9c97-4b3e71fb2b98');\n",
       "var x = new MutationObserver(function (mutations, observer) {{\n",
       "        var display = window.getComputedStyle(gd).display;\n",
       "        if (!display || display === 'none') {{\n",
       "            console.log([gd, 'removed!']);\n",
       "            Plotly.purge(gd);\n",
       "            observer.disconnect();\n",
       "        }}\n",
       "}});\n",
       "\n",
       "// Listen for the removal of the full notebook cells\n",
       "var notebookContainer = gd.closest('#notebook-container');\n",
       "if (notebookContainer) {{\n",
       "    x.observe(notebookContainer, {childList: true});\n",
       "}}\n",
       "\n",
       "// Listen for the clearing of the current output cell\n",
       "var outputEl = gd.closest('.output');\n",
       "if (outputEl) {{\n",
       "    x.observe(outputEl, {childList: true});\n",
       "}}\n",
       "\n",
       "                        })                };                });            </script>        </div>"
      ]
     },
     "metadata": {},
     "output_type": "display_data"
    }
   ],
   "source": [
    "# top genres - english_fiction_metadata\n",
    "unique_genres = {}\n",
    "\n",
    "def count_genres(genre_list):\n",
    "    if not isinstance(genre_list, list):\n",
    "        genre_list = ['None Available']\n",
    "    for val in genre_list:\n",
    "        if val in unique_genres:\n",
    "            unique_genres[val] +=1 \n",
    "        else: \n",
    "            unique_genres[val] = 1\n",
    "    return len(genre_list)\n",
    "\n",
    "english_fiction_metadata['Number of Genres'] = english_fiction_metadata.apply(lambda row : count_genres(row['Subject']), axis = 1)\n",
    "top_20_genres = sorted(unique_genres.items(), key=lambda x: x[1], reverse = True)[:20]\n",
    "top_20_genres =  [list(x) for x in top_20_genres]\n",
    "top_20_genre_name = [x[0] for x in top_20_genres]\n",
    "top_20_genre_counts = [x[1] for x in top_20_genres]\n",
    "\n",
    "fig = go.Figure(data=[go.Table(header=dict(values=['Genre', 'Count']),\n",
    "                 cells=dict(values=[top_20_genre_name,top_20_genre_counts] ))\n",
    "                     ])\n",
    "fig.show()"
   ]
  },
  {
   "cell_type": "code",
   "execution_count": 46,
   "id": "f82905f1",
   "metadata": {},
   "outputs": [
    {
     "name": "stdout",
     "output_type": "stream",
     "text": [
      "Total number of books: 7487\n",
      "Books without a subject: 0\n",
      "Books with English as language: 7487\n",
      "Unique authors: 1956\n"
     ]
    }
   ],
   "source": [
    "# entire corpus stats \n",
    "print('Total number of books: ' + str(english_fiction_metadata.shape[0]))\n",
    "print('Books without a subject: ' + str(english_fiction_metadata[english_fiction_metadata['Subject'].isnull()].shape[0]))\n",
    "print('Books with English as language: ' + str(english_fiction_metadata.loc[english_fiction_metadata['Language'].isin([['English']])].shape[0]))\n",
    "print('Unique authors: ' + str(len(unique_authors)))"
   ]
  },
  {
   "cell_type": "markdown",
   "id": "afa77275",
   "metadata": {},
   "source": [
    "## Seed Words"
   ]
  },
  {
   "cell_type": "code",
   "execution_count": 88,
   "id": "6291d06c",
   "metadata": {
    "scrolled": false
   },
   "outputs": [
    {
     "name": "stdout",
     "output_type": "stream",
     "text": [
      "['toiletry.n.01', 'sniff.v.01', 'snuffle.v.02', 'cense.v.01', 'smell.n.05', 'inhale.v.02', 'breathe.v.01', 'snuff.v.02', 'aspirate.v.03', 'inhale.v.01', 'sniff.v.02', 'smell.v.03', 'malodor.n.01', 'nose.n.06', 'bouquet.n.02', 'snuff.v.01', 'musk.n.02', 'smell.v.01', 'huff.v.01', 'aroma.n.02', 'odorize.v.01', 'puff.v.02', 'potpourri.n.03', 'perfume.v.02', 'smell.n.01', 'smell.v.02', 'acridity.n.01', 'patchouli.n.02', 'cologne.n.02', 'smell.n.04', 'incense.n.02', 'perfumery.n.01', 'sniff.n.01', 'reek.v.02', 'scent.n.02', 'perfume.v.01', 'perfume.n.02', 'smoke.v.01', 'scent.v.02', 'smell.v.05']\n"
     ]
    },
    {
     "data": {
      "text/plain": [
       "184"
      ]
     },
     "execution_count": 88,
     "metadata": {},
     "output_type": "execute_result"
    }
   ],
   "source": [
    "# create smell seed words \n",
    "# Smell smell, scent, odor, odour, perfume, fragrance, essence, inhale, aroma, olfaction\n",
    "\n",
    "smell_seed_words = []\n",
    "\n",
    "base_set = [synset.name() for synset in wordnet.synsets('smell') if '_' not in synset.name().split('.')[0] ] +\\\n",
    "           [synset.name() for synset in wordnet.synsets('scent') if '_' not in synset.name().split('.')[0]] +\\\n",
    "           [synset.name() for synset in wordnet.synsets('odor')  if '_' not in synset.name().split('.')[0]] +\\\n",
    "           [synset.name() for synset in wordnet.synsets('perfume')  if '_' not in synset.name().split('.')[0]] +\\\n",
    "           [synset.name() for synset in wordnet.synsets('inhale')  if '_' not in synset.name().split('.')[0]] +\\\n",
    "           [synset.name() for synset in wordnet.synsets('fragrance')  if '_' not in synset.name().split('.')[0]]\n",
    "\n",
    "remove = ['spirit.n.02', 'effect.n.04', 'kernel.n.03', 'smack.v.02']\n",
    "\n",
    "smell_seed_words = [word for word in base_set if word not in remove and word not in smell_seed_words]\n",
    "\n",
    "\n",
    "hyponyms_set = [y.name() for x in smell_seed_words for y in wordnet.synset(x).hyponyms() if '_' not in y.name().split('.')[0]]\n",
    "\n",
    "remove = ['salute.v.04']\n",
    "\n",
    "smell_seed_words = smell_seed_words + [word for word in hyponyms_set if word not in remove and word not in smell_seed_words]\n",
    "\n",
    "\n",
    "hypernyms_set = [y.name() for x in smell_seed_words for y in wordnet.synset(x).hypernyms() if '_' not in y.name().split('.')[0]]\n",
    "\n",
    "remove = ['sensation.n.01', 'exteroception.n.01', 'modality.n.03', 'suggest.v.05', 'sensing.n.02', 'perceive.v.01', 'groom.v.03', 'sensation.n.01', 'perceive.v.02']\n",
    "\n",
    "smell_seed_words = smell_seed_words + [word for word in hypernyms_set if word not in remove and word not in smell_seed_words]\n",
    "\n",
    "smell_seed_words = list(set(smell_seed_words))\n",
    "\n",
    "print(smell_seed_words)\n",
    "\n",
    "variations_set = []\n",
    "for word in smell_seed_words: \n",
    "    variations= get_word_forms(word.split('.')[0])\n",
    "    for key in variations: \n",
    "        for value in variations[key]: \n",
    "            if value not in variations_set: \n",
    "                variations_set.append(value + '.' + key)\n",
    "                \n",
    "smell_seed_words = [word.split('.')[0] + '.' + word.split('.')[1] for word in smell_seed_words]\n",
    "smell_seed_words = list(set(smell_seed_words))\n",
    "smell_seed_words = smell_seed_words + [word for word in variations_set if word not in smell_seed_words and '_' not in word.split('.')[0]]\n",
    "\n",
    "smell_seed_words = list(set(smell_seed_words))\n",
    "\n",
    "textfile = open(\"../data/seed_words/smell_words_list.txt\", \"w\")\n",
    "for element in smell_seed_words:\n",
    "    textfile.write(element + \"\\n\")\n",
    "textfile.close()\n",
    "\n",
    "len(smell_seed_words)"
   ]
  },
  {
   "cell_type": "code",
   "execution_count": 89,
   "id": "14614ff8",
   "metadata": {
    "scrolled": false
   },
   "outputs": [
    {
     "name": "stdout",
     "output_type": "stream",
     "text": [
      "['quietness.n.01', 'silence.n.01', 'voice.n.03', 'pronounce.v.01', 'listen.v.02', 'voice.n.07', 'silence.n.02', 'hushed.s.01', 'hush.n.01', 'articulation.n.03', 'chirk.v.01', 'quaver.v.01', 'gag.v.01', 'quiet.a.02', 'muteness.n.02', 'hark.v.01', 'sprechgesang.n.01', 'hear.v.01', 'voice.n.10', 'shush.v.01', 'voice.n.06', 'rehear.v.01', 'hear.v.04', 'quiet.a.06', 'quietly.r.03', 'means.n.01', 'forte.a.01', 'hear.v.03', 'quiet.s.03', 'quiet.a.01', 'hush.v.02', 'silence.v.02', 'lull.n.02', 'lull.v.02', 'loud.a.01', 'voice.v.01', 'lung-power.n.01', 'sound.n.01', 'voice.n.02', 'voice.n.05', 'speechlessness.n.01', 'listen.v.01', 'voice.n.09', 'voice.n.01', 'sound.n.04', 'singer.n.01', 'brassy.s.02', 'loudly.r.01', 'voice.v.02', 'quieten.v.01']\n"
     ]
    },
    {
     "data": {
      "text/plain": [
       "192"
      ]
     },
     "execution_count": 89,
     "metadata": {},
     "output_type": "execute_result"
    }
   ],
   "source": [
    "# create hear seed words \n",
    "# Hearing hear, listen, sound, loud, quiet, soft, audible, audio, voice, silence\n",
    "\n",
    "hear_seed_words = []\n",
    "\n",
    "base_set = [synset.name() for synset in wordnet.synsets('hear') if '_' not in synset.name().split('.')[0] ] +\\\n",
    "           [synset.name() for synset in wordnet.synsets('loud')  if '_' not in synset.name().split('.')[0]] +\\\n",
    "           [synset.name() for synset in wordnet.synsets('listen') if '_' not in synset.name().split('.')[0]] +\\\n",
    "           [synset.name() for synset in wordnet.synsets('voice')  if '_' not in synset.name().split('.')[0]] +\\\n",
    "           [synset.name() for synset in wordnet.synsets('quiet')  if '_' not in synset.name().split('.')[0]] +\\\n",
    "           [synset.name() for synset in wordnet.synsets('silence')  if '_' not in synset.name().split('.')[0]] \n",
    "\n",
    "\n",
    "remove = ['secrecy.n.01', 'spokesperson.n.01', 'part.n.11', 'heed.v.01', 'repose.n.03', 'tranquillity.n.01',\n",
    "          'learn.v.02', 'calm.v.01', 'placid.s.01', 'phone.n.02', 'strait.n.01', 'fathom.v.02', 'healthy.s.04',\n",
    "          'good.s.17', 'reasoned.s.01', 'legal.s.03', 'heavy.s.26', 'prepare.v.07', 'communication.n.02', 'means.n.01'\n",
    "          'gag.v.01', 'pierce.v.03', 'play.v.07', 'play.v.13', 'ultrasound.n.01', 'unison.n.03', 'expression.n.03', \n",
    "          'catch.v.14', 'catch.v.21', 'incline.v.02', 'attend.v.05', 'incline.v.02', 'pat.n.01', 'express.v.02',\n",
    "          'suppress.v.01', 'uncommunicativeness.n.01', 'condition.n.01', 'perceive.v.01', 'component.n.03', 'androglossia.n.01',\n",
    "          'probe.v.01', 'concentrate.v.02', 'sensation.n.01', 'happening.n.01', 'look.v.02', 'calmness.n.02'\n",
    "         ]\n",
    "\n",
    "hear_seed_words = [word for word in base_set if word not in remove and word not in hear_seed_words]\n",
    "\n",
    "hyponyms_set = [y.name() for x in hear_seed_words for y in wordnet.synset(x).hyponyms() if '_' not in y.name().split('.')[0]]\n",
    "\n",
    "hear_seed_words = hear_seed_words + [word for word in hyponyms_set if word not in remove and word not in hear_seed_words]\n",
    "\n",
    "hypernyms_set = [y.name() for x in hear_seed_words for y in wordnet.synset(x).hypernyms() if '_' not in y.name().split('.')[0]]\n",
    "\n",
    "hear_seed_words = hear_seed_words + [word for word in hypernyms_set if word not in remove and word not in hear_seed_words]\n",
    "\n",
    "hear_seed_words = list(set(hear_seed_words))\n",
    "\n",
    "print(hear_seed_words)\n",
    "\n",
    "variations_set = []\n",
    "for word in hear_seed_words: \n",
    "    variations= get_word_forms(word.split('.')[0])\n",
    "    for key in variations: \n",
    "        for value in variations[key]: \n",
    "            if value not in variations_set: \n",
    "                variations_set.append(value + '.' + key)\n",
    "                \n",
    "                \n",
    "hear_seed_words = [word.split('.')[0] + '.' + word.split('.')[1] for word in hear_seed_words]\n",
    "hear_seed_words = list(set(hear_seed_words))\n",
    "hear_seed_words = hear_seed_words + [word for word in variations_set if word not in hear_seed_words and '_' not in word.split('.')[0]]\n",
    "\n",
    "hear_seed_words = list(set(hear_seed_words))\n",
    "\n",
    "textfile = open(\"../data/seed_words/hear_words_list.txt\", \"w\")\n",
    "for element in hear_seed_words:\n",
    "    textfile.write(element + \"\\n\")\n",
    "textfile.close()\n",
    "\n",
    "len(hear_seed_words)"
   ]
  },
  {
   "cell_type": "code",
   "execution_count": 90,
   "id": "cf083617",
   "metadata": {
    "scrolled": false
   },
   "outputs": [
    {
     "name": "stdout",
     "output_type": "stream",
     "text": [
      "['kiss.n.04', 'toe.v.05', 'touch.n.09', 'handle.v.04', 'hit.v.02', 'tickle.n.02', 'stroke.n.05', 'touch.v.08', 'kiss.n.01', 'touch.n.05', 'hit.v.03', 'touch.n.12', 'contact.n.02', 'hit.n.02', 'snog.v.01', 'lick.n.02', 'touch.n.02', 'grope.n.01', 'touch.v.07', 'strike.v.10', 'touch.v.11', 'touch.n.03', 'brush.v.02', 'touch.v.01', 'rub.v.02', 'reach.v.06', 'touch.v.13', 'palpate.v.01', 'fingering.n.02', 'finger.v.01', 'stroke.v.01', 'tag.v.02', 'hug.v.02', 'somatosense.n.01', 'kiss.v.02', 'brush.n.03', 'touch.n.01', 'press.v.01', 'feel.v.13', 'touch.n.06', 'strike.v.01', 'touch.v.02', 'touch.n.04', 'touch.v.03', 'touch.n.10', 'touch.n.11', 'cling.v.01', 'touch.v.05', 'palpation.n.01', 'stroke.n.04', 'touch.n.08']\n"
     ]
    },
    {
     "data": {
      "text/plain": [
       "195"
      ]
     },
     "execution_count": 90,
     "metadata": {},
     "output_type": "execute_result"
    }
   ],
   "source": [
    "# create touch seed words \n",
    "# Touch touch, feel, sense, sensation, rub, perceive, grasp, press, gentle, light\n",
    "\n",
    "touch_seed_words = []\n",
    "\n",
    "base_set = [synset.name() for synset in wordnet.synsets('touch') if '_' not in synset.name().split('.')[0] ] \n",
    "#            [synset.name() for synset in wordnet.synsets('rub')  if '_' not in synset.name().split('.')[0]]\n",
    "#            [synset.name() for synset in wordnet.synsets('rub')  if '_' not in synset.name().split('.')[0]] +\\\n",
    "#            [synset.name() for synset in wordnet.synsets('grasp')  if '_' not in synset.name().split('.')[0]] \n",
    "\n",
    "\n",
    "remove = ['upset.v.01', 'get.v.29', 'border.v.05', 'crawl.v.02', \n",
    "           'sense.v.04', 'sense.v.02', 'sense.n.05', 'sense.n.03', \n",
    "           'sense.n.02', 'sense.n.01', 'find.v.05', 'catch.n.09', \n",
    "           'cover.v.02', 'upset.v.01', 'reason.v.01', 'foreplay.n.01', \n",
    "           'change.v.01', 'be.v.01', 'find.v.03', 'search.v.01', \n",
    "           'experience.v.01', 'think.v.01', 'be.v.03', 'look.v.02', \n",
    "           'awareness.n.01', 'meaning.n.01', 'faculty.n.01', 'detect.v.01',\n",
    "           'understand.v.01', 'guide.v.05', 'irritate.v.02', 'influence.n.01',\n",
    "           'manage.v.02', 'affect.v.05', 'adeptness.n.01', 'perception.n.03',\n",
    "           'attack.n.07', 'act.n.02', 'examination.n.01', 'manner.n.01',\n",
    "           'suggestion.n.02', 'exteroception.n.01', 'perceive.v.01',\n",
    "           'solicitation.n.01', 'worry.v.06', 'puree.v.01', 'grate.v.03',\n",
    "           'gauge.v.02', 'sensitivity.n.01', 'modality.n.03', 'handling.n.02', \n",
    "           'suffocate.v.06', 'sympathize.v.01', 'suffer.v.03', 'tag.n.05', 'tap.n.08',\n",
    "           'smolder.v.02', 'sadden.v.02', 'repent.v.02', 'die.v.05','engage.v.06',\n",
    "           'fume.v.01', 'glow.v.04', 'glow.v.05', 'harbor.v.01', 'attach.v.02',\n",
    "           'incline.v.05', 'pride.v.01', 'recapture.v.01', 'rejoice.v.01',\n",
    "           'fume.v.01', 'burn.v.06', 'tentacle.n.01', 'anger.v.02', 'snuff.n.02',\n",
    "           'violate.v.03', 'sensitivity.n.01', 'creepiness.n.01', 'surround.v.01',\n",
    "           'smell.v.05', 'grok.v.01', 'compass.n.03', 'appreciation.n.01', 'hang-up.n.02',\n",
    "           'contact.n.08', 'refer.v.02', 'affect.v.01', 'equal.v.02', 'allude.v.01',\n",
    "           'partake.v.03', 'tint.v.01', 'spirit.n.02', 'dig.n.05',\n",
    "           'worry.v.06', 'puree.v.01', 'grate.v.03', 'gauge.v.02', 'sensitivity.n.01',\n",
    "           'modality.n.03', 'suffocate.v.06', 'sympathize.v.01', 'suffer.v.03','grazing.n.02', \n",
    "           'smolder.v.02', 'sadden.v.02', 'repent.v.02', 'die.v.05', 'fume.v.01',\n",
    "           'glow.v.04', 'glow.v.05', 'harbor.v.01', 'incline.v.05', 'pride.v.01', 'recapture.v.01',\n",
    "           'rejoice.v.01', 'fume.v.01', 'burn.v.06', 'tentacle.n.01', 'anger.v.02',\n",
    "           'violate.v.03', 'sensitivity.n.01', 'creepiness.n.01', 'surround.v.01', 'contact.n.04',\n",
    "           'bid.v.03', 'crusade.v.01', 'imperativeness.n.01', 'iron.v.01', 'urge.v.01', 'mouth.v.03',\n",
    "           'wardrobe.n.01', 'weigh.v.05', 'weight-lift.v.01', 'compress.v.02', 'compress.v.02']\n",
    "\n",
    "\n",
    "touch_seed_words = [word for word in base_set if word not in remove and word not in touch_seed_words]\n",
    "\n",
    "hyponyms_set = [y.name() for x in touch_seed_words for y in wordnet.synset(x).hyponyms() if '_' not in y.name().split('.')[0]]\n",
    "\n",
    "touch_seed_words = touch_seed_words + [word for word in hyponyms_set if word not in remove and word not in touch_seed_words]\n",
    "\n",
    "hypernyms_set = [y.name() for x in touch_seed_words for y in wordnet.synset(x).hypernyms() if '_' not in y.name().split('.')[0]]\n",
    "    \n",
    "touch_seed_words = touch_seed_words + [word for word in hypernyms_set if word not in remove and word not in touch_seed_words]\n",
    "\n",
    "touch_seed_words = list(set(touch_seed_words))\n",
    "\n",
    "print(touch_seed_words)\n",
    "\n",
    "variations_set = []\n",
    "for word in touch_seed_words: \n",
    "    variations= get_word_forms(word.split('.')[0])\n",
    "    for key in variations: \n",
    "        for value in variations[key]: \n",
    "            if value not in variations_set: \n",
    "                variations_set.append(value + '.' + key)\n",
    "                      \n",
    "        \n",
    "touch_seed_words = [word.split('.')[0] + '.' + word.split('.')[1] for word in touch_seed_words]\n",
    "touch_seed_words = list(set(touch_seed_words))\n",
    "touch_seed_words = touch_seed_words + [word for word in variations_set if word not in touch_seed_words and '_' not in word.split('.')[0]]\n",
    "\n",
    "touch_seed_words = list(set(touch_seed_words))\n",
    "\n",
    "textfile = open(\"../data/seed_words/touch_words_list.txt\", \"w\")\n",
    "for element in touch_seed_words:\n",
    "    textfile.write(element + \"\\n\")\n",
    "textfile.close()\n",
    "\n",
    "len(touch_seed_words)"
   ]
  },
  {
   "cell_type": "code",
   "execution_count": 91,
   "id": "b21c05ad",
   "metadata": {},
   "outputs": [
    {
     "name": "stdout",
     "output_type": "stream",
     "text": [
      "['nip.n.06', 'taste.n.05', 'flavor.n.03', 'chew.v.01', 'gnaw.v.01', 'savor.v.04', 'bite.n.01', 'eating.n.01', 'relish.n.03', 'morsel.n.02', 'bite.n.04', 'bitter.n.02', 'nosh.n.01', 'taste.v.06', 'taste.n.07', 'smack.v.03', 'astringency.n.01', 'nibble.n.02', 'palate.n.01', 'taste.n.03', 'bite.v.01', 'bite.v.03', 'swallow.n.01', 'munch.n.02', 'sweet.n.04', 'taste.v.05', 'salt.n.04', 'savor.v.03', 'nibble.v.02', 'bite.n.05', 'meal.n.01', 'bite.n.08', 'mellowness.n.02', 'taste.n.04', 'delicacy.n.03', 'bite.v.02', 'nip.v.02', 'taste.n.01', 'taste.v.01', 'taste.v.02', 'sour.n.02', 'nibble.v.01', 'taste.n.06', 'chew.n.01', 'bite.n.09']\n"
     ]
    },
    {
     "data": {
      "text/plain": [
       "194"
      ]
     },
     "execution_count": 91,
     "metadata": {},
     "output_type": "execute_result"
    }
   ],
   "source": [
    "# create taste seed words \n",
    "# Taste taste, flavor, savor, savour, palate, bite, mouthful, morsel, eat, teeth\n",
    "\n",
    "taste_seed_words = []\n",
    "\n",
    "base_set = [synset.name() for synset in wordnet.synsets('taste') if '_' not in synset.name().split('.')[0] ] +\\\n",
    "           [synset.name() for synset in wordnet.synsets('flavor')  if '_' not in synset.name().split('.')[0]] +\\\n",
    "           [synset.name() for synset in wordnet.synsets('savor')  if '_' not in synset.name().split('.')[0]] +\\\n",
    "           [synset.name() for synset in wordnet.synsets('palate')  if '_' not in synset.name().split('.')[0]]  +\\\n",
    "           [synset.name() for synset in wordnet.synsets('bite')  if '_' not in synset.name().split('.')[0]]\n",
    "\n",
    "remove = ['preference.n.01', 'sample.v.01', 'spirit.n.02', 'enjoy.v.01', 'sting.n.03', 'pungency.n.01', 'pungency.n.02',\n",
    "         'sting.v.02', 'vogue.n.01', 'surface.n.02', 'culture.n.02', 'nettle.v.01', 'flatness.n.03', 'strangeness.n.02', \n",
    "          'sensation.n.01', 'success.n.01', 'experience.n.03', 'sensing.n.02', 'pierce.v.05', 'finish.n.08', 'grip.v.01',\n",
    "          'clip.n.05', 'know.v.05', 'exteroception.n.01', 'modality.n.03', 'kind.n.01', 'subtraction.n.02', 'discrimination.n.02',\n",
    "          'virtu.n.01', 'identify.v.06', 'perceive.v.01', 'wound.n.01', 'ache.v.03', 'charm.n.04', 'lemon.n.04', 'curry.v.01',\n",
    "          'season.v.01', 'refreshment.n.01', 'salt.v.01', 'crumb.n.03', 'snakebite.n.01', 'vanilla.n.03', 'sop.n.01', 'snap.v.12'\n",
    "         ]\n",
    "\n",
    "taste_seed_words = [word for word in base_set if word not in remove and word not in taste_seed_words]\n",
    "\n",
    "hyponyms_set = [y.name() for x in taste_seed_words for y in wordnet.synset(x).hyponyms() if '_' not in y.name().split('.')[0]]\n",
    "\n",
    "taste_seed_words = taste_seed_words + [word for word in hyponyms_set if word not in remove and word not in taste_seed_words]\n",
    "\n",
    "hypernyms_set = [y.name() for x in taste_seed_words for y in wordnet.synset(x).hypernyms() if '_' not in y.name().split('.')[0]]\n",
    "    \n",
    "taste_seed_words = taste_seed_words + [word for word in hypernyms_set if word not in remove and word not in taste_seed_words]\n",
    "\n",
    "taste_seed_words = list(set(taste_seed_words))\n",
    "\n",
    "print(taste_seed_words)\n",
    "\n",
    "variations_set = []\n",
    "for word in taste_seed_words: \n",
    "    variations= get_word_forms(word.split('.')[0])\n",
    "    for key in variations: \n",
    "        for value in variations[key]: \n",
    "            if value not in variations_set: \n",
    "                variations_set.append(value + '.' + key)\n",
    "                      \n",
    "        \n",
    "taste_seed_words = [word.split('.')[0] + '.' + word.split('.')[1] for word in taste_seed_words]\n",
    "taste_seed_words = list(set(taste_seed_words))\n",
    "taste_seed_words = taste_seed_words + [word for word in variations_set if word not in taste_seed_words and '_' not in word.split('.')[0]]\n",
    "\n",
    "taste_seed_words = list(set(taste_seed_words))\n",
    "\n",
    "textfile = open(\"../data/seed_words/taste_words_list.txt\", \"w\")\n",
    "for element in taste_seed_words:\n",
    "    textfile.write(element + \"\\n\")\n",
    "textfile.close()\n",
    "\n",
    "len(taste_seed_words)"
   ]
  },
  {
   "cell_type": "code",
   "execution_count": 92,
   "id": "abab7747",
   "metadata": {},
   "outputs": [
    {
     "name": "stdout",
     "output_type": "stream",
     "text": [
      "['look.v.02', 'peruse.v.01', 'see.v.05', 'visualize.v.02', 'see.v.10', 'see.v.17', 'look.v.09', 'see.v.22', 'squint.n.02', 'look.n.03', 'watch.v.03', 'see.v.12', 'lookout.n.04', 'leer.v.01', 'see.v.23', 'peer.v.01', 'look.v.07', 'peep.v.01', 'peek.n.01', 'goggle.v.01', 'stare.v.02', 'stare.n.01', 'scan.v.01', 'squint.v.02', 'scan.v.02', 'scrutiny.n.02', 'spectate.v.01', 'examine.v.02', 'squint.v.03', 'inspect.v.01', 'look.v.01', 'eye.v.01', 'look.n.02', 'view.n.03', 'see.n.01', 'watch.v.01', 'witness.v.02', 'gaze.v.01', 'ogle.v.01', 'visualize.v.01', 'see.v.19', 'glimpse.v.01', 'see.v.11', 'see.v.15', 'see.v.18', 'look.v.03', 'glance.v.01', 'glance.n.01', 'see.v.01']\n"
     ]
    },
    {
     "data": {
      "text/plain": [
       "195"
      ]
     },
     "execution_count": 92,
     "metadata": {},
     "output_type": "execute_result"
    }
   ],
   "source": [
    "# create sight seed words \n",
    "# Sight see, look, visual, glance, stare, gaze, view, observe, notice, watch\n",
    "\n",
    "sight_seed_words = []\n",
    "\n",
    "base_set = [synset.name() for synset in wordnet.synsets('see') if '_' not in synset.name().split('.')[0] ] +\\\n",
    "           [synset.name() for synset in wordnet.synsets('look')  if '_' not in synset.name().split('.')[0]]\n",
    "\n",
    "remove = ['be.v.01', 'reinterpret.v.02', 'reconsider.v.01', 'bet.v.02', 'tour.v.01', 'favor.v.02', 'accompany.v.02', 'consider.v.05',\n",
    "          'appreciate.v.02', 'sparkle.n.01', 'identify.v.03', 'intrude.v.03', 'card.v.02', 'perceive.v.01',' trust.v.01', 'zeitgeist.n.01',\n",
    "          'come.v.20', 'relativize.v.01', 'learn.v.02','control.v.06', 'visit.v.01', 'minister.v.01', 'read.v.01', 'count.v.08', \n",
    "          'hollywood.n.02', 'interpret.v.01', 'proofread.v.01', 'check.v.02', 'attend.v.02', 'idealize.v.01', 'gloat.v.02',\n",
    "          'prize.v.01', 'glow.v.02', 'deem.v.01', 'intersect.v.01', 'undergo.v.01', 'seat.n.05', 'glitter.v.01', \n",
    "          'front.v.01', 'dekko.n.01', 'determine.v.08', 'cross-check.v.01', 'meet.v.01', 'experience.v.01', 'rise.v.04'\n",
    "          'preview.v.01', 'atmosphere.n.01', 'enjoy.v.04', 'sound.v.01', 'feel.v.06', 'think.v.01',  'anticipate.v.05'\n",
    "          'search.v.02', 'receive.v.13', 'autopsy.v.01', 'convey.v.01', 'perceive.v.02', 'make.v.43', 'understand.v.02',\n",
    "          'feel.v.12', 'disrespect.v.02', 'candle.v.01', 'expect.v.05', 'catch.v.28', 'reconsider.v.02', 'reify.v.01',\n",
    "          'respect.v.01', 'make.v.35', 'call.v.27', 'like.v.04', 'capitalize.v.05', 'regard.v.02', 'anticipate.v.05'\n",
    "          'expression.n.01', 'spot-check.v.01', 'expect.v.04', 'cruise.v.03', 'cinch.v.02', 'expression.n.01',\n",
    "          'detect.v.01', 'auscultate.v.01',  'match.v.01', 'behold.v.01', 'imagine.v.01', 'visit.v.03', 'receive.v.05',\n",
    "          'cut.v.13', 'search.v.04', 'sensing.n.02', 'verify.v.01', 'expect.v.03', 'x-ray.v.01', 'loom.v.01', 'feel.v.07', 'cover.v.13',\n",
    "          'countenance.n.01',  'prospect.v.01','include.v.02', 'spirit.n.02', 'rise.v.04', 'observation.n.02', 'consider.v.09',\n",
    "          'hunt.v.07',  'admire.v.02', 'abstract.v.01', 'double-check.v.01', 'appearance.n.01', 'preview.v.01', 'sightseeing.n.01',\n",
    "          'search.v.02', 'survey.v.02'\n",
    "         ]\n",
    "\n",
    "sight_seed_words = [word for word in base_set if word not in remove and word not in sight_seed_words]\n",
    "\n",
    "hyponyms_set = [y.name() for x in sight_seed_words for y in wordnet.synset(x).hyponyms() if '_' not in y.name().split('.')[0]]\n",
    "\n",
    "sight_seed_words = sight_seed_words + [word for word in hyponyms_set if word not in remove and word not in sight_seed_words]\n",
    "\n",
    "hypernyms_set = [y.name() for x in sight_seed_words for y in wordnet.synset(x).hypernyms() if '_' not in y.name().split('.')[0]]\n",
    "    \n",
    "sight_seed_words = sight_seed_words + [word for word in hypernyms_set if word not in remove and word not in sight_seed_words]\n",
    "\n",
    "sight_seed_words = list(set(sight_seed_words))\n",
    "\n",
    "print(sight_seed_words)\n",
    "\n",
    "variations_set = []\n",
    "for word in sight_seed_words: \n",
    "    variations= get_word_forms(word.split('.')[0])\n",
    "    for key in variations: \n",
    "        for value in variations[key]: \n",
    "            if value not in variations_set: \n",
    "                variations_set.append(value + '.' + key)\n",
    "                      \n",
    "        \n",
    "sight_seed_words = [word.split('.')[0] + '.' + word.split('.')[1] for word in sight_seed_words]\n",
    "sight_seed_words = list(set(sight_seed_words))\n",
    "sight_seed_words = sight_seed_words + [word for word in variations_set if word not in sight_seed_words and '_' not in word.split('.')[0]]\n",
    "\n",
    "sight_seed_words = list(set(sight_seed_words))\n",
    "\n",
    "textfile = open(\"../data/seed_words/sight_words_list.txt\", \"w\")\n",
    "for element in sight_seed_words:\n",
    "    textfile.write(element + \"\\n\")\n",
    "textfile.close()\n",
    "\n",
    "len(sight_seed_words)"
   ]
  },
  {
   "cell_type": "code",
   "execution_count": 97,
   "id": "c4057574",
   "metadata": {},
   "outputs": [
    {
     "name": "stdout",
     "output_type": "stream",
     "text": [
      "[]\n",
      "{'r', 'n', 'v', 'a', 's'}\n"
     ]
    }
   ],
   "source": [
    "# find duplicates \n",
    "all_seed_words =  sight_seed_words + taste_seed_words + hear_seed_words + smell_seed_words + touch_seed_words\n",
    "print([item for item, count in collections.Counter(all_seed_words).items() if count > 1])\n",
    "print(set([word.split('.')[1] for word in all_seed_words]))"
   ]
  },
  {
   "cell_type": "code",
   "execution_count": 99,
   "id": "8118d891",
   "metadata": {},
   "outputs": [
    {
     "name": "stdout",
     "output_type": "stream",
     "text": [
      "sight: 195\n",
      "taste: 194\n",
      "hear: 192\n",
      "smell: 184\n",
      "touch: 195\n",
      "Total: 960\n"
     ]
    }
   ],
   "source": [
    "# assign POS using spacy's POS tags\n",
    "list_of_seed_words = {'sight': sight_seed_words, \n",
    "                      'taste' : taste_seed_words, \n",
    "                      'hear' : hear_seed_words, \n",
    "                      'smell': smell_seed_words, \n",
    "                      'touch' : touch_seed_words}\n",
    "\n",
    "seed_words = pd.DataFrame(columns = ['seed_word', 'word', 'pos', 'sense_name'])\n",
    "pos_dict = {'n': 'NOUN', 'v': 'VERB', 'r': 'ADV', 's': 'ADJ', 'a': 'ADJ'}\n",
    "\n",
    "for key, value in list_of_seed_words.items():\n",
    "    count = 0 \n",
    "    for w in value:\n",
    "        count += 1\n",
    "        word = w.split('.')[0]\n",
    "        pos = pos_dict[w.split('.')[1]]\n",
    "        seed_word = (word, pos)\n",
    "        sense_name = key\n",
    "        seed_words = seed_words.append({'seed_word' : seed_word,\n",
    "                                        'word' : word,\n",
    "                                        'pos' : pos,\n",
    "                                        'sense_name' : sense_name}, ignore_index = True)\n",
    "    print(key + \": \" + str(count))\n",
    "    \n",
    "print('Total: ' + str(len(all_seed_words)))"
   ]
  },
  {
   "cell_type": "code",
   "execution_count": 101,
   "id": "2197d010",
   "metadata": {},
   "outputs": [
    {
     "data": {
      "text/html": [
       "<div>\n",
       "<style scoped>\n",
       "    .dataframe tbody tr th:only-of-type {\n",
       "        vertical-align: middle;\n",
       "    }\n",
       "\n",
       "    .dataframe tbody tr th {\n",
       "        vertical-align: top;\n",
       "    }\n",
       "\n",
       "    .dataframe thead th {\n",
       "        text-align: right;\n",
       "    }\n",
       "</style>\n",
       "<table border=\"1\" class=\"dataframe\">\n",
       "  <thead>\n",
       "    <tr style=\"text-align: right;\">\n",
       "      <th></th>\n",
       "      <th>seed_word</th>\n",
       "      <th>word</th>\n",
       "      <th>pos</th>\n",
       "      <th>sense_name</th>\n",
       "    </tr>\n",
       "  </thead>\n",
       "  <tbody>\n",
       "    <tr>\n",
       "      <th>955</th>\n",
       "      <td>(somatosense, NOUN)</td>\n",
       "      <td>somatosense</td>\n",
       "      <td>NOUN</td>\n",
       "      <td>touch</td>\n",
       "    </tr>\n",
       "    <tr>\n",
       "      <th>956</th>\n",
       "      <td>(pressuring, VERB)</td>\n",
       "      <td>pressuring</td>\n",
       "      <td>VERB</td>\n",
       "      <td>touch</td>\n",
       "    </tr>\n",
       "    <tr>\n",
       "      <th>957</th>\n",
       "      <td>(kisses, NOUN)</td>\n",
       "      <td>kisses</td>\n",
       "      <td>NOUN</td>\n",
       "      <td>touch</td>\n",
       "    </tr>\n",
       "    <tr>\n",
       "      <th>958</th>\n",
       "      <td>(striking, NOUN)</td>\n",
       "      <td>striking</td>\n",
       "      <td>NOUN</td>\n",
       "      <td>touch</td>\n",
       "    </tr>\n",
       "    <tr>\n",
       "      <th>959</th>\n",
       "      <td>(hitter, NOUN)</td>\n",
       "      <td>hitter</td>\n",
       "      <td>NOUN</td>\n",
       "      <td>touch</td>\n",
       "    </tr>\n",
       "  </tbody>\n",
       "</table>\n",
       "</div>"
      ],
      "text/plain": [
       "               seed_word         word   pos sense_name\n",
       "955  (somatosense, NOUN)  somatosense  NOUN      touch\n",
       "956   (pressuring, VERB)   pressuring  VERB      touch\n",
       "957       (kisses, NOUN)       kisses  NOUN      touch\n",
       "958     (striking, NOUN)     striking  NOUN      touch\n",
       "959       (hitter, NOUN)       hitter  NOUN      touch"
      ]
     },
     "execution_count": 101,
     "metadata": {},
     "output_type": "execute_result"
    }
   ],
   "source": [
    "seed_words.tail()"
   ]
  },
  {
   "cell_type": "code",
   "execution_count": 102,
   "id": "ab5e15dc",
   "metadata": {},
   "outputs": [],
   "source": [
    "seed_words.to_csv('../data/seed_words/seed_words.csv', index = False)\n",
    "\n",
    "with open('../data/seed_words/seed_words.pickle', 'wb') as f:\n",
    "        pkl.dump(seed_words, f)"
   ]
  },
  {
   "cell_type": "code",
   "execution_count": null,
   "id": "9eeca411",
   "metadata": {},
   "outputs": [],
   "source": [
    "with open(input_path, \"rb\") as f:\n",
    "    input_obj = pkl.load(f)"
   ]
  },
  {
   "cell_type": "markdown",
   "id": "412da0aa",
   "metadata": {},
   "source": [
    "### Old Seed Words Method"
   ]
  },
  {
   "cell_type": "code",
   "execution_count": null,
   "id": "649ff167",
   "metadata": {},
   "outputs": [],
   "source": [
    "smell_seed_words = [synset.name().split('.')[0] for synset in wordnet.synsets('smell')] + \\\n",
    "                   [synset.name().split('.')[0] for synset in wordnet.synsets('scent')] + \\\n",
    "                   [synset.name().split('.')[0] for synset in wordnet.synset('smell.v.01').hyponyms()] + \\\n",
    "                   [synset.name().split('.')[0] for synset in wordnet.synset('smell.v.01').hypernyms()] + \\\n",
    "                   [synset.name().split('.')[0] for synset in wordnet.synset('smell.n.01').hyponyms()] + \\\n",
    "                   [synset.name().split('.')[0] for synset in wordnet.synset('smell.n.01').hypernyms()] + \\\n",
    "                   [synset.name().split('.')[0] for synset in wordnet.synset('smell.n.02').hyponyms()] + \\\n",
    "                   [synset.name().split('.')[0] for synset in wordnet.synset('smell.n.02').hypernyms()] + \\\n",
    "                   [synset.name().split('.')[0] for synset in wordnet.synset('smell.n.04').hyponyms()] + \\\n",
    "                   [synset.name().split('.')[0] for synset in wordnet.synset('smell.n.04').hypernyms()] + \\\n",
    "                   [synset.name().split('.')[0] for synset in wordnet.synset('scent.n.01').hyponyms()] + \\\n",
    "                   [synset.name().split('.')[0] for synset in wordnet.synset('scent.n.01').hypernyms()] +\\\n",
    "                   [synset.name().split('.')[0] for synset in wordnet.synset('odor.n.01').hyponyms()] + \\\n",
    "                   [synset.name().split('.')[0] for synset in wordnet.synset('odor.n.01').hypernyms()] + \\\n",
    "                   [synset.name().split('.')[0] for synset in wordnet.synset('odor.n.02').hyponyms()] + \\\n",
    "                   [synset.name().split('.')[0] for synset in wordnet.synset('odor.n.02').hypernyms()]\n",
    "\n",
    "remove = ['spirit', 'perceive', 'sensation', 'property', 'exteroception', 'modality']\n",
    "\n",
    "smell_seed_words = [word for word in smell_seed_words if word not in remove]\n",
    "\n",
    "for word in smell_seed_words: \n",
    "    variations = get_word_forms(word)\n",
    "    for key in variations: \n",
    "        for value in variations[key]: \n",
    "            if value not in smell_seed_words: \n",
    "                smell_seed_words.append(value)\n",
    "                \n",
    "smell_seed_words = [word for word in smell_seed_words if '_' not in word]    \n",
    "    \n",
    "smell_seed_words = list(set(smell_seed_words))\n",
    "\n",
    "remove = ['spirit', 'perceive', 'sensation', 'property', 'exteroception', 'modality', 'nosinesses', 'nosiness']\n",
    "\n",
    "smell_seed_words = [word for word in smell_seed_words if word not in remove]\n",
    "\n",
    "smell_seed_words = [word for word in smell_seed_words if word not in all_seed_words]\n",
    "\n",
    "all_seed_words = all_seed_words + smell_seed_words \n",
    "\n",
    "textfile = open(\"../data/seed_words/smell_words_list.txt\", \"w\")\n",
    "for element in smell_seed_words:\n",
    "    textfile.write(element + \"\\n\")\n",
    "textfile.close()\n",
    "\n",
    "print(smell_seed_words)\n",
    "print(len(smell_seed_words))"
   ]
  },
  {
   "cell_type": "code",
   "execution_count": null,
   "id": "3c335a4a",
   "metadata": {},
   "outputs": [],
   "source": [
    "# create hear seed words list\n",
    "hear_seed_words = [synset.name().split('.')[0] for synset in wordnet.synsets('hear')] + \\\n",
    "                  [synset.name().split('.')[0] for synset in wordnet.synset('hear.v.01').hyponyms()] + \\\n",
    "                  [synset.name().split('.')[0] for synset in wordnet.synset('hear.v.01').hypernyms()] + \\\n",
    "                  [synset.name().split('.')[0] for synset in wordnet.synset('listen.v.01').hyponyms()] + \\\n",
    "                  [synset.name().split('.')[0] for synset in wordnet.synset('listen.v.01').hypernyms()] + \\\n",
    "                  [synset.name().split('.')[0] for synset in wordnet.synset('sound.v.06').hyponyms()] + \\\n",
    "                  [synset.name().split('.')[0] for synset in wordnet.synset('sound.v.06').hypernyms()] + \\\n",
    "                  [synset.name().split('.')[0] for synset in wordnet.synset('sound.n.01').hyponyms()] + \\\n",
    "                  [synset.name().split('.')[0] for synset in wordnet.synset('sound.n.01').hypernyms()] + \\\n",
    "                  [synset.name().split('.')[0] for synset in wordnet.synset('sound.n.02').hyponyms()] + \\\n",
    "                  [synset.name().split('.')[0] for synset in wordnet.synset('sound.n.02').hypernyms()]\n",
    "\n",
    "for word in hear_seed_words: \n",
    "    variations = get_word_forms(word)\n",
    "    for key in variations: \n",
    "        for value in variations[key]: \n",
    "            if value not in hear_seed_words: \n",
    "                hear_seed_words.append(value)\n",
    "            \n",
    "hear_seed_words = [word for word in hear_seed_words if '_' not in word]\n",
    "            \n",
    "hear_seed_words = list(set(hear_seed_words))\n",
    "\n",
    "hear_seed_words = [word for word in hear_seed_words if word not in all_seed_words]\n",
    "\n",
    "all_seed_words = all_seed_words + hear_seed_words \n",
    "\n",
    "textfile = open(\"../data/seed_words/hear_words_list.txt\", \"w\")\n",
    "for element in hear_seed_words:\n",
    "    textfile.write(element + \"\\n\")\n",
    "textfile.close()\n",
    "\n",
    "len(hear_seed_words)"
   ]
  },
  {
   "cell_type": "code",
   "execution_count": null,
   "id": "ea59f0ba",
   "metadata": {},
   "outputs": [],
   "source": [
    "# create touch seed words list\n",
    "touch_seed_words = [synset.name().split('.')[0] for synset in wordnet.synsets('touch')] + \\\n",
    "                   [synset.name().split('.')[0] for synset in wordnet.synset('touch.v.01').hyponyms()] + \\\n",
    "                   [synset.name().split('.')[0] for synset in wordnet.synset('touch.v.01').hypernyms()] +\\\n",
    "                   [synset.name().split('.')[0] for synset in wordnet.synset('touch.n.02').hyponyms()] + \\\n",
    "                   [synset.name().split('.')[0] for synset in wordnet.synset('touch.n.02').hypernyms()] + \\\n",
    "                   [synset.name().split('.')[0] for synset in wordnet.synset('feel.n.03').hyponyms()] + \\\n",
    "                   [synset.name().split('.')[0] for synset in wordnet.synset('feel.n.03').hypernyms()]\n",
    "\n",
    "for word in touch_seed_words: \n",
    "    variations = get_word_forms(word)\n",
    "    for key in variations: \n",
    "        for value in variations[key]: \n",
    "            if value not in touch_seed_words: \n",
    "                touch_seed_words.append(value)\n",
    "                \n",
    "touch_seed_words = [word for word in touch_seed_words if '_' not in word]\n",
    "                \n",
    "touch_seed_words = list(set(touch_seed_words))\n",
    "\n",
    "touch_seed_words = [word for word in touch_seed_words if word not in all_seed_words]\n",
    "\n",
    "all_seed_words = all_seed_words + touch_seed_words \n",
    "\n",
    "textfile = open(\"../data/seed_words/touch_words_list.txt\", \"w\")\n",
    "for element in touch_seed_words:\n",
    "    textfile.write(element + \"\\n\")\n",
    "textfile.close()\n",
    "\n",
    "len(touch_seed_words)"
   ]
  },
  {
   "cell_type": "code",
   "execution_count": null,
   "id": "1fd7a22a",
   "metadata": {},
   "outputs": [],
   "source": [
    "# create taste seed words \n",
    "taste_seed_words = [synset.name().split('.')[0] for synset in wordnet.synsets('taste')] + \\\n",
    "                   [synset.name().split('.')[0] for synset in wordnet.synset('taste.v.01').hyponyms()] + \\\n",
    "                   [synset.name().split('.')[0] for synset in wordnet.synset('taste.v.01').hypernyms()] + \\\n",
    "                   [synset.name().split('.')[0] for synset in wordnet.synset('taste.n.01').hyponyms()] + \\\n",
    "                   [synset.name().split('.')[0] for synset in wordnet.synset('taste.n.01').hypernyms()] + \\\n",
    "                   [synset.name().split('.')[0] for synset in wordnet.synset('taste.n.03').hyponyms()] + \\\n",
    "                   [synset.name().split('.')[0] for synset in wordnet.synset('taste.n.03').hypernyms()] +\\\n",
    "                   [synset.name().split('.')[0] for synset in wordnet.synset('flavor.v.01').hyponyms()] + \\\n",
    "                   [synset.name().split('.')[0] for synset in wordnet.synset('flavor.v.01').hypernyms()] + \\\n",
    "                   [synset.name().split('.')[0] for synset in wordnet.synset('flavor.n.02').hyponyms()] + \\\n",
    "                   [synset.name().split('.')[0] for synset in wordnet.synset('flavor.n.02').hypernyms()] + \\\n",
    "                   [synset.name().split('.')[0] for synset in wordnet.synset('savor.v.04').hyponyms()] + \\\n",
    "                   [synset.name().split('.')[0] for synset in wordnet.synset('savor.v.04').hypernyms()]\n",
    "\n",
    "for word in taste_seed_words: \n",
    "    variations = get_word_forms(word)\n",
    "    for key in variations: \n",
    "        for value in variations[key]: \n",
    "            if value not in taste_seed_words: \n",
    "                taste_seed_words.append(value)\n",
    "                \n",
    "taste_seed_words = [word for word in taste_seed_words if '_' not in word]                \n",
    "                \n",
    "taste_seed_words = list(set(taste_seed_words))\n",
    "\n",
    "taste_seed_words = [word for word in taste_seed_words if word not in all_seed_words]\n",
    "\n",
    "all_seed_words = all_seed_words + taste_seed_words \n",
    "\n",
    "textfile = open(\"../data/seed_words/taste_words_list.txt\", \"w\")\n",
    "for element in taste_seed_words:\n",
    "    textfile.write(element + \"\\n\")\n",
    "textfile.close()\n",
    "\n",
    "len(taste_seed_words)"
   ]
  },
  {
   "cell_type": "code",
   "execution_count": null,
   "id": "c459f5ee",
   "metadata": {},
   "outputs": [],
   "source": [
    "# create sight seed words list \n",
    "# Sight see, look, visual, glance, stare, gaze, view, observe, notice, watch\n",
    "sight_seed_words = [synset.name().split('.')[0] for synset in wordnet.synsets('see')] + \\\n",
    "                   [synset.name().split('.')[0] for synset in wordnet.synset('see.v.01').hyponyms()] + \\\n",
    "                   [synset.name().split('.')[0] for synset in wordnet.synset('look.v.01').hyponyms()]\n",
    "                   \n",
    "\n",
    "for word in sight_seed_words: \n",
    "    variations = get_word_forms(word)\n",
    "    for key in variations: \n",
    "        for value in variations[key]: \n",
    "            if value not in sight_seed_words: \n",
    "                sight_seed_words.append(value)\n",
    "                \n",
    "sight_seed_words = [word for word in sight_seed_words if '_' not in word]\n",
    "\n",
    "sight_seed_words = list(set(sight_seed_words))\n",
    "\n",
    "sight_seed_words = [word for word in sight_seed_words if word not in all_seed_words]\n",
    "\n",
    "all_seed_words = all_seed_words + sight_seed_words \n",
    "\n",
    "textfile = open(\"../data/seed_words/sight_words_list.txt\", \"w\")\n",
    "for element in sight_seed_words:\n",
    "    textfile.write(element + \"\\n\")\n",
    "textfile.close()\n",
    "\n",
    "len(sight_seed_words)"
   ]
  },
  {
   "cell_type": "code",
   "execution_count": null,
   "id": "e3db91c2",
   "metadata": {},
   "outputs": [],
   "source": [
    "# POS tag words \n",
    "def pos_tag_words(word):\n",
    "    for token in nlp(word):\n",
    "        return (str(token.text).lower(), str(token.pos_))\n",
    "    \n",
    "seed_words['word_pos'] = seed_words.apply(lambda row: pos_tag_words(row['word']), axis = 1)"
   ]
  },
  {
   "cell_type": "code",
   "execution_count": null,
   "id": "6c4c11f6",
   "metadata": {},
   "outputs": [],
   "source": [
    "# read seed words \n",
    "modalities = ['sight', 'hear', 'touch', 'taste', 'smell']\n",
    "seed_words = pd.DataFrame(columns = ['word', 'sense_name'])\n",
    "overlapping_words = []\n",
    "\n",
    "for sense_name in modalities:\n",
    "            with open('../data/seed_words/' + sense_name + '_words_list.txt', 'r') as filehandle:\n",
    "                count = 0 \n",
    "                for line in filehandle:\n",
    "                    count += 1\n",
    "                    currentPlace = line[:-1]\n",
    "                    if seed_words['word'].str.contains(currentPlace).any():\n",
    "                        overlapping_words.append(sense_name + '_' + currentPlace)\n",
    "                    seed_words = seed_words.append({'word' : currentPlace, 'sense_name' : sense_name}, ignore_index = True)\n",
    "                print(sense_name + \": \" + str(count))\n",
    "print('Total: ' + str(seed_words.shape[0]))"
   ]
  }
 ],
 "metadata": {
  "kernelspec": {
   "display_name": "word2vec",
   "language": "python",
   "name": "word2vec"
  },
  "language_info": {
   "codemirror_mode": {
    "name": "ipython",
    "version": 3
   },
   "file_extension": ".py",
   "mimetype": "text/x-python",
   "name": "python",
   "nbconvert_exporter": "python",
   "pygments_lexer": "ipython3",
   "version": "3.9.5"
  }
 },
 "nbformat": 4,
 "nbformat_minor": 5
}
