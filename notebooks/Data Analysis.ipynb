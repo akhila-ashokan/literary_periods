{
 "cells": [
  {
   "cell_type": "code",
   "execution_count": 34,
   "id": "f546919e",
   "metadata": {},
   "outputs": [],
   "source": [
    "import pandas as pd \n",
    "import zipfile\n",
    "import plotly.graph_objects as go\n",
    "import plotly.express as px\n",
    "import pickle as pkl\n",
    "import spacy\n",
    "from nltk.corpus import wordnet\n",
    "from word_forms.word_forms import get_word_forms\n",
    "nlp = spacy.load(\"en_core_web_sm\")"
   ]
  },
  {
   "cell_type": "markdown",
   "id": "f17bc92b",
   "metadata": {},
   "source": [
    "## MetaData"
   ]
  },
  {
   "cell_type": "code",
   "execution_count": 35,
   "id": "c4671ad9",
   "metadata": {},
   "outputs": [
    {
     "data": {
      "text/plain": [
       "Index(['Author', 'Author Birth', 'Author Death', 'Author Given',\n",
       "       'Author Surname', 'Copyright Status', 'Language', 'LoC Class', 'Num',\n",
       "       'Subject', 'Title', 'charset', 'gd-num-padded', 'gd-path', 'href'],\n",
       "      dtype='object')"
      ]
     },
     "execution_count": 35,
     "metadata": {},
     "output_type": "execute_result"
    }
   ],
   "source": [
    "metadata = pd.read_json(\"../data/gutenberg-dammit-files/gutenberg-metadata.json\")\n",
    "metadata.columns"
   ]
  },
  {
   "cell_type": "code",
   "execution_count": 36,
   "id": "bd8c2df2",
   "metadata": {},
   "outputs": [
    {
     "data": {
      "application/vnd.plotly.v1+json": {
       "config": {
        "plotlyServerURL": "https://plot.ly"
       },
       "data": [
        {
         "cells": {
          "values": [
           [
            "Various",
            "Anonymous",
            "None Available",
            "William Shakespeare",
            "Baron Edward Bulwer Lytton Lytton",
            "Georg Ebers",
            "Mark Twain",
            "Unknown",
            "Honoré de Balzac",
            "Gilbert Parker",
            "William Henry Giles Kingston",
            "Jules Verne",
            "George Manville Fenn",
            "Charles Dickens",
            "George Meredith",
            "W. W. (William Wymark) Jacobs",
            "William Dean Howells",
            "John Lothrop Motley",
            "Nathaniel Hawthorne",
            "Robert Louis Stevenson"
           ],
           [
            3424,
            813,
            557,
            305,
            214,
            170,
            169,
            150,
            135,
            134,
            133,
            131,
            128,
            119,
            111,
            111,
            103,
            103,
            99,
            99
           ]
          ]
         },
         "header": {
          "values": [
           "Author",
           "Count"
          ]
         },
         "type": "table"
        }
       ],
       "layout": {
        "template": {
         "data": {
          "bar": [
           {
            "error_x": {
             "color": "#2a3f5f"
            },
            "error_y": {
             "color": "#2a3f5f"
            },
            "marker": {
             "line": {
              "color": "#E5ECF6",
              "width": 0.5
             }
            },
            "type": "bar"
           }
          ],
          "barpolar": [
           {
            "marker": {
             "line": {
              "color": "#E5ECF6",
              "width": 0.5
             }
            },
            "type": "barpolar"
           }
          ],
          "carpet": [
           {
            "aaxis": {
             "endlinecolor": "#2a3f5f",
             "gridcolor": "white",
             "linecolor": "white",
             "minorgridcolor": "white",
             "startlinecolor": "#2a3f5f"
            },
            "baxis": {
             "endlinecolor": "#2a3f5f",
             "gridcolor": "white",
             "linecolor": "white",
             "minorgridcolor": "white",
             "startlinecolor": "#2a3f5f"
            },
            "type": "carpet"
           }
          ],
          "choropleth": [
           {
            "colorbar": {
             "outlinewidth": 0,
             "ticks": ""
            },
            "type": "choropleth"
           }
          ],
          "contour": [
           {
            "colorbar": {
             "outlinewidth": 0,
             "ticks": ""
            },
            "colorscale": [
             [
              0,
              "#0d0887"
             ],
             [
              0.1111111111111111,
              "#46039f"
             ],
             [
              0.2222222222222222,
              "#7201a8"
             ],
             [
              0.3333333333333333,
              "#9c179e"
             ],
             [
              0.4444444444444444,
              "#bd3786"
             ],
             [
              0.5555555555555556,
              "#d8576b"
             ],
             [
              0.6666666666666666,
              "#ed7953"
             ],
             [
              0.7777777777777778,
              "#fb9f3a"
             ],
             [
              0.8888888888888888,
              "#fdca26"
             ],
             [
              1,
              "#f0f921"
             ]
            ],
            "type": "contour"
           }
          ],
          "contourcarpet": [
           {
            "colorbar": {
             "outlinewidth": 0,
             "ticks": ""
            },
            "type": "contourcarpet"
           }
          ],
          "heatmap": [
           {
            "colorbar": {
             "outlinewidth": 0,
             "ticks": ""
            },
            "colorscale": [
             [
              0,
              "#0d0887"
             ],
             [
              0.1111111111111111,
              "#46039f"
             ],
             [
              0.2222222222222222,
              "#7201a8"
             ],
             [
              0.3333333333333333,
              "#9c179e"
             ],
             [
              0.4444444444444444,
              "#bd3786"
             ],
             [
              0.5555555555555556,
              "#d8576b"
             ],
             [
              0.6666666666666666,
              "#ed7953"
             ],
             [
              0.7777777777777778,
              "#fb9f3a"
             ],
             [
              0.8888888888888888,
              "#fdca26"
             ],
             [
              1,
              "#f0f921"
             ]
            ],
            "type": "heatmap"
           }
          ],
          "heatmapgl": [
           {
            "colorbar": {
             "outlinewidth": 0,
             "ticks": ""
            },
            "colorscale": [
             [
              0,
              "#0d0887"
             ],
             [
              0.1111111111111111,
              "#46039f"
             ],
             [
              0.2222222222222222,
              "#7201a8"
             ],
             [
              0.3333333333333333,
              "#9c179e"
             ],
             [
              0.4444444444444444,
              "#bd3786"
             ],
             [
              0.5555555555555556,
              "#d8576b"
             ],
             [
              0.6666666666666666,
              "#ed7953"
             ],
             [
              0.7777777777777778,
              "#fb9f3a"
             ],
             [
              0.8888888888888888,
              "#fdca26"
             ],
             [
              1,
              "#f0f921"
             ]
            ],
            "type": "heatmapgl"
           }
          ],
          "histogram": [
           {
            "marker": {
             "colorbar": {
              "outlinewidth": 0,
              "ticks": ""
             }
            },
            "type": "histogram"
           }
          ],
          "histogram2d": [
           {
            "colorbar": {
             "outlinewidth": 0,
             "ticks": ""
            },
            "colorscale": [
             [
              0,
              "#0d0887"
             ],
             [
              0.1111111111111111,
              "#46039f"
             ],
             [
              0.2222222222222222,
              "#7201a8"
             ],
             [
              0.3333333333333333,
              "#9c179e"
             ],
             [
              0.4444444444444444,
              "#bd3786"
             ],
             [
              0.5555555555555556,
              "#d8576b"
             ],
             [
              0.6666666666666666,
              "#ed7953"
             ],
             [
              0.7777777777777778,
              "#fb9f3a"
             ],
             [
              0.8888888888888888,
              "#fdca26"
             ],
             [
              1,
              "#f0f921"
             ]
            ],
            "type": "histogram2d"
           }
          ],
          "histogram2dcontour": [
           {
            "colorbar": {
             "outlinewidth": 0,
             "ticks": ""
            },
            "colorscale": [
             [
              0,
              "#0d0887"
             ],
             [
              0.1111111111111111,
              "#46039f"
             ],
             [
              0.2222222222222222,
              "#7201a8"
             ],
             [
              0.3333333333333333,
              "#9c179e"
             ],
             [
              0.4444444444444444,
              "#bd3786"
             ],
             [
              0.5555555555555556,
              "#d8576b"
             ],
             [
              0.6666666666666666,
              "#ed7953"
             ],
             [
              0.7777777777777778,
              "#fb9f3a"
             ],
             [
              0.8888888888888888,
              "#fdca26"
             ],
             [
              1,
              "#f0f921"
             ]
            ],
            "type": "histogram2dcontour"
           }
          ],
          "mesh3d": [
           {
            "colorbar": {
             "outlinewidth": 0,
             "ticks": ""
            },
            "type": "mesh3d"
           }
          ],
          "parcoords": [
           {
            "line": {
             "colorbar": {
              "outlinewidth": 0,
              "ticks": ""
             }
            },
            "type": "parcoords"
           }
          ],
          "pie": [
           {
            "automargin": true,
            "type": "pie"
           }
          ],
          "scatter": [
           {
            "marker": {
             "colorbar": {
              "outlinewidth": 0,
              "ticks": ""
             }
            },
            "type": "scatter"
           }
          ],
          "scatter3d": [
           {
            "line": {
             "colorbar": {
              "outlinewidth": 0,
              "ticks": ""
             }
            },
            "marker": {
             "colorbar": {
              "outlinewidth": 0,
              "ticks": ""
             }
            },
            "type": "scatter3d"
           }
          ],
          "scattercarpet": [
           {
            "marker": {
             "colorbar": {
              "outlinewidth": 0,
              "ticks": ""
             }
            },
            "type": "scattercarpet"
           }
          ],
          "scattergeo": [
           {
            "marker": {
             "colorbar": {
              "outlinewidth": 0,
              "ticks": ""
             }
            },
            "type": "scattergeo"
           }
          ],
          "scattergl": [
           {
            "marker": {
             "colorbar": {
              "outlinewidth": 0,
              "ticks": ""
             }
            },
            "type": "scattergl"
           }
          ],
          "scattermapbox": [
           {
            "marker": {
             "colorbar": {
              "outlinewidth": 0,
              "ticks": ""
             }
            },
            "type": "scattermapbox"
           }
          ],
          "scatterpolar": [
           {
            "marker": {
             "colorbar": {
              "outlinewidth": 0,
              "ticks": ""
             }
            },
            "type": "scatterpolar"
           }
          ],
          "scatterpolargl": [
           {
            "marker": {
             "colorbar": {
              "outlinewidth": 0,
              "ticks": ""
             }
            },
            "type": "scatterpolargl"
           }
          ],
          "scatterternary": [
           {
            "marker": {
             "colorbar": {
              "outlinewidth": 0,
              "ticks": ""
             }
            },
            "type": "scatterternary"
           }
          ],
          "surface": [
           {
            "colorbar": {
             "outlinewidth": 0,
             "ticks": ""
            },
            "colorscale": [
             [
              0,
              "#0d0887"
             ],
             [
              0.1111111111111111,
              "#46039f"
             ],
             [
              0.2222222222222222,
              "#7201a8"
             ],
             [
              0.3333333333333333,
              "#9c179e"
             ],
             [
              0.4444444444444444,
              "#bd3786"
             ],
             [
              0.5555555555555556,
              "#d8576b"
             ],
             [
              0.6666666666666666,
              "#ed7953"
             ],
             [
              0.7777777777777778,
              "#fb9f3a"
             ],
             [
              0.8888888888888888,
              "#fdca26"
             ],
             [
              1,
              "#f0f921"
             ]
            ],
            "type": "surface"
           }
          ],
          "table": [
           {
            "cells": {
             "fill": {
              "color": "#EBF0F8"
             },
             "line": {
              "color": "white"
             }
            },
            "header": {
             "fill": {
              "color": "#C8D4E3"
             },
             "line": {
              "color": "white"
             }
            },
            "type": "table"
           }
          ]
         },
         "layout": {
          "annotationdefaults": {
           "arrowcolor": "#2a3f5f",
           "arrowhead": 0,
           "arrowwidth": 1
          },
          "autotypenumbers": "strict",
          "coloraxis": {
           "colorbar": {
            "outlinewidth": 0,
            "ticks": ""
           }
          },
          "colorscale": {
           "diverging": [
            [
             0,
             "#8e0152"
            ],
            [
             0.1,
             "#c51b7d"
            ],
            [
             0.2,
             "#de77ae"
            ],
            [
             0.3,
             "#f1b6da"
            ],
            [
             0.4,
             "#fde0ef"
            ],
            [
             0.5,
             "#f7f7f7"
            ],
            [
             0.6,
             "#e6f5d0"
            ],
            [
             0.7,
             "#b8e186"
            ],
            [
             0.8,
             "#7fbc41"
            ],
            [
             0.9,
             "#4d9221"
            ],
            [
             1,
             "#276419"
            ]
           ],
           "sequential": [
            [
             0,
             "#0d0887"
            ],
            [
             0.1111111111111111,
             "#46039f"
            ],
            [
             0.2222222222222222,
             "#7201a8"
            ],
            [
             0.3333333333333333,
             "#9c179e"
            ],
            [
             0.4444444444444444,
             "#bd3786"
            ],
            [
             0.5555555555555556,
             "#d8576b"
            ],
            [
             0.6666666666666666,
             "#ed7953"
            ],
            [
             0.7777777777777778,
             "#fb9f3a"
            ],
            [
             0.8888888888888888,
             "#fdca26"
            ],
            [
             1,
             "#f0f921"
            ]
           ],
           "sequentialminus": [
            [
             0,
             "#0d0887"
            ],
            [
             0.1111111111111111,
             "#46039f"
            ],
            [
             0.2222222222222222,
             "#7201a8"
            ],
            [
             0.3333333333333333,
             "#9c179e"
            ],
            [
             0.4444444444444444,
             "#bd3786"
            ],
            [
             0.5555555555555556,
             "#d8576b"
            ],
            [
             0.6666666666666666,
             "#ed7953"
            ],
            [
             0.7777777777777778,
             "#fb9f3a"
            ],
            [
             0.8888888888888888,
             "#fdca26"
            ],
            [
             1,
             "#f0f921"
            ]
           ]
          },
          "colorway": [
           "#636efa",
           "#EF553B",
           "#00cc96",
           "#ab63fa",
           "#FFA15A",
           "#19d3f3",
           "#FF6692",
           "#B6E880",
           "#FF97FF",
           "#FECB52"
          ],
          "font": {
           "color": "#2a3f5f"
          },
          "geo": {
           "bgcolor": "white",
           "lakecolor": "white",
           "landcolor": "#E5ECF6",
           "showlakes": true,
           "showland": true,
           "subunitcolor": "white"
          },
          "hoverlabel": {
           "align": "left"
          },
          "hovermode": "closest",
          "mapbox": {
           "style": "light"
          },
          "paper_bgcolor": "white",
          "plot_bgcolor": "#E5ECF6",
          "polar": {
           "angularaxis": {
            "gridcolor": "white",
            "linecolor": "white",
            "ticks": ""
           },
           "bgcolor": "#E5ECF6",
           "radialaxis": {
            "gridcolor": "white",
            "linecolor": "white",
            "ticks": ""
           }
          },
          "scene": {
           "xaxis": {
            "backgroundcolor": "#E5ECF6",
            "gridcolor": "white",
            "gridwidth": 2,
            "linecolor": "white",
            "showbackground": true,
            "ticks": "",
            "zerolinecolor": "white"
           },
           "yaxis": {
            "backgroundcolor": "#E5ECF6",
            "gridcolor": "white",
            "gridwidth": 2,
            "linecolor": "white",
            "showbackground": true,
            "ticks": "",
            "zerolinecolor": "white"
           },
           "zaxis": {
            "backgroundcolor": "#E5ECF6",
            "gridcolor": "white",
            "gridwidth": 2,
            "linecolor": "white",
            "showbackground": true,
            "ticks": "",
            "zerolinecolor": "white"
           }
          },
          "shapedefaults": {
           "line": {
            "color": "#2a3f5f"
           }
          },
          "ternary": {
           "aaxis": {
            "gridcolor": "white",
            "linecolor": "white",
            "ticks": ""
           },
           "baxis": {
            "gridcolor": "white",
            "linecolor": "white",
            "ticks": ""
           },
           "bgcolor": "#E5ECF6",
           "caxis": {
            "gridcolor": "white",
            "linecolor": "white",
            "ticks": ""
           }
          },
          "title": {
           "x": 0.05
          },
          "xaxis": {
           "automargin": true,
           "gridcolor": "white",
           "linecolor": "white",
           "ticks": "",
           "title": {
            "standoff": 15
           },
           "zerolinecolor": "white",
           "zerolinewidth": 2
          },
          "yaxis": {
           "automargin": true,
           "gridcolor": "white",
           "linecolor": "white",
           "ticks": "",
           "title": {
            "standoff": 15
           },
           "zerolinecolor": "white",
           "zerolinewidth": 2
          }
         }
        }
       }
      },
      "text/html": [
       "<div>                            <div id=\"a3b34a96-5b89-4aec-b063-e185e6cc0cd5\" class=\"plotly-graph-div\" style=\"height:525px; width:100%;\"></div>            <script type=\"text/javascript\">                require([\"plotly\"], function(Plotly) {                    window.PLOTLYENV=window.PLOTLYENV || {};                                    if (document.getElementById(\"a3b34a96-5b89-4aec-b063-e185e6cc0cd5\")) {                    Plotly.newPlot(                        \"a3b34a96-5b89-4aec-b063-e185e6cc0cd5\",                        [{\"cells\": {\"values\": [[\"Various\", \"Anonymous\", \"None Available\", \"William Shakespeare\", \"Baron Edward Bulwer Lytton Lytton\", \"Georg Ebers\", \"Mark Twain\", \"Unknown\", \"Honor\\u00e9 de Balzac\", \"Gilbert Parker\", \"William Henry Giles Kingston\", \"Jules Verne\", \"George Manville Fenn\", \"Charles Dickens\", \"George Meredith\", \"W. W. (William Wymark) Jacobs\", \"William Dean Howells\", \"John Lothrop Motley\", \"Nathaniel Hawthorne\", \"Robert Louis Stevenson\"], [3424, 813, 557, 305, 214, 170, 169, 150, 135, 134, 133, 131, 128, 119, 111, 111, 103, 103, 99, 99]]}, \"header\": {\"values\": [\"Author\", \"Count\"]}, \"type\": \"table\"}],                        {\"template\": {\"data\": {\"bar\": [{\"error_x\": {\"color\": \"#2a3f5f\"}, \"error_y\": {\"color\": \"#2a3f5f\"}, \"marker\": {\"line\": {\"color\": \"#E5ECF6\", \"width\": 0.5}}, \"type\": \"bar\"}], \"barpolar\": [{\"marker\": {\"line\": {\"color\": \"#E5ECF6\", \"width\": 0.5}}, \"type\": \"barpolar\"}], \"carpet\": [{\"aaxis\": {\"endlinecolor\": \"#2a3f5f\", \"gridcolor\": \"white\", \"linecolor\": \"white\", \"minorgridcolor\": \"white\", \"startlinecolor\": \"#2a3f5f\"}, \"baxis\": {\"endlinecolor\": \"#2a3f5f\", \"gridcolor\": \"white\", \"linecolor\": \"white\", \"minorgridcolor\": \"white\", \"startlinecolor\": \"#2a3f5f\"}, \"type\": \"carpet\"}], \"choropleth\": [{\"colorbar\": {\"outlinewidth\": 0, \"ticks\": \"\"}, \"type\": \"choropleth\"}], \"contour\": [{\"colorbar\": {\"outlinewidth\": 0, \"ticks\": \"\"}, \"colorscale\": [[0.0, \"#0d0887\"], [0.1111111111111111, \"#46039f\"], [0.2222222222222222, \"#7201a8\"], [0.3333333333333333, \"#9c179e\"], [0.4444444444444444, \"#bd3786\"], [0.5555555555555556, \"#d8576b\"], [0.6666666666666666, \"#ed7953\"], [0.7777777777777778, \"#fb9f3a\"], [0.8888888888888888, \"#fdca26\"], [1.0, \"#f0f921\"]], \"type\": \"contour\"}], \"contourcarpet\": [{\"colorbar\": {\"outlinewidth\": 0, \"ticks\": \"\"}, \"type\": \"contourcarpet\"}], \"heatmap\": [{\"colorbar\": {\"outlinewidth\": 0, \"ticks\": \"\"}, \"colorscale\": [[0.0, \"#0d0887\"], [0.1111111111111111, \"#46039f\"], [0.2222222222222222, \"#7201a8\"], [0.3333333333333333, \"#9c179e\"], [0.4444444444444444, \"#bd3786\"], [0.5555555555555556, \"#d8576b\"], [0.6666666666666666, \"#ed7953\"], [0.7777777777777778, \"#fb9f3a\"], [0.8888888888888888, \"#fdca26\"], [1.0, \"#f0f921\"]], \"type\": \"heatmap\"}], \"heatmapgl\": [{\"colorbar\": {\"outlinewidth\": 0, \"ticks\": \"\"}, \"colorscale\": [[0.0, \"#0d0887\"], [0.1111111111111111, \"#46039f\"], [0.2222222222222222, \"#7201a8\"], [0.3333333333333333, \"#9c179e\"], [0.4444444444444444, \"#bd3786\"], [0.5555555555555556, \"#d8576b\"], [0.6666666666666666, \"#ed7953\"], [0.7777777777777778, \"#fb9f3a\"], [0.8888888888888888, \"#fdca26\"], [1.0, \"#f0f921\"]], \"type\": \"heatmapgl\"}], \"histogram\": [{\"marker\": {\"colorbar\": {\"outlinewidth\": 0, \"ticks\": \"\"}}, \"type\": \"histogram\"}], \"histogram2d\": [{\"colorbar\": {\"outlinewidth\": 0, \"ticks\": \"\"}, \"colorscale\": [[0.0, \"#0d0887\"], [0.1111111111111111, \"#46039f\"], [0.2222222222222222, \"#7201a8\"], [0.3333333333333333, \"#9c179e\"], [0.4444444444444444, \"#bd3786\"], [0.5555555555555556, \"#d8576b\"], [0.6666666666666666, \"#ed7953\"], [0.7777777777777778, \"#fb9f3a\"], [0.8888888888888888, \"#fdca26\"], [1.0, \"#f0f921\"]], \"type\": \"histogram2d\"}], \"histogram2dcontour\": [{\"colorbar\": {\"outlinewidth\": 0, \"ticks\": \"\"}, \"colorscale\": [[0.0, \"#0d0887\"], [0.1111111111111111, \"#46039f\"], [0.2222222222222222, \"#7201a8\"], [0.3333333333333333, \"#9c179e\"], [0.4444444444444444, \"#bd3786\"], [0.5555555555555556, \"#d8576b\"], [0.6666666666666666, \"#ed7953\"], [0.7777777777777778, \"#fb9f3a\"], [0.8888888888888888, \"#fdca26\"], [1.0, \"#f0f921\"]], \"type\": \"histogram2dcontour\"}], \"mesh3d\": [{\"colorbar\": {\"outlinewidth\": 0, \"ticks\": \"\"}, \"type\": \"mesh3d\"}], \"parcoords\": [{\"line\": {\"colorbar\": {\"outlinewidth\": 0, \"ticks\": \"\"}}, \"type\": \"parcoords\"}], \"pie\": [{\"automargin\": true, \"type\": \"pie\"}], \"scatter\": [{\"marker\": {\"colorbar\": {\"outlinewidth\": 0, \"ticks\": \"\"}}, \"type\": \"scatter\"}], \"scatter3d\": [{\"line\": {\"colorbar\": {\"outlinewidth\": 0, \"ticks\": \"\"}}, \"marker\": {\"colorbar\": {\"outlinewidth\": 0, \"ticks\": \"\"}}, \"type\": \"scatter3d\"}], \"scattercarpet\": [{\"marker\": {\"colorbar\": {\"outlinewidth\": 0, \"ticks\": \"\"}}, \"type\": \"scattercarpet\"}], \"scattergeo\": [{\"marker\": {\"colorbar\": {\"outlinewidth\": 0, \"ticks\": \"\"}}, \"type\": \"scattergeo\"}], \"scattergl\": [{\"marker\": {\"colorbar\": {\"outlinewidth\": 0, \"ticks\": \"\"}}, \"type\": \"scattergl\"}], \"scattermapbox\": [{\"marker\": {\"colorbar\": {\"outlinewidth\": 0, \"ticks\": \"\"}}, \"type\": \"scattermapbox\"}], \"scatterpolar\": [{\"marker\": {\"colorbar\": {\"outlinewidth\": 0, \"ticks\": \"\"}}, \"type\": \"scatterpolar\"}], \"scatterpolargl\": [{\"marker\": {\"colorbar\": {\"outlinewidth\": 0, \"ticks\": \"\"}}, \"type\": \"scatterpolargl\"}], \"scatterternary\": [{\"marker\": {\"colorbar\": {\"outlinewidth\": 0, \"ticks\": \"\"}}, \"type\": \"scatterternary\"}], \"surface\": [{\"colorbar\": {\"outlinewidth\": 0, \"ticks\": \"\"}, \"colorscale\": [[0.0, \"#0d0887\"], [0.1111111111111111, \"#46039f\"], [0.2222222222222222, \"#7201a8\"], [0.3333333333333333, \"#9c179e\"], [0.4444444444444444, \"#bd3786\"], [0.5555555555555556, \"#d8576b\"], [0.6666666666666666, \"#ed7953\"], [0.7777777777777778, \"#fb9f3a\"], [0.8888888888888888, \"#fdca26\"], [1.0, \"#f0f921\"]], \"type\": \"surface\"}], \"table\": [{\"cells\": {\"fill\": {\"color\": \"#EBF0F8\"}, \"line\": {\"color\": \"white\"}}, \"header\": {\"fill\": {\"color\": \"#C8D4E3\"}, \"line\": {\"color\": \"white\"}}, \"type\": \"table\"}]}, \"layout\": {\"annotationdefaults\": {\"arrowcolor\": \"#2a3f5f\", \"arrowhead\": 0, \"arrowwidth\": 1}, \"autotypenumbers\": \"strict\", \"coloraxis\": {\"colorbar\": {\"outlinewidth\": 0, \"ticks\": \"\"}}, \"colorscale\": {\"diverging\": [[0, \"#8e0152\"], [0.1, \"#c51b7d\"], [0.2, \"#de77ae\"], [0.3, \"#f1b6da\"], [0.4, \"#fde0ef\"], [0.5, \"#f7f7f7\"], [0.6, \"#e6f5d0\"], [0.7, \"#b8e186\"], [0.8, \"#7fbc41\"], [0.9, \"#4d9221\"], [1, \"#276419\"]], \"sequential\": [[0.0, \"#0d0887\"], [0.1111111111111111, \"#46039f\"], [0.2222222222222222, \"#7201a8\"], [0.3333333333333333, \"#9c179e\"], [0.4444444444444444, \"#bd3786\"], [0.5555555555555556, \"#d8576b\"], [0.6666666666666666, \"#ed7953\"], [0.7777777777777778, \"#fb9f3a\"], [0.8888888888888888, \"#fdca26\"], [1.0, \"#f0f921\"]], \"sequentialminus\": [[0.0, \"#0d0887\"], [0.1111111111111111, \"#46039f\"], [0.2222222222222222, \"#7201a8\"], [0.3333333333333333, \"#9c179e\"], [0.4444444444444444, \"#bd3786\"], [0.5555555555555556, \"#d8576b\"], [0.6666666666666666, \"#ed7953\"], [0.7777777777777778, \"#fb9f3a\"], [0.8888888888888888, \"#fdca26\"], [1.0, \"#f0f921\"]]}, \"colorway\": [\"#636efa\", \"#EF553B\", \"#00cc96\", \"#ab63fa\", \"#FFA15A\", \"#19d3f3\", \"#FF6692\", \"#B6E880\", \"#FF97FF\", \"#FECB52\"], \"font\": {\"color\": \"#2a3f5f\"}, \"geo\": {\"bgcolor\": \"white\", \"lakecolor\": \"white\", \"landcolor\": \"#E5ECF6\", \"showlakes\": true, \"showland\": true, \"subunitcolor\": \"white\"}, \"hoverlabel\": {\"align\": \"left\"}, \"hovermode\": \"closest\", \"mapbox\": {\"style\": \"light\"}, \"paper_bgcolor\": \"white\", \"plot_bgcolor\": \"#E5ECF6\", \"polar\": {\"angularaxis\": {\"gridcolor\": \"white\", \"linecolor\": \"white\", \"ticks\": \"\"}, \"bgcolor\": \"#E5ECF6\", \"radialaxis\": {\"gridcolor\": \"white\", \"linecolor\": \"white\", \"ticks\": \"\"}}, \"scene\": {\"xaxis\": {\"backgroundcolor\": \"#E5ECF6\", \"gridcolor\": \"white\", \"gridwidth\": 2, \"linecolor\": \"white\", \"showbackground\": true, \"ticks\": \"\", \"zerolinecolor\": \"white\"}, \"yaxis\": {\"backgroundcolor\": \"#E5ECF6\", \"gridcolor\": \"white\", \"gridwidth\": 2, \"linecolor\": \"white\", \"showbackground\": true, \"ticks\": \"\", \"zerolinecolor\": \"white\"}, \"zaxis\": {\"backgroundcolor\": \"#E5ECF6\", \"gridcolor\": \"white\", \"gridwidth\": 2, \"linecolor\": \"white\", \"showbackground\": true, \"ticks\": \"\", \"zerolinecolor\": \"white\"}}, \"shapedefaults\": {\"line\": {\"color\": \"#2a3f5f\"}}, \"ternary\": {\"aaxis\": {\"gridcolor\": \"white\", \"linecolor\": \"white\", \"ticks\": \"\"}, \"baxis\": {\"gridcolor\": \"white\", \"linecolor\": \"white\", \"ticks\": \"\"}, \"bgcolor\": \"#E5ECF6\", \"caxis\": {\"gridcolor\": \"white\", \"linecolor\": \"white\", \"ticks\": \"\"}}, \"title\": {\"x\": 0.05}, \"xaxis\": {\"automargin\": true, \"gridcolor\": \"white\", \"linecolor\": \"white\", \"ticks\": \"\", \"title\": {\"standoff\": 15}, \"zerolinecolor\": \"white\", \"zerolinewidth\": 2}, \"yaxis\": {\"automargin\": true, \"gridcolor\": \"white\", \"linecolor\": \"white\", \"ticks\": \"\", \"title\": {\"standoff\": 15}, \"zerolinecolor\": \"white\", \"zerolinewidth\": 2}}}},                        {\"responsive\": true}                    ).then(function(){\n",
       "                            \n",
       "var gd = document.getElementById('a3b34a96-5b89-4aec-b063-e185e6cc0cd5');\n",
       "var x = new MutationObserver(function (mutations, observer) {{\n",
       "        var display = window.getComputedStyle(gd).display;\n",
       "        if (!display || display === 'none') {{\n",
       "            console.log([gd, 'removed!']);\n",
       "            Plotly.purge(gd);\n",
       "            observer.disconnect();\n",
       "        }}\n",
       "}});\n",
       "\n",
       "// Listen for the removal of the full notebook cells\n",
       "var notebookContainer = gd.closest('#notebook-container');\n",
       "if (notebookContainer) {{\n",
       "    x.observe(notebookContainer, {childList: true});\n",
       "}}\n",
       "\n",
       "// Listen for the clearing of the current output cell\n",
       "var outputEl = gd.closest('.output');\n",
       "if (outputEl) {{\n",
       "    x.observe(outputEl, {childList: true});\n",
       "}}\n",
       "\n",
       "                        })                };                });            </script>        </div>"
      ]
     },
     "metadata": {},
     "output_type": "display_data"
    }
   ],
   "source": [
    "# top authors\n",
    "unique_authors = {}\n",
    "def count_authors(author_list):\n",
    "    if not isinstance(author_list, list):\n",
    "        author_list = ['None Available']\n",
    "    for val in author_list:\n",
    "        if val in unique_authors:\n",
    "            unique_authors[val] +=1 \n",
    "        else: \n",
    "            unique_authors[val] = 1\n",
    "    return len(author_list)\n",
    "            \n",
    "metadata['Number of Authors'] = metadata.apply(lambda row : count_authors(row['Author']), axis = 1)\n",
    "top_20_authors = sorted(unique_authors.items(), key=lambda x: x[1], reverse = True)[:20]\n",
    "top_20_authors =  [list(x) for x in top_20_authors]\n",
    "top_20_authors_names = [x[0] for x in top_20_authors]\n",
    "top_20_authors_counts = [x[1] for x in top_20_authors]\n",
    "\n",
    "fig = go.Figure(data=[go.Table(header=dict(values=['Author', 'Count']),\n",
    "                 cells=dict(values=[top_20_authors_names,top_20_authors_counts] ))\n",
    "                     ])\n",
    "fig.show()"
   ]
  },
  {
   "cell_type": "code",
   "execution_count": 37,
   "id": "38010ca1",
   "metadata": {},
   "outputs": [
    {
     "data": {
      "application/vnd.plotly.v1+json": {
       "config": {
        "plotlyServerURL": "https://plot.ly"
       },
       "data": [
        {
         "cells": {
          "values": [
           [
            "None Available",
            "Fiction",
            "Short stories",
            "Science fiction",
            "English wit and humor -- Periodicals",
            "Adventure stories",
            "Poetry",
            "Detective and mystery stories",
            "Historical fiction",
            "Love stories",
            "Conduct of life -- Juvenile fiction",
            "Western stories",
            "England -- Fiction",
            "Questions and answers -- Periodicals",
            "Fairy tales",
            "Essays",
            "Illustrated periodicals -- France",
            "Children's stories",
            "Man-woman relationships -- Fiction",
            "Humorous stories"
           ],
           [
            8535,
            1120,
            1091,
            983,
            542,
            410,
            404,
            404,
            328,
            319,
            267,
            234,
            219,
            219,
            212,
            193,
            178,
            177,
            171,
            166
           ]
          ]
         },
         "header": {
          "values": [
           "Genre",
           "Count"
          ]
         },
         "type": "table"
        }
       ],
       "layout": {
        "template": {
         "data": {
          "bar": [
           {
            "error_x": {
             "color": "#2a3f5f"
            },
            "error_y": {
             "color": "#2a3f5f"
            },
            "marker": {
             "line": {
              "color": "#E5ECF6",
              "width": 0.5
             }
            },
            "type": "bar"
           }
          ],
          "barpolar": [
           {
            "marker": {
             "line": {
              "color": "#E5ECF6",
              "width": 0.5
             }
            },
            "type": "barpolar"
           }
          ],
          "carpet": [
           {
            "aaxis": {
             "endlinecolor": "#2a3f5f",
             "gridcolor": "white",
             "linecolor": "white",
             "minorgridcolor": "white",
             "startlinecolor": "#2a3f5f"
            },
            "baxis": {
             "endlinecolor": "#2a3f5f",
             "gridcolor": "white",
             "linecolor": "white",
             "minorgridcolor": "white",
             "startlinecolor": "#2a3f5f"
            },
            "type": "carpet"
           }
          ],
          "choropleth": [
           {
            "colorbar": {
             "outlinewidth": 0,
             "ticks": ""
            },
            "type": "choropleth"
           }
          ],
          "contour": [
           {
            "colorbar": {
             "outlinewidth": 0,
             "ticks": ""
            },
            "colorscale": [
             [
              0,
              "#0d0887"
             ],
             [
              0.1111111111111111,
              "#46039f"
             ],
             [
              0.2222222222222222,
              "#7201a8"
             ],
             [
              0.3333333333333333,
              "#9c179e"
             ],
             [
              0.4444444444444444,
              "#bd3786"
             ],
             [
              0.5555555555555556,
              "#d8576b"
             ],
             [
              0.6666666666666666,
              "#ed7953"
             ],
             [
              0.7777777777777778,
              "#fb9f3a"
             ],
             [
              0.8888888888888888,
              "#fdca26"
             ],
             [
              1,
              "#f0f921"
             ]
            ],
            "type": "contour"
           }
          ],
          "contourcarpet": [
           {
            "colorbar": {
             "outlinewidth": 0,
             "ticks": ""
            },
            "type": "contourcarpet"
           }
          ],
          "heatmap": [
           {
            "colorbar": {
             "outlinewidth": 0,
             "ticks": ""
            },
            "colorscale": [
             [
              0,
              "#0d0887"
             ],
             [
              0.1111111111111111,
              "#46039f"
             ],
             [
              0.2222222222222222,
              "#7201a8"
             ],
             [
              0.3333333333333333,
              "#9c179e"
             ],
             [
              0.4444444444444444,
              "#bd3786"
             ],
             [
              0.5555555555555556,
              "#d8576b"
             ],
             [
              0.6666666666666666,
              "#ed7953"
             ],
             [
              0.7777777777777778,
              "#fb9f3a"
             ],
             [
              0.8888888888888888,
              "#fdca26"
             ],
             [
              1,
              "#f0f921"
             ]
            ],
            "type": "heatmap"
           }
          ],
          "heatmapgl": [
           {
            "colorbar": {
             "outlinewidth": 0,
             "ticks": ""
            },
            "colorscale": [
             [
              0,
              "#0d0887"
             ],
             [
              0.1111111111111111,
              "#46039f"
             ],
             [
              0.2222222222222222,
              "#7201a8"
             ],
             [
              0.3333333333333333,
              "#9c179e"
             ],
             [
              0.4444444444444444,
              "#bd3786"
             ],
             [
              0.5555555555555556,
              "#d8576b"
             ],
             [
              0.6666666666666666,
              "#ed7953"
             ],
             [
              0.7777777777777778,
              "#fb9f3a"
             ],
             [
              0.8888888888888888,
              "#fdca26"
             ],
             [
              1,
              "#f0f921"
             ]
            ],
            "type": "heatmapgl"
           }
          ],
          "histogram": [
           {
            "marker": {
             "colorbar": {
              "outlinewidth": 0,
              "ticks": ""
             }
            },
            "type": "histogram"
           }
          ],
          "histogram2d": [
           {
            "colorbar": {
             "outlinewidth": 0,
             "ticks": ""
            },
            "colorscale": [
             [
              0,
              "#0d0887"
             ],
             [
              0.1111111111111111,
              "#46039f"
             ],
             [
              0.2222222222222222,
              "#7201a8"
             ],
             [
              0.3333333333333333,
              "#9c179e"
             ],
             [
              0.4444444444444444,
              "#bd3786"
             ],
             [
              0.5555555555555556,
              "#d8576b"
             ],
             [
              0.6666666666666666,
              "#ed7953"
             ],
             [
              0.7777777777777778,
              "#fb9f3a"
             ],
             [
              0.8888888888888888,
              "#fdca26"
             ],
             [
              1,
              "#f0f921"
             ]
            ],
            "type": "histogram2d"
           }
          ],
          "histogram2dcontour": [
           {
            "colorbar": {
             "outlinewidth": 0,
             "ticks": ""
            },
            "colorscale": [
             [
              0,
              "#0d0887"
             ],
             [
              0.1111111111111111,
              "#46039f"
             ],
             [
              0.2222222222222222,
              "#7201a8"
             ],
             [
              0.3333333333333333,
              "#9c179e"
             ],
             [
              0.4444444444444444,
              "#bd3786"
             ],
             [
              0.5555555555555556,
              "#d8576b"
             ],
             [
              0.6666666666666666,
              "#ed7953"
             ],
             [
              0.7777777777777778,
              "#fb9f3a"
             ],
             [
              0.8888888888888888,
              "#fdca26"
             ],
             [
              1,
              "#f0f921"
             ]
            ],
            "type": "histogram2dcontour"
           }
          ],
          "mesh3d": [
           {
            "colorbar": {
             "outlinewidth": 0,
             "ticks": ""
            },
            "type": "mesh3d"
           }
          ],
          "parcoords": [
           {
            "line": {
             "colorbar": {
              "outlinewidth": 0,
              "ticks": ""
             }
            },
            "type": "parcoords"
           }
          ],
          "pie": [
           {
            "automargin": true,
            "type": "pie"
           }
          ],
          "scatter": [
           {
            "marker": {
             "colorbar": {
              "outlinewidth": 0,
              "ticks": ""
             }
            },
            "type": "scatter"
           }
          ],
          "scatter3d": [
           {
            "line": {
             "colorbar": {
              "outlinewidth": 0,
              "ticks": ""
             }
            },
            "marker": {
             "colorbar": {
              "outlinewidth": 0,
              "ticks": ""
             }
            },
            "type": "scatter3d"
           }
          ],
          "scattercarpet": [
           {
            "marker": {
             "colorbar": {
              "outlinewidth": 0,
              "ticks": ""
             }
            },
            "type": "scattercarpet"
           }
          ],
          "scattergeo": [
           {
            "marker": {
             "colorbar": {
              "outlinewidth": 0,
              "ticks": ""
             }
            },
            "type": "scattergeo"
           }
          ],
          "scattergl": [
           {
            "marker": {
             "colorbar": {
              "outlinewidth": 0,
              "ticks": ""
             }
            },
            "type": "scattergl"
           }
          ],
          "scattermapbox": [
           {
            "marker": {
             "colorbar": {
              "outlinewidth": 0,
              "ticks": ""
             }
            },
            "type": "scattermapbox"
           }
          ],
          "scatterpolar": [
           {
            "marker": {
             "colorbar": {
              "outlinewidth": 0,
              "ticks": ""
             }
            },
            "type": "scatterpolar"
           }
          ],
          "scatterpolargl": [
           {
            "marker": {
             "colorbar": {
              "outlinewidth": 0,
              "ticks": ""
             }
            },
            "type": "scatterpolargl"
           }
          ],
          "scatterternary": [
           {
            "marker": {
             "colorbar": {
              "outlinewidth": 0,
              "ticks": ""
             }
            },
            "type": "scatterternary"
           }
          ],
          "surface": [
           {
            "colorbar": {
             "outlinewidth": 0,
             "ticks": ""
            },
            "colorscale": [
             [
              0,
              "#0d0887"
             ],
             [
              0.1111111111111111,
              "#46039f"
             ],
             [
              0.2222222222222222,
              "#7201a8"
             ],
             [
              0.3333333333333333,
              "#9c179e"
             ],
             [
              0.4444444444444444,
              "#bd3786"
             ],
             [
              0.5555555555555556,
              "#d8576b"
             ],
             [
              0.6666666666666666,
              "#ed7953"
             ],
             [
              0.7777777777777778,
              "#fb9f3a"
             ],
             [
              0.8888888888888888,
              "#fdca26"
             ],
             [
              1,
              "#f0f921"
             ]
            ],
            "type": "surface"
           }
          ],
          "table": [
           {
            "cells": {
             "fill": {
              "color": "#EBF0F8"
             },
             "line": {
              "color": "white"
             }
            },
            "header": {
             "fill": {
              "color": "#C8D4E3"
             },
             "line": {
              "color": "white"
             }
            },
            "type": "table"
           }
          ]
         },
         "layout": {
          "annotationdefaults": {
           "arrowcolor": "#2a3f5f",
           "arrowhead": 0,
           "arrowwidth": 1
          },
          "autotypenumbers": "strict",
          "coloraxis": {
           "colorbar": {
            "outlinewidth": 0,
            "ticks": ""
           }
          },
          "colorscale": {
           "diverging": [
            [
             0,
             "#8e0152"
            ],
            [
             0.1,
             "#c51b7d"
            ],
            [
             0.2,
             "#de77ae"
            ],
            [
             0.3,
             "#f1b6da"
            ],
            [
             0.4,
             "#fde0ef"
            ],
            [
             0.5,
             "#f7f7f7"
            ],
            [
             0.6,
             "#e6f5d0"
            ],
            [
             0.7,
             "#b8e186"
            ],
            [
             0.8,
             "#7fbc41"
            ],
            [
             0.9,
             "#4d9221"
            ],
            [
             1,
             "#276419"
            ]
           ],
           "sequential": [
            [
             0,
             "#0d0887"
            ],
            [
             0.1111111111111111,
             "#46039f"
            ],
            [
             0.2222222222222222,
             "#7201a8"
            ],
            [
             0.3333333333333333,
             "#9c179e"
            ],
            [
             0.4444444444444444,
             "#bd3786"
            ],
            [
             0.5555555555555556,
             "#d8576b"
            ],
            [
             0.6666666666666666,
             "#ed7953"
            ],
            [
             0.7777777777777778,
             "#fb9f3a"
            ],
            [
             0.8888888888888888,
             "#fdca26"
            ],
            [
             1,
             "#f0f921"
            ]
           ],
           "sequentialminus": [
            [
             0,
             "#0d0887"
            ],
            [
             0.1111111111111111,
             "#46039f"
            ],
            [
             0.2222222222222222,
             "#7201a8"
            ],
            [
             0.3333333333333333,
             "#9c179e"
            ],
            [
             0.4444444444444444,
             "#bd3786"
            ],
            [
             0.5555555555555556,
             "#d8576b"
            ],
            [
             0.6666666666666666,
             "#ed7953"
            ],
            [
             0.7777777777777778,
             "#fb9f3a"
            ],
            [
             0.8888888888888888,
             "#fdca26"
            ],
            [
             1,
             "#f0f921"
            ]
           ]
          },
          "colorway": [
           "#636efa",
           "#EF553B",
           "#00cc96",
           "#ab63fa",
           "#FFA15A",
           "#19d3f3",
           "#FF6692",
           "#B6E880",
           "#FF97FF",
           "#FECB52"
          ],
          "font": {
           "color": "#2a3f5f"
          },
          "geo": {
           "bgcolor": "white",
           "lakecolor": "white",
           "landcolor": "#E5ECF6",
           "showlakes": true,
           "showland": true,
           "subunitcolor": "white"
          },
          "hoverlabel": {
           "align": "left"
          },
          "hovermode": "closest",
          "mapbox": {
           "style": "light"
          },
          "paper_bgcolor": "white",
          "plot_bgcolor": "#E5ECF6",
          "polar": {
           "angularaxis": {
            "gridcolor": "white",
            "linecolor": "white",
            "ticks": ""
           },
           "bgcolor": "#E5ECF6",
           "radialaxis": {
            "gridcolor": "white",
            "linecolor": "white",
            "ticks": ""
           }
          },
          "scene": {
           "xaxis": {
            "backgroundcolor": "#E5ECF6",
            "gridcolor": "white",
            "gridwidth": 2,
            "linecolor": "white",
            "showbackground": true,
            "ticks": "",
            "zerolinecolor": "white"
           },
           "yaxis": {
            "backgroundcolor": "#E5ECF6",
            "gridcolor": "white",
            "gridwidth": 2,
            "linecolor": "white",
            "showbackground": true,
            "ticks": "",
            "zerolinecolor": "white"
           },
           "zaxis": {
            "backgroundcolor": "#E5ECF6",
            "gridcolor": "white",
            "gridwidth": 2,
            "linecolor": "white",
            "showbackground": true,
            "ticks": "",
            "zerolinecolor": "white"
           }
          },
          "shapedefaults": {
           "line": {
            "color": "#2a3f5f"
           }
          },
          "ternary": {
           "aaxis": {
            "gridcolor": "white",
            "linecolor": "white",
            "ticks": ""
           },
           "baxis": {
            "gridcolor": "white",
            "linecolor": "white",
            "ticks": ""
           },
           "bgcolor": "#E5ECF6",
           "caxis": {
            "gridcolor": "white",
            "linecolor": "white",
            "ticks": ""
           }
          },
          "title": {
           "x": 0.05
          },
          "xaxis": {
           "automargin": true,
           "gridcolor": "white",
           "linecolor": "white",
           "ticks": "",
           "title": {
            "standoff": 15
           },
           "zerolinecolor": "white",
           "zerolinewidth": 2
          },
          "yaxis": {
           "automargin": true,
           "gridcolor": "white",
           "linecolor": "white",
           "ticks": "",
           "title": {
            "standoff": 15
           },
           "zerolinecolor": "white",
           "zerolinewidth": 2
          }
         }
        }
       }
      },
      "text/html": [
       "<div>                            <div id=\"c5ba0918-fc23-487b-8d66-e2aa4147aece\" class=\"plotly-graph-div\" style=\"height:525px; width:100%;\"></div>            <script type=\"text/javascript\">                require([\"plotly\"], function(Plotly) {                    window.PLOTLYENV=window.PLOTLYENV || {};                                    if (document.getElementById(\"c5ba0918-fc23-487b-8d66-e2aa4147aece\")) {                    Plotly.newPlot(                        \"c5ba0918-fc23-487b-8d66-e2aa4147aece\",                        [{\"cells\": {\"values\": [[\"None Available\", \"Fiction\", \"Short stories\", \"Science fiction\", \"English wit and humor -- Periodicals\", \"Adventure stories\", \"Poetry\", \"Detective and mystery stories\", \"Historical fiction\", \"Love stories\", \"Conduct of life -- Juvenile fiction\", \"Western stories\", \"England -- Fiction\", \"Questions and answers -- Periodicals\", \"Fairy tales\", \"Essays\", \"Illustrated periodicals -- France\", \"Children's stories\", \"Man-woman relationships -- Fiction\", \"Humorous stories\"], [8535, 1120, 1091, 983, 542, 410, 404, 404, 328, 319, 267, 234, 219, 219, 212, 193, 178, 177, 171, 166]]}, \"header\": {\"values\": [\"Genre\", \"Count\"]}, \"type\": \"table\"}],                        {\"template\": {\"data\": {\"bar\": [{\"error_x\": {\"color\": \"#2a3f5f\"}, \"error_y\": {\"color\": \"#2a3f5f\"}, \"marker\": {\"line\": {\"color\": \"#E5ECF6\", \"width\": 0.5}}, \"type\": \"bar\"}], \"barpolar\": [{\"marker\": {\"line\": {\"color\": \"#E5ECF6\", \"width\": 0.5}}, \"type\": \"barpolar\"}], \"carpet\": [{\"aaxis\": {\"endlinecolor\": \"#2a3f5f\", \"gridcolor\": \"white\", \"linecolor\": \"white\", \"minorgridcolor\": \"white\", \"startlinecolor\": \"#2a3f5f\"}, \"baxis\": {\"endlinecolor\": \"#2a3f5f\", \"gridcolor\": \"white\", \"linecolor\": \"white\", \"minorgridcolor\": \"white\", \"startlinecolor\": \"#2a3f5f\"}, \"type\": \"carpet\"}], \"choropleth\": [{\"colorbar\": {\"outlinewidth\": 0, \"ticks\": \"\"}, \"type\": \"choropleth\"}], \"contour\": [{\"colorbar\": {\"outlinewidth\": 0, \"ticks\": \"\"}, \"colorscale\": [[0.0, \"#0d0887\"], [0.1111111111111111, \"#46039f\"], [0.2222222222222222, \"#7201a8\"], [0.3333333333333333, \"#9c179e\"], [0.4444444444444444, \"#bd3786\"], [0.5555555555555556, \"#d8576b\"], [0.6666666666666666, \"#ed7953\"], [0.7777777777777778, \"#fb9f3a\"], [0.8888888888888888, \"#fdca26\"], [1.0, \"#f0f921\"]], \"type\": \"contour\"}], \"contourcarpet\": [{\"colorbar\": {\"outlinewidth\": 0, \"ticks\": \"\"}, \"type\": \"contourcarpet\"}], \"heatmap\": [{\"colorbar\": {\"outlinewidth\": 0, \"ticks\": \"\"}, \"colorscale\": [[0.0, \"#0d0887\"], [0.1111111111111111, \"#46039f\"], [0.2222222222222222, \"#7201a8\"], [0.3333333333333333, \"#9c179e\"], [0.4444444444444444, \"#bd3786\"], [0.5555555555555556, \"#d8576b\"], [0.6666666666666666, \"#ed7953\"], [0.7777777777777778, \"#fb9f3a\"], [0.8888888888888888, \"#fdca26\"], [1.0, \"#f0f921\"]], \"type\": \"heatmap\"}], \"heatmapgl\": [{\"colorbar\": {\"outlinewidth\": 0, \"ticks\": \"\"}, \"colorscale\": [[0.0, \"#0d0887\"], [0.1111111111111111, \"#46039f\"], [0.2222222222222222, \"#7201a8\"], [0.3333333333333333, \"#9c179e\"], [0.4444444444444444, \"#bd3786\"], [0.5555555555555556, \"#d8576b\"], [0.6666666666666666, \"#ed7953\"], [0.7777777777777778, \"#fb9f3a\"], [0.8888888888888888, \"#fdca26\"], [1.0, \"#f0f921\"]], \"type\": \"heatmapgl\"}], \"histogram\": [{\"marker\": {\"colorbar\": {\"outlinewidth\": 0, \"ticks\": \"\"}}, \"type\": \"histogram\"}], \"histogram2d\": [{\"colorbar\": {\"outlinewidth\": 0, \"ticks\": \"\"}, \"colorscale\": [[0.0, \"#0d0887\"], [0.1111111111111111, \"#46039f\"], [0.2222222222222222, \"#7201a8\"], [0.3333333333333333, \"#9c179e\"], [0.4444444444444444, \"#bd3786\"], [0.5555555555555556, \"#d8576b\"], [0.6666666666666666, \"#ed7953\"], [0.7777777777777778, \"#fb9f3a\"], [0.8888888888888888, \"#fdca26\"], [1.0, \"#f0f921\"]], \"type\": \"histogram2d\"}], \"histogram2dcontour\": [{\"colorbar\": {\"outlinewidth\": 0, \"ticks\": \"\"}, \"colorscale\": [[0.0, \"#0d0887\"], [0.1111111111111111, \"#46039f\"], [0.2222222222222222, \"#7201a8\"], [0.3333333333333333, \"#9c179e\"], [0.4444444444444444, \"#bd3786\"], [0.5555555555555556, \"#d8576b\"], [0.6666666666666666, \"#ed7953\"], [0.7777777777777778, \"#fb9f3a\"], [0.8888888888888888, \"#fdca26\"], [1.0, \"#f0f921\"]], \"type\": \"histogram2dcontour\"}], \"mesh3d\": [{\"colorbar\": {\"outlinewidth\": 0, \"ticks\": \"\"}, \"type\": \"mesh3d\"}], \"parcoords\": [{\"line\": {\"colorbar\": {\"outlinewidth\": 0, \"ticks\": \"\"}}, \"type\": \"parcoords\"}], \"pie\": [{\"automargin\": true, \"type\": \"pie\"}], \"scatter\": [{\"marker\": {\"colorbar\": {\"outlinewidth\": 0, \"ticks\": \"\"}}, \"type\": \"scatter\"}], \"scatter3d\": [{\"line\": {\"colorbar\": {\"outlinewidth\": 0, \"ticks\": \"\"}}, \"marker\": {\"colorbar\": {\"outlinewidth\": 0, \"ticks\": \"\"}}, \"type\": \"scatter3d\"}], \"scattercarpet\": [{\"marker\": {\"colorbar\": {\"outlinewidth\": 0, \"ticks\": \"\"}}, \"type\": \"scattercarpet\"}], \"scattergeo\": [{\"marker\": {\"colorbar\": {\"outlinewidth\": 0, \"ticks\": \"\"}}, \"type\": \"scattergeo\"}], \"scattergl\": [{\"marker\": {\"colorbar\": {\"outlinewidth\": 0, \"ticks\": \"\"}}, \"type\": \"scattergl\"}], \"scattermapbox\": [{\"marker\": {\"colorbar\": {\"outlinewidth\": 0, \"ticks\": \"\"}}, \"type\": \"scattermapbox\"}], \"scatterpolar\": [{\"marker\": {\"colorbar\": {\"outlinewidth\": 0, \"ticks\": \"\"}}, \"type\": \"scatterpolar\"}], \"scatterpolargl\": [{\"marker\": {\"colorbar\": {\"outlinewidth\": 0, \"ticks\": \"\"}}, \"type\": \"scatterpolargl\"}], \"scatterternary\": [{\"marker\": {\"colorbar\": {\"outlinewidth\": 0, \"ticks\": \"\"}}, \"type\": \"scatterternary\"}], \"surface\": [{\"colorbar\": {\"outlinewidth\": 0, \"ticks\": \"\"}, \"colorscale\": [[0.0, \"#0d0887\"], [0.1111111111111111, \"#46039f\"], [0.2222222222222222, \"#7201a8\"], [0.3333333333333333, \"#9c179e\"], [0.4444444444444444, \"#bd3786\"], [0.5555555555555556, \"#d8576b\"], [0.6666666666666666, \"#ed7953\"], [0.7777777777777778, \"#fb9f3a\"], [0.8888888888888888, \"#fdca26\"], [1.0, \"#f0f921\"]], \"type\": \"surface\"}], \"table\": [{\"cells\": {\"fill\": {\"color\": \"#EBF0F8\"}, \"line\": {\"color\": \"white\"}}, \"header\": {\"fill\": {\"color\": \"#C8D4E3\"}, \"line\": {\"color\": \"white\"}}, \"type\": \"table\"}]}, \"layout\": {\"annotationdefaults\": {\"arrowcolor\": \"#2a3f5f\", \"arrowhead\": 0, \"arrowwidth\": 1}, \"autotypenumbers\": \"strict\", \"coloraxis\": {\"colorbar\": {\"outlinewidth\": 0, \"ticks\": \"\"}}, \"colorscale\": {\"diverging\": [[0, \"#8e0152\"], [0.1, \"#c51b7d\"], [0.2, \"#de77ae\"], [0.3, \"#f1b6da\"], [0.4, \"#fde0ef\"], [0.5, \"#f7f7f7\"], [0.6, \"#e6f5d0\"], [0.7, \"#b8e186\"], [0.8, \"#7fbc41\"], [0.9, \"#4d9221\"], [1, \"#276419\"]], \"sequential\": [[0.0, \"#0d0887\"], [0.1111111111111111, \"#46039f\"], [0.2222222222222222, \"#7201a8\"], [0.3333333333333333, \"#9c179e\"], [0.4444444444444444, \"#bd3786\"], [0.5555555555555556, \"#d8576b\"], [0.6666666666666666, \"#ed7953\"], [0.7777777777777778, \"#fb9f3a\"], [0.8888888888888888, \"#fdca26\"], [1.0, \"#f0f921\"]], \"sequentialminus\": [[0.0, \"#0d0887\"], [0.1111111111111111, \"#46039f\"], [0.2222222222222222, \"#7201a8\"], [0.3333333333333333, \"#9c179e\"], [0.4444444444444444, \"#bd3786\"], [0.5555555555555556, \"#d8576b\"], [0.6666666666666666, \"#ed7953\"], [0.7777777777777778, \"#fb9f3a\"], [0.8888888888888888, \"#fdca26\"], [1.0, \"#f0f921\"]]}, \"colorway\": [\"#636efa\", \"#EF553B\", \"#00cc96\", \"#ab63fa\", \"#FFA15A\", \"#19d3f3\", \"#FF6692\", \"#B6E880\", \"#FF97FF\", \"#FECB52\"], \"font\": {\"color\": \"#2a3f5f\"}, \"geo\": {\"bgcolor\": \"white\", \"lakecolor\": \"white\", \"landcolor\": \"#E5ECF6\", \"showlakes\": true, \"showland\": true, \"subunitcolor\": \"white\"}, \"hoverlabel\": {\"align\": \"left\"}, \"hovermode\": \"closest\", \"mapbox\": {\"style\": \"light\"}, \"paper_bgcolor\": \"white\", \"plot_bgcolor\": \"#E5ECF6\", \"polar\": {\"angularaxis\": {\"gridcolor\": \"white\", \"linecolor\": \"white\", \"ticks\": \"\"}, \"bgcolor\": \"#E5ECF6\", \"radialaxis\": {\"gridcolor\": \"white\", \"linecolor\": \"white\", \"ticks\": \"\"}}, \"scene\": {\"xaxis\": {\"backgroundcolor\": \"#E5ECF6\", \"gridcolor\": \"white\", \"gridwidth\": 2, \"linecolor\": \"white\", \"showbackground\": true, \"ticks\": \"\", \"zerolinecolor\": \"white\"}, \"yaxis\": {\"backgroundcolor\": \"#E5ECF6\", \"gridcolor\": \"white\", \"gridwidth\": 2, \"linecolor\": \"white\", \"showbackground\": true, \"ticks\": \"\", \"zerolinecolor\": \"white\"}, \"zaxis\": {\"backgroundcolor\": \"#E5ECF6\", \"gridcolor\": \"white\", \"gridwidth\": 2, \"linecolor\": \"white\", \"showbackground\": true, \"ticks\": \"\", \"zerolinecolor\": \"white\"}}, \"shapedefaults\": {\"line\": {\"color\": \"#2a3f5f\"}}, \"ternary\": {\"aaxis\": {\"gridcolor\": \"white\", \"linecolor\": \"white\", \"ticks\": \"\"}, \"baxis\": {\"gridcolor\": \"white\", \"linecolor\": \"white\", \"ticks\": \"\"}, \"bgcolor\": \"#E5ECF6\", \"caxis\": {\"gridcolor\": \"white\", \"linecolor\": \"white\", \"ticks\": \"\"}}, \"title\": {\"x\": 0.05}, \"xaxis\": {\"automargin\": true, \"gridcolor\": \"white\", \"linecolor\": \"white\", \"ticks\": \"\", \"title\": {\"standoff\": 15}, \"zerolinecolor\": \"white\", \"zerolinewidth\": 2}, \"yaxis\": {\"automargin\": true, \"gridcolor\": \"white\", \"linecolor\": \"white\", \"ticks\": \"\", \"title\": {\"standoff\": 15}, \"zerolinecolor\": \"white\", \"zerolinewidth\": 2}}}},                        {\"responsive\": true}                    ).then(function(){\n",
       "                            \n",
       "var gd = document.getElementById('c5ba0918-fc23-487b-8d66-e2aa4147aece');\n",
       "var x = new MutationObserver(function (mutations, observer) {{\n",
       "        var display = window.getComputedStyle(gd).display;\n",
       "        if (!display || display === 'none') {{\n",
       "            console.log([gd, 'removed!']);\n",
       "            Plotly.purge(gd);\n",
       "            observer.disconnect();\n",
       "        }}\n",
       "}});\n",
       "\n",
       "// Listen for the removal of the full notebook cells\n",
       "var notebookContainer = gd.closest('#notebook-container');\n",
       "if (notebookContainer) {{\n",
       "    x.observe(notebookContainer, {childList: true});\n",
       "}}\n",
       "\n",
       "// Listen for the clearing of the current output cell\n",
       "var outputEl = gd.closest('.output');\n",
       "if (outputEl) {{\n",
       "    x.observe(outputEl, {childList: true});\n",
       "}}\n",
       "\n",
       "                        })                };                });            </script>        </div>"
      ]
     },
     "metadata": {},
     "output_type": "display_data"
    }
   ],
   "source": [
    "# top genres\n",
    "unique_genres = {}\n",
    "\n",
    "def count_genres(genre_list):\n",
    "    if not isinstance(genre_list, list):\n",
    "        genre_list = ['None Available']\n",
    "    for val in genre_list:\n",
    "        if val in unique_genres:\n",
    "            unique_genres[val] +=1 \n",
    "        else: \n",
    "            unique_genres[val] = 1\n",
    "    return len(genre_list)\n",
    "\n",
    "metadata['Number of Genres'] = metadata.apply(lambda row : count_genres(row['Subject']), axis = 1)\n",
    "top_20_genres = sorted(unique_genres.items(), key=lambda x: x[1], reverse = True)[:20]\n",
    "top_20_genres =  [list(x) for x in top_20_genres]\n",
    "top_20_genre_name = [x[0] for x in top_20_genres]\n",
    "top_20_genre_counts = [x[1] for x in top_20_genres]\n",
    "\n",
    "fig = go.Figure(data=[go.Table(header=dict(values=['Genre', 'Count']),\n",
    "                 cells=dict(values=[top_20_genre_name,top_20_genre_counts] ))\n",
    "                     ])\n",
    "fig.show()"
   ]
  },
  {
   "cell_type": "code",
   "execution_count": 38,
   "id": "21debf2b",
   "metadata": {},
   "outputs": [
    {
     "name": "stdout",
     "output_type": "stream",
     "text": [
      "Total number of books: 50729\n",
      "Books without a subject: 8535\n",
      "Books with English language: 41485\n",
      "Unique authors: 18462\n"
     ]
    }
   ],
   "source": [
    "# entire corpus stats \n",
    "print('Total number of books: ' + str(metadata.shape[0]))\n",
    "print('Books without a subject: ' + str(metadata[metadata['Subject'].isnull()].shape[0]))\n",
    "print('Books with English language: ' + str(metadata.loc[metadata['Language'].isin([['English']])].shape[0]))\n",
    "print('Unique authors: ' + str(len(unique_authors)))"
   ]
  },
  {
   "cell_type": "code",
   "execution_count": 39,
   "id": "c01a62d4",
   "metadata": {},
   "outputs": [
    {
     "name": "stderr",
     "output_type": "stream",
     "text": [
      "/tmp/ipykernel_168800/1537361346.py:4: SettingWithCopyWarning:\n",
      "\n",
      "\n",
      "A value is trying to be set on a copy of a slice from a DataFrame.\n",
      "Try using .loc[row_indexer,col_indexer] = value instead\n",
      "\n",
      "See the caveats in the documentation: https://pandas.pydata.org/pandas-docs/stable/user_guide/indexing.html#returning-a-view-versus-a-copy\n",
      "\n",
      "/tmp/ipykernel_168800/1537361346.py:5: SettingWithCopyWarning:\n",
      "\n",
      "\n",
      "A value is trying to be set on a copy of a slice from a DataFrame.\n",
      "Try using .loc[row_indexer,col_indexer] = value instead\n",
      "\n",
      "See the caveats in the documentation: https://pandas.pydata.org/pandas-docs/stable/user_guide/indexing.html#returning-a-view-versus-a-copy\n",
      "\n",
      "/tmp/ipykernel_168800/1537361346.py:6: SettingWithCopyWarning:\n",
      "\n",
      "\n",
      "A value is trying to be set on a copy of a slice from a DataFrame.\n",
      "Try using .loc[row_indexer,col_indexer] = value instead\n",
      "\n",
      "See the caveats in the documentation: https://pandas.pydata.org/pandas-docs/stable/user_guide/indexing.html#returning-a-view-versus-a-copy\n",
      "\n"
     ]
    },
    {
     "data": {
      "text/plain": [
       "(7588, 21)"
      ]
     },
     "execution_count": 39,
     "metadata": {},
     "output_type": "execute_result"
    }
   ],
   "source": [
    "# narrow down corpus metadata to English, fiction, valid author birth \n",
    "metadata['is_english_fiction'] = metadata.apply(lambda row : True if isinstance(row['Subject'], list) and (any('fiction' in subject for subject in row['Subject']) or any('Fiction' in subject for subject in row['Subject'])) and (row['Language'] == ['English']) and (isinstance(row['Author Birth'], list) and None not in row['Author Birth'] and row['Author Birth'] != ['?'] and row['Author Birth'] != ['?', '?'] and len(row['Author Birth']) != 0) else False, axis = 1)\n",
    "english_fiction_metadata = metadata.loc[metadata['is_english_fiction'] == True]\n",
    "english_fiction_metadata['original_path'] = '../data/gutenberg-dammit-files/' + english_fiction_metadata['gd-path']\n",
    "english_fiction_metadata['tokenized_path'] = '../data/gutenberg-dammit-files/' + english_fiction_metadata['gd-path'].str[:-4] + '_tagged.pickle' \n",
    "english_fiction_metadata['cw_df_path'] = '../data/gutenberg-dammit-files/' + english_fiction_metadata['gd-path'].str[:-4] + '_cw_df.pickle'\n",
    "english_fiction_metadata.shape"
   ]
  },
  {
   "cell_type": "code",
   "execution_count": 40,
   "id": "04b1ad79",
   "metadata": {},
   "outputs": [
    {
     "name": "stderr",
     "output_type": "stream",
     "text": [
      "/tmp/ipykernel_168800/2406416575.py:16: SettingWithCopyWarning:\n",
      "\n",
      "\n",
      "A value is trying to be set on a copy of a slice from a DataFrame.\n",
      "Try using .loc[row_indexer,col_indexer] = value instead\n",
      "\n",
      "See the caveats in the documentation: https://pandas.pydata.org/pandas-docs/stable/user_guide/indexing.html#returning-a-view-versus-a-copy\n",
      "\n"
     ]
    },
    {
     "data": {
      "text/plain": [
       "(7588, 22)"
      ]
     },
     "execution_count": 40,
     "metadata": {},
     "output_type": "execute_result"
    }
   ],
   "source": [
    "# extract author birth century and save\n",
    "def find_century(row):\n",
    "    birth_years = row['Author Birth']\n",
    "    century_list = []\n",
    "    for year in birth_years:\n",
    "        if year == '?':\n",
    "            continue\n",
    "        else:\n",
    "            century = (int(year)) // 100\n",
    "        if century < 15:\n",
    "            century =  str('Before 15')\n",
    "        if century not in century_list:\n",
    "            century_list.append(century)\n",
    "    return str(century_list[0]) + '00'\n",
    "        \n",
    "english_fiction_metadata['Author Birth Century'] = english_fiction_metadata.apply(lambda row: find_century(row), axis = 1)\n",
    "english_fiction_metadata = english_fiction_metadata.sort_values(by=['Author Birth Century'])\n",
    "english_fiction_metadata.shape"
   ]
  },
  {
   "cell_type": "code",
   "execution_count": 41,
   "id": "d537ed15",
   "metadata": {},
   "outputs": [
    {
     "data": {
      "application/vnd.plotly.v1+json": {
       "config": {
        "plotlyServerURL": "https://plot.ly"
       },
       "data": [
        {
         "alignmentgroup": "True",
         "bingroup": "x",
         "hovertemplate": "Author Birth Century=%{x}<br>count=%{y}<extra></extra>",
         "legendgroup": "",
         "marker": {
          "color": "#636efa"
         },
         "name": "",
         "offsetgroup": "",
         "orientation": "v",
         "showlegend": false,
         "type": "histogram",
         "x": [
          "1500",
          "1500",
          "1500",
          "1500",
          "1500",
          "1500",
          "1500",
          "1500",
          "1500",
          "1500",
          "1500",
          "1500",
          "1500",
          "1500",
          "1500",
          "1500",
          "1500",
          "1500",
          "1500",
          "1500",
          "1500",
          "1500",
          "1500",
          "1500",
          "1500",
          "1500",
          "1500",
          "1500",
          "1500",
          "1500",
          "1500",
          "1500",
          "1500",
          "1500",
          "1500",
          "1500",
          "1500",
          "1500",
          "1500",
          "1500",
          "1500",
          "1500",
          "1500",
          "1500",
          "1500",
          "1500",
          "1500",
          "1500",
          "1500",
          "1600",
          "1600",
          "1600",
          "1600",
          "1600",
          "1600",
          "1600",
          "1600",
          "1600",
          "1600",
          "1600",
          "1600",
          "1600",
          "1600",
          "1600",
          "1600",
          "1600",
          "1600",
          "1600",
          "1600",
          "1600",
          "1600",
          "1600",
          "1600",
          "1600",
          "1600",
          "1600",
          "1600",
          "1600",
          "1600",
          "1600",
          "1600",
          "1600",
          "1600",
          "1600",
          "1600",
          "1600",
          "1600",
          "1600",
          "1600",
          "1600",
          "1700",
          "1700",
          "1700",
          "1700",
          "1700",
          "1700",
          "1700",
          "1700",
          "1700",
          "1700",
          "1700",
          "1700",
          "1700",
          "1700",
          "1700",
          "1700",
          "1700",
          "1700",
          "1700",
          "1700",
          "1700",
          "1700",
          "1700",
          "1700",
          "1700",
          "1700",
          "1700",
          "1700",
          "1700",
          "1700",
          "1700",
          "1700",
          "1700",
          "1700",
          "1700",
          "1700",
          "1700",
          "1700",
          "1700",
          "1700",
          "1700",
          "1700",
          "1700",
          "1700",
          "1700",
          "1700",
          "1700",
          "1700",
          "1700",
          "1700",
          "1700",
          "1700",
          "1700",
          "1700",
          "1700",
          "1700",
          "1700",
          "1700",
          "1700",
          "1700",
          "1700",
          "1700",
          "1700",
          "1700",
          "1700",
          "1700",
          "1700",
          "1700",
          "1700",
          "1700",
          "1700",
          "1700",
          "1700",
          "1700",
          "1700",
          "1700",
          "1700",
          "1700",
          "1700",
          "1700",
          "1700",
          "1700",
          "1700",
          "1700",
          "1700",
          "1700",
          "1700",
          "1700",
          "1700",
          "1700",
          "1700",
          "1700",
          "1700",
          "1700",
          "1700",
          "1700",
          "1700",
          "1700",
          "1700",
          "1700",
          "1700",
          "1700",
          "1700",
          "1700",
          "1700",
          "1700",
          "1700",
          "1700",
          "1700",
          "1700",
          "1700",
          "1700",
          "1700",
          "1700",
          "1700",
          "1700",
          "1700",
          "1700",
          "1700",
          "1700",
          "1700",
          "1700",
          "1700",
          "1700",
          "1700",
          "1700",
          "1700",
          "1700",
          "1700",
          "1700",
          "1700",
          "1700",
          "1700",
          "1700",
          "1700",
          "1700",
          "1700",
          "1700",
          "1700",
          "1700",
          "1700",
          "1700",
          "1700",
          "1700",
          "1700",
          "1700",
          "1700",
          "1700",
          "1700",
          "1700",
          "1700",
          "1700",
          "1700",
          "1700",
          "1700",
          "1700",
          "1700",
          "1700",
          "1700",
          "1700",
          "1700",
          "1700",
          "1700",
          "1700",
          "1700",
          "1700",
          "1700",
          "1700",
          "1700",
          "1700",
          "1700",
          "1700",
          "1700",
          "1700",
          "1700",
          "1700",
          "1700",
          "1700",
          "1700",
          "1700",
          "1700",
          "1700",
          "1700",
          "1700",
          "1700",
          "1700",
          "1700",
          "1700",
          "1700",
          "1700",
          "1700",
          "1700",
          "1700",
          "1700",
          "1700",
          "1700",
          "1700",
          "1700",
          "1700",
          "1700",
          "1700",
          "1700",
          "1700",
          "1700",
          "1700",
          "1700",
          "1700",
          "1700",
          "1700",
          "1700",
          "1700",
          "1700",
          "1700",
          "1700",
          "1700",
          "1700",
          "1700",
          "1700",
          "1700",
          "1700",
          "1700",
          "1700",
          "1700",
          "1700",
          "1700",
          "1700",
          "1700",
          "1700",
          "1700",
          "1700",
          "1700",
          "1700",
          "1700",
          "1700",
          "1700",
          "1700",
          "1700",
          "1700",
          "1700",
          "1700",
          "1700",
          "1700",
          "1700",
          "1700",
          "1700",
          "1700",
          "1700",
          "1700",
          "1700",
          "1700",
          "1700",
          "1700",
          "1700",
          "1700",
          "1700",
          "1700",
          "1700",
          "1700",
          "1700",
          "1700",
          "1700",
          "1700",
          "1700",
          "1700",
          "1700",
          "1700",
          "1700",
          "1700",
          "1700",
          "1700",
          "1700",
          "1700",
          "1700",
          "1700",
          "1700",
          "1700",
          "1700",
          "1700",
          "1700",
          "1700",
          "1700",
          "1700",
          "1700",
          "1700",
          "1700",
          "1700",
          "1700",
          "1700",
          "1700",
          "1700",
          "1700",
          "1700",
          "1700",
          "1700",
          "1700",
          "1700",
          "1700",
          "1700",
          "1700",
          "1700",
          "1700",
          "1700",
          "1700",
          "1700",
          "1700",
          "1700",
          "1700",
          "1700",
          "1700",
          "1700",
          "1700",
          "1700",
          "1700",
          "1700",
          "1800",
          "1800",
          "1800",
          "1800",
          "1800",
          "1800",
          "1800",
          "1800",
          "1800",
          "1800",
          "1800",
          "1800",
          "1800",
          "1800",
          "1800",
          "1800",
          "1800",
          "1800",
          "1800",
          "1800",
          "1800",
          "1800",
          "1800",
          "1800",
          "1800",
          "1800",
          "1800",
          "1800",
          "1800",
          "1800",
          "1800",
          "1800",
          "1800",
          "1800",
          "1800",
          "1800",
          "1800",
          "1800",
          "1800",
          "1800",
          "1800",
          "1800",
          "1800",
          "1800",
          "1800",
          "1800",
          "1800",
          "1800",
          "1800",
          "1800",
          "1800",
          "1800",
          "1800",
          "1800",
          "1800",
          "1800",
          "1800",
          "1800",
          "1800",
          "1800",
          "1800",
          "1800",
          "1800",
          "1800",
          "1800",
          "1800",
          "1800",
          "1800",
          "1800",
          "1800",
          "1800",
          "1800",
          "1800",
          "1800",
          "1800",
          "1800",
          "1800",
          "1800",
          "1800",
          "1800",
          "1800",
          "1800",
          "1800",
          "1800",
          "1800",
          "1800",
          "1800",
          "1800",
          "1800",
          "1800",
          "1800",
          "1800",
          "1800",
          "1800",
          "1800",
          "1800",
          "1800",
          "1800",
          "1800",
          "1800",
          "1800",
          "1800",
          "1800",
          "1800",
          "1800",
          "1800",
          "1800",
          "1800",
          "1800",
          "1800",
          "1800",
          "1800",
          "1800",
          "1800",
          "1800",
          "1800",
          "1800",
          "1800",
          "1800",
          "1800",
          "1800",
          "1800",
          "1800",
          "1800",
          "1800",
          "1800",
          "1800",
          "1800",
          "1800",
          "1800",
          "1800",
          "1800",
          "1800",
          "1800",
          "1800",
          "1800",
          "1800",
          "1800",
          "1800",
          "1800",
          "1800",
          "1800",
          "1800",
          "1800",
          "1800",
          "1800",
          "1800",
          "1800",
          "1800",
          "1800",
          "1800",
          "1800",
          "1800",
          "1800",
          "1800",
          "1800",
          "1800",
          "1800",
          "1800",
          "1800",
          "1800",
          "1800",
          "1800",
          "1800",
          "1800",
          "1800",
          "1800",
          "1800",
          "1800",
          "1800",
          "1800",
          "1800",
          "1800",
          "1800",
          "1800",
          "1800",
          "1800",
          "1800",
          "1800",
          "1800",
          "1800",
          "1800",
          "1800",
          "1800",
          "1800",
          "1800",
          "1800",
          "1800",
          "1800",
          "1800",
          "1800",
          "1800",
          "1800",
          "1800",
          "1800",
          "1800",
          "1800",
          "1800",
          "1800",
          "1800",
          "1800",
          "1800",
          "1800",
          "1800",
          "1800",
          "1800",
          "1800",
          "1800",
          "1800",
          "1800",
          "1800",
          "1800",
          "1800",
          "1800",
          "1800",
          "1800",
          "1800",
          "1800",
          "1800",
          "1800",
          "1800",
          "1800",
          "1800",
          "1800",
          "1800",
          "1800",
          "1800",
          "1800",
          "1800",
          "1800",
          "1800",
          "1800",
          "1800",
          "1800",
          "1800",
          "1800",
          "1800",
          "1800",
          "1800",
          "1800",
          "1800",
          "1800",
          "1800",
          "1800",
          "1800",
          "1800",
          "1800",
          "1800",
          "1800",
          "1800",
          "1800",
          "1800",
          "1800",
          "1800",
          "1800",
          "1800",
          "1800",
          "1800",
          "1800",
          "1800",
          "1800",
          "1800",
          "1800",
          "1800",
          "1800",
          "1800",
          "1800",
          "1800",
          "1800",
          "1800",
          "1800",
          "1800",
          "1800",
          "1800",
          "1800",
          "1800",
          "1800",
          "1800",
          "1800",
          "1800",
          "1800",
          "1800",
          "1800",
          "1800",
          "1800",
          "1800",
          "1800",
          "1800",
          "1800",
          "1800",
          "1800",
          "1800",
          "1800",
          "1800",
          "1800",
          "1800",
          "1800",
          "1800",
          "1800",
          "1800",
          "1800",
          "1800",
          "1800",
          "1800",
          "1800",
          "1800",
          "1800",
          "1800",
          "1800",
          "1800",
          "1800",
          "1800",
          "1800",
          "1800",
          "1800",
          "1800",
          "1800",
          "1800",
          "1800",
          "1800",
          "1800",
          "1800",
          "1800",
          "1800",
          "1800",
          "1800",
          "1800",
          "1800",
          "1800",
          "1800",
          "1800",
          "1800",
          "1800",
          "1800",
          "1800",
          "1800",
          "1800",
          "1800",
          "1800",
          "1800",
          "1800",
          "1800",
          "1800",
          "1800",
          "1800",
          "1800",
          "1800",
          "1800",
          "1800",
          "1800",
          "1800",
          "1800",
          "1800",
          "1800",
          "1800",
          "1800",
          "1800",
          "1800",
          "1800",
          "1800",
          "1800",
          "1800",
          "1800",
          "1800",
          "1800",
          "1800",
          "1800",
          "1800",
          "1800",
          "1800",
          "1800",
          "1800",
          "1800",
          "1800",
          "1800",
          "1800",
          "1800",
          "1800",
          "1800",
          "1800",
          "1800",
          "1800",
          "1800",
          "1800",
          "1800",
          "1800",
          "1800",
          "1800",
          "1800",
          "1800",
          "1800",
          "1800",
          "1800",
          "1800",
          "1800",
          "1800",
          "1800",
          "1800",
          "1800",
          "1800",
          "1800",
          "1800",
          "1800",
          "1800",
          "1800",
          "1800",
          "1800",
          "1800",
          "1800",
          "1800",
          "1800",
          "1800",
          "1800",
          "1800",
          "1800",
          "1800",
          "1800",
          "1800",
          "1800",
          "1800",
          "1800",
          "1800",
          "1800",
          "1800",
          "1800",
          "1800",
          "1800",
          "1800",
          "1800",
          "1800",
          "1800",
          "1800",
          "1800",
          "1800",
          "1800",
          "1800",
          "1800",
          "1800",
          "1800",
          "1800",
          "1800",
          "1800",
          "1800",
          "1800",
          "1800",
          "1800",
          "1800",
          "1800",
          "1800",
          "1800",
          "1800",
          "1800",
          "1800",
          "1800",
          "1800",
          "1800",
          "1800",
          "1800",
          "1800",
          "1800",
          "1800",
          "1800",
          "1800",
          "1800",
          "1800",
          "1800",
          "1800",
          "1800",
          "1800",
          "1800",
          "1800",
          "1800",
          "1800",
          "1800",
          "1800",
          "1800",
          "1800",
          "1800",
          "1800",
          "1800",
          "1800",
          "1800",
          "1800",
          "1800",
          "1800",
          "1800",
          "1800",
          "1800",
          "1800",
          "1800",
          "1800",
          "1800",
          "1800",
          "1800",
          "1800",
          "1800",
          "1800",
          "1800",
          "1800",
          "1800",
          "1800",
          "1800",
          "1800",
          "1800",
          "1800",
          "1800",
          "1800",
          "1800",
          "1800",
          "1800",
          "1800",
          "1800",
          "1800",
          "1800",
          "1800",
          "1800",
          "1800",
          "1800",
          "1800",
          "1800",
          "1800",
          "1800",
          "1800",
          "1800",
          "1800",
          "1800",
          "1800",
          "1800",
          "1800",
          "1800",
          "1800",
          "1800",
          "1800",
          "1800",
          "1800",
          "1800",
          "1800",
          "1800",
          "1800",
          "1800",
          "1800",
          "1800",
          "1800",
          "1800",
          "1800",
          "1800",
          "1800",
          "1800",
          "1800",
          "1800",
          "1800",
          "1800",
          "1800",
          "1800",
          "1800",
          "1800",
          "1800",
          "1800",
          "1800",
          "1800",
          "1800",
          "1800",
          "1800",
          "1800",
          "1800",
          "1800",
          "1800",
          "1800",
          "1800",
          "1800",
          "1800",
          "1800",
          "1800",
          "1800",
          "1800",
          "1800",
          "1800",
          "1800",
          "1800",
          "1800",
          "1800",
          "1800",
          "1800",
          "1800",
          "1800",
          "1800",
          "1800",
          "1800",
          "1800",
          "1800",
          "1800",
          "1800",
          "1800",
          "1800",
          "1800",
          "1800",
          "1800",
          "1800",
          "1800",
          "1800",
          "1800",
          "1800",
          "1800",
          "1800",
          "1800",
          "1800",
          "1800",
          "1800",
          "1800",
          "1800",
          "1800",
          "1800",
          "1800",
          "1800",
          "1800",
          "1800",
          "1800",
          "1800",
          "1800",
          "1800",
          "1800",
          "1800",
          "1800",
          "1800",
          "1800",
          "1800",
          "1800",
          "1800",
          "1800",
          "1800",
          "1800",
          "1800",
          "1800",
          "1800",
          "1800",
          "1800",
          "1800",
          "1800",
          "1800",
          "1800",
          "1800",
          "1800",
          "1800",
          "1800",
          "1800",
          "1800",
          "1800",
          "1800",
          "1800",
          "1800",
          "1800",
          "1800",
          "1800",
          "1800",
          "1800",
          "1800",
          "1800",
          "1800",
          "1800",
          "1800",
          "1800",
          "1800",
          "1800",
          "1800",
          "1800",
          "1800",
          "1800",
          "1800",
          "1800",
          "1800",
          "1800",
          "1800",
          "1800",
          "1800",
          "1800",
          "1800",
          "1800",
          "1800",
          "1800",
          "1800",
          "1800",
          "1800",
          "1800",
          "1800",
          "1800",
          "1800",
          "1800",
          "1800",
          "1800",
          "1800",
          "1800",
          "1800",
          "1800",
          "1800",
          "1800",
          "1800",
          "1800",
          "1800",
          "1800",
          "1800",
          "1800",
          "1800",
          "1800",
          "1800",
          "1800",
          "1800",
          "1800",
          "1800",
          "1800",
          "1800",
          "1800",
          "1800",
          "1800",
          "1800",
          "1800",
          "1800",
          "1800",
          "1800",
          "1800",
          "1800",
          "1800",
          "1800",
          "1800",
          "1800",
          "1800",
          "1800",
          "1800",
          "1800",
          "1800",
          "1800",
          "1800",
          "1800",
          "1800",
          "1800",
          "1800",
          "1800",
          "1800",
          "1800",
          "1800",
          "1800",
          "1800",
          "1800",
          "1800",
          "1800",
          "1800",
          "1800",
          "1800",
          "1800",
          "1800",
          "1800",
          "1800",
          "1800",
          "1800",
          "1800",
          "1800",
          "1800",
          "1800",
          "1800",
          "1800",
          "1800",
          "1800",
          "1800",
          "1800",
          "1800",
          "1800",
          "1800",
          "1800",
          "1800",
          "1800",
          "1800",
          "1800",
          "1800",
          "1800",
          "1800",
          "1800",
          "1800",
          "1800",
          "1800",
          "1800",
          "1800",
          "1800",
          "1800",
          "1800",
          "1800",
          "1800",
          "1800",
          "1800",
          "1800",
          "1800",
          "1800",
          "1800",
          "1800",
          "1800",
          "1800",
          "1800",
          "1800",
          "1800",
          "1800",
          "1800",
          "1800",
          "1800",
          "1800",
          "1800",
          "1800",
          "1800",
          "1800",
          "1800",
          "1800",
          "1800",
          "1800",
          "1800",
          "1800",
          "1800",
          "1800",
          "1800",
          "1800",
          "1800",
          "1800",
          "1800",
          "1800",
          "1800",
          "1800",
          "1800",
          "1800",
          "1800",
          "1800",
          "1800",
          "1800",
          "1800",
          "1800",
          "1800",
          "1800",
          "1800",
          "1800",
          "1800",
          "1800",
          "1800",
          "1800",
          "1800",
          "1800",
          "1800",
          "1800",
          "1800",
          "1800",
          "1800",
          "1800",
          "1800",
          "1800",
          "1800",
          "1800",
          "1800",
          "1800",
          "1800",
          "1800",
          "1800",
          "1800",
          "1800",
          "1800",
          "1800",
          "1800",
          "1800",
          "1800",
          "1800",
          "1800",
          "1800",
          "1800",
          "1800",
          "1800",
          "1800",
          "1800",
          "1800",
          "1800",
          "1800",
          "1800",
          "1800",
          "1800",
          "1800",
          "1800",
          "1800",
          "1800",
          "1800",
          "1800",
          "1800",
          "1800",
          "1800",
          "1800",
          "1800",
          "1800",
          "1800",
          "1800",
          "1800",
          "1800",
          "1800",
          "1800",
          "1800",
          "1800",
          "1800",
          "1800",
          "1800",
          "1800",
          "1800",
          "1800",
          "1800",
          "1800",
          "1800",
          "1800",
          "1800",
          "1800",
          "1800",
          "1800",
          "1800",
          "1800",
          "1800",
          "1800",
          "1800",
          "1800",
          "1800",
          "1800",
          "1800",
          "1800",
          "1800",
          "1800",
          "1800",
          "1800",
          "1800",
          "1800",
          "1800",
          "1800",
          "1800",
          "1800",
          "1800",
          "1800",
          "1800",
          "1800",
          "1800",
          "1800",
          "1800",
          "1800",
          "1800",
          "1800",
          "1800",
          "1800",
          "1800",
          "1800",
          "1800",
          "1800",
          "1800",
          "1800",
          "1800",
          "1800",
          "1800",
          "1800",
          "1800",
          "1800",
          "1800",
          "1800",
          "1800",
          "1800",
          "1800",
          "1800",
          "1800",
          "1800",
          "1800",
          "1800",
          "1800",
          "1800",
          "1800",
          "1800",
          "1800",
          "1800",
          "1800",
          "1800",
          "1800",
          "1800",
          "1800",
          "1800",
          "1800",
          "1800",
          "1800",
          "1800",
          "1800",
          "1800",
          "1800",
          "1800",
          "1800",
          "1800",
          "1800",
          "1800",
          "1800",
          "1800",
          "1800",
          "1800",
          "1800",
          "1800",
          "1800",
          "1800",
          "1800",
          "1800",
          "1800",
          "1800",
          "1800",
          "1800",
          "1800",
          "1800",
          "1800",
          "1800",
          "1800",
          "1800",
          "1800",
          "1800",
          "1800",
          "1800",
          "1800",
          "1800",
          "1800",
          "1800",
          "1800",
          "1800",
          "1800",
          "1800",
          "1800",
          "1800",
          "1800",
          "1800",
          "1800",
          "1800",
          "1800",
          "1800",
          "1800",
          "1800",
          "1800",
          "1800",
          "1800",
          "1800",
          "1800",
          "1800",
          "1800",
          "1800",
          "1800",
          "1800",
          "1800",
          "1800",
          "1800",
          "1800",
          "1800",
          "1800",
          "1800",
          "1800",
          "1800",
          "1800",
          "1800",
          "1800",
          "1800",
          "1800",
          "1800",
          "1800",
          "1800",
          "1800",
          "1800",
          "1800",
          "1800",
          "1800",
          "1800",
          "1800",
          "1800",
          "1800",
          "1800",
          "1800",
          "1800",
          "1800",
          "1800",
          "1800",
          "1800",
          "1800",
          "1800",
          "1800",
          "1800",
          "1800",
          "1800",
          "1800",
          "1800",
          "1800",
          "1800",
          "1800",
          "1800",
          "1800",
          "1800",
          "1800",
          "1800",
          "1800",
          "1800",
          "1800",
          "1800",
          "1800",
          "1800",
          "1800",
          "1800",
          "1800",
          "1800",
          "1800",
          "1800",
          "1800",
          "1800",
          "1800",
          "1800",
          "1800",
          "1800",
          "1800",
          "1800",
          "1800",
          "1800",
          "1800",
          "1800",
          "1800",
          "1800",
          "1800",
          "1800",
          "1800",
          "1800",
          "1800",
          "1800",
          "1800",
          "1800",
          "1800",
          "1800",
          "1800",
          "1800",
          "1800",
          "1800",
          "1800",
          "1800",
          "1800",
          "1800",
          "1800",
          "1800",
          "1800",
          "1800",
          "1800",
          "1800",
          "1800",
          "1800",
          "1800",
          "1800",
          "1800",
          "1800",
          "1800",
          "1800",
          "1800",
          "1800",
          "1800",
          "1800",
          "1800",
          "1800",
          "1800",
          "1800",
          "1800",
          "1800",
          "1800",
          "1800",
          "1800",
          "1800",
          "1800",
          "1800",
          "1800",
          "1800",
          "1800",
          "1800",
          "1800",
          "1800",
          "1800",
          "1800",
          "1800",
          "1800",
          "1800",
          "1800",
          "1800",
          "1800",
          "1800",
          "1800",
          "1800",
          "1800",
          "1800",
          "1800",
          "1800",
          "1800",
          "1800",
          "1800",
          "1800",
          "1800",
          "1800",
          "1800",
          "1800",
          "1800",
          "1800",
          "1800",
          "1800",
          "1800",
          "1800",
          "1800",
          "1800",
          "1800",
          "1800",
          "1800",
          "1800",
          "1800",
          "1800",
          "1800",
          "1800",
          "1800",
          "1800",
          "1800",
          "1800",
          "1800",
          "1800",
          "1800",
          "1800",
          "1800",
          "1800",
          "1800",
          "1800",
          "1800",
          "1800",
          "1800",
          "1800",
          "1800",
          "1800",
          "1800",
          "1800",
          "1800",
          "1800",
          "1800",
          "1800",
          "1800",
          "1800",
          "1800",
          "1800",
          "1800",
          "1800",
          "1800",
          "1800",
          "1800",
          "1800",
          "1800",
          "1800",
          "1800",
          "1800",
          "1800",
          "1800",
          "1800",
          "1800",
          "1800",
          "1800",
          "1800",
          "1800",
          "1800",
          "1800",
          "1800",
          "1800",
          "1800",
          "1800",
          "1800",
          "1800",
          "1800",
          "1800",
          "1800",
          "1800",
          "1800",
          "1800",
          "1800",
          "1800",
          "1800",
          "1800",
          "1800",
          "1800",
          "1800",
          "1800",
          "1800",
          "1800",
          "1800",
          "1800",
          "1800",
          "1800",
          "1800",
          "1800",
          "1800",
          "1800",
          "1800",
          "1800",
          "1800",
          "1800",
          "1800",
          "1800",
          "1800",
          "1800",
          "1800",
          "1800",
          "1800",
          "1800",
          "1800",
          "1800",
          "1800",
          "1800",
          "1800",
          "1800",
          "1800",
          "1800",
          "1800",
          "1800",
          "1800",
          "1800",
          "1800",
          "1800",
          "1800",
          "1800",
          "1800",
          "1800",
          "1800",
          "1800",
          "1800",
          "1800",
          "1800",
          "1800",
          "1800",
          "1800",
          "1800",
          "1800",
          "1800",
          "1800",
          "1800",
          "1800",
          "1800",
          "1800",
          "1800",
          "1800",
          "1800",
          "1800",
          "1800",
          "1800",
          "1800",
          "1800",
          "1800",
          "1800",
          "1800",
          "1800",
          "1800",
          "1800",
          "1800",
          "1800",
          "1800",
          "1800",
          "1800",
          "1800",
          "1800",
          "1800",
          "1800",
          "1800",
          "1800",
          "1800",
          "1800",
          "1800",
          "1800",
          "1800",
          "1800",
          "1800",
          "1800",
          "1800",
          "1800",
          "1800",
          "1800",
          "1800",
          "1800",
          "1800",
          "1800",
          "1800",
          "1800",
          "1800",
          "1800",
          "1800",
          "1800",
          "1800",
          "1800",
          "1800",
          "1800",
          "1800",
          "1800",
          "1800",
          "1800",
          "1800",
          "1800",
          "1800",
          "1800",
          "1800",
          "1800",
          "1800",
          "1800",
          "1800",
          "1800",
          "1800",
          "1800",
          "1800",
          "1800",
          "1800",
          "1800",
          "1800",
          "1800",
          "1800",
          "1800",
          "1800",
          "1800",
          "1800",
          "1800",
          "1800",
          "1800",
          "1800",
          "1800",
          "1800",
          "1800",
          "1800",
          "1800",
          "1800",
          "1800",
          "1800",
          "1800",
          "1800",
          "1800",
          "1800",
          "1800",
          "1800",
          "1800",
          "1800",
          "1800",
          "1800",
          "1800",
          "1800",
          "1800",
          "1800",
          "1800",
          "1800",
          "1800",
          "1800",
          "1800",
          "1800",
          "1800",
          "1800",
          "1800",
          "1800",
          "1800",
          "1800",
          "1800",
          "1800",
          "1800",
          "1800",
          "1800",
          "1800",
          "1800",
          "1800",
          "1800",
          "1800",
          "1800",
          "1800",
          "1800",
          "1800",
          "1800",
          "1800",
          "1800",
          "1800",
          "1800",
          "1800",
          "1800",
          "1800",
          "1800",
          "1800",
          "1800",
          "1800",
          "1800",
          "1800",
          "1800",
          "1800",
          "1800",
          "1800",
          "1800",
          "1800",
          "1800",
          "1800",
          "1800",
          "1800",
          "1800",
          "1800",
          "1800",
          "1800",
          "1800",
          "1800",
          "1800",
          "1800",
          "1800",
          "1800",
          "1800",
          "1800",
          "1800",
          "1800",
          "1800",
          "1800",
          "1800",
          "1800",
          "1800",
          "1800",
          "1800",
          "1800",
          "1800",
          "1800",
          "1800",
          "1800",
          "1800",
          "1800",
          "1800",
          "1800",
          "1800",
          "1800",
          "1800",
          "1800",
          "1800",
          "1800",
          "1800",
          "1800",
          "1800",
          "1800",
          "1800",
          "1800",
          "1800",
          "1800",
          "1800",
          "1800",
          "1800",
          "1800",
          "1800",
          "1800",
          "1800",
          "1800",
          "1800",
          "1800",
          "1800",
          "1800",
          "1800",
          "1800",
          "1800",
          "1800",
          "1800",
          "1800",
          "1800",
          "1800",
          "1800",
          "1800",
          "1800",
          "1800",
          "1800",
          "1800",
          "1800",
          "1800",
          "1800",
          "1800",
          "1800",
          "1800",
          "1800",
          "1800",
          "1800",
          "1800",
          "1800",
          "1800",
          "1800",
          "1800",
          "1800",
          "1800",
          "1800",
          "1800",
          "1800",
          "1800",
          "1800",
          "1800",
          "1800",
          "1800",
          "1800",
          "1800",
          "1800",
          "1800",
          "1800",
          "1800",
          "1800",
          "1800",
          "1800",
          "1800",
          "1800",
          "1800",
          "1800",
          "1800",
          "1800",
          "1800",
          "1800",
          "1800",
          "1800",
          "1800",
          "1800",
          "1800",
          "1800",
          "1800",
          "1800",
          "1800",
          "1800",
          "1800",
          "1800",
          "1800",
          "1800",
          "1800",
          "1800",
          "1800",
          "1800",
          "1800",
          "1800",
          "1800",
          "1800",
          "1800",
          "1800",
          "1800",
          "1800",
          "1800",
          "1800",
          "1800",
          "1800",
          "1800",
          "1800",
          "1800",
          "1800",
          "1800",
          "1800",
          "1800",
          "1800",
          "1800",
          "1800",
          "1800",
          "1800",
          "1800",
          "1800",
          "1800",
          "1800",
          "1800",
          "1800",
          "1800",
          "1800",
          "1800",
          "1800",
          "1800",
          "1800",
          "1800",
          "1800",
          "1800",
          "1800",
          "1800",
          "1800",
          "1800",
          "1800",
          "1800",
          "1800",
          "1800",
          "1800",
          "1800",
          "1800",
          "1800",
          "1800",
          "1800",
          "1800",
          "1800",
          "1800",
          "1800",
          "1800",
          "1800",
          "1800",
          "1800",
          "1800",
          "1800",
          "1800",
          "1800",
          "1800",
          "1800",
          "1800",
          "1800",
          "1800",
          "1800",
          "1800",
          "1800",
          "1800",
          "1800",
          "1800",
          "1800",
          "1800",
          "1800",
          "1800",
          "1800",
          "1800",
          "1800",
          "1800",
          "1800",
          "1800",
          "1800",
          "1800",
          "1800",
          "1800",
          "1800",
          "1800",
          "1800",
          "1800",
          "1800",
          "1800",
          "1800",
          "1800",
          "1800",
          "1800",
          "1800",
          "1800",
          "1800",
          "1800",
          "1800",
          "1800",
          "1800",
          "1800",
          "1800",
          "1800",
          "1800",
          "1800",
          "1800",
          "1800",
          "1800",
          "1800",
          "1800",
          "1800",
          "1800",
          "1800",
          "1800",
          "1800",
          "1800",
          "1800",
          "1800",
          "1800",
          "1800",
          "1800",
          "1800",
          "1800",
          "1800",
          "1800",
          "1800",
          "1800",
          "1800",
          "1800",
          "1800",
          "1800",
          "1800",
          "1800",
          "1800",
          "1800",
          "1800",
          "1800",
          "1800",
          "1800",
          "1800",
          "1800",
          "1800",
          "1800",
          "1800",
          "1800",
          "1800",
          "1800",
          "1800",
          "1800",
          "1800",
          "1800",
          "1800",
          "1800",
          "1800",
          "1800",
          "1800",
          "1800",
          "1800",
          "1800",
          "1800",
          "1800",
          "1800",
          "1800",
          "1800",
          "1800",
          "1800",
          "1800",
          "1800",
          "1800",
          "1800",
          "1800",
          "1800",
          "1800",
          "1800",
          "1800",
          "1800",
          "1800",
          "1800",
          "1800",
          "1800",
          "1800",
          "1800",
          "1800",
          "1800",
          "1800",
          "1800",
          "1800",
          "1800",
          "1800",
          "1800",
          "1800",
          "1800",
          "1800",
          "1800",
          "1800",
          "1800",
          "1800",
          "1800",
          "1800",
          "1800",
          "1800",
          "1800",
          "1800",
          "1800",
          "1800",
          "1800",
          "1800",
          "1800",
          "1800",
          "1800",
          "1800",
          "1800",
          "1800",
          "1800",
          "1800",
          "1800",
          "1800",
          "1800",
          "1800",
          "1800",
          "1800",
          "1800",
          "1800",
          "1800",
          "1800",
          "1800",
          "1800",
          "1800",
          "1800",
          "1800",
          "1800",
          "1800",
          "1800",
          "1800",
          "1800",
          "1800",
          "1800",
          "1800",
          "1800",
          "1800",
          "1800",
          "1800",
          "1800",
          "1800",
          "1800",
          "1800",
          "1800",
          "1800",
          "1800",
          "1800",
          "1800",
          "1800",
          "1800",
          "1800",
          "1800",
          "1800",
          "1800",
          "1800",
          "1800",
          "1800",
          "1800",
          "1800",
          "1800",
          "1800",
          "1800",
          "1800",
          "1800",
          "1800",
          "1800",
          "1800",
          "1800",
          "1800",
          "1800",
          "1800",
          "1800",
          "1800",
          "1800",
          "1800",
          "1800",
          "1800",
          "1800",
          "1800",
          "1800",
          "1800",
          "1800",
          "1800",
          "1800",
          "1800",
          "1800",
          "1800",
          "1800",
          "1800",
          "1800",
          "1800",
          "1800",
          "1800",
          "1800",
          "1800",
          "1800",
          "1800",
          "1800",
          "1800",
          "1800",
          "1800",
          "1800",
          "1800",
          "1800",
          "1800",
          "1800",
          "1800",
          "1800",
          "1800",
          "1800",
          "1800",
          "1800",
          "1800",
          "1800",
          "1800",
          "1800",
          "1800",
          "1800",
          "1800",
          "1800",
          "1800",
          "1800",
          "1800",
          "1800",
          "1800",
          "1800",
          "1800",
          "1800",
          "1800",
          "1800",
          "1800",
          "1800",
          "1800",
          "1800",
          "1800",
          "1800",
          "1800",
          "1800",
          "1800",
          "1800",
          "1800",
          "1800",
          "1800",
          "1800",
          "1800",
          "1800",
          "1800",
          "1800",
          "1800",
          "1800",
          "1800",
          "1800",
          "1800",
          "1800",
          "1800",
          "1800",
          "1800",
          "1800",
          "1800",
          "1800",
          "1800",
          "1800",
          "1800",
          "1800",
          "1800",
          "1800",
          "1800",
          "1800",
          "1800",
          "1800",
          "1800",
          "1800",
          "1800",
          "1800",
          "1800",
          "1800",
          "1800",
          "1800",
          "1800",
          "1800",
          "1800",
          "1800",
          "1800",
          "1800",
          "1800",
          "1800",
          "1800",
          "1800",
          "1800",
          "1800",
          "1800",
          "1800",
          "1800",
          "1800",
          "1800",
          "1800",
          "1800",
          "1800",
          "1800",
          "1800",
          "1800",
          "1800",
          "1800",
          "1800",
          "1800",
          "1800",
          "1800",
          "1800",
          "1800",
          "1800",
          "1800",
          "1800",
          "1800",
          "1800",
          "1800",
          "1800",
          "1800",
          "1800",
          "1800",
          "1800",
          "1800",
          "1800",
          "1800",
          "1800",
          "1800",
          "1800",
          "1800",
          "1800",
          "1800",
          "1800",
          "1800",
          "1800",
          "1800",
          "1800",
          "1800",
          "1800",
          "1800",
          "1800",
          "1800",
          "1800",
          "1800",
          "1800",
          "1800",
          "1800",
          "1800",
          "1800",
          "1800",
          "1800",
          "1800",
          "1800",
          "1800",
          "1800",
          "1800",
          "1800",
          "1800",
          "1800",
          "1800",
          "1800",
          "1800",
          "1800",
          "1800",
          "1800",
          "1800",
          "1800",
          "1800",
          "1800",
          "1800",
          "1800",
          "1800",
          "1800",
          "1800",
          "1800",
          "1800",
          "1800",
          "1800",
          "1800",
          "1800",
          "1800",
          "1800",
          "1800",
          "1800",
          "1800",
          "1800",
          "1800",
          "1800",
          "1800",
          "1800",
          "1800",
          "1800",
          "1800",
          "1800",
          "1800",
          "1800",
          "1800",
          "1800",
          "1800",
          "1800",
          "1800",
          "1800",
          "1800",
          "1800",
          "1800",
          "1800",
          "1800",
          "1800",
          "1800",
          "1800",
          "1800",
          "1800",
          "1800",
          "1800",
          "1800",
          "1800",
          "1800",
          "1800",
          "1800",
          "1800",
          "1800",
          "1800",
          "1800",
          "1800",
          "1800",
          "1800",
          "1800",
          "1800",
          "1800",
          "1800",
          "1800",
          "1800",
          "1800",
          "1800",
          "1800",
          "1800",
          "1800",
          "1800",
          "1800",
          "1800",
          "1800",
          "1800",
          "1800",
          "1800",
          "1800",
          "1800",
          "1800",
          "1800",
          "1800",
          "1800",
          "1800",
          "1800",
          "1800",
          "1800",
          "1800",
          "1800",
          "1800",
          "1800",
          "1800",
          "1800",
          "1800",
          "1800",
          "1800",
          "1800",
          "1800",
          "1800",
          "1800",
          "1800",
          "1800",
          "1800",
          "1800",
          "1800",
          "1800",
          "1800",
          "1800",
          "1800",
          "1800",
          "1800",
          "1800",
          "1800",
          "1800",
          "1800",
          "1800",
          "1800",
          "1800",
          "1800",
          "1800",
          "1800",
          "1800",
          "1800",
          "1800",
          "1800",
          "1800",
          "1800",
          "1800",
          "1800",
          "1800",
          "1800",
          "1800",
          "1800",
          "1800",
          "1800",
          "1800",
          "1800",
          "1800",
          "1800",
          "1800",
          "1800",
          "1800",
          "1800",
          "1800",
          "1800",
          "1800",
          "1800",
          "1800",
          "1800",
          "1800",
          "1800",
          "1800",
          "1800",
          "1800",
          "1800",
          "1800",
          "1800",
          "1800",
          "1800",
          "1800",
          "1800",
          "1800",
          "1800",
          "1800",
          "1800",
          "1800",
          "1800",
          "1800",
          "1800",
          "1800",
          "1800",
          "1800",
          "1800",
          "1800",
          "1800",
          "1800",
          "1800",
          "1800",
          "1800",
          "1800",
          "1800",
          "1800",
          "1800",
          "1800",
          "1800",
          "1800",
          "1800",
          "1800",
          "1800",
          "1800",
          "1800",
          "1800",
          "1800",
          "1800",
          "1800",
          "1800",
          "1800",
          "1800",
          "1800",
          "1800",
          "1800",
          "1800",
          "1800",
          "1800",
          "1800",
          "1800",
          "1800",
          "1800",
          "1800",
          "1800",
          "1800",
          "1800",
          "1800",
          "1800",
          "1800",
          "1800",
          "1800",
          "1800",
          "1800",
          "1800",
          "1800",
          "1800",
          "1800",
          "1800",
          "1800",
          "1800",
          "1800",
          "1800",
          "1800",
          "1800",
          "1800",
          "1800",
          "1800",
          "1800",
          "1800",
          "1800",
          "1800",
          "1800",
          "1800",
          "1800",
          "1800",
          "1800",
          "1800",
          "1800",
          "1800",
          "1800",
          "1800",
          "1800",
          "1800",
          "1800",
          "1800",
          "1800",
          "1800",
          "1800",
          "1800",
          "1800",
          "1800",
          "1800",
          "1800",
          "1800",
          "1800",
          "1800",
          "1800",
          "1800",
          "1800",
          "1800",
          "1800",
          "1800",
          "1800",
          "1800",
          "1800",
          "1800",
          "1800",
          "1800",
          "1800",
          "1800",
          "1800",
          "1800",
          "1800",
          "1800",
          "1800",
          "1800",
          "1800",
          "1800",
          "1800",
          "1800",
          "1800",
          "1800",
          "1800",
          "1800",
          "1800",
          "1800",
          "1800",
          "1800",
          "1800",
          "1800",
          "1800",
          "1800",
          "1800",
          "1800",
          "1800",
          "1800",
          "1800",
          "1800",
          "1800",
          "1800",
          "1800",
          "1800",
          "1800",
          "1800",
          "1800",
          "1800",
          "1800",
          "1800",
          "1800",
          "1800",
          "1800",
          "1800",
          "1800",
          "1800",
          "1800",
          "1800",
          "1800",
          "1800",
          "1800",
          "1800",
          "1800",
          "1800",
          "1800",
          "1800",
          "1800",
          "1800",
          "1800",
          "1800",
          "1800",
          "1800",
          "1800",
          "1800",
          "1800",
          "1800",
          "1800",
          "1800",
          "1800",
          "1800",
          "1800",
          "1800",
          "1800",
          "1800",
          "1800",
          "1800",
          "1800",
          "1800",
          "1800",
          "1800",
          "1800",
          "1800",
          "1800",
          "1800",
          "1800",
          "1800",
          "1800",
          "1800",
          "1800",
          "1800",
          "1800",
          "1800",
          "1800",
          "1800",
          "1800",
          "1800",
          "1800",
          "1800",
          "1800",
          "1800",
          "1800",
          "1800",
          "1800",
          "1800",
          "1800",
          "1800",
          "1800",
          "1800",
          "1800",
          "1800",
          "1800",
          "1800",
          "1800",
          "1800",
          "1800",
          "1800",
          "1800",
          "1800",
          "1800",
          "1800",
          "1800",
          "1800",
          "1800",
          "1800",
          "1800",
          "1800",
          "1800",
          "1800",
          "1800",
          "1800",
          "1800",
          "1800",
          "1800",
          "1800",
          "1800",
          "1800",
          "1800",
          "1800",
          "1800",
          "1800",
          "1800",
          "1800",
          "1800",
          "1800",
          "1800",
          "1800",
          "1800",
          "1800",
          "1800",
          "1800",
          "1800",
          "1800",
          "1800",
          "1800",
          "1800",
          "1800",
          "1800",
          "1800",
          "1800",
          "1800",
          "1800",
          "1800",
          "1800",
          "1800",
          "1800",
          "1800",
          "1800",
          "1800",
          "1800",
          "1800",
          "1800",
          "1800",
          "1800",
          "1800",
          "1800",
          "1800",
          "1800",
          "1800",
          "1800",
          "1800",
          "1800",
          "1800",
          "1800",
          "1800",
          "1800",
          "1800",
          "1800",
          "1800",
          "1800",
          "1800",
          "1800",
          "1800",
          "1800",
          "1800",
          "1800",
          "1800",
          "1800",
          "1800",
          "1800",
          "1800",
          "1800",
          "1800",
          "1800",
          "1800",
          "1800",
          "1800",
          "1800",
          "1800",
          "1800",
          "1800",
          "1800",
          "1800",
          "1800",
          "1800",
          "1800",
          "1800",
          "1800",
          "1800",
          "1800",
          "1800",
          "1800",
          "1800",
          "1800",
          "1800",
          "1800",
          "1800",
          "1800",
          "1800",
          "1800",
          "1800",
          "1800",
          "1800",
          "1800",
          "1800",
          "1800",
          "1800",
          "1800",
          "1800",
          "1800",
          "1800",
          "1800",
          "1800",
          "1800",
          "1800",
          "1800",
          "1800",
          "1800",
          "1800",
          "1800",
          "1800",
          "1800",
          "1800",
          "1800",
          "1800",
          "1800",
          "1800",
          "1800",
          "1800",
          "1800",
          "1800",
          "1800",
          "1800",
          "1800",
          "1800",
          "1800",
          "1800",
          "1800",
          "1800",
          "1800",
          "1800",
          "1800",
          "1800",
          "1800",
          "1800",
          "1800",
          "1800",
          "1800",
          "1800",
          "1800",
          "1800",
          "1800",
          "1800",
          "1800",
          "1800",
          "1800",
          "1800",
          "1800",
          "1800",
          "1800",
          "1800",
          "1800",
          "1800",
          "1800",
          "1800",
          "1800",
          "1800",
          "1800",
          "1800",
          "1800",
          "1800",
          "1800",
          "1800",
          "1800",
          "1800",
          "1800",
          "1800",
          "1800",
          "1800",
          "1800",
          "1800",
          "1800",
          "1800",
          "1800",
          "1800",
          "1800",
          "1800",
          "1800",
          "1800",
          "1800",
          "1800",
          "1800",
          "1800",
          "1800",
          "1800",
          "1800",
          "1800",
          "1800",
          "1800",
          "1800",
          "1800",
          "1800",
          "1800",
          "1800",
          "1800",
          "1800",
          "1800",
          "1800",
          "1800",
          "1800",
          "1800",
          "1800",
          "1800",
          "1800",
          "1800",
          "1800",
          "1800",
          "1800",
          "1800",
          "1800",
          "1800",
          "1800",
          "1800",
          "1800",
          "1800",
          "1800",
          "1800",
          "1800",
          "1800",
          "1800",
          "1800",
          "1800",
          "1800",
          "1800",
          "1800",
          "1800",
          "1800",
          "1800",
          "1800",
          "1800",
          "1800",
          "1800",
          "1800",
          "1800",
          "1800",
          "1800",
          "1800",
          "1800",
          "1800",
          "1800",
          "1800",
          "1800",
          "1800",
          "1800",
          "1800",
          "1800",
          "1800",
          "1800",
          "1800",
          "1800",
          "1800",
          "1800",
          "1800",
          "1800",
          "1800",
          "1800",
          "1800",
          "1800",
          "1800",
          "1800",
          "1800",
          "1800",
          "1800",
          "1800",
          "1800",
          "1800",
          "1800",
          "1800",
          "1800",
          "1800",
          "1800",
          "1800",
          "1800",
          "1800",
          "1800",
          "1800",
          "1800",
          "1800",
          "1800",
          "1800",
          "1800",
          "1800",
          "1800",
          "1800",
          "1800",
          "1800",
          "1800",
          "1800",
          "1800",
          "1800",
          "1800",
          "1800",
          "1800",
          "1800",
          "1800",
          "1800",
          "1800",
          "1800",
          "1800",
          "1800",
          "1800",
          "1800",
          "1800",
          "1800",
          "1800",
          "1800",
          "1800",
          "1800",
          "1800",
          "1800",
          "1800",
          "1800",
          "1800",
          "1800",
          "1800",
          "1800",
          "1800",
          "1800",
          "1800",
          "1800",
          "1800",
          "1800",
          "1800",
          "1800",
          "1800",
          "1800",
          "1800",
          "1800",
          "1800",
          "1800",
          "1800",
          "1800",
          "1800",
          "1800",
          "1800",
          "1800",
          "1800",
          "1800",
          "1800",
          "1800",
          "1800",
          "1800",
          "1800",
          "1800",
          "1800",
          "1800",
          "1800",
          "1800",
          "1800",
          "1800",
          "1800",
          "1800",
          "1800",
          "1800",
          "1800",
          "1800",
          "1800",
          "1800",
          "1800",
          "1800",
          "1800",
          "1800",
          "1800",
          "1800",
          "1800",
          "1800",
          "1800",
          "1800",
          "1800",
          "1800",
          "1800",
          "1800",
          "1800",
          "1800",
          "1800",
          "1800",
          "1800",
          "1800",
          "1800",
          "1800",
          "1800",
          "1800",
          "1800",
          "1800",
          "1800",
          "1800",
          "1800",
          "1800",
          "1800",
          "1800",
          "1800",
          "1800",
          "1800",
          "1800",
          "1800",
          "1800",
          "1800",
          "1800",
          "1800",
          "1800",
          "1800",
          "1800",
          "1800",
          "1800",
          "1800",
          "1800",
          "1800",
          "1800",
          "1800",
          "1800",
          "1800",
          "1800",
          "1800",
          "1800",
          "1800",
          "1800",
          "1800",
          "1800",
          "1800",
          "1800",
          "1800",
          "1800",
          "1800",
          "1800",
          "1800",
          "1800",
          "1800",
          "1800",
          "1800",
          "1800",
          "1800",
          "1800",
          "1800",
          "1800",
          "1800",
          "1800",
          "1800",
          "1800",
          "1800",
          "1800",
          "1800",
          "1800",
          "1800",
          "1800",
          "1800",
          "1800",
          "1800",
          "1800",
          "1800",
          "1800",
          "1800",
          "1800",
          "1800",
          "1800",
          "1800",
          "1800",
          "1800",
          "1800",
          "1800",
          "1800",
          "1800",
          "1800",
          "1800",
          "1800",
          "1800",
          "1800",
          "1800",
          "1800",
          "1800",
          "1800",
          "1800",
          "1800",
          "1800",
          "1800",
          "1800",
          "1800",
          "1800",
          "1800",
          "1800",
          "1800",
          "1800",
          "1800",
          "1800",
          "1800",
          "1800",
          "1800",
          "1800",
          "1800",
          "1800",
          "1800",
          "1800",
          "1800",
          "1800",
          "1800",
          "1800",
          "1800",
          "1800",
          "1800",
          "1800",
          "1800",
          "1800",
          "1800",
          "1800",
          "1800",
          "1800",
          "1800",
          "1800",
          "1800",
          "1800",
          "1800",
          "1800",
          "1800",
          "1800",
          "1800",
          "1800",
          "1800",
          "1800",
          "1800",
          "1800",
          "1800",
          "1800",
          "1800",
          "1800",
          "1800",
          "1800",
          "1800",
          "1800",
          "1800",
          "1800",
          "1800",
          "1800",
          "1800",
          "1800",
          "1800",
          "1800",
          "1800",
          "1800",
          "1800",
          "1800",
          "1800",
          "1800",
          "1800",
          "1800",
          "1800",
          "1800",
          "1800",
          "1800",
          "1800",
          "1800",
          "1800",
          "1800",
          "1800",
          "1800",
          "1800",
          "1800",
          "1800",
          "1800",
          "1800",
          "1800",
          "1800",
          "1800",
          "1800",
          "1800",
          "1800",
          "1800",
          "1800",
          "1800",
          "1800",
          "1800",
          "1800",
          "1800",
          "1800",
          "1800",
          "1800",
          "1800",
          "1800",
          "1800",
          "1800",
          "1800",
          "1800",
          "1800",
          "1800",
          "1800",
          "1800",
          "1800",
          "1800",
          "1800",
          "1800",
          "1800",
          "1800",
          "1800",
          "1800",
          "1800",
          "1800",
          "1800",
          "1800",
          "1800",
          "1800",
          "1800",
          "1800",
          "1800",
          "1800",
          "1800",
          "1800",
          "1800",
          "1800",
          "1800",
          "1800",
          "1800",
          "1800",
          "1800",
          "1800",
          "1800",
          "1800",
          "1800",
          "1800",
          "1800",
          "1800",
          "1800",
          "1800",
          "1800",
          "1800",
          "1800",
          "1800",
          "1800",
          "1800",
          "1800",
          "1800",
          "1800",
          "1800",
          "1800",
          "1800",
          "1800",
          "1800",
          "1800",
          "1800",
          "1800",
          "1800",
          "1800",
          "1800",
          "1800",
          "1800",
          "1800",
          "1800",
          "1800",
          "1800",
          "1800",
          "1800",
          "1800",
          "1800",
          "1800",
          "1800",
          "1800",
          "1800",
          "1800",
          "1800",
          "1800",
          "1800",
          "1800",
          "1800",
          "1800",
          "1800",
          "1800",
          "1800",
          "1800",
          "1800",
          "1800",
          "1800",
          "1800",
          "1800",
          "1800",
          "1800",
          "1800",
          "1800",
          "1800",
          "1800",
          "1800",
          "1800",
          "1800",
          "1800",
          "1800",
          "1800",
          "1800",
          "1800",
          "1800",
          "1800",
          "1800",
          "1800",
          "1800",
          "1800",
          "1800",
          "1800",
          "1800",
          "1800",
          "1800",
          "1800",
          "1800",
          "1800",
          "1800",
          "1800",
          "1800",
          "1800",
          "1800",
          "1800",
          "1800",
          "1800",
          "1800",
          "1800",
          "1800",
          "1800",
          "1800",
          "1800",
          "1800",
          "1800",
          "1800",
          "1800",
          "1800",
          "1800",
          "1800",
          "1800",
          "1800",
          "1800",
          "1800",
          "1800",
          "1800",
          "1800",
          "1800",
          "1800",
          "1800",
          "1800",
          "1800",
          "1800",
          "1800",
          "1800",
          "1800",
          "1800",
          "1800",
          "1800",
          "1800",
          "1800",
          "1800",
          "1800",
          "1800",
          "1800",
          "1800",
          "1800",
          "1800",
          "1800",
          "1800",
          "1800",
          "1800",
          "1800",
          "1800",
          "1800",
          "1800",
          "1800",
          "1800",
          "1800",
          "1800",
          "1800",
          "1800",
          "1800",
          "1800",
          "1800",
          "1800",
          "1800",
          "1800",
          "1800",
          "1800",
          "1800",
          "1800",
          "1800",
          "1800",
          "1800",
          "1800",
          "1800",
          "1800",
          "1800",
          "1800",
          "1800",
          "1800",
          "1800",
          "1800",
          "1800",
          "1800",
          "1800",
          "1800",
          "1800",
          "1800",
          "1800",
          "1800",
          "1800",
          "1800",
          "1800",
          "1800",
          "1800",
          "1800",
          "1800",
          "1800",
          "1800",
          "1800",
          "1800",
          "1800",
          "1800",
          "1800",
          "1800",
          "1800",
          "1800",
          "1800",
          "1800",
          "1800",
          "1800",
          "1800",
          "1800",
          "1800",
          "1800",
          "1800",
          "1800",
          "1800",
          "1800",
          "1800",
          "1800",
          "1800",
          "1800",
          "1800",
          "1800",
          "1800",
          "1800",
          "1800",
          "1800",
          "1800",
          "1800",
          "1800",
          "1800",
          "1800",
          "1800",
          "1800",
          "1800",
          "1800",
          "1800",
          "1800",
          "1800",
          "1800",
          "1800",
          "1800",
          "1800",
          "1800",
          "1800",
          "1800",
          "1800",
          "1800",
          "1800",
          "1800",
          "1800",
          "1800",
          "1800",
          "1800",
          "1800",
          "1800",
          "1800",
          "1800",
          "1800",
          "1800",
          "1800",
          "1800",
          "1800",
          "1800",
          "1800",
          "1800",
          "1800",
          "1800",
          "1800",
          "1800",
          "1800",
          "1800",
          "1800",
          "1800",
          "1800",
          "1800",
          "1800",
          "1800",
          "1800",
          "1800",
          "1800",
          "1800",
          "1800",
          "1800",
          "1800",
          "1800",
          "1800",
          "1800",
          "1800",
          "1800",
          "1800",
          "1800",
          "1800",
          "1800",
          "1800",
          "1800",
          "1800",
          "1800",
          "1800",
          "1800",
          "1800",
          "1800",
          "1800",
          "1800",
          "1800",
          "1800",
          "1800",
          "1800",
          "1800",
          "1800",
          "1800",
          "1800",
          "1800",
          "1800",
          "1800",
          "1800",
          "1800",
          "1800",
          "1800",
          "1800",
          "1800",
          "1800",
          "1800",
          "1800",
          "1800",
          "1800",
          "1800",
          "1800",
          "1800",
          "1800",
          "1800",
          "1800",
          "1800",
          "1800",
          "1800",
          "1800",
          "1800",
          "1800",
          "1800",
          "1800",
          "1800",
          "1800",
          "1800",
          "1800",
          "1800",
          "1800",
          "1800",
          "1800",
          "1800",
          "1800",
          "1800",
          "1800",
          "1800",
          "1800",
          "1800",
          "1800",
          "1800",
          "1800",
          "1800",
          "1800",
          "1800",
          "1800",
          "1800",
          "1800",
          "1800",
          "1800",
          "1800",
          "1800",
          "1800",
          "1800",
          "1800",
          "1800",
          "1800",
          "1800",
          "1800",
          "1800",
          "1800",
          "1800",
          "1800",
          "1800",
          "1800",
          "1800",
          "1800",
          "1800",
          "1800",
          "1800",
          "1800",
          "1800",
          "1800",
          "1800",
          "1800",
          "1800",
          "1800",
          "1800",
          "1800",
          "1800",
          "1800",
          "1800",
          "1800",
          "1800",
          "1800",
          "1800",
          "1800",
          "1800",
          "1800",
          "1800",
          "1800",
          "1800",
          "1800",
          "1800",
          "1800",
          "1800",
          "1800",
          "1800",
          "1800",
          "1800",
          "1800",
          "1800",
          "1800",
          "1800",
          "1800",
          "1800",
          "1800",
          "1800",
          "1800",
          "1800",
          "1800",
          "1800",
          "1800",
          "1800",
          "1800",
          "1800",
          "1800",
          "1800",
          "1800",
          "1800",
          "1800",
          "1800",
          "1800",
          "1800",
          "1800",
          "1800",
          "1800",
          "1800",
          "1800",
          "1800",
          "1800",
          "1800",
          "1800",
          "1800",
          "1800",
          "1800",
          "1800",
          "1800",
          "1800",
          "1800",
          "1800",
          "1800",
          "1800",
          "1800",
          "1800",
          "1800",
          "1800",
          "1800",
          "1800",
          "1800",
          "1800",
          "1800",
          "1800",
          "1800",
          "1800",
          "1800",
          "1800",
          "1800",
          "1800",
          "1800",
          "1800",
          "1800",
          "1800",
          "1800",
          "1800",
          "1800",
          "1800",
          "1800",
          "1800",
          "1800",
          "1800",
          "1800",
          "1800",
          "1800",
          "1800",
          "1800",
          "1800",
          "1800",
          "1800",
          "1800",
          "1800",
          "1800",
          "1800",
          "1800",
          "1800",
          "1800",
          "1800",
          "1800",
          "1800",
          "1800",
          "1800",
          "1800",
          "1800",
          "1800",
          "1800",
          "1800",
          "1800",
          "1800",
          "1800",
          "1800",
          "1800",
          "1800",
          "1800",
          "1800",
          "1800",
          "1800",
          "1800",
          "1800",
          "1800",
          "1800",
          "1800",
          "1800",
          "1800",
          "1800",
          "1800",
          "1800",
          "1800",
          "1800",
          "1800",
          "1800",
          "1800",
          "1800",
          "1800",
          "1800",
          "1800",
          "1800",
          "1800",
          "1800",
          "1800",
          "1800",
          "1800",
          "1800",
          "1800",
          "1800",
          "1800",
          "1800",
          "1800",
          "1800",
          "1800",
          "1800",
          "1800",
          "1800",
          "1800",
          "1800",
          "1800",
          "1800",
          "1800",
          "1800",
          "1800",
          "1800",
          "1800",
          "1800",
          "1800",
          "1800",
          "1800",
          "1800",
          "1800",
          "1800",
          "1800",
          "1800",
          "1800",
          "1800",
          "1800",
          "1800",
          "1800",
          "1800",
          "1800",
          "1800",
          "1800",
          "1800",
          "1800",
          "1800",
          "1800",
          "1800",
          "1800",
          "1800",
          "1800",
          "1800",
          "1800",
          "1800",
          "1800",
          "1800",
          "1800",
          "1800",
          "1800",
          "1800",
          "1800",
          "1800",
          "1800",
          "1800",
          "1800",
          "1800",
          "1800",
          "1800",
          "1800",
          "1800",
          "1800",
          "1800",
          "1800",
          "1800",
          "1800",
          "1800",
          "1800",
          "1800",
          "1800",
          "1800",
          "1800",
          "1800",
          "1800",
          "1800",
          "1800",
          "1800",
          "1800",
          "1800",
          "1800",
          "1800",
          "1800",
          "1800",
          "1800",
          "1800",
          "1800",
          "1800",
          "1800",
          "1800",
          "1800",
          "1800",
          "1800",
          "1800",
          "1800",
          "1800",
          "1800",
          "1800",
          "1800",
          "1800",
          "1800",
          "1800",
          "1800",
          "1800",
          "1800",
          "1800",
          "1800",
          "1800",
          "1800",
          "1800",
          "1800",
          "1800",
          "1800",
          "1800",
          "1800",
          "1800",
          "1800",
          "1800",
          "1800",
          "1800",
          "1800",
          "1800",
          "1800",
          "1800",
          "1800",
          "1800",
          "1800",
          "1800",
          "1800",
          "1800",
          "1800",
          "1800",
          "1800",
          "1800",
          "1800",
          "1800",
          "1800",
          "1800",
          "1800",
          "1800",
          "1800",
          "1800",
          "1800",
          "1800",
          "1800",
          "1800",
          "1800",
          "1800",
          "1800",
          "1800",
          "1800",
          "1800",
          "1800",
          "1800",
          "1800",
          "1800",
          "1800",
          "1800",
          "1800",
          "1800",
          "1800",
          "1800",
          "1800",
          "1800",
          "1800",
          "1800",
          "1800",
          "1800",
          "1800",
          "1800",
          "1800",
          "1800",
          "1800",
          "1800",
          "1800",
          "1800",
          "1800",
          "1800",
          "1800",
          "1800",
          "1800",
          "1800",
          "1800",
          "1800",
          "1800",
          "1800",
          "1800",
          "1800",
          "1800",
          "1800",
          "1800",
          "1800",
          "1800",
          "1800",
          "1800",
          "1800",
          "1800",
          "1800",
          "1800",
          "1800",
          "1800",
          "1800",
          "1800",
          "1800",
          "1800",
          "1800",
          "1800",
          "1800",
          "1800",
          "1800",
          "1800",
          "1800",
          "1800",
          "1800",
          "1800",
          "1800",
          "1800",
          "1800",
          "1800",
          "1800",
          "1800",
          "1800",
          "1800",
          "1800",
          "1800",
          "1800",
          "1800",
          "1800",
          "1800",
          "1800",
          "1800",
          "1800",
          "1800",
          "1800",
          "1800",
          "1800",
          "1800",
          "1800",
          "1800",
          "1800",
          "1800",
          "1800",
          "1800",
          "1800",
          "1800",
          "1800",
          "1800",
          "1800",
          "1800",
          "1800",
          "1800",
          "1800",
          "1800",
          "1800",
          "1800",
          "1800",
          "1800",
          "1800",
          "1800",
          "1800",
          "1800",
          "1800",
          "1800",
          "1800",
          "1800",
          "1800",
          "1800",
          "1800",
          "1800",
          "1800",
          "1800",
          "1800",
          "1800",
          "1800",
          "1800",
          "1800",
          "1800",
          "1800",
          "1800",
          "1800",
          "1800",
          "1800",
          "1800",
          "1800",
          "1800",
          "1800",
          "1800",
          "1800",
          "1800",
          "1800",
          "1800",
          "1800",
          "1800",
          "1800",
          "1800",
          "1800",
          "1800",
          "1800",
          "1800",
          "1800",
          "1800",
          "1800",
          "1800",
          "1800",
          "1800",
          "1800",
          "1800",
          "1800",
          "1800",
          "1800",
          "1800",
          "1800",
          "1800",
          "1800",
          "1800",
          "1800",
          "1800",
          "1800",
          "1800",
          "1800",
          "1800",
          "1800",
          "1800",
          "1800",
          "1800",
          "1800",
          "1800",
          "1800",
          "1800",
          "1800",
          "1800",
          "1800",
          "1800",
          "1800",
          "1800",
          "1800",
          "1800",
          "1800",
          "1800",
          "1800",
          "1800",
          "1800",
          "1800",
          "1800",
          "1800",
          "1800",
          "1800",
          "1800",
          "1800",
          "1800",
          "1800",
          "1800",
          "1800",
          "1800",
          "1800",
          "1800",
          "1800",
          "1800",
          "1800",
          "1800",
          "1800",
          "1800",
          "1800",
          "1800",
          "1800",
          "1800",
          "1800",
          "1800",
          "1800",
          "1800",
          "1800",
          "1800",
          "1800",
          "1800",
          "1800",
          "1800",
          "1800",
          "1800",
          "1800",
          "1800",
          "1800",
          "1800",
          "1800",
          "1800",
          "1800",
          "1800",
          "1800",
          "1800",
          "1800",
          "1800",
          "1800",
          "1800",
          "1800",
          "1800",
          "1800",
          "1800",
          "1800",
          "1800",
          "1800",
          "1800",
          "1800",
          "1800",
          "1800",
          "1800",
          "1800",
          "1800",
          "1800",
          "1800",
          "1800",
          "1800",
          "1800",
          "1800",
          "1800",
          "1800",
          "1800",
          "1800",
          "1800",
          "1800",
          "1800",
          "1800",
          "1800",
          "1800",
          "1800",
          "1800",
          "1800",
          "1800",
          "1800",
          "1800",
          "1800",
          "1800",
          "1800",
          "1800",
          "1800",
          "1800",
          "1800",
          "1800",
          "1800",
          "1800",
          "1800",
          "1800",
          "1800",
          "1800",
          "1800",
          "1800",
          "1800",
          "1800",
          "1800",
          "1800",
          "1800",
          "1800",
          "1800",
          "1800",
          "1800",
          "1800",
          "1800",
          "1800",
          "1800",
          "1800",
          "1800",
          "1800",
          "1800",
          "1800",
          "1800",
          "1800",
          "1800",
          "1800",
          "1800",
          "1800",
          "1800",
          "1800",
          "1800",
          "1800",
          "1800",
          "1800",
          "1800",
          "1800",
          "1800",
          "1800",
          "1800",
          "1800",
          "1800",
          "1800",
          "1800",
          "1800",
          "1800",
          "1800",
          "1800",
          "1800",
          "1800",
          "1800",
          "1800",
          "1800",
          "1800",
          "1800",
          "1800",
          "1800",
          "1800",
          "1800",
          "1800",
          "1800",
          "1800",
          "1800",
          "1800",
          "1800",
          "1800",
          "1800",
          "1800",
          "1800",
          "1800",
          "1800",
          "1800",
          "1800",
          "1800",
          "1800",
          "1800",
          "1800",
          "1800",
          "1800",
          "1800",
          "1800",
          "1800",
          "1800",
          "1800",
          "1800",
          "1800",
          "1800",
          "1800",
          "1800",
          "1800",
          "1800",
          "1800",
          "1800",
          "1800",
          "1800",
          "1800",
          "1800",
          "1800",
          "1800",
          "1800",
          "1800",
          "1800",
          "1800",
          "1800",
          "1800",
          "1800",
          "1800",
          "1800",
          "1800",
          "1800",
          "1800",
          "1800",
          "1800",
          "1800",
          "1800",
          "1800",
          "1800",
          "1800",
          "1800",
          "1800",
          "1800",
          "1800",
          "1800",
          "1800",
          "1800",
          "1800",
          "1800",
          "1800",
          "1800",
          "1800",
          "1800",
          "1800",
          "1800",
          "1800",
          "1800",
          "1800",
          "1800",
          "1800",
          "1800",
          "1800",
          "1800",
          "1800",
          "1800",
          "1800",
          "1800",
          "1800",
          "1800",
          "1800",
          "1800",
          "1800",
          "1800",
          "1800",
          "1800",
          "1800",
          "1800",
          "1800",
          "1800",
          "1800",
          "1800",
          "1800",
          "1800",
          "1800",
          "1800",
          "1800",
          "1800",
          "1800",
          "1800",
          "1800",
          "1800",
          "1800",
          "1800",
          "1800",
          "1800",
          "1800",
          "1800",
          "1800",
          "1800",
          "1800",
          "1800",
          "1800",
          "1800",
          "1800",
          "1800",
          "1800",
          "1800",
          "1800",
          "1800",
          "1800",
          "1800",
          "1800",
          "1800",
          "1800",
          "1800",
          "1800",
          "1800",
          "1800",
          "1800",
          "1800",
          "1800",
          "1800",
          "1800",
          "1800",
          "1800",
          "1800",
          "1800",
          "1800",
          "1800",
          "1800",
          "1800",
          "1800",
          "1800",
          "1800",
          "1800",
          "1800",
          "1800",
          "1800",
          "1800",
          "1800",
          "1800",
          "1800",
          "1800",
          "1800",
          "1800",
          "1800",
          "1800",
          "1800",
          "1800",
          "1800",
          "1800",
          "1800",
          "1800",
          "1800",
          "1800",
          "1800",
          "1800",
          "1800",
          "1800",
          "1800",
          "1800",
          "1800",
          "1800",
          "1800",
          "1800",
          "1800",
          "1800",
          "1800",
          "1800",
          "1800",
          "1800",
          "1800",
          "1800",
          "1800",
          "1800",
          "1800",
          "1800",
          "1800",
          "1800",
          "1800",
          "1800",
          "1800",
          "1800",
          "1800",
          "1800",
          "1800",
          "1800",
          "1800",
          "1800",
          "1800",
          "1800",
          "1800",
          "1800",
          "1800",
          "1800",
          "1800",
          "1800",
          "1800",
          "1800",
          "1800",
          "1800",
          "1800",
          "1800",
          "1800",
          "1800",
          "1800",
          "1800",
          "1800",
          "1800",
          "1800",
          "1800",
          "1800",
          "1800",
          "1800",
          "1800",
          "1800",
          "1800",
          "1800",
          "1800",
          "1800",
          "1800",
          "1800",
          "1800",
          "1800",
          "1800",
          "1800",
          "1800",
          "1800",
          "1800",
          "1800",
          "1800",
          "1800",
          "1800",
          "1800",
          "1800",
          "1800",
          "1800",
          "1800",
          "1800",
          "1800",
          "1800",
          "1800",
          "1800",
          "1800",
          "1800",
          "1800",
          "1800",
          "1800",
          "1800",
          "1800",
          "1800",
          "1800",
          "1800",
          "1800",
          "1800",
          "1800",
          "1800",
          "1800",
          "1800",
          "1800",
          "1800",
          "1800",
          "1800",
          "1800",
          "1800",
          "1800",
          "1800",
          "1800",
          "1800",
          "1800",
          "1800",
          "1800",
          "1800",
          "1800",
          "1800",
          "1800",
          "1800",
          "1800",
          "1800",
          "1800",
          "1800",
          "1800",
          "1800",
          "1800",
          "1800",
          "1800",
          "1800",
          "1800",
          "1800",
          "1800",
          "1800",
          "1800",
          "1800",
          "1800",
          "1800",
          "1800",
          "1800",
          "1800",
          "1800",
          "1800",
          "1800",
          "1800",
          "1800",
          "1800",
          "1800",
          "1800",
          "1800",
          "1800",
          "1800",
          "1800",
          "1800",
          "1800",
          "1800",
          "1800",
          "1800",
          "1800",
          "1800",
          "1800",
          "1800",
          "1800",
          "1800",
          "1800",
          "1800",
          "1800",
          "1800",
          "1800",
          "1800",
          "1800",
          "1800",
          "1800",
          "1800",
          "1800",
          "1800",
          "1800",
          "1800",
          "1800",
          "1800",
          "1800",
          "1800",
          "1800",
          "1800",
          "1800",
          "1800",
          "1800",
          "1800",
          "1800",
          "1800",
          "1800",
          "1800",
          "1800",
          "1800",
          "1800",
          "1800",
          "1800",
          "1800",
          "1800",
          "1800",
          "1800",
          "1800",
          "1800",
          "1800",
          "1800",
          "1800",
          "1800",
          "1800",
          "1800",
          "1800",
          "1800",
          "1800",
          "1800",
          "1800",
          "1800",
          "1800",
          "1800",
          "1800",
          "1800",
          "1800",
          "1800",
          "1800",
          "1800",
          "1800",
          "1800",
          "1800",
          "1800",
          "1800",
          "1800",
          "1800",
          "1800",
          "1800",
          "1800",
          "1800",
          "1800",
          "1800",
          "1800",
          "1800",
          "1800",
          "1800",
          "1800",
          "1800",
          "1800",
          "1800",
          "1800",
          "1800",
          "1800",
          "1800",
          "1800",
          "1800",
          "1800",
          "1800",
          "1800",
          "1800",
          "1800",
          "1800",
          "1800",
          "1800",
          "1800",
          "1800",
          "1800",
          "1800",
          "1800",
          "1800",
          "1800",
          "1800",
          "1800",
          "1800",
          "1800",
          "1800",
          "1800",
          "1800",
          "1800",
          "1800",
          "1800",
          "1800",
          "1800",
          "1800",
          "1800",
          "1800",
          "1800",
          "1800",
          "1800",
          "1800",
          "1800",
          "1800",
          "1800",
          "1800",
          "1800",
          "1800",
          "1800",
          "1800",
          "1800",
          "1800",
          "1800",
          "1800",
          "1800",
          "1800",
          "1800",
          "1800",
          "1800",
          "1800",
          "1800",
          "1800",
          "1800",
          "1800",
          "1800",
          "1800",
          "1800",
          "1800",
          "1800",
          "1800",
          "1800",
          "1800",
          "1800",
          "1800",
          "1800",
          "1800",
          "1800",
          "1800",
          "1800",
          "1800",
          "1800",
          "1800",
          "1800",
          "1800",
          "1800",
          "1800",
          "1800",
          "1800",
          "1800",
          "1800",
          "1800",
          "1800",
          "1800",
          "1800",
          "1800",
          "1800",
          "1800",
          "1800",
          "1800",
          "1800",
          "1800",
          "1800",
          "1800",
          "1800",
          "1800",
          "1800",
          "1800",
          "1800",
          "1800",
          "1800",
          "1800",
          "1800",
          "1800",
          "1800",
          "1800",
          "1800",
          "1800",
          "1800",
          "1800",
          "1800",
          "1800",
          "1800",
          "1800",
          "1800",
          "1800",
          "1800",
          "1800",
          "1800",
          "1800",
          "1800",
          "1800",
          "1800",
          "1800",
          "1800",
          "1800",
          "1800",
          "1800",
          "1800",
          "1800",
          "1800",
          "1800",
          "1800",
          "1800",
          "1800",
          "1800",
          "1800",
          "1800",
          "1800",
          "1800",
          "1800",
          "1800",
          "1800",
          "1800",
          "1800",
          "1800",
          "1800",
          "1800",
          "1800",
          "1800",
          "1800",
          "1800",
          "1800",
          "1800",
          "1800",
          "1800",
          "1800",
          "1800",
          "1800",
          "1800",
          "1800",
          "1800",
          "1800",
          "1800",
          "1800",
          "1800",
          "1800",
          "1800",
          "1800",
          "1800",
          "1800",
          "1800",
          "1800",
          "1800",
          "1800",
          "1800",
          "1800",
          "1800",
          "1800",
          "1800",
          "1800",
          "1800",
          "1800",
          "1800",
          "1800",
          "1800",
          "1800",
          "1800",
          "1800",
          "1800",
          "1800",
          "1800",
          "1800",
          "1800",
          "1800",
          "1800",
          "1800",
          "1800",
          "1800",
          "1800",
          "1800",
          "1800",
          "1800",
          "1800",
          "1800",
          "1800",
          "1800",
          "1800",
          "1800",
          "1800",
          "1800",
          "1800",
          "1800",
          "1800",
          "1800",
          "1800",
          "1800",
          "1800",
          "1800",
          "1800",
          "1800",
          "1800",
          "1800",
          "1800",
          "1800",
          "1800",
          "1800",
          "1800",
          "1800",
          "1800",
          "1800",
          "1800",
          "1800",
          "1800",
          "1800",
          "1800",
          "1800",
          "1800",
          "1800",
          "1800",
          "1800",
          "1800",
          "1800",
          "1800",
          "1800",
          "1800",
          "1800",
          "1800",
          "1800",
          "1800",
          "1800",
          "1800",
          "1800",
          "1800",
          "1800",
          "1800",
          "1800",
          "1800",
          "1800",
          "1800",
          "1800",
          "1800",
          "1800",
          "1800",
          "1800",
          "1800",
          "1800",
          "1800",
          "1800",
          "1800",
          "1800",
          "1800",
          "1800",
          "1800",
          "1800",
          "1800",
          "1800",
          "1800",
          "1800",
          "1800",
          "1800",
          "1800",
          "1800",
          "1800",
          "1800",
          "1800",
          "1800",
          "1800",
          "1800",
          "1800",
          "1800",
          "1800",
          "1800",
          "1800",
          "1800",
          "1800",
          "1800",
          "1800",
          "1800",
          "1800",
          "1800",
          "1800",
          "1800",
          "1800",
          "1800",
          "1800",
          "1800",
          "1800",
          "1800",
          "1800",
          "1800",
          "1800",
          "1800",
          "1800",
          "1800",
          "1800",
          "1800",
          "1800",
          "1800",
          "1800",
          "1800",
          "1800",
          "1800",
          "1800",
          "1800",
          "1800",
          "1800",
          "1800",
          "1800",
          "1800",
          "1800",
          "1800",
          "1800",
          "1800",
          "1800",
          "1800",
          "1800",
          "1800",
          "1800",
          "1800",
          "1800",
          "1800",
          "1800",
          "1800",
          "1800",
          "1800",
          "1800",
          "1800",
          "1800",
          "1800",
          "1800",
          "1800",
          "1800",
          "1800",
          "1800",
          "1800",
          "1800",
          "1800",
          "1800",
          "1800",
          "1800",
          "1800",
          "1800",
          "1800",
          "1800",
          "1800",
          "1800",
          "1800",
          "1800",
          "1800",
          "1800",
          "1800",
          "1800",
          "1800",
          "1800",
          "1800",
          "1800",
          "1800",
          "1800",
          "1800",
          "1800",
          "1800",
          "1800",
          "1800",
          "1800",
          "1800",
          "1800",
          "1800",
          "1800",
          "1800",
          "1800",
          "1800",
          "1800",
          "1800",
          "1800",
          "1800",
          "1800",
          "1800",
          "1800",
          "1800",
          "1800",
          "1800",
          "1800",
          "1800",
          "1800",
          "1800",
          "1800",
          "1800",
          "1800",
          "1800",
          "1800",
          "1800",
          "1800",
          "1800",
          "1800",
          "1800",
          "1800",
          "1800",
          "1800",
          "1800",
          "1800",
          "1800",
          "1800",
          "1800",
          "1800",
          "1800",
          "1800",
          "1800",
          "1800",
          "1800",
          "1800",
          "1800",
          "1800",
          "1800",
          "1800",
          "1800",
          "1800",
          "1800",
          "1800",
          "1800",
          "1800",
          "1800",
          "1800",
          "1800",
          "1800",
          "1800",
          "1800",
          "1800",
          "1800",
          "1800",
          "1800",
          "1800",
          "1800",
          "1800",
          "1800",
          "1800",
          "1800",
          "1800",
          "1800",
          "1800",
          "1800",
          "1800",
          "1800",
          "1800",
          "1800",
          "1800",
          "1800",
          "1800",
          "1800",
          "1800",
          "1800",
          "1800",
          "1800",
          "1800",
          "1800",
          "1800",
          "1800",
          "1800",
          "1800",
          "1800",
          "1800",
          "1800",
          "1800",
          "1800",
          "1800",
          "1800",
          "1800",
          "1800",
          "1800",
          "1800",
          "1800",
          "1800",
          "1800",
          "1800",
          "1800",
          "1800",
          "1800",
          "1800",
          "1800",
          "1800",
          "1800",
          "1800",
          "1800",
          "1800",
          "1800",
          "1800",
          "1800",
          "1800",
          "1800",
          "1800",
          "1800",
          "1800",
          "1800",
          "1800",
          "1800",
          "1800",
          "1800",
          "1800",
          "1800",
          "1800",
          "1800",
          "1800",
          "1800",
          "1800",
          "1800",
          "1800",
          "1800",
          "1800",
          "1800",
          "1800",
          "1800",
          "1800",
          "1800",
          "1800",
          "1800",
          "1800",
          "1800",
          "1800",
          "1800",
          "1800",
          "1800",
          "1800",
          "1800",
          "1800",
          "1800",
          "1800",
          "1800",
          "1800",
          "1800",
          "1800",
          "1800",
          "1800",
          "1800",
          "1800",
          "1800",
          "1800",
          "1800",
          "1800",
          "1800",
          "1800",
          "1800",
          "1800",
          "1800",
          "1800",
          "1800",
          "1800",
          "1800",
          "1800",
          "1800",
          "1800",
          "1800",
          "1800",
          "1800",
          "1800",
          "1800",
          "1800",
          "1800",
          "1800",
          "1800",
          "1800",
          "1800",
          "1800",
          "1800",
          "1800",
          "1800",
          "1800",
          "1800",
          "1800",
          "1800",
          "1800",
          "1800",
          "1800",
          "1800",
          "1800",
          "1800",
          "1800",
          "1800",
          "1800",
          "1800",
          "1800",
          "1800",
          "1800",
          "1800",
          "1800",
          "1800",
          "1800",
          "1800",
          "1800",
          "1800",
          "1800",
          "1800",
          "1800",
          "1800",
          "1800",
          "1800",
          "1800",
          "1800",
          "1800",
          "1800",
          "1800",
          "1800",
          "1800",
          "1800",
          "1800",
          "1800",
          "1800",
          "1800",
          "1800",
          "1800",
          "1800",
          "1800",
          "1800",
          "1800",
          "1800",
          "1800",
          "1800",
          "1800",
          "1800",
          "1800",
          "1800",
          "1800",
          "1800",
          "1800",
          "1800",
          "1800",
          "1800",
          "1800",
          "1800",
          "1800",
          "1800",
          "1800",
          "1800",
          "1800",
          "1800",
          "1800",
          "1800",
          "1800",
          "1800",
          "1800",
          "1800",
          "1800",
          "1800",
          "1800",
          "1800",
          "1800",
          "1800",
          "1800",
          "1800",
          "1800",
          "1800",
          "1800",
          "1800",
          "1800",
          "1800",
          "1800",
          "1800",
          "1800",
          "1800",
          "1800",
          "1800",
          "1800",
          "1800",
          "1800",
          "1800",
          "1800",
          "1800",
          "1800",
          "1800",
          "1800",
          "1800",
          "1800",
          "1800",
          "1800",
          "1800",
          "1800",
          "1800",
          "1800",
          "1800",
          "1800",
          "1800",
          "1800",
          "1800",
          "1800",
          "1800",
          "1800",
          "1800",
          "1800",
          "1800",
          "1800",
          "1800",
          "1800",
          "1800",
          "1800",
          "1800",
          "1800",
          "1800",
          "1800",
          "1800",
          "1800",
          "1800",
          "1800",
          "1800",
          "1800",
          "1800",
          "1800",
          "1800",
          "1800",
          "1800",
          "1800",
          "1800",
          "1800",
          "1800",
          "1800",
          "1800",
          "1800",
          "1800",
          "1800",
          "1800",
          "1800",
          "1800",
          "1800",
          "1800",
          "1800",
          "1800",
          "1800",
          "1800",
          "1800",
          "1800",
          "1800",
          "1800",
          "1800",
          "1800",
          "1800",
          "1800",
          "1800",
          "1800",
          "1800",
          "1800",
          "1800",
          "1800",
          "1800",
          "1800",
          "1800",
          "1800",
          "1800",
          "1800",
          "1800",
          "1800",
          "1800",
          "1800",
          "1800",
          "1800",
          "1800",
          "1800",
          "1800",
          "1800",
          "1800",
          "1800",
          "1800",
          "1800",
          "1800",
          "1800",
          "1800",
          "1800",
          "1800",
          "1800",
          "1800",
          "1800",
          "1800",
          "1800",
          "1800",
          "1800",
          "1800",
          "1800",
          "1800",
          "1800",
          "1800",
          "1800",
          "1800",
          "1800",
          "1800",
          "1800",
          "1800",
          "1800",
          "1800",
          "1800",
          "1800",
          "1800",
          "1800",
          "1800",
          "1800",
          "1800",
          "1800",
          "1800",
          "1800",
          "1800",
          "1800",
          "1800",
          "1800",
          "1800",
          "1800",
          "1800",
          "1800",
          "1800",
          "1800",
          "1800",
          "1800",
          "1800",
          "1800",
          "1800",
          "1800",
          "1800",
          "1800",
          "1800",
          "1800",
          "1800",
          "1800",
          "1800",
          "1800",
          "1800",
          "1800",
          "1800",
          "1800",
          "1800",
          "1800",
          "1800",
          "1800",
          "1800",
          "1800",
          "1800",
          "1800",
          "1800",
          "1800",
          "1800",
          "1800",
          "1800",
          "1800",
          "1800",
          "1800",
          "1800",
          "1800",
          "1800",
          "1800",
          "1800",
          "1800",
          "1800",
          "1800",
          "1800",
          "1800",
          "1800",
          "1800",
          "1800",
          "1800",
          "1800",
          "1800",
          "1800",
          "1800",
          "1800",
          "1800",
          "1800",
          "1800",
          "1800",
          "1800",
          "1800",
          "1800",
          "1800",
          "1800",
          "1800",
          "1800",
          "1800",
          "1800",
          "1800",
          "1800",
          "1800",
          "1800",
          "1800",
          "1800",
          "1800",
          "1800",
          "1800",
          "1800",
          "1800",
          "1800",
          "1800",
          "1800",
          "1800",
          "1800",
          "1800",
          "1800",
          "1800",
          "1800",
          "1800",
          "1800",
          "1800",
          "1800",
          "1800",
          "1800",
          "1800",
          "1800",
          "1800",
          "1800",
          "1800",
          "1800",
          "1800",
          "1800",
          "1800",
          "1800",
          "1800",
          "1800",
          "1800",
          "1800",
          "1800",
          "1800",
          "1800",
          "1800",
          "1800",
          "1800",
          "1800",
          "1800",
          "1800",
          "1800",
          "1800",
          "1800",
          "1800",
          "1800",
          "1800",
          "1800",
          "1800",
          "1800",
          "1800",
          "1800",
          "1800",
          "1800",
          "1800",
          "1800",
          "1800",
          "1800",
          "1800",
          "1800",
          "1800",
          "1800",
          "1800",
          "1800",
          "1800",
          "1800",
          "1800",
          "1800",
          "1800",
          "1800",
          "1800",
          "1800",
          "1800",
          "1800",
          "1800",
          "1800",
          "1800",
          "1800",
          "1800",
          "1800",
          "1800",
          "1800",
          "1800",
          "1800",
          "1800",
          "1800",
          "1800",
          "1800",
          "1800",
          "1800",
          "1800",
          "1800",
          "1800",
          "1800",
          "1800",
          "1800",
          "1800",
          "1800",
          "1800",
          "1800",
          "1800",
          "1800",
          "1800",
          "1800",
          "1800",
          "1800",
          "1800",
          "1800",
          "1800",
          "1800",
          "1800",
          "1800",
          "1800",
          "1800",
          "1800",
          "1800",
          "1800",
          "1800",
          "1800",
          "1800",
          "1800",
          "1800",
          "1800",
          "1800",
          "1800",
          "1800",
          "1800",
          "1800",
          "1800",
          "1800",
          "1800",
          "1800",
          "1800",
          "1800",
          "1800",
          "1800",
          "1800",
          "1800",
          "1800",
          "1800",
          "1800",
          "1800",
          "1800",
          "1800",
          "1800",
          "1800",
          "1800",
          "1800",
          "1800",
          "1800",
          "1800",
          "1800",
          "1800",
          "1800",
          "1800",
          "1800",
          "1800",
          "1800",
          "1800",
          "1800",
          "1800",
          "1800",
          "1800",
          "1800",
          "1800",
          "1800",
          "1800",
          "1800",
          "1800",
          "1800",
          "1800",
          "1800",
          "1800",
          "1800",
          "1800",
          "1800",
          "1800",
          "1800",
          "1800",
          "1800",
          "1800",
          "1800",
          "1800",
          "1800",
          "1800",
          "1800",
          "1800",
          "1800",
          "1800",
          "1800",
          "1800",
          "1800",
          "1800",
          "1800",
          "1800",
          "1800",
          "1800",
          "1800",
          "1800",
          "1800",
          "1800",
          "1800",
          "1800",
          "1800",
          "1800",
          "1800",
          "1800",
          "1800",
          "1800",
          "1800",
          "1800",
          "1800",
          "1800",
          "1800",
          "1800",
          "1800",
          "1800",
          "1800",
          "1800",
          "1800",
          "1800",
          "1800",
          "1800",
          "1800",
          "1800",
          "1800",
          "1800",
          "1800",
          "1800",
          "1800",
          "1800",
          "1800",
          "1800",
          "1800",
          "1800",
          "1800",
          "1800",
          "1800",
          "1800",
          "1800",
          "1800",
          "1800",
          "1800",
          "1800",
          "1800",
          "1800",
          "1800",
          "1800",
          "1800",
          "1800",
          "1800",
          "1800",
          "1800",
          "1800",
          "1800",
          "1800",
          "1800",
          "1800",
          "1800",
          "1800",
          "1800",
          "1800",
          "1800",
          "1800",
          "1800",
          "1800",
          "1800",
          "1800",
          "1800",
          "1800",
          "1800",
          "1800",
          "1800",
          "1800",
          "1800",
          "1800",
          "1800",
          "1800",
          "1800",
          "1800",
          "1800",
          "1800",
          "1800",
          "1800",
          "1800",
          "1800",
          "1800",
          "1800",
          "1800",
          "1800",
          "1800",
          "1800",
          "1800",
          "1800",
          "1800",
          "1800",
          "1800",
          "1800",
          "1800",
          "1800",
          "1800",
          "1800",
          "1800",
          "1800",
          "1800",
          "1800",
          "1800",
          "1800",
          "1800",
          "1800",
          "1800",
          "1800",
          "1800",
          "1800",
          "1800",
          "1800",
          "1800",
          "1800",
          "1800",
          "1800",
          "1800",
          "1800",
          "1800",
          "1800",
          "1800",
          "1800",
          "1800",
          "1800",
          "1800",
          "1800",
          "1800",
          "1800",
          "1800",
          "1800",
          "1800",
          "1800",
          "1800",
          "1800",
          "1800",
          "1800",
          "1800",
          "1800",
          "1800",
          "1800",
          "1800",
          "1800",
          "1800",
          "1800",
          "1800",
          "1800",
          "1800",
          "1800",
          "1800",
          "1800",
          "1800",
          "1800",
          "1800",
          "1800",
          "1800",
          "1800",
          "1800",
          "1800",
          "1800",
          "1800",
          "1800",
          "1800",
          "1800",
          "1800",
          "1800",
          "1800",
          "1800",
          "1800",
          "1800",
          "1800",
          "1800",
          "1800",
          "1800",
          "1800",
          "1800",
          "1800",
          "1800",
          "1800",
          "1800",
          "1800",
          "1800",
          "1800",
          "1800",
          "1800",
          "1800",
          "1800",
          "1800",
          "1800",
          "1800",
          "1800",
          "1800",
          "1800",
          "1800",
          "1800",
          "1800",
          "1800",
          "1800",
          "1800",
          "1800",
          "1800",
          "1800",
          "1800",
          "1800",
          "1800",
          "1800",
          "1800",
          "1800",
          "1800",
          "1800",
          "1800",
          "1800",
          "1800",
          "1800",
          "1800",
          "1800",
          "1800",
          "1800",
          "1800",
          "1800",
          "1800",
          "1800",
          "1800",
          "1800",
          "1800",
          "1800",
          "1800",
          "1800",
          "1800",
          "1800",
          "1800",
          "1800",
          "1800",
          "1800",
          "1800",
          "1800",
          "1800",
          "1800",
          "1800",
          "1800",
          "1800",
          "1800",
          "1800",
          "1800",
          "1800",
          "1800",
          "1800",
          "1800",
          "1800",
          "1800",
          "1800",
          "1800",
          "1800",
          "1800",
          "1800",
          "1800",
          "1800",
          "1800",
          "1800",
          "1800",
          "1800",
          "1800",
          "1800",
          "1800",
          "1800",
          "1800",
          "1800",
          "1800",
          "1800",
          "1800",
          "1800",
          "1800",
          "1800",
          "1800",
          "1800",
          "1800",
          "1800",
          "1800",
          "1800",
          "1800",
          "1800",
          "1800",
          "1800",
          "1800",
          "1800",
          "1800",
          "1800",
          "1800",
          "1800",
          "1800",
          "1800",
          "1800",
          "1800",
          "1800",
          "1800",
          "1800",
          "1800",
          "1800",
          "1800",
          "1800",
          "1800",
          "1800",
          "1800",
          "1800",
          "1800",
          "1800",
          "1800",
          "1800",
          "1800",
          "1800",
          "1800",
          "1800",
          "1800",
          "1800",
          "1800",
          "1800",
          "1800",
          "1800",
          "1800",
          "1800",
          "1800",
          "1800",
          "1800",
          "1800",
          "1800",
          "1800",
          "1800",
          "1800",
          "1800",
          "1800",
          "1800",
          "1800",
          "1800",
          "1800",
          "1800",
          "1800",
          "1800",
          "1800",
          "1800",
          "1800",
          "1800",
          "1800",
          "1800",
          "1800",
          "1800",
          "1800",
          "1800",
          "1800",
          "1800",
          "1800",
          "1800",
          "1800",
          "1800",
          "1800",
          "1800",
          "1800",
          "1800",
          "1800",
          "1800",
          "1800",
          "1800",
          "1800",
          "1800",
          "1800",
          "1800",
          "1800",
          "1800",
          "1800",
          "1800",
          "1800",
          "1800",
          "1800",
          "1800",
          "1800",
          "1800",
          "1800",
          "1800",
          "1800",
          "1800",
          "1800",
          "1800",
          "1800",
          "1800",
          "1800",
          "1800",
          "1800",
          "1800",
          "1800",
          "1800",
          "1800",
          "1800",
          "1800",
          "1800",
          "1800",
          "1800",
          "1800",
          "1800",
          "1800",
          "1800",
          "1800",
          "1800",
          "1800",
          "1800",
          "1800",
          "1800",
          "1800",
          "1800",
          "1800",
          "1800",
          "1800",
          "1800",
          "1800",
          "1800",
          "1800",
          "1800",
          "1800",
          "1800",
          "1800",
          "1800",
          "1800",
          "1800",
          "1800",
          "1800",
          "1800",
          "1800",
          "1800",
          "1800",
          "1800",
          "1800",
          "1800",
          "1800",
          "1800",
          "1800",
          "1800",
          "1800",
          "1800",
          "1800",
          "1800",
          "1800",
          "1800",
          "1800",
          "1800",
          "1800",
          "1800",
          "1800",
          "1800",
          "1800",
          "1800",
          "1800",
          "1800",
          "1800",
          "1800",
          "1800",
          "1800",
          "1800",
          "1800",
          "1800",
          "1800",
          "1800",
          "1800",
          "1800",
          "1800",
          "1800",
          "1800",
          "1800",
          "1800",
          "1800",
          "1800",
          "1800",
          "1800",
          "1800",
          "1800",
          "1800",
          "1800",
          "1800",
          "1800",
          "1800",
          "1800",
          "1800",
          "1800",
          "1800",
          "1800",
          "1800",
          "1800",
          "1800",
          "1800",
          "1800",
          "1800",
          "1800",
          "1800",
          "1800",
          "1800",
          "1800",
          "1800",
          "1800",
          "1800",
          "1800",
          "1800",
          "1800",
          "1800",
          "1800",
          "1800",
          "1800",
          "1800",
          "1800",
          "1800",
          "1800",
          "1800",
          "1800",
          "1800",
          "1800",
          "1800",
          "1800",
          "1800",
          "1800",
          "1800",
          "1800",
          "1800",
          "1800",
          "1800",
          "1800",
          "1800",
          "1800",
          "1800",
          "1800",
          "1800",
          "1800",
          "1800",
          "1800",
          "1800",
          "1800",
          "1800",
          "1800",
          "1800",
          "1800",
          "1800",
          "1800",
          "1800",
          "1800",
          "1800",
          "1800",
          "1800",
          "1800",
          "1800",
          "1800",
          "1800",
          "1800",
          "1800",
          "1800",
          "1800",
          "1800",
          "1800",
          "1800",
          "1800",
          "1800",
          "1800",
          "1800",
          "1800",
          "1800",
          "1800",
          "1800",
          "1800",
          "1800",
          "1800",
          "1800",
          "1800",
          "1800",
          "1800",
          "1800",
          "1800",
          "1800",
          "1800",
          "1800",
          "1800",
          "1800",
          "1800",
          "1800",
          "1800",
          "1800",
          "1800",
          "1800",
          "1800",
          "1800",
          "1800",
          "1800",
          "1800",
          "1800",
          "1800",
          "1800",
          "1800",
          "1800",
          "1800",
          "1800",
          "1800",
          "1800",
          "1800",
          "1800",
          "1800",
          "1800",
          "1800",
          "1800",
          "1800",
          "1800",
          "1800",
          "1800",
          "1800",
          "1800",
          "1800",
          "1800",
          "1800",
          "1800",
          "1800",
          "1800",
          "1800",
          "1800",
          "1800",
          "1800",
          "1800",
          "1800",
          "1800",
          "1800",
          "1800",
          "1800",
          "1800",
          "1800",
          "1800",
          "1800",
          "1800",
          "1800",
          "1800",
          "1800",
          "1800",
          "1800",
          "1800",
          "1800",
          "1800",
          "1800",
          "1800",
          "1800",
          "1800",
          "1800",
          "1800",
          "1800",
          "1800",
          "1800",
          "1800",
          "1800",
          "1800",
          "1800",
          "1800",
          "1800",
          "1800",
          "1800",
          "1800",
          "1800",
          "1800",
          "1800",
          "1800",
          "1800",
          "1800",
          "1800",
          "1800",
          "1800",
          "1800",
          "1800",
          "1800",
          "1800",
          "1800",
          "1800",
          "1800",
          "1800",
          "1800",
          "1800",
          "1800",
          "1800",
          "1800",
          "1800",
          "1800",
          "1800",
          "1800",
          "1800",
          "1800",
          "1800",
          "1800",
          "1800",
          "1800",
          "1800",
          "1800",
          "1800",
          "1800",
          "1800",
          "1800",
          "1800",
          "1800",
          "1800",
          "1800",
          "1800",
          "1800",
          "1800",
          "1800",
          "1800",
          "1800",
          "1800",
          "1800",
          "1800",
          "1800",
          "1800",
          "1800",
          "1800",
          "1800",
          "1800",
          "1800",
          "1800",
          "1800",
          "1800",
          "1800",
          "1800",
          "1800",
          "1800",
          "1800",
          "1800",
          "1800",
          "1800",
          "1800",
          "1800",
          "1800",
          "1800",
          "1800",
          "1800",
          "1800",
          "1800",
          "1800",
          "1800",
          "1800",
          "1800",
          "1800",
          "1800",
          "1800",
          "1800",
          "1800",
          "1800",
          "1800",
          "1800",
          "1800",
          "1800",
          "1800",
          "1800",
          "1800",
          "1800",
          "1800",
          "1800",
          "1800",
          "1800",
          "1800",
          "1800",
          "1800",
          "1800",
          "1800",
          "1800",
          "1800",
          "1800",
          "1800",
          "1800",
          "1800",
          "1800",
          "1800",
          "1800",
          "1800",
          "1800",
          "1800",
          "1800",
          "1800",
          "1800",
          "1800",
          "1800",
          "1800",
          "1800",
          "1800",
          "1800",
          "1800",
          "1800",
          "1800",
          "1800",
          "1800",
          "1800",
          "1800",
          "1800",
          "1800",
          "1800",
          "1800",
          "1800",
          "1800",
          "1800",
          "1900",
          "1900",
          "1900",
          "1900",
          "1900",
          "1900",
          "1900",
          "1900",
          "1900",
          "1900",
          "1900",
          "1900",
          "1900",
          "1900",
          "1900",
          "1900",
          "1900",
          "1900",
          "1900",
          "1900",
          "1900",
          "1900",
          "1900",
          "1900",
          "1900",
          "1900",
          "1900",
          "1900",
          "1900",
          "1900",
          "1900",
          "1900",
          "1900",
          "1900",
          "1900",
          "1900",
          "1900",
          "1900",
          "1900",
          "1900",
          "1900",
          "1900",
          "1900",
          "1900",
          "1900",
          "1900",
          "1900",
          "1900",
          "1900",
          "1900",
          "1900",
          "1900",
          "1900",
          "1900",
          "1900",
          "1900",
          "1900",
          "1900",
          "1900",
          "1900",
          "1900",
          "1900",
          "1900",
          "1900",
          "1900",
          "1900",
          "1900",
          "1900",
          "1900",
          "1900",
          "1900",
          "1900",
          "1900",
          "1900",
          "1900",
          "1900",
          "1900",
          "1900",
          "1900",
          "1900",
          "1900",
          "1900",
          "1900",
          "1900",
          "1900",
          "1900",
          "1900",
          "1900",
          "1900",
          "1900",
          "1900",
          "1900",
          "1900",
          "1900",
          "1900",
          "1900",
          "1900",
          "1900",
          "1900",
          "1900",
          "1900",
          "1900",
          "1900",
          "1900",
          "1900",
          "1900",
          "1900",
          "1900",
          "1900",
          "1900",
          "1900",
          "1900",
          "1900",
          "1900",
          "1900",
          "1900",
          "1900",
          "1900",
          "1900",
          "1900",
          "1900",
          "1900",
          "1900",
          "1900",
          "1900",
          "1900",
          "1900",
          "1900",
          "1900",
          "1900",
          "1900",
          "1900",
          "1900",
          "1900",
          "1900",
          "1900",
          "1900",
          "1900",
          "1900",
          "1900",
          "1900",
          "1900",
          "1900",
          "1900",
          "1900",
          "1900",
          "1900",
          "1900",
          "1900",
          "1900",
          "1900",
          "1900",
          "1900",
          "1900",
          "1900",
          "1900",
          "1900",
          "1900",
          "1900",
          "1900",
          "1900",
          "1900",
          "1900",
          "1900",
          "1900",
          "1900",
          "1900",
          "1900",
          "1900",
          "1900",
          "1900",
          "1900",
          "1900",
          "1900",
          "1900",
          "1900",
          "1900",
          "1900",
          "1900",
          "1900",
          "1900",
          "1900",
          "1900",
          "1900",
          "1900",
          "1900",
          "1900",
          "1900",
          "1900",
          "1900",
          "1900",
          "1900",
          "1900",
          "1900",
          "1900",
          "1900",
          "1900",
          "1900",
          "1900",
          "1900",
          "1900",
          "1900",
          "1900",
          "1900",
          "1900",
          "1900",
          "1900",
          "1900",
          "1900",
          "1900",
          "1900",
          "1900",
          "1900",
          "1900",
          "1900",
          "1900",
          "1900",
          "1900",
          "1900",
          "1900",
          "1900",
          "1900",
          "1900",
          "1900",
          "1900",
          "1900",
          "1900",
          "1900",
          "1900",
          "1900",
          "1900",
          "1900",
          "1900",
          "1900",
          "1900",
          "1900",
          "1900",
          "1900",
          "1900",
          "1900",
          "1900",
          "1900",
          "1900",
          "1900",
          "1900",
          "1900",
          "1900",
          "1900",
          "1900",
          "1900",
          "1900",
          "1900",
          "1900",
          "1900",
          "1900",
          "1900",
          "1900",
          "1900",
          "1900",
          "1900",
          "1900",
          "1900",
          "1900",
          "1900",
          "1900",
          "1900",
          "1900",
          "1900",
          "1900",
          "1900",
          "1900",
          "1900",
          "1900",
          "1900",
          "1900",
          "1900",
          "1900",
          "1900",
          "1900",
          "1900",
          "1900",
          "1900",
          "1900",
          "1900",
          "1900",
          "1900",
          "1900",
          "1900",
          "1900",
          "1900",
          "1900",
          "1900",
          "1900",
          "1900",
          "1900",
          "1900",
          "1900",
          "1900",
          "1900",
          "1900",
          "1900",
          "1900",
          "1900",
          "1900",
          "1900",
          "1900",
          "1900",
          "1900",
          "1900",
          "1900",
          "1900",
          "1900",
          "1900",
          "1900",
          "1900",
          "1900",
          "1900",
          "1900",
          "1900",
          "1900",
          "1900",
          "1900",
          "1900",
          "1900",
          "1900",
          "1900",
          "1900",
          "1900",
          "1900",
          "1900",
          "1900",
          "1900",
          "1900",
          "1900",
          "1900",
          "1900",
          "1900",
          "1900",
          "1900",
          "1900",
          "1900",
          "1900",
          "1900",
          "1900",
          "1900",
          "1900",
          "1900",
          "1900",
          "1900",
          "1900",
          "1900",
          "1900",
          "1900",
          "1900",
          "1900",
          "1900",
          "1900",
          "1900",
          "1900",
          "1900",
          "1900",
          "1900",
          "1900",
          "1900",
          "1900",
          "1900",
          "1900",
          "1900",
          "1900",
          "1900",
          "1900",
          "1900",
          "1900",
          "1900",
          "1900",
          "1900",
          "1900",
          "1900",
          "1900",
          "1900",
          "1900",
          "1900",
          "1900",
          "1900",
          "1900",
          "1900",
          "1900",
          "1900",
          "1900",
          "1900",
          "1900",
          "1900",
          "1900",
          "1900",
          "1900",
          "1900",
          "1900",
          "1900",
          "1900",
          "1900",
          "1900",
          "1900",
          "1900",
          "1900",
          "1900",
          "1900",
          "1900",
          "1900",
          "1900",
          "1900",
          "1900",
          "1900",
          "1900",
          "1900",
          "1900",
          "1900",
          "1900",
          "1900",
          "1900",
          "1900",
          "1900",
          "1900",
          "1900",
          "1900",
          "1900",
          "1900",
          "1900",
          "1900",
          "1900",
          "1900",
          "1900",
          "1900",
          "1900",
          "1900",
          "1900",
          "1900",
          "1900",
          "1900",
          "1900",
          "1900",
          "1900",
          "1900",
          "1900",
          "1900",
          "1900",
          "1900",
          "1900",
          "1900",
          "1900",
          "1900",
          "1900",
          "1900",
          "1900",
          "1900",
          "1900",
          "1900",
          "1900",
          "1900",
          "1900",
          "1900",
          "1900",
          "1900",
          "1900",
          "1900",
          "1900",
          "1900",
          "1900",
          "1900",
          "1900",
          "1900",
          "1900",
          "1900",
          "1900",
          "1900",
          "1900",
          "1900",
          "1900",
          "1900",
          "1900",
          "1900",
          "1900",
          "1900",
          "1900",
          "1900",
          "1900",
          "1900",
          "1900",
          "1900",
          "1900",
          "1900",
          "1900",
          "1900",
          "1900",
          "1900",
          "1900",
          "1900",
          "1900",
          "1900",
          "1900",
          "1900",
          "1900",
          "1900",
          "1900",
          "1900",
          "1900",
          "1900",
          "1900",
          "1900",
          "1900",
          "1900",
          "1900",
          "1900",
          "1900",
          "1900",
          "1900",
          "1900",
          "1900",
          "1900",
          "1900",
          "1900",
          "1900",
          "1900",
          "1900",
          "1900",
          "1900",
          "1900",
          "1900",
          "1900",
          "1900",
          "1900",
          "1900",
          "1900",
          "1900",
          "1900",
          "1900",
          "1900",
          "1900",
          "1900",
          "1900",
          "1900",
          "1900",
          "1900",
          "1900",
          "1900",
          "1900",
          "1900",
          "1900",
          "1900",
          "1900",
          "1900",
          "1900",
          "1900",
          "1900",
          "1900",
          "1900",
          "1900",
          "1900",
          "1900",
          "1900",
          "1900",
          "1900",
          "1900",
          "1900",
          "1900",
          "1900",
          "1900",
          "1900",
          "1900",
          "1900",
          "1900",
          "1900",
          "1900",
          "1900",
          "1900",
          "1900",
          "1900",
          "1900",
          "1900",
          "1900",
          "1900",
          "1900",
          "1900",
          "1900",
          "1900",
          "1900",
          "1900",
          "1900",
          "1900",
          "1900",
          "1900",
          "1900",
          "1900",
          "1900",
          "1900",
          "1900",
          "1900",
          "1900",
          "1900",
          "1900",
          "1900",
          "1900",
          "1900",
          "1900",
          "1900",
          "1900",
          "1900",
          "1900",
          "1900",
          "1900",
          "1900",
          "1900",
          "1900",
          "1900",
          "1900",
          "1900",
          "1900",
          "1900",
          "1900",
          "1900",
          "1900",
          "1900",
          "1900",
          "1900",
          "1900",
          "1900",
          "1900",
          "1900",
          "1900",
          "1900",
          "1900",
          "1900",
          "1900",
          "1900",
          "1900",
          "1900",
          "1900",
          "1900",
          "1900",
          "1900",
          "1900",
          "1900",
          "1900",
          "1900",
          "1900",
          "1900",
          "1900",
          "1900",
          "1900",
          "1900",
          "1900",
          "1900",
          "1900",
          "1900",
          "1900",
          "1900",
          "1900",
          "1900",
          "1900",
          "1900",
          "1900",
          "1900",
          "1900",
          "1900",
          "1900",
          "1900",
          "1900",
          "1900",
          "1900",
          "1900",
          "1900",
          "1900",
          "1900",
          "1900",
          "1900",
          "1900",
          "1900",
          "1900",
          "1900",
          "1900",
          "1900",
          "1900",
          "1900",
          "1900",
          "1900",
          "1900",
          "1900",
          "1900",
          "1900",
          "1900",
          "1900",
          "1900",
          "1900",
          "1900",
          "1900",
          "1900",
          "1900",
          "1900",
          "1900",
          "Before 1500",
          "Before 1500",
          "Before 1500",
          "Before 1500",
          "Before 1500",
          "Before 1500",
          "Before 1500",
          "Before 1500",
          "Before 1500",
          "Before 1500",
          "Before 1500"
         ],
         "xaxis": "x",
         "yaxis": "y"
        }
       ],
       "layout": {
        "barmode": "relative",
        "legend": {
         "tracegroupgap": 0
        },
        "template": {
         "data": {
          "bar": [
           {
            "error_x": {
             "color": "#2a3f5f"
            },
            "error_y": {
             "color": "#2a3f5f"
            },
            "marker": {
             "line": {
              "color": "#E5ECF6",
              "width": 0.5
             }
            },
            "type": "bar"
           }
          ],
          "barpolar": [
           {
            "marker": {
             "line": {
              "color": "#E5ECF6",
              "width": 0.5
             }
            },
            "type": "barpolar"
           }
          ],
          "carpet": [
           {
            "aaxis": {
             "endlinecolor": "#2a3f5f",
             "gridcolor": "white",
             "linecolor": "white",
             "minorgridcolor": "white",
             "startlinecolor": "#2a3f5f"
            },
            "baxis": {
             "endlinecolor": "#2a3f5f",
             "gridcolor": "white",
             "linecolor": "white",
             "minorgridcolor": "white",
             "startlinecolor": "#2a3f5f"
            },
            "type": "carpet"
           }
          ],
          "choropleth": [
           {
            "colorbar": {
             "outlinewidth": 0,
             "ticks": ""
            },
            "type": "choropleth"
           }
          ],
          "contour": [
           {
            "colorbar": {
             "outlinewidth": 0,
             "ticks": ""
            },
            "colorscale": [
             [
              0,
              "#0d0887"
             ],
             [
              0.1111111111111111,
              "#46039f"
             ],
             [
              0.2222222222222222,
              "#7201a8"
             ],
             [
              0.3333333333333333,
              "#9c179e"
             ],
             [
              0.4444444444444444,
              "#bd3786"
             ],
             [
              0.5555555555555556,
              "#d8576b"
             ],
             [
              0.6666666666666666,
              "#ed7953"
             ],
             [
              0.7777777777777778,
              "#fb9f3a"
             ],
             [
              0.8888888888888888,
              "#fdca26"
             ],
             [
              1,
              "#f0f921"
             ]
            ],
            "type": "contour"
           }
          ],
          "contourcarpet": [
           {
            "colorbar": {
             "outlinewidth": 0,
             "ticks": ""
            },
            "type": "contourcarpet"
           }
          ],
          "heatmap": [
           {
            "colorbar": {
             "outlinewidth": 0,
             "ticks": ""
            },
            "colorscale": [
             [
              0,
              "#0d0887"
             ],
             [
              0.1111111111111111,
              "#46039f"
             ],
             [
              0.2222222222222222,
              "#7201a8"
             ],
             [
              0.3333333333333333,
              "#9c179e"
             ],
             [
              0.4444444444444444,
              "#bd3786"
             ],
             [
              0.5555555555555556,
              "#d8576b"
             ],
             [
              0.6666666666666666,
              "#ed7953"
             ],
             [
              0.7777777777777778,
              "#fb9f3a"
             ],
             [
              0.8888888888888888,
              "#fdca26"
             ],
             [
              1,
              "#f0f921"
             ]
            ],
            "type": "heatmap"
           }
          ],
          "heatmapgl": [
           {
            "colorbar": {
             "outlinewidth": 0,
             "ticks": ""
            },
            "colorscale": [
             [
              0,
              "#0d0887"
             ],
             [
              0.1111111111111111,
              "#46039f"
             ],
             [
              0.2222222222222222,
              "#7201a8"
             ],
             [
              0.3333333333333333,
              "#9c179e"
             ],
             [
              0.4444444444444444,
              "#bd3786"
             ],
             [
              0.5555555555555556,
              "#d8576b"
             ],
             [
              0.6666666666666666,
              "#ed7953"
             ],
             [
              0.7777777777777778,
              "#fb9f3a"
             ],
             [
              0.8888888888888888,
              "#fdca26"
             ],
             [
              1,
              "#f0f921"
             ]
            ],
            "type": "heatmapgl"
           }
          ],
          "histogram": [
           {
            "marker": {
             "colorbar": {
              "outlinewidth": 0,
              "ticks": ""
             }
            },
            "type": "histogram"
           }
          ],
          "histogram2d": [
           {
            "colorbar": {
             "outlinewidth": 0,
             "ticks": ""
            },
            "colorscale": [
             [
              0,
              "#0d0887"
             ],
             [
              0.1111111111111111,
              "#46039f"
             ],
             [
              0.2222222222222222,
              "#7201a8"
             ],
             [
              0.3333333333333333,
              "#9c179e"
             ],
             [
              0.4444444444444444,
              "#bd3786"
             ],
             [
              0.5555555555555556,
              "#d8576b"
             ],
             [
              0.6666666666666666,
              "#ed7953"
             ],
             [
              0.7777777777777778,
              "#fb9f3a"
             ],
             [
              0.8888888888888888,
              "#fdca26"
             ],
             [
              1,
              "#f0f921"
             ]
            ],
            "type": "histogram2d"
           }
          ],
          "histogram2dcontour": [
           {
            "colorbar": {
             "outlinewidth": 0,
             "ticks": ""
            },
            "colorscale": [
             [
              0,
              "#0d0887"
             ],
             [
              0.1111111111111111,
              "#46039f"
             ],
             [
              0.2222222222222222,
              "#7201a8"
             ],
             [
              0.3333333333333333,
              "#9c179e"
             ],
             [
              0.4444444444444444,
              "#bd3786"
             ],
             [
              0.5555555555555556,
              "#d8576b"
             ],
             [
              0.6666666666666666,
              "#ed7953"
             ],
             [
              0.7777777777777778,
              "#fb9f3a"
             ],
             [
              0.8888888888888888,
              "#fdca26"
             ],
             [
              1,
              "#f0f921"
             ]
            ],
            "type": "histogram2dcontour"
           }
          ],
          "mesh3d": [
           {
            "colorbar": {
             "outlinewidth": 0,
             "ticks": ""
            },
            "type": "mesh3d"
           }
          ],
          "parcoords": [
           {
            "line": {
             "colorbar": {
              "outlinewidth": 0,
              "ticks": ""
             }
            },
            "type": "parcoords"
           }
          ],
          "pie": [
           {
            "automargin": true,
            "type": "pie"
           }
          ],
          "scatter": [
           {
            "marker": {
             "colorbar": {
              "outlinewidth": 0,
              "ticks": ""
             }
            },
            "type": "scatter"
           }
          ],
          "scatter3d": [
           {
            "line": {
             "colorbar": {
              "outlinewidth": 0,
              "ticks": ""
             }
            },
            "marker": {
             "colorbar": {
              "outlinewidth": 0,
              "ticks": ""
             }
            },
            "type": "scatter3d"
           }
          ],
          "scattercarpet": [
           {
            "marker": {
             "colorbar": {
              "outlinewidth": 0,
              "ticks": ""
             }
            },
            "type": "scattercarpet"
           }
          ],
          "scattergeo": [
           {
            "marker": {
             "colorbar": {
              "outlinewidth": 0,
              "ticks": ""
             }
            },
            "type": "scattergeo"
           }
          ],
          "scattergl": [
           {
            "marker": {
             "colorbar": {
              "outlinewidth": 0,
              "ticks": ""
             }
            },
            "type": "scattergl"
           }
          ],
          "scattermapbox": [
           {
            "marker": {
             "colorbar": {
              "outlinewidth": 0,
              "ticks": ""
             }
            },
            "type": "scattermapbox"
           }
          ],
          "scatterpolar": [
           {
            "marker": {
             "colorbar": {
              "outlinewidth": 0,
              "ticks": ""
             }
            },
            "type": "scatterpolar"
           }
          ],
          "scatterpolargl": [
           {
            "marker": {
             "colorbar": {
              "outlinewidth": 0,
              "ticks": ""
             }
            },
            "type": "scatterpolargl"
           }
          ],
          "scatterternary": [
           {
            "marker": {
             "colorbar": {
              "outlinewidth": 0,
              "ticks": ""
             }
            },
            "type": "scatterternary"
           }
          ],
          "surface": [
           {
            "colorbar": {
             "outlinewidth": 0,
             "ticks": ""
            },
            "colorscale": [
             [
              0,
              "#0d0887"
             ],
             [
              0.1111111111111111,
              "#46039f"
             ],
             [
              0.2222222222222222,
              "#7201a8"
             ],
             [
              0.3333333333333333,
              "#9c179e"
             ],
             [
              0.4444444444444444,
              "#bd3786"
             ],
             [
              0.5555555555555556,
              "#d8576b"
             ],
             [
              0.6666666666666666,
              "#ed7953"
             ],
             [
              0.7777777777777778,
              "#fb9f3a"
             ],
             [
              0.8888888888888888,
              "#fdca26"
             ],
             [
              1,
              "#f0f921"
             ]
            ],
            "type": "surface"
           }
          ],
          "table": [
           {
            "cells": {
             "fill": {
              "color": "#EBF0F8"
             },
             "line": {
              "color": "white"
             }
            },
            "header": {
             "fill": {
              "color": "#C8D4E3"
             },
             "line": {
              "color": "white"
             }
            },
            "type": "table"
           }
          ]
         },
         "layout": {
          "annotationdefaults": {
           "arrowcolor": "#2a3f5f",
           "arrowhead": 0,
           "arrowwidth": 1
          },
          "autotypenumbers": "strict",
          "coloraxis": {
           "colorbar": {
            "outlinewidth": 0,
            "ticks": ""
           }
          },
          "colorscale": {
           "diverging": [
            [
             0,
             "#8e0152"
            ],
            [
             0.1,
             "#c51b7d"
            ],
            [
             0.2,
             "#de77ae"
            ],
            [
             0.3,
             "#f1b6da"
            ],
            [
             0.4,
             "#fde0ef"
            ],
            [
             0.5,
             "#f7f7f7"
            ],
            [
             0.6,
             "#e6f5d0"
            ],
            [
             0.7,
             "#b8e186"
            ],
            [
             0.8,
             "#7fbc41"
            ],
            [
             0.9,
             "#4d9221"
            ],
            [
             1,
             "#276419"
            ]
           ],
           "sequential": [
            [
             0,
             "#0d0887"
            ],
            [
             0.1111111111111111,
             "#46039f"
            ],
            [
             0.2222222222222222,
             "#7201a8"
            ],
            [
             0.3333333333333333,
             "#9c179e"
            ],
            [
             0.4444444444444444,
             "#bd3786"
            ],
            [
             0.5555555555555556,
             "#d8576b"
            ],
            [
             0.6666666666666666,
             "#ed7953"
            ],
            [
             0.7777777777777778,
             "#fb9f3a"
            ],
            [
             0.8888888888888888,
             "#fdca26"
            ],
            [
             1,
             "#f0f921"
            ]
           ],
           "sequentialminus": [
            [
             0,
             "#0d0887"
            ],
            [
             0.1111111111111111,
             "#46039f"
            ],
            [
             0.2222222222222222,
             "#7201a8"
            ],
            [
             0.3333333333333333,
             "#9c179e"
            ],
            [
             0.4444444444444444,
             "#bd3786"
            ],
            [
             0.5555555555555556,
             "#d8576b"
            ],
            [
             0.6666666666666666,
             "#ed7953"
            ],
            [
             0.7777777777777778,
             "#fb9f3a"
            ],
            [
             0.8888888888888888,
             "#fdca26"
            ],
            [
             1,
             "#f0f921"
            ]
           ]
          },
          "colorway": [
           "#636efa",
           "#EF553B",
           "#00cc96",
           "#ab63fa",
           "#FFA15A",
           "#19d3f3",
           "#FF6692",
           "#B6E880",
           "#FF97FF",
           "#FECB52"
          ],
          "font": {
           "color": "#2a3f5f"
          },
          "geo": {
           "bgcolor": "white",
           "lakecolor": "white",
           "landcolor": "#E5ECF6",
           "showlakes": true,
           "showland": true,
           "subunitcolor": "white"
          },
          "hoverlabel": {
           "align": "left"
          },
          "hovermode": "closest",
          "mapbox": {
           "style": "light"
          },
          "paper_bgcolor": "white",
          "plot_bgcolor": "#E5ECF6",
          "polar": {
           "angularaxis": {
            "gridcolor": "white",
            "linecolor": "white",
            "ticks": ""
           },
           "bgcolor": "#E5ECF6",
           "radialaxis": {
            "gridcolor": "white",
            "linecolor": "white",
            "ticks": ""
           }
          },
          "scene": {
           "xaxis": {
            "backgroundcolor": "#E5ECF6",
            "gridcolor": "white",
            "gridwidth": 2,
            "linecolor": "white",
            "showbackground": true,
            "ticks": "",
            "zerolinecolor": "white"
           },
           "yaxis": {
            "backgroundcolor": "#E5ECF6",
            "gridcolor": "white",
            "gridwidth": 2,
            "linecolor": "white",
            "showbackground": true,
            "ticks": "",
            "zerolinecolor": "white"
           },
           "zaxis": {
            "backgroundcolor": "#E5ECF6",
            "gridcolor": "white",
            "gridwidth": 2,
            "linecolor": "white",
            "showbackground": true,
            "ticks": "",
            "zerolinecolor": "white"
           }
          },
          "shapedefaults": {
           "line": {
            "color": "#2a3f5f"
           }
          },
          "ternary": {
           "aaxis": {
            "gridcolor": "white",
            "linecolor": "white",
            "ticks": ""
           },
           "baxis": {
            "gridcolor": "white",
            "linecolor": "white",
            "ticks": ""
           },
           "bgcolor": "#E5ECF6",
           "caxis": {
            "gridcolor": "white",
            "linecolor": "white",
            "ticks": ""
           }
          },
          "title": {
           "x": 0.05
          },
          "xaxis": {
           "automargin": true,
           "gridcolor": "white",
           "linecolor": "white",
           "ticks": "",
           "title": {
            "standoff": 15
           },
           "zerolinecolor": "white",
           "zerolinewidth": 2
          },
          "yaxis": {
           "automargin": true,
           "gridcolor": "white",
           "linecolor": "white",
           "ticks": "",
           "title": {
            "standoff": 15
           },
           "zerolinecolor": "white",
           "zerolinewidth": 2
          }
         }
        },
        "title": {
         "text": "Distribution of Author Birth Century"
        },
        "xaxis": {
         "anchor": "y",
         "domain": [
          0,
          1
         ],
         "title": {
          "text": "Author Birth Century"
         }
        },
        "yaxis": {
         "anchor": "x",
         "domain": [
          0,
          1
         ],
         "title": {
          "text": "Frequency in Corpus"
         }
        }
       }
      },
      "text/html": [
       "<div>                            <div id=\"cca9bead-53e6-456c-a3b6-67993514d226\" class=\"plotly-graph-div\" style=\"height:525px; width:100%;\"></div>            <script type=\"text/javascript\">                require([\"plotly\"], function(Plotly) {                    window.PLOTLYENV=window.PLOTLYENV || {};                                    if (document.getElementById(\"cca9bead-53e6-456c-a3b6-67993514d226\")) {                    Plotly.newPlot(                        \"cca9bead-53e6-456c-a3b6-67993514d226\",                        [{\"alignmentgroup\": \"True\", \"bingroup\": \"x\", \"hovertemplate\": \"Author Birth Century=%{x}<br>count=%{y}<extra></extra>\", \"legendgroup\": \"\", \"marker\": {\"color\": \"#636efa\"}, \"name\": \"\", \"offsetgroup\": \"\", \"orientation\": \"v\", \"showlegend\": false, \"type\": \"histogram\", \"x\": [\"1500\", \"1500\", \"1500\", \"1500\", \"1500\", \"1500\", \"1500\", \"1500\", \"1500\", \"1500\", \"1500\", \"1500\", \"1500\", \"1500\", \"1500\", \"1500\", \"1500\", \"1500\", \"1500\", \"1500\", \"1500\", \"1500\", \"1500\", \"1500\", \"1500\", \"1500\", \"1500\", \"1500\", \"1500\", \"1500\", \"1500\", \"1500\", \"1500\", \"1500\", \"1500\", \"1500\", \"1500\", \"1500\", \"1500\", \"1500\", \"1500\", \"1500\", \"1500\", \"1500\", \"1500\", \"1500\", \"1500\", \"1500\", \"1500\", \"1600\", \"1600\", \"1600\", \"1600\", \"1600\", \"1600\", \"1600\", \"1600\", \"1600\", \"1600\", \"1600\", \"1600\", \"1600\", \"1600\", \"1600\", \"1600\", \"1600\", \"1600\", \"1600\", \"1600\", \"1600\", \"1600\", \"1600\", \"1600\", \"1600\", \"1600\", \"1600\", \"1600\", \"1600\", \"1600\", \"1600\", \"1600\", \"1600\", \"1600\", \"1600\", \"1600\", \"1600\", \"1600\", \"1600\", \"1600\", \"1600\", \"1700\", \"1700\", \"1700\", \"1700\", \"1700\", \"1700\", \"1700\", \"1700\", \"1700\", \"1700\", \"1700\", \"1700\", \"1700\", \"1700\", \"1700\", \"1700\", \"1700\", \"1700\", \"1700\", \"1700\", \"1700\", \"1700\", \"1700\", \"1700\", \"1700\", \"1700\", \"1700\", \"1700\", \"1700\", \"1700\", \"1700\", \"1700\", \"1700\", \"1700\", \"1700\", \"1700\", \"1700\", \"1700\", \"1700\", \"1700\", \"1700\", \"1700\", \"1700\", \"1700\", \"1700\", \"1700\", \"1700\", \"1700\", \"1700\", \"1700\", \"1700\", \"1700\", \"1700\", \"1700\", \"1700\", \"1700\", \"1700\", \"1700\", \"1700\", \"1700\", \"1700\", \"1700\", \"1700\", \"1700\", \"1700\", \"1700\", \"1700\", \"1700\", \"1700\", \"1700\", \"1700\", \"1700\", \"1700\", \"1700\", \"1700\", \"1700\", \"1700\", \"1700\", \"1700\", \"1700\", \"1700\", \"1700\", \"1700\", \"1700\", \"1700\", \"1700\", \"1700\", \"1700\", \"1700\", \"1700\", \"1700\", \"1700\", \"1700\", \"1700\", \"1700\", \"1700\", \"1700\", \"1700\", \"1700\", \"1700\", \"1700\", \"1700\", \"1700\", \"1700\", \"1700\", \"1700\", \"1700\", \"1700\", \"1700\", \"1700\", \"1700\", \"1700\", \"1700\", \"1700\", \"1700\", \"1700\", \"1700\", \"1700\", \"1700\", \"1700\", \"1700\", \"1700\", \"1700\", \"1700\", \"1700\", \"1700\", \"1700\", \"1700\", \"1700\", \"1700\", \"1700\", \"1700\", \"1700\", \"1700\", \"1700\", \"1700\", \"1700\", \"1700\", \"1700\", \"1700\", \"1700\", \"1700\", \"1700\", \"1700\", \"1700\", \"1700\", \"1700\", \"1700\", \"1700\", \"1700\", \"1700\", \"1700\", \"1700\", \"1700\", \"1700\", \"1700\", \"1700\", \"1700\", \"1700\", \"1700\", \"1700\", \"1700\", \"1700\", \"1700\", \"1700\", \"1700\", \"1700\", \"1700\", \"1700\", \"1700\", \"1700\", \"1700\", \"1700\", \"1700\", \"1700\", \"1700\", \"1700\", \"1700\", \"1700\", \"1700\", \"1700\", \"1700\", \"1700\", \"1700\", \"1700\", \"1700\", \"1700\", \"1700\", \"1700\", \"1700\", \"1700\", \"1700\", \"1700\", \"1700\", \"1700\", \"1700\", \"1700\", \"1700\", \"1700\", \"1700\", \"1700\", \"1700\", \"1700\", \"1700\", \"1700\", \"1700\", \"1700\", \"1700\", \"1700\", \"1700\", \"1700\", \"1700\", \"1700\", \"1700\", \"1700\", \"1700\", \"1700\", \"1700\", \"1700\", \"1700\", \"1700\", \"1700\", \"1700\", \"1700\", \"1700\", \"1700\", \"1700\", \"1700\", \"1700\", \"1700\", \"1700\", \"1700\", \"1700\", \"1700\", \"1700\", \"1700\", \"1700\", \"1700\", \"1700\", \"1700\", \"1700\", \"1700\", \"1700\", \"1700\", \"1700\", \"1700\", \"1700\", \"1700\", \"1700\", \"1700\", \"1700\", \"1700\", \"1700\", \"1700\", \"1700\", \"1700\", \"1700\", \"1700\", \"1700\", \"1700\", \"1700\", \"1700\", \"1700\", \"1700\", \"1700\", \"1700\", \"1700\", \"1700\", \"1700\", \"1700\", \"1700\", \"1700\", \"1700\", \"1700\", \"1700\", \"1700\", \"1700\", \"1700\", \"1700\", \"1700\", \"1700\", \"1700\", \"1700\", \"1700\", \"1700\", \"1700\", \"1700\", \"1700\", \"1700\", \"1700\", \"1700\", \"1700\", \"1700\", \"1700\", \"1700\", \"1700\", \"1700\", \"1700\", \"1700\", \"1700\", \"1700\", \"1700\", \"1700\", \"1700\", \"1700\", \"1700\", \"1700\", \"1700\", \"1700\", \"1700\", \"1700\", \"1700\", \"1700\", \"1700\", \"1800\", \"1800\", \"1800\", \"1800\", \"1800\", \"1800\", \"1800\", \"1800\", \"1800\", \"1800\", \"1800\", \"1800\", \"1800\", \"1800\", \"1800\", \"1800\", \"1800\", \"1800\", \"1800\", \"1800\", \"1800\", \"1800\", \"1800\", \"1800\", \"1800\", \"1800\", \"1800\", \"1800\", \"1800\", \"1800\", \"1800\", \"1800\", \"1800\", \"1800\", \"1800\", \"1800\", \"1800\", \"1800\", \"1800\", \"1800\", \"1800\", \"1800\", \"1800\", \"1800\", \"1800\", \"1800\", \"1800\", \"1800\", \"1800\", \"1800\", \"1800\", \"1800\", \"1800\", \"1800\", \"1800\", \"1800\", \"1800\", \"1800\", \"1800\", \"1800\", \"1800\", \"1800\", \"1800\", \"1800\", \"1800\", \"1800\", \"1800\", \"1800\", \"1800\", \"1800\", \"1800\", \"1800\", \"1800\", \"1800\", \"1800\", \"1800\", \"1800\", \"1800\", \"1800\", \"1800\", \"1800\", \"1800\", \"1800\", \"1800\", \"1800\", \"1800\", \"1800\", \"1800\", \"1800\", \"1800\", \"1800\", \"1800\", \"1800\", \"1800\", \"1800\", \"1800\", \"1800\", \"1800\", \"1800\", \"1800\", \"1800\", \"1800\", \"1800\", \"1800\", \"1800\", \"1800\", \"1800\", \"1800\", \"1800\", \"1800\", \"1800\", \"1800\", \"1800\", \"1800\", \"1800\", \"1800\", \"1800\", \"1800\", \"1800\", \"1800\", \"1800\", \"1800\", \"1800\", \"1800\", \"1800\", \"1800\", \"1800\", \"1800\", \"1800\", \"1800\", \"1800\", \"1800\", \"1800\", \"1800\", \"1800\", \"1800\", \"1800\", \"1800\", \"1800\", \"1800\", \"1800\", \"1800\", \"1800\", \"1800\", \"1800\", \"1800\", \"1800\", \"1800\", \"1800\", \"1800\", \"1800\", \"1800\", \"1800\", \"1800\", \"1800\", \"1800\", \"1800\", \"1800\", \"1800\", \"1800\", \"1800\", \"1800\", \"1800\", \"1800\", \"1800\", \"1800\", \"1800\", \"1800\", \"1800\", \"1800\", \"1800\", \"1800\", \"1800\", \"1800\", \"1800\", \"1800\", \"1800\", \"1800\", \"1800\", \"1800\", \"1800\", \"1800\", \"1800\", \"1800\", \"1800\", \"1800\", \"1800\", \"1800\", \"1800\", \"1800\", \"1800\", \"1800\", \"1800\", \"1800\", \"1800\", \"1800\", \"1800\", \"1800\", \"1800\", \"1800\", \"1800\", \"1800\", \"1800\", \"1800\", \"1800\", \"1800\", \"1800\", \"1800\", \"1800\", \"1800\", \"1800\", \"1800\", \"1800\", \"1800\", \"1800\", \"1800\", \"1800\", \"1800\", \"1800\", \"1800\", \"1800\", \"1800\", \"1800\", \"1800\", \"1800\", \"1800\", \"1800\", \"1800\", \"1800\", \"1800\", \"1800\", \"1800\", \"1800\", \"1800\", \"1800\", \"1800\", \"1800\", \"1800\", \"1800\", \"1800\", \"1800\", \"1800\", \"1800\", \"1800\", \"1800\", \"1800\", \"1800\", \"1800\", \"1800\", \"1800\", \"1800\", \"1800\", \"1800\", \"1800\", \"1800\", \"1800\", \"1800\", \"1800\", \"1800\", \"1800\", \"1800\", \"1800\", \"1800\", \"1800\", \"1800\", \"1800\", \"1800\", \"1800\", \"1800\", \"1800\", \"1800\", \"1800\", \"1800\", \"1800\", \"1800\", \"1800\", \"1800\", \"1800\", \"1800\", \"1800\", \"1800\", \"1800\", \"1800\", \"1800\", \"1800\", \"1800\", \"1800\", \"1800\", \"1800\", \"1800\", \"1800\", \"1800\", \"1800\", \"1800\", \"1800\", \"1800\", \"1800\", \"1800\", \"1800\", \"1800\", \"1800\", \"1800\", \"1800\", \"1800\", \"1800\", \"1800\", \"1800\", \"1800\", \"1800\", \"1800\", \"1800\", \"1800\", \"1800\", \"1800\", \"1800\", \"1800\", \"1800\", \"1800\", \"1800\", \"1800\", \"1800\", \"1800\", \"1800\", \"1800\", \"1800\", \"1800\", \"1800\", \"1800\", \"1800\", \"1800\", \"1800\", \"1800\", \"1800\", \"1800\", \"1800\", \"1800\", \"1800\", \"1800\", \"1800\", \"1800\", \"1800\", \"1800\", \"1800\", \"1800\", \"1800\", \"1800\", \"1800\", \"1800\", \"1800\", \"1800\", \"1800\", \"1800\", \"1800\", \"1800\", \"1800\", \"1800\", \"1800\", \"1800\", \"1800\", \"1800\", \"1800\", \"1800\", \"1800\", \"1800\", \"1800\", \"1800\", \"1800\", \"1800\", \"1800\", \"1800\", \"1800\", \"1800\", \"1800\", \"1800\", \"1800\", \"1800\", \"1800\", \"1800\", \"1800\", \"1800\", \"1800\", \"1800\", \"1800\", \"1800\", \"1800\", \"1800\", \"1800\", \"1800\", \"1800\", \"1800\", \"1800\", \"1800\", \"1800\", \"1800\", \"1800\", \"1800\", \"1800\", \"1800\", \"1800\", \"1800\", \"1800\", \"1800\", \"1800\", \"1800\", \"1800\", \"1800\", \"1800\", \"1800\", \"1800\", \"1800\", \"1800\", \"1800\", \"1800\", \"1800\", \"1800\", \"1800\", \"1800\", \"1800\", \"1800\", \"1800\", \"1800\", \"1800\", \"1800\", \"1800\", \"1800\", \"1800\", \"1800\", \"1800\", \"1800\", \"1800\", \"1800\", \"1800\", \"1800\", \"1800\", \"1800\", \"1800\", \"1800\", \"1800\", \"1800\", \"1800\", \"1800\", \"1800\", \"1800\", \"1800\", \"1800\", \"1800\", \"1800\", \"1800\", \"1800\", \"1800\", \"1800\", \"1800\", \"1800\", \"1800\", \"1800\", \"1800\", \"1800\", \"1800\", \"1800\", \"1800\", \"1800\", \"1800\", \"1800\", \"1800\", \"1800\", \"1800\", \"1800\", \"1800\", \"1800\", \"1800\", \"1800\", \"1800\", \"1800\", \"1800\", \"1800\", \"1800\", \"1800\", \"1800\", \"1800\", \"1800\", \"1800\", \"1800\", \"1800\", \"1800\", \"1800\", \"1800\", \"1800\", \"1800\", \"1800\", \"1800\", \"1800\", \"1800\", \"1800\", \"1800\", \"1800\", \"1800\", \"1800\", \"1800\", \"1800\", \"1800\", \"1800\", \"1800\", \"1800\", \"1800\", \"1800\", \"1800\", \"1800\", \"1800\", \"1800\", \"1800\", \"1800\", \"1800\", \"1800\", \"1800\", \"1800\", \"1800\", \"1800\", \"1800\", \"1800\", \"1800\", \"1800\", \"1800\", \"1800\", \"1800\", \"1800\", \"1800\", \"1800\", \"1800\", \"1800\", \"1800\", \"1800\", \"1800\", \"1800\", \"1800\", \"1800\", \"1800\", \"1800\", \"1800\", \"1800\", \"1800\", \"1800\", \"1800\", \"1800\", \"1800\", \"1800\", \"1800\", \"1800\", \"1800\", \"1800\", \"1800\", \"1800\", \"1800\", \"1800\", \"1800\", \"1800\", \"1800\", \"1800\", \"1800\", \"1800\", \"1800\", \"1800\", \"1800\", \"1800\", \"1800\", \"1800\", \"1800\", \"1800\", \"1800\", \"1800\", \"1800\", \"1800\", \"1800\", \"1800\", \"1800\", \"1800\", \"1800\", \"1800\", \"1800\", \"1800\", \"1800\", \"1800\", \"1800\", \"1800\", \"1800\", \"1800\", \"1800\", \"1800\", \"1800\", \"1800\", \"1800\", \"1800\", \"1800\", \"1800\", \"1800\", \"1800\", \"1800\", \"1800\", \"1800\", \"1800\", \"1800\", \"1800\", \"1800\", \"1800\", \"1800\", \"1800\", \"1800\", \"1800\", \"1800\", \"1800\", \"1800\", \"1800\", \"1800\", \"1800\", \"1800\", \"1800\", \"1800\", \"1800\", \"1800\", \"1800\", \"1800\", \"1800\", \"1800\", \"1800\", \"1800\", \"1800\", \"1800\", \"1800\", \"1800\", \"1800\", \"1800\", \"1800\", \"1800\", \"1800\", \"1800\", \"1800\", \"1800\", \"1800\", \"1800\", \"1800\", \"1800\", \"1800\", \"1800\", \"1800\", \"1800\", \"1800\", \"1800\", \"1800\", \"1800\", \"1800\", \"1800\", \"1800\", \"1800\", \"1800\", \"1800\", \"1800\", \"1800\", \"1800\", \"1800\", \"1800\", \"1800\", \"1800\", \"1800\", \"1800\", \"1800\", \"1800\", \"1800\", \"1800\", \"1800\", \"1800\", \"1800\", \"1800\", \"1800\", \"1800\", \"1800\", \"1800\", \"1800\", \"1800\", \"1800\", \"1800\", \"1800\", \"1800\", \"1800\", \"1800\", \"1800\", \"1800\", \"1800\", \"1800\", \"1800\", \"1800\", \"1800\", \"1800\", \"1800\", \"1800\", \"1800\", \"1800\", \"1800\", \"1800\", \"1800\", \"1800\", \"1800\", \"1800\", \"1800\", \"1800\", \"1800\", \"1800\", \"1800\", \"1800\", \"1800\", \"1800\", \"1800\", \"1800\", \"1800\", \"1800\", \"1800\", \"1800\", \"1800\", \"1800\", \"1800\", \"1800\", \"1800\", \"1800\", \"1800\", \"1800\", \"1800\", \"1800\", \"1800\", \"1800\", \"1800\", \"1800\", \"1800\", \"1800\", \"1800\", \"1800\", \"1800\", \"1800\", \"1800\", \"1800\", \"1800\", \"1800\", \"1800\", \"1800\", \"1800\", \"1800\", \"1800\", \"1800\", \"1800\", \"1800\", \"1800\", \"1800\", \"1800\", \"1800\", \"1800\", \"1800\", \"1800\", \"1800\", \"1800\", \"1800\", \"1800\", \"1800\", \"1800\", \"1800\", \"1800\", \"1800\", \"1800\", \"1800\", \"1800\", \"1800\", \"1800\", \"1800\", \"1800\", \"1800\", \"1800\", \"1800\", \"1800\", \"1800\", \"1800\", \"1800\", \"1800\", \"1800\", \"1800\", \"1800\", \"1800\", \"1800\", \"1800\", \"1800\", \"1800\", \"1800\", \"1800\", \"1800\", \"1800\", \"1800\", \"1800\", \"1800\", \"1800\", \"1800\", \"1800\", \"1800\", \"1800\", \"1800\", \"1800\", \"1800\", \"1800\", \"1800\", \"1800\", \"1800\", \"1800\", \"1800\", \"1800\", \"1800\", \"1800\", \"1800\", \"1800\", \"1800\", \"1800\", \"1800\", \"1800\", \"1800\", \"1800\", \"1800\", \"1800\", \"1800\", \"1800\", \"1800\", \"1800\", \"1800\", \"1800\", \"1800\", \"1800\", \"1800\", \"1800\", \"1800\", \"1800\", \"1800\", \"1800\", \"1800\", \"1800\", \"1800\", \"1800\", \"1800\", \"1800\", \"1800\", \"1800\", \"1800\", \"1800\", \"1800\", \"1800\", \"1800\", \"1800\", \"1800\", \"1800\", \"1800\", \"1800\", \"1800\", \"1800\", \"1800\", \"1800\", \"1800\", \"1800\", \"1800\", \"1800\", \"1800\", \"1800\", \"1800\", \"1800\", \"1800\", \"1800\", \"1800\", \"1800\", \"1800\", \"1800\", \"1800\", \"1800\", \"1800\", \"1800\", \"1800\", \"1800\", \"1800\", \"1800\", \"1800\", \"1800\", \"1800\", \"1800\", \"1800\", \"1800\", \"1800\", \"1800\", \"1800\", \"1800\", \"1800\", \"1800\", \"1800\", \"1800\", \"1800\", \"1800\", \"1800\", \"1800\", \"1800\", \"1800\", \"1800\", \"1800\", \"1800\", \"1800\", \"1800\", \"1800\", \"1800\", \"1800\", \"1800\", \"1800\", \"1800\", \"1800\", \"1800\", \"1800\", \"1800\", \"1800\", \"1800\", \"1800\", \"1800\", \"1800\", \"1800\", \"1800\", \"1800\", \"1800\", \"1800\", \"1800\", \"1800\", \"1800\", \"1800\", \"1800\", \"1800\", \"1800\", \"1800\", \"1800\", \"1800\", \"1800\", \"1800\", \"1800\", \"1800\", \"1800\", \"1800\", \"1800\", \"1800\", \"1800\", \"1800\", \"1800\", \"1800\", \"1800\", \"1800\", \"1800\", \"1800\", \"1800\", \"1800\", \"1800\", \"1800\", \"1800\", \"1800\", \"1800\", \"1800\", \"1800\", \"1800\", \"1800\", \"1800\", \"1800\", \"1800\", \"1800\", \"1800\", \"1800\", \"1800\", \"1800\", \"1800\", \"1800\", \"1800\", \"1800\", \"1800\", \"1800\", \"1800\", \"1800\", \"1800\", \"1800\", \"1800\", \"1800\", \"1800\", \"1800\", \"1800\", \"1800\", \"1800\", \"1800\", \"1800\", \"1800\", \"1800\", \"1800\", \"1800\", \"1800\", \"1800\", \"1800\", \"1800\", \"1800\", \"1800\", \"1800\", \"1800\", \"1800\", \"1800\", \"1800\", \"1800\", \"1800\", \"1800\", \"1800\", \"1800\", \"1800\", \"1800\", \"1800\", \"1800\", \"1800\", \"1800\", \"1800\", \"1800\", \"1800\", \"1800\", \"1800\", \"1800\", \"1800\", \"1800\", \"1800\", \"1800\", \"1800\", \"1800\", \"1800\", \"1800\", \"1800\", \"1800\", \"1800\", \"1800\", \"1800\", \"1800\", \"1800\", \"1800\", \"1800\", \"1800\", \"1800\", \"1800\", \"1800\", \"1800\", \"1800\", \"1800\", \"1800\", \"1800\", \"1800\", \"1800\", \"1800\", \"1800\", \"1800\", \"1800\", \"1800\", \"1800\", \"1800\", \"1800\", \"1800\", \"1800\", \"1800\", \"1800\", \"1800\", \"1800\", \"1800\", \"1800\", \"1800\", \"1800\", \"1800\", \"1800\", \"1800\", \"1800\", \"1800\", \"1800\", \"1800\", \"1800\", \"1800\", \"1800\", \"1800\", \"1800\", \"1800\", \"1800\", \"1800\", \"1800\", \"1800\", \"1800\", \"1800\", \"1800\", \"1800\", \"1800\", \"1800\", \"1800\", \"1800\", \"1800\", \"1800\", \"1800\", \"1800\", \"1800\", \"1800\", \"1800\", \"1800\", \"1800\", \"1800\", \"1800\", \"1800\", \"1800\", \"1800\", \"1800\", \"1800\", \"1800\", \"1800\", \"1800\", \"1800\", \"1800\", \"1800\", \"1800\", \"1800\", \"1800\", \"1800\", \"1800\", \"1800\", \"1800\", \"1800\", \"1800\", \"1800\", \"1800\", \"1800\", \"1800\", \"1800\", \"1800\", \"1800\", \"1800\", \"1800\", \"1800\", \"1800\", \"1800\", \"1800\", \"1800\", \"1800\", \"1800\", \"1800\", \"1800\", \"1800\", \"1800\", \"1800\", \"1800\", \"1800\", \"1800\", \"1800\", \"1800\", \"1800\", \"1800\", \"1800\", \"1800\", \"1800\", \"1800\", \"1800\", \"1800\", \"1800\", \"1800\", \"1800\", \"1800\", \"1800\", \"1800\", \"1800\", \"1800\", \"1800\", \"1800\", \"1800\", \"1800\", \"1800\", \"1800\", \"1800\", \"1800\", \"1800\", \"1800\", \"1800\", \"1800\", \"1800\", \"1800\", \"1800\", \"1800\", \"1800\", \"1800\", \"1800\", \"1800\", \"1800\", \"1800\", \"1800\", \"1800\", \"1800\", \"1800\", \"1800\", \"1800\", \"1800\", \"1800\", \"1800\", \"1800\", \"1800\", \"1800\", \"1800\", \"1800\", \"1800\", \"1800\", \"1800\", \"1800\", \"1800\", \"1800\", \"1800\", \"1800\", \"1800\", \"1800\", \"1800\", \"1800\", \"1800\", \"1800\", \"1800\", \"1800\", \"1800\", \"1800\", \"1800\", \"1800\", \"1800\", \"1800\", \"1800\", \"1800\", \"1800\", \"1800\", \"1800\", \"1800\", \"1800\", \"1800\", \"1800\", \"1800\", \"1800\", \"1800\", \"1800\", \"1800\", \"1800\", \"1800\", \"1800\", \"1800\", \"1800\", \"1800\", \"1800\", \"1800\", \"1800\", \"1800\", \"1800\", \"1800\", \"1800\", \"1800\", \"1800\", \"1800\", \"1800\", \"1800\", \"1800\", \"1800\", \"1800\", \"1800\", \"1800\", \"1800\", \"1800\", \"1800\", \"1800\", \"1800\", \"1800\", \"1800\", \"1800\", \"1800\", \"1800\", \"1800\", \"1800\", \"1800\", \"1800\", \"1800\", \"1800\", \"1800\", \"1800\", \"1800\", \"1800\", \"1800\", \"1800\", \"1800\", \"1800\", \"1800\", \"1800\", \"1800\", \"1800\", \"1800\", \"1800\", \"1800\", \"1800\", \"1800\", \"1800\", \"1800\", \"1800\", \"1800\", \"1800\", \"1800\", \"1800\", \"1800\", \"1800\", \"1800\", \"1800\", \"1800\", \"1800\", \"1800\", \"1800\", \"1800\", \"1800\", \"1800\", \"1800\", \"1800\", \"1800\", \"1800\", \"1800\", \"1800\", \"1800\", \"1800\", \"1800\", \"1800\", \"1800\", \"1800\", \"1800\", \"1800\", \"1800\", \"1800\", \"1800\", \"1800\", \"1800\", \"1800\", \"1800\", \"1800\", \"1800\", \"1800\", \"1800\", \"1800\", \"1800\", \"1800\", \"1800\", \"1800\", \"1800\", \"1800\", \"1800\", \"1800\", \"1800\", \"1800\", \"1800\", \"1800\", \"1800\", \"1800\", \"1800\", \"1800\", \"1800\", \"1800\", \"1800\", \"1800\", \"1800\", \"1800\", \"1800\", \"1800\", \"1800\", \"1800\", \"1800\", \"1800\", \"1800\", \"1800\", \"1800\", \"1800\", \"1800\", \"1800\", \"1800\", \"1800\", \"1800\", \"1800\", \"1800\", \"1800\", \"1800\", \"1800\", \"1800\", \"1800\", \"1800\", \"1800\", \"1800\", \"1800\", \"1800\", \"1800\", \"1800\", \"1800\", \"1800\", \"1800\", \"1800\", \"1800\", \"1800\", \"1800\", \"1800\", \"1800\", \"1800\", \"1800\", \"1800\", \"1800\", \"1800\", \"1800\", \"1800\", \"1800\", \"1800\", \"1800\", \"1800\", \"1800\", \"1800\", \"1800\", \"1800\", \"1800\", \"1800\", \"1800\", \"1800\", \"1800\", \"1800\", \"1800\", \"1800\", \"1800\", \"1800\", \"1800\", \"1800\", \"1800\", \"1800\", \"1800\", \"1800\", \"1800\", \"1800\", \"1800\", \"1800\", \"1800\", \"1800\", \"1800\", \"1800\", \"1800\", \"1800\", \"1800\", \"1800\", \"1800\", \"1800\", \"1800\", \"1800\", \"1800\", \"1800\", \"1800\", \"1800\", \"1800\", \"1800\", \"1800\", \"1800\", \"1800\", \"1800\", \"1800\", \"1800\", \"1800\", \"1800\", \"1800\", \"1800\", \"1800\", \"1800\", \"1800\", \"1800\", \"1800\", \"1800\", \"1800\", \"1800\", \"1800\", \"1800\", \"1800\", \"1800\", \"1800\", \"1800\", \"1800\", \"1800\", \"1800\", \"1800\", \"1800\", \"1800\", \"1800\", \"1800\", \"1800\", \"1800\", \"1800\", \"1800\", \"1800\", \"1800\", \"1800\", \"1800\", \"1800\", \"1800\", \"1800\", \"1800\", \"1800\", \"1800\", \"1800\", \"1800\", \"1800\", \"1800\", \"1800\", \"1800\", \"1800\", \"1800\", \"1800\", \"1800\", \"1800\", \"1800\", \"1800\", \"1800\", \"1800\", \"1800\", \"1800\", \"1800\", \"1800\", \"1800\", \"1800\", \"1800\", \"1800\", \"1800\", \"1800\", \"1800\", \"1800\", \"1800\", \"1800\", \"1800\", \"1800\", \"1800\", \"1800\", \"1800\", \"1800\", \"1800\", \"1800\", \"1800\", \"1800\", \"1800\", \"1800\", \"1800\", \"1800\", \"1800\", \"1800\", \"1800\", \"1800\", \"1800\", \"1800\", \"1800\", \"1800\", \"1800\", \"1800\", \"1800\", \"1800\", \"1800\", \"1800\", \"1800\", \"1800\", \"1800\", \"1800\", \"1800\", \"1800\", \"1800\", \"1800\", \"1800\", \"1800\", \"1800\", \"1800\", \"1800\", \"1800\", \"1800\", \"1800\", \"1800\", \"1800\", \"1800\", \"1800\", \"1800\", \"1800\", \"1800\", \"1800\", \"1800\", \"1800\", \"1800\", \"1800\", \"1800\", \"1800\", \"1800\", \"1800\", \"1800\", \"1800\", \"1800\", \"1800\", \"1800\", \"1800\", \"1800\", \"1800\", \"1800\", \"1800\", \"1800\", \"1800\", \"1800\", \"1800\", \"1800\", \"1800\", \"1800\", \"1800\", \"1800\", \"1800\", \"1800\", \"1800\", \"1800\", \"1800\", \"1800\", \"1800\", \"1800\", \"1800\", \"1800\", \"1800\", \"1800\", \"1800\", \"1800\", \"1800\", \"1800\", \"1800\", \"1800\", \"1800\", \"1800\", \"1800\", \"1800\", \"1800\", \"1800\", \"1800\", \"1800\", \"1800\", \"1800\", \"1800\", \"1800\", \"1800\", \"1800\", \"1800\", \"1800\", \"1800\", \"1800\", \"1800\", \"1800\", \"1800\", \"1800\", \"1800\", \"1800\", \"1800\", \"1800\", \"1800\", \"1800\", \"1800\", \"1800\", \"1800\", \"1800\", \"1800\", \"1800\", \"1800\", \"1800\", \"1800\", \"1800\", \"1800\", \"1800\", \"1800\", \"1800\", \"1800\", \"1800\", \"1800\", \"1800\", \"1800\", \"1800\", \"1800\", \"1800\", \"1800\", \"1800\", \"1800\", \"1800\", \"1800\", \"1800\", \"1800\", \"1800\", \"1800\", \"1800\", \"1800\", \"1800\", \"1800\", \"1800\", \"1800\", \"1800\", \"1800\", \"1800\", \"1800\", \"1800\", \"1800\", \"1800\", \"1800\", \"1800\", \"1800\", \"1800\", \"1800\", \"1800\", \"1800\", \"1800\", \"1800\", \"1800\", \"1800\", \"1800\", \"1800\", \"1800\", \"1800\", \"1800\", \"1800\", \"1800\", \"1800\", \"1800\", \"1800\", \"1800\", \"1800\", \"1800\", \"1800\", \"1800\", \"1800\", \"1800\", \"1800\", \"1800\", \"1800\", \"1800\", \"1800\", \"1800\", \"1800\", \"1800\", \"1800\", \"1800\", \"1800\", \"1800\", \"1800\", \"1800\", \"1800\", \"1800\", \"1800\", \"1800\", \"1800\", \"1800\", \"1800\", \"1800\", \"1800\", \"1800\", \"1800\", \"1800\", \"1800\", \"1800\", \"1800\", \"1800\", \"1800\", \"1800\", \"1800\", \"1800\", \"1800\", \"1800\", \"1800\", \"1800\", \"1800\", \"1800\", \"1800\", \"1800\", \"1800\", \"1800\", \"1800\", \"1800\", \"1800\", \"1800\", \"1800\", \"1800\", \"1800\", \"1800\", \"1800\", \"1800\", \"1800\", \"1800\", \"1800\", \"1800\", \"1800\", \"1800\", \"1800\", \"1800\", \"1800\", \"1800\", \"1800\", \"1800\", \"1800\", \"1800\", \"1800\", \"1800\", \"1800\", \"1800\", \"1800\", \"1800\", \"1800\", \"1800\", \"1800\", \"1800\", \"1800\", \"1800\", \"1800\", \"1800\", \"1800\", \"1800\", \"1800\", \"1800\", \"1800\", \"1800\", \"1800\", \"1800\", \"1800\", \"1800\", \"1800\", \"1800\", \"1800\", \"1800\", \"1800\", \"1800\", \"1800\", \"1800\", \"1800\", \"1800\", \"1800\", \"1800\", \"1800\", \"1800\", \"1800\", \"1800\", \"1800\", \"1800\", \"1800\", \"1800\", \"1800\", \"1800\", \"1800\", \"1800\", \"1800\", \"1800\", \"1800\", \"1800\", \"1800\", \"1800\", \"1800\", \"1800\", \"1800\", \"1800\", \"1800\", \"1800\", \"1800\", \"1800\", \"1800\", \"1800\", \"1800\", \"1800\", \"1800\", \"1800\", \"1800\", \"1800\", \"1800\", \"1800\", \"1800\", \"1800\", \"1800\", \"1800\", \"1800\", \"1800\", \"1800\", \"1800\", \"1800\", \"1800\", \"1800\", \"1800\", \"1800\", \"1800\", \"1800\", \"1800\", \"1800\", \"1800\", \"1800\", \"1800\", \"1800\", \"1800\", \"1800\", \"1800\", \"1800\", \"1800\", \"1800\", \"1800\", \"1800\", \"1800\", \"1800\", \"1800\", \"1800\", \"1800\", \"1800\", \"1800\", \"1800\", \"1800\", \"1800\", \"1800\", \"1800\", \"1800\", \"1800\", \"1800\", \"1800\", \"1800\", \"1800\", \"1800\", \"1800\", \"1800\", \"1800\", \"1800\", \"1800\", \"1800\", \"1800\", \"1800\", \"1800\", \"1800\", \"1800\", \"1800\", \"1800\", \"1800\", \"1800\", \"1800\", \"1800\", \"1800\", \"1800\", \"1800\", \"1800\", \"1800\", \"1800\", \"1800\", \"1800\", \"1800\", \"1800\", \"1800\", \"1800\", \"1800\", \"1800\", \"1800\", \"1800\", \"1800\", \"1800\", \"1800\", \"1800\", \"1800\", \"1800\", \"1800\", \"1800\", \"1800\", \"1800\", \"1800\", \"1800\", \"1800\", \"1800\", \"1800\", \"1800\", \"1800\", \"1800\", \"1800\", \"1800\", \"1800\", \"1800\", \"1800\", \"1800\", \"1800\", \"1800\", \"1800\", \"1800\", \"1800\", \"1800\", \"1800\", \"1800\", \"1800\", \"1800\", \"1800\", \"1800\", \"1800\", \"1800\", \"1800\", \"1800\", \"1800\", \"1800\", \"1800\", \"1800\", \"1800\", \"1800\", \"1800\", \"1800\", \"1800\", \"1800\", \"1800\", \"1800\", \"1800\", \"1800\", \"1800\", \"1800\", \"1800\", \"1800\", \"1800\", \"1800\", \"1800\", \"1800\", \"1800\", \"1800\", \"1800\", \"1800\", \"1800\", \"1800\", \"1800\", \"1800\", \"1800\", \"1800\", \"1800\", \"1800\", \"1800\", \"1800\", \"1800\", \"1800\", \"1800\", \"1800\", \"1800\", \"1800\", \"1800\", \"1800\", \"1800\", \"1800\", \"1800\", \"1800\", \"1800\", \"1800\", \"1800\", \"1800\", \"1800\", \"1800\", \"1800\", \"1800\", \"1800\", \"1800\", \"1800\", \"1800\", \"1800\", \"1800\", \"1800\", \"1800\", \"1800\", \"1800\", \"1800\", \"1800\", \"1800\", \"1800\", \"1800\", \"1800\", \"1800\", \"1800\", \"1800\", \"1800\", \"1800\", \"1800\", \"1800\", \"1800\", \"1800\", \"1800\", \"1800\", \"1800\", \"1800\", \"1800\", \"1800\", \"1800\", \"1800\", \"1800\", \"1800\", \"1800\", \"1800\", \"1800\", \"1800\", \"1800\", \"1800\", \"1800\", \"1800\", \"1800\", \"1800\", \"1800\", \"1800\", \"1800\", \"1800\", \"1800\", \"1800\", \"1800\", \"1800\", \"1800\", \"1800\", \"1800\", \"1800\", \"1800\", \"1800\", \"1800\", \"1800\", \"1800\", \"1800\", \"1800\", \"1800\", \"1800\", \"1800\", \"1800\", \"1800\", \"1800\", \"1800\", \"1800\", \"1800\", \"1800\", \"1800\", \"1800\", \"1800\", \"1800\", \"1800\", \"1800\", \"1800\", \"1800\", \"1800\", \"1800\", \"1800\", \"1800\", \"1800\", \"1800\", \"1800\", \"1800\", \"1800\", \"1800\", \"1800\", \"1800\", \"1800\", \"1800\", \"1800\", \"1800\", \"1800\", \"1800\", \"1800\", \"1800\", \"1800\", \"1800\", \"1800\", \"1800\", \"1800\", \"1800\", \"1800\", \"1800\", \"1800\", \"1800\", \"1800\", \"1800\", \"1800\", \"1800\", \"1800\", \"1800\", \"1800\", \"1800\", \"1800\", \"1800\", \"1800\", \"1800\", \"1800\", \"1800\", \"1800\", \"1800\", \"1800\", \"1800\", \"1800\", \"1800\", \"1800\", \"1800\", \"1800\", \"1800\", \"1800\", \"1800\", \"1800\", \"1800\", \"1800\", \"1800\", \"1800\", \"1800\", \"1800\", \"1800\", \"1800\", \"1800\", \"1800\", \"1800\", \"1800\", \"1800\", \"1800\", \"1800\", \"1800\", \"1800\", \"1800\", \"1800\", \"1800\", \"1800\", \"1800\", \"1800\", \"1800\", \"1800\", \"1800\", \"1800\", \"1800\", \"1800\", \"1800\", \"1800\", \"1800\", \"1800\", \"1800\", \"1800\", \"1800\", \"1800\", \"1800\", \"1800\", \"1800\", \"1800\", \"1800\", \"1800\", \"1800\", \"1800\", \"1800\", \"1800\", \"1800\", \"1800\", \"1800\", \"1800\", \"1800\", \"1800\", \"1800\", \"1800\", \"1800\", \"1800\", \"1800\", \"1800\", \"1800\", \"1800\", \"1800\", \"1800\", \"1800\", \"1800\", \"1800\", \"1800\", \"1800\", \"1800\", \"1800\", \"1800\", \"1800\", \"1800\", \"1800\", \"1800\", \"1800\", \"1800\", \"1800\", \"1800\", \"1800\", \"1800\", \"1800\", \"1800\", \"1800\", \"1800\", \"1800\", \"1800\", \"1800\", \"1800\", \"1800\", \"1800\", \"1800\", \"1800\", \"1800\", \"1800\", \"1800\", \"1800\", \"1800\", \"1800\", \"1800\", \"1800\", \"1800\", \"1800\", \"1800\", \"1800\", \"1800\", \"1800\", \"1800\", \"1800\", \"1800\", \"1800\", \"1800\", \"1800\", \"1800\", \"1800\", \"1800\", \"1800\", \"1800\", \"1800\", \"1800\", \"1800\", \"1800\", \"1800\", \"1800\", \"1800\", \"1800\", \"1800\", \"1800\", \"1800\", \"1800\", \"1800\", \"1800\", \"1800\", \"1800\", \"1800\", \"1800\", \"1800\", \"1800\", \"1800\", \"1800\", \"1800\", \"1800\", \"1800\", \"1800\", \"1800\", \"1800\", \"1800\", \"1800\", \"1800\", \"1800\", \"1800\", \"1800\", \"1800\", \"1800\", \"1800\", \"1800\", \"1800\", \"1800\", \"1800\", \"1800\", \"1800\", \"1800\", \"1800\", \"1800\", \"1800\", \"1800\", \"1800\", \"1800\", \"1800\", \"1800\", \"1800\", \"1800\", \"1800\", \"1800\", \"1800\", \"1800\", \"1800\", \"1800\", \"1800\", \"1800\", \"1800\", \"1800\", \"1800\", \"1800\", \"1800\", \"1800\", \"1800\", \"1800\", \"1800\", \"1800\", \"1800\", \"1800\", \"1800\", \"1800\", \"1800\", \"1800\", \"1800\", \"1800\", \"1800\", \"1800\", \"1800\", \"1800\", \"1800\", \"1800\", \"1800\", \"1800\", \"1800\", \"1800\", \"1800\", \"1800\", \"1800\", \"1800\", \"1800\", \"1800\", \"1800\", \"1800\", \"1800\", \"1800\", \"1800\", \"1800\", \"1800\", \"1800\", \"1800\", \"1800\", \"1800\", \"1800\", \"1800\", \"1800\", \"1800\", \"1800\", \"1800\", \"1800\", \"1800\", \"1800\", \"1800\", \"1800\", \"1800\", \"1800\", \"1800\", \"1800\", \"1800\", \"1800\", \"1800\", \"1800\", \"1800\", \"1800\", \"1800\", \"1800\", \"1800\", \"1800\", \"1800\", \"1800\", \"1800\", \"1800\", \"1800\", \"1800\", \"1800\", \"1800\", \"1800\", \"1800\", \"1800\", \"1800\", \"1800\", \"1800\", \"1800\", \"1800\", \"1800\", \"1800\", \"1800\", \"1800\", \"1800\", \"1800\", \"1800\", \"1800\", \"1800\", \"1800\", \"1800\", \"1800\", \"1800\", \"1800\", \"1800\", \"1800\", \"1800\", \"1800\", \"1800\", \"1800\", \"1800\", \"1800\", \"1800\", \"1800\", \"1800\", \"1800\", \"1800\", \"1800\", \"1800\", \"1800\", \"1800\", \"1800\", \"1800\", \"1800\", \"1800\", \"1800\", \"1800\", \"1800\", \"1800\", \"1800\", \"1800\", \"1800\", \"1800\", \"1800\", \"1800\", \"1800\", \"1800\", \"1800\", \"1800\", \"1800\", \"1800\", \"1800\", \"1800\", \"1800\", \"1800\", \"1800\", \"1800\", \"1800\", \"1800\", \"1800\", \"1800\", \"1800\", \"1800\", \"1800\", \"1800\", \"1800\", \"1800\", \"1800\", \"1800\", \"1800\", \"1800\", \"1800\", \"1800\", \"1800\", \"1800\", \"1800\", \"1800\", \"1800\", \"1800\", \"1800\", \"1800\", \"1800\", \"1800\", \"1800\", \"1800\", \"1800\", \"1800\", \"1800\", \"1800\", \"1800\", \"1800\", \"1800\", \"1800\", \"1800\", \"1800\", \"1800\", \"1800\", \"1800\", \"1800\", \"1800\", \"1800\", \"1800\", \"1800\", \"1800\", \"1800\", \"1800\", \"1800\", \"1800\", \"1800\", \"1800\", \"1800\", \"1800\", \"1800\", \"1800\", \"1800\", \"1800\", \"1800\", \"1800\", \"1800\", \"1800\", \"1800\", \"1800\", \"1800\", \"1800\", \"1800\", \"1800\", \"1800\", \"1800\", \"1800\", \"1800\", \"1800\", \"1800\", \"1800\", \"1800\", \"1800\", \"1800\", \"1800\", \"1800\", \"1800\", \"1800\", \"1800\", \"1800\", \"1800\", \"1800\", \"1800\", \"1800\", \"1800\", \"1800\", \"1800\", \"1800\", \"1800\", \"1800\", \"1800\", \"1800\", \"1800\", \"1800\", \"1800\", \"1800\", \"1800\", \"1800\", \"1800\", \"1800\", \"1800\", \"1800\", \"1800\", \"1800\", \"1800\", \"1800\", \"1800\", \"1800\", \"1800\", \"1800\", \"1800\", \"1800\", \"1800\", \"1800\", \"1800\", \"1800\", \"1800\", \"1800\", \"1800\", \"1800\", \"1800\", \"1800\", \"1800\", \"1800\", \"1800\", \"1800\", \"1800\", \"1800\", \"1800\", \"1800\", \"1800\", \"1800\", \"1800\", \"1800\", \"1800\", \"1800\", \"1800\", \"1800\", \"1800\", \"1800\", \"1800\", \"1800\", \"1800\", \"1800\", \"1800\", \"1800\", \"1800\", \"1800\", \"1800\", \"1800\", \"1800\", \"1800\", \"1800\", \"1800\", \"1800\", \"1800\", \"1800\", \"1800\", \"1800\", \"1800\", \"1800\", \"1800\", \"1800\", \"1800\", \"1800\", \"1800\", \"1800\", \"1800\", \"1800\", \"1800\", \"1800\", \"1800\", \"1800\", \"1800\", \"1800\", \"1800\", \"1800\", \"1800\", \"1800\", \"1800\", \"1800\", \"1800\", \"1800\", \"1800\", \"1800\", \"1800\", \"1800\", \"1800\", \"1800\", \"1800\", \"1800\", \"1800\", \"1800\", \"1800\", \"1800\", \"1800\", \"1800\", \"1800\", \"1800\", \"1800\", \"1800\", \"1800\", \"1800\", \"1800\", \"1800\", \"1800\", \"1800\", \"1800\", \"1800\", \"1800\", \"1800\", \"1800\", \"1800\", \"1800\", \"1800\", \"1800\", \"1800\", \"1800\", \"1800\", \"1800\", \"1800\", \"1800\", \"1800\", \"1800\", \"1800\", \"1800\", \"1800\", \"1800\", \"1800\", \"1800\", \"1800\", \"1800\", \"1800\", \"1800\", \"1800\", \"1800\", \"1800\", \"1800\", \"1800\", \"1800\", \"1800\", \"1800\", \"1800\", \"1800\", \"1800\", \"1800\", \"1800\", \"1800\", \"1800\", \"1800\", \"1800\", \"1800\", \"1800\", \"1800\", \"1800\", \"1800\", \"1800\", \"1800\", \"1800\", \"1800\", \"1800\", \"1800\", \"1800\", \"1800\", \"1800\", \"1800\", \"1800\", \"1800\", \"1800\", \"1800\", \"1800\", \"1800\", \"1800\", \"1800\", \"1800\", \"1800\", \"1800\", \"1800\", \"1800\", \"1800\", \"1800\", \"1800\", \"1800\", \"1800\", \"1800\", \"1800\", \"1800\", \"1800\", \"1800\", \"1800\", \"1800\", \"1800\", \"1800\", \"1800\", \"1800\", \"1800\", \"1800\", \"1800\", \"1800\", \"1800\", \"1800\", \"1800\", \"1800\", \"1800\", \"1800\", \"1800\", \"1800\", \"1800\", \"1800\", \"1800\", \"1800\", \"1800\", \"1800\", \"1800\", \"1800\", \"1800\", \"1800\", \"1800\", \"1800\", \"1800\", \"1800\", \"1800\", \"1800\", \"1800\", \"1800\", \"1800\", \"1800\", \"1800\", \"1800\", \"1800\", \"1800\", \"1800\", \"1800\", \"1800\", \"1800\", \"1800\", \"1800\", \"1800\", \"1800\", \"1800\", \"1800\", \"1800\", \"1800\", \"1800\", \"1800\", \"1800\", \"1800\", \"1800\", \"1800\", \"1800\", \"1800\", \"1800\", \"1800\", \"1800\", \"1800\", \"1800\", \"1800\", \"1800\", \"1800\", \"1800\", \"1800\", \"1800\", \"1800\", \"1800\", \"1800\", \"1800\", \"1800\", \"1800\", \"1800\", \"1800\", \"1800\", \"1800\", \"1800\", \"1800\", \"1800\", \"1800\", \"1800\", \"1800\", \"1800\", \"1800\", \"1800\", \"1800\", \"1800\", \"1800\", \"1800\", \"1800\", \"1800\", \"1800\", \"1800\", \"1800\", \"1800\", \"1800\", \"1800\", \"1800\", \"1800\", \"1800\", \"1800\", \"1800\", \"1800\", \"1800\", \"1800\", \"1800\", \"1800\", \"1800\", \"1800\", \"1800\", \"1800\", \"1800\", \"1800\", \"1800\", \"1800\", \"1800\", \"1800\", \"1800\", \"1800\", \"1800\", \"1800\", \"1800\", \"1800\", \"1800\", \"1800\", \"1800\", \"1800\", \"1800\", \"1800\", \"1800\", \"1800\", \"1800\", \"1800\", \"1800\", \"1800\", \"1800\", \"1800\", \"1800\", \"1800\", \"1800\", \"1800\", \"1800\", \"1800\", \"1800\", \"1800\", \"1800\", \"1800\", \"1800\", \"1800\", \"1800\", \"1800\", \"1800\", \"1800\", \"1800\", \"1800\", \"1800\", \"1800\", \"1800\", \"1800\", \"1800\", \"1800\", \"1800\", \"1800\", \"1800\", \"1800\", \"1800\", \"1800\", \"1800\", \"1800\", \"1800\", \"1800\", \"1800\", \"1800\", \"1800\", \"1800\", \"1800\", \"1800\", \"1800\", \"1800\", \"1800\", \"1800\", \"1800\", \"1800\", \"1800\", \"1800\", \"1800\", \"1800\", \"1800\", \"1800\", \"1800\", \"1800\", \"1800\", \"1800\", \"1800\", \"1800\", \"1800\", \"1800\", \"1800\", \"1800\", \"1800\", \"1800\", \"1800\", \"1800\", \"1800\", \"1800\", \"1800\", \"1800\", \"1800\", \"1800\", \"1800\", \"1800\", \"1800\", \"1800\", \"1800\", \"1800\", \"1800\", \"1800\", \"1800\", \"1800\", \"1800\", \"1800\", \"1800\", \"1800\", \"1800\", \"1800\", \"1800\", \"1800\", \"1800\", \"1800\", \"1800\", \"1800\", \"1800\", \"1800\", \"1800\", \"1800\", \"1800\", \"1800\", \"1800\", \"1800\", \"1800\", \"1800\", \"1800\", \"1800\", \"1800\", \"1800\", \"1800\", \"1800\", \"1800\", \"1800\", \"1800\", \"1800\", \"1800\", \"1800\", \"1800\", \"1800\", \"1800\", \"1800\", \"1800\", \"1800\", \"1800\", \"1800\", \"1800\", \"1800\", \"1800\", \"1800\", \"1800\", \"1800\", \"1800\", \"1800\", \"1800\", \"1800\", \"1800\", \"1800\", \"1800\", \"1800\", \"1800\", \"1800\", \"1800\", \"1800\", \"1800\", \"1800\", \"1800\", \"1800\", \"1800\", \"1800\", \"1800\", \"1800\", \"1800\", \"1800\", \"1800\", \"1800\", \"1800\", \"1800\", \"1800\", \"1800\", \"1800\", \"1800\", \"1800\", \"1800\", \"1800\", \"1800\", \"1800\", \"1800\", \"1800\", \"1800\", \"1800\", \"1800\", \"1800\", \"1800\", \"1800\", \"1800\", \"1800\", \"1800\", \"1800\", \"1800\", \"1800\", \"1800\", \"1800\", \"1800\", \"1800\", \"1800\", \"1800\", \"1800\", \"1800\", \"1800\", \"1800\", \"1800\", \"1800\", \"1800\", \"1800\", \"1800\", \"1800\", \"1800\", \"1800\", \"1800\", \"1800\", \"1800\", \"1800\", \"1800\", \"1800\", \"1800\", \"1800\", \"1800\", \"1800\", \"1800\", \"1800\", \"1800\", \"1800\", \"1800\", \"1800\", \"1800\", \"1800\", \"1800\", \"1800\", \"1800\", \"1800\", \"1800\", \"1800\", \"1800\", \"1800\", \"1800\", \"1800\", \"1800\", \"1800\", \"1800\", \"1800\", \"1800\", \"1800\", \"1800\", \"1800\", \"1800\", \"1800\", \"1800\", \"1800\", \"1800\", \"1800\", \"1800\", \"1800\", \"1800\", \"1800\", \"1800\", \"1800\", \"1800\", \"1800\", \"1800\", \"1800\", \"1800\", \"1800\", \"1800\", \"1800\", \"1800\", \"1800\", \"1800\", \"1800\", \"1800\", \"1800\", \"1800\", \"1800\", \"1800\", \"1800\", \"1800\", \"1800\", \"1800\", \"1800\", \"1800\", \"1800\", \"1800\", \"1800\", \"1800\", \"1800\", \"1800\", \"1800\", \"1800\", \"1800\", \"1800\", \"1800\", \"1800\", \"1800\", \"1800\", \"1800\", \"1800\", \"1800\", \"1800\", \"1800\", \"1800\", \"1800\", \"1800\", \"1800\", \"1800\", \"1800\", \"1800\", \"1800\", \"1800\", \"1800\", \"1800\", \"1800\", \"1800\", \"1800\", \"1800\", \"1800\", \"1800\", \"1800\", \"1800\", \"1800\", \"1800\", \"1800\", \"1800\", \"1800\", \"1800\", \"1800\", \"1800\", \"1800\", \"1800\", \"1800\", \"1800\", \"1800\", \"1800\", \"1800\", \"1800\", \"1800\", \"1800\", \"1800\", \"1800\", \"1800\", \"1800\", \"1800\", \"1800\", \"1800\", \"1800\", \"1800\", \"1800\", \"1800\", \"1800\", \"1800\", \"1800\", \"1800\", \"1800\", \"1800\", \"1800\", \"1800\", \"1800\", \"1800\", \"1800\", \"1800\", \"1800\", \"1800\", \"1800\", \"1800\", \"1800\", \"1800\", \"1800\", \"1800\", \"1800\", \"1800\", \"1800\", \"1800\", \"1800\", \"1800\", \"1800\", \"1800\", \"1800\", \"1800\", \"1800\", \"1800\", \"1800\", \"1800\", \"1800\", \"1800\", \"1800\", \"1800\", \"1800\", \"1800\", \"1800\", \"1800\", \"1800\", \"1800\", \"1800\", \"1800\", \"1800\", \"1800\", \"1800\", \"1800\", \"1800\", \"1800\", \"1800\", \"1800\", \"1800\", \"1800\", \"1800\", \"1800\", \"1800\", \"1800\", \"1800\", \"1800\", \"1800\", \"1800\", \"1800\", \"1800\", \"1800\", \"1800\", \"1800\", \"1800\", \"1800\", \"1800\", \"1800\", \"1800\", \"1800\", \"1800\", \"1800\", \"1800\", \"1800\", \"1800\", \"1800\", \"1800\", \"1800\", \"1800\", \"1800\", \"1800\", \"1800\", \"1800\", \"1800\", \"1800\", \"1800\", \"1800\", \"1800\", \"1800\", \"1800\", \"1800\", \"1800\", \"1800\", \"1800\", \"1800\", \"1800\", \"1800\", \"1800\", \"1800\", \"1800\", \"1800\", \"1800\", \"1800\", \"1800\", \"1800\", \"1800\", \"1800\", \"1800\", \"1800\", \"1800\", \"1800\", \"1800\", \"1800\", \"1800\", \"1800\", \"1800\", \"1800\", \"1800\", \"1800\", \"1800\", \"1800\", \"1800\", \"1800\", \"1800\", \"1800\", \"1800\", \"1800\", \"1800\", \"1800\", \"1800\", \"1800\", \"1800\", \"1800\", \"1800\", \"1800\", \"1800\", \"1800\", \"1800\", \"1800\", \"1800\", \"1800\", \"1800\", \"1800\", \"1800\", \"1800\", \"1800\", \"1800\", \"1800\", \"1800\", \"1800\", \"1800\", \"1800\", \"1800\", \"1800\", \"1800\", \"1800\", \"1800\", \"1800\", \"1800\", \"1800\", \"1800\", \"1800\", \"1800\", \"1800\", \"1800\", \"1800\", \"1800\", \"1800\", \"1800\", \"1800\", \"1800\", \"1800\", \"1800\", \"1800\", \"1800\", \"1800\", \"1800\", \"1800\", \"1800\", \"1800\", \"1800\", \"1800\", \"1800\", \"1800\", \"1800\", \"1800\", \"1800\", \"1800\", \"1800\", \"1800\", \"1800\", \"1800\", \"1800\", \"1800\", \"1800\", \"1800\", \"1800\", \"1800\", \"1800\", \"1800\", \"1800\", \"1800\", \"1800\", \"1800\", \"1800\", \"1800\", \"1800\", \"1800\", \"1800\", \"1800\", \"1800\", \"1800\", \"1800\", \"1800\", \"1800\", \"1800\", \"1800\", \"1800\", \"1800\", \"1800\", \"1800\", \"1800\", \"1800\", \"1800\", \"1800\", \"1800\", \"1800\", \"1800\", \"1800\", \"1800\", \"1800\", \"1800\", \"1800\", \"1800\", \"1800\", \"1800\", \"1800\", \"1800\", \"1800\", \"1800\", \"1800\", \"1800\", \"1800\", \"1800\", \"1800\", \"1800\", \"1800\", \"1800\", \"1800\", \"1800\", \"1800\", \"1800\", \"1800\", \"1800\", \"1800\", \"1800\", \"1800\", \"1800\", \"1800\", \"1800\", \"1800\", \"1800\", \"1800\", \"1800\", \"1800\", \"1800\", \"1800\", \"1800\", \"1800\", \"1800\", \"1800\", \"1800\", \"1800\", \"1800\", \"1800\", \"1800\", \"1800\", \"1800\", \"1800\", \"1800\", \"1800\", \"1800\", \"1800\", \"1800\", \"1800\", \"1800\", \"1800\", \"1800\", \"1800\", \"1800\", \"1800\", \"1800\", \"1800\", \"1800\", \"1800\", \"1800\", \"1800\", \"1800\", \"1800\", \"1800\", \"1800\", \"1800\", \"1800\", \"1800\", \"1800\", \"1800\", \"1800\", \"1800\", \"1800\", \"1800\", \"1800\", \"1800\", \"1800\", \"1800\", \"1800\", \"1800\", \"1800\", \"1800\", \"1800\", \"1800\", \"1800\", \"1800\", \"1800\", \"1800\", \"1800\", \"1800\", \"1800\", \"1800\", \"1800\", \"1800\", \"1800\", \"1800\", \"1800\", \"1800\", \"1800\", \"1800\", \"1800\", \"1800\", \"1800\", \"1800\", \"1800\", \"1800\", \"1800\", \"1800\", \"1800\", \"1800\", \"1800\", \"1800\", \"1800\", \"1800\", \"1800\", \"1800\", \"1800\", \"1800\", \"1800\", \"1800\", \"1800\", \"1800\", \"1800\", \"1800\", \"1800\", \"1800\", \"1800\", \"1800\", \"1800\", \"1800\", \"1800\", \"1800\", \"1800\", \"1800\", \"1800\", \"1800\", \"1800\", \"1800\", \"1800\", \"1800\", \"1800\", \"1800\", \"1800\", \"1800\", \"1800\", \"1800\", \"1800\", \"1800\", \"1800\", \"1800\", \"1800\", \"1800\", \"1800\", \"1800\", \"1800\", \"1800\", \"1800\", \"1800\", \"1800\", \"1800\", \"1800\", \"1800\", \"1800\", \"1800\", \"1800\", \"1800\", \"1800\", \"1800\", \"1800\", \"1800\", \"1800\", \"1800\", \"1800\", \"1800\", \"1800\", \"1800\", \"1800\", \"1800\", \"1800\", \"1800\", \"1800\", \"1800\", \"1800\", \"1800\", \"1800\", \"1800\", \"1800\", \"1800\", \"1800\", \"1800\", \"1800\", \"1800\", \"1800\", \"1800\", \"1800\", \"1800\", \"1800\", \"1800\", \"1800\", \"1800\", \"1800\", \"1800\", \"1800\", \"1800\", \"1800\", \"1800\", \"1800\", \"1800\", \"1800\", \"1800\", \"1800\", \"1800\", \"1800\", \"1800\", \"1800\", \"1800\", \"1800\", \"1800\", \"1800\", \"1800\", \"1800\", \"1800\", \"1800\", \"1800\", \"1800\", \"1800\", \"1800\", \"1800\", \"1800\", \"1800\", \"1800\", \"1800\", \"1800\", \"1800\", \"1800\", \"1800\", \"1800\", \"1800\", \"1800\", \"1800\", \"1800\", \"1800\", \"1800\", \"1800\", \"1800\", \"1800\", \"1800\", \"1800\", \"1800\", \"1800\", \"1800\", \"1800\", \"1800\", \"1800\", \"1800\", \"1800\", \"1800\", \"1800\", \"1800\", \"1800\", \"1800\", \"1800\", \"1800\", \"1800\", \"1800\", \"1800\", \"1800\", \"1800\", \"1800\", \"1800\", \"1800\", \"1800\", \"1800\", \"1800\", \"1800\", \"1800\", \"1800\", \"1800\", \"1800\", \"1800\", \"1800\", \"1800\", \"1800\", \"1800\", \"1800\", \"1800\", \"1800\", \"1800\", \"1800\", \"1800\", \"1800\", \"1800\", \"1800\", \"1800\", \"1800\", \"1800\", \"1800\", \"1800\", \"1800\", \"1800\", \"1800\", \"1800\", \"1800\", \"1800\", \"1800\", \"1800\", \"1800\", \"1800\", \"1800\", \"1800\", \"1800\", \"1800\", \"1800\", \"1800\", \"1800\", \"1800\", \"1800\", \"1800\", \"1800\", \"1800\", \"1800\", \"1800\", \"1800\", \"1800\", \"1800\", \"1800\", \"1800\", \"1800\", \"1800\", \"1800\", \"1800\", \"1800\", \"1800\", \"1800\", \"1800\", \"1800\", \"1800\", \"1800\", \"1800\", \"1800\", \"1800\", \"1800\", \"1800\", \"1800\", \"1800\", \"1800\", \"1800\", \"1800\", \"1800\", \"1800\", \"1800\", \"1800\", \"1800\", \"1800\", \"1800\", \"1800\", \"1800\", \"1800\", \"1800\", \"1800\", \"1800\", \"1800\", \"1800\", \"1800\", \"1800\", \"1800\", \"1800\", \"1800\", \"1800\", \"1800\", \"1800\", \"1800\", \"1800\", \"1800\", \"1800\", \"1800\", \"1800\", \"1800\", \"1800\", \"1800\", \"1800\", \"1800\", \"1800\", \"1800\", \"1800\", \"1800\", \"1800\", \"1800\", \"1800\", \"1800\", \"1800\", \"1800\", \"1800\", \"1800\", \"1800\", \"1800\", \"1800\", \"1800\", \"1800\", \"1800\", \"1800\", \"1800\", \"1800\", \"1800\", \"1800\", \"1800\", \"1800\", \"1800\", \"1800\", \"1800\", \"1800\", \"1800\", \"1800\", \"1800\", \"1800\", \"1800\", \"1800\", \"1800\", \"1800\", \"1800\", \"1800\", \"1800\", \"1800\", \"1800\", \"1800\", \"1800\", \"1800\", \"1800\", \"1800\", \"1800\", \"1800\", \"1800\", \"1800\", \"1800\", \"1800\", \"1800\", \"1800\", \"1800\", \"1800\", \"1800\", \"1800\", \"1800\", \"1800\", \"1800\", \"1800\", \"1800\", \"1800\", \"1800\", \"1800\", \"1800\", \"1800\", \"1800\", \"1800\", \"1800\", \"1800\", \"1800\", \"1800\", \"1800\", \"1800\", \"1800\", \"1800\", \"1800\", \"1800\", \"1800\", \"1800\", \"1800\", \"1800\", \"1800\", \"1800\", \"1800\", \"1800\", \"1800\", \"1800\", \"1800\", \"1800\", \"1800\", \"1800\", \"1800\", \"1800\", \"1800\", \"1800\", \"1800\", \"1800\", \"1800\", \"1800\", \"1800\", \"1800\", \"1800\", \"1800\", \"1800\", \"1800\", \"1800\", \"1800\", \"1800\", \"1800\", \"1800\", \"1800\", \"1800\", \"1800\", \"1800\", \"1800\", \"1800\", \"1800\", \"1800\", \"1800\", \"1800\", \"1800\", \"1800\", \"1800\", \"1800\", \"1800\", \"1800\", \"1800\", \"1800\", \"1800\", \"1800\", \"1800\", \"1800\", \"1800\", \"1800\", \"1800\", \"1800\", \"1800\", \"1800\", \"1800\", \"1800\", \"1800\", \"1800\", \"1800\", \"1800\", \"1800\", \"1800\", \"1800\", \"1800\", \"1800\", \"1800\", \"1800\", \"1800\", \"1800\", \"1800\", \"1800\", \"1800\", \"1800\", \"1800\", \"1800\", \"1800\", \"1800\", \"1800\", \"1800\", \"1800\", \"1800\", \"1800\", \"1800\", \"1800\", \"1800\", \"1800\", \"1800\", \"1800\", \"1800\", \"1800\", \"1800\", \"1800\", \"1800\", \"1800\", \"1800\", \"1800\", \"1800\", \"1800\", \"1800\", \"1800\", \"1800\", \"1800\", \"1800\", \"1800\", \"1800\", \"1800\", \"1800\", \"1800\", \"1800\", \"1800\", \"1800\", \"1800\", \"1800\", \"1800\", \"1800\", \"1800\", \"1800\", \"1800\", \"1800\", \"1800\", \"1800\", \"1800\", \"1800\", \"1800\", \"1800\", \"1800\", \"1800\", \"1800\", \"1800\", \"1800\", \"1800\", \"1800\", \"1800\", \"1800\", \"1800\", \"1800\", \"1800\", \"1800\", \"1800\", \"1800\", \"1800\", \"1800\", \"1800\", \"1800\", \"1800\", \"1800\", \"1800\", \"1800\", \"1800\", \"1800\", \"1800\", \"1800\", \"1800\", \"1800\", \"1800\", \"1800\", \"1800\", \"1800\", \"1800\", \"1800\", \"1800\", \"1800\", \"1800\", \"1800\", \"1800\", \"1800\", \"1800\", \"1800\", \"1800\", \"1800\", \"1800\", \"1800\", \"1800\", \"1800\", \"1800\", \"1800\", \"1800\", \"1800\", \"1800\", \"1800\", \"1800\", \"1800\", \"1800\", \"1800\", \"1800\", \"1800\", \"1800\", \"1800\", \"1800\", \"1800\", \"1800\", \"1800\", \"1800\", \"1800\", \"1800\", \"1800\", \"1800\", \"1800\", \"1800\", \"1800\", \"1800\", \"1800\", \"1800\", \"1800\", \"1800\", \"1800\", \"1800\", \"1800\", \"1800\", \"1800\", \"1800\", \"1800\", \"1800\", \"1800\", \"1800\", \"1800\", \"1800\", \"1800\", \"1800\", \"1800\", \"1800\", \"1800\", \"1800\", \"1800\", \"1800\", \"1800\", \"1800\", \"1800\", \"1800\", \"1800\", \"1800\", \"1800\", \"1800\", \"1800\", \"1800\", \"1800\", \"1800\", \"1800\", \"1800\", \"1800\", \"1800\", \"1800\", \"1800\", \"1800\", \"1800\", \"1800\", \"1800\", \"1800\", \"1800\", \"1800\", \"1800\", \"1800\", \"1800\", \"1800\", \"1800\", \"1800\", \"1800\", \"1800\", \"1800\", \"1800\", \"1800\", \"1800\", \"1800\", \"1800\", \"1800\", \"1800\", \"1800\", \"1800\", \"1800\", \"1800\", \"1800\", \"1800\", \"1800\", \"1800\", \"1800\", \"1800\", \"1800\", \"1800\", \"1800\", \"1800\", \"1800\", \"1800\", \"1800\", \"1800\", \"1800\", \"1800\", \"1800\", \"1800\", \"1800\", \"1800\", \"1800\", \"1800\", \"1800\", \"1800\", \"1800\", \"1800\", \"1800\", \"1800\", \"1800\", \"1800\", \"1800\", \"1800\", \"1800\", \"1800\", \"1800\", \"1800\", \"1800\", \"1800\", \"1800\", \"1800\", \"1800\", \"1800\", \"1800\", \"1800\", \"1800\", \"1800\", \"1800\", \"1800\", \"1800\", \"1800\", \"1800\", \"1800\", \"1800\", \"1800\", \"1800\", \"1800\", \"1800\", \"1800\", \"1800\", \"1800\", \"1800\", \"1800\", \"1800\", \"1800\", \"1800\", \"1800\", \"1800\", \"1800\", \"1800\", \"1800\", \"1800\", \"1800\", \"1800\", \"1800\", \"1800\", \"1800\", \"1800\", \"1800\", \"1800\", \"1800\", \"1800\", \"1800\", \"1800\", \"1800\", \"1800\", \"1800\", \"1800\", \"1800\", \"1800\", \"1800\", \"1800\", \"1800\", \"1800\", \"1800\", \"1800\", \"1800\", \"1800\", \"1800\", \"1800\", \"1800\", \"1800\", \"1800\", \"1800\", \"1800\", \"1800\", \"1800\", \"1800\", \"1800\", \"1800\", \"1800\", \"1800\", \"1800\", \"1800\", \"1800\", \"1800\", \"1800\", \"1800\", \"1800\", \"1800\", \"1800\", \"1800\", \"1800\", \"1800\", \"1800\", \"1800\", \"1800\", \"1800\", \"1800\", \"1800\", \"1800\", \"1800\", \"1800\", \"1800\", \"1800\", \"1800\", \"1800\", \"1800\", \"1800\", \"1800\", \"1800\", \"1800\", \"1800\", \"1800\", \"1800\", \"1800\", \"1800\", \"1800\", \"1800\", \"1800\", \"1800\", \"1800\", \"1800\", \"1800\", \"1800\", \"1800\", \"1800\", \"1800\", \"1800\", \"1800\", \"1800\", \"1800\", \"1800\", \"1800\", \"1800\", \"1800\", \"1800\", \"1800\", \"1800\", \"1800\", \"1800\", \"1800\", \"1800\", \"1800\", \"1800\", \"1800\", \"1800\", \"1800\", \"1800\", \"1800\", \"1800\", \"1800\", \"1800\", \"1800\", \"1800\", \"1800\", \"1800\", \"1800\", \"1800\", \"1800\", \"1800\", \"1800\", \"1800\", \"1800\", \"1800\", \"1800\", \"1800\", \"1800\", \"1800\", \"1800\", \"1800\", \"1800\", \"1800\", \"1800\", \"1800\", \"1800\", \"1800\", \"1800\", \"1800\", \"1800\", \"1800\", \"1800\", \"1800\", \"1800\", \"1800\", \"1800\", \"1800\", \"1800\", \"1800\", \"1800\", \"1800\", \"1800\", \"1800\", \"1800\", \"1800\", \"1800\", \"1800\", \"1800\", \"1800\", \"1800\", \"1800\", \"1800\", \"1800\", \"1800\", \"1800\", \"1800\", \"1800\", \"1800\", \"1800\", \"1800\", \"1800\", \"1800\", \"1800\", \"1800\", \"1800\", \"1800\", \"1800\", \"1800\", \"1800\", \"1800\", \"1800\", \"1800\", \"1800\", \"1800\", \"1800\", \"1800\", \"1800\", \"1800\", \"1800\", \"1800\", \"1800\", \"1800\", \"1800\", \"1800\", \"1800\", \"1800\", \"1800\", \"1800\", \"1800\", \"1800\", \"1800\", \"1800\", \"1800\", \"1800\", \"1800\", \"1800\", \"1800\", \"1800\", \"1800\", \"1800\", \"1800\", \"1800\", \"1800\", \"1800\", \"1800\", \"1800\", \"1800\", \"1800\", \"1800\", \"1800\", \"1800\", \"1800\", \"1800\", \"1800\", \"1800\", \"1800\", \"1800\", \"1800\", \"1800\", \"1800\", \"1800\", \"1800\", \"1800\", \"1800\", \"1800\", \"1800\", \"1800\", \"1800\", \"1800\", \"1800\", \"1800\", \"1800\", \"1800\", \"1800\", \"1800\", \"1800\", \"1800\", \"1800\", \"1800\", \"1800\", \"1800\", \"1800\", \"1800\", \"1800\", \"1800\", \"1800\", \"1800\", \"1800\", \"1800\", \"1800\", \"1800\", \"1800\", \"1800\", \"1800\", \"1800\", \"1800\", \"1800\", \"1800\", \"1800\", \"1800\", \"1800\", \"1800\", \"1800\", \"1800\", \"1800\", \"1800\", \"1800\", \"1800\", \"1800\", \"1800\", \"1800\", \"1800\", \"1800\", \"1800\", \"1800\", \"1800\", \"1800\", \"1800\", \"1800\", \"1800\", \"1800\", \"1800\", \"1800\", \"1800\", \"1800\", \"1800\", \"1800\", \"1800\", \"1800\", \"1800\", \"1800\", \"1800\", \"1800\", \"1800\", \"1800\", \"1800\", \"1800\", \"1800\", \"1800\", \"1800\", \"1800\", \"1800\", \"1800\", \"1800\", \"1800\", \"1800\", \"1800\", \"1800\", \"1800\", \"1800\", \"1800\", \"1800\", \"1800\", \"1800\", \"1800\", \"1800\", \"1800\", \"1800\", \"1800\", \"1800\", \"1800\", \"1800\", \"1800\", \"1800\", \"1800\", \"1800\", \"1800\", \"1800\", \"1800\", \"1800\", \"1800\", \"1800\", \"1800\", \"1800\", \"1800\", \"1800\", \"1800\", \"1800\", \"1800\", \"1800\", \"1800\", \"1800\", \"1800\", \"1800\", \"1800\", \"1800\", \"1800\", \"1800\", \"1800\", \"1800\", \"1800\", \"1800\", \"1800\", \"1800\", \"1800\", \"1800\", \"1800\", \"1800\", \"1800\", \"1800\", \"1800\", \"1800\", \"1800\", \"1800\", \"1800\", \"1800\", \"1800\", \"1800\", \"1800\", \"1800\", \"1800\", \"1800\", \"1800\", \"1800\", \"1800\", \"1800\", \"1800\", \"1800\", \"1800\", \"1800\", \"1800\", \"1800\", \"1800\", \"1800\", \"1800\", \"1800\", \"1800\", \"1800\", \"1800\", \"1800\", \"1800\", \"1800\", \"1800\", \"1800\", \"1800\", \"1800\", \"1800\", \"1800\", \"1800\", \"1800\", \"1800\", \"1800\", \"1800\", \"1800\", \"1800\", \"1800\", \"1800\", \"1800\", \"1800\", \"1800\", \"1800\", \"1800\", \"1800\", \"1800\", \"1800\", \"1800\", \"1800\", \"1800\", \"1800\", \"1800\", \"1800\", \"1800\", \"1800\", \"1800\", \"1800\", \"1800\", \"1800\", \"1800\", \"1800\", \"1800\", \"1800\", \"1800\", \"1800\", \"1800\", \"1800\", \"1800\", \"1800\", \"1800\", \"1800\", \"1800\", \"1800\", \"1800\", \"1800\", \"1800\", \"1800\", \"1800\", \"1800\", \"1800\", \"1800\", \"1800\", \"1800\", \"1800\", \"1800\", \"1800\", \"1800\", \"1800\", \"1800\", \"1800\", \"1800\", \"1800\", \"1800\", \"1800\", \"1800\", \"1800\", \"1800\", \"1800\", \"1800\", \"1800\", \"1800\", \"1800\", \"1800\", \"1800\", \"1800\", \"1800\", \"1800\", \"1800\", \"1800\", \"1800\", \"1800\", \"1800\", \"1800\", \"1800\", \"1800\", \"1800\", \"1800\", \"1800\", \"1800\", \"1800\", \"1800\", \"1800\", \"1800\", \"1800\", \"1800\", \"1800\", \"1800\", \"1800\", \"1800\", \"1800\", \"1800\", \"1800\", \"1800\", \"1800\", \"1800\", \"1800\", \"1800\", \"1800\", \"1800\", \"1800\", \"1800\", \"1800\", \"1800\", \"1800\", \"1800\", \"1800\", \"1800\", \"1800\", \"1800\", \"1800\", \"1800\", \"1800\", \"1800\", \"1800\", \"1800\", \"1800\", \"1800\", \"1800\", \"1800\", \"1800\", \"1800\", \"1800\", \"1800\", \"1800\", \"1800\", \"1800\", \"1800\", \"1800\", \"1800\", \"1800\", \"1800\", \"1800\", \"1800\", \"1800\", \"1800\", \"1800\", \"1800\", \"1800\", \"1800\", \"1800\", \"1800\", \"1800\", \"1800\", \"1800\", \"1800\", \"1800\", \"1800\", \"1800\", \"1800\", \"1800\", \"1800\", \"1800\", \"1800\", \"1800\", \"1800\", \"1800\", \"1800\", \"1800\", \"1800\", \"1800\", \"1800\", \"1800\", \"1800\", \"1800\", \"1800\", \"1800\", \"1800\", \"1800\", \"1800\", \"1800\", \"1800\", \"1800\", \"1800\", \"1800\", \"1800\", \"1800\", \"1800\", \"1800\", \"1800\", \"1800\", \"1800\", \"1800\", \"1800\", \"1800\", \"1800\", \"1800\", \"1800\", \"1800\", \"1800\", \"1800\", \"1800\", \"1800\", \"1800\", \"1800\", \"1800\", \"1800\", \"1800\", \"1800\", \"1800\", \"1800\", \"1800\", \"1800\", \"1800\", \"1800\", \"1800\", \"1800\", \"1800\", \"1800\", \"1800\", \"1800\", \"1800\", \"1800\", \"1800\", \"1800\", \"1800\", \"1800\", \"1800\", \"1800\", \"1800\", \"1800\", \"1800\", \"1800\", \"1800\", \"1800\", \"1800\", \"1800\", \"1800\", \"1800\", \"1800\", \"1800\", \"1800\", \"1800\", \"1800\", \"1800\", \"1800\", \"1800\", \"1800\", \"1800\", \"1800\", \"1800\", \"1800\", \"1800\", \"1800\", \"1800\", \"1800\", \"1800\", \"1800\", \"1800\", \"1800\", \"1800\", \"1800\", \"1800\", \"1800\", \"1800\", \"1800\", \"1800\", \"1800\", \"1800\", \"1800\", \"1800\", \"1800\", \"1800\", \"1800\", \"1800\", \"1800\", \"1800\", \"1800\", \"1800\", \"1800\", \"1800\", \"1800\", \"1800\", \"1800\", \"1800\", \"1800\", \"1800\", \"1800\", \"1800\", \"1800\", \"1800\", \"1800\", \"1800\", \"1800\", \"1800\", \"1800\", \"1800\", \"1800\", \"1800\", \"1800\", \"1800\", \"1800\", \"1800\", \"1800\", \"1800\", \"1800\", \"1800\", \"1800\", \"1800\", \"1800\", \"1800\", \"1800\", \"1800\", \"1800\", \"1800\", \"1800\", \"1800\", \"1800\", \"1800\", \"1800\", \"1800\", \"1800\", \"1800\", \"1800\", \"1800\", \"1800\", \"1800\", \"1800\", \"1800\", \"1800\", \"1800\", \"1800\", \"1800\", \"1800\", \"1800\", \"1800\", \"1800\", \"1800\", \"1800\", \"1800\", \"1800\", \"1800\", \"1800\", \"1800\", \"1800\", \"1800\", \"1800\", \"1800\", \"1800\", \"1800\", \"1800\", \"1800\", \"1800\", \"1800\", \"1800\", \"1800\", \"1800\", \"1800\", \"1800\", \"1800\", \"1800\", \"1800\", \"1800\", \"1800\", \"1800\", \"1800\", \"1800\", \"1800\", \"1800\", \"1800\", \"1800\", \"1800\", \"1800\", \"1800\", \"1800\", \"1800\", \"1800\", \"1800\", \"1800\", \"1800\", \"1800\", \"1800\", \"1800\", \"1800\", \"1800\", \"1800\", \"1800\", \"1800\", \"1800\", \"1800\", \"1800\", \"1800\", \"1800\", \"1800\", \"1800\", \"1800\", \"1800\", \"1800\", \"1800\", \"1800\", \"1800\", \"1800\", \"1800\", \"1800\", \"1800\", \"1800\", \"1800\", \"1800\", \"1800\", \"1800\", \"1800\", \"1800\", \"1800\", \"1800\", \"1800\", \"1800\", \"1800\", \"1800\", \"1800\", \"1800\", \"1800\", \"1800\", \"1800\", \"1800\", \"1800\", \"1800\", \"1800\", \"1800\", \"1800\", \"1800\", \"1800\", \"1800\", \"1800\", \"1800\", \"1800\", \"1800\", \"1800\", \"1800\", \"1800\", \"1800\", \"1800\", \"1800\", \"1800\", \"1800\", \"1800\", \"1800\", \"1800\", \"1800\", \"1800\", \"1800\", \"1800\", \"1800\", \"1800\", \"1800\", \"1800\", \"1800\", \"1800\", \"1800\", \"1800\", \"1800\", \"1800\", \"1800\", \"1800\", \"1800\", \"1800\", \"1800\", \"1800\", \"1800\", \"1800\", \"1800\", \"1800\", \"1800\", \"1800\", \"1800\", \"1800\", \"1800\", \"1800\", \"1800\", \"1800\", \"1800\", \"1800\", \"1800\", \"1800\", \"1800\", \"1800\", \"1800\", \"1800\", \"1800\", \"1800\", \"1800\", \"1800\", \"1800\", \"1800\", \"1800\", \"1800\", \"1800\", \"1800\", \"1800\", \"1800\", \"1800\", \"1800\", \"1800\", \"1800\", \"1800\", \"1800\", \"1800\", \"1800\", \"1800\", \"1800\", \"1800\", \"1800\", \"1800\", \"1800\", \"1800\", \"1800\", \"1800\", \"1800\", \"1800\", \"1800\", \"1800\", \"1800\", \"1800\", \"1800\", \"1800\", \"1800\", \"1800\", \"1800\", \"1800\", \"1800\", \"1800\", \"1800\", \"1800\", \"1800\", \"1800\", \"1800\", \"1800\", \"1800\", \"1800\", \"1800\", \"1800\", \"1800\", \"1800\", \"1800\", \"1800\", \"1800\", \"1800\", \"1800\", \"1800\", \"1800\", \"1800\", \"1800\", \"1800\", \"1800\", \"1800\", \"1800\", \"1800\", \"1800\", \"1800\", \"1800\", \"1800\", \"1800\", \"1800\", \"1800\", \"1800\", \"1800\", \"1800\", \"1800\", \"1800\", \"1800\", \"1800\", \"1800\", \"1800\", \"1800\", \"1800\", \"1800\", \"1800\", \"1800\", \"1800\", \"1800\", \"1800\", \"1800\", \"1800\", \"1800\", \"1800\", \"1800\", \"1800\", \"1800\", \"1800\", \"1800\", \"1800\", \"1800\", \"1800\", \"1800\", \"1800\", \"1800\", \"1800\", \"1800\", \"1800\", \"1800\", \"1800\", \"1800\", \"1800\", \"1800\", \"1800\", \"1800\", \"1800\", \"1800\", \"1800\", \"1800\", \"1800\", \"1800\", \"1800\", \"1800\", \"1800\", \"1800\", \"1800\", \"1800\", \"1800\", \"1800\", \"1800\", \"1800\", \"1800\", \"1800\", \"1800\", \"1800\", \"1800\", \"1800\", \"1800\", \"1800\", \"1800\", \"1800\", \"1800\", \"1800\", \"1800\", \"1800\", \"1800\", \"1800\", \"1800\", \"1800\", \"1800\", \"1800\", \"1800\", \"1800\", \"1800\", \"1800\", \"1800\", \"1800\", \"1800\", \"1800\", \"1800\", \"1800\", \"1800\", \"1800\", \"1800\", \"1800\", \"1800\", \"1800\", \"1800\", \"1800\", \"1800\", \"1800\", \"1800\", \"1800\", \"1800\", \"1800\", \"1800\", \"1800\", \"1800\", \"1800\", \"1800\", \"1800\", \"1800\", \"1800\", \"1800\", \"1800\", \"1800\", \"1800\", \"1800\", \"1800\", \"1800\", \"1800\", \"1800\", \"1800\", \"1800\", \"1800\", \"1800\", \"1800\", \"1800\", \"1800\", \"1800\", \"1800\", \"1800\", \"1800\", \"1800\", \"1800\", \"1800\", \"1800\", \"1800\", \"1800\", \"1800\", \"1800\", \"1800\", \"1800\", \"1800\", \"1800\", \"1800\", \"1800\", \"1800\", \"1800\", \"1800\", \"1800\", \"1800\", \"1800\", \"1800\", \"1800\", \"1800\", \"1800\", \"1800\", \"1800\", \"1800\", \"1800\", \"1800\", \"1800\", \"1800\", \"1800\", \"1800\", \"1800\", \"1800\", \"1800\", \"1800\", \"1800\", \"1800\", \"1800\", \"1800\", \"1800\", \"1800\", \"1800\", \"1800\", \"1800\", \"1800\", \"1800\", \"1800\", \"1800\", \"1800\", \"1800\", \"1800\", \"1800\", \"1800\", \"1800\", \"1800\", \"1800\", \"1800\", \"1800\", \"1800\", \"1800\", \"1800\", \"1800\", \"1800\", \"1800\", \"1800\", \"1800\", \"1800\", \"1800\", \"1800\", \"1800\", \"1800\", \"1800\", \"1800\", \"1800\", \"1800\", \"1800\", \"1800\", \"1800\", \"1800\", \"1800\", \"1800\", \"1800\", \"1800\", \"1800\", \"1800\", \"1800\", \"1800\", \"1800\", \"1800\", \"1800\", \"1800\", \"1800\", \"1800\", \"1800\", \"1800\", \"1800\", \"1800\", \"1800\", \"1800\", \"1800\", \"1800\", \"1800\", \"1800\", \"1800\", \"1800\", \"1800\", \"1800\", \"1800\", \"1800\", \"1800\", \"1800\", \"1800\", \"1800\", \"1800\", \"1800\", \"1800\", \"1800\", \"1800\", \"1800\", \"1800\", \"1800\", \"1800\", \"1800\", \"1800\", \"1800\", \"1800\", \"1800\", \"1800\", \"1800\", \"1800\", \"1800\", \"1800\", \"1800\", \"1800\", \"1800\", \"1800\", \"1800\", \"1800\", \"1800\", \"1800\", \"1800\", \"1800\", \"1800\", \"1800\", \"1800\", \"1800\", \"1800\", \"1800\", \"1800\", \"1800\", \"1800\", \"1800\", \"1800\", \"1800\", \"1800\", \"1800\", \"1800\", \"1800\", \"1800\", \"1800\", \"1800\", \"1800\", \"1800\", \"1800\", \"1800\", \"1800\", \"1800\", \"1800\", \"1800\", \"1800\", \"1800\", \"1800\", \"1800\", \"1800\", \"1800\", \"1800\", \"1800\", \"1800\", \"1800\", \"1800\", \"1800\", \"1800\", \"1800\", \"1800\", \"1800\", \"1800\", \"1800\", \"1800\", \"1800\", \"1800\", \"1800\", \"1800\", \"1800\", \"1800\", \"1800\", \"1800\", \"1800\", \"1800\", \"1800\", \"1800\", \"1800\", \"1800\", \"1800\", \"1800\", \"1800\", \"1800\", \"1800\", \"1800\", \"1800\", \"1800\", \"1800\", \"1800\", \"1800\", \"1800\", \"1800\", \"1800\", \"1800\", \"1800\", \"1800\", \"1800\", \"1800\", \"1800\", \"1800\", \"1800\", \"1800\", \"1800\", \"1800\", \"1800\", \"1800\", \"1800\", \"1800\", \"1800\", \"1800\", \"1800\", \"1800\", \"1800\", \"1800\", \"1800\", \"1800\", \"1800\", \"1800\", \"1800\", \"1800\", \"1800\", \"1800\", \"1800\", \"1800\", \"1800\", \"1800\", \"1800\", \"1800\", \"1800\", \"1800\", \"1800\", \"1800\", \"1800\", \"1800\", \"1800\", \"1800\", \"1800\", \"1800\", \"1800\", \"1800\", \"1800\", \"1800\", \"1800\", \"1800\", \"1800\", \"1800\", \"1800\", \"1800\", \"1800\", \"1800\", \"1800\", \"1800\", \"1800\", \"1800\", \"1800\", \"1800\", \"1800\", \"1800\", \"1800\", \"1800\", \"1800\", \"1800\", \"1800\", \"1800\", \"1800\", \"1800\", \"1800\", \"1800\", \"1800\", \"1800\", \"1800\", \"1800\", \"1800\", \"1800\", \"1800\", \"1800\", \"1800\", \"1800\", \"1800\", \"1800\", \"1800\", \"1800\", \"1800\", \"1800\", \"1800\", \"1800\", \"1800\", \"1800\", \"1800\", \"1800\", \"1800\", \"1800\", \"1800\", \"1800\", \"1800\", \"1800\", \"1800\", \"1800\", \"1800\", \"1800\", \"1800\", \"1800\", \"1800\", \"1800\", \"1800\", \"1800\", \"1800\", \"1800\", \"1800\", \"1800\", \"1800\", \"1800\", \"1800\", \"1800\", \"1800\", \"1800\", \"1800\", \"1800\", \"1800\", \"1800\", \"1800\", \"1800\", \"1800\", \"1800\", \"1800\", \"1800\", \"1800\", \"1800\", \"1800\", \"1800\", \"1800\", \"1800\", \"1800\", \"1800\", \"1800\", \"1800\", \"1800\", \"1800\", \"1800\", \"1800\", \"1800\", \"1800\", \"1800\", \"1800\", \"1800\", \"1800\", \"1800\", \"1800\", \"1800\", \"1800\", \"1800\", \"1800\", \"1800\", \"1800\", \"1800\", \"1800\", \"1800\", \"1800\", \"1800\", \"1800\", \"1800\", \"1800\", \"1800\", \"1800\", \"1800\", \"1800\", \"1800\", \"1800\", \"1800\", \"1800\", \"1800\", \"1800\", \"1800\", \"1800\", \"1800\", \"1800\", \"1800\", \"1800\", \"1800\", \"1800\", \"1800\", \"1800\", \"1800\", \"1800\", \"1800\", \"1800\", \"1800\", \"1800\", \"1800\", \"1800\", \"1800\", \"1800\", \"1800\", \"1800\", \"1800\", \"1800\", \"1800\", \"1800\", \"1800\", \"1800\", \"1800\", \"1800\", \"1800\", \"1800\", \"1800\", \"1800\", \"1800\", \"1800\", \"1800\", \"1800\", \"1800\", \"1800\", \"1800\", \"1800\", \"1800\", \"1800\", \"1800\", \"1800\", \"1800\", \"1800\", \"1800\", \"1800\", \"1800\", \"1800\", \"1800\", \"1800\", \"1800\", \"1800\", \"1800\", \"1800\", \"1800\", \"1800\", \"1800\", \"1800\", \"1800\", \"1800\", \"1800\", \"1800\", \"1800\", \"1800\", \"1800\", \"1800\", \"1800\", \"1800\", \"1800\", \"1800\", \"1800\", \"1800\", \"1800\", \"1800\", \"1800\", \"1800\", \"1800\", \"1800\", \"1800\", \"1800\", \"1800\", \"1800\", \"1800\", \"1800\", \"1800\", \"1800\", \"1800\", \"1800\", \"1800\", \"1800\", \"1800\", \"1800\", \"1800\", \"1800\", \"1800\", \"1800\", \"1800\", \"1800\", \"1800\", \"1800\", \"1800\", \"1800\", \"1800\", \"1800\", \"1800\", \"1800\", \"1800\", \"1800\", \"1800\", \"1800\", \"1800\", \"1800\", \"1800\", \"1800\", \"1800\", \"1800\", \"1800\", \"1800\", \"1800\", \"1800\", \"1800\", \"1800\", \"1800\", \"1800\", \"1800\", \"1800\", \"1800\", \"1800\", \"1800\", \"1800\", \"1800\", \"1800\", \"1800\", \"1800\", \"1800\", \"1800\", \"1800\", \"1800\", \"1800\", \"1800\", \"1800\", \"1800\", \"1800\", \"1800\", \"1800\", \"1800\", \"1800\", \"1800\", \"1800\", \"1800\", \"1800\", \"1800\", \"1800\", \"1800\", \"1800\", \"1800\", \"1800\", \"1800\", \"1800\", \"1800\", \"1800\", \"1800\", \"1800\", \"1800\", \"1800\", \"1800\", \"1800\", \"1800\", \"1800\", \"1800\", \"1800\", \"1800\", \"1800\", \"1800\", \"1800\", \"1800\", \"1800\", \"1800\", \"1800\", \"1800\", \"1800\", \"1800\", \"1800\", \"1800\", \"1800\", \"1800\", \"1800\", \"1800\", \"1800\", \"1800\", \"1800\", \"1800\", \"1800\", \"1800\", \"1800\", \"1800\", \"1800\", \"1800\", \"1800\", \"1800\", \"1800\", \"1800\", \"1800\", \"1800\", \"1800\", \"1800\", \"1800\", \"1800\", \"1800\", \"1800\", \"1800\", \"1800\", \"1800\", \"1800\", \"1800\", \"1800\", \"1800\", \"1800\", \"1800\", \"1800\", \"1800\", \"1800\", \"1800\", \"1800\", \"1800\", \"1800\", \"1800\", \"1800\", \"1800\", \"1800\", \"1800\", \"1800\", \"1800\", \"1800\", \"1800\", \"1800\", \"1800\", \"1800\", \"1800\", \"1800\", \"1800\", \"1800\", \"1800\", \"1800\", \"1800\", \"1800\", \"1800\", \"1800\", \"1800\", \"1800\", \"1800\", \"1800\", \"1800\", \"1800\", \"1800\", \"1800\", \"1800\", \"1800\", \"1800\", \"1800\", \"1800\", \"1800\", \"1800\", \"1800\", \"1800\", \"1800\", \"1800\", \"1800\", \"1800\", \"1800\", \"1800\", \"1800\", \"1800\", \"1800\", \"1800\", \"1800\", \"1800\", \"1800\", \"1800\", \"1800\", \"1800\", \"1800\", \"1800\", \"1800\", \"1800\", \"1800\", \"1800\", \"1800\", \"1800\", \"1800\", \"1800\", \"1800\", \"1800\", \"1800\", \"1800\", \"1800\", \"1800\", \"1800\", \"1800\", \"1800\", \"1800\", \"1800\", \"1800\", \"1800\", \"1800\", \"1800\", \"1800\", \"1800\", \"1800\", \"1800\", \"1800\", \"1800\", \"1800\", \"1800\", \"1800\", \"1800\", \"1800\", \"1800\", \"1800\", \"1800\", \"1800\", \"1800\", \"1800\", \"1800\", \"1800\", \"1800\", \"1800\", \"1800\", \"1800\", \"1800\", \"1800\", \"1800\", \"1800\", \"1800\", \"1800\", \"1800\", \"1800\", \"1800\", \"1800\", \"1800\", \"1800\", \"1800\", \"1800\", \"1800\", \"1800\", \"1800\", \"1800\", \"1800\", \"1800\", \"1800\", \"1800\", \"1800\", \"1800\", \"1800\", \"1800\", \"1800\", \"1800\", \"1800\", \"1800\", \"1800\", \"1800\", \"1800\", \"1800\", \"1800\", \"1800\", \"1800\", \"1800\", \"1800\", \"1800\", \"1800\", \"1800\", \"1800\", \"1800\", \"1800\", \"1800\", \"1800\", \"1800\", \"1800\", \"1800\", \"1800\", \"1800\", \"1800\", \"1800\", \"1800\", \"1800\", \"1800\", \"1800\", \"1800\", \"1800\", \"1800\", \"1800\", \"1800\", \"1800\", \"1800\", \"1800\", \"1800\", \"1800\", \"1800\", \"1800\", \"1800\", \"1800\", \"1800\", \"1800\", \"1800\", \"1800\", \"1800\", \"1800\", \"1800\", \"1800\", \"1800\", \"1800\", \"1800\", \"1800\", \"1800\", \"1800\", \"1800\", \"1800\", \"1800\", \"1800\", \"1800\", \"1800\", \"1800\", \"1800\", \"1800\", \"1800\", \"1800\", \"1800\", \"1800\", \"1800\", \"1800\", \"1800\", \"1800\", \"1800\", \"1800\", \"1800\", \"1800\", \"1800\", \"1800\", \"1800\", \"1800\", \"1800\", \"1800\", \"1800\", \"1800\", \"1800\", \"1800\", \"1800\", \"1800\", \"1800\", \"1800\", \"1800\", \"1800\", \"1800\", \"1800\", \"1800\", \"1800\", \"1800\", \"1800\", \"1800\", \"1800\", \"1800\", \"1800\", \"1800\", \"1800\", \"1800\", \"1800\", \"1800\", \"1800\", \"1800\", \"1800\", \"1800\", \"1800\", \"1800\", \"1800\", \"1800\", \"1800\", \"1800\", \"1800\", \"1800\", \"1800\", \"1800\", \"1800\", \"1800\", \"1800\", \"1800\", \"1800\", \"1800\", \"1800\", \"1800\", \"1800\", \"1800\", \"1800\", \"1800\", \"1800\", \"1800\", \"1800\", \"1800\", \"1800\", \"1800\", \"1800\", \"1800\", \"1800\", \"1800\", \"1800\", \"1800\", \"1800\", \"1800\", \"1800\", \"1800\", \"1800\", \"1800\", \"1800\", \"1800\", \"1800\", \"1800\", \"1800\", \"1800\", \"1800\", \"1800\", \"1800\", \"1800\", \"1800\", \"1800\", \"1800\", \"1800\", \"1800\", \"1800\", \"1800\", \"1800\", \"1800\", \"1800\", \"1800\", \"1800\", \"1800\", \"1800\", \"1800\", \"1800\", \"1800\", \"1800\", \"1800\", \"1800\", \"1800\", \"1800\", \"1800\", \"1800\", \"1800\", \"1800\", \"1800\", \"1800\", \"1800\", \"1800\", \"1800\", \"1800\", \"1800\", \"1800\", \"1800\", \"1800\", \"1800\", \"1800\", \"1800\", \"1800\", \"1800\", \"1800\", \"1800\", \"1800\", \"1800\", \"1800\", \"1800\", \"1800\", \"1800\", \"1800\", \"1800\", \"1800\", \"1800\", \"1800\", \"1800\", \"1800\", \"1800\", \"1800\", \"1800\", \"1800\", \"1800\", \"1800\", \"1800\", \"1800\", \"1800\", \"1800\", \"1800\", \"1800\", \"1800\", \"1800\", \"1800\", \"1800\", \"1800\", \"1800\", \"1800\", \"1800\", \"1800\", \"1800\", \"1800\", \"1800\", \"1800\", \"1800\", \"1800\", \"1800\", \"1800\", \"1800\", \"1800\", \"1800\", \"1800\", \"1800\", \"1800\", \"1800\", \"1800\", \"1800\", \"1800\", \"1800\", \"1800\", \"1800\", \"1800\", \"1800\", \"1800\", \"1800\", \"1800\", \"1800\", \"1800\", \"1800\", \"1800\", \"1800\", \"1800\", \"1800\", \"1800\", \"1800\", \"1800\", \"1800\", \"1800\", \"1800\", \"1800\", \"1800\", \"1800\", \"1800\", \"1800\", \"1800\", \"1800\", \"1800\", \"1800\", \"1800\", \"1800\", \"1800\", \"1800\", \"1800\", \"1800\", \"1900\", \"1900\", \"1900\", \"1900\", \"1900\", \"1900\", \"1900\", \"1900\", \"1900\", \"1900\", \"1900\", \"1900\", \"1900\", \"1900\", \"1900\", \"1900\", \"1900\", \"1900\", \"1900\", \"1900\", \"1900\", \"1900\", \"1900\", \"1900\", \"1900\", \"1900\", \"1900\", \"1900\", \"1900\", \"1900\", \"1900\", \"1900\", \"1900\", \"1900\", \"1900\", \"1900\", \"1900\", \"1900\", \"1900\", \"1900\", \"1900\", \"1900\", \"1900\", \"1900\", \"1900\", \"1900\", \"1900\", \"1900\", \"1900\", \"1900\", \"1900\", \"1900\", \"1900\", \"1900\", \"1900\", \"1900\", \"1900\", \"1900\", \"1900\", \"1900\", \"1900\", \"1900\", \"1900\", \"1900\", \"1900\", \"1900\", \"1900\", \"1900\", \"1900\", \"1900\", \"1900\", \"1900\", \"1900\", \"1900\", \"1900\", \"1900\", \"1900\", \"1900\", \"1900\", \"1900\", \"1900\", \"1900\", \"1900\", \"1900\", \"1900\", \"1900\", \"1900\", \"1900\", \"1900\", \"1900\", \"1900\", \"1900\", \"1900\", \"1900\", \"1900\", \"1900\", \"1900\", \"1900\", \"1900\", \"1900\", \"1900\", \"1900\", \"1900\", \"1900\", \"1900\", \"1900\", \"1900\", \"1900\", \"1900\", \"1900\", \"1900\", \"1900\", \"1900\", \"1900\", \"1900\", \"1900\", \"1900\", \"1900\", \"1900\", \"1900\", \"1900\", \"1900\", \"1900\", \"1900\", \"1900\", \"1900\", \"1900\", \"1900\", \"1900\", \"1900\", \"1900\", \"1900\", \"1900\", \"1900\", \"1900\", \"1900\", \"1900\", \"1900\", \"1900\", \"1900\", \"1900\", \"1900\", \"1900\", \"1900\", \"1900\", \"1900\", \"1900\", \"1900\", \"1900\", \"1900\", \"1900\", \"1900\", \"1900\", \"1900\", \"1900\", \"1900\", \"1900\", \"1900\", \"1900\", \"1900\", \"1900\", \"1900\", \"1900\", \"1900\", \"1900\", \"1900\", \"1900\", \"1900\", \"1900\", \"1900\", \"1900\", \"1900\", \"1900\", \"1900\", \"1900\", \"1900\", \"1900\", \"1900\", \"1900\", \"1900\", \"1900\", \"1900\", \"1900\", \"1900\", \"1900\", \"1900\", \"1900\", \"1900\", \"1900\", \"1900\", \"1900\", \"1900\", \"1900\", \"1900\", \"1900\", \"1900\", \"1900\", \"1900\", \"1900\", \"1900\", \"1900\", \"1900\", \"1900\", \"1900\", \"1900\", \"1900\", \"1900\", \"1900\", \"1900\", \"1900\", \"1900\", \"1900\", \"1900\", \"1900\", \"1900\", \"1900\", \"1900\", \"1900\", \"1900\", \"1900\", \"1900\", \"1900\", \"1900\", \"1900\", \"1900\", \"1900\", \"1900\", \"1900\", \"1900\", \"1900\", \"1900\", \"1900\", \"1900\", \"1900\", \"1900\", \"1900\", \"1900\", \"1900\", \"1900\", \"1900\", \"1900\", \"1900\", \"1900\", \"1900\", \"1900\", \"1900\", \"1900\", \"1900\", \"1900\", \"1900\", \"1900\", \"1900\", \"1900\", \"1900\", \"1900\", \"1900\", \"1900\", \"1900\", \"1900\", \"1900\", \"1900\", \"1900\", \"1900\", \"1900\", \"1900\", \"1900\", \"1900\", \"1900\", \"1900\", \"1900\", \"1900\", \"1900\", \"1900\", \"1900\", \"1900\", \"1900\", \"1900\", \"1900\", \"1900\", \"1900\", \"1900\", \"1900\", \"1900\", \"1900\", \"1900\", \"1900\", \"1900\", \"1900\", \"1900\", \"1900\", \"1900\", \"1900\", \"1900\", \"1900\", \"1900\", \"1900\", \"1900\", \"1900\", \"1900\", \"1900\", \"1900\", \"1900\", \"1900\", \"1900\", \"1900\", \"1900\", \"1900\", \"1900\", \"1900\", \"1900\", \"1900\", \"1900\", \"1900\", \"1900\", \"1900\", \"1900\", \"1900\", \"1900\", \"1900\", \"1900\", \"1900\", \"1900\", \"1900\", \"1900\", \"1900\", \"1900\", \"1900\", \"1900\", \"1900\", \"1900\", \"1900\", \"1900\", \"1900\", \"1900\", \"1900\", \"1900\", \"1900\", \"1900\", \"1900\", \"1900\", \"1900\", \"1900\", \"1900\", \"1900\", \"1900\", \"1900\", \"1900\", \"1900\", \"1900\", \"1900\", \"1900\", \"1900\", \"1900\", \"1900\", \"1900\", \"1900\", \"1900\", \"1900\", \"1900\", \"1900\", \"1900\", \"1900\", \"1900\", \"1900\", \"1900\", \"1900\", \"1900\", \"1900\", \"1900\", \"1900\", \"1900\", \"1900\", \"1900\", \"1900\", \"1900\", \"1900\", \"1900\", \"1900\", \"1900\", \"1900\", \"1900\", \"1900\", \"1900\", \"1900\", \"1900\", \"1900\", \"1900\", \"1900\", \"1900\", \"1900\", \"1900\", \"1900\", \"1900\", \"1900\", \"1900\", \"1900\", \"1900\", \"1900\", \"1900\", \"1900\", \"1900\", \"1900\", \"1900\", \"1900\", \"1900\", \"1900\", \"1900\", \"1900\", \"1900\", \"1900\", \"1900\", \"1900\", \"1900\", \"1900\", \"1900\", \"1900\", \"1900\", \"1900\", \"1900\", \"1900\", \"1900\", \"1900\", \"1900\", \"1900\", \"1900\", \"1900\", \"1900\", \"1900\", \"1900\", \"1900\", \"1900\", \"1900\", \"1900\", \"1900\", \"1900\", \"1900\", \"1900\", \"1900\", \"1900\", \"1900\", \"1900\", \"1900\", \"1900\", \"1900\", \"1900\", \"1900\", \"1900\", \"1900\", \"1900\", \"1900\", \"1900\", \"1900\", \"1900\", \"1900\", \"1900\", \"1900\", \"1900\", \"1900\", \"1900\", \"1900\", \"1900\", \"1900\", \"1900\", \"1900\", \"1900\", \"1900\", \"1900\", \"1900\", \"1900\", \"1900\", \"1900\", \"1900\", \"1900\", \"1900\", \"1900\", \"1900\", \"1900\", \"1900\", \"1900\", \"1900\", \"1900\", \"1900\", \"1900\", \"1900\", \"1900\", \"1900\", \"1900\", \"1900\", \"1900\", \"1900\", \"1900\", \"1900\", \"1900\", \"1900\", \"1900\", \"1900\", \"1900\", \"1900\", \"1900\", \"1900\", \"1900\", \"1900\", \"1900\", \"1900\", \"1900\", \"1900\", \"1900\", \"1900\", \"1900\", \"1900\", \"1900\", \"1900\", \"1900\", \"1900\", \"1900\", \"1900\", \"1900\", \"1900\", \"1900\", \"1900\", \"1900\", \"1900\", \"1900\", \"1900\", \"1900\", \"1900\", \"1900\", \"1900\", \"1900\", \"1900\", \"1900\", \"1900\", \"1900\", \"1900\", \"1900\", \"1900\", \"1900\", \"1900\", \"1900\", \"1900\", \"1900\", \"1900\", \"1900\", \"1900\", \"1900\", \"1900\", \"1900\", \"1900\", \"1900\", \"1900\", \"1900\", \"1900\", \"1900\", \"1900\", \"1900\", \"1900\", \"1900\", \"1900\", \"1900\", \"1900\", \"1900\", \"1900\", \"1900\", \"1900\", \"1900\", \"1900\", \"1900\", \"1900\", \"1900\", \"1900\", \"1900\", \"1900\", \"1900\", \"1900\", \"1900\", \"1900\", \"1900\", \"1900\", \"1900\", \"1900\", \"1900\", \"1900\", \"1900\", \"1900\", \"1900\", \"1900\", \"1900\", \"1900\", \"1900\", \"1900\", \"1900\", \"1900\", \"1900\", \"1900\", \"1900\", \"1900\", \"1900\", \"1900\", \"1900\", \"1900\", \"1900\", \"1900\", \"1900\", \"1900\", \"1900\", \"1900\", \"1900\", \"1900\", \"1900\", \"1900\", \"1900\", \"1900\", \"1900\", \"1900\", \"1900\", \"1900\", \"1900\", \"1900\", \"1900\", \"1900\", \"1900\", \"1900\", \"1900\", \"1900\", \"1900\", \"1900\", \"1900\", \"1900\", \"1900\", \"1900\", \"1900\", \"1900\", \"1900\", \"1900\", \"1900\", \"1900\", \"1900\", \"1900\", \"1900\", \"1900\", \"1900\", \"1900\", \"1900\", \"1900\", \"1900\", \"1900\", \"1900\", \"1900\", \"1900\", \"1900\", \"1900\", \"1900\", \"1900\", \"1900\", \"1900\", \"1900\", \"1900\", \"1900\", \"1900\", \"1900\", \"1900\", \"1900\", \"1900\", \"1900\", \"1900\", \"1900\", \"1900\", \"1900\", \"1900\", \"1900\", \"1900\", \"1900\", \"1900\", \"1900\", \"1900\", \"1900\", \"1900\", \"1900\", \"1900\", \"1900\", \"1900\", \"1900\", \"1900\", \"1900\", \"1900\", \"1900\", \"1900\", \"1900\", \"1900\", \"1900\", \"1900\", \"1900\", \"1900\", \"1900\", \"1900\", \"1900\", \"1900\", \"1900\", \"Before 1500\", \"Before 1500\", \"Before 1500\", \"Before 1500\", \"Before 1500\", \"Before 1500\", \"Before 1500\", \"Before 1500\", \"Before 1500\", \"Before 1500\", \"Before 1500\"], \"xaxis\": \"x\", \"yaxis\": \"y\"}],                        {\"barmode\": \"relative\", \"legend\": {\"tracegroupgap\": 0}, \"template\": {\"data\": {\"bar\": [{\"error_x\": {\"color\": \"#2a3f5f\"}, \"error_y\": {\"color\": \"#2a3f5f\"}, \"marker\": {\"line\": {\"color\": \"#E5ECF6\", \"width\": 0.5}}, \"type\": \"bar\"}], \"barpolar\": [{\"marker\": {\"line\": {\"color\": \"#E5ECF6\", \"width\": 0.5}}, \"type\": \"barpolar\"}], \"carpet\": [{\"aaxis\": {\"endlinecolor\": \"#2a3f5f\", \"gridcolor\": \"white\", \"linecolor\": \"white\", \"minorgridcolor\": \"white\", \"startlinecolor\": \"#2a3f5f\"}, \"baxis\": {\"endlinecolor\": \"#2a3f5f\", \"gridcolor\": \"white\", \"linecolor\": \"white\", \"minorgridcolor\": \"white\", \"startlinecolor\": \"#2a3f5f\"}, \"type\": \"carpet\"}], \"choropleth\": [{\"colorbar\": {\"outlinewidth\": 0, \"ticks\": \"\"}, \"type\": \"choropleth\"}], \"contour\": [{\"colorbar\": {\"outlinewidth\": 0, \"ticks\": \"\"}, \"colorscale\": [[0.0, \"#0d0887\"], [0.1111111111111111, \"#46039f\"], [0.2222222222222222, \"#7201a8\"], [0.3333333333333333, \"#9c179e\"], [0.4444444444444444, \"#bd3786\"], [0.5555555555555556, \"#d8576b\"], [0.6666666666666666, \"#ed7953\"], [0.7777777777777778, \"#fb9f3a\"], [0.8888888888888888, \"#fdca26\"], [1.0, \"#f0f921\"]], \"type\": \"contour\"}], \"contourcarpet\": [{\"colorbar\": {\"outlinewidth\": 0, \"ticks\": \"\"}, \"type\": \"contourcarpet\"}], \"heatmap\": [{\"colorbar\": {\"outlinewidth\": 0, \"ticks\": \"\"}, \"colorscale\": [[0.0, \"#0d0887\"], [0.1111111111111111, \"#46039f\"], [0.2222222222222222, \"#7201a8\"], [0.3333333333333333, \"#9c179e\"], [0.4444444444444444, \"#bd3786\"], [0.5555555555555556, \"#d8576b\"], [0.6666666666666666, \"#ed7953\"], [0.7777777777777778, \"#fb9f3a\"], [0.8888888888888888, \"#fdca26\"], [1.0, \"#f0f921\"]], \"type\": \"heatmap\"}], \"heatmapgl\": [{\"colorbar\": {\"outlinewidth\": 0, \"ticks\": \"\"}, \"colorscale\": [[0.0, \"#0d0887\"], [0.1111111111111111, \"#46039f\"], [0.2222222222222222, \"#7201a8\"], [0.3333333333333333, \"#9c179e\"], [0.4444444444444444, \"#bd3786\"], [0.5555555555555556, \"#d8576b\"], [0.6666666666666666, \"#ed7953\"], [0.7777777777777778, \"#fb9f3a\"], [0.8888888888888888, \"#fdca26\"], [1.0, \"#f0f921\"]], \"type\": \"heatmapgl\"}], \"histogram\": [{\"marker\": {\"colorbar\": {\"outlinewidth\": 0, \"ticks\": \"\"}}, \"type\": \"histogram\"}], \"histogram2d\": [{\"colorbar\": {\"outlinewidth\": 0, \"ticks\": \"\"}, \"colorscale\": [[0.0, \"#0d0887\"], [0.1111111111111111, \"#46039f\"], [0.2222222222222222, \"#7201a8\"], [0.3333333333333333, \"#9c179e\"], [0.4444444444444444, \"#bd3786\"], [0.5555555555555556, \"#d8576b\"], [0.6666666666666666, \"#ed7953\"], [0.7777777777777778, \"#fb9f3a\"], [0.8888888888888888, \"#fdca26\"], [1.0, \"#f0f921\"]], \"type\": \"histogram2d\"}], \"histogram2dcontour\": [{\"colorbar\": {\"outlinewidth\": 0, \"ticks\": \"\"}, \"colorscale\": [[0.0, \"#0d0887\"], [0.1111111111111111, \"#46039f\"], [0.2222222222222222, \"#7201a8\"], [0.3333333333333333, \"#9c179e\"], [0.4444444444444444, \"#bd3786\"], [0.5555555555555556, \"#d8576b\"], [0.6666666666666666, \"#ed7953\"], [0.7777777777777778, \"#fb9f3a\"], [0.8888888888888888, \"#fdca26\"], [1.0, \"#f0f921\"]], \"type\": \"histogram2dcontour\"}], \"mesh3d\": [{\"colorbar\": {\"outlinewidth\": 0, \"ticks\": \"\"}, \"type\": \"mesh3d\"}], \"parcoords\": [{\"line\": {\"colorbar\": {\"outlinewidth\": 0, \"ticks\": \"\"}}, \"type\": \"parcoords\"}], \"pie\": [{\"automargin\": true, \"type\": \"pie\"}], \"scatter\": [{\"marker\": {\"colorbar\": {\"outlinewidth\": 0, \"ticks\": \"\"}}, \"type\": \"scatter\"}], \"scatter3d\": [{\"line\": {\"colorbar\": {\"outlinewidth\": 0, \"ticks\": \"\"}}, \"marker\": {\"colorbar\": {\"outlinewidth\": 0, \"ticks\": \"\"}}, \"type\": \"scatter3d\"}], \"scattercarpet\": [{\"marker\": {\"colorbar\": {\"outlinewidth\": 0, \"ticks\": \"\"}}, \"type\": \"scattercarpet\"}], \"scattergeo\": [{\"marker\": {\"colorbar\": {\"outlinewidth\": 0, \"ticks\": \"\"}}, \"type\": \"scattergeo\"}], \"scattergl\": [{\"marker\": {\"colorbar\": {\"outlinewidth\": 0, \"ticks\": \"\"}}, \"type\": \"scattergl\"}], \"scattermapbox\": [{\"marker\": {\"colorbar\": {\"outlinewidth\": 0, \"ticks\": \"\"}}, \"type\": \"scattermapbox\"}], \"scatterpolar\": [{\"marker\": {\"colorbar\": {\"outlinewidth\": 0, \"ticks\": \"\"}}, \"type\": \"scatterpolar\"}], \"scatterpolargl\": [{\"marker\": {\"colorbar\": {\"outlinewidth\": 0, \"ticks\": \"\"}}, \"type\": \"scatterpolargl\"}], \"scatterternary\": [{\"marker\": {\"colorbar\": {\"outlinewidth\": 0, \"ticks\": \"\"}}, \"type\": \"scatterternary\"}], \"surface\": [{\"colorbar\": {\"outlinewidth\": 0, \"ticks\": \"\"}, \"colorscale\": [[0.0, \"#0d0887\"], [0.1111111111111111, \"#46039f\"], [0.2222222222222222, \"#7201a8\"], [0.3333333333333333, \"#9c179e\"], [0.4444444444444444, \"#bd3786\"], [0.5555555555555556, \"#d8576b\"], [0.6666666666666666, \"#ed7953\"], [0.7777777777777778, \"#fb9f3a\"], [0.8888888888888888, \"#fdca26\"], [1.0, \"#f0f921\"]], \"type\": \"surface\"}], \"table\": [{\"cells\": {\"fill\": {\"color\": \"#EBF0F8\"}, \"line\": {\"color\": \"white\"}}, \"header\": {\"fill\": {\"color\": \"#C8D4E3\"}, \"line\": {\"color\": \"white\"}}, \"type\": \"table\"}]}, \"layout\": {\"annotationdefaults\": {\"arrowcolor\": \"#2a3f5f\", \"arrowhead\": 0, \"arrowwidth\": 1}, \"autotypenumbers\": \"strict\", \"coloraxis\": {\"colorbar\": {\"outlinewidth\": 0, \"ticks\": \"\"}}, \"colorscale\": {\"diverging\": [[0, \"#8e0152\"], [0.1, \"#c51b7d\"], [0.2, \"#de77ae\"], [0.3, \"#f1b6da\"], [0.4, \"#fde0ef\"], [0.5, \"#f7f7f7\"], [0.6, \"#e6f5d0\"], [0.7, \"#b8e186\"], [0.8, \"#7fbc41\"], [0.9, \"#4d9221\"], [1, \"#276419\"]], \"sequential\": [[0.0, \"#0d0887\"], [0.1111111111111111, \"#46039f\"], [0.2222222222222222, \"#7201a8\"], [0.3333333333333333, \"#9c179e\"], [0.4444444444444444, \"#bd3786\"], [0.5555555555555556, \"#d8576b\"], [0.6666666666666666, \"#ed7953\"], [0.7777777777777778, \"#fb9f3a\"], [0.8888888888888888, \"#fdca26\"], [1.0, \"#f0f921\"]], \"sequentialminus\": [[0.0, \"#0d0887\"], [0.1111111111111111, \"#46039f\"], [0.2222222222222222, \"#7201a8\"], [0.3333333333333333, \"#9c179e\"], [0.4444444444444444, \"#bd3786\"], [0.5555555555555556, \"#d8576b\"], [0.6666666666666666, \"#ed7953\"], [0.7777777777777778, \"#fb9f3a\"], [0.8888888888888888, \"#fdca26\"], [1.0, \"#f0f921\"]]}, \"colorway\": [\"#636efa\", \"#EF553B\", \"#00cc96\", \"#ab63fa\", \"#FFA15A\", \"#19d3f3\", \"#FF6692\", \"#B6E880\", \"#FF97FF\", \"#FECB52\"], \"font\": {\"color\": \"#2a3f5f\"}, \"geo\": {\"bgcolor\": \"white\", \"lakecolor\": \"white\", \"landcolor\": \"#E5ECF6\", \"showlakes\": true, \"showland\": true, \"subunitcolor\": \"white\"}, \"hoverlabel\": {\"align\": \"left\"}, \"hovermode\": \"closest\", \"mapbox\": {\"style\": \"light\"}, \"paper_bgcolor\": \"white\", \"plot_bgcolor\": \"#E5ECF6\", \"polar\": {\"angularaxis\": {\"gridcolor\": \"white\", \"linecolor\": \"white\", \"ticks\": \"\"}, \"bgcolor\": \"#E5ECF6\", \"radialaxis\": {\"gridcolor\": \"white\", \"linecolor\": \"white\", \"ticks\": \"\"}}, \"scene\": {\"xaxis\": {\"backgroundcolor\": \"#E5ECF6\", \"gridcolor\": \"white\", \"gridwidth\": 2, \"linecolor\": \"white\", \"showbackground\": true, \"ticks\": \"\", \"zerolinecolor\": \"white\"}, \"yaxis\": {\"backgroundcolor\": \"#E5ECF6\", \"gridcolor\": \"white\", \"gridwidth\": 2, \"linecolor\": \"white\", \"showbackground\": true, \"ticks\": \"\", \"zerolinecolor\": \"white\"}, \"zaxis\": {\"backgroundcolor\": \"#E5ECF6\", \"gridcolor\": \"white\", \"gridwidth\": 2, \"linecolor\": \"white\", \"showbackground\": true, \"ticks\": \"\", \"zerolinecolor\": \"white\"}}, \"shapedefaults\": {\"line\": {\"color\": \"#2a3f5f\"}}, \"ternary\": {\"aaxis\": {\"gridcolor\": \"white\", \"linecolor\": \"white\", \"ticks\": \"\"}, \"baxis\": {\"gridcolor\": \"white\", \"linecolor\": \"white\", \"ticks\": \"\"}, \"bgcolor\": \"#E5ECF6\", \"caxis\": {\"gridcolor\": \"white\", \"linecolor\": \"white\", \"ticks\": \"\"}}, \"title\": {\"x\": 0.05}, \"xaxis\": {\"automargin\": true, \"gridcolor\": \"white\", \"linecolor\": \"white\", \"ticks\": \"\", \"title\": {\"standoff\": 15}, \"zerolinecolor\": \"white\", \"zerolinewidth\": 2}, \"yaxis\": {\"automargin\": true, \"gridcolor\": \"white\", \"linecolor\": \"white\", \"ticks\": \"\", \"title\": {\"standoff\": 15}, \"zerolinecolor\": \"white\", \"zerolinewidth\": 2}}}, \"title\": {\"text\": \"Distribution of Author Birth Century\"}, \"xaxis\": {\"anchor\": \"y\", \"domain\": [0.0, 1.0], \"title\": {\"text\": \"Author Birth Century\"}}, \"yaxis\": {\"anchor\": \"x\", \"domain\": [0.0, 1.0], \"title\": {\"text\": \"Frequency in Corpus\"}}},                        {\"responsive\": true}                    ).then(function(){\n",
       "                            \n",
       "var gd = document.getElementById('cca9bead-53e6-456c-a3b6-67993514d226');\n",
       "var x = new MutationObserver(function (mutations, observer) {{\n",
       "        var display = window.getComputedStyle(gd).display;\n",
       "        if (!display || display === 'none') {{\n",
       "            console.log([gd, 'removed!']);\n",
       "            Plotly.purge(gd);\n",
       "            observer.disconnect();\n",
       "        }}\n",
       "}});\n",
       "\n",
       "// Listen for the removal of the full notebook cells\n",
       "var notebookContainer = gd.closest('#notebook-container');\n",
       "if (notebookContainer) {{\n",
       "    x.observe(notebookContainer, {childList: true});\n",
       "}}\n",
       "\n",
       "// Listen for the clearing of the current output cell\n",
       "var outputEl = gd.closest('.output');\n",
       "if (outputEl) {{\n",
       "    x.observe(outputEl, {childList: true});\n",
       "}}\n",
       "\n",
       "                        })                };                });            </script>        </div>"
      ]
     },
     "metadata": {},
     "output_type": "display_data"
    }
   ],
   "source": [
    "# plot out corpus by century \n",
    "fig = px.histogram(data_frame = english_fiction_metadata, x=\"Author Birth Century\", title='Distribution of Author Birth Century').update_layout(yaxis_title=\"Frequency in Corpus\")\n",
    "fig.show()"
   ]
  },
  {
   "cell_type": "code",
   "execution_count": 42,
   "id": "013cf1ea",
   "metadata": {},
   "outputs": [],
   "source": [
    "english_fiction_metadata = english_fiction_metadata.sort_values(by=['gd-path'])\n",
    "english_fiction_metadata.to_csv('../data/english_fiction_metadata.csv', index = False)"
   ]
  },
  {
   "cell_type": "code",
   "execution_count": 43,
   "id": "ce5a4317",
   "metadata": {},
   "outputs": [],
   "source": [
    "# exclude texts outside 1700-1900 range \n",
    "english_fiction_metadata = english_fiction_metadata.loc[english_fiction_metadata['Author Birth Century'].isin(['1700', '1800', '1900'])]"
   ]
  },
  {
   "cell_type": "code",
   "execution_count": 44,
   "id": "860d3298",
   "metadata": {},
   "outputs": [
    {
     "data": {
      "application/vnd.plotly.v1+json": {
       "config": {
        "plotlyServerURL": "https://plot.ly"
       },
       "data": [
        {
         "cells": {
          "values": [
           [
            "Georg Ebers",
            "George Meredith",
            "W. W. (William Wymark) Jacobs",
            "Mark Twain",
            "George Manville Fenn",
            "Anthony Trollope",
            "G. A. (George Alfred) Henty",
            "Charles Dickens",
            "Henry James",
            "Gilbert Parker",
            "William Le Queux",
            "Edward Stratemeyer",
            "Charles James Lever",
            "Bret Harte",
            "Eugène Sue",
            "Henry Rider Haggard",
            "Randall Garrett",
            "Winston Churchill",
            "Robert Louis Stevenson",
            "Roy J. (Roy Judson) Snell"
           ],
           [
            125,
            100,
            90,
            87,
            65,
            64,
            62,
            61,
            50,
            50,
            50,
            48,
            47,
            46,
            42,
            41,
            38,
            37,
            35,
            35
           ]
          ]
         },
         "header": {
          "values": [
           "Author",
           "Count"
          ]
         },
         "type": "table"
        }
       ],
       "layout": {
        "template": {
         "data": {
          "bar": [
           {
            "error_x": {
             "color": "#2a3f5f"
            },
            "error_y": {
             "color": "#2a3f5f"
            },
            "marker": {
             "line": {
              "color": "#E5ECF6",
              "width": 0.5
             }
            },
            "type": "bar"
           }
          ],
          "barpolar": [
           {
            "marker": {
             "line": {
              "color": "#E5ECF6",
              "width": 0.5
             }
            },
            "type": "barpolar"
           }
          ],
          "carpet": [
           {
            "aaxis": {
             "endlinecolor": "#2a3f5f",
             "gridcolor": "white",
             "linecolor": "white",
             "minorgridcolor": "white",
             "startlinecolor": "#2a3f5f"
            },
            "baxis": {
             "endlinecolor": "#2a3f5f",
             "gridcolor": "white",
             "linecolor": "white",
             "minorgridcolor": "white",
             "startlinecolor": "#2a3f5f"
            },
            "type": "carpet"
           }
          ],
          "choropleth": [
           {
            "colorbar": {
             "outlinewidth": 0,
             "ticks": ""
            },
            "type": "choropleth"
           }
          ],
          "contour": [
           {
            "colorbar": {
             "outlinewidth": 0,
             "ticks": ""
            },
            "colorscale": [
             [
              0,
              "#0d0887"
             ],
             [
              0.1111111111111111,
              "#46039f"
             ],
             [
              0.2222222222222222,
              "#7201a8"
             ],
             [
              0.3333333333333333,
              "#9c179e"
             ],
             [
              0.4444444444444444,
              "#bd3786"
             ],
             [
              0.5555555555555556,
              "#d8576b"
             ],
             [
              0.6666666666666666,
              "#ed7953"
             ],
             [
              0.7777777777777778,
              "#fb9f3a"
             ],
             [
              0.8888888888888888,
              "#fdca26"
             ],
             [
              1,
              "#f0f921"
             ]
            ],
            "type": "contour"
           }
          ],
          "contourcarpet": [
           {
            "colorbar": {
             "outlinewidth": 0,
             "ticks": ""
            },
            "type": "contourcarpet"
           }
          ],
          "heatmap": [
           {
            "colorbar": {
             "outlinewidth": 0,
             "ticks": ""
            },
            "colorscale": [
             [
              0,
              "#0d0887"
             ],
             [
              0.1111111111111111,
              "#46039f"
             ],
             [
              0.2222222222222222,
              "#7201a8"
             ],
             [
              0.3333333333333333,
              "#9c179e"
             ],
             [
              0.4444444444444444,
              "#bd3786"
             ],
             [
              0.5555555555555556,
              "#d8576b"
             ],
             [
              0.6666666666666666,
              "#ed7953"
             ],
             [
              0.7777777777777778,
              "#fb9f3a"
             ],
             [
              0.8888888888888888,
              "#fdca26"
             ],
             [
              1,
              "#f0f921"
             ]
            ],
            "type": "heatmap"
           }
          ],
          "heatmapgl": [
           {
            "colorbar": {
             "outlinewidth": 0,
             "ticks": ""
            },
            "colorscale": [
             [
              0,
              "#0d0887"
             ],
             [
              0.1111111111111111,
              "#46039f"
             ],
             [
              0.2222222222222222,
              "#7201a8"
             ],
             [
              0.3333333333333333,
              "#9c179e"
             ],
             [
              0.4444444444444444,
              "#bd3786"
             ],
             [
              0.5555555555555556,
              "#d8576b"
             ],
             [
              0.6666666666666666,
              "#ed7953"
             ],
             [
              0.7777777777777778,
              "#fb9f3a"
             ],
             [
              0.8888888888888888,
              "#fdca26"
             ],
             [
              1,
              "#f0f921"
             ]
            ],
            "type": "heatmapgl"
           }
          ],
          "histogram": [
           {
            "marker": {
             "colorbar": {
              "outlinewidth": 0,
              "ticks": ""
             }
            },
            "type": "histogram"
           }
          ],
          "histogram2d": [
           {
            "colorbar": {
             "outlinewidth": 0,
             "ticks": ""
            },
            "colorscale": [
             [
              0,
              "#0d0887"
             ],
             [
              0.1111111111111111,
              "#46039f"
             ],
             [
              0.2222222222222222,
              "#7201a8"
             ],
             [
              0.3333333333333333,
              "#9c179e"
             ],
             [
              0.4444444444444444,
              "#bd3786"
             ],
             [
              0.5555555555555556,
              "#d8576b"
             ],
             [
              0.6666666666666666,
              "#ed7953"
             ],
             [
              0.7777777777777778,
              "#fb9f3a"
             ],
             [
              0.8888888888888888,
              "#fdca26"
             ],
             [
              1,
              "#f0f921"
             ]
            ],
            "type": "histogram2d"
           }
          ],
          "histogram2dcontour": [
           {
            "colorbar": {
             "outlinewidth": 0,
             "ticks": ""
            },
            "colorscale": [
             [
              0,
              "#0d0887"
             ],
             [
              0.1111111111111111,
              "#46039f"
             ],
             [
              0.2222222222222222,
              "#7201a8"
             ],
             [
              0.3333333333333333,
              "#9c179e"
             ],
             [
              0.4444444444444444,
              "#bd3786"
             ],
             [
              0.5555555555555556,
              "#d8576b"
             ],
             [
              0.6666666666666666,
              "#ed7953"
             ],
             [
              0.7777777777777778,
              "#fb9f3a"
             ],
             [
              0.8888888888888888,
              "#fdca26"
             ],
             [
              1,
              "#f0f921"
             ]
            ],
            "type": "histogram2dcontour"
           }
          ],
          "mesh3d": [
           {
            "colorbar": {
             "outlinewidth": 0,
             "ticks": ""
            },
            "type": "mesh3d"
           }
          ],
          "parcoords": [
           {
            "line": {
             "colorbar": {
              "outlinewidth": 0,
              "ticks": ""
             }
            },
            "type": "parcoords"
           }
          ],
          "pie": [
           {
            "automargin": true,
            "type": "pie"
           }
          ],
          "scatter": [
           {
            "marker": {
             "colorbar": {
              "outlinewidth": 0,
              "ticks": ""
             }
            },
            "type": "scatter"
           }
          ],
          "scatter3d": [
           {
            "line": {
             "colorbar": {
              "outlinewidth": 0,
              "ticks": ""
             }
            },
            "marker": {
             "colorbar": {
              "outlinewidth": 0,
              "ticks": ""
             }
            },
            "type": "scatter3d"
           }
          ],
          "scattercarpet": [
           {
            "marker": {
             "colorbar": {
              "outlinewidth": 0,
              "ticks": ""
             }
            },
            "type": "scattercarpet"
           }
          ],
          "scattergeo": [
           {
            "marker": {
             "colorbar": {
              "outlinewidth": 0,
              "ticks": ""
             }
            },
            "type": "scattergeo"
           }
          ],
          "scattergl": [
           {
            "marker": {
             "colorbar": {
              "outlinewidth": 0,
              "ticks": ""
             }
            },
            "type": "scattergl"
           }
          ],
          "scattermapbox": [
           {
            "marker": {
             "colorbar": {
              "outlinewidth": 0,
              "ticks": ""
             }
            },
            "type": "scattermapbox"
           }
          ],
          "scatterpolar": [
           {
            "marker": {
             "colorbar": {
              "outlinewidth": 0,
              "ticks": ""
             }
            },
            "type": "scatterpolar"
           }
          ],
          "scatterpolargl": [
           {
            "marker": {
             "colorbar": {
              "outlinewidth": 0,
              "ticks": ""
             }
            },
            "type": "scatterpolargl"
           }
          ],
          "scatterternary": [
           {
            "marker": {
             "colorbar": {
              "outlinewidth": 0,
              "ticks": ""
             }
            },
            "type": "scatterternary"
           }
          ],
          "surface": [
           {
            "colorbar": {
             "outlinewidth": 0,
             "ticks": ""
            },
            "colorscale": [
             [
              0,
              "#0d0887"
             ],
             [
              0.1111111111111111,
              "#46039f"
             ],
             [
              0.2222222222222222,
              "#7201a8"
             ],
             [
              0.3333333333333333,
              "#9c179e"
             ],
             [
              0.4444444444444444,
              "#bd3786"
             ],
             [
              0.5555555555555556,
              "#d8576b"
             ],
             [
              0.6666666666666666,
              "#ed7953"
             ],
             [
              0.7777777777777778,
              "#fb9f3a"
             ],
             [
              0.8888888888888888,
              "#fdca26"
             ],
             [
              1,
              "#f0f921"
             ]
            ],
            "type": "surface"
           }
          ],
          "table": [
           {
            "cells": {
             "fill": {
              "color": "#EBF0F8"
             },
             "line": {
              "color": "white"
             }
            },
            "header": {
             "fill": {
              "color": "#C8D4E3"
             },
             "line": {
              "color": "white"
             }
            },
            "type": "table"
           }
          ]
         },
         "layout": {
          "annotationdefaults": {
           "arrowcolor": "#2a3f5f",
           "arrowhead": 0,
           "arrowwidth": 1
          },
          "autotypenumbers": "strict",
          "coloraxis": {
           "colorbar": {
            "outlinewidth": 0,
            "ticks": ""
           }
          },
          "colorscale": {
           "diverging": [
            [
             0,
             "#8e0152"
            ],
            [
             0.1,
             "#c51b7d"
            ],
            [
             0.2,
             "#de77ae"
            ],
            [
             0.3,
             "#f1b6da"
            ],
            [
             0.4,
             "#fde0ef"
            ],
            [
             0.5,
             "#f7f7f7"
            ],
            [
             0.6,
             "#e6f5d0"
            ],
            [
             0.7,
             "#b8e186"
            ],
            [
             0.8,
             "#7fbc41"
            ],
            [
             0.9,
             "#4d9221"
            ],
            [
             1,
             "#276419"
            ]
           ],
           "sequential": [
            [
             0,
             "#0d0887"
            ],
            [
             0.1111111111111111,
             "#46039f"
            ],
            [
             0.2222222222222222,
             "#7201a8"
            ],
            [
             0.3333333333333333,
             "#9c179e"
            ],
            [
             0.4444444444444444,
             "#bd3786"
            ],
            [
             0.5555555555555556,
             "#d8576b"
            ],
            [
             0.6666666666666666,
             "#ed7953"
            ],
            [
             0.7777777777777778,
             "#fb9f3a"
            ],
            [
             0.8888888888888888,
             "#fdca26"
            ],
            [
             1,
             "#f0f921"
            ]
           ],
           "sequentialminus": [
            [
             0,
             "#0d0887"
            ],
            [
             0.1111111111111111,
             "#46039f"
            ],
            [
             0.2222222222222222,
             "#7201a8"
            ],
            [
             0.3333333333333333,
             "#9c179e"
            ],
            [
             0.4444444444444444,
             "#bd3786"
            ],
            [
             0.5555555555555556,
             "#d8576b"
            ],
            [
             0.6666666666666666,
             "#ed7953"
            ],
            [
             0.7777777777777778,
             "#fb9f3a"
            ],
            [
             0.8888888888888888,
             "#fdca26"
            ],
            [
             1,
             "#f0f921"
            ]
           ]
          },
          "colorway": [
           "#636efa",
           "#EF553B",
           "#00cc96",
           "#ab63fa",
           "#FFA15A",
           "#19d3f3",
           "#FF6692",
           "#B6E880",
           "#FF97FF",
           "#FECB52"
          ],
          "font": {
           "color": "#2a3f5f"
          },
          "geo": {
           "bgcolor": "white",
           "lakecolor": "white",
           "landcolor": "#E5ECF6",
           "showlakes": true,
           "showland": true,
           "subunitcolor": "white"
          },
          "hoverlabel": {
           "align": "left"
          },
          "hovermode": "closest",
          "mapbox": {
           "style": "light"
          },
          "paper_bgcolor": "white",
          "plot_bgcolor": "#E5ECF6",
          "polar": {
           "angularaxis": {
            "gridcolor": "white",
            "linecolor": "white",
            "ticks": ""
           },
           "bgcolor": "#E5ECF6",
           "radialaxis": {
            "gridcolor": "white",
            "linecolor": "white",
            "ticks": ""
           }
          },
          "scene": {
           "xaxis": {
            "backgroundcolor": "#E5ECF6",
            "gridcolor": "white",
            "gridwidth": 2,
            "linecolor": "white",
            "showbackground": true,
            "ticks": "",
            "zerolinecolor": "white"
           },
           "yaxis": {
            "backgroundcolor": "#E5ECF6",
            "gridcolor": "white",
            "gridwidth": 2,
            "linecolor": "white",
            "showbackground": true,
            "ticks": "",
            "zerolinecolor": "white"
           },
           "zaxis": {
            "backgroundcolor": "#E5ECF6",
            "gridcolor": "white",
            "gridwidth": 2,
            "linecolor": "white",
            "showbackground": true,
            "ticks": "",
            "zerolinecolor": "white"
           }
          },
          "shapedefaults": {
           "line": {
            "color": "#2a3f5f"
           }
          },
          "ternary": {
           "aaxis": {
            "gridcolor": "white",
            "linecolor": "white",
            "ticks": ""
           },
           "baxis": {
            "gridcolor": "white",
            "linecolor": "white",
            "ticks": ""
           },
           "bgcolor": "#E5ECF6",
           "caxis": {
            "gridcolor": "white",
            "linecolor": "white",
            "ticks": ""
           }
          },
          "title": {
           "x": 0.05
          },
          "xaxis": {
           "automargin": true,
           "gridcolor": "white",
           "linecolor": "white",
           "ticks": "",
           "title": {
            "standoff": 15
           },
           "zerolinecolor": "white",
           "zerolinewidth": 2
          },
          "yaxis": {
           "automargin": true,
           "gridcolor": "white",
           "linecolor": "white",
           "ticks": "",
           "title": {
            "standoff": 15
           },
           "zerolinecolor": "white",
           "zerolinewidth": 2
          }
         }
        }
       }
      },
      "text/html": [
       "<div>                            <div id=\"8e2c0b88-0785-47a5-a1c0-5922795afa1e\" class=\"plotly-graph-div\" style=\"height:525px; width:100%;\"></div>            <script type=\"text/javascript\">                require([\"plotly\"], function(Plotly) {                    window.PLOTLYENV=window.PLOTLYENV || {};                                    if (document.getElementById(\"8e2c0b88-0785-47a5-a1c0-5922795afa1e\")) {                    Plotly.newPlot(                        \"8e2c0b88-0785-47a5-a1c0-5922795afa1e\",                        [{\"cells\": {\"values\": [[\"Georg Ebers\", \"George Meredith\", \"W. W. (William Wymark) Jacobs\", \"Mark Twain\", \"George Manville Fenn\", \"Anthony Trollope\", \"G. A. (George Alfred) Henty\", \"Charles Dickens\", \"Henry James\", \"Gilbert Parker\", \"William Le Queux\", \"Edward Stratemeyer\", \"Charles James Lever\", \"Bret Harte\", \"Eug\\u00e8ne Sue\", \"Henry Rider Haggard\", \"Randall Garrett\", \"Winston Churchill\", \"Robert Louis Stevenson\", \"Roy J. (Roy Judson) Snell\"], [125, 100, 90, 87, 65, 64, 62, 61, 50, 50, 50, 48, 47, 46, 42, 41, 38, 37, 35, 35]]}, \"header\": {\"values\": [\"Author\", \"Count\"]}, \"type\": \"table\"}],                        {\"template\": {\"data\": {\"bar\": [{\"error_x\": {\"color\": \"#2a3f5f\"}, \"error_y\": {\"color\": \"#2a3f5f\"}, \"marker\": {\"line\": {\"color\": \"#E5ECF6\", \"width\": 0.5}}, \"type\": \"bar\"}], \"barpolar\": [{\"marker\": {\"line\": {\"color\": \"#E5ECF6\", \"width\": 0.5}}, \"type\": \"barpolar\"}], \"carpet\": [{\"aaxis\": {\"endlinecolor\": \"#2a3f5f\", \"gridcolor\": \"white\", \"linecolor\": \"white\", \"minorgridcolor\": \"white\", \"startlinecolor\": \"#2a3f5f\"}, \"baxis\": {\"endlinecolor\": \"#2a3f5f\", \"gridcolor\": \"white\", \"linecolor\": \"white\", \"minorgridcolor\": \"white\", \"startlinecolor\": \"#2a3f5f\"}, \"type\": \"carpet\"}], \"choropleth\": [{\"colorbar\": {\"outlinewidth\": 0, \"ticks\": \"\"}, \"type\": \"choropleth\"}], \"contour\": [{\"colorbar\": {\"outlinewidth\": 0, \"ticks\": \"\"}, \"colorscale\": [[0.0, \"#0d0887\"], [0.1111111111111111, \"#46039f\"], [0.2222222222222222, \"#7201a8\"], [0.3333333333333333, \"#9c179e\"], [0.4444444444444444, \"#bd3786\"], [0.5555555555555556, \"#d8576b\"], [0.6666666666666666, \"#ed7953\"], [0.7777777777777778, \"#fb9f3a\"], [0.8888888888888888, \"#fdca26\"], [1.0, \"#f0f921\"]], \"type\": \"contour\"}], \"contourcarpet\": [{\"colorbar\": {\"outlinewidth\": 0, \"ticks\": \"\"}, \"type\": \"contourcarpet\"}], \"heatmap\": [{\"colorbar\": {\"outlinewidth\": 0, \"ticks\": \"\"}, \"colorscale\": [[0.0, \"#0d0887\"], [0.1111111111111111, \"#46039f\"], [0.2222222222222222, \"#7201a8\"], [0.3333333333333333, \"#9c179e\"], [0.4444444444444444, \"#bd3786\"], [0.5555555555555556, \"#d8576b\"], [0.6666666666666666, \"#ed7953\"], [0.7777777777777778, \"#fb9f3a\"], [0.8888888888888888, \"#fdca26\"], [1.0, \"#f0f921\"]], \"type\": \"heatmap\"}], \"heatmapgl\": [{\"colorbar\": {\"outlinewidth\": 0, \"ticks\": \"\"}, \"colorscale\": [[0.0, \"#0d0887\"], [0.1111111111111111, \"#46039f\"], [0.2222222222222222, \"#7201a8\"], [0.3333333333333333, \"#9c179e\"], [0.4444444444444444, \"#bd3786\"], [0.5555555555555556, \"#d8576b\"], [0.6666666666666666, \"#ed7953\"], [0.7777777777777778, \"#fb9f3a\"], [0.8888888888888888, \"#fdca26\"], [1.0, \"#f0f921\"]], \"type\": \"heatmapgl\"}], \"histogram\": [{\"marker\": {\"colorbar\": {\"outlinewidth\": 0, \"ticks\": \"\"}}, \"type\": \"histogram\"}], \"histogram2d\": [{\"colorbar\": {\"outlinewidth\": 0, \"ticks\": \"\"}, \"colorscale\": [[0.0, \"#0d0887\"], [0.1111111111111111, \"#46039f\"], [0.2222222222222222, \"#7201a8\"], [0.3333333333333333, \"#9c179e\"], [0.4444444444444444, \"#bd3786\"], [0.5555555555555556, \"#d8576b\"], [0.6666666666666666, \"#ed7953\"], [0.7777777777777778, \"#fb9f3a\"], [0.8888888888888888, \"#fdca26\"], [1.0, \"#f0f921\"]], \"type\": \"histogram2d\"}], \"histogram2dcontour\": [{\"colorbar\": {\"outlinewidth\": 0, \"ticks\": \"\"}, \"colorscale\": [[0.0, \"#0d0887\"], [0.1111111111111111, \"#46039f\"], [0.2222222222222222, \"#7201a8\"], [0.3333333333333333, \"#9c179e\"], [0.4444444444444444, \"#bd3786\"], [0.5555555555555556, \"#d8576b\"], [0.6666666666666666, \"#ed7953\"], [0.7777777777777778, \"#fb9f3a\"], [0.8888888888888888, \"#fdca26\"], [1.0, \"#f0f921\"]], \"type\": \"histogram2dcontour\"}], \"mesh3d\": [{\"colorbar\": {\"outlinewidth\": 0, \"ticks\": \"\"}, \"type\": \"mesh3d\"}], \"parcoords\": [{\"line\": {\"colorbar\": {\"outlinewidth\": 0, \"ticks\": \"\"}}, \"type\": \"parcoords\"}], \"pie\": [{\"automargin\": true, \"type\": \"pie\"}], \"scatter\": [{\"marker\": {\"colorbar\": {\"outlinewidth\": 0, \"ticks\": \"\"}}, \"type\": \"scatter\"}], \"scatter3d\": [{\"line\": {\"colorbar\": {\"outlinewidth\": 0, \"ticks\": \"\"}}, \"marker\": {\"colorbar\": {\"outlinewidth\": 0, \"ticks\": \"\"}}, \"type\": \"scatter3d\"}], \"scattercarpet\": [{\"marker\": {\"colorbar\": {\"outlinewidth\": 0, \"ticks\": \"\"}}, \"type\": \"scattercarpet\"}], \"scattergeo\": [{\"marker\": {\"colorbar\": {\"outlinewidth\": 0, \"ticks\": \"\"}}, \"type\": \"scattergeo\"}], \"scattergl\": [{\"marker\": {\"colorbar\": {\"outlinewidth\": 0, \"ticks\": \"\"}}, \"type\": \"scattergl\"}], \"scattermapbox\": [{\"marker\": {\"colorbar\": {\"outlinewidth\": 0, \"ticks\": \"\"}}, \"type\": \"scattermapbox\"}], \"scatterpolar\": [{\"marker\": {\"colorbar\": {\"outlinewidth\": 0, \"ticks\": \"\"}}, \"type\": \"scatterpolar\"}], \"scatterpolargl\": [{\"marker\": {\"colorbar\": {\"outlinewidth\": 0, \"ticks\": \"\"}}, \"type\": \"scatterpolargl\"}], \"scatterternary\": [{\"marker\": {\"colorbar\": {\"outlinewidth\": 0, \"ticks\": \"\"}}, \"type\": \"scatterternary\"}], \"surface\": [{\"colorbar\": {\"outlinewidth\": 0, \"ticks\": \"\"}, \"colorscale\": [[0.0, \"#0d0887\"], [0.1111111111111111, \"#46039f\"], [0.2222222222222222, \"#7201a8\"], [0.3333333333333333, \"#9c179e\"], [0.4444444444444444, \"#bd3786\"], [0.5555555555555556, \"#d8576b\"], [0.6666666666666666, \"#ed7953\"], [0.7777777777777778, \"#fb9f3a\"], [0.8888888888888888, \"#fdca26\"], [1.0, \"#f0f921\"]], \"type\": \"surface\"}], \"table\": [{\"cells\": {\"fill\": {\"color\": \"#EBF0F8\"}, \"line\": {\"color\": \"white\"}}, \"header\": {\"fill\": {\"color\": \"#C8D4E3\"}, \"line\": {\"color\": \"white\"}}, \"type\": \"table\"}]}, \"layout\": {\"annotationdefaults\": {\"arrowcolor\": \"#2a3f5f\", \"arrowhead\": 0, \"arrowwidth\": 1}, \"autotypenumbers\": \"strict\", \"coloraxis\": {\"colorbar\": {\"outlinewidth\": 0, \"ticks\": \"\"}}, \"colorscale\": {\"diverging\": [[0, \"#8e0152\"], [0.1, \"#c51b7d\"], [0.2, \"#de77ae\"], [0.3, \"#f1b6da\"], [0.4, \"#fde0ef\"], [0.5, \"#f7f7f7\"], [0.6, \"#e6f5d0\"], [0.7, \"#b8e186\"], [0.8, \"#7fbc41\"], [0.9, \"#4d9221\"], [1, \"#276419\"]], \"sequential\": [[0.0, \"#0d0887\"], [0.1111111111111111, \"#46039f\"], [0.2222222222222222, \"#7201a8\"], [0.3333333333333333, \"#9c179e\"], [0.4444444444444444, \"#bd3786\"], [0.5555555555555556, \"#d8576b\"], [0.6666666666666666, \"#ed7953\"], [0.7777777777777778, \"#fb9f3a\"], [0.8888888888888888, \"#fdca26\"], [1.0, \"#f0f921\"]], \"sequentialminus\": [[0.0, \"#0d0887\"], [0.1111111111111111, \"#46039f\"], [0.2222222222222222, \"#7201a8\"], [0.3333333333333333, \"#9c179e\"], [0.4444444444444444, \"#bd3786\"], [0.5555555555555556, \"#d8576b\"], [0.6666666666666666, \"#ed7953\"], [0.7777777777777778, \"#fb9f3a\"], [0.8888888888888888, \"#fdca26\"], [1.0, \"#f0f921\"]]}, \"colorway\": [\"#636efa\", \"#EF553B\", \"#00cc96\", \"#ab63fa\", \"#FFA15A\", \"#19d3f3\", \"#FF6692\", \"#B6E880\", \"#FF97FF\", \"#FECB52\"], \"font\": {\"color\": \"#2a3f5f\"}, \"geo\": {\"bgcolor\": \"white\", \"lakecolor\": \"white\", \"landcolor\": \"#E5ECF6\", \"showlakes\": true, \"showland\": true, \"subunitcolor\": \"white\"}, \"hoverlabel\": {\"align\": \"left\"}, \"hovermode\": \"closest\", \"mapbox\": {\"style\": \"light\"}, \"paper_bgcolor\": \"white\", \"plot_bgcolor\": \"#E5ECF6\", \"polar\": {\"angularaxis\": {\"gridcolor\": \"white\", \"linecolor\": \"white\", \"ticks\": \"\"}, \"bgcolor\": \"#E5ECF6\", \"radialaxis\": {\"gridcolor\": \"white\", \"linecolor\": \"white\", \"ticks\": \"\"}}, \"scene\": {\"xaxis\": {\"backgroundcolor\": \"#E5ECF6\", \"gridcolor\": \"white\", \"gridwidth\": 2, \"linecolor\": \"white\", \"showbackground\": true, \"ticks\": \"\", \"zerolinecolor\": \"white\"}, \"yaxis\": {\"backgroundcolor\": \"#E5ECF6\", \"gridcolor\": \"white\", \"gridwidth\": 2, \"linecolor\": \"white\", \"showbackground\": true, \"ticks\": \"\", \"zerolinecolor\": \"white\"}, \"zaxis\": {\"backgroundcolor\": \"#E5ECF6\", \"gridcolor\": \"white\", \"gridwidth\": 2, \"linecolor\": \"white\", \"showbackground\": true, \"ticks\": \"\", \"zerolinecolor\": \"white\"}}, \"shapedefaults\": {\"line\": {\"color\": \"#2a3f5f\"}}, \"ternary\": {\"aaxis\": {\"gridcolor\": \"white\", \"linecolor\": \"white\", \"ticks\": \"\"}, \"baxis\": {\"gridcolor\": \"white\", \"linecolor\": \"white\", \"ticks\": \"\"}, \"bgcolor\": \"#E5ECF6\", \"caxis\": {\"gridcolor\": \"white\", \"linecolor\": \"white\", \"ticks\": \"\"}}, \"title\": {\"x\": 0.05}, \"xaxis\": {\"automargin\": true, \"gridcolor\": \"white\", \"linecolor\": \"white\", \"ticks\": \"\", \"title\": {\"standoff\": 15}, \"zerolinecolor\": \"white\", \"zerolinewidth\": 2}, \"yaxis\": {\"automargin\": true, \"gridcolor\": \"white\", \"linecolor\": \"white\", \"ticks\": \"\", \"title\": {\"standoff\": 15}, \"zerolinecolor\": \"white\", \"zerolinewidth\": 2}}}},                        {\"responsive\": true}                    ).then(function(){\n",
       "                            \n",
       "var gd = document.getElementById('8e2c0b88-0785-47a5-a1c0-5922795afa1e');\n",
       "var x = new MutationObserver(function (mutations, observer) {{\n",
       "        var display = window.getComputedStyle(gd).display;\n",
       "        if (!display || display === 'none') {{\n",
       "            console.log([gd, 'removed!']);\n",
       "            Plotly.purge(gd);\n",
       "            observer.disconnect();\n",
       "        }}\n",
       "}});\n",
       "\n",
       "// Listen for the removal of the full notebook cells\n",
       "var notebookContainer = gd.closest('#notebook-container');\n",
       "if (notebookContainer) {{\n",
       "    x.observe(notebookContainer, {childList: true});\n",
       "}}\n",
       "\n",
       "// Listen for the clearing of the current output cell\n",
       "var outputEl = gd.closest('.output');\n",
       "if (outputEl) {{\n",
       "    x.observe(outputEl, {childList: true});\n",
       "}}\n",
       "\n",
       "                        })                };                });            </script>        </div>"
      ]
     },
     "metadata": {},
     "output_type": "display_data"
    }
   ],
   "source": [
    "# top authors- english_fiction_metadata\n",
    "unique_authors = {}\n",
    "def count_authors(author_list):\n",
    "    if not isinstance(author_list, list):\n",
    "        author_list = ['None Available']\n",
    "    for val in author_list:\n",
    "        if val in unique_authors:\n",
    "            unique_authors[val] +=1 \n",
    "        else: \n",
    "            unique_authors[val] = 1\n",
    "    return len(author_list)\n",
    "            \n",
    "english_fiction_metadata['Number of Authors'] = english_fiction_metadata.apply(lambda row : count_authors(row['Author']), axis = 1)\n",
    "top_20_authors = sorted(unique_authors.items(), key=lambda x: x[1], reverse = True)[:20]\n",
    "top_20_authors =  [list(x) for x in top_20_authors]\n",
    "top_20_authors_names = [x[0] for x in top_20_authors]\n",
    "top_20_authors_counts = [x[1] for x in top_20_authors]\n",
    "\n",
    "fig = go.Figure(data=[go.Table(header=dict(values=['Author', 'Count']),\n",
    "                 cells=dict(values=[top_20_authors_names,top_20_authors_counts] ))\n",
    "                     ])\n",
    "fig.show()"
   ]
  },
  {
   "cell_type": "code",
   "execution_count": 45,
   "id": "53ec4bfe",
   "metadata": {},
   "outputs": [
    {
     "data": {
      "application/vnd.plotly.v1+json": {
       "config": {
        "plotlyServerURL": "https://plot.ly"
       },
       "data": [
        {
         "cells": {
          "values": [
           [
            "Fiction",
            "Science fiction",
            "Short stories",
            "Adventure stories",
            "Love stories",
            "Historical fiction",
            "Detective and mystery stories",
            "Conduct of life -- Juvenile fiction",
            "England -- Fiction",
            "Western stories",
            "Man-woman relationships -- Fiction",
            "England -- Social life and customs -- Fiction",
            "Domestic fiction",
            "Humorous stories",
            "Young women -- Fiction",
            "English fiction -- 19th century",
            "England -- Social life and customs -- 19th century -- Fiction",
            "Children -- Conduct of life -- Juvenile fiction",
            "Psychological fiction",
            "London (England) -- Fiction"
           ],
           [
            804,
            715,
            670,
            295,
            251,
            233,
            230,
            221,
            188,
            164,
            156,
            139,
            135,
            135,
            109,
            108,
            106,
            106,
            103,
            94
           ]
          ]
         },
         "header": {
          "values": [
           "Genre",
           "Count"
          ]
         },
         "type": "table"
        }
       ],
       "layout": {
        "template": {
         "data": {
          "bar": [
           {
            "error_x": {
             "color": "#2a3f5f"
            },
            "error_y": {
             "color": "#2a3f5f"
            },
            "marker": {
             "line": {
              "color": "#E5ECF6",
              "width": 0.5
             }
            },
            "type": "bar"
           }
          ],
          "barpolar": [
           {
            "marker": {
             "line": {
              "color": "#E5ECF6",
              "width": 0.5
             }
            },
            "type": "barpolar"
           }
          ],
          "carpet": [
           {
            "aaxis": {
             "endlinecolor": "#2a3f5f",
             "gridcolor": "white",
             "linecolor": "white",
             "minorgridcolor": "white",
             "startlinecolor": "#2a3f5f"
            },
            "baxis": {
             "endlinecolor": "#2a3f5f",
             "gridcolor": "white",
             "linecolor": "white",
             "minorgridcolor": "white",
             "startlinecolor": "#2a3f5f"
            },
            "type": "carpet"
           }
          ],
          "choropleth": [
           {
            "colorbar": {
             "outlinewidth": 0,
             "ticks": ""
            },
            "type": "choropleth"
           }
          ],
          "contour": [
           {
            "colorbar": {
             "outlinewidth": 0,
             "ticks": ""
            },
            "colorscale": [
             [
              0,
              "#0d0887"
             ],
             [
              0.1111111111111111,
              "#46039f"
             ],
             [
              0.2222222222222222,
              "#7201a8"
             ],
             [
              0.3333333333333333,
              "#9c179e"
             ],
             [
              0.4444444444444444,
              "#bd3786"
             ],
             [
              0.5555555555555556,
              "#d8576b"
             ],
             [
              0.6666666666666666,
              "#ed7953"
             ],
             [
              0.7777777777777778,
              "#fb9f3a"
             ],
             [
              0.8888888888888888,
              "#fdca26"
             ],
             [
              1,
              "#f0f921"
             ]
            ],
            "type": "contour"
           }
          ],
          "contourcarpet": [
           {
            "colorbar": {
             "outlinewidth": 0,
             "ticks": ""
            },
            "type": "contourcarpet"
           }
          ],
          "heatmap": [
           {
            "colorbar": {
             "outlinewidth": 0,
             "ticks": ""
            },
            "colorscale": [
             [
              0,
              "#0d0887"
             ],
             [
              0.1111111111111111,
              "#46039f"
             ],
             [
              0.2222222222222222,
              "#7201a8"
             ],
             [
              0.3333333333333333,
              "#9c179e"
             ],
             [
              0.4444444444444444,
              "#bd3786"
             ],
             [
              0.5555555555555556,
              "#d8576b"
             ],
             [
              0.6666666666666666,
              "#ed7953"
             ],
             [
              0.7777777777777778,
              "#fb9f3a"
             ],
             [
              0.8888888888888888,
              "#fdca26"
             ],
             [
              1,
              "#f0f921"
             ]
            ],
            "type": "heatmap"
           }
          ],
          "heatmapgl": [
           {
            "colorbar": {
             "outlinewidth": 0,
             "ticks": ""
            },
            "colorscale": [
             [
              0,
              "#0d0887"
             ],
             [
              0.1111111111111111,
              "#46039f"
             ],
             [
              0.2222222222222222,
              "#7201a8"
             ],
             [
              0.3333333333333333,
              "#9c179e"
             ],
             [
              0.4444444444444444,
              "#bd3786"
             ],
             [
              0.5555555555555556,
              "#d8576b"
             ],
             [
              0.6666666666666666,
              "#ed7953"
             ],
             [
              0.7777777777777778,
              "#fb9f3a"
             ],
             [
              0.8888888888888888,
              "#fdca26"
             ],
             [
              1,
              "#f0f921"
             ]
            ],
            "type": "heatmapgl"
           }
          ],
          "histogram": [
           {
            "marker": {
             "colorbar": {
              "outlinewidth": 0,
              "ticks": ""
             }
            },
            "type": "histogram"
           }
          ],
          "histogram2d": [
           {
            "colorbar": {
             "outlinewidth": 0,
             "ticks": ""
            },
            "colorscale": [
             [
              0,
              "#0d0887"
             ],
             [
              0.1111111111111111,
              "#46039f"
             ],
             [
              0.2222222222222222,
              "#7201a8"
             ],
             [
              0.3333333333333333,
              "#9c179e"
             ],
             [
              0.4444444444444444,
              "#bd3786"
             ],
             [
              0.5555555555555556,
              "#d8576b"
             ],
             [
              0.6666666666666666,
              "#ed7953"
             ],
             [
              0.7777777777777778,
              "#fb9f3a"
             ],
             [
              0.8888888888888888,
              "#fdca26"
             ],
             [
              1,
              "#f0f921"
             ]
            ],
            "type": "histogram2d"
           }
          ],
          "histogram2dcontour": [
           {
            "colorbar": {
             "outlinewidth": 0,
             "ticks": ""
            },
            "colorscale": [
             [
              0,
              "#0d0887"
             ],
             [
              0.1111111111111111,
              "#46039f"
             ],
             [
              0.2222222222222222,
              "#7201a8"
             ],
             [
              0.3333333333333333,
              "#9c179e"
             ],
             [
              0.4444444444444444,
              "#bd3786"
             ],
             [
              0.5555555555555556,
              "#d8576b"
             ],
             [
              0.6666666666666666,
              "#ed7953"
             ],
             [
              0.7777777777777778,
              "#fb9f3a"
             ],
             [
              0.8888888888888888,
              "#fdca26"
             ],
             [
              1,
              "#f0f921"
             ]
            ],
            "type": "histogram2dcontour"
           }
          ],
          "mesh3d": [
           {
            "colorbar": {
             "outlinewidth": 0,
             "ticks": ""
            },
            "type": "mesh3d"
           }
          ],
          "parcoords": [
           {
            "line": {
             "colorbar": {
              "outlinewidth": 0,
              "ticks": ""
             }
            },
            "type": "parcoords"
           }
          ],
          "pie": [
           {
            "automargin": true,
            "type": "pie"
           }
          ],
          "scatter": [
           {
            "marker": {
             "colorbar": {
              "outlinewidth": 0,
              "ticks": ""
             }
            },
            "type": "scatter"
           }
          ],
          "scatter3d": [
           {
            "line": {
             "colorbar": {
              "outlinewidth": 0,
              "ticks": ""
             }
            },
            "marker": {
             "colorbar": {
              "outlinewidth": 0,
              "ticks": ""
             }
            },
            "type": "scatter3d"
           }
          ],
          "scattercarpet": [
           {
            "marker": {
             "colorbar": {
              "outlinewidth": 0,
              "ticks": ""
             }
            },
            "type": "scattercarpet"
           }
          ],
          "scattergeo": [
           {
            "marker": {
             "colorbar": {
              "outlinewidth": 0,
              "ticks": ""
             }
            },
            "type": "scattergeo"
           }
          ],
          "scattergl": [
           {
            "marker": {
             "colorbar": {
              "outlinewidth": 0,
              "ticks": ""
             }
            },
            "type": "scattergl"
           }
          ],
          "scattermapbox": [
           {
            "marker": {
             "colorbar": {
              "outlinewidth": 0,
              "ticks": ""
             }
            },
            "type": "scattermapbox"
           }
          ],
          "scatterpolar": [
           {
            "marker": {
             "colorbar": {
              "outlinewidth": 0,
              "ticks": ""
             }
            },
            "type": "scatterpolar"
           }
          ],
          "scatterpolargl": [
           {
            "marker": {
             "colorbar": {
              "outlinewidth": 0,
              "ticks": ""
             }
            },
            "type": "scatterpolargl"
           }
          ],
          "scatterternary": [
           {
            "marker": {
             "colorbar": {
              "outlinewidth": 0,
              "ticks": ""
             }
            },
            "type": "scatterternary"
           }
          ],
          "surface": [
           {
            "colorbar": {
             "outlinewidth": 0,
             "ticks": ""
            },
            "colorscale": [
             [
              0,
              "#0d0887"
             ],
             [
              0.1111111111111111,
              "#46039f"
             ],
             [
              0.2222222222222222,
              "#7201a8"
             ],
             [
              0.3333333333333333,
              "#9c179e"
             ],
             [
              0.4444444444444444,
              "#bd3786"
             ],
             [
              0.5555555555555556,
              "#d8576b"
             ],
             [
              0.6666666666666666,
              "#ed7953"
             ],
             [
              0.7777777777777778,
              "#fb9f3a"
             ],
             [
              0.8888888888888888,
              "#fdca26"
             ],
             [
              1,
              "#f0f921"
             ]
            ],
            "type": "surface"
           }
          ],
          "table": [
           {
            "cells": {
             "fill": {
              "color": "#EBF0F8"
             },
             "line": {
              "color": "white"
             }
            },
            "header": {
             "fill": {
              "color": "#C8D4E3"
             },
             "line": {
              "color": "white"
             }
            },
            "type": "table"
           }
          ]
         },
         "layout": {
          "annotationdefaults": {
           "arrowcolor": "#2a3f5f",
           "arrowhead": 0,
           "arrowwidth": 1
          },
          "autotypenumbers": "strict",
          "coloraxis": {
           "colorbar": {
            "outlinewidth": 0,
            "ticks": ""
           }
          },
          "colorscale": {
           "diverging": [
            [
             0,
             "#8e0152"
            ],
            [
             0.1,
             "#c51b7d"
            ],
            [
             0.2,
             "#de77ae"
            ],
            [
             0.3,
             "#f1b6da"
            ],
            [
             0.4,
             "#fde0ef"
            ],
            [
             0.5,
             "#f7f7f7"
            ],
            [
             0.6,
             "#e6f5d0"
            ],
            [
             0.7,
             "#b8e186"
            ],
            [
             0.8,
             "#7fbc41"
            ],
            [
             0.9,
             "#4d9221"
            ],
            [
             1,
             "#276419"
            ]
           ],
           "sequential": [
            [
             0,
             "#0d0887"
            ],
            [
             0.1111111111111111,
             "#46039f"
            ],
            [
             0.2222222222222222,
             "#7201a8"
            ],
            [
             0.3333333333333333,
             "#9c179e"
            ],
            [
             0.4444444444444444,
             "#bd3786"
            ],
            [
             0.5555555555555556,
             "#d8576b"
            ],
            [
             0.6666666666666666,
             "#ed7953"
            ],
            [
             0.7777777777777778,
             "#fb9f3a"
            ],
            [
             0.8888888888888888,
             "#fdca26"
            ],
            [
             1,
             "#f0f921"
            ]
           ],
           "sequentialminus": [
            [
             0,
             "#0d0887"
            ],
            [
             0.1111111111111111,
             "#46039f"
            ],
            [
             0.2222222222222222,
             "#7201a8"
            ],
            [
             0.3333333333333333,
             "#9c179e"
            ],
            [
             0.4444444444444444,
             "#bd3786"
            ],
            [
             0.5555555555555556,
             "#d8576b"
            ],
            [
             0.6666666666666666,
             "#ed7953"
            ],
            [
             0.7777777777777778,
             "#fb9f3a"
            ],
            [
             0.8888888888888888,
             "#fdca26"
            ],
            [
             1,
             "#f0f921"
            ]
           ]
          },
          "colorway": [
           "#636efa",
           "#EF553B",
           "#00cc96",
           "#ab63fa",
           "#FFA15A",
           "#19d3f3",
           "#FF6692",
           "#B6E880",
           "#FF97FF",
           "#FECB52"
          ],
          "font": {
           "color": "#2a3f5f"
          },
          "geo": {
           "bgcolor": "white",
           "lakecolor": "white",
           "landcolor": "#E5ECF6",
           "showlakes": true,
           "showland": true,
           "subunitcolor": "white"
          },
          "hoverlabel": {
           "align": "left"
          },
          "hovermode": "closest",
          "mapbox": {
           "style": "light"
          },
          "paper_bgcolor": "white",
          "plot_bgcolor": "#E5ECF6",
          "polar": {
           "angularaxis": {
            "gridcolor": "white",
            "linecolor": "white",
            "ticks": ""
           },
           "bgcolor": "#E5ECF6",
           "radialaxis": {
            "gridcolor": "white",
            "linecolor": "white",
            "ticks": ""
           }
          },
          "scene": {
           "xaxis": {
            "backgroundcolor": "#E5ECF6",
            "gridcolor": "white",
            "gridwidth": 2,
            "linecolor": "white",
            "showbackground": true,
            "ticks": "",
            "zerolinecolor": "white"
           },
           "yaxis": {
            "backgroundcolor": "#E5ECF6",
            "gridcolor": "white",
            "gridwidth": 2,
            "linecolor": "white",
            "showbackground": true,
            "ticks": "",
            "zerolinecolor": "white"
           },
           "zaxis": {
            "backgroundcolor": "#E5ECF6",
            "gridcolor": "white",
            "gridwidth": 2,
            "linecolor": "white",
            "showbackground": true,
            "ticks": "",
            "zerolinecolor": "white"
           }
          },
          "shapedefaults": {
           "line": {
            "color": "#2a3f5f"
           }
          },
          "ternary": {
           "aaxis": {
            "gridcolor": "white",
            "linecolor": "white",
            "ticks": ""
           },
           "baxis": {
            "gridcolor": "white",
            "linecolor": "white",
            "ticks": ""
           },
           "bgcolor": "#E5ECF6",
           "caxis": {
            "gridcolor": "white",
            "linecolor": "white",
            "ticks": ""
           }
          },
          "title": {
           "x": 0.05
          },
          "xaxis": {
           "automargin": true,
           "gridcolor": "white",
           "linecolor": "white",
           "ticks": "",
           "title": {
            "standoff": 15
           },
           "zerolinecolor": "white",
           "zerolinewidth": 2
          },
          "yaxis": {
           "automargin": true,
           "gridcolor": "white",
           "linecolor": "white",
           "ticks": "",
           "title": {
            "standoff": 15
           },
           "zerolinecolor": "white",
           "zerolinewidth": 2
          }
         }
        }
       }
      },
      "text/html": [
       "<div>                            <div id=\"2d6de322-0b57-4104-9c97-4b3e71fb2b98\" class=\"plotly-graph-div\" style=\"height:525px; width:100%;\"></div>            <script type=\"text/javascript\">                require([\"plotly\"], function(Plotly) {                    window.PLOTLYENV=window.PLOTLYENV || {};                                    if (document.getElementById(\"2d6de322-0b57-4104-9c97-4b3e71fb2b98\")) {                    Plotly.newPlot(                        \"2d6de322-0b57-4104-9c97-4b3e71fb2b98\",                        [{\"cells\": {\"values\": [[\"Fiction\", \"Science fiction\", \"Short stories\", \"Adventure stories\", \"Love stories\", \"Historical fiction\", \"Detective and mystery stories\", \"Conduct of life -- Juvenile fiction\", \"England -- Fiction\", \"Western stories\", \"Man-woman relationships -- Fiction\", \"England -- Social life and customs -- Fiction\", \"Domestic fiction\", \"Humorous stories\", \"Young women -- Fiction\", \"English fiction -- 19th century\", \"England -- Social life and customs -- 19th century -- Fiction\", \"Children -- Conduct of life -- Juvenile fiction\", \"Psychological fiction\", \"London (England) -- Fiction\"], [804, 715, 670, 295, 251, 233, 230, 221, 188, 164, 156, 139, 135, 135, 109, 108, 106, 106, 103, 94]]}, \"header\": {\"values\": [\"Genre\", \"Count\"]}, \"type\": \"table\"}],                        {\"template\": {\"data\": {\"bar\": [{\"error_x\": {\"color\": \"#2a3f5f\"}, \"error_y\": {\"color\": \"#2a3f5f\"}, \"marker\": {\"line\": {\"color\": \"#E5ECF6\", \"width\": 0.5}}, \"type\": \"bar\"}], \"barpolar\": [{\"marker\": {\"line\": {\"color\": \"#E5ECF6\", \"width\": 0.5}}, \"type\": \"barpolar\"}], \"carpet\": [{\"aaxis\": {\"endlinecolor\": \"#2a3f5f\", \"gridcolor\": \"white\", \"linecolor\": \"white\", \"minorgridcolor\": \"white\", \"startlinecolor\": \"#2a3f5f\"}, \"baxis\": {\"endlinecolor\": \"#2a3f5f\", \"gridcolor\": \"white\", \"linecolor\": \"white\", \"minorgridcolor\": \"white\", \"startlinecolor\": \"#2a3f5f\"}, \"type\": \"carpet\"}], \"choropleth\": [{\"colorbar\": {\"outlinewidth\": 0, \"ticks\": \"\"}, \"type\": \"choropleth\"}], \"contour\": [{\"colorbar\": {\"outlinewidth\": 0, \"ticks\": \"\"}, \"colorscale\": [[0.0, \"#0d0887\"], [0.1111111111111111, \"#46039f\"], [0.2222222222222222, \"#7201a8\"], [0.3333333333333333, \"#9c179e\"], [0.4444444444444444, \"#bd3786\"], [0.5555555555555556, \"#d8576b\"], [0.6666666666666666, \"#ed7953\"], [0.7777777777777778, \"#fb9f3a\"], [0.8888888888888888, \"#fdca26\"], [1.0, \"#f0f921\"]], \"type\": \"contour\"}], \"contourcarpet\": [{\"colorbar\": {\"outlinewidth\": 0, \"ticks\": \"\"}, \"type\": \"contourcarpet\"}], \"heatmap\": [{\"colorbar\": {\"outlinewidth\": 0, \"ticks\": \"\"}, \"colorscale\": [[0.0, \"#0d0887\"], [0.1111111111111111, \"#46039f\"], [0.2222222222222222, \"#7201a8\"], [0.3333333333333333, \"#9c179e\"], [0.4444444444444444, \"#bd3786\"], [0.5555555555555556, \"#d8576b\"], [0.6666666666666666, \"#ed7953\"], [0.7777777777777778, \"#fb9f3a\"], [0.8888888888888888, \"#fdca26\"], [1.0, \"#f0f921\"]], \"type\": \"heatmap\"}], \"heatmapgl\": [{\"colorbar\": {\"outlinewidth\": 0, \"ticks\": \"\"}, \"colorscale\": [[0.0, \"#0d0887\"], [0.1111111111111111, \"#46039f\"], [0.2222222222222222, \"#7201a8\"], [0.3333333333333333, \"#9c179e\"], [0.4444444444444444, \"#bd3786\"], [0.5555555555555556, \"#d8576b\"], [0.6666666666666666, \"#ed7953\"], [0.7777777777777778, \"#fb9f3a\"], [0.8888888888888888, \"#fdca26\"], [1.0, \"#f0f921\"]], \"type\": \"heatmapgl\"}], \"histogram\": [{\"marker\": {\"colorbar\": {\"outlinewidth\": 0, \"ticks\": \"\"}}, \"type\": \"histogram\"}], \"histogram2d\": [{\"colorbar\": {\"outlinewidth\": 0, \"ticks\": \"\"}, \"colorscale\": [[0.0, \"#0d0887\"], [0.1111111111111111, \"#46039f\"], [0.2222222222222222, \"#7201a8\"], [0.3333333333333333, \"#9c179e\"], [0.4444444444444444, \"#bd3786\"], [0.5555555555555556, \"#d8576b\"], [0.6666666666666666, \"#ed7953\"], [0.7777777777777778, \"#fb9f3a\"], [0.8888888888888888, \"#fdca26\"], [1.0, \"#f0f921\"]], \"type\": \"histogram2d\"}], \"histogram2dcontour\": [{\"colorbar\": {\"outlinewidth\": 0, \"ticks\": \"\"}, \"colorscale\": [[0.0, \"#0d0887\"], [0.1111111111111111, \"#46039f\"], [0.2222222222222222, \"#7201a8\"], [0.3333333333333333, \"#9c179e\"], [0.4444444444444444, \"#bd3786\"], [0.5555555555555556, \"#d8576b\"], [0.6666666666666666, \"#ed7953\"], [0.7777777777777778, \"#fb9f3a\"], [0.8888888888888888, \"#fdca26\"], [1.0, \"#f0f921\"]], \"type\": \"histogram2dcontour\"}], \"mesh3d\": [{\"colorbar\": {\"outlinewidth\": 0, \"ticks\": \"\"}, \"type\": \"mesh3d\"}], \"parcoords\": [{\"line\": {\"colorbar\": {\"outlinewidth\": 0, \"ticks\": \"\"}}, \"type\": \"parcoords\"}], \"pie\": [{\"automargin\": true, \"type\": \"pie\"}], \"scatter\": [{\"marker\": {\"colorbar\": {\"outlinewidth\": 0, \"ticks\": \"\"}}, \"type\": \"scatter\"}], \"scatter3d\": [{\"line\": {\"colorbar\": {\"outlinewidth\": 0, \"ticks\": \"\"}}, \"marker\": {\"colorbar\": {\"outlinewidth\": 0, \"ticks\": \"\"}}, \"type\": \"scatter3d\"}], \"scattercarpet\": [{\"marker\": {\"colorbar\": {\"outlinewidth\": 0, \"ticks\": \"\"}}, \"type\": \"scattercarpet\"}], \"scattergeo\": [{\"marker\": {\"colorbar\": {\"outlinewidth\": 0, \"ticks\": \"\"}}, \"type\": \"scattergeo\"}], \"scattergl\": [{\"marker\": {\"colorbar\": {\"outlinewidth\": 0, \"ticks\": \"\"}}, \"type\": \"scattergl\"}], \"scattermapbox\": [{\"marker\": {\"colorbar\": {\"outlinewidth\": 0, \"ticks\": \"\"}}, \"type\": \"scattermapbox\"}], \"scatterpolar\": [{\"marker\": {\"colorbar\": {\"outlinewidth\": 0, \"ticks\": \"\"}}, \"type\": \"scatterpolar\"}], \"scatterpolargl\": [{\"marker\": {\"colorbar\": {\"outlinewidth\": 0, \"ticks\": \"\"}}, \"type\": \"scatterpolargl\"}], \"scatterternary\": [{\"marker\": {\"colorbar\": {\"outlinewidth\": 0, \"ticks\": \"\"}}, \"type\": \"scatterternary\"}], \"surface\": [{\"colorbar\": {\"outlinewidth\": 0, \"ticks\": \"\"}, \"colorscale\": [[0.0, \"#0d0887\"], [0.1111111111111111, \"#46039f\"], [0.2222222222222222, \"#7201a8\"], [0.3333333333333333, \"#9c179e\"], [0.4444444444444444, \"#bd3786\"], [0.5555555555555556, \"#d8576b\"], [0.6666666666666666, \"#ed7953\"], [0.7777777777777778, \"#fb9f3a\"], [0.8888888888888888, \"#fdca26\"], [1.0, \"#f0f921\"]], \"type\": \"surface\"}], \"table\": [{\"cells\": {\"fill\": {\"color\": \"#EBF0F8\"}, \"line\": {\"color\": \"white\"}}, \"header\": {\"fill\": {\"color\": \"#C8D4E3\"}, \"line\": {\"color\": \"white\"}}, \"type\": \"table\"}]}, \"layout\": {\"annotationdefaults\": {\"arrowcolor\": \"#2a3f5f\", \"arrowhead\": 0, \"arrowwidth\": 1}, \"autotypenumbers\": \"strict\", \"coloraxis\": {\"colorbar\": {\"outlinewidth\": 0, \"ticks\": \"\"}}, \"colorscale\": {\"diverging\": [[0, \"#8e0152\"], [0.1, \"#c51b7d\"], [0.2, \"#de77ae\"], [0.3, \"#f1b6da\"], [0.4, \"#fde0ef\"], [0.5, \"#f7f7f7\"], [0.6, \"#e6f5d0\"], [0.7, \"#b8e186\"], [0.8, \"#7fbc41\"], [0.9, \"#4d9221\"], [1, \"#276419\"]], \"sequential\": [[0.0, \"#0d0887\"], [0.1111111111111111, \"#46039f\"], [0.2222222222222222, \"#7201a8\"], [0.3333333333333333, \"#9c179e\"], [0.4444444444444444, \"#bd3786\"], [0.5555555555555556, \"#d8576b\"], [0.6666666666666666, \"#ed7953\"], [0.7777777777777778, \"#fb9f3a\"], [0.8888888888888888, \"#fdca26\"], [1.0, \"#f0f921\"]], \"sequentialminus\": [[0.0, \"#0d0887\"], [0.1111111111111111, \"#46039f\"], [0.2222222222222222, \"#7201a8\"], [0.3333333333333333, \"#9c179e\"], [0.4444444444444444, \"#bd3786\"], [0.5555555555555556, \"#d8576b\"], [0.6666666666666666, \"#ed7953\"], [0.7777777777777778, \"#fb9f3a\"], [0.8888888888888888, \"#fdca26\"], [1.0, \"#f0f921\"]]}, \"colorway\": [\"#636efa\", \"#EF553B\", \"#00cc96\", \"#ab63fa\", \"#FFA15A\", \"#19d3f3\", \"#FF6692\", \"#B6E880\", \"#FF97FF\", \"#FECB52\"], \"font\": {\"color\": \"#2a3f5f\"}, \"geo\": {\"bgcolor\": \"white\", \"lakecolor\": \"white\", \"landcolor\": \"#E5ECF6\", \"showlakes\": true, \"showland\": true, \"subunitcolor\": \"white\"}, \"hoverlabel\": {\"align\": \"left\"}, \"hovermode\": \"closest\", \"mapbox\": {\"style\": \"light\"}, \"paper_bgcolor\": \"white\", \"plot_bgcolor\": \"#E5ECF6\", \"polar\": {\"angularaxis\": {\"gridcolor\": \"white\", \"linecolor\": \"white\", \"ticks\": \"\"}, \"bgcolor\": \"#E5ECF6\", \"radialaxis\": {\"gridcolor\": \"white\", \"linecolor\": \"white\", \"ticks\": \"\"}}, \"scene\": {\"xaxis\": {\"backgroundcolor\": \"#E5ECF6\", \"gridcolor\": \"white\", \"gridwidth\": 2, \"linecolor\": \"white\", \"showbackground\": true, \"ticks\": \"\", \"zerolinecolor\": \"white\"}, \"yaxis\": {\"backgroundcolor\": \"#E5ECF6\", \"gridcolor\": \"white\", \"gridwidth\": 2, \"linecolor\": \"white\", \"showbackground\": true, \"ticks\": \"\", \"zerolinecolor\": \"white\"}, \"zaxis\": {\"backgroundcolor\": \"#E5ECF6\", \"gridcolor\": \"white\", \"gridwidth\": 2, \"linecolor\": \"white\", \"showbackground\": true, \"ticks\": \"\", \"zerolinecolor\": \"white\"}}, \"shapedefaults\": {\"line\": {\"color\": \"#2a3f5f\"}}, \"ternary\": {\"aaxis\": {\"gridcolor\": \"white\", \"linecolor\": \"white\", \"ticks\": \"\"}, \"baxis\": {\"gridcolor\": \"white\", \"linecolor\": \"white\", \"ticks\": \"\"}, \"bgcolor\": \"#E5ECF6\", \"caxis\": {\"gridcolor\": \"white\", \"linecolor\": \"white\", \"ticks\": \"\"}}, \"title\": {\"x\": 0.05}, \"xaxis\": {\"automargin\": true, \"gridcolor\": \"white\", \"linecolor\": \"white\", \"ticks\": \"\", \"title\": {\"standoff\": 15}, \"zerolinecolor\": \"white\", \"zerolinewidth\": 2}, \"yaxis\": {\"automargin\": true, \"gridcolor\": \"white\", \"linecolor\": \"white\", \"ticks\": \"\", \"title\": {\"standoff\": 15}, \"zerolinecolor\": \"white\", \"zerolinewidth\": 2}}}},                        {\"responsive\": true}                    ).then(function(){\n",
       "                            \n",
       "var gd = document.getElementById('2d6de322-0b57-4104-9c97-4b3e71fb2b98');\n",
       "var x = new MutationObserver(function (mutations, observer) {{\n",
       "        var display = window.getComputedStyle(gd).display;\n",
       "        if (!display || display === 'none') {{\n",
       "            console.log([gd, 'removed!']);\n",
       "            Plotly.purge(gd);\n",
       "            observer.disconnect();\n",
       "        }}\n",
       "}});\n",
       "\n",
       "// Listen for the removal of the full notebook cells\n",
       "var notebookContainer = gd.closest('#notebook-container');\n",
       "if (notebookContainer) {{\n",
       "    x.observe(notebookContainer, {childList: true});\n",
       "}}\n",
       "\n",
       "// Listen for the clearing of the current output cell\n",
       "var outputEl = gd.closest('.output');\n",
       "if (outputEl) {{\n",
       "    x.observe(outputEl, {childList: true});\n",
       "}}\n",
       "\n",
       "                        })                };                });            </script>        </div>"
      ]
     },
     "metadata": {},
     "output_type": "display_data"
    }
   ],
   "source": [
    "# top genres - english_fiction_metadata\n",
    "unique_genres = {}\n",
    "\n",
    "def count_genres(genre_list):\n",
    "    if not isinstance(genre_list, list):\n",
    "        genre_list = ['None Available']\n",
    "    for val in genre_list:\n",
    "        if val in unique_genres:\n",
    "            unique_genres[val] +=1 \n",
    "        else: \n",
    "            unique_genres[val] = 1\n",
    "    return len(genre_list)\n",
    "\n",
    "english_fiction_metadata['Number of Genres'] = english_fiction_metadata.apply(lambda row : count_genres(row['Subject']), axis = 1)\n",
    "top_20_genres = sorted(unique_genres.items(), key=lambda x: x[1], reverse = True)[:20]\n",
    "top_20_genres =  [list(x) for x in top_20_genres]\n",
    "top_20_genre_name = [x[0] for x in top_20_genres]\n",
    "top_20_genre_counts = [x[1] for x in top_20_genres]\n",
    "\n",
    "fig = go.Figure(data=[go.Table(header=dict(values=['Genre', 'Count']),\n",
    "                 cells=dict(values=[top_20_genre_name,top_20_genre_counts] ))\n",
    "                     ])\n",
    "fig.show()"
   ]
  },
  {
   "cell_type": "code",
   "execution_count": 46,
   "id": "f82905f1",
   "metadata": {},
   "outputs": [
    {
     "name": "stdout",
     "output_type": "stream",
     "text": [
      "Total number of books: 7487\n",
      "Books without a subject: 0\n",
      "Books with English as language: 7487\n",
      "Unique authors: 1956\n"
     ]
    }
   ],
   "source": [
    "# entire corpus stats \n",
    "print('Total number of books: ' + str(english_fiction_metadata.shape[0]))\n",
    "print('Books without a subject: ' + str(english_fiction_metadata[english_fiction_metadata['Subject'].isnull()].shape[0]))\n",
    "print('Books with English as language: ' + str(english_fiction_metadata.loc[english_fiction_metadata['Language'].isin([['English']])].shape[0]))\n",
    "print('Unique authors: ' + str(len(unique_authors)))"
   ]
  },
  {
   "cell_type": "markdown",
   "id": "afa77275",
   "metadata": {},
   "source": [
    "## Seed Words"
   ]
  },
  {
   "cell_type": "code",
   "execution_count": 18,
   "id": "2607f3a4",
   "metadata": {},
   "outputs": [],
   "source": [
    "all_seed_words = []"
   ]
  },
  {
   "cell_type": "code",
   "execution_count": 19,
   "id": "14614ff8",
   "metadata": {},
   "outputs": [
    {
     "data": {
      "text/plain": [
       "154"
      ]
     },
     "execution_count": 19,
     "metadata": {},
     "output_type": "execute_result"
    }
   ],
   "source": [
    "# create smell seed words \n",
    "smell_seed_words = [synset.name().split('.')[0] for synset in wordnet.synsets('smell')] + \\\n",
    "                   [synset.name().split('.')[0] for synset in wordnet.synsets('scent')] + \\\n",
    "                   [synset.name().split('.')[0] for synset in wordnet.synset('smell.v.01').hyponyms()] + \\\n",
    "                   [synset.name().split('.')[0] for synset in wordnet.synset('smell.v.01').hypernyms()] + \\\n",
    "                   [synset.name().split('.')[0] for synset in wordnet.synset('smell.n.01').hyponyms()] + \\\n",
    "                   [synset.name().split('.')[0] for synset in wordnet.synset('smell.n.01').hypernyms()] + \\\n",
    "                   [synset.name().split('.')[0] for synset in wordnet.synset('smell.n.02').hyponyms()] + \\\n",
    "                   [synset.name().split('.')[0] for synset in wordnet.synset('smell.n.02').hypernyms()] + \\\n",
    "                   [synset.name().split('.')[0] for synset in wordnet.synset('smell.n.04').hyponyms()] + \\\n",
    "                   [synset.name().split('.')[0] for synset in wordnet.synset('smell.n.04').hypernyms()] + \\\n",
    "                   [synset.name().split('.')[0] for synset in wordnet.synset('scent.n.01').hyponyms()] + \\\n",
    "                   [synset.name().split('.')[0] for synset in wordnet.synset('scent.n.01').hypernyms()] +\\\n",
    "                   [synset.name().split('.')[0] for synset in wordnet.synset('odor.n.01').hyponyms()] + \\\n",
    "                   [synset.name().split('.')[0] for synset in wordnet.synset('odor.n.01').hypernyms()] + \\\n",
    "                   [synset.name().split('.')[0] for synset in wordnet.synset('odor.n.02').hyponyms()] + \\\n",
    "                   [synset.name().split('.')[0] for synset in wordnet.synset('odor.n.02').hypernyms()]\n",
    "\n",
    "for word in smell_seed_words: \n",
    "    variations = get_word_forms(word)\n",
    "    for key in variations: \n",
    "        for value in variations[key]: \n",
    "            if value not in smell_seed_words: \n",
    "                smell_seed_words.append(value)\n",
    "                \n",
    "smell_seed_words = [word for word in smell_seed_words if '_' not in word]    \n",
    "    \n",
    "smell_seed_words = list(set(smell_seed_words))\n",
    "\n",
    "smell_seed_words = [word for word in smell_seed_words if word not in all_seed_words]\n",
    "\n",
    "all_seed_words = all_seed_words + smell_seed_words \n",
    "\n",
    "textfile = open(\"../data/seed_words/smell_words_list.txt\", \"w\")\n",
    "for element in smell_seed_words:\n",
    "    textfile.write(element + \"\\n\")\n",
    "textfile.close()\n",
    "\n",
    "len(smell_seed_words)"
   ]
  },
  {
   "cell_type": "code",
   "execution_count": 20,
   "id": "cf083617",
   "metadata": {},
   "outputs": [
    {
     "data": {
      "text/plain": [
       "174"
      ]
     },
     "execution_count": 20,
     "metadata": {},
     "output_type": "execute_result"
    }
   ],
   "source": [
    "# create hear seed words list\n",
    "hear_seed_words = [synset.name().split('.')[0] for synset in wordnet.synsets('hear')] + \\\n",
    "                  [synset.name().split('.')[0] for synset in wordnet.synset('hear.v.01').hyponyms()] + \\\n",
    "                  [synset.name().split('.')[0] for synset in wordnet.synset('hear.v.01').hypernyms()] + \\\n",
    "                  [synset.name().split('.')[0] for synset in wordnet.synset('listen.v.01').hyponyms()] + \\\n",
    "                  [synset.name().split('.')[0] for synset in wordnet.synset('listen.v.01').hypernyms()] + \\\n",
    "                  [synset.name().split('.')[0] for synset in wordnet.synset('sound.v.06').hyponyms()] + \\\n",
    "                  [synset.name().split('.')[0] for synset in wordnet.synset('sound.v.06').hypernyms()] + \\\n",
    "                  [synset.name().split('.')[0] for synset in wordnet.synset('sound.n.01').hyponyms()] + \\\n",
    "                  [synset.name().split('.')[0] for synset in wordnet.synset('sound.n.01').hypernyms()] + \\\n",
    "                  [synset.name().split('.')[0] for synset in wordnet.synset('sound.n.02').hyponyms()] + \\\n",
    "                  [synset.name().split('.')[0] for synset in wordnet.synset('sound.n.02').hypernyms()]\n",
    "\n",
    "for word in hear_seed_words: \n",
    "    variations = get_word_forms(word)\n",
    "    for key in variations: \n",
    "        for value in variations[key]: \n",
    "            if value not in hear_seed_words: \n",
    "                hear_seed_words.append(value)\n",
    "            \n",
    "hear_seed_words = [word for word in hear_seed_words if '_' not in word]\n",
    "            \n",
    "hear_seed_words = list(set(hear_seed_words))\n",
    "\n",
    "hear_seed_words = [word for word in hear_seed_words if word not in all_seed_words]\n",
    "\n",
    "all_seed_words = all_seed_words + hear_seed_words \n",
    "\n",
    "textfile = open(\"../data/seed_words/hear_words_list.txt\", \"w\")\n",
    "for element in hear_seed_words:\n",
    "    textfile.write(element + \"\\n\")\n",
    "textfile.close()\n",
    "\n",
    "len(hear_seed_words)"
   ]
  },
  {
   "cell_type": "code",
   "execution_count": 21,
   "id": "6c5845f4",
   "metadata": {},
   "outputs": [
    {
     "data": {
      "text/plain": [
       "192"
      ]
     },
     "execution_count": 21,
     "metadata": {},
     "output_type": "execute_result"
    }
   ],
   "source": [
    "# create touch seed words \n",
    "touch_seed_words = [synset.name().split('.')[0] for synset in wordnet.synsets('touch')] + \\\n",
    "                   [synset.name().split('.')[0] for synset in wordnet.synset('touch.v.01').hyponyms()] + \\\n",
    "                   [synset.name().split('.')[0] for synset in wordnet.synset('touch.v.01').hypernyms()] +\\\n",
    "                   [synset.name().split('.')[0] for synset in wordnet.synset('touch.n.02').hyponyms()] + \\\n",
    "                   [synset.name().split('.')[0] for synset in wordnet.synset('touch.n.02').hypernyms()] + \\\n",
    "                   [synset.name().split('.')[0] for synset in wordnet.synset('feel.n.03').hyponyms()] + \\\n",
    "                   [synset.name().split('.')[0] for synset in wordnet.synset('feel.n.03').hypernyms()]\n",
    "\n",
    "for word in touch_seed_words: \n",
    "    variations = get_word_forms(word)\n",
    "    for key in variations: \n",
    "        for value in variations[key]: \n",
    "            if value not in touch_seed_words: \n",
    "                touch_seed_words.append(value)\n",
    "                \n",
    "touch_seed_words = [word for word in touch_seed_words if '_' not in word]\n",
    "                \n",
    "touch_seed_words = list(set(touch_seed_words))\n",
    "\n",
    "touch_seed_words = [word for word in touch_seed_words if word not in all_seed_words]\n",
    "\n",
    "all_seed_words = all_seed_words + touch_seed_words \n",
    "\n",
    "textfile = open(\"../data/seed_words/touch_words_list.txt\", \"w\")\n",
    "for element in touch_seed_words:\n",
    "    textfile.write(element + \"\\n\")\n",
    "textfile.close()\n",
    "\n",
    "len(touch_seed_words)"
   ]
  },
  {
   "cell_type": "code",
   "execution_count": 22,
   "id": "b21c05ad",
   "metadata": {},
   "outputs": [
    {
     "data": {
      "text/plain": [
       "163"
      ]
     },
     "execution_count": 22,
     "metadata": {},
     "output_type": "execute_result"
    }
   ],
   "source": [
    "# create taste seed words \n",
    "taste_seed_words = [synset.name().split('.')[0] for synset in wordnet.synsets('taste')] + \\\n",
    "                   [synset.name().split('.')[0] for synset in wordnet.synset('taste.v.01').hyponyms()] + \\\n",
    "                   [synset.name().split('.')[0] for synset in wordnet.synset('taste.v.01').hypernyms()] + \\\n",
    "                   [synset.name().split('.')[0] for synset in wordnet.synset('taste.n.01').hyponyms()] + \\\n",
    "                   [synset.name().split('.')[0] for synset in wordnet.synset('taste.n.01').hypernyms()] + \\\n",
    "                   [synset.name().split('.')[0] for synset in wordnet.synset('taste.n.03').hyponyms()] + \\\n",
    "                   [synset.name().split('.')[0] for synset in wordnet.synset('taste.n.03').hypernyms()] +\\\n",
    "                   [synset.name().split('.')[0] for synset in wordnet.synset('flavor.v.01').hyponyms()] + \\\n",
    "                   [synset.name().split('.')[0] for synset in wordnet.synset('flavor.v.01').hypernyms()] + \\\n",
    "                   [synset.name().split('.')[0] for synset in wordnet.synset('flavor.n.02').hyponyms()] + \\\n",
    "                   [synset.name().split('.')[0] for synset in wordnet.synset('flavor.n.02').hypernyms()] + \\\n",
    "                   [synset.name().split('.')[0] for synset in wordnet.synset('savor.v.04').hyponyms()] + \\\n",
    "                   [synset.name().split('.')[0] for synset in wordnet.synset('savor.v.04').hypernyms()]\n",
    "\n",
    "for word in taste_seed_words: \n",
    "    variations = get_word_forms(word)\n",
    "    for key in variations: \n",
    "        for value in variations[key]: \n",
    "            if value not in taste_seed_words: \n",
    "                taste_seed_words.append(value)\n",
    "                \n",
    "taste_seed_words = [word for word in taste_seed_words if '_' not in word]                \n",
    "                \n",
    "taste_seed_words = list(set(taste_seed_words))\n",
    "\n",
    "taste_seed_words = [word for word in taste_seed_words if word not in all_seed_words]\n",
    "\n",
    "all_seed_words = all_seed_words + taste_seed_words \n",
    "\n",
    "textfile = open(\"../data/seed_words/taste_words_list.txt\", \"w\")\n",
    "for element in taste_seed_words:\n",
    "    textfile.write(element + \"\\n\")\n",
    "textfile.close()\n",
    "\n",
    "len(taste_seed_words)"
   ]
  },
  {
   "cell_type": "code",
   "execution_count": 23,
   "id": "abab7747",
   "metadata": {},
   "outputs": [
    {
     "data": {
      "text/plain": [
       "190"
      ]
     },
     "execution_count": 23,
     "metadata": {},
     "output_type": "execute_result"
    }
   ],
   "source": [
    "# create sight seed words list \n",
    "sight_seed_words = [synset.name().split('.')[0] for synset in wordnet.synsets('see')] + \\\n",
    "                   [synset.name().split('.')[0] for synset in wordnet.synset('see.v.01').hyponyms()] + \\\n",
    "                   [synset.name().split('.')[0] for synset in wordnet.synset('look.v.01').hyponyms()]\n",
    "                   \n",
    "\n",
    "for word in sight_seed_words: \n",
    "    variations = get_word_forms(word)\n",
    "    for key in variations: \n",
    "        for value in variations[key]: \n",
    "            if value not in sight_seed_words: \n",
    "                sight_seed_words.append(value)\n",
    "                \n",
    "sight_seed_words = [word for word in sight_seed_words if '_' not in word]\n",
    "\n",
    "sight_seed_words = list(set(sight_seed_words))\n",
    "\n",
    "sight_seed_words = [word for word in sight_seed_words if word not in all_seed_words]\n",
    "\n",
    "all_seed_words = all_seed_words + sight_seed_words \n",
    "\n",
    "textfile = open(\"../data/seed_words/sight_words_list.txt\", \"w\")\n",
    "for element in sight_seed_words:\n",
    "    textfile.write(element + \"\\n\")\n",
    "textfile.close()\n",
    "\n",
    "len(sight_seed_words)"
   ]
  },
  {
   "cell_type": "code",
   "execution_count": 24,
   "id": "ab5e15dc",
   "metadata": {},
   "outputs": [
    {
     "name": "stdout",
     "output_type": "stream",
     "text": [
      "sight: 190\n",
      "hear: 174\n",
      "touch: 192\n",
      "taste: 163\n",
      "smell: 154\n",
      "Total: 873\n"
     ]
    }
   ],
   "source": [
    "# read seed words \n",
    "modalities = ['sight', 'hear', 'touch', 'taste', 'smell']\n",
    "seed_words = pd.DataFrame(columns = ['word', 'sense_name'])\n",
    "overlapping_words = []\n",
    "\n",
    "for sense_name in modalities:\n",
    "            with open('../data/seed_words/' + sense_name + '_words_list.txt', 'r') as filehandle:\n",
    "                count = 0 \n",
    "                for line in filehandle:\n",
    "                    count += 1\n",
    "                    currentPlace = line[:-1]\n",
    "                    if seed_words['word'].str.contains(currentPlace).any():\n",
    "                        overlapping_words.append(sense_name + '_' + currentPlace)\n",
    "                    seed_words = seed_words.append({'word' : currentPlace, 'sense_name' : sense_name}, ignore_index = True)\n",
    "                print(sense_name + \": \" + str(count))\n",
    "print('Total: ' + str(seed_words.shape[0]))"
   ]
  },
  {
   "cell_type": "code",
   "execution_count": 25,
   "id": "caba044a",
   "metadata": {},
   "outputs": [],
   "source": [
    "# POS tag words \n",
    "def pos_tag_words(word):\n",
    "    for token in nlp(word):\n",
    "        return (str(token.text).lower(), str(token.pos_))\n",
    "    \n",
    "seed_words['word_pos'] = seed_words.apply(lambda row: pos_tag_words(row['word']), axis = 1)"
   ]
  },
  {
   "cell_type": "code",
   "execution_count": 26,
   "id": "f5f53fa9",
   "metadata": {},
   "outputs": [
    {
     "data": {
      "text/html": [
       "<div>\n",
       "<style scoped>\n",
       "    .dataframe tbody tr th:only-of-type {\n",
       "        vertical-align: middle;\n",
       "    }\n",
       "\n",
       "    .dataframe tbody tr th {\n",
       "        vertical-align: top;\n",
       "    }\n",
       "\n",
       "    .dataframe thead th {\n",
       "        text-align: right;\n",
       "    }\n",
       "</style>\n",
       "<table border=\"1\" class=\"dataframe\">\n",
       "  <thead>\n",
       "    <tr style=\"text-align: right;\">\n",
       "      <th></th>\n",
       "      <th>word</th>\n",
       "      <th>sense_name</th>\n",
       "      <th>word_pos</th>\n",
       "    </tr>\n",
       "  </thead>\n",
       "  <tbody>\n",
       "    <tr>\n",
       "      <th>0</th>\n",
       "      <td>starer</td>\n",
       "      <td>sight</td>\n",
       "      <td>(starer, VERB)</td>\n",
       "    </tr>\n",
       "    <tr>\n",
       "      <th>1</th>\n",
       "      <td>glances</td>\n",
       "      <td>sight</td>\n",
       "      <td>(glances, VERB)</td>\n",
       "    </tr>\n",
       "    <tr>\n",
       "      <th>2</th>\n",
       "      <td>ogled</td>\n",
       "      <td>sight</td>\n",
       "      <td>(ogled, VERB)</td>\n",
       "    </tr>\n",
       "    <tr>\n",
       "      <th>3</th>\n",
       "      <td>saw</td>\n",
       "      <td>sight</td>\n",
       "      <td>(saw, VERB)</td>\n",
       "    </tr>\n",
       "    <tr>\n",
       "      <th>4</th>\n",
       "      <td>sawyer</td>\n",
       "      <td>sight</td>\n",
       "      <td>(sawyer, NOUN)</td>\n",
       "    </tr>\n",
       "  </tbody>\n",
       "</table>\n",
       "</div>"
      ],
      "text/plain": [
       "      word sense_name         word_pos\n",
       "0   starer      sight   (starer, VERB)\n",
       "1  glances      sight  (glances, VERB)\n",
       "2    ogled      sight    (ogled, VERB)\n",
       "3      saw      sight      (saw, VERB)\n",
       "4   sawyer      sight   (sawyer, NOUN)"
      ]
     },
     "execution_count": 26,
     "metadata": {},
     "output_type": "execute_result"
    }
   ],
   "source": [
    "seed_words.head()"
   ]
  },
  {
   "cell_type": "code",
   "execution_count": 27,
   "id": "6cda4b95",
   "metadata": {},
   "outputs": [],
   "source": [
    "seed_words.to_csv('../data/seed_words/seed_words.csv', index = False)"
   ]
  },
  {
   "cell_type": "code",
   "execution_count": 28,
   "id": "350a5f3e",
   "metadata": {},
   "outputs": [],
   "source": [
    " with open('../data/seed_words/seed_words.pickle', 'wb') as f:\n",
    "            pkl.dump(seed_words, f)"
   ]
  },
  {
   "cell_type": "code",
   "execution_count": null,
   "id": "9eeca411",
   "metadata": {},
   "outputs": [],
   "source": [
    "with open(input_path, \"rb\") as f:\n",
    "    input_obj = pkl.load(f)"
   ]
  }
 ],
 "metadata": {
  "kernelspec": {
   "display_name": "word2vec",
   "language": "python",
   "name": "word2vec"
  },
  "language_info": {
   "codemirror_mode": {
    "name": "ipython",
    "version": 3
   },
   "file_extension": ".py",
   "mimetype": "text/x-python",
   "name": "python",
   "nbconvert_exporter": "python",
   "pygments_lexer": "ipython3",
   "version": "3.9.5"
  }
 },
 "nbformat": 4,
 "nbformat_minor": 5
}
