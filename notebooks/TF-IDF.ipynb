{
 "cells": [
  {
   "cell_type": "code",
   "execution_count": null,
   "id": "a481338c",
   "metadata": {},
   "outputs": [],
   "source": [
    "# calculate TF \n",
    "\n",
    "def read_file(input_path):\n",
    "    logging.info('Opened: ' + input_path)\n",
    "    with open(input_path, \"rb\") as f:\n",
    "        input_obj = pkl.load(f)\n",
    "        return input_obj\n",
    "\n",
    "TD = read_file('../data/' + args.corpus_type + '/word_freq.pickle')"
   ]
  },
  {
   "cell_type": "code",
   "execution_count": null,
   "id": "76ca2210",
   "metadata": {},
   "outputs": [],
   "source": [
    "# calculate IDF  \n",
    "\n",
    "tf_idf = {}\n",
    "\n",
    "for i in range(N):\n",
    "    tokens = processed_text[i]\n",
    "    counter = Counter(tokens + processed_title[i])\n",
    "    for token in np.unique(tokens):\n",
    "        tf = counter[token]/words_count\n",
    "        df = doc_freq(token)\n",
    "        idf = np.log(N/(df+1))\n",
    "        tf_idf[doc, token] = tf*idf"
   ]
  }
 ],
 "metadata": {
  "kernelspec": {
   "display_name": "word2vec",
   "language": "python",
   "name": "word2vec"
  },
  "language_info": {
   "codemirror_mode": {
    "name": "ipython",
    "version": 3
   },
   "file_extension": ".py",
   "mimetype": "text/x-python",
   "name": "python",
   "nbconvert_exporter": "python",
   "pygments_lexer": "ipython3",
   "version": "3.9.5"
  }
 },
 "nbformat": 4,
 "nbformat_minor": 5
}
