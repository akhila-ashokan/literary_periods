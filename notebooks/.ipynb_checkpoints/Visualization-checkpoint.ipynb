{
 "cells": [
  {
   "cell_type": "code",
   "execution_count": 42,
   "id": "ab96108b",
   "metadata": {},
   "outputs": [],
   "source": [
    "import sys, time, argparse, re, gensim, math\n",
    "import pandas as pd\n",
    "from tqdm import tqdm\n",
    "import pickle as pkl\n",
    "import numpy as np\n",
    "import faulthandler\n",
    "import logging\n",
    "from os.path import exists\n",
    "from sklearn.preprocessing import StandardScaler\n",
    "from sklearn.decomposition import PCA\n",
    "import plotly.express as px\n",
    "import matplotlib.pyplot as plt"
   ]
  },
  {
   "cell_type": "code",
   "execution_count": 43,
   "id": "6686a5ea",
   "metadata": {},
   "outputs": [],
   "source": [
    "def read_file(input_path):\n",
    "    logging.info('Opened: ' + input_path)\n",
    "    with open(input_path, \"rb\") as f:\n",
    "        input_obj = pkl.load(f)\n",
    "        return input_obj"
   ]
  },
  {
   "cell_type": "code",
   "execution_count": 44,
   "id": "15b65457",
   "metadata": {},
   "outputs": [],
   "source": [
    "df_1700 = read_file('../data/1700/1700_all_top_descriptors_500.pickle').reset_index(drop=True)\n",
    "df_1800 = read_file('../data/1800/1800_all_top_descriptors_500.pickle').reset_index(drop=True)\n",
    "df_1900 = read_file('../data/1900/1900_all_top_descriptors_500.pickle').reset_index(drop=True)"
   ]
  },
  {
   "cell_type": "code",
   "execution_count": 45,
   "id": "022e8389",
   "metadata": {},
   "outputs": [],
   "source": [
    "df_1700['literary_period'] = '1700'\n",
    "df_1800['literary_period'] = '1800'\n",
    "df_1900['literary_period'] = '1900'"
   ]
  },
  {
   "cell_type": "code",
   "execution_count": 46,
   "id": "71b0b1c2",
   "metadata": {},
   "outputs": [],
   "source": [
    "combined_periods = pd.concat([df_1700, df_1800])\n",
    "combined_periods = pd.concat([combined_periods, df_1900])"
   ]
  },
  {
   "cell_type": "code",
   "execution_count": 47,
   "id": "bac74b6b",
   "metadata": {},
   "outputs": [],
   "source": [
    "sight_df = combined_periods.loc[combined_periods['modality'] == 'sight']\n",
    "hear_df = combined_periods.loc[combined_periods['modality'] == 'hear']\n",
    "touch_df = combined_periods.loc[combined_periods['modality'] == 'touch']\n",
    "taste_df = combined_periods.loc[combined_periods['modality'] == 'taste']\n",
    "smell_df = combined_periods.loc[combined_periods['modality'] == 'smell']"
   ]
  },
  {
   "cell_type": "code",
   "execution_count": null,
   "id": "9dbaef06",
   "metadata": {
    "scrolled": false
   },
   "outputs": [
    {
     "data": {
      "application/vnd.plotly.v1+json": {
       "config": {
        "plotlyServerURL": "https://plot.ly"
       },
       "data": [
        {
         "customdata": [
          [
           [
            "flashed",
            "VERB"
           ],
           "sight",
           33,
           33,
           0,
           "<br> but his ruddy embrowned cheek - bones could be <br> plainly seen , and the large and bright blue <br> eyes , that flashed from under the dark shade <br> of the raised visor ; and the whole gesture <br> and look of the champion expressed careless gaiety and <br> fearless confidence -- a mind which was unapt to <br> apprehend danger , and prompt to defy it when <br> most imminent -- yet with whom danger was a <br> familiar thought , as with one whose trade was <br> war and adventure .",
           "large bright blue flashed",
           "('eyes', 'NOUN')",
           "<br> when the latter placed the bottle and glass on <br> the mantel - shelf , the stranger 's eyes <br> flashed out on him again ; and when he <br> spoke , it was in musical tones with no <br> sign of the previous guttural convulsion , though his <br> voice was still unsteady with repressed emotion .  ",
           "stranger flashed",
           "('eyes', 'NOUN')",
           "<br> \" oh ! you ran from another clap , <br> \" said julia , laughing till her dark eyes <br> flashed with pleasure , and shaking her head until <br> her glossy hair fell in ringlets over her shoulders <br> ; \" you will never make a hero , <br> charles . \"  ",
           "laughing dark flashed pleasure",
           "('eyes', 'NOUN')",
           -2.045367093663067
          ],
          [
           [
            "glancing",
            "VERB"
           ],
           "sight",
           57,
           56,
           -0.02553509210713765,
           "<br> \" mr. delafield , let me make you acquainted <br> with mr. morton , \" said maria , glancing <br> her eye at the former in a manner that <br> he understood .  ",
           "maria glancing",
           "('eye', 'NOUN')",
           "NA",
           "NA",
           "NA",
           "NA",
           "NA",
           "NA",
           13.505846508764577
          ],
          [
           [
            "glanced",
            "VERB"
           ],
           "sight",
           51,
           49,
           -0.05771549785628733,
           "<br> seymour delafield glanced his eye impatiently around the apartment <br> , as soon as he had paid the customary <br> compliments to the mistress of the mansion and her <br> bevy of fair daughters ; but a look of <br> disappointment betrayed the search to be an unsuccessful one <br> .",
           "seymour delafield glanced impatiently apartment",
           "('eye', 'NOUN')",
           "<br> charlotte glanced her mild eyes at the speaker , <br> but made no reply .  ",
           "charlotte glanced mild speaker",
           "('eyes', 'NOUN')",
           "<br> the countenance of this young lady exhibited a droll <br> mixture of playful mirth and sadness ; she glanced <br> her eyes once around the apartment , and perceiving <br> it was occupied only by her friend , she <br> said , laughing--  ",
           "glanced apartment",
           "('eyes', 'NOUN')",
           -0.5135704232082771
          ],
          [
           [
            "sparkled",
            "VERB"
           ],
           "sight",
           45,
           43,
           -0.06558834162757671,
           "<br> philippe , struck motionless , stood quite at his <br> ease , letting wander over her his eyes that <br> glowed and sparkled with the flame of love .",
           "wander glowed sparkled",
           "('eyes', 'NOUN')",
           "NA",
           "NA",
           "NA",
           "NA",
           "NA",
           "NA",
           8.161468376377934
          ],
          [
           [
            "casting",
            "VERB"
           ],
           "sight",
           55,
           52,
           -0.08091999538356748,
           "<br> \" it is a painting , \" replied he <br> , timidly , and casting a little glance upon <br> his so gracious mistress .  ",
           "casting little gracious",
           "('glance', 'NOUN')",
           "NA",
           "NA",
           "NA",
           "NA",
           "NA",
           "NA",
           11.827239586593501
          ],
          [
           [
            "cast",
            "VERB"
           ],
           "sight",
           174,
           162,
           -0.10309349296410361,
           "<br> miss ashton sat upright in her chair , cast <br> round her a glance in which fear was mingled <br> with a still wilder expression , but remained perfectly <br> silent .",
           "cast round fear",
           "('glance', 'NOUN')",
           "NA",
           "NA",
           "NA",
           "NA",
           "NA",
           "NA",
           -6.375909244878093
          ],
          [
           [
            "fixed",
            "VERB"
           ],
           "sight",
           316,
           281,
           -0.1693544279561769,
           "<br> when he had passed the upper gate , he <br> turned his horse , and looked at the castle <br> with a fixed eye ; then set spurs to <br> his good steed , and departed with the speed <br> of a demon dismissed by the exorcist .     ",
           "castle fixed set spurs",
           "('eye', 'NOUN')",
           "NA",
           "NA",
           "NA",
           "NA",
           "NA",
           "NA",
           -1.911062431660551
          ],
          [
           [
            "fixing",
            "VERB"
           ],
           "sight",
           49,
           43,
           -0.18844508941311033,
           "<br> so that , to increase the confusion of the <br> lord keeper 's understanding , he saw the short <br> time which remained for consideration abridged by the haste <br> of the contending coachmen , who , fixing their <br> eyes sternly on each other , and applying the <br> lash smartly to their horses , began to thunder <br> down the descent with emulous rapidity , while the <br> horsemen who attended them were forced to put on <br> to a hand - gallop .  ",
           "fixing sternly",
           "('eyes', 'NOUN')",
           "NA",
           "NA",
           "NA",
           "NA",
           "NA",
           "NA",
           -4.677713008685771
          ],
          [
           [
            "bright",
            "ADJ"
           ],
           "sight",
           118,
           102,
           -0.21021770739034562,
           "<br> to these heretical propositions some said that doubtless the <br> devil wished to convert himself , and others that <br> he remained in the shape of the canon to <br> mock at the three nephews and heirs of this <br> said brave confessor and make them wait until the <br> day of their own death for the ample succession <br> of this uncle , to whom they paid great <br> attention every day , going to look if the <br> good man had his eyes open , and in <br> fact found him always with his eye clear , <br> bright , and piercing as the eye of a <br> basilisk , which pleased them greatly , since they <br> loved their uncle very much -- in words .",
           "clear bright",
           "('eye', 'NOUN')",
           "NA",
           "NA",
           "NA",
           "NA",
           "NA",
           "NA",
           16.35190120650046
          ],
          [
           [
            "movements",
            "NOUN"
           ],
           "sight",
           63,
           54,
           -0.22239242133644802,
           "<br> the old hunter had kept a keen eye on <br> the movements of his three visitors , from the <br> beginning , and had maintained his position , just <br> without the threshold of the cabin , with a <br> determined manner , that showed he was not to <br> be easily driven from his post .  ",
           "movements beginning",
           "('visitors', 'NOUN')",
           "<br> leave not a single one of the thousand signs <br> and tokens by which the most inscrutable character betrays <br> itself to an observer of human nature , he <br> has but to watch carefully the little movements of <br> a woman 's head , the ever - varying <br> expressive turns and curves of her neck and throat <br> , to read her nature .  ",
           "carefully little movements",
           "('watch', 'VERB')",
           "<br> here was a new source of pleasure to our <br> heroine : antonio was already on the wing for <br> the city , perhaps arrived -- nay , might <br> have seen her , might even now be within <br> a short distance of the summer - house where <br> she was sitting at the time , and watching <br> her movements .",
           "time movements",
           "('watching', 'VERB')",
           23.377900337565677
          ],
          [
           [
            "riveted",
            "VERB"
           ],
           "sight",
           39,
           33,
           -0.24100809950379493,
           "<br> unheeding this remonstrance , and accustomed only to act <br> upon the immediate impulse of his own wishes , <br> brian de bois - guilbert kept his eyes riveted <br> on the saxon beauty , more striking perhaps to <br> his imagination , because differing widely from those of <br> the eastern sultanas .",
           "guilbert kept riveted saxon",
           "('eyes', 'NOUN')",
           "<br> it showed itself in loud acclamations upon every change <br> of fortune , while all eyes were so riveted <br> on the lists , that the spectators seemed as <br> if they themselves had dealt and received the blows <br> which were there so freely bestowed .",
           "fortune riveted",
           "('eyes', 'NOUN')",
           "<br> fuller could see nothing to attract this nearly riveted <br> gaze , though curiosity induced him to make the <br> effort .  ",
           "attract nearly riveted curiosity induced",
           "('gaze', 'NOUN')",
           25.04204932478539
          ],
          [
           [
            "blue",
            "ADJ"
           ],
           "sight",
           111,
           93,
           -0.2552570552420746,
           "<br> the tears began already to start from lucy 's <br> blue eyes at viewing this unexpected and moving scene <br> .",
           "lucy blue viewing unexpected",
           "('eyes', 'NOUN')",
           "<br> indeed , it was impossible to look at the <br> clear blue eye of lucy ashton , and entertain <br> the slightest permanent doubt concerning the sincerity of her <br> disposition .",
           "clear blue lucy ashton",
           "('eye', 'NOUN')",
           "<br> gradually , however , they assumed a darker and <br> more mysterious character , and became such as , <br> told by the midnight lamp , and enforced by <br> the tremulous tone , the quivering and livid lip <br> , the uplifted skinny forefinger , and the shaking <br> head of the blue - eyed hag , might <br> have appalled a less credulous imagination in an age <br> more hard of belief .",
           "blue hag",
           "('eyed', 'ADJ')",
           18.36370099974384
          ],
          [
           [
            "dark",
            "ADJ"
           ],
           "sight",
           177,
           148,
           -0.25815218445404775,
           "<br> , i am sure she would approve ; but <br> you are unacquainted personally , and the ancient feud <br> between the families---- \"   ravenswood fixed upon her <br> his keen dark eyes , as if he was <br> desirous of penetrating into her very soul .  ",
           "keen dark",
           "('eyes', 'NOUN')",
           "NA",
           "NA",
           "NA",
           "NA",
           "NA",
           "NA",
           -13.589561406034353
          ],
          [
           [
            "wandered",
            "VERB"
           ],
           "sight",
           37,
           30,
           -0.3025627700204312,
           "<br> from the face of his cousin the gaze of <br> richard wandered to the table , which was covered <br> with letters , packets , and newspapers ; then <br> to the apartment and all it contained .  ",
           "cousin richard wandered",
           "('gaze', 'NOUN')",
           "<br> again and again her eyes wandered from her children <br> , and their tender gaze was turned upon her <br> husband 's grave face ; and now and again <br> the eyes of husband and wife met with a <br> silent exchange of happiness and thoughts from some inner <br> depth .  ",
           "wandered children",
           "('eyes', 'NOUN')",
           "<br> as her eyes wandered over the path , she <br> saw fresh marks on the path , a man <br> 's footprints were distinctly recognizable .",
           "wandered path",
           "('eyes', 'NOUN')",
           23.035381970918102
          ],
          [
           [
            "black",
            "ADJ"
           ],
           "sight",
           126,
           102,
           -0.3048545815284209,
           "<br> master cornelius , passim _ ) , met two <br> black crows , or seen the dead man turn <br> in his grave , that you are so upset <br> ? \"  ",
           "black crows dead man turn",
           "('seen', 'VERB')",
           "<br> the impression which we have necessarily been long in <br> describing , lucy felt in the glance of a <br> moment , and had no sooner encountered the keen <br> black eyes of the stranger than her own were <br> bent on the ground with a mixture of bashful <br> embarrassment and fear .",
           "encountered keen black stranger",
           "('eyes', 'NOUN')",
           "NA",
           "NA",
           "NA",
           24.97275633782232
          ],
          [
           [
            "fit",
            "ADJ"
           ],
           "sight",
           39,
           31,
           -0.33120590847537323,
           "<br> i never saw quite so wretched an example of <br> what a sea - faring life can do ; <br> but to a degree , i know it is <br> the same with them all :   they are <br> all knocked about , and exposed to every climate <br> , and every weather , till they are not <br> fit to be seen .  ",
           "fit",
           "('seen', 'VERB')",
           "NA",
           "NA",
           "NA",
           "NA",
           "NA",
           "NA",
           -18.72355496002121
          ],
          [
           [
            "carefully",
            "ADV"
           ],
           "sight",
           39,
           31,
           -0.33120590847537323,
           "<br> leave not a single one of the thousand signs <br> and tokens by which the most inscrutable character betrays <br> itself to an observer of human nature , he <br> has but to watch carefully the little movements of <br> a woman 's head , the ever - varying <br> expressive turns and curves of her neck and throat <br> , to read her nature .  ",
           "carefully little movements",
           "('watch', 'VERB')",
           "<br> she put on her spectacles , and carefully examined <br> the wound , saying--  ",
           "spectacles carefully wound saying--",
           "('examined', 'VERB')",
           "<br> the good knight fell at the lady 's feet <br> , and weeping took them and kissed them , <br> and you may be sure the good woman was <br> quite delighted to let him kiss them , and <br> even without looking too carefully to see what she <br> was going to do , she abandoned her dress <br> to him , knowing well that to keep it <br> from sweeping the ground it must be taken at <br> the bottom to raise it ; but it was <br> written that for that evening she should be good <br> , for the handsome lavalliere said to her with <br> despair--   \"",
           "looking carefully going",
           "('see', 'VERB')",
           -12.812603674769308
          ],
          [
           [
            "glance",
            "NOUN"
           ],
           "sight",
           97,
           76,
           -0.3519853287435422,
           "<br> ah ! sweet coz you have a wonderful glance <br> in your eye ; you move i know not",
           "wonderful glance",
           "('eye', 'NOUN')",
           "<br> now the old maid , who was all eyes <br> , and followed the great and notable changes which <br> were taking place in the person of this badly <br> hanged man , pulled the surgeon by the sleeve <br> , and pointing out to him , by a <br> curious glance of the eye , the piteous cause <br> , said to him--   \" will he for <br> the future be always like that ? \"  ",
           "curious glance piteous cause",
           "('eye', 'NOUN')",
           "<br> when the officiating priest turned round to sing the <br> _ off you go _ to this fine gilded <br> flock , the constable 's wife went out by <br> the side of the pillar where her courtier was <br> , passed in front of him and endeavoured to <br> insinuate into his understanding by a speaking glance that <br> he was to follow her , and to make <br> positive the intelligence and significant interpretation of this gentle <br> appeal , the artful jade turned round again a <br> little after passing him to again request his company <br> .",
           "insinuate speaking glance",
           "('understanding', 'NOUN')",
           2.7863220829958935
          ],
          [
           [
            "fastened",
            "VERB"
           ],
           "sight",
           40,
           31,
           -0.3677317845004871,
           "<br> all this time the young seneca kept his eye <br> fastened in one direction , apparently regarding some object <br> in the lake .",
           "young seneca kept fastened direction",
           "('eye', 'NOUN')",
           "NA",
           "NA",
           "NA",
           "NA",
           "NA",
           "NA",
           1.3746454144092253
          ],
          [
           [
            "closed",
            "VERB"
           ],
           "sight",
           62,
           48,
           -0.36923380966571906,
           "<br> there was no wound , no blood , no <br> visible bruise ; but her eyes were closed , <br> she breathed not , her face was like death <br> .  ",
           "bruise closed",
           "('eyes', 'NOUN')",
           "<br> louisa had once opened her eyes , but soon <br> closed them again , without apparent consciousness .  ",
           "opened soon closed",
           "('eyes', 'NOUN')",
           "<br> when they stood by the cot where helene lay <br> sleeping , she put the curtains softly aside , <br> shading the candle with her hand , lest the <br> light should dazzle the half - closed eyes beneath <br> the transparent lids .",
           "half closed transparent lids",
           "('eyes', 'NOUN')",
           3.383724379886199
          ],
          [
           [
            "thoroughly",
            "ADV"
           ],
           "sight",
           44,
           34,
           -0.3719687773869579,
           "<br> craigengelt had his own purposes in fooling him up <br> to the top of his bent ; and having <br> some low humour , much impudence , and the <br> power of singing a good song , understanding besides <br> thoroughly the disposition of his regained associate , he <br> headily succeeded in involving him bumper - deep in <br> the festivity of the meeting .   ",
           "good song thoroughly disposition",
           "('understanding', 'NOUN')",
           "NA",
           "NA",
           "NA",
           "NA",
           "NA",
           "NA",
           15.997927177640705
          ],
          [
           [
            "walking",
            "VERB"
           ],
           "sight",
           52,
           39,
           -0.4150374992788438,
           "<br> when marmaduke left his office after executing his disagreeable <br> duty , he met oliver edwards , walking up <br> the gravelled walk in front of the mansion - <br> house with great strides , and with a face <br> agitated by feeling .",
           "disagreeable duty oliver edwards walking",
           "('met', 'VERB')",
           "<br> the leaves had fallen thickly , and the stubble <br> - fields were bare , but autumn , in <br> a many - coloured tartan plaid , was seen <br> still walking with matronly composure in the woodlands , <br> along the brow of the neighbouring hills .  ",
           "tartan plaid walking matronly",
           "('seen', 'VERB')",
           "<br> henrietta , conscious and ashamed , and seeing no <br> cousin charles walking along any path , or leaning <br> against any gate , was ready to do as <br> mary wished ; but \" no ! \" said <br> charles musgrove , and \" no , no ! <br> \"",
           "ashamed cousin charles walking",
           "('seeing', 'VERB')",
           14.012664043889771
          ],
          [
           [
            "accustomed",
            "VERB"
           ],
           "sight",
           42,
           31,
           -0.43812111239188506,
           "<br> the contrast pressed so strongly upon the master 's <br> heart as to awaken some of the sterner feelings <br> with which he had been accustomed to regard the <br> new lord of his paternal domain , and to <br> impress his countenance with an air of severe gravity <br> , when , alighted from his horse , he <br> stood in the hall no longer his own , <br> surrounded by the numerous menials of its present owner <br> .  ",
           "accustomed new lord",
           "('regard', 'VERB')",
           "NA",
           "NA",
           "NA",
           "NA",
           "NA",
           "NA",
           9.150812395054164
          ],
          [
           [
            "closely",
            "ADV"
           ],
           "sight",
           61,
           45,
           -0.4388842412332115,
           "<br> then seeing that he did not move , she <br> examined him more closely , and was much astonished <br> at this so fine human nature when she recognised <br> the young fellow , upon whom the fancy took <br> her to perform some purely scientific experiments in the <br> interests of hanged persons .  ",
           "closely",
           "('examined', 'VERB')",
           "<br> sir william ashton had , of course , closely <br> watched the expression of their countenances .",
           "course closely expression",
           "('watched', 'VERB')",
           "<br> \" she was , by the shuddering assistants , <br> conveyed to another and more retired apartment , where <br> she was secured as her situation required , and <br> closely watched .",
           "required closely",
           "('watched', 'VERB')",
           19.585118070617998
          ],
          [
           [
            "met",
            "VERB"
           ],
           "sight",
           114,
           83,
           -0.4578505828178168,
           "<br> on the contrary , they met with a determined <br> purpose of resisting the exaction , and were only <br> undecided as to the mode of grounding their opposition <br> , when the cooper , a very important person <br> on a fishing - station , and one of <br> the conscript fathers of the village , observed , <br> \" that their hens had caickled mony a day <br> for the lords of ravenswood , and it was <br> time they suld caickle for those that gave them <br> roosts and barley . \"",
           "met purpose resisting",
           "('determined', 'ADJ')",
           "NA",
           "NA",
           "NA",
           "NA",
           "NA",
           "NA",
           -4.88075144623699
          ],
          [
           [
            "bingley",
            "PROPN"
           ],
           "sight",
           47,
           34,
           -0.4671260104272979,
           "<br> it would vex me , indeed , to see <br> you again the dupe of miss bingley 's pretended <br> regard . \"  ",
           "miss bingley pretended",
           "('regard', 'NOUN')",
           "<br> with what delighted pride she afterwards visited mrs. bingley <br> , and talked of mrs. darcy , may be <br> guessed .",
           "delighted pride mrs. bingley",
           "('visited', 'VERB')",
           "NA",
           "NA",
           "NA",
           -11.657264915641576
          ],
          [
           [
            "tears",
            "NOUN"
           ],
           "sight",
           243,
           173,
           -0.4901842759690564,
           "<br> the lady burst into tears , admiring this great <br> loyalty , the sublime resignation to his oath , <br> and the extreme sufferings of this internal passion .",
           "burst tears great loyalty",
           "('admiring', 'VERB')",
           "NA",
           "NA",
           "NA",
           "NA",
           "NA",
           "NA",
           14.64268678925922
          ],
          [
           [
            "tower",
            "NOUN"
           ],
           "sight",
           45,
           32,
           -0.4918530963296747,
           "<br> and according to another custom , not yet wholly <br> in desuetude , as the storm was now drifting <br> off to leeward , the master carried the keeper <br> to the top of his highest tower to admire <br> a wide and waste extent of view , and <br> to \" weary for his dinner . \"     ",
           "highest tower wide waste",
           "('admire', 'VERB')",
           "<br> my father and i saw them from the tower <br> struggling against the advancing tide , and they were <br> lost long before any help could reach them . <br> \"  ",
           "father tower",
           "('saw', 'VERB')",
           "<br> as they ran one by one past the master <br> , calling to each other to \" come and <br> see the auld tower blaw up in the lift <br> like the peelings of an ingan , \" he <br> could not but feel himself moved with indignation . <br> \"",
           "come auld tower blaw",
           "('see', 'VERB')",
           12.037009009094344
          ],
          [
           [
            "window",
            "NOUN"
           ],
           "sight",
           90,
           64,
           -0.4918530963296747,
           "<br> \" just bucklaw bringing out the horses , \" <br> said caleb , after a glance through the window <br> , \" as if there werena men eneugh in <br> the castle , or as if i couldna serve <br> the turn of ony o ' them that are <br> out",
           "caleb window",
           "('glance', 'NOUN')",
           "<br> from this window i see a great light in <br> the direction where , if i remember aright , <br> wolf 's crag lies ; and , to judge <br> from the splendour which the old tower sheds around <br> it , the preparations for our reception must be <br> of no ordinary description .",
           "window great light",
           "('see', 'VERB')",
           "NA",
           "NA",
           "NA",
           -2.892311900621886
          ],
          [
           [
            "eyes",
            "NOUN"
           ],
           "sight",
           496,
           352,
           -0.4947646917495779,
           "<br> ravenswood sheathed his sword , uncocked and returned his <br> pistol to his belt ; walked deliberately to the <br> door of the apartment , which he bolted ; <br> returned , raised his hat from his forehead , <br> and gazing upon lucy with eyes in which an <br> expression of sorrow overcame their late fierceness , spread <br> his dishevelled locks back from his face , and <br> said , \" do you know me , miss <br> ashton ?",
           "forehead lucy eyes",
           "('gazing', 'VERB')",
           "NA",
           "NA",
           "NA",
           "NA",
           "NA",
           "NA",
           21.690055292403365
          ],
          [
           [
            "turned",
            "VERB"
           ],
           "sight",
           296,
           210,
           -0.49520784796282724,
           "<br> then she turned away her eyes , and wished <br> to go to the queen and request her assistance <br> in this desperate case , for she took pity <br> on her lover , but one of the captains <br> said to her , with great appearance of respect <br> , \" madame , we have orders not to <br> allow you to speak with man or woman , <br> even though it should be the queen or your <br> confessor .",
           "turned away wished",
           "('eyes', 'NOUN')",
           "<br> at the arrival of her visitors she turned her <br> head towards them .",
           "arrival turned head",
           "('visitors', 'NOUN')",
           "<br> at length , when the youngster had fairly compelled <br> his attention by pulling his sleeve ,        he <br> turned his eyes , and , as he turned <br> , survey'd      ",
           "turned",
           "('eyes', 'NOUN')",
           21.411527938004188
          ],
          [
           [
            "shut",
            "VERB"
           ],
           "sight",
           79,
           56,
           -0.4964258261194988,
           "<br> \" but remember , that you shut your eyes <br> , and bent nearly double at the flash -- <br> now you owned all this yourself . \"  ",
           "shut bent nearly",
           "('eyes', 'NOUN')",
           "<br> craigengelt rose , went a - tiptoe to the <br> door , peeped out , shut it carefully , <br> came back again , clapped his tarnished gold - <br> laced hat on one side of his head , <br> took his glass in one hand , and touching <br> the hilt of his hanger with the other , <br> named , \" the king over the water . <br> \"  ",
           "door shut",
           "('peeped', 'VERB')",
           "NA",
           "NA",
           "NA",
           16.011406144739052
          ],
          [
           [
            "wise",
            "ADJ"
           ],
           "sight",
           48,
           34,
           -0.4974996594708167,
           "<br> in 's gesture , converse , speech , discourse <br> , attire ,       he practis'd that which wise <br> men still admire ,       commend , and recommend <br> .  ",
           "wise men commend",
           "('admire', 'VERB')",
           "<br> \" not so , master , you have mistaken <br> your man ; high airs and wise saws shall <br> not carry it off thus .",
           "high airs wise shall carry",
           "('saws', 'NOUN')",
           "<br> you are one of those wise men who see <br> everything with great composure till their blood is up <br> , and then -- woe to any one who <br> should put them in mind of their own prudential <br> maxims ! \"",
           "wise men great composure",
           "('see', 'VERB')",
           -10.760783573171313
          ],
          [
           [
            "direction",
            "NOUN"
           ],
           "sight",
           65,
           46,
           -0.4988058569714416,
           "<br> all this time the young seneca kept his eye <br> fastened in one direction , apparently regarding some object <br> in the lake .",
           "direction apparently object",
           "('regarding', 'VERB')",
           "NA",
           "NA",
           "NA",
           "NA",
           "NA",
           "NA",
           6.581820123746899
          ],
          [
           [
            "turning",
            "VERB"
           ],
           "sight",
           91,
           64,
           -0.5077946401986961,
           "<br> both the look and the result were noticed by <br> maria ; and , turning a glance of rather <br> saucy meaning on the gentleman , she said--  ",
           "turning saucy meaning",
           "('glance', 'NOUN')",
           "<br> to use your own language , \" she added <br> , turning her eyes towards him archly , \" <br> it is for her heart that i most love <br> her . \"  ",
           "added turning archly",
           "('eyes', 'NOUN')",
           "<br> that means a person who sees clearly on a <br> dark night , instructs himself by examining and turning <br> over purses , and takes his degrees on the <br> high road .",
           "instructs turning purses",
           "('examining', 'VERB')",
           -7.303835554749153
          ],
          [
           [
            "sun",
            "NOUN"
           ],
           "sight",
           111,
           78,
           -0.5090136474878575,
           "<br> but the pockets are almost full , and so <br> is the basket - bonnet , and that bright <br> watch the sun says it is late ; and <br> after all it is wrong to rob the poor <br> boys -- is it not ,",
           "bright sun says",
           "('watch', 'VERB')",
           "<br> you may look an hour before you can find <br> a hole through which to get a peep at <br> the sun .",
           "sun",
           "('peep', 'NOUN')",
           "<br> there are days in which the sun is not <br> seen -- when a lurid darkness brings a second <br> night over the earth .",
           "sun lurid",
           "('seen', 'VERB')",
           -3.6308295365538648
          ],
          [
           [
            "look",
            "VERB"
           ],
           "sight",
           158,
           111,
           -0.509364881826997,
           "<br> \" look and see , \" replied the jeweller <br> , gravely .  ",
           "look replied",
           "('see', 'VERB')",
           "NA",
           "NA",
           "NA",
           "NA",
           "NA",
           "NA",
           -7.351636995530836
          ],
          [
           [
            "figure",
            "NOUN"
           ],
           "sight",
           94,
           66,
           -0.5101947323191839,
           "<br> ” cried the youth , turning quickly to the <br> place the other indicated ; but when he saw <br> the figure of elizabeth bending toward him in an <br> attitude that powerfully spoke terror , blended with reluctance <br> to meet him in such a place , the <br> shock deprived him of speech .  ",
           "figure elizabeth",
           "('saw', 'VERB')",
           "<br> the marquis , staring vacantly into the tall mirror <br> across the room , without a thought of breaking <br> his implicit promise , saw the stranger 's figure <br> distinctly reflected by the opposite looking - glass , <br> and saw , too , a red stain suddenly <br> appear through the folds of the white bandage .",
           "implicit promise stranger figure",
           "('saw', 'VERB')",
           "<br> \" oh ! trust me , my love , <br> i shall not forget you now or ever , <br> \" replied her friend , embracing the other slightly <br> , and , perhaps , rather hastily for so <br> tender an adieu ; at the same time glancing <br> her eye on the figure of a youth , <br> who stood in silent contemplation of the scene . <br> \"",
           "time glancing figure",
           "('eye', 'NOUN')",
           28.785872588778723
          ],
          [
           [
            "curious",
            "ADJ"
           ],
           "sight",
           66,
           46,
           -0.5208321633014404,
           "<br> now the old maid , who was all eyes <br> , and followed the great and notable changes which <br> were taking place in the person of this badly <br> hanged man , pulled the surgeon by the sleeve <br> , and pointing out to him , by a <br> curious glance of the eye , the piteous cause <br> , said to him--   \" will he for <br> the future be always like that ? \"  ",
           "curious glance piteous cause",
           "('eye', 'NOUN')",
           "<br> this meeting took place very soon , and the <br> curious hunchback saw the boatman waiting below the square <br> , at the canal st. antoine , for the <br> young priest , who was handsome , blonde , <br> slender , and well - shaped , like the <br> gallant and cowardly hero of love , so celebrated <br> by monsieur ariosto .",
           "curious hunchback boatman waiting",
           "('saw', 'VERB')",
           "NA",
           "NA",
           "NA",
           -9.569223503443627
          ],
          [
           [
            "slowly",
            "ADV"
           ],
           "sight",
           46,
           32,
           -0.523561956057013,
           "<br> for a moment , natty held the steward suspended <br> , with his head just above the water , <br> while his eyes slowly opened and stared about him <br> , as if he thought that he had reached <br> a new and unexplored country .  ",
           "eyes slowly opened",
           "('stared', 'VERB')",
           "<br> the young man gave a tender embrace to his <br> companion , and went towards the tilbury which an <br> old servant drove slowly to meet him .",
           "servant drove slowly",
           "('meet', 'VERB')",
           "<br> as they paced slowly on , admiring the different <br> points of view , for which sir william ashton <br> , notwithstanding the nature of his usual avocations , <br> had considerable taste and feeling , they were overtaken <br> by the forester , or park - keeper , <br> who , intent on silvan sport , was proceeding <br> with his cross - bow over his arm , <br> and a hound led in leash by his boy <br> , into the interior of the wood .  ",
           "paced slowly different points",
           "('admiring', 'VERB')",
           -17.558202668198266
          ],
          [
           [
            "pale",
            "ADJ"
           ],
           "sight",
           62,
           43,
           -0.5279315556847772,
           "<br> \" oh ! put thine hand upon my heart <br> -- only thine hand -- and thou will see <br> me pale , when my blood shall have taken <br> the heat of thine . \"  ",
           "thou pale",
           "('see', 'VERB')",
           "<br> it is better breaking a park - pale to <br> watch a doe or damsel than to shoot an <br> old man . \"  ",
           "park pale doe damsel",
           "('watch', 'VERB')",
           "NA",
           "NA",
           "NA",
           20.50866165825818
          ],
          [
           [
            "opportunity",
            "NOUN"
           ],
           "sight",
           88,
           61,
           -0.5286942810744109,
           "<br> the hunters came up one by one , and <br> watched an opportunity to assail him with some advantage <br> , which , in such circumstances , can only <br> be done with caution .",
           "opportunity assail",
           "('watched', 'VERB')",
           "NA",
           "NA",
           "NA",
           "NA",
           "NA",
           "NA",
           2.3801119929051224
          ],
          [
           [
            "lovely",
            "ADJ"
           ],
           "sight",
           68,
           47,
           -0.5328739895727019,
           "<br> with this paraphrase of her idea , she cast <br> upon the said gentleman one of those warm ogles <br> that are only allowable to princesses and harlots , <br> and the false love which her lovely eyes bore <br> witness to , gave a pleasant pang to the <br> gallant of the pillar .",
           "lovely eyes bore gave",
           "('witness', 'NOUN')",
           "NA",
           "NA",
           "NA",
           "NA",
           "NA",
           "NA",
           -9.079615240525044
          ],
          [
           [
            "trees",
            "NOUN"
           ],
           "sight",
           55,
           38,
           -0.5334322000810741,
           "<br> while they were hurrying up the walk , two <br> figures , stealing cautiously but quickly under the shades <br> of the trees , met the eyes of the <br> ladies , and in a moment edwards and the <br> hunter crossed their path .  ",
           "trees met ladies",
           "('eyes', 'NOUN')",
           "<br> from the place where she sat she could look <br> through the garden railings along the inner boulevards to <br> the wonderful dome of the invalides rising above the <br> crests of a forest of elm - trees , <br> and see the less striking view of her own <br> grounds terminating in the gray stone front of one <br> of the finest hotels in the faubourg saint - <br> germain .  ",
           "trees striking view",
           "('see', 'VERB')",
           "NA",
           "NA",
           "NA",
           17.661773089939846
          ],
          [
           [
            "keeping",
            "VERB"
           ],
           "sight",
           45,
           31,
           -0.5376567859427994,
           "<br> he raised his head from its musing position at <br> the first sounds of her voice , and smiled <br> faintly , and with an expression of anguish , <br> as she proceeded ; but when she had ended <br> , and taken her seat near him , still <br> keeping her eyes on his varying countenance , he <br> took her hand into his own before he replied <br> .",
           "keeping varying countenance",
           "('eyes', 'NOUN')",
           "NA",
           "NA",
           "NA",
           "NA",
           "NA",
           "NA",
           -17.9318673343327
          ],
          [
           [
            "clearly",
            "ADV"
           ],
           "sight",
           45,
           31,
           -0.5376567859427994,
           "<br> \" no , \" replied the canon , smiling <br> , \" because i shall have made my will <br> in proper form , the inheritance will be to <br> the sharpest of you three ; i am so <br> near to the future , that i can therein <br> see clearly your destinies . \"  ",
           "clearly destinies",
           "('see', 'VERB')",
           "<br> that means a person who sees clearly on a <br> dark night , instructs himself by examining and turning <br> over purses , and takes his degrees on the <br> high road .",
           "means person clearly dark",
           "('sees', 'VERB')",
           "NA",
           "NA",
           "NA",
           -9.301000524713631
          ],
          [
           [
            "wish",
            "VERB"
           ],
           "sight",
           160,
           110,
           -0.5405683813627027,
           "<br> \" i wish lady ashton had seen this , <br> \" was his internal reflection ; \" no man <br> knows so well as bittlebrains on which side his <br> bread is buttered ; and he fawns on the <br> master like a beggar 's messan on a cook <br> .",
           "wish lady ashton",
           "('seen', 'VERB')",
           "NA",
           "NA",
           "NA",
           "NA",
           "NA",
           "NA",
           7.553345589435442
          ],
          [
           [
            "moon",
            "NOUN"
           ],
           "sight",
           48,
           33,
           -0.5405683813627027,
           "<br> she consented , and i went , and , <br> since that time , sun , moon , and <br> stars may pursue their course : i know not <br> whether it is day or night ; the whole <br> world is nothing to me .  ",
           "moon pursue course",
           "('stars', 'NOUN')",
           "<br> to wander over pathless wilds , surrounded by impetuous <br> whirlwinds , where , by the feeble light of <br> the moon , we see the spirits of our <br> ancestors ; to hear from the mountain - tops <br> , mid the roar of torrents , their plaintive <br> sounds issuing from deep caverns , and the sorrowful <br> lamentations of a maiden who sighs and expires on <br> the mossy tomb of the warrior by whom she <br> was adored .",
           "moon spirits",
           "('see', 'VERB')",
           "<br> \" often by the setting moon i see the <br> ghosts of my children ; half viewless they walk <br> in mournful conference together . \"  ",
           "setting moon ghosts",
           "('see', 'VERB')",
           -6.2891215388542925
          ],
          [
           [
            "expected",
            "VERB"
           ],
           "sight",
           124,
           85,
           -0.5448053742491735,
           "<br> it was then only as a servant that he <br> could appear , and , after mature reflection , <br> julia confidently expected to see him in the character <br> of a coachman .  ",
           "julia confidently expected character",
           "('see', 'VERB')",
           "<br> hearing these words , and seeing philippe de mala <br> disappear without giving her the amorous glances she expected <br> , the beautiful imperia , puffing like a dolphin <br> , denounced all the cowardice of the priest .",
           "giving amorous expected",
           "('glances', 'NOUN')",
           "<br> \" for shame , mr. girder ! \" said <br> the clergyman ; \" this is what i little <br> expected to have seen of you , that you <br> suld give rein to your sinful passions against your <br> nearest and your dearest , and this night too <br> , when ye are called to the most solemn <br> duty of a christian parent ; and a ' <br> for what ?",
           "little expected",
           "('seen', 'VERB')",
           -5.675137411718193
          ],
          [
           [
            "frequently",
            "ADV"
           ],
           "sight",
           98,
           67,
           -0.5486206536574358,
           "<br> then , in spite of the too great youth <br> of this charming servitor , during the collation and <br> supper , she eyed frequently the black hair , <br> the white skin , the grace of rene , <br> above all his eyes , where was an abundance <br> of limpid warmth and a great fire of life <br> , which he was afraid to shoot out -- <br> child that he was .  ",
           "supper frequently black hair",
           "('eyed', 'VERB')",
           "<br> babie performed her mistress 's command with the grace <br> which was naturally to have been expected , moving <br> to and fro with a lobster - like gesture <br> , her feet and legs tending one way , <br> while her head , turned in a different direction <br> , was fixed in wonder upon the laird , <br> who was more frequently heard of than seen by <br> his tenants and dependants .",
           "frequently heard tenants",
           "('seen', 'VERB')",
           "<br> they met frequently afterwards , and always at sunset <br> , the charms of the nymph 's mind completing <br> the conquest which her beauty had begun , and <br> the mystery of the intrigue adding zest to both <br> .",
           "frequently",
           "('met', 'VERB')",
           -10.087349709765029
          ],
          [
           [
            "catch",
            "VERB"
           ],
           "sight",
           60,
           41,
           -0.5493385909904348,
           "<br> while i awaited his coming , my heart beat <br> wildly , as it    used to do when <br> i was a child stealing into the drawing - <br> room on    the last day of the old <br> year to catch a glimpse of the new year <br> 's    gifts piled up there in heaps .",
           "year catch new year",
           "('glimpse', 'NOUN')",
           "<br> as usual , julia was waiting with eager impatience <br> at the gate , her lovely form occasionally gliding <br> from the shrubbery to catch a glimpse of the <br> passengers on the highway , when charles appeared riding <br> at a full gallop towards the house ; his <br> whole manner announced success , and julia sprang into <br> the middle of the road to take the letter <br> which he extended towards her .  ",
           "shrubbery catch passengers",
           "('glimpse', 'NOUN')",
           "<br> this discourse considerably astonished the lady bertha , who <br> let her cousin say her prayers , and make <br> other preparations for the night beneath the curtains of <br> the bed , into which my lord , inflamed <br> with desire , soon tumbled , happy at being <br> able to catch an occasional glimpse of the wondrous <br> charms of the chatelaine , which were in no <br> way injured .",
           "catch occasional wondrous charms",
           "('glimpse', 'NOUN')",
           -3.4768237969324503
          ],
          [
           [
            "caught",
            "VERB"
           ],
           "sight",
           170,
           116,
           -0.5514099410101296,
           "<br> charles heard the screams of miss emmerson , and <br> caught a glimpse of the dress of julia as <br> she sprang from the carriage .",
           "caught dress",
           "('glimpse', 'NOUN')",
           "<br> it was seldom that our heroine had been in <br> the public bar - room of a tavern -- <br> but , in gliding by the door , she <br> caught a glimpse of antonio in the bar ; <br> and , impelled by her feelings , she was <br> near him before she had time to collect her <br> scattered senses .",
           "caught antonio",
           "('glimpse', 'NOUN')",
           "NA",
           "NA",
           "NA",
           21.4359010645012
          ],
          [
           [
            "permitted",
            "VERB"
           ],
           "sight",
           47,
           32,
           -0.5545888516776374,
           "<br> the gentlemen were sitting with their faces towards the <br> fire , and had not heard the light step <br> of miss henly as she entered the apartment , <br> but both instantly arose and paid their salutations ; <br> the invalid by a silent bow , and by <br> handing a chair , and delafield with many a <br> graceful compliment on her good looks , and divers <br> protestations concerning the pleasure he felt at being permitted <br> to visit at her house .",
           "permitted house",
           "('visit', 'VERB')",
           "<br> \" that is the very thing i complain of <br> , \" answered tinto ; \" you have accustomed <br> yourself so much to these creeping twilight details of <br> yours , that you are become incapable of receiving <br> that instant and vivid flash of conviction which darts <br> on the mind from seeing the happy and expressive <br> combinations of a single scene , and which gathers <br> from the position , attitude , and countenance of <br> the moment , not only the history of the <br> past lives of the personages represented , and the <br> nature of the business on which they are immediately <br> engaged , but lifts even the veil of futurity <br> , and affords a shrewd guess at their future <br> fortunes . \"   \" in that case , <br> \" replied i , \" paining excels the ape <br> of the renowned gines de passamonte , which only <br> meddled with the past and the present ; nay <br> , she excels that very nature who affords her <br> subject ; for i protest to you , dick <br> , that were i permitted to peep into that <br> elizabeth - chamber , and see the persons you <br> have sketched conversing in flesh and blood , i <br> should not be a jot nearer guessing the nature <br> of their business than i am at this moment <br> while looking at your sketch .",
           "permitted elizabeth",
           "('peep', 'VERB')",
           "NA",
           "NA",
           "NA",
           4.321117828270924
          ],
          [
           [
            "face",
            "NOUN"
           ],
           "sight",
           271,
           184,
           -0.5585870852968586,
           "<br> he 's as soon a - bleeze as a <br> tap of tow , the lad bucklaw , \" <br> he said ; \" but the deil of ony <br> master 's face he shall see till he has <br> sleepit and waken'd on't .",
           "face shall sleepit",
           "('see', 'VERB')",
           "<br> the boy ran up to him , and pulled <br> him by the skirt of the coat with the <br> freedom of a spoilt child , saying , \" <br> i say , sir , if you please to <br> tell me---- \" but when the master turned round <br> , and henry saw his face , he became <br> suddenly and totally disconcerted ; walked two or three <br> steps backward , and still gazed on ravenswood with <br> an air of fear and wonder , which had <br> totally banished from his features their usual expression of <br> pert vivacity .  ",
           "round henry face",
           "('saw', 'VERB')",
           "NA",
           "NA",
           "NA",
           11.952744381848891
          ],
          [
           [
            "plainly",
            "ADV"
           ],
           "sight",
           84,
           57,
           -0.5594274086140185,
           "<br> her caresses , and a something in the carriage <br> of her head , were interpreted yet more plainly <br> by the joy sparkling in her eyes .  ",
           "head plainly",
           "('interpreted', 'VERB')",
           "NA",
           "NA",
           "NA",
           "NA",
           "NA",
           "NA",
           0.6516084580153041
          ],
          [
           [
            "live",
            "VERB"
           ],
           "sight",
           65,
           44,
           -0.5629361943911572,
           "<br> \" you were wo nt to be thought a <br> stirring active young fellow , master , \" was <br> his frequent remonstrance ; \" yet here you seem <br> determined to live on and on like a rat <br> in a hole , with this trifling difference , <br> that the wiser vermin chooses a hermitage where he <br> can find food at least ; but as for <br> us , caleb 's excuses become longer as his <br> diet turns more spare , and i fear we <br> shall realise the stories they tell of the slother <br> : we have almost eat up the last green <br> leaf on the plant , and have nothing left <br> for it but to drop from the tree and <br> break our necks .",
           "live",
           "('determined', 'ADJ')",
           "<br> such a misfortune to befa ' the house of <br> ravenswood , and i to live to see it <br> . \"  ",
           "live",
           "('see', 'VERB')",
           "NA",
           "NA",
           "NA",
           7.6860633314949425
          ],
          [
           [
            "light",
            "NOUN"
           ],
           "sight",
           200,
           135,
           -0.5670405927238937,
           "<br> with the first peep of light , caleb balderstone <br> again resorted to the door of ravenswood 's sleeping <br> apartment , through a chink of which he observed <br> him engaged in measuring the length of two or <br> three swords which lay in a closet adjoining to <br> the apartment .",
           "light caleb",
           "('peep', 'NOUN')",
           "NA",
           "NA",
           "NA",
           "NA",
           "NA",
           "NA",
           5.932610961231167
          ],
          [
           [
            "progress",
            "NOUN"
           ],
           "sight",
           55,
           37,
           -0.5719063478957098,
           "<br> she sate upon one of the disjointed stones of <br> the ancient fountain , and seemed to watch the <br> progress of its current , as it bubbled forth <br> to daylight , in gay and sparkling profusion , <br> from under the shadow of the ribbed and darksome <br> vault , with which veneration , or perhaps remorse <br> , had canopied its source .",
           "progress",
           "('watch', 'VERB')",
           "NA",
           "NA",
           "NA",
           "NA",
           "NA",
           "NA",
           18.339386212331085
          ],
          [
           [
            "heaven",
            "PROPN"
           ],
           "sight",
           125,
           84,
           -0.5734668618833266,
           "<br> when she left the poor lodging of her weeping <br> mother to consummate her betrothal at the cathedral of <br> st. gatien and st. maurice , the country people <br> came to a feast their eyes upon the bride <br> , and on the carpets which were laid down <br> all along the rue de la scellerie , and <br> all said that never had tinier feet pressed the <br> ground of touraine , prettier eyes gazed up to <br> heaven , or a more splendid festival adorned the <br> streets with carpets and with flowers .",
           "touraine prettier eyes heaven",
           "('gazed', 'VERB')",
           "<br> and all these paraphrases of the common canticle known <br> to the ladies at their birth were ejaculated between <br> a thousand pauses , interrupted with sighs torn from <br> the heart , ornamented with quiverings , appeals to <br> heaven , upturned eyes , sudden blushings and clutchings <br> at her hair .",
           "heaven upturned sudden blushings",
           "('eyes', 'NOUN')",
           "NA",
           "NA",
           "NA",
           -19.033083920041264
          ],
          [
           [
            "keen",
            "ADJ"
           ],
           "sight",
           75,
           50,
           -0.5849625007211563,
           "<br> \" and the father , who is as keen <br> to see the match concluded as ever i have <br> been to win a main ? \"  ",
           "keen match concluded",
           "('see', 'VERB')",
           "<br> having said this , he saluted her with more <br> emotion than was consistent with his usual train of <br> feeling , and took his leave ; lady ashton <br> , as she accompanied him out of the apartment <br> , assuring him that her daughter did full justice <br> to the sincerity of his attachment , and requesting <br> him to see sir william before his departure , <br> \" since , \" as she said , with <br> a keen glance reverting towards lucy , \" against <br> st. jude 's day , we must all be <br> ready to sign and seal . \"   \" <br> to sign and seal ! \"",
           "keen reverting lucy",
           "('glance', 'NOUN')",
           "NA",
           "NA",
           "NA",
           -18.794915522826038
          ],
          [
           [
            "seated",
            "VERB"
           ],
           "sight",
           45,
           30,
           -0.5849625007211563,
           "<br> at length he recollected himself , and , turning <br> his head slowly around the apartment , he beheld <br> elizabeth , still seated on the sofa , but <br> with her head dropped on her bosom , and <br> her face again concealed by her hands .  ",
           "apartment elizabeth seated",
           "('beheld', 'VERB')",
           "<br> the eyes of natty followed the direction of edwards’ <br> finger , where he beheld the indian still seated <br> as before ,   with the very earth under <br> his feet consuming with fire .  ",
           "finger indian seated",
           "('beheld', 'VERB')",
           "<br> i 'll light a big fire to warm him <br> when he returns ; \" and the good shepherd <br> ran into the room where the canon generally sat <br> , and to his great astonishment beheld him seated <br> in his chair .  ",
           "great astonishment seated",
           "('beheld', 'NOUN')",
           -20.363844313450638
          ],
          [
           [
            "turn",
            "VERB"
           ],
           "sight",
           75,
           49,
           -0.6141088463806728,
           "<br> master cornelius , passim _ ) , met two <br> black crows , or seen the dead man turn <br> in his grave , that you are so upset <br> ? \"  ",
           "black crows dead man turn",
           "('seen', 'VERB')",
           "NA",
           "NA",
           "NA",
           "NA",
           "NA",
           "NA",
           -6.519105886168761
          ],
          [
           [
            "open",
            "VERB"
           ],
           "sight",
           63,
           41,
           -0.6197279188818328,
           "<br> the marquise , with a swelling heart and dry <br> eyes , in painful agitation , which none but <br> a mother can fully understand , began to open <br> moina 's eyes to the risk that she was <br> running .",
           "open moina risk",
           "('eyes', 'NOUN')",
           "<br> hearing this the poor lover tried to open his <br> eyes , and only succeeded in showing a little <br> bit of the white of them .  ",
           "tried open succeeded",
           "('eyes', 'NOUN')",
           "<br> one evening the canon began discoursing concerning the devil <br> and the grave agonies , penances , tortures , <br> etc . , which god will get warm for <br> the accursed , and the good chiquon hearing it <br> , began to open his eyes as wide as <br> the door of an oven , at the statement <br> , without believing a word of it .  ",
           "began open wide",
           "('eyes', 'NOUN')",
           10.990819873591631
          ],
          [
           [
            "glad",
            "ADJ"
           ],
           "sight",
           186,
           120,
           -0.632268215499513,
           "<br> \" i apprehend your flute , which , by <br> the by , i am glad to see you <br> have brought , will be rather in the penseroso <br> style this evening , mr. delafield .",
           "glad brought",
           "('see', 'VERB')",
           "<br> \" well , master , i am glad to <br> see that the devil deals as cunningly with other <br> folk as he deals with me ; for whenever <br> i am about to commit any folly , he <br> persuades me it is the most necessary , gallant <br> , gentlemanlike thing on earth , and i am <br> up to saddlegirths in the bog before i see <br> that the ground is soft .",
           "glad devil deals",
           "('see', 'VERB')",
           "NA",
           "NA",
           "NA",
           42.289670519104526
          ],
          [
           [
            "meaning",
            "NOUN"
           ],
           "sight",
           76,
           49,
           -0.6332176693283773,
           "<br> the evening passed swiftly , and the hour for <br> bed arrived without any other communication between julia and <br> anna than whisperings and pressures of the hands , <br> together with a thousand glances of peculiar meaning with <br> the eyes .",
           "peculiar meaning",
           "('eyes', 'NOUN')",
           "<br> lucy returned the scornful glance of her lover with <br> a gaze from which perception seemed to have been <br> banished ; yet she seemed partly to have understood <br> his meaning , for she raised her hands as <br> if to undo a blue ribbon which she wore <br> around her neck .",
           "partly meaning",
           "('understood', 'VERB')",
           "NA",
           "NA",
           "NA",
           7.818953566917721
          ],
          [
           [
            "pass",
            "VERB"
           ],
           "sight",
           58,
           37,
           -0.6485276294986222,
           "<br> he saw him according reach the fatal spot ; <br> but he never saw him pass further .   ",
           "pass",
           "('saw', 'VERB')",
           "NA",
           "NA",
           "NA",
           "NA",
           "NA",
           "NA",
           39.32891516879396
          ],
          [
           [
            "threw",
            "VERB"
           ],
           "sight",
           55,
           35,
           -0.6520766965796931,
           "<br> at each turn of the walk our heroine threw <br> a timid eye around in quest of an unknown <br> figure , and more than once fancied she saw <br> the face of the god of music peering at <br> her from the friendly covert of her aunt 's <br> shrubbery -- and twice she mistook the light green <br> of a neighbouring cornfield , waving in the wind <br> , for the coat of antonio .",
           "heroine threw timid quest",
           "('eye', 'NOUN')",
           "<br> the timorous , courteous glance which he threw around <br> him , the effect of the partial light upon <br> his white hair and illumined features , might have <br> made a good painting ; but our travellers were <br> too impatient for security against the rising storm to <br> permit them to indulge themselves in studying the picturesque <br> . \"",
           "timorous courteous threw",
           "('glance', 'NOUN')",
           "NA",
           "NA",
           "NA",
           29.14542485467872
          ],
          [
           [
            "stand",
            "VERB"
           ],
           "sight",
           49,
           31,
           -0.6605135337283329,
           "<br> what a strange fellow - feeling with the past <br> it gave one to stand staring at the old <br> books , with their paper backs and old - <br> fashioned covers , at the gray boards , which <br> were the liveries of literature in those early days <br> ; at the first editions , with their inscriptions <br> in the author 's handwriting , or in maria <br> 's pretty caligraphy .",
           "gave stand old books",
           "('staring', 'VERB')",
           "<br> i must go and examine how matters stand at <br> wolf 's crag myself . \"  ",
           "matters stand",
           "('examine', 'VERB')",
           "<br> craigengelt , \" he added , in an undertone <br> , \" d -- n ye , why do <br> you stand staring as if you saw a ghost <br> ?",
           "stand saw",
           "('staring', 'VERB')",
           19.285797501866526
          ],
          [
           [
            "filled",
            "VERB"
           ],
           "sight",
           76,
           48,
           -0.6629650127224294,
           "<br> \" i am not feeling well , \" she <br> said at last , taking alarm at the pause <br> fraught with such great moment for them both , <br> when the language of the eyes completely filled the <br> blank left by the helplessness of speech .  ",
           "language completely filled blank",
           "('eyes', 'NOUN')",
           "<br> as he sat , with the light turned full <br> upon his face , and the rest of his <br> body in shadow , he looked like one of <br> raphael 's dark portraits of himself -- a bent <br> head and intent eyes filled with visions of the <br> future .  ",
           "bent head intent filled visions",
           "('eyes', 'NOUN')",
           "<br> the fancied picture had grown almost real , when <br> the tears filled his eyes , and , to <br> hide his emotion , he turned his face towards <br> the sea - line , opposite the hazy streak <br> that meant land .  ",
           "tears filled",
           "('eyes', 'NOUN')",
           13.842482736025133
          ],
          [
           [
            "days",
            "NOUN"
           ],
           "sight",
           97,
           61,
           -0.6691755046242414,
           "<br> we parted , however , without further explanation , <br> and i did not see him until three days <br> after , when he summoned me to partake of <br> the \" foy \" with which his landlord proposed <br> to regale him ere his departure for edinburgh . <br>  ",
           "days",
           "('see', 'VERB')",
           "NA",
           "NA",
           "NA",
           "NA",
           "NA",
           "NA",
           5.6189298718619165
          ],
          [
           [
            "white",
            "ADJ"
           ],
           "sight",
           110,
           69,
           -0.6728352567464904,
           "<br> ye may gang down yoursell , and look into <br> our kitchen -- the cookmaid in the trembling exies <br> -- the gude vivers lying a ' about -- <br> beef , capons , and white broth -- florentine <br> and flams -- bacon wi ' reverence -- and <br> a ' the sweet confections and whim - whams <br> -- ye'll see them a ' , my leddy <br> -- that is , \" said he , correcting <br> himself , \" ye'll no see ony of them <br> now , for the cook has soopit them up <br> , as was weel her part ; but ye'll <br> see the white broth where it was spilt .",
           "white broth",
           "('see', 'VERB')",
           "NA",
           "NA",
           "NA",
           "NA",
           "NA",
           "NA",
           10.317653032266858
          ],
          [
           [
            "form",
            "NOUN"
           ],
           "sight",
           126,
           79,
           -0.6734991753228136,
           "<br> several times did our traveler stop to gaze on <br> that immovable form .",
           "traveler stop immovable form",
           "('gaze', 'VERB')",
           "NA",
           "NA",
           "NA",
           "NA",
           "NA",
           "NA",
           -14.672650615319505
          ],
          [
           [
            "eye",
            "NOUN"
           ],
           "sight",
           372,
           232,
           -0.6811778159804592,
           "<br> from the boy 's earliest youth , when the <br> good tryballot set him to watch the birds who <br> came to eat the peas , beans , and <br> the grain , and to drive the thieves away <br> , above all , the jays , who spoiled <br> everything , he would study their habits , and <br> took delight in watching with what grace they came <br> and went , flew off loaded , and returned <br> , watching with a quick eye the snares and <br> nets ; and he would laugh heartily at their <br> cleverness in avoiding them .",
           "returned quick eye",
           "('watching', 'VERB')",
           "<br> now the old maid , who was all eyes <br> , and followed the great and notable changes which <br> were taking place in the person of this badly <br> hanged man , pulled the surgeon by the sleeve <br> , and pointing out to him , by a <br> curious glance of the eye , the piteous cause <br> , said to him--   \" will he for <br> the future be always like that ? \"  ",
           "curious eye",
           "('glance', 'NOUN')",
           "NA",
           "NA",
           "NA",
           21.461861518752396
          ],
          [
           [
            "standing",
            "VERB"
           ],
           "sight",
           50,
           31,
           -0.6896598793878495,
           "<br> lockhard and another domestic , who had in vain <br> attempted to oppose his passage through the gallery or <br> antechamber , were seen standing on the threshold transfixed <br> with surprise , which was instantly communicated to the <br> whole party in the state - room .",
           "antechamber standing threshold",
           "('seen', 'VERB')",
           "NA",
           "NA",
           "NA",
           "NA",
           "NA",
           "NA",
           -11.66357734157731
          ],
          [
           [
            "large",
            "ADJ"
           ],
           "sight",
           111,
           68,
           -0.7069530250997667,
           "<br> \" my dear , \" said the judge , <br> \" i am going to hold the bodkin , <br> of which the eye is sufficiently large , to <br> put this thread into it without trouble .",
           "sufficiently large",
           "('eye', 'NOUN')",
           "NA",
           "NA",
           "NA",
           "NA",
           "NA",
           "NA",
           -21.456655272039587
          ],
          [
           [
            "frequent",
            "ADJ"
           ],
           "sight",
           54,
           33,
           -0.710493382805015,
           "<br> \" it is impossible for me to leave the <br> young lady in the wood alone , \" said <br> ravenswood ; \" to see her once more can <br> be of little consequence , after the frequent meetings <br> we have had .",
           "frequent",
           "('meetings', 'NOUN')",
           "NA",
           "NA",
           "NA",
           "NA",
           "NA",
           "NA",
           25.451928498743428
          ],
          [
           [
            "kept",
            "VERB"
           ],
           "sight",
           125,
           76,
           -0.7178567712185016,
           "<br> all this time the young seneca kept his eye <br> fastened in one direction , apparently regarding some object <br> in the lake .",
           "young seneca kept fastened direction",
           "('eye', 'NOUN')",
           "NA",
           "NA",
           "NA",
           "NA",
           "NA",
           "NA",
           -7.229758081733551
          ],
          [
           [
            "opened",
            "VERB"
           ],
           "sight",
           153,
           93,
           -0.7182290315846205,
           "<br> thereupon pasquerette opened her eyes and then bent her <br> head slightly to look at her flesh , which <br> was white and firm , and she brought herself <br> to life by a box on the ears , <br> administered to the captain .  ",
           "pasquerette opened bent",
           "('eyes', 'NOUN')",
           "<br> the mother opened her eyes pretty widely , you <br> may imagine -- at the cries of her little <br> one ; and was greatly terrified at seeing him <br> in the hands of her husband , who had <br> his right hand all bloody , and cast a <br> fierce glance on the mother and son .  ",
           "mother opened pretty widely",
           "('eyes', 'NOUN')",
           "<br> see - wise opened his ears wide to this <br> talk , and the young men listened to his <br> words as they listened to the song of the <br> mocking - bird .",
           "wise opened",
           "('see', 'VERB')",
           -6.11767287887727
          ],
          [
           [
            "pay",
            "VERB"
           ],
           "sight",
           114,
           69,
           -0.7243655573865726,
           "<br> julia ran over in her mind the time when <br> she should pay an annual visit to that hallowed <br> place , and leaning on the arm of her <br> majestic husband , murmur in his ear , \" <br> here , on this loved spot , did antonio <br> first address his happy , thrice happy julia . <br> \"  ",
           "pay annual hallowed place",
           "('visit', 'NOUN')",
           "<br> now , for being able to revenge herself upon <br> louis , she at least determined to pay out <br> the said lords , to make fools of them <br> , and amuse the king with the tricks she <br> would play upon them .",
           "pay",
           "('determined', 'ADJ')",
           "<br> at the time , he was too full of <br> his own appearance , his sword , his laced <br> cloak , his feathered hat , and his managed <br> horse , to pay much regard to anything else <br> ; but he afterwards remembered to the hour of <br> his death , that when the hand of his <br> sister , by which she supported hersel on the <br> pillion behind him , touched his own , it <br> felt as wet and cold as sepulchral marble . <br>  ",
           "pay",
           "('regard', 'NOUN')",
           -3.262207120313172
          ],
          [
           [
            "happened",
            "VERB"
           ],
           "sight",
           53,
           32,
           -0.7279204545631992,
           "<br> but this was the only one that ever happened <br> in touraine , seeing that the country is far <br> from egypt and from bohemia .",
           "happened touraine country",
           "('seeing', 'VERB')",
           "<br> she had never happened to see a young man <br> of mien and features so romantic and so striking <br> as young ravenswood ; but had she seen an <br> hundred his equals or his superiors in those particulars <br> , no one else would have been linked to <br> her heart by the strong associations of remembered danger <br> and escape , of gratitude , wonder , and <br> curiosity .",
           "happened young man",
           "('see', 'VERB')",
           "NA",
           "NA",
           "NA",
           -1.160304995949723
          ],
          [
           [
            "chance",
            "NOUN"
           ],
           "sight",
           68,
           41,
           -0.7299108366322558,
           "<br> he taught himself to answer all possible questions , <br> but on the morrow if by chance he met <br> one of the aforesaid princesses dressed out , seated <br> in a litter and escorted by her proud and <br> well - armed pages , he remained open - <br> mouthed , like a dog in the act of <br> catching flies , at the sight of sweet countenance <br> that so much inflamed him .",
           "chance aforesaid",
           "('met', 'VERB')",
           "<br> \" i think you had better , \" said <br> ravenswood , \" otherwise i see little chance of <br> their being attended to at all .",
           "little chance",
           "('see', 'VERB')",
           "NA",
           "NA",
           "NA",
           -3.3008795581513835
          ],
          [
           [
            "house",
            "NOUN"
           ],
           "sight",
           249,
           149,
           -0.7408334116059193,
           "<br> he turned , for a moment 's space to <br> reconnoitre the \" ben , \" or parlour end <br> of the house , and there saw a sight <br> scarce less affecting to his feelings -- a large <br> round table , covered for ten or twelve persons <br> , decored ( according to his own favourite terms <br> ) with napery as white as snow , grand <br> flagons of pewter , intermixed with one or two <br> silver cups , containing , as was probable , <br> something worthy the brilliancy of their outward appearance , <br> clean trenchers , cutty spoons , knives and forks <br> , sharp , burnished , and prompt for action <br> , which lay all displayed as for an especial <br> festival .  ",
           "house sight scarce",
           "('saw', 'VERB')",
           "<br> and , sir , were this otherwise , i <br> would not listen to a proposal from you , <br> or any of your house , seeing their hand <br> has been uniformly held up against the freedom of <br> the subject and the immunities of god 's kirk <br> .",
           "house hand",
           "('seeing', 'VERB')",
           "NA",
           "NA",
           "NA",
           -19.858970428495738
          ],
          [
           [
            "purpose",
            "NOUN"
           ],
           "sight",
           96,
           57,
           -0.7520724865564145,
           "<br> but what was most to our present purpose , <br> there were seen from the terrace two roads , <br> one leading from the east , and one from <br> the westward , which , crossing a ridge opposed <br> to the eminence on which the castle stood , <br> at different angles , gradually approached each other , <br> until they joined not far from the gate of <br> the avenue .",
           "purpose terrace",
           "('seen', 'VERB')",
           "<br> in most mothers this would have moved compassion ; <br> but lady ashton , compact and firm of purpose <br> , saw these waverings of health and intellect with <br> no greater sympathy than that with which the hostile <br> engineer regards the towers of a beleaguered city as <br> they reel under the discharge of his artillery ; <br> or rather , she considered these starts and inequalities <br> of temper as symptoms of lucy 's expiring resolution <br> ; as the angler , by the throes and <br> convulsive exertions of the fish which he has hooked <br> , becomes aware that he soon will be able <br> to land him .",
           "firm purpose waverings health",
           "('saw', 'VERB')",
           "NA",
           "NA",
           "NA",
           5.934786730097605
          ],
          [
           [
            "acquaintance",
            "NOUN"
           ],
           "sight",
           59,
           35,
           -0.7533600324168749,
           "<br> on arriving at the change - house of the <br> village of wolf 's hope , he unexpectedly met <br> with an acquaintance just alighting from his horse .",
           "hope unexpectedly acquaintance",
           "('met', 'VERB')",
           "<br> they were crossing the country to go to the <br> southward ; the roads were indifferent ; the accommodation <br> of the inns as execrable as possible ; the <br> lord keeper had been long acquainted intimately with one <br> of his correspondents , and , though more slightly <br> known to the marquis , had yet enough of <br> his lordship 's acquaintance to render the visit sufficiently <br> natural , and to shut the mouths of those <br> who might be disposed to impute it to a <br> political intrigue .",
           "acquaintance render sufficiently natural",
           "('visit', 'NOUN')",
           "NA",
           "NA",
           "NA",
           -9.979596037839066
          ],
          [
           [
            "day",
            "NOUN"
           ],
           "sight",
           359,
           212,
           -0.7599195792598522,
           "<br> i have seen the day when ten of the <br> bannocks which stand upon that board would have been <br> an acceptable dainty to as many men , that <br> were starving on hills and bogs , and in <br> caves of the earth , for the gospel 's <br> sake . \"  ",
           "day",
           "('seen', 'VERB')",
           "<br> indeed , the evidence of ravenswood 's infidelity began <br> to assume every day a more determined character .",
           "day character",
           "('determined', 'ADJ')",
           "NA",
           "NA",
           "NA",
           -18.55960687929222
          ],
          [
           [
            "sir",
            "NOUN"
           ],
           "sight",
           80,
           47,
           -0.7673392432097249,
           "<br> do , sir , come and see old alice <br> . \"  ",
           "sir come old alice",
           "('see', 'VERB')",
           "<br> ou , ye see , sir , \" said <br> the sexton , \" as for the auld gudesire <br> body of a lord , i lived on his <br> land when i was a swanking young chield , <br> and could hae blawn the trumpet wi ' ony <br> body , for i had wind eneugh then ; <br> and touching this trumpeter marine that i have heard <br> play afore the lords of the circuit , i <br> wad hae made nae mair",
           "ou sir",
           "('see', 'VERB')",
           "NA",
           "NA",
           "NA",
           -14.65107904768047
          ],
          [
           [
            "expect",
            "VERB"
           ],
           "sight",
           63,
           37,
           -0.7678265578709667,
           "<br> we arrived too late for the steam - boat <br> , and are obliged to wait till monday morning <br> ; but to - morrow we shall go to <br> church , where i expect to see what sort <br> of creatures the beaux are .  ",
           "expect sort creatures",
           "('see', 'VERB')",
           "NA",
           "NA",
           "NA",
           "NA",
           "NA",
           "NA",
           13.412743066877479
          ],
          [
           [
            "hope",
            "VERB"
           ],
           "sight",
           113,
           66,
           -0.7757848430567342,
           "<br> \" master of ravenswood , \" said sir william <br> ashton , with some embarrassment , \" i hope <br> you understand the christian law too well to suffer <br> the sun to set upon your anger . \" <br>  ",
           "hope christian law",
           "('understand', 'VERB')",
           "NA",
           "NA",
           "NA",
           "NA",
           "NA",
           "NA",
           2.782400017883297
          ],
          [
           [
            "looked",
            "VERB"
           ],
           "sight",
           186,
           108,
           -0.7842713089445628,
           "<br> they were at the very edge when the general <br> looked into the tawny eyes of the man who <br> had stolen his daughter .",
           "looked tawny man",
           "('eyes', 'NOUN')",
           "<br> then la portillone straightens the thread , and rubs <br> it in the wax of the candle , to <br> make it firm and straight ; then she looked <br> towards the eye of the bodkin , held by <br> the judge , slipping always to the right or <br> to the left .",
           "looked bodkin",
           "('eye', 'NOUN')",
           "<br> his eyes glistened as he looked upon a couple <br> who were obviously becoming attached , and who seemed <br> made for each other .",
           "glistened looked",
           "('eyes', 'NOUN')",
           -15.06215362594032
          ],
          [
           [
            "satisfaction",
            "NOUN"
           ],
           "sight",
           81,
           47,
           -0.7852611512069873,
           "<br> there was so much truth in this remark , <br> that the young man could only smile in silence <br> , while seymour , surveying the very plain exterior <br> of his new acquaintance , turned his eyes with <br> additional satisfaction towards a mirror that reflected his own <br> form from head to feet .  ",
           "acquaintance turned additional satisfaction",
           "('eyes', 'NOUN')",
           "NA",
           "NA",
           "NA",
           "NA",
           "NA",
           "NA",
           -20.43714273470165
          ],
          [
           [
            "look",
            "NOUN"
           ],
           "sight",
           147,
           85,
           -0.7902814086986627,
           "<br> as delafield turned his eye , at a little <br> loss to know whether to be pleased or not <br> with his own humility , he met a look <br> from charlotte that more than rewarded him for the <br> effort .",
           "humility look charlotte",
           "('met', 'VERB')",
           "<br> i fear neither his violence nor his weapons , <br> though some , \" she said , glancing a <br> look towards colonel ashton , \" who bear my <br> name appear more moved by them . \"  ",
           "said look colonel",
           "('glancing', 'VERB')",
           "NA",
           "NA",
           "NA",
           -2.6578443317994824
          ],
          [
           [
            "mean",
            "VERB"
           ],
           "sight",
           52,
           30,
           -0.7935491225325737,
           "<br> a raw scotchman , contrasted with a sharp londoner <br> , is very inadroit and awkward , be his <br> talents what they may ; and i suspect , <br> that even the most brilliant of your old class <br> - fellows have , in their professional visits to <br> this metropolis , had some experience of what i <br> mean .                                                             ",
           "metropolis mean",
           "('experience', 'NOUN')",
           "<br> it was in one of these short meetings , <br> each apparently occupied in admiring a fine display of <br> greenhouse plants , that she said--   \" i <br> have been thinking over the past , and trying <br> impartially to judge of the right and wrong , <br> i mean with regard to myself ; and i <br> must believe that i was right , much as <br> i suffered from it , that i was perfectly <br> right in being guided by the friend whom you <br> will love better than you do now .  ",
           "mean",
           "('regard', 'NOUN')",
           "<br> the look in the young countess ' eyes did <br> not mean love as the marquise understood it .",
           "young countess mean love",
           "('eyes', 'NOUN')",
           -6.07157166194506
          ],
          [
           [
            "trust",
            "VERB"
           ],
           "sight",
           52,
           30,
           -0.7935491225325737,
           "<br> as you have taken up the cross , and <br> become a follower of good and an eschewer of <br> evil , i trust i shall see you before <br> the altar , with a contrite heart and a <br> meek spirit .",
           "trust shall altar",
           "('see', 'VERB')",
           "<br> there is but little reason to doubt that , <br> ” said elizabeth , whose decided tones were changed <br> to a soft , melancholy voice ; “ i <br> trust we shall all meet again , and be <br> happy together .",
           "trust shall",
           "('meet', 'VERB')",
           "<br> there are , absolutely , but three young men <br> in the whole county who can be thought in <br> any manner as proper matches for us ; and <br> one has no chance here of forming such an <br> association as to give a girl an opportunity of <br> meeting with her congenial spirit , so that i <br> hope and trust your desire to see me will <br> continue as strong as mine will ever be to <br> see my julia .",
           "trust desire continue",
           "('see', 'VERB')",
           -13.856218323758636
          ],
          [
           [
            "wonder",
            "NOUN"
           ],
           "sight",
           59,
           34,
           -0.7951802081115018,
           "<br> the praises sung in honour of this lady had <br> such an effect , that the king came to <br> beauvoisis to gaze upon this wonder , and did <br> the sire the honour to sleep at beaumont , <br> remained there three days , and had a royal <br> hunt there with the queen and the whole court <br> .",
           "came beauvoisis wonder",
           "('gaze', 'VERB')",
           "NA",
           "NA",
           "NA",
           "NA",
           "NA",
           "NA",
           2.6706964157669333
          ],
          [
           [
            "valancourt",
            "PROPN"
           ],
           "sight",
           113,
           65,
           -0.7978111493867333,
           "<br> count de villefort had received them from authority which <br> he had no reason to doubt , and which <br> the imprudent conduct he had himself witnessed in valancourt <br> , had certainly induced him the more readily to <br> believe .",
           "conduct valancourt",
           "('witnessed', 'VERB')",
           "<br> when the first congratulations were over , and the <br> general joy became somewhat more tranquil , the count <br> withdrew with valancourt to the library , where a <br> long conversation passed between them , in which the <br> latter so clearly justified himself of the criminal parts <br> of the conduct , imputed to him , and <br> so candidly confessed and so feelingly lamented the follies <br> , which he had committed , that the count <br> was confirmed in his belief of all he had <br> hoped ; and , while he perceived so many <br> noble virtues in valancourt , and that experience had <br> taught him to detest the follies , which before <br> he had only not admired , he did not <br> scruple to believe , that he would pass through <br> life with the dignity of a wise and good <br> man , or to entrust to his care the <br> future happiness of emily st. aubert , for whom <br> he felt the solicitude of a parent .",
           "valancourt taught",
           "('experience', 'NOUN')",
           "<br> when they returned to the supper - room , <br> the countess and lady blanche met valancourt with sincere <br> congratulations ; and blanche , indeed , was so <br> much rejoiced to see emily returned to happiness , <br> as to forget , for a while , that <br> mons .",
           "countess lady blanche valancourt sincere congratulations",
           "('met', 'VERB')",
           -2.8785311468268597
          ],
          [
           [
            "wished",
            "VERB"
           ],
           "sight",
           120,
           69,
           -0.7983661388303496,
           "<br> this young man had long hair , and was <br> so handsome that the whole town wished to see <br> him hanged , both from regret and out of <br> curiosity .",
           "town wished hanged",
           "('see', 'VERB')",
           "<br> then she turned away her eyes , and wished <br> to go to the queen and request her assistance <br> in this desperate case , for she took pity <br> on her lover , but one of the captains <br> said to her , with great appearance of respect <br> , \" madame , we have orders not to <br> allow you to speak with man or woman , <br> even though it should be the queen or your <br> confessor .",
           "turned away wished",
           "('eyes', 'NOUN')",
           "<br> his pride , however , soon shook off this <br> feeling of dejection , and it gave way to <br> impatience upon finding that his volatile friend bucklaw seemed <br> in no hurry to return with his borrowed steed <br> , which ravenswood , before leaving the field , <br> wished to see restored to the obliging owner .",
           "field wished restored obliging",
           "('see', 'VERB')",
           6.626882559023475
          ],
          [
           [
            "morning",
            "NOUN"
           ],
           "sight",
           225,
           129,
           -0.8025539357937829,
           "<br> the next morning saw bucklaw and his faithful achates <br> , craigengelt , at ravenswood castle .",
           "morning bucklaw faithful",
           "('saw', 'VERB')",
           "NA",
           "NA",
           "NA",
           "NA",
           "NA",
           "NA",
           -13.081224869090917
          ],
          [
           [
            "come",
            "VERB"
           ],
           "sight",
           284,
           162,
           -0.8098971166200573,
           "<br> as they ran one by one past the master <br> , calling to each other to \" come and <br> see the auld tower blaw up in the lift <br> like the peelings of an ingan , \" he <br> could not but feel himself moved with indignation . <br> \"",
           "come auld tower blaw",
           "('see', 'VERB')",
           "NA",
           "NA",
           "NA",
           "NA",
           "NA",
           "NA",
           -5.82304802881979
          ],
          [
           [
            "object",
            "NOUN"
           ],
           "sight",
           162,
           92,
           -0.8162880468276119,
           "<br> there was about this time , in the village <br> of langdirdum , a peripatetic brother of the brush <br> , who exercised his vocation sub jove frigido , <br> the object of admiration of all the boys of <br> the village , but especially to dick tinto .",
           "object boys",
           "('admiration', 'NOUN')",
           "NA",
           "NA",
           "NA",
           "NA",
           "NA",
           "NA",
           9.476010170206063
          ],
          [
           [
            "london",
            "PROPN"
           ],
           "sight",
           62,
           35,
           -0.8249132934419086,
           "<br> since my last letter , we have been very <br> thrang in the way of seeing the curiosities of <br> london ; but i must go on regular , <br> and tell you all , which , i think <br> , it is my duty to do , that <br> you may let my people know .  ",
           "way curiosities london",
           "('seeing', 'VERB')",
           "<br> since the affair of the sermon , i have <br> withdrawn myself from trafficking so much as i did <br> in the missionary and charitable ploys that are so <br> in vogue with the pious here , which will <br> be all the better for my own people , <br> as i will keep for them what i was <br> giving to the unknown ; and it is my <br> design to write a book on almsgiving , to <br> show in what manner that christian duty may be <br> best fulfilled , which i doubt not will have <br> the effect of opening the eyes of many in <br> london to the true nature of the thing by <br> which i was myself beguiled in this vanity fair <br> , like a bird ensnared by the fowler . <br>  ",
           "effect opening london",
           "('eyes', 'NOUN')",
           "<br> she had been repeatedly very earnest in trying to <br> get anne included in the visit to london , <br> sensibly open to all the injustice and all the <br> discredit of the selfish arrangements which shut her out <br> , and on many lesser occasions had endeavoured to <br> give elizabeth the advantage of her own better judgement <br> and experience ; but always in vain :  ",
           "anne included london sensibly",
           "('visit', 'NOUN')",
           -14.465756531485157
          ]
         ],
         "hovertemplate": "literary_period=1700<br>Principal Component 1=%{x}<br>Principal Component 2=%{y}<br>word=%{customdata[0]}<br>modality=%{customdata[1]}<br>total_freq=%{customdata[2]}<br>total_freq_in_sense=%{customdata[3]}<br>PAI=%{customdata[4]}<br>Random Sentence 1=%{customdata[5]}<br>Random Context Window 1=%{customdata[6]}<br>Random Seed Words 1=%{customdata[7]}<br>Random Sentence 2=%{customdata[8]}<br>Random Context Window 2=%{customdata[9]}<br>Random Seed Words 2=%{customdata[10]}<br>Random Sentence 3=%{customdata[11]}<br>Random Context Window 3=%{customdata[12]}<br>Random Seed Words 3=%{customdata[13]}<extra></extra>",
         "legendgroup": "1700",
         "marker": {
          "color": "#ab63fa",
          "size": 12,
          "symbol": "circle"
         },
         "mode": "markers",
         "name": "1700",
         "orientation": "v",
         "showlegend": true,
         "type": "scatter",
         "x": [
          -2.045367093663067,
          13.505846508764577,
          -0.5135704232082771,
          8.161468376377934,
          11.827239586593501,
          -6.375909244878093,
          -1.911062431660551,
          -4.677713008685771,
          16.35190120650046,
          23.377900337565677,
          25.04204932478539,
          18.36370099974384,
          -13.589561406034353,
          23.035381970918102,
          24.97275633782232,
          -18.72355496002121,
          -12.812603674769308,
          2.7863220829958935,
          1.3746454144092253,
          3.383724379886199,
          15.997927177640705,
          14.012664043889771,
          9.150812395054164,
          19.585118070617998,
          -4.88075144623699,
          -11.657264915641576,
          14.64268678925922,
          12.037009009094344,
          -2.892311900621886,
          21.690055292403365,
          21.411527938004188,
          16.011406144739052,
          -10.760783573171313,
          6.581820123746899,
          -7.303835554749153,
          -3.6308295365538648,
          -7.351636995530836,
          28.785872588778723,
          -9.569223503443627,
          -17.558202668198266,
          20.50866165825818,
          2.3801119929051224,
          -9.079615240525044,
          17.661773089939846,
          -17.9318673343327,
          -9.301000524713631,
          7.553345589435442,
          -6.2891215388542925,
          -5.675137411718193,
          -10.087349709765029,
          -3.4768237969324503,
          21.4359010645012,
          4.321117828270924,
          11.952744381848891,
          0.6516084580153041,
          7.6860633314949425,
          5.932610961231167,
          18.339386212331085,
          -19.033083920041264,
          -18.794915522826038,
          -20.363844313450638,
          -6.519105886168761,
          10.990819873591631,
          42.289670519104526,
          7.818953566917721,
          39.32891516879396,
          29.14542485467872,
          19.285797501866526,
          13.842482736025133,
          5.6189298718619165,
          10.317653032266858,
          -14.672650615319505,
          21.461861518752396,
          -11.66357734157731,
          -21.456655272039587,
          25.451928498743428,
          -7.229758081733551,
          -6.11767287887727,
          -3.262207120313172,
          -1.160304995949723,
          -3.3008795581513835,
          -19.858970428495738,
          5.934786730097605,
          -9.979596037839066,
          -18.55960687929222,
          -14.65107904768047,
          13.412743066877479,
          2.782400017883297,
          -15.06215362594032,
          -20.43714273470165,
          -2.6578443317994824,
          -6.07157166194506,
          -13.856218323758636,
          2.6706964157669333,
          -2.8785311468268597,
          6.626882559023475,
          -13.081224869090917,
          -5.82304802881979,
          9.476010170206063,
          -14.465756531485157
         ],
         "xaxis": "x",
         "y": [
          5.418685211652961,
          4.4500541275878085,
          -6.916637889387541,
          15.157716744582448,
          4.030264447056863,
          -0.2683035742022419,
          10.54112237918204,
          3.0762142961501553,
          14.509916183805338,
          -10.725819197995447,
          -9.317743988472456,
          -1.3773859679349467,
          -10.739317443352462,
          7.1849995404987705,
          -18.8622714978928,
          -5.667850598936749,
          -4.630063441907673,
          11.856935118511984,
          -5.029578427440013,
          -5.138545088441947,
          -0.45248657633411155,
          17.36641653988151,
          3.8837555710666747,
          15.85890341910911,
          11.198802341497506,
          3.9918261012612266,
          7.028917501628099,
          18.078469019208917,
          0.43252395186212217,
          -13.444582931770858,
          2.7767735121262547,
          0.9639019592905607,
          5.542796583995236,
          -0.9751776500953419,
          1.651983367495433,
          -11.115438024382453,
          -9.701431822095996,
          -5.8718628221761,
          -11.378033474689271,
          -10.421354902195185,
          -13.049350263688606,
          9.364878328058236,
          -12.492617956981144,
          -6.837626690248181,
          5.598509150171707,
          -10.871679906588387,
          15.376611175554068,
          -15.245486282558618,
          -8.12473894660367,
          13.82936029081981,
          10.520659265900575,
          -15.806942261925952,
          1.6202323689132003,
          -7.4634577988553366,
          13.62584622953406,
          8.161147344273667,
          -10.181665610353528,
          19.229989176728544,
          -0.49438900615722936,
          2.63226448507145,
          -1.6055136222574895,
          -13.521595425419713,
          22.493807320048774,
          -9.595762756407083,
          -18.81568275254128,
          -8.352303668176106,
          -11.712678377591862,
          -5.849178205280235,
          19.29033701445018,
          -0.16028793518774043,
          -19.184086151972885,
          -2.0957380486273656,
          1.238207267475479,
          4.881427634125159,
          7.050100280594234,
          13.384437173120478,
          15.077129289630099,
          16.0947726747109,
          8.10814069695813,
          14.536831963025067,
          17.93035635912244,
          -1.0011537913100867,
          -13.51450435373777,
          -5.274954050708952,
          -3.5270695527239466,
          -10.25561416446655,
          15.471145048532307,
          -3.0197663862924253,
          12.102772461576913,
          7.3487196813388,
          -0.3730037257985085,
          5.119588274220062,
          -5.938733921455705,
          15.908939966774616,
          10.270839498452752,
          -5.373127199052901,
          -5.755557235507761,
          11.931195452278887,
          16.187938525413603,
          3.338399480546402
         ],
         "yaxis": "y"
        },
        {
         "customdata": [
          [
           [
            "tears",
            "PROPN"
           ],
           "sight",
           30,
           30,
           0,
           "<br> tears came to his eyes , not of grief <br> but of thankfulness ; his master was then seeking <br> him ; his master had not left him to <br> perish !",
           "tears came grief",
           "('eyes', 'NOUN')",
           "<br> tears came to my eyes then , not tears <br> of self - pity for my predicament , but <br> tears from a heart filled with a great love <br> -- a heart that sees the sun of its <br> life and its love setting even as it rises <br> .  ",
           "tears came tears",
           "('eyes', 'NOUN')",
           "<br> tears came to his eyes as he remembered her <br> childlike look , and winsome fanciful ways , and <br> shy tremulous grace .  ",
           "tears came remembered",
           "('eyes', 'NOUN')",
           29.969545448525807
          ],
          [
           [
            "unblinking",
            "ADJ"
           ],
           "sight",
           38,
           38,
           0,
           "<br> over it he crouched , so closely that his <br> great head seemed to be almost in the flame <br> at which he stared with unblinking eyes as he <br> had done at the sun , circumstances which added <br> to his terrifying appearance and made me think of <br> a certain region and its inhabitants .  ",
           "stared unblinking",
           "('eyes', 'NOUN')",
           "NA",
           "NA",
           "NA",
           "NA",
           "NA",
           "NA",
           51.07472128699331
          ],
          [
           [
            "scrutinizing",
            "ADJ"
           ],
           "sight",
           30,
           30,
           0,
           "<br> asked paulo , looking deep into her eyes with <br> a scrutinizing glance .  ",
           "eyes scrutinizing",
           "('glance', 'NOUN')",
           "<br> the magistrates acting under the alien act have been <br> requested to     direct a very scrutinizing eye to <br> the academies in our towns and other     places <br> , in which french tutors are employed , and <br> to all of that     nationality who profess to <br> be teachers in this country .  ",
           "direct scrutinizing academies",
           "('eye', 'NOUN')",
           "NA",
           "NA",
           "NA",
           47.331511257341624
          ],
          [
           [
            "lidded",
            "VERB"
           ],
           "sight",
           35,
           35,
           0,
           "<br> these oval , heavy - lidded eyes seemed to <br> look curiously at him .  ",
           "heavy lidded look curiously",
           "('eyes', 'NOUN')",
           "<br> his heavy - lidded eyes and the disorder of <br> his scanty hair made him look sleepy .",
           "heavy lidded disorder",
           "('eyes', 'NOUN')",
           "<br> at the head of this heterogeneous troop was an <br> official of the police , old and fat , <br> with a revolver in his right hand , his <br> moustache bristling with excitement , and a murderous glitter <br> in his heavy - lidded blue eyes .",
           "heavy lidded blue",
           "('eyes', 'NOUN')",
           47.60464629443895
          ],
          [
           [
            "mortem",
            "NOUN"
           ],
           "sight",
           35,
           35,
           0,
           "<br> that , after a short interval , he was <br> found to be dead , and that the doctor <br> made a post - mortem examination and found disease <br> of the heart . \"",
           "post mortem found disease",
           "('examination', 'NOUN')",
           "<br> considerable sympathy was expressed for the mother of the <br> deceased , who was greatly affected during the giving <br> of her own evidence , and that of dr. <br> birrell , who had made the post - mortem <br> examination of the deceased .   ",
           "post mortem deceased",
           "('examination', 'NOUN')",
           "NA",
           "NA",
           "NA",
           47.2377665150489
          ],
          [
           [
            "goggle",
            "NOUN"
           ],
           "sight",
           80,
           80,
           0,
           "<br> arm - holes had been cut in the sides <br> , for the sake not more of elegance than <br> of convenience ; but the dress , nevertheless , <br> prevented its proprietor from sitting as erect as his <br> associates ; and as he lay reclining against his <br> tressel , at an angle of forty - five <br> degrees , a pair of huge goggle eyes rolled <br> up their awful whites towards the ceiling in absolute <br> amazement at their own enormity .  ",
           "pair huge goggle rolled awful",
           "('eyes', 'NOUN')",
           "<br> \" we gasped , all goggle - eyed , <br> \" jist s'posin ' that there lion was to <br> shut his mouth !",
           "goggle jist s'posin",
           "('eyed', 'ADJ')",
           "NA",
           "NA",
           "NA",
           34.428133957756636
          ],
          [
           [
            "bloodshot",
            "ADJ"
           ],
           "sight",
           123,
           122,
           -0.011777167776353662,
           "<br> dona luisa had knelt instantly , with her eyes <br> fixed on the cross -- those great , bloodshot <br> eyes that could no longer weep .",
           "great bloodshot longer",
           "('eyes', 'NOUN')",
           "NA",
           "NA",
           "NA",
           "NA",
           "NA",
           "NA",
           -48.144594552265964
          ],
          [
           [
            "stripes",
            "PROPN"
           ],
           "sight",
           75,
           74,
           -0.019365324866931058,
           "<br> here , after a month 's wait , he <br> found opportunity to leave for new york on an <br> american ship , the stars and stripes .",
           "american ship stripes",
           "('stars', 'PROPN')",
           "NA",
           "NA",
           "NA",
           "NA",
           "NA",
           "NA",
           -66.76249062963713
          ],
          [
           [
            "blear",
            "NOUN"
           ],
           "sight",
           65,
           64,
           -0.02236781302845443,
           "<br> untidy women and blear - eyed men leaned over <br> the dilapidated fences , or lolled on mud - <br> tracked doorsteps .",
           "women blear men leaned",
           "('eyed', 'ADJ')",
           "<br> now the man looks ahead , and he is <br> blear - eyed as with old age and must <br> rub his eyes so that he can see the <br> stranger - man .  ",
           "blear old age",
           "('eyed', 'ADJ')",
           "<br> they were overtaken by the elder wilson , pale <br> , grimy , and blear - eyed , but <br> apparently , as strong and well as ever . <br>  ",
           "blear apparently",
           "('eyed', 'ADJ')",
           -33.8090177330368
          ],
          [
           [
            "yup",
            "PROPN"
           ],
           "sight",
           52,
           51,
           -0.028014376169596636,
           "<br> \" so clever was this alleged fraud , that <br> it is extremely doubtful if an action would lie <br> against see yup in the premises , there being <br> no legal evidence of the ' salting , ' <br> and none whatever of his actual allegation that the <br> gold - dust was the ordinary yield of the <br> tailings , that implication resting entirely with the committee <br> who examined it under false pretense , and who <br> subsequently forced the sale by intimidation . \"     ",
           "action lie yup premises",
           "('see', 'VERB')",
           "<br> \" yup , i see him .",
           "yup",
           "('see', 'VERB')",
           "NA",
           "NA",
           "NA",
           -74.7691748791239
          ],
          [
           [
            "twinkle",
            "VERB"
           ],
           "sight",
           37,
           36,
           -0.03952836418663734,
           "<br> here and there , some early lamps were seen <br> to twinkle in the distant city ; and in <br> the eastern quarter of the sky the lurid light <br> still hovered .",
           "early lamps twinkle",
           "('seen', 'VERB')",
           "<br> but there was no sign of a smile on <br> his face , nor was the kindly twinkle of <br> amusement to be seen in his eyes -- that <br> twinkle that i had learned to look for . <br>  ",
           "seen twinkle",
           "('eyes', 'NOUN')",
           "<br> it got to be pitch dark , at last <br> , and the multitude groaned with horror to feel <br> the cold uncanny night breezes fan through the place <br> and see the stars come out and twinkle in <br> the sky .  ",
           "place come twinkle",
           "('stars', 'NOUN')",
           -45.40811655534145
          ],
          [
           [
            "unwinking",
            "ADJ"
           ],
           "sight",
           33,
           32,
           -0.044394119358453395,
           "<br> \" something cold and terrible had taken his place <br> , something that could not see , and yet <br> looked upward with unwinking eyes .",
           "looked upward unwinking",
           "('eyes', 'NOUN')",
           "NA",
           "NA",
           "NA",
           "NA",
           "NA",
           "NA",
           -62.56278738990187
          ],
          [
           [
            "unseeing",
            "ADJ"
           ],
           "sight",
           139,
           134,
           -0.05285188226573499,
           "<br> ma'am mouton dropped her fork and stared at him <br> with unseeing eyes ; then , as she comprehended <br> his remark , she put her hand out to <br> him with a pitiful gesture .  ",
           "unseeing",
           "('eyes', 'NOUN')",
           "<br> the gray car had vanished ; and in the <br> center of the floor was georges , the chauffeur <br> , lying on his back with arms extended , <br> staring up at the ceiling with wide , unseeing <br> blue eyes .    ",
           "wide unseeing blue",
           "('eyes', 'NOUN')",
           "<br> she herself passed on with unseeing eyes .  ",
           "passed unseeing",
           "('eyes', 'NOUN')",
           -7.151855077993766
          ],
          [
           [
            "blankly",
            "ADJ"
           ],
           "sight",
           109,
           105,
           -0.053938807110803726,
           "<br> she stared at him blankly .  ",
           "blankly",
           "('stared', 'VERB')",
           "NA",
           "NA",
           "NA",
           "NA",
           "NA",
           "NA",
           -8.064923013384542
          ],
          [
           [
            "twinkling",
            "ADJ"
           ],
           "sight",
           54,
           52,
           -0.05444778402237647,
           "<br> his twinkling eyes played curiously over her face , <br> and she went on , meeting them with a <br> smile : \"",
           "twinkling played curiously",
           "('eyes', 'NOUN')",
           "<br> he was a twinkling - eyed , pimple - <br> faced man , with his hair standing upright all <br> over his head ; and as he stood with <br> one arm a - kimbo , holding up the <br> glass to the light with the other hand , <br> he looked quite friendly .",
           "twinkling pimple faced",
           "('eyed', 'ADJ')",
           "<br> he looked at her with twinkling eyes , full <br> of the triumph the spectator of his species feels <br> in signal exhibitions of human nature .  ",
           "twinkling",
           "('eyes', 'NOUN')",
           -19.409711205447405
          ],
          [
           [
            "bloodshot",
            "NOUN"
           ],
           "sight",
           236,
           227,
           -0.056094562070926286,
           "<br> from their bloodshot eyes stared the lust of blood <br> , the fury of conquest , and all the <br> aboriginal passions on which laputa had laid his spell <br> .  ",
           "bloodshot eyes lust blood",
           "('stared', 'VERB')",
           "<br> his face was more livid , his eyes more <br> bloodshot , and at the sight of me his <br> hand went to his belt , and his teeth <br> snapped .  ",
           "livid bloodshot",
           "('eyes', 'NOUN')",
           "NA",
           "NA",
           "NA",
           -57.61987453436426
          ],
          [
           [
            "fixedly",
            "ADV"
           ],
           "sight",
           431,
           414,
           -0.05805710158977284,
           "<br> there lay the skeleton - like frames with stiffened <br> legs and glassy eyes staring fixedly at the first <br> flies already attracted by their miserable carrion .  ",
           "legs glassy eyes fixedly",
           "('staring', 'VERB')",
           "NA",
           "NA",
           "NA",
           "NA",
           "NA",
           "NA",
           -50.581371071550834
          ],
          [
           [
            "lynx",
            "NOUN"
           ],
           "sight",
           76,
           73,
           -0.05810295456356828,
           "<br> this gave triplet a moment to recover himself ; <br> and mrs. woffington , whose lynx eye had comprehended <br> all at a glance , and who had determined <br> at once what line to take , came flying <br> in again , saying :   \" was n't <br> somebody inquiring for an angel ?",
           "woffington lynx comprehended",
           "('eye', 'NOUN')",
           "<br> it was a problem , nevertheless , to arrange <br> an interview , with van blarcom sitting at his <br> window , watching me like a lynx .",
           "window lynx",
           "('watching', 'VERB')",
           "<br> however much my figure might have resembled that of <br> the pitan , and , disguised in his armor <br> , might have deceived the lynx - eyed mahrattas <br> , into whose camp i was about to plunge <br> , it was evident that a single glance at <br> my fair face and auburn beard would have undeceived <br> the dullest blockhead in holkar 's army .",
           "deceived lynx mahrattas",
           "('eyed', 'ADJ')",
           29.95811839752931
          ],
          [
           [
            "bleared",
            "ADJ"
           ],
           "sight",
           50,
           48,
           -0.058893689053568565,
           "<br> i speculate if i shall ever be one of <br> those grotesque and melancholy beings , with bleared eyes <br> and running noses , swollen bellies and shrunken legs <br> !",
           "beings bleared running noses",
           "('eyes', 'NOUN')",
           "<br> this time she heard him and replied , turning <br> her old , bleared eyes slowly in his direction-\"good <br> morrow to yourself , sir , \" said she <br> , and the philosopher thought her old face was <br> a very kindly one .  ",
           "old bleared slowly direction-\"good",
           "('eyes', 'NOUN')",
           "NA",
           "NA",
           "NA",
           35.81812537208308
          ],
          [
           [
            "beady",
            "ADJ"
           ],
           "sight",
           171,
           164,
           -0.06030051026781425,
           "<br> he had a face the colour of french mustard <br> -- a sort of dirty green -- and bloodshot <br> , beady eyes with the whites all yellowed with <br> fever .",
           "bloodshot beady whites",
           "('eyes', 'NOUN')",
           "<br> he had black , beady eyes , a black <br> moustache fiercely turned up , and sallow skin . <br>  ",
           "black beady black moustache",
           "('eyes', 'NOUN')",
           "<br> there was lassen -- flushed , ugly , breathing <br> heavily , and watching the door with fixed , <br> beady eyes .",
           "fixed beady",
           "('eyes', 'NOUN')",
           -37.94112953044609
          ],
          [
           [
            "blankly",
            "NOUN"
           ],
           "sight",
           48,
           46,
           -0.061400544664143256,
           "<br> for a while he lay , gazing blankly at <br> the vast , pale cliff towering above , rising <br> moment by moment out of a subsiding tide of <br> darkness .  ",
           "lay blankly vast",
           "('gazing', 'VERB')",
           "<br> mr. ellery gazed blankly at her through the rain <br> - streaked dark .",
           "mr. ellery blankly",
           "('gazed', 'VERB')",
           "NA",
           "NA",
           "NA",
           -57.49603695303805
          ],
          [
           [
            "roved",
            "VERB"
           ],
           "sight",
           119,
           114,
           -0.06192774914320179,
           "<br> as her eyes roved from side to side , <br> she tried , with her hands , to keep <br> down the whirling of her wind - tossed skirts <br> .",
           "roved",
           "('eyes', 'NOUN')",
           "NA",
           "NA",
           "NA",
           "NA",
           "NA",
           "NA",
           26.19547746858976
          ],
          [
           [
            "tearless",
            "ADJ"
           ],
           "sight",
           47,
           45,
           -0.0627357553479626,
           "<br> he watched the deep , tearless sobs that shook <br> her breast : he had wounded her to death <br> ,-- his bonny margret !  ",
           "deep tearless",
           "('watched', 'VERB')",
           "<br> marguerite 's voice trembled when saying this as if <br> she were going to cry , although her eyes <br> were tearless .",
           "cry tearless",
           "('eyes', 'NOUN')",
           "NA",
           "NA",
           "NA",
           -41.453092019146325
          ],
          [
           [
            "twinkled",
            "VERB"
           ],
           "sight",
           347,
           332,
           -0.06375242123133612,
           "<br> \" that 's all right , i 'm glad <br> you do , \" answered jack , comfortably , <br> though his mind seemed a little absent and his <br> eyes twinkled when she spoke of molly . \"",
           "little absent twinkled spoke",
           "('eyes', 'NOUN')",
           "<br> jack 's eyes twinkled more than ever as he <br> helped jill settle herself in the boat , and <br> then with a whoop he tore over the beach <br> , as if practising for the race which was <br> to come off in the afternoon .  ",
           "jack twinkled",
           "('eyes', 'NOUN')",
           "<br> she looked at the cranberry , then at the <br> open door , and her eyes twinkled .",
           "door twinkled",
           "('eyes', 'NOUN')",
           -9.489256059286765
          ],
          [
           [
            "feast",
            "VERB"
           ],
           "sight",
           68,
           65,
           -0.06509502822188484,
           "<br> every new man manages to saunter round here to <br> get a sight of that receipt , and i <br> 've seen hoary old depositors outside edge around inside <br> , pretendin ' they wanted to see the dep <br> , jest to feast their eyes on that girl <br> 's name .",
           "jest feast girl",
           "('eyes', 'NOUN')",
           "<br> it was evident that she enjoyed the discussion and <br> the fact that it was   merely a pretext <br> for the lawyer to feast his eyes on her <br>  ",
           "lawyer feast",
           "('eyes', 'NOUN')",
           "NA",
           "NA",
           "NA",
           -40.69087895251662
          ],
          [
           [
            "bulging",
            "VERB"
           ],
           "sight",
           108,
           103,
           -0.06838697498025015,
           "<br> they sit and stare with bulging eyes at the <br> red coals and dancing flames , spurting out here <br> and there like tiny sabers .  ",
           "stare bulging red coals",
           "('eyes', 'NOUN')",
           "<br> just as we were starting on again the voortrekker <br> , whom i had set to watch at a <br> little distance , ran up with his eyes bulging <br> out of his head , and reported that he <br> had seen a basuto with an assegai hanging about <br> in the bush , as though to keep touch <br> with us , after which we delayed no more <br> .  ",
           "ran bulging",
           "('eyes', 'NOUN')",
           "<br> desnoyers suddenly recognized in one of the officers who <br> was talking , with eyes bulging with covetousness , <br> of the riches of paris , the chief thief <br> with the band on his arm .",
           "talking bulging covetousness",
           "('eyes', 'NOUN')",
           3.037505674150124
          ],
          [
           [
            "narrowed",
            "VERB"
           ],
           "sight",
           259,
           247,
           -0.06844105610187626,
           "<br> von gerhard gazed at blackie through narrowed lids as <br> he lighted his cigar .",
           "von gerhard blackie narrowed",
           "('gazed', 'VERB')",
           "<br> he seemed more taciturn than usual , seated there <br> at the wheel , looking straight ahead at the <br> ribbon of road , his eyes narrowed down to <br> mere keen blue slits .",
           "road narrowed mere",
           "('eyes', 'NOUN')",
           "<br> she listened to me unreadable , unmoved , narrowed <br> eyes , closed lips , slightly flushed face , <br> as if carved six thousand years ago in order <br> to fix for ever that something secret and obscure <br> which is in all women .",
           "unmoved narrowed closed lips",
           "('eyes', 'NOUN')",
           26.100980251993533
          ],
          [
           [
            "glassy",
            "ADJ"
           ],
           "sight",
           183,
           174,
           -0.07275634243531423,
           "<br> hearing the outcry , chichi hastened in in time <br> to see her father slipping from his wife 's <br> arms to the sofa , and from there to <br> the floor , with glassy , staring eyes , <br> and foaming at the mouth .  ",
           "glassy staring foaming",
           "('eyes', 'NOUN')",
           "<br> suddenly the thought of his master 's eye grew <br> terrible to him : it was a steady , <br> cold , glassy eye ; but he opened the <br> door and went in .",
           "cold glassy opened",
           "('eye', 'NOUN')",
           "NA",
           "NA",
           "NA",
           -7.845053408236123
          ],
          [
           [
            "bulged",
            "VERB"
           ],
           "sight",
           40,
           38,
           -0.07400058144377693,
           "<br> his eyes bulged .",
           "bulged",
           "('eyes', 'NOUN')",
           "NA",
           "NA",
           "NA",
           "NA",
           "NA",
           "NA",
           -12.43367729501259
          ],
          [
           [
            "lustreless",
            "ADJ"
           ],
           "sight",
           39,
           37,
           -0.07594885323329863,
           "<br> the twisted limbs , the gaping mouths , the <br> staring lustreless eyes , fascinated him .  ",
           "staring lustreless fascinated",
           "('eyes', 'NOUN')",
           "NA",
           "NA",
           "NA",
           "NA",
           "NA",
           "NA",
           -21.226023380772755
          ],
          [
           [
            "immovably",
            "ADV"
           ],
           "sight",
           38,
           36,
           -0.07800251200127321,
           "<br> staring and immovably their eyes were now fixed upon <br> the silent pair sitting in the bright moonlight which <br> surrounded them as with a glory .",
           "staring immovably fixed",
           "('eyes', 'NOUN')",
           "<br> then his gaze directed itself immovably upon goisvintha , <br> as she stood at a little distance from him <br> , with her blood - stained knife , silent <br> as himself .   ",
           "directed immovably",
           "('gaze', 'NOUN')",
           "NA",
           "NA",
           "NA",
           2.6926849079435455
          ],
          [
           [
            "unflinchingly",
            "ADV"
           ],
           "sight",
           38,
           36,
           -0.07800251200127321,
           "<br> diantha met his eyes unflinchingly .",
           "diantha met unflinchingly",
           "('eyes', 'NOUN')",
           "<br> jem 's face became very red at the allusion <br> he made to mary , but his honest , <br> fearless eyes had met mr. carson 's penetrating gaze <br> unflinchingly , and had carried conviction of his innocence <br> and truthfulness .  ",
           "mr. carson penetrating unflinchingly",
           "('gaze', 'NOUN')",
           "NA",
           "NA",
           "NA",
           -61.49940156167472
          ],
          [
           [
            "shifty",
            "ADJ"
           ],
           "sight",
           57,
           54,
           -0.07800251200127321,
           "<br> he looked at the lawyer 's fleshy face , <br> blue - black where it was shaven , and <br> at mr. billings ' shifty eyes and mouth , <br> which its muscles could not quite keep in place <br> .",
           "mr. billings shifty mouth",
           "('eyes', 'NOUN')",
           "NA",
           "NA",
           "NA",
           "NA",
           "NA",
           "NA",
           8.479980250822706
          ],
          [
           [
            "sidelong",
            "ADJ"
           ],
           "sight",
           240,
           227,
           -0.08034210831760359,
           "<br> she cast a sidelong glance as she spoke , <br> and seeing that mrs. minot was looking for the <br> letter , hid her face and lay so still <br> she could hear the rustle of the paper as <br> it was taken from the floor .",
           "cast sidelong spoke",
           "('glance', 'NOUN')",
           "<br> with a sidelong glance at his parents , he <br> picked up the instrument -- john holly had not <br> forgotten his own youth .",
           "sidelong parents",
           "('glance', 'NOUN')",
           "NA",
           "NA",
           "NA",
           -50.51302672828737
          ],
          [
           [
            "fade",
            "NOUN"
           ],
           "sight",
           55,
           52,
           -0.08091999538356748,
           "<br> mr. carson stood on the front - door step <br> , feeling the refreshment of the caller morning air <br> , and seeing the starlight fade away into dawn <br> .  ",
           "morning air starlight fade away",
           "('seeing', 'VERB')",
           "NA",
           "NA",
           "NA",
           "NA",
           "NA",
           "NA",
           1.7829199978454844
          ],
          [
           [
            "twinkle",
            "NOUN"
           ],
           "sight",
           384,
           363,
           -0.0811367627254055,
           "<br> \" as much as you like , \" answered <br> anscombe with a little drawl and twinkle of the <br> eye , which always showed that he was amused <br> .",
           "twinkle showed",
           "('eye', 'NOUN')",
           "<br> to an undiscerning eye the latter would have looked <br> much as she always did -- plump and matronly <br> , with brown hair drawn back from the forehead <br> and parted in the middle ; keen brown eyes <br> with a humorous twinkle in them -- this was <br> the keziah coffin the later generation of trumet knew <br> so well .  ",
           "middle keen brown humorous twinkle",
           "('eyes', 'NOUN')",
           "<br> there was a grim twinkle in his eye . <br> \"",
           "grim twinkle",
           "('eye', 'NOUN')",
           -45.16443820781991
          ],
          [
           [
            "twinkling",
            "VERB"
           ],
           "sight",
           329,
           311,
           -0.08117300360463886,
           "<br> a thousand generations of departed souls are speaking to <br> us in words of   twinkling stars .",
           "words twinkling",
           "('stars', 'NOUN')",
           "<br> the man had interrupted his monologue , heard only <br> by the black masses of vegetation , the blue <br> shadows perforated by the reddish tremors of the street <br> lights , the summer night with its cupola of <br> warm breezes and twinkling stars .",
           "warm breezes twinkling",
           "('stars', 'NOUN')",
           "<br> the girl , her eyes twinkling , took up <br> her jacket and hat .  ",
           "girl twinkling took",
           "('eyes', 'NOUN')",
           -46.93480922290451
          ],
          [
           [
            "narrowing",
            "VERB"
           ],
           "sight",
           54,
           51,
           -0.082462160191973,
           "<br> \" and some of 'em might , by accident <br> , vote the republican ticket , \" mr. pardriff <br> retorted , narrowing his eyes a little .  ",
           "retorted narrowing little",
           "('eyes', 'NOUN')",
           "<br> he glanced sharply at her from narrowing eyes .",
           "narrowing",
           "('eyes', 'NOUN')",
           "NA",
           "NA",
           "NA",
           -59.391387416112714
          ],
          [
           [
            "squinting",
            "VERB"
           ],
           "sight",
           71,
           67,
           -0.08365792904690969,
           "<br> the prelate 's countenance seemed uneasy and morose ; <br> his complexion was still yellow and bilious ; the <br> brown circle which surrounded his black , squinting eyes <br> appeared still darker than usual .  ",
           "black squinting appeared darker",
           "('eyes', 'NOUN')",
           "NA",
           "NA",
           "NA",
           "NA",
           "NA",
           "NA",
           30.468780173312215
          ],
          [
           [
            "unflinching",
            "ADJ"
           ],
           "sight",
           35,
           33,
           -0.08488889758651305,
           "<br> but the instant the truth flashed upon him he <br> fixed his bright clear eyes , flaming with indignation <br> , upon the counsellor , whose look fell at <br> last before that stern unflinching gaze .  ",
           "stern unflinching",
           "('gaze', 'NOUN')",
           "NA",
           "NA",
           "NA",
           "NA",
           "NA",
           "NA",
           5.137944449256458
          ],
          [
           [
            "twinkling",
            "NOUN"
           ],
           "sight",
           165,
           155,
           -0.09019780897157814,
           "<br> and , in the twinkling of an eye , <br> i beat him once making thirteen off the balls <br> without stopping .  ",
           "twinkling beat",
           "('eye', 'NOUN')",
           "<br> on such a night , of course , he <br> peers upon a world of blackness , where the <br> waters wheel and boil , where the waves joust <br> together with the noise of an explosion , and <br> the foam towers and vanishes in the twinkling of <br> an eye .",
           "twinkling",
           "('eye', 'NOUN')",
           "<br> hubert of senlis , and hugh of paris , <br> have their eyes on us , and were the <br> boy to be missed , the grim old harcourt <br> would have all the pirates of his land on <br> us in the twinkling of an eye .  ",
           "twinkling",
           "('eye', 'NOUN')",
           14.595943489276776
          ],
          [
           [
            "vacantly",
            "ADV"
           ],
           "sight",
           198,
           186,
           -0.09019780897157814,
           "<br> but when his attitude had remained unchanged for more <br> than half - an - hour , his eyes <br> gazing vacantly and fixedly at the fire , no <br> sound but now and then a deep- drawn sigh <br> to break the weary ticking of the clock , <br> and the drip - drop from the roof without",
           "hour eyes vacantly fixedly",
           "('gazing', 'VERB')",
           "NA",
           "NA",
           "NA",
           "NA",
           "NA",
           "NA",
           -83.94741808287739
          ],
          [
           [
            "casting",
            "VERB"
           ],
           "sight",
           706,
           663,
           -0.09065931315859257,
           "<br> those who were passing along the boulevard might see <br> them by merely casting their eyes toward the garden <br> .",
           "merely casting garden",
           "('eyes', 'NOUN')",
           "<br> all the pedestrians were casting curious glances at the <br> elegant lady and her companion seated in the shadow <br> of the shrubbery with the timid yet would - <br> be natural look of those who desire to hide <br> themselves , yet at the same time feign a <br> casual air .  ",
           "pedestrians casting curious elegant lady",
           "('glances', 'NOUN')",
           "<br> more adventures , he thought , casting a somewhat <br> contemptuous glance at the physique of the other man <br> .  ",
           "casting somewhat contemptuous physique",
           "('glance', 'NOUN')",
           -34.596998009779796
          ],
          [
           [
            "dazzle",
            "VERB"
           ],
           "sight",
           32,
           30,
           -0.09310940439148148,
           "<br> not like the beggar , humbly imploring for a <br> crust in the name of the lord , nor <br> like the jeweller displaying his precious stones to dazzle <br> and tempt the eye , he comes to the <br> world ,-- nay , in accents of tyrtaeus this <br> commoner of nizhni novgorod spurs on his troops of <br> freedom - loving heroes to conquer , as it <br> were , the placid , self - satisfied literatures <br> of to - day , and bring new life <br> to pale , bloodless frames .  ",
           "dazzle tempt comes",
           "('eye', 'NOUN')",
           "<br> we revel in pantomimes — not because they dazzle <br> one ’s eyes with tinsel and gold leaf ; <br> not because they present to us , once again <br> , the well - beloved chalked faces , and <br> goggle eyes of our childhood ; not even because <br> , like christmas - day , and twelfth - <br> night , and shrove - tuesday , and one <br> ’s own birthday , they come to us but <br> once a year ;— our attachment is founded on <br> a graver and a very different reason .",
           "dazzle tinsel gold",
           "('eyes', 'NOUN')",
           "<br> she remembered the wonderful flourishes she had so much <br> admired in those days , while she sat by <br> dictating , and jem , in all the pride <br> of newly - acquired penmanship , used to dazzle <br> her eyes by extraordinary graces and twirls .  ",
           "dazzle extraordinary graces",
           "('eyes', 'NOUN')",
           -32.2737117451192
          ],
          [
           [
            "argus",
            "PROPN"
           ],
           "sight",
           32,
           30,
           -0.09310940439148148,
           "<br> because these men were mere clods , bold enough <br> and clever enough in their own rude way , <br> but no match for the law , with its <br> argus eyes and its briarean hands .",
           "argus briarean hands",
           "('eyes', 'NOUN')",
           "NA",
           "NA",
           "NA",
           "NA",
           "NA",
           "NA",
           -45.39409713675754
          ],
          [
           [
            "averted",
            "VERB"
           ],
           "sight",
           332,
           311,
           -0.09426866121632224,
           "<br> he averted his eyes so as not to look <br> at the rigid and grotesque bodies piled above him <br> at the edge of the pit , ready to <br> be tumbled in .",
           "averted",
           "('eyes', 'NOUN')",
           "<br> perhaps captain laurier did not see very clearly , <br> but she had looked at him frankly and then <br> hastily averted her eyes so as to evade his <br> greeting . . . .",
           "hastily averted evade",
           "('eyes', 'NOUN')",
           "NA",
           "NA",
           "NA",
           -21.125708940363577
          ],
          [
           [
            "lustrous",
            "ADJ"
           ],
           "sight",
           172,
           161,
           -0.09534787658748096,
           "<br> she paid for her small purchase , and with <br> a farewell glance of her lustrous eyes , she <br> left him .",
           "glance lustrous left",
           "('eyes', 'NOUN')",
           "NA",
           "NA",
           "NA",
           "NA",
           "NA",
           "NA",
           -62.64384334998991
          ],
          [
           [
            "sparkle",
            "VERB"
           ],
           "sight",
           76,
           71,
           -0.09818039393890342,
           "<br> it gained in its present refinement as much as <br> it had lost of its former gaiety ; it <br> had its own simple attraction still , though it <br> failed to sparkle to the eye with its accustomed <br> illuminations , or to please the ear by the <br> music and laughter , which rose from it in <br> times of peace .  ",
           "sparkle accustomed illuminations",
           "('eye', 'NOUN')",
           "<br> \" if you look at the white petals you <br> 'll see that they sparkle like marble , and <br> go winding a long way down to the middle <br> of the flower where it grows sort of rosy <br> ; and in among the small , curly leaves <br> , like fringed curtains , you can see the <br> little green fairy sitting all alone .",
           "white petals sparkle",
           "('see', 'VERB')",
           "NA",
           "NA",
           "NA",
           -27.374787432265673
          ],
          [
           [
            "shading",
            "VERB"
           ],
           "sight",
           212,
           198,
           -0.09856383448358953,
           "<br> at this he leaned his head on his arm <br> and sat so long at the table shading his <br> eyes with his hand that i had to ask <br> , calmly — you know — whether he wanted <br> me to have him turned out into the corridor <br> .  ",
           "table shading hand",
           "('eyes', 'NOUN')",
           "<br> in front of the great hall of the college <br> a statue stands , the figure of a black <br> man shading his eyes with his hands and looking <br> far over the plains to the rooirand .  ",
           "black man shading hands",
           "('eyes', 'NOUN')",
           "NA",
           "NA",
           "NA",
           -1.7097883882377507
          ],
          [
           [
            "glazing",
            "VERB"
           ],
           "sight",
           45,
           42,
           -0.0995356735509144,
           "<br> as i saw the faithful eyes glazing in death <br> , and knew that i had lost the best <br> of all comrades , i went clean berserk mad <br> .",
           "saw faithful glazing death",
           "('eyes', 'NOUN')",
           "NA",
           "NA",
           "NA",
           "NA",
           "NA",
           "NA",
           -28.095015312722357
          ],
          [
           [
            "hazel",
            "NOUN"
           ],
           "sight",
           234,
           218,
           -0.10218039480647813,
           "<br> his hazel   eyes , however , had a <br> worn and wistful look in them .  ",
           "hazel",
           "('eyes', 'NOUN')",
           "NA",
           "NA",
           "NA",
           "NA",
           "NA",
           "NA",
           -17.809970196551603
          ],
          [
           [
            "flashing",
            "NOUN"
           ],
           "sight",
           555,
           517,
           -0.10232349092253362,
           "<br> he had none of the squat and preposterous negro <br> lineaments , but a hawk nose like an arab <br> , dark flashing eyes , and a cruel and <br> resolute mouth .  ",
           "arab dark flashing cruel",
           "('eyes', 'NOUN')",
           "<br> for there was the curved nose , the deep <br> flashing eyes , and the cruel lips of my <br> enemy of the kirkcaple shore .  ",
           "deep flashing cruel",
           "('eyes', 'NOUN')",
           "NA",
           "NA",
           "NA",
           -70.35727059580118
          ],
          [
           [
            "bird's",
            "NOUN"
           ],
           "sight",
           73,
           68,
           -0.10236171762967791,
           "<br> \" asked smith , cramming a plug of bird's <br> - eye into his briar with his forefinger . <br>  ",
           "plug bird's briar",
           "('eye', 'NOUN')",
           "<br> mary saw that the grapes were sour , and <br> the next day she set out herself , as <br> her father could not afford to lose another day <br> 's work ; and before night ( as yesterday <br> 's experience had considerably lowered her ideas ) she <br> had engaged herself as apprentice ( so called , <br> though there were no deeds or indentures to the <br> bond ) to a certain miss simmonds , milliner <br> and dressmaker , in a respectable little street leading <br> off ardwick green , where her business was duly <br> announced in gold letters on a black ground , <br> enclosed in a bird's - eye maple frame , <br> and stuck in the front - parlour window ; <br> where the workwomen were called \" her young ladies <br> \" ; and where mary was to work for <br> two years without any remuneration , on consideration of <br> being taught the business ; and where afterwards she <br> was to dine and have tea , with a <br> small quarterly salary ( paid quarterly because so much <br> more genteel than by the week ) , a <br> very small one , divisible into a minute weekly <br> pittance .  ",
           "bird's maple frame",
           "('eye', 'NOUN')",
           "NA",
           "NA",
           "NA",
           -25.711058600039927
          ],
          [
           [
            "glisten",
            "VERB"
           ],
           "sight",
           58,
           54,
           -0.10309349296410361,
           "<br> they played for a long time with it , <br> letting the heavy , yellow shower slip through their <br> fingers and watching it glisten in the sunshine .",
           "fingers glisten",
           "('watching', 'VERB')",
           "NA",
           "NA",
           "NA",
           "NA",
           "NA",
           "NA",
           32.02028544635847
          ],
          [
           [
            "retreating",
            "ADJ"
           ],
           "sight",
           43,
           40,
           -0.10433665981473561,
           "<br> she watched his retreating figure with eyes that grew <br> slowly misty ; he had been such a jolly <br> comely boy - friend , and they had had <br> such good times together .  ",
           "retreating figure grew slowly misty",
           "('eyes', 'NOUN')",
           "NA",
           "NA",
           "NA",
           "NA",
           "NA",
           "NA",
           -16.980512173859232
          ],
          [
           [
            "searchingly",
            "ADV"
           ],
           "sight",
           112,
           104,
           -0.10691520391651191,
           "<br> the hand that had rested on the buckle of <br> his sword - belt slipped quietly to his side <br> , and he deliberately stepped up to gregory , <br> his eyes set searchingly upon the pale , flabby <br> face before him .",
           "gregory set searchingly",
           "('eyes', 'NOUN')",
           "<br> during mr. clapp 's abusive remarks , and impudent <br> insinuations against himself and mr. wyllys , hazlehurst , <br> placing one arm on the table before him , <br> leaned a little , forward , and fixed his <br> eye steadily , but searchingly , on the face <br> of the speaker .",
           "fixed steadily searchingly",
           "('eye', 'NOUN')",
           "<br> \" she demanded , fixing her dark eyes upon <br> him searchingly .  ",
           "fixing dark searchingly",
           "('eyes', 'NOUN')",
           -79.55623478769981
          ],
          [
           [
            "blinking",
            "VERB"
           ],
           "sight",
           238,
           221,
           -0.10691520391651191,
           "<br> but as he turned to the door it opened <br> from the inside and the king came toward them <br> , shivering and blinking his eyes in the bright <br> sunlight .  ",
           "shivering blinking bright sunlight",
           "('eyes', 'NOUN')",
           "<br> ' only a madman could have done it , <br> ' he said , blinking his eyes at the <br> green linn .   '",
           "said blinking green linn",
           "('eyes', 'NOUN')",
           "NA",
           "NA",
           "NA",
           -50.37365328290822
          ],
          [
           [
            "ablaze",
            "ADJ"
           ],
           "sight",
           56,
           52,
           -0.10691520391651191,
           "<br> the impassioned revivalist -- his eyes ablaze with fever <br> , his lank hair wet with perspiration , hanging <br> beside his heavy but weak jaws -- was concluding <br> a fervent exhortation to his auditors to confess their <br> sins , \" accept conviction , \" and regenerate <br> then and there , without delay .",
           "impassioned revivalist ablaze fever",
           "('eyes', 'NOUN')",
           "<br> crispin was upon his feet , his harsh countenance <br> thrust into the very face of the minister ; <br> his eyes ablaze .  ",
           "minister ablaze",
           "('eyes', 'NOUN')",
           "NA",
           "NA",
           "NA",
           -99.77408685521598
          ],
          [
           [
            "steadfastly",
            "ADV"
           ],
           "sight",
           193,
           179,
           -0.10864126000382406,
           "<br> the boy regarded him steadfastly .  ",
           "boy steadfastly",
           "('regarded', 'VERB')",
           "NA",
           "NA",
           "NA",
           "NA",
           "NA",
           "NA",
           -48.81017159076897
          ],
          [
           [
            "downcast",
            "NOUN"
           ],
           "sight",
           53,
           49,
           -0.11321061044799095,
           "<br> \" only look at his low , resolute brow <br> , his downcast eye , his white compressed lips <br> .  ",
           "brow downcast white compressed",
           "('eye', 'NOUN')",
           "<br> if others are to be influenced by such trifles <br> as you are , it would have been much <br> better if the prison barber had cut his hair <br> a little previous to the trial ; and as <br> for downcast eye , and compressed lip , it <br> is all part and parcel of his inward agitation <br> just now ; nothing to do with character , <br> my good fellow . \"  ",
           "downcast compressed lip",
           "('eye', 'NOUN')",
           "NA",
           "NA",
           "NA",
           -17.929826126102345
          ],
          [
           [
            "firmament",
            "NOUN"
           ],
           "sight",
           52,
           48,
           -0.1154772174199359,
           "<br> when winds blow and oceans roar upon the face <br> of the earth thou hearest my voice ; when <br> thou gazest on the starry firmament thou seest my <br> countenance ; when the spring blooms out in flowers <br> , that is my smile , harmachis .",
           "thou gazest firmament thou seest",
           "('starry', 'ADJ')",
           "<br> below them , the tempest ; above them , <br> the starry firmament , tranquil , mute , impassible <br> , with the moon projecting her peaceful rays over <br> these angry clouds .  ",
           "firmament tranquil",
           "('starry', 'ADJ')",
           "<br> he says you are out of place on the <br> stage , and wants to take the star from <br> its firmament , and put it in a cottage <br> . \"  ",
           "wants firmament",
           "('star', 'NOUN')",
           -38.05546089598631
          ],
          [
           [
            "bull's",
            "NOUN"
           ],
           "sight",
           130,
           120,
           -0.1154772174199359,
           "<br> then came a bull's - eye flash of struggling <br> moonshine , which disclosed their four figures standing huddled <br> from the wind in a raffle of flying drapery <br> , and not without a considerable need for more <br> .  ",
           "came bull's flash struggling moonshine",
           "('eye', 'NOUN')",
           "<br> the light which shone through the dirty and tightly <br> closed \" bull's - eye \" window showed a <br> tumbled bunk , the blankets soiled and streaked .",
           "closed bull's window showed",
           "('eye', 'NOUN')",
           "NA",
           "NA",
           "NA",
           -48.23454413040771
          ],
          [
           [
            "fixed",
            "VERB"
           ],
           "sight",
           5502,
           5074,
           -0.11683262025227135,
           "<br> while talking they all kept their eyes fixed on <br> the red fire , or watched the smoke from <br> their pipes drifting and curling away against the blackness <br> , and disappearing as suddenly as lightning .  ",
           "kept fixed red",
           "('eyes', 'NOUN')",
           "<br> he had a strange disinclination to look at the <br> girl although he felt her eyes fixed steadily on <br> him .",
           "felt fixed steadily",
           "('eyes', 'NOUN')",
           "<br> there was a low , wooden form fixed to <br> the wall , running quite round the room , <br> and on this , far apart from each other <br> , the two men were seated , with their <br> elbows resting on their knees , their heads propped <br> upon their hands , and each of them with <br> an unwavering gaze fixed on the floor between his <br> feet .  ",
           "unwavering fixed floor",
           "('gaze', 'NOUN')",
           -14.936347606765166
          ],
          [
           [
            "constellations",
            "NOUN"
           ],
           "sight",
           38,
           35,
           -0.11864449649861908,
           "<br> if the sky had cleared for a single instant <br> , a glance at the familiar constellations would have <br> set me right .  ",
           "single instant familiar constellations",
           "('glance', 'NOUN')",
           "<br> once again men set their eyes upon the old <br> constellations they had counted lost to them forever . <br>  ",
           "men set old constellations",
           "('eyes', 'NOUN')",
           "NA",
           "NA",
           "NA",
           -12.911045927550147
          ],
          [
           [
            "flashing",
            "VERB"
           ],
           "sight",
           475,
           437,
           -0.12029423371771177,
           "<br> she arose with catlike ease and suddenness to her <br> full height , her eyes flashing , her nostrils <br> quivering like a deer 's .  ",
           "height flashing nostrils",
           "('eyes', 'NOUN')",
           "<br> i became aware of mrs. kalmanovitch 's fire - <br> flashing eyes , and my efforts to   entertain <br> her daughter were a poor performance   the kalmanovitch <br> family left immediately after supper , scarcely making their <br>   farewells .",
           "fire flashing efforts",
           "('eyes', 'NOUN')",
           "<br> louise was very pale but her eyes were flashing <br> fire .  ",
           "pale flashing fire",
           "('eyes', 'NOUN')",
           21.046207833161027
          ],
          [
           [
            "slant",
            "ADJ"
           ],
           "sight",
           37,
           34,
           -0.12199052437861028,
           "<br> if you 've never been associated , me lad <br> , with half a dozen most divilishly polite senors <br> , each one of them watching the others out <br> of the corner of his slant eyes for fear <br> they are going to betray him or assassinate him <br> first , you 'll never know the joys of <br> life in this peaceful and contented land of indolence <br> .",
           "corner slant fear",
           "('eyes', 'NOUN')",
           "<br> and if in the meantime he should discover those <br> rifles , or one of those slant - eyed <br> senors should turn out a benedict arnold , what <br> then , my friend ? \"  ",
           "slant senors turn",
           "('eyed', 'ADJ')",
           "<br> there were slavonian hunters , fair - skinned and <br> mighty - muscled ; short , squat finns , <br> with flat noses and round faces ; siberian half <br> - breeds , whose noses were more like eagle <br> - beaks ; and lean , slant - eyed <br> men , who bore in their veins the mongol <br> and tartar blood as well as the blood of <br> the slav .  ",
           "lean slant men bore",
           "('eyed', 'ADJ')",
           -49.14035868902154
          ],
          [
           [
            "unwinking",
            "VERB"
           ],
           "sight",
           37,
           34,
           -0.12199052437861028,
           "<br> the cripple stood all night , his bright , <br> luminous eyes gazing clear and unwinking at the moonlight <br> , listening to his heart song of the sea <br> .    ",
           "bright luminous eyes clear unwinking",
           "('gazing', 'VERB')",
           "<br> instead he stood stock still , returning phineas babbitt <br> 's glare with a steady , unwinking gaze . <br>  ",
           "steady unwinking",
           "('gaze', 'NOUN')",
           "<br> every eye was fixed in unwinking anxiety , and <br> people 's very breathing seemed stilled in suspense . <br>  ",
           "fixed unwinking",
           "('eye', 'NOUN')",
           0.05669892268755152
          ],
          [
           [
            "minutely",
            "ADV"
           ],
           "sight",
           86,
           79,
           -0.12248400652499507,
           "<br> to the right , at the lower extremity , <br> will be noticed the appearance of a small opening <br> ; this is the fissure alluded to above , <br> and to examine which more minutely than before was <br> the object of our second visit .",
           "minutely",
           "('examine', 'VERB')",
           "<br> then i minutely examined my clothes and thought that <br> everything looked old , worn and threadbare .  ",
           "minutely clothes thought",
           "('examined', 'VERB')",
           "NA",
           "NA",
           "NA",
           -0.4877345846534933
          ],
          [
           [
            "wonderingly",
            "ADV"
           ],
           "sight",
           134,
           123,
           -0.12357468511853259,
           "<br> laverick glanced at his companion wonderingly .  ",
           "laverick companion wonderingly",
           "('glanced', 'VERB')",
           "NA",
           "NA",
           "NA",
           "NA",
           "NA",
           "NA",
           -79.99887881462277
          ],
          [
           [
            "downcast",
            "ADJ"
           ],
           "sight",
           365,
           335,
           -0.12373536842224479,
           "<br> i recrossed the room with measured steps , with <br> downcast eyes , and approaching the couch without raising <br> them from the carpet i sank down on my <br> knees and leaned my forehead on its edge . <br>  ",
           "steps downcast approaching",
           "('eyes', 'NOUN')",
           "<br> i do n't feel so downcast when i examine <br> the specimens of writing done by the children of <br> district no",
           "downcast specimens writing",
           "('examine', 'VERB')",
           "NA",
           "NA",
           "NA",
           -52.61543797612335
          ],
          [
           [
            "sunken",
            "VERB"
           ],
           "sight",
           133,
           122,
           -0.1245450979383034,
           "<br> i saw a frail little man with a long <br> , yellow face and sunken fanatical eyes , an <br> inquisitor , an unfrocked monk .  ",
           "face sunken fanatical inquisitor",
           "('eyes', 'NOUN')",
           "NA",
           "NA",
           "NA",
           "NA",
           "NA",
           "NA",
           -45.29102756959835
          ],
          [
           [
            "cast",
            "VERB"
           ],
           "sight",
           2230,
           2045,
           -0.12494286697855593,
           "<br> he gave one low whine , and cast a <br> reproachful eye on me and the blue roan . <br>  ",
           "cast reproachful",
           "('eye', 'NOUN')",
           "<br> i cast my eyes back on the road we <br> had come , and i thought i saw some <br> figures a mile back , on the edge of <br> the letaba gorge .  ",
           "cast road",
           "('eyes', 'NOUN')",
           "<br> laverick only cast one glance there and abandoned every <br> instinct of curiosity , thinking once more only of <br> himself and his own position .  ",
           "laverick cast abandoned",
           "('glance', 'NOUN')",
           -46.13358031887272
          ],
          [
           [
            "sparkled",
            "VERB"
           ],
           "sight",
           554,
           508,
           -0.1250574792770224,
           "<br> her lips twitched and her eyes sparkled .  ",
           "lips twitched sparkled",
           "('eyes', 'NOUN')",
           "NA",
           "NA",
           "NA",
           "NA",
           "NA",
           "NA",
           -55.428676798511745
          ],
          [
           [
            "blur",
            "NOUN"
           ],
           "sight",
           36,
           33,
           -0.12553088208385899,
           "<br> looking up , he saw a little white blur <br> at the window , and noel 's face just <br> visible .  ",
           "looking little white blur",
           "('saw', 'VERB')",
           "<br> round and round between ceiling and floor whirled the <br> naked body of the baby -- round and round <br> for minutes that seemed hours to the horrified nurse <br> -- round and round with all the strength and <br> speed the young man could put forth -- round <br> and round until the room was a blur before <br> his throbbing eyes , until his expression became fully <br> as demoniac as nora had been fancying it .",
           "blur throbbing expression",
           "('eyes', 'NOUN')",
           "<br> he saw these words like a blur hanging in <br> the air , just beyond his eyelids , and <br> he stared at the blur until he fell asleep <br> . \"  ",
           "eyelids blur",
           "('stared', 'VERB')",
           -47.2608707861111
          ],
          [
           [
            "inquiringly",
            "ADV"
           ],
           "sight",
           156,
           143,
           -0.12553088208385899,
           "<br> \" she bent her eyes inquiringly upon him , <br> as if for the effect of this argument . <br>  ",
           "bent inquiringly",
           "('eyes', 'NOUN')",
           "NA",
           "NA",
           "NA",
           "NA",
           "NA",
           "NA",
           -49.65926852039663
          ],
          [
           [
            "askance",
            "NOUN"
           ],
           "sight",
           108,
           99,
           -0.12553088208385899,
           "<br> he longed to have presented himself once more at <br> the foundry ; and then the reality would drive <br> away the pictures that would ( unbidden ) come <br> of a shunned man , eyed askance by all <br> , and driven forth to shape out some new <br> career .  ",
           "shunned man askance",
           "('eyed', 'ADJ')",
           "NA",
           "NA",
           "NA",
           "NA",
           "NA",
           "NA",
           -57.301225693915065
          ],
          [
           [
            "dimmed",
            "VERB"
           ],
           "sight",
           153,
           140,
           -0.12810482574768536,
           "<br> tears dimmed older eyes when the hymn the dead <br> boy loved was sung , and the pastor told <br> with how much pride and pleasure he had watched <br> the gracious growth of this young parishioner since he <br> first met the lad of twelve and was attracted <br> by the shining face , the pleasant manners .",
           "tears dimmed older hymn",
           "('eyes', 'NOUN')",
           "<br> and then , through tear - dimmed eyes , <br> he read once more his father 's letter . <br>  ",
           "tear dimmed read",
           "('eyes', 'NOUN')",
           "<br> beyond it was safety , but as my sweat <br> - dimmed eyes looked at it",
           "sweat dimmed looked",
           "('eyes', 'NOUN')",
           33.500667781276
          ],
          [
           [
            "beamed",
            "VERB"
           ],
           "sight",
           175,
           160,
           -0.1292830169449665,
           "<br> and again the stillness was enforced by a sign <br> and whispered word , but with eyes that beamed <br> out their bright thoughts of hope .  ",
           "word beamed",
           "('eyes', 'NOUN')",
           "NA",
           "NA",
           "NA",
           "NA",
           "NA",
           "NA",
           29.07281421800389
          ],
          [
           [
            "dilated",
            "VERB"
           ],
           "sight",
           325,
           297,
           -0.12997678711505103,
           "<br> her hands were clasped over her breast and her <br> eyes were dilated as though she had been running <br> .",
           "breast dilated",
           "('eyes', 'NOUN')",
           "<br> his cheeks paled and his eyes dilated in terror <br> .",
           "cheeks paled dilated terror",
           "('eyes', 'NOUN')",
           "<br> she , however , having groped in dark cupboards <br> , must have had her pupils sufficiently dilated to <br> have seen that i had my hat on my <br> head .  ",
           "sufficiently dilated",
           "('seen', 'VERB')",
           -38.12674396162849
          ],
          [
           [
            "blankly",
            "ADV"
           ],
           "sight",
           58,
           53,
           -0.13006054056437286,
           "<br> mr. collier gazed blankly at his wife 's upturned <br> face . \"",
           "mr. collier blankly wife",
           "('gazed', 'VERB')",
           "<br> \" they ca n't be here , \" i <br> said blankly , gazing about the room .  ",
           "said blankly room",
           "('gazing', 'VERB')",
           "NA",
           "NA",
           "NA",
           12.298285825384228
          ],
          [
           [
            "flash",
            "VERB"
           ],
           "sight",
           159,
           145,
           -0.13297386526942087,
           "<br> the large eyes seemed to flash fire , the <br> cheeks were white , save where they had been <br> touched with paint , the lips trembled .",
           "large flash fire",
           "('eyes', 'NOUN')",
           "<br> keesh 's eyes began to flash , and the <br> blood to pound darkly under his skin .  ",
           "keesh began flash",
           "('eyes', 'NOUN')",
           "<br> his eyes flash anew ; he pulls handfuls of <br> grass and mops the surface clean , finally rubbing <br> it with his handkerchief .  ",
           "flash anew",
           "('eyes', 'NOUN')",
           57.29416561056712
          ],
          [
           [
            "furtively",
            "ADV"
           ],
           "sight",
           321,
           292,
           -0.13660492824228593,
           "<br> he would furtively glance across the table and then <br> as furtively throw a sidelong look at his neighbor <br> , and each time he appeared to grow more <br> thoughtful .",
           "furtively table",
           "('glance', 'VERB')",
           "<br> i had closed the front door without noise and <br> stood for a moment listening , while he glanced <br> about furtively .  ",
           "listening furtively",
           "('glanced', 'VERB')",
           "NA",
           "NA",
           "NA",
           92.53303230089652
          ],
          [
           [
            "sparkling",
            "ADJ"
           ],
           "sight",
           276,
           251,
           -0.136980902827397,
           "<br> later when the little café had emptied itself of <br> its habitual customers , mostly people connected with the <br> work of ships and cargoes , she came quietly <br> to sit at our table and looking at me <br> very hard with her black , sparkling eyes asked <br> dominic familiarly what had happened to his signorino . <br>  ",
           "black sparkling asked dominic familiarly",
           "('eyes', 'NOUN')",
           "<br> lady , \" they would sigh , looking at <br> them with dark , sparkling eyes .",
           "dark sparkling",
           "('eyes', 'NOUN')",
           "NA",
           "NA",
           "NA",
           -2.441472752403225
          ],
          [
           [
            "scowling",
            "ADJ"
           ],
           "sight",
           33,
           30,
           -0.13750352374993496,
           "<br> tressady and mings were dragged , choking , from <br> their feet ; but with a couple of strokes <br> my keen knife had cut those deadly ropes asunder <br> , and as the two fell gasping on the <br> sand i turned to stare into the scowling eyes <br> of adam penfeather .  ",
           "stare scowling adam penfeather",
           "('eyes', 'NOUN')",
           "<br> as jane and tarzan stood upon the vessel 's <br> deck recounting to one another the details of the <br> various adventures through which each had passed since they <br> had parted in their london home , there glared <br> at them from beneath scowling brows a hidden watcher <br> upon the shore .  ",
           "scowling brows hidden shore",
           "('watcher', 'NOUN')",
           "<br> he went to the door , and looked into <br> the narrow corridor , expecting to see the scowling <br> countenance of gimblett .",
           "corridor expecting scowling countenance",
           "('see', 'VERB')",
           21.20541925008815
          ],
          [
           [
            "sightless",
            "NOUN"
           ],
           "sight",
           88,
           80,
           -0.13750352374993496,
           "<br> and then beyond the sideboard and the tapestry on <br> the wall above it , he saw the sun <br> shining down upon the island of cuba , he <br> saw the royal palms waving and bending , the <br> dusty columns of spanish infantry crawling along the white <br> roads and leaving blazing huts and smoking cane - <br> fields in their wake ; he saw skeletons of <br> men and women seeking for food among the refuse <br> of the street ; he heard the order given <br> to the firing squad , the splash of the <br> bullets as they scattered the plaster on the prison <br> wall , and he saw a kneeling figure pitch <br> forward on its face , with a useless bandage <br> tied across its sightless eyes .  ",
           "tied sightless",
           "('eyes', 'NOUN')",
           "<br> what if , for those sightless eyes , one <br> could create a world ?  ",
           "sightless create",
           "('eyes', 'NOUN')",
           "NA",
           "NA",
           "NA",
           31.363042421197658
          ],
          [
           [
            "dilating",
            "VERB"
           ],
           "sight",
           98,
           89,
           -0.13897641314881046,
           "<br> the boy choked back a scream , his big <br> brown eyes dilating with terror .  ",
           "big brown dilating terror",
           "('eyes', 'NOUN')",
           "<br> \" asked the girl , with eyes dilating . <br>  ",
           "girl dilating",
           "('eyes', 'NOUN')",
           "<br> our hero leaped to his feet , and with <br> dilating eyes and expanding brain and swimming sight stared <br> down upon the other like one turned to a <br> stone .  ",
           "dilating expanding brain",
           "('eyes', 'NOUN')",
           35.258317456145164
          ],
          [
           [
            "narrowly",
            "ADV"
           ],
           "sight",
           216,
           196,
           -0.1401776580482603,
           "<br> i answered the questions myself , and narrowly watched <br> the effects produced .  ",
           "narrowly effects produced",
           "('watched', 'VERB')",
           "<br> i watched my fifty - two boys narrowly ; <br> watched their faces , their walk , their unconscious <br> attitudes : for all these are a language --a <br> language given us purposely that it may betray us <br> in times of emergency , when we have secrets <br> which we want to keep .  ",
           "boys narrowly faces",
           "('watched', 'VERB')",
           "NA",
           "NA",
           "NA",
           -1.567232474001629
          ],
          [
           [
            "lone",
            "PROPN"
           ],
           "sight",
           64,
           58,
           -0.14201900487242788,
           "<br> at this time he was a frequent visitor of <br> \" lone mountain ,\"-- a dreary hill - top <br> , bleak enough in its original isolation , and <br> bleaker for the white - faced marbles by which <br> san francisco anchored her departed citizens , and kept <br> them down in a shifting sand that refused to <br> cover them , and against a fierce and persistent <br> wind that strove to blow them utterly away .",
           "frequent lone mountain",
           "('visitor', 'NOUN')",
           "NA",
           "NA",
           "NA",
           "NA",
           "NA",
           "NA",
           47.51179959873294
          ],
          [
           [
            "gleamed",
            "VERB"
           ],
           "sight",
           448,
           406,
           -0.14201900487242788,
           "<br> the man 's eyes gleamed .  ",
           "man gleamed",
           "('eyes', 'NOUN')",
           "<br> he was angry at having been outwitted and his <br> eyes gleamed ominously .  ",
           "outwitted gleamed ominously",
           "('eyes', 'NOUN')",
           "<br> his deep - set fierce old eyes gleamed under <br> his beetling brows .  ",
           "set fierce old gleamed beetling",
           "('eyes', 'NOUN')",
           -58.84815540135006
          ],
          [
           [
            "glistened",
            "VERB"
           ],
           "sight",
           202,
           183,
           -0.14251164446775225,
           "<br> the german 's eyes glistened at the sight of <br> the gold , and a beatific smile stretched his <br> mouth from ear to ear .  ",
           "german glistened sight",
           "('eyes', 'NOUN')",
           "NA",
           "NA",
           "NA",
           "NA",
           "NA",
           "NA",
           -4.043433581149207
          ],
          [
           [
            "feasting",
            "VERB"
           ],
           "sight",
           42,
           38,
           -0.1443899093351748,
           "<br> my bewigged little landlady was feasting her eyes on <br> her son   meyer went on with his argument <br> :",
           "landlady feasting son",
           "('eyes', 'NOUN')",
           "NA",
           "NA",
           "NA",
           "NA",
           "NA",
           "NA",
           15.769409567457815
          ],
          [
           [
            "dart",
            "VERB"
           ],
           "sight",
           63,
           57,
           -0.1443899093351748,
           "<br> we were barely in time to see the last <br> man dart up a flight of outside stairs , <br> which led to the first story , and disappear <br> , closing a heavy door behind him .",
           "barely time man dart",
           "('see', 'VERB')",
           "<br> she stood awhile on the threshold , watching melisande <br> dart to and fro like a shuttle across a <br> loom .",
           "threshold melisande dart",
           "('watching', 'VERB')",
           "<br> once i could have sworn that among the many <br> creatures dimly perceived amidst the shadows of the wood <br> i saw a human figure dart from one cover <br> to another , but i could not be sure <br> .  ",
           "wood human figure dart",
           "('saw', 'VERB')",
           -13.025012432343848
          ],
          [
           [
            "spangled",
            "VERB"
           ],
           "sight",
           63,
           57,
           -0.1443899093351748,
           "<br> he struck up the \" star - spangled banner <br> the   effect was overwhelming .",
           "struck spangled banner",
           "('star', 'PROPN')",
           "<br> my sister , sir , the purest girl in <br> america , the most beautiful creature beneath the star <br> - spangled banner of columbia , is not going <br> to be the companion of dissolute idleness and gilded <br> dishonor -- not , sir , if _",
           "beautiful creature spangled banner",
           "('star', 'NOUN')",
           "NA",
           "NA",
           "NA",
           9.175137178052426
          ],
          [
           [
            "fixing",
            "VERB"
           ],
           "sight",
           513,
           464,
           -0.144834020479482,
           "<br> when they were cleaned she pointed to a couple <br> of flat stones against the wall of the cave <br> and bade them sit down and be good , <br> and this the children did , fixing their eyes <br> on pan with the cheerful gravity and curiosity which <br> good - natured youngsters always give to a stranger <br> .  ",
           "fixing pan",
           "('eyes', 'NOUN')",
           "NA",
           "NA",
           "NA",
           "NA",
           "NA",
           "NA",
           -41.7440170551672
          ],
          [
           [
            "appraising",
            "VERB"
           ],
           "sight",
           62,
           56,
           -0.14684138832927113,
           "<br> the eyes of those who did not hesitate nor <br> compute looked into her eyes , not appraising , <br> not questioning , but mild and unafraid .",
           "compute looked appraising",
           "('eyes', 'NOUN')",
           "NA",
           "NA",
           "NA",
           "NA",
           "NA",
           "NA",
           -18.097489747212105
          ],
          [
           [
            "blazing",
            "VERB"
           ],
           "sight",
           474,
           428,
           -0.14727626249711223,
           "<br> she answered , the anger blazing out of her <br> eyes , shaking in her voice .  ",
           "blazing shaking",
           "('eyes', 'NOUN')",
           "NA",
           "NA",
           "NA",
           "NA",
           "NA",
           "NA",
           4.17053091795981
          ],
          [
           [
            "shone",
            "VERB"
           ],
           "sight",
           1051,
           949,
           -0.14728267694106895,
           "<br> and his eyes shone like stars in his glowing <br> face .  ",
           "eyes shone glowing face",
           "('stars', 'NOUN')",
           "<br> how his great shaggy brows did draw themselves together <br> , and how queerly his deep eyes shone under <br> them -- how very queerly !  ",
           "queerly deep shone",
           "('eyes', 'NOUN')",
           "NA",
           "NA",
           "NA",
           -4.353765719345895
          ],
          [
           [
            "baleful",
            "ADJ"
           ],
           "sight",
           80,
           72,
           -0.15200309344504997,
           "<br> but never had he seen aught in him to <br> rival this present frenzy ; it rendered satanical the <br> baleful glance of his eyes and the awful smile <br> of hate and mockery with which he gazed at <br> last upon the helpless quarry that he had waited <br> eighteen years to bring to earth .",
           "baleful glance awful smile",
           "('eyes', 'NOUN')",
           "<br> i avoided norah 's baleful eye as i answered <br> their questions and performed the final adieux .  ",
           "avoided norah baleful answered",
           "('eye', 'NOUN')",
           "<br> and so the gowns began to strew tables and <br> chairs and racks , and still i shook my <br> head , and frau nirlanger looked despairing , and <br> the be - puffed and real irish - crocheted <br> saleswoman began to develop a baleful gleam about the <br> eyes .  ",
           "baleful gleam",
           "('eyes', 'NOUN')",
           -46.308861358351784
          ],
          [
           [
            "beaming",
            "VERB"
           ],
           "sight",
           247,
           222,
           -0.15395136523457162,
           "<br> the clasped hands , the beaming eyes ,-- the <br> trembling eagerness of gesture , of one who had <br> long awaited her awakening , and who now stood <br> behind the curtains watching through some little chink her <br> every faint motion ; or if she had caught <br> a glimpse of that loving , peeping face , <br> she was in too exhausted a state to have <br> taken much notice , or have long retained the <br> impression that he she loved so well was hanging <br> about her , and blessing god for every conscious <br> look which stole over her countenance .  ",
           "hands beaming trembling eagerness",
           "('eyes', 'NOUN')",
           "<br> the next second clarence had slipped from some place <br> of concealment and was pouring news into my ear <br> , his eyes beaming with triumph and gladness . <br>  ",
           "ear beaming triumph",
           "('eyes', 'NOUN')",
           "NA",
           "NA",
           "NA",
           8.754786707371302
          ],
          [
           [
            "incredulously",
            "ADV"
           ],
           "sight",
           68,
           61,
           -0.15672550368745308,
           "<br> he started ; shook another tear on his hand <br> , and stared at it incredulously .  ",
           "hand incredulously",
           "('stared', 'VERB')",
           "<br> he stared at his father incredulously . \"",
           "father incredulously",
           "('stared', 'VERB')",
           "NA",
           "NA",
           "NA",
           -6.567413062343204
          ]
         ],
         "hovertemplate": "literary_period=1800<br>Principal Component 1=%{x}<br>Principal Component 2=%{y}<br>word=%{customdata[0]}<br>modality=%{customdata[1]}<br>total_freq=%{customdata[2]}<br>total_freq_in_sense=%{customdata[3]}<br>PAI=%{customdata[4]}<br>Random Sentence 1=%{customdata[5]}<br>Random Context Window 1=%{customdata[6]}<br>Random Seed Words 1=%{customdata[7]}<br>Random Sentence 2=%{customdata[8]}<br>Random Context Window 2=%{customdata[9]}<br>Random Seed Words 2=%{customdata[10]}<br>Random Sentence 3=%{customdata[11]}<br>Random Context Window 3=%{customdata[12]}<br>Random Seed Words 3=%{customdata[13]}<extra></extra>",
         "legendgroup": "1800",
         "marker": {
          "color": "#FFA15A",
          "size": 12,
          "symbol": "circle"
         },
         "mode": "markers",
         "name": "1800",
         "orientation": "v",
         "showlegend": true,
         "type": "scatter",
         "x": [
          29.969545448525807,
          51.07472128699331,
          47.331511257341624,
          47.60464629443895,
          47.2377665150489,
          34.428133957756636,
          -48.144594552265964,
          -66.76249062963713,
          -33.8090177330368,
          -74.7691748791239,
          -45.40811655534145,
          -62.56278738990187,
          -7.151855077993766,
          -8.064923013384542,
          -19.409711205447405,
          -57.61987453436426,
          -50.581371071550834,
          29.95811839752931,
          35.81812537208308,
          -37.94112953044609,
          -57.49603695303805,
          26.19547746858976,
          -41.453092019146325,
          -9.489256059286765,
          -40.69087895251662,
          3.037505674150124,
          26.100980251993533,
          -7.845053408236123,
          -12.43367729501259,
          -21.226023380772755,
          2.6926849079435455,
          -61.49940156167472,
          8.479980250822706,
          -50.51302672828737,
          1.7829199978454844,
          -45.16443820781991,
          -46.93480922290451,
          -59.391387416112714,
          30.468780173312215,
          5.137944449256458,
          14.595943489276776,
          -83.94741808287739,
          -34.596998009779796,
          -32.2737117451192,
          -45.39409713675754,
          -21.125708940363577,
          -62.64384334998991,
          -27.374787432265673,
          -1.7097883882377507,
          -28.095015312722357,
          -17.809970196551603,
          -70.35727059580118,
          -25.711058600039927,
          32.02028544635847,
          -16.980512173859232,
          -79.55623478769981,
          -50.37365328290822,
          -99.77408685521598,
          -48.81017159076897,
          -17.929826126102345,
          -38.05546089598631,
          -48.23454413040771,
          -14.936347606765166,
          -12.911045927550147,
          21.046207833161027,
          -49.14035868902154,
          0.05669892268755152,
          -0.4877345846534933,
          -79.99887881462277,
          -52.61543797612335,
          -45.29102756959835,
          -46.13358031887272,
          -55.428676798511745,
          -47.2608707861111,
          -49.65926852039663,
          -57.301225693915065,
          33.500667781276,
          29.07281421800389,
          -38.12674396162849,
          12.298285825384228,
          57.29416561056712,
          92.53303230089652,
          -2.441472752403225,
          21.20541925008815,
          31.363042421197658,
          35.258317456145164,
          -1.567232474001629,
          47.51179959873294,
          -58.84815540135006,
          -4.043433581149207,
          15.769409567457815,
          -13.025012432343848,
          9.175137178052426,
          -41.7440170551672,
          -18.097489747212105,
          4.17053091795981,
          -4.353765719345895,
          -46.308861358351784,
          8.754786707371302,
          -6.567413062343204
         ],
         "xaxis": "x",
         "y": [
          43.59158533188425,
          -44.79559285771366,
          26.168946639309386,
          15.396412091825269,
          9.325205535603736,
          -44.1653004716292,
          -18.253354135395064,
          -6.987400400917674,
          -19.249032210811045,
          28.93416435176117,
          -29.2145218372803,
          -16.131754942080168,
          16.897603782925284,
          17.430861292550055,
          38.686921453004295,
          -0.338572685499422,
          49.69824278666071,
          26.559431968976153,
          38.89392171705983,
          24.193145307707567,
          -23.112852572955664,
          9.949071571797273,
          16.52167890668596,
          -14.452244245684545,
          35.58070340282816,
          9.3439158012417,
          39.71565137324566,
          0.02083519874768497,
          -19.078483627615643,
          28.08145616214606,
          0.32735986059402905,
          10.526380140695828,
          65.40889504091189,
          32.31898041533275,
          3.906132105640892,
          30.385044531514033,
          7.360749189538821,
          -12.677251756339425,
          -3.4270590264182803,
          59.32483286568824,
          -20.599586006856516,
          -45.59370148620291,
          -38.949082777103015,
          -46.628743602788845,
          -15.97415504342259,
          -12.315546932742329,
          21.366926763568003,
          42.10511701005306,
          16.74231395385402,
          -4.499467904488564,
          16.696490931158934,
          9.493899128340928,
          -12.60062959155689,
          16.194591239312427,
          63.43772475845373,
          12.404515685979902,
          -26.532990288947367,
          -8.14363857556815,
          -20.592274934724372,
          20.816036765402067,
          48.48525768872059,
          -5.449193625383997,
          36.40907249565295,
          -5.87640235166562,
          2.7968894302669547,
          -30.094192085004895,
          18.085741259659248,
          11.868752431154682,
          16.0609781394673,
          29.491694436922547,
          -21.218178605064367,
          7.829989112412086,
          -4.566470613660916,
          -42.9246136640669,
          8.487739764368722,
          18.413063374135607,
          -20.681718909490083,
          13.013334230362641,
          39.96925288428168,
          -0.8264812262816357,
          2.3296485691214452,
          -20.53553465287733,
          16.97096862962591,
          22.436509664740917,
          4.6734199829769585,
          -25.61551315347177,
          -29.684723508344234,
          8.973656714149737,
          -1.6631221645019996,
          20.46196752934773,
          10.842440837934197,
          -35.99634304671166,
          -36.251596344790386,
          46.96351180730492,
          24.09899007888985,
          -32.4434316353407,
          8.129886414446865,
          11.662265707133894,
          -23.446318995367797,
          -16.928851625442725
         ],
         "yaxis": "y"
        },
        {
         "customdata": [
          [
           [
            "fire",
            "NOUN"
           ],
           "sight",
           2,
           2,
           0,
           "<br> i ai n't never seen such a fire in <br> my whole life !",
           "ai fire",
           "('seen', 'VERB')",
           "<br> papa and mama watched the fire and talked for <br> a long time - about a letter from my <br> married sister gertie , and about clyde and walker <br> finally coming home from the war .  ",
           "papa mama fire talked",
           "('watched', 'VERB')",
           "NA",
           "NA",
           "NA",
           -28.461860279779515
          ],
          [
           [
            "honorable",
            "ADJ"
           ],
           "sight",
           2,
           2,
           0,
           "<br> his honorable former partner was experiencing post - retirement <br> pangs .",
           "honorable partner post retirement pangs",
           "('experiencing', 'VERB')",
           "NA",
           "NA",
           "NA",
           "NA",
           "NA",
           "NA",
           1.2940317567599904
          ],
          [
           [
            "shock",
            "NOUN"
           ],
           "sight",
           2,
           2,
           0,
           "<br> her mind , assaulted by sensations no untrained person <br> should experience , went into shock .",
           "untrained person went shock",
           "('experience', 'VERB')",
           "<br> i 've never seen space shock before .",
           "space shock",
           "('seen', 'VERB')",
           "NA",
           "NA",
           "NA",
           -5.111872110027932
          ],
          [
           [
            "tomorrow",
            "NOUN"
           ],
           "sight",
           3,
           3,
           0,
           "<br> we 'll see him tomorrow .",
           "tomorrow",
           "('see', 'VERB')",
           "<br> see you tomorrow .",
           "tomorrow",
           "('see', 'VERB')",
           "<br> we 'll be seeing you tomorrow morning at the <br> latest .",
           "tomorrow morning",
           "('seeing', 'VERB')",
           17.02202439635644
          ],
          [
           [
            "formats",
            "NOUN"
           ],
           "sight",
           2,
           2,
           0,
           "<br> second , we would implement system software communication hooks <br> in our operating system , which would read and <br> understand file formats and information from icp systems .",
           "read file formats information",
           "('understand', 'VERB')",
           "NA",
           "NA",
           "NA",
           "NA",
           "NA",
           "NA",
           65.3930566884669
          ],
          [
           [
            "bay",
            "NOUN"
           ],
           "sight",
           3,
           3,
           0,
           "<br> \" that 's a help -- now let 's <br> see what makes that bay different from the others <br> . \"  ",
           "let makes bay",
           "('see', 'VERB')",
           "<br> seeing the tall buildings , the two magnificent bridges <br> , the bay , he experienced a sense of <br> newfound being .",
           "bay sense newfound",
           "('experienced', 'VERB')",
           "NA",
           "NA",
           "NA",
           -23.048693975836645
          ],
          [
           [
            "appraising",
            "VERB"
           ],
           "sight",
           4,
           4,
           0,
           "<br> he returned her appraising stare with one of his <br> own .",
           "returned appraising",
           "('stare', 'NOUN')",
           "<br> eloise 's eyes were frankly appraising .",
           "eloise frankly appraising",
           "('eyes', 'NOUN')",
           "<br> with an appraising eye , the formally dressed door <br> attendant held the door for her .",
           "appraising formally dressed",
           "('eye', 'NOUN')",
           -13.810357539962805
          ],
          [
           [
            "cursory",
            "ADJ"
           ],
           "sight",
           2,
           2,
           0,
           "<br> after she vanished into the lobby he stole a <br> cursory glance at matthew , the man so lucky <br> to be with such an exquisite woman .",
           "stole cursory matthew",
           "('glance', 'NOUN')",
           "NA",
           "NA",
           "NA",
           "NA",
           "NA",
           "NA",
           26.4396961535498
          ],
          [
           [
            "mindfulness",
            "NOUN"
           ],
           "sight",
           2,
           2,
           0,
           "<br> she asked simply , revealing her mindfulness of his <br> regard all along , confirming it .  ",
           "mindfulness confirming",
           "('regard', 'NOUN')",
           "NA",
           "NA",
           "NA",
           "NA",
           "NA",
           "NA",
           39.746257847902505
          ],
          [
           [
            "pierced",
            "VERB"
           ],
           "sight",
           2,
           2,
           0,
           "<br> the emerald intensity of his eyes pierced through her <br> , instantly warming her neck , her nipples , <br> her loins .  ",
           "emerald intensity pierced",
           "('eyes', 'NOUN')",
           "NA",
           "NA",
           "NA",
           "NA",
           "NA",
           "NA",
           -1.2427279931892168
          ],
          [
           [
            "intensity",
            "NOUN"
           ],
           "sight",
           2,
           2,
           0,
           "<br> the emerald intensity of his eyes pierced through her <br> , instantly warming her neck , her nipples , <br> her loins .  ",
           "emerald intensity pierced",
           "('eyes', 'NOUN')",
           "NA",
           "NA",
           "NA",
           "NA",
           "NA",
           "NA",
           -28.238385400717963
          ],
          [
           [
            "emerald",
            "NOUN"
           ],
           "sight",
           2,
           2,
           0,
           "<br> the emerald intensity of his eyes pierced through her <br> , instantly warming her neck , her nipples , <br> her loins .  ",
           "emerald intensity pierced",
           "('eyes', 'NOUN')",
           "NA",
           "NA",
           "NA",
           "NA",
           "NA",
           "NA",
           1.9868886675874735
          ],
          [
           [
            "laughed",
            "VERB"
           ],
           "sight",
           2,
           2,
           0,
           "<br> she laughed at him and saw that he was <br> hiding something behind his back .",
           "laughed hiding",
           "('saw', 'VERB')",
           "NA",
           "NA",
           "NA",
           "NA",
           "NA",
           "NA",
           -22.703629256133325
          ],
          [
           [
            "carrying",
            "VERB"
           ],
           "sight",
           2,
           2,
           0,
           "<br> here and there , children are playing or doing <br> chores , you see a woman carrying a basket <br> , a man with an ax .",
           "chores woman carrying",
           "('see', 'VERB')",
           "NA",
           "NA",
           "NA",
           "NA",
           "NA",
           "NA",
           -29.512205587279254
          ],
          [
           [
            "wave",
            "VERB"
           ],
           "sight",
           2,
           2,
           0,
           "<br> they wave when they see you . \"",
           "wave",
           "('see', 'VERB')",
           "NA",
           "NA",
           "NA",
           "NA",
           "NA",
           "NA",
           -22.482647847179262
          ],
          [
           [
            "bath",
            "NOUN"
           ],
           "sight",
           2,
           2,
           0,
           "<br> but lately , when she left him after their <br> ride , she had begun to allow herself a <br> little more ; she had now and then found <br> herself thinking about him during her midmorning bath , <br> or just staring out the bedroom window , across <br> the treetops and off into the near distance , <br> at the ranch 's gable rooftop .",
           "bath bedroom window",
           "('staring', 'VERB')",
           "NA",
           "NA",
           "NA",
           "NA",
           "NA",
           "NA",
           0.9376939641816021
          ],
          [
           [
            "bedroom",
            "NOUN"
           ],
           "sight",
           4,
           4,
           0,
           "<br> but lately , when she left him after their <br> ride , she had begun to allow herself a <br> little more ; she had now and then found <br> herself thinking about him during her midmorning bath , <br> or just staring out the bedroom window , across <br> the treetops and off into the near distance , <br> at the ranch 's gable rooftop .",
           "bath bedroom window",
           "('staring', 'VERB')",
           "<br> she peered into the bedroom window .",
           "bedroom window",
           "('peered', 'VERB')",
           "NA",
           "NA",
           "NA",
           9.177938524622807
          ],
          [
           [
            "letting",
            "VERB"
           ],
           "sight",
           3,
           3,
           0,
           "<br> he called after her , yet , when she <br> turned once , she saw that he was letting <br> the stretch widen between them , as if he <br> had seen her flustered condition and had , once <br> again , understood what she was feeling .  ",
           "turned letting",
           "('saw', 'VERB')",
           "<br> i twisted round to see who was letting more <br> of that christmas wind swoosh through the church door <br> .",
           "twisted round letting",
           "('see', 'VERB')",
           "NA",
           "NA",
           "NA",
           61.19373502773116
          ],
          [
           [
            "flustered",
            "VERB"
           ],
           "sight",
           2,
           2,
           0,
           "<br> he called after her , yet , when she <br> turned once , she saw that he was letting <br> the stretch widen between them , as if he <br> had seen her flustered condition and had , once <br> again , understood what she was feeling .  ",
           "flustered condition",
           "('seen', 'VERB')",
           "NA",
           "NA",
           "NA",
           "NA",
           "NA",
           "NA",
           -2.5906658261921436
          ],
          [
           [
            "condition",
            "NOUN"
           ],
           "sight",
           2,
           2,
           0,
           "<br> he called after her , yet , when she <br> turned once , she saw that he was letting <br> the stretch widen between them , as if he <br> had seen her flustered condition and had , once <br> again , understood what she was feeling .  ",
           "flustered condition",
           "('seen', 'VERB')",
           "NA",
           "NA",
           "NA",
           "NA",
           "NA",
           "NA",
           -30.15263446692601
          ],
          [
           [
            "feeling",
            "VERB"
           ],
           "sight",
           2,
           2,
           0,
           "<br> he called after her , yet , when she <br> turned once , she saw that he was letting <br> the stretch widen between them , as if he <br> had seen her flustered condition and had , once <br> again , understood what she was feeling .  ",
           "feeling",
           "('understood', 'VERB')",
           "NA",
           "NA",
           "NA",
           "NA",
           "NA",
           "NA",
           30.286805568191856
          ],
          [
           [
            "gazed",
            "VERB"
           ],
           "sight",
           2,
           2,
           0,
           "<br> his eyes gazed at her with peaceful , deliberate <br> regard .",
           "gazed",
           "('eyes', 'NOUN')",
           "NA",
           "NA",
           "NA",
           "NA",
           "NA",
           "NA",
           28.72470843152748
          ],
          [
           [
            "difference",
            "NOUN"
           ],
           "sight",
           4,
           4,
           0,
           "<br> in the rest of the brotherhood , the color <br> of a man 's skin , the shape of <br> his face , the quality and color of his <br> hair and eyes made no difference .",
           "hair difference",
           "('eyes', 'NOUN')",
           "<br> ca n't you see the difference ? \"  ",
           "difference",
           "('see', 'VERB')",
           "<br> there was the difference , he understood at once <br> .",
           "difference",
           "('understood', 'VERB')",
           3.500490933649465
          ],
          [
           [
            "peaceful",
            "ADJ"
           ],
           "sight",
           4,
           4,
           0,
           "<br> his eyes gazed at her with peaceful , deliberate <br> regard .",
           "peaceful deliberate",
           "('regard', 'NOUN')",
           "NA",
           "NA",
           "NA",
           "NA",
           "NA",
           "NA",
           9.120707863673287
          ],
          [
           [
            "change",
            "NOUN"
           ],
           "sight",
           2,
           2,
           0,
           "<br> but as yet i could n't see much change <br> .  ",
           "change",
           "('see', 'VERB')",
           "<br> i loved to watch the world change coordinates with <br> the silent heaven of the angels , in the <br> sense that nothing mean could be said while people <br> 's minds were half- alive , that is deeply <br> asleep to the eyes of this world .  ",
           "loved world change coordinates",
           "('watch', 'VERB')",
           "NA",
           "NA",
           "NA",
           70.04705394394689
          ],
          [
           [
            "future",
            "NOUN"
           ],
           "sight",
           2,
           2,
           0,
           "<br> the saint of the pyre had seen the future <br> when he chose me as his heir , as <br> the heir of all the saints and all the <br> martyrs who came before him and who died for <br> the same cause , for the same word , <br> no matter what name they gave to their cause <br> and their truth .  ",
           "pyre future",
           "('seen', 'VERB')",
           "NA",
           "NA",
           "NA",
           "NA",
           "NA",
           "NA",
           -11.594723419550267
          ],
          [
           [
            "pyre",
            "NOUN"
           ],
           "sight",
           2,
           2,
           0,
           "<br> the saint of the pyre had seen the future <br> when he chose me as his heir , as <br> the heir of all the saints and all the <br> martyrs who came before him and who died for <br> the same cause , for the same word , <br> no matter what name they gave to their cause <br> and their truth .  ",
           "pyre future",
           "('seen', 'VERB')",
           "NA",
           "NA",
           "NA",
           "NA",
           "NA",
           "NA",
           -14.157029699043974
          ],
          [
           [
            "windows",
            "NOUN"
           ],
           "sight",
           2,
           2,
           0,
           "<br> we pulled the heavy curtains from the windows and <br> we saw that the rooms were small , and <br> we thought that not more than twelve men could <br> have lived here .",
           "windows rooms",
           "('saw', 'VERB')",
           "NA",
           "NA",
           "NA",
           "NA",
           "NA",
           "NA",
           -14.23363481567106
          ],
          [
           [
            "suppose",
            "VERB"
           ],
           "sight",
           2,
           2,
           0,
           "<br> \" i suppose you ca n't see it yet <br> , \" she admitted .",
           "suppose",
           "('see', 'VERB')",
           "<br> \" and i suppose you gloat -- no",
           "suppose",
           "('gloat', 'VERB')",
           "NA",
           "NA",
           "NA",
           -6.748384005582241
          ],
          [
           [
            "begins",
            "VERB"
           ],
           "sight",
           2,
           2,
           0,
           "<br> \" you 've got about ten minutes before the <br> meeting begins , \" she said , then closed <br> his office door .",
           "minutes begins",
           "('meeting', 'NOUN')",
           "NA",
           "NA",
           "NA",
           "NA",
           "NA",
           "NA",
           11.204684628569492
          ],
          [
           [
            "eyed",
            "ADJ"
           ],
           "sight",
           2,
           2,
           0,
           "<br> terrified by a pseudo reality that surpassed her wildest <br> nightmares , she stared wide - eyed at the <br> control room and the thing that had been kennon <br> .",
           "wildest nightmares wide eyed",
           "('stared', 'VERB')",
           "<br> i 'm not one of these starry - eyed <br> reformers who expect to change things overnight .",
           "eyed reformers",
           "('starry', 'ADJ')",
           "NA",
           "NA",
           "NA",
           6.484968774075374
          ],
          [
           [
            "wave",
            "NOUN"
           ],
           "sight",
           2,
           2,
           0,
           "<br> she closed her eyes and took a deep , <br> heady breath , and experienced a wave of pleasant <br> dizziness .  ",
           "heady breath wave pleasant",
           "('experienced', 'VERB')",
           "NA",
           "NA",
           "NA",
           "NA",
           "NA",
           "NA",
           -33.341570845484725
          ],
          [
           [
            "quarterly",
            "ADJ"
           ],
           "sight",
           4,
           4,
           0,
           "<br> he felt a powerful thrill wash though him like <br> the one he had experienced at the last quarterly <br> board meeting , when his organizational design had flexed <br> peter jones out of his way .",
           "quarterly board organizational",
           "('meeting', 'NOUN')",
           "NA",
           "NA",
           "NA",
           "NA",
           "NA",
           "NA",
           34.64889986729582
          ],
          [
           [
            "breathing",
            "NOUN"
           ],
           "sight",
           2,
           2,
           0,
           "<br> mighty boy stood steady as she experienced the bold <br> breathing and strong heartbeat drumming beneath her hand . <br> \"",
           "stood steady bold breathing",
           "('experienced', 'VERB')",
           "NA",
           "NA",
           "NA",
           "NA",
           "NA",
           "NA",
           -31.746274298351743
          ],
          [
           [
            "steady",
            "ADJ"
           ],
           "sight",
           2,
           2,
           0,
           "<br> mighty boy stood steady as she experienced the bold <br> breathing and strong heartbeat drumming beneath her hand . <br> \"",
           "stood steady bold breathing",
           "('experienced', 'VERB')",
           "NA",
           "NA",
           "NA",
           "NA",
           "NA",
           "NA",
           21.221704224172957
          ],
          [
           [
            "headed",
            "VERB"
           ],
           "sight",
           2,
           2,
           0,
           "<br> he nodded and shuffled the films and his notes <br> together into the folder and headed for the meeting <br> .",
           "headed",
           "('meeting', 'NOUN')",
           "NA",
           "NA",
           "NA",
           "NA",
           "NA",
           "NA",
           5.981403889813654
          ],
          [
           [
            "position",
            "NOUN"
           ],
           "sight",
           5,
           5,
           0,
           "<br> you see , our competitive position is based on <br> lani labor .",
           "competitive position",
           "('see', 'VERB')",
           "<br> in an instant he understood his position with profound <br> clarity .",
           "instant position profound",
           "('understood', 'VERB')",
           "<br> he gripped the rail behind him with both hands <br> , anchoring himself in a leaning position as he <br> watched byron work the wheel .  ",
           "leaning position byron work wheel",
           "('watched', 'VERB')",
           -7.891080244934197
          ],
          [
           [
            "profound",
            "ADJ"
           ],
           "sight",
           2,
           2,
           0,
           "<br> in an instant he understood his position with profound <br> clarity .",
           "instant position profound",
           "('understood', 'VERB')",
           "NA",
           "NA",
           "NA",
           "NA",
           "NA",
           "NA",
           -11.519364958982957
          ],
          [
           [
            "chains",
            "NOUN"
           ],
           "sight",
           2,
           2,
           0,
           "<br> i understood that centuries of chains and lashes will <br> not kill the spirit of man nor the sense <br> of truth within him .  ",
           "centuries chains",
           "('understood', 'VERB')",
           "NA",
           "NA",
           "NA",
           "NA",
           "NA",
           "NA",
           -7.745681424773349
          ],
          [
           [
            "blessed",
            "ADJ"
           ],
           "sight",
           2,
           2,
           0,
           "<br> i understood the blessed thing which i had called <br> my curse .",
           "blessed thing",
           "('understood', 'VERB')",
           "NA",
           "NA",
           "NA",
           "NA",
           "NA",
           "NA",
           67.41971154160176
          ],
          [
           [
            "group",
            "NOUN"
           ],
           "sight",
           2,
           2,
           0,
           "<br> however , \" he cautioned , sweeping the group <br> with his serious eyes , \" only if we <br> can handle the perception aspect of it with the <br> employees .",
           "group",
           "('eyes', 'NOUN')",
           "NA",
           "NA",
           "NA",
           "NA",
           "NA",
           "NA",
           53.34860156178168
          ],
          [
           [
            "epiphany",
            "NOUN"
           ],
           "sight",
           2,
           2,
           0,
           "<br> matthew experienced an epiphany .",
           "matthew epiphany",
           "('experienced', 'VERB')",
           "NA",
           "NA",
           "NA",
           "NA",
           "NA",
           "NA",
           19.188926614801293
          ],
          [
           [
            "critically",
            "ADV"
           ],
           "sight",
           2,
           2,
           0,
           "<br> she pivoted slowly before the glass , eying herself <br> critically , raising her arms over her head , <br> holding them at her sides , flexing her supple <br> spine and tightening muscles that moved like silken cords <br> beneath her golden skin .  ",
           "glass critically raising",
           "('eying', 'VERB')",
           "<br> he eyed kennon critically .  ",
           "kennon critically",
           "('eyed', 'VERB')",
           "NA",
           "NA",
           "NA",
           10.822312980794422
          ],
          [
           [
            "guided",
            "VERB"
           ],
           "sight",
           2,
           2,
           0,
           "<br> he nodded to let her know that he understood <br> , then guided the ungloved hand beneath his shirt <br> .",
           "know guided",
           "('understood', 'VERB')",
           "NA",
           "NA",
           "NA",
           "NA",
           "NA",
           "NA",
           63.591793376328184
          ],
          [
           [
            "actions",
            "NOUN"
           ],
           "sight",
           2,
           2,
           0,
           "<br> all witnesses in brotherhood court actions were examined under <br> psychoprobe , and a hypnotic was of no value <br> against a lie detector that could extract the deepest <br> buried truth .",
           "brotherhood court actions psychoprobe",
           "('examined', 'VERB')",
           "NA",
           "NA",
           "NA",
           "NA",
           "NA",
           "NA",
           -10.944039155831742
          ],
          [
           [
            "leaping",
            "VERB"
           ],
           "sight",
           2,
           2,
           0,
           "<br> and the road seemed not to be flat before <br> us , but as if it were leaping up <br> to meet us , and we waited for the <br> earth to rise and strike us in the face <br> .",
           "leaping",
           "('meet', 'VERB')",
           "NA",
           "NA",
           "NA",
           "NA",
           "NA",
           "NA",
           -0.11424425122850625
          ],
          [
           [
            "brotherhood",
            "PROPN"
           ],
           "sight",
           2,
           2,
           0,
           "<br> all witnesses in brotherhood court actions were examined under <br> psychoprobe , and a hypnotic was of no value <br> against a lie detector that could extract the deepest <br> buried truth .",
           "brotherhood court actions psychoprobe",
           "('examined', 'VERB')",
           "NA",
           "NA",
           "NA",
           "NA",
           "NA",
           "NA",
           -31.4361190425488
          ],
          [
           [
            "best",
            "ADJ"
           ],
           "sight",
           2,
           2,
           0,
           "<br> i understood why the best in me had been <br> my sins and my transgressions ; and why i <br> had never felt guilt in my sins .",
           "best",
           "('understood', 'VERB')",
           "NA",
           "NA",
           "NA",
           "NA",
           "NA",
           "NA",
           27.372129298107183
          ],
          [
           [
            "flower",
            "NOUN"
           ],
           "sight",
           2,
           2,
           0,
           "<br> and before she had to even consider retracting her <br> flawed hand , he moved her aside and set <br> about unfastening the girth and removing the saddle , <br> leaving her to just stand there and watch , <br> holding the flower .  ",
           "stand holding flower",
           "('watch', 'VERB')",
           "NA",
           "NA",
           "NA",
           "NA",
           "NA",
           "NA",
           -4.530964429061002
          ],
          [
           [
            "equestrian",
            "ADJ"
           ],
           "sight",
           2,
           2,
           0,
           "<br> he saw various equestrian products as they climbed the <br> stairs .",
           "equestrian products",
           "('saw', 'VERB')",
           "NA",
           "NA",
           "NA",
           "NA",
           "NA",
           "NA",
           -33.0812600175514
          ],
          [
           [
            "leaning",
            "VERB"
           ],
           "sight",
           2,
           2,
           0,
           "<br> he gripped the rail behind him with both hands <br> , anchoring himself in a leaning position as he <br> watched byron work the wheel .  ",
           "leaning position byron work wheel",
           "('watched', 'VERB')",
           "NA",
           "NA",
           "NA",
           "NA",
           "NA",
           "NA",
           -27.943591566074137
          ],
          [
           [
            "i.",
            "NOUN"
           ],
           "sight",
           2,
           2,
           0,
           "<br> \" i. \"     chapter twelve   it was <br> when i read the first of the books i <br> found in my house that i saw the word <br> \" i. \"",
           "house word i.",
           "('saw', 'VERB')",
           "<br> it was when i read the first of the <br> books i found in my house that i saw <br> the word \" i. \" and when i understood <br> this word , the book fell from my hands <br> , and i wept , i who had never <br> known tears .",
           "house word i.",
           "('saw', 'VERB')",
           "NA",
           "NA",
           "NA",
           -22.977896558639483
          ],
          [
           [
            "step",
            "NOUN"
           ],
           "sight",
           2,
           2,
           0,
           "<br> he fell back a step behind her when they <br> crossed the street to admire the way her wavy <br> hair bounced on her shoulders with each determined step <br> .",
           "shoulders step",
           "('determined', 'ADJ')",
           "NA",
           "NA",
           "NA",
           "NA",
           "NA",
           "NA",
           -14.071460303775833
          ],
          [
           [
            "sunspots",
            "NOUN"
           ],
           "sight",
           2,
           2,
           0,
           "<br> even after they were inside , this image lingered <br> bright in his mind 's eye like sunspots on <br> the eyelids .  ",
           "mind sunspots",
           "('eye', 'NOUN')",
           "NA",
           "NA",
           "NA",
           "NA",
           "NA",
           "NA",
           0.1562315817068507
          ],
          [
           [
            "shading",
            "VERB"
           ],
           "sight",
           6,
           6,
           0,
           "<br> had the others seen it , they could have <br> guessed nothing , for it looked only as if <br> we were shading our eyes from the sun .",
           "shading sun",
           "('eyes', 'NOUN')",
           "NA",
           "NA",
           "NA",
           "NA",
           "NA",
           "NA",
           -8.491664768384263
          ],
          [
           [
            "locked",
            "VERB"
           ],
           "sight",
           2,
           2,
           0,
           "<br> his eyes locked on matthew 's .  ",
           "locked matthew",
           "('eyes', 'NOUN')",
           "NA",
           "NA",
           "NA",
           "NA",
           "NA",
           "NA",
           -0.2314112966359535
          ],
          [
           [
            "squinting",
            "VERB"
           ],
           "sight",
           2,
           2,
           0,
           "<br> peter asked , shading his eyes and squinting out <br> at the ocean that lay a half - mile <br> ahead .  ",
           "asked shading squinting",
           "('eyes', 'NOUN')",
           "NA",
           "NA",
           "NA",
           "NA",
           "NA",
           "NA",
           18.42210147066669
          ],
          [
           [
            "finish",
            "VERB"
           ],
           "sight",
           2,
           2,
           0,
           "<br> he wanted to finish this meeting and get back <br> down on the ground as soon as possible . <br>  ",
           "wanted finish",
           "('meeting', 'NOUN')",
           "NA",
           "NA",
           "NA",
           "NA",
           "NA",
           "NA",
           2.147533974425526
          ],
          [
           [
            "value",
            "NOUN"
           ],
           "sight",
           2,
           2,
           0,
           "<br> and finally , once you begin the merger process <br> , we 'll determine wallaby 's value , and <br> you 'll follow up about a year later with <br> the acquisition announcement . \"  ",
           "process wallaby value",
           "('determine', 'VERB')",
           "NA",
           "NA",
           "NA",
           "NA",
           "NA",
           "NA",
           -28.436829523296062
          ],
          [
           [
            "boats",
            "NOUN"
           ],
           "sight",
           2,
           2,
           0,
           "<br> he could see a few boats in the distance <br> whipping along at a respectable clip , their sails <br> puffed fully .   ",
           "boats",
           "('see', 'VERB')",
           "NA",
           "NA",
           "NA",
           "NA",
           "NA",
           "NA",
           -1.4561700341639319
          ],
          [
           [
            "compassion",
            "NOUN"
           ],
           "sight",
           4,
           4,
           0,
           "<br> but what he did next completely disarmed her : <br> he placed a hand over hers , the left <br> one , and met her eyes with compassion .",
           "met compassion",
           "('eyes', 'NOUN')",
           "NA",
           "NA",
           "NA",
           "NA",
           "NA",
           "NA",
           20.65193406953283
          ],
          [
           [
            "handlebars",
            "NOUN"
           ],
           "sight",
           2,
           2,
           0,
           "<br> she gripped the handlebars firmly , admiring her own <br> hands without ill feelings .",
           "handlebars firmly hands",
           "('admiring', 'VERB')",
           "NA",
           "NA",
           "NA",
           "NA",
           "NA",
           "NA",
           -10.306829368812194
          ],
          [
           [
            "hopes",
            "NOUN"
           ],
           "sight",
           2,
           2,
           0,
           "<br> her hopes of understanding disintegrated and the throb in <br> her left hand returned with renewed force .",
           "hopes disintegrated throb",
           "('understanding', 'VERB')",
           "NA",
           "NA",
           "NA",
           "NA",
           "NA",
           "NA",
           -13.242655300104309
          ],
          [
           [
            "nervously",
            "ADV"
           ],
           "sight",
           2,
           2,
           0,
           "<br> she quickly and nervously glanced around the room as <br> she went inside , taking in at once its <br> simple furnishings and his things .",
           "quickly nervously room",
           "('glanced', 'VERB')",
           "NA",
           "NA",
           "NA",
           "NA",
           "NA",
           "NA",
           -30.180799281767023
          ],
          [
           [
            "searched",
            "VERB"
           ],
           "sight",
           2,
           2,
           0,
           "<br> her eyes searched across the small shining lake , <br> along to the narrow shore and the trail 's <br> edge , up the hill .",
           "searched small",
           "('eyes', 'NOUN')",
           "NA",
           "NA",
           "NA",
           "NA",
           "NA",
           "NA",
           17.124785325163465
          ],
          [
           [
            "accumulated",
            "VERB"
           ],
           "sight",
           2,
           2,
           0,
           "<br> \" jean - pierre said , glancing at the <br> accumulated mileage on the cycle 's odometer .  ",
           "pierre said accumulated mileage",
           "('glancing', 'VERB')",
           "NA",
           "NA",
           "NA",
           "NA",
           "NA",
           "NA",
           27.735357978273914
          ],
          [
           [
            "checked",
            "VERB"
           ],
           "sight",
           2,
           2,
           0,
           "<br> they stopped behind the curtain 's edge , and <br> matthew checked his watch .  ",
           "matthew checked",
           "('watch', 'NOUN')",
           "NA",
           "NA",
           "NA",
           "NA",
           "NA",
           "NA",
           -33.550056532342715
          ],
          [
           [
            "level",
            "NOUN"
           ],
           "sight",
           3,
           3,
           0,
           "<br> many of you today , stowing your own joey <br> or joey plus in your briefcases and folios , <br> have first hand experience with wallaby 's products , <br> and today we 'd like to take that experience <br> to the next level . \"  ",
           "like level",
           "('experience', 'NOUN')",
           "<br> \" see this level ridge ?",
           "level ridge",
           "('see', 'VERB')",
           "NA",
           "NA",
           "NA",
           -12.831477984675898
          ],
          [
           [
            "left",
            "NOUN"
           ],
           "sight",
           2,
           2,
           0,
           "<br> he stole a quick glance to his left , <br> offstage and behind the curtains .",
           "stole quick left",
           "('glance', 'NOUN')",
           "NA",
           "NA",
           "NA",
           "NA",
           "NA",
           "NA",
           -18.94981791411728
          ],
          [
           [
            "prototype",
            "NOUN"
           ],
           "sight",
           2,
           2,
           0,
           "<br> \" today you just saw a prototype of the <br> new joey ii computer , the first engineering collaboration <br> between international computer products and wallaby .  ",
           "today prototype",
           "('saw', 'VERB')",
           "NA",
           "NA",
           "NA",
           "NA",
           "NA",
           "NA",
           1.2188078806500442
          ],
          [
           [
            "shakiness",
            "NOUN"
           ],
           "sight",
           2,
           2,
           0,
           "<br> \" i just wanted a moment alone with you <br> to tell you how happy i am , especially <br> after the shakiness we 've experienced over the past <br> few months . \"  ",
           "shakiness past",
           "('experienced', 'VERB')",
           "NA",
           "NA",
           "NA",
           "NA",
           "NA",
           "NA",
           12.064796220170953
          ],
          [
           [
            "street",
            "NOUN"
           ],
           "sight",
           2,
           2,
           0,
           "<br> he fell back a step behind her when they <br> crossed the street to admire the way her wavy <br> hair bounced on her shoulders with each determined step <br> .",
           "crossed street way wavy",
           "('admire', 'VERB')",
           "NA",
           "NA",
           "NA",
           "NA",
           "NA",
           "NA",
           3.6430578935793254
          ],
          [
           [
            "anticipation",
            "NOUN"
           ],
           "sight",
           2,
           2,
           0,
           "<br> \" no , \" he said , and closed <br> his eyes with anticipation .",
           "closed anticipation",
           "('eyes', 'NOUN')",
           "NA",
           "NA",
           "NA",
           "NA",
           "NA",
           "NA",
           8.248546587503647
          ],
          [
           [
            "flowchart",
            "NOUN"
           ],
           "sight",
           2,
           2,
           0,
           "<br> he knocked his fist gently on the flowchart and <br> stared intently at byron .  ",
           "flowchart intently byron",
           "('stared', 'VERB')",
           "NA",
           "NA",
           "NA",
           "NA",
           "NA",
           "NA",
           25.741311863660442
          ],
          [
           [
            "shoes",
            "NOUN"
           ],
           "sight",
           3,
           3,
           0,
           "<br> he tasted her , felt the material of her <br> dress , smelled her hair , understood that in <br> her shoes were feet that were no doubt as <br> lovely to look as her hands , as rousing <br> to touch and kiss .",
           "smelled hair shoes",
           "('understood', 'VERB')",
           "<br> here , i could n't see a thing but <br> shoes and britches legs and captain jones 's walking <br> stick .",
           "thing shoes",
           "('see', 'VERB')",
           "NA",
           "NA",
           "NA",
           48.19529063012094
          ],
          [
           [
            "produced",
            "VERB"
           ],
           "sight",
           2,
           2,
           0,
           "<br> \" wrong , \" matthew said , and with <br> a playful look in his eye produced his hotel <br> room key and twirled it on his finger .",
           "playful look produced hotel room",
           "('eye', 'NOUN')",
           "NA",
           "NA",
           "NA",
           "NA",
           "NA",
           "NA",
           65.53300194904384
          ],
          [
           [
            "look",
            "NOUN"
           ],
           "sight",
           5,
           5,
           0,
           "<br> for he had seen that look before , that <br> liquid introspective look in the velvet eyes of cattle <br> .",
           "look velvet cattle",
           "('eyes', 'NOUN')",
           "<br> \" i have seen nothing but you reading this <br> ancient book , yet you turn to me with <br> the look in your eyes that the redes say <br> ulf had for lyssa . \"  ",
           "look redes",
           "('eyes', 'NOUN')",
           "<br> \" wrong , \" matthew said , and with <br> a playful look in his eye produced his hotel <br> room key and twirled it on his finger .",
           "playful look produced hotel room",
           "('eye', 'NOUN')",
           -26.085540877913385
          ],
          [
           [
            "playful",
            "ADJ"
           ],
           "sight",
           2,
           2,
           0,
           "<br> \" wrong , \" matthew said , and with <br> a playful look in his eye produced his hotel <br> room key and twirled it on his finger .",
           "playful look produced hotel room",
           "('eye', 'NOUN')",
           "NA",
           "NA",
           "NA",
           "NA",
           "NA",
           "NA",
           53.881095889522925
          ],
          [
           [
            "piercing",
            "VERB"
           ],
           "sight",
           2,
           2,
           0,
           "<br> he said it again , and this time broke <br> into a huge self - satisfied grin , his <br> laughing eyes piercing back from the mirror into his <br> own .  ",
           "grin laughing piercing",
           "('eyes', 'NOUN')",
           "NA",
           "NA",
           "NA",
           "NA",
           "NA",
           "NA",
           20.228894445061183
          ],
          [
           [
            "grin",
            "NOUN"
           ],
           "sight",
           2,
           2,
           0,
           "<br> he said it again , and this time broke <br> into a huge self - satisfied grin , his <br> laughing eyes piercing back from the mirror into his <br> own .  ",
           "grin laughing piercing",
           "('eyes', 'NOUN')",
           "NA",
           "NA",
           "NA",
           "NA",
           "NA",
           "NA",
           15.378365418442403
          ],
          [
           [
            "checking",
            "VERB"
           ],
           "sight",
           2,
           2,
           0,
           "<br> \" it 's back to the office for me <br> , \" william said , checking his watch . <br>  ",
           "said checking",
           "('watch', 'NOUN')",
           "NA",
           "NA",
           "NA",
           "NA",
           "NA",
           "NA",
           5.6940868948475085
          ],
          [
           [
            "willed",
            "VERB"
           ],
           "sight",
           2,
           2,
           0,
           "<br> his stare was on her again , but she <br> willed her gaze to remain fixed on the hay <br> - strewn floor .",
           "willed remain fixed",
           "('gaze', 'NOUN')",
           "NA",
           "NA",
           "NA",
           "NA",
           "NA",
           "NA",
           52.359958207804326
          ],
          [
           [
            "meet",
            "VERB"
           ],
           "sight",
           2,
           2,
           0,
           "<br> \" thank you , \" he said , able <br> to meet her eyes only for a second .",
           "able meet second",
           "('eyes', 'NOUN')",
           "NA",
           "NA",
           "NA",
           "NA",
           "NA",
           "NA",
           50.0379620062406
          ],
          [
           [
            "flip",
            "NOUN"
           ],
           "sight",
           2,
           2,
           0,
           "<br> he watched her flip through his collection of slides <br> , and he felt the light tingle return , <br> this time in another place , as she keenly <br> examined his illustrations .  ",
           "flip",
           "('watched', 'VERB')",
           "NA",
           "NA",
           "NA",
           "NA",
           "NA",
           "NA",
           2.861259617730695
          ],
          [
           [
            "delicate",
            "ADJ"
           ],
           "sight",
           2,
           2,
           0,
           "<br> with a sidelong glance he studied her delicate , <br> childlike hands , the impossible softness of her skin <br> .",
           "sidelong studied delicate",
           "('glance', 'NOUN')",
           "NA",
           "NA",
           "NA",
           "NA",
           "NA",
           "NA",
           12.667430163693084
          ],
          [
           [
            "finely",
            "ADV"
           ],
           "sight",
           2,
           2,
           0,
           "<br> for the briefest moment he just sat there and <br> admired her in her finely tailored light linen suit <br> .",
           "sat finely",
           "('admired', 'VERB')",
           "NA",
           "NA",
           "NA",
           "NA",
           "NA",
           "NA",
           -28.49052672040826
          ],
          [
           [
            "gray",
            "ADJ"
           ],
           "sight",
           6,
           6,
           0,
           "<br> she raised it to his , and he met <br> her sharp , gray eyes .  ",
           "sharp gray",
           "('eyes', 'NOUN')",
           "<br> all the houses in drake eye springs were gray <br> , because that 's the color houses turn unless <br> you put paint on them .",
           "houses drake springs gray",
           "('eye', 'PROPN')",
           "NA",
           "NA",
           "NA",
           52.0529489696348
          ],
          [
           [
            "stray",
            "VERB"
           ],
           "sight",
           2,
           2,
           0,
           "<br> they each took a sip and , with his <br> head still lowered , he let his eyes stray <br> once more to her hand .  ",
           "let stray",
           "('eyes', 'NOUN')",
           "NA",
           "NA",
           "NA",
           "NA",
           "NA",
           "NA",
           -3.1250216888806515
          ],
          [
           [
            "confirming",
            "VERB"
           ],
           "sight",
           2,
           2,
           0,
           "<br> she asked simply , revealing her mindfulness of his <br> regard all along , confirming it .  ",
           "mindfulness confirming",
           "('regard', 'NOUN')",
           "NA",
           "NA",
           "NA",
           "NA",
           "NA",
           "NA",
           -5.325291739512402
          ],
          [
           [
            "guiding",
            "VERB"
           ],
           "sight",
           4,
           4,
           0,
           "<br> whatever road i take , the guiding star is <br> within me ; the guiding star and the loadstone <br> which point the way .",
           "guiding loadstone",
           "('star', 'NOUN')",
           "NA",
           "NA",
           "NA",
           "NA",
           "NA",
           "NA",
           4.556964707302706
          ],
          [
           [
            "fact",
            "NOUN"
           ],
           "sight",
           2,
           2,
           0,
           "<br> in fact , he could see the building from <br> his window , a tall functional block of durilium <br> and plastic , soaring above the others on the <br> street , the sunlight gleaming off its clean square <br> lines .",
           "fact building",
           "('see', 'VERB')",
           "<br> in fact , he could see some virtue in <br> wearing as little as possible .",
           "fact virtue wearing",
           "('see', 'VERB')",
           "NA",
           "NA",
           "NA",
           6.002229227265934
          ],
          [
           [
            "grants",
            "VERB"
           ],
           "sight",
           2,
           2,
           0,
           "<br> it is my eyes which see , and the <br> sight of my eyes grants beauty to the earth <br> .",
           "sight grants beauty",
           "('eyes', 'NOUN')",
           "NA",
           "NA",
           "NA",
           "NA",
           "NA",
           "NA",
           -23.92971808788634
          ],
          [
           [
            "anybody",
            "NOUN"
           ],
           "sight",
           3,
           3,
           0,
           "<br> \" more candy than anybody 's ever seen , <br> bandershanks ! \"  ",
           "anybody bandershanks",
           "('seen', 'VERB')",
           "<br> \" walker , is lucille anybody i 've met <br> over here ? \"  ",
           "lucille anybody",
           "('met', 'VERB')",
           "<br> we did n't see anybody on the porch , <br> in the hall , or anywhere .",
           "anybody porch",
           "('see', 'VERB')",
           54.89850374425728
          ],
          [
           [
            "uneasily",
            "ADV"
           ],
           "sight",
           2,
           2,
           0,
           "<br> his lips quivered , and his eyes flicked uneasily <br> as he watched alexander 's granite face .",
           "flicked uneasily alexander granite face",
           "('watched', 'VERB')",
           "NA",
           "NA",
           "NA",
           "NA",
           "NA",
           "NA",
           75.31567113246986
          ],
          [
           [
            "deliberate",
            "ADJ"
           ],
           "sight",
           2,
           2,
           0,
           "<br> his eyes gazed at her with peaceful , deliberate <br> regard .",
           "peaceful deliberate",
           "('regard', 'NOUN')",
           "NA",
           "NA",
           "NA",
           "NA",
           "NA",
           "NA",
           23.137616475415033
          ],
          [
           [
            "nearest",
            "ADJ"
           ],
           "sight",
           2,
           2,
           0,
           "<br> more and more , as he understood the ship <br> , he was amazed at the courage of the <br> ancients who had blithely leaped into hyperspace in these <br> flying coffins with no more motivation than to see <br> what was beyond the nearest star .",
           "nearest",
           "('star', 'NOUN')",
           "<br> and in ships more primitive than this men had <br> swept through the star systems nearest earth in the <br> outward expansion of the first millennium .  ",
           "swept systems nearest earth",
           "('star', 'NOUN')",
           "NA",
           "NA",
           "NA",
           -22.60881686458385
          ],
          [
           [
            "drake",
            "PROPN"
           ],
           "sight",
           22,
           22,
           0,
           "<br> get clean away from drake eye springs , quick <br> as you can !",
           "clean away drake springs quick",
           "('eye', 'PROPN')",
           "NA",
           "NA",
           "NA",
           "NA",
           "NA",
           "NA",
           36.65995465939618
          ],
          [
           [
            "organizational",
            "ADJ"
           ],
           "sight",
           2,
           2,
           0,
           "<br> he felt a powerful thrill wash though him like <br> the one he had experienced at the last quarterly <br> board meeting , when his organizational design had flexed <br> peter jones out of his way .",
           "quarterly board organizational",
           "('meeting', 'NOUN')",
           "NA",
           "NA",
           "NA",
           "NA",
           "NA",
           "NA",
           51.66206710920811
          ],
          [
           [
            "port",
            "PROPN"
           ],
           "sight",
           2,
           2,
           0,
           "<br> the port captain wants to see you . \" <br>  ",
           "port captain wants",
           "('see', 'VERB')",
           "<br> port captain wants to see you , \" he <br> said .  ",
           "port captain wants",
           "('see', 'VERB')",
           "NA",
           "NA",
           "NA",
           2.9485302992466633
          ],
          [
           [
            "past",
            "ADJ"
           ],
           "sight",
           2,
           2,
           0,
           "<br> \" i just wanted a moment alone with you <br> to tell you how happy i am , especially <br> after the shakiness we 've experienced over the past <br> few months . \"  ",
           "shakiness past",
           "('experienced', 'VERB')",
           "NA",
           "NA",
           "NA",
           "NA",
           "NA",
           "NA",
           6.587400087033613
          ]
         ],
         "hovertemplate": "literary_period=1900<br>Principal Component 1=%{x}<br>Principal Component 2=%{y}<br>word=%{customdata[0]}<br>modality=%{customdata[1]}<br>total_freq=%{customdata[2]}<br>total_freq_in_sense=%{customdata[3]}<br>PAI=%{customdata[4]}<br>Random Sentence 1=%{customdata[5]}<br>Random Context Window 1=%{customdata[6]}<br>Random Seed Words 1=%{customdata[7]}<br>Random Sentence 2=%{customdata[8]}<br>Random Context Window 2=%{customdata[9]}<br>Random Seed Words 2=%{customdata[10]}<br>Random Sentence 3=%{customdata[11]}<br>Random Context Window 3=%{customdata[12]}<br>Random Seed Words 3=%{customdata[13]}<extra></extra>",
         "legendgroup": "1900",
         "marker": {
          "color": "#19d3f3",
          "size": 12,
          "symbol": "circle"
         },
         "mode": "markers",
         "name": "1900",
         "orientation": "v",
         "showlegend": true,
         "type": "scatter",
         "x": [
          -28.461860279779515,
          1.2940317567599904,
          -5.111872110027932,
          17.02202439635644,
          65.3930566884669,
          -23.048693975836645,
          -13.810357539962805,
          26.4396961535498,
          39.746257847902505,
          -1.2427279931892168,
          -28.238385400717963,
          1.9868886675874735,
          -22.703629256133325,
          -29.512205587279254,
          -22.482647847179262,
          0.9376939641816021,
          9.177938524622807,
          61.19373502773116,
          -2.5906658261921436,
          -30.15263446692601,
          30.286805568191856,
          28.72470843152748,
          3.500490933649465,
          9.120707863673287,
          70.04705394394689,
          -11.594723419550267,
          -14.157029699043974,
          -14.23363481567106,
          -6.748384005582241,
          11.204684628569492,
          6.484968774075374,
          -33.341570845484725,
          34.64889986729582,
          -31.746274298351743,
          21.221704224172957,
          5.981403889813654,
          -7.891080244934197,
          -11.519364958982957,
          -7.745681424773349,
          67.41971154160176,
          53.34860156178168,
          19.188926614801293,
          10.822312980794422,
          63.591793376328184,
          -10.944039155831742,
          -0.11424425122850625,
          -31.4361190425488,
          27.372129298107183,
          -4.530964429061002,
          -33.0812600175514,
          -27.943591566074137,
          -22.977896558639483,
          -14.071460303775833,
          0.1562315817068507,
          -8.491664768384263,
          -0.2314112966359535,
          18.42210147066669,
          2.147533974425526,
          -28.436829523296062,
          -1.4561700341639319,
          20.65193406953283,
          -10.306829368812194,
          -13.242655300104309,
          -30.180799281767023,
          17.124785325163465,
          27.735357978273914,
          -33.550056532342715,
          -12.831477984675898,
          -18.94981791411728,
          1.2188078806500442,
          12.064796220170953,
          3.6430578935793254,
          8.248546587503647,
          25.741311863660442,
          48.19529063012094,
          65.53300194904384,
          -26.085540877913385,
          53.881095889522925,
          20.228894445061183,
          15.378365418442403,
          5.6940868948475085,
          52.359958207804326,
          50.0379620062406,
          2.861259617730695,
          12.667430163693084,
          -28.49052672040826,
          52.0529489696348,
          -3.1250216888806515,
          -5.325291739512402,
          4.556964707302706,
          6.002229227265934,
          -23.92971808788634,
          54.89850374425728,
          75.31567113246986,
          23.137616475415033,
          -22.60881686458385,
          36.65995465939618,
          51.66206710920811,
          2.9485302992466633,
          6.587400087033613
         ],
         "xaxis": "x",
         "y": [
          -1.1604042353989947,
          -0.6208104666731266,
          1.2379611743823298,
          0.5313830221888979,
          -0.7987846686656905,
          -1.006383852701152,
          -0.3565151887121199,
          2.2558114232075215,
          1.8718621661384702,
          0.783365573157165,
          -0.49341199474715053,
          2.0915327316585643,
          1.0709908797731114,
          -1.2680770028656503,
          -1.0258949950203322,
          -1.1724794823522267,
          -0.18164338000783042,
          7.681276013069625,
          3.8592927357992126,
          0.2678140503989772,
          -5.023872221575022,
          3.8447161611597847,
          -0.5726521528792934,
          -1.6219943619824486,
          -1.5056859105651423,
          0.15722850910875413,
          -0.8927988399441042,
          0.25752928541357845,
          0.31123857676918376,
          -3.3914771708010845,
          -0.9506806313778984,
          -0.9293186889788057,
          4.092453272011362,
          -0.1822934664595435,
          -2.93944539591708,
          -0.6294549028638915,
          -0.5316404130284629,
          0.5452243365968724,
          2.1125148738941584,
          2.325229884845607,
          -1.3733332840521038,
          -3.0409584614954284,
          1.190315709333763,
          -5.769853431115349,
          -0.9500196219733292,
          1.7031684685857105,
          -0.2074809791962002,
          -1.89839341359513,
          -1.7516178956843667,
          0.45056267098787733,
          -0.11558380732364111,
          -0.41179393267599396,
          1.8908412328357378,
          -0.18648596379352558,
          -0.9382748395711591,
          -0.44109412804280895,
          0.8250315351945883,
          1.8358748009012806,
          0.606891892152366,
          0.29098654731905155,
          -3.0842433414739263,
          1.0037409585182,
          1.1228118886865173,
          0.7237812050969645,
          0.9171631705619442,
          1.224975009737595,
          -0.8998345668197566,
          -2.749849486869842,
          2.341530978481528,
          -1.3633129383739298,
          -0.4158704282009111,
          -1.041723771260738,
          1.1698394700805255,
          -2.5102339362768937,
          2.10332431344226,
          -2.579002906881268,
          -0.7112082136761654,
          -3.4355942342277963,
          0.31566170667977694,
          -0.6408942221700558,
          -0.5207606975147796,
          5.210789919505654,
          -1.5057612676107472,
          -1.6694544189171785,
          -0.8915404023015084,
          1.1955701108538146,
          1.8751799909712223,
          0.16462589464496288,
          0.11128153103969185,
          1.146279870826017,
          0.24410259243733112,
          -0.40340433089677974,
          -1.5156517285474493,
          2.922187293565403,
          1.2196892783066406,
          0.6301141626724825,
          -3.1925487155285692,
          -2.917554379442811,
          2.4799692890041167,
          1.3898584422119777
         ],
         "yaxis": "y"
        }
       ],
       "layout": {
        "legend": {
         "title": {
          "text": "literary_period"
         },
         "tracegroupgap": 0
        },
        "template": {
         "data": {
          "bar": [
           {
            "error_x": {
             "color": "#2a3f5f"
            },
            "error_y": {
             "color": "#2a3f5f"
            },
            "marker": {
             "line": {
              "color": "#E5ECF6",
              "width": 0.5
             }
            },
            "type": "bar"
           }
          ],
          "barpolar": [
           {
            "marker": {
             "line": {
              "color": "#E5ECF6",
              "width": 0.5
             }
            },
            "type": "barpolar"
           }
          ],
          "carpet": [
           {
            "aaxis": {
             "endlinecolor": "#2a3f5f",
             "gridcolor": "white",
             "linecolor": "white",
             "minorgridcolor": "white",
             "startlinecolor": "#2a3f5f"
            },
            "baxis": {
             "endlinecolor": "#2a3f5f",
             "gridcolor": "white",
             "linecolor": "white",
             "minorgridcolor": "white",
             "startlinecolor": "#2a3f5f"
            },
            "type": "carpet"
           }
          ],
          "choropleth": [
           {
            "colorbar": {
             "outlinewidth": 0,
             "ticks": ""
            },
            "type": "choropleth"
           }
          ],
          "contour": [
           {
            "colorbar": {
             "outlinewidth": 0,
             "ticks": ""
            },
            "colorscale": [
             [
              0,
              "#0d0887"
             ],
             [
              0.1111111111111111,
              "#46039f"
             ],
             [
              0.2222222222222222,
              "#7201a8"
             ],
             [
              0.3333333333333333,
              "#9c179e"
             ],
             [
              0.4444444444444444,
              "#bd3786"
             ],
             [
              0.5555555555555556,
              "#d8576b"
             ],
             [
              0.6666666666666666,
              "#ed7953"
             ],
             [
              0.7777777777777778,
              "#fb9f3a"
             ],
             [
              0.8888888888888888,
              "#fdca26"
             ],
             [
              1,
              "#f0f921"
             ]
            ],
            "type": "contour"
           }
          ],
          "contourcarpet": [
           {
            "colorbar": {
             "outlinewidth": 0,
             "ticks": ""
            },
            "type": "contourcarpet"
           }
          ],
          "heatmap": [
           {
            "colorbar": {
             "outlinewidth": 0,
             "ticks": ""
            },
            "colorscale": [
             [
              0,
              "#0d0887"
             ],
             [
              0.1111111111111111,
              "#46039f"
             ],
             [
              0.2222222222222222,
              "#7201a8"
             ],
             [
              0.3333333333333333,
              "#9c179e"
             ],
             [
              0.4444444444444444,
              "#bd3786"
             ],
             [
              0.5555555555555556,
              "#d8576b"
             ],
             [
              0.6666666666666666,
              "#ed7953"
             ],
             [
              0.7777777777777778,
              "#fb9f3a"
             ],
             [
              0.8888888888888888,
              "#fdca26"
             ],
             [
              1,
              "#f0f921"
             ]
            ],
            "type": "heatmap"
           }
          ],
          "heatmapgl": [
           {
            "colorbar": {
             "outlinewidth": 0,
             "ticks": ""
            },
            "colorscale": [
             [
              0,
              "#0d0887"
             ],
             [
              0.1111111111111111,
              "#46039f"
             ],
             [
              0.2222222222222222,
              "#7201a8"
             ],
             [
              0.3333333333333333,
              "#9c179e"
             ],
             [
              0.4444444444444444,
              "#bd3786"
             ],
             [
              0.5555555555555556,
              "#d8576b"
             ],
             [
              0.6666666666666666,
              "#ed7953"
             ],
             [
              0.7777777777777778,
              "#fb9f3a"
             ],
             [
              0.8888888888888888,
              "#fdca26"
             ],
             [
              1,
              "#f0f921"
             ]
            ],
            "type": "heatmapgl"
           }
          ],
          "histogram": [
           {
            "marker": {
             "colorbar": {
              "outlinewidth": 0,
              "ticks": ""
             }
            },
            "type": "histogram"
           }
          ],
          "histogram2d": [
           {
            "colorbar": {
             "outlinewidth": 0,
             "ticks": ""
            },
            "colorscale": [
             [
              0,
              "#0d0887"
             ],
             [
              0.1111111111111111,
              "#46039f"
             ],
             [
              0.2222222222222222,
              "#7201a8"
             ],
             [
              0.3333333333333333,
              "#9c179e"
             ],
             [
              0.4444444444444444,
              "#bd3786"
             ],
             [
              0.5555555555555556,
              "#d8576b"
             ],
             [
              0.6666666666666666,
              "#ed7953"
             ],
             [
              0.7777777777777778,
              "#fb9f3a"
             ],
             [
              0.8888888888888888,
              "#fdca26"
             ],
             [
              1,
              "#f0f921"
             ]
            ],
            "type": "histogram2d"
           }
          ],
          "histogram2dcontour": [
           {
            "colorbar": {
             "outlinewidth": 0,
             "ticks": ""
            },
            "colorscale": [
             [
              0,
              "#0d0887"
             ],
             [
              0.1111111111111111,
              "#46039f"
             ],
             [
              0.2222222222222222,
              "#7201a8"
             ],
             [
              0.3333333333333333,
              "#9c179e"
             ],
             [
              0.4444444444444444,
              "#bd3786"
             ],
             [
              0.5555555555555556,
              "#d8576b"
             ],
             [
              0.6666666666666666,
              "#ed7953"
             ],
             [
              0.7777777777777778,
              "#fb9f3a"
             ],
             [
              0.8888888888888888,
              "#fdca26"
             ],
             [
              1,
              "#f0f921"
             ]
            ],
            "type": "histogram2dcontour"
           }
          ],
          "mesh3d": [
           {
            "colorbar": {
             "outlinewidth": 0,
             "ticks": ""
            },
            "type": "mesh3d"
           }
          ],
          "parcoords": [
           {
            "line": {
             "colorbar": {
              "outlinewidth": 0,
              "ticks": ""
             }
            },
            "type": "parcoords"
           }
          ],
          "pie": [
           {
            "automargin": true,
            "type": "pie"
           }
          ],
          "scatter": [
           {
            "marker": {
             "colorbar": {
              "outlinewidth": 0,
              "ticks": ""
             }
            },
            "type": "scatter"
           }
          ],
          "scatter3d": [
           {
            "line": {
             "colorbar": {
              "outlinewidth": 0,
              "ticks": ""
             }
            },
            "marker": {
             "colorbar": {
              "outlinewidth": 0,
              "ticks": ""
             }
            },
            "type": "scatter3d"
           }
          ],
          "scattercarpet": [
           {
            "marker": {
             "colorbar": {
              "outlinewidth": 0,
              "ticks": ""
             }
            },
            "type": "scattercarpet"
           }
          ],
          "scattergeo": [
           {
            "marker": {
             "colorbar": {
              "outlinewidth": 0,
              "ticks": ""
             }
            },
            "type": "scattergeo"
           }
          ],
          "scattergl": [
           {
            "marker": {
             "colorbar": {
              "outlinewidth": 0,
              "ticks": ""
             }
            },
            "type": "scattergl"
           }
          ],
          "scattermapbox": [
           {
            "marker": {
             "colorbar": {
              "outlinewidth": 0,
              "ticks": ""
             }
            },
            "type": "scattermapbox"
           }
          ],
          "scatterpolar": [
           {
            "marker": {
             "colorbar": {
              "outlinewidth": 0,
              "ticks": ""
             }
            },
            "type": "scatterpolar"
           }
          ],
          "scatterpolargl": [
           {
            "marker": {
             "colorbar": {
              "outlinewidth": 0,
              "ticks": ""
             }
            },
            "type": "scatterpolargl"
           }
          ],
          "scatterternary": [
           {
            "marker": {
             "colorbar": {
              "outlinewidth": 0,
              "ticks": ""
             }
            },
            "type": "scatterternary"
           }
          ],
          "surface": [
           {
            "colorbar": {
             "outlinewidth": 0,
             "ticks": ""
            },
            "colorscale": [
             [
              0,
              "#0d0887"
             ],
             [
              0.1111111111111111,
              "#46039f"
             ],
             [
              0.2222222222222222,
              "#7201a8"
             ],
             [
              0.3333333333333333,
              "#9c179e"
             ],
             [
              0.4444444444444444,
              "#bd3786"
             ],
             [
              0.5555555555555556,
              "#d8576b"
             ],
             [
              0.6666666666666666,
              "#ed7953"
             ],
             [
              0.7777777777777778,
              "#fb9f3a"
             ],
             [
              0.8888888888888888,
              "#fdca26"
             ],
             [
              1,
              "#f0f921"
             ]
            ],
            "type": "surface"
           }
          ],
          "table": [
           {
            "cells": {
             "fill": {
              "color": "#EBF0F8"
             },
             "line": {
              "color": "white"
             }
            },
            "header": {
             "fill": {
              "color": "#C8D4E3"
             },
             "line": {
              "color": "white"
             }
            },
            "type": "table"
           }
          ]
         },
         "layout": {
          "annotationdefaults": {
           "arrowcolor": "#2a3f5f",
           "arrowhead": 0,
           "arrowwidth": 1
          },
          "autotypenumbers": "strict",
          "coloraxis": {
           "colorbar": {
            "outlinewidth": 0,
            "ticks": ""
           }
          },
          "colorscale": {
           "diverging": [
            [
             0,
             "#8e0152"
            ],
            [
             0.1,
             "#c51b7d"
            ],
            [
             0.2,
             "#de77ae"
            ],
            [
             0.3,
             "#f1b6da"
            ],
            [
             0.4,
             "#fde0ef"
            ],
            [
             0.5,
             "#f7f7f7"
            ],
            [
             0.6,
             "#e6f5d0"
            ],
            [
             0.7,
             "#b8e186"
            ],
            [
             0.8,
             "#7fbc41"
            ],
            [
             0.9,
             "#4d9221"
            ],
            [
             1,
             "#276419"
            ]
           ],
           "sequential": [
            [
             0,
             "#0d0887"
            ],
            [
             0.1111111111111111,
             "#46039f"
            ],
            [
             0.2222222222222222,
             "#7201a8"
            ],
            [
             0.3333333333333333,
             "#9c179e"
            ],
            [
             0.4444444444444444,
             "#bd3786"
            ],
            [
             0.5555555555555556,
             "#d8576b"
            ],
            [
             0.6666666666666666,
             "#ed7953"
            ],
            [
             0.7777777777777778,
             "#fb9f3a"
            ],
            [
             0.8888888888888888,
             "#fdca26"
            ],
            [
             1,
             "#f0f921"
            ]
           ],
           "sequentialminus": [
            [
             0,
             "#0d0887"
            ],
            [
             0.1111111111111111,
             "#46039f"
            ],
            [
             0.2222222222222222,
             "#7201a8"
            ],
            [
             0.3333333333333333,
             "#9c179e"
            ],
            [
             0.4444444444444444,
             "#bd3786"
            ],
            [
             0.5555555555555556,
             "#d8576b"
            ],
            [
             0.6666666666666666,
             "#ed7953"
            ],
            [
             0.7777777777777778,
             "#fb9f3a"
            ],
            [
             0.8888888888888888,
             "#fdca26"
            ],
            [
             1,
             "#f0f921"
            ]
           ]
          },
          "colorway": [
           "#636efa",
           "#EF553B",
           "#00cc96",
           "#ab63fa",
           "#FFA15A",
           "#19d3f3",
           "#FF6692",
           "#B6E880",
           "#FF97FF",
           "#FECB52"
          ],
          "font": {
           "color": "#2a3f5f"
          },
          "geo": {
           "bgcolor": "white",
           "lakecolor": "white",
           "landcolor": "#E5ECF6",
           "showlakes": true,
           "showland": true,
           "subunitcolor": "white"
          },
          "hoverlabel": {
           "align": "left"
          },
          "hovermode": "closest",
          "mapbox": {
           "style": "light"
          },
          "paper_bgcolor": "white",
          "plot_bgcolor": "#E5ECF6",
          "polar": {
           "angularaxis": {
            "gridcolor": "white",
            "linecolor": "white",
            "ticks": ""
           },
           "bgcolor": "#E5ECF6",
           "radialaxis": {
            "gridcolor": "white",
            "linecolor": "white",
            "ticks": ""
           }
          },
          "scene": {
           "xaxis": {
            "backgroundcolor": "#E5ECF6",
            "gridcolor": "white",
            "gridwidth": 2,
            "linecolor": "white",
            "showbackground": true,
            "ticks": "",
            "zerolinecolor": "white"
           },
           "yaxis": {
            "backgroundcolor": "#E5ECF6",
            "gridcolor": "white",
            "gridwidth": 2,
            "linecolor": "white",
            "showbackground": true,
            "ticks": "",
            "zerolinecolor": "white"
           },
           "zaxis": {
            "backgroundcolor": "#E5ECF6",
            "gridcolor": "white",
            "gridwidth": 2,
            "linecolor": "white",
            "showbackground": true,
            "ticks": "",
            "zerolinecolor": "white"
           }
          },
          "shapedefaults": {
           "line": {
            "color": "#2a3f5f"
           }
          },
          "ternary": {
           "aaxis": {
            "gridcolor": "white",
            "linecolor": "white",
            "ticks": ""
           },
           "baxis": {
            "gridcolor": "white",
            "linecolor": "white",
            "ticks": ""
           },
           "bgcolor": "#E5ECF6",
           "caxis": {
            "gridcolor": "white",
            "linecolor": "white",
            "ticks": ""
           }
          },
          "title": {
           "x": 0.05
          },
          "xaxis": {
           "automargin": true,
           "gridcolor": "white",
           "linecolor": "white",
           "ticks": "",
           "title": {
            "standoff": 15
           },
           "zerolinecolor": "white",
           "zerolinewidth": 2
          },
          "yaxis": {
           "automargin": true,
           "gridcolor": "white",
           "linecolor": "white",
           "ticks": "",
           "title": {
            "standoff": 15
           },
           "zerolinecolor": "white",
           "zerolinewidth": 2
          }
         }
        },
        "title": {
         "text": "sight - 2 Component PCA"
        },
        "xaxis": {
         "anchor": "y",
         "domain": [
          0,
          1
         ],
         "title": {
          "text": "Principal Component 1"
         }
        },
        "yaxis": {
         "anchor": "x",
         "domain": [
          0,
          1
         ],
         "title": {
          "text": "Principal Component 2"
         }
        }
       }
      },
      "text/html": [
       "<div>                            <div id=\"c9b27048-87a9-4596-9a15-26e4ec2c96c1\" class=\"plotly-graph-div\" style=\"height:525px; width:100%;\"></div>            <script type=\"text/javascript\">                require([\"plotly\"], function(Plotly) {                    window.PLOTLYENV=window.PLOTLYENV || {};                                    if (document.getElementById(\"c9b27048-87a9-4596-9a15-26e4ec2c96c1\")) {                    Plotly.newPlot(                        \"c9b27048-87a9-4596-9a15-26e4ec2c96c1\",                        [{\"customdata\": [[[\"flashed\", \"VERB\"], \"sight\", 33, 33, 0.0, \"<br> but his ruddy embrowned cheek - bones could be <br> plainly seen , and the large and bright blue <br> eyes , that flashed from under the dark shade <br> of the raised visor ; and the whole gesture <br> and look of the champion expressed careless gaiety and <br> fearless confidence -- a mind which was unapt to <br> apprehend danger , and prompt to defy it when <br> most imminent -- yet with whom danger was a <br> familiar thought , as with one whose trade was <br> war and adventure .\", \"large bright blue flashed\", \"('eyes', 'NOUN')\", \"<br> when the latter placed the bottle and glass on <br> the mantel - shelf , the stranger 's eyes <br> flashed out on him again ; and when he <br> spoke , it was in musical tones with no <br> sign of the previous guttural convulsion , though his <br> voice was still unsteady with repressed emotion .  \", \"stranger flashed\", \"('eyes', 'NOUN')\", \"<br> \\\" oh ! you ran from another clap , <br> \\\" said julia , laughing till her dark eyes <br> flashed with pleasure , and shaking her head until <br> her glossy hair fell in ringlets over her shoulders <br> ; \\\" you will never make a hero , <br> charles . \\\"  \", \"laughing dark flashed pleasure\", \"('eyes', 'NOUN')\", -2.045367093663067], [[\"glancing\", \"VERB\"], \"sight\", 57, 56, -0.02553509210713765, \"<br> \\\" mr. delafield , let me make you acquainted <br> with mr. morton , \\\" said maria , glancing <br> her eye at the former in a manner that <br> he understood .  \", \"maria glancing\", \"('eye', 'NOUN')\", \"NA\", \"NA\", \"NA\", \"NA\", \"NA\", \"NA\", 13.505846508764577], [[\"glanced\", \"VERB\"], \"sight\", 51, 49, -0.05771549785628733, \"<br> seymour delafield glanced his eye impatiently around the apartment <br> , as soon as he had paid the customary <br> compliments to the mistress of the mansion and her <br> bevy of fair daughters ; but a look of <br> disappointment betrayed the search to be an unsuccessful one <br> .\", \"seymour delafield glanced impatiently apartment\", \"('eye', 'NOUN')\", \"<br> charlotte glanced her mild eyes at the speaker , <br> but made no reply .  \", \"charlotte glanced mild speaker\", \"('eyes', 'NOUN')\", \"<br> the countenance of this young lady exhibited a droll <br> mixture of playful mirth and sadness ; she glanced <br> her eyes once around the apartment , and perceiving <br> it was occupied only by her friend , she <br> said , laughing--  \", \"glanced apartment\", \"('eyes', 'NOUN')\", -0.5135704232082771], [[\"sparkled\", \"VERB\"], \"sight\", 45, 43, -0.06558834162757671, \"<br> philippe , struck motionless , stood quite at his <br> ease , letting wander over her his eyes that <br> glowed and sparkled with the flame of love .\", \"wander glowed sparkled\", \"('eyes', 'NOUN')\", \"NA\", \"NA\", \"NA\", \"NA\", \"NA\", \"NA\", 8.161468376377934], [[\"casting\", \"VERB\"], \"sight\", 55, 52, -0.08091999538356748, \"<br> \\\" it is a painting , \\\" replied he <br> , timidly , and casting a little glance upon <br> his so gracious mistress .  \", \"casting little gracious\", \"('glance', 'NOUN')\", \"NA\", \"NA\", \"NA\", \"NA\", \"NA\", \"NA\", 11.827239586593501], [[\"cast\", \"VERB\"], \"sight\", 174, 162, -0.10309349296410361, \"<br> miss ashton sat upright in her chair , cast <br> round her a glance in which fear was mingled <br> with a still wilder expression , but remained perfectly <br> silent .\", \"cast round fear\", \"('glance', 'NOUN')\", \"NA\", \"NA\", \"NA\", \"NA\", \"NA\", \"NA\", -6.375909244878093], [[\"fixed\", \"VERB\"], \"sight\", 316, 281, -0.1693544279561769, \"<br> when he had passed the upper gate , he <br> turned his horse , and looked at the castle <br> with a fixed eye ; then set spurs to <br> his good steed , and departed with the speed <br> of a demon dismissed by the exorcist .     \", \"castle fixed set spurs\", \"('eye', 'NOUN')\", \"NA\", \"NA\", \"NA\", \"NA\", \"NA\", \"NA\", -1.911062431660551], [[\"fixing\", \"VERB\"], \"sight\", 49, 43, -0.18844508941311033, \"<br> so that , to increase the confusion of the <br> lord keeper 's understanding , he saw the short <br> time which remained for consideration abridged by the haste <br> of the contending coachmen , who , fixing their <br> eyes sternly on each other , and applying the <br> lash smartly to their horses , began to thunder <br> down the descent with emulous rapidity , while the <br> horsemen who attended them were forced to put on <br> to a hand - gallop .  \", \"fixing sternly\", \"('eyes', 'NOUN')\", \"NA\", \"NA\", \"NA\", \"NA\", \"NA\", \"NA\", -4.677713008685771], [[\"bright\", \"ADJ\"], \"sight\", 118, 102, -0.21021770739034562, \"<br> to these heretical propositions some said that doubtless the <br> devil wished to convert himself , and others that <br> he remained in the shape of the canon to <br> mock at the three nephews and heirs of this <br> said brave confessor and make them wait until the <br> day of their own death for the ample succession <br> of this uncle , to whom they paid great <br> attention every day , going to look if the <br> good man had his eyes open , and in <br> fact found him always with his eye clear , <br> bright , and piercing as the eye of a <br> basilisk , which pleased them greatly , since they <br> loved their uncle very much -- in words .\", \"clear bright\", \"('eye', 'NOUN')\", \"NA\", \"NA\", \"NA\", \"NA\", \"NA\", \"NA\", 16.35190120650046], [[\"movements\", \"NOUN\"], \"sight\", 63, 54, -0.22239242133644802, \"<br> the old hunter had kept a keen eye on <br> the movements of his three visitors , from the <br> beginning , and had maintained his position , just <br> without the threshold of the cabin , with a <br> determined manner , that showed he was not to <br> be easily driven from his post .  \", \"movements beginning\", \"('visitors', 'NOUN')\", \"<br> leave not a single one of the thousand signs <br> and tokens by which the most inscrutable character betrays <br> itself to an observer of human nature , he <br> has but to watch carefully the little movements of <br> a woman 's head , the ever - varying <br> expressive turns and curves of her neck and throat <br> , to read her nature .  \", \"carefully little movements\", \"('watch', 'VERB')\", \"<br> here was a new source of pleasure to our <br> heroine : antonio was already on the wing for <br> the city , perhaps arrived -- nay , might <br> have seen her , might even now be within <br> a short distance of the summer - house where <br> she was sitting at the time , and watching <br> her movements .\", \"time movements\", \"('watching', 'VERB')\", 23.377900337565677], [[\"riveted\", \"VERB\"], \"sight\", 39, 33, -0.24100809950379493, \"<br> unheeding this remonstrance , and accustomed only to act <br> upon the immediate impulse of his own wishes , <br> brian de bois - guilbert kept his eyes riveted <br> on the saxon beauty , more striking perhaps to <br> his imagination , because differing widely from those of <br> the eastern sultanas .\", \"guilbert kept riveted saxon\", \"('eyes', 'NOUN')\", \"<br> it showed itself in loud acclamations upon every change <br> of fortune , while all eyes were so riveted <br> on the lists , that the spectators seemed as <br> if they themselves had dealt and received the blows <br> which were there so freely bestowed .\", \"fortune riveted\", \"('eyes', 'NOUN')\", \"<br> fuller could see nothing to attract this nearly riveted <br> gaze , though curiosity induced him to make the <br> effort .  \", \"attract nearly riveted curiosity induced\", \"('gaze', 'NOUN')\", 25.04204932478539], [[\"blue\", \"ADJ\"], \"sight\", 111, 93, -0.2552570552420746, \"<br> the tears began already to start from lucy 's <br> blue eyes at viewing this unexpected and moving scene <br> .\", \"lucy blue viewing unexpected\", \"('eyes', 'NOUN')\", \"<br> indeed , it was impossible to look at the <br> clear blue eye of lucy ashton , and entertain <br> the slightest permanent doubt concerning the sincerity of her <br> disposition .\", \"clear blue lucy ashton\", \"('eye', 'NOUN')\", \"<br> gradually , however , they assumed a darker and <br> more mysterious character , and became such as , <br> told by the midnight lamp , and enforced by <br> the tremulous tone , the quivering and livid lip <br> , the uplifted skinny forefinger , and the shaking <br> head of the blue - eyed hag , might <br> have appalled a less credulous imagination in an age <br> more hard of belief .\", \"blue hag\", \"('eyed', 'ADJ')\", 18.36370099974384], [[\"dark\", \"ADJ\"], \"sight\", 177, 148, -0.25815218445404775, \"<br> , i am sure she would approve ; but <br> you are unacquainted personally , and the ancient feud <br> between the families---- \\\"   ravenswood fixed upon her <br> his keen dark eyes , as if he was <br> desirous of penetrating into her very soul .  \", \"keen dark\", \"('eyes', 'NOUN')\", \"NA\", \"NA\", \"NA\", \"NA\", \"NA\", \"NA\", -13.589561406034353], [[\"wandered\", \"VERB\"], \"sight\", 37, 30, -0.3025627700204312, \"<br> from the face of his cousin the gaze of <br> richard wandered to the table , which was covered <br> with letters , packets , and newspapers ; then <br> to the apartment and all it contained .  \", \"cousin richard wandered\", \"('gaze', 'NOUN')\", \"<br> again and again her eyes wandered from her children <br> , and their tender gaze was turned upon her <br> husband 's grave face ; and now and again <br> the eyes of husband and wife met with a <br> silent exchange of happiness and thoughts from some inner <br> depth .  \", \"wandered children\", \"('eyes', 'NOUN')\", \"<br> as her eyes wandered over the path , she <br> saw fresh marks on the path , a man <br> 's footprints were distinctly recognizable .\", \"wandered path\", \"('eyes', 'NOUN')\", 23.035381970918102], [[\"black\", \"ADJ\"], \"sight\", 126, 102, -0.3048545815284209, \"<br> master cornelius , passim _ ) , met two <br> black crows , or seen the dead man turn <br> in his grave , that you are so upset <br> ? \\\"  \", \"black crows dead man turn\", \"('seen', 'VERB')\", \"<br> the impression which we have necessarily been long in <br> describing , lucy felt in the glance of a <br> moment , and had no sooner encountered the keen <br> black eyes of the stranger than her own were <br> bent on the ground with a mixture of bashful <br> embarrassment and fear .\", \"encountered keen black stranger\", \"('eyes', 'NOUN')\", \"NA\", \"NA\", \"NA\", 24.97275633782232], [[\"fit\", \"ADJ\"], \"sight\", 39, 31, -0.33120590847537323, \"<br> i never saw quite so wretched an example of <br> what a sea - faring life can do ; <br> but to a degree , i know it is <br> the same with them all :   they are <br> all knocked about , and exposed to every climate <br> , and every weather , till they are not <br> fit to be seen .  \", \"fit\", \"('seen', 'VERB')\", \"NA\", \"NA\", \"NA\", \"NA\", \"NA\", \"NA\", -18.72355496002121], [[\"carefully\", \"ADV\"], \"sight\", 39, 31, -0.33120590847537323, \"<br> leave not a single one of the thousand signs <br> and tokens by which the most inscrutable character betrays <br> itself to an observer of human nature , he <br> has but to watch carefully the little movements of <br> a woman 's head , the ever - varying <br> expressive turns and curves of her neck and throat <br> , to read her nature .  \", \"carefully little movements\", \"('watch', 'VERB')\", \"<br> she put on her spectacles , and carefully examined <br> the wound , saying--  \", \"spectacles carefully wound saying--\", \"('examined', 'VERB')\", \"<br> the good knight fell at the lady 's feet <br> , and weeping took them and kissed them , <br> and you may be sure the good woman was <br> quite delighted to let him kiss them , and <br> even without looking too carefully to see what she <br> was going to do , she abandoned her dress <br> to him , knowing well that to keep it <br> from sweeping the ground it must be taken at <br> the bottom to raise it ; but it was <br> written that for that evening she should be good <br> , for the handsome lavalliere said to her with <br> despair--   \\\"\", \"looking carefully going\", \"('see', 'VERB')\", -12.812603674769308], [[\"glance\", \"NOUN\"], \"sight\", 97, 76, -0.3519853287435422, \"<br> ah ! sweet coz you have a wonderful glance <br> in your eye ; you move i know not\", \"wonderful glance\", \"('eye', 'NOUN')\", \"<br> now the old maid , who was all eyes <br> , and followed the great and notable changes which <br> were taking place in the person of this badly <br> hanged man , pulled the surgeon by the sleeve <br> , and pointing out to him , by a <br> curious glance of the eye , the piteous cause <br> , said to him--   \\\" will he for <br> the future be always like that ? \\\"  \", \"curious glance piteous cause\", \"('eye', 'NOUN')\", \"<br> when the officiating priest turned round to sing the <br> _ off you go _ to this fine gilded <br> flock , the constable 's wife went out by <br> the side of the pillar where her courtier was <br> , passed in front of him and endeavoured to <br> insinuate into his understanding by a speaking glance that <br> he was to follow her , and to make <br> positive the intelligence and significant interpretation of this gentle <br> appeal , the artful jade turned round again a <br> little after passing him to again request his company <br> .\", \"insinuate speaking glance\", \"('understanding', 'NOUN')\", 2.7863220829958935], [[\"fastened\", \"VERB\"], \"sight\", 40, 31, -0.3677317845004871, \"<br> all this time the young seneca kept his eye <br> fastened in one direction , apparently regarding some object <br> in the lake .\", \"young seneca kept fastened direction\", \"('eye', 'NOUN')\", \"NA\", \"NA\", \"NA\", \"NA\", \"NA\", \"NA\", 1.3746454144092253], [[\"closed\", \"VERB\"], \"sight\", 62, 48, -0.36923380966571906, \"<br> there was no wound , no blood , no <br> visible bruise ; but her eyes were closed , <br> she breathed not , her face was like death <br> .  \", \"bruise closed\", \"('eyes', 'NOUN')\", \"<br> louisa had once opened her eyes , but soon <br> closed them again , without apparent consciousness .  \", \"opened soon closed\", \"('eyes', 'NOUN')\", \"<br> when they stood by the cot where helene lay <br> sleeping , she put the curtains softly aside , <br> shading the candle with her hand , lest the <br> light should dazzle the half - closed eyes beneath <br> the transparent lids .\", \"half closed transparent lids\", \"('eyes', 'NOUN')\", 3.383724379886199], [[\"thoroughly\", \"ADV\"], \"sight\", 44, 34, -0.3719687773869579, \"<br> craigengelt had his own purposes in fooling him up <br> to the top of his bent ; and having <br> some low humour , much impudence , and the <br> power of singing a good song , understanding besides <br> thoroughly the disposition of his regained associate , he <br> headily succeeded in involving him bumper - deep in <br> the festivity of the meeting .   \", \"good song thoroughly disposition\", \"('understanding', 'NOUN')\", \"NA\", \"NA\", \"NA\", \"NA\", \"NA\", \"NA\", 15.997927177640705], [[\"walking\", \"VERB\"], \"sight\", 52, 39, -0.4150374992788438, \"<br> when marmaduke left his office after executing his disagreeable <br> duty , he met oliver edwards , walking up <br> the gravelled walk in front of the mansion - <br> house with great strides , and with a face <br> agitated by feeling .\", \"disagreeable duty oliver edwards walking\", \"('met', 'VERB')\", \"<br> the leaves had fallen thickly , and the stubble <br> - fields were bare , but autumn , in <br> a many - coloured tartan plaid , was seen <br> still walking with matronly composure in the woodlands , <br> along the brow of the neighbouring hills .  \", \"tartan plaid walking matronly\", \"('seen', 'VERB')\", \"<br> henrietta , conscious and ashamed , and seeing no <br> cousin charles walking along any path , or leaning <br> against any gate , was ready to do as <br> mary wished ; but \\\" no ! \\\" said <br> charles musgrove , and \\\" no , no ! <br> \\\"\", \"ashamed cousin charles walking\", \"('seeing', 'VERB')\", 14.012664043889771], [[\"accustomed\", \"VERB\"], \"sight\", 42, 31, -0.43812111239188506, \"<br> the contrast pressed so strongly upon the master 's <br> heart as to awaken some of the sterner feelings <br> with which he had been accustomed to regard the <br> new lord of his paternal domain , and to <br> impress his countenance with an air of severe gravity <br> , when , alighted from his horse , he <br> stood in the hall no longer his own , <br> surrounded by the numerous menials of its present owner <br> .  \", \"accustomed new lord\", \"('regard', 'VERB')\", \"NA\", \"NA\", \"NA\", \"NA\", \"NA\", \"NA\", 9.150812395054164], [[\"closely\", \"ADV\"], \"sight\", 61, 45, -0.4388842412332115, \"<br> then seeing that he did not move , she <br> examined him more closely , and was much astonished <br> at this so fine human nature when she recognised <br> the young fellow , upon whom the fancy took <br> her to perform some purely scientific experiments in the <br> interests of hanged persons .  \", \"closely\", \"('examined', 'VERB')\", \"<br> sir william ashton had , of course , closely <br> watched the expression of their countenances .\", \"course closely expression\", \"('watched', 'VERB')\", \"<br> \\\" she was , by the shuddering assistants , <br> conveyed to another and more retired apartment , where <br> she was secured as her situation required , and <br> closely watched .\", \"required closely\", \"('watched', 'VERB')\", 19.585118070617998], [[\"met\", \"VERB\"], \"sight\", 114, 83, -0.4578505828178168, \"<br> on the contrary , they met with a determined <br> purpose of resisting the exaction , and were only <br> undecided as to the mode of grounding their opposition <br> , when the cooper , a very important person <br> on a fishing - station , and one of <br> the conscript fathers of the village , observed , <br> \\\" that their hens had caickled mony a day <br> for the lords of ravenswood , and it was <br> time they suld caickle for those that gave them <br> roosts and barley . \\\"\", \"met purpose resisting\", \"('determined', 'ADJ')\", \"NA\", \"NA\", \"NA\", \"NA\", \"NA\", \"NA\", -4.88075144623699], [[\"bingley\", \"PROPN\"], \"sight\", 47, 34, -0.4671260104272979, \"<br> it would vex me , indeed , to see <br> you again the dupe of miss bingley 's pretended <br> regard . \\\"  \", \"miss bingley pretended\", \"('regard', 'NOUN')\", \"<br> with what delighted pride she afterwards visited mrs. bingley <br> , and talked of mrs. darcy , may be <br> guessed .\", \"delighted pride mrs. bingley\", \"('visited', 'VERB')\", \"NA\", \"NA\", \"NA\", -11.657264915641576], [[\"tears\", \"NOUN\"], \"sight\", 243, 173, -0.4901842759690564, \"<br> the lady burst into tears , admiring this great <br> loyalty , the sublime resignation to his oath , <br> and the extreme sufferings of this internal passion .\", \"burst tears great loyalty\", \"('admiring', 'VERB')\", \"NA\", \"NA\", \"NA\", \"NA\", \"NA\", \"NA\", 14.64268678925922], [[\"tower\", \"NOUN\"], \"sight\", 45, 32, -0.4918530963296747, \"<br> and according to another custom , not yet wholly <br> in desuetude , as the storm was now drifting <br> off to leeward , the master carried the keeper <br> to the top of his highest tower to admire <br> a wide and waste extent of view , and <br> to \\\" weary for his dinner . \\\"     \", \"highest tower wide waste\", \"('admire', 'VERB')\", \"<br> my father and i saw them from the tower <br> struggling against the advancing tide , and they were <br> lost long before any help could reach them . <br> \\\"  \", \"father tower\", \"('saw', 'VERB')\", \"<br> as they ran one by one past the master <br> , calling to each other to \\\" come and <br> see the auld tower blaw up in the lift <br> like the peelings of an ingan , \\\" he <br> could not but feel himself moved with indignation . <br> \\\"\", \"come auld tower blaw\", \"('see', 'VERB')\", 12.037009009094344], [[\"window\", \"NOUN\"], \"sight\", 90, 64, -0.4918530963296747, \"<br> \\\" just bucklaw bringing out the horses , \\\" <br> said caleb , after a glance through the window <br> , \\\" as if there werena men eneugh in <br> the castle , or as if i couldna serve <br> the turn of ony o ' them that are <br> out\", \"caleb window\", \"('glance', 'NOUN')\", \"<br> from this window i see a great light in <br> the direction where , if i remember aright , <br> wolf 's crag lies ; and , to judge <br> from the splendour which the old tower sheds around <br> it , the preparations for our reception must be <br> of no ordinary description .\", \"window great light\", \"('see', 'VERB')\", \"NA\", \"NA\", \"NA\", -2.892311900621886], [[\"eyes\", \"NOUN\"], \"sight\", 496, 352, -0.4947646917495779, \"<br> ravenswood sheathed his sword , uncocked and returned his <br> pistol to his belt ; walked deliberately to the <br> door of the apartment , which he bolted ; <br> returned , raised his hat from his forehead , <br> and gazing upon lucy with eyes in which an <br> expression of sorrow overcame their late fierceness , spread <br> his dishevelled locks back from his face , and <br> said , \\\" do you know me , miss <br> ashton ?\", \"forehead lucy eyes\", \"('gazing', 'VERB')\", \"NA\", \"NA\", \"NA\", \"NA\", \"NA\", \"NA\", 21.690055292403365], [[\"turned\", \"VERB\"], \"sight\", 296, 210, -0.49520784796282724, \"<br> then she turned away her eyes , and wished <br> to go to the queen and request her assistance <br> in this desperate case , for she took pity <br> on her lover , but one of the captains <br> said to her , with great appearance of respect <br> , \\\" madame , we have orders not to <br> allow you to speak with man or woman , <br> even though it should be the queen or your <br> confessor .\", \"turned away wished\", \"('eyes', 'NOUN')\", \"<br> at the arrival of her visitors she turned her <br> head towards them .\", \"arrival turned head\", \"('visitors', 'NOUN')\", \"<br> at length , when the youngster had fairly compelled <br> his attention by pulling his sleeve ,        he <br> turned his eyes , and , as he turned <br> , survey'd      \", \"turned\", \"('eyes', 'NOUN')\", 21.411527938004188], [[\"shut\", \"VERB\"], \"sight\", 79, 56, -0.4964258261194988, \"<br> \\\" but remember , that you shut your eyes <br> , and bent nearly double at the flash -- <br> now you owned all this yourself . \\\"  \", \"shut bent nearly\", \"('eyes', 'NOUN')\", \"<br> craigengelt rose , went a - tiptoe to the <br> door , peeped out , shut it carefully , <br> came back again , clapped his tarnished gold - <br> laced hat on one side of his head , <br> took his glass in one hand , and touching <br> the hilt of his hanger with the other , <br> named , \\\" the king over the water . <br> \\\"  \", \"door shut\", \"('peeped', 'VERB')\", \"NA\", \"NA\", \"NA\", 16.011406144739052], [[\"wise\", \"ADJ\"], \"sight\", 48, 34, -0.4974996594708167, \"<br> in 's gesture , converse , speech , discourse <br> , attire ,       he practis'd that which wise <br> men still admire ,       commend , and recommend <br> .  \", \"wise men commend\", \"('admire', 'VERB')\", \"<br> \\\" not so , master , you have mistaken <br> your man ; high airs and wise saws shall <br> not carry it off thus .\", \"high airs wise shall carry\", \"('saws', 'NOUN')\", \"<br> you are one of those wise men who see <br> everything with great composure till their blood is up <br> , and then -- woe to any one who <br> should put them in mind of their own prudential <br> maxims ! \\\"\", \"wise men great composure\", \"('see', 'VERB')\", -10.760783573171313], [[\"direction\", \"NOUN\"], \"sight\", 65, 46, -0.4988058569714416, \"<br> all this time the young seneca kept his eye <br> fastened in one direction , apparently regarding some object <br> in the lake .\", \"direction apparently object\", \"('regarding', 'VERB')\", \"NA\", \"NA\", \"NA\", \"NA\", \"NA\", \"NA\", 6.581820123746899], [[\"turning\", \"VERB\"], \"sight\", 91, 64, -0.5077946401986961, \"<br> both the look and the result were noticed by <br> maria ; and , turning a glance of rather <br> saucy meaning on the gentleman , she said--  \", \"turning saucy meaning\", \"('glance', 'NOUN')\", \"<br> to use your own language , \\\" she added <br> , turning her eyes towards him archly , \\\" <br> it is for her heart that i most love <br> her . \\\"  \", \"added turning archly\", \"('eyes', 'NOUN')\", \"<br> that means a person who sees clearly on a <br> dark night , instructs himself by examining and turning <br> over purses , and takes his degrees on the <br> high road .\", \"instructs turning purses\", \"('examining', 'VERB')\", -7.303835554749153], [[\"sun\", \"NOUN\"], \"sight\", 111, 78, -0.5090136474878575, \"<br> but the pockets are almost full , and so <br> is the basket - bonnet , and that bright <br> watch the sun says it is late ; and <br> after all it is wrong to rob the poor <br> boys -- is it not ,\", \"bright sun says\", \"('watch', 'VERB')\", \"<br> you may look an hour before you can find <br> a hole through which to get a peep at <br> the sun .\", \"sun\", \"('peep', 'NOUN')\", \"<br> there are days in which the sun is not <br> seen -- when a lurid darkness brings a second <br> night over the earth .\", \"sun lurid\", \"('seen', 'VERB')\", -3.6308295365538648], [[\"look\", \"VERB\"], \"sight\", 158, 111, -0.509364881826997, \"<br> \\\" look and see , \\\" replied the jeweller <br> , gravely .  \", \"look replied\", \"('see', 'VERB')\", \"NA\", \"NA\", \"NA\", \"NA\", \"NA\", \"NA\", -7.351636995530836], [[\"figure\", \"NOUN\"], \"sight\", 94, 66, -0.5101947323191839, \"<br> \\u201d cried the youth , turning quickly to the <br> place the other indicated ; but when he saw <br> the figure of elizabeth bending toward him in an <br> attitude that powerfully spoke terror , blended with reluctance <br> to meet him in such a place , the <br> shock deprived him of speech .  \", \"figure elizabeth\", \"('saw', 'VERB')\", \"<br> the marquis , staring vacantly into the tall mirror <br> across the room , without a thought of breaking <br> his implicit promise , saw the stranger 's figure <br> distinctly reflected by the opposite looking - glass , <br> and saw , too , a red stain suddenly <br> appear through the folds of the white bandage .\", \"implicit promise stranger figure\", \"('saw', 'VERB')\", \"<br> \\\" oh ! trust me , my love , <br> i shall not forget you now or ever , <br> \\\" replied her friend , embracing the other slightly <br> , and , perhaps , rather hastily for so <br> tender an adieu ; at the same time glancing <br> her eye on the figure of a youth , <br> who stood in silent contemplation of the scene . <br> \\\"\", \"time glancing figure\", \"('eye', 'NOUN')\", 28.785872588778723], [[\"curious\", \"ADJ\"], \"sight\", 66, 46, -0.5208321633014404, \"<br> now the old maid , who was all eyes <br> , and followed the great and notable changes which <br> were taking place in the person of this badly <br> hanged man , pulled the surgeon by the sleeve <br> , and pointing out to him , by a <br> curious glance of the eye , the piteous cause <br> , said to him--   \\\" will he for <br> the future be always like that ? \\\"  \", \"curious glance piteous cause\", \"('eye', 'NOUN')\", \"<br> this meeting took place very soon , and the <br> curious hunchback saw the boatman waiting below the square <br> , at the canal st. antoine , for the <br> young priest , who was handsome , blonde , <br> slender , and well - shaped , like the <br> gallant and cowardly hero of love , so celebrated <br> by monsieur ariosto .\", \"curious hunchback boatman waiting\", \"('saw', 'VERB')\", \"NA\", \"NA\", \"NA\", -9.569223503443627], [[\"slowly\", \"ADV\"], \"sight\", 46, 32, -0.523561956057013, \"<br> for a moment , natty held the steward suspended <br> , with his head just above the water , <br> while his eyes slowly opened and stared about him <br> , as if he thought that he had reached <br> a new and unexplored country .  \", \"eyes slowly opened\", \"('stared', 'VERB')\", \"<br> the young man gave a tender embrace to his <br> companion , and went towards the tilbury which an <br> old servant drove slowly to meet him .\", \"servant drove slowly\", \"('meet', 'VERB')\", \"<br> as they paced slowly on , admiring the different <br> points of view , for which sir william ashton <br> , notwithstanding the nature of his usual avocations , <br> had considerable taste and feeling , they were overtaken <br> by the forester , or park - keeper , <br> who , intent on silvan sport , was proceeding <br> with his cross - bow over his arm , <br> and a hound led in leash by his boy <br> , into the interior of the wood .  \", \"paced slowly different points\", \"('admiring', 'VERB')\", -17.558202668198266], [[\"pale\", \"ADJ\"], \"sight\", 62, 43, -0.5279315556847772, \"<br> \\\" oh ! put thine hand upon my heart <br> -- only thine hand -- and thou will see <br> me pale , when my blood shall have taken <br> the heat of thine . \\\"  \", \"thou pale\", \"('see', 'VERB')\", \"<br> it is better breaking a park - pale to <br> watch a doe or damsel than to shoot an <br> old man . \\\"  \", \"park pale doe damsel\", \"('watch', 'VERB')\", \"NA\", \"NA\", \"NA\", 20.50866165825818], [[\"opportunity\", \"NOUN\"], \"sight\", 88, 61, -0.5286942810744109, \"<br> the hunters came up one by one , and <br> watched an opportunity to assail him with some advantage <br> , which , in such circumstances , can only <br> be done with caution .\", \"opportunity assail\", \"('watched', 'VERB')\", \"NA\", \"NA\", \"NA\", \"NA\", \"NA\", \"NA\", 2.3801119929051224], [[\"lovely\", \"ADJ\"], \"sight\", 68, 47, -0.5328739895727019, \"<br> with this paraphrase of her idea , she cast <br> upon the said gentleman one of those warm ogles <br> that are only allowable to princesses and harlots , <br> and the false love which her lovely eyes bore <br> witness to , gave a pleasant pang to the <br> gallant of the pillar .\", \"lovely eyes bore gave\", \"('witness', 'NOUN')\", \"NA\", \"NA\", \"NA\", \"NA\", \"NA\", \"NA\", -9.079615240525044], [[\"trees\", \"NOUN\"], \"sight\", 55, 38, -0.5334322000810741, \"<br> while they were hurrying up the walk , two <br> figures , stealing cautiously but quickly under the shades <br> of the trees , met the eyes of the <br> ladies , and in a moment edwards and the <br> hunter crossed their path .  \", \"trees met ladies\", \"('eyes', 'NOUN')\", \"<br> from the place where she sat she could look <br> through the garden railings along the inner boulevards to <br> the wonderful dome of the invalides rising above the <br> crests of a forest of elm - trees , <br> and see the less striking view of her own <br> grounds terminating in the gray stone front of one <br> of the finest hotels in the faubourg saint - <br> germain .  \", \"trees striking view\", \"('see', 'VERB')\", \"NA\", \"NA\", \"NA\", 17.661773089939846], [[\"keeping\", \"VERB\"], \"sight\", 45, 31, -0.5376567859427994, \"<br> he raised his head from its musing position at <br> the first sounds of her voice , and smiled <br> faintly , and with an expression of anguish , <br> as she proceeded ; but when she had ended <br> , and taken her seat near him , still <br> keeping her eyes on his varying countenance , he <br> took her hand into his own before he replied <br> .\", \"keeping varying countenance\", \"('eyes', 'NOUN')\", \"NA\", \"NA\", \"NA\", \"NA\", \"NA\", \"NA\", -17.9318673343327], [[\"clearly\", \"ADV\"], \"sight\", 45, 31, -0.5376567859427994, \"<br> \\\" no , \\\" replied the canon , smiling <br> , \\\" because i shall have made my will <br> in proper form , the inheritance will be to <br> the sharpest of you three ; i am so <br> near to the future , that i can therein <br> see clearly your destinies . \\\"  \", \"clearly destinies\", \"('see', 'VERB')\", \"<br> that means a person who sees clearly on a <br> dark night , instructs himself by examining and turning <br> over purses , and takes his degrees on the <br> high road .\", \"means person clearly dark\", \"('sees', 'VERB')\", \"NA\", \"NA\", \"NA\", -9.301000524713631], [[\"wish\", \"VERB\"], \"sight\", 160, 110, -0.5405683813627027, \"<br> \\\" i wish lady ashton had seen this , <br> \\\" was his internal reflection ; \\\" no man <br> knows so well as bittlebrains on which side his <br> bread is buttered ; and he fawns on the <br> master like a beggar 's messan on a cook <br> .\", \"wish lady ashton\", \"('seen', 'VERB')\", \"NA\", \"NA\", \"NA\", \"NA\", \"NA\", \"NA\", 7.553345589435442], [[\"moon\", \"NOUN\"], \"sight\", 48, 33, -0.5405683813627027, \"<br> she consented , and i went , and , <br> since that time , sun , moon , and <br> stars may pursue their course : i know not <br> whether it is day or night ; the whole <br> world is nothing to me .  \", \"moon pursue course\", \"('stars', 'NOUN')\", \"<br> to wander over pathless wilds , surrounded by impetuous <br> whirlwinds , where , by the feeble light of <br> the moon , we see the spirits of our <br> ancestors ; to hear from the mountain - tops <br> , mid the roar of torrents , their plaintive <br> sounds issuing from deep caverns , and the sorrowful <br> lamentations of a maiden who sighs and expires on <br> the mossy tomb of the warrior by whom she <br> was adored .\", \"moon spirits\", \"('see', 'VERB')\", \"<br> \\\" often by the setting moon i see the <br> ghosts of my children ; half viewless they walk <br> in mournful conference together . \\\"  \", \"setting moon ghosts\", \"('see', 'VERB')\", -6.2891215388542925], [[\"expected\", \"VERB\"], \"sight\", 124, 85, -0.5448053742491735, \"<br> it was then only as a servant that he <br> could appear , and , after mature reflection , <br> julia confidently expected to see him in the character <br> of a coachman .  \", \"julia confidently expected character\", \"('see', 'VERB')\", \"<br> hearing these words , and seeing philippe de mala <br> disappear without giving her the amorous glances she expected <br> , the beautiful imperia , puffing like a dolphin <br> , denounced all the cowardice of the priest .\", \"giving amorous expected\", \"('glances', 'NOUN')\", \"<br> \\\" for shame , mr. girder ! \\\" said <br> the clergyman ; \\\" this is what i little <br> expected to have seen of you , that you <br> suld give rein to your sinful passions against your <br> nearest and your dearest , and this night too <br> , when ye are called to the most solemn <br> duty of a christian parent ; and a ' <br> for what ?\", \"little expected\", \"('seen', 'VERB')\", -5.675137411718193], [[\"frequently\", \"ADV\"], \"sight\", 98, 67, -0.5486206536574358, \"<br> then , in spite of the too great youth <br> of this charming servitor , during the collation and <br> supper , she eyed frequently the black hair , <br> the white skin , the grace of rene , <br> above all his eyes , where was an abundance <br> of limpid warmth and a great fire of life <br> , which he was afraid to shoot out -- <br> child that he was .  \", \"supper frequently black hair\", \"('eyed', 'VERB')\", \"<br> babie performed her mistress 's command with the grace <br> which was naturally to have been expected , moving <br> to and fro with a lobster - like gesture <br> , her feet and legs tending one way , <br> while her head , turned in a different direction <br> , was fixed in wonder upon the laird , <br> who was more frequently heard of than seen by <br> his tenants and dependants .\", \"frequently heard tenants\", \"('seen', 'VERB')\", \"<br> they met frequently afterwards , and always at sunset <br> , the charms of the nymph 's mind completing <br> the conquest which her beauty had begun , and <br> the mystery of the intrigue adding zest to both <br> .\", \"frequently\", \"('met', 'VERB')\", -10.087349709765029], [[\"catch\", \"VERB\"], \"sight\", 60, 41, -0.5493385909904348, \"<br> while i awaited his coming , my heart beat <br> wildly , as it    used to do when <br> i was a child stealing into the drawing - <br> room on    the last day of the old <br> year to catch a glimpse of the new year <br> 's    gifts piled up there in heaps .\", \"year catch new year\", \"('glimpse', 'NOUN')\", \"<br> as usual , julia was waiting with eager impatience <br> at the gate , her lovely form occasionally gliding <br> from the shrubbery to catch a glimpse of the <br> passengers on the highway , when charles appeared riding <br> at a full gallop towards the house ; his <br> whole manner announced success , and julia sprang into <br> the middle of the road to take the letter <br> which he extended towards her .  \", \"shrubbery catch passengers\", \"('glimpse', 'NOUN')\", \"<br> this discourse considerably astonished the lady bertha , who <br> let her cousin say her prayers , and make <br> other preparations for the night beneath the curtains of <br> the bed , into which my lord , inflamed <br> with desire , soon tumbled , happy at being <br> able to catch an occasional glimpse of the wondrous <br> charms of the chatelaine , which were in no <br> way injured .\", \"catch occasional wondrous charms\", \"('glimpse', 'NOUN')\", -3.4768237969324503], [[\"caught\", \"VERB\"], \"sight\", 170, 116, -0.5514099410101296, \"<br> charles heard the screams of miss emmerson , and <br> caught a glimpse of the dress of julia as <br> she sprang from the carriage .\", \"caught dress\", \"('glimpse', 'NOUN')\", \"<br> it was seldom that our heroine had been in <br> the public bar - room of a tavern -- <br> but , in gliding by the door , she <br> caught a glimpse of antonio in the bar ; <br> and , impelled by her feelings , she was <br> near him before she had time to collect her <br> scattered senses .\", \"caught antonio\", \"('glimpse', 'NOUN')\", \"NA\", \"NA\", \"NA\", 21.4359010645012], [[\"permitted\", \"VERB\"], \"sight\", 47, 32, -0.5545888516776374, \"<br> the gentlemen were sitting with their faces towards the <br> fire , and had not heard the light step <br> of miss henly as she entered the apartment , <br> but both instantly arose and paid their salutations ; <br> the invalid by a silent bow , and by <br> handing a chair , and delafield with many a <br> graceful compliment on her good looks , and divers <br> protestations concerning the pleasure he felt at being permitted <br> to visit at her house .\", \"permitted house\", \"('visit', 'VERB')\", \"<br> \\\" that is the very thing i complain of <br> , \\\" answered tinto ; \\\" you have accustomed <br> yourself so much to these creeping twilight details of <br> yours , that you are become incapable of receiving <br> that instant and vivid flash of conviction which darts <br> on the mind from seeing the happy and expressive <br> combinations of a single scene , and which gathers <br> from the position , attitude , and countenance of <br> the moment , not only the history of the <br> past lives of the personages represented , and the <br> nature of the business on which they are immediately <br> engaged , but lifts even the veil of futurity <br> , and affords a shrewd guess at their future <br> fortunes . \\\"   \\\" in that case , <br> \\\" replied i , \\\" paining excels the ape <br> of the renowned gines de passamonte , which only <br> meddled with the past and the present ; nay <br> , she excels that very nature who affords her <br> subject ; for i protest to you , dick <br> , that were i permitted to peep into that <br> elizabeth - chamber , and see the persons you <br> have sketched conversing in flesh and blood , i <br> should not be a jot nearer guessing the nature <br> of their business than i am at this moment <br> while looking at your sketch .\", \"permitted elizabeth\", \"('peep', 'VERB')\", \"NA\", \"NA\", \"NA\", 4.321117828270924], [[\"face\", \"NOUN\"], \"sight\", 271, 184, -0.5585870852968586, \"<br> he 's as soon a - bleeze as a <br> tap of tow , the lad bucklaw , \\\" <br> he said ; \\\" but the deil of ony <br> master 's face he shall see till he has <br> sleepit and waken'd on't .\", \"face shall sleepit\", \"('see', 'VERB')\", \"<br> the boy ran up to him , and pulled <br> him by the skirt of the coat with the <br> freedom of a spoilt child , saying , \\\" <br> i say , sir , if you please to <br> tell me---- \\\" but when the master turned round <br> , and henry saw his face , he became <br> suddenly and totally disconcerted ; walked two or three <br> steps backward , and still gazed on ravenswood with <br> an air of fear and wonder , which had <br> totally banished from his features their usual expression of <br> pert vivacity .  \", \"round henry face\", \"('saw', 'VERB')\", \"NA\", \"NA\", \"NA\", 11.952744381848891], [[\"plainly\", \"ADV\"], \"sight\", 84, 57, -0.5594274086140185, \"<br> her caresses , and a something in the carriage <br> of her head , were interpreted yet more plainly <br> by the joy sparkling in her eyes .  \", \"head plainly\", \"('interpreted', 'VERB')\", \"NA\", \"NA\", \"NA\", \"NA\", \"NA\", \"NA\", 0.6516084580153041], [[\"live\", \"VERB\"], \"sight\", 65, 44, -0.5629361943911572, \"<br> \\\" you were wo nt to be thought a <br> stirring active young fellow , master , \\\" was <br> his frequent remonstrance ; \\\" yet here you seem <br> determined to live on and on like a rat <br> in a hole , with this trifling difference , <br> that the wiser vermin chooses a hermitage where he <br> can find food at least ; but as for <br> us , caleb 's excuses become longer as his <br> diet turns more spare , and i fear we <br> shall realise the stories they tell of the slother <br> : we have almost eat up the last green <br> leaf on the plant , and have nothing left <br> for it but to drop from the tree and <br> break our necks .\", \"live\", \"('determined', 'ADJ')\", \"<br> such a misfortune to befa ' the house of <br> ravenswood , and i to live to see it <br> . \\\"  \", \"live\", \"('see', 'VERB')\", \"NA\", \"NA\", \"NA\", 7.6860633314949425], [[\"light\", \"NOUN\"], \"sight\", 200, 135, -0.5670405927238937, \"<br> with the first peep of light , caleb balderstone <br> again resorted to the door of ravenswood 's sleeping <br> apartment , through a chink of which he observed <br> him engaged in measuring the length of two or <br> three swords which lay in a closet adjoining to <br> the apartment .\", \"light caleb\", \"('peep', 'NOUN')\", \"NA\", \"NA\", \"NA\", \"NA\", \"NA\", \"NA\", 5.932610961231167], [[\"progress\", \"NOUN\"], \"sight\", 55, 37, -0.5719063478957098, \"<br> she sate upon one of the disjointed stones of <br> the ancient fountain , and seemed to watch the <br> progress of its current , as it bubbled forth <br> to daylight , in gay and sparkling profusion , <br> from under the shadow of the ribbed and darksome <br> vault , with which veneration , or perhaps remorse <br> , had canopied its source .\", \"progress\", \"('watch', 'VERB')\", \"NA\", \"NA\", \"NA\", \"NA\", \"NA\", \"NA\", 18.339386212331085], [[\"heaven\", \"PROPN\"], \"sight\", 125, 84, -0.5734668618833266, \"<br> when she left the poor lodging of her weeping <br> mother to consummate her betrothal at the cathedral of <br> st. gatien and st. maurice , the country people <br> came to a feast their eyes upon the bride <br> , and on the carpets which were laid down <br> all along the rue de la scellerie , and <br> all said that never had tinier feet pressed the <br> ground of touraine , prettier eyes gazed up to <br> heaven , or a more splendid festival adorned the <br> streets with carpets and with flowers .\", \"touraine prettier eyes heaven\", \"('gazed', 'VERB')\", \"<br> and all these paraphrases of the common canticle known <br> to the ladies at their birth were ejaculated between <br> a thousand pauses , interrupted with sighs torn from <br> the heart , ornamented with quiverings , appeals to <br> heaven , upturned eyes , sudden blushings and clutchings <br> at her hair .\", \"heaven upturned sudden blushings\", \"('eyes', 'NOUN')\", \"NA\", \"NA\", \"NA\", -19.033083920041264], [[\"keen\", \"ADJ\"], \"sight\", 75, 50, -0.5849625007211563, \"<br> \\\" and the father , who is as keen <br> to see the match concluded as ever i have <br> been to win a main ? \\\"  \", \"keen match concluded\", \"('see', 'VERB')\", \"<br> having said this , he saluted her with more <br> emotion than was consistent with his usual train of <br> feeling , and took his leave ; lady ashton <br> , as she accompanied him out of the apartment <br> , assuring him that her daughter did full justice <br> to the sincerity of his attachment , and requesting <br> him to see sir william before his departure , <br> \\\" since , \\\" as she said , with <br> a keen glance reverting towards lucy , \\\" against <br> st. jude 's day , we must all be <br> ready to sign and seal . \\\"   \\\" <br> to sign and seal ! \\\"\", \"keen reverting lucy\", \"('glance', 'NOUN')\", \"NA\", \"NA\", \"NA\", -18.794915522826038], [[\"seated\", \"VERB\"], \"sight\", 45, 30, -0.5849625007211563, \"<br> at length he recollected himself , and , turning <br> his head slowly around the apartment , he beheld <br> elizabeth , still seated on the sofa , but <br> with her head dropped on her bosom , and <br> her face again concealed by her hands .  \", \"apartment elizabeth seated\", \"('beheld', 'VERB')\", \"<br> the eyes of natty followed the direction of edwards\\u2019 <br> finger , where he beheld the indian still seated <br> as before ,   with the very earth under <br> his feet consuming with fire .  \", \"finger indian seated\", \"('beheld', 'VERB')\", \"<br> i 'll light a big fire to warm him <br> when he returns ; \\\" and the good shepherd <br> ran into the room where the canon generally sat <br> , and to his great astonishment beheld him seated <br> in his chair .  \", \"great astonishment seated\", \"('beheld', 'NOUN')\", -20.363844313450638], [[\"turn\", \"VERB\"], \"sight\", 75, 49, -0.6141088463806728, \"<br> master cornelius , passim _ ) , met two <br> black crows , or seen the dead man turn <br> in his grave , that you are so upset <br> ? \\\"  \", \"black crows dead man turn\", \"('seen', 'VERB')\", \"NA\", \"NA\", \"NA\", \"NA\", \"NA\", \"NA\", -6.519105886168761], [[\"open\", \"VERB\"], \"sight\", 63, 41, -0.6197279188818328, \"<br> the marquise , with a swelling heart and dry <br> eyes , in painful agitation , which none but <br> a mother can fully understand , began to open <br> moina 's eyes to the risk that she was <br> running .\", \"open moina risk\", \"('eyes', 'NOUN')\", \"<br> hearing this the poor lover tried to open his <br> eyes , and only succeeded in showing a little <br> bit of the white of them .  \", \"tried open succeeded\", \"('eyes', 'NOUN')\", \"<br> one evening the canon began discoursing concerning the devil <br> and the grave agonies , penances , tortures , <br> etc . , which god will get warm for <br> the accursed , and the good chiquon hearing it <br> , began to open his eyes as wide as <br> the door of an oven , at the statement <br> , without believing a word of it .  \", \"began open wide\", \"('eyes', 'NOUN')\", 10.990819873591631], [[\"glad\", \"ADJ\"], \"sight\", 186, 120, -0.632268215499513, \"<br> \\\" i apprehend your flute , which , by <br> the by , i am glad to see you <br> have brought , will be rather in the penseroso <br> style this evening , mr. delafield .\", \"glad brought\", \"('see', 'VERB')\", \"<br> \\\" well , master , i am glad to <br> see that the devil deals as cunningly with other <br> folk as he deals with me ; for whenever <br> i am about to commit any folly , he <br> persuades me it is the most necessary , gallant <br> , gentlemanlike thing on earth , and i am <br> up to saddlegirths in the bog before i see <br> that the ground is soft .\", \"glad devil deals\", \"('see', 'VERB')\", \"NA\", \"NA\", \"NA\", 42.289670519104526], [[\"meaning\", \"NOUN\"], \"sight\", 76, 49, -0.6332176693283773, \"<br> the evening passed swiftly , and the hour for <br> bed arrived without any other communication between julia and <br> anna than whisperings and pressures of the hands , <br> together with a thousand glances of peculiar meaning with <br> the eyes .\", \"peculiar meaning\", \"('eyes', 'NOUN')\", \"<br> lucy returned the scornful glance of her lover with <br> a gaze from which perception seemed to have been <br> banished ; yet she seemed partly to have understood <br> his meaning , for she raised her hands as <br> if to undo a blue ribbon which she wore <br> around her neck .\", \"partly meaning\", \"('understood', 'VERB')\", \"NA\", \"NA\", \"NA\", 7.818953566917721], [[\"pass\", \"VERB\"], \"sight\", 58, 37, -0.6485276294986222, \"<br> he saw him according reach the fatal spot ; <br> but he never saw him pass further .   \", \"pass\", \"('saw', 'VERB')\", \"NA\", \"NA\", \"NA\", \"NA\", \"NA\", \"NA\", 39.32891516879396], [[\"threw\", \"VERB\"], \"sight\", 55, 35, -0.6520766965796931, \"<br> at each turn of the walk our heroine threw <br> a timid eye around in quest of an unknown <br> figure , and more than once fancied she saw <br> the face of the god of music peering at <br> her from the friendly covert of her aunt 's <br> shrubbery -- and twice she mistook the light green <br> of a neighbouring cornfield , waving in the wind <br> , for the coat of antonio .\", \"heroine threw timid quest\", \"('eye', 'NOUN')\", \"<br> the timorous , courteous glance which he threw around <br> him , the effect of the partial light upon <br> his white hair and illumined features , might have <br> made a good painting ; but our travellers were <br> too impatient for security against the rising storm to <br> permit them to indulge themselves in studying the picturesque <br> . \\\"\", \"timorous courteous threw\", \"('glance', 'NOUN')\", \"NA\", \"NA\", \"NA\", 29.14542485467872], [[\"stand\", \"VERB\"], \"sight\", 49, 31, -0.6605135337283329, \"<br> what a strange fellow - feeling with the past <br> it gave one to stand staring at the old <br> books , with their paper backs and old - <br> fashioned covers , at the gray boards , which <br> were the liveries of literature in those early days <br> ; at the first editions , with their inscriptions <br> in the author 's handwriting , or in maria <br> 's pretty caligraphy .\", \"gave stand old books\", \"('staring', 'VERB')\", \"<br> i must go and examine how matters stand at <br> wolf 's crag myself . \\\"  \", \"matters stand\", \"('examine', 'VERB')\", \"<br> craigengelt , \\\" he added , in an undertone <br> , \\\" d -- n ye , why do <br> you stand staring as if you saw a ghost <br> ?\", \"stand saw\", \"('staring', 'VERB')\", 19.285797501866526], [[\"filled\", \"VERB\"], \"sight\", 76, 48, -0.6629650127224294, \"<br> \\\" i am not feeling well , \\\" she <br> said at last , taking alarm at the pause <br> fraught with such great moment for them both , <br> when the language of the eyes completely filled the <br> blank left by the helplessness of speech .  \", \"language completely filled blank\", \"('eyes', 'NOUN')\", \"<br> as he sat , with the light turned full <br> upon his face , and the rest of his <br> body in shadow , he looked like one of <br> raphael 's dark portraits of himself -- a bent <br> head and intent eyes filled with visions of the <br> future .  \", \"bent head intent filled visions\", \"('eyes', 'NOUN')\", \"<br> the fancied picture had grown almost real , when <br> the tears filled his eyes , and , to <br> hide his emotion , he turned his face towards <br> the sea - line , opposite the hazy streak <br> that meant land .  \", \"tears filled\", \"('eyes', 'NOUN')\", 13.842482736025133], [[\"days\", \"NOUN\"], \"sight\", 97, 61, -0.6691755046242414, \"<br> we parted , however , without further explanation , <br> and i did not see him until three days <br> after , when he summoned me to partake of <br> the \\\" foy \\\" with which his landlord proposed <br> to regale him ere his departure for edinburgh . <br>  \", \"days\", \"('see', 'VERB')\", \"NA\", \"NA\", \"NA\", \"NA\", \"NA\", \"NA\", 5.6189298718619165], [[\"white\", \"ADJ\"], \"sight\", 110, 69, -0.6728352567464904, \"<br> ye may gang down yoursell , and look into <br> our kitchen -- the cookmaid in the trembling exies <br> -- the gude vivers lying a ' about -- <br> beef , capons , and white broth -- florentine <br> and flams -- bacon wi ' reverence -- and <br> a ' the sweet confections and whim - whams <br> -- ye'll see them a ' , my leddy <br> -- that is , \\\" said he , correcting <br> himself , \\\" ye'll no see ony of them <br> now , for the cook has soopit them up <br> , as was weel her part ; but ye'll <br> see the white broth where it was spilt .\", \"white broth\", \"('see', 'VERB')\", \"NA\", \"NA\", \"NA\", \"NA\", \"NA\", \"NA\", 10.317653032266858], [[\"form\", \"NOUN\"], \"sight\", 126, 79, -0.6734991753228136, \"<br> several times did our traveler stop to gaze on <br> that immovable form .\", \"traveler stop immovable form\", \"('gaze', 'VERB')\", \"NA\", \"NA\", \"NA\", \"NA\", \"NA\", \"NA\", -14.672650615319505], [[\"eye\", \"NOUN\"], \"sight\", 372, 232, -0.6811778159804592, \"<br> from the boy 's earliest youth , when the <br> good tryballot set him to watch the birds who <br> came to eat the peas , beans , and <br> the grain , and to drive the thieves away <br> , above all , the jays , who spoiled <br> everything , he would study their habits , and <br> took delight in watching with what grace they came <br> and went , flew off loaded , and returned <br> , watching with a quick eye the snares and <br> nets ; and he would laugh heartily at their <br> cleverness in avoiding them .\", \"returned quick eye\", \"('watching', 'VERB')\", \"<br> now the old maid , who was all eyes <br> , and followed the great and notable changes which <br> were taking place in the person of this badly <br> hanged man , pulled the surgeon by the sleeve <br> , and pointing out to him , by a <br> curious glance of the eye , the piteous cause <br> , said to him--   \\\" will he for <br> the future be always like that ? \\\"  \", \"curious eye\", \"('glance', 'NOUN')\", \"NA\", \"NA\", \"NA\", 21.461861518752396], [[\"standing\", \"VERB\"], \"sight\", 50, 31, -0.6896598793878495, \"<br> lockhard and another domestic , who had in vain <br> attempted to oppose his passage through the gallery or <br> antechamber , were seen standing on the threshold transfixed <br> with surprise , which was instantly communicated to the <br> whole party in the state - room .\", \"antechamber standing threshold\", \"('seen', 'VERB')\", \"NA\", \"NA\", \"NA\", \"NA\", \"NA\", \"NA\", -11.66357734157731], [[\"large\", \"ADJ\"], \"sight\", 111, 68, -0.7069530250997667, \"<br> \\\" my dear , \\\" said the judge , <br> \\\" i am going to hold the bodkin , <br> of which the eye is sufficiently large , to <br> put this thread into it without trouble .\", \"sufficiently large\", \"('eye', 'NOUN')\", \"NA\", \"NA\", \"NA\", \"NA\", \"NA\", \"NA\", -21.456655272039587], [[\"frequent\", \"ADJ\"], \"sight\", 54, 33, -0.710493382805015, \"<br> \\\" it is impossible for me to leave the <br> young lady in the wood alone , \\\" said <br> ravenswood ; \\\" to see her once more can <br> be of little consequence , after the frequent meetings <br> we have had .\", \"frequent\", \"('meetings', 'NOUN')\", \"NA\", \"NA\", \"NA\", \"NA\", \"NA\", \"NA\", 25.451928498743428], [[\"kept\", \"VERB\"], \"sight\", 125, 76, -0.7178567712185016, \"<br> all this time the young seneca kept his eye <br> fastened in one direction , apparently regarding some object <br> in the lake .\", \"young seneca kept fastened direction\", \"('eye', 'NOUN')\", \"NA\", \"NA\", \"NA\", \"NA\", \"NA\", \"NA\", -7.229758081733551], [[\"opened\", \"VERB\"], \"sight\", 153, 93, -0.7182290315846205, \"<br> thereupon pasquerette opened her eyes and then bent her <br> head slightly to look at her flesh , which <br> was white and firm , and she brought herself <br> to life by a box on the ears , <br> administered to the captain .  \", \"pasquerette opened bent\", \"('eyes', 'NOUN')\", \"<br> the mother opened her eyes pretty widely , you <br> may imagine -- at the cries of her little <br> one ; and was greatly terrified at seeing him <br> in the hands of her husband , who had <br> his right hand all bloody , and cast a <br> fierce glance on the mother and son .  \", \"mother opened pretty widely\", \"('eyes', 'NOUN')\", \"<br> see - wise opened his ears wide to this <br> talk , and the young men listened to his <br> words as they listened to the song of the <br> mocking - bird .\", \"wise opened\", \"('see', 'VERB')\", -6.11767287887727], [[\"pay\", \"VERB\"], \"sight\", 114, 69, -0.7243655573865726, \"<br> julia ran over in her mind the time when <br> she should pay an annual visit to that hallowed <br> place , and leaning on the arm of her <br> majestic husband , murmur in his ear , \\\" <br> here , on this loved spot , did antonio <br> first address his happy , thrice happy julia . <br> \\\"  \", \"pay annual hallowed place\", \"('visit', 'NOUN')\", \"<br> now , for being able to revenge herself upon <br> louis , she at least determined to pay out <br> the said lords , to make fools of them <br> , and amuse the king with the tricks she <br> would play upon them .\", \"pay\", \"('determined', 'ADJ')\", \"<br> at the time , he was too full of <br> his own appearance , his sword , his laced <br> cloak , his feathered hat , and his managed <br> horse , to pay much regard to anything else <br> ; but he afterwards remembered to the hour of <br> his death , that when the hand of his <br> sister , by which she supported hersel on the <br> pillion behind him , touched his own , it <br> felt as wet and cold as sepulchral marble . <br>  \", \"pay\", \"('regard', 'NOUN')\", -3.262207120313172], [[\"happened\", \"VERB\"], \"sight\", 53, 32, -0.7279204545631992, \"<br> but this was the only one that ever happened <br> in touraine , seeing that the country is far <br> from egypt and from bohemia .\", \"happened touraine country\", \"('seeing', 'VERB')\", \"<br> she had never happened to see a young man <br> of mien and features so romantic and so striking <br> as young ravenswood ; but had she seen an <br> hundred his equals or his superiors in those particulars <br> , no one else would have been linked to <br> her heart by the strong associations of remembered danger <br> and escape , of gratitude , wonder , and <br> curiosity .\", \"happened young man\", \"('see', 'VERB')\", \"NA\", \"NA\", \"NA\", -1.160304995949723], [[\"chance\", \"NOUN\"], \"sight\", 68, 41, -0.7299108366322558, \"<br> he taught himself to answer all possible questions , <br> but on the morrow if by chance he met <br> one of the aforesaid princesses dressed out , seated <br> in a litter and escorted by her proud and <br> well - armed pages , he remained open - <br> mouthed , like a dog in the act of <br> catching flies , at the sight of sweet countenance <br> that so much inflamed him .\", \"chance aforesaid\", \"('met', 'VERB')\", \"<br> \\\" i think you had better , \\\" said <br> ravenswood , \\\" otherwise i see little chance of <br> their being attended to at all .\", \"little chance\", \"('see', 'VERB')\", \"NA\", \"NA\", \"NA\", -3.3008795581513835], [[\"house\", \"NOUN\"], \"sight\", 249, 149, -0.7408334116059193, \"<br> he turned , for a moment 's space to <br> reconnoitre the \\\" ben , \\\" or parlour end <br> of the house , and there saw a sight <br> scarce less affecting to his feelings -- a large <br> round table , covered for ten or twelve persons <br> , decored ( according to his own favourite terms <br> ) with napery as white as snow , grand <br> flagons of pewter , intermixed with one or two <br> silver cups , containing , as was probable , <br> something worthy the brilliancy of their outward appearance , <br> clean trenchers , cutty spoons , knives and forks <br> , sharp , burnished , and prompt for action <br> , which lay all displayed as for an especial <br> festival .  \", \"house sight scarce\", \"('saw', 'VERB')\", \"<br> and , sir , were this otherwise , i <br> would not listen to a proposal from you , <br> or any of your house , seeing their hand <br> has been uniformly held up against the freedom of <br> the subject and the immunities of god 's kirk <br> .\", \"house hand\", \"('seeing', 'VERB')\", \"NA\", \"NA\", \"NA\", -19.858970428495738], [[\"purpose\", \"NOUN\"], \"sight\", 96, 57, -0.7520724865564145, \"<br> but what was most to our present purpose , <br> there were seen from the terrace two roads , <br> one leading from the east , and one from <br> the westward , which , crossing a ridge opposed <br> to the eminence on which the castle stood , <br> at different angles , gradually approached each other , <br> until they joined not far from the gate of <br> the avenue .\", \"purpose terrace\", \"('seen', 'VERB')\", \"<br> in most mothers this would have moved compassion ; <br> but lady ashton , compact and firm of purpose <br> , saw these waverings of health and intellect with <br> no greater sympathy than that with which the hostile <br> engineer regards the towers of a beleaguered city as <br> they reel under the discharge of his artillery ; <br> or rather , she considered these starts and inequalities <br> of temper as symptoms of lucy 's expiring resolution <br> ; as the angler , by the throes and <br> convulsive exertions of the fish which he has hooked <br> , becomes aware that he soon will be able <br> to land him .\", \"firm purpose waverings health\", \"('saw', 'VERB')\", \"NA\", \"NA\", \"NA\", 5.934786730097605], [[\"acquaintance\", \"NOUN\"], \"sight\", 59, 35, -0.7533600324168749, \"<br> on arriving at the change - house of the <br> village of wolf 's hope , he unexpectedly met <br> with an acquaintance just alighting from his horse .\", \"hope unexpectedly acquaintance\", \"('met', 'VERB')\", \"<br> they were crossing the country to go to the <br> southward ; the roads were indifferent ; the accommodation <br> of the inns as execrable as possible ; the <br> lord keeper had been long acquainted intimately with one <br> of his correspondents , and , though more slightly <br> known to the marquis , had yet enough of <br> his lordship 's acquaintance to render the visit sufficiently <br> natural , and to shut the mouths of those <br> who might be disposed to impute it to a <br> political intrigue .\", \"acquaintance render sufficiently natural\", \"('visit', 'NOUN')\", \"NA\", \"NA\", \"NA\", -9.979596037839066], [[\"day\", \"NOUN\"], \"sight\", 359, 212, -0.7599195792598522, \"<br> i have seen the day when ten of the <br> bannocks which stand upon that board would have been <br> an acceptable dainty to as many men , that <br> were starving on hills and bogs , and in <br> caves of the earth , for the gospel 's <br> sake . \\\"  \", \"day\", \"('seen', 'VERB')\", \"<br> indeed , the evidence of ravenswood 's infidelity began <br> to assume every day a more determined character .\", \"day character\", \"('determined', 'ADJ')\", \"NA\", \"NA\", \"NA\", -18.55960687929222], [[\"sir\", \"NOUN\"], \"sight\", 80, 47, -0.7673392432097249, \"<br> do , sir , come and see old alice <br> . \\\"  \", \"sir come old alice\", \"('see', 'VERB')\", \"<br> ou , ye see , sir , \\\" said <br> the sexton , \\\" as for the auld gudesire <br> body of a lord , i lived on his <br> land when i was a swanking young chield , <br> and could hae blawn the trumpet wi ' ony <br> body , for i had wind eneugh then ; <br> and touching this trumpeter marine that i have heard <br> play afore the lords of the circuit , i <br> wad hae made nae mair\", \"ou sir\", \"('see', 'VERB')\", \"NA\", \"NA\", \"NA\", -14.65107904768047], [[\"expect\", \"VERB\"], \"sight\", 63, 37, -0.7678265578709667, \"<br> we arrived too late for the steam - boat <br> , and are obliged to wait till monday morning <br> ; but to - morrow we shall go to <br> church , where i expect to see what sort <br> of creatures the beaux are .  \", \"expect sort creatures\", \"('see', 'VERB')\", \"NA\", \"NA\", \"NA\", \"NA\", \"NA\", \"NA\", 13.412743066877479], [[\"hope\", \"VERB\"], \"sight\", 113, 66, -0.7757848430567342, \"<br> \\\" master of ravenswood , \\\" said sir william <br> ashton , with some embarrassment , \\\" i hope <br> you understand the christian law too well to suffer <br> the sun to set upon your anger . \\\" <br>  \", \"hope christian law\", \"('understand', 'VERB')\", \"NA\", \"NA\", \"NA\", \"NA\", \"NA\", \"NA\", 2.782400017883297], [[\"looked\", \"VERB\"], \"sight\", 186, 108, -0.7842713089445628, \"<br> they were at the very edge when the general <br> looked into the tawny eyes of the man who <br> had stolen his daughter .\", \"looked tawny man\", \"('eyes', 'NOUN')\", \"<br> then la portillone straightens the thread , and rubs <br> it in the wax of the candle , to <br> make it firm and straight ; then she looked <br> towards the eye of the bodkin , held by <br> the judge , slipping always to the right or <br> to the left .\", \"looked bodkin\", \"('eye', 'NOUN')\", \"<br> his eyes glistened as he looked upon a couple <br> who were obviously becoming attached , and who seemed <br> made for each other .\", \"glistened looked\", \"('eyes', 'NOUN')\", -15.06215362594032], [[\"satisfaction\", \"NOUN\"], \"sight\", 81, 47, -0.7852611512069873, \"<br> there was so much truth in this remark , <br> that the young man could only smile in silence <br> , while seymour , surveying the very plain exterior <br> of his new acquaintance , turned his eyes with <br> additional satisfaction towards a mirror that reflected his own <br> form from head to feet .  \", \"acquaintance turned additional satisfaction\", \"('eyes', 'NOUN')\", \"NA\", \"NA\", \"NA\", \"NA\", \"NA\", \"NA\", -20.43714273470165], [[\"look\", \"NOUN\"], \"sight\", 147, 85, -0.7902814086986627, \"<br> as delafield turned his eye , at a little <br> loss to know whether to be pleased or not <br> with his own humility , he met a look <br> from charlotte that more than rewarded him for the <br> effort .\", \"humility look charlotte\", \"('met', 'VERB')\", \"<br> i fear neither his violence nor his weapons , <br> though some , \\\" she said , glancing a <br> look towards colonel ashton , \\\" who bear my <br> name appear more moved by them . \\\"  \", \"said look colonel\", \"('glancing', 'VERB')\", \"NA\", \"NA\", \"NA\", -2.6578443317994824], [[\"mean\", \"VERB\"], \"sight\", 52, 30, -0.7935491225325737, \"<br> a raw scotchman , contrasted with a sharp londoner <br> , is very inadroit and awkward , be his <br> talents what they may ; and i suspect , <br> that even the most brilliant of your old class <br> - fellows have , in their professional visits to <br> this metropolis , had some experience of what i <br> mean .                                                             \", \"metropolis mean\", \"('experience', 'NOUN')\", \"<br> it was in one of these short meetings , <br> each apparently occupied in admiring a fine display of <br> greenhouse plants , that she said--   \\\" i <br> have been thinking over the past , and trying <br> impartially to judge of the right and wrong , <br> i mean with regard to myself ; and i <br> must believe that i was right , much as <br> i suffered from it , that i was perfectly <br> right in being guided by the friend whom you <br> will love better than you do now .  \", \"mean\", \"('regard', 'NOUN')\", \"<br> the look in the young countess ' eyes did <br> not mean love as the marquise understood it .\", \"young countess mean love\", \"('eyes', 'NOUN')\", -6.07157166194506], [[\"trust\", \"VERB\"], \"sight\", 52, 30, -0.7935491225325737, \"<br> as you have taken up the cross , and <br> become a follower of good and an eschewer of <br> evil , i trust i shall see you before <br> the altar , with a contrite heart and a <br> meek spirit .\", \"trust shall altar\", \"('see', 'VERB')\", \"<br> there is but little reason to doubt that , <br> \\u201d said elizabeth , whose decided tones were changed <br> to a soft , melancholy voice ; \\u201c i <br> trust we shall all meet again , and be <br> happy together .\", \"trust shall\", \"('meet', 'VERB')\", \"<br> there are , absolutely , but three young men <br> in the whole county who can be thought in <br> any manner as proper matches for us ; and <br> one has no chance here of forming such an <br> association as to give a girl an opportunity of <br> meeting with her congenial spirit , so that i <br> hope and trust your desire to see me will <br> continue as strong as mine will ever be to <br> see my julia .\", \"trust desire continue\", \"('see', 'VERB')\", -13.856218323758636], [[\"wonder\", \"NOUN\"], \"sight\", 59, 34, -0.7951802081115018, \"<br> the praises sung in honour of this lady had <br> such an effect , that the king came to <br> beauvoisis to gaze upon this wonder , and did <br> the sire the honour to sleep at beaumont , <br> remained there three days , and had a royal <br> hunt there with the queen and the whole court <br> .\", \"came beauvoisis wonder\", \"('gaze', 'VERB')\", \"NA\", \"NA\", \"NA\", \"NA\", \"NA\", \"NA\", 2.6706964157669333], [[\"valancourt\", \"PROPN\"], \"sight\", 113, 65, -0.7978111493867333, \"<br> count de villefort had received them from authority which <br> he had no reason to doubt , and which <br> the imprudent conduct he had himself witnessed in valancourt <br> , had certainly induced him the more readily to <br> believe .\", \"conduct valancourt\", \"('witnessed', 'VERB')\", \"<br> when the first congratulations were over , and the <br> general joy became somewhat more tranquil , the count <br> withdrew with valancourt to the library , where a <br> long conversation passed between them , in which the <br> latter so clearly justified himself of the criminal parts <br> of the conduct , imputed to him , and <br> so candidly confessed and so feelingly lamented the follies <br> , which he had committed , that the count <br> was confirmed in his belief of all he had <br> hoped ; and , while he perceived so many <br> noble virtues in valancourt , and that experience had <br> taught him to detest the follies , which before <br> he had only not admired , he did not <br> scruple to believe , that he would pass through <br> life with the dignity of a wise and good <br> man , or to entrust to his care the <br> future happiness of emily st. aubert , for whom <br> he felt the solicitude of a parent .\", \"valancourt taught\", \"('experience', 'NOUN')\", \"<br> when they returned to the supper - room , <br> the countess and lady blanche met valancourt with sincere <br> congratulations ; and blanche , indeed , was so <br> much rejoiced to see emily returned to happiness , <br> as to forget , for a while , that <br> mons .\", \"countess lady blanche valancourt sincere congratulations\", \"('met', 'VERB')\", -2.8785311468268597], [[\"wished\", \"VERB\"], \"sight\", 120, 69, -0.7983661388303496, \"<br> this young man had long hair , and was <br> so handsome that the whole town wished to see <br> him hanged , both from regret and out of <br> curiosity .\", \"town wished hanged\", \"('see', 'VERB')\", \"<br> then she turned away her eyes , and wished <br> to go to the queen and request her assistance <br> in this desperate case , for she took pity <br> on her lover , but one of the captains <br> said to her , with great appearance of respect <br> , \\\" madame , we have orders not to <br> allow you to speak with man or woman , <br> even though it should be the queen or your <br> confessor .\", \"turned away wished\", \"('eyes', 'NOUN')\", \"<br> his pride , however , soon shook off this <br> feeling of dejection , and it gave way to <br> impatience upon finding that his volatile friend bucklaw seemed <br> in no hurry to return with his borrowed steed <br> , which ravenswood , before leaving the field , <br> wished to see restored to the obliging owner .\", \"field wished restored obliging\", \"('see', 'VERB')\", 6.626882559023475], [[\"morning\", \"NOUN\"], \"sight\", 225, 129, -0.8025539357937829, \"<br> the next morning saw bucklaw and his faithful achates <br> , craigengelt , at ravenswood castle .\", \"morning bucklaw faithful\", \"('saw', 'VERB')\", \"NA\", \"NA\", \"NA\", \"NA\", \"NA\", \"NA\", -13.081224869090917], [[\"come\", \"VERB\"], \"sight\", 284, 162, -0.8098971166200573, \"<br> as they ran one by one past the master <br> , calling to each other to \\\" come and <br> see the auld tower blaw up in the lift <br> like the peelings of an ingan , \\\" he <br> could not but feel himself moved with indignation . <br> \\\"\", \"come auld tower blaw\", \"('see', 'VERB')\", \"NA\", \"NA\", \"NA\", \"NA\", \"NA\", \"NA\", -5.82304802881979], [[\"object\", \"NOUN\"], \"sight\", 162, 92, -0.8162880468276119, \"<br> there was about this time , in the village <br> of langdirdum , a peripatetic brother of the brush <br> , who exercised his vocation sub jove frigido , <br> the object of admiration of all the boys of <br> the village , but especially to dick tinto .\", \"object boys\", \"('admiration', 'NOUN')\", \"NA\", \"NA\", \"NA\", \"NA\", \"NA\", \"NA\", 9.476010170206063], [[\"london\", \"PROPN\"], \"sight\", 62, 35, -0.8249132934419086, \"<br> since my last letter , we have been very <br> thrang in the way of seeing the curiosities of <br> london ; but i must go on regular , <br> and tell you all , which , i think <br> , it is my duty to do , that <br> you may let my people know .  \", \"way curiosities london\", \"('seeing', 'VERB')\", \"<br> since the affair of the sermon , i have <br> withdrawn myself from trafficking so much as i did <br> in the missionary and charitable ploys that are so <br> in vogue with the pious here , which will <br> be all the better for my own people , <br> as i will keep for them what i was <br> giving to the unknown ; and it is my <br> design to write a book on almsgiving , to <br> show in what manner that christian duty may be <br> best fulfilled , which i doubt not will have <br> the effect of opening the eyes of many in <br> london to the true nature of the thing by <br> which i was myself beguiled in this vanity fair <br> , like a bird ensnared by the fowler . <br>  \", \"effect opening london\", \"('eyes', 'NOUN')\", \"<br> she had been repeatedly very earnest in trying to <br> get anne included in the visit to london , <br> sensibly open to all the injustice and all the <br> discredit of the selfish arrangements which shut her out <br> , and on many lesser occasions had endeavoured to <br> give elizabeth the advantage of her own better judgement <br> and experience ; but always in vain :  \", \"anne included london sensibly\", \"('visit', 'NOUN')\", -14.465756531485157]], \"hovertemplate\": \"literary_period=1700<br>Principal Component 1=%{x}<br>Principal Component 2=%{y}<br>word=%{customdata[0]}<br>modality=%{customdata[1]}<br>total_freq=%{customdata[2]}<br>total_freq_in_sense=%{customdata[3]}<br>PAI=%{customdata[4]}<br>Random Sentence 1=%{customdata[5]}<br>Random Context Window 1=%{customdata[6]}<br>Random Seed Words 1=%{customdata[7]}<br>Random Sentence 2=%{customdata[8]}<br>Random Context Window 2=%{customdata[9]}<br>Random Seed Words 2=%{customdata[10]}<br>Random Sentence 3=%{customdata[11]}<br>Random Context Window 3=%{customdata[12]}<br>Random Seed Words 3=%{customdata[13]}<extra></extra>\", \"legendgroup\": \"1700\", \"marker\": {\"color\": \"#ab63fa\", \"size\": 12, \"symbol\": \"circle\"}, \"mode\": \"markers\", \"name\": \"1700\", \"orientation\": \"v\", \"showlegend\": true, \"type\": \"scatter\", \"x\": [-2.045367093663067, 13.505846508764577, -0.5135704232082771, 8.161468376377934, 11.827239586593501, -6.375909244878093, -1.911062431660551, -4.677713008685771, 16.35190120650046, 23.377900337565677, 25.04204932478539, 18.36370099974384, -13.589561406034353, 23.035381970918102, 24.97275633782232, -18.72355496002121, -12.812603674769308, 2.7863220829958935, 1.3746454144092253, 3.383724379886199, 15.997927177640705, 14.012664043889771, 9.150812395054164, 19.585118070617998, -4.88075144623699, -11.657264915641576, 14.64268678925922, 12.037009009094344, -2.892311900621886, 21.690055292403365, 21.411527938004188, 16.011406144739052, -10.760783573171313, 6.581820123746899, -7.303835554749153, -3.6308295365538648, -7.351636995530836, 28.785872588778723, -9.569223503443627, -17.558202668198266, 20.50866165825818, 2.3801119929051224, -9.079615240525044, 17.661773089939846, -17.9318673343327, -9.301000524713631, 7.553345589435442, -6.2891215388542925, -5.675137411718193, -10.087349709765029, -3.4768237969324503, 21.4359010645012, 4.321117828270924, 11.952744381848891, 0.6516084580153041, 7.6860633314949425, 5.932610961231167, 18.339386212331085, -19.033083920041264, -18.794915522826038, -20.363844313450638, -6.519105886168761, 10.990819873591631, 42.289670519104526, 7.818953566917721, 39.32891516879396, 29.14542485467872, 19.285797501866526, 13.842482736025133, 5.6189298718619165, 10.317653032266858, -14.672650615319505, 21.461861518752396, -11.66357734157731, -21.456655272039587, 25.451928498743428, -7.229758081733551, -6.11767287887727, -3.262207120313172, -1.160304995949723, -3.3008795581513835, -19.858970428495738, 5.934786730097605, -9.979596037839066, -18.55960687929222, -14.65107904768047, 13.412743066877479, 2.782400017883297, -15.06215362594032, -20.43714273470165, -2.6578443317994824, -6.07157166194506, -13.856218323758636, 2.6706964157669333, -2.8785311468268597, 6.626882559023475, -13.081224869090917, -5.82304802881979, 9.476010170206063, -14.465756531485157], \"xaxis\": \"x\", \"y\": [5.418685211652961, 4.4500541275878085, -6.916637889387541, 15.157716744582448, 4.030264447056863, -0.2683035742022419, 10.54112237918204, 3.0762142961501553, 14.509916183805338, -10.725819197995447, -9.317743988472456, -1.3773859679349467, -10.739317443352462, 7.1849995404987705, -18.8622714978928, -5.667850598936749, -4.630063441907673, 11.856935118511984, -5.029578427440013, -5.138545088441947, -0.45248657633411155, 17.36641653988151, 3.8837555710666747, 15.85890341910911, 11.198802341497506, 3.9918261012612266, 7.028917501628099, 18.078469019208917, 0.43252395186212217, -13.444582931770858, 2.7767735121262547, 0.9639019592905607, 5.542796583995236, -0.9751776500953419, 1.651983367495433, -11.115438024382453, -9.701431822095996, -5.8718628221761, -11.378033474689271, -10.421354902195185, -13.049350263688606, 9.364878328058236, -12.492617956981144, -6.837626690248181, 5.598509150171707, -10.871679906588387, 15.376611175554068, -15.245486282558618, -8.12473894660367, 13.82936029081981, 10.520659265900575, -15.806942261925952, 1.6202323689132003, -7.4634577988553366, 13.62584622953406, 8.161147344273667, -10.181665610353528, 19.229989176728544, -0.49438900615722936, 2.63226448507145, -1.6055136222574895, -13.521595425419713, 22.493807320048774, -9.595762756407083, -18.81568275254128, -8.352303668176106, -11.712678377591862, -5.849178205280235, 19.29033701445018, -0.16028793518774043, -19.184086151972885, -2.0957380486273656, 1.238207267475479, 4.881427634125159, 7.050100280594234, 13.384437173120478, 15.077129289630099, 16.0947726747109, 8.10814069695813, 14.536831963025067, 17.93035635912244, -1.0011537913100867, -13.51450435373777, -5.274954050708952, -3.5270695527239466, -10.25561416446655, 15.471145048532307, -3.0197663862924253, 12.102772461576913, 7.3487196813388, -0.3730037257985085, 5.119588274220062, -5.938733921455705, 15.908939966774616, 10.270839498452752, -5.373127199052901, -5.755557235507761, 11.931195452278887, 16.187938525413603, 3.338399480546402], \"yaxis\": \"y\"}, {\"customdata\": [[[\"tears\", \"PROPN\"], \"sight\", 30, 30, 0.0, \"<br> tears came to his eyes , not of grief <br> but of thankfulness ; his master was then seeking <br> him ; his master had not left him to <br> perish !\", \"tears came grief\", \"('eyes', 'NOUN')\", \"<br> tears came to my eyes then , not tears <br> of self - pity for my predicament , but <br> tears from a heart filled with a great love <br> -- a heart that sees the sun of its <br> life and its love setting even as it rises <br> .  \", \"tears came tears\", \"('eyes', 'NOUN')\", \"<br> tears came to his eyes as he remembered her <br> childlike look , and winsome fanciful ways , and <br> shy tremulous grace .  \", \"tears came remembered\", \"('eyes', 'NOUN')\", 29.969545448525807], [[\"unblinking\", \"ADJ\"], \"sight\", 38, 38, 0.0, \"<br> over it he crouched , so closely that his <br> great head seemed to be almost in the flame <br> at which he stared with unblinking eyes as he <br> had done at the sun , circumstances which added <br> to his terrifying appearance and made me think of <br> a certain region and its inhabitants .  \", \"stared unblinking\", \"('eyes', 'NOUN')\", \"NA\", \"NA\", \"NA\", \"NA\", \"NA\", \"NA\", 51.07472128699331], [[\"scrutinizing\", \"ADJ\"], \"sight\", 30, 30, 0.0, \"<br> asked paulo , looking deep into her eyes with <br> a scrutinizing glance .  \", \"eyes scrutinizing\", \"('glance', 'NOUN')\", \"<br> the magistrates acting under the alien act have been <br> requested to     direct a very scrutinizing eye to <br> the academies in our towns and other     places <br> , in which french tutors are employed , and <br> to all of that     nationality who profess to <br> be teachers in this country .  \", \"direct scrutinizing academies\", \"('eye', 'NOUN')\", \"NA\", \"NA\", \"NA\", 47.331511257341624], [[\"lidded\", \"VERB\"], \"sight\", 35, 35, 0.0, \"<br> these oval , heavy - lidded eyes seemed to <br> look curiously at him .  \", \"heavy lidded look curiously\", \"('eyes', 'NOUN')\", \"<br> his heavy - lidded eyes and the disorder of <br> his scanty hair made him look sleepy .\", \"heavy lidded disorder\", \"('eyes', 'NOUN')\", \"<br> at the head of this heterogeneous troop was an <br> official of the police , old and fat , <br> with a revolver in his right hand , his <br> moustache bristling with excitement , and a murderous glitter <br> in his heavy - lidded blue eyes .\", \"heavy lidded blue\", \"('eyes', 'NOUN')\", 47.60464629443895], [[\"mortem\", \"NOUN\"], \"sight\", 35, 35, 0.0, \"<br> that , after a short interval , he was <br> found to be dead , and that the doctor <br> made a post - mortem examination and found disease <br> of the heart . \\\"\", \"post mortem found disease\", \"('examination', 'NOUN')\", \"<br> considerable sympathy was expressed for the mother of the <br> deceased , who was greatly affected during the giving <br> of her own evidence , and that of dr. <br> birrell , who had made the post - mortem <br> examination of the deceased .   \", \"post mortem deceased\", \"('examination', 'NOUN')\", \"NA\", \"NA\", \"NA\", 47.2377665150489], [[\"goggle\", \"NOUN\"], \"sight\", 80, 80, 0.0, \"<br> arm - holes had been cut in the sides <br> , for the sake not more of elegance than <br> of convenience ; but the dress , nevertheless , <br> prevented its proprietor from sitting as erect as his <br> associates ; and as he lay reclining against his <br> tressel , at an angle of forty - five <br> degrees , a pair of huge goggle eyes rolled <br> up their awful whites towards the ceiling in absolute <br> amazement at their own enormity .  \", \"pair huge goggle rolled awful\", \"('eyes', 'NOUN')\", \"<br> \\\" we gasped , all goggle - eyed , <br> \\\" jist s'posin ' that there lion was to <br> shut his mouth !\", \"goggle jist s'posin\", \"('eyed', 'ADJ')\", \"NA\", \"NA\", \"NA\", 34.428133957756636], [[\"bloodshot\", \"ADJ\"], \"sight\", 123, 122, -0.011777167776353662, \"<br> dona luisa had knelt instantly , with her eyes <br> fixed on the cross -- those great , bloodshot <br> eyes that could no longer weep .\", \"great bloodshot longer\", \"('eyes', 'NOUN')\", \"NA\", \"NA\", \"NA\", \"NA\", \"NA\", \"NA\", -48.144594552265964], [[\"stripes\", \"PROPN\"], \"sight\", 75, 74, -0.019365324866931058, \"<br> here , after a month 's wait , he <br> found opportunity to leave for new york on an <br> american ship , the stars and stripes .\", \"american ship stripes\", \"('stars', 'PROPN')\", \"NA\", \"NA\", \"NA\", \"NA\", \"NA\", \"NA\", -66.76249062963713], [[\"blear\", \"NOUN\"], \"sight\", 65, 64, -0.02236781302845443, \"<br> untidy women and blear - eyed men leaned over <br> the dilapidated fences , or lolled on mud - <br> tracked doorsteps .\", \"women blear men leaned\", \"('eyed', 'ADJ')\", \"<br> now the man looks ahead , and he is <br> blear - eyed as with old age and must <br> rub his eyes so that he can see the <br> stranger - man .  \", \"blear old age\", \"('eyed', 'ADJ')\", \"<br> they were overtaken by the elder wilson , pale <br> , grimy , and blear - eyed , but <br> apparently , as strong and well as ever . <br>  \", \"blear apparently\", \"('eyed', 'ADJ')\", -33.8090177330368], [[\"yup\", \"PROPN\"], \"sight\", 52, 51, -0.028014376169596636, \"<br> \\\" so clever was this alleged fraud , that <br> it is extremely doubtful if an action would lie <br> against see yup in the premises , there being <br> no legal evidence of the ' salting , ' <br> and none whatever of his actual allegation that the <br> gold - dust was the ordinary yield of the <br> tailings , that implication resting entirely with the committee <br> who examined it under false pretense , and who <br> subsequently forced the sale by intimidation . \\\"     \", \"action lie yup premises\", \"('see', 'VERB')\", \"<br> \\\" yup , i see him .\", \"yup\", \"('see', 'VERB')\", \"NA\", \"NA\", \"NA\", -74.7691748791239], [[\"twinkle\", \"VERB\"], \"sight\", 37, 36, -0.03952836418663734, \"<br> here and there , some early lamps were seen <br> to twinkle in the distant city ; and in <br> the eastern quarter of the sky the lurid light <br> still hovered .\", \"early lamps twinkle\", \"('seen', 'VERB')\", \"<br> but there was no sign of a smile on <br> his face , nor was the kindly twinkle of <br> amusement to be seen in his eyes -- that <br> twinkle that i had learned to look for . <br>  \", \"seen twinkle\", \"('eyes', 'NOUN')\", \"<br> it got to be pitch dark , at last <br> , and the multitude groaned with horror to feel <br> the cold uncanny night breezes fan through the place <br> and see the stars come out and twinkle in <br> the sky .  \", \"place come twinkle\", \"('stars', 'NOUN')\", -45.40811655534145], [[\"unwinking\", \"ADJ\"], \"sight\", 33, 32, -0.044394119358453395, \"<br> \\\" something cold and terrible had taken his place <br> , something that could not see , and yet <br> looked upward with unwinking eyes .\", \"looked upward unwinking\", \"('eyes', 'NOUN')\", \"NA\", \"NA\", \"NA\", \"NA\", \"NA\", \"NA\", -62.56278738990187], [[\"unseeing\", \"ADJ\"], \"sight\", 139, 134, -0.05285188226573499, \"<br> ma'am mouton dropped her fork and stared at him <br> with unseeing eyes ; then , as she comprehended <br> his remark , she put her hand out to <br> him with a pitiful gesture .  \", \"unseeing\", \"('eyes', 'NOUN')\", \"<br> the gray car had vanished ; and in the <br> center of the floor was georges , the chauffeur <br> , lying on his back with arms extended , <br> staring up at the ceiling with wide , unseeing <br> blue eyes .    \", \"wide unseeing blue\", \"('eyes', 'NOUN')\", \"<br> she herself passed on with unseeing eyes .  \", \"passed unseeing\", \"('eyes', 'NOUN')\", -7.151855077993766], [[\"blankly\", \"ADJ\"], \"sight\", 109, 105, -0.053938807110803726, \"<br> she stared at him blankly .  \", \"blankly\", \"('stared', 'VERB')\", \"NA\", \"NA\", \"NA\", \"NA\", \"NA\", \"NA\", -8.064923013384542], [[\"twinkling\", \"ADJ\"], \"sight\", 54, 52, -0.05444778402237647, \"<br> his twinkling eyes played curiously over her face , <br> and she went on , meeting them with a <br> smile : \\\"\", \"twinkling played curiously\", \"('eyes', 'NOUN')\", \"<br> he was a twinkling - eyed , pimple - <br> faced man , with his hair standing upright all <br> over his head ; and as he stood with <br> one arm a - kimbo , holding up the <br> glass to the light with the other hand , <br> he looked quite friendly .\", \"twinkling pimple faced\", \"('eyed', 'ADJ')\", \"<br> he looked at her with twinkling eyes , full <br> of the triumph the spectator of his species feels <br> in signal exhibitions of human nature .  \", \"twinkling\", \"('eyes', 'NOUN')\", -19.409711205447405], [[\"bloodshot\", \"NOUN\"], \"sight\", 236, 227, -0.056094562070926286, \"<br> from their bloodshot eyes stared the lust of blood <br> , the fury of conquest , and all the <br> aboriginal passions on which laputa had laid his spell <br> .  \", \"bloodshot eyes lust blood\", \"('stared', 'VERB')\", \"<br> his face was more livid , his eyes more <br> bloodshot , and at the sight of me his <br> hand went to his belt , and his teeth <br> snapped .  \", \"livid bloodshot\", \"('eyes', 'NOUN')\", \"NA\", \"NA\", \"NA\", -57.61987453436426], [[\"fixedly\", \"ADV\"], \"sight\", 431, 414, -0.05805710158977284, \"<br> there lay the skeleton - like frames with stiffened <br> legs and glassy eyes staring fixedly at the first <br> flies already attracted by their miserable carrion .  \", \"legs glassy eyes fixedly\", \"('staring', 'VERB')\", \"NA\", \"NA\", \"NA\", \"NA\", \"NA\", \"NA\", -50.581371071550834], [[\"lynx\", \"NOUN\"], \"sight\", 76, 73, -0.05810295456356828, \"<br> this gave triplet a moment to recover himself ; <br> and mrs. woffington , whose lynx eye had comprehended <br> all at a glance , and who had determined <br> at once what line to take , came flying <br> in again , saying :   \\\" was n't <br> somebody inquiring for an angel ?\", \"woffington lynx comprehended\", \"('eye', 'NOUN')\", \"<br> it was a problem , nevertheless , to arrange <br> an interview , with van blarcom sitting at his <br> window , watching me like a lynx .\", \"window lynx\", \"('watching', 'VERB')\", \"<br> however much my figure might have resembled that of <br> the pitan , and , disguised in his armor <br> , might have deceived the lynx - eyed mahrattas <br> , into whose camp i was about to plunge <br> , it was evident that a single glance at <br> my fair face and auburn beard would have undeceived <br> the dullest blockhead in holkar 's army .\", \"deceived lynx mahrattas\", \"('eyed', 'ADJ')\", 29.95811839752931], [[\"bleared\", \"ADJ\"], \"sight\", 50, 48, -0.058893689053568565, \"<br> i speculate if i shall ever be one of <br> those grotesque and melancholy beings , with bleared eyes <br> and running noses , swollen bellies and shrunken legs <br> !\", \"beings bleared running noses\", \"('eyes', 'NOUN')\", \"<br> this time she heard him and replied , turning <br> her old , bleared eyes slowly in his direction-\\\"good <br> morrow to yourself , sir , \\\" said she <br> , and the philosopher thought her old face was <br> a very kindly one .  \", \"old bleared slowly direction-\\\"good\", \"('eyes', 'NOUN')\", \"NA\", \"NA\", \"NA\", 35.81812537208308], [[\"beady\", \"ADJ\"], \"sight\", 171, 164, -0.06030051026781425, \"<br> he had a face the colour of french mustard <br> -- a sort of dirty green -- and bloodshot <br> , beady eyes with the whites all yellowed with <br> fever .\", \"bloodshot beady whites\", \"('eyes', 'NOUN')\", \"<br> he had black , beady eyes , a black <br> moustache fiercely turned up , and sallow skin . <br>  \", \"black beady black moustache\", \"('eyes', 'NOUN')\", \"<br> there was lassen -- flushed , ugly , breathing <br> heavily , and watching the door with fixed , <br> beady eyes .\", \"fixed beady\", \"('eyes', 'NOUN')\", -37.94112953044609], [[\"blankly\", \"NOUN\"], \"sight\", 48, 46, -0.061400544664143256, \"<br> for a while he lay , gazing blankly at <br> the vast , pale cliff towering above , rising <br> moment by moment out of a subsiding tide of <br> darkness .  \", \"lay blankly vast\", \"('gazing', 'VERB')\", \"<br> mr. ellery gazed blankly at her through the rain <br> - streaked dark .\", \"mr. ellery blankly\", \"('gazed', 'VERB')\", \"NA\", \"NA\", \"NA\", -57.49603695303805], [[\"roved\", \"VERB\"], \"sight\", 119, 114, -0.06192774914320179, \"<br> as her eyes roved from side to side , <br> she tried , with her hands , to keep <br> down the whirling of her wind - tossed skirts <br> .\", \"roved\", \"('eyes', 'NOUN')\", \"NA\", \"NA\", \"NA\", \"NA\", \"NA\", \"NA\", 26.19547746858976], [[\"tearless\", \"ADJ\"], \"sight\", 47, 45, -0.0627357553479626, \"<br> he watched the deep , tearless sobs that shook <br> her breast : he had wounded her to death <br> ,-- his bonny margret !  \", \"deep tearless\", \"('watched', 'VERB')\", \"<br> marguerite 's voice trembled when saying this as if <br> she were going to cry , although her eyes <br> were tearless .\", \"cry tearless\", \"('eyes', 'NOUN')\", \"NA\", \"NA\", \"NA\", -41.453092019146325], [[\"twinkled\", \"VERB\"], \"sight\", 347, 332, -0.06375242123133612, \"<br> \\\" that 's all right , i 'm glad <br> you do , \\\" answered jack , comfortably , <br> though his mind seemed a little absent and his <br> eyes twinkled when she spoke of molly . \\\"\", \"little absent twinkled spoke\", \"('eyes', 'NOUN')\", \"<br> jack 's eyes twinkled more than ever as he <br> helped jill settle herself in the boat , and <br> then with a whoop he tore over the beach <br> , as if practising for the race which was <br> to come off in the afternoon .  \", \"jack twinkled\", \"('eyes', 'NOUN')\", \"<br> she looked at the cranberry , then at the <br> open door , and her eyes twinkled .\", \"door twinkled\", \"('eyes', 'NOUN')\", -9.489256059286765], [[\"feast\", \"VERB\"], \"sight\", 68, 65, -0.06509502822188484, \"<br> every new man manages to saunter round here to <br> get a sight of that receipt , and i <br> 've seen hoary old depositors outside edge around inside <br> , pretendin ' they wanted to see the dep <br> , jest to feast their eyes on that girl <br> 's name .\", \"jest feast girl\", \"('eyes', 'NOUN')\", \"<br> it was evident that she enjoyed the discussion and <br> the fact that it was   merely a pretext <br> for the lawyer to feast his eyes on her <br>  \", \"lawyer feast\", \"('eyes', 'NOUN')\", \"NA\", \"NA\", \"NA\", -40.69087895251662], [[\"bulging\", \"VERB\"], \"sight\", 108, 103, -0.06838697498025015, \"<br> they sit and stare with bulging eyes at the <br> red coals and dancing flames , spurting out here <br> and there like tiny sabers .  \", \"stare bulging red coals\", \"('eyes', 'NOUN')\", \"<br> just as we were starting on again the voortrekker <br> , whom i had set to watch at a <br> little distance , ran up with his eyes bulging <br> out of his head , and reported that he <br> had seen a basuto with an assegai hanging about <br> in the bush , as though to keep touch <br> with us , after which we delayed no more <br> .  \", \"ran bulging\", \"('eyes', 'NOUN')\", \"<br> desnoyers suddenly recognized in one of the officers who <br> was talking , with eyes bulging with covetousness , <br> of the riches of paris , the chief thief <br> with the band on his arm .\", \"talking bulging covetousness\", \"('eyes', 'NOUN')\", 3.037505674150124], [[\"narrowed\", \"VERB\"], \"sight\", 259, 247, -0.06844105610187626, \"<br> von gerhard gazed at blackie through narrowed lids as <br> he lighted his cigar .\", \"von gerhard blackie narrowed\", \"('gazed', 'VERB')\", \"<br> he seemed more taciturn than usual , seated there <br> at the wheel , looking straight ahead at the <br> ribbon of road , his eyes narrowed down to <br> mere keen blue slits .\", \"road narrowed mere\", \"('eyes', 'NOUN')\", \"<br> she listened to me unreadable , unmoved , narrowed <br> eyes , closed lips , slightly flushed face , <br> as if carved six thousand years ago in order <br> to fix for ever that something secret and obscure <br> which is in all women .\", \"unmoved narrowed closed lips\", \"('eyes', 'NOUN')\", 26.100980251993533], [[\"glassy\", \"ADJ\"], \"sight\", 183, 174, -0.07275634243531423, \"<br> hearing the outcry , chichi hastened in in time <br> to see her father slipping from his wife 's <br> arms to the sofa , and from there to <br> the floor , with glassy , staring eyes , <br> and foaming at the mouth .  \", \"glassy staring foaming\", \"('eyes', 'NOUN')\", \"<br> suddenly the thought of his master 's eye grew <br> terrible to him : it was a steady , <br> cold , glassy eye ; but he opened the <br> door and went in .\", \"cold glassy opened\", \"('eye', 'NOUN')\", \"NA\", \"NA\", \"NA\", -7.845053408236123], [[\"bulged\", \"VERB\"], \"sight\", 40, 38, -0.07400058144377693, \"<br> his eyes bulged .\", \"bulged\", \"('eyes', 'NOUN')\", \"NA\", \"NA\", \"NA\", \"NA\", \"NA\", \"NA\", -12.43367729501259], [[\"lustreless\", \"ADJ\"], \"sight\", 39, 37, -0.07594885323329863, \"<br> the twisted limbs , the gaping mouths , the <br> staring lustreless eyes , fascinated him .  \", \"staring lustreless fascinated\", \"('eyes', 'NOUN')\", \"NA\", \"NA\", \"NA\", \"NA\", \"NA\", \"NA\", -21.226023380772755], [[\"immovably\", \"ADV\"], \"sight\", 38, 36, -0.07800251200127321, \"<br> staring and immovably their eyes were now fixed upon <br> the silent pair sitting in the bright moonlight which <br> surrounded them as with a glory .\", \"staring immovably fixed\", \"('eyes', 'NOUN')\", \"<br> then his gaze directed itself immovably upon goisvintha , <br> as she stood at a little distance from him <br> , with her blood - stained knife , silent <br> as himself .   \", \"directed immovably\", \"('gaze', 'NOUN')\", \"NA\", \"NA\", \"NA\", 2.6926849079435455], [[\"unflinchingly\", \"ADV\"], \"sight\", 38, 36, -0.07800251200127321, \"<br> diantha met his eyes unflinchingly .\", \"diantha met unflinchingly\", \"('eyes', 'NOUN')\", \"<br> jem 's face became very red at the allusion <br> he made to mary , but his honest , <br> fearless eyes had met mr. carson 's penetrating gaze <br> unflinchingly , and had carried conviction of his innocence <br> and truthfulness .  \", \"mr. carson penetrating unflinchingly\", \"('gaze', 'NOUN')\", \"NA\", \"NA\", \"NA\", -61.49940156167472], [[\"shifty\", \"ADJ\"], \"sight\", 57, 54, -0.07800251200127321, \"<br> he looked at the lawyer 's fleshy face , <br> blue - black where it was shaven , and <br> at mr. billings ' shifty eyes and mouth , <br> which its muscles could not quite keep in place <br> .\", \"mr. billings shifty mouth\", \"('eyes', 'NOUN')\", \"NA\", \"NA\", \"NA\", \"NA\", \"NA\", \"NA\", 8.479980250822706], [[\"sidelong\", \"ADJ\"], \"sight\", 240, 227, -0.08034210831760359, \"<br> she cast a sidelong glance as she spoke , <br> and seeing that mrs. minot was looking for the <br> letter , hid her face and lay so still <br> she could hear the rustle of the paper as <br> it was taken from the floor .\", \"cast sidelong spoke\", \"('glance', 'NOUN')\", \"<br> with a sidelong glance at his parents , he <br> picked up the instrument -- john holly had not <br> forgotten his own youth .\", \"sidelong parents\", \"('glance', 'NOUN')\", \"NA\", \"NA\", \"NA\", -50.51302672828737], [[\"fade\", \"NOUN\"], \"sight\", 55, 52, -0.08091999538356748, \"<br> mr. carson stood on the front - door step <br> , feeling the refreshment of the caller morning air <br> , and seeing the starlight fade away into dawn <br> .  \", \"morning air starlight fade away\", \"('seeing', 'VERB')\", \"NA\", \"NA\", \"NA\", \"NA\", \"NA\", \"NA\", 1.7829199978454844], [[\"twinkle\", \"NOUN\"], \"sight\", 384, 363, -0.0811367627254055, \"<br> \\\" as much as you like , \\\" answered <br> anscombe with a little drawl and twinkle of the <br> eye , which always showed that he was amused <br> .\", \"twinkle showed\", \"('eye', 'NOUN')\", \"<br> to an undiscerning eye the latter would have looked <br> much as she always did -- plump and matronly <br> , with brown hair drawn back from the forehead <br> and parted in the middle ; keen brown eyes <br> with a humorous twinkle in them -- this was <br> the keziah coffin the later generation of trumet knew <br> so well .  \", \"middle keen brown humorous twinkle\", \"('eyes', 'NOUN')\", \"<br> there was a grim twinkle in his eye . <br> \\\"\", \"grim twinkle\", \"('eye', 'NOUN')\", -45.16443820781991], [[\"twinkling\", \"VERB\"], \"sight\", 329, 311, -0.08117300360463886, \"<br> a thousand generations of departed souls are speaking to <br> us in words of   twinkling stars .\", \"words twinkling\", \"('stars', 'NOUN')\", \"<br> the man had interrupted his monologue , heard only <br> by the black masses of vegetation , the blue <br> shadows perforated by the reddish tremors of the street <br> lights , the summer night with its cupola of <br> warm breezes and twinkling stars .\", \"warm breezes twinkling\", \"('stars', 'NOUN')\", \"<br> the girl , her eyes twinkling , took up <br> her jacket and hat .  \", \"girl twinkling took\", \"('eyes', 'NOUN')\", -46.93480922290451], [[\"narrowing\", \"VERB\"], \"sight\", 54, 51, -0.082462160191973, \"<br> \\\" and some of 'em might , by accident <br> , vote the republican ticket , \\\" mr. pardriff <br> retorted , narrowing his eyes a little .  \", \"retorted narrowing little\", \"('eyes', 'NOUN')\", \"<br> he glanced sharply at her from narrowing eyes .\", \"narrowing\", \"('eyes', 'NOUN')\", \"NA\", \"NA\", \"NA\", -59.391387416112714], [[\"squinting\", \"VERB\"], \"sight\", 71, 67, -0.08365792904690969, \"<br> the prelate 's countenance seemed uneasy and morose ; <br> his complexion was still yellow and bilious ; the <br> brown circle which surrounded his black , squinting eyes <br> appeared still darker than usual .  \", \"black squinting appeared darker\", \"('eyes', 'NOUN')\", \"NA\", \"NA\", \"NA\", \"NA\", \"NA\", \"NA\", 30.468780173312215], [[\"unflinching\", \"ADJ\"], \"sight\", 35, 33, -0.08488889758651305, \"<br> but the instant the truth flashed upon him he <br> fixed his bright clear eyes , flaming with indignation <br> , upon the counsellor , whose look fell at <br> last before that stern unflinching gaze .  \", \"stern unflinching\", \"('gaze', 'NOUN')\", \"NA\", \"NA\", \"NA\", \"NA\", \"NA\", \"NA\", 5.137944449256458], [[\"twinkling\", \"NOUN\"], \"sight\", 165, 155, -0.09019780897157814, \"<br> and , in the twinkling of an eye , <br> i beat him once making thirteen off the balls <br> without stopping .  \", \"twinkling beat\", \"('eye', 'NOUN')\", \"<br> on such a night , of course , he <br> peers upon a world of blackness , where the <br> waters wheel and boil , where the waves joust <br> together with the noise of an explosion , and <br> the foam towers and vanishes in the twinkling of <br> an eye .\", \"twinkling\", \"('eye', 'NOUN')\", \"<br> hubert of senlis , and hugh of paris , <br> have their eyes on us , and were the <br> boy to be missed , the grim old harcourt <br> would have all the pirates of his land on <br> us in the twinkling of an eye .  \", \"twinkling\", \"('eye', 'NOUN')\", 14.595943489276776], [[\"vacantly\", \"ADV\"], \"sight\", 198, 186, -0.09019780897157814, \"<br> but when his attitude had remained unchanged for more <br> than half - an - hour , his eyes <br> gazing vacantly and fixedly at the fire , no <br> sound but now and then a deep- drawn sigh <br> to break the weary ticking of the clock , <br> and the drip - drop from the roof without\", \"hour eyes vacantly fixedly\", \"('gazing', 'VERB')\", \"NA\", \"NA\", \"NA\", \"NA\", \"NA\", \"NA\", -83.94741808287739], [[\"casting\", \"VERB\"], \"sight\", 706, 663, -0.09065931315859257, \"<br> those who were passing along the boulevard might see <br> them by merely casting their eyes toward the garden <br> .\", \"merely casting garden\", \"('eyes', 'NOUN')\", \"<br> all the pedestrians were casting curious glances at the <br> elegant lady and her companion seated in the shadow <br> of the shrubbery with the timid yet would - <br> be natural look of those who desire to hide <br> themselves , yet at the same time feign a <br> casual air .  \", \"pedestrians casting curious elegant lady\", \"('glances', 'NOUN')\", \"<br> more adventures , he thought , casting a somewhat <br> contemptuous glance at the physique of the other man <br> .  \", \"casting somewhat contemptuous physique\", \"('glance', 'NOUN')\", -34.596998009779796], [[\"dazzle\", \"VERB\"], \"sight\", 32, 30, -0.09310940439148148, \"<br> not like the beggar , humbly imploring for a <br> crust in the name of the lord , nor <br> like the jeweller displaying his precious stones to dazzle <br> and tempt the eye , he comes to the <br> world ,-- nay , in accents of tyrtaeus this <br> commoner of nizhni novgorod spurs on his troops of <br> freedom - loving heroes to conquer , as it <br> were , the placid , self - satisfied literatures <br> of to - day , and bring new life <br> to pale , bloodless frames .  \", \"dazzle tempt comes\", \"('eye', 'NOUN')\", \"<br> we revel in pantomimes \\u2014 not because they dazzle <br> one \\u2019s eyes with tinsel and gold leaf ; <br> not because they present to us , once again <br> , the well - beloved chalked faces , and <br> goggle eyes of our childhood ; not even because <br> , like christmas - day , and twelfth - <br> night , and shrove - tuesday , and one <br> \\u2019s own birthday , they come to us but <br> once a year ;\\u2014 our attachment is founded on <br> a graver and a very different reason .\", \"dazzle tinsel gold\", \"('eyes', 'NOUN')\", \"<br> she remembered the wonderful flourishes she had so much <br> admired in those days , while she sat by <br> dictating , and jem , in all the pride <br> of newly - acquired penmanship , used to dazzle <br> her eyes by extraordinary graces and twirls .  \", \"dazzle extraordinary graces\", \"('eyes', 'NOUN')\", -32.2737117451192], [[\"argus\", \"PROPN\"], \"sight\", 32, 30, -0.09310940439148148, \"<br> because these men were mere clods , bold enough <br> and clever enough in their own rude way , <br> but no match for the law , with its <br> argus eyes and its briarean hands .\", \"argus briarean hands\", \"('eyes', 'NOUN')\", \"NA\", \"NA\", \"NA\", \"NA\", \"NA\", \"NA\", -45.39409713675754], [[\"averted\", \"VERB\"], \"sight\", 332, 311, -0.09426866121632224, \"<br> he averted his eyes so as not to look <br> at the rigid and grotesque bodies piled above him <br> at the edge of the pit , ready to <br> be tumbled in .\", \"averted\", \"('eyes', 'NOUN')\", \"<br> perhaps captain laurier did not see very clearly , <br> but she had looked at him frankly and then <br> hastily averted her eyes so as to evade his <br> greeting . . . .\", \"hastily averted evade\", \"('eyes', 'NOUN')\", \"NA\", \"NA\", \"NA\", -21.125708940363577], [[\"lustrous\", \"ADJ\"], \"sight\", 172, 161, -0.09534787658748096, \"<br> she paid for her small purchase , and with <br> a farewell glance of her lustrous eyes , she <br> left him .\", \"glance lustrous left\", \"('eyes', 'NOUN')\", \"NA\", \"NA\", \"NA\", \"NA\", \"NA\", \"NA\", -62.64384334998991], [[\"sparkle\", \"VERB\"], \"sight\", 76, 71, -0.09818039393890342, \"<br> it gained in its present refinement as much as <br> it had lost of its former gaiety ; it <br> had its own simple attraction still , though it <br> failed to sparkle to the eye with its accustomed <br> illuminations , or to please the ear by the <br> music and laughter , which rose from it in <br> times of peace .  \", \"sparkle accustomed illuminations\", \"('eye', 'NOUN')\", \"<br> \\\" if you look at the white petals you <br> 'll see that they sparkle like marble , and <br> go winding a long way down to the middle <br> of the flower where it grows sort of rosy <br> ; and in among the small , curly leaves <br> , like fringed curtains , you can see the <br> little green fairy sitting all alone .\", \"white petals sparkle\", \"('see', 'VERB')\", \"NA\", \"NA\", \"NA\", -27.374787432265673], [[\"shading\", \"VERB\"], \"sight\", 212, 198, -0.09856383448358953, \"<br> at this he leaned his head on his arm <br> and sat so long at the table shading his <br> eyes with his hand that i had to ask <br> , calmly \\u2014 you know \\u2014 whether he wanted <br> me to have him turned out into the corridor <br> .  \", \"table shading hand\", \"('eyes', 'NOUN')\", \"<br> in front of the great hall of the college <br> a statue stands , the figure of a black <br> man shading his eyes with his hands and looking <br> far over the plains to the rooirand .  \", \"black man shading hands\", \"('eyes', 'NOUN')\", \"NA\", \"NA\", \"NA\", -1.7097883882377507], [[\"glazing\", \"VERB\"], \"sight\", 45, 42, -0.0995356735509144, \"<br> as i saw the faithful eyes glazing in death <br> , and knew that i had lost the best <br> of all comrades , i went clean berserk mad <br> .\", \"saw faithful glazing death\", \"('eyes', 'NOUN')\", \"NA\", \"NA\", \"NA\", \"NA\", \"NA\", \"NA\", -28.095015312722357], [[\"hazel\", \"NOUN\"], \"sight\", 234, 218, -0.10218039480647813, \"<br> his hazel   eyes , however , had a <br> worn and wistful look in them .  \", \"hazel\", \"('eyes', 'NOUN')\", \"NA\", \"NA\", \"NA\", \"NA\", \"NA\", \"NA\", -17.809970196551603], [[\"flashing\", \"NOUN\"], \"sight\", 555, 517, -0.10232349092253362, \"<br> he had none of the squat and preposterous negro <br> lineaments , but a hawk nose like an arab <br> , dark flashing eyes , and a cruel and <br> resolute mouth .  \", \"arab dark flashing cruel\", \"('eyes', 'NOUN')\", \"<br> for there was the curved nose , the deep <br> flashing eyes , and the cruel lips of my <br> enemy of the kirkcaple shore .  \", \"deep flashing cruel\", \"('eyes', 'NOUN')\", \"NA\", \"NA\", \"NA\", -70.35727059580118], [[\"bird's\", \"NOUN\"], \"sight\", 73, 68, -0.10236171762967791, \"<br> \\\" asked smith , cramming a plug of bird's <br> - eye into his briar with his forefinger . <br>  \", \"plug bird's briar\", \"('eye', 'NOUN')\", \"<br> mary saw that the grapes were sour , and <br> the next day she set out herself , as <br> her father could not afford to lose another day <br> 's work ; and before night ( as yesterday <br> 's experience had considerably lowered her ideas ) she <br> had engaged herself as apprentice ( so called , <br> though there were no deeds or indentures to the <br> bond ) to a certain miss simmonds , milliner <br> and dressmaker , in a respectable little street leading <br> off ardwick green , where her business was duly <br> announced in gold letters on a black ground , <br> enclosed in a bird's - eye maple frame , <br> and stuck in the front - parlour window ; <br> where the workwomen were called \\\" her young ladies <br> \\\" ; and where mary was to work for <br> two years without any remuneration , on consideration of <br> being taught the business ; and where afterwards she <br> was to dine and have tea , with a <br> small quarterly salary ( paid quarterly because so much <br> more genteel than by the week ) , a <br> very small one , divisible into a minute weekly <br> pittance .  \", \"bird's maple frame\", \"('eye', 'NOUN')\", \"NA\", \"NA\", \"NA\", -25.711058600039927], [[\"glisten\", \"VERB\"], \"sight\", 58, 54, -0.10309349296410361, \"<br> they played for a long time with it , <br> letting the heavy , yellow shower slip through their <br> fingers and watching it glisten in the sunshine .\", \"fingers glisten\", \"('watching', 'VERB')\", \"NA\", \"NA\", \"NA\", \"NA\", \"NA\", \"NA\", 32.02028544635847], [[\"retreating\", \"ADJ\"], \"sight\", 43, 40, -0.10433665981473561, \"<br> she watched his retreating figure with eyes that grew <br> slowly misty ; he had been such a jolly <br> comely boy - friend , and they had had <br> such good times together .  \", \"retreating figure grew slowly misty\", \"('eyes', 'NOUN')\", \"NA\", \"NA\", \"NA\", \"NA\", \"NA\", \"NA\", -16.980512173859232], [[\"searchingly\", \"ADV\"], \"sight\", 112, 104, -0.10691520391651191, \"<br> the hand that had rested on the buckle of <br> his sword - belt slipped quietly to his side <br> , and he deliberately stepped up to gregory , <br> his eyes set searchingly upon the pale , flabby <br> face before him .\", \"gregory set searchingly\", \"('eyes', 'NOUN')\", \"<br> during mr. clapp 's abusive remarks , and impudent <br> insinuations against himself and mr. wyllys , hazlehurst , <br> placing one arm on the table before him , <br> leaned a little , forward , and fixed his <br> eye steadily , but searchingly , on the face <br> of the speaker .\", \"fixed steadily searchingly\", \"('eye', 'NOUN')\", \"<br> \\\" she demanded , fixing her dark eyes upon <br> him searchingly .  \", \"fixing dark searchingly\", \"('eyes', 'NOUN')\", -79.55623478769981], [[\"blinking\", \"VERB\"], \"sight\", 238, 221, -0.10691520391651191, \"<br> but as he turned to the door it opened <br> from the inside and the king came toward them <br> , shivering and blinking his eyes in the bright <br> sunlight .  \", \"shivering blinking bright sunlight\", \"('eyes', 'NOUN')\", \"<br> ' only a madman could have done it , <br> ' he said , blinking his eyes at the <br> green linn .   '\", \"said blinking green linn\", \"('eyes', 'NOUN')\", \"NA\", \"NA\", \"NA\", -50.37365328290822], [[\"ablaze\", \"ADJ\"], \"sight\", 56, 52, -0.10691520391651191, \"<br> the impassioned revivalist -- his eyes ablaze with fever <br> , his lank hair wet with perspiration , hanging <br> beside his heavy but weak jaws -- was concluding <br> a fervent exhortation to his auditors to confess their <br> sins , \\\" accept conviction , \\\" and regenerate <br> then and there , without delay .\", \"impassioned revivalist ablaze fever\", \"('eyes', 'NOUN')\", \"<br> crispin was upon his feet , his harsh countenance <br> thrust into the very face of the minister ; <br> his eyes ablaze .  \", \"minister ablaze\", \"('eyes', 'NOUN')\", \"NA\", \"NA\", \"NA\", -99.77408685521598], [[\"steadfastly\", \"ADV\"], \"sight\", 193, 179, -0.10864126000382406, \"<br> the boy regarded him steadfastly .  \", \"boy steadfastly\", \"('regarded', 'VERB')\", \"NA\", \"NA\", \"NA\", \"NA\", \"NA\", \"NA\", -48.81017159076897], [[\"downcast\", \"NOUN\"], \"sight\", 53, 49, -0.11321061044799095, \"<br> \\\" only look at his low , resolute brow <br> , his downcast eye , his white compressed lips <br> .  \", \"brow downcast white compressed\", \"('eye', 'NOUN')\", \"<br> if others are to be influenced by such trifles <br> as you are , it would have been much <br> better if the prison barber had cut his hair <br> a little previous to the trial ; and as <br> for downcast eye , and compressed lip , it <br> is all part and parcel of his inward agitation <br> just now ; nothing to do with character , <br> my good fellow . \\\"  \", \"downcast compressed lip\", \"('eye', 'NOUN')\", \"NA\", \"NA\", \"NA\", -17.929826126102345], [[\"firmament\", \"NOUN\"], \"sight\", 52, 48, -0.1154772174199359, \"<br> when winds blow and oceans roar upon the face <br> of the earth thou hearest my voice ; when <br> thou gazest on the starry firmament thou seest my <br> countenance ; when the spring blooms out in flowers <br> , that is my smile , harmachis .\", \"thou gazest firmament thou seest\", \"('starry', 'ADJ')\", \"<br> below them , the tempest ; above them , <br> the starry firmament , tranquil , mute , impassible <br> , with the moon projecting her peaceful rays over <br> these angry clouds .  \", \"firmament tranquil\", \"('starry', 'ADJ')\", \"<br> he says you are out of place on the <br> stage , and wants to take the star from <br> its firmament , and put it in a cottage <br> . \\\"  \", \"wants firmament\", \"('star', 'NOUN')\", -38.05546089598631], [[\"bull's\", \"NOUN\"], \"sight\", 130, 120, -0.1154772174199359, \"<br> then came a bull's - eye flash of struggling <br> moonshine , which disclosed their four figures standing huddled <br> from the wind in a raffle of flying drapery <br> , and not without a considerable need for more <br> .  \", \"came bull's flash struggling moonshine\", \"('eye', 'NOUN')\", \"<br> the light which shone through the dirty and tightly <br> closed \\\" bull's - eye \\\" window showed a <br> tumbled bunk , the blankets soiled and streaked .\", \"closed bull's window showed\", \"('eye', 'NOUN')\", \"NA\", \"NA\", \"NA\", -48.23454413040771], [[\"fixed\", \"VERB\"], \"sight\", 5502, 5074, -0.11683262025227135, \"<br> while talking they all kept their eyes fixed on <br> the red fire , or watched the smoke from <br> their pipes drifting and curling away against the blackness <br> , and disappearing as suddenly as lightning .  \", \"kept fixed red\", \"('eyes', 'NOUN')\", \"<br> he had a strange disinclination to look at the <br> girl although he felt her eyes fixed steadily on <br> him .\", \"felt fixed steadily\", \"('eyes', 'NOUN')\", \"<br> there was a low , wooden form fixed to <br> the wall , running quite round the room , <br> and on this , far apart from each other <br> , the two men were seated , with their <br> elbows resting on their knees , their heads propped <br> upon their hands , and each of them with <br> an unwavering gaze fixed on the floor between his <br> feet .  \", \"unwavering fixed floor\", \"('gaze', 'NOUN')\", -14.936347606765166], [[\"constellations\", \"NOUN\"], \"sight\", 38, 35, -0.11864449649861908, \"<br> if the sky had cleared for a single instant <br> , a glance at the familiar constellations would have <br> set me right .  \", \"single instant familiar constellations\", \"('glance', 'NOUN')\", \"<br> once again men set their eyes upon the old <br> constellations they had counted lost to them forever . <br>  \", \"men set old constellations\", \"('eyes', 'NOUN')\", \"NA\", \"NA\", \"NA\", -12.911045927550147], [[\"flashing\", \"VERB\"], \"sight\", 475, 437, -0.12029423371771177, \"<br> she arose with catlike ease and suddenness to her <br> full height , her eyes flashing , her nostrils <br> quivering like a deer 's .  \", \"height flashing nostrils\", \"('eyes', 'NOUN')\", \"<br> i became aware of mrs. kalmanovitch 's fire - <br> flashing eyes , and my efforts to   entertain <br> her daughter were a poor performance   the kalmanovitch <br> family left immediately after supper , scarcely making their <br>   farewells .\", \"fire flashing efforts\", \"('eyes', 'NOUN')\", \"<br> louise was very pale but her eyes were flashing <br> fire .  \", \"pale flashing fire\", \"('eyes', 'NOUN')\", 21.046207833161027], [[\"slant\", \"ADJ\"], \"sight\", 37, 34, -0.12199052437861028, \"<br> if you 've never been associated , me lad <br> , with half a dozen most divilishly polite senors <br> , each one of them watching the others out <br> of the corner of his slant eyes for fear <br> they are going to betray him or assassinate him <br> first , you 'll never know the joys of <br> life in this peaceful and contented land of indolence <br> .\", \"corner slant fear\", \"('eyes', 'NOUN')\", \"<br> and if in the meantime he should discover those <br> rifles , or one of those slant - eyed <br> senors should turn out a benedict arnold , what <br> then , my friend ? \\\"  \", \"slant senors turn\", \"('eyed', 'ADJ')\", \"<br> there were slavonian hunters , fair - skinned and <br> mighty - muscled ; short , squat finns , <br> with flat noses and round faces ; siberian half <br> - breeds , whose noses were more like eagle <br> - beaks ; and lean , slant - eyed <br> men , who bore in their veins the mongol <br> and tartar blood as well as the blood of <br> the slav .  \", \"lean slant men bore\", \"('eyed', 'ADJ')\", -49.14035868902154], [[\"unwinking\", \"VERB\"], \"sight\", 37, 34, -0.12199052437861028, \"<br> the cripple stood all night , his bright , <br> luminous eyes gazing clear and unwinking at the moonlight <br> , listening to his heart song of the sea <br> .    \", \"bright luminous eyes clear unwinking\", \"('gazing', 'VERB')\", \"<br> instead he stood stock still , returning phineas babbitt <br> 's glare with a steady , unwinking gaze . <br>  \", \"steady unwinking\", \"('gaze', 'NOUN')\", \"<br> every eye was fixed in unwinking anxiety , and <br> people 's very breathing seemed stilled in suspense . <br>  \", \"fixed unwinking\", \"('eye', 'NOUN')\", 0.05669892268755152], [[\"minutely\", \"ADV\"], \"sight\", 86, 79, -0.12248400652499507, \"<br> to the right , at the lower extremity , <br> will be noticed the appearance of a small opening <br> ; this is the fissure alluded to above , <br> and to examine which more minutely than before was <br> the object of our second visit .\", \"minutely\", \"('examine', 'VERB')\", \"<br> then i minutely examined my clothes and thought that <br> everything looked old , worn and threadbare .  \", \"minutely clothes thought\", \"('examined', 'VERB')\", \"NA\", \"NA\", \"NA\", -0.4877345846534933], [[\"wonderingly\", \"ADV\"], \"sight\", 134, 123, -0.12357468511853259, \"<br> laverick glanced at his companion wonderingly .  \", \"laverick companion wonderingly\", \"('glanced', 'VERB')\", \"NA\", \"NA\", \"NA\", \"NA\", \"NA\", \"NA\", -79.99887881462277], [[\"downcast\", \"ADJ\"], \"sight\", 365, 335, -0.12373536842224479, \"<br> i recrossed the room with measured steps , with <br> downcast eyes , and approaching the couch without raising <br> them from the carpet i sank down on my <br> knees and leaned my forehead on its edge . <br>  \", \"steps downcast approaching\", \"('eyes', 'NOUN')\", \"<br> i do n't feel so downcast when i examine <br> the specimens of writing done by the children of <br> district no\", \"downcast specimens writing\", \"('examine', 'VERB')\", \"NA\", \"NA\", \"NA\", -52.61543797612335], [[\"sunken\", \"VERB\"], \"sight\", 133, 122, -0.1245450979383034, \"<br> i saw a frail little man with a long <br> , yellow face and sunken fanatical eyes , an <br> inquisitor , an unfrocked monk .  \", \"face sunken fanatical inquisitor\", \"('eyes', 'NOUN')\", \"NA\", \"NA\", \"NA\", \"NA\", \"NA\", \"NA\", -45.29102756959835], [[\"cast\", \"VERB\"], \"sight\", 2230, 2045, -0.12494286697855593, \"<br> he gave one low whine , and cast a <br> reproachful eye on me and the blue roan . <br>  \", \"cast reproachful\", \"('eye', 'NOUN')\", \"<br> i cast my eyes back on the road we <br> had come , and i thought i saw some <br> figures a mile back , on the edge of <br> the letaba gorge .  \", \"cast road\", \"('eyes', 'NOUN')\", \"<br> laverick only cast one glance there and abandoned every <br> instinct of curiosity , thinking once more only of <br> himself and his own position .  \", \"laverick cast abandoned\", \"('glance', 'NOUN')\", -46.13358031887272], [[\"sparkled\", \"VERB\"], \"sight\", 554, 508, -0.1250574792770224, \"<br> her lips twitched and her eyes sparkled .  \", \"lips twitched sparkled\", \"('eyes', 'NOUN')\", \"NA\", \"NA\", \"NA\", \"NA\", \"NA\", \"NA\", -55.428676798511745], [[\"blur\", \"NOUN\"], \"sight\", 36, 33, -0.12553088208385899, \"<br> looking up , he saw a little white blur <br> at the window , and noel 's face just <br> visible .  \", \"looking little white blur\", \"('saw', 'VERB')\", \"<br> round and round between ceiling and floor whirled the <br> naked body of the baby -- round and round <br> for minutes that seemed hours to the horrified nurse <br> -- round and round with all the strength and <br> speed the young man could put forth -- round <br> and round until the room was a blur before <br> his throbbing eyes , until his expression became fully <br> as demoniac as nora had been fancying it .\", \"blur throbbing expression\", \"('eyes', 'NOUN')\", \"<br> he saw these words like a blur hanging in <br> the air , just beyond his eyelids , and <br> he stared at the blur until he fell asleep <br> . \\\"  \", \"eyelids blur\", \"('stared', 'VERB')\", -47.2608707861111], [[\"inquiringly\", \"ADV\"], \"sight\", 156, 143, -0.12553088208385899, \"<br> \\\" she bent her eyes inquiringly upon him , <br> as if for the effect of this argument . <br>  \", \"bent inquiringly\", \"('eyes', 'NOUN')\", \"NA\", \"NA\", \"NA\", \"NA\", \"NA\", \"NA\", -49.65926852039663], [[\"askance\", \"NOUN\"], \"sight\", 108, 99, -0.12553088208385899, \"<br> he longed to have presented himself once more at <br> the foundry ; and then the reality would drive <br> away the pictures that would ( unbidden ) come <br> of a shunned man , eyed askance by all <br> , and driven forth to shape out some new <br> career .  \", \"shunned man askance\", \"('eyed', 'ADJ')\", \"NA\", \"NA\", \"NA\", \"NA\", \"NA\", \"NA\", -57.301225693915065], [[\"dimmed\", \"VERB\"], \"sight\", 153, 140, -0.12810482574768536, \"<br> tears dimmed older eyes when the hymn the dead <br> boy loved was sung , and the pastor told <br> with how much pride and pleasure he had watched <br> the gracious growth of this young parishioner since he <br> first met the lad of twelve and was attracted <br> by the shining face , the pleasant manners .\", \"tears dimmed older hymn\", \"('eyes', 'NOUN')\", \"<br> and then , through tear - dimmed eyes , <br> he read once more his father 's letter . <br>  \", \"tear dimmed read\", \"('eyes', 'NOUN')\", \"<br> beyond it was safety , but as my sweat <br> - dimmed eyes looked at it\", \"sweat dimmed looked\", \"('eyes', 'NOUN')\", 33.500667781276], [[\"beamed\", \"VERB\"], \"sight\", 175, 160, -0.1292830169449665, \"<br> and again the stillness was enforced by a sign <br> and whispered word , but with eyes that beamed <br> out their bright thoughts of hope .  \", \"word beamed\", \"('eyes', 'NOUN')\", \"NA\", \"NA\", \"NA\", \"NA\", \"NA\", \"NA\", 29.07281421800389], [[\"dilated\", \"VERB\"], \"sight\", 325, 297, -0.12997678711505103, \"<br> her hands were clasped over her breast and her <br> eyes were dilated as though she had been running <br> .\", \"breast dilated\", \"('eyes', 'NOUN')\", \"<br> his cheeks paled and his eyes dilated in terror <br> .\", \"cheeks paled dilated terror\", \"('eyes', 'NOUN')\", \"<br> she , however , having groped in dark cupboards <br> , must have had her pupils sufficiently dilated to <br> have seen that i had my hat on my <br> head .  \", \"sufficiently dilated\", \"('seen', 'VERB')\", -38.12674396162849], [[\"blankly\", \"ADV\"], \"sight\", 58, 53, -0.13006054056437286, \"<br> mr. collier gazed blankly at his wife 's upturned <br> face . \\\"\", \"mr. collier blankly wife\", \"('gazed', 'VERB')\", \"<br> \\\" they ca n't be here , \\\" i <br> said blankly , gazing about the room .  \", \"said blankly room\", \"('gazing', 'VERB')\", \"NA\", \"NA\", \"NA\", 12.298285825384228], [[\"flash\", \"VERB\"], \"sight\", 159, 145, -0.13297386526942087, \"<br> the large eyes seemed to flash fire , the <br> cheeks were white , save where they had been <br> touched with paint , the lips trembled .\", \"large flash fire\", \"('eyes', 'NOUN')\", \"<br> keesh 's eyes began to flash , and the <br> blood to pound darkly under his skin .  \", \"keesh began flash\", \"('eyes', 'NOUN')\", \"<br> his eyes flash anew ; he pulls handfuls of <br> grass and mops the surface clean , finally rubbing <br> it with his handkerchief .  \", \"flash anew\", \"('eyes', 'NOUN')\", 57.29416561056712], [[\"furtively\", \"ADV\"], \"sight\", 321, 292, -0.13660492824228593, \"<br> he would furtively glance across the table and then <br> as furtively throw a sidelong look at his neighbor <br> , and each time he appeared to grow more <br> thoughtful .\", \"furtively table\", \"('glance', 'VERB')\", \"<br> i had closed the front door without noise and <br> stood for a moment listening , while he glanced <br> about furtively .  \", \"listening furtively\", \"('glanced', 'VERB')\", \"NA\", \"NA\", \"NA\", 92.53303230089652], [[\"sparkling\", \"ADJ\"], \"sight\", 276, 251, -0.136980902827397, \"<br> later when the little caf\\u00e9 had emptied itself of <br> its habitual customers , mostly people connected with the <br> work of ships and cargoes , she came quietly <br> to sit at our table and looking at me <br> very hard with her black , sparkling eyes asked <br> dominic familiarly what had happened to his signorino . <br>  \", \"black sparkling asked dominic familiarly\", \"('eyes', 'NOUN')\", \"<br> lady , \\\" they would sigh , looking at <br> them with dark , sparkling eyes .\", \"dark sparkling\", \"('eyes', 'NOUN')\", \"NA\", \"NA\", \"NA\", -2.441472752403225], [[\"scowling\", \"ADJ\"], \"sight\", 33, 30, -0.13750352374993496, \"<br> tressady and mings were dragged , choking , from <br> their feet ; but with a couple of strokes <br> my keen knife had cut those deadly ropes asunder <br> , and as the two fell gasping on the <br> sand i turned to stare into the scowling eyes <br> of adam penfeather .  \", \"stare scowling adam penfeather\", \"('eyes', 'NOUN')\", \"<br> as jane and tarzan stood upon the vessel 's <br> deck recounting to one another the details of the <br> various adventures through which each had passed since they <br> had parted in their london home , there glared <br> at them from beneath scowling brows a hidden watcher <br> upon the shore .  \", \"scowling brows hidden shore\", \"('watcher', 'NOUN')\", \"<br> he went to the door , and looked into <br> the narrow corridor , expecting to see the scowling <br> countenance of gimblett .\", \"corridor expecting scowling countenance\", \"('see', 'VERB')\", 21.20541925008815], [[\"sightless\", \"NOUN\"], \"sight\", 88, 80, -0.13750352374993496, \"<br> and then beyond the sideboard and the tapestry on <br> the wall above it , he saw the sun <br> shining down upon the island of cuba , he <br> saw the royal palms waving and bending , the <br> dusty columns of spanish infantry crawling along the white <br> roads and leaving blazing huts and smoking cane - <br> fields in their wake ; he saw skeletons of <br> men and women seeking for food among the refuse <br> of the street ; he heard the order given <br> to the firing squad , the splash of the <br> bullets as they scattered the plaster on the prison <br> wall , and he saw a kneeling figure pitch <br> forward on its face , with a useless bandage <br> tied across its sightless eyes .  \", \"tied sightless\", \"('eyes', 'NOUN')\", \"<br> what if , for those sightless eyes , one <br> could create a world ?  \", \"sightless create\", \"('eyes', 'NOUN')\", \"NA\", \"NA\", \"NA\", 31.363042421197658], [[\"dilating\", \"VERB\"], \"sight\", 98, 89, -0.13897641314881046, \"<br> the boy choked back a scream , his big <br> brown eyes dilating with terror .  \", \"big brown dilating terror\", \"('eyes', 'NOUN')\", \"<br> \\\" asked the girl , with eyes dilating . <br>  \", \"girl dilating\", \"('eyes', 'NOUN')\", \"<br> our hero leaped to his feet , and with <br> dilating eyes and expanding brain and swimming sight stared <br> down upon the other like one turned to a <br> stone .  \", \"dilating expanding brain\", \"('eyes', 'NOUN')\", 35.258317456145164], [[\"narrowly\", \"ADV\"], \"sight\", 216, 196, -0.1401776580482603, \"<br> i answered the questions myself , and narrowly watched <br> the effects produced .  \", \"narrowly effects produced\", \"('watched', 'VERB')\", \"<br> i watched my fifty - two boys narrowly ; <br> watched their faces , their walk , their unconscious <br> attitudes : for all these are a language --a <br> language given us purposely that it may betray us <br> in times of emergency , when we have secrets <br> which we want to keep .  \", \"boys narrowly faces\", \"('watched', 'VERB')\", \"NA\", \"NA\", \"NA\", -1.567232474001629], [[\"lone\", \"PROPN\"], \"sight\", 64, 58, -0.14201900487242788, \"<br> at this time he was a frequent visitor of <br> \\\" lone mountain ,\\\"-- a dreary hill - top <br> , bleak enough in its original isolation , and <br> bleaker for the white - faced marbles by which <br> san francisco anchored her departed citizens , and kept <br> them down in a shifting sand that refused to <br> cover them , and against a fierce and persistent <br> wind that strove to blow them utterly away .\", \"frequent lone mountain\", \"('visitor', 'NOUN')\", \"NA\", \"NA\", \"NA\", \"NA\", \"NA\", \"NA\", 47.51179959873294], [[\"gleamed\", \"VERB\"], \"sight\", 448, 406, -0.14201900487242788, \"<br> the man 's eyes gleamed .  \", \"man gleamed\", \"('eyes', 'NOUN')\", \"<br> he was angry at having been outwitted and his <br> eyes gleamed ominously .  \", \"outwitted gleamed ominously\", \"('eyes', 'NOUN')\", \"<br> his deep - set fierce old eyes gleamed under <br> his beetling brows .  \", \"set fierce old gleamed beetling\", \"('eyes', 'NOUN')\", -58.84815540135006], [[\"glistened\", \"VERB\"], \"sight\", 202, 183, -0.14251164446775225, \"<br> the german 's eyes glistened at the sight of <br> the gold , and a beatific smile stretched his <br> mouth from ear to ear .  \", \"german glistened sight\", \"('eyes', 'NOUN')\", \"NA\", \"NA\", \"NA\", \"NA\", \"NA\", \"NA\", -4.043433581149207], [[\"feasting\", \"VERB\"], \"sight\", 42, 38, -0.1443899093351748, \"<br> my bewigged little landlady was feasting her eyes on <br> her son   meyer went on with his argument <br> :\", \"landlady feasting son\", \"('eyes', 'NOUN')\", \"NA\", \"NA\", \"NA\", \"NA\", \"NA\", \"NA\", 15.769409567457815], [[\"dart\", \"VERB\"], \"sight\", 63, 57, -0.1443899093351748, \"<br> we were barely in time to see the last <br> man dart up a flight of outside stairs , <br> which led to the first story , and disappear <br> , closing a heavy door behind him .\", \"barely time man dart\", \"('see', 'VERB')\", \"<br> she stood awhile on the threshold , watching melisande <br> dart to and fro like a shuttle across a <br> loom .\", \"threshold melisande dart\", \"('watching', 'VERB')\", \"<br> once i could have sworn that among the many <br> creatures dimly perceived amidst the shadows of the wood <br> i saw a human figure dart from one cover <br> to another , but i could not be sure <br> .  \", \"wood human figure dart\", \"('saw', 'VERB')\", -13.025012432343848], [[\"spangled\", \"VERB\"], \"sight\", 63, 57, -0.1443899093351748, \"<br> he struck up the \\\" star - spangled banner <br> the   effect was overwhelming .\", \"struck spangled banner\", \"('star', 'PROPN')\", \"<br> my sister , sir , the purest girl in <br> america , the most beautiful creature beneath the star <br> - spangled banner of columbia , is not going <br> to be the companion of dissolute idleness and gilded <br> dishonor -- not , sir , if _\", \"beautiful creature spangled banner\", \"('star', 'NOUN')\", \"NA\", \"NA\", \"NA\", 9.175137178052426], [[\"fixing\", \"VERB\"], \"sight\", 513, 464, -0.144834020479482, \"<br> when they were cleaned she pointed to a couple <br> of flat stones against the wall of the cave <br> and bade them sit down and be good , <br> and this the children did , fixing their eyes <br> on pan with the cheerful gravity and curiosity which <br> good - natured youngsters always give to a stranger <br> .  \", \"fixing pan\", \"('eyes', 'NOUN')\", \"NA\", \"NA\", \"NA\", \"NA\", \"NA\", \"NA\", -41.7440170551672], [[\"appraising\", \"VERB\"], \"sight\", 62, 56, -0.14684138832927113, \"<br> the eyes of those who did not hesitate nor <br> compute looked into her eyes , not appraising , <br> not questioning , but mild and unafraid .\", \"compute looked appraising\", \"('eyes', 'NOUN')\", \"NA\", \"NA\", \"NA\", \"NA\", \"NA\", \"NA\", -18.097489747212105], [[\"blazing\", \"VERB\"], \"sight\", 474, 428, -0.14727626249711223, \"<br> she answered , the anger blazing out of her <br> eyes , shaking in her voice .  \", \"blazing shaking\", \"('eyes', 'NOUN')\", \"NA\", \"NA\", \"NA\", \"NA\", \"NA\", \"NA\", 4.17053091795981], [[\"shone\", \"VERB\"], \"sight\", 1051, 949, -0.14728267694106895, \"<br> and his eyes shone like stars in his glowing <br> face .  \", \"eyes shone glowing face\", \"('stars', 'NOUN')\", \"<br> how his great shaggy brows did draw themselves together <br> , and how queerly his deep eyes shone under <br> them -- how very queerly !  \", \"queerly deep shone\", \"('eyes', 'NOUN')\", \"NA\", \"NA\", \"NA\", -4.353765719345895], [[\"baleful\", \"ADJ\"], \"sight\", 80, 72, -0.15200309344504997, \"<br> but never had he seen aught in him to <br> rival this present frenzy ; it rendered satanical the <br> baleful glance of his eyes and the awful smile <br> of hate and mockery with which he gazed at <br> last upon the helpless quarry that he had waited <br> eighteen years to bring to earth .\", \"baleful glance awful smile\", \"('eyes', 'NOUN')\", \"<br> i avoided norah 's baleful eye as i answered <br> their questions and performed the final adieux .  \", \"avoided norah baleful answered\", \"('eye', 'NOUN')\", \"<br> and so the gowns began to strew tables and <br> chairs and racks , and still i shook my <br> head , and frau nirlanger looked despairing , and <br> the be - puffed and real irish - crocheted <br> saleswoman began to develop a baleful gleam about the <br> eyes .  \", \"baleful gleam\", \"('eyes', 'NOUN')\", -46.308861358351784], [[\"beaming\", \"VERB\"], \"sight\", 247, 222, -0.15395136523457162, \"<br> the clasped hands , the beaming eyes ,-- the <br> trembling eagerness of gesture , of one who had <br> long awaited her awakening , and who now stood <br> behind the curtains watching through some little chink her <br> every faint motion ; or if she had caught <br> a glimpse of that loving , peeping face , <br> she was in too exhausted a state to have <br> taken much notice , or have long retained the <br> impression that he she loved so well was hanging <br> about her , and blessing god for every conscious <br> look which stole over her countenance .  \", \"hands beaming trembling eagerness\", \"('eyes', 'NOUN')\", \"<br> the next second clarence had slipped from some place <br> of concealment and was pouring news into my ear <br> , his eyes beaming with triumph and gladness . <br>  \", \"ear beaming triumph\", \"('eyes', 'NOUN')\", \"NA\", \"NA\", \"NA\", 8.754786707371302], [[\"incredulously\", \"ADV\"], \"sight\", 68, 61, -0.15672550368745308, \"<br> he started ; shook another tear on his hand <br> , and stared at it incredulously .  \", \"hand incredulously\", \"('stared', 'VERB')\", \"<br> he stared at his father incredulously . \\\"\", \"father incredulously\", \"('stared', 'VERB')\", \"NA\", \"NA\", \"NA\", -6.567413062343204]], \"hovertemplate\": \"literary_period=1800<br>Principal Component 1=%{x}<br>Principal Component 2=%{y}<br>word=%{customdata[0]}<br>modality=%{customdata[1]}<br>total_freq=%{customdata[2]}<br>total_freq_in_sense=%{customdata[3]}<br>PAI=%{customdata[4]}<br>Random Sentence 1=%{customdata[5]}<br>Random Context Window 1=%{customdata[6]}<br>Random Seed Words 1=%{customdata[7]}<br>Random Sentence 2=%{customdata[8]}<br>Random Context Window 2=%{customdata[9]}<br>Random Seed Words 2=%{customdata[10]}<br>Random Sentence 3=%{customdata[11]}<br>Random Context Window 3=%{customdata[12]}<br>Random Seed Words 3=%{customdata[13]}<extra></extra>\", \"legendgroup\": \"1800\", \"marker\": {\"color\": \"#FFA15A\", \"size\": 12, \"symbol\": \"circle\"}, \"mode\": \"markers\", \"name\": \"1800\", \"orientation\": \"v\", \"showlegend\": true, \"type\": \"scatter\", \"x\": [29.969545448525807, 51.07472128699331, 47.331511257341624, 47.60464629443895, 47.2377665150489, 34.428133957756636, -48.144594552265964, -66.76249062963713, -33.8090177330368, -74.7691748791239, -45.40811655534145, -62.56278738990187, -7.151855077993766, -8.064923013384542, -19.409711205447405, -57.61987453436426, -50.581371071550834, 29.95811839752931, 35.81812537208308, -37.94112953044609, -57.49603695303805, 26.19547746858976, -41.453092019146325, -9.489256059286765, -40.69087895251662, 3.037505674150124, 26.100980251993533, -7.845053408236123, -12.43367729501259, -21.226023380772755, 2.6926849079435455, -61.49940156167472, 8.479980250822706, -50.51302672828737, 1.7829199978454844, -45.16443820781991, -46.93480922290451, -59.391387416112714, 30.468780173312215, 5.137944449256458, 14.595943489276776, -83.94741808287739, -34.596998009779796, -32.2737117451192, -45.39409713675754, -21.125708940363577, -62.64384334998991, -27.374787432265673, -1.7097883882377507, -28.095015312722357, -17.809970196551603, -70.35727059580118, -25.711058600039927, 32.02028544635847, -16.980512173859232, -79.55623478769981, -50.37365328290822, -99.77408685521598, -48.81017159076897, -17.929826126102345, -38.05546089598631, -48.23454413040771, -14.936347606765166, -12.911045927550147, 21.046207833161027, -49.14035868902154, 0.05669892268755152, -0.4877345846534933, -79.99887881462277, -52.61543797612335, -45.29102756959835, -46.13358031887272, -55.428676798511745, -47.2608707861111, -49.65926852039663, -57.301225693915065, 33.500667781276, 29.07281421800389, -38.12674396162849, 12.298285825384228, 57.29416561056712, 92.53303230089652, -2.441472752403225, 21.20541925008815, 31.363042421197658, 35.258317456145164, -1.567232474001629, 47.51179959873294, -58.84815540135006, -4.043433581149207, 15.769409567457815, -13.025012432343848, 9.175137178052426, -41.7440170551672, -18.097489747212105, 4.17053091795981, -4.353765719345895, -46.308861358351784, 8.754786707371302, -6.567413062343204], \"xaxis\": \"x\", \"y\": [43.59158533188425, -44.79559285771366, 26.168946639309386, 15.396412091825269, 9.325205535603736, -44.1653004716292, -18.253354135395064, -6.987400400917674, -19.249032210811045, 28.93416435176117, -29.2145218372803, -16.131754942080168, 16.897603782925284, 17.430861292550055, 38.686921453004295, -0.338572685499422, 49.69824278666071, 26.559431968976153, 38.89392171705983, 24.193145307707567, -23.112852572955664, 9.949071571797273, 16.52167890668596, -14.452244245684545, 35.58070340282816, 9.3439158012417, 39.71565137324566, 0.02083519874768497, -19.078483627615643, 28.08145616214606, 0.32735986059402905, 10.526380140695828, 65.40889504091189, 32.31898041533275, 3.906132105640892, 30.385044531514033, 7.360749189538821, -12.677251756339425, -3.4270590264182803, 59.32483286568824, -20.599586006856516, -45.59370148620291, -38.949082777103015, -46.628743602788845, -15.97415504342259, -12.315546932742329, 21.366926763568003, 42.10511701005306, 16.74231395385402, -4.499467904488564, 16.696490931158934, 9.493899128340928, -12.60062959155689, 16.194591239312427, 63.43772475845373, 12.404515685979902, -26.532990288947367, -8.14363857556815, -20.592274934724372, 20.816036765402067, 48.48525768872059, -5.449193625383997, 36.40907249565295, -5.87640235166562, 2.7968894302669547, -30.094192085004895, 18.085741259659248, 11.868752431154682, 16.0609781394673, 29.491694436922547, -21.218178605064367, 7.829989112412086, -4.566470613660916, -42.9246136640669, 8.487739764368722, 18.413063374135607, -20.681718909490083, 13.013334230362641, 39.96925288428168, -0.8264812262816357, 2.3296485691214452, -20.53553465287733, 16.97096862962591, 22.436509664740917, 4.6734199829769585, -25.61551315347177, -29.684723508344234, 8.973656714149737, -1.6631221645019996, 20.46196752934773, 10.842440837934197, -35.99634304671166, -36.251596344790386, 46.96351180730492, 24.09899007888985, -32.4434316353407, 8.129886414446865, 11.662265707133894, -23.446318995367797, -16.928851625442725], \"yaxis\": \"y\"}, {\"customdata\": [[[\"fire\", \"NOUN\"], \"sight\", 2, 2, 0.0, \"<br> i ai n't never seen such a fire in <br> my whole life !\", \"ai fire\", \"('seen', 'VERB')\", \"<br> papa and mama watched the fire and talked for <br> a long time - about a letter from my <br> married sister gertie , and about clyde and walker <br> finally coming home from the war .  \", \"papa mama fire talked\", \"('watched', 'VERB')\", \"NA\", \"NA\", \"NA\", -28.461860279779515], [[\"honorable\", \"ADJ\"], \"sight\", 2, 2, 0.0, \"<br> his honorable former partner was experiencing post - retirement <br> pangs .\", \"honorable partner post retirement pangs\", \"('experiencing', 'VERB')\", \"NA\", \"NA\", \"NA\", \"NA\", \"NA\", \"NA\", 1.2940317567599904], [[\"shock\", \"NOUN\"], \"sight\", 2, 2, 0.0, \"<br> her mind , assaulted by sensations no untrained person <br> should experience , went into shock .\", \"untrained person went shock\", \"('experience', 'VERB')\", \"<br> i 've never seen space shock before .\", \"space shock\", \"('seen', 'VERB')\", \"NA\", \"NA\", \"NA\", -5.111872110027932], [[\"tomorrow\", \"NOUN\"], \"sight\", 3, 3, 0.0, \"<br> we 'll see him tomorrow .\", \"tomorrow\", \"('see', 'VERB')\", \"<br> see you tomorrow .\", \"tomorrow\", \"('see', 'VERB')\", \"<br> we 'll be seeing you tomorrow morning at the <br> latest .\", \"tomorrow morning\", \"('seeing', 'VERB')\", 17.02202439635644], [[\"formats\", \"NOUN\"], \"sight\", 2, 2, 0.0, \"<br> second , we would implement system software communication hooks <br> in our operating system , which would read and <br> understand file formats and information from icp systems .\", \"read file formats information\", \"('understand', 'VERB')\", \"NA\", \"NA\", \"NA\", \"NA\", \"NA\", \"NA\", 65.3930566884669], [[\"bay\", \"NOUN\"], \"sight\", 3, 3, 0.0, \"<br> \\\" that 's a help -- now let 's <br> see what makes that bay different from the others <br> . \\\"  \", \"let makes bay\", \"('see', 'VERB')\", \"<br> seeing the tall buildings , the two magnificent bridges <br> , the bay , he experienced a sense of <br> newfound being .\", \"bay sense newfound\", \"('experienced', 'VERB')\", \"NA\", \"NA\", \"NA\", -23.048693975836645], [[\"appraising\", \"VERB\"], \"sight\", 4, 4, 0.0, \"<br> he returned her appraising stare with one of his <br> own .\", \"returned appraising\", \"('stare', 'NOUN')\", \"<br> eloise 's eyes were frankly appraising .\", \"eloise frankly appraising\", \"('eyes', 'NOUN')\", \"<br> with an appraising eye , the formally dressed door <br> attendant held the door for her .\", \"appraising formally dressed\", \"('eye', 'NOUN')\", -13.810357539962805], [[\"cursory\", \"ADJ\"], \"sight\", 2, 2, 0.0, \"<br> after she vanished into the lobby he stole a <br> cursory glance at matthew , the man so lucky <br> to be with such an exquisite woman .\", \"stole cursory matthew\", \"('glance', 'NOUN')\", \"NA\", \"NA\", \"NA\", \"NA\", \"NA\", \"NA\", 26.4396961535498], [[\"mindfulness\", \"NOUN\"], \"sight\", 2, 2, 0.0, \"<br> she asked simply , revealing her mindfulness of his <br> regard all along , confirming it .  \", \"mindfulness confirming\", \"('regard', 'NOUN')\", \"NA\", \"NA\", \"NA\", \"NA\", \"NA\", \"NA\", 39.746257847902505], [[\"pierced\", \"VERB\"], \"sight\", 2, 2, 0.0, \"<br> the emerald intensity of his eyes pierced through her <br> , instantly warming her neck , her nipples , <br> her loins .  \", \"emerald intensity pierced\", \"('eyes', 'NOUN')\", \"NA\", \"NA\", \"NA\", \"NA\", \"NA\", \"NA\", -1.2427279931892168], [[\"intensity\", \"NOUN\"], \"sight\", 2, 2, 0.0, \"<br> the emerald intensity of his eyes pierced through her <br> , instantly warming her neck , her nipples , <br> her loins .  \", \"emerald intensity pierced\", \"('eyes', 'NOUN')\", \"NA\", \"NA\", \"NA\", \"NA\", \"NA\", \"NA\", -28.238385400717963], [[\"emerald\", \"NOUN\"], \"sight\", 2, 2, 0.0, \"<br> the emerald intensity of his eyes pierced through her <br> , instantly warming her neck , her nipples , <br> her loins .  \", \"emerald intensity pierced\", \"('eyes', 'NOUN')\", \"NA\", \"NA\", \"NA\", \"NA\", \"NA\", \"NA\", 1.9868886675874735], [[\"laughed\", \"VERB\"], \"sight\", 2, 2, 0.0, \"<br> she laughed at him and saw that he was <br> hiding something behind his back .\", \"laughed hiding\", \"('saw', 'VERB')\", \"NA\", \"NA\", \"NA\", \"NA\", \"NA\", \"NA\", -22.703629256133325], [[\"carrying\", \"VERB\"], \"sight\", 2, 2, 0.0, \"<br> here and there , children are playing or doing <br> chores , you see a woman carrying a basket <br> , a man with an ax .\", \"chores woman carrying\", \"('see', 'VERB')\", \"NA\", \"NA\", \"NA\", \"NA\", \"NA\", \"NA\", -29.512205587279254], [[\"wave\", \"VERB\"], \"sight\", 2, 2, 0.0, \"<br> they wave when they see you . \\\"\", \"wave\", \"('see', 'VERB')\", \"NA\", \"NA\", \"NA\", \"NA\", \"NA\", \"NA\", -22.482647847179262], [[\"bath\", \"NOUN\"], \"sight\", 2, 2, 0.0, \"<br> but lately , when she left him after their <br> ride , she had begun to allow herself a <br> little more ; she had now and then found <br> herself thinking about him during her midmorning bath , <br> or just staring out the bedroom window , across <br> the treetops and off into the near distance , <br> at the ranch 's gable rooftop .\", \"bath bedroom window\", \"('staring', 'VERB')\", \"NA\", \"NA\", \"NA\", \"NA\", \"NA\", \"NA\", 0.9376939641816021], [[\"bedroom\", \"NOUN\"], \"sight\", 4, 4, 0.0, \"<br> but lately , when she left him after their <br> ride , she had begun to allow herself a <br> little more ; she had now and then found <br> herself thinking about him during her midmorning bath , <br> or just staring out the bedroom window , across <br> the treetops and off into the near distance , <br> at the ranch 's gable rooftop .\", \"bath bedroom window\", \"('staring', 'VERB')\", \"<br> she peered into the bedroom window .\", \"bedroom window\", \"('peered', 'VERB')\", \"NA\", \"NA\", \"NA\", 9.177938524622807], [[\"letting\", \"VERB\"], \"sight\", 3, 3, 0.0, \"<br> he called after her , yet , when she <br> turned once , she saw that he was letting <br> the stretch widen between them , as if he <br> had seen her flustered condition and had , once <br> again , understood what she was feeling .  \", \"turned letting\", \"('saw', 'VERB')\", \"<br> i twisted round to see who was letting more <br> of that christmas wind swoosh through the church door <br> .\", \"twisted round letting\", \"('see', 'VERB')\", \"NA\", \"NA\", \"NA\", 61.19373502773116], [[\"flustered\", \"VERB\"], \"sight\", 2, 2, 0.0, \"<br> he called after her , yet , when she <br> turned once , she saw that he was letting <br> the stretch widen between them , as if he <br> had seen her flustered condition and had , once <br> again , understood what she was feeling .  \", \"flustered condition\", \"('seen', 'VERB')\", \"NA\", \"NA\", \"NA\", \"NA\", \"NA\", \"NA\", -2.5906658261921436], [[\"condition\", \"NOUN\"], \"sight\", 2, 2, 0.0, \"<br> he called after her , yet , when she <br> turned once , she saw that he was letting <br> the stretch widen between them , as if he <br> had seen her flustered condition and had , once <br> again , understood what she was feeling .  \", \"flustered condition\", \"('seen', 'VERB')\", \"NA\", \"NA\", \"NA\", \"NA\", \"NA\", \"NA\", -30.15263446692601], [[\"feeling\", \"VERB\"], \"sight\", 2, 2, 0.0, \"<br> he called after her , yet , when she <br> turned once , she saw that he was letting <br> the stretch widen between them , as if he <br> had seen her flustered condition and had , once <br> again , understood what she was feeling .  \", \"feeling\", \"('understood', 'VERB')\", \"NA\", \"NA\", \"NA\", \"NA\", \"NA\", \"NA\", 30.286805568191856], [[\"gazed\", \"VERB\"], \"sight\", 2, 2, 0.0, \"<br> his eyes gazed at her with peaceful , deliberate <br> regard .\", \"gazed\", \"('eyes', 'NOUN')\", \"NA\", \"NA\", \"NA\", \"NA\", \"NA\", \"NA\", 28.72470843152748], [[\"difference\", \"NOUN\"], \"sight\", 4, 4, 0.0, \"<br> in the rest of the brotherhood , the color <br> of a man 's skin , the shape of <br> his face , the quality and color of his <br> hair and eyes made no difference .\", \"hair difference\", \"('eyes', 'NOUN')\", \"<br> ca n't you see the difference ? \\\"  \", \"difference\", \"('see', 'VERB')\", \"<br> there was the difference , he understood at once <br> .\", \"difference\", \"('understood', 'VERB')\", 3.500490933649465], [[\"peaceful\", \"ADJ\"], \"sight\", 4, 4, 0.0, \"<br> his eyes gazed at her with peaceful , deliberate <br> regard .\", \"peaceful deliberate\", \"('regard', 'NOUN')\", \"NA\", \"NA\", \"NA\", \"NA\", \"NA\", \"NA\", 9.120707863673287], [[\"change\", \"NOUN\"], \"sight\", 2, 2, 0.0, \"<br> but as yet i could n't see much change <br> .  \", \"change\", \"('see', 'VERB')\", \"<br> i loved to watch the world change coordinates with <br> the silent heaven of the angels , in the <br> sense that nothing mean could be said while people <br> 's minds were half- alive , that is deeply <br> asleep to the eyes of this world .  \", \"loved world change coordinates\", \"('watch', 'VERB')\", \"NA\", \"NA\", \"NA\", 70.04705394394689], [[\"future\", \"NOUN\"], \"sight\", 2, 2, 0.0, \"<br> the saint of the pyre had seen the future <br> when he chose me as his heir , as <br> the heir of all the saints and all the <br> martyrs who came before him and who died for <br> the same cause , for the same word , <br> no matter what name they gave to their cause <br> and their truth .  \", \"pyre future\", \"('seen', 'VERB')\", \"NA\", \"NA\", \"NA\", \"NA\", \"NA\", \"NA\", -11.594723419550267], [[\"pyre\", \"NOUN\"], \"sight\", 2, 2, 0.0, \"<br> the saint of the pyre had seen the future <br> when he chose me as his heir , as <br> the heir of all the saints and all the <br> martyrs who came before him and who died for <br> the same cause , for the same word , <br> no matter what name they gave to their cause <br> and their truth .  \", \"pyre future\", \"('seen', 'VERB')\", \"NA\", \"NA\", \"NA\", \"NA\", \"NA\", \"NA\", -14.157029699043974], [[\"windows\", \"NOUN\"], \"sight\", 2, 2, 0.0, \"<br> we pulled the heavy curtains from the windows and <br> we saw that the rooms were small , and <br> we thought that not more than twelve men could <br> have lived here .\", \"windows rooms\", \"('saw', 'VERB')\", \"NA\", \"NA\", \"NA\", \"NA\", \"NA\", \"NA\", -14.23363481567106], [[\"suppose\", \"VERB\"], \"sight\", 2, 2, 0.0, \"<br> \\\" i suppose you ca n't see it yet <br> , \\\" she admitted .\", \"suppose\", \"('see', 'VERB')\", \"<br> \\\" and i suppose you gloat -- no\", \"suppose\", \"('gloat', 'VERB')\", \"NA\", \"NA\", \"NA\", -6.748384005582241], [[\"begins\", \"VERB\"], \"sight\", 2, 2, 0.0, \"<br> \\\" you 've got about ten minutes before the <br> meeting begins , \\\" she said , then closed <br> his office door .\", \"minutes begins\", \"('meeting', 'NOUN')\", \"NA\", \"NA\", \"NA\", \"NA\", \"NA\", \"NA\", 11.204684628569492], [[\"eyed\", \"ADJ\"], \"sight\", 2, 2, 0.0, \"<br> terrified by a pseudo reality that surpassed her wildest <br> nightmares , she stared wide - eyed at the <br> control room and the thing that had been kennon <br> .\", \"wildest nightmares wide eyed\", \"('stared', 'VERB')\", \"<br> i 'm not one of these starry - eyed <br> reformers who expect to change things overnight .\", \"eyed reformers\", \"('starry', 'ADJ')\", \"NA\", \"NA\", \"NA\", 6.484968774075374], [[\"wave\", \"NOUN\"], \"sight\", 2, 2, 0.0, \"<br> she closed her eyes and took a deep , <br> heady breath , and experienced a wave of pleasant <br> dizziness .  \", \"heady breath wave pleasant\", \"('experienced', 'VERB')\", \"NA\", \"NA\", \"NA\", \"NA\", \"NA\", \"NA\", -33.341570845484725], [[\"quarterly\", \"ADJ\"], \"sight\", 4, 4, 0.0, \"<br> he felt a powerful thrill wash though him like <br> the one he had experienced at the last quarterly <br> board meeting , when his organizational design had flexed <br> peter jones out of his way .\", \"quarterly board organizational\", \"('meeting', 'NOUN')\", \"NA\", \"NA\", \"NA\", \"NA\", \"NA\", \"NA\", 34.64889986729582], [[\"breathing\", \"NOUN\"], \"sight\", 2, 2, 0.0, \"<br> mighty boy stood steady as she experienced the bold <br> breathing and strong heartbeat drumming beneath her hand . <br> \\\"\", \"stood steady bold breathing\", \"('experienced', 'VERB')\", \"NA\", \"NA\", \"NA\", \"NA\", \"NA\", \"NA\", -31.746274298351743], [[\"steady\", \"ADJ\"], \"sight\", 2, 2, 0.0, \"<br> mighty boy stood steady as she experienced the bold <br> breathing and strong heartbeat drumming beneath her hand . <br> \\\"\", \"stood steady bold breathing\", \"('experienced', 'VERB')\", \"NA\", \"NA\", \"NA\", \"NA\", \"NA\", \"NA\", 21.221704224172957], [[\"headed\", \"VERB\"], \"sight\", 2, 2, 0.0, \"<br> he nodded and shuffled the films and his notes <br> together into the folder and headed for the meeting <br> .\", \"headed\", \"('meeting', 'NOUN')\", \"NA\", \"NA\", \"NA\", \"NA\", \"NA\", \"NA\", 5.981403889813654], [[\"position\", \"NOUN\"], \"sight\", 5, 5, 0.0, \"<br> you see , our competitive position is based on <br> lani labor .\", \"competitive position\", \"('see', 'VERB')\", \"<br> in an instant he understood his position with profound <br> clarity .\", \"instant position profound\", \"('understood', 'VERB')\", \"<br> he gripped the rail behind him with both hands <br> , anchoring himself in a leaning position as he <br> watched byron work the wheel .  \", \"leaning position byron work wheel\", \"('watched', 'VERB')\", -7.891080244934197], [[\"profound\", \"ADJ\"], \"sight\", 2, 2, 0.0, \"<br> in an instant he understood his position with profound <br> clarity .\", \"instant position profound\", \"('understood', 'VERB')\", \"NA\", \"NA\", \"NA\", \"NA\", \"NA\", \"NA\", -11.519364958982957], [[\"chains\", \"NOUN\"], \"sight\", 2, 2, 0.0, \"<br> i understood that centuries of chains and lashes will <br> not kill the spirit of man nor the sense <br> of truth within him .  \", \"centuries chains\", \"('understood', 'VERB')\", \"NA\", \"NA\", \"NA\", \"NA\", \"NA\", \"NA\", -7.745681424773349], [[\"blessed\", \"ADJ\"], \"sight\", 2, 2, 0.0, \"<br> i understood the blessed thing which i had called <br> my curse .\", \"blessed thing\", \"('understood', 'VERB')\", \"NA\", \"NA\", \"NA\", \"NA\", \"NA\", \"NA\", 67.41971154160176], [[\"group\", \"NOUN\"], \"sight\", 2, 2, 0.0, \"<br> however , \\\" he cautioned , sweeping the group <br> with his serious eyes , \\\" only if we <br> can handle the perception aspect of it with the <br> employees .\", \"group\", \"('eyes', 'NOUN')\", \"NA\", \"NA\", \"NA\", \"NA\", \"NA\", \"NA\", 53.34860156178168], [[\"epiphany\", \"NOUN\"], \"sight\", 2, 2, 0.0, \"<br> matthew experienced an epiphany .\", \"matthew epiphany\", \"('experienced', 'VERB')\", \"NA\", \"NA\", \"NA\", \"NA\", \"NA\", \"NA\", 19.188926614801293], [[\"critically\", \"ADV\"], \"sight\", 2, 2, 0.0, \"<br> she pivoted slowly before the glass , eying herself <br> critically , raising her arms over her head , <br> holding them at her sides , flexing her supple <br> spine and tightening muscles that moved like silken cords <br> beneath her golden skin .  \", \"glass critically raising\", \"('eying', 'VERB')\", \"<br> he eyed kennon critically .  \", \"kennon critically\", \"('eyed', 'VERB')\", \"NA\", \"NA\", \"NA\", 10.822312980794422], [[\"guided\", \"VERB\"], \"sight\", 2, 2, 0.0, \"<br> he nodded to let her know that he understood <br> , then guided the ungloved hand beneath his shirt <br> .\", \"know guided\", \"('understood', 'VERB')\", \"NA\", \"NA\", \"NA\", \"NA\", \"NA\", \"NA\", 63.591793376328184], [[\"actions\", \"NOUN\"], \"sight\", 2, 2, 0.0, \"<br> all witnesses in brotherhood court actions were examined under <br> psychoprobe , and a hypnotic was of no value <br> against a lie detector that could extract the deepest <br> buried truth .\", \"brotherhood court actions psychoprobe\", \"('examined', 'VERB')\", \"NA\", \"NA\", \"NA\", \"NA\", \"NA\", \"NA\", -10.944039155831742], [[\"leaping\", \"VERB\"], \"sight\", 2, 2, 0.0, \"<br> and the road seemed not to be flat before <br> us , but as if it were leaping up <br> to meet us , and we waited for the <br> earth to rise and strike us in the face <br> .\", \"leaping\", \"('meet', 'VERB')\", \"NA\", \"NA\", \"NA\", \"NA\", \"NA\", \"NA\", -0.11424425122850625], [[\"brotherhood\", \"PROPN\"], \"sight\", 2, 2, 0.0, \"<br> all witnesses in brotherhood court actions were examined under <br> psychoprobe , and a hypnotic was of no value <br> against a lie detector that could extract the deepest <br> buried truth .\", \"brotherhood court actions psychoprobe\", \"('examined', 'VERB')\", \"NA\", \"NA\", \"NA\", \"NA\", \"NA\", \"NA\", -31.4361190425488], [[\"best\", \"ADJ\"], \"sight\", 2, 2, 0.0, \"<br> i understood why the best in me had been <br> my sins and my transgressions ; and why i <br> had never felt guilt in my sins .\", \"best\", \"('understood', 'VERB')\", \"NA\", \"NA\", \"NA\", \"NA\", \"NA\", \"NA\", 27.372129298107183], [[\"flower\", \"NOUN\"], \"sight\", 2, 2, 0.0, \"<br> and before she had to even consider retracting her <br> flawed hand , he moved her aside and set <br> about unfastening the girth and removing the saddle , <br> leaving her to just stand there and watch , <br> holding the flower .  \", \"stand holding flower\", \"('watch', 'VERB')\", \"NA\", \"NA\", \"NA\", \"NA\", \"NA\", \"NA\", -4.530964429061002], [[\"equestrian\", \"ADJ\"], \"sight\", 2, 2, 0.0, \"<br> he saw various equestrian products as they climbed the <br> stairs .\", \"equestrian products\", \"('saw', 'VERB')\", \"NA\", \"NA\", \"NA\", \"NA\", \"NA\", \"NA\", -33.0812600175514], [[\"leaning\", \"VERB\"], \"sight\", 2, 2, 0.0, \"<br> he gripped the rail behind him with both hands <br> , anchoring himself in a leaning position as he <br> watched byron work the wheel .  \", \"leaning position byron work wheel\", \"('watched', 'VERB')\", \"NA\", \"NA\", \"NA\", \"NA\", \"NA\", \"NA\", -27.943591566074137], [[\"i.\", \"NOUN\"], \"sight\", 2, 2, 0.0, \"<br> \\\" i. \\\"     chapter twelve   it was <br> when i read the first of the books i <br> found in my house that i saw the word <br> \\\" i. \\\"\", \"house word i.\", \"('saw', 'VERB')\", \"<br> it was when i read the first of the <br> books i found in my house that i saw <br> the word \\\" i. \\\" and when i understood <br> this word , the book fell from my hands <br> , and i wept , i who had never <br> known tears .\", \"house word i.\", \"('saw', 'VERB')\", \"NA\", \"NA\", \"NA\", -22.977896558639483], [[\"step\", \"NOUN\"], \"sight\", 2, 2, 0.0, \"<br> he fell back a step behind her when they <br> crossed the street to admire the way her wavy <br> hair bounced on her shoulders with each determined step <br> .\", \"shoulders step\", \"('determined', 'ADJ')\", \"NA\", \"NA\", \"NA\", \"NA\", \"NA\", \"NA\", -14.071460303775833], [[\"sunspots\", \"NOUN\"], \"sight\", 2, 2, 0.0, \"<br> even after they were inside , this image lingered <br> bright in his mind 's eye like sunspots on <br> the eyelids .  \", \"mind sunspots\", \"('eye', 'NOUN')\", \"NA\", \"NA\", \"NA\", \"NA\", \"NA\", \"NA\", 0.1562315817068507], [[\"shading\", \"VERB\"], \"sight\", 6, 6, 0.0, \"<br> had the others seen it , they could have <br> guessed nothing , for it looked only as if <br> we were shading our eyes from the sun .\", \"shading sun\", \"('eyes', 'NOUN')\", \"NA\", \"NA\", \"NA\", \"NA\", \"NA\", \"NA\", -8.491664768384263], [[\"locked\", \"VERB\"], \"sight\", 2, 2, 0.0, \"<br> his eyes locked on matthew 's .  \", \"locked matthew\", \"('eyes', 'NOUN')\", \"NA\", \"NA\", \"NA\", \"NA\", \"NA\", \"NA\", -0.2314112966359535], [[\"squinting\", \"VERB\"], \"sight\", 2, 2, 0.0, \"<br> peter asked , shading his eyes and squinting out <br> at the ocean that lay a half - mile <br> ahead .  \", \"asked shading squinting\", \"('eyes', 'NOUN')\", \"NA\", \"NA\", \"NA\", \"NA\", \"NA\", \"NA\", 18.42210147066669], [[\"finish\", \"VERB\"], \"sight\", 2, 2, 0.0, \"<br> he wanted to finish this meeting and get back <br> down on the ground as soon as possible . <br>  \", \"wanted finish\", \"('meeting', 'NOUN')\", \"NA\", \"NA\", \"NA\", \"NA\", \"NA\", \"NA\", 2.147533974425526], [[\"value\", \"NOUN\"], \"sight\", 2, 2, 0.0, \"<br> and finally , once you begin the merger process <br> , we 'll determine wallaby 's value , and <br> you 'll follow up about a year later with <br> the acquisition announcement . \\\"  \", \"process wallaby value\", \"('determine', 'VERB')\", \"NA\", \"NA\", \"NA\", \"NA\", \"NA\", \"NA\", -28.436829523296062], [[\"boats\", \"NOUN\"], \"sight\", 2, 2, 0.0, \"<br> he could see a few boats in the distance <br> whipping along at a respectable clip , their sails <br> puffed fully .   \", \"boats\", \"('see', 'VERB')\", \"NA\", \"NA\", \"NA\", \"NA\", \"NA\", \"NA\", -1.4561700341639319], [[\"compassion\", \"NOUN\"], \"sight\", 4, 4, 0.0, \"<br> but what he did next completely disarmed her : <br> he placed a hand over hers , the left <br> one , and met her eyes with compassion .\", \"met compassion\", \"('eyes', 'NOUN')\", \"NA\", \"NA\", \"NA\", \"NA\", \"NA\", \"NA\", 20.65193406953283], [[\"handlebars\", \"NOUN\"], \"sight\", 2, 2, 0.0, \"<br> she gripped the handlebars firmly , admiring her own <br> hands without ill feelings .\", \"handlebars firmly hands\", \"('admiring', 'VERB')\", \"NA\", \"NA\", \"NA\", \"NA\", \"NA\", \"NA\", -10.306829368812194], [[\"hopes\", \"NOUN\"], \"sight\", 2, 2, 0.0, \"<br> her hopes of understanding disintegrated and the throb in <br> her left hand returned with renewed force .\", \"hopes disintegrated throb\", \"('understanding', 'VERB')\", \"NA\", \"NA\", \"NA\", \"NA\", \"NA\", \"NA\", -13.242655300104309], [[\"nervously\", \"ADV\"], \"sight\", 2, 2, 0.0, \"<br> she quickly and nervously glanced around the room as <br> she went inside , taking in at once its <br> simple furnishings and his things .\", \"quickly nervously room\", \"('glanced', 'VERB')\", \"NA\", \"NA\", \"NA\", \"NA\", \"NA\", \"NA\", -30.180799281767023], [[\"searched\", \"VERB\"], \"sight\", 2, 2, 0.0, \"<br> her eyes searched across the small shining lake , <br> along to the narrow shore and the trail 's <br> edge , up the hill .\", \"searched small\", \"('eyes', 'NOUN')\", \"NA\", \"NA\", \"NA\", \"NA\", \"NA\", \"NA\", 17.124785325163465], [[\"accumulated\", \"VERB\"], \"sight\", 2, 2, 0.0, \"<br> \\\" jean - pierre said , glancing at the <br> accumulated mileage on the cycle 's odometer .  \", \"pierre said accumulated mileage\", \"('glancing', 'VERB')\", \"NA\", \"NA\", \"NA\", \"NA\", \"NA\", \"NA\", 27.735357978273914], [[\"checked\", \"VERB\"], \"sight\", 2, 2, 0.0, \"<br> they stopped behind the curtain 's edge , and <br> matthew checked his watch .  \", \"matthew checked\", \"('watch', 'NOUN')\", \"NA\", \"NA\", \"NA\", \"NA\", \"NA\", \"NA\", -33.550056532342715], [[\"level\", \"NOUN\"], \"sight\", 3, 3, 0.0, \"<br> many of you today , stowing your own joey <br> or joey plus in your briefcases and folios , <br> have first hand experience with wallaby 's products , <br> and today we 'd like to take that experience <br> to the next level . \\\"  \", \"like level\", \"('experience', 'NOUN')\", \"<br> \\\" see this level ridge ?\", \"level ridge\", \"('see', 'VERB')\", \"NA\", \"NA\", \"NA\", -12.831477984675898], [[\"left\", \"NOUN\"], \"sight\", 2, 2, 0.0, \"<br> he stole a quick glance to his left , <br> offstage and behind the curtains .\", \"stole quick left\", \"('glance', 'NOUN')\", \"NA\", \"NA\", \"NA\", \"NA\", \"NA\", \"NA\", -18.94981791411728], [[\"prototype\", \"NOUN\"], \"sight\", 2, 2, 0.0, \"<br> \\\" today you just saw a prototype of the <br> new joey ii computer , the first engineering collaboration <br> between international computer products and wallaby .  \", \"today prototype\", \"('saw', 'VERB')\", \"NA\", \"NA\", \"NA\", \"NA\", \"NA\", \"NA\", 1.2188078806500442], [[\"shakiness\", \"NOUN\"], \"sight\", 2, 2, 0.0, \"<br> \\\" i just wanted a moment alone with you <br> to tell you how happy i am , especially <br> after the shakiness we 've experienced over the past <br> few months . \\\"  \", \"shakiness past\", \"('experienced', 'VERB')\", \"NA\", \"NA\", \"NA\", \"NA\", \"NA\", \"NA\", 12.064796220170953], [[\"street\", \"NOUN\"], \"sight\", 2, 2, 0.0, \"<br> he fell back a step behind her when they <br> crossed the street to admire the way her wavy <br> hair bounced on her shoulders with each determined step <br> .\", \"crossed street way wavy\", \"('admire', 'VERB')\", \"NA\", \"NA\", \"NA\", \"NA\", \"NA\", \"NA\", 3.6430578935793254], [[\"anticipation\", \"NOUN\"], \"sight\", 2, 2, 0.0, \"<br> \\\" no , \\\" he said , and closed <br> his eyes with anticipation .\", \"closed anticipation\", \"('eyes', 'NOUN')\", \"NA\", \"NA\", \"NA\", \"NA\", \"NA\", \"NA\", 8.248546587503647], [[\"flowchart\", \"NOUN\"], \"sight\", 2, 2, 0.0, \"<br> he knocked his fist gently on the flowchart and <br> stared intently at byron .  \", \"flowchart intently byron\", \"('stared', 'VERB')\", \"NA\", \"NA\", \"NA\", \"NA\", \"NA\", \"NA\", 25.741311863660442], [[\"shoes\", \"NOUN\"], \"sight\", 3, 3, 0.0, \"<br> he tasted her , felt the material of her <br> dress , smelled her hair , understood that in <br> her shoes were feet that were no doubt as <br> lovely to look as her hands , as rousing <br> to touch and kiss .\", \"smelled hair shoes\", \"('understood', 'VERB')\", \"<br> here , i could n't see a thing but <br> shoes and britches legs and captain jones 's walking <br> stick .\", \"thing shoes\", \"('see', 'VERB')\", \"NA\", \"NA\", \"NA\", 48.19529063012094], [[\"produced\", \"VERB\"], \"sight\", 2, 2, 0.0, \"<br> \\\" wrong , \\\" matthew said , and with <br> a playful look in his eye produced his hotel <br> room key and twirled it on his finger .\", \"playful look produced hotel room\", \"('eye', 'NOUN')\", \"NA\", \"NA\", \"NA\", \"NA\", \"NA\", \"NA\", 65.53300194904384], [[\"look\", \"NOUN\"], \"sight\", 5, 5, 0.0, \"<br> for he had seen that look before , that <br> liquid introspective look in the velvet eyes of cattle <br> .\", \"look velvet cattle\", \"('eyes', 'NOUN')\", \"<br> \\\" i have seen nothing but you reading this <br> ancient book , yet you turn to me with <br> the look in your eyes that the redes say <br> ulf had for lyssa . \\\"  \", \"look redes\", \"('eyes', 'NOUN')\", \"<br> \\\" wrong , \\\" matthew said , and with <br> a playful look in his eye produced his hotel <br> room key and twirled it on his finger .\", \"playful look produced hotel room\", \"('eye', 'NOUN')\", -26.085540877913385], [[\"playful\", \"ADJ\"], \"sight\", 2, 2, 0.0, \"<br> \\\" wrong , \\\" matthew said , and with <br> a playful look in his eye produced his hotel <br> room key and twirled it on his finger .\", \"playful look produced hotel room\", \"('eye', 'NOUN')\", \"NA\", \"NA\", \"NA\", \"NA\", \"NA\", \"NA\", 53.881095889522925], [[\"piercing\", \"VERB\"], \"sight\", 2, 2, 0.0, \"<br> he said it again , and this time broke <br> into a huge self - satisfied grin , his <br> laughing eyes piercing back from the mirror into his <br> own .  \", \"grin laughing piercing\", \"('eyes', 'NOUN')\", \"NA\", \"NA\", \"NA\", \"NA\", \"NA\", \"NA\", 20.228894445061183], [[\"grin\", \"NOUN\"], \"sight\", 2, 2, 0.0, \"<br> he said it again , and this time broke <br> into a huge self - satisfied grin , his <br> laughing eyes piercing back from the mirror into his <br> own .  \", \"grin laughing piercing\", \"('eyes', 'NOUN')\", \"NA\", \"NA\", \"NA\", \"NA\", \"NA\", \"NA\", 15.378365418442403], [[\"checking\", \"VERB\"], \"sight\", 2, 2, 0.0, \"<br> \\\" it 's back to the office for me <br> , \\\" william said , checking his watch . <br>  \", \"said checking\", \"('watch', 'NOUN')\", \"NA\", \"NA\", \"NA\", \"NA\", \"NA\", \"NA\", 5.6940868948475085], [[\"willed\", \"VERB\"], \"sight\", 2, 2, 0.0, \"<br> his stare was on her again , but she <br> willed her gaze to remain fixed on the hay <br> - strewn floor .\", \"willed remain fixed\", \"('gaze', 'NOUN')\", \"NA\", \"NA\", \"NA\", \"NA\", \"NA\", \"NA\", 52.359958207804326], [[\"meet\", \"VERB\"], \"sight\", 2, 2, 0.0, \"<br> \\\" thank you , \\\" he said , able <br> to meet her eyes only for a second .\", \"able meet second\", \"('eyes', 'NOUN')\", \"NA\", \"NA\", \"NA\", \"NA\", \"NA\", \"NA\", 50.0379620062406], [[\"flip\", \"NOUN\"], \"sight\", 2, 2, 0.0, \"<br> he watched her flip through his collection of slides <br> , and he felt the light tingle return , <br> this time in another place , as she keenly <br> examined his illustrations .  \", \"flip\", \"('watched', 'VERB')\", \"NA\", \"NA\", \"NA\", \"NA\", \"NA\", \"NA\", 2.861259617730695], [[\"delicate\", \"ADJ\"], \"sight\", 2, 2, 0.0, \"<br> with a sidelong glance he studied her delicate , <br> childlike hands , the impossible softness of her skin <br> .\", \"sidelong studied delicate\", \"('glance', 'NOUN')\", \"NA\", \"NA\", \"NA\", \"NA\", \"NA\", \"NA\", 12.667430163693084], [[\"finely\", \"ADV\"], \"sight\", 2, 2, 0.0, \"<br> for the briefest moment he just sat there and <br> admired her in her finely tailored light linen suit <br> .\", \"sat finely\", \"('admired', 'VERB')\", \"NA\", \"NA\", \"NA\", \"NA\", \"NA\", \"NA\", -28.49052672040826], [[\"gray\", \"ADJ\"], \"sight\", 6, 6, 0.0, \"<br> she raised it to his , and he met <br> her sharp , gray eyes .  \", \"sharp gray\", \"('eyes', 'NOUN')\", \"<br> all the houses in drake eye springs were gray <br> , because that 's the color houses turn unless <br> you put paint on them .\", \"houses drake springs gray\", \"('eye', 'PROPN')\", \"NA\", \"NA\", \"NA\", 52.0529489696348], [[\"stray\", \"VERB\"], \"sight\", 2, 2, 0.0, \"<br> they each took a sip and , with his <br> head still lowered , he let his eyes stray <br> once more to her hand .  \", \"let stray\", \"('eyes', 'NOUN')\", \"NA\", \"NA\", \"NA\", \"NA\", \"NA\", \"NA\", -3.1250216888806515], [[\"confirming\", \"VERB\"], \"sight\", 2, 2, 0.0, \"<br> she asked simply , revealing her mindfulness of his <br> regard all along , confirming it .  \", \"mindfulness confirming\", \"('regard', 'NOUN')\", \"NA\", \"NA\", \"NA\", \"NA\", \"NA\", \"NA\", -5.325291739512402], [[\"guiding\", \"VERB\"], \"sight\", 4, 4, 0.0, \"<br> whatever road i take , the guiding star is <br> within me ; the guiding star and the loadstone <br> which point the way .\", \"guiding loadstone\", \"('star', 'NOUN')\", \"NA\", \"NA\", \"NA\", \"NA\", \"NA\", \"NA\", 4.556964707302706], [[\"fact\", \"NOUN\"], \"sight\", 2, 2, 0.0, \"<br> in fact , he could see the building from <br> his window , a tall functional block of durilium <br> and plastic , soaring above the others on the <br> street , the sunlight gleaming off its clean square <br> lines .\", \"fact building\", \"('see', 'VERB')\", \"<br> in fact , he could see some virtue in <br> wearing as little as possible .\", \"fact virtue wearing\", \"('see', 'VERB')\", \"NA\", \"NA\", \"NA\", 6.002229227265934], [[\"grants\", \"VERB\"], \"sight\", 2, 2, 0.0, \"<br> it is my eyes which see , and the <br> sight of my eyes grants beauty to the earth <br> .\", \"sight grants beauty\", \"('eyes', 'NOUN')\", \"NA\", \"NA\", \"NA\", \"NA\", \"NA\", \"NA\", -23.92971808788634], [[\"anybody\", \"NOUN\"], \"sight\", 3, 3, 0.0, \"<br> \\\" more candy than anybody 's ever seen , <br> bandershanks ! \\\"  \", \"anybody bandershanks\", \"('seen', 'VERB')\", \"<br> \\\" walker , is lucille anybody i 've met <br> over here ? \\\"  \", \"lucille anybody\", \"('met', 'VERB')\", \"<br> we did n't see anybody on the porch , <br> in the hall , or anywhere .\", \"anybody porch\", \"('see', 'VERB')\", 54.89850374425728], [[\"uneasily\", \"ADV\"], \"sight\", 2, 2, 0.0, \"<br> his lips quivered , and his eyes flicked uneasily <br> as he watched alexander 's granite face .\", \"flicked uneasily alexander granite face\", \"('watched', 'VERB')\", \"NA\", \"NA\", \"NA\", \"NA\", \"NA\", \"NA\", 75.31567113246986], [[\"deliberate\", \"ADJ\"], \"sight\", 2, 2, 0.0, \"<br> his eyes gazed at her with peaceful , deliberate <br> regard .\", \"peaceful deliberate\", \"('regard', 'NOUN')\", \"NA\", \"NA\", \"NA\", \"NA\", \"NA\", \"NA\", 23.137616475415033], [[\"nearest\", \"ADJ\"], \"sight\", 2, 2, 0.0, \"<br> more and more , as he understood the ship <br> , he was amazed at the courage of the <br> ancients who had blithely leaped into hyperspace in these <br> flying coffins with no more motivation than to see <br> what was beyond the nearest star .\", \"nearest\", \"('star', 'NOUN')\", \"<br> and in ships more primitive than this men had <br> swept through the star systems nearest earth in the <br> outward expansion of the first millennium .  \", \"swept systems nearest earth\", \"('star', 'NOUN')\", \"NA\", \"NA\", \"NA\", -22.60881686458385], [[\"drake\", \"PROPN\"], \"sight\", 22, 22, 0.0, \"<br> get clean away from drake eye springs , quick <br> as you can !\", \"clean away drake springs quick\", \"('eye', 'PROPN')\", \"NA\", \"NA\", \"NA\", \"NA\", \"NA\", \"NA\", 36.65995465939618], [[\"organizational\", \"ADJ\"], \"sight\", 2, 2, 0.0, \"<br> he felt a powerful thrill wash though him like <br> the one he had experienced at the last quarterly <br> board meeting , when his organizational design had flexed <br> peter jones out of his way .\", \"quarterly board organizational\", \"('meeting', 'NOUN')\", \"NA\", \"NA\", \"NA\", \"NA\", \"NA\", \"NA\", 51.66206710920811], [[\"port\", \"PROPN\"], \"sight\", 2, 2, 0.0, \"<br> the port captain wants to see you . \\\" <br>  \", \"port captain wants\", \"('see', 'VERB')\", \"<br> port captain wants to see you , \\\" he <br> said .  \", \"port captain wants\", \"('see', 'VERB')\", \"NA\", \"NA\", \"NA\", 2.9485302992466633], [[\"past\", \"ADJ\"], \"sight\", 2, 2, 0.0, \"<br> \\\" i just wanted a moment alone with you <br> to tell you how happy i am , especially <br> after the shakiness we 've experienced over the past <br> few months . \\\"  \", \"shakiness past\", \"('experienced', 'VERB')\", \"NA\", \"NA\", \"NA\", \"NA\", \"NA\", \"NA\", 6.587400087033613]], \"hovertemplate\": \"literary_period=1900<br>Principal Component 1=%{x}<br>Principal Component 2=%{y}<br>word=%{customdata[0]}<br>modality=%{customdata[1]}<br>total_freq=%{customdata[2]}<br>total_freq_in_sense=%{customdata[3]}<br>PAI=%{customdata[4]}<br>Random Sentence 1=%{customdata[5]}<br>Random Context Window 1=%{customdata[6]}<br>Random Seed Words 1=%{customdata[7]}<br>Random Sentence 2=%{customdata[8]}<br>Random Context Window 2=%{customdata[9]}<br>Random Seed Words 2=%{customdata[10]}<br>Random Sentence 3=%{customdata[11]}<br>Random Context Window 3=%{customdata[12]}<br>Random Seed Words 3=%{customdata[13]}<extra></extra>\", \"legendgroup\": \"1900\", \"marker\": {\"color\": \"#19d3f3\", \"size\": 12, \"symbol\": \"circle\"}, \"mode\": \"markers\", \"name\": \"1900\", \"orientation\": \"v\", \"showlegend\": true, \"type\": \"scatter\", \"x\": [-28.461860279779515, 1.2940317567599904, -5.111872110027932, 17.02202439635644, 65.3930566884669, -23.048693975836645, -13.810357539962805, 26.4396961535498, 39.746257847902505, -1.2427279931892168, -28.238385400717963, 1.9868886675874735, -22.703629256133325, -29.512205587279254, -22.482647847179262, 0.9376939641816021, 9.177938524622807, 61.19373502773116, -2.5906658261921436, -30.15263446692601, 30.286805568191856, 28.72470843152748, 3.500490933649465, 9.120707863673287, 70.04705394394689, -11.594723419550267, -14.157029699043974, -14.23363481567106, -6.748384005582241, 11.204684628569492, 6.484968774075374, -33.341570845484725, 34.64889986729582, -31.746274298351743, 21.221704224172957, 5.981403889813654, -7.891080244934197, -11.519364958982957, -7.745681424773349, 67.41971154160176, 53.34860156178168, 19.188926614801293, 10.822312980794422, 63.591793376328184, -10.944039155831742, -0.11424425122850625, -31.4361190425488, 27.372129298107183, -4.530964429061002, -33.0812600175514, -27.943591566074137, -22.977896558639483, -14.071460303775833, 0.1562315817068507, -8.491664768384263, -0.2314112966359535, 18.42210147066669, 2.147533974425526, -28.436829523296062, -1.4561700341639319, 20.65193406953283, -10.306829368812194, -13.242655300104309, -30.180799281767023, 17.124785325163465, 27.735357978273914, -33.550056532342715, -12.831477984675898, -18.94981791411728, 1.2188078806500442, 12.064796220170953, 3.6430578935793254, 8.248546587503647, 25.741311863660442, 48.19529063012094, 65.53300194904384, -26.085540877913385, 53.881095889522925, 20.228894445061183, 15.378365418442403, 5.6940868948475085, 52.359958207804326, 50.0379620062406, 2.861259617730695, 12.667430163693084, -28.49052672040826, 52.0529489696348, -3.1250216888806515, -5.325291739512402, 4.556964707302706, 6.002229227265934, -23.92971808788634, 54.89850374425728, 75.31567113246986, 23.137616475415033, -22.60881686458385, 36.65995465939618, 51.66206710920811, 2.9485302992466633, 6.587400087033613], \"xaxis\": \"x\", \"y\": [-1.1604042353989947, -0.6208104666731266, 1.2379611743823298, 0.5313830221888979, -0.7987846686656905, -1.006383852701152, -0.3565151887121199, 2.2558114232075215, 1.8718621661384702, 0.783365573157165, -0.49341199474715053, 2.0915327316585643, 1.0709908797731114, -1.2680770028656503, -1.0258949950203322, -1.1724794823522267, -0.18164338000783042, 7.681276013069625, 3.8592927357992126, 0.2678140503989772, -5.023872221575022, 3.8447161611597847, -0.5726521528792934, -1.6219943619824486, -1.5056859105651423, 0.15722850910875413, -0.8927988399441042, 0.25752928541357845, 0.31123857676918376, -3.3914771708010845, -0.9506806313778984, -0.9293186889788057, 4.092453272011362, -0.1822934664595435, -2.93944539591708, -0.6294549028638915, -0.5316404130284629, 0.5452243365968724, 2.1125148738941584, 2.325229884845607, -1.3733332840521038, -3.0409584614954284, 1.190315709333763, -5.769853431115349, -0.9500196219733292, 1.7031684685857105, -0.2074809791962002, -1.89839341359513, -1.7516178956843667, 0.45056267098787733, -0.11558380732364111, -0.41179393267599396, 1.8908412328357378, -0.18648596379352558, -0.9382748395711591, -0.44109412804280895, 0.8250315351945883, 1.8358748009012806, 0.606891892152366, 0.29098654731905155, -3.0842433414739263, 1.0037409585182, 1.1228118886865173, 0.7237812050969645, 0.9171631705619442, 1.224975009737595, -0.8998345668197566, -2.749849486869842, 2.341530978481528, -1.3633129383739298, -0.4158704282009111, -1.041723771260738, 1.1698394700805255, -2.5102339362768937, 2.10332431344226, -2.579002906881268, -0.7112082136761654, -3.4355942342277963, 0.31566170667977694, -0.6408942221700558, -0.5207606975147796, 5.210789919505654, -1.5057612676107472, -1.6694544189171785, -0.8915404023015084, 1.1955701108538146, 1.8751799909712223, 0.16462589464496288, 0.11128153103969185, 1.146279870826017, 0.24410259243733112, -0.40340433089677974, -1.5156517285474493, 2.922187293565403, 1.2196892783066406, 0.6301141626724825, -3.1925487155285692, -2.917554379442811, 2.4799692890041167, 1.3898584422119777], \"yaxis\": \"y\"}],                        {\"legend\": {\"title\": {\"text\": \"literary_period\"}, \"tracegroupgap\": 0}, \"template\": {\"data\": {\"bar\": [{\"error_x\": {\"color\": \"#2a3f5f\"}, \"error_y\": {\"color\": \"#2a3f5f\"}, \"marker\": {\"line\": {\"color\": \"#E5ECF6\", \"width\": 0.5}}, \"type\": \"bar\"}], \"barpolar\": [{\"marker\": {\"line\": {\"color\": \"#E5ECF6\", \"width\": 0.5}}, \"type\": \"barpolar\"}], \"carpet\": [{\"aaxis\": {\"endlinecolor\": \"#2a3f5f\", \"gridcolor\": \"white\", \"linecolor\": \"white\", \"minorgridcolor\": \"white\", \"startlinecolor\": \"#2a3f5f\"}, \"baxis\": {\"endlinecolor\": \"#2a3f5f\", \"gridcolor\": \"white\", \"linecolor\": \"white\", \"minorgridcolor\": \"white\", \"startlinecolor\": \"#2a3f5f\"}, \"type\": \"carpet\"}], \"choropleth\": [{\"colorbar\": {\"outlinewidth\": 0, \"ticks\": \"\"}, \"type\": \"choropleth\"}], \"contour\": [{\"colorbar\": {\"outlinewidth\": 0, \"ticks\": \"\"}, \"colorscale\": [[0.0, \"#0d0887\"], [0.1111111111111111, \"#46039f\"], [0.2222222222222222, \"#7201a8\"], [0.3333333333333333, \"#9c179e\"], [0.4444444444444444, \"#bd3786\"], [0.5555555555555556, \"#d8576b\"], [0.6666666666666666, \"#ed7953\"], [0.7777777777777778, \"#fb9f3a\"], [0.8888888888888888, \"#fdca26\"], [1.0, \"#f0f921\"]], \"type\": \"contour\"}], \"contourcarpet\": [{\"colorbar\": {\"outlinewidth\": 0, \"ticks\": \"\"}, \"type\": \"contourcarpet\"}], \"heatmap\": [{\"colorbar\": {\"outlinewidth\": 0, \"ticks\": \"\"}, \"colorscale\": [[0.0, \"#0d0887\"], [0.1111111111111111, \"#46039f\"], [0.2222222222222222, \"#7201a8\"], [0.3333333333333333, \"#9c179e\"], [0.4444444444444444, \"#bd3786\"], [0.5555555555555556, \"#d8576b\"], [0.6666666666666666, \"#ed7953\"], [0.7777777777777778, \"#fb9f3a\"], [0.8888888888888888, \"#fdca26\"], [1.0, \"#f0f921\"]], \"type\": \"heatmap\"}], \"heatmapgl\": [{\"colorbar\": {\"outlinewidth\": 0, \"ticks\": \"\"}, \"colorscale\": [[0.0, \"#0d0887\"], [0.1111111111111111, \"#46039f\"], [0.2222222222222222, \"#7201a8\"], [0.3333333333333333, \"#9c179e\"], [0.4444444444444444, \"#bd3786\"], [0.5555555555555556, \"#d8576b\"], [0.6666666666666666, \"#ed7953\"], [0.7777777777777778, \"#fb9f3a\"], [0.8888888888888888, \"#fdca26\"], [1.0, \"#f0f921\"]], \"type\": \"heatmapgl\"}], \"histogram\": [{\"marker\": {\"colorbar\": {\"outlinewidth\": 0, \"ticks\": \"\"}}, \"type\": \"histogram\"}], \"histogram2d\": [{\"colorbar\": {\"outlinewidth\": 0, \"ticks\": \"\"}, \"colorscale\": [[0.0, \"#0d0887\"], [0.1111111111111111, \"#46039f\"], [0.2222222222222222, \"#7201a8\"], [0.3333333333333333, \"#9c179e\"], [0.4444444444444444, \"#bd3786\"], [0.5555555555555556, \"#d8576b\"], [0.6666666666666666, \"#ed7953\"], [0.7777777777777778, \"#fb9f3a\"], [0.8888888888888888, \"#fdca26\"], [1.0, \"#f0f921\"]], \"type\": \"histogram2d\"}], \"histogram2dcontour\": [{\"colorbar\": {\"outlinewidth\": 0, \"ticks\": \"\"}, \"colorscale\": [[0.0, \"#0d0887\"], [0.1111111111111111, \"#46039f\"], [0.2222222222222222, \"#7201a8\"], [0.3333333333333333, \"#9c179e\"], [0.4444444444444444, \"#bd3786\"], [0.5555555555555556, \"#d8576b\"], [0.6666666666666666, \"#ed7953\"], [0.7777777777777778, \"#fb9f3a\"], [0.8888888888888888, \"#fdca26\"], [1.0, \"#f0f921\"]], \"type\": \"histogram2dcontour\"}], \"mesh3d\": [{\"colorbar\": {\"outlinewidth\": 0, \"ticks\": \"\"}, \"type\": \"mesh3d\"}], \"parcoords\": [{\"line\": {\"colorbar\": {\"outlinewidth\": 0, \"ticks\": \"\"}}, \"type\": \"parcoords\"}], \"pie\": [{\"automargin\": true, \"type\": \"pie\"}], \"scatter\": [{\"marker\": {\"colorbar\": {\"outlinewidth\": 0, \"ticks\": \"\"}}, \"type\": \"scatter\"}], \"scatter3d\": [{\"line\": {\"colorbar\": {\"outlinewidth\": 0, \"ticks\": \"\"}}, \"marker\": {\"colorbar\": {\"outlinewidth\": 0, \"ticks\": \"\"}}, \"type\": \"scatter3d\"}], \"scattercarpet\": [{\"marker\": {\"colorbar\": {\"outlinewidth\": 0, \"ticks\": \"\"}}, \"type\": \"scattercarpet\"}], \"scattergeo\": [{\"marker\": {\"colorbar\": {\"outlinewidth\": 0, \"ticks\": \"\"}}, \"type\": \"scattergeo\"}], \"scattergl\": [{\"marker\": {\"colorbar\": {\"outlinewidth\": 0, \"ticks\": \"\"}}, \"type\": \"scattergl\"}], \"scattermapbox\": [{\"marker\": {\"colorbar\": {\"outlinewidth\": 0, \"ticks\": \"\"}}, \"type\": \"scattermapbox\"}], \"scatterpolar\": [{\"marker\": {\"colorbar\": {\"outlinewidth\": 0, \"ticks\": \"\"}}, \"type\": \"scatterpolar\"}], \"scatterpolargl\": [{\"marker\": {\"colorbar\": {\"outlinewidth\": 0, \"ticks\": \"\"}}, \"type\": \"scatterpolargl\"}], \"scatterternary\": [{\"marker\": {\"colorbar\": {\"outlinewidth\": 0, \"ticks\": \"\"}}, \"type\": \"scatterternary\"}], \"surface\": [{\"colorbar\": {\"outlinewidth\": 0, \"ticks\": \"\"}, \"colorscale\": [[0.0, \"#0d0887\"], [0.1111111111111111, \"#46039f\"], [0.2222222222222222, \"#7201a8\"], [0.3333333333333333, \"#9c179e\"], [0.4444444444444444, \"#bd3786\"], [0.5555555555555556, \"#d8576b\"], [0.6666666666666666, \"#ed7953\"], [0.7777777777777778, \"#fb9f3a\"], [0.8888888888888888, \"#fdca26\"], [1.0, \"#f0f921\"]], \"type\": \"surface\"}], \"table\": [{\"cells\": {\"fill\": {\"color\": \"#EBF0F8\"}, \"line\": {\"color\": \"white\"}}, \"header\": {\"fill\": {\"color\": \"#C8D4E3\"}, \"line\": {\"color\": \"white\"}}, \"type\": \"table\"}]}, \"layout\": {\"annotationdefaults\": {\"arrowcolor\": \"#2a3f5f\", \"arrowhead\": 0, \"arrowwidth\": 1}, \"autotypenumbers\": \"strict\", \"coloraxis\": {\"colorbar\": {\"outlinewidth\": 0, \"ticks\": \"\"}}, \"colorscale\": {\"diverging\": [[0, \"#8e0152\"], [0.1, \"#c51b7d\"], [0.2, \"#de77ae\"], [0.3, \"#f1b6da\"], [0.4, \"#fde0ef\"], [0.5, \"#f7f7f7\"], [0.6, \"#e6f5d0\"], [0.7, \"#b8e186\"], [0.8, \"#7fbc41\"], [0.9, \"#4d9221\"], [1, \"#276419\"]], \"sequential\": [[0.0, \"#0d0887\"], [0.1111111111111111, \"#46039f\"], [0.2222222222222222, \"#7201a8\"], [0.3333333333333333, \"#9c179e\"], [0.4444444444444444, \"#bd3786\"], [0.5555555555555556, \"#d8576b\"], [0.6666666666666666, \"#ed7953\"], [0.7777777777777778, \"#fb9f3a\"], [0.8888888888888888, \"#fdca26\"], [1.0, \"#f0f921\"]], \"sequentialminus\": [[0.0, \"#0d0887\"], [0.1111111111111111, \"#46039f\"], [0.2222222222222222, \"#7201a8\"], [0.3333333333333333, \"#9c179e\"], [0.4444444444444444, \"#bd3786\"], [0.5555555555555556, \"#d8576b\"], [0.6666666666666666, \"#ed7953\"], [0.7777777777777778, \"#fb9f3a\"], [0.8888888888888888, \"#fdca26\"], [1.0, \"#f0f921\"]]}, \"colorway\": [\"#636efa\", \"#EF553B\", \"#00cc96\", \"#ab63fa\", \"#FFA15A\", \"#19d3f3\", \"#FF6692\", \"#B6E880\", \"#FF97FF\", \"#FECB52\"], \"font\": {\"color\": \"#2a3f5f\"}, \"geo\": {\"bgcolor\": \"white\", \"lakecolor\": \"white\", \"landcolor\": \"#E5ECF6\", \"showlakes\": true, \"showland\": true, \"subunitcolor\": \"white\"}, \"hoverlabel\": {\"align\": \"left\"}, \"hovermode\": \"closest\", \"mapbox\": {\"style\": \"light\"}, \"paper_bgcolor\": \"white\", \"plot_bgcolor\": \"#E5ECF6\", \"polar\": {\"angularaxis\": {\"gridcolor\": \"white\", \"linecolor\": \"white\", \"ticks\": \"\"}, \"bgcolor\": \"#E5ECF6\", \"radialaxis\": {\"gridcolor\": \"white\", \"linecolor\": \"white\", \"ticks\": \"\"}}, \"scene\": {\"xaxis\": {\"backgroundcolor\": \"#E5ECF6\", \"gridcolor\": \"white\", \"gridwidth\": 2, \"linecolor\": \"white\", \"showbackground\": true, \"ticks\": \"\", \"zerolinecolor\": \"white\"}, \"yaxis\": {\"backgroundcolor\": \"#E5ECF6\", \"gridcolor\": \"white\", \"gridwidth\": 2, \"linecolor\": \"white\", \"showbackground\": true, \"ticks\": \"\", \"zerolinecolor\": \"white\"}, \"zaxis\": {\"backgroundcolor\": \"#E5ECF6\", \"gridcolor\": \"white\", \"gridwidth\": 2, \"linecolor\": \"white\", \"showbackground\": true, \"ticks\": \"\", \"zerolinecolor\": \"white\"}}, \"shapedefaults\": {\"line\": {\"color\": \"#2a3f5f\"}}, \"ternary\": {\"aaxis\": {\"gridcolor\": \"white\", \"linecolor\": \"white\", \"ticks\": \"\"}, \"baxis\": {\"gridcolor\": \"white\", \"linecolor\": \"white\", \"ticks\": \"\"}, \"bgcolor\": \"#E5ECF6\", \"caxis\": {\"gridcolor\": \"white\", \"linecolor\": \"white\", \"ticks\": \"\"}}, \"title\": {\"x\": 0.05}, \"xaxis\": {\"automargin\": true, \"gridcolor\": \"white\", \"linecolor\": \"white\", \"ticks\": \"\", \"title\": {\"standoff\": 15}, \"zerolinecolor\": \"white\", \"zerolinewidth\": 2}, \"yaxis\": {\"automargin\": true, \"gridcolor\": \"white\", \"linecolor\": \"white\", \"ticks\": \"\", \"title\": {\"standoff\": 15}, \"zerolinecolor\": \"white\", \"zerolinewidth\": 2}}}, \"title\": {\"text\": \"sight - 2 Component PCA\"}, \"xaxis\": {\"anchor\": \"y\", \"domain\": [0.0, 1.0], \"title\": {\"text\": \"Principal Component 1\"}}, \"yaxis\": {\"anchor\": \"x\", \"domain\": [0.0, 1.0], \"title\": {\"text\": \"Principal Component 2\"}}},                        {\"responsive\": true}                    ).then(function(){\n",
       "                            \n",
       "var gd = document.getElementById('c9b27048-87a9-4596-9a15-26e4ec2c96c1');\n",
       "var x = new MutationObserver(function (mutations, observer) {{\n",
       "        var display = window.getComputedStyle(gd).display;\n",
       "        if (!display || display === 'none') {{\n",
       "            console.log([gd, 'removed!']);\n",
       "            Plotly.purge(gd);\n",
       "            observer.disconnect();\n",
       "        }}\n",
       "}});\n",
       "\n",
       "// Listen for the removal of the full notebook cells\n",
       "var notebookContainer = gd.closest('#notebook-container');\n",
       "if (notebookContainer) {{\n",
       "    x.observe(notebookContainer, {childList: true});\n",
       "}}\n",
       "\n",
       "// Listen for the clearing of the current output cell\n",
       "var outputEl = gd.closest('.output');\n",
       "if (outputEl) {{\n",
       "    x.observe(outputEl, {childList: true});\n",
       "}}\n",
       "\n",
       "                        })                };                });            </script>        </div>"
      ]
     },
     "metadata": {},
     "output_type": "display_data"
    },
    {
     "data": {
      "application/vnd.plotly.v1+json": {
       "config": {
        "plotlyServerURL": "https://plot.ly"
       },
       "data": [
        {
         "customdata": [
          [
           [
            "sounded",
            "VERB"
           ],
           "hear",
           38,
           34,
           -0.1604646721932461,
           "<br> \" yes , it is wonderful , \" she <br> said , and out in the open air her <br> voice sounded weak and faint to the last degree <br> .",
           "open air sounded weak faint",
           "('voice', 'NOUN')",
           "<br> the word was uttered in a tone so low <br> and melancholy that it sounded like saddened music .",
           "sounded saddened",
           "('music', 'NOUN')",
           "NA",
           "NA",
           "NA",
           -0.002869513453505322
          ],
          [
           [
            "thunder",
            "NOUN"
           ],
           "hear",
           47,
           42,
           -0.16227142889887716,
           "<br> on deck , his voice rises above the thunder <br> of storms and the tumult of battle ; but <br> here below it is soft and melodious as rossini <br> 's music -- for he has rossini 's music <br> sent for me .",
           "deck rises thunder",
           "('voice', 'NOUN')",
           "<br> it was not long after this that the lake <br> began to speak , in a voice loud as <br> the thunder from the clouds .",
           "speak loud thunder",
           "('voice', 'NOUN')",
           "<br> as with a voice of thunder , and his <br> hand upon his sword , bucklaw repeated the ranting <br> couplets of poor lee , craigengelt re - entered <br> with a face of alarm .  ",
           "thunder",
           "('voice', 'NOUN')",
           -1.581110731061058
          ],
          [
           [
            "tremulous",
            "ADJ"
           ],
           "hear",
           44,
           39,
           -0.17402939977504894,
           "<br> \" you have named me but too truly , <br> \" said ravenswood , in a hollow and tremulous <br> voice .  ",
           "hollow tremulous",
           "('voice', 'NOUN')",
           "NA",
           "NA",
           "NA",
           "NA",
           "NA",
           "NA",
           -4.060440629537342
          ],
          [
           [
            "loud",
            "ADJ"
           ],
           "hear",
           101,
           89,
           -0.18247805178539697,
           "<br> then begin mutual railleries and mutual confidences amongst the <br> young ladies , and the faint scream and the <br> loud laugh is heard , and the romping for <br> letters and pocket - books begins , and gentlemen <br> are called by their surnames , or by the <br> general name of fellows !",
           "loud laugh romping",
           "('heard', 'VERB')",
           "<br> but on removing the helmet of his rescuer , <br> he recognised the son of jehan , who expired <br> upon the table , as by a final effort <br> he kissed his mother , and saying in a <br> loud voice to her--   \" mother , we <br> have paid the debt we owed him ! \" <br>  ",
           "saying loud her--",
           "('voice', 'NOUN')",
           "<br> is the loud music i gave order for      ",
           "loud gave order",
           "('music', 'NOUN')",
           5.8411088592210065
          ],
          [
           [
            "bell",
            "NOUN"
           ],
           "hear",
           96,
           84,
           -0.1926450779423959,
           "<br> the good vicar came to her , and there <br> as he had rung the bell for mass",
           "bell mass",
           "('rung', 'VERB')",
           "<br> the lover listened with obstinate incredulity ; and it <br> was not until worn out by the obstinacy of <br> the anchoret that he consented to put the state <br> and condition of his mistress to a certain trial <br> , and for that purpose acquiesced in zachary 's <br> proposal that on their next interview the vespers bell <br> should be rung half an hour later than usual <br> .",
           "vespers bell half hour later",
           "('rung', 'VERB')",
           "<br> \" that 's a secret , \" said the <br> boy ; \" but you will find you can <br> never ride beyond the village but your horse will <br> cast a she , or fall lame , or <br> the cattle bell will ring , or something will <br> happen to bring you back .",
           "cattle bell",
           "('ring', 'VERB')",
           3.4150032846903486
          ],
          [
           [
            "voices",
            "NOUN"
           ],
           "hear",
           85,
           74,
           -0.19993757050875194,
           "<br> the pack , rushing in upon their disabled enemy <br> , soon ended his painful struggles , and solemnised <br> his fall with their clamour ; the hunters , <br> with their horns and voices , whooping and blowing <br> a mort , or death - note , which <br> resounded far over the billows of the adjacent ocean <br> .  ",
           "voices whooping mort",
           "('blowing', 'VERB')",
           "<br> said girder ,-- for we are to remark , <br> that this explanation was given like a catch for <br> two voices , the younger dame , much encouraged <br> by the turn of the debate , taking up <br> and repeating in a higher tone the words as <br> fast as they were uttered by her mother . <br>  ",
           "given voices",
           "('catch', 'NOUN')",
           "NA",
           "NA",
           "NA",
           7.9401366960987225
          ],
          [
           [
            "sound",
            "NOUN"
           ],
           "hear",
           314,
           273,
           -0.2018636079717745,
           "<br> she died just as the clock in the distant <br> village tolled one ; and ravenswood remembered , with <br> internal shuddering , that he had heard the chime <br> sound through the wood just before he had seen <br> what he was now much disposed to consider as <br> the spectre of the deceased .  ",
           "chime sound",
           "('heard', 'VERB')",
           "<br> all recoiled at the sound of his voice and <br> the determined action by which it was accompanied ; <br> for the ecstasy of real desperation seldom fails to <br> overpower the less energetic passions by which it may <br> be opposed .",
           "sound determined action",
           "('voice', 'NOUN')",
           "<br> the stranger , as if starting from a trance <br> at the sound of his voice , mechanically obeyed <br> , and they ascended the broken ruinous stair which <br> led from the sepulchre into the churchyard .",
           "sound mechanically obeyed",
           "('voice', 'NOUN')",
           -1.3600772078386223
          ],
          [
           [
            "noise",
            "NOUN"
           ],
           "hear",
           119,
           102,
           -0.22239242133644802,
           "<br> \" we shall never agree upon this question , <br> \" captain harville was beginning to say , when <br> a slight noise called their attention to captain wentworth <br> 's hitherto perfectly quiet division of the room . <br>  ",
           "slight noise called captain wentworth",
           "('attention', 'NOUN')",
           "<br> hearing the noise made by the men , which <br> threatened to bring the walls about their ears , <br> the maid - servant opened the door , yawning <br> and stretching her arms .",
           "noise",
           "('hearing', 'VERB')",
           "NA",
           "NA",
           "NA",
           1.7217533117647759
          ],
          [
           [
            "low",
            "ADJ"
           ],
           "hear",
           333,
           283,
           -0.23472012423937977,
           "<br> \" i am afraid , \" said henry , <br> in a very low tone of voice .  ",
           "low tone",
           "('voice', 'NOUN')",
           "<br> \" and if it be lady ashton , \" <br> said her lover to her in a low tone <br> , \" what can be the occasion of such <br> alarm ?",
           "low",
           "('tone', 'NOUN')",
           "<br> , i can play ( this in a low <br> and confidential tone ) '",
           "low confidential",
           "('tone', 'NOUN')",
           4.5024366171273655
          ],
          [
           [
            "glimpse",
            "NOUN"
           ],
           "hear",
           73,
           61,
           -0.25908722131713097,
           "<br> this discourse considerably astonished the lady bertha , who <br> let her cousin say her prayers , and make <br> other preparations for the night beneath the curtains of <br> the bed , into which my lord , inflamed <br> with desire , soon tumbled , happy at being <br> able to catch an occasional glimpse of the wondrous <br> charms of the chatelaine , which were in no <br> way injured .",
           "able occasional glimpse",
           "('catch', 'VERB')",
           "NA",
           "NA",
           "NA",
           "NA",
           "NA",
           "NA",
           -2.581169793597087
          ],
          [
           [
            "instruments",
            "NOUN"
           ],
           "hear",
           38,
           31,
           -0.29373120305671035,
           "<br> the instruments now played their loudest strains ; the <br> dancers pursued their exercise with all the enthusiasm inspired <br> by youth , mirth , and high spirits , <br> when a cry was heard so shrill and piercing <br> as at once to arrest the dance and the <br> music .",
           "instruments loudest strains",
           "('played', 'VERB')",
           "NA",
           "NA",
           "NA",
           "NA",
           "NA",
           "NA",
           9.292869068966466
          ],
          [
           [
            "cry",
            "NOUN"
           ],
           "hear",
           41,
           33,
           -0.3131578852596302,
           "<br> a cry which was heard by some persons navigating <br> the eubean sea , and preserved by a father <br> of the church .  ",
           "cry persons navigating",
           "('heard', 'VERB')",
           "<br> the instruments now played their loudest strains ; the <br> dancers pursued their exercise with all the enthusiasm inspired <br> by youth , mirth , and high spirits , <br> when a cry was heard so shrill and piercing <br> as at once to arrest the dance and the <br> music .",
           "cry shrill piercing",
           "('heard', 'VERB')",
           "NA",
           "NA",
           "NA",
           5.728835872426871
          ],
          [
           [
            "calling",
            "VERB"
           ],
           "hear",
           56,
           45,
           -0.31550182572792934,
           "<br> i heard his silver voice calling to her . <br>  ",
           "heard silver calling",
           "('voice', 'NOUN')",
           "<br> the scottish high church party , on the contrary <br> , or , as they termed themselves , the <br> cavaliers , were more consistent , if not so <br> prudent , in their politics , and viewed all <br> the changes now made as preparatory to calling to <br> the throne , upon the queen 's demise , <br> her brother the chevalier de st. george .",
           "changes calling",
           "('preparatory', 'ADJ')",
           "NA",
           "NA",
           "NA",
           -2.7018322316412795
          ],
          [
           [
            "sounds",
            "NOUN"
           ],
           "hear",
           133,
           102,
           -0.38285709352969416,
           "<br> he raised his head from its musing position at <br> the first sounds of her voice , and smiled <br> faintly , and with an expression of anguish , <br> as she proceeded ; but when she had ended <br> , and taken her seat near him , still <br> keeping her eyes on his varying countenance , he <br> took her hand into his own before he replied <br> .",
           "sounds smiled faintly",
           "('voice', 'NOUN')",
           "<br> the most that can be said is , that <br> such sounds are heard , though at long intervals <br> , and that no one as yet has succeeded <br> in ascertaining their cause .  ",
           "sounds long",
           "('heard', 'VERB')",
           "<br> the mourners returned to the tower , there , <br> according to a custom but recently abolished in scotland <br> , to carouse deep healths to the memory of <br> the deceased , to make the house of sorrow <br> ring with sounds of joviality and debauch , and <br> to diminish , by the expense of a large <br> and profuse entertainment , the limited revenues of the <br> heir of him whose funeral they thus strangely honoured <br> .",
           "house sorrow sounds joviality",
           "('ring', 'NOUN')",
           21.36835333204207
          ],
          [
           [
            "voice",
            "NOUN"
           ],
           "hear",
           539,
           407,
           -0.4052564784862585,
           "<br> \" i am afraid , \" said henry , <br> in a very low tone of voice .  ",
           "low voice",
           "('tone', 'NOUN')",
           "<br> from this she whispered , in a tone of <br> voice which , though soft and sweet , had <br> something in it of admonition , if not command <br> : \" lucy , my dear , remember -- <br> have you heard what bucklaw has been saying ? <br> \"  ",
           "whispered voice",
           "('tone', 'NOUN')",
           "<br> in lady ashton 's voice , a tone of <br> impressive , and even stern , innuendo was sedulously <br> and skilfully concealed under an appearance of the most <br> affectionate maternal tenderness .",
           "voice impressive",
           "('tone', 'NOUN')",
           -2.643995377852245
          ],
          [
           [
            "distinctly",
            "ADV"
           ],
           "hear",
           85,
           62,
           -0.45519462575082664,
           "<br> notwithstanding the lady ’s reluctance , richard , stimulated <br> doubtless by his sense of duty , prevailed ; <br> and they were soon so near as distinctly to <br> hear sounds .  ",
           "near distinctly sounds",
           "('hear', 'VERB')",
           "<br> the two ladies continued to talk , to re <br> - urge the same admitted truths , and enforce <br> them with such examples of the ill effect of <br> a contrary practice as had fallen within their observation <br> , but anne heard nothing distinctly ; it was <br> only a buzz of words in her ear , <br> her mind was in confusion .  ",
           "observation anne distinctly",
           "('heard', 'VERB')",
           "<br> then rene began to recite the so sweet and <br> so mystic litanies ; but you may imagine that <br> the \" ora pro nobis \" of blanche became <br> still fainter and fainter , like the sound of <br> the horn in the woodlands , and when the <br> page went on , \" oh , rose of <br> mystery , \" the lady , who certainly heard <br> distinctly , replied by a gentle sigh .",
           "lady certainly distinctly replied",
           "('heard', 'VERB')",
           -5.972922850595726
          ],
          [
           [
            "listen",
            "VERB"
           ],
           "hear",
           46,
           33,
           -0.4791678366985595,
           "<br> the remonstrance came too late ; the canoe was <br> already far from the skiff , and the two <br> hunters were too much engaged in the pursuit to <br> listen to his voice .  ",
           "listen",
           "('voice', 'NOUN')",
           "NA",
           "NA",
           "NA",
           "NA",
           "NA",
           "NA",
           3.194981116041993
          ],
          [
           [
            "hollow",
            "ADJ"
           ],
           "hear",
           66,
           47,
           -0.489805267680816,
           "<br> \" you have named me but too truly , <br> \" said ravenswood , in a hollow and tremulous <br> voice .  ",
           "hollow tremulous",
           "('voice', 'NOUN')",
           "NA",
           "NA",
           "NA",
           "NA",
           "NA",
           "NA",
           -2.0182160750333336
          ],
          [
           [
            "wind",
            "NOUN"
           ],
           "hear",
           113,
           80,
           -0.4982508675278254,
           "<br> the wind blows through one of the cupboards just <br> in the same way . \"  ",
           "wind",
           "('blows', 'VERB')",
           "NA",
           "NA",
           "NA",
           "NA",
           "NA",
           "NA",
           -3.044510684728849
          ],
          [
           [
            "attracted",
            "VERB"
           ],
           "hear",
           71,
           50,
           -0.5058909297299574,
           "<br> the chief put his hand before his mouth , <br> and , making it lay on his lips , <br> produced the kind of noise that had attracted elizabeth <br> to the place , when a quick and hurried <br> step was heard dashing through the dried underbrush and <br> bushes , and presently edwards rushed to his side <br> , with horror an every feature .     ",
           "produced kind attracted elizabeth",
           "('noise', 'NOUN')",
           "NA",
           "NA",
           "NA",
           "NA",
           "NA",
           "NA",
           -5.158782385189373
          ],
          [
           [
            "sing",
            "VERB"
           ],
           "hear",
           43,
           30,
           -0.5193741590935793,
           "<br> they listened attentively , and in a few minutes <br> thought they heard a person sing , but could <br> not distinguish the words .  ",
           "minutes thought person sing",
           "('heard', 'VERB')",
           "<br> [ the banshee is a species of aristocratic fairy <br> , who , in the shape of a little <br> hideous old woman , has been known to appear <br> , and heard to sing in a mournful supernatural <br> voice under the windows of great houses , to <br> warn the family that some of them are soon <br> to die .",
           "appear sing",
           "('heard', 'VERB')",
           "<br> did you ever hear benjamin sing the ‘ bay <br> of biscay , 0 ?",
           "benjamin sing",
           "('hear', 'VERB')",
           3.970133613622765
          ],
          [
           [
            "song",
            "NOUN"
           ],
           "hear",
           55,
           38,
           -0.5334322000810741,
           "<br> see - wise opened his ears wide to this <br> talk , and the young men listened to his <br> words as they listened to the song of the <br> mocking - bird .",
           "words song",
           "('listened', 'VERB')",
           "NA",
           "NA",
           "NA",
           "NA",
           "NA",
           "NA",
           -5.575333958309506
          ],
          [
           [
            "listened",
            "VERB"
           ],
           "hear",
           100,
           68,
           -0.5563933485243852,
           "<br> this good mother knew no other pleasures than those <br> of his rosy lips , had no other caresses <br> that those of his tiny little hands , which <br> ran about her like the feet of playful mice <br> , read no other book than that in his <br> clear baby eyes , in which the blue sky <br> was reflected , and listened to no other music <br> than his cries , which sounded in her ears <br> as angels ' whispers .",
           "listened cries",
           "('music', 'NOUN')",
           "<br> they listened , and heard the old domestic 's <br> voice in conversation with mysie to the following effect <br> :   \" just mak the best o't -- <br> make the besto't , woman ; it 's easy <br> to put a fair face on ony thing . <br> \"  ",
           "listened old domestic",
           "('heard', 'VERB')",
           "NA",
           "NA",
           "NA",
           14.340415931951766
          ],
          [
           [
            "repeated",
            "VERB"
           ],
           "hear",
           71,
           48,
           -0.5647846187835259,
           "<br> the short and solemn pause that succeeded each petition <br> was made ; still no voice repeated the eloquent <br> language of the prayer .  ",
           "repeated eloquent language",
           "('voice', 'NOUN')",
           "<br> the lips of elizabeth moved , but they moved <br> in vain and accustomed as she was to the <br> service of the churches of the metropolis , she <br> was beginning to feel the awkwardness of the circumstance <br> most painfully when a soft , low female voice <br> repeated after the priest , ” we have left <br> undone those things which we ought to have done <br> .",
           "soft low female repeated priest",
           "('voice', 'NOUN')",
           "<br> immediately the drums beat a salute , both bands <br> struck up a martial refrain , caught and repeated <br> like a fugue by every instrument from the thinnest <br> flutes to the largest drum .",
           "martial refrain repeated",
           "('caught', 'VERB')",
           16.654747335781583
          ],
          [
           [
            "heard",
            "VERB"
           ],
           "hear",
           585,
           395,
           -0.5665839714063015,
           "<br> but here the voice of bucklaw , heard even <br> above the clattering of hoofs and braying of horns <br> with which it mingled , announced that he was <br> scaling the pathway to the tower at the head <br> of the greater part of the gallant hunting train <br> .  ",
           "bucklaw heard",
           "('voice', 'NOUN')",
           "<br> ou , ye see , sir , \" said <br> the sexton , \" as for the auld gudesire <br> body of a lord , i lived on his <br> land when i was a swanking young chield , <br> and could hae blawn the trumpet wi ' ony <br> body , for i had wind eneugh then ; <br> and touching this trumpeter marine that i have heard <br> play afore the lords of the circuit , i <br> wad hae made nae mair",
           "heard afore lords",
           "('play', 'NOUN')",
           "NA",
           "NA",
           "NA",
           13.768921282130625
          ],
          [
           [
            "music",
            "NOUN"
           ],
           "hear",
           161,
           108,
           -0.5760293759511483,
           "<br> the music already rung from the gallery , along <br> the fretted roof of the ancient state apartment .",
           "music gallery",
           "('rung', 'VERB')",
           "NA",
           "NA",
           "NA",
           "NA",
           "NA",
           "NA",
           13.967419445938729
          ],
          [
           [
            "discourse",
            "NOUN"
           ],
           "hear",
           50,
           33,
           -0.5994620704162712,
           "<br> but there was no need of this fine paternoster <br> to indoctrinate the lady , seeing that she had <br> listened to the discourse of the two friends , <br> and was greatly offended at her husband 's doubt <br> .",
           "seeing discourse",
           "('listened', 'VERB')",
           "NA",
           "NA",
           "NA",
           "NA",
           "NA",
           "NA",
           3.1594325364888394
          ],
          [
           [
            "steps",
            "NOUN"
           ],
           "hear",
           90,
           59,
           -0.6092100469678334,
           "<br> so as i was rubbing the ring -- i <br> am sure i had not gone up three steps <br> , but i heard the rattling of armour ; <br> for all the world such a clatter as diego <br> says he heard when the giant turned him about <br> in the gallery - chamber . \"  ",
           "steps rattling armour",
           "('heard', 'VERB')",
           "NA",
           "NA",
           "NA",
           "NA",
           "NA",
           "NA",
           -1.371731216655363
          ],
          [
           [
            "news",
            "NOUN"
           ],
           "hear",
           81,
           53,
           -0.6119295483214255,
           "<br> the bravest news ye ever heard -- the lord <br> keeper 's up yonder wi ' his fair daughter <br> , just ready to fling her at my lord <br> 's head , if he winna tak her out <br> o ' his arms ; and i'se warrant he <br> 'll stitch our auld lands of ravenswood to her <br> petticoat tail . \"  ",
           "bravest news lord keeper",
           "('heard', 'VERB')",
           "<br> \" i have not forgot your merits , \" <br> said his patron ; \" i do remember that <br> , in my extremities , you had a mind <br> to crimp me for the service of the french <br> king , or of the pretender ; and , <br> moreover , that you afterwards lent me a score <br> of pieces , when , as i firmly believe <br> , you had heard the news that old lady <br> girnington had a touch of the dead palsy .",
           "believe news old",
           "('heard', 'VERB')",
           "NA",
           "NA",
           "NA",
           24.356442138194417
          ],
          [
           [
            "tones",
            "NOUN"
           ],
           "hear",
           72,
           47,
           -0.615336149764675,
           "<br> when the latter placed the bottle and glass on <br> the mantel - shelf , the stranger 's eyes <br> flashed out on him again ; and when he <br> spoke , it was in musical tones with no <br> sign of the previous guttural convulsion , though his <br> voice was still unsteady with repressed emotion .  ",
           "tones sign",
           "('musical', 'ADJ')",
           "<br> \" he does not seem intoxicated , maria , <br> \" replied the other , in a voice whose <br> tones corresponded with her appearance ; \" it is <br> some sudden illness . \"  ",
           "tones corresponded",
           "('voice', 'NOUN')",
           "<br> the noble form and fine features of ravenswood , <br> fired with the pride of birth and sense of <br> internal dignity , the mellow and expressive tones of <br> his voice , the desolate state of his fortunes <br> , and the indifference with which he seemed to <br> endure and to dare the worst that might befall <br> , rendered him a dangerous object of contemplation for <br> a maiden already too much disposed to dwell upon <br> recollections connected with him .",
           "expressive tones desolate state",
           "('voice', 'NOUN')",
           -10.140919455872135
          ],
          [
           [
            "interrupted",
            "VERB"
           ],
           "hear",
           47,
           30,
           -0.6476982560691187,
           "<br> this agreeable contemplation of mr. delafield was soon interrupted <br> by the cheerful voice of maria osgood , who <br> cried--   \" bless me , george , you <br> really do look ill . \"  ",
           "interrupted cheerful maria osgood",
           "('voice', 'NOUN')",
           "<br> \" were the ejaculations which he muttered from time <br> to time , as if to encourage himself in <br> his undertaking , when he was interrupted by the <br> voice of his master .  ",
           "interrupted master",
           "('voice', 'NOUN')",
           "<br> \" i know it -- i know it , <br> \" said the marquis ; \" in a strict <br> heraldic and genealogical sense , you certainly are so <br> ; what i mean is , that being in <br> some measure under my guardianship---- \"   \" i <br> must take the liberty to say , my lord---- <br> \" answered ravenswood , and the tone in which <br> he interrupted the marquis boded no long duration to <br> the friendship of the noble relatives , when he <br> himself was interrupted by the little sexton , who <br> cam puffing after them , to ask if their <br> honours would choose music at the change - house <br> to make up for short cheer .  ",
           "ravenswood interrupted",
           "('tone', 'NOUN')",
           8.080395664520397
          ],
          [
           [
            "faint",
            "ADJ"
           ],
           "hear",
           69,
           44,
           -0.6490928381408718,
           "<br> this difference in opinion had long been a subject <br> of amicable dispute between them : but , latterly <br> , the contest was getting to be too important <br> to admit of trivial discussions on the part of <br> marmaduke , whose acute discernment was already catching faint <br> glimmerings of the important events that were in embryo <br> .  ",
           "acute discernment faint glimmerings",
           "('catching', 'VERB')",
           "<br> \" yes , it is wonderful , \" she <br> said , and out in the open air her <br> voice sounded weak and faint to the last degree <br> .",
           "open air sounded weak faint",
           "('voice', 'NOUN')",
           "NA",
           "NA",
           "NA",
           -14.095941665316944
          ],
          [
           [
            "engaged",
            "VERB"
           ],
           "hear",
           62,
           39,
           -0.6687940915246269,
           "<br> if marmaduke do n’t send that fellow off the <br> patent , he may ornament his village with his <br> own hands for me , ” here richard paused <br> a moment , and cleared his throat by a <br> loud hem , while the negro , who was <br> all this time busily engaged in preparing the sleigh <br> , proceeded with his work in respectful silence . <br>  ",
           "time busily engaged sleigh proceeded",
           "('preparing', 'VERB')",
           "<br> on the present occasion , the usual amusement of <br> the day had been a little hastned , in <br> order to allow a fair opportunity to mr. grant <br> , whose exhibition was not less a treat to <br> the young sportsmen than the one which engaged their <br> present attention .  ",
           "engaged present",
           "('attention', 'NOUN')",
           "<br> however , as mrs. hollister thought there was something <br> like actual service in the present appearances , and <br> was , in consequence , too busily engaged with <br> certain preparations of her own , to make her <br> comments ; as benjamin was absent , and monsieur <br> le quoi too happy to find fault with anything <br> , the corps escaped criticism and comparison altogether on <br> this momentous day , when they certainly had greater <br> need of self - confidence than on any other <br> previous occasion .  ",
           "busily engaged certain",
           "('preparations', 'NOUN')",
           25.07002330195743
          ],
          [
           [
            "spoken",
            "VERB"
           ],
           "hear",
           51,
           32,
           -0.6724253419714956,
           "<br> be it nevertheless understood , the author has no <br> other desire than to be a good touranian , <br> and joyfully to chronicle the merry doings of the <br> famous people of this sweet and productive land , <br> more fertile in cuckolds , dandies and witty wags <br> than any other , and which has furnished a <br> good share of men of renown in france , <br> as witness the departed courier of piquant memory ; <br> verville , author of _ moyen de parvenir _ <br> , and others equally well known , among whom <br> we will specially mention the sieur descartes , because <br> he was a melancholy genius , and devoted himself <br> more to brown studies than to drinks and dainties <br> , a man of whom all the cooks and <br> confectioners of tours have a wise horror , whom <br> they despise , and will not hear spoken of <br> , and say , \" where does he live <br> ? \" if his name is mentioned .",
           "spoken",
           "('hear', 'VERB')",
           "<br> meanwhile the king , who had just returned from <br> a journey , heard nothing spoken of at court <br> but the marvellous beauty of the jeweller 's daughter <br> who had refused a thousand crowns from this one <br> , snubbed that one ; in fact , would <br> yield to no one , but turned up her <br> nose at the finest young men of the city <br> , gentlemen who would have forfeited their seat in <br> paradise only to possess one day , this little <br> dragon of virtue .  ",
           "journey spoken",
           "('heard', 'VERB')",
           "NA",
           "NA",
           "NA",
           7.182634629407189
          ],
          [
           [
            "tone",
            "NOUN"
           ],
           "hear",
           128,
           79,
           -0.6962192518228971,
           "<br> in lady ashton 's voice , a tone of <br> impressive , and even stern , innuendo was sedulously <br> and skilfully concealed under an appearance of the most <br> affectionate maternal tenderness .",
           "lady ashton tone",
           "('voice', 'NOUN')",
           "NA",
           "NA",
           "NA",
           "NA",
           "NA",
           "NA",
           -12.085762053901009
          ],
          [
           [
            "servants",
            "NOUN"
           ],
           "hear",
           57,
           35,
           -0.7036069972197752,
           "<br> the marquis , who was sometimes suspected of jacobitism <br> , could not help laughing as he threw the <br> fellow a dollar , and bid him go play <br> to the servants if he had a mind , <br> and leave them at peace .  ",
           "bid servants",
           "('play', 'VERB')",
           "<br> the refreshments which the servants had prepared were now <br> put on the table , and an epicure would <br> perhaps have enjoyed them with additional zest from the <br> contrast which such fare afforded to the miserable cabin <br> in which it was served up .  ",
           "servants",
           "('prepared', 'VERB')",
           "NA",
           "NA",
           "NA",
           5.245873996145354
          ],
          [
           [
            "listening",
            "VERB"
           ],
           "hear",
           49,
           30,
           -0.7078192485066896,
           "<br> you will tell me that this is a merciful <br> dispens-- \"   helene had come back to the <br> drawing - room with her father , and was <br> listening attentively .",
           "listening",
           "('attentively', 'ADV')",
           "NA",
           "NA",
           "NA",
           "NA",
           "NA",
           "NA",
           -1.071925807011039
          ],
          [
           [
            "accompanied",
            "VERB"
           ],
           "hear",
           54,
           33,
           -0.710493382805015,
           "<br> she accompanied these coddling little attentions with a hundred <br> affected speeches ; for instance , on coming into <br> the room she would say--  ",
           "accompanied coddling little affected",
           "('attentions', 'NOUN')",
           "<br> thus accompanied with the attendance both of rich and <br> poor , lucy returned to her father 's house <br> .",
           "accompanied rich",
           "('attendance', 'NOUN')",
           "NA",
           "NA",
           "NA",
           -0.5533689041679075
          ],
          [
           [
            "soft",
            "ADJ"
           ],
           "hear",
           138,
           84,
           -0.7162070339994087,
           "<br> mr. delafield , it is seldom that i have <br> an opportunity of hearing soft things , for i <br> am never alone with a gentleman in my father <br> 's house\"--   \" and is mrs. osgood so <br> rigid ? \" returned the gentleman ; \" surely <br> the gravity of her daughter should create more confidence\"-- <br>   \"",
           "opportunity soft things",
           "('hearing', 'VERB')",
           "<br> \" seneca , \" he repeated slowly , dropping <br> his voice to something like the soft , deep <br> tones of the other ; \" then you are <br> in your own country , here ? \"  ",
           "soft deep",
           "('tones', 'NOUN')",
           "<br> from this she whispered , in a tone of <br> voice which , though soft and sweet , had <br> something in it of admonition , if not command <br> : \" lucy , my dear , remember -- <br> have you heard what bucklaw has been saying ? <br> \"  ",
           "tone soft",
           "('voice', 'NOUN')",
           -1.8821210130721802
          ],
          [
           [
            "game",
            "NOUN"
           ],
           "hear",
           53,
           32,
           -0.7279204545631992,
           "<br> exclaimed craigengelt , with a well - assumed air <br> of astonishment , \" that would be playing the <br> back - game with a witness !",
           "game",
           "('playing', 'VERB')",
           "NA",
           "NA",
           "NA",
           "NA",
           "NA",
           "NA",
           -5.502195801246868
          ],
          [
           [
            "distant",
            "ADJ"
           ],
           "hear",
           105,
           63,
           -0.7369655941662062,
           "<br> we parted about a mile from the village , <br> just as we heard the distant cheer of the <br> boys which accompanied the mounting of the new symbol <br> of the wallace head .",
           "distant cheer",
           "('heard', 'VERB')",
           "<br> he began already to think he was safe from <br> pursuit , having gained the summit of the swelling <br> eminence which divides wolf 's crag from the village <br> , when he heard the distant tread of a <br> horse , and a voice which shouted at intervals <br> , \" mr. caleb -- mr .",
           "village distant tread",
           "('heard', 'VERB')",
           "NA",
           "NA",
           "NA",
           -4.390469328565114
          ],
          [
           [
            "attentively",
            "ADV"
           ],
           "hear",
           59,
           35,
           -0.7533600324168749,
           "<br> the hunter made no reply ; but , bending <br> his ear near the water , he sat holding <br> his breath , and listening attentively as if to <br> some distant sound .  ",
           "breath attentively",
           "('listening', 'VERB')",
           "<br> captain benwick listened attentively , and seemed grateful for <br> the interest implied ; and though with a shake <br> of the head , and sighs which declared his <br> little faith in the efficacy of any books on <br> grief like his , noted down the names of <br> those she recommended , and promised to procure and <br> read them .  ",
           "captain benwick attentively",
           "('listened', 'VERB')",
           "<br> you will tell me that this is a merciful <br> dispens-- \"   helene had come back to the <br> drawing - room with her father , and was <br> listening attentively .",
           "father attentively",
           "('listening', 'VERB')",
           18.85957310979147
          ],
          [
           [
            "paid",
            "VERB"
           ],
           "hear",
           114,
           66,
           -0.7884958948062881,
           "<br> then it would be those soft words and things <br> which the ladies understand so well , little attentions <br> paid to a guest , such as coming in <br> to see if he were comfortable , if his <br> bed were well made , the room clean , <br> if the ventilation were good , if he felt <br> any draughts in the night , if the sun <br> came in during the day , and asking him <br> to forgo none of his usual fancies and habits <br> , saying--   \" are you accustomed to take <br> anything in the morning in bed , such as <br> honey , milk , or spice ?",
           "little paid guest",
           "('attentions', 'NOUN')",
           "<br> then , bending gracefully from her horse , she <br> wished him good morning , and , attended by <br> one or two domestics , who seemed immediately attached <br> to her service , retired from the scene of <br> action , to which bucklaw , too much delighted <br> with an opportunity of displaying his woodcraft to care <br> about man or woman either , paid little attention <br> ; but was soon stript to his doublet , <br> with tucked - up sleeves , and naked arms <br> up to the elbows in blood and grease , <br> slashing , cutting , hacking , and hewing , <br> with the precision of sir tristrem himself , and <br> wrangling and disputing with all around him concerning nombles <br> , briskets , flankards , and raven - bones <br> , then usual terms of the art of hunting <br> , or of butchery , whichever the reader chooses <br> to call it , which are now probably antiquated <br> .  ",
           "paid little soon",
           "('attention', 'NOUN')",
           "<br> the extreme attention which they paid to the master <br> of ravenswood had its usual effect in exalting his <br> importance in the eyes of the lord keeper , <br> who , although he had a reasonable degree of <br> contempt for lord bittlebrains 's general parts , entertained <br> a high opinion of the acuteness of his judgment <br> in all matters of self - interest .  ",
           "extreme paid",
           "('attention', 'NOUN')",
           -15.594857719484752
          ],
          [
           [
            "talk",
            "VERB"
           ],
           "hear",
           64,
           37,
           -0.7905466343710502,
           "<br> secure in the protection of an old soldier , <br> women and children gave themselves up to the joys <br> of home life , so delicious when there is <br> no restraint upon feeling ; and talk and play <br> and glances are bright with frankness and affection . <br>  ",
           "talk glances bright",
           "('play', 'VERB')",
           "NA",
           "NA",
           "NA",
           "NA",
           "NA",
           "NA",
           17.91394675329732
          ],
          [
           [
            "story",
            "NOUN"
           ],
           "hear",
           111,
           63,
           -0.8171359428501895,
           "<br> but so it turned out ; for whether or <br> not there was any foundation for the traffickings with <br> him which she pretended , he never could abide <br> to hear the story alluded to , which , <br> when i discerned , i took care , whenever <br> he showed any sort of inclination to molest the <br> council with his propugnacity , to joke him about <br> his bonny sweetheart , \" the tappit - hen <br> , \" and he instantly sang dumb , and <br> quietly slipped away ; by which it may be <br> seen how curiously events come to pass , since <br> , out of the very first cause of his <br> thwarting me in the lamps , i found , <br> in process of time , a way of silencing <br> him far better than any sort of truth or <br> reason .     ",
           "abide story alluded",
           "('hear', 'VERB')",
           "<br> i have heard somewhere a story of an elderly <br> gentleman who was pursued by a bear that had <br> gotten loose from its muzzle , until completely exhausted <br> .",
           "story",
           "('heard', 'VERB')",
           "<br> i have heard of that story , \" said <br> the lady .",
           "story",
           "('heard', 'VERB')",
           4.378839236518247
          ],
          [
           [
            "female",
            "ADJ"
           ],
           "hear",
           97,
           55,
           -0.8185531286624681,
           "<br> the lord keeper made another effort to prevent her <br> taking a step so decisive , just as she <br> opened the door to call her female attendant from <br> the ante - room . \"",
           "female ante",
           "('attendant', 'NOUN')",
           "NA",
           "NA",
           "NA",
           "NA",
           "NA",
           "NA",
           -9.743424855171856
          ],
          [
           [
            "ear",
            "NOUN"
           ],
           "hear",
           136,
           77,
           -0.820676300555438,
           "<br> this was easily done , for the hag 's <br> external ugliness was soon balanced by a show of <br> kindness and interest , to which lucy had of <br> late been little accustomed ; her attentive services and <br> real skill gained her the ear , if not <br> the confidence , of her patient ; and under <br> pretence of diverting the solitude of a sick - <br> room , she soon led her attention captive by <br> the legends in which she was well skilled , <br> and to which lucy 's habit of reading and <br> reflection induced her to \" lend an attentive ear <br> . \"",
           "lend ear",
           "('attentive', 'ADJ')",
           "NA",
           "NA",
           "NA",
           "NA",
           "NA",
           "NA",
           1.1083562124955513
          ],
          [
           [
            "raising",
            "VERB"
           ],
           "hear",
           78,
           44,
           -0.8259706002249512,
           "<br> \" oh , child , \" said the general <br> , raising his voice , \" you have no <br> idea of all the misery that lies in store <br> for you . \"  ",
           "general raising",
           "('voice', 'NOUN')",
           "<br> \" i slight and inconsiderable ? \" said craigengelt <br> , raising his voice , and laying his hand <br> on his cutlass ; \" if it were not <br> that the quarrel of my friend craves the precedence <br> , and is in dependence before my own , <br> i would give you to understand---- \"   \" <br> i can understand nothing upon your explanation , captain <br> craigengelt .",
           "craigengelt raising laying",
           "('voice', 'NOUN')",
           "<br> \" confound you for an impudent liar ! \" <br> said ravenswood , in uncontrollable ire , \" there <br> was not a single ounce of---- \"   \" <br> forbye , \" said the butler , most irreverently <br> raising his voice to a pitch which drowned his <br> master 's , \" the fire made fast on <br> us , owing to the store of tapestry and <br> carved timmer in the banqueting - ha ' , <br> and the loons ran like scaulded rats sae sune <br> as they heard of the gunpouther . \"  ",
           "irreverently raising pitch",
           "('voice', 'NOUN')",
           -11.088209595580397
          ],
          [
           [
            "ceased",
            "VERB"
           ],
           "hear",
           59,
           33,
           -0.838248930003388,
           "<br> as the ringing of the bell ceased , the <br> gate unclosed , and the doctor came forth . <br>  ",
           "bell ceased",
           "('ringing', 'NOUN')",
           "NA",
           "NA",
           "NA",
           "NA",
           "NA",
           "NA",
           -5.740856627023219
          ],
          [
           [
            "speak",
            "VERB"
           ],
           "hear",
           171,
           95,
           -0.84799690655495,
           "<br> a time , however , there must come , <br> when these things shall be discussed , in a <br> place and in a presence where both of us <br> will have equal freedom to speak and to hear <br> . \"  ",
           "speak",
           "('hear', 'VERB')",
           "NA",
           "NA",
           "NA",
           "NA",
           "NA",
           "NA",
           -4.959703220296658
          ],
          [
           [
            "hearing",
            "VERB"
           ],
           "hear",
           66,
           36,
           -0.8744691179161412,
           "<br> \" i could not resist the pleasure of hearing <br> your voice , of being near you .",
           "pleasure hearing",
           "('voice', 'NOUN')",
           "<br> the hero , himself , on hearing such a <br> gentle voice so softly replying to his question , <br> could not refrain from turning his face into the <br> carriage , and julia felt her own eyes lower <br> before his earnest gaze , while her cheeks burned <br> with the blushes that suffused them .",
           "hearing gentle softly replying",
           "('voice', 'NOUN')",
           "<br> hearing the noise made by the men , which <br> threatened to bring the walls about their ears , <br> the maid - servant opened the door , yawning <br> and stretching her arms .",
           "hearing men",
           "('noise', 'NOUN')",
           15.942008062322762
          ],
          [
           [
            "cried",
            "VERB"
           ],
           "hear",
           129,
           70,
           -0.8819442384782877,
           "<br> but his fair youth , and all the natural <br> seductions of this sweet crime , found grace before <br> the tribunal of the heart of this old man <br> , although bruyn was still severe , and throwing <br> his club away on to a dog who was <br> catching beetles , he cried out , \" may <br> a thousand million claws , tear during all eternity <br> , all the entrails of him , who made <br> him , who planted the oak , that made <br> the chair , on which thou hast antlered me <br> -- and the same to those who engendered thee <br> , cursed page of misfortune !",
           "dog beetles cried",
           "('catching', 'VERB')",
           "NA",
           "NA",
           "NA",
           "NA",
           "NA",
           "NA",
           -11.994255824458309
          ],
          [
           [
            "step",
            "NOUN"
           ],
           "hear",
           72,
           39,
           -0.8845227825800641,
           "<br> \" well , you hear a man 's step <br> , i grant it , \" said lucy ; <br> \" but why , alice , may it not <br> be my father 's ? \"  ",
           "man step",
           "('hear', 'VERB')",
           "NA",
           "NA",
           "NA",
           "NA",
           "NA",
           "NA",
           0.18917843510280166
          ],
          [
           [
            "replied",
            "VERB"
           ],
           "hear",
           126,
           68,
           -0.8898170822495771,
           "<br> at length a timid and hesitating voice replied : <br> \" master -- master of ravenswood , is it <br> you ? \"  ",
           "timid hesitating replied master",
           "('voice', 'NOUN')",
           "NA",
           "NA",
           "NA",
           "NA",
           "NA",
           "NA",
           22.741942663502577
          ],
          [
           [
            "words",
            "NOUN"
           ],
           "hear",
           287,
           152,
           -0.9169794132321023,
           "<br> the stern reception at first given to them by <br> the master of ravenswood , and the difficulty he <br> felt in explaining to that injured nobleman what guests <br> were under the shelter of his roof , did <br> not soothe these alarms ; so that when sir <br> william ashton heard the door of the courtyard shut <br> behind him with violence , the words of alice <br> rung in his ears , \" that he had <br> drawn on matters too hardly with so fierce a <br> race as those of ravenswood , and that they <br> would bide their time to be avenged .",
           "words alice ears",
           "('rung', 'VERB')",
           "NA",
           "NA",
           "NA",
           "NA",
           "NA",
           "NA",
           -1.889565574731771
          ],
          [
           [
            "journey",
            "NOUN"
           ],
           "hear",
           57,
           30,
           -0.9259994185562233,
           "<br> meanwhile the king , who had just returned from <br> a journey , heard nothing spoken of at court <br> but the marvellous beauty of the jeweller 's daughter <br> who had refused a thousand crowns from this one <br> , snubbed that one ; in fact , would <br> yield to no one , but turned up her <br> nose at the finest young men of the city <br> , gentlemen who would have forfeited their seat in <br> paradise only to possess one day , this little <br> dragon of virtue .  ",
           "journey spoken",
           "('heard', 'VERB')",
           "<br> looking as if she saw him not , she <br> put his arm aside , and requested that of <br> captain craigengelt , who stood by the coach with <br> his laced hat under his arm , having acted <br> as cavaliere servente , or squire in attendance , <br> during the journey .",
           "squire journey",
           "('attendance', 'NOUN')",
           "<br> at the usual early hour of that period , <br> the marquis of a---- and his kinsman prepared to <br> resume their journey .",
           "a---- kinsman resume journey",
           "('prepared', 'VERB')",
           -11.699262333331168
          ],
          [
           [
            "exclaimed",
            "VERB"
           ],
           "hear",
           88,
           45,
           -0.9675785223076225,
           "<br> \" which way are they going ? \" exclaimed <br> the general , listening to the footsteps of the <br> two fugitives.--\"madame , \" he turned to his wife <br> , \" i think i must be dreaming ; <br> there is some mystery behind all this",
           "exclaimed general footsteps",
           "('listening', 'VERB')",
           "<br> \" i -- indeed i have yet to learn <br> that , \" exclaimed the other , in a <br> little more astonishment .  ",
           "exclaimed",
           "('learn', 'VERB')",
           "<br> \" what ! not with that voice ? \" <br> exclaimed the young man , in surprise .  ",
           "exclaimed",
           "('voice', 'NOUN')",
           -9.03063755736125
          ],
          [
           [
            "solemn",
            "ADJ"
           ],
           "hear",
           87,
           44,
           -0.9835118772114309,
           "<br> \" jaquez , \" said manfred , in a <br> solemn tone of voice ; \" tell me , <br> i adjure thee by the souls of my ancestors <br> , what was it thou sawest ?",
           "solemn tone tell",
           "('voice', 'NOUN')",
           "<br> then an awful cadence of solemn music , that <br> affected the heart like silence , was heard at <br> intervals , and a numerous retinue of grave and <br> venerable men ,      ",
           "awful cadence solemn affected",
           "('music', 'NOUN')",
           "<br> my lord , \" she continued , in an <br> impressive and solemn tone , \" take care what <br> you do ; you are on the brink of <br> a precipice . \"  ",
           "impressive solemn care",
           "('tone', 'NOUN')",
           -15.898025780845382
          ],
          [
           [
            "struck",
            "VERB"
           ],
           "hear",
           89,
           45,
           -0.983880334636723,
           "<br> although this signal was certainly expected , it took <br> the assailed a little by surprise , and the <br> veteran approached the works , crying , “ courage <br> , my brave lads ! give them no quarter <br> unless they surrender ; ” and struck a furious <br> blow upward with his sabre , that would have <br> divided the steward into moieties by subjecting him to <br> the process of decapitation , but for the fortunate <br> interference of the muzzle of the swivel .  ",
           "struck furious upward sabre",
           "('blow', 'NOUN')",
           "<br> at length the constable struck two heavy blows over <br> the table and said , \" i 'll go <br> and attack the inhabitants of poissy . \"",
           "constable struck heavy table",
           "('blows', 'NOUN')",
           "NA",
           "NA",
           "NA",
           -11.092562097530363
          ],
          [
           [
            "hear",
            "VERB"
           ],
           "hear",
           238,
           119,
           -1,
           "<br> but so beautiful is the music , that i <br> hear nothing else , and so flaming are their <br> luminous rays , that my eyes are closing . <br> \"  ",
           "beautiful hear",
           "('music', 'NOUN')",
           "<br> if you please to take your friend 's horse <br> , and leave me your galloway , i will <br> meet you after the fall of the stag , <br> for i hear they are blowing him at bay <br> . \"  ",
           "hear bay",
           "('blowing', 'VERB')",
           "NA",
           "NA",
           "NA",
           -7.393493599653324
          ],
          [
           [
            "deep",
            "ADJ"
           ],
           "hear",
           174,
           87,
           -1,
           "<br> he seemed to shrink from her expressions of gratitude <br> , while he replied abruptly , \" i leave <br> you , madam , \" the deep melody of <br> his voice rendered powerful , but not harsh , <br> by something like a severity of tone--\"i leave you <br> to the protection of those to whom it is <br> possible you may have this day been a guardian <br> angel . \"  ",
           "deep melody rendered powerful",
           "('voice', 'NOUN')",
           "<br> far more deeply skilled than her husband in the <br> recesses of the human heart , she was aware <br> that in this way she might strike a blow <br> of deep and decisive vengeance upon one whom she <br> esteemed as her mortal enemy ; nor did she <br> hesitate at raising her arm , although she knew <br> that the wound must be dealt through the bosom <br> of her daughter .",
           "strike deep decisive",
           "('blow', 'NOUN')",
           "NA",
           "NA",
           "NA",
           -4.095786047265447
          ],
          [
           [
            "approaching",
            "VERB"
           ],
           "hear",
           78,
           38,
           -1.0374747054186628,
           "<br> the fat bishop , sensual and careful enough of <br> the sleek , ecclesiastical garment of skin for which <br> he was indebted to his late mother , allowed <br> himself to be plentifully served with hippocras by the <br> delicate hand of madame , and it was just <br> at his first hiccough that the sound of an <br> approaching cavalcade was heard in the street .",
           "approaching cavalcade street",
           "('heard', 'VERB')",
           "NA",
           "NA",
           "NA",
           "NA",
           "NA",
           "NA",
           -8.98985881870525
          ],
          [
           [
            "sweet",
            "ADJ"
           ],
           "hear",
           193,
           94,
           -1.037868185590443,
           "<br> hearing these sweet words , bertha declared to him <br> that , however great might have been her sin <br> , and whatever god reserved for her , this <br> happiness would enable her to support it , since <br> she believed she had not fallen through a man <br> , but through an angel .  ",
           "sweet words",
           "('hearing', 'VERB')",
           "<br> then , naturally , and with the delicious joy <br> of two angels united by thought alone , they <br> intoned together those sweet litanies repeated by the lovers <br> of the period in honour of love -- anthems <br> which the abbot of theleme has paragraphically saved from <br> oblivion by engraving them on the walls of his <br> abbey , situated , according to master alcofribas , <br> in our land of chinon , where i have <br> seen them in latin , and have translated them <br> for the benefit of christians .  ",
           "thought sweet litanies",
           "('intoned', 'VERB')",
           "NA",
           "NA",
           "NA",
           -1.716819515960017
          ],
          [
           [
            "attention",
            "NOUN"
           ],
           "hear",
           175,
           84,
           -1.0588936890535685,
           "<br> but delafield possessed other attractions to catch the attention <br> of the audience : his powers on the instrument <br> greatly exceeded those of any of his competitors , <br> and his execution was really wonderful ; every tongue <br> was silent , every ear was attentive , and <br> every head nodded approbation , excepting that of our <br> heroine .",
           "possessed attractions attention",
           "('catch', 'VERB')",
           "NA",
           "NA",
           "NA",
           "NA",
           "NA",
           "NA",
           -1.2879584625000216
          ],
          [
           [
            "speaking",
            "VERB"
           ],
           "hear",
           97,
           45,
           -1.1080597458574528,
           "<br> charlotte alone noticed the alteration , and , speaking <br> in a low tone , she said--   \" <br> do go home ,",
           "speaking low said--",
           "('tone', 'NOUN')",
           "<br> now this poor chiquon , as the shepherd was <br> named , had lived about a month alone with <br> his old uncle , and finding more profit or <br> more amusement in minding an abbot than looking after <br> sheep , made himself the canon 's dog , <br> his servant , the staff of his old age <br> , saying , \" god keep you , \" <br> when he passed wind , \" god save you <br> , \" when he sneezed , and \" god <br> guard you , \" when he belched ; going <br> to see if it rained , where the cat <br> was , remaining silent , listening , speaking , <br> receiving the coughs of the old man in his <br> face , admiring him as the finest canon there <br> ever was in the world , all heartily and <br> in good faith , knowing that he was licking <br> him after the manner of animals who clean their <br> young ones ; and the uncle , who stood <br> in no need of learning which side the bread <br> was buttered , repulsed poor chiquon , making him <br> turn about like a die , always calling him <br> chiquon , and always saying to his other nephews <br> that this chiquon was helping to kill him , <br> such a numskull was he .",
           "remaining silent speaking receiving",
           "('listening', 'NOUN')",
           "<br> he could talk , from his own knowledge , <br> of men and events , in a way which <br> failed not to win attention , and had the <br> peculiar art , while he never said a word <br> which committed himself , at the same time to <br> persuade the hearer that he was speaking without the <br> least shadow of scrupulous caution or reserve .",
           "time persuade speaking",
           "('hearer', 'NOUN')",
           9.759786699235047
          ],
          [
           [
            "read",
            "VERB"
           ],
           "hear",
           133,
           61,
           -1.1245450979383034,
           "<br> contrary to the custom , and even to the <br> law , of the time , the body was <br> met by a priest of the scottish episcopal communion <br> , arrayed in his surplice , and prepared to <br> read over the coffin of the deceased the funeral <br> service of the church .",
           "surplice read",
           "('prepared', 'VERB')",
           "NA",
           "NA",
           "NA",
           "NA",
           "NA",
           "NA",
           -10.093093811287439
          ],
          [
           [
            "answered",
            "VERB"
           ],
           "hear",
           117,
           53,
           -1.1424442650202054,
           "<br> he answered , his very voice trembling as if <br> in sympathy with his frame : \" i do <br> believe but for you i should have been long <br> since in my grave . \"  ",
           "answered trembling",
           "('voice', 'NOUN')",
           "<br> \" sir william is safe , \" answered the <br> voice of a stranger--\"perfectly safe , adn will be <br> with you instantly . \"  ",
           "answered stranger--\"perfectly safe",
           "('voice', 'NOUN')",
           "<br> \" you heard yourself , \" answered craigengelt , <br> \" what captain westenho said about it , and <br> the great preparation made for their blythesome bridal .",
           "answered",
           "('heard', 'VERB')",
           23.697115353198246
          ],
          [
           [
            "angry",
            "ADJ"
           ],
           "hear",
           74,
           33,
           -1.1650592462704963,
           "<br> the first battle they fought was with two saracens <br> , and the dwarf , who was very courageous <br> , dealt one of the champions a most angry <br> blow .",
           "champions angry",
           "('blow', 'NOUN')",
           "<br> as we continued our discourse in this manner , <br> his wife , who had been out to get <br> change , returned , and perceiving that her husband <br> was enjoying a pleasure in which she was not <br> a sharer , she asked him , in an <br> angry tone , what he did there , to <br> which he only replied in an ironical way , <br> by drinking her health . '",
           "angry",
           "('tone', 'NOUN')",
           "<br> bucklaw now came from the rear of the party <br> , and demanded admittance in a very angry tone <br> .",
           "angry",
           "('tone', 'NOUN')",
           -6.064499620497359
          ],
          [
           [
            "spoke",
            "VERB"
           ],
           "hear",
           160,
           71,
           -1.1721809753826804,
           "<br> it was easy to see that the marquise 's <br> feet were stretched out stark and stiff with the <br> agony of death ; and moina , leaning against <br> the door - frame , looking into their faces <br> , spoke in a hollow voice :  ",
           "spoke hollow",
           "('voice', 'NOUN')",
           "<br> thereupon the foolish fellow -- as firmly fixed as <br> a fly in a glue pot --went away , <br> made his preparations , spoke at the palace , <br> ran to the high court , bought dispensations , <br> and conducted his purchase more quickly than he ever <br> done one before , thinking only of the lovely <br> girl .",
           "away spoke",
           "('preparations', 'NOUN')",
           "NA",
           "NA",
           "NA",
           -8.875589127943366
          ],
          [
           [
            "conversation",
            "NOUN"
           ],
           "hear",
           136,
           60,
           -1.1805722456418208,
           "<br> they listened , and heard the old domestic 's <br> voice in conversation with mysie to the following effect <br> :   \" just mak the best o't -- <br> make the besto't , woman ; it 's easy <br> to put a fair face on ony thing . <br> \"  ",
           "old domestic conversation mysie",
           "('voice', 'NOUN')",
           "<br> but when he perceived that the lady was recovered <br> , and heard the conversation turn upon the accommodation <br> and refreshment which the castle afforded , he thought <br> it time to burst into the room in the <br> manner announced in the last chapter .  ",
           "recovered conversation turn",
           "('heard', 'VERB')",
           "<br> \" i have a young birkie , \" said <br> the lord keeper , willing to change the tone <br> of the conversation , \" of much the same <br> turn .",
           "willing change conversation",
           "('tone', 'NOUN')",
           -6.96346326033153
          ],
          [
           [
            "saying",
            "VERB"
           ],
           "hear",
           84,
           37,
           -1.1828640571498106,
           "<br> this old maid had her apartments on the other <br> side of the house which belonged to la beaupertuys <br> , at the corner of the rue de hierusalem <br> , in such a position that , standing on <br> the balcony joining the wall , it was easy <br> to see what she was doing , and hear <br> what she was saying in the lower room where <br> she lived ; and often the king derived much <br> amusement from the antics of the old girl , <br> who did not know that she was so much <br> within the range of his majesty 's culverin .",
           "saying",
           "('hear', 'VERB')",
           "NA",
           "NA",
           "NA",
           "NA",
           "NA",
           "NA",
           -12.175029654917015
          ],
          [
           [
            "called",
            "VERB"
           ],
           "hear",
           159,
           70,
           -1.183599938339389,
           "<br> \" we shall never agree upon this question , <br> \" captain harville was beginning to say , when <br> a slight noise called their attention to captain wentworth <br> 's hitherto perfectly quiet division of the room . <br>  ",
           "slight noise called captain wentworth",
           "('attention', 'NOUN')",
           "<br> their attention was called towards the others .  ",
           "called",
           "('attention', 'NOUN')",
           "<br> \" called a voice which rang like a crack <br> of thunder through the hearts of the two lovers <br> .",
           "called rang",
           "('voice', 'NOUN')",
           -15.658885280816312
          ],
          [
           [
            "drew",
            "VERB"
           ],
           "hear",
           82,
           36,
           -1.1876270031757714,
           "<br> thus aided , the listeners drew nigh to a <br> spot where the young hunter , leather- stocking , <br> and the indian chief were collected in an earnest <br> consultation .  ",
           "aided drew nigh",
           "('listeners', 'NOUN')",
           "<br> she was by no means sure that antonio would <br> appear as a coachman -- this was merely a <br> suggestion of her own ; and the idea that <br> he might possibly be one of the gazers , <br> covered her with confusion : her blushes drew still <br> more attention and admiration upon her ; and we <br> can not say what might have been the result <br> of her fascinations , had not charles at this <br> instant approached them , and pointing to a sloop <br> they were passing at the time , exclaimed--   <br> \" see , madam -- see , julia",
           "blushes drew admiration",
           "('attention', 'NOUN')",
           "NA",
           "NA",
           "NA",
           9.246038617918089
          ],
          [
           [
            "making",
            "VERB"
           ],
           "hear",
           112,
           49,
           -1.1926450779423958,
           "<br> the cunning jade settled herself dextrously therein , like <br> a swallow in its nest , and leaned her <br> head maliciously upon her arm like a child that <br> sleeps ; but in making her preparations she opened <br> fond eyes , that smiled and winked in advance <br> of the little secret thrills , sneezes , squints <br> , and trances of the page who was about <br> to lie at her feet , separated from her <br> by the jump of an old flea ; and <br> in fact she advanced so much and so near <br> the square of velvet where the poor child should <br> kneel , whose life and soul she trifled with <br> , that had he been a saint of stone <br> , his glance would have been constrained to follow <br> the flexousities of the dress in order to admire <br> and re - admire the perfections and beauties of <br> the shapely leg , which moulded the white stocking <br> of the seneschal 's lady .",
           "making opened fond eyes",
           "('preparations', 'NOUN')",
           "NA",
           "NA",
           "NA",
           "NA",
           "NA",
           "NA",
           -7.820820698882242
          ],
          [
           [
            "eager",
            "ADJ"
           ],
           "hear",
           80,
           35,
           -1.1926450779423958,
           "<br> occasionally she would draw the attention of her aunt <br> to some view of particular interest ; and if <br> her eager voice caught the attention of antonio , <br> and he turned to gaze , to ponder , <br> and to admire -- then julia felt happy indeed <br> , for then it was that she felt the <br> indescribable bliss of sharing our pleasures with those we <br> love .",
           "eager voice caught antonio",
           "('attention', 'NOUN')",
           "NA",
           "NA",
           "NA",
           "NA",
           "NA",
           "NA",
           -7.8947399970413015
          ],
          [
           [
            "suddenly",
            "ADV"
           ],
           "hear",
           145,
           62,
           -1.2257127796280591,
           "<br> may at last dropt the hedgehog ; continuing , <br> however , to pat it with her delicate cat <br> - like paw , cautiously and daintily applied , <br> and caught back suddenly and rapidly after every touch <br> , as if her poor captive had been a <br> red - hot coal .",
           "daintily applied suddenly rapidly",
           "('caught', 'VERB')",
           "<br> suddenly he heard a groan -- his teeth chattered <br> , and his knees smote against the saddle : <br> it was but the rubbing of one huge bough <br> upon another , as they were swayed about by <br> the breeze .",
           "suddenly groan",
           "('heard', 'VERB')",
           "<br> suddenly the voice of young edwards was heard shouting <br> in those appalling tones that carry alarm to the <br> very soul , and which curdle the blood of <br> those that hear them .  ",
           "suddenly young edwards",
           "('voice', 'NOUN')",
           9.901668216106579
          ],
          [
           [
            "usual",
            "ADJ"
           ],
           "hear",
           115,
           49,
           -1.2307802068291671,
           "<br> as the labor of drawing the net had been <br> very great , he directed one party of his <br> men to commence throwing the fish into piles , <br> preparatory to the usual division , while another , <br> under the superintendence of benjamin , prepared the seine <br> for a second haul .     ",
           "fish piles usual division",
           "('preparatory', 'ADJ')",
           "<br> but the usual fate of anne attended her , <br> in having something very opposite from her inclination fixed <br> on .  ",
           "usual fate anne having",
           "('attended', 'VERB')",
           "<br> at the appointed hour the lovers met , and <br> their interview was protracted beyond that at which they <br> usually parted , by the delay of the priest <br> to ring his usual curfew .",
           "priest usual curfew",
           "('ring', 'VERB')",
           -6.368489884649801
          ],
          [
           [
            "surprised",
            "ADJ"
           ],
           "hear",
           74,
           31,
           -1.2552570552420745,
           "<br> the house was cleared yesterday , except of the <br> little harvilles ; but you will be surprised to <br> hear they have never gone home .  ",
           "surprised gone",
           "('hear', 'VERB')",
           "<br> the marquis and his daughter , both believing that <br> m. de mauny 's murderer was a prisoner above <br> , thought that one of the maids had come <br> down , and no one was at all surprised <br> to hear the door open in the ante - <br> chamber .",
           "surprised door open",
           "('hear', 'VERB')",
           "NA",
           "NA",
           "NA",
           -3.704222097394999
          ],
          [
           [
            "word",
            "NOUN"
           ],
           "hear",
           172,
           72,
           -1.2563397532597855,
           "<br> he caught the word ; it seemed to rouse <br> him at once , and saying only-- \" true <br> , true , a surgeon this instant , \" <br> was darting away , when anne eagerly suggested--   <br> \" captain benwick , would not it be better <br> for captain benwick ?  ",
           "word",
           "('caught', 'VERB')",
           "<br> the lady having heard every word , had folded <br> up all her clothes , and put them under <br> the bolster , had taken off her chemise , <br> that her husband should not recognise it , had <br> twisted her head up in a sheet , and <br> had brought to light the carnal convexities which commenced <br> where her spine finished .  ",
           "lady having word",
           "('heard', 'VERB')",
           "<br> \" then , master , \" said bucklaw , <br> \" though i should be sorry to offer it <br> to a man of your quality , if you <br> will not justify your incivility , or retract it <br> , or name a place of meeting , you <br> must here undergo the hard word and the hard <br> blow .",
           "word hard",
           "('blow', 'NOUN')",
           -9.307524729323884
          ],
          [
           [
            "gentle",
            "ADJ"
           ],
           "hear",
           122,
           51,
           -1.2583119955913906,
           "<br> \" and when do you play upon this gentle <br> flute ? \" said the canon .  ",
           "gentle flute",
           "('play', 'VERB')",
           "NA",
           "NA",
           "NA",
           "NA",
           "NA",
           "NA",
           4.551919887069179
          ],
          [
           [
            "bed",
            "NOUN"
           ],
           "hear",
           82,
           34,
           -1.2700891633677442,
           "<br> \" he is ill , \" said delafield , <br> far from feeling quite easy at the evident interest <br> that the lady exhibited ; \" he is ill <br> , and should be in his bed , instead <br> of attending the morning levees of even miss henly <br> .",
           "bed instead morning levees",
           "('attending', 'VERB')",
           "<br> and rising suddenly from the table to prepare for <br> bed , gauttier showed to the venetian the finest <br> talisman to procure joy that he had ever seen <br> .  ",
           "table bed gauttier",
           "('prepare', 'VERB')",
           "NA",
           "NA",
           "NA",
           17.616348985700174
          ],
          [
           [
            "ready",
            "ADJ"
           ],
           "hear",
           85,
           35,
           -1.2801079191927354,
           "<br> a repetition of the offer of refreshment , with <br> the addition , that the family meal would be <br> presently ready , compelled his attention , and reminded <br> him that he acted a weak , perhaps even <br> a ridiculous , part in suffering himself to be <br> overcome by the circumstances in which he found himself <br> .",
           "ready compelled reminded",
           "('attention', 'NOUN')",
           "<br> as her carriage , therefore , stopped , the <br> arm of the attentive husband was ready to assist <br> lady ashton in dismounting .",
           "arm husband ready",
           "('attentive', 'ADJ')",
           "NA",
           "NA",
           "NA",
           7.1355800051462275
          ],
          [
           [
            "john",
            "PROPN"
           ],
           "hear",
           73,
           30,
           -1.282933963271499,
           "<br> the young man , i hear , lives with <br> john and natty bumppo , and it ’s always <br> best to humor a patient , when it can <br> be done discreetly —",
           "young man lives john",
           "('hear', 'VERB')",
           "<br> i wo n’t ; it has taken to the <br> water on its own natur’ , which is the <br> reason that god has given to a deer , <br> and i ’ll give it the lake play ; <br> so , john , lay out your arm , <br> and mind the turn of the buck ; it <br> ’s easy to catch them , but they ’ll <br> turn like a snake .",
           "lake john",
           "('play', 'NOUN')",
           "<br> the indian looked steadily at her for some time <br> without answering , and then , shaking his head <br> , he replied , in his low , guttural <br> tones :   “ john ’s hand can make <br> baskets no more — he wants no shirt .",
           "low guttural john",
           "('tones', 'NOUN')",
           -1.8568089800997039
          ],
          [
           [
            "care",
            "NOUN"
           ],
           "hear",
           77,
           31,
           -1.3125902303080261,
           "<br> my lord , \" she continued , in an <br> impressive and solemn tone , \" take care what <br> you do ; you are on the brink of <br> a precipice . \"  ",
           "impressive solemn care",
           "('tone', 'NOUN')",
           "NA",
           "NA",
           "NA",
           "NA",
           "NA",
           "NA",
           7.648246631237392
          ],
          [
           [
            "presently",
            "ADV"
           ],
           "hear",
           79,
           31,
           -1.3495844377902277,
           "<br> but we shall have noise enough presently : may <br> has stopped at lizzy 's door ; and",
           "shall presently",
           "('noise', 'NOUN')",
           "<br> but presently our voice       was turn'd to mourning <br> for that little time       that she 'd enjoy <br> : she waned in her prime ,       for <br> atropus , with her impartial knife ,       soon <br> cut her thread , and therewithal her life ; <br>      ",
           "presently turn'd",
           "('voice', 'NOUN')",
           "NA",
           "NA",
           "NA",
           -4.4306877825771895
          ],
          [
           [
            "received",
            "VERB"
           ],
           "hear",
           87,
           34,
           -1.3554806545983888,
           "<br> it was seen and ascertained that , in her <br> most graceful courtesies and compliments , lady ashton no <br> more lost sight of her object than the falcon <br> in his airy wheel turns his quick eyes from <br> his destined quarry ; and hence , somethign of <br> doubt and suspicion qualified the feelings with which her <br> equals received her attentions .",
           "equals received",
           "('attentions', 'NOUN')",
           "NA",
           "NA",
           "NA",
           "NA",
           "NA",
           "NA",
           9.199021625404951
          ],
          [
           [
            "melancholy",
            "ADJ"
           ],
           "hear",
           108,
           42,
           -1.3625700793847082,
           "<br> \" it was down there , \" he said <br> , in a melancholy voice , indicating as he <br> spoke a cluster of walnut trees by the roadside <br> , \" that i , a prisoner , saw <br> you for the first time . \"  ",
           "melancholy indicating",
           "('voice', 'NOUN')",
           "<br> as he pronounced these words , in a firm <br> yet melancholy tone , he raised his eyes , <br> and suddenly encountered those of lucy ashton , who <br> had stolen unawares on their interview , and observed <br> her looks fastened on them with an expression of <br> enthusiastic interest and admiration , which had wrapt her <br> for the moment beyond the fear of discovery .",
           "firm melancholy raised",
           "('tone', 'NOUN')",
           "<br> \" and is it even so ? \" said <br> the old woman , in an altered but melancholy <br> tone , \" then god help you both ! <br> \"  ",
           "altered melancholy god",
           "('tone', 'NOUN')",
           -0.10810344136140669
          ],
          [
           [
            "possible",
            "ADJ"
           ],
           "hear",
           111,
           43,
           -1.368151111648008,
           "<br> this could not be done without an ample breakfast <br> , in which cold meat and hot meat , <br> and oatmeal flummery , wine and spirits , and <br> milk varied by every possible mode of preparation , <br> evinced the same desire to do honour to their <br> guests which had been shown by the hospitable owners <br> of the mansion upon the evening before .",
           "possible mode evinced",
           "('preparation', 'NOUN')",
           "NA",
           "NA",
           "NA",
           "NA",
           "NA",
           "NA",
           1.6712171102348734
          ],
          [
           [
            "distance",
            "NOUN"
           ],
           "hear",
           141,
           54,
           -1.384663850235325,
           "<br> the elegant little clock on the mantel - piece <br> had struck \" eleven with its silver sounds , <br> \" and the watchman was beginning to be heard <br> at a distance telling the same tale , before <br> mr elliot or any of them seemed to feel <br> that he had been there long .  ",
           "beginning distance telling",
           "('heard', 'VERB')",
           "<br> the hard frost had purified the air , and <br> held the earth in its grip ; the roads <br> gave back every sound with the hard metallic ring <br> which always strikes us with a new surprise ; <br> the heavy footsteps of some belated reveler , or <br> a cab returning to paris , could be heard <br> for a long distance with unwonted distinctness .",
           "paris long distance",
           "('heard', 'VERB')",
           "<br> an attendant waited at some distance , and the <br> whole equipment was that of an elderly gentleman of <br> rank and fashion .",
           "waited distance",
           "('attendant', 'NOUN')",
           -6.118630857552771
          ],
          [
           [
            "said",
            "VERB"
           ],
           "hear",
           991,
           379,
           -1.3866872090153963,
           "<br> \" the place can not have blown up , <br> \" said the master ; \" we must have <br> heard the report : if a quarter of the <br> gunpowder was there you tell me of , it <br> would have been heard twenty miles off . \" <br>  ",
           "place said",
           "('blown', 'VERB')",
           "NA",
           "NA",
           "NA",
           "NA",
           "NA",
           "NA",
           -7.087495805326411
          ],
          [
           [
            "strange",
            "ADJ"
           ],
           "hear",
           126,
           48,
           -1.3923174227787602,
           "<br> they are given to all kinds of marvellous beliefs <br> , are subject to trances and visions , and <br> frequently see strange sights , and hear music and <br> voices in the air .",
           "strange sights music voices",
           "('hear', 'VERB')",
           "<br> i hear strange stories of her ; she is <br> always upon the gad ; and from my own <br> knowledge , i can declare , she is such <br> a fine - dressing lady , that she is <br> enough to ruin any servants she comes near . <br>  ",
           "strange stories",
           "('hear', 'VERB')",
           "<br> hearing these strange words the ladies was so surprised <br> that at first they did not perceive that the <br> seneschal 's widow was dead , without its ever <br> been known if her sudden death was caused by <br> her sorrow at the departure of her lover , <br> who , faithful to his vow , did not <br> wish to see her , or from great joy <br> at his return and the hope of getting the <br> interdict removed which the abbot of marmoustiers had placed <br> upon their loves .",
           "strange words",
           "('hearing', 'VERB')",
           10.363278791537464
          ],
          [
           [
            "ears",
            "NOUN"
           ],
           "hear",
           171,
           65,
           -1.3954847018574434,
           "<br> all this lady ashton drank in with willing and <br> attentive ears , resolving internally to be herself the <br> person who should take the management of the political <br> influence of her destined son - in - law <br> , for the benefit of her eldest - born <br> , sholto , and all other parties concerned . <br>  ",
           "willing ears resolving internally",
           "('attentive', 'ADJ')",
           "NA",
           "NA",
           "NA",
           "NA",
           "NA",
           "NA",
           -10.959346348320727
          ],
          [
           [
            "necessary",
            "ADJ"
           ],
           "hear",
           88,
           33,
           -1.415037499278844,
           "<br> miss emmerson had been educated immediately after the war <br> of the revolution , and at a time when <br> the intellect of the women of this country by <br> no means received that attention it is thought necessary <br> to bestow on the minds of the future mothers <br> of our families at the present hour ; and <br> when , indeed , the country itself required too <br> much of the care of her rulers and patriots <br> to admit of the consideration of lesser objects .",
           "means received thought necessary",
           "('attention', 'NOUN')",
           "<br> the train of little attentions , absolutely necessary to <br> soothe the young lady 's mind , and aid <br> her in composing her spirits , necessarily threw the <br> master of ravenswood into such an intercourse with her <br> father as was calculated , for the moment at <br> least , to break down the barrier of feudal <br> enmity which divided them .",
           "train little absolutely necessary",
           "('attentions', 'NOUN')",
           "<br> at other times he busied himself about arranging , <br> and countermanding , and then again arranging , the <br> preparations which he judged necessary for the reception of <br> the marquis of a---- , whose arrival had been <br> twice delayed by some necessary cause of detention . <br>  ",
           "arranging judged necessary",
           "('preparations', 'NOUN')",
           5.433231380657697
          ],
          [
           [
            "emily",
            "ADV"
           ],
           "hear",
           107,
           40,
           -1.4195388915137848,
           "<br> emily listened to agnes , in silent awe , <br> while she still examined the miniature , and became <br> confirmed in her opinion of its strong resemblance to <br> the portrait at udolpho .",
           "emily agnes",
           "('listened', 'VERB')",
           "NA",
           "NA",
           "NA",
           "NA",
           "NA",
           "NA",
           -11.034153267362603
          ],
          [
           [
            "seen",
            "VERB"
           ],
           "hear",
           210,
           77,
           -1.4474589769712214,
           "<br> babie performed her mistress 's command with the grace <br> which was naturally to have been expected , moving <br> to and fro with a lobster - like gesture <br> , her feet and legs tending one way , <br> while her head , turned in a different direction <br> , was fixed in wonder upon the laird , <br> who was more frequently heard of than seen by <br> his tenants and dependants .",
           "frequently seen",
           "('heard', 'VERB')",
           "<br> lockhard had his orders to endeavour on his part <br> to make some acquaintance with the inmates of the <br> castle , and we have seen how he played <br> his part .  ",
           "seen",
           "('played', 'VERB')",
           "<br> and though i never saw ravenswood fence , have <br> i not been at monsieur sagoon 's school , <br> who was the first maitre d'armes at paris ; <br> and have i not been at signor poco 's <br> at florence , and meinheer durchstossen 's at vienna <br> , and have i not seen all their play <br> ? \"  ",
           "seen",
           "('play', 'NOUN')",
           -3.193458995769158
          ],
          [
           [
            "children",
            "NOUN"
           ],
           "hear",
           140,
           51,
           -1.456857674973471,
           "<br> now here , now there , these children had <br> heard this picture of adam and eve spoken about <br> , and had tormented their mother to take them <br> there .",
           "children picture adam",
           "('heard', 'VERB')",
           "NA",
           "NA",
           "NA",
           "NA",
           "NA",
           "NA",
           4.379430354207957
          ],
          [
           [
            "silence",
            "NOUN"
           ],
           "hear",
           113,
           41,
           -1.462626957797104,
           "<br> but another person , of whose presence caleb , <br> in the animation of the debate , was not <br> aware , had listened in silence to its progress <br> .",
           "aware silence",
           "('listened', 'VERB')",
           "<br> the anxious statesman heard in silence ; but in <br> private lockhard received orders to watch the courier on <br> his return , to waylay him in the village <br> , to ply him with liquor , if possible <br> , and to use all means , fair or <br> foul , to learn the contents of the letter <br> of which he was the bearer .",
           "anxious statesman silence",
           "('heard', 'VERB')",
           "NA",
           "NA",
           "NA",
           4.645967046477436
          ],
          [
           [
            "catherine",
            "PROPN"
           ],
           "hear",
           94,
           34,
           -1.4671260104272978,
           "<br> said catherine in a faltering voice .  ",
           "catherine faltering",
           "('voice', 'NOUN')",
           "<br> this was just such a summary view of the <br> affair as catherine could listen to ; another sentence <br> might have endangered her complaisance , and made her <br> reply less rational ; for soon were all her <br> thinking powers swallowed up in the reflection of her <br> own change of feelings and spirits since last she <br> had trodden that well - known road .  ",
           "affair catherine sentence",
           "('listen', 'VERB')",
           "<br> henry 's indignation on hearing how catherine had been <br> treated , on comprehending his father 's views , <br> and being ordered to acquiesce in them , had <br> been open and bold .  ",
           "henry indignation catherine",
           "('hearing', 'VERB')",
           -11.617918759322912
          ],
          [
           [
            "like",
            "VERB"
           ],
           "hear",
           130,
           47,
           -1.4677789613508172,
           "<br> i should like to hear what she says to <br> all this ; for , rat me !",
           "like says",
           "('hear', 'VERB')",
           "<br> \" you may believe it is safely lodged with <br> me , master of ravenswood , \" said the <br> marquis ; \" but i should like well to <br> hear you say that you renounced the idea of <br> an alliance which you can hardly pursue without a <br> certain degree of degradation . \"  ",
           "like",
           "('hear', 'VERB')",
           "NA",
           "NA",
           "NA",
           24.353995085245
          ],
          [
           [
            "circumstances",
            "NOUN"
           ],
           "hear",
           106,
           38,
           -1.4799929411196138,
           "<br> thus hard pressed , the master offered to ride <br> forward to get matters put in such preparation as <br> time and circumstances admitted ; but the marquis protested <br> his kinsman must afford him his company , and <br> would only consent that an avant - courier should <br> carry to the desinted seneschal , caleb balderstone , <br> the unexpected news of this invasion .  ",
           "matters time circumstances",
           "('preparation', 'NOUN')",
           "<br> bucklaw afterwards went abroad , and never returned to <br> scotland ; nor was he known ever to hint <br> at the circumstances attending his fatal marriage .",
           "hint circumstances fatal marriage",
           "('attending', 'VERB')",
           "NA",
           "NA",
           "NA",
           1.307941485768554
          ]
         ],
         "hovertemplate": "literary_period=1700<br>Principal Component 1=%{x}<br>Principal Component 2=%{y}<br>word=%{customdata[0]}<br>modality=%{customdata[1]}<br>total_freq=%{customdata[2]}<br>total_freq_in_sense=%{customdata[3]}<br>PAI=%{customdata[4]}<br>Random Sentence 1=%{customdata[5]}<br>Random Context Window 1=%{customdata[6]}<br>Random Seed Words 1=%{customdata[7]}<br>Random Sentence 2=%{customdata[8]}<br>Random Context Window 2=%{customdata[9]}<br>Random Seed Words 2=%{customdata[10]}<br>Random Sentence 3=%{customdata[11]}<br>Random Context Window 3=%{customdata[12]}<br>Random Seed Words 3=%{customdata[13]}<extra></extra>",
         "legendgroup": "1700",
         "marker": {
          "color": "#ab63fa",
          "size": 12,
          "symbol": "circle"
         },
         "mode": "markers",
         "name": "1700",
         "orientation": "v",
         "showlegend": true,
         "type": "scatter",
         "x": [
          -0.002869513453505322,
          -1.581110731061058,
          -4.060440629537342,
          5.8411088592210065,
          3.4150032846903486,
          7.9401366960987225,
          -1.3600772078386223,
          1.7217533117647759,
          4.5024366171273655,
          -2.581169793597087,
          9.292869068966466,
          5.728835872426871,
          -2.7018322316412795,
          21.36835333204207,
          -2.643995377852245,
          -5.972922850595726,
          3.194981116041993,
          -2.0182160750333336,
          -3.044510684728849,
          -5.158782385189373,
          3.970133613622765,
          -5.575333958309506,
          14.340415931951766,
          16.654747335781583,
          13.768921282130625,
          13.967419445938729,
          3.1594325364888394,
          -1.371731216655363,
          24.356442138194417,
          -10.140919455872135,
          8.080395664520397,
          -14.095941665316944,
          25.07002330195743,
          7.182634629407189,
          -12.085762053901009,
          5.245873996145354,
          -1.071925807011039,
          -0.5533689041679075,
          -1.8821210130721802,
          -5.502195801246868,
          -4.390469328565114,
          18.85957310979147,
          -15.594857719484752,
          17.91394675329732,
          4.378839236518247,
          -9.743424855171856,
          1.1083562124955513,
          -11.088209595580397,
          -5.740856627023219,
          -4.959703220296658,
          15.942008062322762,
          -11.994255824458309,
          0.18917843510280166,
          22.741942663502577,
          -1.889565574731771,
          -11.699262333331168,
          -9.03063755736125,
          -15.898025780845382,
          -11.092562097530363,
          -7.393493599653324,
          -4.095786047265447,
          -8.98985881870525,
          -1.716819515960017,
          -1.2879584625000216,
          9.759786699235047,
          -10.093093811287439,
          23.697115353198246,
          -6.064499620497359,
          -8.875589127943366,
          -6.96346326033153,
          -12.175029654917015,
          -15.658885280816312,
          9.246038617918089,
          -7.820820698882242,
          -7.8947399970413015,
          9.901668216106579,
          -6.368489884649801,
          -3.704222097394999,
          -9.307524729323884,
          4.551919887069179,
          17.616348985700174,
          7.1355800051462275,
          -1.8568089800997039,
          7.648246631237392,
          -4.4306877825771895,
          9.199021625404951,
          -0.10810344136140669,
          1.6712171102348734,
          -6.118630857552771,
          -7.087495805326411,
          10.363278791537464,
          -10.959346348320727,
          5.433231380657697,
          -11.034153267362603,
          -3.193458995769158,
          4.379430354207957,
          4.645967046477436,
          -11.617918759322912,
          24.353995085245,
          1.307941485768554
         ],
         "xaxis": "x",
         "y": [
          7.398418459605109,
          11.62940185800061,
          12.773901575421075,
          2.6491926490791307,
          12.989037780822468,
          0.263184709217625,
          5.911975326859461,
          -7.014840675981805,
          0.17981884073042173,
          0.08426833563488106,
          8.513993440191834,
          14.909657910710095,
          5.322922524702747,
          -2.769427090103994,
          -5.837428004537204,
          -10.967885820568341,
          -2.6564590698749058,
          14.898456119360905,
          13.241518118311014,
          5.917594516969561,
          -12.593570539761325,
          -8.407055902959646,
          -7.281042907036444,
          0.9740408599162245,
          -5.313423269541234,
          -4.811971176352809,
          -6.079645599262935,
          -12.881210562406183,
          1.5417464228211915,
          4.450829859702496,
          3.15499513962148,
          5.541909779974815,
          4.289975557833224,
          -5.009174086122871,
          -7.570436137382776,
          2.096282205314036,
          -2.4364165945418126,
          2.699961585544397,
          3.7372135381000913,
          -5.499251495691197,
          7.177627451676474,
          -7.914669928845341,
          -6.7720502934353615,
          -1.197211259459864,
          -5.565708362337821,
          -5.663197810049625,
          8.26296863939644,
          -10.821910043463744,
          -0.6927859735695391,
          10.94393888471193,
          -6.902989151953019,
          4.397333146760873,
          12.674151798396672,
          5.047190082264826,
          10.600674023118247,
          2.733022218691689,
          -4.194194980172794,
          -2.021661404270972,
          3.6571728419883045,
          -3.8453486404204256,
          10.53287718482521,
          6.598282077561982,
          9.623347946424436,
          5.046267273762404,
          -12.05171949245892,
          -5.861466163683146,
          4.194220376290064,
          -4.736770459065205,
          5.983316616357962,
          0.22799109633848652,
          -1.8922128502272229,
          -5.070445463643033,
          0.19595476627836123,
          1.8344529930532782,
          5.362674498390202,
          12.000605119115018,
          2.7010637944246265,
          -13.809092798760586,
          -8.92732158895368,
          -6.144240960317139,
          -5.2931290160198525,
          -12.165100248786546,
          15.84095736781705,
          -6.6412752904609045,
          13.098263538157573,
          0.7634008417477287,
          -14.71932429254227,
          3.6595119480773146,
          -8.412585011644492,
          14.06460415733041,
          -1.6844871615475363,
          -7.963764645312697,
          -15.563623283444878,
          -7.859657167981404,
          -3.8086543226908174,
          -12.706648061664865,
          8.649790449309657,
          1.3807236855769933,
          2.0775613765662646,
          5.322623906872663
         ],
         "yaxis": "y"
        },
        {
         "customdata": [
          [
           [
            "cribbage",
            "NOUN"
           ],
           "hear",
           40,
           40,
           0,
           "<br> \" play cribbage , euchre , anything you like <br> ; \" and frank obligingly disinterred himself from under <br> the folios , feeling that it _ was",
           "cribbage euchre",
           "('play', 'NOUN')",
           "NA",
           "NA",
           "NA",
           "NA",
           "NA",
           "NA",
           -10.853302637118581
          ],
          [
           [
            "hear",
            "PROPN"
           ],
           "hear",
           37,
           37,
           0,
           "<br> the cat that walked by himself   hear and <br> attend and listen ; for this befell and behappened <br> and became and was , o my best beloved <br> , when the tame animals were wild .",
           "hear attend befell",
           "('listen', 'VERB')",
           "<br> \" hear , hear ! \" said mr. browne <br> loudly .  ",
           "hear said mr.",
           "('hear', 'VERB')",
           "NA",
           "NA",
           "NA",
           37.76454681413992
          ],
          [
           [
            "nasal",
            "ADJ"
           ],
           "hear",
           86,
           85,
           -0.016873818564396213,
           "<br> it carried him back , upon the instant , <br> to a certain fair - day in a fishers <br> ' village : a gray day , a piping <br> wind , a crowd upon the street , the <br> blare of brasses , the booming of drums , <br> the nasal voice of a ballad singer ; and <br> a boy going to and fro , buried over <br> head in the crowd and divided between interest and <br> fear , until , coming out upon the chief <br> place of concourse , he beheld a booth and <br> a great screen with pictures , dismally designed , <br> garishly coloured : brown - rigg with her apprentice <br> ; the mannings with their murdered guest ; weare <br> in the death - grip of thurtell ; and <br> a score besides of famous crimes .  ",
           "drums nasal ballad singer",
           "('voice', 'NOUN')",
           "<br> bender spoke with a nasal twang which i am <br> now inclined to   think he paraded as an <br> accessory to the over - dignified drawl he affected <br> in   the class - room .",
           "spoke nasal",
           "('twang', 'NOUN')",
           "<br> but she stumbled on , up the main road <br> to the corners , down the \" turn - <br> off , \" past the chapel of the come <br> - outers , from the open window of which <br> sounded the drone of a high , nasal voice <br> .",
           "high nasal",
           "('voice', 'NOUN')",
           -14.814835387775956
          ],
          [
           [
            "louder",
            "ADJ"
           ],
           "hear",
           189,
           186,
           -0.023083613113041343,
           "<br> then in a louder voice , \" never fear <br> !",
           "louder fear",
           "('voice', 'NOUN')",
           "<br> ” was doña rita ’s answer , in a <br> louder tone than i had ever heard her use <br> before .  ",
           "louder",
           "('tone', 'NOUN')",
           "<br> she repeated in a louder voice .  ",
           "repeated louder",
           "('voice', 'NOUN')",
           22.023261401439818
          ],
          [
           [
            "squeaky",
            "ADJ"
           ],
           "hear",
           45,
           44,
           -0.03242147769237751,
           "<br> i heard him playing -- thin , squeaky music <br> it was like you 'd be blowing out of <br> a tin whistle .",
           "thin squeaky",
           "('music', 'NOUN')",
           "NA",
           "NA",
           "NA",
           "NA",
           "NA",
           "NA",
           -2.711429481223476
          ],
          [
           [
            "husky",
            "NOUN"
           ],
           "hear",
           37,
           36,
           -0.03952836418663734,
           "<br> this did not save me from more jokes , <br> either ; for a husky - voiced gentleman with <br> a rough face , who had been eating out <br> of a sandwich - box nearly all the way <br> , except when he had been drinking out of <br> a bottle , said i was like a boa <br> - constrictor who took enough at one meal to <br> last him a long time ; after which , <br> he actually brought a rash out upon himself with <br> boiled beef .",
           "husky gentleman rough",
           "('voiced', 'ADJ')",
           "<br> i want to tell you about this paint , <br> \" he added , in a voice husky with <br> the feeling that his hearer could not divine . <br>  ",
           "added husky feeling",
           "('voice', 'NOUN')",
           "<br> \" do n't say that , major , \" <br> he said , in a voice husky with emotion <br> . \"",
           "said husky emotion",
           "('voice', 'NOUN')",
           11.472365810742144
          ],
          [
           [
            "quavering",
            "NOUN"
           ],
           "hear",
           34,
           33,
           -0.04306872189188598,
           "<br> he had suddenly become like an old man ; <br> his deep bass voice had a quavering in it <br> , his eyes looked dim , and the lines <br> on his face were deep .  ",
           "deep bass quavering",
           "('voice', 'NOUN')",
           "<br> hi seed the time hi'd ' a ' stopped <br> yer jorrin ' , dave ! \" said a <br> quavering voice , dominating some argument at the other <br> end of the table . \"",
           "said quavering dominating argument",
           "('voice', 'NOUN')",
           "<br> then she played the prelude and said \" now <br> , maria ! \" and maria , blushing very <br> much began to sing in a tiny quavering voice <br> .",
           "tiny quavering",
           "('voice', 'NOUN')",
           1.523403133144624
          ],
          [
           [
            "gruff",
            "ADJ"
           ],
           "hear",
           198,
           192,
           -0.044394119358453395,
           "<br> \" i know not , \" continued dupin , <br> \" what impression i may have made , so <br> far , upon your own understanding ; but i <br> do not hesitate to say that legitimate deductions even <br> from this portion of the testimony -- the portion <br> respecting the gruff and shrill voices -- are in <br> themselves sufficient to engender a suspicion which should give <br> direction to all farther progress in the investigation of <br> the mystery .",
           "gruff shrill",
           "('voices', 'NOUN')",
           "<br> but they neither   looked nor spoke like cossacks <br> , so their gruff voices were part of the <br>   uncanny scheme of things that surrounded me .",
           "gruff",
           "('voices', 'NOUN')",
           "<br> a gruff voice sounded behind him , rude , <br> authoritative , as if trying to banish the doubts <br> of the audience .",
           "gruff sounded",
           "('voice', 'NOUN')",
           -0.7046804874323993
          ],
          [
           [
            "napping",
            "VERB"
           ],
           "hear",
           58,
           56,
           -0.050626073069967956,
           "<br> but the sergeant major was too old a soldier <br> to be caught napping .",
           "soldier napping",
           "('caught', 'VERB')",
           "<br> it would be like her , after all , <br> to wave then , that very night , just <br> so as to catch him napping , he thought <br> .",
           "napping",
           "('catch', 'VERB')",
           "NA",
           "NA",
           "NA",
           -30.27615698222922
          ],
          [
           [
            "contralto",
            "ADJ"
           ],
           "hear",
           54,
           52,
           -0.05444778402237647,
           "<br> i met her the other night at a tea <br> - party ; she had a white rose in <br> her hair , and sang a sentimental ballad in <br> a fine contralto voice . \"  ",
           "fine contralto",
           "('voice', 'NOUN')",
           "NA",
           "NA",
           "NA",
           "NA",
           "NA",
           "NA",
           25.32122273517424
          ],
          [
           [
            "thundering",
            "ADJ"
           ],
           "hear",
           53,
           51,
           -0.055495112591703574,
           "<br> but the people joined not in those cheers , <br> and , as the exulting shouts ceased , there <br> swelled up to the laurel - crowned poetess , <br> from thousands of voices , a thundering laugh of <br> scorn , and this scornful laugh , this hissing <br> and howling of the people , accompanied her upon <br> her return from the capitol , following her through <br> the streets to her own door .",
           "thousands thundering laugh",
           "('voices', 'NOUN')",
           "<br> \" i am ready to obey you in every <br> thing except that . \"   \" in that <br> as in every thing else , \" interrupted the <br> cashier of the mutual credit in a thundering voice <br> .  ",
           "credit thundering",
           "('voice', 'NOUN')",
           "<br> poor humanity , crazed with fear , was fleeing <br> in all directions on hearing the thundering pace of <br> the plague , war , hunger and death .",
           "directions thundering pace",
           "('hearing', 'VERB')",
           -7.732609419029885
          ],
          [
           [
            "stentorian",
            "ADJ"
           ],
           "hear",
           132,
           127,
           -0.05570943258628753,
           "<br> \" come and see , \" cried one of <br> the beasts in a stentorian tone to the vision <br> - seeing poet . . . .",
           "beasts stentorian vision",
           "('tone', 'NOUN')",
           "NA",
           "NA",
           "NA",
           "NA",
           "NA",
           "NA",
           -14.20699636829552
          ],
          [
           [
            "babel",
            "NOUN"
           ],
           "hear",
           50,
           48,
           -0.058893689053568565,
           "<br> there was a jam and a   babel of <br> voices .",
           "babel",
           "('voices', 'NOUN')",
           "NA",
           "NA",
           "NA",
           "NA",
           "NA",
           "NA",
           -31.701233141718433
          ],
          [
           [
            "stifled",
            "ADJ"
           ],
           "hear",
           50,
           48,
           -0.058893689053568565,
           "<br> said a stifled voice .  ",
           "said stifled",
           "('voice', 'NOUN')",
           "<br> finally he stammered , in a stifled voice , <br> \" harry , did you say an inquest ? <br>  ",
           "stifled harry",
           "('voice', 'NOUN')",
           "NA",
           "NA",
           "NA",
           -24.062324556577348
          ],
          [
           [
            "knocking",
            "NOUN"
           ],
           "hear",
           46,
           44,
           -0.06413033741971558,
           "<br> at the hours when bellingham had been accustomed to <br> visit him , he took care to sport his <br> oak , and though he more than once heard <br> a knocking at his outer door , he resolutely <br> refused to answer it .  ",
           "knocking",
           "('heard', 'VERB')",
           "<br> and so while they were sitting up to their <br> knees in gold , a knocking was heard at <br> the street door , and who should it be <br> but bobbo , also on horseback with his bride <br> in his arms , and what had he come <br> to say but that he would take ( at <br> double rent ) all the lodgings for ever , <br> that were not wanted by this a boy and <br> this gran and this godfather , and that they <br> would all live together , and all be happy <br> !",
           "knocking street door",
           "('heard', 'VERB')",
           "NA",
           "NA",
           "NA",
           42.257254274601664
          ],
          [
           [
            "droning",
            "VERB"
           ],
           "hear",
           41,
           39,
           -0.07214978575583542,
           "<br> he began to speak of other matters in a <br> low , droning voice , like a man who <br> converses with himself .  ",
           "low droning man",
           "('voice', 'NOUN')",
           "NA",
           "NA",
           "NA",
           "NA",
           "NA",
           "NA",
           -0.28839781860229785
          ],
          [
           [
            "sing",
            "NOUN"
           ],
           "hear",
           102,
           97,
           -0.07251249978436798,
           "<br> \" o , i 'd give anything to hear <br> caruso sing , \" said mary jane .  ",
           "caruso sing",
           "('hear', 'VERB')",
           "<br> he renewed his friendship with osmond , no longer <br> started at the entrance of sir eric , laughed <br> at alberic 's merry ways , and liked to <br> sit on fru astrida 's lap , and hear <br> her sing , though he understood not one word <br> ; but his especial love was still for his <br> first friend , duke richard .",
           "lap sing",
           "('hear', 'VERB')",
           "<br> they throng the opera house every night to hear <br> her sing , and they pay her the biggest <br> salary which has ever been known here .  ",
           "house night sing",
           "('hear', 'VERB')",
           15.46795091907875
          ],
          [
           [
            "strident",
            "ADJ"
           ],
           "hear",
           80,
           76,
           -0.07400058144377693,
           "<br> from his throat issued a hoarse voice and strident <br> laughter ; he smelt of the cow - shed <br> .",
           "throat issued hoarse strident laughter",
           "('voice', 'NOUN')",
           "<br> he cried , in a hoarse and strident voice <br> .  ",
           "hoarse strident",
           "('voice', 'NOUN')",
           "<br> he insisted upon opening the door wide , and <br> getting bunker to address him as \" tollyvoddle , <br> \" in a strident voice , \" so zat <br> zey all may hear , \" and then answering <br> in a firm \" yes , count bonker , <br> vat",
           "strident zat",
           "('voice', 'NOUN')",
           4.848170827704295
          ],
          [
           [
            "creaking",
            "NOUN"
           ],
           "hear",
           59,
           56,
           -0.07528812730423712,
           "<br> after a long period she heard a creaking of <br> the chamber floor and stairs at the other end <br> of the house , and knew that the farmer <br> 's family were getting up .  ",
           "long period creaking",
           "('heard', 'VERB')",
           "<br> there was emotion here , he had heard the <br> armchair creaking , and mrs. milton , whose face <br> was flushed , displayed a suspicious alacrity to explain <br> .",
           "armchair creaking",
           "('heard', 'VERB')",
           "NA",
           "NA",
           "NA",
           -22.812765134153015
          ],
          [
           [
            "hoarse",
            "NOUN"
           ],
           "hear",
           39,
           37,
           -0.07594885323329863,
           "<br> \" asked mary again , in the same hoarse <br> , feeble voice , and turning it over in <br> her fingers , as if she dreaded to inform <br> herself of its meaning .  ",
           "hoarse feeble turning",
           "('voice', 'NOUN')",
           "NA",
           "NA",
           "NA",
           "NA",
           "NA",
           "NA",
           9.826138705762869
          ],
          [
           [
            "quavering",
            "VERB"
           ],
           "hear",
           97,
           92,
           -0.07635088613011487,
           "<br> then a voice , weak and quavering , said <br> :   \" gimme a drink !",
           "weak quavering",
           "('voice', 'NOUN')",
           "NA",
           "NA",
           "NA",
           "NA",
           "NA",
           "NA",
           36.48387213531076
          ],
          [
           [
            "husky",
            "ADJ"
           ],
           "hear",
           306,
           290,
           -0.07747875267771735,
           "<br> it seemed a pity that matilda could not   <br> see me now   one of the trifles that <br> have remained embedded in my memory from those days <br>   is the image of a big , florid <br> - faced huckster shouting at the top of his <br>   husky voice : \" strawberri - i - <br> ies , strawberri - i - ies , five <br> cents a quart ! \"  ",
           "husky strawberri",
           "('voice', 'NOUN')",
           "<br> with a husky voice that trembled as he spoke <br> , he said--   \" i think , sir <br> , yo're keeping company wi ' a young woman <br> called mary barton ? \"  ",
           "husky trembled",
           "('voice', 'NOUN')",
           "<br> \" i wish ye was n't goin' away , <br> \" he said in a husky voice .",
           "said husky",
           "('voice', 'NOUN')",
           -16.007252086897243
          ],
          [
           [
            "croaking",
            "VERB"
           ],
           "hear",
           38,
           36,
           -0.07800251200127321,
           "<br> they found a jellyfish -- a pulpy translucent mass <br> ; and once even caught a sight of a <br> seal in the hollow of a breaker , with <br> sleek and shining head , his barbels bristling , <br> and heard his hoarse croaking bark as he hunted <br> the off - shore fish .  ",
           "barbels bristling hoarse croaking bark",
           "('heard', 'VERB')",
           "<br> \" but you won out , my boy , <br> \" said his father in a croaking voice , <br> putting his arm round his son .  ",
           "father croaking putting arm",
           "('voice', 'NOUN')",
           "<br> the wizened one called in croaking tones :  ",
           "called croaking",
           "('tones', 'NOUN')",
           -26.495385180618435
          ],
          [
           [
            "shrill",
            "ADV"
           ],
           "hear",
           38,
           36,
           -0.07800251200127321,
           "<br> evidently , they were not all like ezekiel and <br> the shrill - voiced woman .  ",
           "shrill woman",
           "('voiced', 'ADJ')",
           "NA",
           "NA",
           "NA",
           "NA",
           "NA",
           "NA",
           -33.512374839645084
          ],
          [
           [
            "checkers",
            "NOUN"
           ],
           "hear",
           37,
           35,
           -0.08017034868398333,
           "<br> what david did know , however , was that <br> just after eight , mr. jack strode through the <br> room where he and jill were playing checkers , <br> flung himself into his hat and coat , and <br> then fairly leaped down the steps toward the path <br> that led to the footbridge at the bottom of <br> the hill .  ",
           "jill checkers flung",
           "('playing', 'VERB')",
           "NA",
           "NA",
           "NA",
           "NA",
           "NA",
           "NA",
           -27.00903450536108
          ],
          [
           [
            "hoarse",
            "ADJ"
           ],
           "hear",
           739,
           699,
           -0.08028190877071448,
           "<br> desnoyers heard shouts , and it seemed to him <br> that some hoarse , discordant voices were singing the <br> marseillaise .",
           "hoarse discordant singing marseillaise",
           "('voices', 'NOUN')",
           "<br> asked the capitaine in a hoarse voice .  ",
           "capitaine hoarse",
           "('voice', 'NOUN')",
           "<br> \" mr. morrison , sir , \" he said <br> , dropping his voice to a hoarse whisper , <br> \" he followed the other chap out within thirty <br> seconds .  ",
           "said dropping hoarse whisper",
           "('voice', 'NOUN')",
           -7.5594254118459405
          ],
          [
           [
            "undivided",
            "ADJ"
           ],
           "hear",
           71,
           67,
           -0.08365792904690969,
           "<br> it is , however , equally urgent that a <br> woman should be skilled to keep a man in <br> his proper place , and to this thesis brigid <br> gave an undivided attention .  ",
           "brigid gave undivided",
           "('attention', 'NOUN')",
           "NA",
           "NA",
           "NA",
           "NA",
           "NA",
           "NA",
           28.18440235431176
          ],
          [
           [
            "ringing",
            "NOUN"
           ],
           "hear",
           34,
           32,
           -0.08746284125033943,
           "<br> as he did so he heard the hurried ringing <br> of bells and voices in the room he had <br> quitted -- the young girl had evidently been discovered <br> -- and this would give him time .",
           "ringing bells room",
           "('voices', 'NOUN')",
           "<br> i hear your voice through a ringing of bells <br> , and a sound like a distant waterfall . <br>  ",
           "hear ringing",
           "('voice', 'NOUN')",
           "NA",
           "NA",
           "NA",
           -7.579365404760858
          ],
          [
           [
            "clink",
            "NOUN"
           ],
           "hear",
           67,
           63,
           -0.08880926695785589,
           "<br> the censer took up the note in its delicate <br> clink clink , as it swung to and fro <br> in the hands of a fair - haired child <br> .",
           "delicate clink swung",
           "('clink', 'NOUN')",
           "<br> back in the gloom of the cavern i heard <br> the clink of a little bell , and then <br> this exclamation :   \" hello central !  ",
           "cavern clink",
           "('heard', 'VERB')",
           "NA",
           "NA",
           "NA",
           -2.4065257915940172
          ],
          [
           [
            "clank",
            "NOUN"
           ],
           "hear",
           32,
           30,
           -0.09310940439148148,
           "<br> at length a rustling and rushing were heard ; <br> then a clank of armour .",
           "rustling rushing clank",
           "('heard', 'VERB')",
           "<br> the squeaky organ at vespers intoned the clank of <br> military accoutrements to her ears , the white bonnets <br> of the sisters about her faded into mists of <br> curling brown hair .  ",
           "squeaky organ vespers clank military",
           "('intoned', 'VERB')",
           "NA",
           "NA",
           "NA",
           -39.63323544863869
          ],
          [
           [
            "drawling",
            "NOUN"
           ],
           "hear",
           48,
           45,
           -0.09310940439148148,
           "<br> \" hullo , quatermain , \" he said in <br> his pleasant , drawling voice , \" here you <br> are , up to time .  ",
           "pleasant drawling",
           "('voice', 'NOUN')",
           "NA",
           "NA",
           "NA",
           "NA",
           "NA",
           "NA",
           -29.872778685891618
          ],
          [
           [
            "choked",
            "ADJ"
           ],
           "hear",
           32,
           30,
           -0.09310940439148148,
           "<br> \" do n't talk about leaving us , dear <br> , dear captain , jim , \" pleaded anne <br> , in a choked voice , patting the old <br> brown hand , once so strong , but now <br> grown very feeble .  ",
           "choked patting old",
           "('voice', 'NOUN')",
           "<br> she turned sharply away , calling back over her <br> shoulder in a choked voice . \"",
           "shoulder choked",
           "('voice', 'NOUN')",
           "<br> for a moment he stared at the count -- <br> who was too discomposed by his manner to open <br> his lips -- and then , once more stretching <br> out his hand , exclaimed in a choked voice <br> and a strong scotch accent--   \" how are <br> ye , bunker ! \"  ",
           "exclaimed choked strong scotch",
           "('voice', 'NOUN')",
           -19.305539747535523
          ],
          [
           [
            "exclaim",
            "NOUN"
           ],
           "hear",
           48,
           45,
           -0.09310940439148148,
           "<br> in an instant , as i thrust the lattice <br> open , i felt two strong arms cast about <br> me and heard the physician exclaim ,   \" <br> come , lady , help me with this madman <br> , lest he do himself a mischief . \" <br>  ",
           "cast physician exclaim",
           "('heard', 'VERB')",
           "NA",
           "NA",
           "NA",
           "NA",
           "NA",
           "NA",
           -33.71931723897019
          ],
          [
           [
            "rumble",
            "NOUN"
           ],
           "hear",
           76,
           71,
           -0.09818039393890342,
           "<br> so the three absolutes arose and strode mightily away <br> ; and as they went their thunderous speech to <br> each other boomed against the clouds and the earth <br> like a gusty wind , and , even when <br> they had disappeared , that great rumble could be <br> heard dying gently away in the moonlit distances . <br>  ",
           "great rumble dying gently away",
           "('heard', 'VERB')",
           "NA",
           "NA",
           "NA",
           "NA",
           "NA",
           "NA",
           -28.32523671466825
          ],
          [
           [
            "trumpets",
            "NOUN"
           ],
           "hear",
           159,
           148,
           -0.10342958965540557,
           "<br> suddenly we heard the blare of trumpets ; the <br> slow walk burst into a gallop , and then <br> -- well , it was wonderful to see ! <br>  ",
           "suddenly blare trumpets",
           "('heard', 'VERB')",
           "NA",
           "NA",
           "NA",
           "NA",
           "NA",
           "NA",
           -39.310814716587124
          ],
          [
           [
            "clatter",
            "NOUN"
           ],
           "hear",
           187,
           174,
           -0.10395096403890829,
           "<br> i was just in the act of despatching the <br> last morsel of a most savory stewed lamb and <br> rice , which had formed my meal , when <br> i heard a scuffle of feet , a shrill <br> clatter of female voices , and , the curtain <br> being flung open , in marched a lady accompanied <br> by twelve slaves , with moon faces and slim <br> waists , lovely as the houris in paradise . <br>  ",
           "shrill clatter female",
           "('voices', 'NOUN')",
           "<br> as i looked at   him it seemed to <br> me as though the music , the thunderous clatter <br> of feet , and   the hum of voices <br> all came from the fiery rhythm of his arm <br>   finally , i discovered miss tevkin .",
           "thunderous clatter",
           "('music', 'NOUN')",
           "NA",
           "NA",
           "NA",
           -34.962823602092854
          ],
          [
           [
            "shrill",
            "ADJ"
           ],
           "hear",
           744,
           692,
           -0.10453058347130684,
           "<br> blinds shading the pepper house parlor a shrill voice <br> was heard speaking .  ",
           "shrill voice speaking",
           "('heard', 'VERB')",
           "<br> saving for their own shrill voices there was no <br> sound , and this unending , wide silence at <br> last commanded them to a corresponding quietness .",
           "shrill sound",
           "('voices', 'NOUN')",
           "NA",
           "NA",
           "NA",
           -6.0996383933620315
          ],
          [
           [
            "clang",
            "NOUN"
           ],
           "hear",
           69,
           64,
           -0.10852445677816905,
           "<br> then the heavy , regular tamp of the hunchback <br> 's footsteps , as he paced the solitary corridors <br> after them , bearing his burden of death , <br> became audible in awful distinctness ; then that sound <br> also died away and was lost , and nothing <br> more was heard in the banqueting - room save <br> the sharp clang of the blows still dealt against <br> the steel railings from the street .  ",
           "sharp clang dealt",
           "('blows', 'NOUN')",
           "<br> then she heard clang , then from another part <br> _ clang _ , then _ clang _ , <br> _ clang _ far away .",
           "clang",
           "('heard', 'VERB')",
           "<br> ' you have lost your reason , ' she <br> said ; and there was a clang in her <br> voice that seemed to threaten trouble .  ",
           "clang threaten",
           "('voice', 'NOUN')",
           26.356783529848656
          ],
          [
           [
            "clarion",
            "NOUN"
           ],
           "hear",
           40,
           37,
           -0.1124747292584125,
           "<br> the picture rang out , in the voice of <br> a clarion , an answer that outlived the speaker <br> : \" she 's a woman !",
           "clarion",
           "('voice', 'NOUN')",
           "NA",
           "NA",
           "NA",
           "NA",
           "NA",
           "NA",
           10.385779625067299
          ],
          [
           [
            "speak",
            "NOUN"
           ],
           "hear",
           131,
           121,
           -0.1145597642628558,
           "<br> and he had been content , weak as he <br> was , to have her near him , where <br> he would see her and hear her speak .",
           "speak",
           "('hear', 'VERB')",
           "NA",
           "NA",
           "NA",
           "NA",
           "NA",
           "NA",
           1.5007162446996767
          ],
          [
           [
            "choking",
            "ADJ"
           ],
           "hear",
           78,
           72,
           -0.1154772174199359,
           "<br> \" then , professor , \" exclaimed madame cremeur <br> in a choking voice , \" when a woman <br> has completely surrendered herself to you",
           "cremeur choking",
           "('voice', 'NOUN')",
           "<br> the first question sobbed out by his choking voice <br> , oppressed with emotion , was--   \" where <br> is she ? \"  ",
           "choking oppressed emotion",
           "('voice', 'NOUN')",
           "<br> mercy , no!--and sweeten them just right , and <br> put on a lump of butter , and some <br> allspice , and perhaps a clove , and a <br> little lemon peel , and then put on the <br> cover , and trim off the edge , and <br> pinch it up in scallops , and draw a <br> couple of leaves in the top with a sharp <br> knife , and have the oven just right , <br> and set it in there , and i tell <br> you that when ma opens the oven - door <br> to see how the pie is coming on , <br> there distils through the house such a perfume that <br> you cry out in a choking voice : \" <br> say !",
           "choking",
           "('voice', 'NOUN')",
           -18.519143484046563
          ],
          [
           [
            "deafening",
            "VERB"
           ],
           "hear",
           38,
           35,
           -0.11864449649861908,
           "<br> all sorts of articles and wares were carried and <br> carted in every direction ; people moved about hastily <br> , care - worn , spurring on their horses <br> excitedly , shouting at one another , filling the <br> street with unintelligible bustle and deafening noise of hurried <br> work .",
           "unintelligible bustle deafening hurried work",
           "('noise', 'NOUN')",
           "NA",
           "NA",
           "NA",
           "NA",
           "NA",
           "NA",
           -39.16292871701644
          ],
          [
           [
            "rasping",
            "VERB"
           ],
           "hear",
           76,
           70,
           -0.11864449649861908,
           "<br> the witty officer lifted at his left ear with <br> his thumb , made a rasping noise in his <br> throat , and said :   \" out of <br> prison -- yes -- ye say true .  ",
           "rasping throat",
           "('noise', 'NOUN')",
           "NA",
           "NA",
           "NA",
           "NA",
           "NA",
           "NA",
           -38.91073934055268
          ],
          [
           [
            "tinkle",
            "NOUN"
           ],
           "hear",
           75,
           69,
           -0.12029423371771177,
           "<br> the set look upon their faces , the ceremonious <br> manner of their greeting , and the low buzzing <br> of the phonograph , audible above the tinkle of <br> a musical box ingeniously intended to drown it , <br> confirmed his guess even before a word had passed <br> .  ",
           "tinkle box ingeniously intended",
           "('musical', 'ADJ')",
           "NA",
           "NA",
           "NA",
           "NA",
           "NA",
           "NA",
           -41.770053692692095
          ],
          [
           [
            "modulated",
            "VERB"
           ],
           "hear",
           49,
           45,
           -0.12285674778553347,
           "<br> mildred 's well - tutored voice , though modulated <br> and repressed even in her present emotion , nevertheless <br> had a tendency to quaver .",
           "tutored modulated",
           "('voice', 'NOUN')",
           "<br> the heat of the day , the reaction from <br> the long week in the open air , the <br> quiet monotony of the well modulated voice rising and <br> falling in regular cadence in what is supposed by <br> so many preachers to be the tone suitable for <br> any sacred office , produced an overwhelmingly somnolent effect <br> .",
           "modulated rising falling",
           "('voice', 'NOUN')",
           "<br> his voice was modulated with astonishing skill , and <br> his large and variably expressive eyes looked repose or <br> shot fiery tumult into theirs who listened , while <br> his own face glowed , or was changeless in <br> pallor , as his imagination quickened his blood or <br> drew it back frozen to his heart .",
           "modulated astonishing",
           "('voice', 'NOUN')",
           -32.97572132783866
          ],
          [
           [
            "raucous",
            "ADJ"
           ],
           "hear",
           48,
           44,
           -0.12553088208385899,
           "<br> he could make out a raucous voice in anger <br> and a pianissimo accompaniment of womanish sobs .  ",
           "raucous anger",
           "('voice', 'NOUN')",
           "<br> his deep , raucous voice had thrilled them as <br> it uttered the word of belief and submission .",
           "deep raucous thrilled",
           "('voice', 'NOUN')",
           "<br> he cried , in a hoarse and raucous voice <br> .  ",
           "hoarse raucous",
           "('voice', 'NOUN')",
           -57.40318897553492
          ],
          [
           [
            "dominoes",
            "NOUN"
           ],
           "hear",
           48,
           44,
           -0.12553088208385899,
           "<br> agnes played the piano to him , sat by <br> him , and worked and talked , and played <br> some games at dominoes with me .",
           "talked games dominoes",
           "('played', 'VERB')",
           "<br> he read to her while she sewed rags for <br> a new sitting - room carpet , and they <br> played dominoes and checkers together in the twilight before <br> supper - time -- suppers that were a feast <br> to the boy , after mrs. buck 's cookery <br> .  ",
           "carpet dominoes checkers",
           "('played', 'VERB')",
           "NA",
           "NA",
           "NA",
           -36.85989807297863
          ],
          [
           [
            "echoing",
            "VERB"
           ],
           "hear",
           60,
           55,
           -0.12553088208385899,
           "<br> a little railway station , a string of loaded <br> trucks , a signal - box , and the <br> back of a cottage , shot by the carriage <br> window , and a bridge passed with a clap <br> of noise , echoing the tumult of the train <br> .  ",
           "clap echoing tumult",
           "('noise', 'NOUN')",
           "NA",
           "NA",
           "NA",
           "NA",
           "NA",
           "NA",
           -8.845278186713333
          ],
          [
           [
            "croquet",
            "NOUN"
           ],
           "hear",
           48,
           44,
           -0.12553088208385899,
           "<br> she obliged march all the same to ask among <br> them , but she recognized their guilty insincerity when <br> he came home saying that one man had told <br> him you could have played croquet on the deck <br> of the colmannia the whole way over when he <br> crossed , and another that he never saw the <br> racks on in three passages he had made in <br> the norumbia .  ",
           "croquet deck",
           "('played', 'VERB')",
           "NA",
           "NA",
           "NA",
           "NA",
           "NA",
           "NA",
           -22.5540032717746
          ],
          [
           [
            "shrill",
            "NOUN"
           ],
           "hear",
           36,
           33,
           -0.12553088208385899,
           "<br> \" indeed , \" cried jonathan , in the <br> same shrill and panting voice , \" it was <br> themselves who did it .  ",
           "shrill panting",
           "('voice', 'NOUN')",
           "<br> indeed it is , \" says i ; \" <br> and , but for the fashion of the thing <br> , a very ugly scream too : \" when <br> i heard another shrill \" oh ! \" as <br> i thought ; and orlando bolted off , crying <br> , \" by heavens , it 's her voice <br> ! \"",
           "shrill",
           "('heard', 'VERB')",
           "NA",
           "NA",
           "NA",
           -28.5259966556428
          ],
          [
           [
            "accompaniments",
            "NOUN"
           ],
           "hear",
           35,
           32,
           -0.1292830169449665,
           "<br> but you prefer playing other people 's accompaniments , <br> to singing yourself , do n't you ? \" <br>  ",
           "prefer people accompaniments",
           "('playing', 'VERB')",
           "<br> when she had given him his fill of song <br> , and allowed him to play some of her <br> accompaniments , he would be content , and that <br> disquieting look of adoration would pass from those beautiful <br> brown eyes .",
           "allowed accompaniments",
           "('play', 'VERB')",
           "<br> but miss healy had kindly consented to play one <br> or two accompaniments .",
           "kindly consented accompaniments",
           "('play', 'VERB')",
           -41.70342123509927
          ],
          [
           [
            "rumbling",
            "VERB"
           ],
           "hear",
           93,
           85,
           -0.1297678749703297,
           "<br> a harsh and rumbling noise as of heavy timbers <br> falling tore through the tissue of sweet sounds .",
           "harsh rumbling heavy timbers",
           "('noise', 'NOUN')",
           "NA",
           "NA",
           "NA",
           "NA",
           "NA",
           "NA",
           19.11865167108138
          ],
          [
           [
            "rustle",
            "NOUN"
           ],
           "hear",
           209,
           191,
           -0.1299303040451341,
           "<br> the air was very still , but i could <br> hear the rustle of movement somewhere within a hundred <br> yards .",
           "rustle movement",
           "('hear', 'VERB')",
           "<br> she brought with her a musical rustle , a <br> slight suggestion of subtle perfumes -- a perfume so <br> thin and ethereal that it was unrecognizable except in <br> its faint suggestion of hothouse flowers .  ",
           "brought rustle slight",
           "('musical', 'ADJ')",
           "NA",
           "NA",
           "NA",
           1.8924802086950225
          ],
          [
           [
            "loud",
            "ADJ"
           ],
           "hear",
           2297,
           2097,
           -0.13142399528133125,
           "<br> shortly after the men had entered the hut loud <br> and sustained noises began to issue therefrom , and <br> in about twenty minutes the invaders emerged again bearing <br> the bodies of the grey woman of dun gortin <br> and her husband .",
           "hut loud sustained began issue",
           "('noises', 'NOUN')",
           "<br> but he got no further , for the instant <br> the leprecaun saw the crock he threw his arms <br> around it and wept in so loud a voice <br> that his comrades swarmed up to see what had <br> happened to him , and they added their laughter <br> and tears to his , to which chorus the <br> children subjoined their sympathetic clamour , so that a <br> noise of great complexity rang through all the gort <br> .  ",
           "loud comrades swarmed",
           "('voice', 'NOUN')",
           "NA",
           "NA",
           "NA",
           -40.913487381510414
          ],
          [
           [
            "trump",
            "NOUN"
           ],
           "hear",
           45,
           41,
           -0.13430109171159105,
           "<br> at eleven - twenty herron played his trump card <br> .  ",
           "herron trump card",
           "('played', 'VERB')",
           "<br> ii        wild rings the trump o'er ranks to <br> glory marching ;          music 's sublimer bursts for <br> war are meet ;        but sweet lips murmuring <br> under wreaths o'er - arching ,          find the <br> low whispers like their own most sweet .            ",
           "wild trump o'er ranks",
           "('rings', 'VERB')",
           "NA",
           "NA",
           "NA",
           -7.657129376020955
          ],
          [
           [
            "mutter",
            "NOUN"
           ],
           "hear",
           45,
           41,
           -0.13430109171159105,
           "<br> i smoked a little , wondering whether van blarcom <br> could catch the faint mutter of our voices .",
           "faint mutter",
           "('voices', 'NOUN')",
           "NA",
           "NA",
           "NA",
           "NA",
           "NA",
           "NA",
           -39.53658974721927
          ],
          [
           [
            "footstep",
            "NOUN"
           ],
           "hear",
           197,
           179,
           -0.13823604219211993,
           "<br> but in time , when the dusk was thickening <br> so fast that her son - in - law <br> 's broad back had already grown indistinct of outline <br> , and no voice or footstep had come near <br> their prison , her thoughts began to wander from <br> his case to her own .",
           "outline footstep come",
           "('voice', 'NOUN')",
           "NA",
           "NA",
           "NA",
           "NA",
           "NA",
           "NA",
           20.255332287163412
          ],
          [
           [
            "chess",
            "NOUN"
           ],
           "hear",
           202,
           183,
           -0.14251164446775225,
           "<br> we have played a game of chess together . <br>  ",
           "game chess",
           "('played', 'VERB')",
           "NA",
           "NA",
           "NA",
           "NA",
           "NA",
           "NA",
           22.3887744707802
          ],
          [
           [
            "whist",
            "NOUN"
           ],
           "hear",
           106,
           96,
           -0.14295795384204296,
           "<br> the men made snowshoes , hunted fresh meat for <br> the larder , and in the long evenings played <br> endless games of whist and pedro .  ",
           "long evenings endless games whist",
           "('played', 'VERB')",
           "NA",
           "NA",
           "NA",
           "NA",
           "NA",
           "NA",
           -0.10785956258275346
          ],
          [
           [
            "hum",
            "NOUN"
           ],
           "hear",
           273,
           247,
           -0.1443899093351748,
           "<br> among the vividly dressed ladies , some were imaginably <br> parisian from their chic costumes , but they might <br> easily have been hungarians or levantines of taste ; <br> some americans , who might have passed unknown in <br> the perfection of their dress , gave their nationality <br> away in the flat wooden tones of their voices <br> , which made themselves heard above the low hum <br> of talk and the whisper of the innumerable feet <br> .  ",
           "low hum",
           "('heard', 'VERB')",
           "<br> you count yourself fortunate if , mingled with the <br> creaking of the buggy - springs , you hear <br> the hum of recitation ; yet more fortunate if <br> it is recess time , and you can see <br> the children out at play , the little girls <br> holding to one another 's dress - tails as <br> they solemnly circle to the chant :       \" <br> h - yar way gow rand",
           "springs hum recitation",
           "('hear', 'VERB')",
           "<br> in the silence of the avenue , the russian <br> evoked the ruddy figures of the implacable gods , <br> that were going to awake that night upon hearing <br> the hum of arms and smelling the acrid odor <br> of blood .",
           "awake night hum arms",
           "('hearing', 'VERB')",
           -24.27775054960556
          ],
          [
           [
            "moans",
            "NOUN"
           ],
           "hear",
           41,
           37,
           -0.1480986389891339,
           "<br> i ask you , gentlemen , listen sometimes to <br> the moans of an educated man of the nineteenth <br> century suffering from toothache , on the second or <br> third day of the attack , when he is <br> beginning to moan , not as he moaned on <br> the first day , that is , not simply <br> because he has toothache , not just as any <br> coarse peasant , but as a man affected by <br> progress and european civilisation , a man who is <br> \" divorced from the soil and the national elements <br> , \" as they express it now - a <br> - days .  ",
           "gentlemen moans",
           "('listen', 'VERB')",
           "<br> it is nasty for you to hear my despicable <br> moans : well , let it be nasty ; <br> here i will let you have a nastier flourish <br> in a minute .... \"  ",
           "nasty despicable moans",
           "('hear', 'VERB')",
           "NA",
           "NA",
           "NA",
           12.509497911160313
          ],
          [
           [
            "bugles",
            "NOUN"
           ],
           "hear",
           40,
           36,
           -0.15200309344504997,
           "<br> now old merlin stepped into view and cast a <br> dainty web of gossamer threads over sir sagramor which <br> turned him into hamlet 's ghost ; the king <br> made a sign , the bugles blew , sir <br> sagramor laid his great lance in rest , and <br> the next moment here he came thundering down the <br> course with his veil flying out behind , and <br> i went whistling through the air like an arrow <br> to meet him --cocking my ear the while , <br> as if noting the invisible knight 's position and <br> progress by hearing , not sight .  ",
           "sign bugles sir sagramor laid",
           "('blew', 'VERB')",
           "NA",
           "NA",
           "NA",
           "NA",
           "NA",
           "NA",
           43.40061001638292
          ],
          [
           [
            "hailing",
            "VERB"
           ],
           "hear",
           40,
           36,
           -0.15200309344504997,
           "<br> and now beyond the door was silence , and <br> then i heard adam hailing me :  ",
           "adam hailing",
           "('heard', 'VERB')",
           "<br> be all this as it may , his voice <br> was now often heard hailing the three mast - <br> heads and admonishing them to keep a bright look <br> - out , and not omit reporting even a <br> porpoise .",
           "voice hailing mast",
           "('heard', 'VERB')",
           "NA",
           "NA",
           "NA",
           -3.9859789652039974
          ],
          [
           [
            "booming",
            "ADJ"
           ],
           "hear",
           49,
           44,
           -0.15527822547791095,
           "<br> with the merest casual ‘ _ bonjour _ , <br> allègre’ he ranges close to her on the other <br> side and addresses her , hat in hand , <br> in that booming voice of his like a deferential <br> roar of the sea very far away .  ",
           "booming",
           "('voice', 'NOUN')",
           "NA",
           "NA",
           "NA",
           "NA",
           "NA",
           "NA",
           3.2761321062327036
          ],
          [
           [
            "yells",
            "NOUN"
           ],
           "hear",
           49,
           44,
           -0.15527822547791095,
           "<br> we heard shrieks and yells , and soon a <br> woman came running and crying ; and seeing our <br> group , she flung herself into our midst and <br> begged for protection .  ",
           "shrieks yells",
           "('heard', 'VERB')",
           "NA",
           "NA",
           "NA",
           "NA",
           "NA",
           "NA",
           -8.890353216815317
          ],
          [
           [
            "din",
            "NOUN"
           ],
           "hear",
           127,
           114,
           -0.15579467260742424,
           "<br> i never heard such a din before or after <br> .",
           "din",
           "('heard', 'VERB')",
           "NA",
           "NA",
           "NA",
           "NA",
           "NA",
           "NA",
           -3.3378802431404186
          ],
          [
           [
            "rattle",
            "NOUN"
           ],
           "hear",
           174,
           156,
           -0.15754127698647993,
           "<br> the distant sound of a roaring and rushing drew <br> nearer and grew in volume ; the house quivered <br> ; one heard the metallic rattle of the tender <br> .  ",
           "house quivered metallic rattle",
           "('heard', 'VERB')",
           "<br> for through the hushed crowd pressing round the angle <br> of the mill , and filling up dunham street <br> , might be heard the rattle of the engine <br> , the heavy , quick tread of loaded horses <br> .  ",
           "street rattle",
           "('heard', 'VERB')",
           "<br> he heard the rattle of the doctor 's chaise <br> and the voices of ebenezer and parker in conversation <br> .",
           "rattle",
           "('heard', 'VERB')",
           -2.449564698079507
          ],
          [
           [
            "bugle",
            "NOUN"
           ],
           "hear",
           86,
           77,
           -0.15947821400719653,
           "<br> there was a pause , then a ringing bugle <br> - blast , which was the signal for us <br> to come forth .  ",
           "pause bugle blast",
           "('ringing', 'VERB')",
           "<br> now imagine my astonishment -- and everybody else 's <br> , too -- to hear the peculiar bugle - <br> call which announces that another competitor is about to <br> enter the lists !  ",
           "peculiar bugle",
           "('hear', 'VERB')",
           "<br> the bugle blew again .  ",
           "bugle",
           "('blew', 'VERB')",
           5.525449881787465
          ],
          [
           [
            "flute",
            "NOUN"
           ],
           "hear",
           200,
           179,
           -0.16004041251046824,
           "<br> in the seventh chapter he tells how , crowned <br> with laurel , lest lightning might strike him , <br> he had sat , as tiberius , in a <br> garden at capri , reading the shameful books of <br> elephantis , while dwarfs and peacocks strutted round him <br> and the flute - player mocked the swinger of <br> the censer ; and , as caligula , had <br> caroused with the green - shirted jockeys in their <br> stables and supped in an ivory manger with a <br> jewel - frontleted horse ; and , as domitian <br> , had wandered through a corridor lined with marble <br> mirrors , looking round with haggard eyes for the <br> reflection of the dagger that was to end his <br> days , and sick with that ennui , that <br> terrible taedium vitae , that comes on those to <br> whom life denies nothing ; and had peered through <br> a clear emerald at the red shambles of the <br> circus and then , in a litter of pearl <br> and purple drawn by silver - shod mules , <br> been carried through the street of pomegranates to a <br> house of gold and heard men cry on nero <br> caesar as he passed by ; and , as <br> elagabalus , had painted his face with colours , <br> and plied the distaff among the women , and <br> brought the moon from carthage and given her in <br> mystic marriage to the sun .  ",
           "flute mocked swinger",
           "('player', 'NOUN')",
           "<br> orlando used to say ( he was a romantic <br> young fellow , that 's the truth , and <br> blew the flute and read lord byron incessantly , <br> since he was separated from jemimarann ) . \"",
           "truth flute read",
           "('blew', 'VERB')",
           "<br> he had an unsophisticated smile , which   i <br> thought suggestive of a man playing on a flute <br> and which emphasized the   discrepancy between his weak <br> face and his reputation for pluck   an intermission <br> in a jewish theater is almost as long as <br> an act .",
           "suggestive man flute",
           "('playing', 'VERB')",
           -1.0035310012651004
          ],
          [
           [
            "swish",
            "NOUN"
           ],
           "hear",
           47,
           42,
           -0.16227142889887716,
           "<br> he sprang forward , and then saw he must <br> be caught , and _ swish !",
           "saw swish",
           "('caught', 'VERB')",
           "<br> in another moment they heard the swish of the <br> fat pneumatics behind them , and the tandem passed <br> hoopdriver and drew alongside jessie .",
           "moment swish",
           "('heard', 'VERB')",
           "<br> the only sound to be heard was the swish <br> of long grasses against his feet as he trod <br> , and the buzz of an occasional bee that <br> came and was gone in an instant .  ",
           "sound swish",
           "('heard', 'VERB')",
           -28.90117919929772
          ],
          [
           [
            "footsteps",
            "NOUN"
           ],
           "hear",
           973,
           869,
           -0.16308362796671144,
           "<br> she was about to blow out the lamp when <br> she heard rapid footsteps , the sound of some <br> one running along the sidewalk in front of the <br> house .",
           "lamp rapid footsteps",
           "('heard', 'VERB')",
           "<br> as she listened , the footsteps sounded on the <br> path .",
           "footsteps sounded",
           "('listened', 'VERB')",
           "NA",
           "NA",
           "NA",
           -23.552139125716042
          ],
          [
           [
            "splashing",
            "NOUN"
           ],
           "hear",
           37,
           33,
           -0.16505924627049637,
           "<br> he creaked irritably downstairs , and heard the usual <br> splashing behind the bathroom door .  ",
           "irritably downstairs usual splashing",
           "('heard', 'VERB')",
           "<br> meekin , walking on the evening of the flogging <br> past the wooden shed where the body lay , <br> saw troke bearing buckets filled with dark - coloured <br> water , and heard a great splashing and sluicing <br> going on inside the hut .",
           "coloured water great splashing",
           "('heard', 'VERB')",
           "NA",
           "NA",
           "NA",
           -37.090290321217545
          ],
          [
           [
            "attracting",
            "VERB"
           ],
           "hear",
           230,
           205,
           -0.16600995143892924,
           "<br> : he got up at the same time and <br> went to the office as usual , and he <br> got through the day somehow without attracting his employer <br> 's attention .",
           "attracting employer",
           "('attention', 'NOUN')",
           "NA",
           "NA",
           "NA",
           "NA",
           "NA",
           "NA",
           -33.36098023023033
          ],
          [
           [
            "lao",
            "PROPN"
           ],
           "hear",
           64,
           57,
           -0.16710998583525832,
           "<br> but even in this he was inept , for <br> the poison was less speedy than he thought , <br> and lao ting returned in time to convey him <br> to another door .  ",
           "thought lao returned time",
           "('ting', 'PROPN')",
           "<br> lao ting found no difficulty in earning a meagre <br> competence by instructing others who wished to follow in <br> his footsteps .",
           "lao found difficulty",
           "('ting', 'PROPN')",
           "<br> for instance , the very speculative shan tien , <br> casting his usual moderate limit to the skies , <br> has accepted the luminous insect as a beckoning omen <br> , and immersed himself deeply in the chances of <br> every candidate bearing the name of lao , ting <br> , li , tzu , sung , chu , <br> wang or chin .",
           "lao li tzu",
           "('ting', 'PROPN')",
           18.817555850726265
          ],
          [
           [
            "glimpse",
            "NOUN"
           ],
           "hear",
           1297,
           1153,
           -0.1697859665999275,
           "<br> he clapped as the others did at the end <br> of the first act , and he leaned forward <br> just as eagerly to catch a glimpse of her <br> when she reappeared and stood there with that marvelous <br> smile upon her lips , accepting with faint , <br> deprecating gratitude the homage of the packed house . <br>  ",
           "eagerly glimpse",
           "('catch', 'VERB')",
           "<br> remembering the glimpse he had caught of the store <br> as he passed it , and having a recollection <br> of the barrels of potatoes and apples and the <br> various odds and ends , mr. havisham felt his <br> doubts arise again .",
           "glimpse store",
           "('caught', 'VERB')",
           "<br> before he could reply she caught a glimpse of <br> his face .  ",
           "reply glimpse",
           "('caught', 'VERB')",
           -17.859121450221522
          ],
          [
           [
            "crackling",
            "NOUN"
           ],
           "hear",
           63,
           56,
           -0.16992500144231246,
           "<br> he seemed to be much disgusted at hearing no <br> crackling as he folded it .",
           "disgusted crackling",
           "('hearing', 'VERB')",
           "<br> here are my credentials if you care to read <br> them , \" and i heard a crackling as <br> of parchment being unfolded .  ",
           "crackling",
           "('heard', 'VERB')",
           "NA",
           "NA",
           "NA",
           -1.3209446794569224
          ],
          [
           [
            "billiards",
            "NOUN"
           ],
           "hear",
           132,
           117,
           -0.17402939977504894,
           "<br> he played one game of billiards , but he <br> played badly .  ",
           "billiards badly",
           "('played', 'VERB')",
           "NA",
           "NA",
           "NA",
           "NA",
           "NA",
           "NA",
           18.914076585210363
          ],
          [
           [
            "creak",
            "NOUN"
           ],
           "hear",
           61,
           54,
           -0.17584983539941776,
           "<br> for a long time the baron lay wide awake <br> , every sense alert , listening for the creak <br> of a footstep on the wooden stair that led <br> up from the harness - room to his prison <br> .",
           "sense alert creak",
           "('listening', 'VERB')",
           "NA",
           "NA",
           "NA",
           "NA",
           "NA",
           "NA",
           27.790363650909388
          ],
          [
           [
            "louder",
            "ADV"
           ],
           "hear",
           190,
           168,
           -0.1775381855521876,
           "<br> the ringing sounded again , louder than before . <br>  ",
           "sounded louder",
           "('ringing', 'VERB')",
           "<br> then the multitude might shout ; and above the <br> roaring flames , louder than the blowing of the <br> mighty wind , arose that tremendous burst of applause <br> at the success of the daring enterprise .  ",
           "louder mighty wind",
           "('blowing', 'NOUN')",
           "NA",
           "NA",
           "NA",
           12.42686430436134
          ],
          [
           [
            "authoritative",
            "ADJ"
           ],
           "hear",
           86,
           76,
           -0.17833724125851244,
           "<br> with that decision , the clergyman turned to give <br> his orders to the attendant , in a firm <br> , authoritative voice , for a cup of tea <br> , two gelatine lozenges , bread and butter , <br> salad , and pie to follow . \"",
           "firm authoritative cup",
           "('voice', 'NOUN')",
           "NA",
           "NA",
           "NA",
           "NA",
           "NA",
           "NA",
           -9.785558394384731
          ],
          [
           [
            "divert",
            "VERB"
           ],
           "hear",
           101,
           89,
           -0.18247805178539697,
           "<br> i kept my face to the window , and <br> he made no effort to divert my attention .",
           "effort divert",
           "('attention', 'NOUN')",
           "<br> with mrs. cameron - campbell on one side , <br> and a minister 's lady upon the other , <br> his host two places distant , and a considerable <br> audience of silent eaters within earshot , he successfully <br> managed to divert the attention of quite half the <br> table from the chieftain 's moody humor .  ",
           "managed divert half",
           "('attention', 'NOUN')",
           "NA",
           "NA",
           "NA",
           -41.596974279720634
          ],
          [
           [
            "pranks",
            "NOUN"
           ],
           "hear",
           84,
           74,
           -0.18286405714981058,
           "<br> all agreed at once , and several people were <br> made very happy by a bit of spring left <br> at their doors by the may elves who haunted <br> the town that night playing all sorts of pranks <br> .",
           "town night sorts pranks",
           "('playing', 'VERB')",
           "<br> i    the person who , next to the <br> actors themselves , chanced to know most of their <br> story , lived just below ' top o ' <br> town ' ( as the spot was called ) <br> in an old substantially - built house , distinguished <br> among its neighbours by having an oriel window on <br> the first floor , whence could be obtained a <br> raking view of the high street , west and <br> east , the former including laura 's dwelling , <br> the end of the town avenue hard by ( <br> in which were played the odd pranks hereafter to <br> be mentioned ) , the port - bredy road <br> rising westwards , and the turning that led to <br> the cavalry barracks where the captain was quartered . <br>  ",
           "odd pranks",
           "('played', 'VERB')",
           "NA",
           "NA",
           "NA",
           -0.7683394676931178
          ],
          [
           [
            "golf",
            "NOUN"
           ],
           "hear",
           134,
           118,
           -0.18344614109593121,
           "<br> the diversions of the professedly gay - hooting over <br> pointless badinage and speculating whose turn it is to <br> get divorced next -- become in time even more <br> sobering than a scientific study with diagrams of how <br> to breed pheasants or play golf .",
           "breed pheasants golf",
           "('play', 'VERB')",
           "<br> playing golf , and thinking of clever things to <br> say to women like my stepmother , and dining <br> out .",
           "golf thinking",
           "('playing', 'VERB')",
           "<br> when i can get away from work i go <br> into the country and play cricket or golf , <br> or anything that 's going .",
           "country cricket golf",
           "('play', 'VERB')",
           -8.592044171714079
          ],
          [
           [
            "whistling",
            "NOUN"
           ],
           "hear",
           41,
           36,
           -0.18762700317577136,
           "<br> on arriving at the camp , after a long <br> struggle , he succeeded in sending back an army <br> service waggon to bring in the stragglers , but <br> just as the waggon was about to leave , <br> he heard coming up the road , a party <br> stepping out briskly to the music of their own <br> whistling .",
           "briskly whistling",
           "('music', 'NOUN')",
           "<br> sounds of music reached her , the rumble of <br> marching feet ; dark , massed figures were in <br> the distance swimming toward her along the glistening line <br> of the car tracks , and she heard the <br> shrill whistling of the doffer boys , who acted <br> as a sort of fife corps in these parades <br> -- which by this time had become familiar to <br> the citizens of hampton .",
           "tracks shrill whistling",
           "('heard', 'VERB')",
           "<br> that glee which finds expression in raised eyebrows and <br> long , low whistling noises was upon mr. hoopdriver <br> .",
           "long low whistling mr. hoopdriver",
           "('noises', 'NOUN')",
           -35.76455640425463
          ],
          [
           [
            "drums",
            "NOUN"
           ],
           "hear",
           98,
           86,
           -0.18844508941311033,
           "<br> by this time it was about sunset , and <br> i remember i cocked my ear to hear the <br> drums beat .  ",
           "cocked ear drums beat",
           "('hear', 'VERB')",
           "<br> you 're listening for the drums , but you <br> wo n't hear them .",
           "drums",
           "('listening', 'VERB')",
           "<br> you mind how nervous i was when i heard <br> the drums beat .  ",
           "drums beat",
           "('heard', 'VERB')",
           26.081216212800324
          ],
          [
           [
            "tunes",
            "NOUN"
           ],
           "hear",
           105,
           92,
           -0.1906835616091098,
           "<br> then he had the inspiration to propose that they <br> should all three sit together , and it appeared <br> that such a group was within the scope of <br> the silhouettist 's art ; he posed them in <br> his little bower , and while he was mounting <br> the picture they took turns , at five kreutzers <br> each , in listening to american tunes played by <br> his edison phonograph .  ",
           "listening american tunes edison phonograph",
           "('played', 'VERB')",
           "<br> remain to be considered the opening and closing exercises <br> , principally devoted , i remember , to learning <br> new tunes and singing old ones out of books <br> with pretty titles , like \" golden censer , <br> \" \" silver spray , \" \" pearl and <br> gold , \" \" sparkling dewdrops , \" and <br> \" sabbath chimes .",
           "remember new tunes singing",
           "('learning', 'VERB')",
           "NA",
           "NA",
           "NA",
           -8.472555333264207
          ],
          [
           [
            "attract",
            "VERB"
           ],
           "hear",
           632,
           553,
           -0.1926450779423959,
           "<br> a solitary amazon swallowing the dust and the salt <br> spray of the corniche promenade would attract too much <br> attention .  ",
           "attract",
           "('attention', 'NOUN')",
           "<br> her agitated aspect , her excessive precautions in order <br> to slip by unseen , only served to attract <br> the attention of the passers - by .",
           "served attract passers",
           "('attention', 'NOUN')",
           "<br> they were within reach of the enemy , and <br> an automobile might attract the attention of their gunners <br> .  ",
           "automobile attract gunners",
           "('attention', 'NOUN')",
           8.10842340998665
          ],
          [
           [
            "wheedling",
            "VERB"
           ],
           "hear",
           48,
           42,
           -0.1926450779423959,
           "<br> josie was sobered at once by this dire threat <br> , and in her most wheedling tone begged to <br> know what he had said .",
           "wheedling begged know",
           "('tone', 'NOUN')",
           "NA",
           "NA",
           "NA",
           "NA",
           "NA",
           "NA",
           -5.732100575092309
          ],
          [
           [
            "inflection",
            "NOUN"
           ],
           "hear",
           64,
           56,
           -0.1926450779423959,
           "<br> \" bring him with you to tea next sabbath <br> evening , my dear , \" the little lady <br> would say , with never a quiver or inflection <br> of voice betraying that she had detected the girl <br> 's anxiety for her friend .  ",
           "quiver inflection betraying",
           "('voice', 'NOUN')",
           "<br> he was keen to get back to his little <br> friend after the hazards of the night , eager <br> to see the brown eyes light up with joy <br> at sight of him and to hear the soft <br> voice with the trailing inflection drawl out its shy <br> questions .",
           "hear soft trailing inflection",
           "('voice', 'NOUN')",
           "NA",
           "NA",
           "NA",
           -3.33135387652891
          ],
          [
           [
            "concertina",
            "NOUN"
           ],
           "hear",
           48,
           42,
           -0.1926450779423959,
           "<br> i saw him , with my mind 's eye <br> , on the schooner on which he worked , <br> wearing nothing but a pair of dungarees ; and <br> at night , when the boat sailed along easily <br> before a light breeze , and the sailors were <br> gathered on the upper deck , while the captain <br> and the supercargo lolled in deck - chairs , <br> smoking their pipes , i saw him dance with <br> another lad , dance wildly , to the wheezy <br> music of the concertina .",
           "wheezy concertina",
           "('music', 'NOUN')",
           "<br> he sings so well , and plays the concertina <br> a little , and teaches in the sunday - <br> school , and speaks really quite excellently at temperance <br> meetings .",
           "concertina little",
           "('plays', 'VERB')",
           "<br> could she imagine him playing a concertina or haranguing <br> a temperance meeting and he acquitted himself quite creditably <br> .  ",
           "imagine concertina haranguing",
           "('playing', 'VERB')",
           6.8515246478194385
          ],
          [
           [
            "infection",
            "NOUN"
           ],
           "hear",
           88,
           77,
           -0.1926450779423959,
           "<br> the women had caught the infection of the old <br> man 's enthralling suspense ; and moved not to <br> bid the child retire , or to take away <br> the dove from its place -- they watched like <br> him .  ",
           "women infection",
           "('caught', 'VERB')",
           "<br> ellinor caught the infection , and cried outright , <br> sobbed like a child , even while she held <br> out her little white thin hand to his grasp <br> .  ",
           "ellinor infection",
           "('caught', 'VERB')",
           "<br> but when they turn the corner that gives them <br> a good view of the blaze , fluttering great <br> puffs of flame , and hear the steady crackle <br> and snapping , as it were , of a <br> great popper full of pop - corn , they <br> , too , catch the infection , and run <br> with a loud swashing and slatting of skirts , <br> giggling and squealing about their hair coming down . <br>  ",
           "infection",
           "('catch', 'VERB')",
           18.70527384837568
          ],
          [
           [
            "querulous",
            "ADJ"
           ],
           "hear",
           117,
           102,
           -0.1979393776119089,
           "<br> his voice lost its querulous and whimpering note , <br> and became strong and positive .  ",
           "lost querulous",
           "('voice', 'NOUN')",
           "<br> another , a different , querulous kind of voice <br> came from the silence \" if i knew a <br> place where there was a welcome i 'd go <br> there as quickly as i could , but i <br> do n't know a place and i never will <br> , for what good would a man of my <br> age be to any person ?",
           "querulous kind came silence",
           "('voice', 'NOUN')",
           "NA",
           "NA",
           "NA",
           -6.4687132457945555
          ],
          [
           [
            "rattling",
            "NOUN"
           ],
           "hear",
           39,
           34,
           -0.1979393776119089,
           "<br> a noise like the rattling of chain links , <br> a small grind and click exploded in the stillness <br> of the hall and a eciov began to swear <br> in italian .  ",
           "rattling",
           "('noise', 'NOUN')",
           "NA",
           "NA",
           "NA",
           "NA",
           "NA",
           "NA",
           25.24677164754776
          ],
          [
           [
            "glimpses",
            "NOUN"
           ],
           "hear",
           343,
           299,
           -0.19806309197470728,
           "<br> but occasionally , as the breakers drew back for <br> another cruel blow , they caught glimpses of the <br> tilted deck , smashed bare of houses and rail <br> .  ",
           "cruel blow glimpses tilted",
           "('caught', 'VERB')",
           "<br> the minister , curled up in the bow on <br> a rather uncomfortable cushion of anchor and roding , <br> caught glimpses of the receding shore over the crests <br> behind .",
           "anchor roding glimpses receding",
           "('caught', 'VERB')",
           "NA",
           "NA",
           "NA",
           31.97545976211833
          ],
          [
           [
            "loudest",
            "ADJ"
           ],
           "hear",
           70,
           61,
           -0.19854567938208015,
           "<br> down the road , between lines of silent men <br> , came the pipers with waving kilts and flying <br> tartans , swinging along in their long swaying stride <br> , young angus doing wonders on the big drum <br> , with his whirling sticks , and every piper <br> blowing his loudest , and marching his proudest .",
           "piper loudest",
           "('blowing', 'VERB')",
           "<br> the tremendous voice of the lion - king was <br> heard over the loudest roar of the onset .",
           "lion king loudest roar",
           "('heard', 'VERB')",
           "<br> ' two or three years ago , did i <br> not see you on the platform of revival meetings <br> , and was not your voice the loudest in <br> the hymn ? '  ",
           "loudest",
           "('voice', 'NOUN')",
           -20.328328192660724
          ],
          [
           [
            "tennis",
            "NOUN"
           ],
           "hear",
           163,
           142,
           -0.19898103472639556,
           "<br> how could they care for pretty girls playing tennis <br> on an upland level , in the waning afternoon <br> ?",
           "care pretty girls tennis upland",
           "('playing', 'VERB')",
           "NA",
           "NA",
           "NA",
           "NA",
           "NA",
           "NA",
           -36.171353536647054
          ],
          [
           [
            "resounded",
            "VERB"
           ],
           "hear",
           115,
           100,
           -0.2016338611696506,
           "<br> but she did not rise till her mother 's <br> rather rough voice resounded up the staircase as it <br> had done on the preceding evening .  ",
           "mother rough resounded staircase",
           "('voice', 'NOUN')",
           "<br> the brooding , plaintive tones which resounded around us <br>   had a bewitching effect on me .",
           "brooding plaintive resounded",
           "('tones', 'NOUN')",
           "NA",
           "NA",
           "NA",
           -15.771563111324253
          ],
          [
           [
            "angelus",
            "PROPN"
           ],
           "hear",
           46,
           40,
           -0.2016338611696506,
           "<br> it is due to her that the king of <br> messina shall sit once more on his throne ; <br> it is through her generosity alone that the churches <br> will rise from their ruins and that you will <br> once again hear the angelus ring across the fields <br> at sunset .  ",
           "hear angelus fields",
           "('ring', 'NOUN')",
           "NA",
           "NA",
           "NA",
           "NA",
           "NA",
           "NA",
           -23.019433141640683
          ],
          [
           [
            "wailing",
            "VERB"
           ],
           "hear",
           99,
           86,
           -0.20309186537751162,
           "<br> he could hear the sounds of voices within -- <br> wailing and weeping of the women -- but no <br> one answered his knocking .",
           "hear sounds wailing",
           "('voices', 'NOUN')",
           "<br> there had been no groan as of a man <br> wounded , no sound of a body falling , <br> no voice wailing in despair .  ",
           "body falling wailing despair",
           "('voice', 'NOUN')",
           "<br> \" well ! \" said john slater , after <br> having acknowledged his nose and his likeness ; \" <br> i could laugh at a jest as well as <br> e'er the best on 'em , though it did <br> tell agen mysel , if i were not clemming <br> \" ( his eyes filled with tears ; he <br> was a poor , pinched , sharp - featured <br> man , with a gentle and melancholy expression of <br> countenance ) , \" and if i could keep <br> from thinking of them at home , as is <br> clemming ; but with their cries for food ringing <br> in my ears , and making me afeard of <br> going home , and wonder if i should hear <br> 'em wailing out , if i lay cold and <br> drowned at th ' bottom o ' th ' <br> canal , there -- why , man , i <br> can not laugh at aught .  ",
           "wonder wailing",
           "('hear', 'VERB')",
           -12.967090647081823
          ],
          [
           [
            "hissing",
            "NOUN"
           ],
           "hear",
           76,
           66,
           -0.203533394085132,
           "<br> whereupon my visitor deserted the doorknob , took half <br> a dozen stealthy steps in my direction and lowered <br> her voice to a hissing whisper of confidence . <br>  ",
           "direction lowered hissing whisper",
           "('voice', 'NOUN')",
           "<br> \" listen , son of panda , \" went <br> on zikali in an intense and hissing voice . <br>  ",
           "intense hissing",
           "('voice', 'NOUN')",
           "NA",
           "NA",
           "NA",
           -21.563142700836647
          ]
         ],
         "hovertemplate": "literary_period=1800<br>Principal Component 1=%{x}<br>Principal Component 2=%{y}<br>word=%{customdata[0]}<br>modality=%{customdata[1]}<br>total_freq=%{customdata[2]}<br>total_freq_in_sense=%{customdata[3]}<br>PAI=%{customdata[4]}<br>Random Sentence 1=%{customdata[5]}<br>Random Context Window 1=%{customdata[6]}<br>Random Seed Words 1=%{customdata[7]}<br>Random Sentence 2=%{customdata[8]}<br>Random Context Window 2=%{customdata[9]}<br>Random Seed Words 2=%{customdata[10]}<br>Random Sentence 3=%{customdata[11]}<br>Random Context Window 3=%{customdata[12]}<br>Random Seed Words 3=%{customdata[13]}<extra></extra>",
         "legendgroup": "1800",
         "marker": {
          "color": "#FFA15A",
          "size": 12,
          "symbol": "circle"
         },
         "mode": "markers",
         "name": "1800",
         "orientation": "v",
         "showlegend": true,
         "type": "scatter",
         "x": [
          -10.853302637118581,
          37.76454681413992,
          -14.814835387775956,
          22.023261401439818,
          -2.711429481223476,
          11.472365810742144,
          1.523403133144624,
          -0.7046804874323993,
          -30.27615698222922,
          25.32122273517424,
          -7.732609419029885,
          -14.20699636829552,
          -31.701233141718433,
          -24.062324556577348,
          42.257254274601664,
          -0.28839781860229785,
          15.46795091907875,
          4.848170827704295,
          -22.812765134153015,
          9.826138705762869,
          36.48387213531076,
          -16.007252086897243,
          -26.495385180618435,
          -33.512374839645084,
          -27.00903450536108,
          -7.5594254118459405,
          28.18440235431176,
          -7.579365404760858,
          -2.4065257915940172,
          -39.63323544863869,
          -29.872778685891618,
          -19.305539747535523,
          -33.71931723897019,
          -28.32523671466825,
          -39.310814716587124,
          -34.962823602092854,
          -6.0996383933620315,
          26.356783529848656,
          10.385779625067299,
          1.5007162446996767,
          -18.519143484046563,
          -39.16292871701644,
          -38.91073934055268,
          -41.770053692692095,
          -32.97572132783866,
          -57.40318897553492,
          -36.85989807297863,
          -8.845278186713333,
          -22.5540032717746,
          -28.5259966556428,
          -41.70342123509927,
          19.11865167108138,
          1.8924802086950225,
          -40.913487381510414,
          -7.657129376020955,
          -39.53658974721927,
          20.255332287163412,
          22.3887744707802,
          -0.10785956258275346,
          -24.27775054960556,
          12.509497911160313,
          43.40061001638292,
          -3.9859789652039974,
          3.2761321062327036,
          -8.890353216815317,
          -3.3378802431404186,
          -2.449564698079507,
          5.525449881787465,
          -1.0035310012651004,
          -28.90117919929772,
          -23.552139125716042,
          -37.090290321217545,
          -33.36098023023033,
          18.817555850726265,
          -17.859121450221522,
          -1.3209446794569224,
          18.914076585210363,
          27.790363650909388,
          12.42686430436134,
          -9.785558394384731,
          -41.596974279720634,
          -0.7683394676931178,
          -8.592044171714079,
          -35.76455640425463,
          26.081216212800324,
          -8.472555333264207,
          8.10842340998665,
          -5.732100575092309,
          -3.33135387652891,
          6.8515246478194385,
          18.70527384837568,
          -6.4687132457945555,
          25.24677164754776,
          31.97545976211833,
          -20.328328192660724,
          -36.171353536647054,
          -15.771563111324253,
          -23.019433141640683,
          -12.967090647081823,
          -21.563142700836647
         ],
         "xaxis": "x",
         "y": [
          -1.9563473120982793,
          -1.2486424456917178,
          27.40895603277551,
          5.565684684379189,
          -39.73442281202936,
          6.312942365123276,
          30.980461893148735,
          11.433655211795939,
          38.830221531910745,
          5.807614072153457,
          12.772193281220622,
          27.4443252329276,
          -0.46565061779797173,
          26.72995674402145,
          5.356220683715572,
          31.546859850010318,
          15.104217391781654,
          21.605208607000552,
          28.371486785608198,
          -19.241864934629962,
          10.279293953094216,
          -4.795814453237024,
          -24.843295122927703,
          -0.6473795902610792,
          -2.694018380494925,
          3.434099339268035,
          0.14964913019541098,
          -5.802559603697877,
          -13.777195948139441,
          12.653847651325217,
          -25.689332380833285,
          -27.31328693207241,
          0.9644999228369263,
          21.592697400574828,
          10.601349482518172,
          -24.36206739910534,
          -28.950876799238642,
          -4.2552387300930254,
          17.399567079920192,
          -5.6502272409350685,
          -1.1245784699307524,
          3.960133668165041,
          -18.126856520310554,
          -3.4187043971548925,
          38.41339714612309,
          36.660995025166,
          6.880804314945423,
          16.01811522459971,
          11.150204380907333,
          20.33598097045255,
          16.37859892488085,
          9.27560706673691,
          11.257246598509745,
          22.094113306533803,
          -7.944895595007076,
          -5.252152712951281,
          6.727307555294904,
          16.569261063470222,
          4.328923135983935,
          17.806963431392955,
          -16.34735816468994,
          12.156020226560246,
          -0.5860113311280979,
          4.611650194856996,
          11.777865130162565,
          6.909581312305034,
          14.293167769134104,
          15.250447882774294,
          4.993025592414997,
          6.843828292335279,
          48.89957294604417,
          7.22432768351435,
          -5.23527462395379,
          24.21658642077744,
          -27.359247979833583,
          13.615565635469698,
          3.2217750402137346,
          -6.900968557839617,
          15.676670063051505,
          -17.06674689247828,
          17.15871199498852,
          -33.30604636940072,
          0.26343336277821305,
          -12.732657999123024,
          -1.6544433939348477,
          -8.279928547364877,
          -19.955531986703402,
          -26.288216601479217,
          -20.412727036369326,
          -18.934781815119642,
          -10.591261323868277,
          -4.581972521934298,
          6.572908291640908,
          22.342378874257044,
          -3.0221509407434297,
          -13.232621339547809,
          -7.264668235853895,
          -21.781139998682654,
          -35.18254416711446,
          20.486797338315398
         ],
         "yaxis": "y"
        },
        {
         "customdata": [
          [
           [
            "scratching",
            "NOUN"
           ],
           "hear",
           2,
           2,
           0,
           "<br> a scratching noise , along on the side of <br> the wall where the ivy clung to the trellis <br> and covered the huge stone pillars supporting the terrace <br> .  ",
           "scratching",
           "('noise', 'NOUN')",
           "NA",
           "NA",
           "NA",
           "NA",
           "NA",
           "NA",
           3.936960129779529
          ],
          [
           [
            "jingles",
            "NOUN"
           ],
           "hear",
           2,
           2,
           0,
           "<br> each time she pressed every digit in his phone <br> number except the last , the six - note <br> touch tone song deepening her dilemma because it reminded <br> her of one of international foods ' stupid little <br> commercial jingles for soda pop or corn chips .",
           "commercial jingles soda corn chips",
           "('pop', 'NOUN')",
           "NA",
           "NA",
           "NA",
           "NA",
           "NA",
           "NA",
           -6.317159006207314
          ],
          [
           [
            "repeat",
            "VERB"
           ],
           "hear",
           2,
           2,
           0,
           "<br> heard himself repeat the addressee 's name , then <br> for a few beats he heard his own blood <br> pounding in his ears .  ",
           "repeat addressee",
           "('heard', 'VERB')",
           "NA",
           "NA",
           "NA",
           "NA",
           "NA",
           "NA",
           1.2113419036206012
          ],
          [
           [
            "shower",
            "NOUN"
           ],
           "hear",
           2,
           2,
           0,
           "<br> she heard the shower stop and checked the cycle <br> 's timer .",
           "shower stop",
           "('heard', 'VERB')",
           "NA",
           "NA",
           "NA",
           "NA",
           "NA",
           "NA",
           -2.6518993465484355
          ],
          [
           [
            "classical",
            "ADJ"
           ],
           "hear",
           2,
           2,
           0,
           "<br> the auditorium grew silent as the overhead lights dimmed <br> and the piped - in classical music dissolved .",
           "piped classical dissolved",
           "('music', 'NOUN')",
           "NA",
           "NA",
           "NA",
           "NA",
           "NA",
           "NA",
           -13.940820585248284
          ],
          [
           [
            "touch",
            "PROPN"
           ],
           "hear",
           2,
           2,
           0,
           "<br> each time she pressed every digit in his phone <br> number except the last , the six - note <br> touch tone song deepening her dilemma because it reminded <br> her of one of international foods ' stupid little <br> commercial jingles for soda pop or corn chips .",
           "note touch song deepening dilemma",
           "('tone', 'PROPN')",
           "NA",
           "NA",
           "NA",
           "NA",
           "NA",
           "NA",
           -10.85500728946694
          ],
          [
           [
            "squealing",
            "NOUN"
           ],
           "hear",
           2,
           2,
           0,
           "<br> the sound of the engine grew distant , then <br> came a high squealing noise when the car reached <br> the end and turned onto the main road .",
           "came high squealing car reached",
           "('noise', 'NOUN')",
           "NA",
           "NA",
           "NA",
           "NA",
           "NA",
           "NA",
           -14.618695733983087
          ],
          [
           [
            "greta",
            "ADJ"
           ],
           "hear",
           2,
           2,
           0,
           "<br> but then she heard his voice , \" greta <br> ? , \" faintly , coming from downstairs . <br>  ",
           "heard greta",
           "('voice', 'NOUN')",
           "NA",
           "NA",
           "NA",
           "NA",
           "NA",
           "NA",
           -9.154019443236287
          ],
          [
           [
            "answered",
            "VERB"
           ],
           "hear",
           2,
           2,
           0,
           "<br> they raised their head , and there was a <br> great pride in their voice ; they answered : <br>   \" we have followed you . \"  ",
           "great pride answered",
           "('voice', 'NOUN')",
           "NA",
           "NA",
           "NA",
           "NA",
           "NA",
           "NA",
           21.670685868366412
          ],
          [
           [
            "doubt",
            "VERB"
           ],
           "hear",
           2,
           2,
           0,
           "<br> yet now , as we walk the forest , <br> we are learning to doubt .  ",
           "forest doubt",
           "('learning', 'VERB')",
           "<br> yet now , as we walk [ -through- ] <br> the forest , we are learning to doubt . <br>  ",
           "forest doubt",
           "('learning', 'VERB')",
           "NA",
           "NA",
           "NA",
           0.8500405970593446
          ],
          [
           [
            "arms",
            "NOUN"
           ],
           "hear",
           2,
           2,
           0,
           "<br> we sleep together in the midst of the ring <br> , the arms of the golden one around us <br> , their head upon our breast .  ",
           "midst arms",
           "('ring', 'NOUN')",
           "NA",
           "NA",
           "NA",
           "NA",
           "NA",
           "NA",
           -1.2348661963956487
          ],
          [
           [
            "midst",
            "NOUN"
           ],
           "hear",
           4,
           4,
           0,
           "<br> we sleep in the midst of that ring , <br> and the beasts dare not attack us .",
           "midst beasts",
           "('ring', 'NOUN')",
           "<br> we sleep together in the midst of the ring <br> , the arms of the golden one around us <br> , their head upon our breast .  ",
           "midst arms",
           "('ring', 'NOUN')",
           "NA",
           "NA",
           "NA",
           24.67259217168919
          ],
          [
           [
            "fires",
            "NOUN"
           ],
           "hear",
           2,
           2,
           0,
           "<br> at night , we choose a clearing , and <br> we build a ring of fires around it .",
           "build fires",
           "('ring', 'NOUN')",
           "NA",
           "NA",
           "NA",
           "NA",
           "NA",
           "NA",
           -23.867256646794573
          ],
          [
           [
            "pill",
            "NOUN"
           ],
           "hear",
           2,
           2,
           0,
           "<br> he had no cyanide pill if he was caught <br> .",
           "pill",
           "('caught', 'VERB')",
           "NA",
           "NA",
           "NA",
           "NA",
           "NA",
           "NA",
           -11.760066056022627
          ],
          [
           [
            "intercom",
            "NOUN"
           ],
           "hear",
           2,
           2,
           0,
           "<br> \" send him in , please , \" came <br> william harrell 's voice thinly from the intercom on <br> his secretary 's desk .  ",
           "came william harrell thinly intercom",
           "('voice', 'NOUN')",
           "NA",
           "NA",
           "NA",
           "NA",
           "NA",
           "NA",
           41.70521070745633
          ],
          [
           [
            "winds",
            "NOUN"
           ],
           "hear",
           2,
           2,
           0,
           "<br> we learned the names of all the winds which <br> blow over the seas and push the sails of <br> our great ships .",
           "winds seas",
           "('blow', 'VERB')",
           "NA",
           "NA",
           "NA",
           "NA",
           "NA",
           "NA",
           5.974966851569241
          ],
          [
           [
            "enjoying",
            "VERB"
           ],
           "hear",
           2,
           2,
           0,
           "<br> i retired , and me and my wife have <br> been enjoying ourselves and playing around like kids ever <br> since .",
           "enjoying kids",
           "('playing', 'VERB')",
           "NA",
           "NA",
           "NA",
           "NA",
           "NA",
           "NA",
           -9.145064699076901
          ],
          [
           [
            "invigorated",
            "ADJ"
           ],
           "hear",
           2,
           2,
           0,
           "<br> he became wholly attentive and invigorated .  ",
           "wholly invigorated",
           "('attentive', 'ADJ')",
           "NA",
           "NA",
           "NA",
           "NA",
           "NA",
           "NA",
           -10.238391587348199
          ],
          [
           [
            "paper",
            "NOUN"
           ],
           "hear",
           2,
           2,
           0,
           "<br> i played paper dolls a long time .",
           "paper dolls long",
           "('played', 'VERB')",
           "<br> you sit back down under the candy counter and <br> be playing with them paper dolls !",
           "candy counter paper dolls",
           "('playing', 'VERB')",
           "NA",
           "NA",
           "NA",
           50.097291666746436
          ],
          [
           [
            "assisted",
            "VERB"
           ],
           "hear",
           2,
           2,
           0,
           "<br> on two occasions she had assisted matthew in preparing <br> his speeches .",
           "assisted matthew speeches",
           "('preparing', 'VERB')",
           "NA",
           "NA",
           "NA",
           "NA",
           "NA",
           "NA",
           8.717965549208982
          ],
          [
           [
            "demand",
            "VERB"
           ],
           "hear",
           2,
           2,
           0,
           "<br> the employment of a veterinarian was n't important enough <br> to demand the attention of a senior executive .",
           "demand senior executive",
           "('attention', 'NOUN')",
           "<br> i do n't think i would have time to <br> give you the attention you 'd demand . \" <br>  ",
           "demand",
           "('attention', 'NOUN')",
           "NA",
           "NA",
           "NA",
           -5.452425619754589
          ],
          [
           [
            "speeches",
            "NOUN"
           ],
           "hear",
           2,
           2,
           0,
           "<br> on two occasions she had assisted matthew in preparing <br> his speeches .",
           "assisted matthew speeches",
           "('preparing', 'VERB')",
           "NA",
           "NA",
           "NA",
           "NA",
           "NA",
           "NA",
           -5.508835260425144
          ],
          [
           [
            "father",
            "NOUN"
           ],
           "hear",
           2,
           2,
           0,
           "<br> my father sponsors polo players , did i already <br> mention that ?",
           "father sponsors polo",
           "('players', 'NOUN')",
           "NA",
           "NA",
           "NA",
           "NA",
           "NA",
           "NA",
           -24.023031006241045
          ],
          [
           [
            "sponsors",
            "VERB"
           ],
           "hear",
           2,
           2,
           0,
           "<br> my father sponsors polo players , did i already <br> mention that ?",
           "father sponsors polo",
           "('players', 'NOUN')",
           "NA",
           "NA",
           "NA",
           "NA",
           "NA",
           "NA",
           -21.704089157466523
          ],
          [
           [
            "hotel",
            "PROPN"
           ],
           "hear",
           2,
           2,
           0,
           "<br> he pulled up in front of the campton hotel <br> , and the attendant took the car .  ",
           "hotel took car",
           "('attendant', 'NOUN')",
           "NA",
           "NA",
           "NA",
           "NA",
           "NA",
           "NA",
           13.006494020596435
          ],
          [
           [
            "smaller",
            "ADJ"
           ],
           "hear",
           2,
           2,
           0,
           "<br> \" okay , \" she said , her voice <br> different now , smaller . \"",
           "said different smaller",
           "('voice', 'NOUN')",
           "NA",
           "NA",
           "NA",
           "NA",
           "NA",
           "NA",
           -23.485384256491088
          ],
          [
           [
            "hooky",
            "NOUN"
           ],
           "hear",
           2,
           2,
           0,
           "<br> i feel like i 'm playing hooky , \" <br> he said honestly .  ",
           "feel hooky",
           "('playing', 'VERB')",
           "NA",
           "NA",
           "NA",
           "NA",
           "NA",
           "NA",
           -2.1960684691551426
          ],
          [
           [
            "talk",
            "NOUN"
           ],
           "hear",
           2,
           2,
           0,
           "<br> hearing her talk about it , he thought that <br> it might be exciting to go there .",
           "talk",
           "('hearing', 'VERB')",
           "NA",
           "NA",
           "NA",
           "NA",
           "NA",
           "NA",
           -9.793639516474352
          ],
          [
           [
            "different",
            "ADV"
           ],
           "hear",
           2,
           2,
           0,
           "<br> \" okay , \" she said , her voice <br> different now , smaller . \"",
           "said different smaller",
           "('voice', 'NOUN')",
           "NA",
           "NA",
           "NA",
           "NA",
           "NA",
           "NA",
           -17.59121840091866
          ],
          [
           [
            "mail",
            "NOUN"
           ],
           "hear",
           2,
           2,
           0,
           "<br> matthew 's message was now unfolded on the display <br> , complete , and as he wiped , the <br> e - mail 's subject caught his eye .",
           "mail subject eye",
           "('caught', 'VERB')",
           "NA",
           "NA",
           "NA",
           "NA",
           "NA",
           "NA",
           -22.41824936952439
          ],
          [
           [
            "beasts",
            "NOUN"
           ],
           "hear",
           2,
           2,
           0,
           "<br> we sleep in the midst of that ring , <br> and the beasts dare not attack us .",
           "midst beasts",
           "('ring', 'NOUN')",
           "NA",
           "NA",
           "NA",
           "NA",
           "NA",
           "NA",
           21.492729318463347
          ],
          [
           [
            "stops",
            "VERB"
           ],
           "hear",
           2,
           2,
           0,
           "<br> mr. locke , you 're on in one minute <br> , as soon as the music stops .",
           "soon stops",
           "('music', 'NOUN')",
           "NA",
           "NA",
           "NA",
           "NA",
           "NA",
           "NA",
           -6.617525009838363
          ],
          [
           [
            "mornings",
            "NOUN"
           ],
           "hear",
           2,
           2,
           0,
           "<br> finishing sentences or the last bite of a muffin <br> or looking up from their agendas , the board <br> members and executive staff voiced their good mornings . <br>  ",
           "members executive staff good mornings",
           "('voiced', 'VERB')",
           "NA",
           "NA",
           "NA",
           "NA",
           "NA",
           "NA",
           1.461001207537233
          ],
          [
           [
            "polo",
            "NOUN"
           ],
           "hear",
           4,
           4,
           0,
           "<br> right now , in deauville , where i have <br> lived most of my life as a polo player <br> , the tournament is underway .",
           "life polo tournament",
           "('player', 'NOUN')",
           "<br> my father sponsors polo players , did i already <br> mention that ?",
           "father sponsors polo",
           "('players', 'NOUN')",
           "NA",
           "NA",
           "NA",
           -21.89911538147939
          ],
          [
           [
            "gust",
            "NOUN"
           ],
           "hear",
           2,
           2,
           0,
           "<br> a chilly gust of wind blew open the terrace <br> doors and lifted the curtains .",
           "chilly gust wind open terrace doors",
           "('blew', 'VERB')",
           "NA",
           "NA",
           "NA",
           "NA",
           "NA",
           "NA",
           -25.106061664366656
          ],
          [
           [
            "rushed",
            "VERB"
           ],
           "hear",
           2,
           2,
           0,
           "<br> greta said , hearing her own voice crack as <br> she rushed to his side .  ",
           "hearing crack rushed",
           "('voice', 'NOUN')",
           "NA",
           "NA",
           "NA",
           "NA",
           "NA",
           "NA",
           -5.621962986270979
          ],
          [
           [
            "hearing",
            "VERB"
           ],
           "hear",
           2,
           2,
           0,
           "<br> greta said , hearing her own voice crack as <br> she rushed to his side .  ",
           "hearing crack rushed",
           "('voice', 'NOUN')",
           "NA",
           "NA",
           "NA",
           "NA",
           "NA",
           "NA",
           -3.6355947765967302
          ],
          [
           [
            "collar",
            "NOUN"
           ],
           "hear",
           2,
           2,
           0,
           "<br> pulling his tie from his collar , he caught <br> her earnest reflection in the full - length closet <br> mirror .",
           "collar earnest reflection",
           "('caught', 'VERB')",
           "NA",
           "NA",
           "NA",
           "NA",
           "NA",
           "NA",
           -4.5771277486291515
          ],
          [
           [
            "terrace",
            "NOUN"
           ],
           "hear",
           2,
           2,
           0,
           "<br> a chilly gust of wind blew open the terrace <br> doors and lifted the curtains .",
           "chilly gust wind open terrace doors",
           "('blew', 'VERB')",
           "NA",
           "NA",
           "NA",
           "NA",
           "NA",
           "NA",
           -23.01145165680909
          ],
          [
           [
            "crack",
            "NOUN"
           ],
           "hear",
           4,
           4,
           0,
           "<br> greta said , hearing her own voice crack as <br> she rushed to his side .  ",
           "hearing crack rushed",
           "('voice', 'NOUN')",
           "NA",
           "NA",
           "NA",
           "NA",
           "NA",
           "NA",
           5.870422470598359
          ],
          [
           [
            "chilly",
            "ADJ"
           ],
           "hear",
           2,
           2,
           0,
           "<br> a chilly gust of wind blew open the terrace <br> doors and lifted the curtains .",
           "chilly gust wind open terrace doors",
           "('blew', 'VERB')",
           "NA",
           "NA",
           "NA",
           "NA",
           "NA",
           "NA",
           -12.493836263091461
          ],
          [
           [
            "reflection",
            "NOUN"
           ],
           "hear",
           2,
           2,
           0,
           "<br> pulling his tie from his collar , he caught <br> her earnest reflection in the full - length closet <br> mirror .",
           "collar earnest reflection",
           "('caught', 'VERB')",
           "NA",
           "NA",
           "NA",
           "NA",
           "NA",
           "NA",
           3.302520218907068
          ],
          [
           [
            "whisper",
            "NOUN"
           ],
           "hear",
           4,
           4,
           0,
           "<br> \" yes , \" he said , his voice <br> barely a whisper .",
           "said barely whisper",
           "('voice', 'NOUN')",
           "<br> his voice became a whisper . \"",
           "whisper",
           "('voice', 'NOUN')",
           "NA",
           "NA",
           "NA",
           1.5099966879035682
          ],
          [
           [
            "earnest",
            "ADJ"
           ],
           "hear",
           2,
           2,
           0,
           "<br> pulling his tie from his collar , he caught <br> her earnest reflection in the full - length closet <br> mirror .",
           "collar earnest reflection",
           "('caught', 'VERB')",
           "NA",
           "NA",
           "NA",
           "NA",
           "NA",
           "NA",
           -10.509418531607476
          ],
          [
           [
            "tones",
            "NOUN"
           ],
           "hear",
           2,
           2,
           0,
           "<br> she had memorized the phone number , not by <br> digits , but by the pattern of tones that <br> she played over and over with her index finger <br> .",
           "tones",
           "('played', 'VERB')",
           "NA",
           "NA",
           "NA",
           "NA",
           "NA",
           "NA",
           -16.008693060399153
          ],
          [
           [
            "repair",
            "VERB"
           ],
           "hear",
           2,
           2,
           0,
           "<br> i shall learn how to repair it and how <br> to make it work again .",
           "shall repair",
           "('learn', 'VERB')",
           "NA",
           "NA",
           "NA",
           "NA",
           "NA",
           "NA",
           -2.9650759584708135
          ],
          [
           [
            "clicked",
            "VERB"
           ],
           "hear",
           2,
           2,
           0,
           "<br> it was only a minute until the message tube <br> clicked and popped a capsule onto the girl 's <br> desk .",
           "message tube clicked capsule",
           "('popped', 'VERB')",
           "<br> the minute the usher 's back was turned , <br> i clicked off my hearing aid so that i <br> would n't have to listen to the pastor 's <br> sermon , the organ , or anything else .",
           "clicked aid",
           "('hearing', 'NOUN')",
           "NA",
           "NA",
           "NA",
           -18.615440566591968
          ],
          [
           [
            "secrets",
            "NOUN"
           ],
           "hear",
           2,
           2,
           0,
           "<br> i shall learn many secrets from my books .",
           "shall secrets",
           "('learn', 'VERB')",
           "NA",
           "NA",
           "NA",
           "NA",
           "NA",
           "NA",
           3.5014545725830426
          ],
          [
           [
            "polo",
            "ADJ"
           ],
           "hear",
           2,
           2,
           0,
           "<br> he told her that , like most polo players <br> , he was a thrill - seeker ; his <br> attitude was that all of life was a game <br> , one big gamble , there for the playing <br> .",
           "polo",
           "('players', 'NOUN')",
           "NA",
           "NA",
           "NA",
           "NA",
           "NA",
           "NA",
           18.341604695160033
          ],
          [
           [
            "dismounted",
            "VERB"
           ],
           "hear",
           2,
           2,
           0,
           "<br> jean - pierre had dismounted by the far ring <br> and was walking toward the barn .",
           "dismounted far walking",
           "('ring', 'NOUN')",
           "NA",
           "NA",
           "NA",
           "NA",
           "NA",
           "NA",
           29.3736313876405
          ],
          [
           [
            "power",
            "NOUN"
           ],
           "hear",
           3,
           3,
           0,
           "<br> air whistled out of the lani 's gaping mouth <br> as he bent double from the power of the <br> blow .",
           "power",
           "('blow', 'NOUN')",
           "<br> he felt armed and ready to face for the <br> first time all of wallaby 's power players in <br> the very room from which three months earlier he <br> had ejected peter jones .  ",
           "wallaby power room",
           "('players', 'NOUN')",
           "NA",
           "NA",
           "NA",
           55.291644509889544
          ],
          [
           [
            "members",
            "NOUN"
           ],
           "hear",
           2,
           2,
           0,
           "<br> finishing sentences or the last bite of a muffin <br> or looking up from their agendas , the board <br> members and executive staff voiced their good mornings . <br>  ",
           "members executive staff good mornings",
           "('voiced', 'VERB')",
           "NA",
           "NA",
           "NA",
           "NA",
           "NA",
           "NA",
           -15.10929912083509
          ],
          [
           [
            "aid",
            "NOUN"
           ],
           "hear",
           3,
           3,
           0,
           "<br> the usher was saying something to me , but <br> before i could adjust my hearing aid , i <br> had to push my shawl back and slip a <br> glove .",
           "adjust aid",
           "('hearing', 'NOUN')",
           "<br> the minute the usher 's back was turned , <br> i clicked off my hearing aid so that i <br> would n't have to listen to the pastor 's <br> sermon , the organ , or anything else .",
           "clicked aid",
           "('hearing', 'NOUN')",
           "<br> let me get my hearing aid adjusted .",
           "let aid adjusted",
           "('hearing', 'NOUN')",
           28.154949084379798
          ],
          [
           [
            "straining",
            "VERB"
           ],
           "hear",
           2,
           2,
           0,
           "<br> she hissed , straining to be both heard and <br> quiet at once .  ",
           "straining quiet",
           "('heard', 'VERB')",
           "NA",
           "NA",
           "NA",
           "NA",
           "NA",
           "NA",
           23.057590936999407
          ],
          [
           [
            "commercial",
            "NOUN"
           ],
           "hear",
           2,
           2,
           0,
           "<br> just before getting out of the car , he <br> caught a commercial that froze him in his seat <br> for its duration .",
           "car commercial froze",
           "('caught', 'VERB')",
           "NA",
           "NA",
           "NA",
           "NA",
           "NA",
           "NA",
           14.038170117059773
          ],
          [
           [
            "tune",
            "NOUN"
           ],
           "hear",
           3,
           3,
           0,
           "<br> so we were reprimanded tonight , in the dining <br> hall , for without knowing it we had begun <br> to sing aloud some tune we had never heard <br> .",
           "tune",
           "('heard', 'VERB')",
           "NA",
           "NA",
           "NA",
           "NA",
           "NA",
           "NA",
           -12.305266955627657
          ],
          [
           [
            "rubbery",
            "ADV"
           ],
           "hear",
           2,
           2,
           0,
           "<br> \" kate , \" he said , his voice <br> rubbery .  ",
           "said rubbery",
           "('voice', 'NOUN')",
           "NA",
           "NA",
           "NA",
           "NA",
           "NA",
           "NA",
           0.13540161676503507
          ],
          [
           [
            "coins",
            "NOUN"
           ],
           "hear",
           2,
           2,
           0,
           "<br> the fortune of my spirit is not to be <br> blown into coins of brass and flung to the <br> winds as alms for the poor of the spirit <br> .",
           "coins brass",
           "('blown', 'VERB')",
           "NA",
           "NA",
           "NA",
           "NA",
           "NA",
           "NA",
           -20.61500897019298
          ],
          [
           [
            "answering",
            "NOUN"
           ],
           "hear",
           2,
           2,
           0,
           "<br> we look ahead , we beg our heart for <br> guidance in answering this call no voice has spoken <br> , yet we have heard .",
           "answering spoken",
           "('voice', 'NOUN')",
           "NA",
           "NA",
           "NA",
           "NA",
           "NA",
           "NA",
           -10.177528952902751
          ],
          [
           [
            "spoken",
            "VERB"
           ],
           "hear",
           2,
           2,
           0,
           "<br> we look ahead , we beg our heart for <br> guidance in answering this call no voice has spoken <br> , yet we have heard .",
           "answering spoken",
           "('voice', 'NOUN')",
           "NA",
           "NA",
           "NA",
           "NA",
           "NA",
           "NA",
           0.07512697004656937
          ],
          [
           [
            "gives",
            "VERB"
           ],
           "hear",
           2,
           2,
           0,
           "<br> it is my ears which hear , and the <br> hearing of my ears gives its song to the <br> world .",
           "hear ears gives",
           "('hearing', 'NOUN')",
           "NA",
           "NA",
           "NA",
           "NA",
           "NA",
           "NA",
           -23.173681067069666
          ],
          [
           [
            "hearing",
            "NOUN"
           ],
           "hear",
           2,
           2,
           0,
           "<br> it is my ears which hear , and the <br> hearing of my ears gives its song to the <br> world .",
           "ears hearing",
           "('hear', 'VERB')",
           "NA",
           "NA",
           "NA",
           "NA",
           "NA",
           "NA",
           -2.8084405496822105
          ],
          [
           [
            "trembled",
            "VERB"
           ],
           "hear",
           4,
           4,
           0,
           "<br> we asked , and our voice trembled :   <br> \"",
           "asked trembled",
           "('voice', 'NOUN')",
           "NA",
           "NA",
           "NA",
           "NA",
           "NA",
           "NA",
           -21.25863516227625
          ],
          [
           [
            "tunic",
            "ADJ"
           ],
           "hear",
           2,
           2,
           0,
           "<br> then the golden one saw us , and they <br> did not move , kneeling there , looking at <br> us , and circles of light played upon their <br> white tunic , from the sun on the water <br> of the moat , and one sparkling drop fell <br> from a finger of their hand held as frozen <br> in the air .  ",
           "circles light white tunic",
           "('played', 'VERB')",
           "NA",
           "NA",
           "NA",
           "NA",
           "NA",
           "NA",
           -25.03402839690832
          ],
          [
           [
            "circles",
            "NOUN"
           ],
           "hear",
           2,
           2,
           0,
           "<br> then the golden one saw us , and they <br> did not move , kneeling there , looking at <br> us , and circles of light played upon their <br> white tunic , from the sun on the water <br> of the moat , and one sparkling drop fell <br> from a finger of their hand held as frozen <br> in the air .  ",
           "circles light white tunic",
           "('played', 'VERB')",
           "NA",
           "NA",
           "NA",
           "NA",
           "NA",
           "NA",
           25.539290994649907
          ],
          [
           [
            "names",
            "NOUN"
           ],
           "hear",
           2,
           2,
           0,
           "<br> there were the men whose famous names we knew <br> , and others from distant lands whose names we <br> had not heard .",
           "names",
           "('heard', 'VERB')",
           "<br> there were { + the+ } men whose famous <br> names we knew , and others from distant lands <br> whose names we had not heard .",
           "names",
           "('heard', 'VERB')",
           "NA",
           "NA",
           "NA",
           -19.634341773344218
          ],
          [
           [
            "mercy",
            "NOUN"
           ],
           "hear",
           2,
           2,
           0,
           "<br> our voice was hard and there was no mercy <br> in our voice .",
           "mercy",
           "('voice', 'NOUN')",
           "NA",
           "NA",
           "NA",
           "NA",
           "NA",
           "NA",
           -7.05574413703389
          ],
          [
           [
            "hung",
            "VERB"
           ],
           "hear",
           2,
           2,
           0,
           "<br> we hung on the iron rings with our hands <br> and our feet .",
           "hung iron hands",
           "('rings', 'VERB')",
           "<br> we hung on the iron rings with our hands <br> and { + our+ } feet .",
           "hung iron hands",
           "('rings', 'VERB')",
           "NA",
           "NA",
           "NA",
           -22.849662110245063
          ],
          [
           [
            "leading",
            "VERB"
           ],
           "hear",
           2,
           2,
           0,
           "<br> and then we saw iron rings as steps leading <br> down a shaft into a darkness without bottom . <br>  ",
           "saw iron steps leading",
           "('rings', 'NOUN')",
           "NA",
           "NA",
           "NA",
           "NA",
           "NA",
           "NA",
           -8.94628646735961
          ],
          [
           [
            "chills",
            "VERB"
           ],
           "hear",
           2,
           2,
           0,
           "<br> help us ! \" into the night , in <br> a voice which chills our bones , but the <br> doctors can not cure solidarity 9 - 6347 . <br>  ",
           "night chills bones",
           "('voice', 'NOUN')",
           "NA",
           "NA",
           "NA",
           "NA",
           "NA",
           "NA",
           5.8866752177893735
          ],
          [
           [
            "falling",
            "VERB"
           ],
           "hear",
           2,
           2,
           0,
           "<br> we knew that the blows were falling upon our <br> back .",
           "knew falling",
           "('blows', 'NOUN')",
           "<br> we knew that the blows were falling upon our <br> [ -back.- ] { + back+ } only we <br> felt nothing upon our back any longer .",
           "knew falling",
           "('blows', 'NOUN')",
           "NA",
           "NA",
           "NA",
           -0.9679312195374744
          ],
          [
           [
            "snarling",
            "VERB"
           ],
           "hear",
           2,
           2,
           0,
           "<br> then we knew nothing , save two voices snarling <br> steadily , one after the other , even though <br> we knew they were speaking many minutes apart : <br>   \"",
           "save snarling steadily",
           "('voices', 'NOUN')",
           "NA",
           "NA",
           "NA",
           "NA",
           "NA",
           "NA",
           -2.032164033075846
          ],
          [
           [
            "steadily",
            "ADV"
           ],
           "hear",
           2,
           2,
           0,
           "<br> then we knew nothing , save two voices snarling <br> steadily , one after the other , even though <br> we knew they were speaking many minutes apart : <br>   \"",
           "save snarling steadily",
           "('voices', 'NOUN')",
           "NA",
           "NA",
           "NA",
           "NA",
           "NA",
           "NA",
           -25.12499701599502
          ],
          [
           [
            "surrounded",
            "VERB"
           ],
           "hear",
           2,
           2,
           0,
           "<br> he had felt uncomfortable walking through the city , <br> unable to see more than a few blocks in <br> any direction , surrounded by noise , exhaust , <br> and serious faces .",
           "direction surrounded exhaust",
           "('noise', 'NOUN')",
           "NA",
           "NA",
           "NA",
           "NA",
           "NA",
           "NA",
           -2.976998730029459
          ],
          [
           [
            "loudly",
            "ADV"
           ],
           "hear",
           2,
           2,
           0,
           "<br> the dial tone questioned loudly .",
           "dial questioned loudly",
           "('tone', 'NOUN')",
           "NA",
           "NA",
           "NA",
           "NA",
           "NA",
           "NA",
           -22.20885698852384
          ],
          [
           [
            "deemed",
            "VERB"
           ],
           "hear",
           2,
           2,
           0,
           "<br> he had come to think of the binder as <br> his clay , molded into the shape of a <br> new wallaby , a grassroots company deemed a serious <br> player by the most important counsel of all , <br> based in this very city : wall street .",
           "company deemed important",
           "('player', 'NOUN')",
           "NA",
           "NA",
           "NA",
           "NA",
           "NA",
           "NA",
           -17.716096092968673
          ],
          [
           [
            "seas",
            "NOUN"
           ],
           "hear",
           2,
           2,
           0,
           "<br> we learned the names of all the winds which <br> blow over the seas and push the sails of <br> our great ships .",
           "winds seas",
           "('blow', 'VERB')",
           "NA",
           "NA",
           "NA",
           "NA",
           "NA",
           "NA",
           -12.033312615791402
          ],
          [
           [
            "leapt",
            "VERB"
           ],
           "hear",
           2,
           2,
           0,
           "<br> we swung our fist through the windowpane , and <br> we leapt out in a ringing rain of glass <br> .  ",
           "leapt rain glass",
           "('ringing', 'VERB')",
           "NA",
           "NA",
           "NA",
           "NA",
           "NA",
           "NA",
           2.535668515803606
          ],
          [
           [
            "rain",
            "NOUN"
           ],
           "hear",
           2,
           2,
           0,
           "<br> we swung our fist through the windowpane , and <br> we leapt out in a ringing rain of glass <br> .  ",
           "leapt rain glass",
           "('ringing', 'VERB')",
           "NA",
           "NA",
           "NA",
           "NA",
           "NA",
           "NA",
           -11.417736172728583
          ],
          [
           [
            "pay",
            "VERB"
           ],
           "hear",
           4,
           4,
           0,
           "<br> little ' intelligent ' software buddies that run on <br> your computer in the background and pay attention to <br> what you 're doing , and what you 're <br> not doing , and then act on their own <br> , on your behalf , to help you by <br> anticipating your next move .",
           "background pay",
           "('attention', 'NOUN')",
           "<br> not till wiley started telling about school did i <br> rub my eyes good , yawn , and try <br> to pay attention again .  ",
           "try pay",
           "('attention', 'NOUN')",
           "<br> pay attention to captain jones",
           "pay captain jones",
           "('attention', 'NOUN')",
           7.755745833784438
          ],
          [
           [
            "exhaust",
            "NOUN"
           ],
           "hear",
           2,
           2,
           0,
           "<br> he had felt uncomfortable walking through the city , <br> unable to see more than a few blocks in <br> any direction , surrounded by noise , exhaust , <br> and serious faces .",
           "direction surrounded exhaust",
           "('noise', 'NOUN')",
           "NA",
           "NA",
           "NA",
           "NA",
           "NA",
           "NA",
           -17.7712648274665
          ],
          [
           [
            "brass",
            "NOUN"
           ],
           "hear",
           3,
           3,
           0,
           "<br> the fortune of my spirit is not to be <br> blown into coins of brass and flung to the <br> winds as alms for the poor of the spirit <br> .",
           "coins brass",
           "('blown', 'VERB')",
           "NA",
           "NA",
           "NA",
           "NA",
           "NA",
           "NA",
           -11.245448822763144
          ],
          [
           [
            "wonder",
            "NOUN"
           ],
           "hear",
           2,
           2,
           0,
           "<br> then our hands seized a branch and swung us <br> high into a tree , with no aim save <br> the wonder of learning the strength of our body <br> .",
           "wonder strength",
           "('learning', 'VERB')",
           "NA",
           "NA",
           "NA",
           "NA",
           "NA",
           "NA",
           -7.105492203686936
          ],
          [
           [
            "pride",
            "NOUN"
           ],
           "hear",
           2,
           2,
           0,
           "<br> they raised their head , and there was a <br> great pride in their voice ; they answered : <br>   \" we have followed you . \"  ",
           "great pride answered",
           "('voice', 'NOUN')",
           "NA",
           "NA",
           "NA",
           "NA",
           "NA",
           "NA",
           -3.914516510611444
          ],
          [
           [
            "history",
            "NOUN"
           ],
           "hear",
           3,
           3,
           0,
           "<br> we did not listen well to the history of <br> all the councils elected since the great rebirth .",
           "history",
           "('listen', 'VERB')",
           "NA",
           "NA",
           "NA",
           "NA",
           "NA",
           "NA",
           -12.917347805991644
          ],
          [
           [
            "corruption",
            "NOUN"
           ],
           "hear",
           2,
           2,
           0,
           "<br> and we have heard of the corruption to be <br> found in solitude .",
           "corruption",
           "('heard', 'VERB')",
           "NA",
           "NA",
           "NA",
           "NA",
           "NA",
           "NA",
           -16.930244178346086
          ],
          [
           [
            "played",
            "VERB"
           ],
           "hear",
           2,
           2,
           0,
           "<br> she had memorized the phone number , not by <br> digits , but by the pattern of tones that <br> she played over and over with her index finger <br> .",
           "pattern played",
           "('tones', 'NOUN')",
           "NA",
           "NA",
           "NA",
           "NA",
           "NA",
           "NA",
           -23.114810986760478
          ],
          [
           [
            "concept",
            "NOUN"
           ],
           "hear",
           2,
           2,
           0,
           "<br> we were just starting to play around with the <br> concept before i left .",
           "starting concept",
           "('play', 'VERB')",
           "NA",
           "NA",
           "NA",
           "NA",
           "NA",
           "NA",
           33.15903231647645
          ],
          [
           [
            "starting",
            "VERB"
           ],
           "hear",
           2,
           2,
           0,
           "<br> we were just starting to play around with the <br> concept before i left .",
           "starting concept",
           "('play', 'VERB')",
           "NA",
           "NA",
           "NA",
           "NA",
           "NA",
           "NA",
           4.694036278393697
          ],
          [
           [
            "background",
            "NOUN"
           ],
           "hear",
           2,
           2,
           0,
           "<br> little ' intelligent ' software buddies that run on <br> your computer in the background and pay attention to <br> what you 're doing , and what you 're <br> not doing , and then act on their own <br> , on your behalf , to help you by <br> anticipating your next move .",
           "background pay",
           "('attention', 'NOUN')",
           "NA",
           "NA",
           "NA",
           "NA",
           "NA",
           "NA",
           -12.13530797049113
          ],
          [
           [
            "bored",
            "VERB"
           ],
           "hear",
           2,
           2,
           0,
           "<br> they turned to the two youngest , and said <br> , and their voice was bored :  ",
           "said bored",
           "('voice', 'NOUN')",
           "NA",
           "NA",
           "NA",
           "NA",
           "NA",
           "NA",
           69.31760295111154
          ],
          [
           [
            "dissolved",
            "VERB"
           ],
           "hear",
           2,
           2,
           0,
           "<br> the auditorium grew silent as the overhead lights dimmed <br> and the piped - in classical music dissolved .",
           "piped classical dissolved",
           "('music', 'NOUN')",
           "NA",
           "NA",
           "NA",
           "NA",
           "NA",
           "NA",
           -7.239877049030659
          ],
          [
           [
            "lids",
            "NOUN"
           ],
           "hear",
           2,
           2,
           0,
           "<br> he popped the lids and handed one to peter <br> . \"",
           "lids handed",
           "('popped', 'VERB')",
           "NA",
           "NA",
           "NA",
           "NA",
           "NA",
           "NA",
           -12.575527641177764
          ],
          [
           [
            "announcer",
            "NOUN"
           ],
           "hear",
           2,
           2,
           0,
           "<br> an announcer 's voice greeted the audience and a <br> large screen unrolled , on which a slide projector <br> beamed the wallaby logo .  ",
           "announcer greeted audience",
           "('voice', 'NOUN')",
           "NA",
           "NA",
           "NA",
           "NA",
           "NA",
           "NA",
           -21.404362130489854
          ],
          [
           [
            "build",
            "VERB"
           ],
           "hear",
           4,
           4,
           0,
           "<br> at night , we choose a clearing , and <br> we build a ring of fires around it .",
           "build fires",
           "('ring', 'NOUN')",
           "NA",
           "NA",
           "NA",
           "NA",
           "NA",
           "NA",
           23.296643069519835
          ],
          [
           [
            "pulse",
            "NOUN"
           ],
           "hear",
           2,
           2,
           0,
           "<br> she heard her own blood pulse in her ears <br> , felt dizzy and a little buzzed by the <br> wine , the rush of activity , and now <br> the stillness .  ",
           "blood pulse",
           "('heard', 'VERB')",
           "NA",
           "NA",
           "NA",
           "NA",
           "NA",
           "NA",
           -17.63258575023904
          ],
          [
           [
            "thinly",
            "ADV"
           ],
           "hear",
           2,
           2,
           0,
           "<br> \" send him in , please , \" came <br> william harrell 's voice thinly from the intercom on <br> his secretary 's desk .  ",
           "came william harrell thinly intercom",
           "('voice', 'NOUN')",
           "NA",
           "NA",
           "NA",
           "NA",
           "NA",
           "NA",
           -13.37722854894276
          ],
          [
           [
            "caused",
            "VERB"
           ],
           "hear",
           2,
           2,
           0,
           "<br> the sight caused her breath to catch .",
           "caused breath",
           "('catch', 'VERB')",
           "NA",
           "NA",
           "NA",
           "NA",
           "NA",
           "NA",
           53.979611425128965
          ],
          [
           [
            "basketball",
            "NOUN"
           ],
           "hear",
           2,
           2,
           0,
           "<br> from behind he heard the sound of cars passing <br> on fillmore street , and ahead of them , <br> a group of young boys were playing basketball in <br> a fenced school - yard .",
           "young boys basketball fenced",
           "('playing', 'VERB')",
           "NA",
           "NA",
           "NA",
           "NA",
           "NA",
           "NA",
           34.48381745462151
          ],
          [
           [
            "wholly",
            "ADV"
           ],
           "hear",
           2,
           2,
           0,
           "<br> he became wholly attentive and invigorated .  ",
           "wholly invigorated",
           "('attentive', 'ADJ')",
           "NA",
           "NA",
           "NA",
           "NA",
           "NA",
           "NA",
           -24.192513584385637
          ]
         ],
         "hovertemplate": "literary_period=1900<br>Principal Component 1=%{x}<br>Principal Component 2=%{y}<br>word=%{customdata[0]}<br>modality=%{customdata[1]}<br>total_freq=%{customdata[2]}<br>total_freq_in_sense=%{customdata[3]}<br>PAI=%{customdata[4]}<br>Random Sentence 1=%{customdata[5]}<br>Random Context Window 1=%{customdata[6]}<br>Random Seed Words 1=%{customdata[7]}<br>Random Sentence 2=%{customdata[8]}<br>Random Context Window 2=%{customdata[9]}<br>Random Seed Words 2=%{customdata[10]}<br>Random Sentence 3=%{customdata[11]}<br>Random Context Window 3=%{customdata[12]}<br>Random Seed Words 3=%{customdata[13]}<extra></extra>",
         "legendgroup": "1900",
         "marker": {
          "color": "#19d3f3",
          "size": 12,
          "symbol": "circle"
         },
         "mode": "markers",
         "name": "1900",
         "orientation": "v",
         "showlegend": true,
         "type": "scatter",
         "x": [
          3.936960129779529,
          -6.317159006207314,
          1.2113419036206012,
          -2.6518993465484355,
          -13.940820585248284,
          -10.85500728946694,
          -14.618695733983087,
          -9.154019443236287,
          21.670685868366412,
          0.8500405970593446,
          -1.2348661963956487,
          24.67259217168919,
          -23.867256646794573,
          -11.760066056022627,
          41.70521070745633,
          5.974966851569241,
          -9.145064699076901,
          -10.238391587348199,
          50.097291666746436,
          8.717965549208982,
          -5.452425619754589,
          -5.508835260425144,
          -24.023031006241045,
          -21.704089157466523,
          13.006494020596435,
          -23.485384256491088,
          -2.1960684691551426,
          -9.793639516474352,
          -17.59121840091866,
          -22.41824936952439,
          21.492729318463347,
          -6.617525009838363,
          1.461001207537233,
          -21.89911538147939,
          -25.106061664366656,
          -5.621962986270979,
          -3.6355947765967302,
          -4.5771277486291515,
          -23.01145165680909,
          5.870422470598359,
          -12.493836263091461,
          3.302520218907068,
          1.5099966879035682,
          -10.509418531607476,
          -16.008693060399153,
          -2.9650759584708135,
          -18.615440566591968,
          3.5014545725830426,
          18.341604695160033,
          29.3736313876405,
          55.291644509889544,
          -15.10929912083509,
          28.154949084379798,
          23.057590936999407,
          14.038170117059773,
          -12.305266955627657,
          0.13540161676503507,
          -20.61500897019298,
          -10.177528952902751,
          0.07512697004656937,
          -23.173681067069666,
          -2.8084405496822105,
          -21.25863516227625,
          -25.03402839690832,
          25.539290994649907,
          -19.634341773344218,
          -7.05574413703389,
          -22.849662110245063,
          -8.94628646735961,
          5.8866752177893735,
          -0.9679312195374744,
          -2.032164033075846,
          -25.12499701599502,
          -2.976998730029459,
          -22.20885698852384,
          -17.716096092968673,
          -12.033312615791402,
          2.535668515803606,
          -11.417736172728583,
          7.755745833784438,
          -17.7712648274665,
          -11.245448822763144,
          -7.105492203686936,
          -3.914516510611444,
          -12.917347805991644,
          -16.930244178346086,
          -23.114810986760478,
          33.15903231647645,
          4.694036278393697,
          -12.13530797049113,
          69.31760295111154,
          -7.239877049030659,
          -12.575527641177764,
          -21.404362130489854,
          23.296643069519835,
          -17.63258575023904,
          -13.37722854894276,
          53.979611425128965,
          34.48381745462151,
          -24.192513584385637
         ],
         "xaxis": "x",
         "y": [
          0.9092596324285165,
          0.611718332778024,
          -0.5438176949744494,
          1.7081320935391202,
          0.8188152596039091,
          -0.3388329645301078,
          0.1387164421483004,
          -0.8911154333062793,
          1.7381586592980174,
          2.419446208524262,
          -0.4540825034910869,
          -0.892289549708754,
          -0.3210534423756367,
          0.14674423956076593,
          -6.038660985809934,
          0.7788978998038899,
          -0.11654571323235656,
          -0.7824266601370714,
          0.1152575467463465,
          -0.11711758164889664,
          -1.7495864737260522,
          0.33538365564855266,
          -0.40461153444978143,
          0.7646054278478285,
          1.0579868604650484,
          0.2145165398787525,
          0.9297386866708997,
          -0.32181576463615824,
          -0.2363764371068872,
          -0.11650823358543143,
          1.4591052013876327,
          0.6505964482289559,
          -2.252056471222138,
          -0.06389834802711403,
          0.6627183562775669,
          -0.02026728008201115,
          0.21312375772041783,
          2.2475536738876802,
          0.365540767597528,
          1.3007518279947203,
          -0.3094721718530277,
          -1.0697575726326385,
          -0.4673273211984187,
          -0.7878815646963806,
          0.9154253402330509,
          0.008383328283298446,
          -0.7312431823467281,
          0.5357057569062039,
          -0.045207727227583726,
          0.9669228993564672,
          -1.0779756488567263,
          0.44104650290051006,
          1.8333168286750718,
          2.104612219602138,
          -0.8389036432777748,
          -0.6406573390199929,
          1.6345064179135398,
          1.10375450574501,
          0.35050253048419366,
          -0.8209817313552841,
          -0.09429301911556923,
          -0.4744388187690527,
          0.8262873580152986,
          0.0734219805140646,
          -1.6394520128579766,
          0.20058381402867956,
          -0.2318056120885891,
          0.2473650205847462,
          0.03805622429912763,
          1.427145132146687,
          -1.7472083673519323,
          -1.4612938388545067,
          0.13017847822728248,
          2.0356460591949883,
          -0.46736844425864366,
          -1.4230798048786428,
          0.16945057728307755,
          -0.39199063534636464,
          -0.31876160235782885,
          -0.4356985138489336,
          -1.7820100970479016,
          2.486716394443858,
          -0.6179373666246801,
          0.20786077537945657,
          -0.18756716556824649,
          0.1436452891630562,
          0.27081765969670624,
          -1.8926850452781006,
          0.7233684317044796,
          -1.3699172950811593,
          3.0693981276085647,
          -0.5815778947302538,
          0.05690257669528384,
          -0.7556994581310464,
          -3.640375819295264,
          -0.45554838749919285,
          0.024445568985679317,
          -6.720175506665394,
          3.793776399510636,
          0.7537704378019638
         ],
         "yaxis": "y"
        }
       ],
       "layout": {
        "legend": {
         "title": {
          "text": "literary_period"
         },
         "tracegroupgap": 0
        },
        "template": {
         "data": {
          "bar": [
           {
            "error_x": {
             "color": "#2a3f5f"
            },
            "error_y": {
             "color": "#2a3f5f"
            },
            "marker": {
             "line": {
              "color": "#E5ECF6",
              "width": 0.5
             }
            },
            "type": "bar"
           }
          ],
          "barpolar": [
           {
            "marker": {
             "line": {
              "color": "#E5ECF6",
              "width": 0.5
             }
            },
            "type": "barpolar"
           }
          ],
          "carpet": [
           {
            "aaxis": {
             "endlinecolor": "#2a3f5f",
             "gridcolor": "white",
             "linecolor": "white",
             "minorgridcolor": "white",
             "startlinecolor": "#2a3f5f"
            },
            "baxis": {
             "endlinecolor": "#2a3f5f",
             "gridcolor": "white",
             "linecolor": "white",
             "minorgridcolor": "white",
             "startlinecolor": "#2a3f5f"
            },
            "type": "carpet"
           }
          ],
          "choropleth": [
           {
            "colorbar": {
             "outlinewidth": 0,
             "ticks": ""
            },
            "type": "choropleth"
           }
          ],
          "contour": [
           {
            "colorbar": {
             "outlinewidth": 0,
             "ticks": ""
            },
            "colorscale": [
             [
              0,
              "#0d0887"
             ],
             [
              0.1111111111111111,
              "#46039f"
             ],
             [
              0.2222222222222222,
              "#7201a8"
             ],
             [
              0.3333333333333333,
              "#9c179e"
             ],
             [
              0.4444444444444444,
              "#bd3786"
             ],
             [
              0.5555555555555556,
              "#d8576b"
             ],
             [
              0.6666666666666666,
              "#ed7953"
             ],
             [
              0.7777777777777778,
              "#fb9f3a"
             ],
             [
              0.8888888888888888,
              "#fdca26"
             ],
             [
              1,
              "#f0f921"
             ]
            ],
            "type": "contour"
           }
          ],
          "contourcarpet": [
           {
            "colorbar": {
             "outlinewidth": 0,
             "ticks": ""
            },
            "type": "contourcarpet"
           }
          ],
          "heatmap": [
           {
            "colorbar": {
             "outlinewidth": 0,
             "ticks": ""
            },
            "colorscale": [
             [
              0,
              "#0d0887"
             ],
             [
              0.1111111111111111,
              "#46039f"
             ],
             [
              0.2222222222222222,
              "#7201a8"
             ],
             [
              0.3333333333333333,
              "#9c179e"
             ],
             [
              0.4444444444444444,
              "#bd3786"
             ],
             [
              0.5555555555555556,
              "#d8576b"
             ],
             [
              0.6666666666666666,
              "#ed7953"
             ],
             [
              0.7777777777777778,
              "#fb9f3a"
             ],
             [
              0.8888888888888888,
              "#fdca26"
             ],
             [
              1,
              "#f0f921"
             ]
            ],
            "type": "heatmap"
           }
          ],
          "heatmapgl": [
           {
            "colorbar": {
             "outlinewidth": 0,
             "ticks": ""
            },
            "colorscale": [
             [
              0,
              "#0d0887"
             ],
             [
              0.1111111111111111,
              "#46039f"
             ],
             [
              0.2222222222222222,
              "#7201a8"
             ],
             [
              0.3333333333333333,
              "#9c179e"
             ],
             [
              0.4444444444444444,
              "#bd3786"
             ],
             [
              0.5555555555555556,
              "#d8576b"
             ],
             [
              0.6666666666666666,
              "#ed7953"
             ],
             [
              0.7777777777777778,
              "#fb9f3a"
             ],
             [
              0.8888888888888888,
              "#fdca26"
             ],
             [
              1,
              "#f0f921"
             ]
            ],
            "type": "heatmapgl"
           }
          ],
          "histogram": [
           {
            "marker": {
             "colorbar": {
              "outlinewidth": 0,
              "ticks": ""
             }
            },
            "type": "histogram"
           }
          ],
          "histogram2d": [
           {
            "colorbar": {
             "outlinewidth": 0,
             "ticks": ""
            },
            "colorscale": [
             [
              0,
              "#0d0887"
             ],
             [
              0.1111111111111111,
              "#46039f"
             ],
             [
              0.2222222222222222,
              "#7201a8"
             ],
             [
              0.3333333333333333,
              "#9c179e"
             ],
             [
              0.4444444444444444,
              "#bd3786"
             ],
             [
              0.5555555555555556,
              "#d8576b"
             ],
             [
              0.6666666666666666,
              "#ed7953"
             ],
             [
              0.7777777777777778,
              "#fb9f3a"
             ],
             [
              0.8888888888888888,
              "#fdca26"
             ],
             [
              1,
              "#f0f921"
             ]
            ],
            "type": "histogram2d"
           }
          ],
          "histogram2dcontour": [
           {
            "colorbar": {
             "outlinewidth": 0,
             "ticks": ""
            },
            "colorscale": [
             [
              0,
              "#0d0887"
             ],
             [
              0.1111111111111111,
              "#46039f"
             ],
             [
              0.2222222222222222,
              "#7201a8"
             ],
             [
              0.3333333333333333,
              "#9c179e"
             ],
             [
              0.4444444444444444,
              "#bd3786"
             ],
             [
              0.5555555555555556,
              "#d8576b"
             ],
             [
              0.6666666666666666,
              "#ed7953"
             ],
             [
              0.7777777777777778,
              "#fb9f3a"
             ],
             [
              0.8888888888888888,
              "#fdca26"
             ],
             [
              1,
              "#f0f921"
             ]
            ],
            "type": "histogram2dcontour"
           }
          ],
          "mesh3d": [
           {
            "colorbar": {
             "outlinewidth": 0,
             "ticks": ""
            },
            "type": "mesh3d"
           }
          ],
          "parcoords": [
           {
            "line": {
             "colorbar": {
              "outlinewidth": 0,
              "ticks": ""
             }
            },
            "type": "parcoords"
           }
          ],
          "pie": [
           {
            "automargin": true,
            "type": "pie"
           }
          ],
          "scatter": [
           {
            "marker": {
             "colorbar": {
              "outlinewidth": 0,
              "ticks": ""
             }
            },
            "type": "scatter"
           }
          ],
          "scatter3d": [
           {
            "line": {
             "colorbar": {
              "outlinewidth": 0,
              "ticks": ""
             }
            },
            "marker": {
             "colorbar": {
              "outlinewidth": 0,
              "ticks": ""
             }
            },
            "type": "scatter3d"
           }
          ],
          "scattercarpet": [
           {
            "marker": {
             "colorbar": {
              "outlinewidth": 0,
              "ticks": ""
             }
            },
            "type": "scattercarpet"
           }
          ],
          "scattergeo": [
           {
            "marker": {
             "colorbar": {
              "outlinewidth": 0,
              "ticks": ""
             }
            },
            "type": "scattergeo"
           }
          ],
          "scattergl": [
           {
            "marker": {
             "colorbar": {
              "outlinewidth": 0,
              "ticks": ""
             }
            },
            "type": "scattergl"
           }
          ],
          "scattermapbox": [
           {
            "marker": {
             "colorbar": {
              "outlinewidth": 0,
              "ticks": ""
             }
            },
            "type": "scattermapbox"
           }
          ],
          "scatterpolar": [
           {
            "marker": {
             "colorbar": {
              "outlinewidth": 0,
              "ticks": ""
             }
            },
            "type": "scatterpolar"
           }
          ],
          "scatterpolargl": [
           {
            "marker": {
             "colorbar": {
              "outlinewidth": 0,
              "ticks": ""
             }
            },
            "type": "scatterpolargl"
           }
          ],
          "scatterternary": [
           {
            "marker": {
             "colorbar": {
              "outlinewidth": 0,
              "ticks": ""
             }
            },
            "type": "scatterternary"
           }
          ],
          "surface": [
           {
            "colorbar": {
             "outlinewidth": 0,
             "ticks": ""
            },
            "colorscale": [
             [
              0,
              "#0d0887"
             ],
             [
              0.1111111111111111,
              "#46039f"
             ],
             [
              0.2222222222222222,
              "#7201a8"
             ],
             [
              0.3333333333333333,
              "#9c179e"
             ],
             [
              0.4444444444444444,
              "#bd3786"
             ],
             [
              0.5555555555555556,
              "#d8576b"
             ],
             [
              0.6666666666666666,
              "#ed7953"
             ],
             [
              0.7777777777777778,
              "#fb9f3a"
             ],
             [
              0.8888888888888888,
              "#fdca26"
             ],
             [
              1,
              "#f0f921"
             ]
            ],
            "type": "surface"
           }
          ],
          "table": [
           {
            "cells": {
             "fill": {
              "color": "#EBF0F8"
             },
             "line": {
              "color": "white"
             }
            },
            "header": {
             "fill": {
              "color": "#C8D4E3"
             },
             "line": {
              "color": "white"
             }
            },
            "type": "table"
           }
          ]
         },
         "layout": {
          "annotationdefaults": {
           "arrowcolor": "#2a3f5f",
           "arrowhead": 0,
           "arrowwidth": 1
          },
          "autotypenumbers": "strict",
          "coloraxis": {
           "colorbar": {
            "outlinewidth": 0,
            "ticks": ""
           }
          },
          "colorscale": {
           "diverging": [
            [
             0,
             "#8e0152"
            ],
            [
             0.1,
             "#c51b7d"
            ],
            [
             0.2,
             "#de77ae"
            ],
            [
             0.3,
             "#f1b6da"
            ],
            [
             0.4,
             "#fde0ef"
            ],
            [
             0.5,
             "#f7f7f7"
            ],
            [
             0.6,
             "#e6f5d0"
            ],
            [
             0.7,
             "#b8e186"
            ],
            [
             0.8,
             "#7fbc41"
            ],
            [
             0.9,
             "#4d9221"
            ],
            [
             1,
             "#276419"
            ]
           ],
           "sequential": [
            [
             0,
             "#0d0887"
            ],
            [
             0.1111111111111111,
             "#46039f"
            ],
            [
             0.2222222222222222,
             "#7201a8"
            ],
            [
             0.3333333333333333,
             "#9c179e"
            ],
            [
             0.4444444444444444,
             "#bd3786"
            ],
            [
             0.5555555555555556,
             "#d8576b"
            ],
            [
             0.6666666666666666,
             "#ed7953"
            ],
            [
             0.7777777777777778,
             "#fb9f3a"
            ],
            [
             0.8888888888888888,
             "#fdca26"
            ],
            [
             1,
             "#f0f921"
            ]
           ],
           "sequentialminus": [
            [
             0,
             "#0d0887"
            ],
            [
             0.1111111111111111,
             "#46039f"
            ],
            [
             0.2222222222222222,
             "#7201a8"
            ],
            [
             0.3333333333333333,
             "#9c179e"
            ],
            [
             0.4444444444444444,
             "#bd3786"
            ],
            [
             0.5555555555555556,
             "#d8576b"
            ],
            [
             0.6666666666666666,
             "#ed7953"
            ],
            [
             0.7777777777777778,
             "#fb9f3a"
            ],
            [
             0.8888888888888888,
             "#fdca26"
            ],
            [
             1,
             "#f0f921"
            ]
           ]
          },
          "colorway": [
           "#636efa",
           "#EF553B",
           "#00cc96",
           "#ab63fa",
           "#FFA15A",
           "#19d3f3",
           "#FF6692",
           "#B6E880",
           "#FF97FF",
           "#FECB52"
          ],
          "font": {
           "color": "#2a3f5f"
          },
          "geo": {
           "bgcolor": "white",
           "lakecolor": "white",
           "landcolor": "#E5ECF6",
           "showlakes": true,
           "showland": true,
           "subunitcolor": "white"
          },
          "hoverlabel": {
           "align": "left"
          },
          "hovermode": "closest",
          "mapbox": {
           "style": "light"
          },
          "paper_bgcolor": "white",
          "plot_bgcolor": "#E5ECF6",
          "polar": {
           "angularaxis": {
            "gridcolor": "white",
            "linecolor": "white",
            "ticks": ""
           },
           "bgcolor": "#E5ECF6",
           "radialaxis": {
            "gridcolor": "white",
            "linecolor": "white",
            "ticks": ""
           }
          },
          "scene": {
           "xaxis": {
            "backgroundcolor": "#E5ECF6",
            "gridcolor": "white",
            "gridwidth": 2,
            "linecolor": "white",
            "showbackground": true,
            "ticks": "",
            "zerolinecolor": "white"
           },
           "yaxis": {
            "backgroundcolor": "#E5ECF6",
            "gridcolor": "white",
            "gridwidth": 2,
            "linecolor": "white",
            "showbackground": true,
            "ticks": "",
            "zerolinecolor": "white"
           },
           "zaxis": {
            "backgroundcolor": "#E5ECF6",
            "gridcolor": "white",
            "gridwidth": 2,
            "linecolor": "white",
            "showbackground": true,
            "ticks": "",
            "zerolinecolor": "white"
           }
          },
          "shapedefaults": {
           "line": {
            "color": "#2a3f5f"
           }
          },
          "ternary": {
           "aaxis": {
            "gridcolor": "white",
            "linecolor": "white",
            "ticks": ""
           },
           "baxis": {
            "gridcolor": "white",
            "linecolor": "white",
            "ticks": ""
           },
           "bgcolor": "#E5ECF6",
           "caxis": {
            "gridcolor": "white",
            "linecolor": "white",
            "ticks": ""
           }
          },
          "title": {
           "x": 0.05
          },
          "xaxis": {
           "automargin": true,
           "gridcolor": "white",
           "linecolor": "white",
           "ticks": "",
           "title": {
            "standoff": 15
           },
           "zerolinecolor": "white",
           "zerolinewidth": 2
          },
          "yaxis": {
           "automargin": true,
           "gridcolor": "white",
           "linecolor": "white",
           "ticks": "",
           "title": {
            "standoff": 15
           },
           "zerolinecolor": "white",
           "zerolinewidth": 2
          }
         }
        },
        "title": {
         "text": "hear - 2 Component PCA"
        },
        "xaxis": {
         "anchor": "y",
         "domain": [
          0,
          1
         ],
         "title": {
          "text": "Principal Component 1"
         }
        },
        "yaxis": {
         "anchor": "x",
         "domain": [
          0,
          1
         ],
         "title": {
          "text": "Principal Component 2"
         }
        }
       }
      },
      "text/html": [
       "<div>                            <div id=\"b1cfd036-c4da-4c62-9084-888e9957cbc8\" class=\"plotly-graph-div\" style=\"height:525px; width:100%;\"></div>            <script type=\"text/javascript\">                require([\"plotly\"], function(Plotly) {                    window.PLOTLYENV=window.PLOTLYENV || {};                                    if (document.getElementById(\"b1cfd036-c4da-4c62-9084-888e9957cbc8\")) {                    Plotly.newPlot(                        \"b1cfd036-c4da-4c62-9084-888e9957cbc8\",                        [{\"customdata\": [[[\"sounded\", \"VERB\"], \"hear\", 38, 34, -0.1604646721932461, \"<br> \\\" yes , it is wonderful , \\\" she <br> said , and out in the open air her <br> voice sounded weak and faint to the last degree <br> .\", \"open air sounded weak faint\", \"('voice', 'NOUN')\", \"<br> the word was uttered in a tone so low <br> and melancholy that it sounded like saddened music .\", \"sounded saddened\", \"('music', 'NOUN')\", \"NA\", \"NA\", \"NA\", -0.002869513453505322], [[\"thunder\", \"NOUN\"], \"hear\", 47, 42, -0.16227142889887716, \"<br> on deck , his voice rises above the thunder <br> of storms and the tumult of battle ; but <br> here below it is soft and melodious as rossini <br> 's music -- for he has rossini 's music <br> sent for me .\", \"deck rises thunder\", \"('voice', 'NOUN')\", \"<br> it was not long after this that the lake <br> began to speak , in a voice loud as <br> the thunder from the clouds .\", \"speak loud thunder\", \"('voice', 'NOUN')\", \"<br> as with a voice of thunder , and his <br> hand upon his sword , bucklaw repeated the ranting <br> couplets of poor lee , craigengelt re - entered <br> with a face of alarm .  \", \"thunder\", \"('voice', 'NOUN')\", -1.581110731061058], [[\"tremulous\", \"ADJ\"], \"hear\", 44, 39, -0.17402939977504894, \"<br> \\\" you have named me but too truly , <br> \\\" said ravenswood , in a hollow and tremulous <br> voice .  \", \"hollow tremulous\", \"('voice', 'NOUN')\", \"NA\", \"NA\", \"NA\", \"NA\", \"NA\", \"NA\", -4.060440629537342], [[\"loud\", \"ADJ\"], \"hear\", 101, 89, -0.18247805178539697, \"<br> then begin mutual railleries and mutual confidences amongst the <br> young ladies , and the faint scream and the <br> loud laugh is heard , and the romping for <br> letters and pocket - books begins , and gentlemen <br> are called by their surnames , or by the <br> general name of fellows !\", \"loud laugh romping\", \"('heard', 'VERB')\", \"<br> but on removing the helmet of his rescuer , <br> he recognised the son of jehan , who expired <br> upon the table , as by a final effort <br> he kissed his mother , and saying in a <br> loud voice to her--   \\\" mother , we <br> have paid the debt we owed him ! \\\" <br>  \", \"saying loud her--\", \"('voice', 'NOUN')\", \"<br> is the loud music i gave order for      \", \"loud gave order\", \"('music', 'NOUN')\", 5.8411088592210065], [[\"bell\", \"NOUN\"], \"hear\", 96, 84, -0.1926450779423959, \"<br> the good vicar came to her , and there <br> as he had rung the bell for mass\", \"bell mass\", \"('rung', 'VERB')\", \"<br> the lover listened with obstinate incredulity ; and it <br> was not until worn out by the obstinacy of <br> the anchoret that he consented to put the state <br> and condition of his mistress to a certain trial <br> , and for that purpose acquiesced in zachary 's <br> proposal that on their next interview the vespers bell <br> should be rung half an hour later than usual <br> .\", \"vespers bell half hour later\", \"('rung', 'VERB')\", \"<br> \\\" that 's a secret , \\\" said the <br> boy ; \\\" but you will find you can <br> never ride beyond the village but your horse will <br> cast a she , or fall lame , or <br> the cattle bell will ring , or something will <br> happen to bring you back .\", \"cattle bell\", \"('ring', 'VERB')\", 3.4150032846903486], [[\"voices\", \"NOUN\"], \"hear\", 85, 74, -0.19993757050875194, \"<br> the pack , rushing in upon their disabled enemy <br> , soon ended his painful struggles , and solemnised <br> his fall with their clamour ; the hunters , <br> with their horns and voices , whooping and blowing <br> a mort , or death - note , which <br> resounded far over the billows of the adjacent ocean <br> .  \", \"voices whooping mort\", \"('blowing', 'VERB')\", \"<br> said girder ,-- for we are to remark , <br> that this explanation was given like a catch for <br> two voices , the younger dame , much encouraged <br> by the turn of the debate , taking up <br> and repeating in a higher tone the words as <br> fast as they were uttered by her mother . <br>  \", \"given voices\", \"('catch', 'NOUN')\", \"NA\", \"NA\", \"NA\", 7.9401366960987225], [[\"sound\", \"NOUN\"], \"hear\", 314, 273, -0.2018636079717745, \"<br> she died just as the clock in the distant <br> village tolled one ; and ravenswood remembered , with <br> internal shuddering , that he had heard the chime <br> sound through the wood just before he had seen <br> what he was now much disposed to consider as <br> the spectre of the deceased .  \", \"chime sound\", \"('heard', 'VERB')\", \"<br> all recoiled at the sound of his voice and <br> the determined action by which it was accompanied ; <br> for the ecstasy of real desperation seldom fails to <br> overpower the less energetic passions by which it may <br> be opposed .\", \"sound determined action\", \"('voice', 'NOUN')\", \"<br> the stranger , as if starting from a trance <br> at the sound of his voice , mechanically obeyed <br> , and they ascended the broken ruinous stair which <br> led from the sepulchre into the churchyard .\", \"sound mechanically obeyed\", \"('voice', 'NOUN')\", -1.3600772078386223], [[\"noise\", \"NOUN\"], \"hear\", 119, 102, -0.22239242133644802, \"<br> \\\" we shall never agree upon this question , <br> \\\" captain harville was beginning to say , when <br> a slight noise called their attention to captain wentworth <br> 's hitherto perfectly quiet division of the room . <br>  \", \"slight noise called captain wentworth\", \"('attention', 'NOUN')\", \"<br> hearing the noise made by the men , which <br> threatened to bring the walls about their ears , <br> the maid - servant opened the door , yawning <br> and stretching her arms .\", \"noise\", \"('hearing', 'VERB')\", \"NA\", \"NA\", \"NA\", 1.7217533117647759], [[\"low\", \"ADJ\"], \"hear\", 333, 283, -0.23472012423937977, \"<br> \\\" i am afraid , \\\" said henry , <br> in a very low tone of voice .  \", \"low tone\", \"('voice', 'NOUN')\", \"<br> \\\" and if it be lady ashton , \\\" <br> said her lover to her in a low tone <br> , \\\" what can be the occasion of such <br> alarm ?\", \"low\", \"('tone', 'NOUN')\", \"<br> , i can play ( this in a low <br> and confidential tone ) '\", \"low confidential\", \"('tone', 'NOUN')\", 4.5024366171273655], [[\"glimpse\", \"NOUN\"], \"hear\", 73, 61, -0.25908722131713097, \"<br> this discourse considerably astonished the lady bertha , who <br> let her cousin say her prayers , and make <br> other preparations for the night beneath the curtains of <br> the bed , into which my lord , inflamed <br> with desire , soon tumbled , happy at being <br> able to catch an occasional glimpse of the wondrous <br> charms of the chatelaine , which were in no <br> way injured .\", \"able occasional glimpse\", \"('catch', 'VERB')\", \"NA\", \"NA\", \"NA\", \"NA\", \"NA\", \"NA\", -2.581169793597087], [[\"instruments\", \"NOUN\"], \"hear\", 38, 31, -0.29373120305671035, \"<br> the instruments now played their loudest strains ; the <br> dancers pursued their exercise with all the enthusiasm inspired <br> by youth , mirth , and high spirits , <br> when a cry was heard so shrill and piercing <br> as at once to arrest the dance and the <br> music .\", \"instruments loudest strains\", \"('played', 'VERB')\", \"NA\", \"NA\", \"NA\", \"NA\", \"NA\", \"NA\", 9.292869068966466], [[\"cry\", \"NOUN\"], \"hear\", 41, 33, -0.3131578852596302, \"<br> a cry which was heard by some persons navigating <br> the eubean sea , and preserved by a father <br> of the church .  \", \"cry persons navigating\", \"('heard', 'VERB')\", \"<br> the instruments now played their loudest strains ; the <br> dancers pursued their exercise with all the enthusiasm inspired <br> by youth , mirth , and high spirits , <br> when a cry was heard so shrill and piercing <br> as at once to arrest the dance and the <br> music .\", \"cry shrill piercing\", \"('heard', 'VERB')\", \"NA\", \"NA\", \"NA\", 5.728835872426871], [[\"calling\", \"VERB\"], \"hear\", 56, 45, -0.31550182572792934, \"<br> i heard his silver voice calling to her . <br>  \", \"heard silver calling\", \"('voice', 'NOUN')\", \"<br> the scottish high church party , on the contrary <br> , or , as they termed themselves , the <br> cavaliers , were more consistent , if not so <br> prudent , in their politics , and viewed all <br> the changes now made as preparatory to calling to <br> the throne , upon the queen 's demise , <br> her brother the chevalier de st. george .\", \"changes calling\", \"('preparatory', 'ADJ')\", \"NA\", \"NA\", \"NA\", -2.7018322316412795], [[\"sounds\", \"NOUN\"], \"hear\", 133, 102, -0.38285709352969416, \"<br> he raised his head from its musing position at <br> the first sounds of her voice , and smiled <br> faintly , and with an expression of anguish , <br> as she proceeded ; but when she had ended <br> , and taken her seat near him , still <br> keeping her eyes on his varying countenance , he <br> took her hand into his own before he replied <br> .\", \"sounds smiled faintly\", \"('voice', 'NOUN')\", \"<br> the most that can be said is , that <br> such sounds are heard , though at long intervals <br> , and that no one as yet has succeeded <br> in ascertaining their cause .  \", \"sounds long\", \"('heard', 'VERB')\", \"<br> the mourners returned to the tower , there , <br> according to a custom but recently abolished in scotland <br> , to carouse deep healths to the memory of <br> the deceased , to make the house of sorrow <br> ring with sounds of joviality and debauch , and <br> to diminish , by the expense of a large <br> and profuse entertainment , the limited revenues of the <br> heir of him whose funeral they thus strangely honoured <br> .\", \"house sorrow sounds joviality\", \"('ring', 'NOUN')\", 21.36835333204207], [[\"voice\", \"NOUN\"], \"hear\", 539, 407, -0.4052564784862585, \"<br> \\\" i am afraid , \\\" said henry , <br> in a very low tone of voice .  \", \"low voice\", \"('tone', 'NOUN')\", \"<br> from this she whispered , in a tone of <br> voice which , though soft and sweet , had <br> something in it of admonition , if not command <br> : \\\" lucy , my dear , remember -- <br> have you heard what bucklaw has been saying ? <br> \\\"  \", \"whispered voice\", \"('tone', 'NOUN')\", \"<br> in lady ashton 's voice , a tone of <br> impressive , and even stern , innuendo was sedulously <br> and skilfully concealed under an appearance of the most <br> affectionate maternal tenderness .\", \"voice impressive\", \"('tone', 'NOUN')\", -2.643995377852245], [[\"distinctly\", \"ADV\"], \"hear\", 85, 62, -0.45519462575082664, \"<br> notwithstanding the lady \\u2019s reluctance , richard , stimulated <br> doubtless by his sense of duty , prevailed ; <br> and they were soon so near as distinctly to <br> hear sounds .  \", \"near distinctly sounds\", \"('hear', 'VERB')\", \"<br> the two ladies continued to talk , to re <br> - urge the same admitted truths , and enforce <br> them with such examples of the ill effect of <br> a contrary practice as had fallen within their observation <br> , but anne heard nothing distinctly ; it was <br> only a buzz of words in her ear , <br> her mind was in confusion .  \", \"observation anne distinctly\", \"('heard', 'VERB')\", \"<br> then rene began to recite the so sweet and <br> so mystic litanies ; but you may imagine that <br> the \\\" ora pro nobis \\\" of blanche became <br> still fainter and fainter , like the sound of <br> the horn in the woodlands , and when the <br> page went on , \\\" oh , rose of <br> mystery , \\\" the lady , who certainly heard <br> distinctly , replied by a gentle sigh .\", \"lady certainly distinctly replied\", \"('heard', 'VERB')\", -5.972922850595726], [[\"listen\", \"VERB\"], \"hear\", 46, 33, -0.4791678366985595, \"<br> the remonstrance came too late ; the canoe was <br> already far from the skiff , and the two <br> hunters were too much engaged in the pursuit to <br> listen to his voice .  \", \"listen\", \"('voice', 'NOUN')\", \"NA\", \"NA\", \"NA\", \"NA\", \"NA\", \"NA\", 3.194981116041993], [[\"hollow\", \"ADJ\"], \"hear\", 66, 47, -0.489805267680816, \"<br> \\\" you have named me but too truly , <br> \\\" said ravenswood , in a hollow and tremulous <br> voice .  \", \"hollow tremulous\", \"('voice', 'NOUN')\", \"NA\", \"NA\", \"NA\", \"NA\", \"NA\", \"NA\", -2.0182160750333336], [[\"wind\", \"NOUN\"], \"hear\", 113, 80, -0.4982508675278254, \"<br> the wind blows through one of the cupboards just <br> in the same way . \\\"  \", \"wind\", \"('blows', 'VERB')\", \"NA\", \"NA\", \"NA\", \"NA\", \"NA\", \"NA\", -3.044510684728849], [[\"attracted\", \"VERB\"], \"hear\", 71, 50, -0.5058909297299574, \"<br> the chief put his hand before his mouth , <br> and , making it lay on his lips , <br> produced the kind of noise that had attracted elizabeth <br> to the place , when a quick and hurried <br> step was heard dashing through the dried underbrush and <br> bushes , and presently edwards rushed to his side <br> , with horror an every feature .     \", \"produced kind attracted elizabeth\", \"('noise', 'NOUN')\", \"NA\", \"NA\", \"NA\", \"NA\", \"NA\", \"NA\", -5.158782385189373], [[\"sing\", \"VERB\"], \"hear\", 43, 30, -0.5193741590935793, \"<br> they listened attentively , and in a few minutes <br> thought they heard a person sing , but could <br> not distinguish the words .  \", \"minutes thought person sing\", \"('heard', 'VERB')\", \"<br> [ the banshee is a species of aristocratic fairy <br> , who , in the shape of a little <br> hideous old woman , has been known to appear <br> , and heard to sing in a mournful supernatural <br> voice under the windows of great houses , to <br> warn the family that some of them are soon <br> to die .\", \"appear sing\", \"('heard', 'VERB')\", \"<br> did you ever hear benjamin sing the \\u2018 bay <br> of biscay , 0 ?\", \"benjamin sing\", \"('hear', 'VERB')\", 3.970133613622765], [[\"song\", \"NOUN\"], \"hear\", 55, 38, -0.5334322000810741, \"<br> see - wise opened his ears wide to this <br> talk , and the young men listened to his <br> words as they listened to the song of the <br> mocking - bird .\", \"words song\", \"('listened', 'VERB')\", \"NA\", \"NA\", \"NA\", \"NA\", \"NA\", \"NA\", -5.575333958309506], [[\"listened\", \"VERB\"], \"hear\", 100, 68, -0.5563933485243852, \"<br> this good mother knew no other pleasures than those <br> of his rosy lips , had no other caresses <br> that those of his tiny little hands , which <br> ran about her like the feet of playful mice <br> , read no other book than that in his <br> clear baby eyes , in which the blue sky <br> was reflected , and listened to no other music <br> than his cries , which sounded in her ears <br> as angels ' whispers .\", \"listened cries\", \"('music', 'NOUN')\", \"<br> they listened , and heard the old domestic 's <br> voice in conversation with mysie to the following effect <br> :   \\\" just mak the best o't -- <br> make the besto't , woman ; it 's easy <br> to put a fair face on ony thing . <br> \\\"  \", \"listened old domestic\", \"('heard', 'VERB')\", \"NA\", \"NA\", \"NA\", 14.340415931951766], [[\"repeated\", \"VERB\"], \"hear\", 71, 48, -0.5647846187835259, \"<br> the short and solemn pause that succeeded each petition <br> was made ; still no voice repeated the eloquent <br> language of the prayer .  \", \"repeated eloquent language\", \"('voice', 'NOUN')\", \"<br> the lips of elizabeth moved , but they moved <br> in vain and accustomed as she was to the <br> service of the churches of the metropolis , she <br> was beginning to feel the awkwardness of the circumstance <br> most painfully when a soft , low female voice <br> repeated after the priest , \\u201d we have left <br> undone those things which we ought to have done <br> .\", \"soft low female repeated priest\", \"('voice', 'NOUN')\", \"<br> immediately the drums beat a salute , both bands <br> struck up a martial refrain , caught and repeated <br> like a fugue by every instrument from the thinnest <br> flutes to the largest drum .\", \"martial refrain repeated\", \"('caught', 'VERB')\", 16.654747335781583], [[\"heard\", \"VERB\"], \"hear\", 585, 395, -0.5665839714063015, \"<br> but here the voice of bucklaw , heard even <br> above the clattering of hoofs and braying of horns <br> with which it mingled , announced that he was <br> scaling the pathway to the tower at the head <br> of the greater part of the gallant hunting train <br> .  \", \"bucklaw heard\", \"('voice', 'NOUN')\", \"<br> ou , ye see , sir , \\\" said <br> the sexton , \\\" as for the auld gudesire <br> body of a lord , i lived on his <br> land when i was a swanking young chield , <br> and could hae blawn the trumpet wi ' ony <br> body , for i had wind eneugh then ; <br> and touching this trumpeter marine that i have heard <br> play afore the lords of the circuit , i <br> wad hae made nae mair\", \"heard afore lords\", \"('play', 'NOUN')\", \"NA\", \"NA\", \"NA\", 13.768921282130625], [[\"music\", \"NOUN\"], \"hear\", 161, 108, -0.5760293759511483, \"<br> the music already rung from the gallery , along <br> the fretted roof of the ancient state apartment .\", \"music gallery\", \"('rung', 'VERB')\", \"NA\", \"NA\", \"NA\", \"NA\", \"NA\", \"NA\", 13.967419445938729], [[\"discourse\", \"NOUN\"], \"hear\", 50, 33, -0.5994620704162712, \"<br> but there was no need of this fine paternoster <br> to indoctrinate the lady , seeing that she had <br> listened to the discourse of the two friends , <br> and was greatly offended at her husband 's doubt <br> .\", \"seeing discourse\", \"('listened', 'VERB')\", \"NA\", \"NA\", \"NA\", \"NA\", \"NA\", \"NA\", 3.1594325364888394], [[\"steps\", \"NOUN\"], \"hear\", 90, 59, -0.6092100469678334, \"<br> so as i was rubbing the ring -- i <br> am sure i had not gone up three steps <br> , but i heard the rattling of armour ; <br> for all the world such a clatter as diego <br> says he heard when the giant turned him about <br> in the gallery - chamber . \\\"  \", \"steps rattling armour\", \"('heard', 'VERB')\", \"NA\", \"NA\", \"NA\", \"NA\", \"NA\", \"NA\", -1.371731216655363], [[\"news\", \"NOUN\"], \"hear\", 81, 53, -0.6119295483214255, \"<br> the bravest news ye ever heard -- the lord <br> keeper 's up yonder wi ' his fair daughter <br> , just ready to fling her at my lord <br> 's head , if he winna tak her out <br> o ' his arms ; and i'se warrant he <br> 'll stitch our auld lands of ravenswood to her <br> petticoat tail . \\\"  \", \"bravest news lord keeper\", \"('heard', 'VERB')\", \"<br> \\\" i have not forgot your merits , \\\" <br> said his patron ; \\\" i do remember that <br> , in my extremities , you had a mind <br> to crimp me for the service of the french <br> king , or of the pretender ; and , <br> moreover , that you afterwards lent me a score <br> of pieces , when , as i firmly believe <br> , you had heard the news that old lady <br> girnington had a touch of the dead palsy .\", \"believe news old\", \"('heard', 'VERB')\", \"NA\", \"NA\", \"NA\", 24.356442138194417], [[\"tones\", \"NOUN\"], \"hear\", 72, 47, -0.615336149764675, \"<br> when the latter placed the bottle and glass on <br> the mantel - shelf , the stranger 's eyes <br> flashed out on him again ; and when he <br> spoke , it was in musical tones with no <br> sign of the previous guttural convulsion , though his <br> voice was still unsteady with repressed emotion .  \", \"tones sign\", \"('musical', 'ADJ')\", \"<br> \\\" he does not seem intoxicated , maria , <br> \\\" replied the other , in a voice whose <br> tones corresponded with her appearance ; \\\" it is <br> some sudden illness . \\\"  \", \"tones corresponded\", \"('voice', 'NOUN')\", \"<br> the noble form and fine features of ravenswood , <br> fired with the pride of birth and sense of <br> internal dignity , the mellow and expressive tones of <br> his voice , the desolate state of his fortunes <br> , and the indifference with which he seemed to <br> endure and to dare the worst that might befall <br> , rendered him a dangerous object of contemplation for <br> a maiden already too much disposed to dwell upon <br> recollections connected with him .\", \"expressive tones desolate state\", \"('voice', 'NOUN')\", -10.140919455872135], [[\"interrupted\", \"VERB\"], \"hear\", 47, 30, -0.6476982560691187, \"<br> this agreeable contemplation of mr. delafield was soon interrupted <br> by the cheerful voice of maria osgood , who <br> cried--   \\\" bless me , george , you <br> really do look ill . \\\"  \", \"interrupted cheerful maria osgood\", \"('voice', 'NOUN')\", \"<br> \\\" were the ejaculations which he muttered from time <br> to time , as if to encourage himself in <br> his undertaking , when he was interrupted by the <br> voice of his master .  \", \"interrupted master\", \"('voice', 'NOUN')\", \"<br> \\\" i know it -- i know it , <br> \\\" said the marquis ; \\\" in a strict <br> heraldic and genealogical sense , you certainly are so <br> ; what i mean is , that being in <br> some measure under my guardianship---- \\\"   \\\" i <br> must take the liberty to say , my lord---- <br> \\\" answered ravenswood , and the tone in which <br> he interrupted the marquis boded no long duration to <br> the friendship of the noble relatives , when he <br> himself was interrupted by the little sexton , who <br> cam puffing after them , to ask if their <br> honours would choose music at the change - house <br> to make up for short cheer .  \", \"ravenswood interrupted\", \"('tone', 'NOUN')\", 8.080395664520397], [[\"faint\", \"ADJ\"], \"hear\", 69, 44, -0.6490928381408718, \"<br> this difference in opinion had long been a subject <br> of amicable dispute between them : but , latterly <br> , the contest was getting to be too important <br> to admit of trivial discussions on the part of <br> marmaduke , whose acute discernment was already catching faint <br> glimmerings of the important events that were in embryo <br> .  \", \"acute discernment faint glimmerings\", \"('catching', 'VERB')\", \"<br> \\\" yes , it is wonderful , \\\" she <br> said , and out in the open air her <br> voice sounded weak and faint to the last degree <br> .\", \"open air sounded weak faint\", \"('voice', 'NOUN')\", \"NA\", \"NA\", \"NA\", -14.095941665316944], [[\"engaged\", \"VERB\"], \"hear\", 62, 39, -0.6687940915246269, \"<br> if marmaduke do n\\u2019t send that fellow off the <br> patent , he may ornament his village with his <br> own hands for me , \\u201d here richard paused <br> a moment , and cleared his throat by a <br> loud hem , while the negro , who was <br> all this time busily engaged in preparing the sleigh <br> , proceeded with his work in respectful silence . <br>  \", \"time busily engaged sleigh proceeded\", \"('preparing', 'VERB')\", \"<br> on the present occasion , the usual amusement of <br> the day had been a little hastned , in <br> order to allow a fair opportunity to mr. grant <br> , whose exhibition was not less a treat to <br> the young sportsmen than the one which engaged their <br> present attention .  \", \"engaged present\", \"('attention', 'NOUN')\", \"<br> however , as mrs. hollister thought there was something <br> like actual service in the present appearances , and <br> was , in consequence , too busily engaged with <br> certain preparations of her own , to make her <br> comments ; as benjamin was absent , and monsieur <br> le quoi too happy to find fault with anything <br> , the corps escaped criticism and comparison altogether on <br> this momentous day , when they certainly had greater <br> need of self - confidence than on any other <br> previous occasion .  \", \"busily engaged certain\", \"('preparations', 'NOUN')\", 25.07002330195743], [[\"spoken\", \"VERB\"], \"hear\", 51, 32, -0.6724253419714956, \"<br> be it nevertheless understood , the author has no <br> other desire than to be a good touranian , <br> and joyfully to chronicle the merry doings of the <br> famous people of this sweet and productive land , <br> more fertile in cuckolds , dandies and witty wags <br> than any other , and which has furnished a <br> good share of men of renown in france , <br> as witness the departed courier of piquant memory ; <br> verville , author of _ moyen de parvenir _ <br> , and others equally well known , among whom <br> we will specially mention the sieur descartes , because <br> he was a melancholy genius , and devoted himself <br> more to brown studies than to drinks and dainties <br> , a man of whom all the cooks and <br> confectioners of tours have a wise horror , whom <br> they despise , and will not hear spoken of <br> , and say , \\\" where does he live <br> ? \\\" if his name is mentioned .\", \"spoken\", \"('hear', 'VERB')\", \"<br> meanwhile the king , who had just returned from <br> a journey , heard nothing spoken of at court <br> but the marvellous beauty of the jeweller 's daughter <br> who had refused a thousand crowns from this one <br> , snubbed that one ; in fact , would <br> yield to no one , but turned up her <br> nose at the finest young men of the city <br> , gentlemen who would have forfeited their seat in <br> paradise only to possess one day , this little <br> dragon of virtue .  \", \"journey spoken\", \"('heard', 'VERB')\", \"NA\", \"NA\", \"NA\", 7.182634629407189], [[\"tone\", \"NOUN\"], \"hear\", 128, 79, -0.6962192518228971, \"<br> in lady ashton 's voice , a tone of <br> impressive , and even stern , innuendo was sedulously <br> and skilfully concealed under an appearance of the most <br> affectionate maternal tenderness .\", \"lady ashton tone\", \"('voice', 'NOUN')\", \"NA\", \"NA\", \"NA\", \"NA\", \"NA\", \"NA\", -12.085762053901009], [[\"servants\", \"NOUN\"], \"hear\", 57, 35, -0.7036069972197752, \"<br> the marquis , who was sometimes suspected of jacobitism <br> , could not help laughing as he threw the <br> fellow a dollar , and bid him go play <br> to the servants if he had a mind , <br> and leave them at peace .  \", \"bid servants\", \"('play', 'VERB')\", \"<br> the refreshments which the servants had prepared were now <br> put on the table , and an epicure would <br> perhaps have enjoyed them with additional zest from the <br> contrast which such fare afforded to the miserable cabin <br> in which it was served up .  \", \"servants\", \"('prepared', 'VERB')\", \"NA\", \"NA\", \"NA\", 5.245873996145354], [[\"listening\", \"VERB\"], \"hear\", 49, 30, -0.7078192485066896, \"<br> you will tell me that this is a merciful <br> dispens-- \\\"   helene had come back to the <br> drawing - room with her father , and was <br> listening attentively .\", \"listening\", \"('attentively', 'ADV')\", \"NA\", \"NA\", \"NA\", \"NA\", \"NA\", \"NA\", -1.071925807011039], [[\"accompanied\", \"VERB\"], \"hear\", 54, 33, -0.710493382805015, \"<br> she accompanied these coddling little attentions with a hundred <br> affected speeches ; for instance , on coming into <br> the room she would say--  \", \"accompanied coddling little affected\", \"('attentions', 'NOUN')\", \"<br> thus accompanied with the attendance both of rich and <br> poor , lucy returned to her father 's house <br> .\", \"accompanied rich\", \"('attendance', 'NOUN')\", \"NA\", \"NA\", \"NA\", -0.5533689041679075], [[\"soft\", \"ADJ\"], \"hear\", 138, 84, -0.7162070339994087, \"<br> mr. delafield , it is seldom that i have <br> an opportunity of hearing soft things , for i <br> am never alone with a gentleman in my father <br> 's house\\\"--   \\\" and is mrs. osgood so <br> rigid ? \\\" returned the gentleman ; \\\" surely <br> the gravity of her daughter should create more confidence\\\"-- <br>   \\\"\", \"opportunity soft things\", \"('hearing', 'VERB')\", \"<br> \\\" seneca , \\\" he repeated slowly , dropping <br> his voice to something like the soft , deep <br> tones of the other ; \\\" then you are <br> in your own country , here ? \\\"  \", \"soft deep\", \"('tones', 'NOUN')\", \"<br> from this she whispered , in a tone of <br> voice which , though soft and sweet , had <br> something in it of admonition , if not command <br> : \\\" lucy , my dear , remember -- <br> have you heard what bucklaw has been saying ? <br> \\\"  \", \"tone soft\", \"('voice', 'NOUN')\", -1.8821210130721802], [[\"game\", \"NOUN\"], \"hear\", 53, 32, -0.7279204545631992, \"<br> exclaimed craigengelt , with a well - assumed air <br> of astonishment , \\\" that would be playing the <br> back - game with a witness !\", \"game\", \"('playing', 'VERB')\", \"NA\", \"NA\", \"NA\", \"NA\", \"NA\", \"NA\", -5.502195801246868], [[\"distant\", \"ADJ\"], \"hear\", 105, 63, -0.7369655941662062, \"<br> we parted about a mile from the village , <br> just as we heard the distant cheer of the <br> boys which accompanied the mounting of the new symbol <br> of the wallace head .\", \"distant cheer\", \"('heard', 'VERB')\", \"<br> he began already to think he was safe from <br> pursuit , having gained the summit of the swelling <br> eminence which divides wolf 's crag from the village <br> , when he heard the distant tread of a <br> horse , and a voice which shouted at intervals <br> , \\\" mr. caleb -- mr .\", \"village distant tread\", \"('heard', 'VERB')\", \"NA\", \"NA\", \"NA\", -4.390469328565114], [[\"attentively\", \"ADV\"], \"hear\", 59, 35, -0.7533600324168749, \"<br> the hunter made no reply ; but , bending <br> his ear near the water , he sat holding <br> his breath , and listening attentively as if to <br> some distant sound .  \", \"breath attentively\", \"('listening', 'VERB')\", \"<br> captain benwick listened attentively , and seemed grateful for <br> the interest implied ; and though with a shake <br> of the head , and sighs which declared his <br> little faith in the efficacy of any books on <br> grief like his , noted down the names of <br> those she recommended , and promised to procure and <br> read them .  \", \"captain benwick attentively\", \"('listened', 'VERB')\", \"<br> you will tell me that this is a merciful <br> dispens-- \\\"   helene had come back to the <br> drawing - room with her father , and was <br> listening attentively .\", \"father attentively\", \"('listening', 'VERB')\", 18.85957310979147], [[\"paid\", \"VERB\"], \"hear\", 114, 66, -0.7884958948062881, \"<br> then it would be those soft words and things <br> which the ladies understand so well , little attentions <br> paid to a guest , such as coming in <br> to see if he were comfortable , if his <br> bed were well made , the room clean , <br> if the ventilation were good , if he felt <br> any draughts in the night , if the sun <br> came in during the day , and asking him <br> to forgo none of his usual fancies and habits <br> , saying--   \\\" are you accustomed to take <br> anything in the morning in bed , such as <br> honey , milk , or spice ?\", \"little paid guest\", \"('attentions', 'NOUN')\", \"<br> then , bending gracefully from her horse , she <br> wished him good morning , and , attended by <br> one or two domestics , who seemed immediately attached <br> to her service , retired from the scene of <br> action , to which bucklaw , too much delighted <br> with an opportunity of displaying his woodcraft to care <br> about man or woman either , paid little attention <br> ; but was soon stript to his doublet , <br> with tucked - up sleeves , and naked arms <br> up to the elbows in blood and grease , <br> slashing , cutting , hacking , and hewing , <br> with the precision of sir tristrem himself , and <br> wrangling and disputing with all around him concerning nombles <br> , briskets , flankards , and raven - bones <br> , then usual terms of the art of hunting <br> , or of butchery , whichever the reader chooses <br> to call it , which are now probably antiquated <br> .  \", \"paid little soon\", \"('attention', 'NOUN')\", \"<br> the extreme attention which they paid to the master <br> of ravenswood had its usual effect in exalting his <br> importance in the eyes of the lord keeper , <br> who , although he had a reasonable degree of <br> contempt for lord bittlebrains 's general parts , entertained <br> a high opinion of the acuteness of his judgment <br> in all matters of self - interest .  \", \"extreme paid\", \"('attention', 'NOUN')\", -15.594857719484752], [[\"talk\", \"VERB\"], \"hear\", 64, 37, -0.7905466343710502, \"<br> secure in the protection of an old soldier , <br> women and children gave themselves up to the joys <br> of home life , so delicious when there is <br> no restraint upon feeling ; and talk and play <br> and glances are bright with frankness and affection . <br>  \", \"talk glances bright\", \"('play', 'VERB')\", \"NA\", \"NA\", \"NA\", \"NA\", \"NA\", \"NA\", 17.91394675329732], [[\"story\", \"NOUN\"], \"hear\", 111, 63, -0.8171359428501895, \"<br> but so it turned out ; for whether or <br> not there was any foundation for the traffickings with <br> him which she pretended , he never could abide <br> to hear the story alluded to , which , <br> when i discerned , i took care , whenever <br> he showed any sort of inclination to molest the <br> council with his propugnacity , to joke him about <br> his bonny sweetheart , \\\" the tappit - hen <br> , \\\" and he instantly sang dumb , and <br> quietly slipped away ; by which it may be <br> seen how curiously events come to pass , since <br> , out of the very first cause of his <br> thwarting me in the lamps , i found , <br> in process of time , a way of silencing <br> him far better than any sort of truth or <br> reason .     \", \"abide story alluded\", \"('hear', 'VERB')\", \"<br> i have heard somewhere a story of an elderly <br> gentleman who was pursued by a bear that had <br> gotten loose from its muzzle , until completely exhausted <br> .\", \"story\", \"('heard', 'VERB')\", \"<br> i have heard of that story , \\\" said <br> the lady .\", \"story\", \"('heard', 'VERB')\", 4.378839236518247], [[\"female\", \"ADJ\"], \"hear\", 97, 55, -0.8185531286624681, \"<br> the lord keeper made another effort to prevent her <br> taking a step so decisive , just as she <br> opened the door to call her female attendant from <br> the ante - room . \\\"\", \"female ante\", \"('attendant', 'NOUN')\", \"NA\", \"NA\", \"NA\", \"NA\", \"NA\", \"NA\", -9.743424855171856], [[\"ear\", \"NOUN\"], \"hear\", 136, 77, -0.820676300555438, \"<br> this was easily done , for the hag 's <br> external ugliness was soon balanced by a show of <br> kindness and interest , to which lucy had of <br> late been little accustomed ; her attentive services and <br> real skill gained her the ear , if not <br> the confidence , of her patient ; and under <br> pretence of diverting the solitude of a sick - <br> room , she soon led her attention captive by <br> the legends in which she was well skilled , <br> and to which lucy 's habit of reading and <br> reflection induced her to \\\" lend an attentive ear <br> . \\\"\", \"lend ear\", \"('attentive', 'ADJ')\", \"NA\", \"NA\", \"NA\", \"NA\", \"NA\", \"NA\", 1.1083562124955513], [[\"raising\", \"VERB\"], \"hear\", 78, 44, -0.8259706002249512, \"<br> \\\" oh , child , \\\" said the general <br> , raising his voice , \\\" you have no <br> idea of all the misery that lies in store <br> for you . \\\"  \", \"general raising\", \"('voice', 'NOUN')\", \"<br> \\\" i slight and inconsiderable ? \\\" said craigengelt <br> , raising his voice , and laying his hand <br> on his cutlass ; \\\" if it were not <br> that the quarrel of my friend craves the precedence <br> , and is in dependence before my own , <br> i would give you to understand---- \\\"   \\\" <br> i can understand nothing upon your explanation , captain <br> craigengelt .\", \"craigengelt raising laying\", \"('voice', 'NOUN')\", \"<br> \\\" confound you for an impudent liar ! \\\" <br> said ravenswood , in uncontrollable ire , \\\" there <br> was not a single ounce of---- \\\"   \\\" <br> forbye , \\\" said the butler , most irreverently <br> raising his voice to a pitch which drowned his <br> master 's , \\\" the fire made fast on <br> us , owing to the store of tapestry and <br> carved timmer in the banqueting - ha ' , <br> and the loons ran like scaulded rats sae sune <br> as they heard of the gunpouther . \\\"  \", \"irreverently raising pitch\", \"('voice', 'NOUN')\", -11.088209595580397], [[\"ceased\", \"VERB\"], \"hear\", 59, 33, -0.838248930003388, \"<br> as the ringing of the bell ceased , the <br> gate unclosed , and the doctor came forth . <br>  \", \"bell ceased\", \"('ringing', 'NOUN')\", \"NA\", \"NA\", \"NA\", \"NA\", \"NA\", \"NA\", -5.740856627023219], [[\"speak\", \"VERB\"], \"hear\", 171, 95, -0.84799690655495, \"<br> a time , however , there must come , <br> when these things shall be discussed , in a <br> place and in a presence where both of us <br> will have equal freedom to speak and to hear <br> . \\\"  \", \"speak\", \"('hear', 'VERB')\", \"NA\", \"NA\", \"NA\", \"NA\", \"NA\", \"NA\", -4.959703220296658], [[\"hearing\", \"VERB\"], \"hear\", 66, 36, -0.8744691179161412, \"<br> \\\" i could not resist the pleasure of hearing <br> your voice , of being near you .\", \"pleasure hearing\", \"('voice', 'NOUN')\", \"<br> the hero , himself , on hearing such a <br> gentle voice so softly replying to his question , <br> could not refrain from turning his face into the <br> carriage , and julia felt her own eyes lower <br> before his earnest gaze , while her cheeks burned <br> with the blushes that suffused them .\", \"hearing gentle softly replying\", \"('voice', 'NOUN')\", \"<br> hearing the noise made by the men , which <br> threatened to bring the walls about their ears , <br> the maid - servant opened the door , yawning <br> and stretching her arms .\", \"hearing men\", \"('noise', 'NOUN')\", 15.942008062322762], [[\"cried\", \"VERB\"], \"hear\", 129, 70, -0.8819442384782877, \"<br> but his fair youth , and all the natural <br> seductions of this sweet crime , found grace before <br> the tribunal of the heart of this old man <br> , although bruyn was still severe , and throwing <br> his club away on to a dog who was <br> catching beetles , he cried out , \\\" may <br> a thousand million claws , tear during all eternity <br> , all the entrails of him , who made <br> him , who planted the oak , that made <br> the chair , on which thou hast antlered me <br> -- and the same to those who engendered thee <br> , cursed page of misfortune !\", \"dog beetles cried\", \"('catching', 'VERB')\", \"NA\", \"NA\", \"NA\", \"NA\", \"NA\", \"NA\", -11.994255824458309], [[\"step\", \"NOUN\"], \"hear\", 72, 39, -0.8845227825800641, \"<br> \\\" well , you hear a man 's step <br> , i grant it , \\\" said lucy ; <br> \\\" but why , alice , may it not <br> be my father 's ? \\\"  \", \"man step\", \"('hear', 'VERB')\", \"NA\", \"NA\", \"NA\", \"NA\", \"NA\", \"NA\", 0.18917843510280166], [[\"replied\", \"VERB\"], \"hear\", 126, 68, -0.8898170822495771, \"<br> at length a timid and hesitating voice replied : <br> \\\" master -- master of ravenswood , is it <br> you ? \\\"  \", \"timid hesitating replied master\", \"('voice', 'NOUN')\", \"NA\", \"NA\", \"NA\", \"NA\", \"NA\", \"NA\", 22.741942663502577], [[\"words\", \"NOUN\"], \"hear\", 287, 152, -0.9169794132321023, \"<br> the stern reception at first given to them by <br> the master of ravenswood , and the difficulty he <br> felt in explaining to that injured nobleman what guests <br> were under the shelter of his roof , did <br> not soothe these alarms ; so that when sir <br> william ashton heard the door of the courtyard shut <br> behind him with violence , the words of alice <br> rung in his ears , \\\" that he had <br> drawn on matters too hardly with so fierce a <br> race as those of ravenswood , and that they <br> would bide their time to be avenged .\", \"words alice ears\", \"('rung', 'VERB')\", \"NA\", \"NA\", \"NA\", \"NA\", \"NA\", \"NA\", -1.889565574731771], [[\"journey\", \"NOUN\"], \"hear\", 57, 30, -0.9259994185562233, \"<br> meanwhile the king , who had just returned from <br> a journey , heard nothing spoken of at court <br> but the marvellous beauty of the jeweller 's daughter <br> who had refused a thousand crowns from this one <br> , snubbed that one ; in fact , would <br> yield to no one , but turned up her <br> nose at the finest young men of the city <br> , gentlemen who would have forfeited their seat in <br> paradise only to possess one day , this little <br> dragon of virtue .  \", \"journey spoken\", \"('heard', 'VERB')\", \"<br> looking as if she saw him not , she <br> put his arm aside , and requested that of <br> captain craigengelt , who stood by the coach with <br> his laced hat under his arm , having acted <br> as cavaliere servente , or squire in attendance , <br> during the journey .\", \"squire journey\", \"('attendance', 'NOUN')\", \"<br> at the usual early hour of that period , <br> the marquis of a---- and his kinsman prepared to <br> resume their journey .\", \"a---- kinsman resume journey\", \"('prepared', 'VERB')\", -11.699262333331168], [[\"exclaimed\", \"VERB\"], \"hear\", 88, 45, -0.9675785223076225, \"<br> \\\" which way are they going ? \\\" exclaimed <br> the general , listening to the footsteps of the <br> two fugitives.--\\\"madame , \\\" he turned to his wife <br> , \\\" i think i must be dreaming ; <br> there is some mystery behind all this\", \"exclaimed general footsteps\", \"('listening', 'VERB')\", \"<br> \\\" i -- indeed i have yet to learn <br> that , \\\" exclaimed the other , in a <br> little more astonishment .  \", \"exclaimed\", \"('learn', 'VERB')\", \"<br> \\\" what ! not with that voice ? \\\" <br> exclaimed the young man , in surprise .  \", \"exclaimed\", \"('voice', 'NOUN')\", -9.03063755736125], [[\"solemn\", \"ADJ\"], \"hear\", 87, 44, -0.9835118772114309, \"<br> \\\" jaquez , \\\" said manfred , in a <br> solemn tone of voice ; \\\" tell me , <br> i adjure thee by the souls of my ancestors <br> , what was it thou sawest ?\", \"solemn tone tell\", \"('voice', 'NOUN')\", \"<br> then an awful cadence of solemn music , that <br> affected the heart like silence , was heard at <br> intervals , and a numerous retinue of grave and <br> venerable men ,      \", \"awful cadence solemn affected\", \"('music', 'NOUN')\", \"<br> my lord , \\\" she continued , in an <br> impressive and solemn tone , \\\" take care what <br> you do ; you are on the brink of <br> a precipice . \\\"  \", \"impressive solemn care\", \"('tone', 'NOUN')\", -15.898025780845382], [[\"struck\", \"VERB\"], \"hear\", 89, 45, -0.983880334636723, \"<br> although this signal was certainly expected , it took <br> the assailed a little by surprise , and the <br> veteran approached the works , crying , \\u201c courage <br> , my brave lads ! give them no quarter <br> unless they surrender ; \\u201d and struck a furious <br> blow upward with his sabre , that would have <br> divided the steward into moieties by subjecting him to <br> the process of decapitation , but for the fortunate <br> interference of the muzzle of the swivel .  \", \"struck furious upward sabre\", \"('blow', 'NOUN')\", \"<br> at length the constable struck two heavy blows over <br> the table and said , \\\" i 'll go <br> and attack the inhabitants of poissy . \\\"\", \"constable struck heavy table\", \"('blows', 'NOUN')\", \"NA\", \"NA\", \"NA\", -11.092562097530363], [[\"hear\", \"VERB\"], \"hear\", 238, 119, -1.0, \"<br> but so beautiful is the music , that i <br> hear nothing else , and so flaming are their <br> luminous rays , that my eyes are closing . <br> \\\"  \", \"beautiful hear\", \"('music', 'NOUN')\", \"<br> if you please to take your friend 's horse <br> , and leave me your galloway , i will <br> meet you after the fall of the stag , <br> for i hear they are blowing him at bay <br> . \\\"  \", \"hear bay\", \"('blowing', 'VERB')\", \"NA\", \"NA\", \"NA\", -7.393493599653324], [[\"deep\", \"ADJ\"], \"hear\", 174, 87, -1.0, \"<br> he seemed to shrink from her expressions of gratitude <br> , while he replied abruptly , \\\" i leave <br> you , madam , \\\" the deep melody of <br> his voice rendered powerful , but not harsh , <br> by something like a severity of tone--\\\"i leave you <br> to the protection of those to whom it is <br> possible you may have this day been a guardian <br> angel . \\\"  \", \"deep melody rendered powerful\", \"('voice', 'NOUN')\", \"<br> far more deeply skilled than her husband in the <br> recesses of the human heart , she was aware <br> that in this way she might strike a blow <br> of deep and decisive vengeance upon one whom she <br> esteemed as her mortal enemy ; nor did she <br> hesitate at raising her arm , although she knew <br> that the wound must be dealt through the bosom <br> of her daughter .\", \"strike deep decisive\", \"('blow', 'NOUN')\", \"NA\", \"NA\", \"NA\", -4.095786047265447], [[\"approaching\", \"VERB\"], \"hear\", 78, 38, -1.0374747054186628, \"<br> the fat bishop , sensual and careful enough of <br> the sleek , ecclesiastical garment of skin for which <br> he was indebted to his late mother , allowed <br> himself to be plentifully served with hippocras by the <br> delicate hand of madame , and it was just <br> at his first hiccough that the sound of an <br> approaching cavalcade was heard in the street .\", \"approaching cavalcade street\", \"('heard', 'VERB')\", \"NA\", \"NA\", \"NA\", \"NA\", \"NA\", \"NA\", -8.98985881870525], [[\"sweet\", \"ADJ\"], \"hear\", 193, 94, -1.037868185590443, \"<br> hearing these sweet words , bertha declared to him <br> that , however great might have been her sin <br> , and whatever god reserved for her , this <br> happiness would enable her to support it , since <br> she believed she had not fallen through a man <br> , but through an angel .  \", \"sweet words\", \"('hearing', 'VERB')\", \"<br> then , naturally , and with the delicious joy <br> of two angels united by thought alone , they <br> intoned together those sweet litanies repeated by the lovers <br> of the period in honour of love -- anthems <br> which the abbot of theleme has paragraphically saved from <br> oblivion by engraving them on the walls of his <br> abbey , situated , according to master alcofribas , <br> in our land of chinon , where i have <br> seen them in latin , and have translated them <br> for the benefit of christians .  \", \"thought sweet litanies\", \"('intoned', 'VERB')\", \"NA\", \"NA\", \"NA\", -1.716819515960017], [[\"attention\", \"NOUN\"], \"hear\", 175, 84, -1.0588936890535685, \"<br> but delafield possessed other attractions to catch the attention <br> of the audience : his powers on the instrument <br> greatly exceeded those of any of his competitors , <br> and his execution was really wonderful ; every tongue <br> was silent , every ear was attentive , and <br> every head nodded approbation , excepting that of our <br> heroine .\", \"possessed attractions attention\", \"('catch', 'VERB')\", \"NA\", \"NA\", \"NA\", \"NA\", \"NA\", \"NA\", -1.2879584625000216], [[\"speaking\", \"VERB\"], \"hear\", 97, 45, -1.1080597458574528, \"<br> charlotte alone noticed the alteration , and , speaking <br> in a low tone , she said--   \\\" <br> do go home ,\", \"speaking low said--\", \"('tone', 'NOUN')\", \"<br> now this poor chiquon , as the shepherd was <br> named , had lived about a month alone with <br> his old uncle , and finding more profit or <br> more amusement in minding an abbot than looking after <br> sheep , made himself the canon 's dog , <br> his servant , the staff of his old age <br> , saying , \\\" god keep you , \\\" <br> when he passed wind , \\\" god save you <br> , \\\" when he sneezed , and \\\" god <br> guard you , \\\" when he belched ; going <br> to see if it rained , where the cat <br> was , remaining silent , listening , speaking , <br> receiving the coughs of the old man in his <br> face , admiring him as the finest canon there <br> ever was in the world , all heartily and <br> in good faith , knowing that he was licking <br> him after the manner of animals who clean their <br> young ones ; and the uncle , who stood <br> in no need of learning which side the bread <br> was buttered , repulsed poor chiquon , making him <br> turn about like a die , always calling him <br> chiquon , and always saying to his other nephews <br> that this chiquon was helping to kill him , <br> such a numskull was he .\", \"remaining silent speaking receiving\", \"('listening', 'NOUN')\", \"<br> he could talk , from his own knowledge , <br> of men and events , in a way which <br> failed not to win attention , and had the <br> peculiar art , while he never said a word <br> which committed himself , at the same time to <br> persuade the hearer that he was speaking without the <br> least shadow of scrupulous caution or reserve .\", \"time persuade speaking\", \"('hearer', 'NOUN')\", 9.759786699235047], [[\"read\", \"VERB\"], \"hear\", 133, 61, -1.1245450979383034, \"<br> contrary to the custom , and even to the <br> law , of the time , the body was <br> met by a priest of the scottish episcopal communion <br> , arrayed in his surplice , and prepared to <br> read over the coffin of the deceased the funeral <br> service of the church .\", \"surplice read\", \"('prepared', 'VERB')\", \"NA\", \"NA\", \"NA\", \"NA\", \"NA\", \"NA\", -10.093093811287439], [[\"answered\", \"VERB\"], \"hear\", 117, 53, -1.1424442650202054, \"<br> he answered , his very voice trembling as if <br> in sympathy with his frame : \\\" i do <br> believe but for you i should have been long <br> since in my grave . \\\"  \", \"answered trembling\", \"('voice', 'NOUN')\", \"<br> \\\" sir william is safe , \\\" answered the <br> voice of a stranger--\\\"perfectly safe , adn will be <br> with you instantly . \\\"  \", \"answered stranger--\\\"perfectly safe\", \"('voice', 'NOUN')\", \"<br> \\\" you heard yourself , \\\" answered craigengelt , <br> \\\" what captain westenho said about it , and <br> the great preparation made for their blythesome bridal .\", \"answered\", \"('heard', 'VERB')\", 23.697115353198246], [[\"angry\", \"ADJ\"], \"hear\", 74, 33, -1.1650592462704963, \"<br> the first battle they fought was with two saracens <br> , and the dwarf , who was very courageous <br> , dealt one of the champions a most angry <br> blow .\", \"champions angry\", \"('blow', 'NOUN')\", \"<br> as we continued our discourse in this manner , <br> his wife , who had been out to get <br> change , returned , and perceiving that her husband <br> was enjoying a pleasure in which she was not <br> a sharer , she asked him , in an <br> angry tone , what he did there , to <br> which he only replied in an ironical way , <br> by drinking her health . '\", \"angry\", \"('tone', 'NOUN')\", \"<br> bucklaw now came from the rear of the party <br> , and demanded admittance in a very angry tone <br> .\", \"angry\", \"('tone', 'NOUN')\", -6.064499620497359], [[\"spoke\", \"VERB\"], \"hear\", 160, 71, -1.1721809753826804, \"<br> it was easy to see that the marquise 's <br> feet were stretched out stark and stiff with the <br> agony of death ; and moina , leaning against <br> the door - frame , looking into their faces <br> , spoke in a hollow voice :  \", \"spoke hollow\", \"('voice', 'NOUN')\", \"<br> thereupon the foolish fellow -- as firmly fixed as <br> a fly in a glue pot --went away , <br> made his preparations , spoke at the palace , <br> ran to the high court , bought dispensations , <br> and conducted his purchase more quickly than he ever <br> done one before , thinking only of the lovely <br> girl .\", \"away spoke\", \"('preparations', 'NOUN')\", \"NA\", \"NA\", \"NA\", -8.875589127943366], [[\"conversation\", \"NOUN\"], \"hear\", 136, 60, -1.1805722456418208, \"<br> they listened , and heard the old domestic 's <br> voice in conversation with mysie to the following effect <br> :   \\\" just mak the best o't -- <br> make the besto't , woman ; it 's easy <br> to put a fair face on ony thing . <br> \\\"  \", \"old domestic conversation mysie\", \"('voice', 'NOUN')\", \"<br> but when he perceived that the lady was recovered <br> , and heard the conversation turn upon the accommodation <br> and refreshment which the castle afforded , he thought <br> it time to burst into the room in the <br> manner announced in the last chapter .  \", \"recovered conversation turn\", \"('heard', 'VERB')\", \"<br> \\\" i have a young birkie , \\\" said <br> the lord keeper , willing to change the tone <br> of the conversation , \\\" of much the same <br> turn .\", \"willing change conversation\", \"('tone', 'NOUN')\", -6.96346326033153], [[\"saying\", \"VERB\"], \"hear\", 84, 37, -1.1828640571498106, \"<br> this old maid had her apartments on the other <br> side of the house which belonged to la beaupertuys <br> , at the corner of the rue de hierusalem <br> , in such a position that , standing on <br> the balcony joining the wall , it was easy <br> to see what she was doing , and hear <br> what she was saying in the lower room where <br> she lived ; and often the king derived much <br> amusement from the antics of the old girl , <br> who did not know that she was so much <br> within the range of his majesty 's culverin .\", \"saying\", \"('hear', 'VERB')\", \"NA\", \"NA\", \"NA\", \"NA\", \"NA\", \"NA\", -12.175029654917015], [[\"called\", \"VERB\"], \"hear\", 159, 70, -1.183599938339389, \"<br> \\\" we shall never agree upon this question , <br> \\\" captain harville was beginning to say , when <br> a slight noise called their attention to captain wentworth <br> 's hitherto perfectly quiet division of the room . <br>  \", \"slight noise called captain wentworth\", \"('attention', 'NOUN')\", \"<br> their attention was called towards the others .  \", \"called\", \"('attention', 'NOUN')\", \"<br> \\\" called a voice which rang like a crack <br> of thunder through the hearts of the two lovers <br> .\", \"called rang\", \"('voice', 'NOUN')\", -15.658885280816312], [[\"drew\", \"VERB\"], \"hear\", 82, 36, -1.1876270031757714, \"<br> thus aided , the listeners drew nigh to a <br> spot where the young hunter , leather- stocking , <br> and the indian chief were collected in an earnest <br> consultation .  \", \"aided drew nigh\", \"('listeners', 'NOUN')\", \"<br> she was by no means sure that antonio would <br> appear as a coachman -- this was merely a <br> suggestion of her own ; and the idea that <br> he might possibly be one of the gazers , <br> covered her with confusion : her blushes drew still <br> more attention and admiration upon her ; and we <br> can not say what might have been the result <br> of her fascinations , had not charles at this <br> instant approached them , and pointing to a sloop <br> they were passing at the time , exclaimed--   <br> \\\" see , madam -- see , julia\", \"blushes drew admiration\", \"('attention', 'NOUN')\", \"NA\", \"NA\", \"NA\", 9.246038617918089], [[\"making\", \"VERB\"], \"hear\", 112, 49, -1.1926450779423958, \"<br> the cunning jade settled herself dextrously therein , like <br> a swallow in its nest , and leaned her <br> head maliciously upon her arm like a child that <br> sleeps ; but in making her preparations she opened <br> fond eyes , that smiled and winked in advance <br> of the little secret thrills , sneezes , squints <br> , and trances of the page who was about <br> to lie at her feet , separated from her <br> by the jump of an old flea ; and <br> in fact she advanced so much and so near <br> the square of velvet where the poor child should <br> kneel , whose life and soul she trifled with <br> , that had he been a saint of stone <br> , his glance would have been constrained to follow <br> the flexousities of the dress in order to admire <br> and re - admire the perfections and beauties of <br> the shapely leg , which moulded the white stocking <br> of the seneschal 's lady .\", \"making opened fond eyes\", \"('preparations', 'NOUN')\", \"NA\", \"NA\", \"NA\", \"NA\", \"NA\", \"NA\", -7.820820698882242], [[\"eager\", \"ADJ\"], \"hear\", 80, 35, -1.1926450779423958, \"<br> occasionally she would draw the attention of her aunt <br> to some view of particular interest ; and if <br> her eager voice caught the attention of antonio , <br> and he turned to gaze , to ponder , <br> and to admire -- then julia felt happy indeed <br> , for then it was that she felt the <br> indescribable bliss of sharing our pleasures with those we <br> love .\", \"eager voice caught antonio\", \"('attention', 'NOUN')\", \"NA\", \"NA\", \"NA\", \"NA\", \"NA\", \"NA\", -7.8947399970413015], [[\"suddenly\", \"ADV\"], \"hear\", 145, 62, -1.2257127796280591, \"<br> may at last dropt the hedgehog ; continuing , <br> however , to pat it with her delicate cat <br> - like paw , cautiously and daintily applied , <br> and caught back suddenly and rapidly after every touch <br> , as if her poor captive had been a <br> red - hot coal .\", \"daintily applied suddenly rapidly\", \"('caught', 'VERB')\", \"<br> suddenly he heard a groan -- his teeth chattered <br> , and his knees smote against the saddle : <br> it was but the rubbing of one huge bough <br> upon another , as they were swayed about by <br> the breeze .\", \"suddenly groan\", \"('heard', 'VERB')\", \"<br> suddenly the voice of young edwards was heard shouting <br> in those appalling tones that carry alarm to the <br> very soul , and which curdle the blood of <br> those that hear them .  \", \"suddenly young edwards\", \"('voice', 'NOUN')\", 9.901668216106579], [[\"usual\", \"ADJ\"], \"hear\", 115, 49, -1.2307802068291671, \"<br> as the labor of drawing the net had been <br> very great , he directed one party of his <br> men to commence throwing the fish into piles , <br> preparatory to the usual division , while another , <br> under the superintendence of benjamin , prepared the seine <br> for a second haul .     \", \"fish piles usual division\", \"('preparatory', 'ADJ')\", \"<br> but the usual fate of anne attended her , <br> in having something very opposite from her inclination fixed <br> on .  \", \"usual fate anne having\", \"('attended', 'VERB')\", \"<br> at the appointed hour the lovers met , and <br> their interview was protracted beyond that at which they <br> usually parted , by the delay of the priest <br> to ring his usual curfew .\", \"priest usual curfew\", \"('ring', 'VERB')\", -6.368489884649801], [[\"surprised\", \"ADJ\"], \"hear\", 74, 31, -1.2552570552420745, \"<br> the house was cleared yesterday , except of the <br> little harvilles ; but you will be surprised to <br> hear they have never gone home .  \", \"surprised gone\", \"('hear', 'VERB')\", \"<br> the marquis and his daughter , both believing that <br> m. de mauny 's murderer was a prisoner above <br> , thought that one of the maids had come <br> down , and no one was at all surprised <br> to hear the door open in the ante - <br> chamber .\", \"surprised door open\", \"('hear', 'VERB')\", \"NA\", \"NA\", \"NA\", -3.704222097394999], [[\"word\", \"NOUN\"], \"hear\", 172, 72, -1.2563397532597855, \"<br> he caught the word ; it seemed to rouse <br> him at once , and saying only-- \\\" true <br> , true , a surgeon this instant , \\\" <br> was darting away , when anne eagerly suggested--   <br> \\\" captain benwick , would not it be better <br> for captain benwick ?  \", \"word\", \"('caught', 'VERB')\", \"<br> the lady having heard every word , had folded <br> up all her clothes , and put them under <br> the bolster , had taken off her chemise , <br> that her husband should not recognise it , had <br> twisted her head up in a sheet , and <br> had brought to light the carnal convexities which commenced <br> where her spine finished .  \", \"lady having word\", \"('heard', 'VERB')\", \"<br> \\\" then , master , \\\" said bucklaw , <br> \\\" though i should be sorry to offer it <br> to a man of your quality , if you <br> will not justify your incivility , or retract it <br> , or name a place of meeting , you <br> must here undergo the hard word and the hard <br> blow .\", \"word hard\", \"('blow', 'NOUN')\", -9.307524729323884], [[\"gentle\", \"ADJ\"], \"hear\", 122, 51, -1.2583119955913906, \"<br> \\\" and when do you play upon this gentle <br> flute ? \\\" said the canon .  \", \"gentle flute\", \"('play', 'VERB')\", \"NA\", \"NA\", \"NA\", \"NA\", \"NA\", \"NA\", 4.551919887069179], [[\"bed\", \"NOUN\"], \"hear\", 82, 34, -1.2700891633677442, \"<br> \\\" he is ill , \\\" said delafield , <br> far from feeling quite easy at the evident interest <br> that the lady exhibited ; \\\" he is ill <br> , and should be in his bed , instead <br> of attending the morning levees of even miss henly <br> .\", \"bed instead morning levees\", \"('attending', 'VERB')\", \"<br> and rising suddenly from the table to prepare for <br> bed , gauttier showed to the venetian the finest <br> talisman to procure joy that he had ever seen <br> .  \", \"table bed gauttier\", \"('prepare', 'VERB')\", \"NA\", \"NA\", \"NA\", 17.616348985700174], [[\"ready\", \"ADJ\"], \"hear\", 85, 35, -1.2801079191927354, \"<br> a repetition of the offer of refreshment , with <br> the addition , that the family meal would be <br> presently ready , compelled his attention , and reminded <br> him that he acted a weak , perhaps even <br> a ridiculous , part in suffering himself to be <br> overcome by the circumstances in which he found himself <br> .\", \"ready compelled reminded\", \"('attention', 'NOUN')\", \"<br> as her carriage , therefore , stopped , the <br> arm of the attentive husband was ready to assist <br> lady ashton in dismounting .\", \"arm husband ready\", \"('attentive', 'ADJ')\", \"NA\", \"NA\", \"NA\", 7.1355800051462275], [[\"john\", \"PROPN\"], \"hear\", 73, 30, -1.282933963271499, \"<br> the young man , i hear , lives with <br> john and natty bumppo , and it \\u2019s always <br> best to humor a patient , when it can <br> be done discreetly \\u2014\", \"young man lives john\", \"('hear', 'VERB')\", \"<br> i wo n\\u2019t ; it has taken to the <br> water on its own natur\\u2019 , which is the <br> reason that god has given to a deer , <br> and i \\u2019ll give it the lake play ; <br> so , john , lay out your arm , <br> and mind the turn of the buck ; it <br> \\u2019s easy to catch them , but they \\u2019ll <br> turn like a snake .\", \"lake john\", \"('play', 'NOUN')\", \"<br> the indian looked steadily at her for some time <br> without answering , and then , shaking his head <br> , he replied , in his low , guttural <br> tones :   \\u201c john \\u2019s hand can make <br> baskets no more \\u2014 he wants no shirt .\", \"low guttural john\", \"('tones', 'NOUN')\", -1.8568089800997039], [[\"care\", \"NOUN\"], \"hear\", 77, 31, -1.3125902303080261, \"<br> my lord , \\\" she continued , in an <br> impressive and solemn tone , \\\" take care what <br> you do ; you are on the brink of <br> a precipice . \\\"  \", \"impressive solemn care\", \"('tone', 'NOUN')\", \"NA\", \"NA\", \"NA\", \"NA\", \"NA\", \"NA\", 7.648246631237392], [[\"presently\", \"ADV\"], \"hear\", 79, 31, -1.3495844377902277, \"<br> but we shall have noise enough presently : may <br> has stopped at lizzy 's door ; and\", \"shall presently\", \"('noise', 'NOUN')\", \"<br> but presently our voice       was turn'd to mourning <br> for that little time       that she 'd enjoy <br> : she waned in her prime ,       for <br> atropus , with her impartial knife ,       soon <br> cut her thread , and therewithal her life ; <br>      \", \"presently turn'd\", \"('voice', 'NOUN')\", \"NA\", \"NA\", \"NA\", -4.4306877825771895], [[\"received\", \"VERB\"], \"hear\", 87, 34, -1.3554806545983888, \"<br> it was seen and ascertained that , in her <br> most graceful courtesies and compliments , lady ashton no <br> more lost sight of her object than the falcon <br> in his airy wheel turns his quick eyes from <br> his destined quarry ; and hence , somethign of <br> doubt and suspicion qualified the feelings with which her <br> equals received her attentions .\", \"equals received\", \"('attentions', 'NOUN')\", \"NA\", \"NA\", \"NA\", \"NA\", \"NA\", \"NA\", 9.199021625404951], [[\"melancholy\", \"ADJ\"], \"hear\", 108, 42, -1.3625700793847082, \"<br> \\\" it was down there , \\\" he said <br> , in a melancholy voice , indicating as he <br> spoke a cluster of walnut trees by the roadside <br> , \\\" that i , a prisoner , saw <br> you for the first time . \\\"  \", \"melancholy indicating\", \"('voice', 'NOUN')\", \"<br> as he pronounced these words , in a firm <br> yet melancholy tone , he raised his eyes , <br> and suddenly encountered those of lucy ashton , who <br> had stolen unawares on their interview , and observed <br> her looks fastened on them with an expression of <br> enthusiastic interest and admiration , which had wrapt her <br> for the moment beyond the fear of discovery .\", \"firm melancholy raised\", \"('tone', 'NOUN')\", \"<br> \\\" and is it even so ? \\\" said <br> the old woman , in an altered but melancholy <br> tone , \\\" then god help you both ! <br> \\\"  \", \"altered melancholy god\", \"('tone', 'NOUN')\", -0.10810344136140669], [[\"possible\", \"ADJ\"], \"hear\", 111, 43, -1.368151111648008, \"<br> this could not be done without an ample breakfast <br> , in which cold meat and hot meat , <br> and oatmeal flummery , wine and spirits , and <br> milk varied by every possible mode of preparation , <br> evinced the same desire to do honour to their <br> guests which had been shown by the hospitable owners <br> of the mansion upon the evening before .\", \"possible mode evinced\", \"('preparation', 'NOUN')\", \"NA\", \"NA\", \"NA\", \"NA\", \"NA\", \"NA\", 1.6712171102348734], [[\"distance\", \"NOUN\"], \"hear\", 141, 54, -1.384663850235325, \"<br> the elegant little clock on the mantel - piece <br> had struck \\\" eleven with its silver sounds , <br> \\\" and the watchman was beginning to be heard <br> at a distance telling the same tale , before <br> mr elliot or any of them seemed to feel <br> that he had been there long .  \", \"beginning distance telling\", \"('heard', 'VERB')\", \"<br> the hard frost had purified the air , and <br> held the earth in its grip ; the roads <br> gave back every sound with the hard metallic ring <br> which always strikes us with a new surprise ; <br> the heavy footsteps of some belated reveler , or <br> a cab returning to paris , could be heard <br> for a long distance with unwonted distinctness .\", \"paris long distance\", \"('heard', 'VERB')\", \"<br> an attendant waited at some distance , and the <br> whole equipment was that of an elderly gentleman of <br> rank and fashion .\", \"waited distance\", \"('attendant', 'NOUN')\", -6.118630857552771], [[\"said\", \"VERB\"], \"hear\", 991, 379, -1.3866872090153963, \"<br> \\\" the place can not have blown up , <br> \\\" said the master ; \\\" we must have <br> heard the report : if a quarter of the <br> gunpowder was there you tell me of , it <br> would have been heard twenty miles off . \\\" <br>  \", \"place said\", \"('blown', 'VERB')\", \"NA\", \"NA\", \"NA\", \"NA\", \"NA\", \"NA\", -7.087495805326411], [[\"strange\", \"ADJ\"], \"hear\", 126, 48, -1.3923174227787602, \"<br> they are given to all kinds of marvellous beliefs <br> , are subject to trances and visions , and <br> frequently see strange sights , and hear music and <br> voices in the air .\", \"strange sights music voices\", \"('hear', 'VERB')\", \"<br> i hear strange stories of her ; she is <br> always upon the gad ; and from my own <br> knowledge , i can declare , she is such <br> a fine - dressing lady , that she is <br> enough to ruin any servants she comes near . <br>  \", \"strange stories\", \"('hear', 'VERB')\", \"<br> hearing these strange words the ladies was so surprised <br> that at first they did not perceive that the <br> seneschal 's widow was dead , without its ever <br> been known if her sudden death was caused by <br> her sorrow at the departure of her lover , <br> who , faithful to his vow , did not <br> wish to see her , or from great joy <br> at his return and the hope of getting the <br> interdict removed which the abbot of marmoustiers had placed <br> upon their loves .\", \"strange words\", \"('hearing', 'VERB')\", 10.363278791537464], [[\"ears\", \"NOUN\"], \"hear\", 171, 65, -1.3954847018574434, \"<br> all this lady ashton drank in with willing and <br> attentive ears , resolving internally to be herself the <br> person who should take the management of the political <br> influence of her destined son - in - law <br> , for the benefit of her eldest - born <br> , sholto , and all other parties concerned . <br>  \", \"willing ears resolving internally\", \"('attentive', 'ADJ')\", \"NA\", \"NA\", \"NA\", \"NA\", \"NA\", \"NA\", -10.959346348320727], [[\"necessary\", \"ADJ\"], \"hear\", 88, 33, -1.415037499278844, \"<br> miss emmerson had been educated immediately after the war <br> of the revolution , and at a time when <br> the intellect of the women of this country by <br> no means received that attention it is thought necessary <br> to bestow on the minds of the future mothers <br> of our families at the present hour ; and <br> when , indeed , the country itself required too <br> much of the care of her rulers and patriots <br> to admit of the consideration of lesser objects .\", \"means received thought necessary\", \"('attention', 'NOUN')\", \"<br> the train of little attentions , absolutely necessary to <br> soothe the young lady 's mind , and aid <br> her in composing her spirits , necessarily threw the <br> master of ravenswood into such an intercourse with her <br> father as was calculated , for the moment at <br> least , to break down the barrier of feudal <br> enmity which divided them .\", \"train little absolutely necessary\", \"('attentions', 'NOUN')\", \"<br> at other times he busied himself about arranging , <br> and countermanding , and then again arranging , the <br> preparations which he judged necessary for the reception of <br> the marquis of a---- , whose arrival had been <br> twice delayed by some necessary cause of detention . <br>  \", \"arranging judged necessary\", \"('preparations', 'NOUN')\", 5.433231380657697], [[\"emily\", \"ADV\"], \"hear\", 107, 40, -1.4195388915137848, \"<br> emily listened to agnes , in silent awe , <br> while she still examined the miniature , and became <br> confirmed in her opinion of its strong resemblance to <br> the portrait at udolpho .\", \"emily agnes\", \"('listened', 'VERB')\", \"NA\", \"NA\", \"NA\", \"NA\", \"NA\", \"NA\", -11.034153267362603], [[\"seen\", \"VERB\"], \"hear\", 210, 77, -1.4474589769712214, \"<br> babie performed her mistress 's command with the grace <br> which was naturally to have been expected , moving <br> to and fro with a lobster - like gesture <br> , her feet and legs tending one way , <br> while her head , turned in a different direction <br> , was fixed in wonder upon the laird , <br> who was more frequently heard of than seen by <br> his tenants and dependants .\", \"frequently seen\", \"('heard', 'VERB')\", \"<br> lockhard had his orders to endeavour on his part <br> to make some acquaintance with the inmates of the <br> castle , and we have seen how he played <br> his part .  \", \"seen\", \"('played', 'VERB')\", \"<br> and though i never saw ravenswood fence , have <br> i not been at monsieur sagoon 's school , <br> who was the first maitre d'armes at paris ; <br> and have i not been at signor poco 's <br> at florence , and meinheer durchstossen 's at vienna <br> , and have i not seen all their play <br> ? \\\"  \", \"seen\", \"('play', 'NOUN')\", -3.193458995769158], [[\"children\", \"NOUN\"], \"hear\", 140, 51, -1.456857674973471, \"<br> now here , now there , these children had <br> heard this picture of adam and eve spoken about <br> , and had tormented their mother to take them <br> there .\", \"children picture adam\", \"('heard', 'VERB')\", \"NA\", \"NA\", \"NA\", \"NA\", \"NA\", \"NA\", 4.379430354207957], [[\"silence\", \"NOUN\"], \"hear\", 113, 41, -1.462626957797104, \"<br> but another person , of whose presence caleb , <br> in the animation of the debate , was not <br> aware , had listened in silence to its progress <br> .\", \"aware silence\", \"('listened', 'VERB')\", \"<br> the anxious statesman heard in silence ; but in <br> private lockhard received orders to watch the courier on <br> his return , to waylay him in the village <br> , to ply him with liquor , if possible <br> , and to use all means , fair or <br> foul , to learn the contents of the letter <br> of which he was the bearer .\", \"anxious statesman silence\", \"('heard', 'VERB')\", \"NA\", \"NA\", \"NA\", 4.645967046477436], [[\"catherine\", \"PROPN\"], \"hear\", 94, 34, -1.4671260104272978, \"<br> said catherine in a faltering voice .  \", \"catherine faltering\", \"('voice', 'NOUN')\", \"<br> this was just such a summary view of the <br> affair as catherine could listen to ; another sentence <br> might have endangered her complaisance , and made her <br> reply less rational ; for soon were all her <br> thinking powers swallowed up in the reflection of her <br> own change of feelings and spirits since last she <br> had trodden that well - known road .  \", \"affair catherine sentence\", \"('listen', 'VERB')\", \"<br> henry 's indignation on hearing how catherine had been <br> treated , on comprehending his father 's views , <br> and being ordered to acquiesce in them , had <br> been open and bold .  \", \"henry indignation catherine\", \"('hearing', 'VERB')\", -11.617918759322912], [[\"like\", \"VERB\"], \"hear\", 130, 47, -1.4677789613508172, \"<br> i should like to hear what she says to <br> all this ; for , rat me !\", \"like says\", \"('hear', 'VERB')\", \"<br> \\\" you may believe it is safely lodged with <br> me , master of ravenswood , \\\" said the <br> marquis ; \\\" but i should like well to <br> hear you say that you renounced the idea of <br> an alliance which you can hardly pursue without a <br> certain degree of degradation . \\\"  \", \"like\", \"('hear', 'VERB')\", \"NA\", \"NA\", \"NA\", 24.353995085245], [[\"circumstances\", \"NOUN\"], \"hear\", 106, 38, -1.4799929411196138, \"<br> thus hard pressed , the master offered to ride <br> forward to get matters put in such preparation as <br> time and circumstances admitted ; but the marquis protested <br> his kinsman must afford him his company , and <br> would only consent that an avant - courier should <br> carry to the desinted seneschal , caleb balderstone , <br> the unexpected news of this invasion .  \", \"matters time circumstances\", \"('preparation', 'NOUN')\", \"<br> bucklaw afterwards went abroad , and never returned to <br> scotland ; nor was he known ever to hint <br> at the circumstances attending his fatal marriage .\", \"hint circumstances fatal marriage\", \"('attending', 'VERB')\", \"NA\", \"NA\", \"NA\", 1.307941485768554]], \"hovertemplate\": \"literary_period=1700<br>Principal Component 1=%{x}<br>Principal Component 2=%{y}<br>word=%{customdata[0]}<br>modality=%{customdata[1]}<br>total_freq=%{customdata[2]}<br>total_freq_in_sense=%{customdata[3]}<br>PAI=%{customdata[4]}<br>Random Sentence 1=%{customdata[5]}<br>Random Context Window 1=%{customdata[6]}<br>Random Seed Words 1=%{customdata[7]}<br>Random Sentence 2=%{customdata[8]}<br>Random Context Window 2=%{customdata[9]}<br>Random Seed Words 2=%{customdata[10]}<br>Random Sentence 3=%{customdata[11]}<br>Random Context Window 3=%{customdata[12]}<br>Random Seed Words 3=%{customdata[13]}<extra></extra>\", \"legendgroup\": \"1700\", \"marker\": {\"color\": \"#ab63fa\", \"size\": 12, \"symbol\": \"circle\"}, \"mode\": \"markers\", \"name\": \"1700\", \"orientation\": \"v\", \"showlegend\": true, \"type\": \"scatter\", \"x\": [-0.002869513453505322, -1.581110731061058, -4.060440629537342, 5.8411088592210065, 3.4150032846903486, 7.9401366960987225, -1.3600772078386223, 1.7217533117647759, 4.5024366171273655, -2.581169793597087, 9.292869068966466, 5.728835872426871, -2.7018322316412795, 21.36835333204207, -2.643995377852245, -5.972922850595726, 3.194981116041993, -2.0182160750333336, -3.044510684728849, -5.158782385189373, 3.970133613622765, -5.575333958309506, 14.340415931951766, 16.654747335781583, 13.768921282130625, 13.967419445938729, 3.1594325364888394, -1.371731216655363, 24.356442138194417, -10.140919455872135, 8.080395664520397, -14.095941665316944, 25.07002330195743, 7.182634629407189, -12.085762053901009, 5.245873996145354, -1.071925807011039, -0.5533689041679075, -1.8821210130721802, -5.502195801246868, -4.390469328565114, 18.85957310979147, -15.594857719484752, 17.91394675329732, 4.378839236518247, -9.743424855171856, 1.1083562124955513, -11.088209595580397, -5.740856627023219, -4.959703220296658, 15.942008062322762, -11.994255824458309, 0.18917843510280166, 22.741942663502577, -1.889565574731771, -11.699262333331168, -9.03063755736125, -15.898025780845382, -11.092562097530363, -7.393493599653324, -4.095786047265447, -8.98985881870525, -1.716819515960017, -1.2879584625000216, 9.759786699235047, -10.093093811287439, 23.697115353198246, -6.064499620497359, -8.875589127943366, -6.96346326033153, -12.175029654917015, -15.658885280816312, 9.246038617918089, -7.820820698882242, -7.8947399970413015, 9.901668216106579, -6.368489884649801, -3.704222097394999, -9.307524729323884, 4.551919887069179, 17.616348985700174, 7.1355800051462275, -1.8568089800997039, 7.648246631237392, -4.4306877825771895, 9.199021625404951, -0.10810344136140669, 1.6712171102348734, -6.118630857552771, -7.087495805326411, 10.363278791537464, -10.959346348320727, 5.433231380657697, -11.034153267362603, -3.193458995769158, 4.379430354207957, 4.645967046477436, -11.617918759322912, 24.353995085245, 1.307941485768554], \"xaxis\": \"x\", \"y\": [7.398418459605109, 11.62940185800061, 12.773901575421075, 2.6491926490791307, 12.989037780822468, 0.263184709217625, 5.911975326859461, -7.014840675981805, 0.17981884073042173, 0.08426833563488106, 8.513993440191834, 14.909657910710095, 5.322922524702747, -2.769427090103994, -5.837428004537204, -10.967885820568341, -2.6564590698749058, 14.898456119360905, 13.241518118311014, 5.917594516969561, -12.593570539761325, -8.407055902959646, -7.281042907036444, 0.9740408599162245, -5.313423269541234, -4.811971176352809, -6.079645599262935, -12.881210562406183, 1.5417464228211915, 4.450829859702496, 3.15499513962148, 5.541909779974815, 4.289975557833224, -5.009174086122871, -7.570436137382776, 2.096282205314036, -2.4364165945418126, 2.699961585544397, 3.7372135381000913, -5.499251495691197, 7.177627451676474, -7.914669928845341, -6.7720502934353615, -1.197211259459864, -5.565708362337821, -5.663197810049625, 8.26296863939644, -10.821910043463744, -0.6927859735695391, 10.94393888471193, -6.902989151953019, 4.397333146760873, 12.674151798396672, 5.047190082264826, 10.600674023118247, 2.733022218691689, -4.194194980172794, -2.021661404270972, 3.6571728419883045, -3.8453486404204256, 10.53287718482521, 6.598282077561982, 9.623347946424436, 5.046267273762404, -12.05171949245892, -5.861466163683146, 4.194220376290064, -4.736770459065205, 5.983316616357962, 0.22799109633848652, -1.8922128502272229, -5.070445463643033, 0.19595476627836123, 1.8344529930532782, 5.362674498390202, 12.000605119115018, 2.7010637944246265, -13.809092798760586, -8.92732158895368, -6.144240960317139, -5.2931290160198525, -12.165100248786546, 15.84095736781705, -6.6412752904609045, 13.098263538157573, 0.7634008417477287, -14.71932429254227, 3.6595119480773146, -8.412585011644492, 14.06460415733041, -1.6844871615475363, -7.963764645312697, -15.563623283444878, -7.859657167981404, -3.8086543226908174, -12.706648061664865, 8.649790449309657, 1.3807236855769933, 2.0775613765662646, 5.322623906872663], \"yaxis\": \"y\"}, {\"customdata\": [[[\"cribbage\", \"NOUN\"], \"hear\", 40, 40, 0.0, \"<br> \\\" play cribbage , euchre , anything you like <br> ; \\\" and frank obligingly disinterred himself from under <br> the folios , feeling that it _ was\", \"cribbage euchre\", \"('play', 'NOUN')\", \"NA\", \"NA\", \"NA\", \"NA\", \"NA\", \"NA\", -10.853302637118581], [[\"hear\", \"PROPN\"], \"hear\", 37, 37, 0.0, \"<br> the cat that walked by himself   hear and <br> attend and listen ; for this befell and behappened <br> and became and was , o my best beloved <br> , when the tame animals were wild .\", \"hear attend befell\", \"('listen', 'VERB')\", \"<br> \\\" hear , hear ! \\\" said mr. browne <br> loudly .  \", \"hear said mr.\", \"('hear', 'VERB')\", \"NA\", \"NA\", \"NA\", 37.76454681413992], [[\"nasal\", \"ADJ\"], \"hear\", 86, 85, -0.016873818564396213, \"<br> it carried him back , upon the instant , <br> to a certain fair - day in a fishers <br> ' village : a gray day , a piping <br> wind , a crowd upon the street , the <br> blare of brasses , the booming of drums , <br> the nasal voice of a ballad singer ; and <br> a boy going to and fro , buried over <br> head in the crowd and divided between interest and <br> fear , until , coming out upon the chief <br> place of concourse , he beheld a booth and <br> a great screen with pictures , dismally designed , <br> garishly coloured : brown - rigg with her apprentice <br> ; the mannings with their murdered guest ; weare <br> in the death - grip of thurtell ; and <br> a score besides of famous crimes .  \", \"drums nasal ballad singer\", \"('voice', 'NOUN')\", \"<br> bender spoke with a nasal twang which i am <br> now inclined to   think he paraded as an <br> accessory to the over - dignified drawl he affected <br> in   the class - room .\", \"spoke nasal\", \"('twang', 'NOUN')\", \"<br> but she stumbled on , up the main road <br> to the corners , down the \\\" turn - <br> off , \\\" past the chapel of the come <br> - outers , from the open window of which <br> sounded the drone of a high , nasal voice <br> .\", \"high nasal\", \"('voice', 'NOUN')\", -14.814835387775956], [[\"louder\", \"ADJ\"], \"hear\", 189, 186, -0.023083613113041343, \"<br> then in a louder voice , \\\" never fear <br> !\", \"louder fear\", \"('voice', 'NOUN')\", \"<br> \\u201d was do\\u00f1a rita \\u2019s answer , in a <br> louder tone than i had ever heard her use <br> before .  \", \"louder\", \"('tone', 'NOUN')\", \"<br> she repeated in a louder voice .  \", \"repeated louder\", \"('voice', 'NOUN')\", 22.023261401439818], [[\"squeaky\", \"ADJ\"], \"hear\", 45, 44, -0.03242147769237751, \"<br> i heard him playing -- thin , squeaky music <br> it was like you 'd be blowing out of <br> a tin whistle .\", \"thin squeaky\", \"('music', 'NOUN')\", \"NA\", \"NA\", \"NA\", \"NA\", \"NA\", \"NA\", -2.711429481223476], [[\"husky\", \"NOUN\"], \"hear\", 37, 36, -0.03952836418663734, \"<br> this did not save me from more jokes , <br> either ; for a husky - voiced gentleman with <br> a rough face , who had been eating out <br> of a sandwich - box nearly all the way <br> , except when he had been drinking out of <br> a bottle , said i was like a boa <br> - constrictor who took enough at one meal to <br> last him a long time ; after which , <br> he actually brought a rash out upon himself with <br> boiled beef .\", \"husky gentleman rough\", \"('voiced', 'ADJ')\", \"<br> i want to tell you about this paint , <br> \\\" he added , in a voice husky with <br> the feeling that his hearer could not divine . <br>  \", \"added husky feeling\", \"('voice', 'NOUN')\", \"<br> \\\" do n't say that , major , \\\" <br> he said , in a voice husky with emotion <br> . \\\"\", \"said husky emotion\", \"('voice', 'NOUN')\", 11.472365810742144], [[\"quavering\", \"NOUN\"], \"hear\", 34, 33, -0.04306872189188598, \"<br> he had suddenly become like an old man ; <br> his deep bass voice had a quavering in it <br> , his eyes looked dim , and the lines <br> on his face were deep .  \", \"deep bass quavering\", \"('voice', 'NOUN')\", \"<br> hi seed the time hi'd ' a ' stopped <br> yer jorrin ' , dave ! \\\" said a <br> quavering voice , dominating some argument at the other <br> end of the table . \\\"\", \"said quavering dominating argument\", \"('voice', 'NOUN')\", \"<br> then she played the prelude and said \\\" now <br> , maria ! \\\" and maria , blushing very <br> much began to sing in a tiny quavering voice <br> .\", \"tiny quavering\", \"('voice', 'NOUN')\", 1.523403133144624], [[\"gruff\", \"ADJ\"], \"hear\", 198, 192, -0.044394119358453395, \"<br> \\\" i know not , \\\" continued dupin , <br> \\\" what impression i may have made , so <br> far , upon your own understanding ; but i <br> do not hesitate to say that legitimate deductions even <br> from this portion of the testimony -- the portion <br> respecting the gruff and shrill voices -- are in <br> themselves sufficient to engender a suspicion which should give <br> direction to all farther progress in the investigation of <br> the mystery .\", \"gruff shrill\", \"('voices', 'NOUN')\", \"<br> but they neither   looked nor spoke like cossacks <br> , so their gruff voices were part of the <br>   uncanny scheme of things that surrounded me .\", \"gruff\", \"('voices', 'NOUN')\", \"<br> a gruff voice sounded behind him , rude , <br> authoritative , as if trying to banish the doubts <br> of the audience .\", \"gruff sounded\", \"('voice', 'NOUN')\", -0.7046804874323993], [[\"napping\", \"VERB\"], \"hear\", 58, 56, -0.050626073069967956, \"<br> but the sergeant major was too old a soldier <br> to be caught napping .\", \"soldier napping\", \"('caught', 'VERB')\", \"<br> it would be like her , after all , <br> to wave then , that very night , just <br> so as to catch him napping , he thought <br> .\", \"napping\", \"('catch', 'VERB')\", \"NA\", \"NA\", \"NA\", -30.27615698222922], [[\"contralto\", \"ADJ\"], \"hear\", 54, 52, -0.05444778402237647, \"<br> i met her the other night at a tea <br> - party ; she had a white rose in <br> her hair , and sang a sentimental ballad in <br> a fine contralto voice . \\\"  \", \"fine contralto\", \"('voice', 'NOUN')\", \"NA\", \"NA\", \"NA\", \"NA\", \"NA\", \"NA\", 25.32122273517424], [[\"thundering\", \"ADJ\"], \"hear\", 53, 51, -0.055495112591703574, \"<br> but the people joined not in those cheers , <br> and , as the exulting shouts ceased , there <br> swelled up to the laurel - crowned poetess , <br> from thousands of voices , a thundering laugh of <br> scorn , and this scornful laugh , this hissing <br> and howling of the people , accompanied her upon <br> her return from the capitol , following her through <br> the streets to her own door .\", \"thousands thundering laugh\", \"('voices', 'NOUN')\", \"<br> \\\" i am ready to obey you in every <br> thing except that . \\\"   \\\" in that <br> as in every thing else , \\\" interrupted the <br> cashier of the mutual credit in a thundering voice <br> .  \", \"credit thundering\", \"('voice', 'NOUN')\", \"<br> poor humanity , crazed with fear , was fleeing <br> in all directions on hearing the thundering pace of <br> the plague , war , hunger and death .\", \"directions thundering pace\", \"('hearing', 'VERB')\", -7.732609419029885], [[\"stentorian\", \"ADJ\"], \"hear\", 132, 127, -0.05570943258628753, \"<br> \\\" come and see , \\\" cried one of <br> the beasts in a stentorian tone to the vision <br> - seeing poet . . . .\", \"beasts stentorian vision\", \"('tone', 'NOUN')\", \"NA\", \"NA\", \"NA\", \"NA\", \"NA\", \"NA\", -14.20699636829552], [[\"babel\", \"NOUN\"], \"hear\", 50, 48, -0.058893689053568565, \"<br> there was a jam and a   babel of <br> voices .\", \"babel\", \"('voices', 'NOUN')\", \"NA\", \"NA\", \"NA\", \"NA\", \"NA\", \"NA\", -31.701233141718433], [[\"stifled\", \"ADJ\"], \"hear\", 50, 48, -0.058893689053568565, \"<br> said a stifled voice .  \", \"said stifled\", \"('voice', 'NOUN')\", \"<br> finally he stammered , in a stifled voice , <br> \\\" harry , did you say an inquest ? <br>  \", \"stifled harry\", \"('voice', 'NOUN')\", \"NA\", \"NA\", \"NA\", -24.062324556577348], [[\"knocking\", \"NOUN\"], \"hear\", 46, 44, -0.06413033741971558, \"<br> at the hours when bellingham had been accustomed to <br> visit him , he took care to sport his <br> oak , and though he more than once heard <br> a knocking at his outer door , he resolutely <br> refused to answer it .  \", \"knocking\", \"('heard', 'VERB')\", \"<br> and so while they were sitting up to their <br> knees in gold , a knocking was heard at <br> the street door , and who should it be <br> but bobbo , also on horseback with his bride <br> in his arms , and what had he come <br> to say but that he would take ( at <br> double rent ) all the lodgings for ever , <br> that were not wanted by this a boy and <br> this gran and this godfather , and that they <br> would all live together , and all be happy <br> !\", \"knocking street door\", \"('heard', 'VERB')\", \"NA\", \"NA\", \"NA\", 42.257254274601664], [[\"droning\", \"VERB\"], \"hear\", 41, 39, -0.07214978575583542, \"<br> he began to speak of other matters in a <br> low , droning voice , like a man who <br> converses with himself .  \", \"low droning man\", \"('voice', 'NOUN')\", \"NA\", \"NA\", \"NA\", \"NA\", \"NA\", \"NA\", -0.28839781860229785], [[\"sing\", \"NOUN\"], \"hear\", 102, 97, -0.07251249978436798, \"<br> \\\" o , i 'd give anything to hear <br> caruso sing , \\\" said mary jane .  \", \"caruso sing\", \"('hear', 'VERB')\", \"<br> he renewed his friendship with osmond , no longer <br> started at the entrance of sir eric , laughed <br> at alberic 's merry ways , and liked to <br> sit on fru astrida 's lap , and hear <br> her sing , though he understood not one word <br> ; but his especial love was still for his <br> first friend , duke richard .\", \"lap sing\", \"('hear', 'VERB')\", \"<br> they throng the opera house every night to hear <br> her sing , and they pay her the biggest <br> salary which has ever been known here .  \", \"house night sing\", \"('hear', 'VERB')\", 15.46795091907875], [[\"strident\", \"ADJ\"], \"hear\", 80, 76, -0.07400058144377693, \"<br> from his throat issued a hoarse voice and strident <br> laughter ; he smelt of the cow - shed <br> .\", \"throat issued hoarse strident laughter\", \"('voice', 'NOUN')\", \"<br> he cried , in a hoarse and strident voice <br> .  \", \"hoarse strident\", \"('voice', 'NOUN')\", \"<br> he insisted upon opening the door wide , and <br> getting bunker to address him as \\\" tollyvoddle , <br> \\\" in a strident voice , \\\" so zat <br> zey all may hear , \\\" and then answering <br> in a firm \\\" yes , count bonker , <br> vat\", \"strident zat\", \"('voice', 'NOUN')\", 4.848170827704295], [[\"creaking\", \"NOUN\"], \"hear\", 59, 56, -0.07528812730423712, \"<br> after a long period she heard a creaking of <br> the chamber floor and stairs at the other end <br> of the house , and knew that the farmer <br> 's family were getting up .  \", \"long period creaking\", \"('heard', 'VERB')\", \"<br> there was emotion here , he had heard the <br> armchair creaking , and mrs. milton , whose face <br> was flushed , displayed a suspicious alacrity to explain <br> .\", \"armchair creaking\", \"('heard', 'VERB')\", \"NA\", \"NA\", \"NA\", -22.812765134153015], [[\"hoarse\", \"NOUN\"], \"hear\", 39, 37, -0.07594885323329863, \"<br> \\\" asked mary again , in the same hoarse <br> , feeble voice , and turning it over in <br> her fingers , as if she dreaded to inform <br> herself of its meaning .  \", \"hoarse feeble turning\", \"('voice', 'NOUN')\", \"NA\", \"NA\", \"NA\", \"NA\", \"NA\", \"NA\", 9.826138705762869], [[\"quavering\", \"VERB\"], \"hear\", 97, 92, -0.07635088613011487, \"<br> then a voice , weak and quavering , said <br> :   \\\" gimme a drink !\", \"weak quavering\", \"('voice', 'NOUN')\", \"NA\", \"NA\", \"NA\", \"NA\", \"NA\", \"NA\", 36.48387213531076], [[\"husky\", \"ADJ\"], \"hear\", 306, 290, -0.07747875267771735, \"<br> it seemed a pity that matilda could not   <br> see me now   one of the trifles that <br> have remained embedded in my memory from those days <br>   is the image of a big , florid <br> - faced huckster shouting at the top of his <br>   husky voice : \\\" strawberri - i - <br> ies , strawberri - i - ies , five <br> cents a quart ! \\\"  \", \"husky strawberri\", \"('voice', 'NOUN')\", \"<br> with a husky voice that trembled as he spoke <br> , he said--   \\\" i think , sir <br> , yo're keeping company wi ' a young woman <br> called mary barton ? \\\"  \", \"husky trembled\", \"('voice', 'NOUN')\", \"<br> \\\" i wish ye was n't goin' away , <br> \\\" he said in a husky voice .\", \"said husky\", \"('voice', 'NOUN')\", -16.007252086897243], [[\"croaking\", \"VERB\"], \"hear\", 38, 36, -0.07800251200127321, \"<br> they found a jellyfish -- a pulpy translucent mass <br> ; and once even caught a sight of a <br> seal in the hollow of a breaker , with <br> sleek and shining head , his barbels bristling , <br> and heard his hoarse croaking bark as he hunted <br> the off - shore fish .  \", \"barbels bristling hoarse croaking bark\", \"('heard', 'VERB')\", \"<br> \\\" but you won out , my boy , <br> \\\" said his father in a croaking voice , <br> putting his arm round his son .  \", \"father croaking putting arm\", \"('voice', 'NOUN')\", \"<br> the wizened one called in croaking tones :  \", \"called croaking\", \"('tones', 'NOUN')\", -26.495385180618435], [[\"shrill\", \"ADV\"], \"hear\", 38, 36, -0.07800251200127321, \"<br> evidently , they were not all like ezekiel and <br> the shrill - voiced woman .  \", \"shrill woman\", \"('voiced', 'ADJ')\", \"NA\", \"NA\", \"NA\", \"NA\", \"NA\", \"NA\", -33.512374839645084], [[\"checkers\", \"NOUN\"], \"hear\", 37, 35, -0.08017034868398333, \"<br> what david did know , however , was that <br> just after eight , mr. jack strode through the <br> room where he and jill were playing checkers , <br> flung himself into his hat and coat , and <br> then fairly leaped down the steps toward the path <br> that led to the footbridge at the bottom of <br> the hill .  \", \"jill checkers flung\", \"('playing', 'VERB')\", \"NA\", \"NA\", \"NA\", \"NA\", \"NA\", \"NA\", -27.00903450536108], [[\"hoarse\", \"ADJ\"], \"hear\", 739, 699, -0.08028190877071448, \"<br> desnoyers heard shouts , and it seemed to him <br> that some hoarse , discordant voices were singing the <br> marseillaise .\", \"hoarse discordant singing marseillaise\", \"('voices', 'NOUN')\", \"<br> asked the capitaine in a hoarse voice .  \", \"capitaine hoarse\", \"('voice', 'NOUN')\", \"<br> \\\" mr. morrison , sir , \\\" he said <br> , dropping his voice to a hoarse whisper , <br> \\\" he followed the other chap out within thirty <br> seconds .  \", \"said dropping hoarse whisper\", \"('voice', 'NOUN')\", -7.5594254118459405], [[\"undivided\", \"ADJ\"], \"hear\", 71, 67, -0.08365792904690969, \"<br> it is , however , equally urgent that a <br> woman should be skilled to keep a man in <br> his proper place , and to this thesis brigid <br> gave an undivided attention .  \", \"brigid gave undivided\", \"('attention', 'NOUN')\", \"NA\", \"NA\", \"NA\", \"NA\", \"NA\", \"NA\", 28.18440235431176], [[\"ringing\", \"NOUN\"], \"hear\", 34, 32, -0.08746284125033943, \"<br> as he did so he heard the hurried ringing <br> of bells and voices in the room he had <br> quitted -- the young girl had evidently been discovered <br> -- and this would give him time .\", \"ringing bells room\", \"('voices', 'NOUN')\", \"<br> i hear your voice through a ringing of bells <br> , and a sound like a distant waterfall . <br>  \", \"hear ringing\", \"('voice', 'NOUN')\", \"NA\", \"NA\", \"NA\", -7.579365404760858], [[\"clink\", \"NOUN\"], \"hear\", 67, 63, -0.08880926695785589, \"<br> the censer took up the note in its delicate <br> clink clink , as it swung to and fro <br> in the hands of a fair - haired child <br> .\", \"delicate clink swung\", \"('clink', 'NOUN')\", \"<br> back in the gloom of the cavern i heard <br> the clink of a little bell , and then <br> this exclamation :   \\\" hello central !  \", \"cavern clink\", \"('heard', 'VERB')\", \"NA\", \"NA\", \"NA\", -2.4065257915940172], [[\"clank\", \"NOUN\"], \"hear\", 32, 30, -0.09310940439148148, \"<br> at length a rustling and rushing were heard ; <br> then a clank of armour .\", \"rustling rushing clank\", \"('heard', 'VERB')\", \"<br> the squeaky organ at vespers intoned the clank of <br> military accoutrements to her ears , the white bonnets <br> of the sisters about her faded into mists of <br> curling brown hair .  \", \"squeaky organ vespers clank military\", \"('intoned', 'VERB')\", \"NA\", \"NA\", \"NA\", -39.63323544863869], [[\"drawling\", \"NOUN\"], \"hear\", 48, 45, -0.09310940439148148, \"<br> \\\" hullo , quatermain , \\\" he said in <br> his pleasant , drawling voice , \\\" here you <br> are , up to time .  \", \"pleasant drawling\", \"('voice', 'NOUN')\", \"NA\", \"NA\", \"NA\", \"NA\", \"NA\", \"NA\", -29.872778685891618], [[\"choked\", \"ADJ\"], \"hear\", 32, 30, -0.09310940439148148, \"<br> \\\" do n't talk about leaving us , dear <br> , dear captain , jim , \\\" pleaded anne <br> , in a choked voice , patting the old <br> brown hand , once so strong , but now <br> grown very feeble .  \", \"choked patting old\", \"('voice', 'NOUN')\", \"<br> she turned sharply away , calling back over her <br> shoulder in a choked voice . \\\"\", \"shoulder choked\", \"('voice', 'NOUN')\", \"<br> for a moment he stared at the count -- <br> who was too discomposed by his manner to open <br> his lips -- and then , once more stretching <br> out his hand , exclaimed in a choked voice <br> and a strong scotch accent--   \\\" how are <br> ye , bunker ! \\\"  \", \"exclaimed choked strong scotch\", \"('voice', 'NOUN')\", -19.305539747535523], [[\"exclaim\", \"NOUN\"], \"hear\", 48, 45, -0.09310940439148148, \"<br> in an instant , as i thrust the lattice <br> open , i felt two strong arms cast about <br> me and heard the physician exclaim ,   \\\" <br> come , lady , help me with this madman <br> , lest he do himself a mischief . \\\" <br>  \", \"cast physician exclaim\", \"('heard', 'VERB')\", \"NA\", \"NA\", \"NA\", \"NA\", \"NA\", \"NA\", -33.71931723897019], [[\"rumble\", \"NOUN\"], \"hear\", 76, 71, -0.09818039393890342, \"<br> so the three absolutes arose and strode mightily away <br> ; and as they went their thunderous speech to <br> each other boomed against the clouds and the earth <br> like a gusty wind , and , even when <br> they had disappeared , that great rumble could be <br> heard dying gently away in the moonlit distances . <br>  \", \"great rumble dying gently away\", \"('heard', 'VERB')\", \"NA\", \"NA\", \"NA\", \"NA\", \"NA\", \"NA\", -28.32523671466825], [[\"trumpets\", \"NOUN\"], \"hear\", 159, 148, -0.10342958965540557, \"<br> suddenly we heard the blare of trumpets ; the <br> slow walk burst into a gallop , and then <br> -- well , it was wonderful to see ! <br>  \", \"suddenly blare trumpets\", \"('heard', 'VERB')\", \"NA\", \"NA\", \"NA\", \"NA\", \"NA\", \"NA\", -39.310814716587124], [[\"clatter\", \"NOUN\"], \"hear\", 187, 174, -0.10395096403890829, \"<br> i was just in the act of despatching the <br> last morsel of a most savory stewed lamb and <br> rice , which had formed my meal , when <br> i heard a scuffle of feet , a shrill <br> clatter of female voices , and , the curtain <br> being flung open , in marched a lady accompanied <br> by twelve slaves , with moon faces and slim <br> waists , lovely as the houris in paradise . <br>  \", \"shrill clatter female\", \"('voices', 'NOUN')\", \"<br> as i looked at   him it seemed to <br> me as though the music , the thunderous clatter <br> of feet , and   the hum of voices <br> all came from the fiery rhythm of his arm <br>   finally , i discovered miss tevkin .\", \"thunderous clatter\", \"('music', 'NOUN')\", \"NA\", \"NA\", \"NA\", -34.962823602092854], [[\"shrill\", \"ADJ\"], \"hear\", 744, 692, -0.10453058347130684, \"<br> blinds shading the pepper house parlor a shrill voice <br> was heard speaking .  \", \"shrill voice speaking\", \"('heard', 'VERB')\", \"<br> saving for their own shrill voices there was no <br> sound , and this unending , wide silence at <br> last commanded them to a corresponding quietness .\", \"shrill sound\", \"('voices', 'NOUN')\", \"NA\", \"NA\", \"NA\", -6.0996383933620315], [[\"clang\", \"NOUN\"], \"hear\", 69, 64, -0.10852445677816905, \"<br> then the heavy , regular tamp of the hunchback <br> 's footsteps , as he paced the solitary corridors <br> after them , bearing his burden of death , <br> became audible in awful distinctness ; then that sound <br> also died away and was lost , and nothing <br> more was heard in the banqueting - room save <br> the sharp clang of the blows still dealt against <br> the steel railings from the street .  \", \"sharp clang dealt\", \"('blows', 'NOUN')\", \"<br> then she heard clang , then from another part <br> _ clang _ , then _ clang _ , <br> _ clang _ far away .\", \"clang\", \"('heard', 'VERB')\", \"<br> ' you have lost your reason , ' she <br> said ; and there was a clang in her <br> voice that seemed to threaten trouble .  \", \"clang threaten\", \"('voice', 'NOUN')\", 26.356783529848656], [[\"clarion\", \"NOUN\"], \"hear\", 40, 37, -0.1124747292584125, \"<br> the picture rang out , in the voice of <br> a clarion , an answer that outlived the speaker <br> : \\\" she 's a woman !\", \"clarion\", \"('voice', 'NOUN')\", \"NA\", \"NA\", \"NA\", \"NA\", \"NA\", \"NA\", 10.385779625067299], [[\"speak\", \"NOUN\"], \"hear\", 131, 121, -0.1145597642628558, \"<br> and he had been content , weak as he <br> was , to have her near him , where <br> he would see her and hear her speak .\", \"speak\", \"('hear', 'VERB')\", \"NA\", \"NA\", \"NA\", \"NA\", \"NA\", \"NA\", 1.5007162446996767], [[\"choking\", \"ADJ\"], \"hear\", 78, 72, -0.1154772174199359, \"<br> \\\" then , professor , \\\" exclaimed madame cremeur <br> in a choking voice , \\\" when a woman <br> has completely surrendered herself to you\", \"cremeur choking\", \"('voice', 'NOUN')\", \"<br> the first question sobbed out by his choking voice <br> , oppressed with emotion , was--   \\\" where <br> is she ? \\\"  \", \"choking oppressed emotion\", \"('voice', 'NOUN')\", \"<br> mercy , no!--and sweeten them just right , and <br> put on a lump of butter , and some <br> allspice , and perhaps a clove , and a <br> little lemon peel , and then put on the <br> cover , and trim off the edge , and <br> pinch it up in scallops , and draw a <br> couple of leaves in the top with a sharp <br> knife , and have the oven just right , <br> and set it in there , and i tell <br> you that when ma opens the oven - door <br> to see how the pie is coming on , <br> there distils through the house such a perfume that <br> you cry out in a choking voice : \\\" <br> say !\", \"choking\", \"('voice', 'NOUN')\", -18.519143484046563], [[\"deafening\", \"VERB\"], \"hear\", 38, 35, -0.11864449649861908, \"<br> all sorts of articles and wares were carried and <br> carted in every direction ; people moved about hastily <br> , care - worn , spurring on their horses <br> excitedly , shouting at one another , filling the <br> street with unintelligible bustle and deafening noise of hurried <br> work .\", \"unintelligible bustle deafening hurried work\", \"('noise', 'NOUN')\", \"NA\", \"NA\", \"NA\", \"NA\", \"NA\", \"NA\", -39.16292871701644], [[\"rasping\", \"VERB\"], \"hear\", 76, 70, -0.11864449649861908, \"<br> the witty officer lifted at his left ear with <br> his thumb , made a rasping noise in his <br> throat , and said :   \\\" out of <br> prison -- yes -- ye say true .  \", \"rasping throat\", \"('noise', 'NOUN')\", \"NA\", \"NA\", \"NA\", \"NA\", \"NA\", \"NA\", -38.91073934055268], [[\"tinkle\", \"NOUN\"], \"hear\", 75, 69, -0.12029423371771177, \"<br> the set look upon their faces , the ceremonious <br> manner of their greeting , and the low buzzing <br> of the phonograph , audible above the tinkle of <br> a musical box ingeniously intended to drown it , <br> confirmed his guess even before a word had passed <br> .  \", \"tinkle box ingeniously intended\", \"('musical', 'ADJ')\", \"NA\", \"NA\", \"NA\", \"NA\", \"NA\", \"NA\", -41.770053692692095], [[\"modulated\", \"VERB\"], \"hear\", 49, 45, -0.12285674778553347, \"<br> mildred 's well - tutored voice , though modulated <br> and repressed even in her present emotion , nevertheless <br> had a tendency to quaver .\", \"tutored modulated\", \"('voice', 'NOUN')\", \"<br> the heat of the day , the reaction from <br> the long week in the open air , the <br> quiet monotony of the well modulated voice rising and <br> falling in regular cadence in what is supposed by <br> so many preachers to be the tone suitable for <br> any sacred office , produced an overwhelmingly somnolent effect <br> .\", \"modulated rising falling\", \"('voice', 'NOUN')\", \"<br> his voice was modulated with astonishing skill , and <br> his large and variably expressive eyes looked repose or <br> shot fiery tumult into theirs who listened , while <br> his own face glowed , or was changeless in <br> pallor , as his imagination quickened his blood or <br> drew it back frozen to his heart .\", \"modulated astonishing\", \"('voice', 'NOUN')\", -32.97572132783866], [[\"raucous\", \"ADJ\"], \"hear\", 48, 44, -0.12553088208385899, \"<br> he could make out a raucous voice in anger <br> and a pianissimo accompaniment of womanish sobs .  \", \"raucous anger\", \"('voice', 'NOUN')\", \"<br> his deep , raucous voice had thrilled them as <br> it uttered the word of belief and submission .\", \"deep raucous thrilled\", \"('voice', 'NOUN')\", \"<br> he cried , in a hoarse and raucous voice <br> .  \", \"hoarse raucous\", \"('voice', 'NOUN')\", -57.40318897553492], [[\"dominoes\", \"NOUN\"], \"hear\", 48, 44, -0.12553088208385899, \"<br> agnes played the piano to him , sat by <br> him , and worked and talked , and played <br> some games at dominoes with me .\", \"talked games dominoes\", \"('played', 'VERB')\", \"<br> he read to her while she sewed rags for <br> a new sitting - room carpet , and they <br> played dominoes and checkers together in the twilight before <br> supper - time -- suppers that were a feast <br> to the boy , after mrs. buck 's cookery <br> .  \", \"carpet dominoes checkers\", \"('played', 'VERB')\", \"NA\", \"NA\", \"NA\", -36.85989807297863], [[\"echoing\", \"VERB\"], \"hear\", 60, 55, -0.12553088208385899, \"<br> a little railway station , a string of loaded <br> trucks , a signal - box , and the <br> back of a cottage , shot by the carriage <br> window , and a bridge passed with a clap <br> of noise , echoing the tumult of the train <br> .  \", \"clap echoing tumult\", \"('noise', 'NOUN')\", \"NA\", \"NA\", \"NA\", \"NA\", \"NA\", \"NA\", -8.845278186713333], [[\"croquet\", \"NOUN\"], \"hear\", 48, 44, -0.12553088208385899, \"<br> she obliged march all the same to ask among <br> them , but she recognized their guilty insincerity when <br> he came home saying that one man had told <br> him you could have played croquet on the deck <br> of the colmannia the whole way over when he <br> crossed , and another that he never saw the <br> racks on in three passages he had made in <br> the norumbia .  \", \"croquet deck\", \"('played', 'VERB')\", \"NA\", \"NA\", \"NA\", \"NA\", \"NA\", \"NA\", -22.5540032717746], [[\"shrill\", \"NOUN\"], \"hear\", 36, 33, -0.12553088208385899, \"<br> \\\" indeed , \\\" cried jonathan , in the <br> same shrill and panting voice , \\\" it was <br> themselves who did it .  \", \"shrill panting\", \"('voice', 'NOUN')\", \"<br> indeed it is , \\\" says i ; \\\" <br> and , but for the fashion of the thing <br> , a very ugly scream too : \\\" when <br> i heard another shrill \\\" oh ! \\\" as <br> i thought ; and orlando bolted off , crying <br> , \\\" by heavens , it 's her voice <br> ! \\\"\", \"shrill\", \"('heard', 'VERB')\", \"NA\", \"NA\", \"NA\", -28.5259966556428], [[\"accompaniments\", \"NOUN\"], \"hear\", 35, 32, -0.1292830169449665, \"<br> but you prefer playing other people 's accompaniments , <br> to singing yourself , do n't you ? \\\" <br>  \", \"prefer people accompaniments\", \"('playing', 'VERB')\", \"<br> when she had given him his fill of song <br> , and allowed him to play some of her <br> accompaniments , he would be content , and that <br> disquieting look of adoration would pass from those beautiful <br> brown eyes .\", \"allowed accompaniments\", \"('play', 'VERB')\", \"<br> but miss healy had kindly consented to play one <br> or two accompaniments .\", \"kindly consented accompaniments\", \"('play', 'VERB')\", -41.70342123509927], [[\"rumbling\", \"VERB\"], \"hear\", 93, 85, -0.1297678749703297, \"<br> a harsh and rumbling noise as of heavy timbers <br> falling tore through the tissue of sweet sounds .\", \"harsh rumbling heavy timbers\", \"('noise', 'NOUN')\", \"NA\", \"NA\", \"NA\", \"NA\", \"NA\", \"NA\", 19.11865167108138], [[\"rustle\", \"NOUN\"], \"hear\", 209, 191, -0.1299303040451341, \"<br> the air was very still , but i could <br> hear the rustle of movement somewhere within a hundred <br> yards .\", \"rustle movement\", \"('hear', 'VERB')\", \"<br> she brought with her a musical rustle , a <br> slight suggestion of subtle perfumes -- a perfume so <br> thin and ethereal that it was unrecognizable except in <br> its faint suggestion of hothouse flowers .  \", \"brought rustle slight\", \"('musical', 'ADJ')\", \"NA\", \"NA\", \"NA\", 1.8924802086950225], [[\"loud\", \"ADJ\"], \"hear\", 2297, 2097, -0.13142399528133125, \"<br> shortly after the men had entered the hut loud <br> and sustained noises began to issue therefrom , and <br> in about twenty minutes the invaders emerged again bearing <br> the bodies of the grey woman of dun gortin <br> and her husband .\", \"hut loud sustained began issue\", \"('noises', 'NOUN')\", \"<br> but he got no further , for the instant <br> the leprecaun saw the crock he threw his arms <br> around it and wept in so loud a voice <br> that his comrades swarmed up to see what had <br> happened to him , and they added their laughter <br> and tears to his , to which chorus the <br> children subjoined their sympathetic clamour , so that a <br> noise of great complexity rang through all the gort <br> .  \", \"loud comrades swarmed\", \"('voice', 'NOUN')\", \"NA\", \"NA\", \"NA\", -40.913487381510414], [[\"trump\", \"NOUN\"], \"hear\", 45, 41, -0.13430109171159105, \"<br> at eleven - twenty herron played his trump card <br> .  \", \"herron trump card\", \"('played', 'VERB')\", \"<br> ii        wild rings the trump o'er ranks to <br> glory marching ;          music 's sublimer bursts for <br> war are meet ;        but sweet lips murmuring <br> under wreaths o'er - arching ,          find the <br> low whispers like their own most sweet .            \", \"wild trump o'er ranks\", \"('rings', 'VERB')\", \"NA\", \"NA\", \"NA\", -7.657129376020955], [[\"mutter\", \"NOUN\"], \"hear\", 45, 41, -0.13430109171159105, \"<br> i smoked a little , wondering whether van blarcom <br> could catch the faint mutter of our voices .\", \"faint mutter\", \"('voices', 'NOUN')\", \"NA\", \"NA\", \"NA\", \"NA\", \"NA\", \"NA\", -39.53658974721927], [[\"footstep\", \"NOUN\"], \"hear\", 197, 179, -0.13823604219211993, \"<br> but in time , when the dusk was thickening <br> so fast that her son - in - law <br> 's broad back had already grown indistinct of outline <br> , and no voice or footstep had come near <br> their prison , her thoughts began to wander from <br> his case to her own .\", \"outline footstep come\", \"('voice', 'NOUN')\", \"NA\", \"NA\", \"NA\", \"NA\", \"NA\", \"NA\", 20.255332287163412], [[\"chess\", \"NOUN\"], \"hear\", 202, 183, -0.14251164446775225, \"<br> we have played a game of chess together . <br>  \", \"game chess\", \"('played', 'VERB')\", \"NA\", \"NA\", \"NA\", \"NA\", \"NA\", \"NA\", 22.3887744707802], [[\"whist\", \"NOUN\"], \"hear\", 106, 96, -0.14295795384204296, \"<br> the men made snowshoes , hunted fresh meat for <br> the larder , and in the long evenings played <br> endless games of whist and pedro .  \", \"long evenings endless games whist\", \"('played', 'VERB')\", \"NA\", \"NA\", \"NA\", \"NA\", \"NA\", \"NA\", -0.10785956258275346], [[\"hum\", \"NOUN\"], \"hear\", 273, 247, -0.1443899093351748, \"<br> among the vividly dressed ladies , some were imaginably <br> parisian from their chic costumes , but they might <br> easily have been hungarians or levantines of taste ; <br> some americans , who might have passed unknown in <br> the perfection of their dress , gave their nationality <br> away in the flat wooden tones of their voices <br> , which made themselves heard above the low hum <br> of talk and the whisper of the innumerable feet <br> .  \", \"low hum\", \"('heard', 'VERB')\", \"<br> you count yourself fortunate if , mingled with the <br> creaking of the buggy - springs , you hear <br> the hum of recitation ; yet more fortunate if <br> it is recess time , and you can see <br> the children out at play , the little girls <br> holding to one another 's dress - tails as <br> they solemnly circle to the chant :       \\\" <br> h - yar way gow rand\", \"springs hum recitation\", \"('hear', 'VERB')\", \"<br> in the silence of the avenue , the russian <br> evoked the ruddy figures of the implacable gods , <br> that were going to awake that night upon hearing <br> the hum of arms and smelling the acrid odor <br> of blood .\", \"awake night hum arms\", \"('hearing', 'VERB')\", -24.27775054960556], [[\"moans\", \"NOUN\"], \"hear\", 41, 37, -0.1480986389891339, \"<br> i ask you , gentlemen , listen sometimes to <br> the moans of an educated man of the nineteenth <br> century suffering from toothache , on the second or <br> third day of the attack , when he is <br> beginning to moan , not as he moaned on <br> the first day , that is , not simply <br> because he has toothache , not just as any <br> coarse peasant , but as a man affected by <br> progress and european civilisation , a man who is <br> \\\" divorced from the soil and the national elements <br> , \\\" as they express it now - a <br> - days .  \", \"gentlemen moans\", \"('listen', 'VERB')\", \"<br> it is nasty for you to hear my despicable <br> moans : well , let it be nasty ; <br> here i will let you have a nastier flourish <br> in a minute .... \\\"  \", \"nasty despicable moans\", \"('hear', 'VERB')\", \"NA\", \"NA\", \"NA\", 12.509497911160313], [[\"bugles\", \"NOUN\"], \"hear\", 40, 36, -0.15200309344504997, \"<br> now old merlin stepped into view and cast a <br> dainty web of gossamer threads over sir sagramor which <br> turned him into hamlet 's ghost ; the king <br> made a sign , the bugles blew , sir <br> sagramor laid his great lance in rest , and <br> the next moment here he came thundering down the <br> course with his veil flying out behind , and <br> i went whistling through the air like an arrow <br> to meet him --cocking my ear the while , <br> as if noting the invisible knight 's position and <br> progress by hearing , not sight .  \", \"sign bugles sir sagramor laid\", \"('blew', 'VERB')\", \"NA\", \"NA\", \"NA\", \"NA\", \"NA\", \"NA\", 43.40061001638292], [[\"hailing\", \"VERB\"], \"hear\", 40, 36, -0.15200309344504997, \"<br> and now beyond the door was silence , and <br> then i heard adam hailing me :  \", \"adam hailing\", \"('heard', 'VERB')\", \"<br> be all this as it may , his voice <br> was now often heard hailing the three mast - <br> heads and admonishing them to keep a bright look <br> - out , and not omit reporting even a <br> porpoise .\", \"voice hailing mast\", \"('heard', 'VERB')\", \"NA\", \"NA\", \"NA\", -3.9859789652039974], [[\"booming\", \"ADJ\"], \"hear\", 49, 44, -0.15527822547791095, \"<br> with the merest casual \\u2018 _ bonjour _ , <br> all\\u00e8gre\\u2019 he ranges close to her on the other <br> side and addresses her , hat in hand , <br> in that booming voice of his like a deferential <br> roar of the sea very far away .  \", \"booming\", \"('voice', 'NOUN')\", \"NA\", \"NA\", \"NA\", \"NA\", \"NA\", \"NA\", 3.2761321062327036], [[\"yells\", \"NOUN\"], \"hear\", 49, 44, -0.15527822547791095, \"<br> we heard shrieks and yells , and soon a <br> woman came running and crying ; and seeing our <br> group , she flung herself into our midst and <br> begged for protection .  \", \"shrieks yells\", \"('heard', 'VERB')\", \"NA\", \"NA\", \"NA\", \"NA\", \"NA\", \"NA\", -8.890353216815317], [[\"din\", \"NOUN\"], \"hear\", 127, 114, -0.15579467260742424, \"<br> i never heard such a din before or after <br> .\", \"din\", \"('heard', 'VERB')\", \"NA\", \"NA\", \"NA\", \"NA\", \"NA\", \"NA\", -3.3378802431404186], [[\"rattle\", \"NOUN\"], \"hear\", 174, 156, -0.15754127698647993, \"<br> the distant sound of a roaring and rushing drew <br> nearer and grew in volume ; the house quivered <br> ; one heard the metallic rattle of the tender <br> .  \", \"house quivered metallic rattle\", \"('heard', 'VERB')\", \"<br> for through the hushed crowd pressing round the angle <br> of the mill , and filling up dunham street <br> , might be heard the rattle of the engine <br> , the heavy , quick tread of loaded horses <br> .  \", \"street rattle\", \"('heard', 'VERB')\", \"<br> he heard the rattle of the doctor 's chaise <br> and the voices of ebenezer and parker in conversation <br> .\", \"rattle\", \"('heard', 'VERB')\", -2.449564698079507], [[\"bugle\", \"NOUN\"], \"hear\", 86, 77, -0.15947821400719653, \"<br> there was a pause , then a ringing bugle <br> - blast , which was the signal for us <br> to come forth .  \", \"pause bugle blast\", \"('ringing', 'VERB')\", \"<br> now imagine my astonishment -- and everybody else 's <br> , too -- to hear the peculiar bugle - <br> call which announces that another competitor is about to <br> enter the lists !  \", \"peculiar bugle\", \"('hear', 'VERB')\", \"<br> the bugle blew again .  \", \"bugle\", \"('blew', 'VERB')\", 5.525449881787465], [[\"flute\", \"NOUN\"], \"hear\", 200, 179, -0.16004041251046824, \"<br> in the seventh chapter he tells how , crowned <br> with laurel , lest lightning might strike him , <br> he had sat , as tiberius , in a <br> garden at capri , reading the shameful books of <br> elephantis , while dwarfs and peacocks strutted round him <br> and the flute - player mocked the swinger of <br> the censer ; and , as caligula , had <br> caroused with the green - shirted jockeys in their <br> stables and supped in an ivory manger with a <br> jewel - frontleted horse ; and , as domitian <br> , had wandered through a corridor lined with marble <br> mirrors , looking round with haggard eyes for the <br> reflection of the dagger that was to end his <br> days , and sick with that ennui , that <br> terrible taedium vitae , that comes on those to <br> whom life denies nothing ; and had peered through <br> a clear emerald at the red shambles of the <br> circus and then , in a litter of pearl <br> and purple drawn by silver - shod mules , <br> been carried through the street of pomegranates to a <br> house of gold and heard men cry on nero <br> caesar as he passed by ; and , as <br> elagabalus , had painted his face with colours , <br> and plied the distaff among the women , and <br> brought the moon from carthage and given her in <br> mystic marriage to the sun .  \", \"flute mocked swinger\", \"('player', 'NOUN')\", \"<br> orlando used to say ( he was a romantic <br> young fellow , that 's the truth , and <br> blew the flute and read lord byron incessantly , <br> since he was separated from jemimarann ) . \\\"\", \"truth flute read\", \"('blew', 'VERB')\", \"<br> he had an unsophisticated smile , which   i <br> thought suggestive of a man playing on a flute <br> and which emphasized the   discrepancy between his weak <br> face and his reputation for pluck   an intermission <br> in a jewish theater is almost as long as <br> an act .\", \"suggestive man flute\", \"('playing', 'VERB')\", -1.0035310012651004], [[\"swish\", \"NOUN\"], \"hear\", 47, 42, -0.16227142889887716, \"<br> he sprang forward , and then saw he must <br> be caught , and _ swish !\", \"saw swish\", \"('caught', 'VERB')\", \"<br> in another moment they heard the swish of the <br> fat pneumatics behind them , and the tandem passed <br> hoopdriver and drew alongside jessie .\", \"moment swish\", \"('heard', 'VERB')\", \"<br> the only sound to be heard was the swish <br> of long grasses against his feet as he trod <br> , and the buzz of an occasional bee that <br> came and was gone in an instant .  \", \"sound swish\", \"('heard', 'VERB')\", -28.90117919929772], [[\"footsteps\", \"NOUN\"], \"hear\", 973, 869, -0.16308362796671144, \"<br> she was about to blow out the lamp when <br> she heard rapid footsteps , the sound of some <br> one running along the sidewalk in front of the <br> house .\", \"lamp rapid footsteps\", \"('heard', 'VERB')\", \"<br> as she listened , the footsteps sounded on the <br> path .\", \"footsteps sounded\", \"('listened', 'VERB')\", \"NA\", \"NA\", \"NA\", -23.552139125716042], [[\"splashing\", \"NOUN\"], \"hear\", 37, 33, -0.16505924627049637, \"<br> he creaked irritably downstairs , and heard the usual <br> splashing behind the bathroom door .  \", \"irritably downstairs usual splashing\", \"('heard', 'VERB')\", \"<br> meekin , walking on the evening of the flogging <br> past the wooden shed where the body lay , <br> saw troke bearing buckets filled with dark - coloured <br> water , and heard a great splashing and sluicing <br> going on inside the hut .\", \"coloured water great splashing\", \"('heard', 'VERB')\", \"NA\", \"NA\", \"NA\", -37.090290321217545], [[\"attracting\", \"VERB\"], \"hear\", 230, 205, -0.16600995143892924, \"<br> : he got up at the same time and <br> went to the office as usual , and he <br> got through the day somehow without attracting his employer <br> 's attention .\", \"attracting employer\", \"('attention', 'NOUN')\", \"NA\", \"NA\", \"NA\", \"NA\", \"NA\", \"NA\", -33.36098023023033], [[\"lao\", \"PROPN\"], \"hear\", 64, 57, -0.16710998583525832, \"<br> but even in this he was inept , for <br> the poison was less speedy than he thought , <br> and lao ting returned in time to convey him <br> to another door .  \", \"thought lao returned time\", \"('ting', 'PROPN')\", \"<br> lao ting found no difficulty in earning a meagre <br> competence by instructing others who wished to follow in <br> his footsteps .\", \"lao found difficulty\", \"('ting', 'PROPN')\", \"<br> for instance , the very speculative shan tien , <br> casting his usual moderate limit to the skies , <br> has accepted the luminous insect as a beckoning omen <br> , and immersed himself deeply in the chances of <br> every candidate bearing the name of lao , ting <br> , li , tzu , sung , chu , <br> wang or chin .\", \"lao li tzu\", \"('ting', 'PROPN')\", 18.817555850726265], [[\"glimpse\", \"NOUN\"], \"hear\", 1297, 1153, -0.1697859665999275, \"<br> he clapped as the others did at the end <br> of the first act , and he leaned forward <br> just as eagerly to catch a glimpse of her <br> when she reappeared and stood there with that marvelous <br> smile upon her lips , accepting with faint , <br> deprecating gratitude the homage of the packed house . <br>  \", \"eagerly glimpse\", \"('catch', 'VERB')\", \"<br> remembering the glimpse he had caught of the store <br> as he passed it , and having a recollection <br> of the barrels of potatoes and apples and the <br> various odds and ends , mr. havisham felt his <br> doubts arise again .\", \"glimpse store\", \"('caught', 'VERB')\", \"<br> before he could reply she caught a glimpse of <br> his face .  \", \"reply glimpse\", \"('caught', 'VERB')\", -17.859121450221522], [[\"crackling\", \"NOUN\"], \"hear\", 63, 56, -0.16992500144231246, \"<br> he seemed to be much disgusted at hearing no <br> crackling as he folded it .\", \"disgusted crackling\", \"('hearing', 'VERB')\", \"<br> here are my credentials if you care to read <br> them , \\\" and i heard a crackling as <br> of parchment being unfolded .  \", \"crackling\", \"('heard', 'VERB')\", \"NA\", \"NA\", \"NA\", -1.3209446794569224], [[\"billiards\", \"NOUN\"], \"hear\", 132, 117, -0.17402939977504894, \"<br> he played one game of billiards , but he <br> played badly .  \", \"billiards badly\", \"('played', 'VERB')\", \"NA\", \"NA\", \"NA\", \"NA\", \"NA\", \"NA\", 18.914076585210363], [[\"creak\", \"NOUN\"], \"hear\", 61, 54, -0.17584983539941776, \"<br> for a long time the baron lay wide awake <br> , every sense alert , listening for the creak <br> of a footstep on the wooden stair that led <br> up from the harness - room to his prison <br> .\", \"sense alert creak\", \"('listening', 'VERB')\", \"NA\", \"NA\", \"NA\", \"NA\", \"NA\", \"NA\", 27.790363650909388], [[\"louder\", \"ADV\"], \"hear\", 190, 168, -0.1775381855521876, \"<br> the ringing sounded again , louder than before . <br>  \", \"sounded louder\", \"('ringing', 'VERB')\", \"<br> then the multitude might shout ; and above the <br> roaring flames , louder than the blowing of the <br> mighty wind , arose that tremendous burst of applause <br> at the success of the daring enterprise .  \", \"louder mighty wind\", \"('blowing', 'NOUN')\", \"NA\", \"NA\", \"NA\", 12.42686430436134], [[\"authoritative\", \"ADJ\"], \"hear\", 86, 76, -0.17833724125851244, \"<br> with that decision , the clergyman turned to give <br> his orders to the attendant , in a firm <br> , authoritative voice , for a cup of tea <br> , two gelatine lozenges , bread and butter , <br> salad , and pie to follow . \\\"\", \"firm authoritative cup\", \"('voice', 'NOUN')\", \"NA\", \"NA\", \"NA\", \"NA\", \"NA\", \"NA\", -9.785558394384731], [[\"divert\", \"VERB\"], \"hear\", 101, 89, -0.18247805178539697, \"<br> i kept my face to the window , and <br> he made no effort to divert my attention .\", \"effort divert\", \"('attention', 'NOUN')\", \"<br> with mrs. cameron - campbell on one side , <br> and a minister 's lady upon the other , <br> his host two places distant , and a considerable <br> audience of silent eaters within earshot , he successfully <br> managed to divert the attention of quite half the <br> table from the chieftain 's moody humor .  \", \"managed divert half\", \"('attention', 'NOUN')\", \"NA\", \"NA\", \"NA\", -41.596974279720634], [[\"pranks\", \"NOUN\"], \"hear\", 84, 74, -0.18286405714981058, \"<br> all agreed at once , and several people were <br> made very happy by a bit of spring left <br> at their doors by the may elves who haunted <br> the town that night playing all sorts of pranks <br> .\", \"town night sorts pranks\", \"('playing', 'VERB')\", \"<br> i    the person who , next to the <br> actors themselves , chanced to know most of their <br> story , lived just below ' top o ' <br> town ' ( as the spot was called ) <br> in an old substantially - built house , distinguished <br> among its neighbours by having an oriel window on <br> the first floor , whence could be obtained a <br> raking view of the high street , west and <br> east , the former including laura 's dwelling , <br> the end of the town avenue hard by ( <br> in which were played the odd pranks hereafter to <br> be mentioned ) , the port - bredy road <br> rising westwards , and the turning that led to <br> the cavalry barracks where the captain was quartered . <br>  \", \"odd pranks\", \"('played', 'VERB')\", \"NA\", \"NA\", \"NA\", -0.7683394676931178], [[\"golf\", \"NOUN\"], \"hear\", 134, 118, -0.18344614109593121, \"<br> the diversions of the professedly gay - hooting over <br> pointless badinage and speculating whose turn it is to <br> get divorced next -- become in time even more <br> sobering than a scientific study with diagrams of how <br> to breed pheasants or play golf .\", \"breed pheasants golf\", \"('play', 'VERB')\", \"<br> playing golf , and thinking of clever things to <br> say to women like my stepmother , and dining <br> out .\", \"golf thinking\", \"('playing', 'VERB')\", \"<br> when i can get away from work i go <br> into the country and play cricket or golf , <br> or anything that 's going .\", \"country cricket golf\", \"('play', 'VERB')\", -8.592044171714079], [[\"whistling\", \"NOUN\"], \"hear\", 41, 36, -0.18762700317577136, \"<br> on arriving at the camp , after a long <br> struggle , he succeeded in sending back an army <br> service waggon to bring in the stragglers , but <br> just as the waggon was about to leave , <br> he heard coming up the road , a party <br> stepping out briskly to the music of their own <br> whistling .\", \"briskly whistling\", \"('music', 'NOUN')\", \"<br> sounds of music reached her , the rumble of <br> marching feet ; dark , massed figures were in <br> the distance swimming toward her along the glistening line <br> of the car tracks , and she heard the <br> shrill whistling of the doffer boys , who acted <br> as a sort of fife corps in these parades <br> -- which by this time had become familiar to <br> the citizens of hampton .\", \"tracks shrill whistling\", \"('heard', 'VERB')\", \"<br> that glee which finds expression in raised eyebrows and <br> long , low whistling noises was upon mr. hoopdriver <br> .\", \"long low whistling mr. hoopdriver\", \"('noises', 'NOUN')\", -35.76455640425463], [[\"drums\", \"NOUN\"], \"hear\", 98, 86, -0.18844508941311033, \"<br> by this time it was about sunset , and <br> i remember i cocked my ear to hear the <br> drums beat .  \", \"cocked ear drums beat\", \"('hear', 'VERB')\", \"<br> you 're listening for the drums , but you <br> wo n't hear them .\", \"drums\", \"('listening', 'VERB')\", \"<br> you mind how nervous i was when i heard <br> the drums beat .  \", \"drums beat\", \"('heard', 'VERB')\", 26.081216212800324], [[\"tunes\", \"NOUN\"], \"hear\", 105, 92, -0.1906835616091098, \"<br> then he had the inspiration to propose that they <br> should all three sit together , and it appeared <br> that such a group was within the scope of <br> the silhouettist 's art ; he posed them in <br> his little bower , and while he was mounting <br> the picture they took turns , at five kreutzers <br> each , in listening to american tunes played by <br> his edison phonograph .  \", \"listening american tunes edison phonograph\", \"('played', 'VERB')\", \"<br> remain to be considered the opening and closing exercises <br> , principally devoted , i remember , to learning <br> new tunes and singing old ones out of books <br> with pretty titles , like \\\" golden censer , <br> \\\" \\\" silver spray , \\\" \\\" pearl and <br> gold , \\\" \\\" sparkling dewdrops , \\\" and <br> \\\" sabbath chimes .\", \"remember new tunes singing\", \"('learning', 'VERB')\", \"NA\", \"NA\", \"NA\", -8.472555333264207], [[\"attract\", \"VERB\"], \"hear\", 632, 553, -0.1926450779423959, \"<br> a solitary amazon swallowing the dust and the salt <br> spray of the corniche promenade would attract too much <br> attention .  \", \"attract\", \"('attention', 'NOUN')\", \"<br> her agitated aspect , her excessive precautions in order <br> to slip by unseen , only served to attract <br> the attention of the passers - by .\", \"served attract passers\", \"('attention', 'NOUN')\", \"<br> they were within reach of the enemy , and <br> an automobile might attract the attention of their gunners <br> .  \", \"automobile attract gunners\", \"('attention', 'NOUN')\", 8.10842340998665], [[\"wheedling\", \"VERB\"], \"hear\", 48, 42, -0.1926450779423959, \"<br> josie was sobered at once by this dire threat <br> , and in her most wheedling tone begged to <br> know what he had said .\", \"wheedling begged know\", \"('tone', 'NOUN')\", \"NA\", \"NA\", \"NA\", \"NA\", \"NA\", \"NA\", -5.732100575092309], [[\"inflection\", \"NOUN\"], \"hear\", 64, 56, -0.1926450779423959, \"<br> \\\" bring him with you to tea next sabbath <br> evening , my dear , \\\" the little lady <br> would say , with never a quiver or inflection <br> of voice betraying that she had detected the girl <br> 's anxiety for her friend .  \", \"quiver inflection betraying\", \"('voice', 'NOUN')\", \"<br> he was keen to get back to his little <br> friend after the hazards of the night , eager <br> to see the brown eyes light up with joy <br> at sight of him and to hear the soft <br> voice with the trailing inflection drawl out its shy <br> questions .\", \"hear soft trailing inflection\", \"('voice', 'NOUN')\", \"NA\", \"NA\", \"NA\", -3.33135387652891], [[\"concertina\", \"NOUN\"], \"hear\", 48, 42, -0.1926450779423959, \"<br> i saw him , with my mind 's eye <br> , on the schooner on which he worked , <br> wearing nothing but a pair of dungarees ; and <br> at night , when the boat sailed along easily <br> before a light breeze , and the sailors were <br> gathered on the upper deck , while the captain <br> and the supercargo lolled in deck - chairs , <br> smoking their pipes , i saw him dance with <br> another lad , dance wildly , to the wheezy <br> music of the concertina .\", \"wheezy concertina\", \"('music', 'NOUN')\", \"<br> he sings so well , and plays the concertina <br> a little , and teaches in the sunday - <br> school , and speaks really quite excellently at temperance <br> meetings .\", \"concertina little\", \"('plays', 'VERB')\", \"<br> could she imagine him playing a concertina or haranguing <br> a temperance meeting and he acquitted himself quite creditably <br> .  \", \"imagine concertina haranguing\", \"('playing', 'VERB')\", 6.8515246478194385], [[\"infection\", \"NOUN\"], \"hear\", 88, 77, -0.1926450779423959, \"<br> the women had caught the infection of the old <br> man 's enthralling suspense ; and moved not to <br> bid the child retire , or to take away <br> the dove from its place -- they watched like <br> him .  \", \"women infection\", \"('caught', 'VERB')\", \"<br> ellinor caught the infection , and cried outright , <br> sobbed like a child , even while she held <br> out her little white thin hand to his grasp <br> .  \", \"ellinor infection\", \"('caught', 'VERB')\", \"<br> but when they turn the corner that gives them <br> a good view of the blaze , fluttering great <br> puffs of flame , and hear the steady crackle <br> and snapping , as it were , of a <br> great popper full of pop - corn , they <br> , too , catch the infection , and run <br> with a loud swashing and slatting of skirts , <br> giggling and squealing about their hair coming down . <br>  \", \"infection\", \"('catch', 'VERB')\", 18.70527384837568], [[\"querulous\", \"ADJ\"], \"hear\", 117, 102, -0.1979393776119089, \"<br> his voice lost its querulous and whimpering note , <br> and became strong and positive .  \", \"lost querulous\", \"('voice', 'NOUN')\", \"<br> another , a different , querulous kind of voice <br> came from the silence \\\" if i knew a <br> place where there was a welcome i 'd go <br> there as quickly as i could , but i <br> do n't know a place and i never will <br> , for what good would a man of my <br> age be to any person ?\", \"querulous kind came silence\", \"('voice', 'NOUN')\", \"NA\", \"NA\", \"NA\", -6.4687132457945555], [[\"rattling\", \"NOUN\"], \"hear\", 39, 34, -0.1979393776119089, \"<br> a noise like the rattling of chain links , <br> a small grind and click exploded in the stillness <br> of the hall and a eciov began to swear <br> in italian .  \", \"rattling\", \"('noise', 'NOUN')\", \"NA\", \"NA\", \"NA\", \"NA\", \"NA\", \"NA\", 25.24677164754776], [[\"glimpses\", \"NOUN\"], \"hear\", 343, 299, -0.19806309197470728, \"<br> but occasionally , as the breakers drew back for <br> another cruel blow , they caught glimpses of the <br> tilted deck , smashed bare of houses and rail <br> .  \", \"cruel blow glimpses tilted\", \"('caught', 'VERB')\", \"<br> the minister , curled up in the bow on <br> a rather uncomfortable cushion of anchor and roding , <br> caught glimpses of the receding shore over the crests <br> behind .\", \"anchor roding glimpses receding\", \"('caught', 'VERB')\", \"NA\", \"NA\", \"NA\", 31.97545976211833], [[\"loudest\", \"ADJ\"], \"hear\", 70, 61, -0.19854567938208015, \"<br> down the road , between lines of silent men <br> , came the pipers with waving kilts and flying <br> tartans , swinging along in their long swaying stride <br> , young angus doing wonders on the big drum <br> , with his whirling sticks , and every piper <br> blowing his loudest , and marching his proudest .\", \"piper loudest\", \"('blowing', 'VERB')\", \"<br> the tremendous voice of the lion - king was <br> heard over the loudest roar of the onset .\", \"lion king loudest roar\", \"('heard', 'VERB')\", \"<br> ' two or three years ago , did i <br> not see you on the platform of revival meetings <br> , and was not your voice the loudest in <br> the hymn ? '  \", \"loudest\", \"('voice', 'NOUN')\", -20.328328192660724], [[\"tennis\", \"NOUN\"], \"hear\", 163, 142, -0.19898103472639556, \"<br> how could they care for pretty girls playing tennis <br> on an upland level , in the waning afternoon <br> ?\", \"care pretty girls tennis upland\", \"('playing', 'VERB')\", \"NA\", \"NA\", \"NA\", \"NA\", \"NA\", \"NA\", -36.171353536647054], [[\"resounded\", \"VERB\"], \"hear\", 115, 100, -0.2016338611696506, \"<br> but she did not rise till her mother 's <br> rather rough voice resounded up the staircase as it <br> had done on the preceding evening .  \", \"mother rough resounded staircase\", \"('voice', 'NOUN')\", \"<br> the brooding , plaintive tones which resounded around us <br>   had a bewitching effect on me .\", \"brooding plaintive resounded\", \"('tones', 'NOUN')\", \"NA\", \"NA\", \"NA\", -15.771563111324253], [[\"angelus\", \"PROPN\"], \"hear\", 46, 40, -0.2016338611696506, \"<br> it is due to her that the king of <br> messina shall sit once more on his throne ; <br> it is through her generosity alone that the churches <br> will rise from their ruins and that you will <br> once again hear the angelus ring across the fields <br> at sunset .  \", \"hear angelus fields\", \"('ring', 'NOUN')\", \"NA\", \"NA\", \"NA\", \"NA\", \"NA\", \"NA\", -23.019433141640683], [[\"wailing\", \"VERB\"], \"hear\", 99, 86, -0.20309186537751162, \"<br> he could hear the sounds of voices within -- <br> wailing and weeping of the women -- but no <br> one answered his knocking .\", \"hear sounds wailing\", \"('voices', 'NOUN')\", \"<br> there had been no groan as of a man <br> wounded , no sound of a body falling , <br> no voice wailing in despair .  \", \"body falling wailing despair\", \"('voice', 'NOUN')\", \"<br> \\\" well ! \\\" said john slater , after <br> having acknowledged his nose and his likeness ; \\\" <br> i could laugh at a jest as well as <br> e'er the best on 'em , though it did <br> tell agen mysel , if i were not clemming <br> \\\" ( his eyes filled with tears ; he <br> was a poor , pinched , sharp - featured <br> man , with a gentle and melancholy expression of <br> countenance ) , \\\" and if i could keep <br> from thinking of them at home , as is <br> clemming ; but with their cries for food ringing <br> in my ears , and making me afeard of <br> going home , and wonder if i should hear <br> 'em wailing out , if i lay cold and <br> drowned at th ' bottom o ' th ' <br> canal , there -- why , man , i <br> can not laugh at aught .  \", \"wonder wailing\", \"('hear', 'VERB')\", -12.967090647081823], [[\"hissing\", \"NOUN\"], \"hear\", 76, 66, -0.203533394085132, \"<br> whereupon my visitor deserted the doorknob , took half <br> a dozen stealthy steps in my direction and lowered <br> her voice to a hissing whisper of confidence . <br>  \", \"direction lowered hissing whisper\", \"('voice', 'NOUN')\", \"<br> \\\" listen , son of panda , \\\" went <br> on zikali in an intense and hissing voice . <br>  \", \"intense hissing\", \"('voice', 'NOUN')\", \"NA\", \"NA\", \"NA\", -21.563142700836647]], \"hovertemplate\": \"literary_period=1800<br>Principal Component 1=%{x}<br>Principal Component 2=%{y}<br>word=%{customdata[0]}<br>modality=%{customdata[1]}<br>total_freq=%{customdata[2]}<br>total_freq_in_sense=%{customdata[3]}<br>PAI=%{customdata[4]}<br>Random Sentence 1=%{customdata[5]}<br>Random Context Window 1=%{customdata[6]}<br>Random Seed Words 1=%{customdata[7]}<br>Random Sentence 2=%{customdata[8]}<br>Random Context Window 2=%{customdata[9]}<br>Random Seed Words 2=%{customdata[10]}<br>Random Sentence 3=%{customdata[11]}<br>Random Context Window 3=%{customdata[12]}<br>Random Seed Words 3=%{customdata[13]}<extra></extra>\", \"legendgroup\": \"1800\", \"marker\": {\"color\": \"#FFA15A\", \"size\": 12, \"symbol\": \"circle\"}, \"mode\": \"markers\", \"name\": \"1800\", \"orientation\": \"v\", \"showlegend\": true, \"type\": \"scatter\", \"x\": [-10.853302637118581, 37.76454681413992, -14.814835387775956, 22.023261401439818, -2.711429481223476, 11.472365810742144, 1.523403133144624, -0.7046804874323993, -30.27615698222922, 25.32122273517424, -7.732609419029885, -14.20699636829552, -31.701233141718433, -24.062324556577348, 42.257254274601664, -0.28839781860229785, 15.46795091907875, 4.848170827704295, -22.812765134153015, 9.826138705762869, 36.48387213531076, -16.007252086897243, -26.495385180618435, -33.512374839645084, -27.00903450536108, -7.5594254118459405, 28.18440235431176, -7.579365404760858, -2.4065257915940172, -39.63323544863869, -29.872778685891618, -19.305539747535523, -33.71931723897019, -28.32523671466825, -39.310814716587124, -34.962823602092854, -6.0996383933620315, 26.356783529848656, 10.385779625067299, 1.5007162446996767, -18.519143484046563, -39.16292871701644, -38.91073934055268, -41.770053692692095, -32.97572132783866, -57.40318897553492, -36.85989807297863, -8.845278186713333, -22.5540032717746, -28.5259966556428, -41.70342123509927, 19.11865167108138, 1.8924802086950225, -40.913487381510414, -7.657129376020955, -39.53658974721927, 20.255332287163412, 22.3887744707802, -0.10785956258275346, -24.27775054960556, 12.509497911160313, 43.40061001638292, -3.9859789652039974, 3.2761321062327036, -8.890353216815317, -3.3378802431404186, -2.449564698079507, 5.525449881787465, -1.0035310012651004, -28.90117919929772, -23.552139125716042, -37.090290321217545, -33.36098023023033, 18.817555850726265, -17.859121450221522, -1.3209446794569224, 18.914076585210363, 27.790363650909388, 12.42686430436134, -9.785558394384731, -41.596974279720634, -0.7683394676931178, -8.592044171714079, -35.76455640425463, 26.081216212800324, -8.472555333264207, 8.10842340998665, -5.732100575092309, -3.33135387652891, 6.8515246478194385, 18.70527384837568, -6.4687132457945555, 25.24677164754776, 31.97545976211833, -20.328328192660724, -36.171353536647054, -15.771563111324253, -23.019433141640683, -12.967090647081823, -21.563142700836647], \"xaxis\": \"x\", \"y\": [-1.9563473120982793, -1.2486424456917178, 27.40895603277551, 5.565684684379189, -39.73442281202936, 6.312942365123276, 30.980461893148735, 11.433655211795939, 38.830221531910745, 5.807614072153457, 12.772193281220622, 27.4443252329276, -0.46565061779797173, 26.72995674402145, 5.356220683715572, 31.546859850010318, 15.104217391781654, 21.605208607000552, 28.371486785608198, -19.241864934629962, 10.279293953094216, -4.795814453237024, -24.843295122927703, -0.6473795902610792, -2.694018380494925, 3.434099339268035, 0.14964913019541098, -5.802559603697877, -13.777195948139441, 12.653847651325217, -25.689332380833285, -27.31328693207241, 0.9644999228369263, 21.592697400574828, 10.601349482518172, -24.36206739910534, -28.950876799238642, -4.2552387300930254, 17.399567079920192, -5.6502272409350685, -1.1245784699307524, 3.960133668165041, -18.126856520310554, -3.4187043971548925, 38.41339714612309, 36.660995025166, 6.880804314945423, 16.01811522459971, 11.150204380907333, 20.33598097045255, 16.37859892488085, 9.27560706673691, 11.257246598509745, 22.094113306533803, -7.944895595007076, -5.252152712951281, 6.727307555294904, 16.569261063470222, 4.328923135983935, 17.806963431392955, -16.34735816468994, 12.156020226560246, -0.5860113311280979, 4.611650194856996, 11.777865130162565, 6.909581312305034, 14.293167769134104, 15.250447882774294, 4.993025592414997, 6.843828292335279, 48.89957294604417, 7.22432768351435, -5.23527462395379, 24.21658642077744, -27.359247979833583, 13.615565635469698, 3.2217750402137346, -6.900968557839617, 15.676670063051505, -17.06674689247828, 17.15871199498852, -33.30604636940072, 0.26343336277821305, -12.732657999123024, -1.6544433939348477, -8.279928547364877, -19.955531986703402, -26.288216601479217, -20.412727036369326, -18.934781815119642, -10.591261323868277, -4.581972521934298, 6.572908291640908, 22.342378874257044, -3.0221509407434297, -13.232621339547809, -7.264668235853895, -21.781139998682654, -35.18254416711446, 20.486797338315398], \"yaxis\": \"y\"}, {\"customdata\": [[[\"scratching\", \"NOUN\"], \"hear\", 2, 2, 0.0, \"<br> a scratching noise , along on the side of <br> the wall where the ivy clung to the trellis <br> and covered the huge stone pillars supporting the terrace <br> .  \", \"scratching\", \"('noise', 'NOUN')\", \"NA\", \"NA\", \"NA\", \"NA\", \"NA\", \"NA\", 3.936960129779529], [[\"jingles\", \"NOUN\"], \"hear\", 2, 2, 0.0, \"<br> each time she pressed every digit in his phone <br> number except the last , the six - note <br> touch tone song deepening her dilemma because it reminded <br> her of one of international foods ' stupid little <br> commercial jingles for soda pop or corn chips .\", \"commercial jingles soda corn chips\", \"('pop', 'NOUN')\", \"NA\", \"NA\", \"NA\", \"NA\", \"NA\", \"NA\", -6.317159006207314], [[\"repeat\", \"VERB\"], \"hear\", 2, 2, 0.0, \"<br> heard himself repeat the addressee 's name , then <br> for a few beats he heard his own blood <br> pounding in his ears .  \", \"repeat addressee\", \"('heard', 'VERB')\", \"NA\", \"NA\", \"NA\", \"NA\", \"NA\", \"NA\", 1.2113419036206012], [[\"shower\", \"NOUN\"], \"hear\", 2, 2, 0.0, \"<br> she heard the shower stop and checked the cycle <br> 's timer .\", \"shower stop\", \"('heard', 'VERB')\", \"NA\", \"NA\", \"NA\", \"NA\", \"NA\", \"NA\", -2.6518993465484355], [[\"classical\", \"ADJ\"], \"hear\", 2, 2, 0.0, \"<br> the auditorium grew silent as the overhead lights dimmed <br> and the piped - in classical music dissolved .\", \"piped classical dissolved\", \"('music', 'NOUN')\", \"NA\", \"NA\", \"NA\", \"NA\", \"NA\", \"NA\", -13.940820585248284], [[\"touch\", \"PROPN\"], \"hear\", 2, 2, 0.0, \"<br> each time she pressed every digit in his phone <br> number except the last , the six - note <br> touch tone song deepening her dilemma because it reminded <br> her of one of international foods ' stupid little <br> commercial jingles for soda pop or corn chips .\", \"note touch song deepening dilemma\", \"('tone', 'PROPN')\", \"NA\", \"NA\", \"NA\", \"NA\", \"NA\", \"NA\", -10.85500728946694], [[\"squealing\", \"NOUN\"], \"hear\", 2, 2, 0.0, \"<br> the sound of the engine grew distant , then <br> came a high squealing noise when the car reached <br> the end and turned onto the main road .\", \"came high squealing car reached\", \"('noise', 'NOUN')\", \"NA\", \"NA\", \"NA\", \"NA\", \"NA\", \"NA\", -14.618695733983087], [[\"greta\", \"ADJ\"], \"hear\", 2, 2, 0.0, \"<br> but then she heard his voice , \\\" greta <br> ? , \\\" faintly , coming from downstairs . <br>  \", \"heard greta\", \"('voice', 'NOUN')\", \"NA\", \"NA\", \"NA\", \"NA\", \"NA\", \"NA\", -9.154019443236287], [[\"answered\", \"VERB\"], \"hear\", 2, 2, 0.0, \"<br> they raised their head , and there was a <br> great pride in their voice ; they answered : <br>   \\\" we have followed you . \\\"  \", \"great pride answered\", \"('voice', 'NOUN')\", \"NA\", \"NA\", \"NA\", \"NA\", \"NA\", \"NA\", 21.670685868366412], [[\"doubt\", \"VERB\"], \"hear\", 2, 2, 0.0, \"<br> yet now , as we walk the forest , <br> we are learning to doubt .  \", \"forest doubt\", \"('learning', 'VERB')\", \"<br> yet now , as we walk [ -through- ] <br> the forest , we are learning to doubt . <br>  \", \"forest doubt\", \"('learning', 'VERB')\", \"NA\", \"NA\", \"NA\", 0.8500405970593446], [[\"arms\", \"NOUN\"], \"hear\", 2, 2, 0.0, \"<br> we sleep together in the midst of the ring <br> , the arms of the golden one around us <br> , their head upon our breast .  \", \"midst arms\", \"('ring', 'NOUN')\", \"NA\", \"NA\", \"NA\", \"NA\", \"NA\", \"NA\", -1.2348661963956487], [[\"midst\", \"NOUN\"], \"hear\", 4, 4, 0.0, \"<br> we sleep in the midst of that ring , <br> and the beasts dare not attack us .\", \"midst beasts\", \"('ring', 'NOUN')\", \"<br> we sleep together in the midst of the ring <br> , the arms of the golden one around us <br> , their head upon our breast .  \", \"midst arms\", \"('ring', 'NOUN')\", \"NA\", \"NA\", \"NA\", 24.67259217168919], [[\"fires\", \"NOUN\"], \"hear\", 2, 2, 0.0, \"<br> at night , we choose a clearing , and <br> we build a ring of fires around it .\", \"build fires\", \"('ring', 'NOUN')\", \"NA\", \"NA\", \"NA\", \"NA\", \"NA\", \"NA\", -23.867256646794573], [[\"pill\", \"NOUN\"], \"hear\", 2, 2, 0.0, \"<br> he had no cyanide pill if he was caught <br> .\", \"pill\", \"('caught', 'VERB')\", \"NA\", \"NA\", \"NA\", \"NA\", \"NA\", \"NA\", -11.760066056022627], [[\"intercom\", \"NOUN\"], \"hear\", 2, 2, 0.0, \"<br> \\\" send him in , please , \\\" came <br> william harrell 's voice thinly from the intercom on <br> his secretary 's desk .  \", \"came william harrell thinly intercom\", \"('voice', 'NOUN')\", \"NA\", \"NA\", \"NA\", \"NA\", \"NA\", \"NA\", 41.70521070745633], [[\"winds\", \"NOUN\"], \"hear\", 2, 2, 0.0, \"<br> we learned the names of all the winds which <br> blow over the seas and push the sails of <br> our great ships .\", \"winds seas\", \"('blow', 'VERB')\", \"NA\", \"NA\", \"NA\", \"NA\", \"NA\", \"NA\", 5.974966851569241], [[\"enjoying\", \"VERB\"], \"hear\", 2, 2, 0.0, \"<br> i retired , and me and my wife have <br> been enjoying ourselves and playing around like kids ever <br> since .\", \"enjoying kids\", \"('playing', 'VERB')\", \"NA\", \"NA\", \"NA\", \"NA\", \"NA\", \"NA\", -9.145064699076901], [[\"invigorated\", \"ADJ\"], \"hear\", 2, 2, 0.0, \"<br> he became wholly attentive and invigorated .  \", \"wholly invigorated\", \"('attentive', 'ADJ')\", \"NA\", \"NA\", \"NA\", \"NA\", \"NA\", \"NA\", -10.238391587348199], [[\"paper\", \"NOUN\"], \"hear\", 2, 2, 0.0, \"<br> i played paper dolls a long time .\", \"paper dolls long\", \"('played', 'VERB')\", \"<br> you sit back down under the candy counter and <br> be playing with them paper dolls !\", \"candy counter paper dolls\", \"('playing', 'VERB')\", \"NA\", \"NA\", \"NA\", 50.097291666746436], [[\"assisted\", \"VERB\"], \"hear\", 2, 2, 0.0, \"<br> on two occasions she had assisted matthew in preparing <br> his speeches .\", \"assisted matthew speeches\", \"('preparing', 'VERB')\", \"NA\", \"NA\", \"NA\", \"NA\", \"NA\", \"NA\", 8.717965549208982], [[\"demand\", \"VERB\"], \"hear\", 2, 2, 0.0, \"<br> the employment of a veterinarian was n't important enough <br> to demand the attention of a senior executive .\", \"demand senior executive\", \"('attention', 'NOUN')\", \"<br> i do n't think i would have time to <br> give you the attention you 'd demand . \\\" <br>  \", \"demand\", \"('attention', 'NOUN')\", \"NA\", \"NA\", \"NA\", -5.452425619754589], [[\"speeches\", \"NOUN\"], \"hear\", 2, 2, 0.0, \"<br> on two occasions she had assisted matthew in preparing <br> his speeches .\", \"assisted matthew speeches\", \"('preparing', 'VERB')\", \"NA\", \"NA\", \"NA\", \"NA\", \"NA\", \"NA\", -5.508835260425144], [[\"father\", \"NOUN\"], \"hear\", 2, 2, 0.0, \"<br> my father sponsors polo players , did i already <br> mention that ?\", \"father sponsors polo\", \"('players', 'NOUN')\", \"NA\", \"NA\", \"NA\", \"NA\", \"NA\", \"NA\", -24.023031006241045], [[\"sponsors\", \"VERB\"], \"hear\", 2, 2, 0.0, \"<br> my father sponsors polo players , did i already <br> mention that ?\", \"father sponsors polo\", \"('players', 'NOUN')\", \"NA\", \"NA\", \"NA\", \"NA\", \"NA\", \"NA\", -21.704089157466523], [[\"hotel\", \"PROPN\"], \"hear\", 2, 2, 0.0, \"<br> he pulled up in front of the campton hotel <br> , and the attendant took the car .  \", \"hotel took car\", \"('attendant', 'NOUN')\", \"NA\", \"NA\", \"NA\", \"NA\", \"NA\", \"NA\", 13.006494020596435], [[\"smaller\", \"ADJ\"], \"hear\", 2, 2, 0.0, \"<br> \\\" okay , \\\" she said , her voice <br> different now , smaller . \\\"\", \"said different smaller\", \"('voice', 'NOUN')\", \"NA\", \"NA\", \"NA\", \"NA\", \"NA\", \"NA\", -23.485384256491088], [[\"hooky\", \"NOUN\"], \"hear\", 2, 2, 0.0, \"<br> i feel like i 'm playing hooky , \\\" <br> he said honestly .  \", \"feel hooky\", \"('playing', 'VERB')\", \"NA\", \"NA\", \"NA\", \"NA\", \"NA\", \"NA\", -2.1960684691551426], [[\"talk\", \"NOUN\"], \"hear\", 2, 2, 0.0, \"<br> hearing her talk about it , he thought that <br> it might be exciting to go there .\", \"talk\", \"('hearing', 'VERB')\", \"NA\", \"NA\", \"NA\", \"NA\", \"NA\", \"NA\", -9.793639516474352], [[\"different\", \"ADV\"], \"hear\", 2, 2, 0.0, \"<br> \\\" okay , \\\" she said , her voice <br> different now , smaller . \\\"\", \"said different smaller\", \"('voice', 'NOUN')\", \"NA\", \"NA\", \"NA\", \"NA\", \"NA\", \"NA\", -17.59121840091866], [[\"mail\", \"NOUN\"], \"hear\", 2, 2, 0.0, \"<br> matthew 's message was now unfolded on the display <br> , complete , and as he wiped , the <br> e - mail 's subject caught his eye .\", \"mail subject eye\", \"('caught', 'VERB')\", \"NA\", \"NA\", \"NA\", \"NA\", \"NA\", \"NA\", -22.41824936952439], [[\"beasts\", \"NOUN\"], \"hear\", 2, 2, 0.0, \"<br> we sleep in the midst of that ring , <br> and the beasts dare not attack us .\", \"midst beasts\", \"('ring', 'NOUN')\", \"NA\", \"NA\", \"NA\", \"NA\", \"NA\", \"NA\", 21.492729318463347], [[\"stops\", \"VERB\"], \"hear\", 2, 2, 0.0, \"<br> mr. locke , you 're on in one minute <br> , as soon as the music stops .\", \"soon stops\", \"('music', 'NOUN')\", \"NA\", \"NA\", \"NA\", \"NA\", \"NA\", \"NA\", -6.617525009838363], [[\"mornings\", \"NOUN\"], \"hear\", 2, 2, 0.0, \"<br> finishing sentences or the last bite of a muffin <br> or looking up from their agendas , the board <br> members and executive staff voiced their good mornings . <br>  \", \"members executive staff good mornings\", \"('voiced', 'VERB')\", \"NA\", \"NA\", \"NA\", \"NA\", \"NA\", \"NA\", 1.461001207537233], [[\"polo\", \"NOUN\"], \"hear\", 4, 4, 0.0, \"<br> right now , in deauville , where i have <br> lived most of my life as a polo player <br> , the tournament is underway .\", \"life polo tournament\", \"('player', 'NOUN')\", \"<br> my father sponsors polo players , did i already <br> mention that ?\", \"father sponsors polo\", \"('players', 'NOUN')\", \"NA\", \"NA\", \"NA\", -21.89911538147939], [[\"gust\", \"NOUN\"], \"hear\", 2, 2, 0.0, \"<br> a chilly gust of wind blew open the terrace <br> doors and lifted the curtains .\", \"chilly gust wind open terrace doors\", \"('blew', 'VERB')\", \"NA\", \"NA\", \"NA\", \"NA\", \"NA\", \"NA\", -25.106061664366656], [[\"rushed\", \"VERB\"], \"hear\", 2, 2, 0.0, \"<br> greta said , hearing her own voice crack as <br> she rushed to his side .  \", \"hearing crack rushed\", \"('voice', 'NOUN')\", \"NA\", \"NA\", \"NA\", \"NA\", \"NA\", \"NA\", -5.621962986270979], [[\"hearing\", \"VERB\"], \"hear\", 2, 2, 0.0, \"<br> greta said , hearing her own voice crack as <br> she rushed to his side .  \", \"hearing crack rushed\", \"('voice', 'NOUN')\", \"NA\", \"NA\", \"NA\", \"NA\", \"NA\", \"NA\", -3.6355947765967302], [[\"collar\", \"NOUN\"], \"hear\", 2, 2, 0.0, \"<br> pulling his tie from his collar , he caught <br> her earnest reflection in the full - length closet <br> mirror .\", \"collar earnest reflection\", \"('caught', 'VERB')\", \"NA\", \"NA\", \"NA\", \"NA\", \"NA\", \"NA\", -4.5771277486291515], [[\"terrace\", \"NOUN\"], \"hear\", 2, 2, 0.0, \"<br> a chilly gust of wind blew open the terrace <br> doors and lifted the curtains .\", \"chilly gust wind open terrace doors\", \"('blew', 'VERB')\", \"NA\", \"NA\", \"NA\", \"NA\", \"NA\", \"NA\", -23.01145165680909], [[\"crack\", \"NOUN\"], \"hear\", 4, 4, 0.0, \"<br> greta said , hearing her own voice crack as <br> she rushed to his side .  \", \"hearing crack rushed\", \"('voice', 'NOUN')\", \"NA\", \"NA\", \"NA\", \"NA\", \"NA\", \"NA\", 5.870422470598359], [[\"chilly\", \"ADJ\"], \"hear\", 2, 2, 0.0, \"<br> a chilly gust of wind blew open the terrace <br> doors and lifted the curtains .\", \"chilly gust wind open terrace doors\", \"('blew', 'VERB')\", \"NA\", \"NA\", \"NA\", \"NA\", \"NA\", \"NA\", -12.493836263091461], [[\"reflection\", \"NOUN\"], \"hear\", 2, 2, 0.0, \"<br> pulling his tie from his collar , he caught <br> her earnest reflection in the full - length closet <br> mirror .\", \"collar earnest reflection\", \"('caught', 'VERB')\", \"NA\", \"NA\", \"NA\", \"NA\", \"NA\", \"NA\", 3.302520218907068], [[\"whisper\", \"NOUN\"], \"hear\", 4, 4, 0.0, \"<br> \\\" yes , \\\" he said , his voice <br> barely a whisper .\", \"said barely whisper\", \"('voice', 'NOUN')\", \"<br> his voice became a whisper . \\\"\", \"whisper\", \"('voice', 'NOUN')\", \"NA\", \"NA\", \"NA\", 1.5099966879035682], [[\"earnest\", \"ADJ\"], \"hear\", 2, 2, 0.0, \"<br> pulling his tie from his collar , he caught <br> her earnest reflection in the full - length closet <br> mirror .\", \"collar earnest reflection\", \"('caught', 'VERB')\", \"NA\", \"NA\", \"NA\", \"NA\", \"NA\", \"NA\", -10.509418531607476], [[\"tones\", \"NOUN\"], \"hear\", 2, 2, 0.0, \"<br> she had memorized the phone number , not by <br> digits , but by the pattern of tones that <br> she played over and over with her index finger <br> .\", \"tones\", \"('played', 'VERB')\", \"NA\", \"NA\", \"NA\", \"NA\", \"NA\", \"NA\", -16.008693060399153], [[\"repair\", \"VERB\"], \"hear\", 2, 2, 0.0, \"<br> i shall learn how to repair it and how <br> to make it work again .\", \"shall repair\", \"('learn', 'VERB')\", \"NA\", \"NA\", \"NA\", \"NA\", \"NA\", \"NA\", -2.9650759584708135], [[\"clicked\", \"VERB\"], \"hear\", 2, 2, 0.0, \"<br> it was only a minute until the message tube <br> clicked and popped a capsule onto the girl 's <br> desk .\", \"message tube clicked capsule\", \"('popped', 'VERB')\", \"<br> the minute the usher 's back was turned , <br> i clicked off my hearing aid so that i <br> would n't have to listen to the pastor 's <br> sermon , the organ , or anything else .\", \"clicked aid\", \"('hearing', 'NOUN')\", \"NA\", \"NA\", \"NA\", -18.615440566591968], [[\"secrets\", \"NOUN\"], \"hear\", 2, 2, 0.0, \"<br> i shall learn many secrets from my books .\", \"shall secrets\", \"('learn', 'VERB')\", \"NA\", \"NA\", \"NA\", \"NA\", \"NA\", \"NA\", 3.5014545725830426], [[\"polo\", \"ADJ\"], \"hear\", 2, 2, 0.0, \"<br> he told her that , like most polo players <br> , he was a thrill - seeker ; his <br> attitude was that all of life was a game <br> , one big gamble , there for the playing <br> .\", \"polo\", \"('players', 'NOUN')\", \"NA\", \"NA\", \"NA\", \"NA\", \"NA\", \"NA\", 18.341604695160033], [[\"dismounted\", \"VERB\"], \"hear\", 2, 2, 0.0, \"<br> jean - pierre had dismounted by the far ring <br> and was walking toward the barn .\", \"dismounted far walking\", \"('ring', 'NOUN')\", \"NA\", \"NA\", \"NA\", \"NA\", \"NA\", \"NA\", 29.3736313876405], [[\"power\", \"NOUN\"], \"hear\", 3, 3, 0.0, \"<br> air whistled out of the lani 's gaping mouth <br> as he bent double from the power of the <br> blow .\", \"power\", \"('blow', 'NOUN')\", \"<br> he felt armed and ready to face for the <br> first time all of wallaby 's power players in <br> the very room from which three months earlier he <br> had ejected peter jones .  \", \"wallaby power room\", \"('players', 'NOUN')\", \"NA\", \"NA\", \"NA\", 55.291644509889544], [[\"members\", \"NOUN\"], \"hear\", 2, 2, 0.0, \"<br> finishing sentences or the last bite of a muffin <br> or looking up from their agendas , the board <br> members and executive staff voiced their good mornings . <br>  \", \"members executive staff good mornings\", \"('voiced', 'VERB')\", \"NA\", \"NA\", \"NA\", \"NA\", \"NA\", \"NA\", -15.10929912083509], [[\"aid\", \"NOUN\"], \"hear\", 3, 3, 0.0, \"<br> the usher was saying something to me , but <br> before i could adjust my hearing aid , i <br> had to push my shawl back and slip a <br> glove .\", \"adjust aid\", \"('hearing', 'NOUN')\", \"<br> the minute the usher 's back was turned , <br> i clicked off my hearing aid so that i <br> would n't have to listen to the pastor 's <br> sermon , the organ , or anything else .\", \"clicked aid\", \"('hearing', 'NOUN')\", \"<br> let me get my hearing aid adjusted .\", \"let aid adjusted\", \"('hearing', 'NOUN')\", 28.154949084379798], [[\"straining\", \"VERB\"], \"hear\", 2, 2, 0.0, \"<br> she hissed , straining to be both heard and <br> quiet at once .  \", \"straining quiet\", \"('heard', 'VERB')\", \"NA\", \"NA\", \"NA\", \"NA\", \"NA\", \"NA\", 23.057590936999407], [[\"commercial\", \"NOUN\"], \"hear\", 2, 2, 0.0, \"<br> just before getting out of the car , he <br> caught a commercial that froze him in his seat <br> for its duration .\", \"car commercial froze\", \"('caught', 'VERB')\", \"NA\", \"NA\", \"NA\", \"NA\", \"NA\", \"NA\", 14.038170117059773], [[\"tune\", \"NOUN\"], \"hear\", 3, 3, 0.0, \"<br> so we were reprimanded tonight , in the dining <br> hall , for without knowing it we had begun <br> to sing aloud some tune we had never heard <br> .\", \"tune\", \"('heard', 'VERB')\", \"NA\", \"NA\", \"NA\", \"NA\", \"NA\", \"NA\", -12.305266955627657], [[\"rubbery\", \"ADV\"], \"hear\", 2, 2, 0.0, \"<br> \\\" kate , \\\" he said , his voice <br> rubbery .  \", \"said rubbery\", \"('voice', 'NOUN')\", \"NA\", \"NA\", \"NA\", \"NA\", \"NA\", \"NA\", 0.13540161676503507], [[\"coins\", \"NOUN\"], \"hear\", 2, 2, 0.0, \"<br> the fortune of my spirit is not to be <br> blown into coins of brass and flung to the <br> winds as alms for the poor of the spirit <br> .\", \"coins brass\", \"('blown', 'VERB')\", \"NA\", \"NA\", \"NA\", \"NA\", \"NA\", \"NA\", -20.61500897019298], [[\"answering\", \"NOUN\"], \"hear\", 2, 2, 0.0, \"<br> we look ahead , we beg our heart for <br> guidance in answering this call no voice has spoken <br> , yet we have heard .\", \"answering spoken\", \"('voice', 'NOUN')\", \"NA\", \"NA\", \"NA\", \"NA\", \"NA\", \"NA\", -10.177528952902751], [[\"spoken\", \"VERB\"], \"hear\", 2, 2, 0.0, \"<br> we look ahead , we beg our heart for <br> guidance in answering this call no voice has spoken <br> , yet we have heard .\", \"answering spoken\", \"('voice', 'NOUN')\", \"NA\", \"NA\", \"NA\", \"NA\", \"NA\", \"NA\", 0.07512697004656937], [[\"gives\", \"VERB\"], \"hear\", 2, 2, 0.0, \"<br> it is my ears which hear , and the <br> hearing of my ears gives its song to the <br> world .\", \"hear ears gives\", \"('hearing', 'NOUN')\", \"NA\", \"NA\", \"NA\", \"NA\", \"NA\", \"NA\", -23.173681067069666], [[\"hearing\", \"NOUN\"], \"hear\", 2, 2, 0.0, \"<br> it is my ears which hear , and the <br> hearing of my ears gives its song to the <br> world .\", \"ears hearing\", \"('hear', 'VERB')\", \"NA\", \"NA\", \"NA\", \"NA\", \"NA\", \"NA\", -2.8084405496822105], [[\"trembled\", \"VERB\"], \"hear\", 4, 4, 0.0, \"<br> we asked , and our voice trembled :   <br> \\\"\", \"asked trembled\", \"('voice', 'NOUN')\", \"NA\", \"NA\", \"NA\", \"NA\", \"NA\", \"NA\", -21.25863516227625], [[\"tunic\", \"ADJ\"], \"hear\", 2, 2, 0.0, \"<br> then the golden one saw us , and they <br> did not move , kneeling there , looking at <br> us , and circles of light played upon their <br> white tunic , from the sun on the water <br> of the moat , and one sparkling drop fell <br> from a finger of their hand held as frozen <br> in the air .  \", \"circles light white tunic\", \"('played', 'VERB')\", \"NA\", \"NA\", \"NA\", \"NA\", \"NA\", \"NA\", -25.03402839690832], [[\"circles\", \"NOUN\"], \"hear\", 2, 2, 0.0, \"<br> then the golden one saw us , and they <br> did not move , kneeling there , looking at <br> us , and circles of light played upon their <br> white tunic , from the sun on the water <br> of the moat , and one sparkling drop fell <br> from a finger of their hand held as frozen <br> in the air .  \", \"circles light white tunic\", \"('played', 'VERB')\", \"NA\", \"NA\", \"NA\", \"NA\", \"NA\", \"NA\", 25.539290994649907], [[\"names\", \"NOUN\"], \"hear\", 2, 2, 0.0, \"<br> there were the men whose famous names we knew <br> , and others from distant lands whose names we <br> had not heard .\", \"names\", \"('heard', 'VERB')\", \"<br> there were { + the+ } men whose famous <br> names we knew , and others from distant lands <br> whose names we had not heard .\", \"names\", \"('heard', 'VERB')\", \"NA\", \"NA\", \"NA\", -19.634341773344218], [[\"mercy\", \"NOUN\"], \"hear\", 2, 2, 0.0, \"<br> our voice was hard and there was no mercy <br> in our voice .\", \"mercy\", \"('voice', 'NOUN')\", \"NA\", \"NA\", \"NA\", \"NA\", \"NA\", \"NA\", -7.05574413703389], [[\"hung\", \"VERB\"], \"hear\", 2, 2, 0.0, \"<br> we hung on the iron rings with our hands <br> and our feet .\", \"hung iron hands\", \"('rings', 'VERB')\", \"<br> we hung on the iron rings with our hands <br> and { + our+ } feet .\", \"hung iron hands\", \"('rings', 'VERB')\", \"NA\", \"NA\", \"NA\", -22.849662110245063], [[\"leading\", \"VERB\"], \"hear\", 2, 2, 0.0, \"<br> and then we saw iron rings as steps leading <br> down a shaft into a darkness without bottom . <br>  \", \"saw iron steps leading\", \"('rings', 'NOUN')\", \"NA\", \"NA\", \"NA\", \"NA\", \"NA\", \"NA\", -8.94628646735961], [[\"chills\", \"VERB\"], \"hear\", 2, 2, 0.0, \"<br> help us ! \\\" into the night , in <br> a voice which chills our bones , but the <br> doctors can not cure solidarity 9 - 6347 . <br>  \", \"night chills bones\", \"('voice', 'NOUN')\", \"NA\", \"NA\", \"NA\", \"NA\", \"NA\", \"NA\", 5.8866752177893735], [[\"falling\", \"VERB\"], \"hear\", 2, 2, 0.0, \"<br> we knew that the blows were falling upon our <br> back .\", \"knew falling\", \"('blows', 'NOUN')\", \"<br> we knew that the blows were falling upon our <br> [ -back.- ] { + back+ } only we <br> felt nothing upon our back any longer .\", \"knew falling\", \"('blows', 'NOUN')\", \"NA\", \"NA\", \"NA\", -0.9679312195374744], [[\"snarling\", \"VERB\"], \"hear\", 2, 2, 0.0, \"<br> then we knew nothing , save two voices snarling <br> steadily , one after the other , even though <br> we knew they were speaking many minutes apart : <br>   \\\"\", \"save snarling steadily\", \"('voices', 'NOUN')\", \"NA\", \"NA\", \"NA\", \"NA\", \"NA\", \"NA\", -2.032164033075846], [[\"steadily\", \"ADV\"], \"hear\", 2, 2, 0.0, \"<br> then we knew nothing , save two voices snarling <br> steadily , one after the other , even though <br> we knew they were speaking many minutes apart : <br>   \\\"\", \"save snarling steadily\", \"('voices', 'NOUN')\", \"NA\", \"NA\", \"NA\", \"NA\", \"NA\", \"NA\", -25.12499701599502], [[\"surrounded\", \"VERB\"], \"hear\", 2, 2, 0.0, \"<br> he had felt uncomfortable walking through the city , <br> unable to see more than a few blocks in <br> any direction , surrounded by noise , exhaust , <br> and serious faces .\", \"direction surrounded exhaust\", \"('noise', 'NOUN')\", \"NA\", \"NA\", \"NA\", \"NA\", \"NA\", \"NA\", -2.976998730029459], [[\"loudly\", \"ADV\"], \"hear\", 2, 2, 0.0, \"<br> the dial tone questioned loudly .\", \"dial questioned loudly\", \"('tone', 'NOUN')\", \"NA\", \"NA\", \"NA\", \"NA\", \"NA\", \"NA\", -22.20885698852384], [[\"deemed\", \"VERB\"], \"hear\", 2, 2, 0.0, \"<br> he had come to think of the binder as <br> his clay , molded into the shape of a <br> new wallaby , a grassroots company deemed a serious <br> player by the most important counsel of all , <br> based in this very city : wall street .\", \"company deemed important\", \"('player', 'NOUN')\", \"NA\", \"NA\", \"NA\", \"NA\", \"NA\", \"NA\", -17.716096092968673], [[\"seas\", \"NOUN\"], \"hear\", 2, 2, 0.0, \"<br> we learned the names of all the winds which <br> blow over the seas and push the sails of <br> our great ships .\", \"winds seas\", \"('blow', 'VERB')\", \"NA\", \"NA\", \"NA\", \"NA\", \"NA\", \"NA\", -12.033312615791402], [[\"leapt\", \"VERB\"], \"hear\", 2, 2, 0.0, \"<br> we swung our fist through the windowpane , and <br> we leapt out in a ringing rain of glass <br> .  \", \"leapt rain glass\", \"('ringing', 'VERB')\", \"NA\", \"NA\", \"NA\", \"NA\", \"NA\", \"NA\", 2.535668515803606], [[\"rain\", \"NOUN\"], \"hear\", 2, 2, 0.0, \"<br> we swung our fist through the windowpane , and <br> we leapt out in a ringing rain of glass <br> .  \", \"leapt rain glass\", \"('ringing', 'VERB')\", \"NA\", \"NA\", \"NA\", \"NA\", \"NA\", \"NA\", -11.417736172728583], [[\"pay\", \"VERB\"], \"hear\", 4, 4, 0.0, \"<br> little ' intelligent ' software buddies that run on <br> your computer in the background and pay attention to <br> what you 're doing , and what you 're <br> not doing , and then act on their own <br> , on your behalf , to help you by <br> anticipating your next move .\", \"background pay\", \"('attention', 'NOUN')\", \"<br> not till wiley started telling about school did i <br> rub my eyes good , yawn , and try <br> to pay attention again .  \", \"try pay\", \"('attention', 'NOUN')\", \"<br> pay attention to captain jones\", \"pay captain jones\", \"('attention', 'NOUN')\", 7.755745833784438], [[\"exhaust\", \"NOUN\"], \"hear\", 2, 2, 0.0, \"<br> he had felt uncomfortable walking through the city , <br> unable to see more than a few blocks in <br> any direction , surrounded by noise , exhaust , <br> and serious faces .\", \"direction surrounded exhaust\", \"('noise', 'NOUN')\", \"NA\", \"NA\", \"NA\", \"NA\", \"NA\", \"NA\", -17.7712648274665], [[\"brass\", \"NOUN\"], \"hear\", 3, 3, 0.0, \"<br> the fortune of my spirit is not to be <br> blown into coins of brass and flung to the <br> winds as alms for the poor of the spirit <br> .\", \"coins brass\", \"('blown', 'VERB')\", \"NA\", \"NA\", \"NA\", \"NA\", \"NA\", \"NA\", -11.245448822763144], [[\"wonder\", \"NOUN\"], \"hear\", 2, 2, 0.0, \"<br> then our hands seized a branch and swung us <br> high into a tree , with no aim save <br> the wonder of learning the strength of our body <br> .\", \"wonder strength\", \"('learning', 'VERB')\", \"NA\", \"NA\", \"NA\", \"NA\", \"NA\", \"NA\", -7.105492203686936], [[\"pride\", \"NOUN\"], \"hear\", 2, 2, 0.0, \"<br> they raised their head , and there was a <br> great pride in their voice ; they answered : <br>   \\\" we have followed you . \\\"  \", \"great pride answered\", \"('voice', 'NOUN')\", \"NA\", \"NA\", \"NA\", \"NA\", \"NA\", \"NA\", -3.914516510611444], [[\"history\", \"NOUN\"], \"hear\", 3, 3, 0.0, \"<br> we did not listen well to the history of <br> all the councils elected since the great rebirth .\", \"history\", \"('listen', 'VERB')\", \"NA\", \"NA\", \"NA\", \"NA\", \"NA\", \"NA\", -12.917347805991644], [[\"corruption\", \"NOUN\"], \"hear\", 2, 2, 0.0, \"<br> and we have heard of the corruption to be <br> found in solitude .\", \"corruption\", \"('heard', 'VERB')\", \"NA\", \"NA\", \"NA\", \"NA\", \"NA\", \"NA\", -16.930244178346086], [[\"played\", \"VERB\"], \"hear\", 2, 2, 0.0, \"<br> she had memorized the phone number , not by <br> digits , but by the pattern of tones that <br> she played over and over with her index finger <br> .\", \"pattern played\", \"('tones', 'NOUN')\", \"NA\", \"NA\", \"NA\", \"NA\", \"NA\", \"NA\", -23.114810986760478], [[\"concept\", \"NOUN\"], \"hear\", 2, 2, 0.0, \"<br> we were just starting to play around with the <br> concept before i left .\", \"starting concept\", \"('play', 'VERB')\", \"NA\", \"NA\", \"NA\", \"NA\", \"NA\", \"NA\", 33.15903231647645], [[\"starting\", \"VERB\"], \"hear\", 2, 2, 0.0, \"<br> we were just starting to play around with the <br> concept before i left .\", \"starting concept\", \"('play', 'VERB')\", \"NA\", \"NA\", \"NA\", \"NA\", \"NA\", \"NA\", 4.694036278393697], [[\"background\", \"NOUN\"], \"hear\", 2, 2, 0.0, \"<br> little ' intelligent ' software buddies that run on <br> your computer in the background and pay attention to <br> what you 're doing , and what you 're <br> not doing , and then act on their own <br> , on your behalf , to help you by <br> anticipating your next move .\", \"background pay\", \"('attention', 'NOUN')\", \"NA\", \"NA\", \"NA\", \"NA\", \"NA\", \"NA\", -12.13530797049113], [[\"bored\", \"VERB\"], \"hear\", 2, 2, 0.0, \"<br> they turned to the two youngest , and said <br> , and their voice was bored :  \", \"said bored\", \"('voice', 'NOUN')\", \"NA\", \"NA\", \"NA\", \"NA\", \"NA\", \"NA\", 69.31760295111154], [[\"dissolved\", \"VERB\"], \"hear\", 2, 2, 0.0, \"<br> the auditorium grew silent as the overhead lights dimmed <br> and the piped - in classical music dissolved .\", \"piped classical dissolved\", \"('music', 'NOUN')\", \"NA\", \"NA\", \"NA\", \"NA\", \"NA\", \"NA\", -7.239877049030659], [[\"lids\", \"NOUN\"], \"hear\", 2, 2, 0.0, \"<br> he popped the lids and handed one to peter <br> . \\\"\", \"lids handed\", \"('popped', 'VERB')\", \"NA\", \"NA\", \"NA\", \"NA\", \"NA\", \"NA\", -12.575527641177764], [[\"announcer\", \"NOUN\"], \"hear\", 2, 2, 0.0, \"<br> an announcer 's voice greeted the audience and a <br> large screen unrolled , on which a slide projector <br> beamed the wallaby logo .  \", \"announcer greeted audience\", \"('voice', 'NOUN')\", \"NA\", \"NA\", \"NA\", \"NA\", \"NA\", \"NA\", -21.404362130489854], [[\"build\", \"VERB\"], \"hear\", 4, 4, 0.0, \"<br> at night , we choose a clearing , and <br> we build a ring of fires around it .\", \"build fires\", \"('ring', 'NOUN')\", \"NA\", \"NA\", \"NA\", \"NA\", \"NA\", \"NA\", 23.296643069519835], [[\"pulse\", \"NOUN\"], \"hear\", 2, 2, 0.0, \"<br> she heard her own blood pulse in her ears <br> , felt dizzy and a little buzzed by the <br> wine , the rush of activity , and now <br> the stillness .  \", \"blood pulse\", \"('heard', 'VERB')\", \"NA\", \"NA\", \"NA\", \"NA\", \"NA\", \"NA\", -17.63258575023904], [[\"thinly\", \"ADV\"], \"hear\", 2, 2, 0.0, \"<br> \\\" send him in , please , \\\" came <br> william harrell 's voice thinly from the intercom on <br> his secretary 's desk .  \", \"came william harrell thinly intercom\", \"('voice', 'NOUN')\", \"NA\", \"NA\", \"NA\", \"NA\", \"NA\", \"NA\", -13.37722854894276], [[\"caused\", \"VERB\"], \"hear\", 2, 2, 0.0, \"<br> the sight caused her breath to catch .\", \"caused breath\", \"('catch', 'VERB')\", \"NA\", \"NA\", \"NA\", \"NA\", \"NA\", \"NA\", 53.979611425128965], [[\"basketball\", \"NOUN\"], \"hear\", 2, 2, 0.0, \"<br> from behind he heard the sound of cars passing <br> on fillmore street , and ahead of them , <br> a group of young boys were playing basketball in <br> a fenced school - yard .\", \"young boys basketball fenced\", \"('playing', 'VERB')\", \"NA\", \"NA\", \"NA\", \"NA\", \"NA\", \"NA\", 34.48381745462151], [[\"wholly\", \"ADV\"], \"hear\", 2, 2, 0.0, \"<br> he became wholly attentive and invigorated .  \", \"wholly invigorated\", \"('attentive', 'ADJ')\", \"NA\", \"NA\", \"NA\", \"NA\", \"NA\", \"NA\", -24.192513584385637]], \"hovertemplate\": \"literary_period=1900<br>Principal Component 1=%{x}<br>Principal Component 2=%{y}<br>word=%{customdata[0]}<br>modality=%{customdata[1]}<br>total_freq=%{customdata[2]}<br>total_freq_in_sense=%{customdata[3]}<br>PAI=%{customdata[4]}<br>Random Sentence 1=%{customdata[5]}<br>Random Context Window 1=%{customdata[6]}<br>Random Seed Words 1=%{customdata[7]}<br>Random Sentence 2=%{customdata[8]}<br>Random Context Window 2=%{customdata[9]}<br>Random Seed Words 2=%{customdata[10]}<br>Random Sentence 3=%{customdata[11]}<br>Random Context Window 3=%{customdata[12]}<br>Random Seed Words 3=%{customdata[13]}<extra></extra>\", \"legendgroup\": \"1900\", \"marker\": {\"color\": \"#19d3f3\", \"size\": 12, \"symbol\": \"circle\"}, \"mode\": \"markers\", \"name\": \"1900\", \"orientation\": \"v\", \"showlegend\": true, \"type\": \"scatter\", \"x\": [3.936960129779529, -6.317159006207314, 1.2113419036206012, -2.6518993465484355, -13.940820585248284, -10.85500728946694, -14.618695733983087, -9.154019443236287, 21.670685868366412, 0.8500405970593446, -1.2348661963956487, 24.67259217168919, -23.867256646794573, -11.760066056022627, 41.70521070745633, 5.974966851569241, -9.145064699076901, -10.238391587348199, 50.097291666746436, 8.717965549208982, -5.452425619754589, -5.508835260425144, -24.023031006241045, -21.704089157466523, 13.006494020596435, -23.485384256491088, -2.1960684691551426, -9.793639516474352, -17.59121840091866, -22.41824936952439, 21.492729318463347, -6.617525009838363, 1.461001207537233, -21.89911538147939, -25.106061664366656, -5.621962986270979, -3.6355947765967302, -4.5771277486291515, -23.01145165680909, 5.870422470598359, -12.493836263091461, 3.302520218907068, 1.5099966879035682, -10.509418531607476, -16.008693060399153, -2.9650759584708135, -18.615440566591968, 3.5014545725830426, 18.341604695160033, 29.3736313876405, 55.291644509889544, -15.10929912083509, 28.154949084379798, 23.057590936999407, 14.038170117059773, -12.305266955627657, 0.13540161676503507, -20.61500897019298, -10.177528952902751, 0.07512697004656937, -23.173681067069666, -2.8084405496822105, -21.25863516227625, -25.03402839690832, 25.539290994649907, -19.634341773344218, -7.05574413703389, -22.849662110245063, -8.94628646735961, 5.8866752177893735, -0.9679312195374744, -2.032164033075846, -25.12499701599502, -2.976998730029459, -22.20885698852384, -17.716096092968673, -12.033312615791402, 2.535668515803606, -11.417736172728583, 7.755745833784438, -17.7712648274665, -11.245448822763144, -7.105492203686936, -3.914516510611444, -12.917347805991644, -16.930244178346086, -23.114810986760478, 33.15903231647645, 4.694036278393697, -12.13530797049113, 69.31760295111154, -7.239877049030659, -12.575527641177764, -21.404362130489854, 23.296643069519835, -17.63258575023904, -13.37722854894276, 53.979611425128965, 34.48381745462151, -24.192513584385637], \"xaxis\": \"x\", \"y\": [0.9092596324285165, 0.611718332778024, -0.5438176949744494, 1.7081320935391202, 0.8188152596039091, -0.3388329645301078, 0.1387164421483004, -0.8911154333062793, 1.7381586592980174, 2.419446208524262, -0.4540825034910869, -0.892289549708754, -0.3210534423756367, 0.14674423956076593, -6.038660985809934, 0.7788978998038899, -0.11654571323235656, -0.7824266601370714, 0.1152575467463465, -0.11711758164889664, -1.7495864737260522, 0.33538365564855266, -0.40461153444978143, 0.7646054278478285, 1.0579868604650484, 0.2145165398787525, 0.9297386866708997, -0.32181576463615824, -0.2363764371068872, -0.11650823358543143, 1.4591052013876327, 0.6505964482289559, -2.252056471222138, -0.06389834802711403, 0.6627183562775669, -0.02026728008201115, 0.21312375772041783, 2.2475536738876802, 0.365540767597528, 1.3007518279947203, -0.3094721718530277, -1.0697575726326385, -0.4673273211984187, -0.7878815646963806, 0.9154253402330509, 0.008383328283298446, -0.7312431823467281, 0.5357057569062039, -0.045207727227583726, 0.9669228993564672, -1.0779756488567263, 0.44104650290051006, 1.8333168286750718, 2.104612219602138, -0.8389036432777748, -0.6406573390199929, 1.6345064179135398, 1.10375450574501, 0.35050253048419366, -0.8209817313552841, -0.09429301911556923, -0.4744388187690527, 0.8262873580152986, 0.0734219805140646, -1.6394520128579766, 0.20058381402867956, -0.2318056120885891, 0.2473650205847462, 0.03805622429912763, 1.427145132146687, -1.7472083673519323, -1.4612938388545067, 0.13017847822728248, 2.0356460591949883, -0.46736844425864366, -1.4230798048786428, 0.16945057728307755, -0.39199063534636464, -0.31876160235782885, -0.4356985138489336, -1.7820100970479016, 2.486716394443858, -0.6179373666246801, 0.20786077537945657, -0.18756716556824649, 0.1436452891630562, 0.27081765969670624, -1.8926850452781006, 0.7233684317044796, -1.3699172950811593, 3.0693981276085647, -0.5815778947302538, 0.05690257669528384, -0.7556994581310464, -3.640375819295264, -0.45554838749919285, 0.024445568985679317, -6.720175506665394, 3.793776399510636, 0.7537704378019638], \"yaxis\": \"y\"}],                        {\"legend\": {\"title\": {\"text\": \"literary_period\"}, \"tracegroupgap\": 0}, \"template\": {\"data\": {\"bar\": [{\"error_x\": {\"color\": \"#2a3f5f\"}, \"error_y\": {\"color\": \"#2a3f5f\"}, \"marker\": {\"line\": {\"color\": \"#E5ECF6\", \"width\": 0.5}}, \"type\": \"bar\"}], \"barpolar\": [{\"marker\": {\"line\": {\"color\": \"#E5ECF6\", \"width\": 0.5}}, \"type\": \"barpolar\"}], \"carpet\": [{\"aaxis\": {\"endlinecolor\": \"#2a3f5f\", \"gridcolor\": \"white\", \"linecolor\": \"white\", \"minorgridcolor\": \"white\", \"startlinecolor\": \"#2a3f5f\"}, \"baxis\": {\"endlinecolor\": \"#2a3f5f\", \"gridcolor\": \"white\", \"linecolor\": \"white\", \"minorgridcolor\": \"white\", \"startlinecolor\": \"#2a3f5f\"}, \"type\": \"carpet\"}], \"choropleth\": [{\"colorbar\": {\"outlinewidth\": 0, \"ticks\": \"\"}, \"type\": \"choropleth\"}], \"contour\": [{\"colorbar\": {\"outlinewidth\": 0, \"ticks\": \"\"}, \"colorscale\": [[0.0, \"#0d0887\"], [0.1111111111111111, \"#46039f\"], [0.2222222222222222, \"#7201a8\"], [0.3333333333333333, \"#9c179e\"], [0.4444444444444444, \"#bd3786\"], [0.5555555555555556, \"#d8576b\"], [0.6666666666666666, \"#ed7953\"], [0.7777777777777778, \"#fb9f3a\"], [0.8888888888888888, \"#fdca26\"], [1.0, \"#f0f921\"]], \"type\": \"contour\"}], \"contourcarpet\": [{\"colorbar\": {\"outlinewidth\": 0, \"ticks\": \"\"}, \"type\": \"contourcarpet\"}], \"heatmap\": [{\"colorbar\": {\"outlinewidth\": 0, \"ticks\": \"\"}, \"colorscale\": [[0.0, \"#0d0887\"], [0.1111111111111111, \"#46039f\"], [0.2222222222222222, \"#7201a8\"], [0.3333333333333333, \"#9c179e\"], [0.4444444444444444, \"#bd3786\"], [0.5555555555555556, \"#d8576b\"], [0.6666666666666666, \"#ed7953\"], [0.7777777777777778, \"#fb9f3a\"], [0.8888888888888888, \"#fdca26\"], [1.0, \"#f0f921\"]], \"type\": \"heatmap\"}], \"heatmapgl\": [{\"colorbar\": {\"outlinewidth\": 0, \"ticks\": \"\"}, \"colorscale\": [[0.0, \"#0d0887\"], [0.1111111111111111, \"#46039f\"], [0.2222222222222222, \"#7201a8\"], [0.3333333333333333, \"#9c179e\"], [0.4444444444444444, \"#bd3786\"], [0.5555555555555556, \"#d8576b\"], [0.6666666666666666, \"#ed7953\"], [0.7777777777777778, \"#fb9f3a\"], [0.8888888888888888, \"#fdca26\"], [1.0, \"#f0f921\"]], \"type\": \"heatmapgl\"}], \"histogram\": [{\"marker\": {\"colorbar\": {\"outlinewidth\": 0, \"ticks\": \"\"}}, \"type\": \"histogram\"}], \"histogram2d\": [{\"colorbar\": {\"outlinewidth\": 0, \"ticks\": \"\"}, \"colorscale\": [[0.0, \"#0d0887\"], [0.1111111111111111, \"#46039f\"], [0.2222222222222222, \"#7201a8\"], [0.3333333333333333, \"#9c179e\"], [0.4444444444444444, \"#bd3786\"], [0.5555555555555556, \"#d8576b\"], [0.6666666666666666, \"#ed7953\"], [0.7777777777777778, \"#fb9f3a\"], [0.8888888888888888, \"#fdca26\"], [1.0, \"#f0f921\"]], \"type\": \"histogram2d\"}], \"histogram2dcontour\": [{\"colorbar\": {\"outlinewidth\": 0, \"ticks\": \"\"}, \"colorscale\": [[0.0, \"#0d0887\"], [0.1111111111111111, \"#46039f\"], [0.2222222222222222, \"#7201a8\"], [0.3333333333333333, \"#9c179e\"], [0.4444444444444444, \"#bd3786\"], [0.5555555555555556, \"#d8576b\"], [0.6666666666666666, \"#ed7953\"], [0.7777777777777778, \"#fb9f3a\"], [0.8888888888888888, \"#fdca26\"], [1.0, \"#f0f921\"]], \"type\": \"histogram2dcontour\"}], \"mesh3d\": [{\"colorbar\": {\"outlinewidth\": 0, \"ticks\": \"\"}, \"type\": \"mesh3d\"}], \"parcoords\": [{\"line\": {\"colorbar\": {\"outlinewidth\": 0, \"ticks\": \"\"}}, \"type\": \"parcoords\"}], \"pie\": [{\"automargin\": true, \"type\": \"pie\"}], \"scatter\": [{\"marker\": {\"colorbar\": {\"outlinewidth\": 0, \"ticks\": \"\"}}, \"type\": \"scatter\"}], \"scatter3d\": [{\"line\": {\"colorbar\": {\"outlinewidth\": 0, \"ticks\": \"\"}}, \"marker\": {\"colorbar\": {\"outlinewidth\": 0, \"ticks\": \"\"}}, \"type\": \"scatter3d\"}], \"scattercarpet\": [{\"marker\": {\"colorbar\": {\"outlinewidth\": 0, \"ticks\": \"\"}}, \"type\": \"scattercarpet\"}], \"scattergeo\": [{\"marker\": {\"colorbar\": {\"outlinewidth\": 0, \"ticks\": \"\"}}, \"type\": \"scattergeo\"}], \"scattergl\": [{\"marker\": {\"colorbar\": {\"outlinewidth\": 0, \"ticks\": \"\"}}, \"type\": \"scattergl\"}], \"scattermapbox\": [{\"marker\": {\"colorbar\": {\"outlinewidth\": 0, \"ticks\": \"\"}}, \"type\": \"scattermapbox\"}], \"scatterpolar\": [{\"marker\": {\"colorbar\": {\"outlinewidth\": 0, \"ticks\": \"\"}}, \"type\": \"scatterpolar\"}], \"scatterpolargl\": [{\"marker\": {\"colorbar\": {\"outlinewidth\": 0, \"ticks\": \"\"}}, \"type\": \"scatterpolargl\"}], \"scatterternary\": [{\"marker\": {\"colorbar\": {\"outlinewidth\": 0, \"ticks\": \"\"}}, \"type\": \"scatterternary\"}], \"surface\": [{\"colorbar\": {\"outlinewidth\": 0, \"ticks\": \"\"}, \"colorscale\": [[0.0, \"#0d0887\"], [0.1111111111111111, \"#46039f\"], [0.2222222222222222, \"#7201a8\"], [0.3333333333333333, \"#9c179e\"], [0.4444444444444444, \"#bd3786\"], [0.5555555555555556, \"#d8576b\"], [0.6666666666666666, \"#ed7953\"], [0.7777777777777778, \"#fb9f3a\"], [0.8888888888888888, \"#fdca26\"], [1.0, \"#f0f921\"]], \"type\": \"surface\"}], \"table\": [{\"cells\": {\"fill\": {\"color\": \"#EBF0F8\"}, \"line\": {\"color\": \"white\"}}, \"header\": {\"fill\": {\"color\": \"#C8D4E3\"}, \"line\": {\"color\": \"white\"}}, \"type\": \"table\"}]}, \"layout\": {\"annotationdefaults\": {\"arrowcolor\": \"#2a3f5f\", \"arrowhead\": 0, \"arrowwidth\": 1}, \"autotypenumbers\": \"strict\", \"coloraxis\": {\"colorbar\": {\"outlinewidth\": 0, \"ticks\": \"\"}}, \"colorscale\": {\"diverging\": [[0, \"#8e0152\"], [0.1, \"#c51b7d\"], [0.2, \"#de77ae\"], [0.3, \"#f1b6da\"], [0.4, \"#fde0ef\"], [0.5, \"#f7f7f7\"], [0.6, \"#e6f5d0\"], [0.7, \"#b8e186\"], [0.8, \"#7fbc41\"], [0.9, \"#4d9221\"], [1, \"#276419\"]], \"sequential\": [[0.0, \"#0d0887\"], [0.1111111111111111, \"#46039f\"], [0.2222222222222222, \"#7201a8\"], [0.3333333333333333, \"#9c179e\"], [0.4444444444444444, \"#bd3786\"], [0.5555555555555556, \"#d8576b\"], [0.6666666666666666, \"#ed7953\"], [0.7777777777777778, \"#fb9f3a\"], [0.8888888888888888, \"#fdca26\"], [1.0, \"#f0f921\"]], \"sequentialminus\": [[0.0, \"#0d0887\"], [0.1111111111111111, \"#46039f\"], [0.2222222222222222, \"#7201a8\"], [0.3333333333333333, \"#9c179e\"], [0.4444444444444444, \"#bd3786\"], [0.5555555555555556, \"#d8576b\"], [0.6666666666666666, \"#ed7953\"], [0.7777777777777778, \"#fb9f3a\"], [0.8888888888888888, \"#fdca26\"], [1.0, \"#f0f921\"]]}, \"colorway\": [\"#636efa\", \"#EF553B\", \"#00cc96\", \"#ab63fa\", \"#FFA15A\", \"#19d3f3\", \"#FF6692\", \"#B6E880\", \"#FF97FF\", \"#FECB52\"], \"font\": {\"color\": \"#2a3f5f\"}, \"geo\": {\"bgcolor\": \"white\", \"lakecolor\": \"white\", \"landcolor\": \"#E5ECF6\", \"showlakes\": true, \"showland\": true, \"subunitcolor\": \"white\"}, \"hoverlabel\": {\"align\": \"left\"}, \"hovermode\": \"closest\", \"mapbox\": {\"style\": \"light\"}, \"paper_bgcolor\": \"white\", \"plot_bgcolor\": \"#E5ECF6\", \"polar\": {\"angularaxis\": {\"gridcolor\": \"white\", \"linecolor\": \"white\", \"ticks\": \"\"}, \"bgcolor\": \"#E5ECF6\", \"radialaxis\": {\"gridcolor\": \"white\", \"linecolor\": \"white\", \"ticks\": \"\"}}, \"scene\": {\"xaxis\": {\"backgroundcolor\": \"#E5ECF6\", \"gridcolor\": \"white\", \"gridwidth\": 2, \"linecolor\": \"white\", \"showbackground\": true, \"ticks\": \"\", \"zerolinecolor\": \"white\"}, \"yaxis\": {\"backgroundcolor\": \"#E5ECF6\", \"gridcolor\": \"white\", \"gridwidth\": 2, \"linecolor\": \"white\", \"showbackground\": true, \"ticks\": \"\", \"zerolinecolor\": \"white\"}, \"zaxis\": {\"backgroundcolor\": \"#E5ECF6\", \"gridcolor\": \"white\", \"gridwidth\": 2, \"linecolor\": \"white\", \"showbackground\": true, \"ticks\": \"\", \"zerolinecolor\": \"white\"}}, \"shapedefaults\": {\"line\": {\"color\": \"#2a3f5f\"}}, \"ternary\": {\"aaxis\": {\"gridcolor\": \"white\", \"linecolor\": \"white\", \"ticks\": \"\"}, \"baxis\": {\"gridcolor\": \"white\", \"linecolor\": \"white\", \"ticks\": \"\"}, \"bgcolor\": \"#E5ECF6\", \"caxis\": {\"gridcolor\": \"white\", \"linecolor\": \"white\", \"ticks\": \"\"}}, \"title\": {\"x\": 0.05}, \"xaxis\": {\"automargin\": true, \"gridcolor\": \"white\", \"linecolor\": \"white\", \"ticks\": \"\", \"title\": {\"standoff\": 15}, \"zerolinecolor\": \"white\", \"zerolinewidth\": 2}, \"yaxis\": {\"automargin\": true, \"gridcolor\": \"white\", \"linecolor\": \"white\", \"ticks\": \"\", \"title\": {\"standoff\": 15}, \"zerolinecolor\": \"white\", \"zerolinewidth\": 2}}}, \"title\": {\"text\": \"hear - 2 Component PCA\"}, \"xaxis\": {\"anchor\": \"y\", \"domain\": [0.0, 1.0], \"title\": {\"text\": \"Principal Component 1\"}}, \"yaxis\": {\"anchor\": \"x\", \"domain\": [0.0, 1.0], \"title\": {\"text\": \"Principal Component 2\"}}},                        {\"responsive\": true}                    ).then(function(){\n",
       "                            \n",
       "var gd = document.getElementById('b1cfd036-c4da-4c62-9084-888e9957cbc8');\n",
       "var x = new MutationObserver(function (mutations, observer) {{\n",
       "        var display = window.getComputedStyle(gd).display;\n",
       "        if (!display || display === 'none') {{\n",
       "            console.log([gd, 'removed!']);\n",
       "            Plotly.purge(gd);\n",
       "            observer.disconnect();\n",
       "        }}\n",
       "}});\n",
       "\n",
       "// Listen for the removal of the full notebook cells\n",
       "var notebookContainer = gd.closest('#notebook-container');\n",
       "if (notebookContainer) {{\n",
       "    x.observe(notebookContainer, {childList: true});\n",
       "}}\n",
       "\n",
       "// Listen for the clearing of the current output cell\n",
       "var outputEl = gd.closest('.output');\n",
       "if (outputEl) {{\n",
       "    x.observe(outputEl, {childList: true});\n",
       "}}\n",
       "\n",
       "                        })                };                });            </script>        </div>"
      ]
     },
     "metadata": {},
     "output_type": "display_data"
    }
   ],
   "source": [
    "modality_dict = {'sight': sight_df, 'hear': hear_df, 'touch': touch_df, 'taste': taste_df, 'smell': smell_df}\n",
    "k = 2\n",
    "\n",
    "for modality, df in modality_dict.items():\n",
    "    fig = px.scatter(\n",
    "                df,\n",
    "                color=df[\"literary_period\"],\n",
    "                color_discrete_map={'1700': '#1f77b4', '1800': '#2ca02c', '1900': '#d62728'},\n",
    "                x=df['Principal Component 1'],\n",
    "                y=df['Principal Component 2'],\n",
    "                hover_data=df.columns[:-1 * k],\n",
    "                custom_data=df.columns[:-1 * k],\n",
    "                title= modality + \" - \" + str(k) + \" Component PCA\")\n",
    "    fig.update_traces(marker=dict(size=12,))\n",
    "    fig.write_html('../visuals/' + modality + '_pca_plot.html')\n",
    "    fig.show()\n",
    "\n",
    "    fig, ax = plt.subplots()\n",
    "    for i,d in df.groupby('literary_period'):\n",
    "        ax.scatter(d['Principal Component 1'], d['Principal Component 2'], label=i)\n",
    "    plt.title(modality + \" - \" + str(k) + \" Component PCA\")\n",
    "    plt.xlabel('Principal Component 1')\n",
    "    plt.ylabel('Principal Component 2')\n",
    "    plt.legend(loc=\"upper right\")\n",
    "    plt.grid(True)\n",
    "    plt.savefig('../visuals/' + modality + '_pca_plot.pdf')"
   ]
  },
  {
   "cell_type": "code",
   "execution_count": null,
   "id": "435c7371",
   "metadata": {},
   "outputs": [],
   "source": []
  }
 ],
 "metadata": {
  "kernelspec": {
   "display_name": "word2vec",
   "language": "python",
   "name": "word2vec"
  },
  "language_info": {
   "codemirror_mode": {
    "name": "ipython",
    "version": 3
   },
   "file_extension": ".py",
   "mimetype": "text/x-python",
   "name": "python",
   "nbconvert_exporter": "python",
   "pygments_lexer": "ipython3",
   "version": "3.9.5"
  }
 },
 "nbformat": 4,
 "nbformat_minor": 5
}
