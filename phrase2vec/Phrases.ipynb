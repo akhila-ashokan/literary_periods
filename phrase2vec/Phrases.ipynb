{
 "cells": [
  {
   "cell_type": "code",
   "execution_count": 36,
   "id": "9e69239c",
   "metadata": {},
   "outputs": [],
   "source": [
    "from gensim.models.doc2vec import Doc2Vec, TaggedDocument\n",
    "from tqdm import tqdm\n",
    "import pandas as pd \n",
    "import logging, time, sys, argparse, re, gensim, math, faulthandler\n",
    "import pickle as pkl\n",
    "import numpy as np\n",
    "from os.path import exists\n",
    "from sklearn.preprocessing import StandardScaler\n",
    "from sklearn.decomposition import PCA\n",
    "import plotly.express as px\n",
    "import matplotlib.pyplot as plt\n",
    "from sentence_transformers import SentenceTransformer"
   ]
  },
  {
   "cell_type": "code",
   "execution_count": 2,
   "id": "3923142d",
   "metadata": {},
   "outputs": [],
   "source": [
    "def train_phrases_model():\n",
    "    start_time = time.time()\n",
    "    context_windows_by_sense = sum(self.context_windows.values(), [])\n",
    "    tagged_data = [TaggedDocument(d, [i]) for i, d in enumerate(context_windows_by_sense)]\n",
    "    model = Doc2Vec(tagged_data, vector_size = 20, window = 4, min_count = 1, epochs = 100)\n",
    "    model.save(self.model_path)\n",
    "    end_time = time.time()\n",
    "    logging.info(end_time - start_time) \n",
    "\n",
    "def read_file(input_path):\n",
    "        logging.info('Opened: ' + input_path)\n",
    "        with open(input_path, \"rb\") as f:\n",
    "            input_obj = pkl.load(f)\n",
    "            return input_obj     \n",
    "        \n",
    "def get_word_vectors(model, phrases_df):\n",
    "        vectors = []\n",
    "        dv = model.dv\n",
    "        not_found = 0\n",
    "        for idx, row in phrases_df.iterrows():\n",
    "            try:\n",
    "                vectors.append(dv[idx])\n",
    "            except KeyError:\n",
    "                logging.info(key, 'not found')\n",
    "                not_found += 1\n",
    "                continue\n",
    "\n",
    "        n = len(vectors)\n",
    "        logging.info(\"n: \" + str(n))\n",
    "        logging.info(\"not_found: \" + str(not_found))\n",
    "\n",
    "        return vectors   \n",
    "\n",
    "    \n",
    "def get_similarity_matrix(vectors):\n",
    "    n = len(vectors)\n",
    "    distances = np.zeros((len(vectors[:n]), len(vectors[:n])))\n",
    "\n",
    "    for idx1, vec1 in enumerate(tqdm(vectors[:n])):\n",
    "        for idx2, vec2 in enumerate(vectors[idx1:n]):\n",
    "            if idx2 == 0:\n",
    "                distances[idx1][idx1] = 0\n",
    "                continue\n",
    "            # calculate the pearson correlation \n",
    "            p = np.dot(vec1, vec2) / (np.linalg.norm(vec1) * np.linalg.norm(vec2))\n",
    "            # calculate the distance between vectors \n",
    "            dist = abs(0.5 * (1 - p))\n",
    "\n",
    "            distances[idx1][idx1 + idx2] = dist\n",
    "            distances[idx1 + idx2][idx1] = dist\n",
    "\n",
    "    return distances\n",
    "\n",
    "def run_pca(distances, k):\n",
    "    dist_matrix = pd.DataFrame(distances)\n",
    "    x = dist_matrix.loc[:, ].values\n",
    "    x = StandardScaler().fit_transform(x)\n",
    "    reduction_model = PCA(n_components=k)\n",
    "    pca = reduction_model.fit_transform(x)\n",
    "    total_var = reduction_model.explained_variance_ratio_.sum() * 100\n",
    "    logging.info(\"Total variance explained:\" + str(total_var))\n",
    "    return pca"
   ]
  },
  {
   "cell_type": "code",
   "execution_count": 71,
   "id": "90c14b10",
   "metadata": {},
   "outputs": [],
   "source": [
    "model = Doc2Vec.load('../data/full_corpus/phrase_embedding_model.pickle')\n",
    "context_windows = read_file('../data/full_corpus/context_windows.pickle')"
   ]
  },
  {
   "cell_type": "code",
   "execution_count": null,
   "id": "1d837f03",
   "metadata": {},
   "outputs": [],
   "source": []
  },
  {
   "cell_type": "code",
   "execution_count": 72,
   "id": "92315eaf",
   "metadata": {},
   "outputs": [
    {
     "data": {
      "text/html": [
       "<div>\n",
       "<style scoped>\n",
       "    .dataframe tbody tr th:only-of-type {\n",
       "        vertical-align: middle;\n",
       "    }\n",
       "\n",
       "    .dataframe tbody tr th {\n",
       "        vertical-align: top;\n",
       "    }\n",
       "\n",
       "    .dataframe thead th {\n",
       "        text-align: right;\n",
       "    }\n",
       "</style>\n",
       "<table border=\"1\" class=\"dataframe\">\n",
       "  <thead>\n",
       "    <tr style=\"text-align: right;\">\n",
       "      <th></th>\n",
       "      <th>modality</th>\n",
       "      <th>descriptor</th>\n",
       "      <th>freq_in_modality</th>\n",
       "      <th>context_window_length</th>\n",
       "    </tr>\n",
       "  </thead>\n",
       "  <tbody>\n",
       "    <tr>\n",
       "      <th>0</th>\n",
       "      <td>sight</td>\n",
       "      <td>((sir, NOUN),)</td>\n",
       "      <td>456</td>\n",
       "      <td>1</td>\n",
       "    </tr>\n",
       "    <tr>\n",
       "      <th>1</th>\n",
       "      <td>sight</td>\n",
       "      <td>((hands, NOUN),)</td>\n",
       "      <td>362</td>\n",
       "      <td>1</td>\n",
       "    </tr>\n",
       "    <tr>\n",
       "      <th>2</th>\n",
       "      <td>sight</td>\n",
       "      <td>((shading, VERB), (vivid, ADJ), (sunlight, NOUN))</td>\n",
       "      <td>4</td>\n",
       "      <td>3</td>\n",
       "    </tr>\n",
       "    <tr>\n",
       "      <th>3</th>\n",
       "      <td>sight</td>\n",
       "      <td>((bodily, ADV), (burst, VERB))</td>\n",
       "      <td>4</td>\n",
       "      <td>2</td>\n",
       "    </tr>\n",
       "    <tr>\n",
       "      <th>4</th>\n",
       "      <td>sight</td>\n",
       "      <td>((suddenly, ADV), (blue, ADJ), (plain, ADJ))</td>\n",
       "      <td>4</td>\n",
       "      <td>3</td>\n",
       "    </tr>\n",
       "  </tbody>\n",
       "</table>\n",
       "</div>"
      ],
      "text/plain": [
       "  modality                                         descriptor  \\\n",
       "0    sight                                     ((sir, NOUN),)   \n",
       "1    sight                                   ((hands, NOUN),)   \n",
       "2    sight  ((shading, VERB), (vivid, ADJ), (sunlight, NOUN))   \n",
       "3    sight                     ((bodily, ADV), (burst, VERB))   \n",
       "4    sight       ((suddenly, ADV), (blue, ADJ), (plain, ADJ))   \n",
       "\n",
       "  freq_in_modality context_window_length  \n",
       "0              456                     1  \n",
       "1              362                     1  \n",
       "2                4                     3  \n",
       "3                4                     2  \n",
       "4                4                     3  "
      ]
     },
     "execution_count": 72,
     "metadata": {},
     "output_type": "execute_result"
    }
   ],
   "source": [
    "phrases_df = pd.DataFrame(columns=['modality', 'descriptor', 'freq_in_modality', 'context_window_length'])\n",
    "for modality, lst in context_windows.items():\n",
    "    phrase_count = {}\n",
    "    descriptor_list = [[modality, tuple(phrase)] for phrase in lst]\n",
    "    for phrase in lst: \n",
    "        if tuple(phrase) in phrase_count:\n",
    "            phrase_count[tuple(phrase)] += 1\n",
    "        else:\n",
    "            phrase_count[tuple(phrase)] = 1 \n",
    "    final_descriptor_list = [descriptor_list[i] + [phrase_count[tuple(phrase)]] + [len(phrase)] for i, phrase in enumerate(lst)]\n",
    "    phrases_df = phrases_df.append(pd.DataFrame(final_descriptor_list, columns = ['modality', 'descriptor', 'freq_in_modality', 'context_window_length']))\n",
    "    phrases_df = phrases_df.reset_index(drop=True)\n",
    "phrases_df.head()"
   ]
  },
  {
   "cell_type": "code",
   "execution_count": 73,
   "id": "527301d1",
   "metadata": {},
   "outputs": [
    {
     "data": {
      "text/html": [
       "<div>\n",
       "<style scoped>\n",
       "    .dataframe tbody tr th:only-of-type {\n",
       "        vertical-align: middle;\n",
       "    }\n",
       "\n",
       "    .dataframe tbody tr th {\n",
       "        vertical-align: top;\n",
       "    }\n",
       "\n",
       "    .dataframe thead th {\n",
       "        text-align: right;\n",
       "    }\n",
       "</style>\n",
       "<table border=\"1\" class=\"dataframe\">\n",
       "  <thead>\n",
       "    <tr style=\"text-align: right;\">\n",
       "      <th></th>\n",
       "      <th>modality</th>\n",
       "      <th>descriptor</th>\n",
       "      <th>freq_in_modality</th>\n",
       "      <th>context_window_length</th>\n",
       "    </tr>\n",
       "  </thead>\n",
       "  <tbody>\n",
       "    <tr>\n",
       "      <th>155</th>\n",
       "      <td>sight</td>\n",
       "      <td>((said, VERB),)</td>\n",
       "      <td>4509</td>\n",
       "      <td>1</td>\n",
       "    </tr>\n",
       "    <tr>\n",
       "      <th>452</th>\n",
       "      <td>sight</td>\n",
       "      <td>((face, NOUN),)</td>\n",
       "      <td>2909</td>\n",
       "      <td>1</td>\n",
       "    </tr>\n",
       "    <tr>\n",
       "      <th>765</th>\n",
       "      <td>sight</td>\n",
       "      <td>((come, VERB),)</td>\n",
       "      <td>2147</td>\n",
       "      <td>1</td>\n",
       "    </tr>\n",
       "    <tr>\n",
       "      <th>172</th>\n",
       "      <td>sight</td>\n",
       "      <td>((eyes, NOUN),)</td>\n",
       "      <td>2141</td>\n",
       "      <td>1</td>\n",
       "    </tr>\n",
       "    <tr>\n",
       "      <th>139</th>\n",
       "      <td>sight</td>\n",
       "      <td>((let, VERB),)</td>\n",
       "      <td>2132</td>\n",
       "      <td>1</td>\n",
       "    </tr>\n",
       "    <tr>\n",
       "      <th>2210</th>\n",
       "      <td>sight</td>\n",
       "      <td>((man, NOUN),)</td>\n",
       "      <td>1883</td>\n",
       "      <td>1</td>\n",
       "    </tr>\n",
       "    <tr>\n",
       "      <th>189</th>\n",
       "      <td>sight</td>\n",
       "      <td>((shall, VERB),)</td>\n",
       "      <td>1772</td>\n",
       "      <td>1</td>\n",
       "    </tr>\n",
       "    <tr>\n",
       "      <th>264</th>\n",
       "      <td>sight</td>\n",
       "      <td>((time, NOUN),)</td>\n",
       "      <td>1593</td>\n",
       "      <td>1</td>\n",
       "    </tr>\n",
       "    <tr>\n",
       "      <th>422</th>\n",
       "      <td>sight</td>\n",
       "      <td>((saw, VERB),)</td>\n",
       "      <td>1514</td>\n",
       "      <td>1</td>\n",
       "    </tr>\n",
       "    <tr>\n",
       "      <th>625</th>\n",
       "      <td>sight</td>\n",
       "      <td>((glad, ADJ),)</td>\n",
       "      <td>1355</td>\n",
       "      <td>1</td>\n",
       "    </tr>\n",
       "    <tr>\n",
       "      <th>525</th>\n",
       "      <td>sight</td>\n",
       "      <td>((way, NOUN),)</td>\n",
       "      <td>1313</td>\n",
       "      <td>1</td>\n",
       "    </tr>\n",
       "    <tr>\n",
       "      <th>1148</th>\n",
       "      <td>sight</td>\n",
       "      <td>((moment, NOUN),)</td>\n",
       "      <td>1282</td>\n",
       "      <td>1</td>\n",
       "    </tr>\n",
       "    <tr>\n",
       "      <th>650</th>\n",
       "      <td>sight</td>\n",
       "      <td>((want, VERB),)</td>\n",
       "      <td>1274</td>\n",
       "      <td>1</td>\n",
       "    </tr>\n",
       "    <tr>\n",
       "      <th>3453</th>\n",
       "      <td>sight</td>\n",
       "      <td>((looked, VERB),)</td>\n",
       "      <td>1238</td>\n",
       "      <td>1</td>\n",
       "    </tr>\n",
       "    <tr>\n",
       "      <th>426</th>\n",
       "      <td>sight</td>\n",
       "      <td>((window, NOUN),)</td>\n",
       "      <td>1202</td>\n",
       "      <td>1</td>\n",
       "    </tr>\n",
       "    <tr>\n",
       "      <th>1785</th>\n",
       "      <td>sight</td>\n",
       "      <td>((turned, VERB),)</td>\n",
       "      <td>1081</td>\n",
       "      <td>1</td>\n",
       "    </tr>\n",
       "    <tr>\n",
       "      <th>669</th>\n",
       "      <td>sight</td>\n",
       "      <td>((stood, VERB),)</td>\n",
       "      <td>1055</td>\n",
       "      <td>1</td>\n",
       "    </tr>\n",
       "    <tr>\n",
       "      <th>487</th>\n",
       "      <td>sight</td>\n",
       "      <td>((came, VERB),)</td>\n",
       "      <td>1049</td>\n",
       "      <td>1</td>\n",
       "    </tr>\n",
       "    <tr>\n",
       "      <th>1418</th>\n",
       "      <td>sight</td>\n",
       "      <td>((like, VERB),)</td>\n",
       "      <td>1030</td>\n",
       "      <td>1</td>\n",
       "    </tr>\n",
       "    <tr>\n",
       "      <th>1164</th>\n",
       "      <td>sight</td>\n",
       "      <td>((day, NOUN),)</td>\n",
       "      <td>998</td>\n",
       "      <td>1</td>\n",
       "    </tr>\n",
       "  </tbody>\n",
       "</table>\n",
       "</div>"
      ],
      "text/plain": [
       "     modality         descriptor  freq_in_modality context_window_length\n",
       "155     sight    ((said, VERB),)              4509                     1\n",
       "452     sight    ((face, NOUN),)              2909                     1\n",
       "765     sight    ((come, VERB),)              2147                     1\n",
       "172     sight    ((eyes, NOUN),)              2141                     1\n",
       "139     sight     ((let, VERB),)              2132                     1\n",
       "2210    sight     ((man, NOUN),)              1883                     1\n",
       "189     sight   ((shall, VERB),)              1772                     1\n",
       "264     sight    ((time, NOUN),)              1593                     1\n",
       "422     sight     ((saw, VERB),)              1514                     1\n",
       "625     sight     ((glad, ADJ),)              1355                     1\n",
       "525     sight     ((way, NOUN),)              1313                     1\n",
       "1148    sight  ((moment, NOUN),)              1282                     1\n",
       "650     sight    ((want, VERB),)              1274                     1\n",
       "3453    sight  ((looked, VERB),)              1238                     1\n",
       "426     sight  ((window, NOUN),)              1202                     1\n",
       "1785    sight  ((turned, VERB),)              1081                     1\n",
       "669     sight   ((stood, VERB),)              1055                     1\n",
       "487     sight    ((came, VERB),)              1049                     1\n",
       "1418    sight    ((like, VERB),)              1030                     1\n",
       "1164    sight     ((day, NOUN),)               998                     1"
      ]
     },
     "metadata": {},
     "output_type": "display_data"
    },
    {
     "data": {
      "text/html": [
       "<div>\n",
       "<style scoped>\n",
       "    .dataframe tbody tr th:only-of-type {\n",
       "        vertical-align: middle;\n",
       "    }\n",
       "\n",
       "    .dataframe tbody tr th {\n",
       "        vertical-align: top;\n",
       "    }\n",
       "\n",
       "    .dataframe thead th {\n",
       "        text-align: right;\n",
       "    }\n",
       "</style>\n",
       "<table border=\"1\" class=\"dataframe\">\n",
       "  <thead>\n",
       "    <tr style=\"text-align: right;\">\n",
       "      <th></th>\n",
       "      <th>modality</th>\n",
       "      <th>descriptor</th>\n",
       "      <th>freq_in_modality</th>\n",
       "      <th>context_window_length</th>\n",
       "    </tr>\n",
       "  </thead>\n",
       "  <tbody>\n",
       "    <tr>\n",
       "      <th>785407</th>\n",
       "      <td>hear</td>\n",
       "      <td>((said, VERB),)</td>\n",
       "      <td>4969</td>\n",
       "      <td>1</td>\n",
       "    </tr>\n",
       "    <tr>\n",
       "      <th>785274</th>\n",
       "      <td>hear</td>\n",
       "      <td>((know, VERB),)</td>\n",
       "      <td>1727</td>\n",
       "      <td>1</td>\n",
       "    </tr>\n",
       "    <tr>\n",
       "      <th>786005</th>\n",
       "      <td>hear</td>\n",
       "      <td>((voice, NOUN),)</td>\n",
       "      <td>1566</td>\n",
       "      <td>1</td>\n",
       "    </tr>\n",
       "    <tr>\n",
       "      <th>785353</th>\n",
       "      <td>hear</td>\n",
       "      <td>((heard, VERB),)</td>\n",
       "      <td>1130</td>\n",
       "      <td>1</td>\n",
       "    </tr>\n",
       "    <tr>\n",
       "      <th>785495</th>\n",
       "      <td>hear</td>\n",
       "      <td>((low, ADJ),)</td>\n",
       "      <td>1041</td>\n",
       "      <td>1</td>\n",
       "    </tr>\n",
       "    <tr>\n",
       "      <th>785641</th>\n",
       "      <td>hear</td>\n",
       "      <td>((moment, NOUN),)</td>\n",
       "      <td>1004</td>\n",
       "      <td>1</td>\n",
       "    </tr>\n",
       "    <tr>\n",
       "      <th>785339</th>\n",
       "      <td>hear</td>\n",
       "      <td>((tell, VERB),)</td>\n",
       "      <td>980</td>\n",
       "      <td>1</td>\n",
       "    </tr>\n",
       "    <tr>\n",
       "      <th>785327</th>\n",
       "      <td>hear</td>\n",
       "      <td>((words, NOUN),)</td>\n",
       "      <td>943</td>\n",
       "      <td>1</td>\n",
       "    </tr>\n",
       "    <tr>\n",
       "      <th>786385</th>\n",
       "      <td>hear</td>\n",
       "      <td>((time, NOUN),)</td>\n",
       "      <td>874</td>\n",
       "      <td>1</td>\n",
       "    </tr>\n",
       "    <tr>\n",
       "      <th>785315</th>\n",
       "      <td>hear</td>\n",
       "      <td>((sound, NOUN),)</td>\n",
       "      <td>828</td>\n",
       "      <td>1</td>\n",
       "    </tr>\n",
       "    <tr>\n",
       "      <th>785340</th>\n",
       "      <td>hear</td>\n",
       "      <td>((hear, VERB),)</td>\n",
       "      <td>661</td>\n",
       "      <td>1</td>\n",
       "    </tr>\n",
       "    <tr>\n",
       "      <th>786381</th>\n",
       "      <td>hear</td>\n",
       "      <td>((asked, VERB),)</td>\n",
       "      <td>627</td>\n",
       "      <td>1</td>\n",
       "    </tr>\n",
       "    <tr>\n",
       "      <th>785663</th>\n",
       "      <td>hear</td>\n",
       "      <td>((word, NOUN),)</td>\n",
       "      <td>601</td>\n",
       "      <td>1</td>\n",
       "    </tr>\n",
       "    <tr>\n",
       "      <th>785360</th>\n",
       "      <td>hear</td>\n",
       "      <td>((let, VERB),)</td>\n",
       "      <td>586</td>\n",
       "      <td>1</td>\n",
       "    </tr>\n",
       "    <tr>\n",
       "      <th>785671</th>\n",
       "      <td>hear</td>\n",
       "      <td>((man, NOUN),)</td>\n",
       "      <td>563</td>\n",
       "      <td>1</td>\n",
       "    </tr>\n",
       "    <tr>\n",
       "      <th>785449</th>\n",
       "      <td>hear</td>\n",
       "      <td>((shall, VERB),)</td>\n",
       "      <td>540</td>\n",
       "      <td>1</td>\n",
       "    </tr>\n",
       "    <tr>\n",
       "      <th>785342</th>\n",
       "      <td>hear</td>\n",
       "      <td>((think, VERB),)</td>\n",
       "      <td>539</td>\n",
       "      <td>1</td>\n",
       "    </tr>\n",
       "    <tr>\n",
       "      <th>786421</th>\n",
       "      <td>hear</td>\n",
       "      <td>((speak, VERB),)</td>\n",
       "      <td>498</td>\n",
       "      <td>1</td>\n",
       "    </tr>\n",
       "    <tr>\n",
       "      <th>788332</th>\n",
       "      <td>hear</td>\n",
       "      <td>((knew, VERB),)</td>\n",
       "      <td>495</td>\n",
       "      <td>1</td>\n",
       "    </tr>\n",
       "    <tr>\n",
       "      <th>785441</th>\n",
       "      <td>hear</td>\n",
       "      <td>((answered, VERB),)</td>\n",
       "      <td>488</td>\n",
       "      <td>1</td>\n",
       "    </tr>\n",
       "  </tbody>\n",
       "</table>\n",
       "</div>"
      ],
      "text/plain": [
       "       modality           descriptor  freq_in_modality context_window_length\n",
       "785407     hear      ((said, VERB),)              4969                     1\n",
       "785274     hear      ((know, VERB),)              1727                     1\n",
       "786005     hear     ((voice, NOUN),)              1566                     1\n",
       "785353     hear     ((heard, VERB),)              1130                     1\n",
       "785495     hear        ((low, ADJ),)              1041                     1\n",
       "785641     hear    ((moment, NOUN),)              1004                     1\n",
       "785339     hear      ((tell, VERB),)               980                     1\n",
       "785327     hear     ((words, NOUN),)               943                     1\n",
       "786385     hear      ((time, NOUN),)               874                     1\n",
       "785315     hear     ((sound, NOUN),)               828                     1\n",
       "785340     hear      ((hear, VERB),)               661                     1\n",
       "786381     hear     ((asked, VERB),)               627                     1\n",
       "785663     hear      ((word, NOUN),)               601                     1\n",
       "785360     hear       ((let, VERB),)               586                     1\n",
       "785671     hear       ((man, NOUN),)               563                     1\n",
       "785449     hear     ((shall, VERB),)               540                     1\n",
       "785342     hear     ((think, VERB),)               539                     1\n",
       "786421     hear     ((speak, VERB),)               498                     1\n",
       "788332     hear      ((knew, VERB),)               495                     1\n",
       "785441     hear  ((answered, VERB),)               488                     1"
      ]
     },
     "metadata": {},
     "output_type": "display_data"
    },
    {
     "data": {
      "text/html": [
       "<div>\n",
       "<style scoped>\n",
       "    .dataframe tbody tr th:only-of-type {\n",
       "        vertical-align: middle;\n",
       "    }\n",
       "\n",
       "    .dataframe tbody tr th {\n",
       "        vertical-align: top;\n",
       "    }\n",
       "\n",
       "    .dataframe thead th {\n",
       "        text-align: right;\n",
       "    }\n",
       "</style>\n",
       "<table border=\"1\" class=\"dataframe\">\n",
       "  <thead>\n",
       "    <tr style=\"text-align: right;\">\n",
       "      <th></th>\n",
       "      <th>modality</th>\n",
       "      <th>descriptor</th>\n",
       "      <th>freq_in_modality</th>\n",
       "      <th>context_window_length</th>\n",
       "    </tr>\n",
       "  </thead>\n",
       "  <tbody>\n",
       "    <tr>\n",
       "      <th>1196739</th>\n",
       "      <td>touch</td>\n",
       "      <td>((hand, NOUN),)</td>\n",
       "      <td>1413</td>\n",
       "      <td>1</td>\n",
       "    </tr>\n",
       "    <tr>\n",
       "      <th>1196050</th>\n",
       "      <td>touch</td>\n",
       "      <td>((sure, ADJ),)</td>\n",
       "      <td>805</td>\n",
       "      <td>1</td>\n",
       "    </tr>\n",
       "    <tr>\n",
       "      <th>1195916</th>\n",
       "      <td>touch</td>\n",
       "      <td>((way, NOUN),)</td>\n",
       "      <td>753</td>\n",
       "      <td>1</td>\n",
       "    </tr>\n",
       "    <tr>\n",
       "      <th>1195969</th>\n",
       "      <td>touch</td>\n",
       "      <td>((time, NOUN),)</td>\n",
       "      <td>597</td>\n",
       "      <td>1</td>\n",
       "    </tr>\n",
       "    <tr>\n",
       "      <th>1196006</th>\n",
       "      <td>touch</td>\n",
       "      <td>((said, VERB),)</td>\n",
       "      <td>589</td>\n",
       "      <td>1</td>\n",
       "    </tr>\n",
       "    <tr>\n",
       "      <th>1195973</th>\n",
       "      <td>touch</td>\n",
       "      <td>((know, VERB),)</td>\n",
       "      <td>527</td>\n",
       "      <td>1</td>\n",
       "    </tr>\n",
       "    <tr>\n",
       "      <th>1196053</th>\n",
       "      <td>touch</td>\n",
       "      <td>((hands, NOUN),)</td>\n",
       "      <td>522</td>\n",
       "      <td>1</td>\n",
       "    </tr>\n",
       "    <tr>\n",
       "      <th>1196905</th>\n",
       "      <td>touch</td>\n",
       "      <td>((man, NOUN),)</td>\n",
       "      <td>439</td>\n",
       "      <td>1</td>\n",
       "    </tr>\n",
       "    <tr>\n",
       "      <th>1197078</th>\n",
       "      <td>touch</td>\n",
       "      <td>((lips, NOUN),)</td>\n",
       "      <td>435</td>\n",
       "      <td>1</td>\n",
       "    </tr>\n",
       "    <tr>\n",
       "      <th>1196150</th>\n",
       "      <td>touch</td>\n",
       "      <td>((heart, NOUN),)</td>\n",
       "      <td>430</td>\n",
       "      <td>1</td>\n",
       "    </tr>\n",
       "    <tr>\n",
       "      <th>1196520</th>\n",
       "      <td>touch</td>\n",
       "      <td>((face, NOUN),)</td>\n",
       "      <td>303</td>\n",
       "      <td>1</td>\n",
       "    </tr>\n",
       "    <tr>\n",
       "      <th>1197848</th>\n",
       "      <td>touch</td>\n",
       "      <td>((door, NOUN),)</td>\n",
       "      <td>284</td>\n",
       "      <td>1</td>\n",
       "    </tr>\n",
       "    <tr>\n",
       "      <th>1198015</th>\n",
       "      <td>touch</td>\n",
       "      <td>((sorry, ADJ),)</td>\n",
       "      <td>277</td>\n",
       "      <td>1</td>\n",
       "    </tr>\n",
       "    <tr>\n",
       "      <th>1197974</th>\n",
       "      <td>touch</td>\n",
       "      <td>((little, ADJ),)</td>\n",
       "      <td>274</td>\n",
       "      <td>1</td>\n",
       "    </tr>\n",
       "    <tr>\n",
       "      <th>1196601</th>\n",
       "      <td>touch</td>\n",
       "      <td>((better, ADJ),)</td>\n",
       "      <td>273</td>\n",
       "      <td>1</td>\n",
       "    </tr>\n",
       "    <tr>\n",
       "      <th>1197017</th>\n",
       "      <td>touch</td>\n",
       "      <td>((head, NOUN),)</td>\n",
       "      <td>256</td>\n",
       "      <td>1</td>\n",
       "    </tr>\n",
       "    <tr>\n",
       "      <th>1196242</th>\n",
       "      <td>touch</td>\n",
       "      <td>((arm, NOUN),)</td>\n",
       "      <td>255</td>\n",
       "      <td>1</td>\n",
       "    </tr>\n",
       "    <tr>\n",
       "      <th>1197669</th>\n",
       "      <td>touch</td>\n",
       "      <td>((ought, VERB),)</td>\n",
       "      <td>249</td>\n",
       "      <td>1</td>\n",
       "    </tr>\n",
       "    <tr>\n",
       "      <th>1196786</th>\n",
       "      <td>touch</td>\n",
       "      <td>((point, NOUN),)</td>\n",
       "      <td>245</td>\n",
       "      <td>1</td>\n",
       "    </tr>\n",
       "    <tr>\n",
       "      <th>1195981</th>\n",
       "      <td>touch</td>\n",
       "      <td>((eyes, NOUN),)</td>\n",
       "      <td>243</td>\n",
       "      <td>1</td>\n",
       "    </tr>\n",
       "  </tbody>\n",
       "</table>\n",
       "</div>"
      ],
      "text/plain": [
       "        modality        descriptor  freq_in_modality context_window_length\n",
       "1196739    touch   ((hand, NOUN),)              1413                     1\n",
       "1196050    touch    ((sure, ADJ),)               805                     1\n",
       "1195916    touch    ((way, NOUN),)               753                     1\n",
       "1195969    touch   ((time, NOUN),)               597                     1\n",
       "1196006    touch   ((said, VERB),)               589                     1\n",
       "1195973    touch   ((know, VERB),)               527                     1\n",
       "1196053    touch  ((hands, NOUN),)               522                     1\n",
       "1196905    touch    ((man, NOUN),)               439                     1\n",
       "1197078    touch   ((lips, NOUN),)               435                     1\n",
       "1196150    touch  ((heart, NOUN),)               430                     1\n",
       "1196520    touch   ((face, NOUN),)               303                     1\n",
       "1197848    touch   ((door, NOUN),)               284                     1\n",
       "1198015    touch   ((sorry, ADJ),)               277                     1\n",
       "1197974    touch  ((little, ADJ),)               274                     1\n",
       "1196601    touch  ((better, ADJ),)               273                     1\n",
       "1197017    touch   ((head, NOUN),)               256                     1\n",
       "1196242    touch    ((arm, NOUN),)               255                     1\n",
       "1197669    touch  ((ought, VERB),)               249                     1\n",
       "1196786    touch  ((point, NOUN),)               245                     1\n",
       "1195981    touch   ((eyes, NOUN),)               243                     1"
      ]
     },
     "metadata": {},
     "output_type": "display_data"
    },
    {
     "data": {
      "text/html": [
       "<div>\n",
       "<style scoped>\n",
       "    .dataframe tbody tr th:only-of-type {\n",
       "        vertical-align: middle;\n",
       "    }\n",
       "\n",
       "    .dataframe tbody tr th {\n",
       "        vertical-align: top;\n",
       "    }\n",
       "\n",
       "    .dataframe thead th {\n",
       "        text-align: right;\n",
       "    }\n",
       "</style>\n",
       "<table border=\"1\" class=\"dataframe\">\n",
       "  <thead>\n",
       "    <tr style=\"text-align: right;\">\n",
       "      <th></th>\n",
       "      <th>modality</th>\n",
       "      <th>descriptor</th>\n",
       "      <th>freq_in_modality</th>\n",
       "      <th>context_window_length</th>\n",
       "    </tr>\n",
       "  </thead>\n",
       "  <tbody>\n",
       "    <tr>\n",
       "      <th>1488567</th>\n",
       "      <td>taste</td>\n",
       "      <td>((said, VERB),)</td>\n",
       "      <td>737</td>\n",
       "      <td>1</td>\n",
       "    </tr>\n",
       "    <tr>\n",
       "      <th>1489155</th>\n",
       "      <td>taste</td>\n",
       "      <td>((good, ADJ),)</td>\n",
       "      <td>217</td>\n",
       "      <td>1</td>\n",
       "    </tr>\n",
       "    <tr>\n",
       "      <th>1489466</th>\n",
       "      <td>taste</td>\n",
       "      <td>((little, ADJ),)</td>\n",
       "      <td>187</td>\n",
       "      <td>1</td>\n",
       "    </tr>\n",
       "    <tr>\n",
       "      <th>1491547</th>\n",
       "      <td>taste</td>\n",
       "      <td>((drink, VERB),)</td>\n",
       "      <td>151</td>\n",
       "      <td>1</td>\n",
       "    </tr>\n",
       "    <tr>\n",
       "      <th>1488846</th>\n",
       "      <td>taste</td>\n",
       "      <td>((dinner, NOUN),)</td>\n",
       "      <td>140</td>\n",
       "      <td>1</td>\n",
       "    </tr>\n",
       "    <tr>\n",
       "      <th>1492034</th>\n",
       "      <td>taste</td>\n",
       "      <td>((day, NOUN),)</td>\n",
       "      <td>123</td>\n",
       "      <td>1</td>\n",
       "    </tr>\n",
       "    <tr>\n",
       "      <th>1488560</th>\n",
       "      <td>taste</td>\n",
       "      <td>((food, NOUN),)</td>\n",
       "      <td>117</td>\n",
       "      <td>1</td>\n",
       "    </tr>\n",
       "    <tr>\n",
       "      <th>1489864</th>\n",
       "      <td>taste</td>\n",
       "      <td>((bread, NOUN),)</td>\n",
       "      <td>94</td>\n",
       "      <td>1</td>\n",
       "    </tr>\n",
       "    <tr>\n",
       "      <th>1488519</th>\n",
       "      <td>taste</td>\n",
       "      <td>((eat, VERB),)</td>\n",
       "      <td>93</td>\n",
       "      <td>1</td>\n",
       "    </tr>\n",
       "    <tr>\n",
       "      <th>1489213</th>\n",
       "      <td>taste</td>\n",
       "      <td>((smile, NOUN),)</td>\n",
       "      <td>93</td>\n",
       "      <td>1</td>\n",
       "    </tr>\n",
       "    <tr>\n",
       "      <th>1491203</th>\n",
       "      <td>taste</td>\n",
       "      <td>((breakfast, NOUN),)</td>\n",
       "      <td>93</td>\n",
       "      <td>1</td>\n",
       "    </tr>\n",
       "    <tr>\n",
       "      <th>1488985</th>\n",
       "      <td>taste</td>\n",
       "      <td>((time, NOUN),)</td>\n",
       "      <td>90</td>\n",
       "      <td>1</td>\n",
       "    </tr>\n",
       "    <tr>\n",
       "      <th>1489639</th>\n",
       "      <td>taste</td>\n",
       "      <td>((man, NOUN),)</td>\n",
       "      <td>87</td>\n",
       "      <td>1</td>\n",
       "    </tr>\n",
       "    <tr>\n",
       "      <th>1488606</th>\n",
       "      <td>taste</td>\n",
       "      <td>((drank, VERB),)</td>\n",
       "      <td>83</td>\n",
       "      <td>1</td>\n",
       "    </tr>\n",
       "    <tr>\n",
       "      <th>1494437</th>\n",
       "      <td>taste</td>\n",
       "      <td>((answered, VERB),)</td>\n",
       "      <td>83</td>\n",
       "      <td>1</td>\n",
       "    </tr>\n",
       "    <tr>\n",
       "      <th>1490035</th>\n",
       "      <td>taste</td>\n",
       "      <td>((smiled, VERB),)</td>\n",
       "      <td>80</td>\n",
       "      <td>1</td>\n",
       "    </tr>\n",
       "    <tr>\n",
       "      <th>1489925</th>\n",
       "      <td>taste</td>\n",
       "      <td>((heart, NOUN),)</td>\n",
       "      <td>76</td>\n",
       "      <td>1</td>\n",
       "    </tr>\n",
       "    <tr>\n",
       "      <th>1489307</th>\n",
       "      <td>taste</td>\n",
       "      <td>((supper, NOUN),)</td>\n",
       "      <td>73</td>\n",
       "      <td>1</td>\n",
       "    </tr>\n",
       "    <tr>\n",
       "      <th>1488711</th>\n",
       "      <td>taste</td>\n",
       "      <td>((life, NOUN),)</td>\n",
       "      <td>71</td>\n",
       "      <td>1</td>\n",
       "    </tr>\n",
       "    <tr>\n",
       "      <th>1490067</th>\n",
       "      <td>taste</td>\n",
       "      <td>((added, VERB),)</td>\n",
       "      <td>71</td>\n",
       "      <td>1</td>\n",
       "    </tr>\n",
       "  </tbody>\n",
       "</table>\n",
       "</div>"
      ],
      "text/plain": [
       "        modality            descriptor  freq_in_modality context_window_length\n",
       "1488567    taste       ((said, VERB),)               737                     1\n",
       "1489155    taste        ((good, ADJ),)               217                     1\n",
       "1489466    taste      ((little, ADJ),)               187                     1\n",
       "1491547    taste      ((drink, VERB),)               151                     1\n",
       "1488846    taste     ((dinner, NOUN),)               140                     1\n",
       "1492034    taste        ((day, NOUN),)               123                     1\n",
       "1488560    taste       ((food, NOUN),)               117                     1\n",
       "1489864    taste      ((bread, NOUN),)                94                     1\n",
       "1488519    taste        ((eat, VERB),)                93                     1\n",
       "1489213    taste      ((smile, NOUN),)                93                     1\n",
       "1491203    taste  ((breakfast, NOUN),)                93                     1\n",
       "1488985    taste       ((time, NOUN),)                90                     1\n",
       "1489639    taste        ((man, NOUN),)                87                     1\n",
       "1488606    taste      ((drank, VERB),)                83                     1\n",
       "1494437    taste   ((answered, VERB),)                83                     1\n",
       "1490035    taste     ((smiled, VERB),)                80                     1\n",
       "1489925    taste      ((heart, NOUN),)                76                     1\n",
       "1489307    taste     ((supper, NOUN),)                73                     1\n",
       "1488711    taste       ((life, NOUN),)                71                     1\n",
       "1490067    taste      ((added, VERB),)                71                     1"
      ]
     },
     "metadata": {},
     "output_type": "display_data"
    },
    {
     "data": {
      "text/html": [
       "<div>\n",
       "<style scoped>\n",
       "    .dataframe tbody tr th:only-of-type {\n",
       "        vertical-align: middle;\n",
       "    }\n",
       "\n",
       "    .dataframe tbody tr th {\n",
       "        vertical-align: top;\n",
       "    }\n",
       "\n",
       "    .dataframe thead th {\n",
       "        text-align: right;\n",
       "    }\n",
       "</style>\n",
       "<table border=\"1\" class=\"dataframe\">\n",
       "  <thead>\n",
       "    <tr style=\"text-align: right;\">\n",
       "      <th></th>\n",
       "      <th>modality</th>\n",
       "      <th>descriptor</th>\n",
       "      <th>freq_in_modality</th>\n",
       "      <th>context_window_length</th>\n",
       "    </tr>\n",
       "  </thead>\n",
       "  <tbody>\n",
       "    <tr>\n",
       "      <th>1574877</th>\n",
       "      <td>smell</td>\n",
       "      <td>((air, NOUN),)</td>\n",
       "      <td>148</td>\n",
       "      <td>1</td>\n",
       "    </tr>\n",
       "    <tr>\n",
       "      <th>1574765</th>\n",
       "      <td>smell</td>\n",
       "      <td>((pipe, NOUN),)</td>\n",
       "      <td>123</td>\n",
       "      <td>1</td>\n",
       "    </tr>\n",
       "    <tr>\n",
       "      <th>1574920</th>\n",
       "      <td>smell</td>\n",
       "      <td>((freely, ADV),)</td>\n",
       "      <td>114</td>\n",
       "      <td>1</td>\n",
       "    </tr>\n",
       "    <tr>\n",
       "      <th>1575016</th>\n",
       "      <td>smell</td>\n",
       "      <td>((room, NOUN),)</td>\n",
       "      <td>108</td>\n",
       "      <td>1</td>\n",
       "    </tr>\n",
       "    <tr>\n",
       "      <th>1574700</th>\n",
       "      <td>smell</td>\n",
       "      <td>((said, VERB),)</td>\n",
       "      <td>98</td>\n",
       "      <td>1</td>\n",
       "    </tr>\n",
       "    <tr>\n",
       "      <th>1575168</th>\n",
       "      <td>smell</td>\n",
       "      <td>((word, NOUN),)</td>\n",
       "      <td>83</td>\n",
       "      <td>1</td>\n",
       "    </tr>\n",
       "    <tr>\n",
       "      <th>1574918</th>\n",
       "      <td>smell</td>\n",
       "      <td>((cigar, NOUN),)</td>\n",
       "      <td>79</td>\n",
       "      <td>1</td>\n",
       "    </tr>\n",
       "    <tr>\n",
       "      <th>1574737</th>\n",
       "      <td>smell</td>\n",
       "      <td>((cigarette, NOUN),)</td>\n",
       "      <td>71</td>\n",
       "      <td>1</td>\n",
       "    </tr>\n",
       "    <tr>\n",
       "      <th>1574833</th>\n",
       "      <td>smell</td>\n",
       "      <td>((fire, NOUN),)</td>\n",
       "      <td>62</td>\n",
       "      <td>1</td>\n",
       "    </tr>\n",
       "    <tr>\n",
       "      <th>1575550</th>\n",
       "      <td>smell</td>\n",
       "      <td>((hardly, ADV),)</td>\n",
       "      <td>52</td>\n",
       "      <td>1</td>\n",
       "    </tr>\n",
       "    <tr>\n",
       "      <th>1574806</th>\n",
       "      <td>smell</td>\n",
       "      <td>((good, ADJ),)</td>\n",
       "      <td>50</td>\n",
       "      <td>1</td>\n",
       "    </tr>\n",
       "    <tr>\n",
       "      <th>1575251</th>\n",
       "      <td>smell</td>\n",
       "      <td>((flowers, NOUN),)</td>\n",
       "      <td>48</td>\n",
       "      <td>1</td>\n",
       "    </tr>\n",
       "    <tr>\n",
       "      <th>1574608</th>\n",
       "      <td>smell</td>\n",
       "      <td>((time, NOUN),)</td>\n",
       "      <td>44</td>\n",
       "      <td>1</td>\n",
       "    </tr>\n",
       "    <tr>\n",
       "      <th>1576036</th>\n",
       "      <td>smell</td>\n",
       "      <td>((smoke, NOUN),)</td>\n",
       "      <td>44</td>\n",
       "      <td>1</td>\n",
       "    </tr>\n",
       "    <tr>\n",
       "      <th>1575052</th>\n",
       "      <td>smell</td>\n",
       "      <td>((man, NOUN),)</td>\n",
       "      <td>43</td>\n",
       "      <td>1</td>\n",
       "    </tr>\n",
       "    <tr>\n",
       "      <th>1574655</th>\n",
       "      <td>smell</td>\n",
       "      <td>((hear, VERB),)</td>\n",
       "      <td>42</td>\n",
       "      <td>1</td>\n",
       "    </tr>\n",
       "    <tr>\n",
       "      <th>1575498</th>\n",
       "      <td>smell</td>\n",
       "      <td>((little, ADJ),)</td>\n",
       "      <td>42</td>\n",
       "      <td>1</td>\n",
       "    </tr>\n",
       "    <tr>\n",
       "      <th>1574602</th>\n",
       "      <td>smell</td>\n",
       "      <td>((came, VERB),)</td>\n",
       "      <td>40</td>\n",
       "      <td>1</td>\n",
       "    </tr>\n",
       "    <tr>\n",
       "      <th>1575349</th>\n",
       "      <td>smell</td>\n",
       "      <td>((turned, VERB),)</td>\n",
       "      <td>40</td>\n",
       "      <td>1</td>\n",
       "    </tr>\n",
       "    <tr>\n",
       "      <th>1574601</th>\n",
       "      <td>smell</td>\n",
       "      <td>((began, VERB),)</td>\n",
       "      <td>39</td>\n",
       "      <td>1</td>\n",
       "    </tr>\n",
       "  </tbody>\n",
       "</table>\n",
       "</div>"
      ],
      "text/plain": [
       "        modality            descriptor  freq_in_modality context_window_length\n",
       "1574877    smell        ((air, NOUN),)               148                     1\n",
       "1574765    smell       ((pipe, NOUN),)               123                     1\n",
       "1574920    smell      ((freely, ADV),)               114                     1\n",
       "1575016    smell       ((room, NOUN),)               108                     1\n",
       "1574700    smell       ((said, VERB),)                98                     1\n",
       "1575168    smell       ((word, NOUN),)                83                     1\n",
       "1574918    smell      ((cigar, NOUN),)                79                     1\n",
       "1574737    smell  ((cigarette, NOUN),)                71                     1\n",
       "1574833    smell       ((fire, NOUN),)                62                     1\n",
       "1575550    smell      ((hardly, ADV),)                52                     1\n",
       "1574806    smell        ((good, ADJ),)                50                     1\n",
       "1575251    smell    ((flowers, NOUN),)                48                     1\n",
       "1574608    smell       ((time, NOUN),)                44                     1\n",
       "1576036    smell      ((smoke, NOUN),)                44                     1\n",
       "1575052    smell        ((man, NOUN),)                43                     1\n",
       "1574655    smell       ((hear, VERB),)                42                     1\n",
       "1575498    smell      ((little, ADJ),)                42                     1\n",
       "1574602    smell       ((came, VERB),)                40                     1\n",
       "1575349    smell     ((turned, VERB),)                40                     1\n",
       "1574601    smell      ((began, VERB),)                39                     1"
      ]
     },
     "metadata": {},
     "output_type": "display_data"
    },
    {
     "data": {
      "text/html": [
       "<div>\n",
       "<style scoped>\n",
       "    .dataframe tbody tr th:only-of-type {\n",
       "        vertical-align: middle;\n",
       "    }\n",
       "\n",
       "    .dataframe tbody tr th {\n",
       "        vertical-align: top;\n",
       "    }\n",
       "\n",
       "    .dataframe thead th {\n",
       "        text-align: right;\n",
       "    }\n",
       "</style>\n",
       "<table border=\"1\" class=\"dataframe\">\n",
       "  <thead>\n",
       "    <tr style=\"text-align: right;\">\n",
       "      <th></th>\n",
       "      <th>modality</th>\n",
       "      <th>descriptor</th>\n",
       "      <th>freq_in_modality</th>\n",
       "      <th>context_window_length</th>\n",
       "    </tr>\n",
       "  </thead>\n",
       "  <tbody>\n",
       "    <tr>\n",
       "      <th>155</th>\n",
       "      <td>sight</td>\n",
       "      <td>((said, VERB),)</td>\n",
       "      <td>4509</td>\n",
       "      <td>1</td>\n",
       "    </tr>\n",
       "    <tr>\n",
       "      <th>452</th>\n",
       "      <td>sight</td>\n",
       "      <td>((face, NOUN),)</td>\n",
       "      <td>2909</td>\n",
       "      <td>1</td>\n",
       "    </tr>\n",
       "    <tr>\n",
       "      <th>765</th>\n",
       "      <td>sight</td>\n",
       "      <td>((come, VERB),)</td>\n",
       "      <td>2147</td>\n",
       "      <td>1</td>\n",
       "    </tr>\n",
       "    <tr>\n",
       "      <th>172</th>\n",
       "      <td>sight</td>\n",
       "      <td>((eyes, NOUN),)</td>\n",
       "      <td>2141</td>\n",
       "      <td>1</td>\n",
       "    </tr>\n",
       "    <tr>\n",
       "      <th>139</th>\n",
       "      <td>sight</td>\n",
       "      <td>((let, VERB),)</td>\n",
       "      <td>2132</td>\n",
       "      <td>1</td>\n",
       "    </tr>\n",
       "  </tbody>\n",
       "</table>\n",
       "</div>"
      ],
      "text/plain": [
       "    modality       descriptor  freq_in_modality context_window_length\n",
       "155    sight  ((said, VERB),)              4509                     1\n",
       "452    sight  ((face, NOUN),)              2909                     1\n",
       "765    sight  ((come, VERB),)              2147                     1\n",
       "172    sight  ((eyes, NOUN),)              2141                     1\n",
       "139    sight   ((let, VERB),)              2132                     1"
      ]
     },
     "execution_count": 73,
     "metadata": {},
     "output_type": "execute_result"
    }
   ],
   "source": [
    "phrases_df['freq_in_modality'] = phrases_df['freq_in_modality'].astype(int)\n",
    "frames = []\n",
    "for modality in context_windows.keys():\n",
    "    subset = phrases_df.loc[(phrases_df['modality'] == modality)].drop_duplicates()\n",
    "    subset = subset.nlargest(20,'freq_in_modality')\n",
    "    frames.append(subset)\n",
    "    display(subset)\n",
    "top_phrases_df = pd.concat(frames)\n",
    "top_phrases_df.head()"
   ]
  },
  {
   "cell_type": "code",
   "execution_count": 74,
   "id": "00edeb1a",
   "metadata": {},
   "outputs": [],
   "source": [
    "phrase_vectors = get_word_vectors(model, top_phrases_df)"
   ]
  },
  {
   "cell_type": "code",
   "execution_count": 75,
   "id": "b9691f32",
   "metadata": {
    "scrolled": false
   },
   "outputs": [
    {
     "name": "stderr",
     "output_type": "stream",
     "text": [
      "100%|██████████| 100/100 [00:00<00:00, 417.67it/s]\n"
     ]
    }
   ],
   "source": [
    "similarity_matrix = get_similarity_matrix(phrase_vectors)"
   ]
  },
  {
   "cell_type": "code",
   "execution_count": 76,
   "id": "bb13814a",
   "metadata": {},
   "outputs": [],
   "source": [
    "pca = run_pca(similarity_matrix, 2)"
   ]
  },
  {
   "cell_type": "code",
   "execution_count": 77,
   "id": "39349647",
   "metadata": {},
   "outputs": [],
   "source": [
    "principalDf = pd.DataFrame(data = pca, columns = ['principal component 1', 'principal component 2'])"
   ]
  },
  {
   "cell_type": "code",
   "execution_count": 78,
   "id": "b037fb65",
   "metadata": {},
   "outputs": [
    {
     "data": {
      "text/plain": [
       "(100, 2)"
      ]
     },
     "execution_count": 78,
     "metadata": {},
     "output_type": "execute_result"
    }
   ],
   "source": [
    "principalDf.shape"
   ]
  },
  {
   "cell_type": "code",
   "execution_count": 79,
   "id": "5ebb0990",
   "metadata": {},
   "outputs": [
    {
     "data": {
      "text/html": [
       "<div>\n",
       "<style scoped>\n",
       "    .dataframe tbody tr th:only-of-type {\n",
       "        vertical-align: middle;\n",
       "    }\n",
       "\n",
       "    .dataframe tbody tr th {\n",
       "        vertical-align: top;\n",
       "    }\n",
       "\n",
       "    .dataframe thead th {\n",
       "        text-align: right;\n",
       "    }\n",
       "</style>\n",
       "<table border=\"1\" class=\"dataframe\">\n",
       "  <thead>\n",
       "    <tr style=\"text-align: right;\">\n",
       "      <th></th>\n",
       "      <th>modality</th>\n",
       "      <th>descriptor</th>\n",
       "      <th>freq_in_modality</th>\n",
       "      <th>context_window_length</th>\n",
       "    </tr>\n",
       "  </thead>\n",
       "  <tbody>\n",
       "    <tr>\n",
       "      <th>0</th>\n",
       "      <td>sight</td>\n",
       "      <td>((said, VERB),)</td>\n",
       "      <td>4509</td>\n",
       "      <td>1</td>\n",
       "    </tr>\n",
       "    <tr>\n",
       "      <th>1</th>\n",
       "      <td>sight</td>\n",
       "      <td>((face, NOUN),)</td>\n",
       "      <td>2909</td>\n",
       "      <td>1</td>\n",
       "    </tr>\n",
       "    <tr>\n",
       "      <th>2</th>\n",
       "      <td>sight</td>\n",
       "      <td>((come, VERB),)</td>\n",
       "      <td>2147</td>\n",
       "      <td>1</td>\n",
       "    </tr>\n",
       "    <tr>\n",
       "      <th>3</th>\n",
       "      <td>sight</td>\n",
       "      <td>((eyes, NOUN),)</td>\n",
       "      <td>2141</td>\n",
       "      <td>1</td>\n",
       "    </tr>\n",
       "    <tr>\n",
       "      <th>4</th>\n",
       "      <td>sight</td>\n",
       "      <td>((let, VERB),)</td>\n",
       "      <td>2132</td>\n",
       "      <td>1</td>\n",
       "    </tr>\n",
       "    <tr>\n",
       "      <th>...</th>\n",
       "      <td>...</td>\n",
       "      <td>...</td>\n",
       "      <td>...</td>\n",
       "      <td>...</td>\n",
       "    </tr>\n",
       "    <tr>\n",
       "      <th>95</th>\n",
       "      <td>smell</td>\n",
       "      <td>((hear, VERB),)</td>\n",
       "      <td>42</td>\n",
       "      <td>1</td>\n",
       "    </tr>\n",
       "    <tr>\n",
       "      <th>96</th>\n",
       "      <td>smell</td>\n",
       "      <td>((little, ADJ),)</td>\n",
       "      <td>42</td>\n",
       "      <td>1</td>\n",
       "    </tr>\n",
       "    <tr>\n",
       "      <th>97</th>\n",
       "      <td>smell</td>\n",
       "      <td>((came, VERB),)</td>\n",
       "      <td>40</td>\n",
       "      <td>1</td>\n",
       "    </tr>\n",
       "    <tr>\n",
       "      <th>98</th>\n",
       "      <td>smell</td>\n",
       "      <td>((turned, VERB),)</td>\n",
       "      <td>40</td>\n",
       "      <td>1</td>\n",
       "    </tr>\n",
       "    <tr>\n",
       "      <th>99</th>\n",
       "      <td>smell</td>\n",
       "      <td>((began, VERB),)</td>\n",
       "      <td>39</td>\n",
       "      <td>1</td>\n",
       "    </tr>\n",
       "  </tbody>\n",
       "</table>\n",
       "<p>100 rows × 4 columns</p>\n",
       "</div>"
      ],
      "text/plain": [
       "   modality         descriptor  freq_in_modality context_window_length\n",
       "0     sight    ((said, VERB),)              4509                     1\n",
       "1     sight    ((face, NOUN),)              2909                     1\n",
       "2     sight    ((come, VERB),)              2147                     1\n",
       "3     sight    ((eyes, NOUN),)              2141                     1\n",
       "4     sight     ((let, VERB),)              2132                     1\n",
       "..      ...                ...               ...                   ...\n",
       "95    smell    ((hear, VERB),)                42                     1\n",
       "96    smell   ((little, ADJ),)                42                     1\n",
       "97    smell    ((came, VERB),)                40                     1\n",
       "98    smell  ((turned, VERB),)                40                     1\n",
       "99    smell   ((began, VERB),)                39                     1\n",
       "\n",
       "[100 rows x 4 columns]"
      ]
     },
     "metadata": {},
     "output_type": "display_data"
    },
    {
     "data": {
      "text/html": [
       "<div>\n",
       "<style scoped>\n",
       "    .dataframe tbody tr th:only-of-type {\n",
       "        vertical-align: middle;\n",
       "    }\n",
       "\n",
       "    .dataframe tbody tr th {\n",
       "        vertical-align: top;\n",
       "    }\n",
       "\n",
       "    .dataframe thead th {\n",
       "        text-align: right;\n",
       "    }\n",
       "</style>\n",
       "<table border=\"1\" class=\"dataframe\">\n",
       "  <thead>\n",
       "    <tr style=\"text-align: right;\">\n",
       "      <th></th>\n",
       "      <th>principal component 1</th>\n",
       "      <th>principal component 2</th>\n",
       "      <th>descriptor</th>\n",
       "      <th>modality</th>\n",
       "      <th>freq_in_modality</th>\n",
       "    </tr>\n",
       "  </thead>\n",
       "  <tbody>\n",
       "    <tr>\n",
       "      <th>0</th>\n",
       "      <td>-5.277940</td>\n",
       "      <td>-0.439259</td>\n",
       "      <td>((said, VERB),)</td>\n",
       "      <td>sight</td>\n",
       "      <td>4509</td>\n",
       "    </tr>\n",
       "    <tr>\n",
       "      <th>1</th>\n",
       "      <td>-9.878849</td>\n",
       "      <td>-0.511935</td>\n",
       "      <td>((face, NOUN),)</td>\n",
       "      <td>sight</td>\n",
       "      <td>2909</td>\n",
       "    </tr>\n",
       "    <tr>\n",
       "      <th>2</th>\n",
       "      <td>6.699184</td>\n",
       "      <td>-2.603500</td>\n",
       "      <td>((come, VERB),)</td>\n",
       "      <td>sight</td>\n",
       "      <td>2147</td>\n",
       "    </tr>\n",
       "    <tr>\n",
       "      <th>3</th>\n",
       "      <td>-2.978911</td>\n",
       "      <td>-7.329702</td>\n",
       "      <td>((eyes, NOUN),)</td>\n",
       "      <td>sight</td>\n",
       "      <td>2141</td>\n",
       "    </tr>\n",
       "    <tr>\n",
       "      <th>4</th>\n",
       "      <td>6.471551</td>\n",
       "      <td>-0.368275</td>\n",
       "      <td>((let, VERB),)</td>\n",
       "      <td>sight</td>\n",
       "      <td>2132</td>\n",
       "    </tr>\n",
       "  </tbody>\n",
       "</table>\n",
       "</div>"
      ],
      "text/plain": [
       "   principal component 1  principal component 2       descriptor modality  \\\n",
       "0              -5.277940              -0.439259  ((said, VERB),)    sight   \n",
       "1              -9.878849              -0.511935  ((face, NOUN),)    sight   \n",
       "2               6.699184              -2.603500  ((come, VERB),)    sight   \n",
       "3              -2.978911              -7.329702  ((eyes, NOUN),)    sight   \n",
       "4               6.471551              -0.368275   ((let, VERB),)    sight   \n",
       "\n",
       "   freq_in_modality  \n",
       "0              4509  \n",
       "1              2909  \n",
       "2              2147  \n",
       "3              2141  \n",
       "4              2132  "
      ]
     },
     "execution_count": 79,
     "metadata": {},
     "output_type": "execute_result"
    }
   ],
   "source": [
    "top_phrases_df = top_phrases_df.reset_index(drop=True)\n",
    "display(top_phrases_df)\n",
    "finalDf = pd.concat([principalDf, top_phrases_df[['descriptor', 'modality', 'freq_in_modality']]], axis = 1)\n",
    "finalDf.head()"
   ]
  },
  {
   "cell_type": "code",
   "execution_count": 80,
   "id": "20464ab6",
   "metadata": {},
   "outputs": [
    {
     "data": {
      "text/plain": [
       "Index(['principal component 1', 'principal component 2', 'descriptor'], dtype='object')"
      ]
     },
     "execution_count": 80,
     "metadata": {},
     "output_type": "execute_result"
    }
   ],
   "source": [
    "finalDf.columns[:-1 * 2]"
   ]
  },
  {
   "cell_type": "code",
   "execution_count": 81,
   "id": "21717953",
   "metadata": {},
   "outputs": [
    {
     "data": {
      "application/vnd.plotly.v1+json": {
       "config": {
        "plotlyServerURL": "https://plot.ly"
       },
       "data": [
        {
         "customdata": [
          [
           -5.277939638285236,
           -0.4392587659580755,
           [
            [
             "said",
             "VERB"
            ]
           ],
           "sight",
           4509
          ],
          [
           -9.87884937872156,
           -0.5119347884807628,
           [
            [
             "face",
             "NOUN"
            ]
           ],
           "sight",
           2909
          ],
          [
           6.699183551580693,
           -2.6034999341780694,
           [
            [
             "come",
             "VERB"
            ]
           ],
           "sight",
           2147
          ],
          [
           -2.978910539962719,
           -7.329702021651792,
           [
            [
             "eyes",
             "NOUN"
            ]
           ],
           "sight",
           2141
          ],
          [
           6.471551395481319,
           -0.3682745747759594,
           [
            [
             "let",
             "VERB"
            ]
           ],
           "sight",
           2132
          ],
          [
           -0.3884072729659826,
           7.634022966891799,
           [
            [
             "man",
             "NOUN"
            ]
           ],
           "sight",
           1883
          ],
          [
           6.06924680962232,
           5.8393380948735345,
           [
            [
             "shall",
             "VERB"
            ]
           ],
           "sight",
           1772
          ],
          [
           10.939438789532383,
           -0.898644583646291,
           [
            [
             "time",
             "NOUN"
            ]
           ],
           "sight",
           1593
          ],
          [
           -3.4191278181593043,
           -6.906812278935679,
           [
            [
             "saw",
             "VERB"
            ]
           ],
           "sight",
           1514
          ],
          [
           3.1188755100847616,
           6.825042435400569,
           [
            [
             "glad",
             "ADJ"
            ]
           ],
           "sight",
           1355
          ],
          [
           2.2577315034378946,
           -4.7765158693279375,
           [
            [
             "way",
             "NOUN"
            ]
           ],
           "sight",
           1313
          ],
          [
           -1.3507375259750936,
           7.252625970549665,
           [
            [
             "moment",
             "NOUN"
            ]
           ],
           "sight",
           1282
          ],
          [
           6.102730095100895,
           5.729775458774397,
           [
            [
             "want",
             "VERB"
            ]
           ],
           "sight",
           1274
          ],
          [
           -4.611638505212587,
           -1.2682754407638808,
           [
            [
             "looked",
             "VERB"
            ]
           ],
           "sight",
           1238
          ],
          [
           3.381075210760413,
           -0.8641080046473288,
           [
            [
             "window",
             "NOUN"
            ]
           ],
           "sight",
           1202
          ],
          [
           -4.115374972937692,
           7.500423474715155,
           [
            [
             "turned",
             "VERB"
            ]
           ],
           "sight",
           1081
          ],
          [
           -8.375327720584837,
           0.9397219648515281,
           [
            [
             "stood",
             "VERB"
            ]
           ],
           "sight",
           1055
          ],
          [
           -1.6359512108306202,
           -2.5318175056591214,
           [
            [
             "came",
             "VERB"
            ]
           ],
           "sight",
           1049
          ],
          [
           8.629781927513475,
           2.2888341497042304,
           [
            [
             "like",
             "VERB"
            ]
           ],
           "sight",
           1030
          ],
          [
           6.4649503802069885,
           -0.8655657973452652,
           [
            [
             "day",
             "NOUN"
            ]
           ],
           "sight",
           998
          ]
         ],
         "hovertemplate": "modality=%{customdata[3]}<br>principal component 1=%{x}<br>principal component 2=%{y}<br>descriptor=%{customdata[2]}<br>freq_in_modality=%{customdata[4]}<extra></extra>",
         "legendgroup": "sight",
         "marker": {
          "color": "#1f77b4",
          "size": 10,
          "symbol": "circle"
         },
         "mode": "markers",
         "name": "sight",
         "orientation": "v",
         "showlegend": true,
         "type": "scatter",
         "x": [
          -5.277939638285236,
          -9.87884937872156,
          6.699183551580693,
          -2.978910539962719,
          6.471551395481319,
          -0.3884072729659826,
          6.06924680962232,
          10.939438789532383,
          -3.4191278181593043,
          3.1188755100847616,
          2.2577315034378946,
          -1.3507375259750936,
          6.102730095100895,
          -4.611638505212587,
          3.381075210760413,
          -4.115374972937692,
          -8.375327720584837,
          -1.6359512108306202,
          8.629781927513475,
          6.4649503802069885
         ],
         "xaxis": "x",
         "y": [
          -0.4392587659580755,
          -0.5119347884807628,
          -2.6034999341780694,
          -7.329702021651792,
          -0.3682745747759594,
          7.634022966891799,
          5.8393380948735345,
          -0.898644583646291,
          -6.906812278935679,
          6.825042435400569,
          -4.7765158693279375,
          7.252625970549665,
          5.729775458774397,
          -1.2682754407638808,
          -0.8641080046473288,
          7.500423474715155,
          0.9397219648515281,
          -2.5318175056591214,
          2.2888341497042304,
          -0.8655657973452652
         ],
         "yaxis": "y"
        },
        {
         "customdata": [
          [
           -5.426083858686813,
           -0.32212419673633674,
           [
            [
             "said",
             "VERB"
            ]
           ],
           "hear",
           4969
          ],
          [
           8.526243251611318,
           -1.6597266465143474,
           [
            [
             "know",
             "VERB"
            ]
           ],
           "hear",
           1727
          ],
          [
           -9.725397006426887,
           1.1997975299325265,
           [
            [
             "voice",
             "NOUN"
            ]
           ],
           "hear",
           1566
          ],
          [
           -2.2363006268782946,
           0.3813289566216393,
           [
            [
             "heard",
             "VERB"
            ]
           ],
           "hear",
           1130
          ],
          [
           -4.7366112464088355,
           2.4674730900181783,
           [
            [
             "low",
             "ADJ"
            ]
           ],
           "hear",
           1041
          ],
          [
           -1.4791380176377904,
           7.17815345272016,
           [
            [
             "moment",
             "NOUN"
            ]
           ],
           "hear",
           1004
          ],
          [
           6.8017970010388105,
           -6.884742853157734,
           [
            [
             "tell",
             "VERB"
            ]
           ],
           "hear",
           980
          ],
          [
           -2.7583874461301483,
           -4.2390832851802935,
           [
            [
             "words",
             "NOUN"
            ]
           ],
           "hear",
           943
          ],
          [
           9.905308847402086,
           -1.2290461167275766,
           [
            [
             "time",
             "NOUN"
            ]
           ],
           "hear",
           874
          ],
          [
           -7.470916563519057,
           -3.2106255863639337,
           [
            [
             "sound",
             "NOUN"
            ]
           ],
           "hear",
           828
          ],
          [
           -1.0456876540028817,
           -5.562349281101124,
           [
            [
             "hear",
             "VERB"
            ]
           ],
           "hear",
           661
          ],
          [
           -4.528929492625911,
           0.8275647774394678,
           [
            [
             "asked",
             "VERB"
            ]
           ],
           "hear",
           627
          ],
          [
           1.4549848060356252,
           -3.5468339163555798,
           [
            [
             "word",
             "NOUN"
            ]
           ],
           "hear",
           601
          ],
          [
           6.232044754725781,
           0.37549527290061535,
           [
            [
             "let",
             "VERB"
            ]
           ],
           "hear",
           586
          ],
          [
           -1.1895088965085328,
           4.392604535011103,
           [
            [
             "man",
             "NOUN"
            ]
           ],
           "hear",
           563
          ],
          [
           5.612485081431368,
           3.4739279670040295,
           [
            [
             "shall",
             "VERB"
            ]
           ],
           "hear",
           540
          ],
          [
           6.9419733433467705,
           -1.136949457708678,
           [
            [
             "think",
             "VERB"
            ]
           ],
           "hear",
           539
          ],
          [
           -4.058847109689041,
           -4.99451700759225,
           [
            [
             "speak",
             "VERB"
            ]
           ],
           "hear",
           498
          ],
          [
           5.265452407038059,
           -1.0465424116810897,
           [
            [
             "knew",
             "VERB"
            ]
           ],
           "hear",
           495
          ],
          [
           -10.232359318915496,
           -2.074459879783395,
           [
            [
             "answered",
             "VERB"
            ]
           ],
           "hear",
           488
          ]
         ],
         "hovertemplate": "modality=%{customdata[3]}<br>principal component 1=%{x}<br>principal component 2=%{y}<br>descriptor=%{customdata[2]}<br>freq_in_modality=%{customdata[4]}<extra></extra>",
         "legendgroup": "hear",
         "marker": {
          "color": "#2ca02c",
          "size": 10,
          "symbol": "circle"
         },
         "mode": "markers",
         "name": "hear",
         "orientation": "v",
         "showlegend": true,
         "type": "scatter",
         "x": [
          -5.426083858686813,
          8.526243251611318,
          -9.725397006426887,
          -2.2363006268782946,
          -4.7366112464088355,
          -1.4791380176377904,
          6.8017970010388105,
          -2.7583874461301483,
          9.905308847402086,
          -7.470916563519057,
          -1.0456876540028817,
          -4.528929492625911,
          1.4549848060356252,
          6.232044754725781,
          -1.1895088965085328,
          5.612485081431368,
          6.9419733433467705,
          -4.058847109689041,
          5.265452407038059,
          -10.232359318915496
         ],
         "xaxis": "x",
         "y": [
          -0.32212419673633674,
          -1.6597266465143474,
          1.1997975299325265,
          0.3813289566216393,
          2.4674730900181783,
          7.17815345272016,
          -6.884742853157734,
          -4.2390832851802935,
          -1.2290461167275766,
          -3.2106255863639337,
          -5.562349281101124,
          0.8275647774394678,
          -3.5468339163555798,
          0.37549527290061535,
          4.392604535011103,
          3.4739279670040295,
          -1.136949457708678,
          -4.99451700759225,
          -1.0465424116810897,
          -2.074459879783395
         ],
         "yaxis": "y"
        },
        {
         "customdata": [
          [
           -6.268950388371688,
           -2.5169084420623817,
           [
            [
             "hand",
             "NOUN"
            ]
           ],
           "touch",
           1413
          ],
          [
           7.6679726030800754,
           -0.7641241456212354,
           [
            [
             "sure",
             "ADJ"
            ]
           ],
           "touch",
           805
          ],
          [
           3.1055794304076483,
           -4.970274047373181,
           [
            [
             "way",
             "NOUN"
            ]
           ],
           "touch",
           753
          ],
          [
           8.221735554632495,
           -0.9447511884448784,
           [
            [
             "time",
             "NOUN"
            ]
           ],
           "touch",
           597
          ],
          [
           -7.757248528045275,
           -0.45308024262832636,
           [
            [
             "said",
             "VERB"
            ]
           ],
           "touch",
           589
          ],
          [
           8.309502258218103,
           -1.4277246153447998,
           [
            [
             "know",
             "VERB"
            ]
           ],
           "touch",
           527
          ],
          [
           -6.78981832159048,
           -5.712842150501562,
           [
            [
             "hands",
             "NOUN"
            ]
           ],
           "touch",
           522
          ],
          [
           -1.3974013903581886,
           5.530638561688129,
           [
            [
             "man",
             "NOUN"
            ]
           ],
           "touch",
           439
          ],
          [
           -5.6366154314117685,
           -3.070866579448238,
           [
            [
             "lips",
             "NOUN"
            ]
           ],
           "touch",
           435
          ],
          [
           -2.1795853413921935,
           2.4650323274029073,
           [
            [
             "heart",
             "NOUN"
            ]
           ],
           "touch",
           430
          ],
          [
           -9.817212595370288,
           -1.2184619606282237,
           [
            [
             "face",
             "NOUN"
            ]
           ],
           "touch",
           303
          ],
          [
           0.6162195578837849,
           -5.355600874341819,
           [
            [
             "door",
             "NOUN"
            ]
           ],
           "touch",
           284
          ],
          [
           3.715901123810774,
           7.0127478734175845,
           [
            [
             "sorry",
             "ADJ"
            ]
           ],
           "touch",
           277
          ],
          [
           -5.781685094884311,
           -2.405912233642881,
           [
            [
             "little",
             "ADJ"
            ]
           ],
           "touch",
           274
          ],
          [
           6.7394305193878745,
           3.33512024717016,
           [
            [
             "better",
             "ADJ"
            ]
           ],
           "touch",
           273
          ],
          [
           -0.7678576716051712,
           -7.216228316121866,
           [
            [
             "head",
             "NOUN"
            ]
           ],
           "touch",
           256
          ],
          [
           -7.146283937945512,
           2.1857011941520548,
           [
            [
             "arm",
             "NOUN"
            ]
           ],
           "touch",
           255
          ],
          [
           7.5745720219778505,
           3.0017136478748236,
           [
            [
             "ought",
             "VERB"
            ]
           ],
           "touch",
           249
          ],
          [
           -4.9347920855093905,
           7.87514998390619,
           [
            [
             "point",
             "NOUN"
            ]
           ],
           "touch",
           245
          ],
          [
           -2.46607144894374,
           -6.55058498475277,
           [
            [
             "eyes",
             "NOUN"
            ]
           ],
           "touch",
           243
          ]
         ],
         "hovertemplate": "modality=%{customdata[3]}<br>principal component 1=%{x}<br>principal component 2=%{y}<br>descriptor=%{customdata[2]}<br>freq_in_modality=%{customdata[4]}<extra></extra>",
         "legendgroup": "touch",
         "marker": {
          "color": "#9467bd",
          "size": 10,
          "symbol": "circle"
         },
         "mode": "markers",
         "name": "touch",
         "orientation": "v",
         "showlegend": true,
         "type": "scatter",
         "x": [
          -6.268950388371688,
          7.6679726030800754,
          3.1055794304076483,
          8.221735554632495,
          -7.757248528045275,
          8.309502258218103,
          -6.78981832159048,
          -1.3974013903581886,
          -5.6366154314117685,
          -2.1795853413921935,
          -9.817212595370288,
          0.6162195578837849,
          3.715901123810774,
          -5.781685094884311,
          6.7394305193878745,
          -0.7678576716051712,
          -7.146283937945512,
          7.5745720219778505,
          -4.9347920855093905,
          -2.46607144894374
         ],
         "xaxis": "x",
         "y": [
          -2.5169084420623817,
          -0.7641241456212354,
          -4.970274047373181,
          -0.9447511884448784,
          -0.45308024262832636,
          -1.4277246153447998,
          -5.712842150501562,
          5.530638561688129,
          -3.070866579448238,
          2.4650323274029073,
          -1.2184619606282237,
          -5.355600874341819,
          7.0127478734175845,
          -2.405912233642881,
          3.33512024717016,
          -7.216228316121866,
          2.1857011941520548,
          3.0017136478748236,
          7.87514998390619,
          -6.55058498475277
         ],
         "yaxis": "y"
        },
        {
         "customdata": [
          [
           -6.659448116191435,
           -2.279489350839915,
           [
            [
             "said",
             "VERB"
            ]
           ],
           "taste",
           737
          ],
          [
           6.973812902575287,
           -3.170281188565885,
           [
            [
             "good",
             "ADJ"
            ]
           ],
           "taste",
           217
          ],
          [
           -6.133166449348439,
           -0.8006035103292936,
           [
            [
             "little",
             "ADJ"
            ]
           ],
           "taste",
           187
          ],
          [
           6.416308852998698,
           -2.7519377204361484,
           [
            [
             "drink",
             "VERB"
            ]
           ],
           "taste",
           151
          ],
          [
           2.533715238778056,
           -3.233724938643179,
           [
            [
             "dinner",
             "NOUN"
            ]
           ],
           "taste",
           140
          ],
          [
           6.7618454537798565,
           -2.3608886214312617,
           [
            [
             "day",
             "NOUN"
            ]
           ],
           "taste",
           123
          ],
          [
           4.513356507797587,
           -4.228652865618879,
           [
            [
             "food",
             "NOUN"
            ]
           ],
           "taste",
           117
          ],
          [
           0.6908548491850122,
           -3.4348751614384483,
           [
            [
             "bread",
             "NOUN"
            ]
           ],
           "taste",
           94
          ],
          [
           1.6185464699208618,
           1.0866483623417311,
           [
            [
             "eat",
             "VERB"
            ]
           ],
           "taste",
           93
          ],
          [
           -4.972132541295502,
           1.6530783775800886,
           [
            [
             "smile",
             "NOUN"
            ]
           ],
           "taste",
           93
          ],
          [
           0.5229148540482608,
           -0.22827190669167272,
           [
            [
             "breakfast",
             "NOUN"
            ]
           ],
           "taste",
           93
          ],
          [
           10.242545249961804,
           -0.005167219094450051,
           [
            [
             "time",
             "NOUN"
            ]
           ],
           "taste",
           90
          ],
          [
           -0.7304283573896126,
           6.872301417945419,
           [
            [
             "man",
             "NOUN"
            ]
           ],
           "taste",
           87
          ],
          [
           4.158177456646993,
           -2.3100497467596663,
           [
            [
             "drank",
             "VERB"
            ]
           ],
           "taste",
           83
          ],
          [
           -8.68641123980644,
           -1.954070736160576,
           [
            [
             "answered",
             "VERB"
            ]
           ],
           "taste",
           83
          ],
          [
           1.6955867124815436,
           -0.43684676001213607,
           [
            [
             "smiled",
             "VERB"
            ]
           ],
           "taste",
           80
          ],
          [
           -2.5585759189830863,
           2.643306153284117,
           [
            [
             "heart",
             "NOUN"
            ]
           ],
           "taste",
           76
          ],
          [
           3.731818358328342,
           0.5729491566071482,
           [
            [
             "supper",
             "NOUN"
            ]
           ],
           "taste",
           73
          ],
          [
           1.6656508278674902,
           7.933154655710813,
           [
            [
             "life",
             "NOUN"
            ]
           ],
           "taste",
           71
          ],
          [
           -4.6669083130454325,
           1.50563306631446,
           [
            [
             "added",
             "VERB"
            ]
           ],
           "taste",
           71
          ]
         ],
         "hovertemplate": "modality=%{customdata[3]}<br>principal component 1=%{x}<br>principal component 2=%{y}<br>descriptor=%{customdata[2]}<br>freq_in_modality=%{customdata[4]}<extra></extra>",
         "legendgroup": "taste",
         "marker": {
          "color": "#d62728",
          "size": 10,
          "symbol": "circle"
         },
         "mode": "markers",
         "name": "taste",
         "orientation": "v",
         "showlegend": true,
         "type": "scatter",
         "x": [
          -6.659448116191435,
          6.973812902575287,
          -6.133166449348439,
          6.416308852998698,
          2.533715238778056,
          6.7618454537798565,
          4.513356507797587,
          0.6908548491850122,
          1.6185464699208618,
          -4.972132541295502,
          0.5229148540482608,
          10.242545249961804,
          -0.7304283573896126,
          4.158177456646993,
          -8.68641123980644,
          1.6955867124815436,
          -2.5585759189830863,
          3.731818358328342,
          1.6656508278674902,
          -4.6669083130454325
         ],
         "xaxis": "x",
         "y": [
          -2.279489350839915,
          -3.170281188565885,
          -0.8006035103292936,
          -2.7519377204361484,
          -3.233724938643179,
          -2.3608886214312617,
          -4.228652865618879,
          -3.4348751614384483,
          1.0866483623417311,
          1.6530783775800886,
          -0.22827190669167272,
          -0.005167219094450051,
          6.872301417945419,
          -2.3100497467596663,
          -1.954070736160576,
          -0.43684676001213607,
          2.643306153284117,
          0.5729491566071482,
          7.933154655710813,
          1.50563306631446
         ],
         "yaxis": "y"
        },
        {
         "customdata": [
          [
           -9.582431378014943,
           -2.4758921742537066,
           [
            [
             "air",
             "NOUN"
            ]
           ],
           "smell",
           148
          ],
          [
           -2.0938747537216607,
           -0.3839808099785643,
           [
            [
             "pipe",
             "NOUN"
            ]
           ],
           "smell",
           123
          ],
          [
           5.801616088080887,
           0.23867527025551538,
           [
            [
             "freely",
             "ADV"
            ]
           ],
           "smell",
           114
          ],
          [
           -3.725507552472556,
           5.9647207534856586,
           [
            [
             "room",
             "NOUN"
            ]
           ],
           "smell",
           108
          ],
          [
           -6.184212897496426,
           -1.6749263644674366,
           [
            [
             "said",
             "VERB"
            ]
           ],
           "smell",
           98
          ],
          [
           2.0940057407628117,
           -4.014503662624959,
           [
            [
             "word",
             "NOUN"
            ]
           ],
           "smell",
           83
          ],
          [
           -2.3393434240555164,
           1.74343877789593,
           [
            [
             "cigar",
             "NOUN"
            ]
           ],
           "smell",
           79
          ],
          [
           -4.257853632201834,
           3.4193769422749196,
           [
            [
             "cigarette",
             "NOUN"
            ]
           ],
           "smell",
           71
          ],
          [
           -2.269093922509236,
           4.714999624647497,
           [
            [
             "fire",
             "NOUN"
            ]
           ],
           "smell",
           62
          ],
          [
           3.5243692291377013,
           3.6920923897421805,
           [
            [
             "hardly",
             "ADV"
            ]
           ],
           "smell",
           52
          ],
          [
           8.271692026574831,
           -2.4471639923534254,
           [
            [
             "good",
             "ADJ"
            ]
           ],
           "smell",
           50
          ],
          [
           -5.015625858770592,
           1.7922268295813937,
           [
            [
             "flowers",
             "NOUN"
            ]
           ],
           "smell",
           48
          ],
          [
           9.774848425156891,
           -0.37682367778094,
           [
            [
             "time",
             "NOUN"
            ]
           ],
           "smell",
           44
          ],
          [
           1.318580097892047,
           3.670526315024958,
           [
            [
             "smoke",
             "NOUN"
            ]
           ],
           "smell",
           44
          ],
          [
           0.20929281839285874,
           5.8732459373236505,
           [
            [
             "man",
             "NOUN"
            ]
           ],
           "smell",
           43
          ],
          [
           -0.7484869521408465,
           -5.766257739481407,
           [
            [
             "hear",
             "VERB"
            ]
           ],
           "smell",
           42
          ],
          [
           -5.442023290380774,
           -0.44009557773246677,
           [
            [
             "little",
             "ADJ"
            ]
           ],
           "smell",
           42
          ],
          [
           1.1394142300046826,
           -3.7784115879141185,
           [
            [
             "came",
             "VERB"
            ]
           ],
           "smell",
           40
          ],
          [
           -3.1952014671991846,
           7.621860832554597,
           [
            [
             "turned",
             "VERB"
            ]
           ],
           "smell",
           40
          ],
          [
           -3.360040004205211,
           -0.27878349779732103,
           [
            [
             "began",
             "VERB"
            ]
           ],
           "smell",
           39
          ]
         ],
         "hovertemplate": "modality=%{customdata[3]}<br>principal component 1=%{x}<br>principal component 2=%{y}<br>descriptor=%{customdata[2]}<br>freq_in_modality=%{customdata[4]}<extra></extra>",
         "legendgroup": "smell",
         "marker": {
          "color": "#ff7f0e",
          "size": 10,
          "symbol": "circle"
         },
         "mode": "markers",
         "name": "smell",
         "orientation": "v",
         "showlegend": true,
         "type": "scatter",
         "x": [
          -9.582431378014943,
          -2.0938747537216607,
          5.801616088080887,
          -3.725507552472556,
          -6.184212897496426,
          2.0940057407628117,
          -2.3393434240555164,
          -4.257853632201834,
          -2.269093922509236,
          3.5243692291377013,
          8.271692026574831,
          -5.015625858770592,
          9.774848425156891,
          1.318580097892047,
          0.20929281839285874,
          -0.7484869521408465,
          -5.442023290380774,
          1.1394142300046826,
          -3.1952014671991846,
          -3.360040004205211
         ],
         "xaxis": "x",
         "y": [
          -2.4758921742537066,
          -0.3839808099785643,
          0.23867527025551538,
          5.9647207534856586,
          -1.6749263644674366,
          -4.014503662624959,
          1.74343877789593,
          3.4193769422749196,
          4.714999624647497,
          3.6920923897421805,
          -2.4471639923534254,
          1.7922268295813937,
          -0.37682367778094,
          3.670526315024958,
          5.8732459373236505,
          -5.766257739481407,
          -0.44009557773246677,
          -3.7784115879141185,
          7.621860832554597,
          -0.27878349779732103
         ],
         "yaxis": "y"
        }
       ],
       "layout": {
        "legend": {
         "title": {
          "text": "modality"
         },
         "tracegroupgap": 0
        },
        "template": {
         "data": {
          "bar": [
           {
            "error_x": {
             "color": "#2a3f5f"
            },
            "error_y": {
             "color": "#2a3f5f"
            },
            "marker": {
             "line": {
              "color": "#E5ECF6",
              "width": 0.5
             }
            },
            "type": "bar"
           }
          ],
          "barpolar": [
           {
            "marker": {
             "line": {
              "color": "#E5ECF6",
              "width": 0.5
             }
            },
            "type": "barpolar"
           }
          ],
          "carpet": [
           {
            "aaxis": {
             "endlinecolor": "#2a3f5f",
             "gridcolor": "white",
             "linecolor": "white",
             "minorgridcolor": "white",
             "startlinecolor": "#2a3f5f"
            },
            "baxis": {
             "endlinecolor": "#2a3f5f",
             "gridcolor": "white",
             "linecolor": "white",
             "minorgridcolor": "white",
             "startlinecolor": "#2a3f5f"
            },
            "type": "carpet"
           }
          ],
          "choropleth": [
           {
            "colorbar": {
             "outlinewidth": 0,
             "ticks": ""
            },
            "type": "choropleth"
           }
          ],
          "contour": [
           {
            "colorbar": {
             "outlinewidth": 0,
             "ticks": ""
            },
            "colorscale": [
             [
              0,
              "#0d0887"
             ],
             [
              0.1111111111111111,
              "#46039f"
             ],
             [
              0.2222222222222222,
              "#7201a8"
             ],
             [
              0.3333333333333333,
              "#9c179e"
             ],
             [
              0.4444444444444444,
              "#bd3786"
             ],
             [
              0.5555555555555556,
              "#d8576b"
             ],
             [
              0.6666666666666666,
              "#ed7953"
             ],
             [
              0.7777777777777778,
              "#fb9f3a"
             ],
             [
              0.8888888888888888,
              "#fdca26"
             ],
             [
              1,
              "#f0f921"
             ]
            ],
            "type": "contour"
           }
          ],
          "contourcarpet": [
           {
            "colorbar": {
             "outlinewidth": 0,
             "ticks": ""
            },
            "type": "contourcarpet"
           }
          ],
          "heatmap": [
           {
            "colorbar": {
             "outlinewidth": 0,
             "ticks": ""
            },
            "colorscale": [
             [
              0,
              "#0d0887"
             ],
             [
              0.1111111111111111,
              "#46039f"
             ],
             [
              0.2222222222222222,
              "#7201a8"
             ],
             [
              0.3333333333333333,
              "#9c179e"
             ],
             [
              0.4444444444444444,
              "#bd3786"
             ],
             [
              0.5555555555555556,
              "#d8576b"
             ],
             [
              0.6666666666666666,
              "#ed7953"
             ],
             [
              0.7777777777777778,
              "#fb9f3a"
             ],
             [
              0.8888888888888888,
              "#fdca26"
             ],
             [
              1,
              "#f0f921"
             ]
            ],
            "type": "heatmap"
           }
          ],
          "heatmapgl": [
           {
            "colorbar": {
             "outlinewidth": 0,
             "ticks": ""
            },
            "colorscale": [
             [
              0,
              "#0d0887"
             ],
             [
              0.1111111111111111,
              "#46039f"
             ],
             [
              0.2222222222222222,
              "#7201a8"
             ],
             [
              0.3333333333333333,
              "#9c179e"
             ],
             [
              0.4444444444444444,
              "#bd3786"
             ],
             [
              0.5555555555555556,
              "#d8576b"
             ],
             [
              0.6666666666666666,
              "#ed7953"
             ],
             [
              0.7777777777777778,
              "#fb9f3a"
             ],
             [
              0.8888888888888888,
              "#fdca26"
             ],
             [
              1,
              "#f0f921"
             ]
            ],
            "type": "heatmapgl"
           }
          ],
          "histogram": [
           {
            "marker": {
             "colorbar": {
              "outlinewidth": 0,
              "ticks": ""
             }
            },
            "type": "histogram"
           }
          ],
          "histogram2d": [
           {
            "colorbar": {
             "outlinewidth": 0,
             "ticks": ""
            },
            "colorscale": [
             [
              0,
              "#0d0887"
             ],
             [
              0.1111111111111111,
              "#46039f"
             ],
             [
              0.2222222222222222,
              "#7201a8"
             ],
             [
              0.3333333333333333,
              "#9c179e"
             ],
             [
              0.4444444444444444,
              "#bd3786"
             ],
             [
              0.5555555555555556,
              "#d8576b"
             ],
             [
              0.6666666666666666,
              "#ed7953"
             ],
             [
              0.7777777777777778,
              "#fb9f3a"
             ],
             [
              0.8888888888888888,
              "#fdca26"
             ],
             [
              1,
              "#f0f921"
             ]
            ],
            "type": "histogram2d"
           }
          ],
          "histogram2dcontour": [
           {
            "colorbar": {
             "outlinewidth": 0,
             "ticks": ""
            },
            "colorscale": [
             [
              0,
              "#0d0887"
             ],
             [
              0.1111111111111111,
              "#46039f"
             ],
             [
              0.2222222222222222,
              "#7201a8"
             ],
             [
              0.3333333333333333,
              "#9c179e"
             ],
             [
              0.4444444444444444,
              "#bd3786"
             ],
             [
              0.5555555555555556,
              "#d8576b"
             ],
             [
              0.6666666666666666,
              "#ed7953"
             ],
             [
              0.7777777777777778,
              "#fb9f3a"
             ],
             [
              0.8888888888888888,
              "#fdca26"
             ],
             [
              1,
              "#f0f921"
             ]
            ],
            "type": "histogram2dcontour"
           }
          ],
          "mesh3d": [
           {
            "colorbar": {
             "outlinewidth": 0,
             "ticks": ""
            },
            "type": "mesh3d"
           }
          ],
          "parcoords": [
           {
            "line": {
             "colorbar": {
              "outlinewidth": 0,
              "ticks": ""
             }
            },
            "type": "parcoords"
           }
          ],
          "pie": [
           {
            "automargin": true,
            "type": "pie"
           }
          ],
          "scatter": [
           {
            "marker": {
             "colorbar": {
              "outlinewidth": 0,
              "ticks": ""
             }
            },
            "type": "scatter"
           }
          ],
          "scatter3d": [
           {
            "line": {
             "colorbar": {
              "outlinewidth": 0,
              "ticks": ""
             }
            },
            "marker": {
             "colorbar": {
              "outlinewidth": 0,
              "ticks": ""
             }
            },
            "type": "scatter3d"
           }
          ],
          "scattercarpet": [
           {
            "marker": {
             "colorbar": {
              "outlinewidth": 0,
              "ticks": ""
             }
            },
            "type": "scattercarpet"
           }
          ],
          "scattergeo": [
           {
            "marker": {
             "colorbar": {
              "outlinewidth": 0,
              "ticks": ""
             }
            },
            "type": "scattergeo"
           }
          ],
          "scattergl": [
           {
            "marker": {
             "colorbar": {
              "outlinewidth": 0,
              "ticks": ""
             }
            },
            "type": "scattergl"
           }
          ],
          "scattermapbox": [
           {
            "marker": {
             "colorbar": {
              "outlinewidth": 0,
              "ticks": ""
             }
            },
            "type": "scattermapbox"
           }
          ],
          "scatterpolar": [
           {
            "marker": {
             "colorbar": {
              "outlinewidth": 0,
              "ticks": ""
             }
            },
            "type": "scatterpolar"
           }
          ],
          "scatterpolargl": [
           {
            "marker": {
             "colorbar": {
              "outlinewidth": 0,
              "ticks": ""
             }
            },
            "type": "scatterpolargl"
           }
          ],
          "scatterternary": [
           {
            "marker": {
             "colorbar": {
              "outlinewidth": 0,
              "ticks": ""
             }
            },
            "type": "scatterternary"
           }
          ],
          "surface": [
           {
            "colorbar": {
             "outlinewidth": 0,
             "ticks": ""
            },
            "colorscale": [
             [
              0,
              "#0d0887"
             ],
             [
              0.1111111111111111,
              "#46039f"
             ],
             [
              0.2222222222222222,
              "#7201a8"
             ],
             [
              0.3333333333333333,
              "#9c179e"
             ],
             [
              0.4444444444444444,
              "#bd3786"
             ],
             [
              0.5555555555555556,
              "#d8576b"
             ],
             [
              0.6666666666666666,
              "#ed7953"
             ],
             [
              0.7777777777777778,
              "#fb9f3a"
             ],
             [
              0.8888888888888888,
              "#fdca26"
             ],
             [
              1,
              "#f0f921"
             ]
            ],
            "type": "surface"
           }
          ],
          "table": [
           {
            "cells": {
             "fill": {
              "color": "#EBF0F8"
             },
             "line": {
              "color": "white"
             }
            },
            "header": {
             "fill": {
              "color": "#C8D4E3"
             },
             "line": {
              "color": "white"
             }
            },
            "type": "table"
           }
          ]
         },
         "layout": {
          "annotationdefaults": {
           "arrowcolor": "#2a3f5f",
           "arrowhead": 0,
           "arrowwidth": 1
          },
          "autotypenumbers": "strict",
          "coloraxis": {
           "colorbar": {
            "outlinewidth": 0,
            "ticks": ""
           }
          },
          "colorscale": {
           "diverging": [
            [
             0,
             "#8e0152"
            ],
            [
             0.1,
             "#c51b7d"
            ],
            [
             0.2,
             "#de77ae"
            ],
            [
             0.3,
             "#f1b6da"
            ],
            [
             0.4,
             "#fde0ef"
            ],
            [
             0.5,
             "#f7f7f7"
            ],
            [
             0.6,
             "#e6f5d0"
            ],
            [
             0.7,
             "#b8e186"
            ],
            [
             0.8,
             "#7fbc41"
            ],
            [
             0.9,
             "#4d9221"
            ],
            [
             1,
             "#276419"
            ]
           ],
           "sequential": [
            [
             0,
             "#0d0887"
            ],
            [
             0.1111111111111111,
             "#46039f"
            ],
            [
             0.2222222222222222,
             "#7201a8"
            ],
            [
             0.3333333333333333,
             "#9c179e"
            ],
            [
             0.4444444444444444,
             "#bd3786"
            ],
            [
             0.5555555555555556,
             "#d8576b"
            ],
            [
             0.6666666666666666,
             "#ed7953"
            ],
            [
             0.7777777777777778,
             "#fb9f3a"
            ],
            [
             0.8888888888888888,
             "#fdca26"
            ],
            [
             1,
             "#f0f921"
            ]
           ],
           "sequentialminus": [
            [
             0,
             "#0d0887"
            ],
            [
             0.1111111111111111,
             "#46039f"
            ],
            [
             0.2222222222222222,
             "#7201a8"
            ],
            [
             0.3333333333333333,
             "#9c179e"
            ],
            [
             0.4444444444444444,
             "#bd3786"
            ],
            [
             0.5555555555555556,
             "#d8576b"
            ],
            [
             0.6666666666666666,
             "#ed7953"
            ],
            [
             0.7777777777777778,
             "#fb9f3a"
            ],
            [
             0.8888888888888888,
             "#fdca26"
            ],
            [
             1,
             "#f0f921"
            ]
           ]
          },
          "colorway": [
           "#636efa",
           "#EF553B",
           "#00cc96",
           "#ab63fa",
           "#FFA15A",
           "#19d3f3",
           "#FF6692",
           "#B6E880",
           "#FF97FF",
           "#FECB52"
          ],
          "font": {
           "color": "#2a3f5f"
          },
          "geo": {
           "bgcolor": "white",
           "lakecolor": "white",
           "landcolor": "#E5ECF6",
           "showlakes": true,
           "showland": true,
           "subunitcolor": "white"
          },
          "hoverlabel": {
           "align": "left"
          },
          "hovermode": "closest",
          "mapbox": {
           "style": "light"
          },
          "paper_bgcolor": "white",
          "plot_bgcolor": "#E5ECF6",
          "polar": {
           "angularaxis": {
            "gridcolor": "white",
            "linecolor": "white",
            "ticks": ""
           },
           "bgcolor": "#E5ECF6",
           "radialaxis": {
            "gridcolor": "white",
            "linecolor": "white",
            "ticks": ""
           }
          },
          "scene": {
           "xaxis": {
            "backgroundcolor": "#E5ECF6",
            "gridcolor": "white",
            "gridwidth": 2,
            "linecolor": "white",
            "showbackground": true,
            "ticks": "",
            "zerolinecolor": "white"
           },
           "yaxis": {
            "backgroundcolor": "#E5ECF6",
            "gridcolor": "white",
            "gridwidth": 2,
            "linecolor": "white",
            "showbackground": true,
            "ticks": "",
            "zerolinecolor": "white"
           },
           "zaxis": {
            "backgroundcolor": "#E5ECF6",
            "gridcolor": "white",
            "gridwidth": 2,
            "linecolor": "white",
            "showbackground": true,
            "ticks": "",
            "zerolinecolor": "white"
           }
          },
          "shapedefaults": {
           "line": {
            "color": "#2a3f5f"
           }
          },
          "ternary": {
           "aaxis": {
            "gridcolor": "white",
            "linecolor": "white",
            "ticks": ""
           },
           "baxis": {
            "gridcolor": "white",
            "linecolor": "white",
            "ticks": ""
           },
           "bgcolor": "#E5ECF6",
           "caxis": {
            "gridcolor": "white",
            "linecolor": "white",
            "ticks": ""
           }
          },
          "title": {
           "x": 0.05
          },
          "xaxis": {
           "automargin": true,
           "gridcolor": "white",
           "linecolor": "white",
           "ticks": "",
           "title": {
            "standoff": 15
           },
           "zerolinecolor": "white",
           "zerolinewidth": 2
          },
          "yaxis": {
           "automargin": true,
           "gridcolor": "white",
           "linecolor": "white",
           "ticks": "",
           "title": {
            "standoff": 15
           },
           "zerolinecolor": "white",
           "zerolinewidth": 2
          }
         }
        },
        "title": {
         "text": "Phrase2Vec PCA - Top 100 Descriptors By Freq"
        },
        "xaxis": {
         "anchor": "y",
         "domain": [
          0,
          1
         ],
         "title": {
          "text": "principal component 1"
         }
        },
        "yaxis": {
         "anchor": "x",
         "domain": [
          0,
          1
         ],
         "title": {
          "text": "principal component 2"
         }
        }
       }
      },
      "text/html": [
       "<div>                            <div id=\"e824300e-d342-43a0-8965-f4afc4169c22\" class=\"plotly-graph-div\" style=\"height:525px; width:100%;\"></div>            <script type=\"text/javascript\">                require([\"plotly\"], function(Plotly) {                    window.PLOTLYENV=window.PLOTLYENV || {};                                    if (document.getElementById(\"e824300e-d342-43a0-8965-f4afc4169c22\")) {                    Plotly.newPlot(                        \"e824300e-d342-43a0-8965-f4afc4169c22\",                        [{\"customdata\": [[-5.277939638285236, -0.4392587659580755, [[\"said\", \"VERB\"]], \"sight\", 4509], [-9.87884937872156, -0.5119347884807628, [[\"face\", \"NOUN\"]], \"sight\", 2909], [6.699183551580693, -2.6034999341780694, [[\"come\", \"VERB\"]], \"sight\", 2147], [-2.978910539962719, -7.329702021651792, [[\"eyes\", \"NOUN\"]], \"sight\", 2141], [6.471551395481319, -0.3682745747759594, [[\"let\", \"VERB\"]], \"sight\", 2132], [-0.3884072729659826, 7.634022966891799, [[\"man\", \"NOUN\"]], \"sight\", 1883], [6.06924680962232, 5.8393380948735345, [[\"shall\", \"VERB\"]], \"sight\", 1772], [10.939438789532383, -0.898644583646291, [[\"time\", \"NOUN\"]], \"sight\", 1593], [-3.4191278181593043, -6.906812278935679, [[\"saw\", \"VERB\"]], \"sight\", 1514], [3.1188755100847616, 6.825042435400569, [[\"glad\", \"ADJ\"]], \"sight\", 1355], [2.2577315034378946, -4.7765158693279375, [[\"way\", \"NOUN\"]], \"sight\", 1313], [-1.3507375259750936, 7.252625970549665, [[\"moment\", \"NOUN\"]], \"sight\", 1282], [6.102730095100895, 5.729775458774397, [[\"want\", \"VERB\"]], \"sight\", 1274], [-4.611638505212587, -1.2682754407638808, [[\"looked\", \"VERB\"]], \"sight\", 1238], [3.381075210760413, -0.8641080046473288, [[\"window\", \"NOUN\"]], \"sight\", 1202], [-4.115374972937692, 7.500423474715155, [[\"turned\", \"VERB\"]], \"sight\", 1081], [-8.375327720584837, 0.9397219648515281, [[\"stood\", \"VERB\"]], \"sight\", 1055], [-1.6359512108306202, -2.5318175056591214, [[\"came\", \"VERB\"]], \"sight\", 1049], [8.629781927513475, 2.2888341497042304, [[\"like\", \"VERB\"]], \"sight\", 1030], [6.4649503802069885, -0.8655657973452652, [[\"day\", \"NOUN\"]], \"sight\", 998]], \"hovertemplate\": \"modality=%{customdata[3]}<br>principal component 1=%{x}<br>principal component 2=%{y}<br>descriptor=%{customdata[2]}<br>freq_in_modality=%{customdata[4]}<extra></extra>\", \"legendgroup\": \"sight\", \"marker\": {\"color\": \"#1f77b4\", \"size\": 10, \"symbol\": \"circle\"}, \"mode\": \"markers\", \"name\": \"sight\", \"orientation\": \"v\", \"showlegend\": true, \"type\": \"scatter\", \"x\": [-5.277939638285236, -9.87884937872156, 6.699183551580693, -2.978910539962719, 6.471551395481319, -0.3884072729659826, 6.06924680962232, 10.939438789532383, -3.4191278181593043, 3.1188755100847616, 2.2577315034378946, -1.3507375259750936, 6.102730095100895, -4.611638505212587, 3.381075210760413, -4.115374972937692, -8.375327720584837, -1.6359512108306202, 8.629781927513475, 6.4649503802069885], \"xaxis\": \"x\", \"y\": [-0.4392587659580755, -0.5119347884807628, -2.6034999341780694, -7.329702021651792, -0.3682745747759594, 7.634022966891799, 5.8393380948735345, -0.898644583646291, -6.906812278935679, 6.825042435400569, -4.7765158693279375, 7.252625970549665, 5.729775458774397, -1.2682754407638808, -0.8641080046473288, 7.500423474715155, 0.9397219648515281, -2.5318175056591214, 2.2888341497042304, -0.8655657973452652], \"yaxis\": \"y\"}, {\"customdata\": [[-5.426083858686813, -0.32212419673633674, [[\"said\", \"VERB\"]], \"hear\", 4969], [8.526243251611318, -1.6597266465143474, [[\"know\", \"VERB\"]], \"hear\", 1727], [-9.725397006426887, 1.1997975299325265, [[\"voice\", \"NOUN\"]], \"hear\", 1566], [-2.2363006268782946, 0.3813289566216393, [[\"heard\", \"VERB\"]], \"hear\", 1130], [-4.7366112464088355, 2.4674730900181783, [[\"low\", \"ADJ\"]], \"hear\", 1041], [-1.4791380176377904, 7.17815345272016, [[\"moment\", \"NOUN\"]], \"hear\", 1004], [6.8017970010388105, -6.884742853157734, [[\"tell\", \"VERB\"]], \"hear\", 980], [-2.7583874461301483, -4.2390832851802935, [[\"words\", \"NOUN\"]], \"hear\", 943], [9.905308847402086, -1.2290461167275766, [[\"time\", \"NOUN\"]], \"hear\", 874], [-7.470916563519057, -3.2106255863639337, [[\"sound\", \"NOUN\"]], \"hear\", 828], [-1.0456876540028817, -5.562349281101124, [[\"hear\", \"VERB\"]], \"hear\", 661], [-4.528929492625911, 0.8275647774394678, [[\"asked\", \"VERB\"]], \"hear\", 627], [1.4549848060356252, -3.5468339163555798, [[\"word\", \"NOUN\"]], \"hear\", 601], [6.232044754725781, 0.37549527290061535, [[\"let\", \"VERB\"]], \"hear\", 586], [-1.1895088965085328, 4.392604535011103, [[\"man\", \"NOUN\"]], \"hear\", 563], [5.612485081431368, 3.4739279670040295, [[\"shall\", \"VERB\"]], \"hear\", 540], [6.9419733433467705, -1.136949457708678, [[\"think\", \"VERB\"]], \"hear\", 539], [-4.058847109689041, -4.99451700759225, [[\"speak\", \"VERB\"]], \"hear\", 498], [5.265452407038059, -1.0465424116810897, [[\"knew\", \"VERB\"]], \"hear\", 495], [-10.232359318915496, -2.074459879783395, [[\"answered\", \"VERB\"]], \"hear\", 488]], \"hovertemplate\": \"modality=%{customdata[3]}<br>principal component 1=%{x}<br>principal component 2=%{y}<br>descriptor=%{customdata[2]}<br>freq_in_modality=%{customdata[4]}<extra></extra>\", \"legendgroup\": \"hear\", \"marker\": {\"color\": \"#2ca02c\", \"size\": 10, \"symbol\": \"circle\"}, \"mode\": \"markers\", \"name\": \"hear\", \"orientation\": \"v\", \"showlegend\": true, \"type\": \"scatter\", \"x\": [-5.426083858686813, 8.526243251611318, -9.725397006426887, -2.2363006268782946, -4.7366112464088355, -1.4791380176377904, 6.8017970010388105, -2.7583874461301483, 9.905308847402086, -7.470916563519057, -1.0456876540028817, -4.528929492625911, 1.4549848060356252, 6.232044754725781, -1.1895088965085328, 5.612485081431368, 6.9419733433467705, -4.058847109689041, 5.265452407038059, -10.232359318915496], \"xaxis\": \"x\", \"y\": [-0.32212419673633674, -1.6597266465143474, 1.1997975299325265, 0.3813289566216393, 2.4674730900181783, 7.17815345272016, -6.884742853157734, -4.2390832851802935, -1.2290461167275766, -3.2106255863639337, -5.562349281101124, 0.8275647774394678, -3.5468339163555798, 0.37549527290061535, 4.392604535011103, 3.4739279670040295, -1.136949457708678, -4.99451700759225, -1.0465424116810897, -2.074459879783395], \"yaxis\": \"y\"}, {\"customdata\": [[-6.268950388371688, -2.5169084420623817, [[\"hand\", \"NOUN\"]], \"touch\", 1413], [7.6679726030800754, -0.7641241456212354, [[\"sure\", \"ADJ\"]], \"touch\", 805], [3.1055794304076483, -4.970274047373181, [[\"way\", \"NOUN\"]], \"touch\", 753], [8.221735554632495, -0.9447511884448784, [[\"time\", \"NOUN\"]], \"touch\", 597], [-7.757248528045275, -0.45308024262832636, [[\"said\", \"VERB\"]], \"touch\", 589], [8.309502258218103, -1.4277246153447998, [[\"know\", \"VERB\"]], \"touch\", 527], [-6.78981832159048, -5.712842150501562, [[\"hands\", \"NOUN\"]], \"touch\", 522], [-1.3974013903581886, 5.530638561688129, [[\"man\", \"NOUN\"]], \"touch\", 439], [-5.6366154314117685, -3.070866579448238, [[\"lips\", \"NOUN\"]], \"touch\", 435], [-2.1795853413921935, 2.4650323274029073, [[\"heart\", \"NOUN\"]], \"touch\", 430], [-9.817212595370288, -1.2184619606282237, [[\"face\", \"NOUN\"]], \"touch\", 303], [0.6162195578837849, -5.355600874341819, [[\"door\", \"NOUN\"]], \"touch\", 284], [3.715901123810774, 7.0127478734175845, [[\"sorry\", \"ADJ\"]], \"touch\", 277], [-5.781685094884311, -2.405912233642881, [[\"little\", \"ADJ\"]], \"touch\", 274], [6.7394305193878745, 3.33512024717016, [[\"better\", \"ADJ\"]], \"touch\", 273], [-0.7678576716051712, -7.216228316121866, [[\"head\", \"NOUN\"]], \"touch\", 256], [-7.146283937945512, 2.1857011941520548, [[\"arm\", \"NOUN\"]], \"touch\", 255], [7.5745720219778505, 3.0017136478748236, [[\"ought\", \"VERB\"]], \"touch\", 249], [-4.9347920855093905, 7.87514998390619, [[\"point\", \"NOUN\"]], \"touch\", 245], [-2.46607144894374, -6.55058498475277, [[\"eyes\", \"NOUN\"]], \"touch\", 243]], \"hovertemplate\": \"modality=%{customdata[3]}<br>principal component 1=%{x}<br>principal component 2=%{y}<br>descriptor=%{customdata[2]}<br>freq_in_modality=%{customdata[4]}<extra></extra>\", \"legendgroup\": \"touch\", \"marker\": {\"color\": \"#9467bd\", \"size\": 10, \"symbol\": \"circle\"}, \"mode\": \"markers\", \"name\": \"touch\", \"orientation\": \"v\", \"showlegend\": true, \"type\": \"scatter\", \"x\": [-6.268950388371688, 7.6679726030800754, 3.1055794304076483, 8.221735554632495, -7.757248528045275, 8.309502258218103, -6.78981832159048, -1.3974013903581886, -5.6366154314117685, -2.1795853413921935, -9.817212595370288, 0.6162195578837849, 3.715901123810774, -5.781685094884311, 6.7394305193878745, -0.7678576716051712, -7.146283937945512, 7.5745720219778505, -4.9347920855093905, -2.46607144894374], \"xaxis\": \"x\", \"y\": [-2.5169084420623817, -0.7641241456212354, -4.970274047373181, -0.9447511884448784, -0.45308024262832636, -1.4277246153447998, -5.712842150501562, 5.530638561688129, -3.070866579448238, 2.4650323274029073, -1.2184619606282237, -5.355600874341819, 7.0127478734175845, -2.405912233642881, 3.33512024717016, -7.216228316121866, 2.1857011941520548, 3.0017136478748236, 7.87514998390619, -6.55058498475277], \"yaxis\": \"y\"}, {\"customdata\": [[-6.659448116191435, -2.279489350839915, [[\"said\", \"VERB\"]], \"taste\", 737], [6.973812902575287, -3.170281188565885, [[\"good\", \"ADJ\"]], \"taste\", 217], [-6.133166449348439, -0.8006035103292936, [[\"little\", \"ADJ\"]], \"taste\", 187], [6.416308852998698, -2.7519377204361484, [[\"drink\", \"VERB\"]], \"taste\", 151], [2.533715238778056, -3.233724938643179, [[\"dinner\", \"NOUN\"]], \"taste\", 140], [6.7618454537798565, -2.3608886214312617, [[\"day\", \"NOUN\"]], \"taste\", 123], [4.513356507797587, -4.228652865618879, [[\"food\", \"NOUN\"]], \"taste\", 117], [0.6908548491850122, -3.4348751614384483, [[\"bread\", \"NOUN\"]], \"taste\", 94], [1.6185464699208618, 1.0866483623417311, [[\"eat\", \"VERB\"]], \"taste\", 93], [-4.972132541295502, 1.6530783775800886, [[\"smile\", \"NOUN\"]], \"taste\", 93], [0.5229148540482608, -0.22827190669167272, [[\"breakfast\", \"NOUN\"]], \"taste\", 93], [10.242545249961804, -0.005167219094450051, [[\"time\", \"NOUN\"]], \"taste\", 90], [-0.7304283573896126, 6.872301417945419, [[\"man\", \"NOUN\"]], \"taste\", 87], [4.158177456646993, -2.3100497467596663, [[\"drank\", \"VERB\"]], \"taste\", 83], [-8.68641123980644, -1.954070736160576, [[\"answered\", \"VERB\"]], \"taste\", 83], [1.6955867124815436, -0.43684676001213607, [[\"smiled\", \"VERB\"]], \"taste\", 80], [-2.5585759189830863, 2.643306153284117, [[\"heart\", \"NOUN\"]], \"taste\", 76], [3.731818358328342, 0.5729491566071482, [[\"supper\", \"NOUN\"]], \"taste\", 73], [1.6656508278674902, 7.933154655710813, [[\"life\", \"NOUN\"]], \"taste\", 71], [-4.6669083130454325, 1.50563306631446, [[\"added\", \"VERB\"]], \"taste\", 71]], \"hovertemplate\": \"modality=%{customdata[3]}<br>principal component 1=%{x}<br>principal component 2=%{y}<br>descriptor=%{customdata[2]}<br>freq_in_modality=%{customdata[4]}<extra></extra>\", \"legendgroup\": \"taste\", \"marker\": {\"color\": \"#d62728\", \"size\": 10, \"symbol\": \"circle\"}, \"mode\": \"markers\", \"name\": \"taste\", \"orientation\": \"v\", \"showlegend\": true, \"type\": \"scatter\", \"x\": [-6.659448116191435, 6.973812902575287, -6.133166449348439, 6.416308852998698, 2.533715238778056, 6.7618454537798565, 4.513356507797587, 0.6908548491850122, 1.6185464699208618, -4.972132541295502, 0.5229148540482608, 10.242545249961804, -0.7304283573896126, 4.158177456646993, -8.68641123980644, 1.6955867124815436, -2.5585759189830863, 3.731818358328342, 1.6656508278674902, -4.6669083130454325], \"xaxis\": \"x\", \"y\": [-2.279489350839915, -3.170281188565885, -0.8006035103292936, -2.7519377204361484, -3.233724938643179, -2.3608886214312617, -4.228652865618879, -3.4348751614384483, 1.0866483623417311, 1.6530783775800886, -0.22827190669167272, -0.005167219094450051, 6.872301417945419, -2.3100497467596663, -1.954070736160576, -0.43684676001213607, 2.643306153284117, 0.5729491566071482, 7.933154655710813, 1.50563306631446], \"yaxis\": \"y\"}, {\"customdata\": [[-9.582431378014943, -2.4758921742537066, [[\"air\", \"NOUN\"]], \"smell\", 148], [-2.0938747537216607, -0.3839808099785643, [[\"pipe\", \"NOUN\"]], \"smell\", 123], [5.801616088080887, 0.23867527025551538, [[\"freely\", \"ADV\"]], \"smell\", 114], [-3.725507552472556, 5.9647207534856586, [[\"room\", \"NOUN\"]], \"smell\", 108], [-6.184212897496426, -1.6749263644674366, [[\"said\", \"VERB\"]], \"smell\", 98], [2.0940057407628117, -4.014503662624959, [[\"word\", \"NOUN\"]], \"smell\", 83], [-2.3393434240555164, 1.74343877789593, [[\"cigar\", \"NOUN\"]], \"smell\", 79], [-4.257853632201834, 3.4193769422749196, [[\"cigarette\", \"NOUN\"]], \"smell\", 71], [-2.269093922509236, 4.714999624647497, [[\"fire\", \"NOUN\"]], \"smell\", 62], [3.5243692291377013, 3.6920923897421805, [[\"hardly\", \"ADV\"]], \"smell\", 52], [8.271692026574831, -2.4471639923534254, [[\"good\", \"ADJ\"]], \"smell\", 50], [-5.015625858770592, 1.7922268295813937, [[\"flowers\", \"NOUN\"]], \"smell\", 48], [9.774848425156891, -0.37682367778094, [[\"time\", \"NOUN\"]], \"smell\", 44], [1.318580097892047, 3.670526315024958, [[\"smoke\", \"NOUN\"]], \"smell\", 44], [0.20929281839285874, 5.8732459373236505, [[\"man\", \"NOUN\"]], \"smell\", 43], [-0.7484869521408465, -5.766257739481407, [[\"hear\", \"VERB\"]], \"smell\", 42], [-5.442023290380774, -0.44009557773246677, [[\"little\", \"ADJ\"]], \"smell\", 42], [1.1394142300046826, -3.7784115879141185, [[\"came\", \"VERB\"]], \"smell\", 40], [-3.1952014671991846, 7.621860832554597, [[\"turned\", \"VERB\"]], \"smell\", 40], [-3.360040004205211, -0.27878349779732103, [[\"began\", \"VERB\"]], \"smell\", 39]], \"hovertemplate\": \"modality=%{customdata[3]}<br>principal component 1=%{x}<br>principal component 2=%{y}<br>descriptor=%{customdata[2]}<br>freq_in_modality=%{customdata[4]}<extra></extra>\", \"legendgroup\": \"smell\", \"marker\": {\"color\": \"#ff7f0e\", \"size\": 10, \"symbol\": \"circle\"}, \"mode\": \"markers\", \"name\": \"smell\", \"orientation\": \"v\", \"showlegend\": true, \"type\": \"scatter\", \"x\": [-9.582431378014943, -2.0938747537216607, 5.801616088080887, -3.725507552472556, -6.184212897496426, 2.0940057407628117, -2.3393434240555164, -4.257853632201834, -2.269093922509236, 3.5243692291377013, 8.271692026574831, -5.015625858770592, 9.774848425156891, 1.318580097892047, 0.20929281839285874, -0.7484869521408465, -5.442023290380774, 1.1394142300046826, -3.1952014671991846, -3.360040004205211], \"xaxis\": \"x\", \"y\": [-2.4758921742537066, -0.3839808099785643, 0.23867527025551538, 5.9647207534856586, -1.6749263644674366, -4.014503662624959, 1.74343877789593, 3.4193769422749196, 4.714999624647497, 3.6920923897421805, -2.4471639923534254, 1.7922268295813937, -0.37682367778094, 3.670526315024958, 5.8732459373236505, -5.766257739481407, -0.44009557773246677, -3.7784115879141185, 7.621860832554597, -0.27878349779732103], \"yaxis\": \"y\"}],                        {\"legend\": {\"title\": {\"text\": \"modality\"}, \"tracegroupgap\": 0}, \"template\": {\"data\": {\"bar\": [{\"error_x\": {\"color\": \"#2a3f5f\"}, \"error_y\": {\"color\": \"#2a3f5f\"}, \"marker\": {\"line\": {\"color\": \"#E5ECF6\", \"width\": 0.5}}, \"type\": \"bar\"}], \"barpolar\": [{\"marker\": {\"line\": {\"color\": \"#E5ECF6\", \"width\": 0.5}}, \"type\": \"barpolar\"}], \"carpet\": [{\"aaxis\": {\"endlinecolor\": \"#2a3f5f\", \"gridcolor\": \"white\", \"linecolor\": \"white\", \"minorgridcolor\": \"white\", \"startlinecolor\": \"#2a3f5f\"}, \"baxis\": {\"endlinecolor\": \"#2a3f5f\", \"gridcolor\": \"white\", \"linecolor\": \"white\", \"minorgridcolor\": \"white\", \"startlinecolor\": \"#2a3f5f\"}, \"type\": \"carpet\"}], \"choropleth\": [{\"colorbar\": {\"outlinewidth\": 0, \"ticks\": \"\"}, \"type\": \"choropleth\"}], \"contour\": [{\"colorbar\": {\"outlinewidth\": 0, \"ticks\": \"\"}, \"colorscale\": [[0.0, \"#0d0887\"], [0.1111111111111111, \"#46039f\"], [0.2222222222222222, \"#7201a8\"], [0.3333333333333333, \"#9c179e\"], [0.4444444444444444, \"#bd3786\"], [0.5555555555555556, \"#d8576b\"], [0.6666666666666666, \"#ed7953\"], [0.7777777777777778, \"#fb9f3a\"], [0.8888888888888888, \"#fdca26\"], [1.0, \"#f0f921\"]], \"type\": \"contour\"}], \"contourcarpet\": [{\"colorbar\": {\"outlinewidth\": 0, \"ticks\": \"\"}, \"type\": \"contourcarpet\"}], \"heatmap\": [{\"colorbar\": {\"outlinewidth\": 0, \"ticks\": \"\"}, \"colorscale\": [[0.0, \"#0d0887\"], [0.1111111111111111, \"#46039f\"], [0.2222222222222222, \"#7201a8\"], [0.3333333333333333, \"#9c179e\"], [0.4444444444444444, \"#bd3786\"], [0.5555555555555556, \"#d8576b\"], [0.6666666666666666, \"#ed7953\"], [0.7777777777777778, \"#fb9f3a\"], [0.8888888888888888, \"#fdca26\"], [1.0, \"#f0f921\"]], \"type\": \"heatmap\"}], \"heatmapgl\": [{\"colorbar\": {\"outlinewidth\": 0, \"ticks\": \"\"}, \"colorscale\": [[0.0, \"#0d0887\"], [0.1111111111111111, \"#46039f\"], [0.2222222222222222, \"#7201a8\"], [0.3333333333333333, \"#9c179e\"], [0.4444444444444444, \"#bd3786\"], [0.5555555555555556, \"#d8576b\"], [0.6666666666666666, \"#ed7953\"], [0.7777777777777778, \"#fb9f3a\"], [0.8888888888888888, \"#fdca26\"], [1.0, \"#f0f921\"]], \"type\": \"heatmapgl\"}], \"histogram\": [{\"marker\": {\"colorbar\": {\"outlinewidth\": 0, \"ticks\": \"\"}}, \"type\": \"histogram\"}], \"histogram2d\": [{\"colorbar\": {\"outlinewidth\": 0, \"ticks\": \"\"}, \"colorscale\": [[0.0, \"#0d0887\"], [0.1111111111111111, \"#46039f\"], [0.2222222222222222, \"#7201a8\"], [0.3333333333333333, \"#9c179e\"], [0.4444444444444444, \"#bd3786\"], [0.5555555555555556, \"#d8576b\"], [0.6666666666666666, \"#ed7953\"], [0.7777777777777778, \"#fb9f3a\"], [0.8888888888888888, \"#fdca26\"], [1.0, \"#f0f921\"]], \"type\": \"histogram2d\"}], \"histogram2dcontour\": [{\"colorbar\": {\"outlinewidth\": 0, \"ticks\": \"\"}, \"colorscale\": [[0.0, \"#0d0887\"], [0.1111111111111111, \"#46039f\"], [0.2222222222222222, \"#7201a8\"], [0.3333333333333333, \"#9c179e\"], [0.4444444444444444, \"#bd3786\"], [0.5555555555555556, \"#d8576b\"], [0.6666666666666666, \"#ed7953\"], [0.7777777777777778, \"#fb9f3a\"], [0.8888888888888888, \"#fdca26\"], [1.0, \"#f0f921\"]], \"type\": \"histogram2dcontour\"}], \"mesh3d\": [{\"colorbar\": {\"outlinewidth\": 0, \"ticks\": \"\"}, \"type\": \"mesh3d\"}], \"parcoords\": [{\"line\": {\"colorbar\": {\"outlinewidth\": 0, \"ticks\": \"\"}}, \"type\": \"parcoords\"}], \"pie\": [{\"automargin\": true, \"type\": \"pie\"}], \"scatter\": [{\"marker\": {\"colorbar\": {\"outlinewidth\": 0, \"ticks\": \"\"}}, \"type\": \"scatter\"}], \"scatter3d\": [{\"line\": {\"colorbar\": {\"outlinewidth\": 0, \"ticks\": \"\"}}, \"marker\": {\"colorbar\": {\"outlinewidth\": 0, \"ticks\": \"\"}}, \"type\": \"scatter3d\"}], \"scattercarpet\": [{\"marker\": {\"colorbar\": {\"outlinewidth\": 0, \"ticks\": \"\"}}, \"type\": \"scattercarpet\"}], \"scattergeo\": [{\"marker\": {\"colorbar\": {\"outlinewidth\": 0, \"ticks\": \"\"}}, \"type\": \"scattergeo\"}], \"scattergl\": [{\"marker\": {\"colorbar\": {\"outlinewidth\": 0, \"ticks\": \"\"}}, \"type\": \"scattergl\"}], \"scattermapbox\": [{\"marker\": {\"colorbar\": {\"outlinewidth\": 0, \"ticks\": \"\"}}, \"type\": \"scattermapbox\"}], \"scatterpolar\": [{\"marker\": {\"colorbar\": {\"outlinewidth\": 0, \"ticks\": \"\"}}, \"type\": \"scatterpolar\"}], \"scatterpolargl\": [{\"marker\": {\"colorbar\": {\"outlinewidth\": 0, \"ticks\": \"\"}}, \"type\": \"scatterpolargl\"}], \"scatterternary\": [{\"marker\": {\"colorbar\": {\"outlinewidth\": 0, \"ticks\": \"\"}}, \"type\": \"scatterternary\"}], \"surface\": [{\"colorbar\": {\"outlinewidth\": 0, \"ticks\": \"\"}, \"colorscale\": [[0.0, \"#0d0887\"], [0.1111111111111111, \"#46039f\"], [0.2222222222222222, \"#7201a8\"], [0.3333333333333333, \"#9c179e\"], [0.4444444444444444, \"#bd3786\"], [0.5555555555555556, \"#d8576b\"], [0.6666666666666666, \"#ed7953\"], [0.7777777777777778, \"#fb9f3a\"], [0.8888888888888888, \"#fdca26\"], [1.0, \"#f0f921\"]], \"type\": \"surface\"}], \"table\": [{\"cells\": {\"fill\": {\"color\": \"#EBF0F8\"}, \"line\": {\"color\": \"white\"}}, \"header\": {\"fill\": {\"color\": \"#C8D4E3\"}, \"line\": {\"color\": \"white\"}}, \"type\": \"table\"}]}, \"layout\": {\"annotationdefaults\": {\"arrowcolor\": \"#2a3f5f\", \"arrowhead\": 0, \"arrowwidth\": 1}, \"autotypenumbers\": \"strict\", \"coloraxis\": {\"colorbar\": {\"outlinewidth\": 0, \"ticks\": \"\"}}, \"colorscale\": {\"diverging\": [[0, \"#8e0152\"], [0.1, \"#c51b7d\"], [0.2, \"#de77ae\"], [0.3, \"#f1b6da\"], [0.4, \"#fde0ef\"], [0.5, \"#f7f7f7\"], [0.6, \"#e6f5d0\"], [0.7, \"#b8e186\"], [0.8, \"#7fbc41\"], [0.9, \"#4d9221\"], [1, \"#276419\"]], \"sequential\": [[0.0, \"#0d0887\"], [0.1111111111111111, \"#46039f\"], [0.2222222222222222, \"#7201a8\"], [0.3333333333333333, \"#9c179e\"], [0.4444444444444444, \"#bd3786\"], [0.5555555555555556, \"#d8576b\"], [0.6666666666666666, \"#ed7953\"], [0.7777777777777778, \"#fb9f3a\"], [0.8888888888888888, \"#fdca26\"], [1.0, \"#f0f921\"]], \"sequentialminus\": [[0.0, \"#0d0887\"], [0.1111111111111111, \"#46039f\"], [0.2222222222222222, \"#7201a8\"], [0.3333333333333333, \"#9c179e\"], [0.4444444444444444, \"#bd3786\"], [0.5555555555555556, \"#d8576b\"], [0.6666666666666666, \"#ed7953\"], [0.7777777777777778, \"#fb9f3a\"], [0.8888888888888888, \"#fdca26\"], [1.0, \"#f0f921\"]]}, \"colorway\": [\"#636efa\", \"#EF553B\", \"#00cc96\", \"#ab63fa\", \"#FFA15A\", \"#19d3f3\", \"#FF6692\", \"#B6E880\", \"#FF97FF\", \"#FECB52\"], \"font\": {\"color\": \"#2a3f5f\"}, \"geo\": {\"bgcolor\": \"white\", \"lakecolor\": \"white\", \"landcolor\": \"#E5ECF6\", \"showlakes\": true, \"showland\": true, \"subunitcolor\": \"white\"}, \"hoverlabel\": {\"align\": \"left\"}, \"hovermode\": \"closest\", \"mapbox\": {\"style\": \"light\"}, \"paper_bgcolor\": \"white\", \"plot_bgcolor\": \"#E5ECF6\", \"polar\": {\"angularaxis\": {\"gridcolor\": \"white\", \"linecolor\": \"white\", \"ticks\": \"\"}, \"bgcolor\": \"#E5ECF6\", \"radialaxis\": {\"gridcolor\": \"white\", \"linecolor\": \"white\", \"ticks\": \"\"}}, \"scene\": {\"xaxis\": {\"backgroundcolor\": \"#E5ECF6\", \"gridcolor\": \"white\", \"gridwidth\": 2, \"linecolor\": \"white\", \"showbackground\": true, \"ticks\": \"\", \"zerolinecolor\": \"white\"}, \"yaxis\": {\"backgroundcolor\": \"#E5ECF6\", \"gridcolor\": \"white\", \"gridwidth\": 2, \"linecolor\": \"white\", \"showbackground\": true, \"ticks\": \"\", \"zerolinecolor\": \"white\"}, \"zaxis\": {\"backgroundcolor\": \"#E5ECF6\", \"gridcolor\": \"white\", \"gridwidth\": 2, \"linecolor\": \"white\", \"showbackground\": true, \"ticks\": \"\", \"zerolinecolor\": \"white\"}}, \"shapedefaults\": {\"line\": {\"color\": \"#2a3f5f\"}}, \"ternary\": {\"aaxis\": {\"gridcolor\": \"white\", \"linecolor\": \"white\", \"ticks\": \"\"}, \"baxis\": {\"gridcolor\": \"white\", \"linecolor\": \"white\", \"ticks\": \"\"}, \"bgcolor\": \"#E5ECF6\", \"caxis\": {\"gridcolor\": \"white\", \"linecolor\": \"white\", \"ticks\": \"\"}}, \"title\": {\"x\": 0.05}, \"xaxis\": {\"automargin\": true, \"gridcolor\": \"white\", \"linecolor\": \"white\", \"ticks\": \"\", \"title\": {\"standoff\": 15}, \"zerolinecolor\": \"white\", \"zerolinewidth\": 2}, \"yaxis\": {\"automargin\": true, \"gridcolor\": \"white\", \"linecolor\": \"white\", \"ticks\": \"\", \"title\": {\"standoff\": 15}, \"zerolinecolor\": \"white\", \"zerolinewidth\": 2}}}, \"title\": {\"text\": \"Phrase2Vec PCA - Top 100 Descriptors By Freq\"}, \"xaxis\": {\"anchor\": \"y\", \"domain\": [0.0, 1.0], \"title\": {\"text\": \"principal component 1\"}}, \"yaxis\": {\"anchor\": \"x\", \"domain\": [0.0, 1.0], \"title\": {\"text\": \"principal component 2\"}}},                        {\"responsive\": true}                    ).then(function(){\n",
       "                            \n",
       "var gd = document.getElementById('e824300e-d342-43a0-8965-f4afc4169c22');\n",
       "var x = new MutationObserver(function (mutations, observer) {{\n",
       "        var display = window.getComputedStyle(gd).display;\n",
       "        if (!display || display === 'none') {{\n",
       "            console.log([gd, 'removed!']);\n",
       "            Plotly.purge(gd);\n",
       "            observer.disconnect();\n",
       "        }}\n",
       "}});\n",
       "\n",
       "// Listen for the removal of the full notebook cells\n",
       "var notebookContainer = gd.closest('#notebook-container');\n",
       "if (notebookContainer) {{\n",
       "    x.observe(notebookContainer, {childList: true});\n",
       "}}\n",
       "\n",
       "// Listen for the clearing of the current output cell\n",
       "var outputEl = gd.closest('.output');\n",
       "if (outputEl) {{\n",
       "    x.observe(outputEl, {childList: true});\n",
       "}}\n",
       "\n",
       "                        })                };                });            </script>        </div>"
      ]
     },
     "metadata": {},
     "output_type": "display_data"
    }
   ],
   "source": [
    "fig = px.scatter(\n",
    "            finalDf,\n",
    "            color=finalDf[\"modality\"],\n",
    "            color_discrete_map={'sight': '#1f77b4', 'hear': '#2ca02c', 'taste': '#d62728', 'smell': '#ff7f0e', 'touch': '#9467bd'},\n",
    "            x=finalDf.columns[0],\n",
    "            y=finalDf.columns[1],\n",
    "            hover_data=finalDf.columns[:],\n",
    "            custom_data=finalDf.columns[:],\n",
    "            title= \"Phrase2Vec PCA - Top 100 Descriptors By Freq\")\n",
    "fig.update_traces(marker=dict(size=10,))\n",
    "fig.write_html(\"phrase2vec_top_100_freq.html\")\n",
    "fig.show()"
   ]
  },
  {
   "cell_type": "code",
   "execution_count": null,
   "id": "6e86fa4d",
   "metadata": {},
   "outputs": [],
   "source": []
  }
 ],
 "metadata": {
  "kernelspec": {
   "display_name": "word2vec",
   "language": "python",
   "name": "word2vec"
  },
  "language_info": {
   "codemirror_mode": {
    "name": "ipython",
    "version": 3
   },
   "file_extension": ".py",
   "mimetype": "text/x-python",
   "name": "python",
   "nbconvert_exporter": "python",
   "pygments_lexer": "ipython3",
   "version": "3.9.7"
  }
 },
 "nbformat": 4,
 "nbformat_minor": 5
}
